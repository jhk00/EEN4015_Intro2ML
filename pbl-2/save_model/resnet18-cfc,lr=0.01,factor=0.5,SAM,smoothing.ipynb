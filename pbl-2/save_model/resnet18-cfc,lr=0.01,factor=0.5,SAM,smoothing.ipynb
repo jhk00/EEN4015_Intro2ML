{
 "cells": [
  {
   "cell_type": "code",
   "execution_count": null,
   "id": "516f9d5f-6361-4b03-98ee-e1ba4de86b92",
   "metadata": {
    "scrolled": true
   },
   "outputs": [
    {
     "name": "stderr",
     "output_type": "stream",
     "text": [
      "\u001b[34m\u001b[1mwandb\u001b[0m: \u001b[33mWARNING\u001b[0m If you're specifying your api key in code, ensure this code is not shared publicly.\n",
      "\u001b[34m\u001b[1mwandb\u001b[0m: \u001b[33mWARNING\u001b[0m Consider setting the WANDB_API_KEY environment variable, or running `wandb login` from the command line.\n",
      "\u001b[34m\u001b[1mwandb\u001b[0m: Appending key for api.wandb.ai to your netrc file: /home/guswls/.netrc\n"
     ]
    },
    {
     "data": {
      "text/html": [
       "Tracking run with wandb version 0.19.9"
      ],
      "text/plain": [
       "<IPython.core.display.HTML object>"
      ]
     },
     "metadata": {},
     "output_type": "display_data"
    },
    {
     "data": {
      "text/html": [
       "Run data is saved locally in <code>/home/guswls/EEN4015_Intro2ML/pbl-2/wandb/run-20250422_102636-ioi0hi6w</code>"
      ],
      "text/plain": [
       "<IPython.core.display.HTML object>"
      ]
     },
     "metadata": {},
     "output_type": "display_data"
    },
    {
     "data": {
      "text/html": [
       "Syncing run <strong><a href='https://wandb.ai/sokjh1310-hanyang-university/PBL-2/runs/ioi0hi6w' target=\"_blank\">resnet18_cfc,lr=0.01,factor=0.5,smoothing=0.05,SGD_standard</a></strong> to <a href='https://wandb.ai/sokjh1310-hanyang-university/PBL-2' target=\"_blank\">Weights & Biases</a> (<a href='https://wandb.me/developer-guide' target=\"_blank\">docs</a>)<br>"
      ],
      "text/plain": [
       "<IPython.core.display.HTML object>"
      ]
     },
     "metadata": {},
     "output_type": "display_data"
    },
    {
     "data": {
      "text/html": [
       " View project at <a href='https://wandb.ai/sokjh1310-hanyang-university/PBL-2' target=\"_blank\">https://wandb.ai/sokjh1310-hanyang-university/PBL-2</a>"
      ],
      "text/plain": [
       "<IPython.core.display.HTML object>"
      ]
     },
     "metadata": {},
     "output_type": "display_data"
    },
    {
     "data": {
      "text/html": [
       " View run at <a href='https://wandb.ai/sokjh1310-hanyang-university/PBL-2/runs/ioi0hi6w' target=\"_blank\">https://wandb.ai/sokjh1310-hanyang-university/PBL-2/runs/ioi0hi6w</a>"
      ],
      "text/plain": [
       "<IPython.core.display.HTML object>"
      ]
     },
     "metadata": {},
     "output_type": "display_data"
    },
    {
     "name": "stdout",
     "output_type": "stream",
     "text": [
      "Files already downloaded and verified\n",
      "Files already downloaded and verified\n",
      "Train set size: 50000\n",
      "Test set size: 10000\n",
      "Using device: cuda\n"
     ]
    },
    {
     "name": "stderr",
     "output_type": "stream",
     "text": [
      "/usr/local/lib/python3.11/dist-packages/torch/optim/lr_scheduler.py:28: UserWarning: The verbose parameter is deprecated. Please use get_last_lr() to access the learning rate.\n",
      "  warnings.warn(\"The verbose parameter is deprecated. Please use get_last_lr() \"\n"
     ]
    },
    {
     "name": "stdout",
     "output_type": "stream",
     "text": [
      "2개의 GPU를 사용합니다.\n"
     ]
    },
    {
     "name": "stderr",
     "output_type": "stream",
     "text": [
      "  0%|                                                                                                       | 0/300 [00:00<?, ?it/s]/usr/local/lib/python3.11/dist-packages/torch/optim/lr_scheduler.py:143: UserWarning: Detected call of `lr_scheduler.step()` before `optimizer.step()`. In PyTorch 1.1.0 and later, you should call them in the opposite order: `optimizer.step()` before `lr_scheduler.step()`.  Failure to do this will result in PyTorch skipping the first value of the learning rate schedule. See more details at https://pytorch.org/docs/stable/optim.html#how-to-adjust-learning-rate\n",
      "  warnings.warn(\"Detected call of `lr_scheduler.step()` before `optimizer.step()`. \"\n"
     ]
    },
    {
     "name": "stdout",
     "output_type": "stream",
     "text": [
      "Epoch [1], Batch [50/196], Loss: 4.7455, LR: 0.000510\n",
      "Epoch [1], Batch [100/196], Loss: 4.7087, LR: 0.001020\n",
      "Epoch [1], Batch [150/196], Loss: 4.5471, LR: 0.001531\n",
      "Train set: Epoch: 1, Average loss:4.6655, LR: 0.002000 Top-1 Accuracy: 1.3340%, Top-5 Accuracy: 6.2220%, Time consumed:168.23s\n",
      "Test set: Epoch: 1, Average loss:4.1752, Top-1 Accuracy: 7.4100%, Top-5 Accuracy: 24.5900%, Time consumed:16.00s\n",
      "\n",
      "새로운 최고 top-1 정확도: 7.41%, top-5 정확도: 24.59%\n",
      "새로운 최고 top-5 정확도: 24.59%\n",
      "Accuracy improved (-inf% --> 7.41%). Saving model ...\n"
     ]
    },
    {
     "name": "stderr",
     "output_type": "stream",
     "text": [
      "  0%|▎                                                                                          | 1/300 [03:04<15:19:10, 184.45s/it]"
     ]
    },
    {
     "name": "stdout",
     "output_type": "stream",
     "text": [
      "Epoch [2], Batch [50/196], Loss: 4.2358, LR: 0.002510\n",
      "Epoch [2], Batch [100/196], Loss: 4.2906, LR: 0.003020\n",
      "Epoch [2], Batch [150/196], Loss: 3.9698, LR: 0.003531\n",
      "Train set: Epoch: 2, Average loss:4.2223, LR: 0.004000 Top-1 Accuracy: 6.3940%, Top-5 Accuracy: 22.4860%, Time consumed:177.57s\n",
      "Test set: Epoch: 2, Average loss:3.7518, Top-1 Accuracy: 14.2600%, Top-5 Accuracy: 37.7700%, Time consumed:14.90s\n",
      "\n",
      "새로운 최고 top-1 정확도: 14.26%, top-5 정확도: 37.77%\n",
      "새로운 최고 top-5 정확도: 37.77%\n",
      "Accuracy improved (7.41% --> 14.26%). Saving model ...\n"
     ]
    },
    {
     "name": "stderr",
     "output_type": "stream",
     "text": [
      "  1%|▌                                                                                          | 2/300 [06:17<15:40:10, 189.30s/it]"
     ]
    },
    {
     "name": "stdout",
     "output_type": "stream",
     "text": [
      "Epoch [3], Batch [50/196], Loss: 4.3021, LR: 0.004510\n",
      "Epoch [3], Batch [100/196], Loss: 3.7801, LR: 0.005020\n",
      "Epoch [3], Batch [150/196], Loss: 3.6105, LR: 0.005531\n",
      "Train set: Epoch: 3, Average loss:3.9843, LR: 0.006000 Top-1 Accuracy: 10.8620%, Top-5 Accuracy: 32.0120%, Time consumed:179.33s\n",
      "Test set: Epoch: 3, Average loss:3.4902, Top-1 Accuracy: 19.7700%, Top-5 Accuracy: 47.2800%, Time consumed:15.67s\n",
      "\n",
      "새로운 최고 top-1 정확도: 19.77%, top-5 정확도: 47.28%\n",
      "새로운 최고 top-5 정확도: 47.28%\n",
      "Accuracy improved (14.26% --> 19.77%). Saving model ...\n"
     ]
    },
    {
     "name": "stderr",
     "output_type": "stream",
     "text": [
      "  1%|▉                                                                                          | 3/300 [09:32<15:50:32, 192.03s/it]"
     ]
    },
    {
     "name": "stdout",
     "output_type": "stream",
     "text": [
      "Epoch [4], Batch [50/196], Loss: 3.5427, LR: 0.006510\n",
      "Epoch [4], Batch [100/196], Loss: 3.9427, LR: 0.007020\n",
      "Epoch [4], Batch [150/196], Loss: 4.1912, LR: 0.007531\n",
      "Train set: Epoch: 4, Average loss:3.7565, LR: 0.008000 Top-1 Accuracy: 15.1900%, Top-5 Accuracy: 39.5360%, Time consumed:170.37s\n",
      "Test set: Epoch: 4, Average loss:3.2436, Top-1 Accuracy: 23.6300%, Top-5 Accuracy: 53.8400%, Time consumed:16.83s\n",
      "\n",
      "새로운 최고 top-1 정확도: 23.63%, top-5 정확도: 53.84%\n",
      "새로운 최고 top-5 정확도: 53.84%\n",
      "Accuracy improved (19.77% --> 23.63%). Saving model ...\n"
     ]
    },
    {
     "name": "stderr",
     "output_type": "stream",
     "text": [
      "  1%|█▏                                                                                         | 4/300 [12:39<15:38:28, 190.23s/it]"
     ]
    },
    {
     "name": "stdout",
     "output_type": "stream",
     "text": [
      "Epoch [5], Batch [50/196], Loss: 4.1768, LR: 0.008510\n",
      "Epoch [5], Batch [100/196], Loss: 3.1882, LR: 0.009020\n",
      "Epoch [5], Batch [150/196], Loss: 4.1666, LR: 0.009531\n",
      "Train set: Epoch: 5, Average loss:3.5528, LR: 0.010000 Top-1 Accuracy: 19.3300%, Top-5 Accuracy: 46.2500%, Time consumed:170.93s\n",
      "Test set: Epoch: 5, Average loss:2.9987, Top-1 Accuracy: 28.9700%, Top-5 Accuracy: 60.7200%, Time consumed:15.18s\n",
      "\n",
      "새로운 최고 top-1 정확도: 28.97%, top-5 정확도: 60.72%\n",
      "새로운 최고 top-5 정확도: 60.72%\n",
      "Accuracy improved (23.63% --> 28.97%). Saving model ...\n"
     ]
    },
    {
     "name": "stderr",
     "output_type": "stream",
     "text": [
      "  2%|█▌                                                                                         | 5/300 [15:46<15:28:26, 188.83s/it]"
     ]
    },
    {
     "name": "stdout",
     "output_type": "stream",
     "text": [
      "Epoch [6], Batch [50/196], Loss: 2.9524, LR: 0.010000\n",
      "Epoch [6], Batch [100/196], Loss: 3.4299, LR: 0.010000\n",
      "Epoch [6], Batch [150/196], Loss: 2.7486, LR: 0.010000\n",
      "Train set: Epoch: 6, Average loss:3.3219, LR: 0.010000 Top-1 Accuracy: 24.3980%, Top-5 Accuracy: 53.4000%, Time consumed:170.43s\n",
      "Test set: Epoch: 6, Average loss:2.7797, Top-1 Accuracy: 33.9700%, Top-5 Accuracy: 65.5200%, Time consumed:15.28s\n",
      "\n",
      "새로운 최고 top-1 정확도: 33.97%, top-5 정확도: 65.52%\n",
      "새로운 최고 top-5 정확도: 65.52%\n",
      "Accuracy improved (28.97% --> 33.97%). Saving model ...\n"
     ]
    },
    {
     "name": "stderr",
     "output_type": "stream",
     "text": [
      "  2%|█▊                                                                                         | 6/300 [18:52<15:20:31, 187.86s/it]"
     ]
    },
    {
     "name": "stdout",
     "output_type": "stream",
     "text": [
      "Epoch [7], Batch [50/196], Loss: 3.5764, LR: 0.010000\n",
      "Epoch [7], Batch [100/196], Loss: 2.6582, LR: 0.010000\n",
      "Epoch [7], Batch [150/196], Loss: 2.7634, LR: 0.010000\n",
      "Train set: Epoch: 7, Average loss:3.2239, LR: 0.010000 Top-1 Accuracy: 26.9140%, Top-5 Accuracy: 56.4660%, Time consumed:167.97s\n",
      "Test set: Epoch: 7, Average loss:2.5534, Top-1 Accuracy: 38.8400%, Top-5 Accuracy: 71.4900%, Time consumed:16.14s\n",
      "\n",
      "새로운 최고 top-1 정확도: 38.84%, top-5 정확도: 71.49%\n",
      "새로운 최고 top-5 정확도: 71.49%\n",
      "Accuracy improved (33.97% --> 38.84%). Saving model ...\n"
     ]
    },
    {
     "name": "stderr",
     "output_type": "stream",
     "text": [
      "  2%|██                                                                                         | 7/300 [21:56<15:11:46, 186.71s/it]"
     ]
    },
    {
     "name": "stdout",
     "output_type": "stream",
     "text": [
      "Epoch [8], Batch [50/196], Loss: 3.8029, LR: 0.010000\n",
      "Epoch [8], Batch [100/196], Loss: 2.5400, LR: 0.010000\n",
      "Epoch [8], Batch [150/196], Loss: 2.8106, LR: 0.010000\n",
      "Train set: Epoch: 8, Average loss:3.0851, LR: 0.010000 Top-1 Accuracy: 30.7520%, Top-5 Accuracy: 61.3080%, Time consumed:171.67s\n",
      "Test set: Epoch: 8, Average loss:2.3804, Top-1 Accuracy: 43.8100%, Top-5 Accuracy: 75.0400%, Time consumed:15.17s\n",
      "\n",
      "새로운 최고 top-1 정확도: 43.81%, top-5 정확도: 75.04%\n",
      "새로운 최고 top-5 정확도: 75.04%\n",
      "Accuracy improved (38.84% --> 43.81%). Saving model ...\n"
     ]
    },
    {
     "name": "stderr",
     "output_type": "stream",
     "text": [
      "  3%|██▍                                                                                        | 8/300 [25:03<15:09:15, 186.83s/it]"
     ]
    },
    {
     "name": "stdout",
     "output_type": "stream",
     "text": [
      "Epoch [9], Batch [50/196], Loss: 2.4526, LR: 0.010000\n",
      "Epoch [9], Batch [100/196], Loss: 2.4033, LR: 0.010000\n",
      "Epoch [9], Batch [150/196], Loss: 2.8731, LR: 0.010000\n",
      "Train set: Epoch: 9, Average loss:2.8714, LR: 0.010000 Top-1 Accuracy: 35.3440%, Top-5 Accuracy: 66.6100%, Time consumed:169.41s\n",
      "Test set: Epoch: 9, Average loss:2.2596, Top-1 Accuracy: 46.5100%, Top-5 Accuracy: 77.6900%, Time consumed:16.67s\n",
      "\n",
      "새로운 최고 top-1 정확도: 46.51%, top-5 정확도: 77.69%\n",
      "새로운 최고 top-5 정확도: 77.69%\n",
      "Accuracy improved (43.81% --> 46.51%). Saving model ...\n"
     ]
    },
    {
     "name": "stderr",
     "output_type": "stream",
     "text": [
      "  3%|██▋                                                                                        | 9/300 [28:10<15:05:24, 186.68s/it]"
     ]
    },
    {
     "name": "stdout",
     "output_type": "stream",
     "text": [
      "Epoch [10], Batch [50/196], Loss: 2.4000, LR: 0.010000\n",
      "Epoch [10], Batch [100/196], Loss: 2.3582, LR: 0.010000\n",
      "Epoch [10], Batch [150/196], Loss: 2.2223, LR: 0.010000\n",
      "Train set: Epoch: 10, Average loss:2.7618, LR: 0.010000 Top-1 Accuracy: 38.2860%, Top-5 Accuracy: 69.2220%, Time consumed:169.11s\n",
      "Test set: Epoch: 10, Average loss:2.1456, Top-1 Accuracy: 49.4100%, Top-5 Accuracy: 79.4000%, Time consumed:15.49s\n",
      "\n",
      "새로운 최고 top-1 정확도: 49.41%, top-5 정확도: 79.40%\n",
      "새로운 최고 top-5 정확도: 79.40%\n",
      "Accuracy improved (46.51% --> 49.41%). Saving model ...\n"
     ]
    },
    {
     "name": "stderr",
     "output_type": "stream",
     "text": [
      "  3%|███                                                                                       | 10/300 [31:14<14:59:33, 186.12s/it]"
     ]
    },
    {
     "name": "stdout",
     "output_type": "stream",
     "text": [
      "Epoch [11], Batch [50/196], Loss: 3.6211, LR: 0.010000\n",
      "Epoch [11], Batch [100/196], Loss: 2.1754, LR: 0.010000\n",
      "Epoch [11], Batch [150/196], Loss: 2.2404, LR: 0.010000\n",
      "Train set: Epoch: 11, Average loss:2.7236, LR: 0.010000 Top-1 Accuracy: 39.5420%, Top-5 Accuracy: 69.4900%, Time consumed:169.41s\n",
      "Test set: Epoch: 11, Average loss:2.0806, Top-1 Accuracy: 51.0100%, Top-5 Accuracy: 81.0500%, Time consumed:15.38s\n",
      "\n",
      "새로운 최고 top-1 정확도: 51.01%, top-5 정확도: 81.05%\n",
      "새로운 최고 top-5 정확도: 81.05%\n",
      "Accuracy improved (49.41% --> 51.01%). Saving model ...\n"
     ]
    },
    {
     "name": "stderr",
     "output_type": "stream",
     "text": [
      "  4%|███▎                                                                                      | 11/300 [34:19<14:54:54, 185.79s/it]"
     ]
    },
    {
     "name": "stdout",
     "output_type": "stream",
     "text": [
      "Epoch [12], Batch [50/196], Loss: 2.0510, LR: 0.010000\n",
      "Epoch [12], Batch [100/196], Loss: 1.9909, LR: 0.010000\n",
      "Epoch [12], Batch [150/196], Loss: 2.1386, LR: 0.010000\n",
      "Train set: Epoch: 12, Average loss:2.5736, LR: 0.010000 Top-1 Accuracy: 43.3940%, Top-5 Accuracy: 73.5340%, Time consumed:167.59s\n",
      "Test set: Epoch: 12, Average loss:2.0555, Top-1 Accuracy: 52.1500%, Top-5 Accuracy: 81.2700%, Time consumed:15.89s\n",
      "\n",
      "새로운 최고 top-1 정확도: 52.15%, top-5 정확도: 81.27%\n",
      "새로운 최고 top-5 정확도: 81.27%\n",
      "Accuracy improved (51.01% --> 52.15%). Saving model ...\n"
     ]
    },
    {
     "name": "stderr",
     "output_type": "stream",
     "text": [
      "  4%|███▌                                                                                      | 12/300 [37:23<14:48:50, 185.18s/it]"
     ]
    },
    {
     "name": "stdout",
     "output_type": "stream",
     "text": [
      "Epoch [13], Batch [50/196], Loss: 2.0083, LR: 0.010000\n",
      "Epoch [13], Batch [100/196], Loss: 3.0503, LR: 0.010000\n",
      "Epoch [13], Batch [150/196], Loss: 2.0635, LR: 0.010000\n",
      "Train set: Epoch: 13, Average loss:2.5102, LR: 0.010000 Top-1 Accuracy: 45.0420%, Top-5 Accuracy: 74.9400%, Time consumed:169.36s\n",
      "Test set: Epoch: 13, Average loss:1.9518, Top-1 Accuracy: 54.6100%, Top-5 Accuracy: 83.9600%, Time consumed:15.12s\n",
      "\n",
      "새로운 최고 top-1 정확도: 54.61%, top-5 정확도: 83.96%\n",
      "새로운 최고 top-5 정확도: 83.96%\n",
      "Accuracy improved (52.15% --> 54.61%). Saving model ...\n"
     ]
    },
    {
     "name": "stderr",
     "output_type": "stream",
     "text": [
      "  4%|███▉                                                                                      | 13/300 [40:28<14:45:07, 185.04s/it]"
     ]
    },
    {
     "name": "stdout",
     "output_type": "stream",
     "text": [
      "Epoch [14], Batch [50/196], Loss: 2.1698, LR: 0.010000\n",
      "Epoch [14], Batch [100/196], Loss: 1.9676, LR: 0.010000\n",
      "Epoch [14], Batch [150/196], Loss: 3.3235, LR: 0.010000\n",
      "Train set: Epoch: 14, Average loss:2.5197, LR: 0.010000 Top-1 Accuracy: 45.3480%, Top-5 Accuracy: 74.7480%, Time consumed:168.52s\n",
      "Test set: Epoch: 14, Average loss:1.9110, Top-1 Accuracy: 55.9500%, Top-5 Accuracy: 84.1800%, Time consumed:15.18s\n",
      "\n",
      "새로운 최고 top-1 정확도: 55.95%, top-5 정확도: 84.18%\n",
      "새로운 최고 top-5 정확도: 84.18%\n",
      "Accuracy improved (54.61% --> 55.95%). Saving model ...\n"
     ]
    },
    {
     "name": "stderr",
     "output_type": "stream",
     "text": [
      "  5%|████▏                                                                                     | 14/300 [43:32<14:40:26, 184.71s/it]"
     ]
    },
    {
     "name": "stdout",
     "output_type": "stream",
     "text": [
      "Epoch [15], Batch [50/196], Loss: 3.5229, LR: 0.010000\n",
      "Epoch [15], Batch [100/196], Loss: 2.7570, LR: 0.010000\n",
      "Epoch [15], Batch [150/196], Loss: 1.8755, LR: 0.010000\n",
      "Train set: Epoch: 15, Average loss:2.4254, LR: 0.010000 Top-1 Accuracy: 47.7300%, Top-5 Accuracy: 76.7920%, Time consumed:167.61s\n",
      "Test set: Epoch: 15, Average loss:1.8783, Top-1 Accuracy: 56.9400%, Top-5 Accuracy: 84.9300%, Time consumed:15.08s\n",
      "\n",
      "새로운 최고 top-1 정확도: 56.94%, top-5 정확도: 84.93%\n",
      "새로운 최고 top-5 정확도: 84.93%\n",
      "Accuracy improved (55.95% --> 56.94%). Saving model ...\n"
     ]
    },
    {
     "name": "stderr",
     "output_type": "stream",
     "text": [
      "  5%|████▌                                                                                     | 15/300 [46:35<14:34:48, 184.17s/it]"
     ]
    },
    {
     "name": "stdout",
     "output_type": "stream",
     "text": [
      "Epoch [16], Batch [50/196], Loss: 1.8236, LR: 0.010000\n",
      "Epoch [16], Batch [100/196], Loss: 1.7874, LR: 0.010000\n",
      "Epoch [16], Batch [150/196], Loss: 1.7783, LR: 0.010000\n",
      "Train set: Epoch: 16, Average loss:2.3319, LR: 0.010000 Top-1 Accuracy: 49.6400%, Top-5 Accuracy: 78.3680%, Time consumed:168.39s\n",
      "Test set: Epoch: 16, Average loss:1.8148, Top-1 Accuracy: 58.5600%, Top-5 Accuracy: 86.0800%, Time consumed:15.08s\n",
      "\n",
      "새로운 최고 top-1 정확도: 58.56%, top-5 정확도: 86.08%\n",
      "새로운 최고 top-5 정확도: 86.08%\n",
      "Accuracy improved (56.94% --> 58.56%). Saving model ...\n"
     ]
    },
    {
     "name": "stderr",
     "output_type": "stream",
     "text": [
      "  5%|████▊                                                                                     | 16/300 [49:38<14:31:05, 184.03s/it]"
     ]
    },
    {
     "name": "stdout",
     "output_type": "stream",
     "text": [
      "Epoch [17], Batch [50/196], Loss: 1.7577, LR: 0.010000\n",
      "Epoch [17], Batch [100/196], Loss: 2.7183, LR: 0.010000\n",
      "Epoch [17], Batch [150/196], Loss: 1.6383, LR: 0.010000\n",
      "Train set: Epoch: 17, Average loss:2.3266, LR: 0.010000 Top-1 Accuracy: 50.4900%, Top-5 Accuracy: 78.9700%, Time consumed:167.80s\n",
      "Test set: Epoch: 17, Average loss:1.7545, Top-1 Accuracy: 60.7000%, Top-5 Accuracy: 87.0200%, Time consumed:16.46s\n",
      "\n",
      "새로운 최고 top-1 정확도: 60.70%, top-5 정확도: 87.02%\n",
      "새로운 최고 top-5 정확도: 87.02%\n",
      "Accuracy improved (58.56% --> 60.70%). Saving model ...\n"
     ]
    },
    {
     "name": "stderr",
     "output_type": "stream",
     "text": [
      "  6%|█████                                                                                     | 17/300 [52:43<14:28:41, 184.17s/it]"
     ]
    },
    {
     "name": "stdout",
     "output_type": "stream",
     "text": [
      "Epoch [18], Batch [50/196], Loss: 1.6502, LR: 0.010000\n",
      "Epoch [18], Batch [100/196], Loss: 1.7765, LR: 0.010000\n",
      "Epoch [18], Batch [150/196], Loss: 1.7920, LR: 0.010000\n",
      "Train set: Epoch: 18, Average loss:2.3394, LR: 0.010000 Top-1 Accuracy: 50.8300%, Top-5 Accuracy: 78.9540%, Time consumed:171.71s\n",
      "Test set: Epoch: 18, Average loss:1.7429, Top-1 Accuracy: 61.2400%, Top-5 Accuracy: 87.0900%, Time consumed:15.22s\n",
      "\n",
      "새로운 최고 top-1 정확도: 61.24%, top-5 정확도: 87.09%\n",
      "새로운 최고 top-5 정확도: 87.09%\n",
      "Accuracy improved (60.70% --> 61.24%). Saving model ...\n"
     ]
    },
    {
     "name": "stderr",
     "output_type": "stream",
     "text": [
      "  6%|█████▍                                                                                    | 18/300 [55:50<14:29:50, 185.07s/it]"
     ]
    },
    {
     "name": "stdout",
     "output_type": "stream",
     "text": [
      "Epoch [19], Batch [50/196], Loss: 3.0740, LR: 0.010000\n",
      "Epoch [19], Batch [100/196], Loss: 1.6936, LR: 0.010000\n",
      "Epoch [19], Batch [150/196], Loss: 1.6679, LR: 0.010000\n",
      "Train set: Epoch: 19, Average loss:2.2497, LR: 0.010000 Top-1 Accuracy: 52.9600%, Top-5 Accuracy: 80.8460%, Time consumed:168.24s\n"
     ]
    },
    {
     "name": "stderr",
     "output_type": "stream",
     "text": [
      "  6%|█████▋                                                                                    | 19/300 [58:54<14:24:44, 184.64s/it]"
     ]
    },
    {
     "name": "stdout",
     "output_type": "stream",
     "text": [
      "Test set: Epoch: 19, Average loss:1.7940, Top-1 Accuracy: 59.0400%, Top-5 Accuracy: 86.0200%, Time consumed:15.40s\n",
      "\n",
      "EarlyStopping 카운터: 1 / 30\n",
      "Epoch [20], Batch [50/196], Loss: 2.5756, LR: 0.010000\n",
      "Epoch [20], Batch [100/196], Loss: 1.4629, LR: 0.010000\n",
      "Epoch [20], Batch [150/196], Loss: 2.4451, LR: 0.010000\n",
      "Train set: Epoch: 20, Average loss:2.1345, LR: 0.010000 Top-1 Accuracy: 55.2540%, Top-5 Accuracy: 82.1200%, Time consumed:168.35s\n"
     ]
    },
    {
     "name": "stderr",
     "output_type": "stream",
     "text": [
      "  7%|█████▊                                                                                  | 20/300 [1:01:57<14:19:35, 184.20s/it]"
     ]
    },
    {
     "name": "stdout",
     "output_type": "stream",
     "text": [
      "Test set: Epoch: 20, Average loss:1.7621, Top-1 Accuracy: 60.5700%, Top-5 Accuracy: 86.7500%, Time consumed:14.81s\n",
      "\n",
      "EarlyStopping 카운터: 2 / 30\n",
      "Epoch [21], Batch [50/196], Loss: 2.5361, LR: 0.010000\n",
      "Epoch [21], Batch [100/196], Loss: 1.6157, LR: 0.010000\n",
      "Epoch [21], Batch [150/196], Loss: 2.8700, LR: 0.010000\n",
      "Train set: Epoch: 21, Average loss:2.2292, LR: 0.010000 Top-1 Accuracy: 53.9520%, Top-5 Accuracy: 81.5380%, Time consumed:168.18s\n",
      "Test set: Epoch: 21, Average loss:1.6658, Top-1 Accuracy: 63.1900%, Top-5 Accuracy: 88.8700%, Time consumed:15.12s\n",
      "\n",
      "새로운 최고 top-1 정확도: 63.19%, top-5 정확도: 88.87%\n",
      "새로운 최고 top-5 정확도: 88.87%\n",
      "Accuracy improved (61.24% --> 63.19%). Saving model ...\n"
     ]
    },
    {
     "name": "stderr",
     "output_type": "stream",
     "text": [
      "  7%|██████▏                                                                                 | 21/300 [1:05:01<14:15:36, 184.00s/it]"
     ]
    },
    {
     "name": "stdout",
     "output_type": "stream",
     "text": [
      "Epoch [22], Batch [50/196], Loss: 1.5493, LR: 0.010000\n",
      "Epoch [22], Batch [100/196], Loss: 1.6079, LR: 0.010000\n",
      "Epoch [22], Batch [150/196], Loss: 1.4952, LR: 0.010000\n",
      "Train set: Epoch: 22, Average loss:2.2115, LR: 0.010000 Top-1 Accuracy: 54.5260%, Top-5 Accuracy: 82.1520%, Time consumed:169.38s\n",
      "Test set: Epoch: 22, Average loss:1.6727, Top-1 Accuracy: 63.2800%, Top-5 Accuracy: 87.9000%, Time consumed:16.32s\n",
      "\n",
      "새로운 최고 top-1 정확도: 63.28%, top-5 정확도: 87.90%\n",
      "Accuracy improved (63.19% --> 63.28%). Saving model ...\n"
     ]
    },
    {
     "name": "stderr",
     "output_type": "stream",
     "text": [
      "  7%|██████▍                                                                                 | 22/300 [1:08:06<14:15:13, 184.58s/it]"
     ]
    },
    {
     "name": "stdout",
     "output_type": "stream",
     "text": [
      "Epoch [23], Batch [50/196], Loss: 1.5438, LR: 0.010000\n",
      "Epoch [23], Batch [100/196], Loss: 1.4976, LR: 0.010000\n",
      "Epoch [23], Batch [150/196], Loss: 1.5208, LR: 0.010000\n",
      "Train set: Epoch: 23, Average loss:2.1667, LR: 0.010000 Top-1 Accuracy: 55.7120%, Top-5 Accuracy: 82.2620%, Time consumed:168.08s\n",
      "Test set: Epoch: 23, Average loss:1.6353, Top-1 Accuracy: 63.6600%, Top-5 Accuracy: 88.8100%, Time consumed:16.32s\n",
      "\n",
      "새로운 최고 top-1 정확도: 63.66%, top-5 정확도: 88.81%\n",
      "Accuracy improved (63.28% --> 63.66%). Saving model ...\n"
     ]
    },
    {
     "name": "stderr",
     "output_type": "stream",
     "text": [
      "  8%|██████▋                                                                                 | 23/300 [1:11:11<14:12:14, 184.60s/it]"
     ]
    },
    {
     "name": "stdout",
     "output_type": "stream",
     "text": [
      "Epoch [24], Batch [50/196], Loss: 1.8704, LR: 0.010000\n",
      "Epoch [24], Batch [100/196], Loss: 1.5625, LR: 0.010000\n",
      "Epoch [24], Batch [150/196], Loss: 1.4822, LR: 0.010000\n",
      "Train set: Epoch: 24, Average loss:2.0890, LR: 0.010000 Top-1 Accuracy: 57.4020%, Top-5 Accuracy: 83.6960%, Time consumed:168.11s\n",
      "Test set: Epoch: 24, Average loss:1.5899, Top-1 Accuracy: 65.7900%, Top-5 Accuracy: 89.6100%, Time consumed:15.02s\n",
      "\n",
      "새로운 최고 top-1 정확도: 65.79%, top-5 정확도: 89.61%\n",
      "새로운 최고 top-5 정확도: 89.61%\n",
      "Accuracy improved (63.66% --> 65.79%). Saving model ...\n"
     ]
    },
    {
     "name": "stderr",
     "output_type": "stream",
     "text": [
      "  8%|███████                                                                                 | 24/300 [1:14:14<14:07:26, 184.23s/it]"
     ]
    },
    {
     "name": "stdout",
     "output_type": "stream",
     "text": [
      "Epoch [25], Batch [50/196], Loss: 1.3876, LR: 0.010000\n",
      "Epoch [25], Batch [100/196], Loss: 1.4543, LR: 0.010000\n",
      "Epoch [25], Batch [150/196], Loss: 3.1517, LR: 0.010000\n",
      "Train set: Epoch: 25, Average loss:2.0480, LR: 0.010000 Top-1 Accuracy: 57.6040%, Top-5 Accuracy: 83.4360%, Time consumed:167.71s\n",
      "Test set: Epoch: 25, Average loss:1.5721, Top-1 Accuracy: 65.8900%, Top-5 Accuracy: 89.7100%, Time consumed:14.85s\n",
      "\n",
      "새로운 최고 top-1 정확도: 65.89%, top-5 정확도: 89.71%\n",
      "새로운 최고 top-5 정확도: 89.71%\n",
      "Accuracy improved (65.79% --> 65.89%). Saving model ...\n"
     ]
    },
    {
     "name": "stderr",
     "output_type": "stream",
     "text": [
      "  8%|███████▎                                                                                | 25/300 [1:17:17<14:02:25, 183.80s/it]"
     ]
    },
    {
     "name": "stdout",
     "output_type": "stream",
     "text": [
      "Epoch [26], Batch [50/196], Loss: 1.4050, LR: 0.010000\n",
      "Epoch [26], Batch [100/196], Loss: 2.3275, LR: 0.010000\n",
      "Epoch [26], Batch [150/196], Loss: 1.7451, LR: 0.010000\n",
      "Train set: Epoch: 26, Average loss:1.9951, LR: 0.010000 Top-1 Accuracy: 60.5820%, Top-5 Accuracy: 85.8180%, Time consumed:168.57s\n"
     ]
    },
    {
     "name": "stderr",
     "output_type": "stream",
     "text": [
      "  9%|███████▋                                                                                | 26/300 [1:20:22<14:01:07, 184.19s/it]"
     ]
    },
    {
     "name": "stdout",
     "output_type": "stream",
     "text": [
      "Test set: Epoch: 26, Average loss:1.6415, Top-1 Accuracy: 64.5600%, Top-5 Accuracy: 88.4400%, Time consumed:16.51s\n",
      "\n",
      "EarlyStopping 카운터: 1 / 30\n",
      "Epoch [27], Batch [50/196], Loss: 1.4731, LR: 0.010000\n",
      "Epoch [27], Batch [100/196], Loss: 1.4118, LR: 0.010000\n",
      "Epoch [27], Batch [150/196], Loss: 3.3116, LR: 0.010000\n",
      "Train set: Epoch: 27, Average loss:2.0165, LR: 0.010000 Top-1 Accuracy: 59.2660%, Top-5 Accuracy: 84.5920%, Time consumed:168.60s\n"
     ]
    },
    {
     "name": "stderr",
     "output_type": "stream",
     "text": [
      "  9%|███████▉                                                                                | 27/300 [1:23:26<13:57:03, 183.97s/it]"
     ]
    },
    {
     "name": "stdout",
     "output_type": "stream",
     "text": [
      "Test set: Epoch: 27, Average loss:1.5695, Top-1 Accuracy: 65.8000%, Top-5 Accuracy: 90.1700%, Time consumed:14.86s\n",
      "\n",
      "새로운 최고 top-5 정확도: 90.17%\n",
      "EarlyStopping 카운터: 2 / 30\n",
      "Epoch [28], Batch [50/196], Loss: 3.1464, LR: 0.010000\n",
      "Epoch [28], Batch [100/196], Loss: 1.3735, LR: 0.010000\n",
      "Epoch [28], Batch [150/196], Loss: 1.3764, LR: 0.010000\n",
      "Train set: Epoch: 28, Average loss:2.0295, LR: 0.010000 Top-1 Accuracy: 59.3960%, Top-5 Accuracy: 84.8860%, Time consumed:168.19s\n",
      "Test set: Epoch: 28, Average loss:1.5508, Top-1 Accuracy: 66.1600%, Top-5 Accuracy: 89.9900%, Time consumed:15.10s\n",
      "\n",
      "새로운 최고 top-1 정확도: 66.16%, top-5 정확도: 89.99%\n",
      "Accuracy improved (65.89% --> 66.16%). Saving model ...\n"
     ]
    },
    {
     "name": "stderr",
     "output_type": "stream",
     "text": [
      "  9%|████████▏                                                                               | 28/300 [1:26:29<13:53:24, 183.84s/it]"
     ]
    },
    {
     "name": "stdout",
     "output_type": "stream",
     "text": [
      "Epoch [29], Batch [50/196], Loss: 1.3453, LR: 0.010000\n",
      "Epoch [29], Batch [100/196], Loss: 1.1097, LR: 0.010000\n",
      "Epoch [29], Batch [150/196], Loss: 1.3456, LR: 0.010000\n",
      "Train set: Epoch: 29, Average loss:1.9322, LR: 0.010000 Top-1 Accuracy: 61.0980%, Top-5 Accuracy: 85.7840%, Time consumed:168.09s\n",
      "Test set: Epoch: 29, Average loss:1.5510, Top-1 Accuracy: 66.7700%, Top-5 Accuracy: 89.7500%, Time consumed:16.17s\n",
      "\n",
      "새로운 최고 top-1 정확도: 66.77%, top-5 정확도: 89.75%\n",
      "Accuracy improved (66.16% --> 66.77%). Saving model ...\n"
     ]
    },
    {
     "name": "stderr",
     "output_type": "stream",
     "text": [
      " 10%|████████▌                                                                               | 29/300 [1:29:34<13:51:14, 184.04s/it]"
     ]
    },
    {
     "name": "stdout",
     "output_type": "stream",
     "text": [
      "Epoch [30], Batch [50/196], Loss: 2.8618, LR: 0.010000\n",
      "Epoch [30], Batch [100/196], Loss: 3.1307, LR: 0.010000\n",
      "Epoch [30], Batch [150/196], Loss: 1.2943, LR: 0.010000\n",
      "Train set: Epoch: 30, Average loss:1.9335, LR: 0.010000 Top-1 Accuracy: 61.5720%, Top-5 Accuracy: 86.0880%, Time consumed:168.12s\n"
     ]
    },
    {
     "name": "stderr",
     "output_type": "stream",
     "text": [
      " 10%|████████▊                                                                               | 30/300 [1:32:37<13:47:03, 183.79s/it]"
     ]
    },
    {
     "name": "stdout",
     "output_type": "stream",
     "text": [
      "Test set: Epoch: 30, Average loss:1.5786, Top-1 Accuracy: 65.7800%, Top-5 Accuracy: 89.5600%, Time consumed:15.08s\n",
      "\n",
      "EarlyStopping 카운터: 1 / 30\n",
      "Epoch [31], Batch [50/196], Loss: 1.2952, LR: 0.010000\n",
      "Epoch [31], Batch [100/196], Loss: 2.8438, LR: 0.010000\n",
      "Epoch [31], Batch [150/196], Loss: 1.4065, LR: 0.010000\n",
      "Train set: Epoch: 31, Average loss:1.9393, LR: 0.010000 Top-1 Accuracy: 62.4220%, Top-5 Accuracy: 86.8920%, Time consumed:168.61s\n",
      "Test set: Epoch: 31, Average loss:1.5320, Top-1 Accuracy: 67.2400%, Top-5 Accuracy: 90.4600%, Time consumed:14.99s\n",
      "\n",
      "새로운 최고 top-1 정확도: 67.24%, top-5 정확도: 90.46%\n",
      "새로운 최고 top-5 정확도: 90.46%\n",
      "Accuracy improved (66.77% --> 67.24%). Saving model ...\n"
     ]
    },
    {
     "name": "stderr",
     "output_type": "stream",
     "text": [
      " 10%|█████████                                                                               | 31/300 [1:35:41<13:44:03, 183.80s/it]"
     ]
    },
    {
     "name": "stdout",
     "output_type": "stream",
     "text": [
      "Epoch [32], Batch [50/196], Loss: 1.2008, LR: 0.010000\n",
      "Epoch [32], Batch [100/196], Loss: 2.1747, LR: 0.010000\n",
      "Epoch [32], Batch [150/196], Loss: 2.5439, LR: 0.010000\n",
      "Train set: Epoch: 32, Average loss:1.9008, LR: 0.010000 Top-1 Accuracy: 62.6220%, Top-5 Accuracy: 86.6200%, Time consumed:166.98s\n",
      "Test set: Epoch: 32, Average loss:1.5003, Top-1 Accuracy: 68.1200%, Top-5 Accuracy: 90.6800%, Time consumed:15.10s\n",
      "\n",
      "새로운 최고 top-1 정확도: 68.12%, top-5 정확도: 90.68%\n",
      "새로운 최고 top-5 정확도: 90.68%\n",
      "Accuracy improved (67.24% --> 68.12%). Saving model ...\n"
     ]
    },
    {
     "name": "stderr",
     "output_type": "stream",
     "text": [
      " 11%|█████████▍                                                                              | 32/300 [1:38:43<13:39:01, 183.36s/it]"
     ]
    },
    {
     "name": "stdout",
     "output_type": "stream",
     "text": [
      "Epoch [33], Batch [50/196], Loss: 1.2900, LR: 0.010000\n",
      "Epoch [33], Batch [100/196], Loss: 1.3188, LR: 0.010000\n",
      "Epoch [33], Batch [150/196], Loss: 2.9220, LR: 0.010000\n",
      "Train set: Epoch: 33, Average loss:1.9607, LR: 0.010000 Top-1 Accuracy: 61.2300%, Top-5 Accuracy: 85.3560%, Time consumed:168.04s\n"
     ]
    },
    {
     "name": "stderr",
     "output_type": "stream",
     "text": [
      " 11%|█████████▋                                                                              | 33/300 [1:41:48<13:37:35, 183.73s/it]"
     ]
    },
    {
     "name": "stdout",
     "output_type": "stream",
     "text": [
      "Test set: Epoch: 33, Average loss:1.5289, Top-1 Accuracy: 67.5400%, Top-5 Accuracy: 90.0800%, Time consumed:16.54s\n",
      "\n",
      "EarlyStopping 카운터: 1 / 30\n",
      "Epoch [34], Batch [50/196], Loss: 1.2773, LR: 0.010000\n",
      "Epoch [34], Batch [100/196], Loss: 1.2671, LR: 0.010000\n",
      "Epoch [34], Batch [150/196], Loss: 1.1207, LR: 0.010000\n",
      "Train set: Epoch: 34, Average loss:1.8835, LR: 0.010000 Top-1 Accuracy: 64.7120%, Top-5 Accuracy: 88.2080%, Time consumed:167.75s\n",
      "Test set: Epoch: 34, Average loss:1.5021, Top-1 Accuracy: 68.3200%, Top-5 Accuracy: 90.7500%, Time consumed:16.58s\n",
      "\n",
      "새로운 최고 top-1 정확도: 68.32%, top-5 정확도: 90.75%\n",
      "새로운 최고 top-5 정확도: 90.75%\n",
      "Accuracy improved (68.12% --> 68.32%). Saving model ...\n"
     ]
    },
    {
     "name": "stderr",
     "output_type": "stream",
     "text": [
      " 11%|█████████▉                                                                              | 34/300 [1:44:52<13:35:41, 183.99s/it]"
     ]
    },
    {
     "name": "stdout",
     "output_type": "stream",
     "text": [
      "Epoch [35], Batch [50/196], Loss: 1.3015, LR: 0.010000\n",
      "Epoch [35], Batch [100/196], Loss: 2.7246, LR: 0.010000\n",
      "Epoch [35], Batch [150/196], Loss: 1.1860, LR: 0.010000\n",
      "Train set: Epoch: 35, Average loss:1.8480, LR: 0.010000 Top-1 Accuracy: 64.1020%, Top-5 Accuracy: 87.5140%, Time consumed:168.65s\n"
     ]
    },
    {
     "name": "stderr",
     "output_type": "stream",
     "text": [
      " 12%|██████████▎                                                                             | 35/300 [1:47:56<13:32:11, 183.89s/it]"
     ]
    },
    {
     "name": "stdout",
     "output_type": "stream",
     "text": [
      "Test set: Epoch: 35, Average loss:1.5129, Top-1 Accuracy: 67.9300%, Top-5 Accuracy: 90.9100%, Time consumed:15.00s\n",
      "\n",
      "새로운 최고 top-5 정확도: 90.91%\n",
      "EarlyStopping 카운터: 1 / 30\n",
      "Epoch [36], Batch [50/196], Loss: 2.7316, LR: 0.010000\n",
      "Epoch [36], Batch [100/196], Loss: 2.1612, LR: 0.010000\n",
      "Epoch [36], Batch [150/196], Loss: 1.1883, LR: 0.010000\n",
      "Train set: Epoch: 36, Average loss:1.8490, LR: 0.010000 Top-1 Accuracy: 64.9980%, Top-5 Accuracy: 87.8680%, Time consumed:169.50s\n",
      "Test set: Epoch: 36, Average loss:1.4530, Top-1 Accuracy: 69.1200%, Top-5 Accuracy: 91.2300%, Time consumed:16.37s\n",
      "\n",
      "새로운 최고 top-1 정확도: 69.12%, top-5 정확도: 91.23%\n",
      "새로운 최고 top-5 정확도: 91.23%\n",
      "Accuracy improved (68.32% --> 69.12%). Saving model ...\n"
     ]
    },
    {
     "name": "stderr",
     "output_type": "stream",
     "text": [
      " 12%|██████████▌                                                                             | 36/300 [1:51:02<13:32:03, 184.56s/it]"
     ]
    },
    {
     "name": "stdout",
     "output_type": "stream",
     "text": [
      "Epoch [37], Batch [50/196], Loss: 1.1601, LR: 0.010000\n",
      "Epoch [37], Batch [100/196], Loss: 1.4929, LR: 0.010000\n",
      "Epoch [37], Batch [150/196], Loss: 3.0830, LR: 0.010000\n",
      "Train set: Epoch: 37, Average loss:1.8016, LR: 0.010000 Top-1 Accuracy: 66.0860%, Top-5 Accuracy: 88.7180%, Time consumed:168.18s\n",
      "Test set: Epoch: 37, Average loss:1.4405, Top-1 Accuracy: 69.7700%, Top-5 Accuracy: 91.4300%, Time consumed:14.95s\n",
      "\n",
      "새로운 최고 top-1 정확도: 69.77%, top-5 정확도: 91.43%\n",
      "새로운 최고 top-5 정확도: 91.43%\n",
      "Accuracy improved (69.12% --> 69.77%). Saving model ...\n"
     ]
    },
    {
     "name": "stderr",
     "output_type": "stream",
     "text": [
      " 12%|██████████▊                                                                             | 37/300 [1:54:06<13:27:24, 184.20s/it]"
     ]
    },
    {
     "name": "stdout",
     "output_type": "stream",
     "text": [
      "Epoch [38], Batch [50/196], Loss: 1.1769, LR: 0.010000\n",
      "Epoch [38], Batch [100/196], Loss: 1.2319, LR: 0.010000\n",
      "Epoch [38], Batch [150/196], Loss: 2.1155, LR: 0.010000\n",
      "Train set: Epoch: 38, Average loss:1.8193, LR: 0.010000 Top-1 Accuracy: 65.9080%, Top-5 Accuracy: 88.4620%, Time consumed:167.64s\n"
     ]
    },
    {
     "name": "stderr",
     "output_type": "stream",
     "text": [
      " 13%|███████████▏                                                                            | 38/300 [1:57:08<13:22:26, 183.77s/it]"
     ]
    },
    {
     "name": "stdout",
     "output_type": "stream",
     "text": [
      "Test set: Epoch: 38, Average loss:1.4601, Top-1 Accuracy: 69.6700%, Top-5 Accuracy: 91.4200%, Time consumed:15.10s\n",
      "\n",
      "EarlyStopping 카운터: 1 / 30\n",
      "Epoch [39], Batch [50/196], Loss: 1.1817, LR: 0.010000\n",
      "Epoch [39], Batch [100/196], Loss: 1.8224, LR: 0.010000\n",
      "Epoch [39], Batch [150/196], Loss: 1.1458, LR: 0.010000\n",
      "Train set: Epoch: 39, Average loss:1.7315, LR: 0.010000 Top-1 Accuracy: 66.8680%, Top-5 Accuracy: 88.7360%, Time consumed:169.39s\n",
      "Test set: Epoch: 39, Average loss:1.4161, Top-1 Accuracy: 70.5300%, Top-5 Accuracy: 91.6300%, Time consumed:15.00s\n",
      "\n",
      "새로운 최고 top-1 정확도: 70.53%, top-5 정확도: 91.63%\n",
      "새로운 최고 top-5 정확도: 91.63%\n",
      "Accuracy improved (69.77% --> 70.53%). Saving model ...\n"
     ]
    },
    {
     "name": "stderr",
     "output_type": "stream",
     "text": [
      " 13%|███████████▍                                                                            | 39/300 [2:00:13<13:20:30, 184.02s/it]"
     ]
    },
    {
     "name": "stdout",
     "output_type": "stream",
     "text": [
      "Epoch [40], Batch [50/196], Loss: 3.0481, LR: 0.010000\n",
      "Epoch [40], Batch [100/196], Loss: 1.0825, LR: 0.010000\n",
      "Epoch [40], Batch [150/196], Loss: 1.0374, LR: 0.010000\n",
      "Train set: Epoch: 40, Average loss:1.7174, LR: 0.010000 Top-1 Accuracy: 68.6660%, Top-5 Accuracy: 90.3700%, Time consumed:167.65s\n"
     ]
    },
    {
     "name": "stderr",
     "output_type": "stream",
     "text": [
      " 13%|███████████▋                                                                            | 40/300 [2:03:15<13:15:24, 183.55s/it]"
     ]
    },
    {
     "name": "stdout",
     "output_type": "stream",
     "text": [
      "Test set: Epoch: 40, Average loss:1.4224, Top-1 Accuracy: 70.0700%, Top-5 Accuracy: 92.0000%, Time consumed:14.81s\n",
      "\n",
      "새로운 최고 top-5 정확도: 92.00%\n",
      "EarlyStopping 카운터: 1 / 30\n",
      "Epoch [41], Batch [50/196], Loss: 1.9635, LR: 0.010000\n",
      "Epoch [41], Batch [100/196], Loss: 1.0054, LR: 0.010000\n",
      "Epoch [41], Batch [150/196], Loss: 1.0514, LR: 0.010000\n",
      "Train set: Epoch: 41, Average loss:1.7736, LR: 0.010000 Top-1 Accuracy: 66.5880%, Top-5 Accuracy: 88.4680%, Time consumed:170.68s\n"
     ]
    },
    {
     "name": "stderr",
     "output_type": "stream",
     "text": [
      " 14%|████████████                                                                            | 41/300 [2:06:21<13:15:18, 184.24s/it]"
     ]
    },
    {
     "name": "stdout",
     "output_type": "stream",
     "text": [
      "Test set: Epoch: 41, Average loss:1.4624, Top-1 Accuracy: 68.8300%, Top-5 Accuracy: 91.4200%, Time consumed:15.16s\n",
      "\n",
      "EarlyStopping 카운터: 2 / 30\n",
      "Epoch [42], Batch [50/196], Loss: 2.9676, LR: 0.010000\n",
      "Epoch [42], Batch [100/196], Loss: 1.0733, LR: 0.010000\n",
      "Epoch [42], Batch [150/196], Loss: 1.1232, LR: 0.010000\n",
      "Train set: Epoch: 42, Average loss:1.7206, LR: 0.010000 Top-1 Accuracy: 68.7900%, Top-5 Accuracy: 90.1800%, Time consumed:179.57s\n",
      "Test set: Epoch: 42, Average loss:1.3920, Top-1 Accuracy: 71.1500%, Top-5 Accuracy: 92.3900%, Time consumed:15.29s\n",
      "\n",
      "새로운 최고 top-1 정확도: 71.15%, top-5 정확도: 92.39%\n",
      "새로운 최고 top-5 정확도: 92.39%\n",
      "Accuracy improved (70.53% --> 71.15%). Saving model ...\n"
     ]
    },
    {
     "name": "stderr",
     "output_type": "stream",
     "text": [
      " 14%|████████████▎                                                                           | 42/300 [2:09:36<13:26:15, 187.50s/it]"
     ]
    },
    {
     "name": "stdout",
     "output_type": "stream",
     "text": [
      "Epoch [43], Batch [50/196], Loss: 1.0819, LR: 0.010000\n",
      "Epoch [43], Batch [100/196], Loss: 1.0729, LR: 0.010000\n",
      "Epoch [43], Batch [150/196], Loss: 1.1004, LR: 0.010000\n",
      "Train set: Epoch: 43, Average loss:1.7610, LR: 0.010000 Top-1 Accuracy: 68.5000%, Top-5 Accuracy: 89.5380%, Time consumed:168.12s\n"
     ]
    },
    {
     "name": "stderr",
     "output_type": "stream",
     "text": [
      " 14%|████████████▌                                                                           | 43/300 [2:12:40<13:17:38, 186.22s/it]"
     ]
    },
    {
     "name": "stdout",
     "output_type": "stream",
     "text": [
      "Test set: Epoch: 43, Average loss:1.4158, Top-1 Accuracy: 70.3400%, Top-5 Accuracy: 91.8300%, Time consumed:15.10s\n",
      "\n",
      "EarlyStopping 카운터: 1 / 30\n",
      "Epoch [44], Batch [50/196], Loss: 1.1695, LR: 0.010000\n",
      "Epoch [44], Batch [100/196], Loss: 2.5687, LR: 0.010000\n",
      "Epoch [44], Batch [150/196], Loss: 1.0632, LR: 0.010000\n",
      "Train set: Epoch: 44, Average loss:1.7849, LR: 0.010000 Top-1 Accuracy: 66.8240%, Top-5 Accuracy: 88.5060%, Time consumed:168.21s\n"
     ]
    },
    {
     "name": "stderr",
     "output_type": "stream",
     "text": [
      " 15%|████████████▉                                                                           | 44/300 [2:15:44<13:11:51, 185.59s/it]"
     ]
    },
    {
     "name": "stdout",
     "output_type": "stream",
     "text": [
      "Test set: Epoch: 44, Average loss:1.4517, Top-1 Accuracy: 69.4700%, Top-5 Accuracy: 91.3300%, Time consumed:15.91s\n",
      "\n",
      "EarlyStopping 카운터: 2 / 30\n",
      "Epoch [45], Batch [50/196], Loss: 2.7955, LR: 0.010000\n",
      "Epoch [45], Batch [100/196], Loss: 1.0828, LR: 0.010000\n",
      "Epoch [45], Batch [150/196], Loss: 0.9903, LR: 0.010000\n",
      "Train set: Epoch: 45, Average loss:1.7046, LR: 0.010000 Top-1 Accuracy: 69.8860%, Top-5 Accuracy: 90.5140%, Time consumed:169.00s\n",
      "Test set: Epoch: 45, Average loss:1.3850, Top-1 Accuracy: 71.7800%, Top-5 Accuracy: 92.1000%, Time consumed:15.15s\n",
      "\n",
      "새로운 최고 top-1 정확도: 71.78%, top-5 정확도: 92.10%\n",
      "Accuracy improved (71.15% --> 71.78%). Saving model ...\n"
     ]
    },
    {
     "name": "stderr",
     "output_type": "stream",
     "text": [
      " 15%|█████████████▏                                                                          | 45/300 [2:18:48<13:07:14, 185.23s/it]"
     ]
    },
    {
     "name": "stdout",
     "output_type": "stream",
     "text": [
      "Epoch [46], Batch [50/196], Loss: 2.5765, LR: 0.010000\n",
      "Epoch [46], Batch [100/196], Loss: 0.9603, LR: 0.010000\n",
      "Epoch [46], Batch [150/196], Loss: 1.1072, LR: 0.010000\n",
      "Train set: Epoch: 46, Average loss:1.6692, LR: 0.010000 Top-1 Accuracy: 68.6540%, Top-5 Accuracy: 89.1580%, Time consumed:166.85s\n"
     ]
    },
    {
     "name": "stderr",
     "output_type": "stream",
     "text": [
      " 15%|█████████████▍                                                                          | 46/300 [2:21:51<13:00:50, 184.45s/it]"
     ]
    },
    {
     "name": "stdout",
     "output_type": "stream",
     "text": [
      "Test set: Epoch: 46, Average loss:1.3760, Top-1 Accuracy: 71.7500%, Top-5 Accuracy: 92.7800%, Time consumed:15.77s\n",
      "\n",
      "새로운 최고 top-5 정확도: 92.78%\n",
      "EarlyStopping 카운터: 1 / 30\n",
      "Epoch [47], Batch [50/196], Loss: 0.9849, LR: 0.010000\n",
      "Epoch [47], Batch [100/196], Loss: 1.5427, LR: 0.010000\n",
      "Epoch [47], Batch [150/196], Loss: 2.3437, LR: 0.010000\n",
      "Train set: Epoch: 47, Average loss:1.6223, LR: 0.010000 Top-1 Accuracy: 70.9260%, Top-5 Accuracy: 90.8900%, Time consumed:167.48s\n"
     ]
    },
    {
     "name": "stderr",
     "output_type": "stream",
     "text": [
      " 16%|█████████████▊                                                                          | 47/300 [2:24:53<12:55:21, 183.88s/it]"
     ]
    },
    {
     "name": "stdout",
     "output_type": "stream",
     "text": [
      "Test set: Epoch: 47, Average loss:1.4456, Top-1 Accuracy: 69.5800%, Top-5 Accuracy: 91.5700%, Time consumed:15.07s\n",
      "\n",
      "EarlyStopping 카운터: 2 / 30\n",
      "Epoch [48], Batch [50/196], Loss: 1.3129, LR: 0.010000\n",
      "Epoch [48], Batch [100/196], Loss: 1.0303, LR: 0.010000\n",
      "Epoch [48], Batch [150/196], Loss: 2.6315, LR: 0.010000\n",
      "Train set: Epoch: 48, Average loss:1.6506, LR: 0.010000 Top-1 Accuracy: 70.9780%, Top-5 Accuracy: 90.7940%, Time consumed:168.45s\n"
     ]
    },
    {
     "name": "stderr",
     "output_type": "stream",
     "text": [
      " 16%|██████████████                                                                          | 48/300 [2:27:59<12:54:42, 184.46s/it]"
     ]
    },
    {
     "name": "stdout",
     "output_type": "stream",
     "text": [
      "Test set: Epoch: 48, Average loss:1.3876, Top-1 Accuracy: 71.2700%, Top-5 Accuracy: 92.1800%, Time consumed:17.35s\n",
      "\n",
      "EarlyStopping 카운터: 3 / 30\n",
      "Epoch [49], Batch [50/196], Loss: 0.9469, LR: 0.010000\n",
      "Epoch [49], Batch [100/196], Loss: 1.0390, LR: 0.010000\n",
      "Epoch [49], Batch [150/196], Loss: 1.0166, LR: 0.010000\n",
      "Train set: Epoch: 49, Average loss:1.6265, LR: 0.010000 Top-1 Accuracy: 71.0760%, Top-5 Accuracy: 90.3080%, Time consumed:169.09s\n"
     ]
    },
    {
     "name": "stderr",
     "output_type": "stream",
     "text": [
      " 16%|██████████████▎                                                                         | 49/300 [2:31:04<12:51:39, 184.46s/it]"
     ]
    },
    {
     "name": "stdout",
     "output_type": "stream",
     "text": [
      "Test set: Epoch: 49, Average loss:1.3825, Top-1 Accuracy: 71.2900%, Top-5 Accuracy: 92.5000%, Time consumed:15.37s\n",
      "\n",
      "EarlyStopping 카운터: 4 / 30\n",
      "Epoch [50], Batch [50/196], Loss: 1.0787, LR: 0.010000\n",
      "Epoch [50], Batch [100/196], Loss: 2.5338, LR: 0.010000\n",
      "Epoch [50], Batch [150/196], Loss: 2.9482, LR: 0.010000\n",
      "Train set: Epoch: 50, Average loss:1.8909, LR: 0.010000 Top-1 Accuracy: 66.2240%, Top-5 Accuracy: 87.8840%, Time consumed:169.56s\n"
     ]
    },
    {
     "name": "stderr",
     "output_type": "stream",
     "text": [
      " 17%|██████████████▋                                                                         | 50/300 [2:34:08<12:48:50, 184.52s/it]"
     ]
    },
    {
     "name": "stdout",
     "output_type": "stream",
     "text": [
      "Test set: Epoch: 50, Average loss:1.3743, Top-1 Accuracy: 71.6800%, Top-5 Accuracy: 92.1500%, Time consumed:15.11s\n",
      "\n",
      "EarlyStopping 카운터: 5 / 30\n",
      "Epoch [51], Batch [50/196], Loss: 2.5760, LR: 0.010000\n",
      "Epoch [51], Batch [100/196], Loss: 2.2729, LR: 0.010000\n",
      "Epoch [51], Batch [150/196], Loss: 1.0480, LR: 0.010000\n",
      "Train set: Epoch: 51, Average loss:1.5938, LR: 0.010000 Top-1 Accuracy: 71.9480%, Top-5 Accuracy: 90.9360%, Time consumed:168.08s\n"
     ]
    },
    {
     "name": "stderr",
     "output_type": "stream",
     "text": [
      " 17%|██████████████▉                                                                         | 51/300 [2:37:12<12:44:20, 184.18s/it]"
     ]
    },
    {
     "name": "stdout",
     "output_type": "stream",
     "text": [
      "Test set: Epoch: 51, Average loss:1.3818, Top-1 Accuracy: 71.5300%, Top-5 Accuracy: 92.2100%, Time consumed:15.30s\n",
      "\n",
      "EarlyStopping 카운터: 6 / 30\n",
      "Epoch [52], Batch [50/196], Loss: 0.8688, LR: 0.005000\n",
      "Epoch [52], Batch [100/196], Loss: 1.1801, LR: 0.005000\n",
      "Epoch [52], Batch [150/196], Loss: 0.8292, LR: 0.005000\n",
      "Train set: Epoch: 52, Average loss:1.5077, LR: 0.005000 Top-1 Accuracy: 74.3340%, Top-5 Accuracy: 91.9160%, Time consumed:164.41s\n",
      "Test set: Epoch: 52, Average loss:1.2811, Top-1 Accuracy: 74.1800%, Top-5 Accuracy: 93.5900%, Time consumed:15.19s\n",
      "\n",
      "새로운 최고 top-1 정확도: 74.18%, top-5 정확도: 93.59%\n",
      "새로운 최고 top-5 정확도: 93.59%\n",
      "Accuracy improved (71.78% --> 74.18%). Saving model ...\n"
     ]
    },
    {
     "name": "stderr",
     "output_type": "stream",
     "text": [
      " 17%|███████████████▎                                                                        | 52/300 [2:40:11<12:35:53, 182.88s/it]"
     ]
    },
    {
     "name": "stdout",
     "output_type": "stream",
     "text": [
      "Epoch [53], Batch [50/196], Loss: 0.6194, LR: 0.005000\n",
      "Epoch [53], Batch [100/196], Loss: 0.8370, LR: 0.005000\n",
      "Epoch [53], Batch [150/196], Loss: 0.8548, LR: 0.005000\n",
      "Train set: Epoch: 53, Average loss:1.5172, LR: 0.005000 Top-1 Accuracy: 74.7280%, Top-5 Accuracy: 92.0780%, Time consumed:168.45s\n",
      "Test set: Epoch: 53, Average loss:1.2889, Top-1 Accuracy: 74.2500%, Top-5 Accuracy: 93.5100%, Time consumed:15.22s\n",
      "\n",
      "새로운 최고 top-1 정확도: 74.25%, top-5 정확도: 93.51%\n",
      "Accuracy improved (74.18% --> 74.25%). Saving model ...\n"
     ]
    },
    {
     "name": "stderr",
     "output_type": "stream",
     "text": [
      " 18%|███████████████▌                                                                        | 53/300 [2:43:15<12:34:10, 183.20s/it]"
     ]
    },
    {
     "name": "stdout",
     "output_type": "stream",
     "text": [
      "Epoch [54], Batch [50/196], Loss: 1.2083, LR: 0.005000\n",
      "Epoch [54], Batch [100/196], Loss: 0.8283, LR: 0.005000\n",
      "Epoch [54], Batch [150/196], Loss: 0.8992, LR: 0.005000\n",
      "Train set: Epoch: 54, Average loss:1.4405, LR: 0.005000 Top-1 Accuracy: 77.2240%, Top-5 Accuracy: 93.2220%, Time consumed:167.57s\n",
      "Test set: Epoch: 54, Average loss:1.2908, Top-1 Accuracy: 74.4600%, Top-5 Accuracy: 93.5100%, Time consumed:15.48s\n",
      "\n",
      "새로운 최고 top-1 정확도: 74.46%, top-5 정확도: 93.51%\n",
      "Accuracy improved (74.25% --> 74.46%). Saving model ...\n"
     ]
    },
    {
     "name": "stderr",
     "output_type": "stream",
     "text": [
      " 18%|███████████████▊                                                                        | 54/300 [2:46:19<12:31:14, 183.23s/it]"
     ]
    },
    {
     "name": "stdout",
     "output_type": "stream",
     "text": [
      "Epoch [55], Batch [50/196], Loss: 2.1363, LR: 0.005000\n",
      "Epoch [55], Batch [100/196], Loss: 0.8392, LR: 0.005000\n",
      "Epoch [55], Batch [150/196], Loss: 3.0093, LR: 0.005000\n",
      "Train set: Epoch: 55, Average loss:1.4059, LR: 0.005000 Top-1 Accuracy: 76.4860%, Top-5 Accuracy: 92.1740%, Time consumed:167.88s\n"
     ]
    },
    {
     "name": "stderr",
     "output_type": "stream",
     "text": [
      " 18%|████████████████▏                                                                       | 55/300 [2:49:21<12:27:34, 183.08s/it]"
     ]
    },
    {
     "name": "stdout",
     "output_type": "stream",
     "text": [
      "Test set: Epoch: 55, Average loss:1.3051, Top-1 Accuracy: 73.7700%, Top-5 Accuracy: 93.0900%, Time consumed:14.85s\n",
      "\n",
      "EarlyStopping 카운터: 1 / 30\n",
      "Epoch [56], Batch [50/196], Loss: 0.8371, LR: 0.005000\n",
      "Epoch [56], Batch [100/196], Loss: 0.8055, LR: 0.005000\n",
      "Epoch [56], Batch [150/196], Loss: 2.5255, LR: 0.005000\n",
      "Train set: Epoch: 56, Average loss:1.4995, LR: 0.005000 Top-1 Accuracy: 76.1080%, Top-5 Accuracy: 92.8160%, Time consumed:169.61s\n"
     ]
    },
    {
     "name": "stderr",
     "output_type": "stream",
     "text": [
      " 19%|████████████████▍                                                                       | 56/300 [2:52:26<12:26:20, 183.53s/it]"
     ]
    },
    {
     "name": "stdout",
     "output_type": "stream",
     "text": [
      "Test set: Epoch: 56, Average loss:1.2988, Top-1 Accuracy: 74.1400%, Top-5 Accuracy: 93.3800%, Time consumed:14.96s\n",
      "\n",
      "EarlyStopping 카운터: 2 / 30\n",
      "Epoch [57], Batch [50/196], Loss: 0.8526, LR: 0.005000\n",
      "Epoch [57], Batch [100/196], Loss: 2.2698, LR: 0.005000\n",
      "Epoch [57], Batch [150/196], Loss: 0.8475, LR: 0.005000\n",
      "Train set: Epoch: 57, Average loss:1.4003, LR: 0.005000 Top-1 Accuracy: 78.5340%, Top-5 Accuracy: 93.7320%, Time consumed:167.73s\n"
     ]
    },
    {
     "name": "stderr",
     "output_type": "stream",
     "text": [
      " 19%|████████████████▋                                                                       | 57/300 [2:55:29<12:22:09, 183.25s/it]"
     ]
    },
    {
     "name": "stdout",
     "output_type": "stream",
     "text": [
      "Test set: Epoch: 57, Average loss:1.3153, Top-1 Accuracy: 73.4400%, Top-5 Accuracy: 92.9600%, Time consumed:14.86s\n",
      "\n",
      "EarlyStopping 카운터: 3 / 30\n",
      "Epoch [58], Batch [50/196], Loss: 0.8100, LR: 0.005000\n",
      "Epoch [58], Batch [100/196], Loss: 0.7953, LR: 0.005000\n",
      "Epoch [58], Batch [150/196], Loss: 0.8242, LR: 0.005000\n",
      "Train set: Epoch: 58, Average loss:1.4079, LR: 0.005000 Top-1 Accuracy: 78.1800%, Top-5 Accuracy: 93.4700%, Time consumed:167.83s\n"
     ]
    },
    {
     "name": "stderr",
     "output_type": "stream",
     "text": [
      " 19%|█████████████████                                                                       | 58/300 [2:58:32<12:19:01, 183.23s/it]"
     ]
    },
    {
     "name": "stdout",
     "output_type": "stream",
     "text": [
      "Test set: Epoch: 58, Average loss:1.2967, Top-1 Accuracy: 74.3900%, Top-5 Accuracy: 93.1000%, Time consumed:15.35s\n",
      "\n",
      "EarlyStopping 카운터: 4 / 30\n",
      "Epoch [59], Batch [50/196], Loss: 1.4108, LR: 0.002500\n",
      "Epoch [59], Batch [100/196], Loss: 2.0398, LR: 0.002500\n",
      "Epoch [59], Batch [150/196], Loss: 0.7133, LR: 0.002500\n",
      "Train set: Epoch: 59, Average loss:1.5118, LR: 0.002500 Top-1 Accuracy: 75.8980%, Top-5 Accuracy: 92.1020%, Time consumed:167.96s\n",
      "Test set: Epoch: 59, Average loss:1.2564, Top-1 Accuracy: 75.3600%, Top-5 Accuracy: 93.8700%, Time consumed:15.12s\n",
      "\n",
      "새로운 최고 top-1 정확도: 75.36%, top-5 정확도: 93.87%\n",
      "새로운 최고 top-5 정확도: 93.87%\n",
      "Accuracy improved (74.46% --> 75.36%). Saving model ...\n"
     ]
    },
    {
     "name": "stderr",
     "output_type": "stream",
     "text": [
      " 20%|█████████████████▎                                                                      | 59/300 [3:01:35<12:16:04, 183.25s/it]"
     ]
    },
    {
     "name": "stdout",
     "output_type": "stream",
     "text": [
      "Epoch [60], Batch [50/196], Loss: 0.7370, LR: 0.002500\n",
      "Epoch [60], Batch [100/196], Loss: 0.7996, LR: 0.002500\n",
      "Epoch [60], Batch [150/196], Loss: 2.7878, LR: 0.002500\n",
      "Train set: Epoch: 60, Average loss:1.3954, LR: 0.002500 Top-1 Accuracy: 79.3060%, Top-5 Accuracy: 93.8000%, Time consumed:168.47s\n"
     ]
    },
    {
     "name": "stderr",
     "output_type": "stream",
     "text": [
      " 20%|█████████████████▌                                                                      | 60/300 [3:04:39<12:13:24, 183.35s/it]"
     ]
    },
    {
     "name": "stdout",
     "output_type": "stream",
     "text": [
      "Test set: Epoch: 60, Average loss:1.2684, Top-1 Accuracy: 75.1800%, Top-5 Accuracy: 93.6500%, Time consumed:15.11s\n",
      "\n",
      "EarlyStopping 카운터: 1 / 30\n",
      "Epoch [61], Batch [50/196], Loss: 0.7722, LR: 0.002500\n",
      "Epoch [61], Batch [100/196], Loss: 0.7415, LR: 0.002500\n",
      "Epoch [61], Batch [150/196], Loss: 0.7787, LR: 0.002500\n",
      "Train set: Epoch: 61, Average loss:1.4354, LR: 0.002500 Top-1 Accuracy: 77.6700%, Top-5 Accuracy: 92.6340%, Time consumed:168.47s\n",
      "Test set: Epoch: 61, Average loss:1.2533, Top-1 Accuracy: 75.5500%, Top-5 Accuracy: 93.7200%, Time consumed:15.21s\n",
      "\n",
      "새로운 최고 top-1 정확도: 75.55%, top-5 정확도: 93.72%\n",
      "Accuracy improved (75.36% --> 75.55%). Saving model ...\n"
     ]
    },
    {
     "name": "stderr",
     "output_type": "stream",
     "text": [
      " 20%|█████████████████▉                                                                      | 61/300 [3:07:43<12:11:06, 183.54s/it]"
     ]
    },
    {
     "name": "stdout",
     "output_type": "stream",
     "text": [
      "Epoch [62], Batch [50/196], Loss: 2.8242, LR: 0.002500\n",
      "Epoch [62], Batch [100/196], Loss: 2.2697, LR: 0.002500\n",
      "Epoch [62], Batch [150/196], Loss: 2.5536, LR: 0.002500\n",
      "Train set: Epoch: 62, Average loss:1.3783, LR: 0.002500 Top-1 Accuracy: 79.2960%, Top-5 Accuracy: 93.8020%, Time consumed:168.48s\n"
     ]
    },
    {
     "name": "stderr",
     "output_type": "stream",
     "text": [
      " 21%|██████████████████▏                                                                     | 62/300 [3:10:46<12:08:21, 183.62s/it]"
     ]
    },
    {
     "name": "stdout",
     "output_type": "stream",
     "text": [
      "Test set: Epoch: 62, Average loss:1.2554, Top-1 Accuracy: 75.4600%, Top-5 Accuracy: 93.7000%, Time consumed:15.31s\n",
      "\n",
      "EarlyStopping 카운터: 1 / 30\n",
      "Epoch [63], Batch [50/196], Loss: 2.6337, LR: 0.002500\n",
      "Epoch [63], Batch [100/196], Loss: 0.7900, LR: 0.002500\n",
      "Epoch [63], Batch [150/196], Loss: 2.8255, LR: 0.002500\n",
      "Train set: Epoch: 63, Average loss:1.3097, LR: 0.002500 Top-1 Accuracy: 81.1840%, Top-5 Accuracy: 94.1660%, Time consumed:168.24s\n"
     ]
    },
    {
     "name": "stderr",
     "output_type": "stream",
     "text": [
      " 21%|██████████████████▍                                                                     | 63/300 [3:13:50<12:04:57, 183.53s/it]"
     ]
    },
    {
     "name": "stdout",
     "output_type": "stream",
     "text": [
      "Test set: Epoch: 63, Average loss:1.2612, Top-1 Accuracy: 75.5300%, Top-5 Accuracy: 93.7500%, Time consumed:15.09s\n",
      "\n",
      "EarlyStopping 카운터: 2 / 30\n",
      "Epoch [64], Batch [50/196], Loss: 0.7522, LR: 0.002500\n",
      "Epoch [64], Batch [100/196], Loss: 0.7595, LR: 0.002500\n",
      "Epoch [64], Batch [150/196], Loss: 1.4906, LR: 0.002500\n",
      "Train set: Epoch: 64, Average loss:1.3706, LR: 0.002500 Top-1 Accuracy: 79.2180%, Top-5 Accuracy: 93.6360%, Time consumed:167.84s\n"
     ]
    },
    {
     "name": "stderr",
     "output_type": "stream",
     "text": [
      " 21%|██████████████████▊                                                                     | 64/300 [3:16:54<12:02:49, 183.77s/it]"
     ]
    },
    {
     "name": "stdout",
     "output_type": "stream",
     "text": [
      "Test set: Epoch: 64, Average loss:1.2598, Top-1 Accuracy: 75.2400%, Top-5 Accuracy: 93.7700%, Time consumed:16.47s\n",
      "\n",
      "EarlyStopping 카운터: 3 / 30\n",
      "Epoch [65], Batch [50/196], Loss: 0.7108, LR: 0.002500\n",
      "Epoch [65], Batch [100/196], Loss: 2.8129, LR: 0.002500\n",
      "Epoch [65], Batch [150/196], Loss: 2.6254, LR: 0.002500\n",
      "Train set: Epoch: 65, Average loss:1.4621, LR: 0.002500 Top-1 Accuracy: 78.2520%, Top-5 Accuracy: 93.2240%, Time consumed:164.80s\n"
     ]
    },
    {
     "name": "stderr",
     "output_type": "stream",
     "text": [
      " 22%|███████████████████                                                                     | 65/300 [3:19:54<11:55:25, 182.66s/it]"
     ]
    },
    {
     "name": "stdout",
     "output_type": "stream",
     "text": [
      "Test set: Epoch: 65, Average loss:1.2684, Top-1 Accuracy: 75.0300%, Top-5 Accuracy: 93.8400%, Time consumed:15.28s\n",
      "\n",
      "EarlyStopping 카운터: 4 / 30\n",
      "Epoch [66], Batch [50/196], Loss: 2.7436, LR: 0.001250\n",
      "Epoch [66], Batch [100/196], Loss: 0.6926, LR: 0.001250\n",
      "Epoch [66], Batch [150/196], Loss: 0.9343, LR: 0.001250\n",
      "Train set: Epoch: 66, Average loss:1.4946, LR: 0.001250 Top-1 Accuracy: 77.5420%, Top-5 Accuracy: 92.6160%, Time consumed:168.98s\n",
      "Test set: Epoch: 66, Average loss:1.2572, Top-1 Accuracy: 75.6100%, Top-5 Accuracy: 94.0100%, Time consumed:15.50s\n",
      "\n",
      "새로운 최고 top-1 정확도: 75.61%, top-5 정확도: 94.01%\n",
      "새로운 최고 top-5 정확도: 94.01%\n",
      "Accuracy improved (75.55% --> 75.61%). Saving model ...\n"
     ]
    },
    {
     "name": "stderr",
     "output_type": "stream",
     "text": [
      " 22%|███████████████████▎                                                                    | 66/300 [3:22:59<11:54:47, 183.28s/it]"
     ]
    },
    {
     "name": "stdout",
     "output_type": "stream",
     "text": [
      "Epoch [67], Batch [50/196], Loss: 0.7401, LR: 0.001250\n",
      "Epoch [67], Batch [100/196], Loss: 2.6802, LR: 0.001250\n",
      "Epoch [67], Batch [150/196], Loss: 0.7611, LR: 0.001250\n",
      "Train set: Epoch: 67, Average loss:1.2847, LR: 0.001250 Top-1 Accuracy: 81.7580%, Top-5 Accuracy: 94.5520%, Time consumed:168.11s\n",
      "Test set: Epoch: 67, Average loss:1.2425, Top-1 Accuracy: 75.9900%, Top-5 Accuracy: 94.0100%, Time consumed:15.70s\n",
      "\n",
      "새로운 최고 top-1 정확도: 75.99%, top-5 정확도: 94.01%\n",
      "Accuracy improved (75.61% --> 75.99%). Saving model ...\n"
     ]
    },
    {
     "name": "stderr",
     "output_type": "stream",
     "text": [
      " 22%|███████████████████▋                                                                    | 67/300 [3:26:03<11:52:40, 183.52s/it]"
     ]
    },
    {
     "name": "stdout",
     "output_type": "stream",
     "text": [
      "Epoch [68], Batch [50/196], Loss: 0.7219, LR: 0.001250\n",
      "Epoch [68], Batch [100/196], Loss: 0.7079, LR: 0.001250\n",
      "Epoch [68], Batch [150/196], Loss: 0.7628, LR: 0.001250\n",
      "Train set: Epoch: 68, Average loss:1.3975, LR: 0.001250 Top-1 Accuracy: 79.0220%, Top-5 Accuracy: 93.2280%, Time consumed:168.18s\n"
     ]
    },
    {
     "name": "stderr",
     "output_type": "stream",
     "text": [
      " 23%|███████████████████▉                                                                    | 68/300 [3:29:06<11:49:29, 183.49s/it]"
     ]
    },
    {
     "name": "stdout",
     "output_type": "stream",
     "text": [
      "Test set: Epoch: 68, Average loss:1.2421, Top-1 Accuracy: 75.8400%, Top-5 Accuracy: 94.0500%, Time consumed:15.23s\n",
      "\n",
      "새로운 최고 top-5 정확도: 94.05%\n",
      "EarlyStopping 카운터: 1 / 30\n",
      "Epoch [69], Batch [50/196], Loss: 2.6154, LR: 0.001250\n",
      "Epoch [69], Batch [100/196], Loss: 0.7197, LR: 0.001250\n",
      "Epoch [69], Batch [150/196], Loss: 0.6391, LR: 0.001250\n",
      "Train set: Epoch: 69, Average loss:1.4476, LR: 0.001250 Top-1 Accuracy: 78.6260%, Top-5 Accuracy: 93.1880%, Time consumed:178.38s\n"
     ]
    },
    {
     "name": "stderr",
     "output_type": "stream",
     "text": [
      " 23%|████████████████████▏                                                                   | 69/300 [3:32:20<11:58:11, 186.55s/it]"
     ]
    },
    {
     "name": "stdout",
     "output_type": "stream",
     "text": [
      "Test set: Epoch: 69, Average loss:1.2506, Top-1 Accuracy: 75.4200%, Top-5 Accuracy: 93.8500%, Time consumed:15.29s\n",
      "\n",
      "EarlyStopping 카운터: 2 / 30\n",
      "Epoch [70], Batch [50/196], Loss: 2.7748, LR: 0.001250\n",
      "Epoch [70], Batch [100/196], Loss: 2.2954, LR: 0.001250\n",
      "Epoch [70], Batch [150/196], Loss: 0.7011, LR: 0.001250\n",
      "Train set: Epoch: 70, Average loss:1.3636, LR: 0.001250 Top-1 Accuracy: 80.3960%, Top-5 Accuracy: 93.9940%, Time consumed:168.66s\n",
      "Test set: Epoch: 70, Average loss:1.2429, Top-1 Accuracy: 76.0000%, Top-5 Accuracy: 93.8500%, Time consumed:15.89s\n",
      "\n",
      "새로운 최고 top-1 정확도: 76.00%, top-5 정확도: 93.85%\n",
      "Accuracy improved (75.99% --> 76.00%). Saving model ...\n"
     ]
    },
    {
     "name": "stderr",
     "output_type": "stream",
     "text": [
      " 23%|████████████████████▌                                                                   | 70/300 [3:35:25<11:53:04, 186.02s/it]"
     ]
    },
    {
     "name": "stdout",
     "output_type": "stream",
     "text": [
      "Epoch [71], Batch [50/196], Loss: 1.8266, LR: 0.001250\n",
      "Epoch [71], Batch [100/196], Loss: 0.7128, LR: 0.001250\n",
      "Epoch [71], Batch [150/196], Loss: 0.7028, LR: 0.001250\n",
      "Train set: Epoch: 71, Average loss:1.4066, LR: 0.001250 Top-1 Accuracy: 79.5720%, Top-5 Accuracy: 93.5020%, Time consumed:171.94s\n"
     ]
    },
    {
     "name": "stderr",
     "output_type": "stream",
     "text": [
      " 24%|████████████████████▊                                                                   | 71/300 [3:38:32<11:50:50, 186.25s/it]"
     ]
    },
    {
     "name": "stdout",
     "output_type": "stream",
     "text": [
      "Test set: Epoch: 71, Average loss:1.2389, Top-1 Accuracy: 75.8500%, Top-5 Accuracy: 93.9700%, Time consumed:14.84s\n",
      "\n",
      "EarlyStopping 카운터: 1 / 30\n",
      "Epoch [72], Batch [50/196], Loss: 0.6862, LR: 0.000625\n",
      "Epoch [72], Batch [100/196], Loss: 2.6267, LR: 0.000625\n",
      "Epoch [72], Batch [150/196], Loss: 2.7117, LR: 0.000625\n",
      "Train set: Epoch: 72, Average loss:1.2894, LR: 0.000625 Top-1 Accuracy: 81.4380%, Top-5 Accuracy: 94.1820%, Time consumed:167.32s\n"
     ]
    },
    {
     "name": "stderr",
     "output_type": "stream",
     "text": [
      " 24%|█████████████████████                                                                   | 72/300 [3:41:34<11:43:18, 185.08s/it]"
     ]
    },
    {
     "name": "stdout",
     "output_type": "stream",
     "text": [
      "Test set: Epoch: 72, Average loss:1.2332, Top-1 Accuracy: 75.9900%, Top-5 Accuracy: 93.8700%, Time consumed:15.03s\n",
      "\n",
      "EarlyStopping 카운터: 2 / 30\n",
      "Epoch [73], Batch [50/196], Loss: 1.9961, LR: 0.000625\n",
      "Epoch [73], Batch [100/196], Loss: 2.3287, LR: 0.000625\n",
      "Epoch [73], Batch [150/196], Loss: 0.6910, LR: 0.000625\n",
      "Train set: Epoch: 73, Average loss:1.4701, LR: 0.000625 Top-1 Accuracy: 78.5860%, Top-5 Accuracy: 93.2920%, Time consumed:168.39s\n"
     ]
    },
    {
     "name": "stderr",
     "output_type": "stream",
     "text": [
      " 24%|█████████████████████▍                                                                  | 73/300 [3:44:38<11:39:09, 184.80s/it]"
     ]
    },
    {
     "name": "stdout",
     "output_type": "stream",
     "text": [
      "Test set: Epoch: 73, Average loss:1.2591, Top-1 Accuracy: 75.5000%, Top-5 Accuracy: 93.7900%, Time consumed:15.75s\n",
      "\n",
      "EarlyStopping 카운터: 3 / 30\n",
      "Epoch [74], Batch [50/196], Loss: 0.7084, LR: 0.000625\n",
      "Epoch [74], Batch [100/196], Loss: 2.5930, LR: 0.000625\n",
      "Epoch [74], Batch [150/196], Loss: 2.6517, LR: 0.000625\n",
      "Train set: Epoch: 74, Average loss:1.2543, LR: 0.000625 Top-1 Accuracy: 83.0720%, Top-5 Accuracy: 94.6940%, Time consumed:170.44s\n"
     ]
    },
    {
     "name": "stderr",
     "output_type": "stream",
     "text": [
      " 25%|█████████████████████▋                                                                  | 74/300 [3:47:45<11:37:51, 185.27s/it]"
     ]
    },
    {
     "name": "stdout",
     "output_type": "stream",
     "text": [
      "Test set: Epoch: 74, Average loss:1.2395, Top-1 Accuracy: 75.9800%, Top-5 Accuracy: 93.9000%, Time consumed:15.93s\n",
      "\n",
      "EarlyStopping 카운터: 4 / 30\n",
      "Epoch [75], Batch [50/196], Loss: 0.6804, LR: 0.000625\n",
      "Epoch [75], Batch [100/196], Loss: 1.3257, LR: 0.000625\n",
      "Epoch [75], Batch [150/196], Loss: 1.8475, LR: 0.000625\n",
      "Train set: Epoch: 75, Average loss:1.3807, LR: 0.000625 Top-1 Accuracy: 80.2900%, Top-5 Accuracy: 93.9860%, Time consumed:177.90s\n"
     ]
    },
    {
     "name": "stderr",
     "output_type": "stream",
     "text": [
      " 25%|██████████████████████                                                                  | 75/300 [3:50:58<11:43:55, 187.72s/it]"
     ]
    },
    {
     "name": "stdout",
     "output_type": "stream",
     "text": [
      "Test set: Epoch: 75, Average loss:1.2430, Top-1 Accuracy: 75.9900%, Top-5 Accuracy: 93.9700%, Time consumed:15.50s\n",
      "\n",
      "EarlyStopping 카운터: 5 / 30\n",
      "Epoch [76], Batch [50/196], Loss: 0.6713, LR: 0.000625\n",
      "Epoch [76], Batch [100/196], Loss: 2.9686, LR: 0.000625\n",
      "Epoch [76], Batch [150/196], Loss: 0.7290, LR: 0.000625\n",
      "Train set: Epoch: 76, Average loss:1.3299, LR: 0.000625 Top-1 Accuracy: 80.8800%, Top-5 Accuracy: 93.7000%, Time consumed:168.14s\n",
      "Test set: Epoch: 76, Average loss:1.2330, Top-1 Accuracy: 76.1700%, Top-5 Accuracy: 94.0100%, Time consumed:15.17s\n",
      "\n",
      "새로운 최고 top-1 정확도: 76.17%, top-5 정확도: 94.01%\n",
      "Accuracy improved (76.00% --> 76.17%). Saving model ...\n"
     ]
    },
    {
     "name": "stderr",
     "output_type": "stream",
     "text": [
      " 25%|██████████████████████▎                                                                 | 76/300 [3:54:01<11:36:08, 186.47s/it]"
     ]
    },
    {
     "name": "stdout",
     "output_type": "stream",
     "text": [
      "Epoch [77], Batch [50/196], Loss: 0.6886, LR: 0.000625\n",
      "Epoch [77], Batch [100/196], Loss: 2.1515, LR: 0.000625\n",
      "Epoch [77], Batch [150/196], Loss: 2.5297, LR: 0.000625\n",
      "Train set: Epoch: 77, Average loss:1.3264, LR: 0.000625 Top-1 Accuracy: 81.4980%, Top-5 Accuracy: 94.4420%, Time consumed:167.37s\n",
      "Test set: Epoch: 77, Average loss:1.2314, Top-1 Accuracy: 76.1800%, Top-5 Accuracy: 93.8700%, Time consumed:15.36s\n",
      "\n",
      "새로운 최고 top-1 정확도: 76.18%, top-5 정확도: 93.87%\n",
      "Accuracy improved (76.17% --> 76.18%). Saving model ...\n"
     ]
    },
    {
     "name": "stderr",
     "output_type": "stream",
     "text": [
      " 26%|██████████████████████▌                                                                 | 77/300 [3:57:04<11:29:08, 185.42s/it]"
     ]
    },
    {
     "name": "stdout",
     "output_type": "stream",
     "text": [
      "Epoch [78], Batch [50/196], Loss: 0.6913, LR: 0.000625\n",
      "Epoch [78], Batch [100/196], Loss: 0.6442, LR: 0.000625\n",
      "Epoch [78], Batch [150/196], Loss: 0.6981, LR: 0.000625\n",
      "Train set: Epoch: 78, Average loss:1.2572, LR: 0.000625 Top-1 Accuracy: 82.7600%, Top-5 Accuracy: 94.6080%, Time consumed:168.02s\n",
      "Test set: Epoch: 78, Average loss:1.2291, Top-1 Accuracy: 76.5300%, Top-5 Accuracy: 94.0000%, Time consumed:15.42s\n",
      "\n",
      "새로운 최고 top-1 정확도: 76.53%, top-5 정확도: 94.00%\n",
      "Accuracy improved (76.18% --> 76.53%). Saving model ...\n"
     ]
    },
    {
     "name": "stderr",
     "output_type": "stream",
     "text": [
      " 26%|██████████████████████▉                                                                 | 78/300 [4:00:08<11:24:07, 184.90s/it]"
     ]
    },
    {
     "name": "stdout",
     "output_type": "stream",
     "text": [
      "Epoch [79], Batch [50/196], Loss: 1.4344, LR: 0.000625\n",
      "Epoch [79], Batch [100/196], Loss: 2.0288, LR: 0.000625\n",
      "Epoch [79], Batch [150/196], Loss: 0.6938, LR: 0.000625\n",
      "Train set: Epoch: 79, Average loss:1.3167, LR: 0.000625 Top-1 Accuracy: 82.3840%, Top-5 Accuracy: 94.8140%, Time consumed:168.15s\n"
     ]
    },
    {
     "name": "stderr",
     "output_type": "stream",
     "text": [
      " 26%|███████████████████████▏                                                                | 79/300 [4:03:11<11:19:11, 184.40s/it]"
     ]
    },
    {
     "name": "stdout",
     "output_type": "stream",
     "text": [
      "Test set: Epoch: 79, Average loss:1.2292, Top-1 Accuracy: 76.3600%, Top-5 Accuracy: 94.0900%, Time consumed:15.06s\n",
      "\n",
      "새로운 최고 top-5 정확도: 94.09%\n",
      "EarlyStopping 카운터: 1 / 30\n",
      "Epoch [80], Batch [50/196], Loss: 0.6962, LR: 0.000625\n",
      "Epoch [80], Batch [100/196], Loss: 2.0457, LR: 0.000625\n",
      "Epoch [80], Batch [150/196], Loss: 2.6252, LR: 0.000625\n",
      "Train set: Epoch: 80, Average loss:1.3733, LR: 0.000625 Top-1 Accuracy: 81.2540%, Top-5 Accuracy: 94.5240%, Time consumed:168.35s\n"
     ]
    },
    {
     "name": "stderr",
     "output_type": "stream",
     "text": [
      " 27%|███████████████████████▍                                                                | 80/300 [4:06:15<11:15:15, 184.16s/it]"
     ]
    },
    {
     "name": "stdout",
     "output_type": "stream",
     "text": [
      "Test set: Epoch: 80, Average loss:1.2345, Top-1 Accuracy: 76.2800%, Top-5 Accuracy: 93.8700%, Time consumed:15.25s\n",
      "\n",
      "EarlyStopping 카운터: 2 / 30\n",
      "Epoch [81], Batch [50/196], Loss: 0.6882, LR: 0.000625\n",
      "Epoch [81], Batch [100/196], Loss: 2.6822, LR: 0.000625\n",
      "Epoch [81], Batch [150/196], Loss: 0.6660, LR: 0.000625\n",
      "Train set: Epoch: 81, Average loss:1.3516, LR: 0.000625 Top-1 Accuracy: 81.3540%, Top-5 Accuracy: 94.3080%, Time consumed:168.62s\n"
     ]
    },
    {
     "name": "stderr",
     "output_type": "stream",
     "text": [
      " 27%|███████████████████████▊                                                                | 81/300 [4:09:19<11:11:32, 183.99s/it]"
     ]
    },
    {
     "name": "stdout",
     "output_type": "stream",
     "text": [
      "Test set: Epoch: 81, Average loss:1.2442, Top-1 Accuracy: 76.0700%, Top-5 Accuracy: 93.9700%, Time consumed:14.95s\n",
      "\n",
      "EarlyStopping 카운터: 3 / 30\n",
      "Epoch [82], Batch [50/196], Loss: 2.4411, LR: 0.000625\n",
      "Epoch [82], Batch [100/196], Loss: 0.6913, LR: 0.000625\n",
      "Epoch [82], Batch [150/196], Loss: 0.6953, LR: 0.000625\n",
      "Train set: Epoch: 82, Average loss:1.3760, LR: 0.000625 Top-1 Accuracy: 80.8120%, Top-5 Accuracy: 94.2200%, Time consumed:170.77s\n"
     ]
    },
    {
     "name": "stderr",
     "output_type": "stream",
     "text": [
      " 27%|████████████████████████                                                                | 82/300 [4:12:24<11:10:23, 184.51s/it]"
     ]
    },
    {
     "name": "stdout",
     "output_type": "stream",
     "text": [
      "Test set: Epoch: 82, Average loss:1.2273, Top-1 Accuracy: 76.2800%, Top-5 Accuracy: 94.1100%, Time consumed:14.96s\n",
      "\n",
      "새로운 최고 top-5 정확도: 94.11%\n",
      "EarlyStopping 카운터: 4 / 30\n",
      "Epoch [83], Batch [50/196], Loss: 0.6630, LR: 0.000312\n",
      "Epoch [83], Batch [100/196], Loss: 1.5134, LR: 0.000312\n",
      "Epoch [83], Batch [150/196], Loss: 2.4598, LR: 0.000312\n",
      "Train set: Epoch: 83, Average loss:1.1927, LR: 0.000312 Top-1 Accuracy: 84.7060%, Top-5 Accuracy: 95.6220%, Time consumed:168.48s\n"
     ]
    },
    {
     "name": "stderr",
     "output_type": "stream",
     "text": [
      " 28%|████████████████████████▎                                                               | 83/300 [4:15:28<11:06:06, 184.18s/it]"
     ]
    },
    {
     "name": "stdout",
     "output_type": "stream",
     "text": [
      "Test set: Epoch: 83, Average loss:1.2281, Top-1 Accuracy: 76.3400%, Top-5 Accuracy: 94.1300%, Time consumed:14.91s\n",
      "\n",
      "새로운 최고 top-5 정확도: 94.13%\n",
      "EarlyStopping 카운터: 5 / 30\n",
      "Epoch [84], Batch [50/196], Loss: 2.5970, LR: 0.000312\n",
      "Epoch [84], Batch [100/196], Loss: 2.1470, LR: 0.000312\n",
      "Epoch [84], Batch [150/196], Loss: 0.6479, LR: 0.000312\n",
      "Train set: Epoch: 84, Average loss:1.3107, LR: 0.000312 Top-1 Accuracy: 82.4780%, Top-5 Accuracy: 94.6060%, Time consumed:167.49s\n"
     ]
    },
    {
     "name": "stderr",
     "output_type": "stream",
     "text": [
      " 28%|████████████████████████▋                                                               | 84/300 [4:18:31<11:01:42, 183.81s/it]"
     ]
    },
    {
     "name": "stdout",
     "output_type": "stream",
     "text": [
      "Test set: Epoch: 84, Average loss:1.2503, Top-1 Accuracy: 76.0700%, Top-5 Accuracy: 93.9200%, Time consumed:15.46s\n",
      "\n",
      "EarlyStopping 카운터: 6 / 30\n",
      "Epoch [85], Batch [50/196], Loss: 0.6941, LR: 0.000312\n",
      "Epoch [85], Batch [100/196], Loss: 0.6564, LR: 0.000312\n",
      "Epoch [85], Batch [150/196], Loss: 0.6379, LR: 0.000312\n",
      "Train set: Epoch: 85, Average loss:1.3174, LR: 0.000312 Top-1 Accuracy: 81.8560%, Top-5 Accuracy: 94.4680%, Time consumed:167.59s\n"
     ]
    },
    {
     "name": "stderr",
     "output_type": "stream",
     "text": [
      " 28%|████████████████████████▉                                                               | 85/300 [4:21:33<10:57:13, 183.41s/it]"
     ]
    },
    {
     "name": "stdout",
     "output_type": "stream",
     "text": [
      "Test set: Epoch: 85, Average loss:1.2305, Top-1 Accuracy: 76.0900%, Top-5 Accuracy: 94.0300%, Time consumed:14.90s\n",
      "\n",
      "EarlyStopping 카운터: 7 / 30\n",
      "Epoch [86], Batch [50/196], Loss: 1.7826, LR: 0.000312\n",
      "Epoch [86], Batch [100/196], Loss: 1.5009, LR: 0.000312\n",
      "Epoch [86], Batch [150/196], Loss: 1.0606, LR: 0.000312\n",
      "Train set: Epoch: 86, Average loss:1.3311, LR: 0.000312 Top-1 Accuracy: 81.5120%, Top-5 Accuracy: 94.4880%, Time consumed:169.30s\n"
     ]
    },
    {
     "name": "stderr",
     "output_type": "stream",
     "text": [
      " 29%|█████████████████████████▏                                                              | 86/300 [4:24:38<10:55:16, 183.72s/it]"
     ]
    },
    {
     "name": "stdout",
     "output_type": "stream",
     "text": [
      "Test set: Epoch: 86, Average loss:1.2283, Top-1 Accuracy: 76.3100%, Top-5 Accuracy: 93.9900%, Time consumed:15.14s\n",
      "\n",
      "EarlyStopping 카운터: 8 / 30\n",
      "Epoch [87], Batch [50/196], Loss: 1.6898, LR: 0.000312\n",
      "Epoch [87], Batch [100/196], Loss: 0.7134, LR: 0.000312\n",
      "Epoch [87], Batch [150/196], Loss: 3.1636, LR: 0.000312\n",
      "Train set: Epoch: 87, Average loss:1.3287, LR: 0.000312 Top-1 Accuracy: 81.9040%, Top-5 Accuracy: 94.4500%, Time consumed:169.46s\n"
     ]
    },
    {
     "name": "stderr",
     "output_type": "stream",
     "text": [
      " 29%|█████████████████████████▌                                                              | 87/300 [4:27:42<10:53:26, 184.07s/it]"
     ]
    },
    {
     "name": "stdout",
     "output_type": "stream",
     "text": [
      "Test set: Epoch: 87, Average loss:1.2427, Top-1 Accuracy: 76.1100%, Top-5 Accuracy: 93.8500%, Time consumed:15.41s\n",
      "\n",
      "EarlyStopping 카운터: 9 / 30\n",
      "Epoch [88], Batch [50/196], Loss: 0.6445, LR: 0.000312\n",
      "Epoch [88], Batch [100/196], Loss: 1.4458, LR: 0.000312\n",
      "Epoch [88], Batch [150/196], Loss: 1.7088, LR: 0.000312\n",
      "Train set: Epoch: 88, Average loss:1.3898, LR: 0.000312 Top-1 Accuracy: 81.7180%, Top-5 Accuracy: 94.7680%, Time consumed:168.07s\n"
     ]
    },
    {
     "name": "stderr",
     "output_type": "stream",
     "text": [
      " 29%|█████████████████████████▊                                                              | 88/300 [4:30:46<10:50:02, 183.98s/it]"
     ]
    },
    {
     "name": "stdout",
     "output_type": "stream",
     "text": [
      "Test set: Epoch: 88, Average loss:1.2397, Top-1 Accuracy: 76.2500%, Top-5 Accuracy: 94.0600%, Time consumed:15.69s\n",
      "\n",
      "EarlyStopping 카운터: 10 / 30\n",
      "Epoch [89], Batch [50/196], Loss: 2.4493, LR: 0.000156\n",
      "Epoch [89], Batch [100/196], Loss: 0.7164, LR: 0.000156\n",
      "Epoch [89], Batch [150/196], Loss: 2.5911, LR: 0.000156\n",
      "Train set: Epoch: 89, Average loss:1.2389, LR: 0.000156 Top-1 Accuracy: 82.8980%, Top-5 Accuracy: 94.6140%, Time consumed:168.86s\n"
     ]
    },
    {
     "name": "stderr",
     "output_type": "stream",
     "text": [
      " 30%|██████████████████████████                                                              | 89/300 [4:33:51<10:47:21, 184.08s/it]"
     ]
    },
    {
     "name": "stdout",
     "output_type": "stream",
     "text": [
      "Test set: Epoch: 89, Average loss:1.2384, Top-1 Accuracy: 76.3800%, Top-5 Accuracy: 94.0400%, Time consumed:15.47s\n",
      "\n",
      "EarlyStopping 카운터: 11 / 30\n",
      "Epoch [90], Batch [50/196], Loss: 0.6693, LR: 0.000156\n",
      "Epoch [90], Batch [100/196], Loss: 0.6406, LR: 0.000156\n",
      "Epoch [90], Batch [150/196], Loss: 0.6897, LR: 0.000156\n",
      "Train set: Epoch: 90, Average loss:1.2821, LR: 0.000156 Top-1 Accuracy: 81.1220%, Top-5 Accuracy: 93.8920%, Time consumed:168.23s\n"
     ]
    },
    {
     "name": "stderr",
     "output_type": "stream",
     "text": [
      " 30%|██████████████████████████▍                                                             | 90/300 [4:36:54<10:43:44, 183.93s/it]"
     ]
    },
    {
     "name": "stdout",
     "output_type": "stream",
     "text": [
      "Test set: Epoch: 90, Average loss:1.2295, Top-1 Accuracy: 76.5100%, Top-5 Accuracy: 94.0300%, Time consumed:15.32s\n",
      "\n",
      "EarlyStopping 카운터: 12 / 30\n",
      "Epoch [91], Batch [50/196], Loss: 0.6456, LR: 0.000156\n",
      "Epoch [91], Batch [100/196], Loss: 0.6591, LR: 0.000156\n",
      "Epoch [91], Batch [150/196], Loss: 2.5364, LR: 0.000156\n",
      "Train set: Epoch: 91, Average loss:1.2445, LR: 0.000156 Top-1 Accuracy: 84.2680%, Top-5 Accuracy: 95.6920%, Time consumed:168.00s\n"
     ]
    },
    {
     "name": "stderr",
     "output_type": "stream",
     "text": [
      " 30%|██████████████████████████▋                                                             | 91/300 [4:39:57<10:39:59, 183.73s/it]"
     ]
    },
    {
     "name": "stdout",
     "output_type": "stream",
     "text": [
      "Test set: Epoch: 91, Average loss:1.2375, Top-1 Accuracy: 76.3000%, Top-5 Accuracy: 94.0000%, Time consumed:15.25s\n",
      "\n",
      "EarlyStopping 카운터: 13 / 30\n",
      "Epoch [92], Batch [50/196], Loss: 0.6531, LR: 0.000156\n",
      "Epoch [92], Batch [100/196], Loss: 2.7645, LR: 0.000156\n",
      "Epoch [92], Batch [150/196], Loss: 0.6904, LR: 0.000156\n",
      "Train set: Epoch: 92, Average loss:1.2801, LR: 0.000156 Top-1 Accuracy: 83.3280%, Top-5 Accuracy: 94.8740%, Time consumed:168.51s\n"
     ]
    },
    {
     "name": "stderr",
     "output_type": "stream",
     "text": [
      " 31%|██████████████████████████▉                                                             | 92/300 [4:43:02<10:37:31, 183.90s/it]"
     ]
    },
    {
     "name": "stdout",
     "output_type": "stream",
     "text": [
      "Test set: Epoch: 92, Average loss:1.2297, Top-1 Accuracy: 76.2000%, Top-5 Accuracy: 93.9800%, Time consumed:15.78s\n",
      "\n",
      "EarlyStopping 카운터: 14 / 30\n",
      "Epoch [93], Batch [50/196], Loss: 0.6677, LR: 0.000156\n",
      "Epoch [93], Batch [100/196], Loss: 0.6791, LR: 0.000156\n",
      "Epoch [93], Batch [150/196], Loss: 0.6759, LR: 0.000156\n",
      "Train set: Epoch: 93, Average loss:1.3191, LR: 0.000156 Top-1 Accuracy: 80.9180%, Top-5 Accuracy: 93.6040%, Time consumed:182.22s\n"
     ]
    },
    {
     "name": "stderr",
     "output_type": "stream",
     "text": [
      " 31%|███████████████████████████▎                                                            | 93/300 [4:46:21<10:49:59, 188.41s/it]"
     ]
    },
    {
     "name": "stdout",
     "output_type": "stream",
     "text": [
      "Test set: Epoch: 93, Average loss:1.2321, Top-1 Accuracy: 76.2500%, Top-5 Accuracy: 93.8800%, Time consumed:16.70s\n",
      "\n",
      "EarlyStopping 카운터: 15 / 30\n",
      "Epoch [94], Batch [50/196], Loss: 2.4211, LR: 0.000156\n",
      "Epoch [94], Batch [100/196], Loss: 2.5257, LR: 0.000156\n",
      "Epoch [94], Batch [150/196], Loss: 0.6649, LR: 0.000156\n",
      "Train set: Epoch: 94, Average loss:1.3858, LR: 0.000156 Top-1 Accuracy: 79.6900%, Top-5 Accuracy: 93.0820%, Time consumed:188.23s\n"
     ]
    },
    {
     "name": "stderr",
     "output_type": "stream",
     "text": [
      " 31%|███████████████████████████▌                                                            | 94/300 [4:49:45<11:03:32, 193.27s/it]"
     ]
    },
    {
     "name": "stdout",
     "output_type": "stream",
     "text": [
      "Test set: Epoch: 94, Average loss:1.2259, Top-1 Accuracy: 76.4000%, Top-5 Accuracy: 94.1400%, Time consumed:16.36s\n",
      "\n",
      "새로운 최고 top-5 정확도: 94.14%\n",
      "EarlyStopping 카운터: 16 / 30\n",
      "Epoch [95], Batch [50/196], Loss: 0.6538, LR: 0.000078\n",
      "Epoch [95], Batch [100/196], Loss: 0.6675, LR: 0.000078\n",
      "Epoch [95], Batch [150/196], Loss: 2.6592, LR: 0.000078\n",
      "Train set: Epoch: 95, Average loss:1.4068, LR: 0.000078 Top-1 Accuracy: 81.0460%, Top-5 Accuracy: 94.0800%, Time consumed:187.29s\n"
     ]
    },
    {
     "name": "stderr",
     "output_type": "stream",
     "text": [
      " 32%|███████████████████████████▊                                                            | 95/300 [4:53:10<11:11:46, 196.62s/it]"
     ]
    },
    {
     "name": "stdout",
     "output_type": "stream",
     "text": [
      "Test set: Epoch: 95, Average loss:1.2723, Top-1 Accuracy: 75.7200%, Top-5 Accuracy: 93.8100%, Time consumed:17.14s\n",
      "\n",
      "EarlyStopping 카운터: 17 / 30\n",
      "Epoch [96], Batch [50/196], Loss: 0.6460, LR: 0.000078\n",
      "Epoch [96], Batch [100/196], Loss: 1.8605, LR: 0.000078\n",
      "Epoch [96], Batch [150/196], Loss: 0.6592, LR: 0.000078\n",
      "Train set: Epoch: 96, Average loss:1.3408, LR: 0.000078 Top-1 Accuracy: 80.7380%, Top-5 Accuracy: 93.6500%, Time consumed:186.84s\n"
     ]
    },
    {
     "name": "stderr",
     "output_type": "stream",
     "text": [
      " 32%|████████████████████████████▏                                                           | 96/300 [4:56:33<11:15:26, 198.66s/it]"
     ]
    },
    {
     "name": "stdout",
     "output_type": "stream",
     "text": [
      "Test set: Epoch: 96, Average loss:1.2383, Top-1 Accuracy: 76.3100%, Top-5 Accuracy: 93.9800%, Time consumed:16.57s\n",
      "\n",
      "EarlyStopping 카운터: 18 / 30\n",
      "Epoch [97], Batch [50/196], Loss: 3.0228, LR: 0.000078\n",
      "Epoch [97], Batch [100/196], Loss: 0.5672, LR: 0.000078\n",
      "Epoch [97], Batch [150/196], Loss: 0.6690, LR: 0.000078\n",
      "Train set: Epoch: 97, Average loss:1.3814, LR: 0.000078 Top-1 Accuracy: 79.8820%, Top-5 Accuracy: 93.2940%, Time consumed:186.86s\n"
     ]
    },
    {
     "name": "stderr",
     "output_type": "stream",
     "text": [
      " 32%|████████████████████████████▍                                                           | 97/300 [4:59:56<11:16:44, 200.02s/it]"
     ]
    },
    {
     "name": "stdout",
     "output_type": "stream",
     "text": [
      "Test set: Epoch: 97, Average loss:1.2353, Top-1 Accuracy: 76.2200%, Top-5 Accuracy: 93.9400%, Time consumed:16.33s\n",
      "\n",
      "EarlyStopping 카운터: 19 / 30\n",
      "Epoch [98], Batch [50/196], Loss: 1.0674, LR: 0.000078\n",
      "Epoch [98], Batch [100/196], Loss: 0.6660, LR: 0.000078\n",
      "Epoch [98], Batch [150/196], Loss: 1.4726, LR: 0.000078\n",
      "Train set: Epoch: 98, Average loss:1.3024, LR: 0.000078 Top-1 Accuracy: 81.4240%, Top-5 Accuracy: 94.1960%, Time consumed:186.35s\n"
     ]
    },
    {
     "name": "stderr",
     "output_type": "stream",
     "text": [
      " 33%|████████████████████████████▋                                                           | 98/300 [5:03:20<11:16:57, 201.08s/it]"
     ]
    },
    {
     "name": "stdout",
     "output_type": "stream",
     "text": [
      "Test set: Epoch: 98, Average loss:1.2411, Top-1 Accuracy: 76.1700%, Top-5 Accuracy: 93.9300%, Time consumed:17.19s\n",
      "\n",
      "EarlyStopping 카운터: 20 / 30\n",
      "Epoch [99], Batch [50/196], Loss: 1.0155, LR: 0.000078\n",
      "Epoch [99], Batch [100/196], Loss: 0.6740, LR: 0.000078\n",
      "Epoch [99], Batch [150/196], Loss: 2.4482, LR: 0.000078\n"
     ]
    }
   ],
   "source": [
    "import torch\n",
    "import torch.nn as nn\n",
    "import torch.optim as optim\n",
    "from torch.utils.data import DataLoader\n",
    "import torchvision\n",
    "import torchvision.transforms as transforms\n",
    "import torchvision.transforms.v2 as transforms_v2  # CutMix를 위한 v2 transforms 추가\n",
    "import sys\n",
    "import os\n",
    "import time\n",
    "import random\n",
    "import numpy as np\n",
    "import wandb\n",
    "from tqdm import tqdm\n",
    "from tools.tool import AccuracyEarlyStopping, WarmUpLR, SAM  # 수정된 AccuracyEarlyStopping 클래스 임포트\n",
    "from models.resnet import resnet18\n",
    "\n",
    "wandb.login(key=\"ef091b9abcea3186341ddf8995d62bde62d7469e\")\n",
    "wandb.init(project=\"PBL-2\", name=\"resnet18_cfc,lr=0.01,factor=0.5,smoothing=0.05,SGD_standard\")  \n",
    "torch.backends.cudnn.benchmark = True\n",
    "\n",
    "# WandB 설정\n",
    "config = {\n",
    "    \"model\": \"resnet18\",\n",
    "    \"batch_size\": 256,\n",
    "    \"num_epochs\": 300,\n",
    "    \"learning_rate\": 0.01,\n",
    "    \"optimizer\": \"SGD\",\n",
    "    \"seed\": 2025,\n",
    "    \"deterministic\": False,\n",
    "    \"patience\": 30,  # early stopping patience\n",
    "    \"max_epochs_wait\": float('inf'),  # 최대 30 에폭까지만 기다림\n",
    "    \"cutmix_alpha\": 1.0,  # CutMix 알파 파라미터 추가\n",
    "    \"cutmix_prob\": 0.5,   # CutMix 적용 확률 추가\n",
    "    \"crop_padding\": 4,    # RandomCrop 패딩 크기\n",
    "    \"crop_size\": 32,      # RandomCrop 크기 (CIFAR-100 이미지 크기는 32x32)\n",
    "    \"warmup_epochs\": 5,   # 웜업할 에폭 수 추가\n",
    "}\n",
    "wandb.config.update(config)\n",
    "\n",
    "# CIFAR-100 데이터셋 로드 - 기본 train/test 분할 사용\n",
    "transform_train = transforms.Compose([\n",
    "    transforms.RandomCrop(config[\"crop_size\"], padding=config[\"crop_padding\"]),  # 패딩 후 랜덤 크롭\n",
    "    transforms.RandomHorizontalFlip(),  # 수평 뒤집기\n",
    "    transforms.ToTensor(),\n",
    "    transforms.Normalize((0.5071, 0.4867, 0.4408), (0.2675, 0.2565, 0.2761)),\n",
    "])\n",
    "\n",
    "transform_test = transforms.Compose([\n",
    "    transforms.ToTensor(),\n",
    "    transforms.Normalize((0.5071, 0.4867, 0.4408), (0.2675, 0.2565, 0.2761)),\n",
    "])\n",
    "\n",
    "trainset = torchvision.datasets.CIFAR100(\n",
    "    root='./data', train=True, download=True, transform=transform_train)\n",
    "\n",
    "testset = torchvision.datasets.CIFAR100(\n",
    "    root='./data', train=False, download=True, transform=transform_test)\n",
    "\n",
    "# DataLoader 생성\n",
    "trainloader = DataLoader(trainset, batch_size=config[\"batch_size\"], shuffle=True, num_workers=16,pin_memory=True)\n",
    "testloader = DataLoader(testset, batch_size=config[\"batch_size\"], shuffle=False, num_workers=16,pin_memory=True)\n",
    "\n",
    "print(f\"Train set size: {len(trainset)}\")\n",
    "print(f\"Test set size: {len(testset)}\")\n",
    "\n",
    "# CutMix 변환 정의\n",
    "cutmix = transforms_v2.CutMix(alpha=config[\"cutmix_alpha\"], num_classes=100)  # CIFAR-100은 100개 클래스\n",
    "\n",
    "def train(model, trainloader, criterion, optimizer, device, epoch, warmup_scheduler=None, warmup_epochs=5):\n",
    "    \"\"\"\n",
    "    학습 함수 (CutMix 적용)\n",
    "    \"\"\"\n",
    "    model.train()   # 모델을 학습 모드로 설정\n",
    "    start_time = time.time()  # 시간 측정 시작\n",
    "    running_loss = 0.0\n",
    "    correct_top1 = 0\n",
    "    correct_top5 = 0\n",
    "    total = 0\n",
    "    \n",
    "    for i, (inputs, labels) in enumerate(trainloader):\n",
    "        inputs, labels = inputs.to(device), labels.to(device)\n",
    "        \n",
    "        # CutMix 확률적 적용\n",
    "        if random.random() < config[\"cutmix_prob\"]:\n",
    "            inputs, labels = cutmix(inputs, labels)\n",
    "            # 이 경우 labels은 원-핫 인코딩 형태로 변환됨\n",
    "            use_cutmix = True\n",
    "        else:\n",
    "            use_cutmix = False\n",
    "        \n",
    "        optimizer.zero_grad()\n",
    "        outputs = model(inputs)\n",
    "        \n",
    "        # CutMix 적용 여부에 따라 손실 함수 선택\n",
    "        if use_cutmix:\n",
    "            # CutMix가 적용된 경우 (원-핫 인코딩된 레이블)\n",
    "            loss = torch.nn.functional.cross_entropy(outputs, labels)\n",
    "        else:\n",
    "            # 일반적인 경우 (정수 인덱스 레이블)\n",
    "            loss = criterion(outputs, labels)\n",
    "            \n",
    "        loss.backward()\n",
    "        optimizer.first_step(zero_grad=True)\n",
    "\n",
    "\n",
    "        \n",
    "        # 두 번째 forward-backward 패스\n",
    "        if use_cutmix:\n",
    "            # 새로운 forward 패스 필요\n",
    "            outputs = model(inputs)\n",
    "            loss = torch.nn.functional.cross_entropy(outputs, labels)\n",
    "        else:\n",
    "            # 새로운 forward 패스 필요\n",
    "            outputs = model(inputs)\n",
    "            loss = criterion(outputs, labels)\n",
    "        \n",
    "        loss.backward()\n",
    "        optimizer.second_step(zero_grad=True)\n",
    "\n",
    "        # 학습률 스케줄러 업데이트 - warmup 스케줄러만 여기서 업데이트\n",
    "        if epoch < warmup_epochs and warmup_scheduler is not None:\n",
    "            warmup_scheduler.step()\n",
    "        \n",
    "        running_loss += loss.item()\n",
    "\n",
    "        # 정확도 계산 - CutMix 적용 여부에 따라 다르게 처리\n",
    "        if use_cutmix:\n",
    "            # 원-핫 인코딩된 레이블에서 argmax를 사용해 가장 큰 값의 인덱스 추출\n",
    "            _, label_idx = labels.max(1)\n",
    "        else:\n",
    "            # 정수 인덱스 레이블 그대로 사용\n",
    "            label_idx = labels\n",
    "        \n",
    "    \n",
    "        # top-1 정확도 계산\n",
    "        _, predicted = outputs.max(1)\n",
    "        total += inputs.size(0)\n",
    "        correct_top1 += predicted.eq(label_idx).sum().item()\n",
    "        \n",
    "        # top-5 정확도 계산\n",
    "        _, top5_idx = outputs.topk(5, 1, largest=True, sorted=True)\n",
    "        correct_top5 += sum([1 for i in range(len(label_idx)) if label_idx[i] in top5_idx[i]])\n",
    "        \n",
    "        if (i + 1) % 50 == 0:  # 50 배치마다 출력\n",
    "            print(f'Epoch [{epoch+1}], Batch [{i+1}/{len(trainloader)}], Loss: {loss.item():.4f}, LR: {optimizer.param_groups[0][\"lr\"]:.6f}')\n",
    "    \n",
    "    epoch_loss = running_loss / len(trainloader)\n",
    "    accuracy_top1 = 100.0 * correct_top1 / total\n",
    "    accuracy_top5 = 100.0 * correct_top5 / total\n",
    "    \n",
    "    train_time = time.time() - start_time\n",
    "    \n",
    "    # 학습 세트에 대한 성능 출력\n",
    "    print(f'Train set: Epoch: {epoch+1}, Average loss:{epoch_loss:.4f}, LR: {optimizer.param_groups[0][\"lr\"]:.6f} '\n",
    "          f'Top-1 Accuracy: {accuracy_top1:.4f}%, Top-5 Accuracy: {accuracy_top5:.4f}%, Time consumed:{train_time:.2f}s')\n",
    "    \n",
    "    return epoch_loss, accuracy_top1, accuracy_top5\n",
    "\n",
    "def evaluate(model, dataloader, criterion, device, epoch, phase=\"test\"):\n",
    "    \"\"\"\n",
    "    평가 함수\n",
    "    \"\"\"\n",
    "    model.eval()  # 모델을 평가 모드로 설정\n",
    "    start_time = time.time()  # 시간 측정 시작\n",
    "    \n",
    "    eval_loss = 0.0\n",
    "    correct_top1 = 0\n",
    "    correct_top5 = 0\n",
    "    total = 0\n",
    "    \n",
    "    # 그래디언트 계산 비활성화\n",
    "    with torch.no_grad():\n",
    "        for inputs, labels in dataloader:\n",
    "            inputs, labels = inputs.to(device), labels.to(device)\n",
    "            \n",
    "            # 순전파\n",
    "            outputs = model(inputs)\n",
    "            \n",
    "            # 손실 계산\n",
    "            loss = criterion(outputs, labels)\n",
    "            eval_loss += loss.item()\n",
    "            \n",
    "            # top-1 정확도 계산\n",
    "            _, predicted = outputs.max(1)\n",
    "            total += labels.size(0)\n",
    "            correct_top1 += (predicted == labels).sum().item()\n",
    "            \n",
    "            # top-5 정확도 계산\n",
    "            _, top5_idx = outputs.topk(5, 1, largest=True, sorted=True)\n",
    "            correct_top5 += top5_idx.eq(labels.view(-1, 1).expand_as(top5_idx)).sum().item()\n",
    "    \n",
    "    # 평균 손실 및 정확도 계산\n",
    "    eval_loss = eval_loss / len(dataloader)\n",
    "    accuracy_top1 = 100.0 * correct_top1 / total\n",
    "    accuracy_top5 = 100.0 * correct_top5 / total\n",
    "    \n",
    "    # 평가 시간 계산\n",
    "    eval_time = time.time() - start_time\n",
    "    \n",
    "    # 테스트 세트에 대한 성능 출력\n",
    "    print(f'{phase.capitalize()} set: Epoch: {epoch+1}, Average loss:{eval_loss:.4f}, '\n",
    "          f'Top-1 Accuracy: {accuracy_top1:.4f}%, Top-5 Accuracy: {accuracy_top5:.4f}%, Time consumed:{eval_time:.2f}s')\n",
    "    print()\n",
    "    \n",
    "    return eval_loss, accuracy_top1, accuracy_top5\n",
    "\n",
    "# 메인 학습 루프\n",
    "def main_training_loop(model, trainloader, testloader, criterion, optimizer, device, num_epochs, patience, max_epochs_wait, warmup_scheduler=None, main_scheduler=None, warmup_epochs=5):\n",
    "    \"\"\"\n",
    "    메인 학습 루프 (accuracy 기준 early stopping)\n",
    "    \"\"\"\n",
    "    # 정확도 기반 얼리 스토핑 사용\n",
    "    early_stopping = AccuracyEarlyStopping(patience=patience, verbose=True, path='checkpoint.pt', max_epochs=max_epochs_wait)\n",
    "    \n",
    "    best_test_acc_top1 = 0.0\n",
    "    best_test_acc_top5 = 0.0\n",
    "    \n",
    "    # 테스트 정확도 기록을 위한 리스트\n",
    "    test_acc_top1_history = []\n",
    "    \n",
    "    # tqdm을 사용한 진행 상황 표시\n",
    "    for epoch in tqdm(range(num_epochs)):\n",
    "        # 학습\n",
    "        train_loss, train_acc_top1, train_acc_top5 = train(\n",
    "            model, \n",
    "            trainloader, \n",
    "            criterion, \n",
    "            optimizer, \n",
    "            device, \n",
    "            epoch, \n",
    "            warmup_scheduler, \n",
    "            warmup_epochs\n",
    "        )\n",
    "        \n",
    "        # 테스트 데이터로 평가\n",
    "        test_loss, test_acc_top1, test_acc_top5 = evaluate(model, testloader, criterion, device, epoch, phase=\"test\")\n",
    "\n",
    "        # 웜업 이후 ReduceLROnPlateau 스케줄러 업데이트 \n",
    "        if epoch >= warmup_epochs and main_scheduler is not None:\n",
    "            main_scheduler.step(test_acc_top1)  # 테스트 정확도에 따라 학습률 업데이트       \n",
    "            \n",
    "        # 테스트 정확도 기록\n",
    "        test_acc_top1_history.append(test_acc_top1)\n",
    "        \n",
    "        # WandB에 로깅\n",
    "        wandb.log({\n",
    "            \"epoch\": epoch + 1,\n",
    "            \"learning_rate\": optimizer.param_groups[0]['lr'],\n",
    "            \"train_loss\": train_loss,\n",
    "            \"train_accuracy_top1\": train_acc_top1,\n",
    "            \"train_accuracy_top5\": train_acc_top5,\n",
    "            \"test_loss\": test_loss,\n",
    "            \"test_accuracy_top1\": test_acc_top1,\n",
    "            \"test_accuracy_top5\": test_acc_top5\n",
    "        })\n",
    "            \n",
    "        # 최고 정확도 모델 저장 (top-1 기준)\n",
    "        if test_acc_top1 > best_test_acc_top1:\n",
    "            best_test_acc_top1 = test_acc_top1\n",
    "            best_test_acc_top5_at_best_top1 = test_acc_top5\n",
    "            print(f'새로운 최고 top-1 정확도: {best_test_acc_top1:.2f}%, top-5 정확도: {best_test_acc_top5_at_best_top1:.2f}%')\n",
    "            # 모델 저장\n",
    "            model_path = f'best_model_{wandb.run.name}.pth'\n",
    "            torch.save(model.state_dict(), model_path)\n",
    "            \n",
    "            # WandB에 모델 아티팩트 저장\n",
    "            wandb.save(model_path)\n",
    "        \n",
    "        # top-5 accuracy 기록 업데이트\n",
    "        if test_acc_top5 > best_test_acc_top5:\n",
    "            best_test_acc_top5 = test_acc_top5\n",
    "            print(f'새로운 최고 top-5 정확도: {best_test_acc_top5:.2f}%')\n",
    "\n",
    "        # Early stopping 체크 (test_acc_top1 기준)\n",
    "        early_stopping(test_acc_top1, model, epoch)\n",
    "        if early_stopping.early_stop:\n",
    "            print(f\"에폭 {epoch+1}에서 학습 조기 종료. 최고 성능 에폭: {early_stopping.best_epoch+1}\")\n",
    "            break\n",
    "    \n",
    "    # 훈련 완료 후 최고 모델 로드\n",
    "    print(\"테스트 정확도 기준 최고 모델 로드 중...\")\n",
    "    model_path = f'best_model_{wandb.run.name}.pth'\n",
    "    model.load_state_dict(torch.load(model_path))\n",
    "\n",
    "    # 최종 테스트 세트 평가\n",
    "    final_test_loss, final_test_acc_top1, final_test_acc_top5 = evaluate(model, testloader, criterion, device, num_epochs-1, phase=\"test\")\n",
    "    \n",
    "    print(f'완료! 최고 테스트 top-1 정확도: {best_test_acc_top1:.2f}%, 최고 테스트 top-5 정확도: {best_test_acc_top5:.2f}%')\n",
    "    print(f'최종 테스트 top-1 정확도: {final_test_acc_top1:.2f}%, 최종 테스트 top-5 정확도: {final_test_acc_top5:.2f}%')\n",
    "    \n",
    "    # WandB에 최종 결과 기록\n",
    "    wandb.run.summary[\"best_test_accuracy_top1\"] = best_test_acc_top1\n",
    "    wandb.run.summary[\"best_test_accuracy_top5\"] = best_test_acc_top5\n",
    "    wandb.run.summary[\"final_test_accuracy_top1\"] = final_test_acc_top1\n",
    "    wandb.run.summary[\"final_test_accuracy_top5\"] = final_test_acc_top5\n",
    "\n",
    "    # Early stopping 정보 저장\n",
    "    if early_stopping.early_stop:\n",
    "        wandb.run.summary[\"early_stopped\"] = True\n",
    "        wandb.run.summary[\"early_stopped_epoch\"] = epoch+1\n",
    "        wandb.run.summary[\"best_epoch\"] = early_stopping.best_epoch+1\n",
    "    else:\n",
    "        wandb.run.summary[\"early_stopped\"] = False\n",
    "\n",
    "\n",
    "# 디바이스 설정\n",
    "device = torch.device(\"cuda\" if torch.cuda.is_available() else \"cpu\")\n",
    "print(f\"Using device: {device}\")\n",
    "\n",
    "# 모델 초기화\n",
    "# 또는 매개변수 커스터마이징\n",
    "model = resnet18().to(device)\n",
    "criterion = nn.CrossEntropyLoss(label_smoothing=0.05)  # 기본 CrossEntropyLoss 사용 (라벨 스무딩 없음)\n",
    "base_optimizer = optim.SGD\n",
    "optimizer = SAM(model.parameters(), base_optimizer, lr=config[\"learning_rate\"], momentum=0.9, weight_decay=5e-4)\n",
    "\n",
    "# WarmUpLR 스케줄러 초기화\n",
    "# 웜업할 총 iteration 수 계산 (웜업 에폭 × 배치 수)\n",
    "warmup_steps = config[\"warmup_epochs\"] * len(trainloader)\n",
    "warmup_scheduler = WarmUpLR(optimizer, total_iters=warmup_steps)\n",
    "\n",
    "# 웜업 이후 사용할 스케줄러 설정 \n",
    "main_scheduler = torch.optim.lr_scheduler.ReduceLROnPlateau(\n",
    "    optimizer, \n",
    "    mode='max',           # 정확도를 모니터링하므로 'max' 모드 사용\n",
    "    factor=0.5,           # 학습률 감소 비율 (5배 감소)\n",
    "    patience=5,           # 몇 에폭 동안 개선이 없을 때 감소시킬지\n",
    "    verbose=True,         # 학습률 변경 시 출력\n",
    "    threshold=0.01,        # 개선으로 간주할 최소 변화량\n",
    "    min_lr=1e-6\n",
    ")\n",
    "\n",
    "# WandB에 모델 구조 기록\n",
    "wandb.watch(model, log=\"all\")\n",
    "\n",
    "# GPU 가속\n",
    "if torch.cuda.device_count() > 1:\n",
    "    print(f\"{torch.cuda.device_count()}개의 GPU를 사용합니다.\")\n",
    "    model = nn.DataParallel(model)\n",
    "\n",
    "# 훈련 시작 시간 기록\n",
    "start_time = time.time()\n",
    "\n",
    "# 메인 학습 루프 호출\n",
    "main_training_loop(\n",
    "    model=model,\n",
    "    trainloader=trainloader,\n",
    "    testloader=testloader,\n",
    "    criterion=criterion,\n",
    "    optimizer=optimizer,\n",
    "    device=device,\n",
    "    num_epochs=config[\"num_epochs\"],\n",
    "    patience=config[\"patience\"],\n",
    "    max_epochs_wait=config[\"max_epochs_wait\"],\n",
    "    warmup_scheduler=warmup_scheduler,\n",
    "    main_scheduler=main_scheduler,\n",
    "    warmup_epochs=config[\"warmup_epochs\"]\n",
    ")\n",
    "\n",
    "# 훈련 종료 시간 기록 및 출력\n",
    "end_time = time.time()\n",
    "total_time = end_time - start_time\n",
    "wandb.log({\"total_training_time\": total_time})\n",
    "\n",
    "print(f\"전체 학습 시간: {total_time:.2f} 초\")\n",
    "\n",
    "# WandB 실행 종료\n",
    "wandb.finish()"
   ]
  },
  {
   "cell_type": "code",
   "execution_count": null,
   "id": "815d90ff-2ed0-46e9-81aa-685289e8c626",
   "metadata": {},
   "outputs": [],
   "source": []
  }
 ],
 "metadata": {
  "kernelspec": {
   "display_name": "Python 3 (ipykernel)",
   "language": "python",
   "name": "python3"
  },
  "language_info": {
   "codemirror_mode": {
    "name": "ipython",
    "version": 3
   },
   "file_extension": ".py",
   "mimetype": "text/x-python",
   "name": "python",
   "nbconvert_exporter": "python",
   "pygments_lexer": "ipython3",
   "version": "3.11.9"
  }
 },
 "nbformat": 4,
 "nbformat_minor": 5
}
