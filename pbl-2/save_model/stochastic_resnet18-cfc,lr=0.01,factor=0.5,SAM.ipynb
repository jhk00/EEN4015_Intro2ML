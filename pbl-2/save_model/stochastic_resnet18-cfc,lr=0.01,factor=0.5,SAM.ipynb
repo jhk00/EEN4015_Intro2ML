{
 "cells": [
  {
   "cell_type": "code",
   "execution_count": 1,
   "id": "516f9d5f-6361-4b03-98ee-e1ba4de86b92",
   "metadata": {
    "scrolled": true
   },
   "outputs": [
    {
     "name": "stderr",
     "output_type": "stream",
     "text": [
      "\u001b[34m\u001b[1mwandb\u001b[0m: Using wandb-core as the SDK backend.  Please refer to https://wandb.me/wandb-core for more information.\n",
      "\u001b[34m\u001b[1mwandb\u001b[0m: \u001b[33mWARNING\u001b[0m If you're specifying your api key in code, ensure this code is not shared publicly.\n",
      "\u001b[34m\u001b[1mwandb\u001b[0m: \u001b[33mWARNING\u001b[0m Consider setting the WANDB_API_KEY environment variable, or running `wandb login` from the command line.\n",
      "\u001b[34m\u001b[1mwandb\u001b[0m: Appending key for api.wandb.ai to your netrc file: /home/guswls/.netrc\n",
      "\u001b[34m\u001b[1mwandb\u001b[0m: Currently logged in as: \u001b[33msokjh1310\u001b[0m (\u001b[33msokjh1310-hanyang-university\u001b[0m) to \u001b[32mhttps://api.wandb.ai\u001b[0m. Use \u001b[1m`wandb login --relogin`\u001b[0m to force relogin\n"
     ]
    },
    {
     "data": {
      "text/html": [
       "Tracking run with wandb version 0.19.9"
      ],
      "text/plain": [
       "<IPython.core.display.HTML object>"
      ]
     },
     "metadata": {},
     "output_type": "display_data"
    },
    {
     "data": {
      "text/html": [
       "Run data is saved locally in <code>/home/guswls/EEN4015_Intro2ML/pbl-2/wandb/run-20250422_151021-v2ucjsr0</code>"
      ],
      "text/plain": [
       "<IPython.core.display.HTML object>"
      ]
     },
     "metadata": {},
     "output_type": "display_data"
    },
    {
     "data": {
      "text/html": [
       "Syncing run <strong><a href='https://wandb.ai/sokjh1310-hanyang-university/PBL-2/runs/v2ucjsr0' target=\"_blank\">stochastic_resnet18_cfc,lr=0.01,factor=0.5,SAM_SGD</a></strong> to <a href='https://wandb.ai/sokjh1310-hanyang-university/PBL-2' target=\"_blank\">Weights & Biases</a> (<a href='https://wandb.me/developer-guide' target=\"_blank\">docs</a>)<br>"
      ],
      "text/plain": [
       "<IPython.core.display.HTML object>"
      ]
     },
     "metadata": {},
     "output_type": "display_data"
    },
    {
     "data": {
      "text/html": [
       " View project at <a href='https://wandb.ai/sokjh1310-hanyang-university/PBL-2' target=\"_blank\">https://wandb.ai/sokjh1310-hanyang-university/PBL-2</a>"
      ],
      "text/plain": [
       "<IPython.core.display.HTML object>"
      ]
     },
     "metadata": {},
     "output_type": "display_data"
    },
    {
     "data": {
      "text/html": [
       " View run at <a href='https://wandb.ai/sokjh1310-hanyang-university/PBL-2/runs/v2ucjsr0' target=\"_blank\">https://wandb.ai/sokjh1310-hanyang-university/PBL-2/runs/v2ucjsr0</a>"
      ],
      "text/plain": [
       "<IPython.core.display.HTML object>"
      ]
     },
     "metadata": {},
     "output_type": "display_data"
    },
    {
     "name": "stdout",
     "output_type": "stream",
     "text": [
      "Files already downloaded and verified\n",
      "Files already downloaded and verified\n",
      "Train set size: 50000\n",
      "Test set size: 10000\n",
      "Using device: cuda\n"
     ]
    },
    {
     "name": "stderr",
     "output_type": "stream",
     "text": [
      "/usr/local/lib/python3.11/dist-packages/torch/optim/lr_scheduler.py:28: UserWarning: The verbose parameter is deprecated. Please use get_last_lr() to access the learning rate.\n",
      "  warnings.warn(\"The verbose parameter is deprecated. Please use get_last_lr() \"\n"
     ]
    },
    {
     "name": "stdout",
     "output_type": "stream",
     "text": [
      "2개의 GPU를 사용합니다.\n"
     ]
    },
    {
     "name": "stderr",
     "output_type": "stream",
     "text": [
      "  0%|                                                                                                       | 0/300 [00:00<?, ?it/s]/usr/local/lib/python3.11/dist-packages/torch/optim/lr_scheduler.py:143: UserWarning: Detected call of `lr_scheduler.step()` before `optimizer.step()`. In PyTorch 1.1.0 and later, you should call them in the opposite order: `optimizer.step()` before `lr_scheduler.step()`.  Failure to do this will result in PyTorch skipping the first value of the learning rate schedule. See more details at https://pytorch.org/docs/stable/optim.html#how-to-adjust-learning-rate\n",
      "  warnings.warn(\"Detected call of `lr_scheduler.step()` before `optimizer.step()`. \"\n"
     ]
    },
    {
     "name": "stdout",
     "output_type": "stream",
     "text": [
      "Epoch [1], Batch [50/196], Loss: 4.6578, LR: 0.000510\n",
      "Epoch [1], Batch [100/196], Loss: 4.3872, LR: 0.001020\n",
      "Epoch [1], Batch [150/196], Loss: 4.2988, LR: 0.001531\n",
      "Train set: Epoch: 1, Average loss:4.4752, LR: 0.002000 Top-1 Accuracy: 3.3240%, Top-5 Accuracy: 12.5180%, Time consumed:182.32s\n",
      "Test set: Epoch: 1, Average loss:3.9533, Top-1 Accuracy: 10.0100%, Top-5 Accuracy: 29.8300%, Time consumed:17.25s\n",
      "\n",
      "새로운 최고 top-1 정확도: 10.01%, top-5 정확도: 29.83%\n",
      "새로운 최고 top-5 정확도: 29.83%\n",
      "Accuracy improved (-inf% --> 10.01%). Saving model ...\n"
     ]
    },
    {
     "name": "stderr",
     "output_type": "stream",
     "text": [
      "  0%|▎                                                                                          | 1/300 [03:19<16:35:40, 199.80s/it]"
     ]
    },
    {
     "name": "stdout",
     "output_type": "stream",
     "text": [
      "Epoch [2], Batch [50/196], Loss: 4.1165, LR: 0.002510\n",
      "Epoch [2], Batch [100/196], Loss: 4.4600, LR: 0.003020\n",
      "Epoch [2], Batch [150/196], Loss: 3.9366, LR: 0.003531\n",
      "Train set: Epoch: 2, Average loss:4.1239, LR: 0.004000 Top-1 Accuracy: 8.2840%, Top-5 Accuracy: 26.6900%, Time consumed:180.09s\n",
      "Test set: Epoch: 2, Average loss:3.8178, Top-1 Accuracy: 12.1100%, Top-5 Accuracy: 34.4000%, Time consumed:17.05s\n",
      "\n",
      "새로운 최고 top-1 정확도: 12.11%, top-5 정확도: 34.40%\n",
      "새로운 최고 top-5 정확도: 34.40%\n",
      "Accuracy improved (10.01% --> 12.11%). Saving model ...\n"
     ]
    },
    {
     "name": "stderr",
     "output_type": "stream",
     "text": [
      "  1%|▌                                                                                          | 2/300 [06:37<16:25:19, 198.39s/it]"
     ]
    },
    {
     "name": "stdout",
     "output_type": "stream",
     "text": [
      "Epoch [3], Batch [50/196], Loss: 4.1526, LR: 0.004510\n",
      "Epoch [3], Batch [100/196], Loss: 3.8936, LR: 0.005020\n",
      "Epoch [3], Batch [150/196], Loss: 4.0057, LR: 0.005531\n",
      "Train set: Epoch: 3, Average loss:3.9410, LR: 0.006000 Top-1 Accuracy: 11.1480%, Top-5 Accuracy: 33.2260%, Time consumed:176.42s\n",
      "Test set: Epoch: 3, Average loss:3.4324, Top-1 Accuracy: 18.6700%, Top-5 Accuracy: 44.5800%, Time consumed:17.85s\n",
      "\n",
      "새로운 최고 top-1 정확도: 18.67%, top-5 정확도: 44.58%\n",
      "새로운 최고 top-5 정확도: 44.58%\n",
      "Accuracy improved (12.11% --> 18.67%). Saving model ...\n"
     ]
    },
    {
     "name": "stderr",
     "output_type": "stream",
     "text": [
      "  1%|▉                                                                                          | 3/300 [09:51<16:13:17, 196.62s/it]"
     ]
    },
    {
     "name": "stdout",
     "output_type": "stream",
     "text": [
      "Epoch [4], Batch [50/196], Loss: 3.9123, LR: 0.006510\n",
      "Epoch [4], Batch [100/196], Loss: 3.7910, LR: 0.007020\n",
      "Epoch [4], Batch [150/196], Loss: 4.2525, LR: 0.007531\n",
      "Train set: Epoch: 4, Average loss:3.7854, LR: 0.008000 Top-1 Accuracy: 13.8860%, Top-5 Accuracy: 38.2380%, Time consumed:185.88s\n",
      "Test set: Epoch: 4, Average loss:3.2292, Top-1 Accuracy: 22.6900%, Top-5 Accuracy: 50.5100%, Time consumed:17.08s\n",
      "\n",
      "새로운 최고 top-1 정확도: 22.69%, top-5 정확도: 50.51%\n",
      "새로운 최고 top-5 정확도: 50.51%\n",
      "Accuracy improved (18.67% --> 22.69%). Saving model ...\n"
     ]
    },
    {
     "name": "stderr",
     "output_type": "stream",
     "text": [
      "  1%|█▏                                                                                         | 4/300 [13:14<16:22:50, 199.23s/it]"
     ]
    },
    {
     "name": "stdout",
     "output_type": "stream",
     "text": [
      "Epoch [5], Batch [50/196], Loss: 3.3668, LR: 0.008510\n",
      "Epoch [5], Batch [100/196], Loss: 3.3272, LR: 0.009020\n",
      "Epoch [5], Batch [150/196], Loss: 3.2930, LR: 0.009531\n",
      "Train set: Epoch: 5, Average loss:3.6013, LR: 0.010000 Top-1 Accuracy: 17.1840%, Top-5 Accuracy: 43.6880%, Time consumed:180.53s\n",
      "Test set: Epoch: 5, Average loss:3.0643, Top-1 Accuracy: 25.0500%, Top-5 Accuracy: 55.2600%, Time consumed:17.26s\n",
      "\n",
      "새로운 최고 top-1 정확도: 25.05%, top-5 정확도: 55.26%\n",
      "새로운 최고 top-5 정확도: 55.26%\n",
      "Accuracy improved (22.69% --> 25.05%). Saving model ...\n"
     ]
    },
    {
     "name": "stderr",
     "output_type": "stream",
     "text": [
      "  2%|█▌                                                                                         | 5/300 [16:32<16:17:24, 198.79s/it]"
     ]
    },
    {
     "name": "stdout",
     "output_type": "stream",
     "text": [
      "Epoch [6], Batch [50/196], Loss: 3.8876, LR: 0.010000\n",
      "Epoch [6], Batch [100/196], Loss: 3.1486, LR: 0.010000\n",
      "Epoch [6], Batch [150/196], Loss: 4.0933, LR: 0.010000\n",
      "Train set: Epoch: 6, Average loss:3.4762, LR: 0.010000 Top-1 Accuracy: 20.0740%, Top-5 Accuracy: 47.6380%, Time consumed:179.61s\n",
      "Test set: Epoch: 6, Average loss:2.7715, Top-1 Accuracy: 30.3600%, Top-5 Accuracy: 61.4500%, Time consumed:16.62s\n",
      "\n",
      "새로운 최고 top-1 정확도: 30.36%, top-5 정확도: 61.45%\n",
      "새로운 최고 top-5 정확도: 61.45%\n",
      "Accuracy improved (25.05% --> 30.36%). Saving model ...\n"
     ]
    },
    {
     "name": "stderr",
     "output_type": "stream",
     "text": [
      "  2%|█▊                                                                                         | 6/300 [19:49<16:10:15, 198.01s/it]"
     ]
    },
    {
     "name": "stdout",
     "output_type": "stream",
     "text": [
      "Epoch [7], Batch [50/196], Loss: 3.8200, LR: 0.010000\n",
      "Epoch [7], Batch [100/196], Loss: 3.9330, LR: 0.010000\n",
      "Epoch [7], Batch [150/196], Loss: 3.1993, LR: 0.010000\n",
      "Train set: Epoch: 7, Average loss:3.3909, LR: 0.010000 Top-1 Accuracy: 22.3220%, Top-5 Accuracy: 50.5760%, Time consumed:179.35s\n",
      "Test set: Epoch: 7, Average loss:2.7190, Top-1 Accuracy: 31.7200%, Top-5 Accuracy: 62.8000%, Time consumed:16.40s\n",
      "\n",
      "새로운 최고 top-1 정확도: 31.72%, top-5 정확도: 62.80%\n",
      "새로운 최고 top-5 정확도: 62.80%\n",
      "Accuracy improved (30.36% --> 31.72%). Saving model ...\n"
     ]
    },
    {
     "name": "stderr",
     "output_type": "stream",
     "text": [
      "  2%|██                                                                                         | 7/300 [23:05<16:03:44, 197.35s/it]"
     ]
    },
    {
     "name": "stdout",
     "output_type": "stream",
     "text": [
      "Epoch [8], Batch [50/196], Loss: 2.9493, LR: 0.010000\n",
      "Epoch [8], Batch [100/196], Loss: 4.0192, LR: 0.010000\n",
      "Epoch [8], Batch [150/196], Loss: 2.7828, LR: 0.010000\n",
      "Train set: Epoch: 8, Average loss:3.2416, LR: 0.010000 Top-1 Accuracy: 24.6800%, Top-5 Accuracy: 53.5720%, Time consumed:182.54s\n",
      "Test set: Epoch: 8, Average loss:2.5687, Top-1 Accuracy: 33.4400%, Top-5 Accuracy: 66.4300%, Time consumed:17.34s\n",
      "\n",
      "새로운 최고 top-1 정확도: 33.44%, top-5 정확도: 66.43%\n",
      "새로운 최고 top-5 정확도: 66.43%\n",
      "Accuracy improved (31.72% --> 33.44%). Saving model ...\n"
     ]
    },
    {
     "name": "stderr",
     "output_type": "stream",
     "text": [
      "  3%|██▍                                                                                        | 8/300 [26:25<16:04:45, 198.24s/it]"
     ]
    },
    {
     "name": "stdout",
     "output_type": "stream",
     "text": [
      "Epoch [9], Batch [50/196], Loss: 3.8465, LR: 0.010000\n",
      "Epoch [9], Batch [100/196], Loss: 2.5497, LR: 0.010000\n",
      "Epoch [9], Batch [150/196], Loss: 2.8490, LR: 0.010000\n",
      "Train set: Epoch: 9, Average loss:3.2131, LR: 0.010000 Top-1 Accuracy: 26.2480%, Top-5 Accuracy: 55.1280%, Time consumed:182.37s\n",
      "Test set: Epoch: 9, Average loss:2.4761, Top-1 Accuracy: 37.6000%, Top-5 Accuracy: 69.7800%, Time consumed:17.32s\n",
      "\n",
      "새로운 최고 top-1 정확도: 37.60%, top-5 정확도: 69.78%\n",
      "새로운 최고 top-5 정확도: 69.78%\n",
      "Accuracy improved (33.44% --> 37.60%). Saving model ...\n"
     ]
    },
    {
     "name": "stderr",
     "output_type": "stream",
     "text": [
      "  3%|██▋                                                                                        | 9/300 [29:45<16:04:03, 198.78s/it]"
     ]
    },
    {
     "name": "stdout",
     "output_type": "stream",
     "text": [
      "Epoch [10], Batch [50/196], Loss: 3.7593, LR: 0.010000\n",
      "Epoch [10], Batch [100/196], Loss: 2.5196, LR: 0.010000\n",
      "Epoch [10], Batch [150/196], Loss: 3.4287, LR: 0.010000\n",
      "Train set: Epoch: 10, Average loss:3.0703, LR: 0.010000 Top-1 Accuracy: 28.8740%, Top-5 Accuracy: 58.7560%, Time consumed:181.08s\n",
      "Test set: Epoch: 10, Average loss:2.3845, Top-1 Accuracy: 38.2200%, Top-5 Accuracy: 69.9300%, Time consumed:18.24s\n",
      "\n",
      "새로운 최고 top-1 정확도: 38.22%, top-5 정확도: 69.93%\n",
      "새로운 최고 top-5 정확도: 69.93%\n",
      "Accuracy improved (37.60% --> 38.22%). Saving model ...\n"
     ]
    },
    {
     "name": "stderr",
     "output_type": "stream",
     "text": [
      "  3%|███                                                                                       | 10/300 [33:05<16:01:55, 199.02s/it]"
     ]
    },
    {
     "name": "stdout",
     "output_type": "stream",
     "text": [
      "Epoch [11], Batch [50/196], Loss: 3.3666, LR: 0.010000\n",
      "Epoch [11], Batch [100/196], Loss: 3.1793, LR: 0.010000\n",
      "Epoch [11], Batch [150/196], Loss: 3.5378, LR: 0.010000\n",
      "Train set: Epoch: 11, Average loss:2.9601, LR: 0.010000 Top-1 Accuracy: 30.2140%, Top-5 Accuracy: 60.6060%, Time consumed:180.06s\n",
      "Test set: Epoch: 11, Average loss:2.1942, Top-1 Accuracy: 42.5600%, Top-5 Accuracy: 74.1900%, Time consumed:17.02s\n",
      "\n",
      "새로운 최고 top-1 정확도: 42.56%, top-5 정확도: 74.19%\n",
      "새로운 최고 top-5 정확도: 74.19%\n",
      "Accuracy improved (38.22% --> 42.56%). Saving model ...\n"
     ]
    },
    {
     "name": "stderr",
     "output_type": "stream",
     "text": [
      "  4%|███▎                                                                                      | 11/300 [36:22<15:56:08, 198.51s/it]"
     ]
    },
    {
     "name": "stdout",
     "output_type": "stream",
     "text": [
      "Epoch [12], Batch [50/196], Loss: 3.6152, LR: 0.010000\n",
      "Epoch [12], Batch [100/196], Loss: 2.5527, LR: 0.010000\n",
      "Epoch [12], Batch [150/196], Loss: 2.4816, LR: 0.010000\n",
      "Train set: Epoch: 12, Average loss:2.9744, LR: 0.010000 Top-1 Accuracy: 31.4340%, Top-5 Accuracy: 62.0760%, Time consumed:177.70s\n"
     ]
    },
    {
     "name": "stderr",
     "output_type": "stream",
     "text": [
      "  4%|███▌                                                                                      | 12/300 [39:37<15:47:51, 197.47s/it]"
     ]
    },
    {
     "name": "stdout",
     "output_type": "stream",
     "text": [
      "Test set: Epoch: 12, Average loss:2.2882, Top-1 Accuracy: 41.2800%, Top-5 Accuracy: 73.2700%, Time consumed:17.39s\n",
      "\n",
      "EarlyStopping 카운터: 1 / 30\n",
      "Epoch [13], Batch [50/196], Loss: 2.9487, LR: 0.010000\n",
      "Epoch [13], Batch [100/196], Loss: 3.9358, LR: 0.010000\n",
      "Epoch [13], Batch [150/196], Loss: 3.6130, LR: 0.010000\n",
      "Train set: Epoch: 13, Average loss:2.9446, LR: 0.010000 Top-1 Accuracy: 32.3560%, Top-5 Accuracy: 62.6820%, Time consumed:184.08s\n",
      "Test set: Epoch: 13, Average loss:2.1290, Top-1 Accuracy: 44.7300%, Top-5 Accuracy: 76.5500%, Time consumed:17.89s\n",
      "\n",
      "새로운 최고 top-1 정확도: 44.73%, top-5 정확도: 76.55%\n",
      "새로운 최고 top-5 정확도: 76.55%\n",
      "Accuracy improved (42.56% --> 44.73%). Saving model ...\n"
     ]
    },
    {
     "name": "stderr",
     "output_type": "stream",
     "text": [
      "  4%|███▉                                                                                      | 13/300 [42:59<15:51:28, 198.92s/it]"
     ]
    },
    {
     "name": "stdout",
     "output_type": "stream",
     "text": [
      "Epoch [14], Batch [50/196], Loss: 3.4200, LR: 0.010000\n",
      "Epoch [14], Batch [100/196], Loss: 3.6356, LR: 0.010000\n",
      "Epoch [14], Batch [150/196], Loss: 2.9601, LR: 0.010000\n",
      "Train set: Epoch: 14, Average loss:2.7971, LR: 0.010000 Top-1 Accuracy: 34.7300%, Top-5 Accuracy: 65.4180%, Time consumed:178.60s\n",
      "Test set: Epoch: 14, Average loss:2.0189, Top-1 Accuracy: 45.6100%, Top-5 Accuracy: 76.8200%, Time consumed:17.05s\n",
      "\n",
      "새로운 최고 top-1 정확도: 45.61%, top-5 정확도: 76.82%\n",
      "새로운 최고 top-5 정확도: 76.82%\n",
      "Accuracy improved (44.73% --> 45.61%). Saving model ...\n"
     ]
    },
    {
     "name": "stderr",
     "output_type": "stream",
     "text": [
      "  5%|████▏                                                                                     | 14/300 [46:15<15:43:48, 198.00s/it]"
     ]
    },
    {
     "name": "stdout",
     "output_type": "stream",
     "text": [
      "Epoch [15], Batch [50/196], Loss: 3.7935, LR: 0.010000\n",
      "Epoch [15], Batch [100/196], Loss: 2.3624, LR: 0.010000\n",
      "Epoch [15], Batch [150/196], Loss: 3.7018, LR: 0.010000\n",
      "Train set: Epoch: 15, Average loss:2.7937, LR: 0.010000 Top-1 Accuracy: 34.9380%, Top-5 Accuracy: 65.2480%, Time consumed:178.84s\n"
     ]
    },
    {
     "name": "stderr",
     "output_type": "stream",
     "text": [
      "  5%|████▌                                                                                     | 15/300 [49:31<15:36:52, 197.24s/it]"
     ]
    },
    {
     "name": "stdout",
     "output_type": "stream",
     "text": [
      "Test set: Epoch: 15, Average loss:2.1012, Top-1 Accuracy: 44.9300%, Top-5 Accuracy: 75.8300%, Time consumed:16.62s\n",
      "\n",
      "EarlyStopping 카운터: 1 / 30\n",
      "Epoch [16], Batch [50/196], Loss: 3.2963, LR: 0.010000\n",
      "Epoch [16], Batch [100/196], Loss: 2.9088, LR: 0.010000\n",
      "Epoch [16], Batch [150/196], Loss: 3.2707, LR: 0.010000\n",
      "Train set: Epoch: 16, Average loss:2.7476, LR: 0.010000 Top-1 Accuracy: 37.0040%, Top-5 Accuracy: 67.8860%, Time consumed:180.36s\n",
      "Test set: Epoch: 16, Average loss:1.9390, Top-1 Accuracy: 48.2100%, Top-5 Accuracy: 78.9500%, Time consumed:17.01s\n",
      "\n",
      "새로운 최고 top-1 정확도: 48.21%, top-5 정확도: 78.95%\n",
      "새로운 최고 top-5 정확도: 78.95%\n",
      "Accuracy improved (45.61% --> 48.21%). Saving model ...\n"
     ]
    },
    {
     "name": "stderr",
     "output_type": "stream",
     "text": [
      "  5%|████▊                                                                                     | 16/300 [52:48<15:34:07, 197.35s/it]"
     ]
    },
    {
     "name": "stdout",
     "output_type": "stream",
     "text": [
      "Epoch [17], Batch [50/196], Loss: 3.4370, LR: 0.010000\n",
      "Epoch [17], Batch [100/196], Loss: 3.5114, LR: 0.010000\n",
      "Epoch [17], Batch [150/196], Loss: 2.3964, LR: 0.010000\n",
      "Train set: Epoch: 17, Average loss:2.6901, LR: 0.010000 Top-1 Accuracy: 37.3440%, Top-5 Accuracy: 68.0180%, Time consumed:180.11s\n",
      "Test set: Epoch: 17, Average loss:1.9062, Top-1 Accuracy: 49.3200%, Top-5 Accuracy: 79.7600%, Time consumed:16.95s\n",
      "\n",
      "새로운 최고 top-1 정확도: 49.32%, top-5 정확도: 79.76%\n",
      "새로운 최고 top-5 정확도: 79.76%\n",
      "Accuracy improved (48.21% --> 49.32%). Saving model ...\n"
     ]
    },
    {
     "name": "stderr",
     "output_type": "stream",
     "text": [
      "  6%|█████                                                                                     | 17/300 [56:06<15:30:45, 197.34s/it]"
     ]
    },
    {
     "name": "stdout",
     "output_type": "stream",
     "text": [
      "Epoch [18], Batch [50/196], Loss: 3.6751, LR: 0.010000\n",
      "Epoch [18], Batch [100/196], Loss: 1.8839, LR: 0.010000\n",
      "Epoch [18], Batch [150/196], Loss: 3.1659, LR: 0.010000\n",
      "Train set: Epoch: 18, Average loss:2.6472, LR: 0.010000 Top-1 Accuracy: 38.2760%, Top-5 Accuracy: 68.3760%, Time consumed:180.39s\n"
     ]
    },
    {
     "name": "stderr",
     "output_type": "stream",
     "text": [
      "  6%|█████▍                                                                                    | 18/300 [59:23<15:27:29, 197.34s/it]"
     ]
    },
    {
     "name": "stdout",
     "output_type": "stream",
     "text": [
      "Test set: Epoch: 18, Average loss:1.9323, Top-1 Accuracy: 49.2800%, Top-5 Accuracy: 79.3400%, Time consumed:16.96s\n",
      "\n",
      "EarlyStopping 카운터: 1 / 30\n",
      "Epoch [19], Batch [50/196], Loss: 3.0540, LR: 0.010000\n",
      "Epoch [19], Batch [100/196], Loss: 2.1718, LR: 0.010000\n",
      "Epoch [19], Batch [150/196], Loss: 3.7415, LR: 0.010000\n",
      "Train set: Epoch: 19, Average loss:2.7312, LR: 0.010000 Top-1 Accuracy: 37.9040%, Top-5 Accuracy: 67.9100%, Time consumed:180.61s\n",
      "Test set: Epoch: 19, Average loss:1.8471, Top-1 Accuracy: 51.5700%, Top-5 Accuracy: 80.4900%, Time consumed:17.69s\n",
      "\n",
      "새로운 최고 top-1 정확도: 51.57%, top-5 정확도: 80.49%\n",
      "새로운 최고 top-5 정확도: 80.49%\n",
      "Accuracy improved (49.32% --> 51.57%). Saving model ...\n"
     ]
    },
    {
     "name": "stderr",
     "output_type": "stream",
     "text": [
      "  6%|█████▌                                                                                  | 19/300 [1:02:41<15:25:53, 197.70s/it]"
     ]
    },
    {
     "name": "stdout",
     "output_type": "stream",
     "text": [
      "Epoch [20], Batch [50/196], Loss: 2.0549, LR: 0.010000\n",
      "Epoch [20], Batch [100/196], Loss: 3.2436, LR: 0.010000\n",
      "Epoch [20], Batch [150/196], Loss: 2.2535, LR: 0.010000\n",
      "Train set: Epoch: 20, Average loss:2.6431, LR: 0.010000 Top-1 Accuracy: 38.7520%, Top-5 Accuracy: 68.7780%, Time consumed:186.05s\n"
     ]
    },
    {
     "name": "stderr",
     "output_type": "stream",
     "text": [
      "  7%|█████▊                                                                                  | 20/300 [1:06:05<15:30:25, 199.38s/it]"
     ]
    },
    {
     "name": "stdout",
     "output_type": "stream",
     "text": [
      "Test set: Epoch: 20, Average loss:1.8368, Top-1 Accuracy: 51.5600%, Top-5 Accuracy: 81.2200%, Time consumed:17.23s\n",
      "\n",
      "새로운 최고 top-5 정확도: 81.22%\n",
      "EarlyStopping 카운터: 1 / 30\n",
      "Epoch [21], Batch [50/196], Loss: 3.6706, LR: 0.010000\n",
      "Epoch [21], Batch [100/196], Loss: 1.9738, LR: 0.010000\n",
      "Epoch [21], Batch [150/196], Loss: 2.1513, LR: 0.010000\n",
      "Train set: Epoch: 21, Average loss:2.5763, LR: 0.010000 Top-1 Accuracy: 40.7680%, Top-5 Accuracy: 71.1360%, Time consumed:180.01s\n",
      "Test set: Epoch: 21, Average loss:1.8492, Top-1 Accuracy: 51.7700%, Top-5 Accuracy: 80.6900%, Time consumed:16.97s\n",
      "\n",
      "새로운 최고 top-1 정확도: 51.77%, top-5 정확도: 80.69%\n",
      "Accuracy improved (51.57% --> 51.77%). Saving model ...\n"
     ]
    },
    {
     "name": "stderr",
     "output_type": "stream",
     "text": [
      "  7%|██████▏                                                                                 | 21/300 [1:09:22<15:24:06, 198.73s/it]"
     ]
    },
    {
     "name": "stdout",
     "output_type": "stream",
     "text": [
      "Epoch [22], Batch [50/196], Loss: 2.3372, LR: 0.010000\n",
      "Epoch [22], Batch [100/196], Loss: 1.8209, LR: 0.010000\n",
      "Epoch [22], Batch [150/196], Loss: 2.0770, LR: 0.010000\n",
      "Train set: Epoch: 22, Average loss:2.5868, LR: 0.010000 Top-1 Accuracy: 40.0020%, Top-5 Accuracy: 70.0640%, Time consumed:180.62s\n",
      "Test set: Epoch: 22, Average loss:1.7327, Top-1 Accuracy: 52.9300%, Top-5 Accuracy: 82.1000%, Time consumed:17.41s\n",
      "\n",
      "새로운 최고 top-1 정확도: 52.93%, top-5 정확도: 82.10%\n",
      "새로운 최고 top-5 정확도: 82.10%\n",
      "Accuracy improved (51.77% --> 52.93%). Saving model ...\n"
     ]
    },
    {
     "name": "stderr",
     "output_type": "stream",
     "text": [
      "  7%|██████▍                                                                                 | 22/300 [1:12:40<15:20:13, 198.61s/it]"
     ]
    },
    {
     "name": "stdout",
     "output_type": "stream",
     "text": [
      "Epoch [23], Batch [50/196], Loss: 3.5834, LR: 0.010000\n",
      "Epoch [23], Batch [100/196], Loss: 1.8139, LR: 0.010000\n",
      "Epoch [23], Batch [150/196], Loss: 1.8788, LR: 0.010000\n",
      "Train set: Epoch: 23, Average loss:2.5015, LR: 0.010000 Top-1 Accuracy: 41.0800%, Top-5 Accuracy: 71.1760%, Time consumed:181.73s\n",
      "Test set: Epoch: 23, Average loss:1.7484, Top-1 Accuracy: 53.0700%, Top-5 Accuracy: 82.3800%, Time consumed:16.96s\n",
      "\n",
      "새로운 최고 top-1 정확도: 53.07%, top-5 정확도: 82.38%\n",
      "새로운 최고 top-5 정확도: 82.38%\n",
      "Accuracy improved (52.93% --> 53.07%). Saving model ...\n"
     ]
    },
    {
     "name": "stderr",
     "output_type": "stream",
     "text": [
      "  8%|██████▋                                                                                 | 23/300 [1:15:59<15:17:21, 198.71s/it]"
     ]
    },
    {
     "name": "stdout",
     "output_type": "stream",
     "text": [
      "Epoch [24], Batch [50/196], Loss: 2.0473, LR: 0.010000\n",
      "Epoch [24], Batch [100/196], Loss: 3.2649, LR: 0.010000\n",
      "Epoch [24], Batch [150/196], Loss: 2.5862, LR: 0.010000\n",
      "Train set: Epoch: 24, Average loss:2.5232, LR: 0.010000 Top-1 Accuracy: 42.3840%, Top-5 Accuracy: 72.8240%, Time consumed:179.54s\n",
      "Test set: Epoch: 24, Average loss:1.7085, Top-1 Accuracy: 54.1900%, Top-5 Accuracy: 82.9600%, Time consumed:17.15s\n",
      "\n",
      "새로운 최고 top-1 정확도: 54.19%, top-5 정확도: 82.96%\n",
      "새로운 최고 top-5 정확도: 82.96%\n",
      "Accuracy improved (53.07% --> 54.19%). Saving model ...\n"
     ]
    },
    {
     "name": "stderr",
     "output_type": "stream",
     "text": [
      "  8%|███████                                                                                 | 24/300 [1:19:16<15:11:37, 198.18s/it]"
     ]
    },
    {
     "name": "stdout",
     "output_type": "stream",
     "text": [
      "Epoch [25], Batch [50/196], Loss: 1.5861, LR: 0.010000\n",
      "Epoch [25], Batch [100/196], Loss: 1.8528, LR: 0.010000\n",
      "Epoch [25], Batch [150/196], Loss: 1.9617, LR: 0.010000\n",
      "Train set: Epoch: 25, Average loss:2.4694, LR: 0.010000 Top-1 Accuracy: 42.3660%, Top-5 Accuracy: 72.1820%, Time consumed:176.84s\n",
      "Test set: Epoch: 25, Average loss:1.6840, Top-1 Accuracy: 54.3900%, Top-5 Accuracy: 83.0900%, Time consumed:17.11s\n",
      "\n",
      "새로운 최고 top-1 정확도: 54.39%, top-5 정확도: 83.09%\n",
      "새로운 최고 top-5 정확도: 83.09%\n",
      "Accuracy improved (54.19% --> 54.39%). Saving model ...\n"
     ]
    },
    {
     "name": "stderr",
     "output_type": "stream",
     "text": [
      "  8%|███████▎                                                                                | 25/300 [1:22:30<15:02:49, 196.98s/it]"
     ]
    },
    {
     "name": "stdout",
     "output_type": "stream",
     "text": [
      "Epoch [26], Batch [50/196], Loss: 2.2645, LR: 0.010000\n",
      "Epoch [26], Batch [100/196], Loss: 1.9961, LR: 0.010000\n",
      "Epoch [26], Batch [150/196], Loss: 3.5413, LR: 0.010000\n",
      "Train set: Epoch: 26, Average loss:2.5492, LR: 0.010000 Top-1 Accuracy: 41.7320%, Top-5 Accuracy: 71.7580%, Time consumed:179.96s\n",
      "Test set: Epoch: 26, Average loss:1.6398, Top-1 Accuracy: 55.4800%, Top-5 Accuracy: 83.9900%, Time consumed:17.69s\n",
      "\n",
      "새로운 최고 top-1 정확도: 55.48%, top-5 정확도: 83.99%\n",
      "새로운 최고 top-5 정확도: 83.99%\n",
      "Accuracy improved (54.39% --> 55.48%). Saving model ...\n"
     ]
    },
    {
     "name": "stderr",
     "output_type": "stream",
     "text": [
      "  9%|███████▋                                                                                | 26/300 [1:25:48<15:00:47, 197.26s/it]"
     ]
    },
    {
     "name": "stdout",
     "output_type": "stream",
     "text": [
      "Epoch [27], Batch [50/196], Loss: 1.9807, LR: 0.010000\n",
      "Epoch [27], Batch [100/196], Loss: 3.7352, LR: 0.010000\n",
      "Epoch [27], Batch [150/196], Loss: 3.7840, LR: 0.010000\n",
      "Train set: Epoch: 27, Average loss:2.5248, LR: 0.010000 Top-1 Accuracy: 42.3220%, Top-5 Accuracy: 72.3080%, Time consumed:186.63s\n",
      "Test set: Epoch: 27, Average loss:1.6697, Top-1 Accuracy: 55.4900%, Top-5 Accuracy: 83.8400%, Time consumed:17.24s\n",
      "\n",
      "새로운 최고 top-1 정확도: 55.49%, top-5 정확도: 83.84%\n",
      "Accuracy improved (55.48% --> 55.49%). Saving model ...\n"
     ]
    },
    {
     "name": "stderr",
     "output_type": "stream",
     "text": [
      "  9%|███████▉                                                                                | 27/300 [1:29:12<15:06:52, 199.31s/it]"
     ]
    },
    {
     "name": "stdout",
     "output_type": "stream",
     "text": [
      "Epoch [28], Batch [50/196], Loss: 2.1427, LR: 0.010000\n",
      "Epoch [28], Batch [100/196], Loss: 3.4954, LR: 0.010000\n",
      "Epoch [28], Batch [150/196], Loss: 2.1072, LR: 0.010000\n",
      "Train set: Epoch: 28, Average loss:2.4129, LR: 0.010000 Top-1 Accuracy: 44.7340%, Top-5 Accuracy: 74.2680%, Time consumed:182.48s\n",
      "Test set: Epoch: 28, Average loss:1.6629, Top-1 Accuracy: 55.6400%, Top-5 Accuracy: 83.5100%, Time consumed:17.63s\n",
      "\n",
      "새로운 최고 top-1 정확도: 55.64%, top-5 정확도: 83.51%\n",
      "Accuracy improved (55.49% --> 55.64%). Saving model ...\n"
     ]
    },
    {
     "name": "stderr",
     "output_type": "stream",
     "text": [
      "  9%|████████▏                                                                               | 28/300 [1:32:33<15:05:00, 199.63s/it]"
     ]
    },
    {
     "name": "stdout",
     "output_type": "stream",
     "text": [
      "Epoch [29], Batch [50/196], Loss: 1.5069, LR: 0.010000\n",
      "Epoch [29], Batch [100/196], Loss: 1.8456, LR: 0.010000\n",
      "Epoch [29], Batch [150/196], Loss: 1.6775, LR: 0.010000\n",
      "Train set: Epoch: 29, Average loss:2.4822, LR: 0.010000 Top-1 Accuracy: 43.6820%, Top-5 Accuracy: 73.1860%, Time consumed:177.54s\n",
      "Test set: Epoch: 29, Average loss:1.5833, Top-1 Accuracy: 56.8600%, Top-5 Accuracy: 84.7300%, Time consumed:16.91s\n",
      "\n",
      "새로운 최고 top-1 정확도: 56.86%, top-5 정확도: 84.73%\n",
      "새로운 최고 top-5 정확도: 84.73%\n",
      "Accuracy improved (55.64% --> 56.86%). Saving model ...\n"
     ]
    },
    {
     "name": "stderr",
     "output_type": "stream",
     "text": [
      " 10%|████████▌                                                                               | 29/300 [1:35:47<14:55:02, 198.16s/it]"
     ]
    },
    {
     "name": "stdout",
     "output_type": "stream",
     "text": [
      "Epoch [30], Batch [50/196], Loss: 1.4838, LR: 0.010000\n",
      "Epoch [30], Batch [100/196], Loss: 1.8961, LR: 0.010000\n",
      "Epoch [30], Batch [150/196], Loss: 1.8291, LR: 0.010000\n",
      "Train set: Epoch: 30, Average loss:2.4355, LR: 0.010000 Top-1 Accuracy: 43.9840%, Top-5 Accuracy: 73.4520%, Time consumed:178.61s\n",
      "Test set: Epoch: 30, Average loss:1.5269, Top-1 Accuracy: 57.6900%, Top-5 Accuracy: 85.3800%, Time consumed:17.64s\n",
      "\n",
      "새로운 최고 top-1 정확도: 57.69%, top-5 정확도: 85.38%\n",
      "새로운 최고 top-5 정확도: 85.38%\n",
      "Accuracy improved (56.86% --> 57.69%). Saving model ...\n"
     ]
    },
    {
     "name": "stderr",
     "output_type": "stream",
     "text": [
      " 10%|████████▊                                                                               | 30/300 [1:39:04<14:49:30, 197.67s/it]"
     ]
    },
    {
     "name": "stdout",
     "output_type": "stream",
     "text": [
      "Epoch [31], Batch [50/196], Loss: 1.6133, LR: 0.010000\n",
      "Epoch [31], Batch [100/196], Loss: 2.2877, LR: 0.010000\n",
      "Epoch [31], Batch [150/196], Loss: 2.2483, LR: 0.010000\n",
      "Train set: Epoch: 31, Average loss:2.3239, LR: 0.010000 Top-1 Accuracy: 46.0100%, Top-5 Accuracy: 75.5220%, Time consumed:181.95s\n"
     ]
    },
    {
     "name": "stderr",
     "output_type": "stream",
     "text": [
      " 10%|█████████                                                                               | 31/300 [1:42:23<14:48:06, 198.09s/it]"
     ]
    },
    {
     "name": "stdout",
     "output_type": "stream",
     "text": [
      "Test set: Epoch: 31, Average loss:1.5810, Top-1 Accuracy: 56.2800%, Top-5 Accuracy: 84.8900%, Time consumed:17.12s\n",
      "\n",
      "EarlyStopping 카운터: 1 / 30\n",
      "Epoch [32], Batch [50/196], Loss: 3.1388, LR: 0.010000\n",
      "Epoch [32], Batch [100/196], Loss: 1.6789, LR: 0.010000\n",
      "Epoch [32], Batch [150/196], Loss: 1.6689, LR: 0.010000\n",
      "Train set: Epoch: 32, Average loss:2.2989, LR: 0.010000 Top-1 Accuracy: 47.1420%, Top-5 Accuracy: 76.3760%, Time consumed:181.60s\n"
     ]
    },
    {
     "name": "stderr",
     "output_type": "stream",
     "text": [
      " 11%|█████████▍                                                                              | 32/300 [1:45:41<14:45:10, 198.17s/it]"
     ]
    },
    {
     "name": "stdout",
     "output_type": "stream",
     "text": [
      "Test set: Epoch: 32, Average loss:1.5822, Top-1 Accuracy: 56.4400%, Top-5 Accuracy: 84.6600%, Time consumed:16.76s\n",
      "\n",
      "EarlyStopping 카운터: 2 / 30\n",
      "Epoch [33], Batch [50/196], Loss: 3.0663, LR: 0.010000\n",
      "Epoch [33], Batch [100/196], Loss: 1.4238, LR: 0.010000\n",
      "Epoch [33], Batch [150/196], Loss: 3.4117, LR: 0.010000\n",
      "Train set: Epoch: 33, Average loss:2.4308, LR: 0.010000 Top-1 Accuracy: 45.9620%, Top-5 Accuracy: 74.8280%, Time consumed:184.76s\n",
      "Test set: Epoch: 33, Average loss:1.4594, Top-1 Accuracy: 59.1400%, Top-5 Accuracy: 86.5200%, Time consumed:17.76s\n",
      "\n",
      "새로운 최고 top-1 정확도: 59.14%, top-5 정확도: 86.52%\n",
      "새로운 최고 top-5 정확도: 86.52%\n",
      "Accuracy improved (57.69% --> 59.14%). Saving model ...\n"
     ]
    },
    {
     "name": "stderr",
     "output_type": "stream",
     "text": [
      " 11%|█████████▋                                                                              | 33/300 [1:49:04<14:48:00, 199.55s/it]"
     ]
    },
    {
     "name": "stdout",
     "output_type": "stream",
     "text": [
      "Epoch [34], Batch [50/196], Loss: 1.4215, LR: 0.010000\n",
      "Epoch [34], Batch [100/196], Loss: 1.4632, LR: 0.010000\n",
      "Epoch [34], Batch [150/196], Loss: 1.5262, LR: 0.010000\n",
      "Train set: Epoch: 34, Average loss:2.2666, LR: 0.010000 Top-1 Accuracy: 47.8280%, Top-5 Accuracy: 77.2480%, Time consumed:180.39s\n"
     ]
    },
    {
     "name": "stderr",
     "output_type": "stream",
     "text": [
      " 11%|█████████▉                                                                              | 34/300 [1:52:22<14:42:15, 199.00s/it]"
     ]
    },
    {
     "name": "stdout",
     "output_type": "stream",
     "text": [
      "Test set: Epoch: 34, Average loss:1.6204, Top-1 Accuracy: 56.4000%, Top-5 Accuracy: 83.0800%, Time consumed:17.33s\n",
      "\n",
      "EarlyStopping 카운터: 1 / 30\n",
      "Epoch [35], Batch [50/196], Loss: 1.9395, LR: 0.010000\n",
      "Epoch [35], Batch [100/196], Loss: 2.5740, LR: 0.010000\n",
      "Epoch [35], Batch [150/196], Loss: 2.6503, LR: 0.010000\n",
      "Train set: Epoch: 35, Average loss:2.2872, LR: 0.010000 Top-1 Accuracy: 47.0420%, Top-5 Accuracy: 76.0200%, Time consumed:178.81s\n",
      "Epoch [36], Batch [50/196], Loss: 1.2912, LR: 0.010000\n",
      "Epoch [36], Batch [100/196], Loss: 1.2809, LR: 0.010000\n",
      "Epoch [36], Batch [150/196], Loss: 1.4322, LR: 0.010000\n",
      "Train set: Epoch: 36, Average loss:2.3200, LR: 0.010000 Top-1 Accuracy: 46.5920%, Top-5 Accuracy: 75.3740%, Time consumed:181.39s\n",
      "Test set: Epoch: 36, Average loss:1.4296, Top-1 Accuracy: 60.1700%, Top-5 Accuracy: 86.8300%, Time consumed:16.31s\n",
      "\n",
      "새로운 최고 top-1 정확도: 60.17%, top-5 정확도: 86.83%\n",
      "새로운 최고 top-5 정확도: 86.83%\n",
      "Accuracy improved (59.14% --> 60.17%). Saving model ...\n"
     ]
    },
    {
     "name": "stderr",
     "output_type": "stream",
     "text": [
      " 12%|██████████▌                                                                             | 36/300 [1:58:56<14:31:31, 198.08s/it]"
     ]
    },
    {
     "name": "stdout",
     "output_type": "stream",
     "text": [
      "Epoch [37], Batch [50/196], Loss: 2.9940, LR: 0.010000\n",
      "Epoch [37], Batch [100/196], Loss: 3.2668, LR: 0.010000\n",
      "Epoch [37], Batch [150/196], Loss: 3.4182, LR: 0.010000\n",
      "Train set: Epoch: 37, Average loss:2.3139, LR: 0.010000 Top-1 Accuracy: 47.7860%, Top-5 Accuracy: 76.8960%, Time consumed:180.65s\n"
     ]
    },
    {
     "name": "stderr",
     "output_type": "stream",
     "text": [
      " 12%|██████████▊                                                                             | 37/300 [2:02:13<14:26:45, 197.74s/it]"
     ]
    },
    {
     "name": "stdout",
     "output_type": "stream",
     "text": [
      "Test set: Epoch: 37, Average loss:1.4552, Top-1 Accuracy: 59.6300%, Top-5 Accuracy: 86.2600%, Time consumed:16.31s\n",
      "\n",
      "EarlyStopping 카운터: 1 / 30\n",
      "Epoch [38], Batch [50/196], Loss: 1.4736, LR: 0.010000\n",
      "Epoch [38], Batch [100/196], Loss: 3.3852, LR: 0.010000\n",
      "Epoch [38], Batch [150/196], Loss: 1.8195, LR: 0.010000\n",
      "Train set: Epoch: 38, Average loss:2.1954, LR: 0.010000 Top-1 Accuracy: 49.6660%, Top-5 Accuracy: 78.3320%, Time consumed:181.46s\n"
     ]
    },
    {
     "name": "stderr",
     "output_type": "stream",
     "text": [
      " 13%|███████████▏                                                                            | 38/300 [2:05:32<14:24:54, 198.07s/it]"
     ]
    },
    {
     "name": "stdout",
     "output_type": "stream",
     "text": [
      "Test set: Epoch: 38, Average loss:1.5104, Top-1 Accuracy: 58.5900%, Top-5 Accuracy: 86.6200%, Time consumed:17.38s\n",
      "\n",
      "EarlyStopping 카운터: 2 / 30\n",
      "Epoch [39], Batch [50/196], Loss: 1.0761, LR: 0.010000\n",
      "Epoch [39], Batch [100/196], Loss: 1.5596, LR: 0.010000\n",
      "Epoch [39], Batch [150/196], Loss: 2.7566, LR: 0.010000\n",
      "Train set: Epoch: 39, Average loss:2.3471, LR: 0.010000 Top-1 Accuracy: 47.6860%, Top-5 Accuracy: 76.9200%, Time consumed:186.24s\n"
     ]
    },
    {
     "name": "stderr",
     "output_type": "stream",
     "text": [
      " 13%|███████████▍                                                                            | 39/300 [2:08:54<14:27:39, 199.46s/it]"
     ]
    },
    {
     "name": "stdout",
     "output_type": "stream",
     "text": [
      "Test set: Epoch: 39, Average loss:1.5547, Top-1 Accuracy: 58.1100%, Top-5 Accuracy: 85.7600%, Time consumed:16.47s\n",
      "\n",
      "EarlyStopping 카운터: 3 / 30\n",
      "Epoch [40], Batch [50/196], Loss: 1.4614, LR: 0.010000\n",
      "Epoch [40], Batch [100/196], Loss: 3.6299, LR: 0.010000\n",
      "Epoch [40], Batch [150/196], Loss: 3.1397, LR: 0.010000\n",
      "Train set: Epoch: 40, Average loss:2.4047, LR: 0.010000 Top-1 Accuracy: 46.4920%, Top-5 Accuracy: 75.0940%, Time consumed:178.83s\n"
     ]
    },
    {
     "name": "stderr",
     "output_type": "stream",
     "text": [
      " 13%|███████████▋                                                                            | 40/300 [2:12:10<14:19:44, 198.40s/it]"
     ]
    },
    {
     "name": "stdout",
     "output_type": "stream",
     "text": [
      "Test set: Epoch: 40, Average loss:1.5610, Top-1 Accuracy: 59.1600%, Top-5 Accuracy: 86.8400%, Time consumed:17.09s\n",
      "\n",
      "새로운 최고 top-5 정확도: 86.84%\n",
      "EarlyStopping 카운터: 4 / 30\n",
      "Epoch [41], Batch [50/196], Loss: 1.2159, LR: 0.010000\n",
      "Epoch [41], Batch [100/196], Loss: 1.7454, LR: 0.010000\n",
      "Epoch [41], Batch [150/196], Loss: 2.2283, LR: 0.010000\n",
      "Train set: Epoch: 41, Average loss:2.1367, LR: 0.010000 Top-1 Accuracy: 50.5360%, Top-5 Accuracy: 78.9300%, Time consumed:179.33s\n",
      "Test set: Epoch: 41, Average loss:1.3939, Top-1 Accuracy: 61.3700%, Top-5 Accuracy: 87.1500%, Time consumed:16.90s\n",
      "\n",
      "새로운 최고 top-1 정확도: 61.37%, top-5 정확도: 87.15%\n",
      "새로운 최고 top-5 정확도: 87.15%\n",
      "Accuracy improved (60.17% --> 61.37%). Saving model ...\n"
     ]
    },
    {
     "name": "stderr",
     "output_type": "stream",
     "text": [
      " 14%|████████████                                                                            | 41/300 [2:15:27<14:13:55, 197.82s/it]"
     ]
    },
    {
     "name": "stdout",
     "output_type": "stream",
     "text": [
      "Epoch [42], Batch [50/196], Loss: 1.4216, LR: 0.010000\n",
      "Epoch [42], Batch [100/196], Loss: 1.7328, LR: 0.010000\n",
      "Epoch [42], Batch [150/196], Loss: 1.7101, LR: 0.010000\n",
      "Train set: Epoch: 42, Average loss:2.2267, LR: 0.010000 Top-1 Accuracy: 49.5560%, Top-5 Accuracy: 78.3560%, Time consumed:185.11s\n"
     ]
    },
    {
     "name": "stderr",
     "output_type": "stream",
     "text": [
      " 14%|████████████▎                                                                           | 42/300 [2:18:50<14:16:52, 199.27s/it]"
     ]
    },
    {
     "name": "stdout",
     "output_type": "stream",
     "text": [
      "Test set: Epoch: 42, Average loss:1.4704, Top-1 Accuracy: 59.5200%, Top-5 Accuracy: 85.9900%, Time consumed:17.55s\n",
      "\n",
      "EarlyStopping 카운터: 1 / 30\n",
      "Epoch [43], Batch [50/196], Loss: 1.7823, LR: 0.010000\n",
      "Epoch [43], Batch [100/196], Loss: 1.4557, LR: 0.010000\n",
      "Epoch [43], Batch [150/196], Loss: 2.8636, LR: 0.010000\n",
      "Train set: Epoch: 43, Average loss:2.2056, LR: 0.010000 Top-1 Accuracy: 49.5800%, Top-5 Accuracy: 78.1740%, Time consumed:184.62s\n"
     ]
    },
    {
     "name": "stderr",
     "output_type": "stream",
     "text": [
      " 14%|████████████▌                                                                           | 43/300 [2:22:12<14:17:04, 200.09s/it]"
     ]
    },
    {
     "name": "stdout",
     "output_type": "stream",
     "text": [
      "Test set: Epoch: 43, Average loss:1.4374, Top-1 Accuracy: 60.3400%, Top-5 Accuracy: 86.8400%, Time consumed:17.38s\n",
      "\n",
      "EarlyStopping 카운터: 2 / 30\n",
      "Epoch [44], Batch [50/196], Loss: 3.3164, LR: 0.010000\n",
      "Epoch [44], Batch [100/196], Loss: 3.4024, LR: 0.010000\n",
      "Epoch [44], Batch [150/196], Loss: 1.4345, LR: 0.010000\n",
      "Train set: Epoch: 44, Average loss:2.1261, LR: 0.010000 Top-1 Accuracy: 51.3120%, Top-5 Accuracy: 79.8760%, Time consumed:184.30s\n",
      "Test set: Epoch: 44, Average loss:1.3796, Top-1 Accuracy: 61.9500%, Top-5 Accuracy: 87.8000%, Time consumed:17.20s\n",
      "\n",
      "새로운 최고 top-1 정확도: 61.95%, top-5 정확도: 87.80%\n",
      "새로운 최고 top-5 정확도: 87.80%\n",
      "Accuracy improved (61.37% --> 61.95%). Saving model ...\n"
     ]
    },
    {
     "name": "stderr",
     "output_type": "stream",
     "text": [
      " 15%|████████████▉                                                                           | 44/300 [2:25:33<14:15:50, 200.59s/it]"
     ]
    },
    {
     "name": "stdout",
     "output_type": "stream",
     "text": [
      "Epoch [45], Batch [50/196], Loss: 1.4933, LR: 0.010000\n",
      "Epoch [45], Batch [100/196], Loss: 1.6671, LR: 0.010000\n",
      "Epoch [45], Batch [150/196], Loss: 1.6211, LR: 0.010000\n",
      "Train set: Epoch: 45, Average loss:2.1244, LR: 0.010000 Top-1 Accuracy: 51.1540%, Top-5 Accuracy: 79.2760%, Time consumed:176.19s\n"
     ]
    },
    {
     "name": "stderr",
     "output_type": "stream",
     "text": [
      " 15%|█████████████▏                                                                          | 45/300 [2:28:47<14:03:54, 198.57s/it]"
     ]
    },
    {
     "name": "stdout",
     "output_type": "stream",
     "text": [
      "Test set: Epoch: 45, Average loss:1.3863, Top-1 Accuracy: 61.4800%, Top-5 Accuracy: 87.8000%, Time consumed:17.65s\n",
      "\n",
      "EarlyStopping 카운터: 1 / 30\n",
      "Epoch [46], Batch [50/196], Loss: 1.9979, LR: 0.010000\n",
      "Epoch [46], Batch [100/196], Loss: 3.2654, LR: 0.010000\n",
      "Epoch [46], Batch [150/196], Loss: 1.1807, LR: 0.010000\n",
      "Train set: Epoch: 46, Average loss:2.1667, LR: 0.010000 Top-1 Accuracy: 51.6520%, Top-5 Accuracy: 79.9400%, Time consumed:165.65s\n",
      "Test set: Epoch: 46, Average loss:1.3937, Top-1 Accuracy: 62.3400%, Top-5 Accuracy: 88.2000%, Time consumed:15.80s\n",
      "\n",
      "새로운 최고 top-1 정확도: 62.34%, top-5 정확도: 88.20%\n",
      "새로운 최고 top-5 정확도: 88.20%\n",
      "Accuracy improved (61.95% --> 62.34%). Saving model ...\n"
     ]
    },
    {
     "name": "stderr",
     "output_type": "stream",
     "text": [
      " 15%|█████████████▍                                                                          | 46/300 [2:31:49<13:39:10, 193.51s/it]"
     ]
    },
    {
     "name": "stdout",
     "output_type": "stream",
     "text": [
      "Epoch [47], Batch [50/196], Loss: 1.8517, LR: 0.010000\n",
      "Epoch [47], Batch [100/196], Loss: 2.5439, LR: 0.010000\n",
      "Epoch [47], Batch [150/196], Loss: 1.5674, LR: 0.010000\n",
      "Train set: Epoch: 47, Average loss:2.1167, LR: 0.010000 Top-1 Accuracy: 52.3680%, Top-5 Accuracy: 80.1440%, Time consumed:158.13s\n"
     ]
    },
    {
     "name": "stderr",
     "output_type": "stream",
     "text": [
      " 16%|█████████████▊                                                                          | 47/300 [2:34:42<13:10:26, 187.46s/it]"
     ]
    },
    {
     "name": "stdout",
     "output_type": "stream",
     "text": [
      "Test set: Epoch: 47, Average loss:1.3803, Top-1 Accuracy: 61.7400%, Top-5 Accuracy: 87.8600%, Time consumed:15.20s\n",
      "\n",
      "EarlyStopping 카운터: 1 / 30\n",
      "Epoch [48], Batch [50/196], Loss: 2.2190, LR: 0.010000\n",
      "Epoch [48], Batch [100/196], Loss: 3.3875, LR: 0.010000\n",
      "Epoch [48], Batch [150/196], Loss: 1.4129, LR: 0.010000\n",
      "Train set: Epoch: 48, Average loss:2.2415, LR: 0.010000 Top-1 Accuracy: 49.6780%, Top-5 Accuracy: 77.5220%, Time consumed:157.45s\n"
     ]
    },
    {
     "name": "stderr",
     "output_type": "stream",
     "text": [
      " 16%|██████████████                                                                          | 48/300 [2:37:35<12:48:38, 183.01s/it]"
     ]
    },
    {
     "name": "stdout",
     "output_type": "stream",
     "text": [
      "Test set: Epoch: 48, Average loss:1.4788, Top-1 Accuracy: 60.3800%, Top-5 Accuracy: 86.6400%, Time consumed:15.17s\n",
      "\n",
      "EarlyStopping 카운터: 2 / 30\n",
      "Epoch [49], Batch [50/196], Loss: 2.8543, LR: 0.010000\n",
      "Epoch [49], Batch [100/196], Loss: 2.6794, LR: 0.010000\n",
      "Epoch [49], Batch [150/196], Loss: 1.0806, LR: 0.010000\n",
      "Train set: Epoch: 49, Average loss:2.2014, LR: 0.010000 Top-1 Accuracy: 51.5720%, Top-5 Accuracy: 79.6920%, Time consumed:156.37s\n"
     ]
    },
    {
     "name": "stderr",
     "output_type": "stream",
     "text": [
      " 16%|██████████████▎                                                                         | 49/300 [2:40:27<12:31:44, 179.70s/it]"
     ]
    },
    {
     "name": "stdout",
     "output_type": "stream",
     "text": [
      "Test set: Epoch: 49, Average loss:1.4297, Top-1 Accuracy: 61.3700%, Top-5 Accuracy: 86.6800%, Time consumed:15.61s\n",
      "\n",
      "EarlyStopping 카운터: 3 / 30\n",
      "Epoch [50], Batch [50/196], Loss: 1.6820, LR: 0.010000\n",
      "Epoch [50], Batch [100/196], Loss: 1.7104, LR: 0.010000\n",
      "Epoch [50], Batch [150/196], Loss: 1.1779, LR: 0.010000\n",
      "Train set: Epoch: 50, Average loss:2.1041, LR: 0.010000 Top-1 Accuracy: 53.0700%, Top-5 Accuracy: 80.9140%, Time consumed:156.72s\n",
      "Test set: Epoch: 50, Average loss:1.2821, Top-1 Accuracy: 64.2300%, Top-5 Accuracy: 89.0600%, Time consumed:15.77s\n",
      "\n",
      "새로운 최고 top-1 정확도: 64.23%, top-5 정확도: 89.06%\n",
      "새로운 최고 top-5 정확도: 89.06%\n",
      "Accuracy improved (62.34% --> 64.23%). Saving model ...\n"
     ]
    },
    {
     "name": "stderr",
     "output_type": "stream",
     "text": [
      " 17%|██████████████▋                                                                         | 50/300 [2:43:20<12:20:03, 177.61s/it]"
     ]
    },
    {
     "name": "stdout",
     "output_type": "stream",
     "text": [
      "Epoch [51], Batch [50/196], Loss: 3.3128, LR: 0.010000\n",
      "Epoch [51], Batch [100/196], Loss: 2.0821, LR: 0.010000\n",
      "Epoch [51], Batch [150/196], Loss: 1.3808, LR: 0.010000\n",
      "Train set: Epoch: 51, Average loss:2.1117, LR: 0.010000 Top-1 Accuracy: 52.8900%, Top-5 Accuracy: 80.3320%, Time consumed:157.02s\n"
     ]
    },
    {
     "name": "stderr",
     "output_type": "stream",
     "text": [
      " 17%|██████████████▉                                                                         | 51/300 [2:46:12<12:10:46, 176.09s/it]"
     ]
    },
    {
     "name": "stdout",
     "output_type": "stream",
     "text": [
      "Test set: Epoch: 51, Average loss:1.3441, Top-1 Accuracy: 63.7900%, Top-5 Accuracy: 88.7400%, Time consumed:15.51s\n",
      "\n",
      "EarlyStopping 카운터: 1 / 30\n",
      "Epoch [52], Batch [50/196], Loss: 1.4941, LR: 0.010000\n",
      "Epoch [52], Batch [100/196], Loss: 1.5230, LR: 0.010000\n",
      "Epoch [52], Batch [150/196], Loss: 1.2020, LR: 0.010000\n",
      "Train set: Epoch: 52, Average loss:2.0863, LR: 0.010000 Top-1 Accuracy: 53.1600%, Top-5 Accuracy: 80.5300%, Time consumed:156.89s\n"
     ]
    },
    {
     "name": "stderr",
     "output_type": "stream",
     "text": [
      " 17%|███████████████▎                                                                        | 52/300 [2:49:04<12:02:41, 174.85s/it]"
     ]
    },
    {
     "name": "stdout",
     "output_type": "stream",
     "text": [
      "Test set: Epoch: 52, Average loss:1.3536, Top-1 Accuracy: 63.0000%, Top-5 Accuracy: 88.6400%, Time consumed:15.04s\n",
      "\n",
      "EarlyStopping 카운터: 2 / 30\n",
      "Epoch [53], Batch [50/196], Loss: 3.5568, LR: 0.010000\n",
      "Epoch [53], Batch [100/196], Loss: 1.6370, LR: 0.010000\n",
      "Epoch [53], Batch [150/196], Loss: 3.3305, LR: 0.010000\n",
      "Train set: Epoch: 53, Average loss:2.0323, LR: 0.010000 Top-1 Accuracy: 54.2340%, Top-5 Accuracy: 81.4880%, Time consumed:159.35s\n"
     ]
    },
    {
     "name": "stderr",
     "output_type": "stream",
     "text": [
      " 18%|███████████████▌                                                                        | 53/300 [2:51:59<11:59:22, 174.74s/it]"
     ]
    },
    {
     "name": "stdout",
     "output_type": "stream",
     "text": [
      "Test set: Epoch: 53, Average loss:1.3280, Top-1 Accuracy: 64.1400%, Top-5 Accuracy: 89.1900%, Time consumed:15.15s\n",
      "\n",
      "새로운 최고 top-5 정확도: 89.19%\n",
      "EarlyStopping 카운터: 3 / 30\n",
      "Epoch [54], Batch [50/196], Loss: 1.3446, LR: 0.010000\n",
      "Epoch [54], Batch [100/196], Loss: 1.1761, LR: 0.010000\n",
      "Epoch [54], Batch [150/196], Loss: 3.3874, LR: 0.010000\n",
      "Train set: Epoch: 54, Average loss:2.2313, LR: 0.010000 Top-1 Accuracy: 50.7460%, Top-5 Accuracy: 78.3000%, Time consumed:157.44s\n"
     ]
    },
    {
     "name": "stderr",
     "output_type": "stream",
     "text": [
      " 18%|███████████████▊                                                                        | 54/300 [2:54:51<11:53:53, 174.12s/it]"
     ]
    },
    {
     "name": "stdout",
     "output_type": "stream",
     "text": [
      "Test set: Epoch: 54, Average loss:1.3164, Top-1 Accuracy: 64.0200%, Top-5 Accuracy: 88.9000%, Time consumed:15.22s\n",
      "\n",
      "EarlyStopping 카운터: 4 / 30\n",
      "Epoch [55], Batch [50/196], Loss: 3.2343, LR: 0.010000\n",
      "Epoch [55], Batch [100/196], Loss: 1.9415, LR: 0.010000\n",
      "Epoch [55], Batch [150/196], Loss: 1.2570, LR: 0.010000\n",
      "Train set: Epoch: 55, Average loss:2.0642, LR: 0.010000 Top-1 Accuracy: 53.3340%, Top-5 Accuracy: 80.8140%, Time consumed:157.07s\n"
     ]
    },
    {
     "name": "stderr",
     "output_type": "stream",
     "text": [
      " 18%|████████████████▏                                                                       | 55/300 [2:57:44<11:49:00, 173.63s/it]"
     ]
    },
    {
     "name": "stdout",
     "output_type": "stream",
     "text": [
      "Test set: Epoch: 55, Average loss:1.3554, Top-1 Accuracy: 62.9300%, Top-5 Accuracy: 88.1200%, Time consumed:15.42s\n",
      "\n",
      "EarlyStopping 카운터: 5 / 30\n",
      "Epoch [56], Batch [50/196], Loss: 1.3889, LR: 0.010000\n",
      "Epoch [56], Batch [100/196], Loss: 2.6557, LR: 0.010000\n",
      "Epoch [56], Batch [150/196], Loss: 1.1369, LR: 0.010000\n",
      "Train set: Epoch: 56, Average loss:2.0172, LR: 0.010000 Top-1 Accuracy: 54.3760%, Top-5 Accuracy: 81.7240%, Time consumed:157.61s\n"
     ]
    },
    {
     "name": "stderr",
     "output_type": "stream",
     "text": [
      " 19%|████████████████▍                                                                       | 56/300 [3:00:37<11:45:10, 173.41s/it]"
     ]
    },
    {
     "name": "stdout",
     "output_type": "stream",
     "text": [
      "Test set: Epoch: 56, Average loss:1.3180, Top-1 Accuracy: 63.8900%, Top-5 Accuracy: 88.7700%, Time consumed:15.26s\n",
      "\n",
      "EarlyStopping 카운터: 6 / 30\n",
      "Epoch [57], Batch [50/196], Loss: 2.7928, LR: 0.005000\n",
      "Epoch [57], Batch [100/196], Loss: 1.0924, LR: 0.005000\n",
      "Epoch [57], Batch [150/196], Loss: 2.8664, LR: 0.005000\n",
      "Train set: Epoch: 57, Average loss:1.8384, LR: 0.005000 Top-1 Accuracy: 58.8320%, Top-5 Accuracy: 84.5820%, Time consumed:158.35s\n",
      "Test set: Epoch: 57, Average loss:1.2061, Top-1 Accuracy: 66.9500%, Top-5 Accuracy: 90.3900%, Time consumed:15.37s\n",
      "\n",
      "새로운 최고 top-1 정확도: 66.95%, top-5 정확도: 90.39%\n",
      "새로운 최고 top-5 정확도: 90.39%\n",
      "Accuracy improved (64.23% --> 66.95%). Saving model ...\n"
     ]
    },
    {
     "name": "stderr",
     "output_type": "stream",
     "text": [
      " 19%|████████████████▋                                                                       | 57/300 [3:03:31<11:42:57, 173.57s/it]"
     ]
    },
    {
     "name": "stdout",
     "output_type": "stream",
     "text": [
      "Epoch [58], Batch [50/196], Loss: 2.6652, LR: 0.005000\n",
      "Epoch [58], Batch [100/196], Loss: 1.2150, LR: 0.005000\n",
      "Epoch [58], Batch [150/196], Loss: 1.0270, LR: 0.005000\n",
      "Train set: Epoch: 58, Average loss:1.9241, LR: 0.005000 Top-1 Accuracy: 58.4760%, Top-5 Accuracy: 84.6240%, Time consumed:157.87s\n"
     ]
    },
    {
     "name": "stderr",
     "output_type": "stream",
     "text": [
      " 19%|█████████████████                                                                       | 58/300 [3:06:24<11:39:47, 173.50s/it]"
     ]
    },
    {
     "name": "stdout",
     "output_type": "stream",
     "text": [
      "Test set: Epoch: 58, Average loss:1.1992, Top-1 Accuracy: 66.6300%, Top-5 Accuracy: 90.1500%, Time consumed:15.48s\n",
      "\n",
      "EarlyStopping 카운터: 1 / 30\n",
      "Epoch [59], Batch [50/196], Loss: 0.9868, LR: 0.005000\n",
      "Epoch [59], Batch [100/196], Loss: 3.4129, LR: 0.005000\n",
      "Epoch [59], Batch [150/196], Loss: 3.3591, LR: 0.005000\n",
      "Train set: Epoch: 59, Average loss:1.9786, LR: 0.005000 Top-1 Accuracy: 57.3280%, Top-5 Accuracy: 83.2880%, Time consumed:158.78s\n"
     ]
    },
    {
     "name": "stderr",
     "output_type": "stream",
     "text": [
      " 20%|█████████████████▎                                                                      | 59/300 [3:09:18<11:37:31, 173.66s/it]"
     ]
    },
    {
     "name": "stdout",
     "output_type": "stream",
     "text": [
      "Test set: Epoch: 59, Average loss:1.1820, Top-1 Accuracy: 66.5600%, Top-5 Accuracy: 90.2600%, Time consumed:15.22s\n",
      "\n",
      "EarlyStopping 카운터: 2 / 30\n",
      "Epoch [60], Batch [50/196], Loss: 2.9891, LR: 0.005000\n",
      "Epoch [60], Batch [100/196], Loss: 1.5344, LR: 0.005000\n",
      "Epoch [60], Batch [150/196], Loss: 1.4473, LR: 0.005000\n",
      "Train set: Epoch: 60, Average loss:1.9187, LR: 0.005000 Top-1 Accuracy: 57.9000%, Top-5 Accuracy: 83.7740%, Time consumed:156.23s\n",
      "Test set: Epoch: 60, Average loss:1.1675, Top-1 Accuracy: 67.6400%, Top-5 Accuracy: 91.1600%, Time consumed:15.39s\n",
      "\n",
      "새로운 최고 top-1 정확도: 67.64%, top-5 정확도: 91.16%\n",
      "새로운 최고 top-5 정확도: 91.16%\n",
      "Accuracy improved (66.95% --> 67.64%). Saving model ...\n"
     ]
    },
    {
     "name": "stderr",
     "output_type": "stream",
     "text": [
      " 20%|█████████████████▌                                                                      | 60/300 [3:12:10<11:32:28, 173.12s/it]"
     ]
    },
    {
     "name": "stdout",
     "output_type": "stream",
     "text": [
      "Epoch [61], Batch [50/196], Loss: 3.3317, LR: 0.005000\n",
      "Epoch [61], Batch [100/196], Loss: 1.6308, LR: 0.005000\n",
      "Epoch [61], Batch [150/196], Loss: 3.1538, LR: 0.005000\n",
      "Train set: Epoch: 61, Average loss:1.8983, LR: 0.005000 Top-1 Accuracy: 57.9720%, Top-5 Accuracy: 83.6840%, Time consumed:157.14s\n",
      "Test set: Epoch: 61, Average loss:1.1601, Top-1 Accuracy: 67.8900%, Top-5 Accuracy: 91.0100%, Time consumed:15.92s\n",
      "\n",
      "새로운 최고 top-1 정확도: 67.89%, top-5 정확도: 91.01%\n",
      "Accuracy improved (67.64% --> 67.89%). Saving model ...\n"
     ]
    },
    {
     "name": "stderr",
     "output_type": "stream",
     "text": [
      " 20%|█████████████████▉                                                                      | 61/300 [3:15:03<11:29:49, 173.18s/it]"
     ]
    },
    {
     "name": "stdout",
     "output_type": "stream",
     "text": [
      "Epoch [62], Batch [50/196], Loss: 1.2000, LR: 0.005000\n",
      "Epoch [62], Batch [100/196], Loss: 1.3679, LR: 0.005000\n",
      "Epoch [62], Batch [150/196], Loss: 1.8764, LR: 0.005000\n",
      "Train set: Epoch: 62, Average loss:1.9394, LR: 0.005000 Top-1 Accuracy: 57.7700%, Top-5 Accuracy: 83.5580%, Time consumed:156.59s\n"
     ]
    },
    {
     "name": "stderr",
     "output_type": "stream",
     "text": [
      " 21%|██████████████████▏                                                                     | 62/300 [3:17:55<11:26:01, 172.95s/it]"
     ]
    },
    {
     "name": "stdout",
     "output_type": "stream",
     "text": [
      "Test set: Epoch: 62, Average loss:1.1434, Top-1 Accuracy: 67.8400%, Top-5 Accuracy: 91.0300%, Time consumed:15.81s\n",
      "\n",
      "EarlyStopping 카운터: 1 / 30\n",
      "Epoch [63], Batch [50/196], Loss: 0.9141, LR: 0.005000\n",
      "Epoch [63], Batch [100/196], Loss: 1.5611, LR: 0.005000\n",
      "Epoch [63], Batch [150/196], Loss: 1.0103, LR: 0.005000\n",
      "Train set: Epoch: 63, Average loss:1.7941, LR: 0.005000 Top-1 Accuracy: 61.1140%, Top-5 Accuracy: 85.9920%, Time consumed:160.44s\n"
     ]
    },
    {
     "name": "stderr",
     "output_type": "stream",
     "text": [
      " 21%|██████████████████▍                                                                     | 63/300 [3:20:51<11:26:46, 173.87s/it]"
     ]
    },
    {
     "name": "stdout",
     "output_type": "stream",
     "text": [
      "Test set: Epoch: 63, Average loss:1.1270, Top-1 Accuracy: 67.6900%, Top-5 Accuracy: 91.0700%, Time consumed:15.57s\n",
      "\n",
      "EarlyStopping 카운터: 2 / 30\n",
      "Epoch [64], Batch [50/196], Loss: 1.2684, LR: 0.005000\n",
      "Epoch [64], Batch [100/196], Loss: 1.7812, LR: 0.005000\n",
      "Epoch [64], Batch [150/196], Loss: 2.6090, LR: 0.005000\n",
      "Train set: Epoch: 64, Average loss:2.0030, LR: 0.005000 Top-1 Accuracy: 55.7780%, Top-5 Accuracy: 82.0320%, Time consumed:157.18s\n"
     ]
    },
    {
     "name": "stderr",
     "output_type": "stream",
     "text": [
      " 21%|██████████████████▊                                                                     | 64/300 [3:23:44<11:22:40, 173.56s/it]"
     ]
    },
    {
     "name": "stdout",
     "output_type": "stream",
     "text": [
      "Test set: Epoch: 64, Average loss:1.2282, Top-1 Accuracy: 67.2900%, Top-5 Accuracy: 90.9700%, Time consumed:15.65s\n",
      "\n",
      "EarlyStopping 카운터: 3 / 30\n",
      "Epoch [65], Batch [50/196], Loss: 3.3611, LR: 0.005000\n",
      "Epoch [65], Batch [100/196], Loss: 3.0777, LR: 0.005000\n",
      "Epoch [65], Batch [150/196], Loss: 3.0480, LR: 0.005000\n",
      "Train set: Epoch: 65, Average loss:1.9213, LR: 0.005000 Top-1 Accuracy: 58.0940%, Top-5 Accuracy: 83.8380%, Time consumed:156.03s\n"
     ]
    },
    {
     "name": "stderr",
     "output_type": "stream",
     "text": [
      " 22%|███████████████████                                                                     | 65/300 [3:26:36<11:17:35, 173.00s/it]"
     ]
    },
    {
     "name": "stdout",
     "output_type": "stream",
     "text": [
      "Test set: Epoch: 65, Average loss:1.1655, Top-1 Accuracy: 67.2300%, Top-5 Accuracy: 90.7800%, Time consumed:15.67s\n",
      "\n",
      "EarlyStopping 카운터: 4 / 30\n",
      "Epoch [66], Batch [50/196], Loss: 0.8179, LR: 0.005000\n",
      "Epoch [66], Batch [100/196], Loss: 1.1294, LR: 0.005000\n",
      "Epoch [66], Batch [150/196], Loss: 2.0487, LR: 0.005000\n",
      "Train set: Epoch: 66, Average loss:1.9317, LR: 0.005000 Top-1 Accuracy: 58.1800%, Top-5 Accuracy: 83.8800%, Time consumed:156.41s\n",
      "Test set: Epoch: 66, Average loss:1.1417, Top-1 Accuracy: 68.3000%, Top-5 Accuracy: 91.3000%, Time consumed:15.25s\n",
      "\n",
      "새로운 최고 top-1 정확도: 68.30%, top-5 정확도: 91.30%\n",
      "새로운 최고 top-5 정확도: 91.30%\n",
      "Accuracy improved (67.89% --> 68.30%). Saving model ...\n"
     ]
    },
    {
     "name": "stderr",
     "output_type": "stream",
     "text": [
      " 22%|███████████████████▎                                                                    | 66/300 [3:29:28<11:13:26, 172.68s/it]"
     ]
    },
    {
     "name": "stdout",
     "output_type": "stream",
     "text": [
      "Epoch [67], Batch [50/196], Loss: 3.3195, LR: 0.002500\n",
      "Epoch [67], Batch [100/196], Loss: 1.6124, LR: 0.002500\n",
      "Epoch [67], Batch [150/196], Loss: 2.1676, LR: 0.002500\n",
      "Train set: Epoch: 67, Average loss:1.8469, LR: 0.002500 Top-1 Accuracy: 59.9940%, Top-5 Accuracy: 84.4440%, Time consumed:157.41s\n",
      "Test set: Epoch: 67, Average loss:1.0689, Top-1 Accuracy: 69.3000%, Top-5 Accuracy: 91.5600%, Time consumed:15.61s\n",
      "\n",
      "새로운 최고 top-1 정확도: 69.30%, top-5 정확도: 91.56%\n",
      "새로운 최고 top-5 정확도: 91.56%\n",
      "Accuracy improved (68.30% --> 69.30%). Saving model ...\n"
     ]
    },
    {
     "name": "stderr",
     "output_type": "stream",
     "text": [
      " 22%|███████████████████▋                                                                    | 67/300 [3:32:21<11:11:14, 172.85s/it]"
     ]
    },
    {
     "name": "stdout",
     "output_type": "stream",
     "text": [
      "Epoch [68], Batch [50/196], Loss: 2.9335, LR: 0.002500\n",
      "Epoch [68], Batch [100/196], Loss: 1.1410, LR: 0.002500\n",
      "Epoch [68], Batch [150/196], Loss: 3.3044, LR: 0.002500\n",
      "Train set: Epoch: 68, Average loss:1.8117, LR: 0.002500 Top-1 Accuracy: 60.2240%, Top-5 Accuracy: 84.9600%, Time consumed:156.12s\n"
     ]
    },
    {
     "name": "stderr",
     "output_type": "stream",
     "text": [
      " 23%|███████████████████▉                                                                    | 68/300 [3:35:12<11:06:28, 172.37s/it]"
     ]
    },
    {
     "name": "stdout",
     "output_type": "stream",
     "text": [
      "Test set: Epoch: 68, Average loss:1.0983, Top-1 Accuracy: 69.2500%, Top-5 Accuracy: 91.6300%, Time consumed:15.10s\n",
      "\n",
      "새로운 최고 top-5 정확도: 91.63%\n",
      "EarlyStopping 카운터: 1 / 30\n",
      "Epoch [69], Batch [50/196], Loss: 3.0113, LR: 0.002500\n",
      "Epoch [69], Batch [100/196], Loss: 0.7652, LR: 0.002500\n",
      "Epoch [69], Batch [150/196], Loss: 1.1407, LR: 0.002500\n",
      "Train set: Epoch: 69, Average loss:1.9118, LR: 0.002500 Top-1 Accuracy: 59.3580%, Top-5 Accuracy: 84.0480%, Time consumed:160.55s\n",
      "Test set: Epoch: 69, Average loss:1.1080, Top-1 Accuracy: 69.4800%, Top-5 Accuracy: 91.7600%, Time consumed:15.31s\n",
      "\n",
      "새로운 최고 top-1 정확도: 69.48%, top-5 정확도: 91.76%\n",
      "새로운 최고 top-5 정확도: 91.76%\n",
      "Accuracy improved (69.30% --> 69.48%). Saving model ...\n"
     ]
    },
    {
     "name": "stderr",
     "output_type": "stream",
     "text": [
      " 23%|████████████████████▏                                                                   | 69/300 [3:38:09<11:07:57, 173.49s/it]"
     ]
    },
    {
     "name": "stdout",
     "output_type": "stream",
     "text": [
      "Epoch [70], Batch [50/196], Loss: 1.2053, LR: 0.002500\n",
      "Epoch [70], Batch [100/196], Loss: 3.1797, LR: 0.002500\n",
      "Epoch [70], Batch [150/196], Loss: 1.2012, LR: 0.002500\n",
      "Train set: Epoch: 70, Average loss:1.8188, LR: 0.002500 Top-1 Accuracy: 60.8880%, Top-5 Accuracy: 85.3360%, Time consumed:156.41s\n"
     ]
    },
    {
     "name": "stderr",
     "output_type": "stream",
     "text": [
      " 23%|████████████████████▌                                                                   | 70/300 [3:41:01<11:03:20, 173.04s/it]"
     ]
    },
    {
     "name": "stdout",
     "output_type": "stream",
     "text": [
      "Test set: Epoch: 70, Average loss:1.0761, Top-1 Accuracy: 69.1400%, Top-5 Accuracy: 91.8900%, Time consumed:15.58s\n",
      "\n",
      "새로운 최고 top-5 정확도: 91.89%\n",
      "EarlyStopping 카운터: 1 / 30\n",
      "Epoch [71], Batch [50/196], Loss: 0.6955, LR: 0.002500\n",
      "Epoch [71], Batch [100/196], Loss: 1.3180, LR: 0.002500\n",
      "Epoch [71], Batch [150/196], Loss: 1.9346, LR: 0.002500\n",
      "Train set: Epoch: 71, Average loss:1.7762, LR: 0.002500 Top-1 Accuracy: 62.1220%, Top-5 Accuracy: 86.2440%, Time consumed:157.30s\n"
     ]
    },
    {
     "name": "stderr",
     "output_type": "stream",
     "text": [
      " 24%|████████████████████▊                                                                   | 71/300 [3:43:53<10:59:42, 172.85s/it]"
     ]
    },
    {
     "name": "stdout",
     "output_type": "stream",
     "text": [
      "Test set: Epoch: 71, Average loss:1.1088, Top-1 Accuracy: 69.0600%, Top-5 Accuracy: 91.6000%, Time consumed:15.10s\n",
      "\n",
      "EarlyStopping 카운터: 2 / 30\n",
      "Epoch [72], Batch [50/196], Loss: 0.7489, LR: 0.002500\n",
      "Epoch [72], Batch [100/196], Loss: 1.2013, LR: 0.002500\n",
      "Epoch [72], Batch [150/196], Loss: 2.9565, LR: 0.002500\n",
      "Train set: Epoch: 72, Average loss:1.8272, LR: 0.002500 Top-1 Accuracy: 61.2000%, Top-5 Accuracy: 85.6980%, Time consumed:156.16s\n",
      "Test set: Epoch: 72, Average loss:1.0714, Top-1 Accuracy: 69.6100%, Top-5 Accuracy: 91.9800%, Time consumed:15.64s\n",
      "\n",
      "새로운 최고 top-1 정확도: 69.61%, top-5 정확도: 91.98%\n",
      "새로운 최고 top-5 정확도: 91.98%\n",
      "Accuracy improved (69.48% --> 69.61%). Saving model ...\n"
     ]
    },
    {
     "name": "stderr",
     "output_type": "stream",
     "text": [
      " 24%|█████████████████████                                                                   | 72/300 [3:46:45<10:55:55, 172.61s/it]"
     ]
    },
    {
     "name": "stdout",
     "output_type": "stream",
     "text": [
      "Epoch [73], Batch [50/196], Loss: 1.0642, LR: 0.002500\n",
      "Epoch [73], Batch [100/196], Loss: 0.8596, LR: 0.002500\n",
      "Epoch [73], Batch [150/196], Loss: 2.6262, LR: 0.002500\n",
      "Train set: Epoch: 73, Average loss:1.9384, LR: 0.002500 Top-1 Accuracy: 59.4200%, Top-5 Accuracy: 84.2640%, Time consumed:156.87s\n",
      "Test set: Epoch: 73, Average loss:1.0717, Top-1 Accuracy: 70.0700%, Top-5 Accuracy: 92.1000%, Time consumed:15.61s\n",
      "\n",
      "새로운 최고 top-1 정확도: 70.07%, top-5 정확도: 92.10%\n",
      "새로운 최고 top-5 정확도: 92.10%\n",
      "Accuracy improved (69.61% --> 70.07%). Saving model ...\n"
     ]
    },
    {
     "name": "stderr",
     "output_type": "stream",
     "text": [
      " 24%|█████████████████████▍                                                                  | 73/300 [3:49:38<10:53:12, 172.65s/it]"
     ]
    },
    {
     "name": "stdout",
     "output_type": "stream",
     "text": [
      "Epoch [74], Batch [50/196], Loss: 0.9811, LR: 0.002500\n",
      "Epoch [74], Batch [100/196], Loss: 1.5425, LR: 0.002500\n",
      "Epoch [74], Batch [150/196], Loss: 0.8931, LR: 0.002500\n",
      "Train set: Epoch: 74, Average loss:1.8237, LR: 0.002500 Top-1 Accuracy: 60.7200%, Top-5 Accuracy: 85.1700%, Time consumed:156.91s\n",
      "Test set: Epoch: 74, Average loss:1.0481, Top-1 Accuracy: 70.3300%, Top-5 Accuracy: 92.1500%, Time consumed:15.67s\n",
      "\n",
      "새로운 최고 top-1 정확도: 70.33%, top-5 정확도: 92.15%\n",
      "새로운 최고 top-5 정확도: 92.15%\n",
      "Accuracy improved (70.07% --> 70.33%). Saving model ...\n"
     ]
    },
    {
     "name": "stderr",
     "output_type": "stream",
     "text": [
      " 25%|█████████████████████▋                                                                  | 74/300 [3:52:31<10:50:32, 172.71s/it]"
     ]
    },
    {
     "name": "stdout",
     "output_type": "stream",
     "text": [
      "Epoch [75], Batch [50/196], Loss: 0.9521, LR: 0.002500\n",
      "Epoch [75], Batch [100/196], Loss: 0.8589, LR: 0.002500\n",
      "Epoch [75], Batch [150/196], Loss: 1.4722, LR: 0.002500\n",
      "Train set: Epoch: 75, Average loss:1.7834, LR: 0.002500 Top-1 Accuracy: 62.5580%, Top-5 Accuracy: 87.0200%, Time consumed:158.57s\n",
      "Test set: Epoch: 75, Average loss:1.0635, Top-1 Accuracy: 70.4800%, Top-5 Accuracy: 92.1700%, Time consumed:15.38s\n",
      "\n",
      "새로운 최고 top-1 정확도: 70.48%, top-5 정확도: 92.17%\n",
      "새로운 최고 top-5 정확도: 92.17%\n",
      "Accuracy improved (70.33% --> 70.48%). Saving model ...\n"
     ]
    },
    {
     "name": "stderr",
     "output_type": "stream",
     "text": [
      " 25%|██████████████████████                                                                  | 75/300 [3:55:25<10:49:19, 173.15s/it]"
     ]
    },
    {
     "name": "stdout",
     "output_type": "stream",
     "text": [
      "Epoch [76], Batch [50/196], Loss: 0.7782, LR: 0.002500\n",
      "Epoch [76], Batch [100/196], Loss: 0.9487, LR: 0.002500\n",
      "Epoch [76], Batch [150/196], Loss: 2.2867, LR: 0.002500\n",
      "Train set: Epoch: 76, Average loss:1.8391, LR: 0.002500 Top-1 Accuracy: 59.9900%, Top-5 Accuracy: 84.4940%, Time consumed:156.49s\n",
      "Test set: Epoch: 76, Average loss:1.0393, Top-1 Accuracy: 70.6600%, Top-5 Accuracy: 91.9700%, Time consumed:15.32s\n",
      "\n",
      "새로운 최고 top-1 정확도: 70.66%, top-5 정확도: 91.97%\n",
      "Accuracy improved (70.48% --> 70.66%). Saving model ...\n"
     ]
    },
    {
     "name": "stderr",
     "output_type": "stream",
     "text": [
      " 25%|██████████████████████▎                                                                 | 76/300 [3:58:17<10:45:14, 172.83s/it]"
     ]
    },
    {
     "name": "stdout",
     "output_type": "stream",
     "text": [
      "Epoch [77], Batch [50/196], Loss: 0.8177, LR: 0.002500\n",
      "Epoch [77], Batch [100/196], Loss: 2.2236, LR: 0.002500\n",
      "Epoch [77], Batch [150/196], Loss: 1.5194, LR: 0.002500\n",
      "Train set: Epoch: 77, Average loss:1.8013, LR: 0.002500 Top-1 Accuracy: 60.6640%, Top-5 Accuracy: 85.0980%, Time consumed:155.61s\n"
     ]
    },
    {
     "name": "stderr",
     "output_type": "stream",
     "text": [
      " 26%|██████████████████████▌                                                                 | 77/300 [4:01:08<10:40:30, 172.33s/it]"
     ]
    },
    {
     "name": "stdout",
     "output_type": "stream",
     "text": [
      "Test set: Epoch: 77, Average loss:1.0525, Top-1 Accuracy: 70.5200%, Top-5 Accuracy: 92.1300%, Time consumed:15.55s\n",
      "\n",
      "EarlyStopping 카운터: 1 / 30\n",
      "Epoch [78], Batch [50/196], Loss: 1.1876, LR: 0.002500\n",
      "Epoch [78], Batch [100/196], Loss: 1.2460, LR: 0.002500\n",
      "Epoch [78], Batch [150/196], Loss: 1.1962, LR: 0.002500\n",
      "Train set: Epoch: 78, Average loss:1.8151, LR: 0.002500 Top-1 Accuracy: 60.2320%, Top-5 Accuracy: 84.2300%, Time consumed:156.69s\n"
     ]
    },
    {
     "name": "stderr",
     "output_type": "stream",
     "text": [
      " 26%|██████████████████████▉                                                                 | 78/300 [4:04:00<10:37:33, 172.31s/it]"
     ]
    },
    {
     "name": "stdout",
     "output_type": "stream",
     "text": [
      "Test set: Epoch: 78, Average loss:1.0525, Top-1 Accuracy: 70.3600%, Top-5 Accuracy: 92.0100%, Time consumed:15.57s\n",
      "\n",
      "EarlyStopping 카운터: 2 / 30\n",
      "Epoch [79], Batch [50/196], Loss: 0.7152, LR: 0.002500\n",
      "Epoch [79], Batch [100/196], Loss: 1.0803, LR: 0.002500\n",
      "Epoch [79], Batch [150/196], Loss: 2.5613, LR: 0.002500\n",
      "Train set: Epoch: 79, Average loss:1.6910, LR: 0.002500 Top-1 Accuracy: 62.7560%, Top-5 Accuracy: 86.1720%, Time consumed:157.54s\n"
     ]
    },
    {
     "name": "stderr",
     "output_type": "stream",
     "text": [
      " 26%|███████████████████████▏                                                                | 79/300 [4:06:54<10:35:51, 172.63s/it]"
     ]
    },
    {
     "name": "stdout",
     "output_type": "stream",
     "text": [
      "Test set: Epoch: 79, Average loss:1.0966, Top-1 Accuracy: 69.5800%, Top-5 Accuracy: 91.4000%, Time consumed:15.83s\n",
      "\n",
      "EarlyStopping 카운터: 3 / 30\n",
      "Epoch [80], Batch [50/196], Loss: 1.6714, LR: 0.001250\n",
      "Epoch [80], Batch [100/196], Loss: 2.1263, LR: 0.001250\n",
      "Epoch [80], Batch [150/196], Loss: 1.0661, LR: 0.001250\n",
      "Train set: Epoch: 80, Average loss:1.7552, LR: 0.001250 Top-1 Accuracy: 62.6120%, Top-5 Accuracy: 86.4640%, Time consumed:156.62s\n"
     ]
    },
    {
     "name": "stderr",
     "output_type": "stream",
     "text": [
      " 27%|███████████████████████▍                                                                | 80/300 [4:09:46<10:32:49, 172.59s/it]"
     ]
    },
    {
     "name": "stdout",
     "output_type": "stream",
     "text": [
      "Test set: Epoch: 80, Average loss:1.0409, Top-1 Accuracy: 70.4500%, Top-5 Accuracy: 92.1700%, Time consumed:15.86s\n",
      "\n",
      "EarlyStopping 카운터: 4 / 30\n",
      "Epoch [81], Batch [50/196], Loss: 3.1047, LR: 0.001250\n",
      "Epoch [81], Batch [100/196], Loss: 1.2871, LR: 0.001250\n",
      "Epoch [81], Batch [150/196], Loss: 0.6568, LR: 0.001250\n",
      "Train set: Epoch: 81, Average loss:1.7688, LR: 0.001250 Top-1 Accuracy: 61.5940%, Top-5 Accuracy: 85.8180%, Time consumed:156.41s\n"
     ]
    },
    {
     "name": "stderr",
     "output_type": "stream",
     "text": [
      " 27%|███████████████████████▊                                                                | 81/300 [4:12:39<10:29:55, 172.58s/it]"
     ]
    },
    {
     "name": "stdout",
     "output_type": "stream",
     "text": [
      "Test set: Epoch: 81, Average loss:1.0323, Top-1 Accuracy: 70.5400%, Top-5 Accuracy: 92.2500%, Time consumed:16.14s\n",
      "\n",
      "새로운 최고 top-5 정확도: 92.25%\n",
      "EarlyStopping 카운터: 5 / 30\n",
      "Epoch [82], Batch [50/196], Loss: 1.4377, LR: 0.001250\n",
      "Epoch [82], Batch [100/196], Loss: 0.9357, LR: 0.001250\n",
      "Epoch [82], Batch [150/196], Loss: 2.5253, LR: 0.001250\n",
      "Train set: Epoch: 82, Average loss:1.8361, LR: 0.001250 Top-1 Accuracy: 61.4920%, Top-5 Accuracy: 85.3640%, Time consumed:158.10s\n",
      "Test set: Epoch: 82, Average loss:1.0308, Top-1 Accuracy: 71.2500%, Top-5 Accuracy: 92.2300%, Time consumed:15.40s\n",
      "\n",
      "새로운 최고 top-1 정확도: 71.25%, top-5 정확도: 92.23%\n",
      "Accuracy improved (70.66% --> 71.25%). Saving model ...\n"
     ]
    },
    {
     "name": "stderr",
     "output_type": "stream",
     "text": [
      " 27%|████████████████████████                                                                | 82/300 [4:15:33<10:28:20, 172.94s/it]"
     ]
    },
    {
     "name": "stdout",
     "output_type": "stream",
     "text": [
      "Epoch [83], Batch [50/196], Loss: 0.8497, LR: 0.001250\n",
      "Epoch [83], Batch [100/196], Loss: 2.6808, LR: 0.001250\n",
      "Epoch [83], Batch [150/196], Loss: 0.7414, LR: 0.001250\n",
      "Train set: Epoch: 83, Average loss:1.8216, LR: 0.001250 Top-1 Accuracy: 61.8860%, Top-5 Accuracy: 85.7840%, Time consumed:157.57s\n"
     ]
    },
    {
     "name": "stderr",
     "output_type": "stream",
     "text": [
      " 28%|████████████████████████▎                                                               | 83/300 [4:18:26<10:25:56, 173.07s/it]"
     ]
    },
    {
     "name": "stdout",
     "output_type": "stream",
     "text": [
      "Test set: Epoch: 83, Average loss:1.0327, Top-1 Accuracy: 70.5300%, Top-5 Accuracy: 92.1800%, Time consumed:15.81s\n",
      "\n",
      "EarlyStopping 카운터: 1 / 30\n",
      "Epoch [84], Batch [50/196], Loss: 2.6880, LR: 0.001250\n",
      "Epoch [84], Batch [100/196], Loss: 0.7065, LR: 0.001250\n",
      "Epoch [84], Batch [150/196], Loss: 2.6452, LR: 0.001250\n",
      "Train set: Epoch: 84, Average loss:1.8217, LR: 0.001250 Top-1 Accuracy: 61.8120%, Top-5 Accuracy: 86.0900%, Time consumed:157.00s\n"
     ]
    },
    {
     "name": "stderr",
     "output_type": "stream",
     "text": [
      " 28%|████████████████████████▋                                                               | 84/300 [4:21:18<10:22:04, 172.80s/it]"
     ]
    },
    {
     "name": "stdout",
     "output_type": "stream",
     "text": [
      "Test set: Epoch: 84, Average loss:1.0092, Top-1 Accuracy: 71.1800%, Top-5 Accuracy: 92.5300%, Time consumed:15.15s\n",
      "\n",
      "새로운 최고 top-5 정확도: 92.53%\n",
      "EarlyStopping 카운터: 2 / 30\n",
      "Epoch [85], Batch [50/196], Loss: 0.9033, LR: 0.001250\n",
      "Epoch [85], Batch [100/196], Loss: 1.9549, LR: 0.001250\n",
      "Epoch [85], Batch [150/196], Loss: 2.7619, LR: 0.001250\n",
      "Train set: Epoch: 85, Average loss:1.7204, LR: 0.001250 Top-1 Accuracy: 62.7540%, Top-5 Accuracy: 86.3480%, Time consumed:158.45s\n"
     ]
    },
    {
     "name": "stderr",
     "output_type": "stream",
     "text": [
      " 28%|████████████████████████▉                                                               | 85/300 [4:24:12<10:20:01, 173.03s/it]"
     ]
    },
    {
     "name": "stdout",
     "output_type": "stream",
     "text": [
      "Test set: Epoch: 85, Average loss:1.0500, Top-1 Accuracy: 70.8400%, Top-5 Accuracy: 92.3800%, Time consumed:15.12s\n",
      "\n",
      "EarlyStopping 카운터: 3 / 30\n",
      "Epoch [86], Batch [50/196], Loss: 2.0319, LR: 0.001250\n",
      "Epoch [86], Batch [100/196], Loss: 1.6006, LR: 0.001250\n",
      "Epoch [86], Batch [150/196], Loss: 3.4207, LR: 0.001250\n",
      "Train set: Epoch: 86, Average loss:1.9122, LR: 0.001250 Top-1 Accuracy: 60.5100%, Top-5 Accuracy: 84.7500%, Time consumed:157.51s\n"
     ]
    },
    {
     "name": "stderr",
     "output_type": "stream",
     "text": [
      " 29%|█████████████████████████▏                                                              | 86/300 [4:27:04<10:16:52, 172.95s/it]"
     ]
    },
    {
     "name": "stdout",
     "output_type": "stream",
     "text": [
      "Test set: Epoch: 86, Average loss:1.0728, Top-1 Accuracy: 70.2000%, Top-5 Accuracy: 91.8400%, Time consumed:15.26s\n",
      "\n",
      "EarlyStopping 카운터: 4 / 30\n",
      "Epoch [87], Batch [50/196], Loss: 0.9768, LR: 0.001250\n",
      "Epoch [87], Batch [100/196], Loss: 2.9624, LR: 0.001250\n",
      "Epoch [87], Batch [150/196], Loss: 3.0256, LR: 0.001250\n",
      "Train set: Epoch: 87, Average loss:1.7501, LR: 0.001250 Top-1 Accuracy: 63.3140%, Top-5 Accuracy: 86.9300%, Time consumed:156.82s\n"
     ]
    },
    {
     "name": "stderr",
     "output_type": "stream",
     "text": [
      " 29%|█████████████████████████▌                                                              | 87/300 [4:29:57<10:13:53, 172.93s/it]"
     ]
    },
    {
     "name": "stdout",
     "output_type": "stream",
     "text": [
      "Test set: Epoch: 87, Average loss:1.0120, Top-1 Accuracy: 71.0700%, Top-5 Accuracy: 92.5000%, Time consumed:16.04s\n",
      "\n",
      "EarlyStopping 카운터: 5 / 30\n",
      "Epoch [88], Batch [50/196], Loss: 1.2373, LR: 0.001250\n",
      "Epoch [88], Batch [100/196], Loss: 1.1059, LR: 0.001250\n",
      "Epoch [88], Batch [150/196], Loss: 3.1313, LR: 0.001250\n",
      "Train set: Epoch: 88, Average loss:1.6808, LR: 0.001250 Top-1 Accuracy: 64.4480%, Top-5 Accuracy: 87.5420%, Time consumed:157.74s\n"
     ]
    },
    {
     "name": "stderr",
     "output_type": "stream",
     "text": [
      " 29%|█████████████████████████▊                                                              | 88/300 [4:32:50<10:11:13, 172.99s/it]"
     ]
    },
    {
     "name": "stdout",
     "output_type": "stream",
     "text": [
      "Test set: Epoch: 88, Average loss:1.0561, Top-1 Accuracy: 70.2700%, Top-5 Accuracy: 92.1200%, Time consumed:15.38s\n",
      "\n",
      "EarlyStopping 카운터: 6 / 30\n",
      "Epoch [89], Batch [50/196], Loss: 2.5923, LR: 0.000625\n",
      "Epoch [89], Batch [100/196], Loss: 1.9931, LR: 0.000625\n",
      "Epoch [89], Batch [150/196], Loss: 2.3805, LR: 0.000625\n",
      "Train set: Epoch: 89, Average loss:1.8281, LR: 0.000625 Top-1 Accuracy: 62.6560%, Top-5 Accuracy: 86.5160%, Time consumed:157.62s\n",
      "Test set: Epoch: 89, Average loss:1.0128, Top-1 Accuracy: 71.2600%, Top-5 Accuracy: 92.5600%, Time consumed:15.14s\n",
      "\n",
      "새로운 최고 top-1 정확도: 71.26%, top-5 정확도: 92.56%\n",
      "새로운 최고 top-5 정확도: 92.56%\n",
      "Accuracy improved (71.25% --> 71.26%). Saving model ...\n"
     ]
    },
    {
     "name": "stderr",
     "output_type": "stream",
     "text": [
      " 30%|██████████████████████████                                                              | 89/300 [4:35:43<10:08:23, 173.00s/it]"
     ]
    },
    {
     "name": "stdout",
     "output_type": "stream",
     "text": [
      "Epoch [90], Batch [50/196], Loss: 3.0912, LR: 0.000625\n",
      "Epoch [90], Batch [100/196], Loss: 2.9201, LR: 0.000625\n",
      "Epoch [90], Batch [150/196], Loss: 1.1132, LR: 0.000625\n",
      "Train set: Epoch: 90, Average loss:1.7866, LR: 0.000625 Top-1 Accuracy: 62.1380%, Top-5 Accuracy: 85.6940%, Time consumed:157.93s\n",
      "Test set: Epoch: 90, Average loss:1.0135, Top-1 Accuracy: 71.2900%, Top-5 Accuracy: 92.4700%, Time consumed:15.51s\n",
      "\n",
      "새로운 최고 top-1 정확도: 71.29%, top-5 정확도: 92.47%\n",
      "Accuracy improved (71.26% --> 71.29%). Saving model ...\n"
     ]
    },
    {
     "name": "stderr",
     "output_type": "stream",
     "text": [
      " 30%|██████████████████████████▍                                                             | 90/300 [4:38:37<10:06:14, 173.21s/it]"
     ]
    },
    {
     "name": "stdout",
     "output_type": "stream",
     "text": [
      "Epoch [91], Batch [50/196], Loss: 0.7127, LR: 0.000625\n",
      "Epoch [91], Batch [100/196], Loss: 1.2881, LR: 0.000625\n",
      "Epoch [91], Batch [150/196], Loss: 3.1500, LR: 0.000625\n",
      "Train set: Epoch: 91, Average loss:1.7527, LR: 0.000625 Top-1 Accuracy: 63.8080%, Top-5 Accuracy: 86.7860%, Time consumed:156.77s\n"
     ]
    },
    {
     "name": "stderr",
     "output_type": "stream",
     "text": [
      " 30%|██████████████████████████▋                                                             | 91/300 [4:41:29<10:02:07, 172.86s/it]"
     ]
    },
    {
     "name": "stdout",
     "output_type": "stream",
     "text": [
      "Test set: Epoch: 91, Average loss:1.0700, Top-1 Accuracy: 70.8400%, Top-5 Accuracy: 92.0800%, Time consumed:15.26s\n",
      "\n",
      "EarlyStopping 카운터: 1 / 30\n",
      "Epoch [92], Batch [50/196], Loss: 0.9499, LR: 0.000625\n",
      "Epoch [92], Batch [100/196], Loss: 1.1115, LR: 0.000625\n",
      "Epoch [92], Batch [150/196], Loss: 0.8973, LR: 0.000625\n",
      "Train set: Epoch: 92, Average loss:1.7739, LR: 0.000625 Top-1 Accuracy: 63.0720%, Top-5 Accuracy: 86.5300%, Time consumed:156.98s\n"
     ]
    },
    {
     "name": "stderr",
     "output_type": "stream",
     "text": [
      " 31%|███████████████████████████▎                                                             | 92/300 [4:44:22<9:58:54, 172.76s/it]"
     ]
    },
    {
     "name": "stdout",
     "output_type": "stream",
     "text": [
      "Test set: Epoch: 92, Average loss:1.0380, Top-1 Accuracy: 70.9600%, Top-5 Accuracy: 91.9300%, Time consumed:15.55s\n",
      "\n",
      "EarlyStopping 카운터: 2 / 30\n",
      "Epoch [93], Batch [50/196], Loss: 3.0509, LR: 0.000625\n",
      "Epoch [93], Batch [100/196], Loss: 0.7299, LR: 0.000625\n",
      "Epoch [93], Batch [150/196], Loss: 2.8722, LR: 0.000625\n",
      "Train set: Epoch: 93, Average loss:1.6000, LR: 0.000625 Top-1 Accuracy: 65.9020%, Top-5 Accuracy: 88.0700%, Time consumed:157.51s\n"
     ]
    },
    {
     "name": "stderr",
     "output_type": "stream",
     "text": [
      " 31%|███████████████████████████▌                                                             | 93/300 [4:47:14<9:55:53, 172.72s/it]"
     ]
    },
    {
     "name": "stdout",
     "output_type": "stream",
     "text": [
      "Test set: Epoch: 93, Average loss:1.0272, Top-1 Accuracy: 71.0100%, Top-5 Accuracy: 92.3700%, Time consumed:15.11s\n",
      "\n",
      "EarlyStopping 카운터: 3 / 30\n",
      "Epoch [94], Batch [50/196], Loss: 2.9955, LR: 0.000625\n",
      "Epoch [94], Batch [100/196], Loss: 3.0067, LR: 0.000625\n",
      "Epoch [94], Batch [150/196], Loss: 3.1817, LR: 0.000625\n",
      "Train set: Epoch: 94, Average loss:1.7425, LR: 0.000625 Top-1 Accuracy: 62.7960%, Top-5 Accuracy: 86.2960%, Time consumed:158.49s\n",
      "Test set: Epoch: 94, Average loss:0.9884, Top-1 Accuracy: 71.8700%, Top-5 Accuracy: 92.4700%, Time consumed:15.36s\n",
      "\n",
      "새로운 최고 top-1 정확도: 71.87%, top-5 정확도: 92.47%\n",
      "Accuracy improved (71.29% --> 71.87%). Saving model ...\n"
     ]
    },
    {
     "name": "stderr",
     "output_type": "stream",
     "text": [
      " 31%|███████████████████████████▉                                                             | 94/300 [4:50:08<9:54:27, 173.14s/it]"
     ]
    },
    {
     "name": "stdout",
     "output_type": "stream",
     "text": [
      "Epoch [95], Batch [50/196], Loss: 0.7705, LR: 0.000312\n",
      "Epoch [95], Batch [100/196], Loss: 3.0724, LR: 0.000312\n",
      "Epoch [95], Batch [150/196], Loss: 1.6472, LR: 0.000312\n",
      "Train set: Epoch: 95, Average loss:1.7536, LR: 0.000312 Top-1 Accuracy: 62.8080%, Top-5 Accuracy: 85.8260%, Time consumed:157.76s\n"
     ]
    },
    {
     "name": "stderr",
     "output_type": "stream",
     "text": [
      " 32%|████████████████████████████▏                                                            | 95/300 [4:53:02<9:51:44, 173.19s/it]"
     ]
    },
    {
     "name": "stdout",
     "output_type": "stream",
     "text": [
      "Test set: Epoch: 95, Average loss:1.0059, Top-1 Accuracy: 71.5300%, Top-5 Accuracy: 92.4400%, Time consumed:15.54s\n",
      "\n",
      "EarlyStopping 카운터: 1 / 30\n",
      "Epoch [96], Batch [50/196], Loss: 2.2752, LR: 0.000312\n",
      "Epoch [96], Batch [100/196], Loss: 1.6799, LR: 0.000312\n",
      "Epoch [96], Batch [150/196], Loss: 1.0359, LR: 0.000312\n",
      "Train set: Epoch: 96, Average loss:1.7610, LR: 0.000312 Top-1 Accuracy: 62.3180%, Top-5 Accuracy: 85.6480%, Time consumed:156.01s\n"
     ]
    },
    {
     "name": "stderr",
     "output_type": "stream",
     "text": [
      " 32%|████████████████████████████▍                                                            | 96/300 [4:55:53<9:47:08, 172.69s/it]"
     ]
    },
    {
     "name": "stdout",
     "output_type": "stream",
     "text": [
      "Test set: Epoch: 96, Average loss:1.0158, Top-1 Accuracy: 71.3600%, Top-5 Accuracy: 92.3500%, Time consumed:15.49s\n",
      "\n",
      "EarlyStopping 카운터: 2 / 30\n",
      "Epoch [97], Batch [50/196], Loss: 0.8290, LR: 0.000312\n",
      "Epoch [97], Batch [100/196], Loss: 3.1000, LR: 0.000312\n",
      "Epoch [97], Batch [150/196], Loss: 0.6901, LR: 0.000312\n",
      "Train set: Epoch: 97, Average loss:1.7721, LR: 0.000312 Top-1 Accuracy: 63.2740%, Top-5 Accuracy: 86.5880%, Time consumed:157.47s\n"
     ]
    },
    {
     "name": "stderr",
     "output_type": "stream",
     "text": [
      " 32%|████████████████████████████▊                                                            | 97/300 [4:58:47<9:45:00, 172.91s/it]"
     ]
    },
    {
     "name": "stdout",
     "output_type": "stream",
     "text": [
      "Test set: Epoch: 97, Average loss:1.0309, Top-1 Accuracy: 71.4500%, Top-5 Accuracy: 92.4500%, Time consumed:15.96s\n",
      "\n",
      "EarlyStopping 카운터: 3 / 30\n",
      "Epoch [98], Batch [50/196], Loss: 0.8593, LR: 0.000312\n",
      "Epoch [98], Batch [100/196], Loss: 1.1510, LR: 0.000312\n",
      "Epoch [98], Batch [150/196], Loss: 2.9140, LR: 0.000312\n",
      "Train set: Epoch: 98, Average loss:1.6428, LR: 0.000312 Top-1 Accuracy: 65.3720%, Top-5 Accuracy: 87.9120%, Time consumed:157.01s\n",
      "Test set: Epoch: 98, Average loss:1.0134, Top-1 Accuracy: 71.9100%, Top-5 Accuracy: 92.6900%, Time consumed:15.18s\n",
      "\n",
      "새로운 최고 top-1 정확도: 71.91%, top-5 정확도: 92.69%\n"
     ]
    },
    {
     "name": "stderr",
     "output_type": "stream",
     "text": [
      " 33%|█████████████████████████████                                                            | 98/300 [5:01:39<9:41:57, 172.86s/it]"
     ]
    },
    {
     "name": "stdout",
     "output_type": "stream",
     "text": [
      "새로운 최고 top-5 정확도: 92.69%\n",
      "Accuracy improved (71.87% --> 71.91%). Saving model ...\n",
      "Epoch [99], Batch [50/196], Loss: 2.7168, LR: 0.000312\n",
      "Epoch [99], Batch [100/196], Loss: 0.9938, LR: 0.000312\n",
      "Epoch [99], Batch [150/196], Loss: 0.7783, LR: 0.000312\n",
      "Train set: Epoch: 99, Average loss:1.7156, LR: 0.000312 Top-1 Accuracy: 64.3760%, Top-5 Accuracy: 87.0780%, Time consumed:157.30s\n"
     ]
    },
    {
     "name": "stderr",
     "output_type": "stream",
     "text": [
      " 33%|█████████████████████████████▎                                                           | 99/300 [5:04:32<9:38:18, 172.63s/it]"
     ]
    },
    {
     "name": "stdout",
     "output_type": "stream",
     "text": [
      "Test set: Epoch: 99, Average loss:1.0041, Top-1 Accuracy: 71.8700%, Top-5 Accuracy: 92.9000%, Time consumed:14.80s\n",
      "\n",
      "새로운 최고 top-5 정확도: 92.90%\n",
      "EarlyStopping 카운터: 1 / 30\n",
      "Epoch [100], Batch [50/196], Loss: 3.0660, LR: 0.000312\n",
      "Epoch [100], Batch [100/196], Loss: 3.0758, LR: 0.000312\n",
      "Epoch [100], Batch [150/196], Loss: 2.3027, LR: 0.000312\n",
      "Train set: Epoch: 100, Average loss:1.7087, LR: 0.000312 Top-1 Accuracy: 64.1720%, Top-5 Accuracy: 87.1860%, Time consumed:156.00s\n"
     ]
    },
    {
     "name": "stderr",
     "output_type": "stream",
     "text": [
      " 33%|█████████████████████████████▎                                                          | 100/300 [5:07:23<9:33:54, 172.17s/it]"
     ]
    },
    {
     "name": "stdout",
     "output_type": "stream",
     "text": [
      "Test set: Epoch: 100, Average loss:1.0142, Top-1 Accuracy: 71.6800%, Top-5 Accuracy: 92.6000%, Time consumed:15.10s\n",
      "\n",
      "EarlyStopping 카운터: 2 / 30\n",
      "Epoch [101], Batch [50/196], Loss: 3.0758, LR: 0.000156\n",
      "Epoch [101], Batch [100/196], Loss: 0.7954, LR: 0.000156\n",
      "Epoch [101], Batch [150/196], Loss: 3.0805, LR: 0.000156\n",
      "Train set: Epoch: 101, Average loss:1.7098, LR: 0.000156 Top-1 Accuracy: 64.6160%, Top-5 Accuracy: 87.4440%, Time consumed:168.88s\n"
     ]
    },
    {
     "name": "stderr",
     "output_type": "stream",
     "text": [
      " 34%|█████████████████████████████▋                                                          | 101/300 [5:10:27<9:43:06, 175.81s/it]"
     ]
    },
    {
     "name": "stdout",
     "output_type": "stream",
     "text": [
      "Test set: Epoch: 101, Average loss:1.0382, Top-1 Accuracy: 71.0100%, Top-5 Accuracy: 92.1000%, Time consumed:15.42s\n",
      "\n",
      "EarlyStopping 카운터: 3 / 30\n",
      "Epoch [102], Batch [50/196], Loss: 2.8063, LR: 0.000156\n",
      "Epoch [102], Batch [100/196], Loss: 0.7320, LR: 0.000156\n",
      "Epoch [102], Batch [150/196], Loss: 0.6373, LR: 0.000156\n",
      "Train set: Epoch: 102, Average loss:1.6955, LR: 0.000156 Top-1 Accuracy: 65.1900%, Top-5 Accuracy: 87.7100%, Time consumed:158.46s\n"
     ]
    },
    {
     "name": "stderr",
     "output_type": "stream",
     "text": [
      " 34%|█████████████████████████████▉                                                          | 102/300 [5:13:21<9:38:00, 175.15s/it]"
     ]
    },
    {
     "name": "stdout",
     "output_type": "stream",
     "text": [
      "Test set: Epoch: 102, Average loss:0.9943, Top-1 Accuracy: 71.7100%, Top-5 Accuracy: 92.5500%, Time consumed:15.15s\n",
      "\n",
      "EarlyStopping 카운터: 4 / 30\n",
      "Epoch [103], Batch [50/196], Loss: 0.8728, LR: 0.000156\n",
      "Epoch [103], Batch [100/196], Loss: 0.7467, LR: 0.000156\n",
      "Epoch [103], Batch [150/196], Loss: 0.6487, LR: 0.000156\n",
      "Train set: Epoch: 103, Average loss:1.6630, LR: 0.000156 Top-1 Accuracy: 65.0080%, Top-5 Accuracy: 87.2200%, Time consumed:158.70s\n"
     ]
    },
    {
     "name": "stderr",
     "output_type": "stream",
     "text": [
      " 34%|██████████████████████████████▏                                                         | 103/300 [5:16:14<9:33:44, 174.74s/it]"
     ]
    },
    {
     "name": "stdout",
     "output_type": "stream",
     "text": [
      "Test set: Epoch: 103, Average loss:1.0167, Top-1 Accuracy: 71.5600%, Top-5 Accuracy: 92.3000%, Time consumed:15.08s\n",
      "\n",
      "EarlyStopping 카운터: 5 / 30\n",
      "Epoch [104], Batch [50/196], Loss: 0.7023, LR: 0.000156\n",
      "Epoch [104], Batch [100/196], Loss: 0.8128, LR: 0.000156\n",
      "Epoch [104], Batch [150/196], Loss: 2.8355, LR: 0.000156\n",
      "Train set: Epoch: 104, Average loss:1.7600, LR: 0.000156 Top-1 Accuracy: 63.6380%, Top-5 Accuracy: 86.4620%, Time consumed:157.96s\n"
     ]
    },
    {
     "name": "stderr",
     "output_type": "stream",
     "text": [
      " 35%|██████████████████████████████▌                                                         | 104/300 [5:19:08<9:29:24, 174.31s/it]"
     ]
    },
    {
     "name": "stdout",
     "output_type": "stream",
     "text": [
      "Test set: Epoch: 104, Average loss:0.9943, Top-1 Accuracy: 71.8200%, Top-5 Accuracy: 92.5600%, Time consumed:15.32s\n",
      "\n",
      "EarlyStopping 카운터: 6 / 30\n",
      "Epoch [105], Batch [50/196], Loss: 0.9166, LR: 0.000156\n",
      "Epoch [105], Batch [100/196], Loss: 1.0931, LR: 0.000156\n",
      "Epoch [105], Batch [150/196], Loss: 1.1046, LR: 0.000156\n",
      "Train set: Epoch: 105, Average loss:1.6424, LR: 0.000156 Top-1 Accuracy: 64.6300%, Top-5 Accuracy: 87.0640%, Time consumed:159.27s\n"
     ]
    },
    {
     "name": "stderr",
     "output_type": "stream",
     "text": [
      " 35%|██████████████████████████████▊                                                         | 105/300 [5:22:02<9:26:38, 174.35s/it]"
     ]
    },
    {
     "name": "stdout",
     "output_type": "stream",
     "text": [
      "Test set: Epoch: 105, Average loss:0.9893, Top-1 Accuracy: 71.8800%, Top-5 Accuracy: 92.8700%, Time consumed:15.19s\n",
      "\n",
      "EarlyStopping 카운터: 7 / 30\n",
      "Epoch [106], Batch [50/196], Loss: 1.7465, LR: 0.000156\n",
      "Epoch [106], Batch [100/196], Loss: 0.7885, LR: 0.000156\n",
      "Epoch [106], Batch [150/196], Loss: 1.0523, LR: 0.000156\n",
      "Train set: Epoch: 106, Average loss:1.6993, LR: 0.000156 Top-1 Accuracy: 64.4480%, Top-5 Accuracy: 87.0540%, Time consumed:160.85s\n"
     ]
    },
    {
     "name": "stderr",
     "output_type": "stream",
     "text": [
      " 35%|███████████████████████████████                                                         | 106/300 [5:24:59<9:25:45, 174.98s/it]"
     ]
    },
    {
     "name": "stdout",
     "output_type": "stream",
     "text": [
      "Test set: Epoch: 106, Average loss:1.0029, Top-1 Accuracy: 71.8300%, Top-5 Accuracy: 92.6100%, Time consumed:15.58s\n",
      "\n",
      "EarlyStopping 카운터: 8 / 30\n",
      "Epoch [107], Batch [50/196], Loss: 1.6186, LR: 0.000078\n",
      "Epoch [107], Batch [100/196], Loss: 1.2340, LR: 0.000078\n",
      "Epoch [107], Batch [150/196], Loss: 0.7675, LR: 0.000078\n",
      "Train set: Epoch: 107, Average loss:1.8145, LR: 0.000078 Top-1 Accuracy: 62.1500%, Top-5 Accuracy: 85.1140%, Time consumed:155.78s\n"
     ]
    },
    {
     "name": "stderr",
     "output_type": "stream",
     "text": [
      " 36%|███████████████████████████████▍                                                        | 107/300 [5:27:50<9:19:16, 173.87s/it]"
     ]
    },
    {
     "name": "stdout",
     "output_type": "stream",
     "text": [
      "Test set: Epoch: 107, Average loss:1.0386, Top-1 Accuracy: 71.2400%, Top-5 Accuracy: 92.4300%, Time consumed:15.50s\n",
      "\n",
      "EarlyStopping 카운터: 9 / 30\n",
      "Epoch [108], Batch [50/196], Loss: 0.7660, LR: 0.000078\n",
      "Epoch [108], Batch [100/196], Loss: 0.9312, LR: 0.000078\n",
      "Epoch [108], Batch [150/196], Loss: 2.6001, LR: 0.000078\n",
      "Train set: Epoch: 108, Average loss:1.6846, LR: 0.000078 Top-1 Accuracy: 64.5780%, Top-5 Accuracy: 86.7360%, Time consumed:156.92s\n"
     ]
    },
    {
     "name": "stderr",
     "output_type": "stream",
     "text": [
      " 36%|███████████████████████████████▋                                                        | 108/300 [5:30:42<9:14:37, 173.32s/it]"
     ]
    },
    {
     "name": "stdout",
     "output_type": "stream",
     "text": [
      "Test set: Epoch: 108, Average loss:0.9964, Top-1 Accuracy: 71.7500%, Top-5 Accuracy: 92.6200%, Time consumed:15.11s\n",
      "\n",
      "EarlyStopping 카운터: 10 / 30\n",
      "Epoch [109], Batch [50/196], Loss: 0.7049, LR: 0.000078\n",
      "Epoch [109], Batch [100/196], Loss: 0.9510, LR: 0.000078\n",
      "Epoch [109], Batch [150/196], Loss: 2.9461, LR: 0.000078\n",
      "Train set: Epoch: 109, Average loss:1.5453, LR: 0.000078 Top-1 Accuracy: 67.5220%, Top-5 Accuracy: 89.4500%, Time consumed:158.17s\n"
     ]
    },
    {
     "name": "stderr",
     "output_type": "stream",
     "text": [
      " 36%|███████████████████████████████▉                                                        | 109/300 [5:33:35<9:11:48, 173.34s/it]"
     ]
    },
    {
     "name": "stdout",
     "output_type": "stream",
     "text": [
      "Test set: Epoch: 109, Average loss:1.0544, Top-1 Accuracy: 71.4200%, Top-5 Accuracy: 92.5000%, Time consumed:15.21s\n",
      "\n",
      "EarlyStopping 카운터: 11 / 30\n",
      "Epoch [110], Batch [50/196], Loss: 1.0622, LR: 0.000078\n",
      "Epoch [110], Batch [100/196], Loss: 3.0006, LR: 0.000078\n",
      "Epoch [110], Batch [150/196], Loss: 3.4472, LR: 0.000078\n",
      "Train set: Epoch: 110, Average loss:1.7114, LR: 0.000078 Top-1 Accuracy: 64.4040%, Top-5 Accuracy: 86.9560%, Time consumed:157.83s\n"
     ]
    },
    {
     "name": "stderr",
     "output_type": "stream",
     "text": [
      " 37%|████████████████████████████████▎                                                       | 110/300 [5:36:29<9:09:00, 173.37s/it]"
     ]
    },
    {
     "name": "stdout",
     "output_type": "stream",
     "text": [
      "Test set: Epoch: 110, Average loss:0.9920, Top-1 Accuracy: 71.6300%, Top-5 Accuracy: 92.5700%, Time consumed:15.60s\n",
      "\n",
      "EarlyStopping 카운터: 12 / 30\n",
      "Epoch [111], Batch [50/196], Loss: 2.9287, LR: 0.000078\n",
      "Epoch [111], Batch [100/196], Loss: 0.6084, LR: 0.000078\n",
      "Epoch [111], Batch [150/196], Loss: 0.7053, LR: 0.000078\n",
      "Train set: Epoch: 111, Average loss:1.6781, LR: 0.000078 Top-1 Accuracy: 65.1060%, Top-5 Accuracy: 87.6320%, Time consumed:156.51s\n",
      "Test set: Epoch: 111, Average loss:0.9727, Top-1 Accuracy: 72.1100%, Top-5 Accuracy: 92.9000%, Time consumed:15.60s\n",
      "\n",
      "새로운 최고 top-1 정확도: 72.11%, top-5 정확도: 92.90%\n",
      "Accuracy improved (71.91% --> 72.11%). Saving model ...\n"
     ]
    },
    {
     "name": "stderr",
     "output_type": "stream",
     "text": [
      " 37%|████████████████████████████████▌                                                       | 111/300 [5:39:21<9:05:09, 173.06s/it]"
     ]
    },
    {
     "name": "stdout",
     "output_type": "stream",
     "text": [
      "Epoch [112], Batch [50/196], Loss: 0.5659, LR: 0.000078\n",
      "Epoch [112], Batch [100/196], Loss: 0.9868, LR: 0.000078\n",
      "Epoch [112], Batch [150/196], Loss: 1.2909, LR: 0.000078\n",
      "Train set: Epoch: 112, Average loss:1.7143, LR: 0.000078 Top-1 Accuracy: 64.1900%, Top-5 Accuracy: 86.8600%, Time consumed:157.66s\n"
     ]
    },
    {
     "name": "stderr",
     "output_type": "stream",
     "text": [
      " 37%|████████████████████████████████▊                                                       | 112/300 [5:42:14<9:02:14, 173.06s/it]"
     ]
    },
    {
     "name": "stdout",
     "output_type": "stream",
     "text": [
      "Test set: Epoch: 112, Average loss:1.0102, Top-1 Accuracy: 71.5400%, Top-5 Accuracy: 92.4600%, Time consumed:15.37s\n",
      "\n",
      "EarlyStopping 카운터: 1 / 30\n",
      "Epoch [113], Batch [50/196], Loss: 2.7191, LR: 0.000078\n",
      "Epoch [113], Batch [100/196], Loss: 3.0336, LR: 0.000078\n",
      "Epoch [113], Batch [150/196], Loss: 0.8117, LR: 0.000078\n",
      "Train set: Epoch: 113, Average loss:1.7238, LR: 0.000078 Top-1 Accuracy: 63.7440%, Top-5 Accuracy: 86.7960%, Time consumed:157.49s\n"
     ]
    },
    {
     "name": "stderr",
     "output_type": "stream",
     "text": [
      " 38%|█████████████████████████████████▏                                                      | 113/300 [5:45:07<8:59:14, 173.02s/it]"
     ]
    },
    {
     "name": "stdout",
     "output_type": "stream",
     "text": [
      "Test set: Epoch: 113, Average loss:0.9943, Top-1 Accuracy: 71.8300%, Top-5 Accuracy: 92.6000%, Time consumed:15.44s\n",
      "\n",
      "EarlyStopping 카운터: 2 / 30\n",
      "Epoch [114], Batch [50/196], Loss: 2.7965, LR: 0.000078\n",
      "Epoch [114], Batch [100/196], Loss: 1.2035, LR: 0.000078\n",
      "Epoch [114], Batch [150/196], Loss: 1.9473, LR: 0.000078\n",
      "Train set: Epoch: 114, Average loss:1.7798, LR: 0.000078 Top-1 Accuracy: 62.2620%, Top-5 Accuracy: 85.3900%, Time consumed:156.26s\n"
     ]
    },
    {
     "name": "stderr",
     "output_type": "stream",
     "text": [
      " 38%|█████████████████████████████████▍                                                      | 114/300 [5:47:58<8:54:51, 172.53s/it]"
     ]
    },
    {
     "name": "stdout",
     "output_type": "stream",
     "text": [
      "Test set: Epoch: 114, Average loss:1.0107, Top-1 Accuracy: 71.8400%, Top-5 Accuracy: 92.6800%, Time consumed:15.14s\n",
      "\n",
      "EarlyStopping 카운터: 3 / 30\n",
      "Epoch [115], Batch [50/196], Loss: 0.8692, LR: 0.000078\n",
      "Epoch [115], Batch [100/196], Loss: 2.5158, LR: 0.000078\n",
      "Epoch [115], Batch [150/196], Loss: 1.6660, LR: 0.000078\n",
      "Train set: Epoch: 115, Average loss:1.8433, LR: 0.000078 Top-1 Accuracy: 62.0240%, Top-5 Accuracy: 85.6840%, Time consumed:156.94s\n"
     ]
    },
    {
     "name": "stderr",
     "output_type": "stream",
     "text": [
      " 38%|█████████████████████████████████▋                                                      | 115/300 [5:50:51<8:51:38, 172.42s/it]"
     ]
    },
    {
     "name": "stdout",
     "output_type": "stream",
     "text": [
      "Test set: Epoch: 115, Average loss:1.0303, Top-1 Accuracy: 71.5600%, Top-5 Accuracy: 92.4200%, Time consumed:15.21s\n",
      "\n",
      "EarlyStopping 카운터: 4 / 30\n",
      "Epoch [116], Batch [50/196], Loss: 1.2865, LR: 0.000078\n",
      "Epoch [116], Batch [100/196], Loss: 1.0628, LR: 0.000078\n",
      "Epoch [116], Batch [150/196], Loss: 1.1229, LR: 0.000078\n",
      "Train set: Epoch: 116, Average loss:1.6968, LR: 0.000078 Top-1 Accuracy: 64.3220%, Top-5 Accuracy: 87.4480%, Time consumed:158.07s\n"
     ]
    },
    {
     "name": "stderr",
     "output_type": "stream",
     "text": [
      " 39%|██████████████████████████████████                                                      | 116/300 [5:53:44<8:49:35, 172.69s/it]"
     ]
    },
    {
     "name": "stdout",
     "output_type": "stream",
     "text": [
      "Test set: Epoch: 116, Average loss:1.0034, Top-1 Accuracy: 71.8500%, Top-5 Accuracy: 92.7500%, Time consumed:15.24s\n",
      "\n",
      "EarlyStopping 카운터: 5 / 30\n",
      "Epoch [117], Batch [50/196], Loss: 1.0253, LR: 0.000078\n",
      "Epoch [117], Batch [100/196], Loss: 2.6116, LR: 0.000078\n",
      "Epoch [117], Batch [150/196], Loss: 1.0363, LR: 0.000078\n",
      "Train set: Epoch: 117, Average loss:1.6570, LR: 0.000078 Top-1 Accuracy: 65.4020%, Top-5 Accuracy: 87.8480%, Time consumed:155.73s\n"
     ]
    },
    {
     "name": "stderr",
     "output_type": "stream",
     "text": [
      " 39%|██████████████████████████████████▎                                                     | 117/300 [5:56:35<8:45:31, 172.30s/it]"
     ]
    },
    {
     "name": "stdout",
     "output_type": "stream",
     "text": [
      "Test set: Epoch: 117, Average loss:1.0131, Top-1 Accuracy: 71.8100%, Top-5 Accuracy: 92.5200%, Time consumed:15.66s\n",
      "\n",
      "EarlyStopping 카운터: 6 / 30\n",
      "Epoch [118], Batch [50/196], Loss: 0.7863, LR: 0.000039\n",
      "Epoch [118], Batch [100/196], Loss: 0.7099, LR: 0.000039\n",
      "Epoch [118], Batch [150/196], Loss: 2.4371, LR: 0.000039\n",
      "Train set: Epoch: 118, Average loss:1.6608, LR: 0.000039 Top-1 Accuracy: 65.3200%, Top-5 Accuracy: 87.8880%, Time consumed:156.69s\n"
     ]
    },
    {
     "name": "stderr",
     "output_type": "stream",
     "text": [
      " 39%|██████████████████████████████████▌                                                     | 118/300 [5:59:28<8:42:46, 172.34s/it]"
     ]
    },
    {
     "name": "stdout",
     "output_type": "stream",
     "text": [
      "Test set: Epoch: 118, Average loss:1.0093, Top-1 Accuracy: 71.7300%, Top-5 Accuracy: 92.4800%, Time consumed:15.74s\n",
      "\n",
      "EarlyStopping 카운터: 7 / 30\n",
      "Epoch [119], Batch [50/196], Loss: 0.7102, LR: 0.000039\n",
      "Epoch [119], Batch [100/196], Loss: 0.6675, LR: 0.000039\n",
      "Epoch [119], Batch [150/196], Loss: 0.6846, LR: 0.000039\n",
      "Train set: Epoch: 119, Average loss:1.7210, LR: 0.000039 Top-1 Accuracy: 64.5200%, Top-5 Accuracy: 87.4780%, Time consumed:167.54s\n"
     ]
    },
    {
     "name": "stderr",
     "output_type": "stream",
     "text": [
      " 40%|██████████████████████████████████▉                                                     | 119/300 [6:02:30<8:49:18, 175.46s/it]"
     ]
    },
    {
     "name": "stdout",
     "output_type": "stream",
     "text": [
      "Test set: Epoch: 119, Average loss:1.0143, Top-1 Accuracy: 71.4500%, Top-5 Accuracy: 92.5000%, Time consumed:15.19s\n",
      "\n",
      "EarlyStopping 카운터: 8 / 30\n",
      "Epoch [120], Batch [50/196], Loss: 2.7868, LR: 0.000039\n",
      "Epoch [120], Batch [100/196], Loss: 0.7071, LR: 0.000039\n",
      "Epoch [120], Batch [150/196], Loss: 3.1111, LR: 0.000039\n",
      "Train set: Epoch: 120, Average loss:1.8193, LR: 0.000039 Top-1 Accuracy: 62.5800%, Top-5 Accuracy: 86.3240%, Time consumed:157.23s\n",
      "Test set: Epoch: 120, Average loss:0.9800, Top-1 Accuracy: 72.1600%, Top-5 Accuracy: 92.7700%, Time consumed:16.74s\n",
      "\n",
      "새로운 최고 top-1 정확도: 72.16%, top-5 정확도: 92.77%\n",
      "Accuracy improved (72.11% --> 72.16%). Saving model ...\n"
     ]
    },
    {
     "name": "stderr",
     "output_type": "stream",
     "text": [
      " 40%|███████████████████████████████████▏                                                    | 120/300 [6:05:25<8:45:16, 175.09s/it]"
     ]
    },
    {
     "name": "stdout",
     "output_type": "stream",
     "text": [
      "Epoch [121], Batch [50/196], Loss: 2.5332, LR: 0.000039\n",
      "Epoch [121], Batch [100/196], Loss: 1.5219, LR: 0.000039\n",
      "Epoch [121], Batch [150/196], Loss: 3.3015, LR: 0.000039\n",
      "Train set: Epoch: 121, Average loss:1.7666, LR: 0.000039 Top-1 Accuracy: 63.0380%, Top-5 Accuracy: 85.9880%, Time consumed:156.85s\n"
     ]
    },
    {
     "name": "stderr",
     "output_type": "stream",
     "text": [
      " 40%|███████████████████████████████████▍                                                    | 121/300 [6:08:17<8:40:01, 174.31s/it]"
     ]
    },
    {
     "name": "stdout",
     "output_type": "stream",
     "text": [
      "Test set: Epoch: 121, Average loss:1.0215, Top-1 Accuracy: 71.5400%, Top-5 Accuracy: 92.6300%, Time consumed:15.63s\n",
      "\n",
      "EarlyStopping 카운터: 1 / 30\n",
      "Epoch [122], Batch [50/196], Loss: 3.2813, LR: 0.000039\n",
      "Epoch [122], Batch [100/196], Loss: 1.5445, LR: 0.000039\n",
      "Epoch [122], Batch [150/196], Loss: 0.9959, LR: 0.000039\n",
      "Train set: Epoch: 122, Average loss:1.7390, LR: 0.000039 Top-1 Accuracy: 64.4980%, Top-5 Accuracy: 87.0220%, Time consumed:156.23s\n"
     ]
    },
    {
     "name": "stderr",
     "output_type": "stream",
     "text": [
      " 41%|███████████████████████████████████▊                                                    | 122/300 [6:11:09<8:34:33, 173.44s/it]"
     ]
    },
    {
     "name": "stdout",
     "output_type": "stream",
     "text": [
      "Test set: Epoch: 122, Average loss:0.9890, Top-1 Accuracy: 71.9300%, Top-5 Accuracy: 92.7300%, Time consumed:15.19s\n",
      "\n",
      "EarlyStopping 카운터: 2 / 30\n",
      "Epoch [123], Batch [50/196], Loss: 2.3922, LR: 0.000039\n",
      "Epoch [123], Batch [100/196], Loss: 1.3426, LR: 0.000039\n",
      "Epoch [123], Batch [150/196], Loss: 1.1657, LR: 0.000039\n",
      "Train set: Epoch: 123, Average loss:1.7042, LR: 0.000039 Top-1 Accuracy: 64.1860%, Top-5 Accuracy: 86.9260%, Time consumed:156.76s\n"
     ]
    },
    {
     "name": "stderr",
     "output_type": "stream",
     "text": [
      " 41%|████████████████████████████████████                                                    | 123/300 [6:14:01<8:30:28, 173.04s/it]"
     ]
    },
    {
     "name": "stdout",
     "output_type": "stream",
     "text": [
      "Test set: Epoch: 123, Average loss:0.9966, Top-1 Accuracy: 71.8500%, Top-5 Accuracy: 92.7300%, Time consumed:15.33s\n",
      "\n",
      "EarlyStopping 카운터: 3 / 30\n",
      "Epoch [124], Batch [50/196], Loss: 1.1337, LR: 0.000020\n",
      "Epoch [124], Batch [100/196], Loss: 0.9704, LR: 0.000020\n",
      "Epoch [124], Batch [150/196], Loss: 0.7360, LR: 0.000020\n",
      "Train set: Epoch: 124, Average loss:1.7945, LR: 0.000020 Top-1 Accuracy: 63.1800%, Top-5 Accuracy: 86.3100%, Time consumed:156.42s\n"
     ]
    },
    {
     "name": "stderr",
     "output_type": "stream",
     "text": [
      " 41%|████████████████████████████████████▎                                                   | 124/300 [6:16:52<8:25:56, 172.48s/it]"
     ]
    },
    {
     "name": "stdout",
     "output_type": "stream",
     "text": [
      "Test set: Epoch: 124, Average loss:0.9995, Top-1 Accuracy: 71.6300%, Top-5 Accuracy: 92.3700%, Time consumed:14.75s\n",
      "\n",
      "EarlyStopping 카운터: 4 / 30\n",
      "Epoch [125], Batch [50/196], Loss: 3.2296, LR: 0.000020\n",
      "Epoch [125], Batch [100/196], Loss: 1.3640, LR: 0.000020\n",
      "Epoch [125], Batch [150/196], Loss: 2.8321, LR: 0.000020\n",
      "Train set: Epoch: 125, Average loss:1.5846, LR: 0.000020 Top-1 Accuracy: 66.0660%, Top-5 Accuracy: 88.4640%, Time consumed:156.88s\n"
     ]
    },
    {
     "name": "stderr",
     "output_type": "stream",
     "text": [
      " 42%|████████████████████████████████████▋                                                   | 125/300 [6:19:44<8:22:40, 172.34s/it]"
     ]
    },
    {
     "name": "stdout",
     "output_type": "stream",
     "text": [
      "Test set: Epoch: 125, Average loss:0.9912, Top-1 Accuracy: 71.8300%, Top-5 Accuracy: 92.6100%, Time consumed:15.14s\n",
      "\n",
      "EarlyStopping 카운터: 5 / 30\n",
      "Epoch [126], Batch [50/196], Loss: 0.8556, LR: 0.000020\n",
      "Epoch [126], Batch [100/196], Loss: 1.2484, LR: 0.000020\n",
      "Epoch [126], Batch [150/196], Loss: 0.9065, LR: 0.000020\n",
      "Train set: Epoch: 126, Average loss:1.6437, LR: 0.000020 Top-1 Accuracy: 64.9540%, Top-5 Accuracy: 87.4200%, Time consumed:157.14s\n"
     ]
    },
    {
     "name": "stderr",
     "output_type": "stream",
     "text": [
      " 42%|████████████████████████████████████▉                                                   | 126/300 [6:22:37<8:20:14, 172.50s/it]"
     ]
    },
    {
     "name": "stdout",
     "output_type": "stream",
     "text": [
      "Test set: Epoch: 126, Average loss:1.0112, Top-1 Accuracy: 71.5100%, Top-5 Accuracy: 92.4100%, Time consumed:15.71s\n",
      "\n",
      "EarlyStopping 카운터: 6 / 30\n",
      "Epoch [127], Batch [50/196], Loss: 2.8778, LR: 0.000020\n",
      "Epoch [127], Batch [100/196], Loss: 2.9739, LR: 0.000020\n",
      "Epoch [127], Batch [150/196], Loss: 3.1723, LR: 0.000020\n",
      "Train set: Epoch: 127, Average loss:1.7204, LR: 0.000020 Top-1 Accuracy: 64.4260%, Top-5 Accuracy: 87.0720%, Time consumed:156.83s\n"
     ]
    },
    {
     "name": "stderr",
     "output_type": "stream",
     "text": [
      " 42%|█████████████████████████████████████▎                                                  | 127/300 [6:25:29<8:16:49, 172.31s/it]"
     ]
    },
    {
     "name": "stdout",
     "output_type": "stream",
     "text": [
      "Test set: Epoch: 127, Average loss:1.0138, Top-1 Accuracy: 71.7700%, Top-5 Accuracy: 92.6400%, Time consumed:15.04s\n",
      "\n",
      "EarlyStopping 카운터: 7 / 30\n",
      "Epoch [128], Batch [50/196], Loss: 2.4203, LR: 0.000020\n",
      "Epoch [128], Batch [100/196], Loss: 0.8392, LR: 0.000020\n",
      "Epoch [128], Batch [150/196], Loss: 1.8290, LR: 0.000020\n",
      "Train set: Epoch: 128, Average loss:1.7402, LR: 0.000020 Top-1 Accuracy: 64.4480%, Top-5 Accuracy: 87.1760%, Time consumed:158.31s\n"
     ]
    },
    {
     "name": "stderr",
     "output_type": "stream",
     "text": [
      " 43%|█████████████████████████████████████▌                                                  | 128/300 [6:28:22<8:15:12, 172.75s/it]"
     ]
    },
    {
     "name": "stdout",
     "output_type": "stream",
     "text": [
      "Test set: Epoch: 128, Average loss:0.9906, Top-1 Accuracy: 72.0900%, Top-5 Accuracy: 92.6500%, Time consumed:15.45s\n",
      "\n",
      "EarlyStopping 카운터: 8 / 30\n",
      "Epoch [129], Batch [50/196], Loss: 2.1389, LR: 0.000020\n",
      "Epoch [129], Batch [100/196], Loss: 0.6813, LR: 0.000020\n",
      "Epoch [129], Batch [150/196], Loss: 1.8531, LR: 0.000020\n",
      "Train set: Epoch: 129, Average loss:1.6688, LR: 0.000020 Top-1 Accuracy: 64.4960%, Top-5 Accuracy: 87.1480%, Time consumed:156.26s\n"
     ]
    },
    {
     "name": "stderr",
     "output_type": "stream",
     "text": [
      " 43%|█████████████████████████████████████▊                                                  | 129/300 [6:31:14<8:11:46, 172.55s/it]"
     ]
    },
    {
     "name": "stdout",
     "output_type": "stream",
     "text": [
      "Test set: Epoch: 129, Average loss:0.9854, Top-1 Accuracy: 71.9500%, Top-5 Accuracy: 92.9200%, Time consumed:15.83s\n",
      "\n",
      "새로운 최고 top-5 정확도: 92.92%\n",
      "EarlyStopping 카운터: 9 / 30\n",
      "Epoch [130], Batch [50/196], Loss: 0.8104, LR: 0.000010\n",
      "Epoch [130], Batch [100/196], Loss: 3.0033, LR: 0.000010\n",
      "Epoch [130], Batch [150/196], Loss: 2.8793, LR: 0.000010\n",
      "Train set: Epoch: 130, Average loss:1.7006, LR: 0.000010 Top-1 Accuracy: 65.4760%, Top-5 Accuracy: 88.2680%, Time consumed:156.60s\n"
     ]
    },
    {
     "name": "stderr",
     "output_type": "stream",
     "text": [
      " 43%|██████████████████████████████████████▏                                                 | 130/300 [6:34:06<8:07:58, 172.23s/it]"
     ]
    },
    {
     "name": "stdout",
     "output_type": "stream",
     "text": [
      "Test set: Epoch: 130, Average loss:1.0167, Top-1 Accuracy: 71.7100%, Top-5 Accuracy: 92.7200%, Time consumed:14.87s\n",
      "\n",
      "EarlyStopping 카운터: 10 / 30\n",
      "Epoch [131], Batch [50/196], Loss: 1.6644, LR: 0.000010\n",
      "Epoch [131], Batch [100/196], Loss: 0.9115, LR: 0.000010\n",
      "Epoch [131], Batch [150/196], Loss: 0.7899, LR: 0.000010\n",
      "Train set: Epoch: 131, Average loss:1.7144, LR: 0.000010 Top-1 Accuracy: 63.9060%, Top-5 Accuracy: 86.7720%, Time consumed:156.04s\n"
     ]
    },
    {
     "name": "stderr",
     "output_type": "stream",
     "text": [
      " 44%|██████████████████████████████████████▍                                                 | 131/300 [6:36:57<8:04:16, 171.93s/it]"
     ]
    },
    {
     "name": "stdout",
     "output_type": "stream",
     "text": [
      "Test set: Epoch: 131, Average loss:0.9945, Top-1 Accuracy: 71.9400%, Top-5 Accuracy: 92.7400%, Time consumed:15.20s\n",
      "\n",
      "EarlyStopping 카운터: 11 / 30\n",
      "Epoch [132], Batch [50/196], Loss: 0.8548, LR: 0.000010\n",
      "Epoch [132], Batch [100/196], Loss: 1.9508, LR: 0.000010\n",
      "Epoch [132], Batch [150/196], Loss: 2.5499, LR: 0.000010\n",
      "Train set: Epoch: 132, Average loss:1.6851, LR: 0.000010 Top-1 Accuracy: 65.0620%, Top-5 Accuracy: 87.5700%, Time consumed:157.34s\n"
     ]
    },
    {
     "name": "stderr",
     "output_type": "stream",
     "text": [
      " 44%|██████████████████████████████████████▋                                                 | 132/300 [6:39:50<8:02:03, 172.16s/it]"
     ]
    },
    {
     "name": "stdout",
     "output_type": "stream",
     "text": [
      "Test set: Epoch: 132, Average loss:1.0104, Top-1 Accuracy: 71.5000%, Top-5 Accuracy: 92.4600%, Time consumed:15.35s\n",
      "\n",
      "EarlyStopping 카운터: 12 / 30\n",
      "Epoch [133], Batch [50/196], Loss: 0.8510, LR: 0.000010\n",
      "Epoch [133], Batch [100/196], Loss: 2.9028, LR: 0.000010\n",
      "Epoch [133], Batch [150/196], Loss: 3.0316, LR: 0.000010\n",
      "Train set: Epoch: 133, Average loss:1.6264, LR: 0.000010 Top-1 Accuracy: 65.8340%, Top-5 Accuracy: 88.1460%, Time consumed:157.39s\n"
     ]
    },
    {
     "name": "stderr",
     "output_type": "stream",
     "text": [
      " 44%|███████████████████████████████████████                                                 | 133/300 [6:42:43<7:59:38, 172.33s/it]"
     ]
    },
    {
     "name": "stdout",
     "output_type": "stream",
     "text": [
      "Test set: Epoch: 133, Average loss:0.9868, Top-1 Accuracy: 71.9800%, Top-5 Accuracy: 92.7500%, Time consumed:15.32s\n",
      "\n",
      "EarlyStopping 카운터: 13 / 30\n",
      "Epoch [134], Batch [50/196], Loss: 2.8160, LR: 0.000010\n",
      "Epoch [134], Batch [100/196], Loss: 2.9223, LR: 0.000010\n",
      "Epoch [134], Batch [150/196], Loss: 0.9325, LR: 0.000010\n",
      "Train set: Epoch: 134, Average loss:1.7758, LR: 0.000010 Top-1 Accuracy: 64.1420%, Top-5 Accuracy: 87.1020%, Time consumed:156.68s\n"
     ]
    },
    {
     "name": "stderr",
     "output_type": "stream",
     "text": [
      " 45%|███████████████████████████████████████▎                                                | 134/300 [6:45:35<7:56:43, 172.31s/it]"
     ]
    },
    {
     "name": "stdout",
     "output_type": "stream",
     "text": [
      "Test set: Epoch: 134, Average loss:0.9912, Top-1 Accuracy: 71.8900%, Top-5 Accuracy: 92.8100%, Time consumed:15.58s\n",
      "\n",
      "EarlyStopping 카운터: 14 / 30\n",
      "Epoch [135], Batch [50/196], Loss: 0.9868, LR: 0.000010\n",
      "Epoch [135], Batch [100/196], Loss: 1.1322, LR: 0.000010\n",
      "Epoch [135], Batch [150/196], Loss: 1.4229, LR: 0.000010\n",
      "Train set: Epoch: 135, Average loss:1.7874, LR: 0.000010 Top-1 Accuracy: 63.4800%, Top-5 Accuracy: 86.7820%, Time consumed:157.07s\n"
     ]
    },
    {
     "name": "stderr",
     "output_type": "stream",
     "text": [
      " 45%|███████████████████████████████████████▌                                                | 135/300 [6:48:27<7:53:47, 172.29s/it]"
     ]
    },
    {
     "name": "stdout",
     "output_type": "stream",
     "text": [
      "Test set: Epoch: 135, Average loss:1.0526, Top-1 Accuracy: 71.4900%, Top-5 Accuracy: 92.4600%, Time consumed:15.16s\n",
      "\n",
      "EarlyStopping 카운터: 15 / 30\n",
      "Epoch [136], Batch [50/196], Loss: 2.3648, LR: 0.000005\n",
      "Epoch [136], Batch [100/196], Loss: 2.3889, LR: 0.000005\n",
      "Epoch [136], Batch [150/196], Loss: 0.5927, LR: 0.000005\n",
      "Train set: Epoch: 136, Average loss:1.6726, LR: 0.000005 Top-1 Accuracy: 63.7960%, Top-5 Accuracy: 85.9900%, Time consumed:158.24s\n"
     ]
    },
    {
     "name": "stderr",
     "output_type": "stream",
     "text": [
      " 45%|███████████████████████████████████████▉                                                | 136/300 [6:51:21<7:52:08, 172.73s/it]"
     ]
    },
    {
     "name": "stdout",
     "output_type": "stream",
     "text": [
      "Test set: Epoch: 136, Average loss:1.0047, Top-1 Accuracy: 71.8600%, Top-5 Accuracy: 92.7800%, Time consumed:15.53s\n",
      "\n",
      "EarlyStopping 카운터: 16 / 30\n",
      "Epoch [137], Batch [50/196], Loss: 2.8496, LR: 0.000005\n",
      "Epoch [137], Batch [100/196], Loss: 1.1913, LR: 0.000005\n",
      "Epoch [137], Batch [150/196], Loss: 0.8828, LR: 0.000005\n",
      "Train set: Epoch: 137, Average loss:1.6963, LR: 0.000005 Top-1 Accuracy: 64.3680%, Top-5 Accuracy: 86.8500%, Time consumed:157.09s\n"
     ]
    },
    {
     "name": "stderr",
     "output_type": "stream",
     "text": [
      " 46%|████████████████████████████████████████▏                                               | 137/300 [6:54:13<7:49:07, 172.68s/it]"
     ]
    },
    {
     "name": "stdout",
     "output_type": "stream",
     "text": [
      "Test set: Epoch: 137, Average loss:0.9846, Top-1 Accuracy: 72.1500%, Top-5 Accuracy: 92.7600%, Time consumed:15.47s\n",
      "\n",
      "EarlyStopping 카운터: 17 / 30\n",
      "Epoch [138], Batch [50/196], Loss: 0.9157, LR: 0.000005\n",
      "Epoch [138], Batch [100/196], Loss: 2.2771, LR: 0.000005\n",
      "Epoch [138], Batch [150/196], Loss: 2.7808, LR: 0.000005\n",
      "Train set: Epoch: 138, Average loss:1.5942, LR: 0.000005 Top-1 Accuracy: 66.7800%, Top-5 Accuracy: 89.0340%, Time consumed:157.58s\n"
     ]
    },
    {
     "name": "stderr",
     "output_type": "stream",
     "text": [
      " 46%|████████████████████████████████████████▍                                               | 138/300 [6:57:06<7:46:19, 172.71s/it]"
     ]
    },
    {
     "name": "stdout",
     "output_type": "stream",
     "text": [
      "Test set: Epoch: 138, Average loss:0.9921, Top-1 Accuracy: 72.1000%, Top-5 Accuracy: 92.9100%, Time consumed:15.19s\n",
      "\n",
      "EarlyStopping 카운터: 18 / 30\n",
      "Epoch [139], Batch [50/196], Loss: 0.6689, LR: 0.000005\n",
      "Epoch [139], Batch [100/196], Loss: 0.8386, LR: 0.000005\n",
      "Epoch [139], Batch [150/196], Loss: 2.2723, LR: 0.000005\n",
      "Train set: Epoch: 139, Average loss:1.6089, LR: 0.000005 Top-1 Accuracy: 65.8200%, Top-5 Accuracy: 88.2000%, Time consumed:157.07s\n",
      "Test set: Epoch: 139, Average loss:0.9797, Top-1 Accuracy: 72.1900%, Top-5 Accuracy: 92.6600%, Time consumed:16.24s\n",
      "\n",
      "새로운 최고 top-1 정확도: 72.19%, top-5 정확도: 92.66%\n",
      "Accuracy improved (72.16% --> 72.19%). Saving model ...\n"
     ]
    },
    {
     "name": "stderr",
     "output_type": "stream",
     "text": [
      " 46%|████████████████████████████████████████▊                                               | 139/300 [7:00:00<7:44:08, 172.97s/it]"
     ]
    },
    {
     "name": "stdout",
     "output_type": "stream",
     "text": [
      "Epoch [140], Batch [50/196], Loss: 1.4263, LR: 0.000005\n",
      "Epoch [140], Batch [100/196], Loss: 1.1101, LR: 0.000005\n",
      "Epoch [140], Batch [150/196], Loss: 0.7553, LR: 0.000005\n",
      "Train set: Epoch: 140, Average loss:1.6147, LR: 0.000005 Top-1 Accuracy: 66.0880%, Top-5 Accuracy: 88.2740%, Time consumed:159.09s\n"
     ]
    },
    {
     "name": "stderr",
     "output_type": "stream",
     "text": [
      " 47%|█████████████████████████████████████████                                               | 140/300 [7:02:54<7:42:29, 173.44s/it]"
     ]
    },
    {
     "name": "stdout",
     "output_type": "stream",
     "text": [
      "Test set: Epoch: 140, Average loss:0.9966, Top-1 Accuracy: 71.6300%, Top-5 Accuracy: 92.5400%, Time consumed:15.42s\n",
      "\n",
      "EarlyStopping 카운터: 1 / 30\n",
      "Epoch [141], Batch [50/196], Loss: 2.2782, LR: 0.000005\n",
      "Epoch [141], Batch [100/196], Loss: 2.6141, LR: 0.000005\n",
      "Epoch [141], Batch [150/196], Loss: 0.6586, LR: 0.000005\n",
      "Train set: Epoch: 141, Average loss:1.6391, LR: 0.000005 Top-1 Accuracy: 65.0840%, Top-5 Accuracy: 87.5080%, Time consumed:157.17s\n"
     ]
    },
    {
     "name": "stderr",
     "output_type": "stream",
     "text": [
      " 47%|█████████████████████████████████████████▎                                              | 141/300 [7:05:47<7:39:00, 173.21s/it]"
     ]
    },
    {
     "name": "stdout",
     "output_type": "stream",
     "text": [
      "Test set: Epoch: 141, Average loss:1.0116, Top-1 Accuracy: 72.1600%, Top-5 Accuracy: 92.7600%, Time consumed:15.50s\n",
      "\n",
      "EarlyStopping 카운터: 2 / 30\n",
      "Epoch [142], Batch [50/196], Loss: 2.8711, LR: 0.000002\n",
      "Epoch [142], Batch [100/196], Loss: 0.6356, LR: 0.000002\n",
      "Epoch [142], Batch [150/196], Loss: 1.1212, LR: 0.000002\n",
      "Train set: Epoch: 142, Average loss:1.6338, LR: 0.000002 Top-1 Accuracy: 64.9100%, Top-5 Accuracy: 87.6120%, Time consumed:156.42s\n"
     ]
    },
    {
     "name": "stderr",
     "output_type": "stream",
     "text": [
      " 47%|█████████████████████████████████████████▋                                              | 142/300 [7:08:39<7:35:06, 172.83s/it]"
     ]
    },
    {
     "name": "stdout",
     "output_type": "stream",
     "text": [
      "Test set: Epoch: 142, Average loss:1.0367, Top-1 Accuracy: 71.4300%, Top-5 Accuracy: 92.5300%, Time consumed:15.51s\n",
      "\n",
      "EarlyStopping 카운터: 3 / 30\n",
      "Epoch [143], Batch [50/196], Loss: 2.6470, LR: 0.000002\n",
      "Epoch [143], Batch [100/196], Loss: 0.9604, LR: 0.000002\n",
      "Epoch [143], Batch [150/196], Loss: 0.7448, LR: 0.000002\n",
      "Train set: Epoch: 143, Average loss:1.8135, LR: 0.000002 Top-1 Accuracy: 63.7920%, Top-5 Accuracy: 87.1480%, Time consumed:155.89s\n"
     ]
    },
    {
     "name": "stderr",
     "output_type": "stream",
     "text": [
      " 48%|█████████████████████████████████████████▉                                              | 143/300 [7:11:30<7:30:51, 172.30s/it]"
     ]
    },
    {
     "name": "stdout",
     "output_type": "stream",
     "text": [
      "Test set: Epoch: 143, Average loss:0.9920, Top-1 Accuracy: 71.9500%, Top-5 Accuracy: 92.7600%, Time consumed:15.18s\n",
      "\n",
      "EarlyStopping 카운터: 4 / 30\n",
      "Epoch [144], Batch [50/196], Loss: 2.0952, LR: 0.000002\n",
      "Epoch [144], Batch [100/196], Loss: 2.7684, LR: 0.000002\n",
      "Epoch [144], Batch [150/196], Loss: 0.7463, LR: 0.000002\n",
      "Train set: Epoch: 144, Average loss:1.7530, LR: 0.000002 Top-1 Accuracy: 63.8620%, Top-5 Accuracy: 86.9180%, Time consumed:157.40s\n"
     ]
    },
    {
     "name": "stderr",
     "output_type": "stream",
     "text": [
      " 48%|██████████████████████████████████████████▏                                             | 144/300 [7:14:23<7:28:10, 172.38s/it]"
     ]
    },
    {
     "name": "stdout",
     "output_type": "stream",
     "text": [
      "Test set: Epoch: 144, Average loss:1.0003, Top-1 Accuracy: 71.9600%, Top-5 Accuracy: 92.7700%, Time consumed:15.14s\n",
      "\n",
      "EarlyStopping 카운터: 5 / 30\n",
      "Epoch [145], Batch [50/196], Loss: 1.1365, LR: 0.000002\n",
      "Epoch [145], Batch [100/196], Loss: 0.8578, LR: 0.000002\n",
      "Epoch [145], Batch [150/196], Loss: 2.8659, LR: 0.000002\n",
      "Train set: Epoch: 145, Average loss:1.6975, LR: 0.000002 Top-1 Accuracy: 63.6220%, Top-5 Accuracy: 86.4540%, Time consumed:156.33s\n"
     ]
    },
    {
     "name": "stderr",
     "output_type": "stream",
     "text": [
      " 48%|██████████████████████████████████████████▌                                             | 145/300 [7:17:15<7:25:08, 172.31s/it]"
     ]
    },
    {
     "name": "stdout",
     "output_type": "stream",
     "text": [
      "Test set: Epoch: 145, Average loss:1.0065, Top-1 Accuracy: 71.6400%, Top-5 Accuracy: 92.4700%, Time consumed:15.82s\n",
      "\n",
      "EarlyStopping 카운터: 6 / 30\n",
      "Epoch [146], Batch [50/196], Loss: 0.6067, LR: 0.000002\n",
      "Epoch [146], Batch [100/196], Loss: 0.8135, LR: 0.000002\n",
      "Epoch [146], Batch [150/196], Loss: 0.8976, LR: 0.000002\n",
      "Train set: Epoch: 146, Average loss:1.7250, LR: 0.000002 Top-1 Accuracy: 63.9500%, Top-5 Accuracy: 86.6980%, Time consumed:157.40s\n"
     ]
    },
    {
     "name": "stderr",
     "output_type": "stream",
     "text": [
      " 49%|██████████████████████████████████████████▊                                             | 146/300 [7:20:08<7:22:40, 172.47s/it]"
     ]
    },
    {
     "name": "stdout",
     "output_type": "stream",
     "text": [
      "Test set: Epoch: 146, Average loss:0.9789, Top-1 Accuracy: 72.0300%, Top-5 Accuracy: 92.8400%, Time consumed:15.44s\n",
      "\n",
      "EarlyStopping 카운터: 7 / 30\n",
      "Epoch [147], Batch [50/196], Loss: 1.0834, LR: 0.000002\n",
      "Epoch [147], Batch [100/196], Loss: 0.9284, LR: 0.000002\n",
      "Epoch [147], Batch [150/196], Loss: 2.9407, LR: 0.000002\n",
      "Train set: Epoch: 147, Average loss:1.6661, LR: 0.000002 Top-1 Accuracy: 64.9260%, Top-5 Accuracy: 87.6840%, Time consumed:157.68s\n"
     ]
    },
    {
     "name": "stderr",
     "output_type": "stream",
     "text": [
      " 49%|███████████████████████████████████████████                                             | 147/300 [7:23:00<7:20:04, 172.58s/it]"
     ]
    },
    {
     "name": "stdout",
     "output_type": "stream",
     "text": [
      "Test set: Epoch: 147, Average loss:1.0146, Top-1 Accuracy: 71.7500%, Top-5 Accuracy: 92.5900%, Time consumed:15.14s\n",
      "\n",
      "EarlyStopping 카운터: 8 / 30\n",
      "Epoch [148], Batch [50/196], Loss: 1.0060, LR: 0.000001\n",
      "Epoch [148], Batch [100/196], Loss: 2.5390, LR: 0.000001\n",
      "Epoch [148], Batch [150/196], Loss: 0.8062, LR: 0.000001\n",
      "Train set: Epoch: 148, Average loss:1.6828, LR: 0.000001 Top-1 Accuracy: 63.8440%, Top-5 Accuracy: 86.3280%, Time consumed:157.17s\n"
     ]
    },
    {
     "name": "stderr",
     "output_type": "stream",
     "text": [
      " 49%|███████████████████████████████████████████▍                                            | 148/300 [7:25:53<7:16:58, 172.49s/it]"
     ]
    },
    {
     "name": "stdout",
     "output_type": "stream",
     "text": [
      "Test set: Epoch: 148, Average loss:1.0062, Top-1 Accuracy: 71.8800%, Top-5 Accuracy: 92.7800%, Time consumed:15.10s\n",
      "\n",
      "EarlyStopping 카운터: 9 / 30\n",
      "Epoch [149], Batch [50/196], Loss: 0.8502, LR: 0.000001\n",
      "Epoch [149], Batch [100/196], Loss: 1.0317, LR: 0.000001\n",
      "Epoch [149], Batch [150/196], Loss: 0.6722, LR: 0.000001\n",
      "Train set: Epoch: 149, Average loss:1.8559, LR: 0.000001 Top-1 Accuracy: 61.2260%, Top-5 Accuracy: 84.4540%, Time consumed:157.87s\n"
     ]
    },
    {
     "name": "stderr",
     "output_type": "stream",
     "text": [
      " 50%|███████████████████████████████████████████▋                                            | 149/300 [7:28:46<7:14:29, 172.65s/it]"
     ]
    },
    {
     "name": "stdout",
     "output_type": "stream",
     "text": [
      "Test set: Epoch: 149, Average loss:1.0419, Top-1 Accuracy: 71.0700%, Top-5 Accuracy: 92.2300%, Time consumed:15.14s\n",
      "\n",
      "EarlyStopping 카운터: 10 / 30\n",
      "Epoch [150], Batch [50/196], Loss: 0.9704, LR: 0.000001\n",
      "Epoch [150], Batch [100/196], Loss: 0.7144, LR: 0.000001\n",
      "Epoch [150], Batch [150/196], Loss: 3.2066, LR: 0.000001\n",
      "Train set: Epoch: 150, Average loss:1.7240, LR: 0.000001 Top-1 Accuracy: 63.8100%, Top-5 Accuracy: 86.7320%, Time consumed:156.29s\n",
      "Test set: Epoch: 150, Average loss:0.9702, Top-1 Accuracy: 72.3100%, Top-5 Accuracy: 92.8500%, Time consumed:15.15s\n",
      "\n",
      "새로운 최고 top-1 정확도: 72.31%, top-5 정확도: 92.85%\n",
      "Accuracy improved (72.19% --> 72.31%). Saving model ...\n"
     ]
    },
    {
     "name": "stderr",
     "output_type": "stream",
     "text": [
      " 50%|████████████████████████████████████████████                                            | 150/300 [7:31:37<7:10:53, 172.36s/it]"
     ]
    },
    {
     "name": "stdout",
     "output_type": "stream",
     "text": [
      "Epoch [151], Batch [50/196], Loss: 3.1240, LR: 0.000001\n",
      "Epoch [151], Batch [100/196], Loss: 3.1014, LR: 0.000001\n",
      "Epoch [151], Batch [150/196], Loss: 1.0686, LR: 0.000001\n",
      "Train set: Epoch: 151, Average loss:1.7107, LR: 0.000001 Top-1 Accuracy: 65.0000%, Top-5 Accuracy: 87.5780%, Time consumed:157.58s\n"
     ]
    },
    {
     "name": "stderr",
     "output_type": "stream",
     "text": [
      " 50%|████████████████████████████████████████████▎                                           | 151/300 [7:34:30<7:08:31, 172.56s/it]"
     ]
    },
    {
     "name": "stdout",
     "output_type": "stream",
     "text": [
      "Test set: Epoch: 151, Average loss:1.0014, Top-1 Accuracy: 71.6000%, Top-5 Accuracy: 92.4600%, Time consumed:15.44s\n",
      "\n",
      "EarlyStopping 카운터: 1 / 30\n",
      "Epoch [152], Batch [50/196], Loss: 0.7861, LR: 0.000001\n",
      "Epoch [152], Batch [100/196], Loss: 1.7775, LR: 0.000001\n",
      "Epoch [152], Batch [150/196], Loss: 1.1368, LR: 0.000001\n",
      "Train set: Epoch: 152, Average loss:1.6920, LR: 0.000001 Top-1 Accuracy: 64.2460%, Top-5 Accuracy: 86.9380%, Time consumed:156.23s\n"
     ]
    },
    {
     "name": "stderr",
     "output_type": "stream",
     "text": [
      " 51%|████████████████████████████████████████████▌                                           | 152/300 [7:37:22<7:05:10, 172.37s/it]"
     ]
    },
    {
     "name": "stdout",
     "output_type": "stream",
     "text": [
      "Test set: Epoch: 152, Average loss:0.9932, Top-1 Accuracy: 72.1400%, Top-5 Accuracy: 92.8700%, Time consumed:15.69s\n",
      "\n",
      "EarlyStopping 카운터: 2 / 30\n",
      "Epoch [153], Batch [50/196], Loss: 1.0890, LR: 0.000001\n",
      "Epoch [153], Batch [100/196], Loss: 1.2391, LR: 0.000001\n",
      "Epoch [153], Batch [150/196], Loss: 1.7421, LR: 0.000001\n",
      "Train set: Epoch: 153, Average loss:1.7757, LR: 0.000001 Top-1 Accuracy: 63.0600%, Top-5 Accuracy: 86.2380%, Time consumed:156.44s\n"
     ]
    },
    {
     "name": "stderr",
     "output_type": "stream",
     "text": [
      " 51%|████████████████████████████████████████████▉                                           | 153/300 [7:40:15<7:02:16, 172.35s/it]"
     ]
    },
    {
     "name": "stdout",
     "output_type": "stream",
     "text": [
      "Test set: Epoch: 153, Average loss:1.0085, Top-1 Accuracy: 71.8100%, Top-5 Accuracy: 92.8200%, Time consumed:15.88s\n",
      "\n",
      "EarlyStopping 카운터: 3 / 30\n",
      "Epoch [154], Batch [50/196], Loss: 2.9827, LR: 0.000001\n",
      "Epoch [154], Batch [100/196], Loss: 0.6716, LR: 0.000001\n",
      "Epoch [154], Batch [150/196], Loss: 0.8812, LR: 0.000001\n",
      "Train set: Epoch: 154, Average loss:1.7751, LR: 0.000001 Top-1 Accuracy: 63.2620%, Top-5 Accuracy: 86.2780%, Time consumed:158.42s\n"
     ]
    },
    {
     "name": "stderr",
     "output_type": "stream",
     "text": [
      " 51%|█████████████████████████████████████████████▏                                          | 154/300 [7:43:08<7:00:16, 172.72s/it]"
     ]
    },
    {
     "name": "stdout",
     "output_type": "stream",
     "text": [
      "Test set: Epoch: 154, Average loss:1.0115, Top-1 Accuracy: 71.9300%, Top-5 Accuracy: 92.6600%, Time consumed:15.14s\n",
      "\n",
      "EarlyStopping 카운터: 4 / 30\n",
      "Epoch [155], Batch [50/196], Loss: 2.4467, LR: 0.000001\n",
      "Epoch [155], Batch [100/196], Loss: 0.7933, LR: 0.000001\n",
      "Epoch [155], Batch [150/196], Loss: 1.5606, LR: 0.000001\n",
      "Train set: Epoch: 155, Average loss:1.8032, LR: 0.000001 Top-1 Accuracy: 62.3940%, Top-5 Accuracy: 85.8760%, Time consumed:155.72s\n"
     ]
    },
    {
     "name": "stderr",
     "output_type": "stream",
     "text": [
      " 52%|█████████████████████████████████████████████▍                                          | 155/300 [7:45:59<6:56:16, 172.25s/it]"
     ]
    },
    {
     "name": "stdout",
     "output_type": "stream",
     "text": [
      "Test set: Epoch: 155, Average loss:1.0248, Top-1 Accuracy: 71.6300%, Top-5 Accuracy: 92.6300%, Time consumed:15.43s\n",
      "\n",
      "EarlyStopping 카운터: 5 / 30\n",
      "Epoch [156], Batch [50/196], Loss: 0.7045, LR: 0.000001\n",
      "Epoch [156], Batch [100/196], Loss: 2.9578, LR: 0.000001\n",
      "Epoch [156], Batch [150/196], Loss: 1.6568, LR: 0.000001\n",
      "Train set: Epoch: 156, Average loss:1.7402, LR: 0.000001 Top-1 Accuracy: 62.9980%, Top-5 Accuracy: 86.2720%, Time consumed:158.70s\n"
     ]
    },
    {
     "name": "stderr",
     "output_type": "stream",
     "text": [
      " 52%|█████████████████████████████████████████████▊                                          | 156/300 [7:48:53<6:54:35, 172.75s/it]"
     ]
    },
    {
     "name": "stdout",
     "output_type": "stream",
     "text": [
      "Test set: Epoch: 156, Average loss:0.9947, Top-1 Accuracy: 71.9100%, Top-5 Accuracy: 92.6900%, Time consumed:15.20s\n",
      "\n",
      "EarlyStopping 카운터: 6 / 30\n",
      "Epoch [157], Batch [50/196], Loss: 1.0136, LR: 0.000001\n",
      "Epoch [157], Batch [100/196], Loss: 0.9893, LR: 0.000001\n",
      "Epoch [157], Batch [150/196], Loss: 3.2147, LR: 0.000001\n",
      "Train set: Epoch: 157, Average loss:1.6831, LR: 0.000001 Top-1 Accuracy: 66.3920%, Top-5 Accuracy: 88.7680%, Time consumed:157.13s\n"
     ]
    },
    {
     "name": "stderr",
     "output_type": "stream",
     "text": [
      " 52%|██████████████████████████████████████████████                                          | 157/300 [7:51:46<6:51:44, 172.76s/it]"
     ]
    },
    {
     "name": "stdout",
     "output_type": "stream",
     "text": [
      "Test set: Epoch: 157, Average loss:0.9643, Top-1 Accuracy: 72.2700%, Top-5 Accuracy: 92.8200%, Time consumed:15.66s\n",
      "\n",
      "EarlyStopping 카운터: 7 / 30\n",
      "Epoch [158], Batch [50/196], Loss: 3.1465, LR: 0.000001\n",
      "Epoch [158], Batch [100/196], Loss: 2.9029, LR: 0.000001\n",
      "Epoch [158], Batch [150/196], Loss: 1.1867, LR: 0.000001\n",
      "Train set: Epoch: 158, Average loss:1.7675, LR: 0.000001 Top-1 Accuracy: 63.7560%, Top-5 Accuracy: 86.3560%, Time consumed:159.55s\n"
     ]
    },
    {
     "name": "stderr",
     "output_type": "stream",
     "text": [
      " 53%|██████████████████████████████████████████████▎                                         | 158/300 [7:54:42<6:50:47, 173.58s/it]"
     ]
    },
    {
     "name": "stdout",
     "output_type": "stream",
     "text": [
      "Test set: Epoch: 158, Average loss:0.9973, Top-1 Accuracy: 71.5200%, Top-5 Accuracy: 92.3800%, Time consumed:15.92s\n",
      "\n",
      "EarlyStopping 카운터: 8 / 30\n",
      "Epoch [159], Batch [50/196], Loss: 0.8866, LR: 0.000001\n",
      "Epoch [159], Batch [100/196], Loss: 3.4454, LR: 0.000001\n",
      "Epoch [159], Batch [150/196], Loss: 0.8955, LR: 0.000001\n",
      "Train set: Epoch: 159, Average loss:1.7467, LR: 0.000001 Top-1 Accuracy: 63.7160%, Top-5 Accuracy: 86.2400%, Time consumed:155.39s\n"
     ]
    },
    {
     "name": "stderr",
     "output_type": "stream",
     "text": [
      " 53%|██████████████████████████████████████████████▋                                         | 159/300 [7:57:32<6:45:59, 172.76s/it]"
     ]
    },
    {
     "name": "stdout",
     "output_type": "stream",
     "text": [
      "Test set: Epoch: 159, Average loss:1.0207, Top-1 Accuracy: 71.6900%, Top-5 Accuracy: 92.5500%, Time consumed:15.46s\n",
      "\n",
      "EarlyStopping 카운터: 9 / 30\n",
      "Epoch [160], Batch [50/196], Loss: 0.9157, LR: 0.000001\n",
      "Epoch [160], Batch [100/196], Loss: 0.6377, LR: 0.000001\n",
      "Epoch [160], Batch [150/196], Loss: 1.2706, LR: 0.000001\n",
      "Train set: Epoch: 160, Average loss:1.6901, LR: 0.000001 Top-1 Accuracy: 64.5960%, Top-5 Accuracy: 87.3840%, Time consumed:156.51s\n"
     ]
    },
    {
     "name": "stderr",
     "output_type": "stream",
     "text": [
      " 53%|██████████████████████████████████████████████▉                                         | 160/300 [8:00:24<6:42:20, 172.43s/it]"
     ]
    },
    {
     "name": "stdout",
     "output_type": "stream",
     "text": [
      "Test set: Epoch: 160, Average loss:1.0147, Top-1 Accuracy: 71.5500%, Top-5 Accuracy: 92.5200%, Time consumed:15.14s\n",
      "\n",
      "EarlyStopping 카운터: 10 / 30\n",
      "Epoch [161], Batch [50/196], Loss: 1.0052, LR: 0.000001\n",
      "Epoch [161], Batch [100/196], Loss: 3.1722, LR: 0.000001\n",
      "Epoch [161], Batch [150/196], Loss: 1.4622, LR: 0.000001\n",
      "Train set: Epoch: 161, Average loss:1.7843, LR: 0.000001 Top-1 Accuracy: 64.0760%, Top-5 Accuracy: 87.1480%, Time consumed:158.12s\n"
     ]
    },
    {
     "name": "stderr",
     "output_type": "stream",
     "text": [
      " 54%|███████████████████████████████████████████████▏                                        | 161/300 [8:03:18<6:40:15, 172.77s/it]"
     ]
    },
    {
     "name": "stdout",
     "output_type": "stream",
     "text": [
      "Test set: Epoch: 161, Average loss:0.9873, Top-1 Accuracy: 71.8000%, Top-5 Accuracy: 92.6700%, Time consumed:15.44s\n",
      "\n",
      "EarlyStopping 카운터: 11 / 30\n",
      "Epoch [162], Batch [50/196], Loss: 1.4327, LR: 0.000001\n",
      "Epoch [162], Batch [100/196], Loss: 0.8261, LR: 0.000001\n",
      "Epoch [162], Batch [150/196], Loss: 0.9303, LR: 0.000001\n",
      "Train set: Epoch: 162, Average loss:1.6974, LR: 0.000001 Top-1 Accuracy: 64.3740%, Top-5 Accuracy: 87.1100%, Time consumed:156.63s\n"
     ]
    },
    {
     "name": "stderr",
     "output_type": "stream",
     "text": [
      " 54%|███████████████████████████████████████████████▌                                        | 162/300 [8:06:10<6:36:45, 172.50s/it]"
     ]
    },
    {
     "name": "stdout",
     "output_type": "stream",
     "text": [
      "Test set: Epoch: 162, Average loss:1.0106, Top-1 Accuracy: 71.7000%, Top-5 Accuracy: 92.7600%, Time consumed:15.23s\n",
      "\n",
      "EarlyStopping 카운터: 12 / 30\n",
      "Epoch [163], Batch [50/196], Loss: 2.8961, LR: 0.000001\n",
      "Epoch [163], Batch [100/196], Loss: 0.7565, LR: 0.000001\n",
      "Epoch [163], Batch [150/196], Loss: 0.6954, LR: 0.000001\n",
      "Train set: Epoch: 163, Average loss:1.6509, LR: 0.000001 Top-1 Accuracy: 65.4800%, Top-5 Accuracy: 88.0340%, Time consumed:157.64s\n"
     ]
    },
    {
     "name": "stderr",
     "output_type": "stream",
     "text": [
      " 54%|███████████████████████████████████████████████▊                                        | 163/300 [8:09:02<6:34:05, 172.59s/it]"
     ]
    },
    {
     "name": "stdout",
     "output_type": "stream",
     "text": [
      "Test set: Epoch: 163, Average loss:0.9979, Top-1 Accuracy: 71.9400%, Top-5 Accuracy: 92.6100%, Time consumed:15.16s\n",
      "\n",
      "EarlyStopping 카운터: 13 / 30\n",
      "Epoch [164], Batch [50/196], Loss: 0.9745, LR: 0.000001\n",
      "Epoch [164], Batch [100/196], Loss: 1.1726, LR: 0.000001\n",
      "Epoch [164], Batch [150/196], Loss: 1.0919, LR: 0.000001\n",
      "Train set: Epoch: 164, Average loss:1.7334, LR: 0.000001 Top-1 Accuracy: 64.0580%, Top-5 Accuracy: 87.0600%, Time consumed:166.77s\n"
     ]
    },
    {
     "name": "stderr",
     "output_type": "stream",
     "text": [
      " 55%|████████████████████████████████████████████████                                        | 164/300 [8:12:04<6:37:27, 175.35s/it]"
     ]
    },
    {
     "name": "stdout",
     "output_type": "stream",
     "text": [
      "Test set: Epoch: 164, Average loss:0.9926, Top-1 Accuracy: 72.1600%, Top-5 Accuracy: 92.9600%, Time consumed:15.00s\n",
      "\n",
      "새로운 최고 top-5 정확도: 92.96%\n",
      "EarlyStopping 카운터: 14 / 30\n",
      "Epoch [165], Batch [50/196], Loss: 1.2175, LR: 0.000001\n",
      "Epoch [165], Batch [100/196], Loss: 0.7512, LR: 0.000001\n",
      "Epoch [165], Batch [150/196], Loss: 3.0634, LR: 0.000001\n",
      "Train set: Epoch: 165, Average loss:1.7227, LR: 0.000001 Top-1 Accuracy: 63.6040%, Top-5 Accuracy: 86.2840%, Time consumed:157.97s\n"
     ]
    },
    {
     "name": "stderr",
     "output_type": "stream",
     "text": [
      " 55%|████████████████████████████████████████████████▍                                       | 165/300 [8:14:57<6:33:05, 174.71s/it]"
     ]
    },
    {
     "name": "stdout",
     "output_type": "stream",
     "text": [
      "Test set: Epoch: 165, Average loss:1.0148, Top-1 Accuracy: 72.1700%, Top-5 Accuracy: 92.6700%, Time consumed:15.24s\n",
      "\n",
      "EarlyStopping 카운터: 15 / 30\n",
      "Epoch [166], Batch [50/196], Loss: 1.2593, LR: 0.000001\n",
      "Epoch [166], Batch [100/196], Loss: 2.6463, LR: 0.000001\n",
      "Epoch [166], Batch [150/196], Loss: 2.7892, LR: 0.000001\n",
      "Train set: Epoch: 166, Average loss:1.7568, LR: 0.000001 Top-1 Accuracy: 64.4460%, Top-5 Accuracy: 87.4380%, Time consumed:157.14s\n"
     ]
    },
    {
     "name": "stderr",
     "output_type": "stream",
     "text": [
      " 55%|████████████████████████████████████████████████▋                                       | 166/300 [8:17:50<6:28:42, 174.05s/it]"
     ]
    },
    {
     "name": "stdout",
     "output_type": "stream",
     "text": [
      "Test set: Epoch: 166, Average loss:0.9761, Top-1 Accuracy: 72.1900%, Top-5 Accuracy: 92.9700%, Time consumed:15.37s\n",
      "\n",
      "새로운 최고 top-5 정확도: 92.97%\n",
      "EarlyStopping 카운터: 16 / 30\n",
      "Epoch [167], Batch [50/196], Loss: 2.9072, LR: 0.000001\n",
      "Epoch [167], Batch [100/196], Loss: 2.8039, LR: 0.000001\n",
      "Epoch [167], Batch [150/196], Loss: 2.4030, LR: 0.000001\n",
      "Train set: Epoch: 167, Average loss:1.7420, LR: 0.000001 Top-1 Accuracy: 63.3580%, Top-5 Accuracy: 86.1400%, Time consumed:157.66s\n"
     ]
    },
    {
     "name": "stderr",
     "output_type": "stream",
     "text": [
      " 56%|████████████████████████████████████████████████▉                                       | 167/300 [8:20:43<6:25:12, 173.78s/it]"
     ]
    },
    {
     "name": "stdout",
     "output_type": "stream",
     "text": [
      "Test set: Epoch: 167, Average loss:1.0021, Top-1 Accuracy: 71.9000%, Top-5 Accuracy: 92.6500%, Time consumed:15.47s\n",
      "\n",
      "EarlyStopping 카운터: 17 / 30\n",
      "Epoch [168], Batch [50/196], Loss: 3.0786, LR: 0.000001\n",
      "Epoch [168], Batch [100/196], Loss: 2.9711, LR: 0.000001\n",
      "Epoch [168], Batch [150/196], Loss: 1.9159, LR: 0.000001\n",
      "Train set: Epoch: 168, Average loss:1.6803, LR: 0.000001 Top-1 Accuracy: 64.1520%, Top-5 Accuracy: 87.0440%, Time consumed:156.82s\n"
     ]
    },
    {
     "name": "stderr",
     "output_type": "stream",
     "text": [
      " 56%|█████████████████████████████████████████████████▎                                      | 168/300 [8:23:36<6:21:31, 173.42s/it]"
     ]
    },
    {
     "name": "stdout",
     "output_type": "stream",
     "text": [
      "Test set: Epoch: 168, Average loss:1.0082, Top-1 Accuracy: 71.9300%, Top-5 Accuracy: 92.6800%, Time consumed:15.75s\n",
      "\n",
      "EarlyStopping 카운터: 18 / 30\n",
      "Epoch [169], Batch [50/196], Loss: 2.5615, LR: 0.000001\n",
      "Epoch [169], Batch [100/196], Loss: 0.6740, LR: 0.000001\n",
      "Epoch [169], Batch [150/196], Loss: 3.0525, LR: 0.000001\n",
      "Train set: Epoch: 169, Average loss:1.7490, LR: 0.000001 Top-1 Accuracy: 63.1300%, Top-5 Accuracy: 86.2660%, Time consumed:158.79s\n"
     ]
    },
    {
     "name": "stderr",
     "output_type": "stream",
     "text": [
      " 56%|█████████████████████████████████████████████████▌                                      | 169/300 [8:26:29<6:18:57, 173.57s/it]"
     ]
    },
    {
     "name": "stdout",
     "output_type": "stream",
     "text": [
      "Test set: Epoch: 169, Average loss:1.0171, Top-1 Accuracy: 71.5700%, Top-5 Accuracy: 92.4800%, Time consumed:15.14s\n",
      "\n",
      "EarlyStopping 카운터: 19 / 30\n",
      "Epoch [170], Batch [50/196], Loss: 1.5829, LR: 0.000001\n",
      "Epoch [170], Batch [100/196], Loss: 0.9472, LR: 0.000001\n",
      "Epoch [170], Batch [150/196], Loss: 0.7575, LR: 0.000001\n",
      "Train set: Epoch: 170, Average loss:1.6792, LR: 0.000001 Top-1 Accuracy: 65.3980%, Top-5 Accuracy: 87.9980%, Time consumed:156.59s\n"
     ]
    },
    {
     "name": "stderr",
     "output_type": "stream",
     "text": [
      " 57%|█████████████████████████████████████████████████▊                                      | 170/300 [8:29:21<6:15:02, 173.10s/it]"
     ]
    },
    {
     "name": "stdout",
     "output_type": "stream",
     "text": [
      "Test set: Epoch: 170, Average loss:1.0224, Top-1 Accuracy: 71.6700%, Top-5 Accuracy: 92.5900%, Time consumed:15.40s\n",
      "\n",
      "EarlyStopping 카운터: 20 / 30\n",
      "Epoch [171], Batch [50/196], Loss: 1.0702, LR: 0.000001\n",
      "Epoch [171], Batch [100/196], Loss: 2.9960, LR: 0.000001\n",
      "Epoch [171], Batch [150/196], Loss: 3.2982, LR: 0.000001\n",
      "Train set: Epoch: 171, Average loss:1.6228, LR: 0.000001 Top-1 Accuracy: 66.8520%, Top-5 Accuracy: 89.0840%, Time consumed:156.84s\n"
     ]
    },
    {
     "name": "stderr",
     "output_type": "stream",
     "text": [
      " 57%|██████████████████████████████████████████████████▏                                     | 171/300 [8:32:13<6:11:24, 172.75s/it]"
     ]
    },
    {
     "name": "stdout",
     "output_type": "stream",
     "text": [
      "Test set: Epoch: 171, Average loss:0.9793, Top-1 Accuracy: 72.2500%, Top-5 Accuracy: 92.9000%, Time consumed:15.09s\n",
      "\n",
      "EarlyStopping 카운터: 21 / 30\n",
      "Epoch [172], Batch [50/196], Loss: 0.8007, LR: 0.000001\n",
      "Epoch [172], Batch [100/196], Loss: 1.1371, LR: 0.000001\n",
      "Epoch [172], Batch [150/196], Loss: 3.1781, LR: 0.000001\n",
      "Train set: Epoch: 172, Average loss:1.8020, LR: 0.000001 Top-1 Accuracy: 62.7800%, Top-5 Accuracy: 85.6680%, Time consumed:158.26s\n"
     ]
    },
    {
     "name": "stderr",
     "output_type": "stream",
     "text": [
      " 57%|██████████████████████████████████████████████████▍                                     | 172/300 [8:35:07<6:08:45, 172.85s/it]"
     ]
    },
    {
     "name": "stdout",
     "output_type": "stream",
     "text": [
      "Test set: Epoch: 172, Average loss:1.0134, Top-1 Accuracy: 71.7800%, Top-5 Accuracy: 92.7100%, Time consumed:14.84s\n",
      "\n",
      "EarlyStopping 카운터: 22 / 30\n",
      "Epoch [173], Batch [50/196], Loss: 2.3418, LR: 0.000001\n",
      "Epoch [173], Batch [100/196], Loss: 2.4088, LR: 0.000001\n",
      "Epoch [173], Batch [150/196], Loss: 1.7224, LR: 0.000001\n",
      "Train set: Epoch: 173, Average loss:1.7122, LR: 0.000001 Top-1 Accuracy: 64.4800%, Top-5 Accuracy: 87.1500%, Time consumed:156.71s\n"
     ]
    },
    {
     "name": "stderr",
     "output_type": "stream",
     "text": [
      " 58%|██████████████████████████████████████████████████▋                                     | 173/300 [8:37:59<6:05:48, 172.82s/it]"
     ]
    },
    {
     "name": "stdout",
     "output_type": "stream",
     "text": [
      "Test set: Epoch: 173, Average loss:1.0138, Top-1 Accuracy: 72.0600%, Top-5 Accuracy: 92.9700%, Time consumed:16.03s\n",
      "\n",
      "EarlyStopping 카운터: 23 / 30\n",
      "Epoch [174], Batch [50/196], Loss: 0.8780, LR: 0.000001\n",
      "Epoch [174], Batch [100/196], Loss: 0.5983, LR: 0.000001\n",
      "Epoch [174], Batch [150/196], Loss: 0.9894, LR: 0.000001\n",
      "Train set: Epoch: 174, Average loss:1.6819, LR: 0.000001 Top-1 Accuracy: 64.9320%, Top-5 Accuracy: 87.6560%, Time consumed:156.32s\n"
     ]
    },
    {
     "name": "stderr",
     "output_type": "stream",
     "text": [
      " 58%|███████████████████████████████████████████████████                                     | 174/300 [8:40:51<6:02:10, 172.47s/it]"
     ]
    },
    {
     "name": "stdout",
     "output_type": "stream",
     "text": [
      "Test set: Epoch: 174, Average loss:0.9854, Top-1 Accuracy: 72.1000%, Top-5 Accuracy: 93.0200%, Time consumed:15.32s\n",
      "\n",
      "새로운 최고 top-5 정확도: 93.02%\n",
      "EarlyStopping 카운터: 24 / 30\n",
      "Epoch [175], Batch [50/196], Loss: 2.8203, LR: 0.000001\n",
      "Epoch [175], Batch [100/196], Loss: 1.5980, LR: 0.000001\n",
      "Epoch [175], Batch [150/196], Loss: 2.4483, LR: 0.000001\n",
      "Train set: Epoch: 175, Average loss:1.6513, LR: 0.000001 Top-1 Accuracy: 65.2080%, Top-5 Accuracy: 87.6680%, Time consumed:155.49s\n"
     ]
    },
    {
     "name": "stderr",
     "output_type": "stream",
     "text": [
      " 58%|███████████████████████████████████████████████████▎                                    | 175/300 [8:43:41<5:58:08, 171.91s/it]"
     ]
    },
    {
     "name": "stdout",
     "output_type": "stream",
     "text": [
      "Test set: Epoch: 175, Average loss:1.0158, Top-1 Accuracy: 71.2700%, Top-5 Accuracy: 92.3200%, Time consumed:15.11s\n",
      "\n",
      "EarlyStopping 카운터: 25 / 30\n",
      "Epoch [176], Batch [50/196], Loss: 0.7141, LR: 0.000001\n",
      "Epoch [176], Batch [100/196], Loss: 2.3849, LR: 0.000001\n",
      "Epoch [176], Batch [150/196], Loss: 1.0744, LR: 0.000001\n",
      "Train set: Epoch: 176, Average loss:1.7760, LR: 0.000001 Top-1 Accuracy: 63.9140%, Top-5 Accuracy: 87.0760%, Time consumed:160.93s\n"
     ]
    },
    {
     "name": "stderr",
     "output_type": "stream",
     "text": [
      " 59%|███████████████████████████████████████████████████▋                                    | 176/300 [8:46:38<5:57:58, 173.21s/it]"
     ]
    },
    {
     "name": "stdout",
     "output_type": "stream",
     "text": [
      "Test set: Epoch: 176, Average loss:0.9839, Top-1 Accuracy: 72.2000%, Top-5 Accuracy: 92.6800%, Time consumed:15.32s\n",
      "\n",
      "EarlyStopping 카운터: 26 / 30\n",
      "Epoch [177], Batch [50/196], Loss: 1.7622, LR: 0.000001\n",
      "Epoch [177], Batch [100/196], Loss: 3.1266, LR: 0.000001\n",
      "Epoch [177], Batch [150/196], Loss: 2.7571, LR: 0.000001\n",
      "Train set: Epoch: 177, Average loss:1.7181, LR: 0.000001 Top-1 Accuracy: 64.6140%, Top-5 Accuracy: 86.9980%, Time consumed:160.37s\n"
     ]
    },
    {
     "name": "stderr",
     "output_type": "stream",
     "text": [
      " 59%|███████████████████████████████████████████████████▉                                    | 177/300 [8:49:34<5:56:47, 174.04s/it]"
     ]
    },
    {
     "name": "stdout",
     "output_type": "stream",
     "text": [
      "Test set: Epoch: 177, Average loss:0.9886, Top-1 Accuracy: 72.2900%, Top-5 Accuracy: 92.8700%, Time consumed:15.61s\n",
      "\n",
      "EarlyStopping 카운터: 27 / 30\n",
      "Epoch [178], Batch [50/196], Loss: 1.6107, LR: 0.000001\n",
      "Epoch [178], Batch [100/196], Loss: 3.0657, LR: 0.000001\n",
      "Epoch [178], Batch [150/196], Loss: 2.4970, LR: 0.000001\n",
      "Train set: Epoch: 178, Average loss:1.6716, LR: 0.000001 Top-1 Accuracy: 64.4680%, Top-5 Accuracy: 87.2100%, Time consumed:156.66s\n"
     ]
    },
    {
     "name": "stderr",
     "output_type": "stream",
     "text": [
      " 59%|████████████████████████████████████████████████████▏                                   | 178/300 [8:52:26<5:53:00, 173.61s/it]"
     ]
    },
    {
     "name": "stdout",
     "output_type": "stream",
     "text": [
      "Test set: Epoch: 178, Average loss:0.9988, Top-1 Accuracy: 71.5500%, Top-5 Accuracy: 92.4500%, Time consumed:15.92s\n",
      "\n",
      "EarlyStopping 카운터: 28 / 30\n",
      "Epoch [179], Batch [50/196], Loss: 0.9055, LR: 0.000001\n",
      "Epoch [179], Batch [100/196], Loss: 0.9463, LR: 0.000001\n",
      "Epoch [179], Batch [150/196], Loss: 0.8006, LR: 0.000001\n",
      "Train set: Epoch: 179, Average loss:1.6373, LR: 0.000001 Top-1 Accuracy: 67.2140%, Top-5 Accuracy: 89.3900%, Time consumed:156.74s\n"
     ]
    },
    {
     "name": "stderr",
     "output_type": "stream",
     "text": [
      " 60%|████████████████████████████████████████████████████▌                                   | 179/300 [8:55:19<5:49:15, 173.18s/it]"
     ]
    },
    {
     "name": "stdout",
     "output_type": "stream",
     "text": [
      "Test set: Epoch: 179, Average loss:1.0058, Top-1 Accuracy: 71.8400%, Top-5 Accuracy: 92.4500%, Time consumed:15.45s\n",
      "\n",
      "EarlyStopping 카운터: 29 / 30\n",
      "Epoch [180], Batch [50/196], Loss: 0.8309, LR: 0.000001\n",
      "Epoch [180], Batch [100/196], Loss: 1.2469, LR: 0.000001\n",
      "Epoch [180], Batch [150/196], Loss: 0.7235, LR: 0.000001\n",
      "Train set: Epoch: 180, Average loss:1.6266, LR: 0.000001 Top-1 Accuracy: 65.0100%, Top-5 Accuracy: 87.5500%, Time consumed:156.80s\n"
     ]
    },
    {
     "name": "stderr",
     "output_type": "stream",
     "text": [
      " 60%|████████████████████████████████████████████████████▌                                   | 179/300 [8:58:10<6:03:47, 180.40s/it]"
     ]
    },
    {
     "name": "stdout",
     "output_type": "stream",
     "text": [
      "Test set: Epoch: 180, Average loss:1.0025, Top-1 Accuracy: 71.6700%, Top-5 Accuracy: 92.4800%, Time consumed:15.10s\n",
      "\n",
      "EarlyStopping 카운터: 30 / 30\n",
      "에폭 180에서 학습 조기 종료. 최고 성능 에폭: 150\n",
      "테스트 정확도 기준 최고 모델 로드 중...\n"
     ]
    },
    {
     "name": "stderr",
     "output_type": "stream",
     "text": [
      "\n"
     ]
    },
    {
     "name": "stdout",
     "output_type": "stream",
     "text": [
      "Test set: Epoch: 300, Average loss:0.9702, Top-1 Accuracy: 72.3100%, Top-5 Accuracy: 92.8500%, Time consumed:15.38s\n",
      "\n",
      "완료! 최고 테스트 top-1 정확도: 72.31%, 최고 테스트 top-5 정확도: 93.02%\n",
      "최종 테스트 top-1 정확도: 72.31%, 최종 테스트 top-5 정확도: 92.85%\n",
      "전체 학습 시간: 32306.37 초\n"
     ]
    },
    {
     "data": {
      "text/html": [],
      "text/plain": [
       "<IPython.core.display.HTML object>"
      ]
     },
     "metadata": {},
     "output_type": "display_data"
    },
    {
     "data": {
      "text/html": [
       "<br>    <style><br>        .wandb-row {<br>            display: flex;<br>            flex-direction: row;<br>            flex-wrap: wrap;<br>            justify-content: flex-start;<br>            width: 100%;<br>        }<br>        .wandb-col {<br>            display: flex;<br>            flex-direction: column;<br>            flex-basis: 100%;<br>            flex: 1;<br>            padding: 10px;<br>        }<br>    </style><br><div class=\"wandb-row\"><div class=\"wandb-col\"><h3>Run history:</h3><br/><table class=\"wandb\"><tr><td>epoch</td><td>▁▁▁▁▂▂▃▃▃▃▄▄▄▄▄▅▅▅▅▅▅▅▅▅▅▆▆▆▆▆▆▆▆▇▇▇▇▇██</td></tr><tr><td>learning_rate</td><td>▄▇████████▄▄▃▃▃▂▂▁▁▁▁▁▁▁▁▁▁▁▁▁▁▁▁▁▁▁▁▁▁▁</td></tr><tr><td>test_accuracy_top1</td><td>▁▂▃▄▄▅▆▆▆▆▆▇▆▇▇█████████████████████████</td></tr><tr><td>test_accuracy_top5</td><td>▁▄▄▆▆▇▇▇▇▇▇▇▇███████████████████████████</td></tr><tr><td>test_loss</td><td>█▆▅▅▄▄▄▄▃▃▃▃▂▂▂▁▁▁▁▁▁▁▁▁▁▁▁▁▁▁▁▁▁▁▁▁▁▁▁▁</td></tr><tr><td>total_training_time</td><td>▁</td></tr><tr><td>train_accuracy_top1</td><td>▁▂▂▃▄▄▅▅▅▅▆▆▆▆▇▇██▇███▇███████▇█████████</td></tr><tr><td>train_accuracy_top5</td><td>▁▃▃▄▄▅▅▅▅▅▆▆▆▆▆▇▇▆▇▇▇▇▇▇█▇▇▇▇██▇▇█▇▇█▇▇▇</td></tr><tr><td>train_loss</td><td>██▅▅▅▄▄▄▄▄▃▃▃▂▂▂▂▂▂▂▂▂▁▁▁▁▁▁▁▁▁▁▂▂▂▂▁▁▁▁</td></tr></table><br/></div><div class=\"wandb-col\"><h3>Run summary:</h3><br/><table class=\"wandb\"><tr><td>best_epoch</td><td>150</td></tr><tr><td>best_test_accuracy_top1</td><td>72.31</td></tr><tr><td>best_test_accuracy_top5</td><td>93.02</td></tr><tr><td>early_stopped</td><td>True</td></tr><tr><td>early_stopped_epoch</td><td>180</td></tr><tr><td>epoch</td><td>180</td></tr><tr><td>final_test_accuracy_top1</td><td>72.31</td></tr><tr><td>final_test_accuracy_top5</td><td>92.85</td></tr><tr><td>learning_rate</td><td>0.0</td></tr><tr><td>test_accuracy_top1</td><td>71.67</td></tr><tr><td>test_accuracy_top5</td><td>92.48</td></tr><tr><td>test_loss</td><td>1.00252</td></tr><tr><td>total_training_time</td><td>32306.37228</td></tr><tr><td>train_accuracy_top1</td><td>65.01</td></tr><tr><td>train_accuracy_top5</td><td>87.55</td></tr><tr><td>train_loss</td><td>1.62658</td></tr></table><br/></div></div>"
      ],
      "text/plain": [
       "<IPython.core.display.HTML object>"
      ]
     },
     "metadata": {},
     "output_type": "display_data"
    },
    {
     "data": {
      "text/html": [
       " View run <strong style=\"color:#cdcd00\">stochastic_resnet18_cfc,lr=0.01,factor=0.5,SAM_SGD</strong> at: <a href='https://wandb.ai/sokjh1310-hanyang-university/PBL-2/runs/v2ucjsr0' target=\"_blank\">https://wandb.ai/sokjh1310-hanyang-university/PBL-2/runs/v2ucjsr0</a><br> View project at: <a href='https://wandb.ai/sokjh1310-hanyang-university/PBL-2' target=\"_blank\">https://wandb.ai/sokjh1310-hanyang-university/PBL-2</a><br>Synced 5 W&B file(s), 0 media file(s), 0 artifact file(s) and 1 other file(s)"
      ],
      "text/plain": [
       "<IPython.core.display.HTML object>"
      ]
     },
     "metadata": {},
     "output_type": "display_data"
    },
    {
     "data": {
      "text/html": [
       "Find logs at: <code>./wandb/run-20250422_151021-v2ucjsr0/logs</code>"
      ],
      "text/plain": [
       "<IPython.core.display.HTML object>"
      ]
     },
     "metadata": {},
     "output_type": "display_data"
    }
   ],
   "source": [
    "import torch\n",
    "import torch.nn as nn\n",
    "import torch.optim as optim\n",
    "from torch.utils.data import DataLoader\n",
    "import torchvision\n",
    "import torchvision.transforms as transforms\n",
    "import torchvision.transforms.v2 as transforms_v2  # CutMix를 위한 v2 transforms 추가\n",
    "import sys\n",
    "import os\n",
    "import time\n",
    "import random\n",
    "import numpy as np\n",
    "import wandb\n",
    "from tqdm import tqdm\n",
    "from tools.tool import AccuracyEarlyStopping, WarmUpLR, SAM  # 수정된 AccuracyEarlyStopping 클래스 임포트\n",
    "from models.stochasticdepth import stochastic_depth_resnet18, stochastic_depth_resnet50\n",
    "\n",
    "wandb.login(key=\"ef091b9abcea3186341ddf8995d62bde62d7469e\")\n",
    "wandb.init(project=\"PBL-2\", name=\"stochastic_resnet18_cfc,lr=0.01,factor=0.5,SAM_SGD\")  \n",
    "torch.backends.cudnn.benchmark = True\n",
    "\n",
    "# WandB 설정\n",
    "config = {\n",
    "    \"model\": \"resnet18\",\n",
    "    \"batch_size\": 256,\n",
    "    \"num_epochs\": 300,\n",
    "    \"learning_rate\": 0.01,\n",
    "    \"optimizer\": \"SGD\",\n",
    "    \"seed\": 2025,\n",
    "    \"deterministic\": False,\n",
    "    \"early_stop_patience\": 30,  # early stopping patience - 이름 변경\n",
    "    \"max_epochs_wait\": float('inf'),  # 최대 30 에폭까지만 기다림\n",
    "    \"cutmix_alpha\": 1.0,  # CutMix 알파 파라미터 추가\n",
    "    \"cutmix_prob\": 0.5,   # CutMix 적용 확률 추가\n",
    "    \"crop_padding\": 4,    # RandomCrop 패딩 크기\n",
    "    \"crop_size\": 32,      # RandomCrop 크기 (CIFAR-100 이미지 크기는 32x32)\n",
    "    \"warmup_epochs\": 5,   # 웜업할 에폭 수 추가\n",
    "    \"grad_clip_norm\": 5.0,  # 그라디언트 클리핑 임계값 추가\n",
    "    \"momentum\": 0.9,      # 콤마 추가\n",
    "    \"weight_decay\": 5e-4, # 콤마 추가\n",
    "\n",
    "    # Main Scheduler Param - 명확한 구분을 위해 scheduler_ 접두사 추가\n",
    "    \"scheduler_factor\": 0.5,           # 학습률 감소 비율 (5배 감소)\n",
    "    \"scheduler_patience\": 5,           # 몇 에폭 동안 개선이 없을 때 감소시킬지\n",
    "    \"scheduler_verbose\": True,         # 학습률 변경 시 출력\n",
    "    \"scheduler_threshold\": 0.01,       # 개선으로 간주할 최소 변화량\n",
    "    \"scheduler_min_lr\": 1e-6\n",
    "}\n",
    "wandb.config.update(config)\n",
    "\n",
    "# CIFAR-100 데이터셋 로드 - 기본 train/test 분할 사용\n",
    "transform_train = transforms.Compose([\n",
    "    transforms.RandomCrop(config[\"crop_size\"], padding=config[\"crop_padding\"]),  # 패딩 후 랜덤 크롭\n",
    "    transforms.RandomHorizontalFlip(),  # 수평 뒤집기\n",
    "    transforms.ToTensor(),\n",
    "    transforms.Normalize((0.5071, 0.4867, 0.4408), (0.2675, 0.2565, 0.2761)),\n",
    "])\n",
    "\n",
    "transform_test = transforms.Compose([\n",
    "    transforms.ToTensor(),\n",
    "    transforms.Normalize((0.5071, 0.4867, 0.4408), (0.2675, 0.2565, 0.2761)),\n",
    "])\n",
    "\n",
    "trainset = torchvision.datasets.CIFAR100(\n",
    "    root='./data', train=True, download=True, transform=transform_train)\n",
    "\n",
    "testset = torchvision.datasets.CIFAR100(\n",
    "    root='./data', train=False, download=True, transform=transform_test)\n",
    "\n",
    "# DataLoader 생성\n",
    "trainloader = DataLoader(trainset, batch_size=config[\"batch_size\"], shuffle=True, num_workers=16,pin_memory=True)\n",
    "testloader = DataLoader(testset, batch_size=config[\"batch_size\"], shuffle=False, num_workers=16,pin_memory=True)\n",
    "\n",
    "print(f\"Train set size: {len(trainset)}\")\n",
    "print(f\"Test set size: {len(testset)}\")\n",
    "\n",
    "# CutMix 변환 정의\n",
    "cutmix = transforms_v2.CutMix(alpha=config[\"cutmix_alpha\"], num_classes=100)  # CIFAR-100은 100개 클래스\n",
    "\n",
    "def train(model, trainloader, criterion, optimizer, device, epoch, warmup_scheduler=None, warmup_epochs=5, grad_clip_norm=None):\n",
    "    \"\"\"\n",
    "    학습 함수 (CutMix 적용, 그라디언트 클리핑 추가)\n",
    "    \"\"\"\n",
    "    model.train()   # 모델을 학습 모드로 설정\n",
    "    start_time = time.time()  # 시간 측정 시작\n",
    "    running_loss = 0.0\n",
    "    correct_top1 = 0\n",
    "    correct_top5 = 0\n",
    "    total = 0\n",
    "    \n",
    "    for i, (inputs, labels) in enumerate(trainloader):\n",
    "        inputs, labels = inputs.to(device), labels.to(device)\n",
    "        \n",
    "        # CutMix 확률적 적용\n",
    "        if random.random() < config[\"cutmix_prob\"]:\n",
    "            inputs, labels = cutmix(inputs, labels)\n",
    "            # 이 경우 labels은 원-핫 인코딩 형태로 변환됨\n",
    "            use_cutmix = True\n",
    "        else:\n",
    "            use_cutmix = False\n",
    "        \n",
    "        optimizer.zero_grad()\n",
    "        outputs = model(inputs)\n",
    "        \n",
    "        # CutMix 적용 여부에 따라 손실 함수 선택\n",
    "        if use_cutmix:\n",
    "            # CutMix가 적용된 경우 (원-핫 인코딩된 레이블)\n",
    "            loss = torch.nn.functional.cross_entropy(outputs, labels)\n",
    "        else:\n",
    "            # 일반적인 경우 (정수 인덱스 레이블)\n",
    "            loss = criterion(outputs, labels)\n",
    "            \n",
    "        loss.backward()\n",
    "        optimizer.first_step(zero_grad=True)\n",
    "\n",
    "        # 두 번째 forward-backward 패스\n",
    "        if use_cutmix:\n",
    "            # 새로운 forward 패스 필요\n",
    "            outputs = model(inputs)\n",
    "            loss = torch.nn.functional.cross_entropy(outputs, labels)\n",
    "        else:\n",
    "            # 새로운 forward 패스 필요\n",
    "            outputs = model(inputs)\n",
    "            loss = criterion(outputs, labels)\n",
    "        \n",
    "        loss.backward()\n",
    "        optimizer.second_step(zero_grad=True)\n",
    "\n",
    "        # 학습률 스케줄러 업데이트 - warmup 스케줄러만 여기서 업데이트\n",
    "        if epoch < warmup_epochs and warmup_scheduler is not None:\n",
    "            warmup_scheduler.step()\n",
    "        \n",
    "        running_loss += loss.item()\n",
    "\n",
    "        # 정확도 계산 - CutMix 적용 여부에 따라 다르게 처리\n",
    "        if use_cutmix:\n",
    "            # 원-핫 인코딩된 레이블에서 argmax를 사용해 가장 큰 값의 인덱스 추출\n",
    "            _, label_idx = labels.max(1)\n",
    "        else:\n",
    "            # 정수 인덱스 레이블 그대로 사용\n",
    "            label_idx = labels\n",
    "        \n",
    "    \n",
    "        # top-1 정확도 계산\n",
    "        _, predicted = outputs.max(1)\n",
    "        total += inputs.size(0)\n",
    "        correct_top1 += predicted.eq(label_idx).sum().item()\n",
    "        \n",
    "        # top-5 정확도 계산\n",
    "        _, top5_idx = outputs.topk(5, 1, largest=True, sorted=True)\n",
    "        correct_top5 += sum([1 for i in range(len(label_idx)) if label_idx[i] in top5_idx[i]])\n",
    "        \n",
    "        if (i + 1) % 50 == 0:  # 50 배치마다 출력\n",
    "            print(f'Epoch [{epoch+1}], Batch [{i+1}/{len(trainloader)}], Loss: {loss.item():.4f}, LR: {optimizer.param_groups[0][\"lr\"]:.6f}')\n",
    "    \n",
    "    epoch_loss = running_loss / len(trainloader)\n",
    "    accuracy_top1 = 100.0 * correct_top1 / total\n",
    "    accuracy_top5 = 100.0 * correct_top5 / total\n",
    "    \n",
    "    train_time = time.time() - start_time\n",
    "    \n",
    "    # 학습 세트에 대한 성능 출력\n",
    "    print(f'Train set: Epoch: {epoch+1}, Average loss:{epoch_loss:.4f}, LR: {optimizer.param_groups[0][\"lr\"]:.6f} '\n",
    "          f'Top-1 Accuracy: {accuracy_top1:.4f}%, Top-5 Accuracy: {accuracy_top5:.4f}%, Time consumed:{train_time:.2f}s')\n",
    "    \n",
    "    return epoch_loss, accuracy_top1, accuracy_top5\n",
    "\n",
    "def evaluate(model, dataloader, criterion, device, epoch, phase=\"test\"):\n",
    "    \"\"\"\n",
    "    평가 함수\n",
    "    \"\"\"\n",
    "    model.eval()  # 모델을 평가 모드로 설정\n",
    "    start_time = time.time()  # 시간 측정 시작\n",
    "    \n",
    "    eval_loss = 0.0\n",
    "    correct_top1 = 0\n",
    "    correct_top5 = 0\n",
    "    total = 0\n",
    "    \n",
    "    # 그래디언트 계산 비활성화\n",
    "    with torch.no_grad():\n",
    "        for inputs, labels in dataloader:\n",
    "            inputs, labels = inputs.to(device), labels.to(device)\n",
    "            \n",
    "            # 순전파\n",
    "            outputs = model(inputs)\n",
    "            \n",
    "            # 손실 계산\n",
    "            loss = criterion(outputs, labels)\n",
    "            eval_loss += loss.item()\n",
    "            \n",
    "            # top-1 정확도 계산\n",
    "            _, predicted = outputs.max(1)\n",
    "            total += labels.size(0)\n",
    "            correct_top1 += (predicted == labels).sum().item()\n",
    "            \n",
    "            # top-5 정확도 계산\n",
    "            _, top5_idx = outputs.topk(5, 1, largest=True, sorted=True)\n",
    "            correct_top5 += top5_idx.eq(labels.view(-1, 1).expand_as(top5_idx)).sum().item()\n",
    "    \n",
    "    # 평균 손실 및 정확도 계산\n",
    "    eval_loss = eval_loss / len(dataloader)\n",
    "    accuracy_top1 = 100.0 * correct_top1 / total\n",
    "    accuracy_top5 = 100.0 * correct_top5 / total\n",
    "    \n",
    "    # 평가 시간 계산\n",
    "    eval_time = time.time() - start_time\n",
    "    \n",
    "    # 테스트 세트에 대한 성능 출력\n",
    "    print(f'{phase.capitalize()} set: Epoch: {epoch+1}, Average loss:{eval_loss:.4f}, '\n",
    "          f'Top-1 Accuracy: {accuracy_top1:.4f}%, Top-5 Accuracy: {accuracy_top5:.4f}%, Time consumed:{eval_time:.2f}s')\n",
    "    print()\n",
    "    \n",
    "    return eval_loss, accuracy_top1, accuracy_top5\n",
    "\n",
    "# 메인 학습 루프\n",
    "def main_training_loop(model, trainloader, testloader, criterion, optimizer, device, num_epochs, patience, max_epochs_wait, warmup_scheduler=None, main_scheduler=None, warmup_epochs=5, grad_clip_norm=None):\n",
    "    \"\"\"\n",
    "    메인 학습 루프 (accuracy 기준 early stopping)\n",
    "    \"\"\"\n",
    "    # 정확도 기반 얼리 스토핑 사용\n",
    "    early_stopping = AccuracyEarlyStopping(patience=patience, verbose=True, path='checkpoint.pt', max_epochs=max_epochs_wait)\n",
    "    \n",
    "    best_test_acc_top1 = 0.0\n",
    "    best_test_acc_top5 = 0.0\n",
    "    \n",
    "    # 테스트 정확도 기록을 위한 리스트\n",
    "    test_acc_top1_history = []\n",
    "    \n",
    "    # tqdm을 사용한 진행 상황 표시\n",
    "    for epoch in tqdm(range(num_epochs)):\n",
    "        # 학습\n",
    "        train_loss, train_acc_top1, train_acc_top5 = train(\n",
    "            model, \n",
    "            trainloader, \n",
    "            criterion, \n",
    "            optimizer, \n",
    "            device, \n",
    "            epoch, \n",
    "            warmup_scheduler, \n",
    "            warmup_epochs,\n",
    "            grad_clip_norm\n",
    "        )\n",
    "        \n",
    "        # 테스트 데이터로 평가\n",
    "        test_loss, test_acc_top1, test_acc_top5 = evaluate(model, testloader, criterion, device, epoch, phase=\"test\")\n",
    "\n",
    "        # 웜업 이후 ReduceLROnPlateau 스케줄러 업데이트 \n",
    "        if epoch >= warmup_epochs and main_scheduler is not None:\n",
    "            main_scheduler.step(test_acc_top1)  # 테스트 정확도에 따라 학습률 업데이트       \n",
    "            \n",
    "        # 테스트 정확도 기록\n",
    "        test_acc_top1_history.append(test_acc_top1)\n",
    "        \n",
    "        # WandB에 로깅\n",
    "        wandb.log({\n",
    "            \"epoch\": epoch + 1,\n",
    "            \"learning_rate\": optimizer.param_groups[0]['lr'],\n",
    "            \"train_loss\": train_loss,\n",
    "            \"train_accuracy_top1\": train_acc_top1,\n",
    "            \"train_accuracy_top5\": train_acc_top5,\n",
    "            \"test_loss\": test_loss,\n",
    "            \"test_accuracy_top1\": test_acc_top1,\n",
    "            \"test_accuracy_top5\": test_acc_top5\n",
    "        })\n",
    "            \n",
    "        # 최고 정확도 모델 저장 (top-1 기준)\n",
    "        if test_acc_top1 > best_test_acc_top1:\n",
    "            best_test_acc_top1 = test_acc_top1\n",
    "            best_test_acc_top5_at_best_top1 = test_acc_top5\n",
    "            print(f'새로운 최고 top-1 정확도: {best_test_acc_top1:.2f}%, top-5 정확도: {best_test_acc_top5_at_best_top1:.2f}%')\n",
    "            # 모델 저장\n",
    "            model_path = f'best_model_{wandb.run.name}.pth'\n",
    "            torch.save(model.state_dict(), model_path)\n",
    "            \n",
    "            # WandB에 모델 아티팩트 저장\n",
    "            wandb.save(model_path)\n",
    "        \n",
    "        # top-5 accuracy 기록 업데이트\n",
    "        if test_acc_top5 > best_test_acc_top5:\n",
    "            best_test_acc_top5 = test_acc_top5\n",
    "            print(f'새로운 최고 top-5 정확도: {best_test_acc_top5:.2f}%')\n",
    "\n",
    "        # Early stopping 체크 (test_acc_top1 기준)\n",
    "        early_stopping(test_acc_top1, model, epoch)\n",
    "        if early_stopping.early_stop:\n",
    "            print(f\"에폭 {epoch+1}에서 학습 조기 종료. 최고 성능 에폭: {early_stopping.best_epoch+1}\")\n",
    "            break\n",
    "    \n",
    "    # 훈련 완료 후 최고 모델 로드\n",
    "    print(\"테스트 정확도 기준 최고 모델 로드 중...\")\n",
    "    model_path = f'best_model_{wandb.run.name}.pth'\n",
    "    model.load_state_dict(torch.load(model_path))\n",
    "\n",
    "    # 최종 테스트 세트 평가\n",
    "    final_test_loss, final_test_acc_top1, final_test_acc_top5 = evaluate(model, testloader, criterion, device, num_epochs-1, phase=\"test\")\n",
    "    \n",
    "    print(f'완료! 최고 테스트 top-1 정확도: {best_test_acc_top1:.2f}%, 최고 테스트 top-5 정확도: {best_test_acc_top5:.2f}%')\n",
    "    print(f'최종 테스트 top-1 정확도: {final_test_acc_top1:.2f}%, 최종 테스트 top-5 정확도: {final_test_acc_top5:.2f}%')\n",
    "    \n",
    "    # WandB에 최종 결과 기록\n",
    "    wandb.run.summary[\"best_test_accuracy_top1\"] = best_test_acc_top1\n",
    "    wandb.run.summary[\"best_test_accuracy_top5\"] = best_test_acc_top5\n",
    "    wandb.run.summary[\"final_test_accuracy_top1\"] = final_test_acc_top1\n",
    "    wandb.run.summary[\"final_test_accuracy_top5\"] = final_test_acc_top5\n",
    "\n",
    "    # Early stopping 정보 저장\n",
    "    if early_stopping.early_stop:\n",
    "        wandb.run.summary[\"early_stopped\"] = True\n",
    "        wandb.run.summary[\"early_stopped_epoch\"] = epoch+1\n",
    "        wandb.run.summary[\"best_epoch\"] = early_stopping.best_epoch+1\n",
    "    else:\n",
    "        wandb.run.summary[\"early_stopped\"] = False\n",
    "\n",
    "\n",
    "# 디바이스 설정\n",
    "device = torch.device(\"cuda\" if torch.cuda.is_available() else \"cpu\")\n",
    "print(f\"Using device: {device}\")\n",
    "\n",
    "# 모델 초기화\n",
    "# 또는 매개변수 커스터마이징\n",
    "model = stochastic_depth_resnet18().to(device)\n",
    "criterion = nn.CrossEntropyLoss()  # 라벨 스무딩 사용\n",
    "base_optimizer = optim.SGD\n",
    "optimizer = SAM(model.parameters(), base_optimizer, lr=config[\"learning_rate\"], momentum=config[\"momentum\"], weight_decay=config[\"weight_decay\"])\n",
    "\n",
    "# WarmUpLR 스케줄러 초기화\n",
    "# 웜업할 총 iteration 수 계산 (웜업 에폭 × 배치 수)\n",
    "warmup_steps = config[\"warmup_epochs\"] * len(trainloader)\n",
    "warmup_scheduler = WarmUpLR(optimizer, total_iters=warmup_steps)\n",
    "\n",
    "# 웜업 이후 사용할 스케줄러 설정 \n",
    "main_scheduler = torch.optim.lr_scheduler.ReduceLROnPlateau(\n",
    "    optimizer, \n",
    "    mode='max',                      # 정확도를 모니터링하므로 'max' 모드 사용\n",
    "    factor=config[\"scheduler_factor\"],         # 학습률 감소 비율\n",
    "    patience=config[\"scheduler_patience\"],     # 몇 에폭 동안 개선이 없을 때 감소시킬지\n",
    "    verbose=config[\"scheduler_verbose\"],       # 학습률 변경 시 출력\n",
    "    threshold=config[\"scheduler_threshold\"],   # 개선으로 간주할 최소 변화량\n",
    "    min_lr=config[\"scheduler_min_lr\"]\n",
    ")\n",
    "\n",
    "# WandB에 모델 구조 기록\n",
    "wandb.watch(model, log=\"all\")\n",
    "\n",
    "# GPU 가속\n",
    "if torch.cuda.device_count() > 1:\n",
    "    print(f\"{torch.cuda.device_count()}개의 GPU를 사용합니다.\")\n",
    "    model = nn.DataParallel(model)\n",
    "\n",
    "# 훈련 시작 시간 기록\n",
    "start_time = time.time()\n",
    "\n",
    "# 메인 학습 루프 호출\n",
    "main_training_loop(\n",
    "    model=model,\n",
    "    trainloader=trainloader,\n",
    "    testloader=testloader,\n",
    "    criterion=criterion,\n",
    "    optimizer=optimizer,\n",
    "    device=device,\n",
    "    num_epochs=config[\"num_epochs\"],\n",
    "    patience=config[\"early_stop_patience\"],  # early stopping 파라미터 이름 변경\n",
    "    max_epochs_wait=config[\"max_epochs_wait\"],\n",
    "    warmup_scheduler=warmup_scheduler,\n",
    "    main_scheduler=main_scheduler,\n",
    "    warmup_epochs=config[\"warmup_epochs\"],\n",
    "    grad_clip_norm=config[\"grad_clip_norm\"]\n",
    ")\n",
    "\n",
    "# 훈련 종료 시간 기록 및 출력\n",
    "end_time = time.time()\n",
    "total_time = end_time - start_time\n",
    "wandb.log({\"total_training_time\": total_time})\n",
    "\n",
    "print(f\"전체 학습 시간: {total_time:.2f} 초\")\n",
    "\n",
    "# WandB 실행 종료\n",
    "wandb.finish()"
   ]
  },
  {
   "cell_type": "code",
   "execution_count": null,
   "id": "815d90ff-2ed0-46e9-81aa-685289e8c626",
   "metadata": {},
   "outputs": [],
   "source": []
  }
 ],
 "metadata": {
  "kernelspec": {
   "display_name": "Python 3 (ipykernel)",
   "language": "python",
   "name": "python3"
  },
  "language_info": {
   "codemirror_mode": {
    "name": "ipython",
    "version": 3
   },
   "file_extension": ".py",
   "mimetype": "text/x-python",
   "name": "python",
   "nbconvert_exporter": "python",
   "pygments_lexer": "ipython3",
   "version": "3.11.9"
  }
 },
 "nbformat": 4,
 "nbformat_minor": 5
}
