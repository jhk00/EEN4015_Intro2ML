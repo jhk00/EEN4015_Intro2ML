{
 "cells": [
  {
   "cell_type": "code",
   "execution_count": 3,
   "id": "516f9d5f-6361-4b03-98ee-e1ba4de86b92",
   "metadata": {},
   "outputs": [
    {
     "name": "stderr",
     "output_type": "stream",
     "text": [
      "\u001b[34m\u001b[1mwandb\u001b[0m: \u001b[33mWARNING\u001b[0m If you're specifying your api key in code, ensure this code is not shared publicly.\n",
      "\u001b[34m\u001b[1mwandb\u001b[0m: \u001b[33mWARNING\u001b[0m Consider setting the WANDB_API_KEY environment variable, or running `wandb login` from the command line.\n",
      "\u001b[34m\u001b[1mwandb\u001b[0m: Appending key for api.wandb.ai to your netrc file: /home/guswls/.netrc\n"
     ]
    },
    {
     "data": {
      "text/html": [
       "Tracking run with wandb version 0.19.9"
      ],
      "text/plain": [
       "<IPython.core.display.HTML object>"
      ]
     },
     "metadata": {},
     "output_type": "display_data"
    },
    {
     "data": {
      "text/html": [
       "Run data is saved locally in <code>/home/guswls/EEN4015_Intro2ML/pbl-2/wandb/run-20250415_084639-fnhoqz14</code>"
      ],
      "text/plain": [
       "<IPython.core.display.HTML object>"
      ]
     },
     "metadata": {},
     "output_type": "display_data"
    },
    {
     "data": {
      "text/html": [
       "Syncing run <strong><a href='https://wandb.ai/sokjh1310-hanyang-university/PBL-2/runs/fnhoqz14' target=\"_blank\">resnet18_cutmix,flip,crop_standard</a></strong> to <a href='https://wandb.ai/sokjh1310-hanyang-university/PBL-2' target=\"_blank\">Weights & Biases</a> (<a href='https://wandb.me/developer-guide' target=\"_blank\">docs</a>)<br>"
      ],
      "text/plain": [
       "<IPython.core.display.HTML object>"
      ]
     },
     "metadata": {},
     "output_type": "display_data"
    },
    {
     "data": {
      "text/html": [
       " View project at <a href='https://wandb.ai/sokjh1310-hanyang-university/PBL-2' target=\"_blank\">https://wandb.ai/sokjh1310-hanyang-university/PBL-2</a>"
      ],
      "text/plain": [
       "<IPython.core.display.HTML object>"
      ]
     },
     "metadata": {},
     "output_type": "display_data"
    },
    {
     "data": {
      "text/html": [
       " View run at <a href='https://wandb.ai/sokjh1310-hanyang-university/PBL-2/runs/fnhoqz14' target=\"_blank\">https://wandb.ai/sokjh1310-hanyang-university/PBL-2/runs/fnhoqz14</a>"
      ],
      "text/plain": [
       "<IPython.core.display.HTML object>"
      ]
     },
     "metadata": {},
     "output_type": "display_data"
    },
    {
     "name": "stdout",
     "output_type": "stream",
     "text": [
      "Files already downloaded and verified\n",
      "Files already downloaded and verified\n",
      "Train set size: 50000\n",
      "Test set size: 10000\n",
      "Using device: cuda\n",
      "2개의 GPU를 사용합니다.\n"
     ]
    },
    {
     "name": "stderr",
     "output_type": "stream",
     "text": [
      "  0%|                                                                                                       | 0/100 [00:00<?, ?it/s]"
     ]
    },
    {
     "name": "stdout",
     "output_type": "stream",
     "text": [
      "Epoch [1], Batch [50/391], Loss: 3.9797\n",
      "Epoch [1], Batch [100/391], Loss: 3.9515\n",
      "Epoch [1], Batch [150/391], Loss: 4.4217\n",
      "Epoch [1], Batch [200/391], Loss: 3.8773\n",
      "Epoch [1], Batch [250/391], Loss: 4.1077\n",
      "Epoch [1], Batch [300/391], Loss: 4.2678\n",
      "Epoch [1], Batch [350/391], Loss: 3.3573\n",
      "Train set: Epoch: 1, Average loss:4.0275, LR: 0.001000 Top-1 Accuracy: 9.7620%, Top-5 Accuracy: 29.0020%, Time consumed:48.34s\n",
      "Test set: Epoch: 1, Average loss:3.4714, Top-1 Accuracy: 16.4600%, Top-5 Accuracy: 43.1000%, Time consumed:8.45s\n",
      "\n",
      "New best top-1 accuracy: 16.46%, top-5 accuracy: 43.10%\n",
      "New best top-5 accuracy: 43.10%\n",
      "Validation loss decreased (inf --> 3.471412). Saving model ...\n"
     ]
    },
    {
     "name": "stderr",
     "output_type": "stream",
     "text": [
      "  1%|▉                                                                                            | 1/100 [00:56<1:34:02, 56.99s/it]"
     ]
    },
    {
     "name": "stdout",
     "output_type": "stream",
     "text": [
      "Epoch [2], Batch [50/391], Loss: 3.6236\n",
      "Epoch [2], Batch [100/391], Loss: 3.1799\n",
      "Epoch [2], Batch [150/391], Loss: 3.1589\n",
      "Epoch [2], Batch [200/391], Loss: 3.0791\n",
      "Epoch [2], Batch [250/391], Loss: 2.9808\n",
      "Epoch [2], Batch [300/391], Loss: 3.9451\n",
      "Epoch [2], Batch [350/391], Loss: 3.4819\n",
      "Train set: Epoch: 2, Average loss:3.5221, LR: 0.001000 Top-1 Accuracy: 18.4200%, Top-5 Accuracy: 45.6320%, Time consumed:47.87s\n",
      "Test set: Epoch: 2, Average loss:2.8877, Top-1 Accuracy: 27.3300%, Top-5 Accuracy: 58.7400%, Time consumed:9.45s\n",
      "\n",
      "New best top-1 accuracy: 27.33%, top-5 accuracy: 58.74%\n",
      "New best top-5 accuracy: 58.74%\n",
      "Validation loss decreased (3.471412 --> 2.887696). Saving model ...\n"
     ]
    },
    {
     "name": "stderr",
     "output_type": "stream",
     "text": [
      "  2%|█▊                                                                                           | 2/100 [01:54<1:33:37, 57.32s/it]"
     ]
    },
    {
     "name": "stdout",
     "output_type": "stream",
     "text": [
      "Epoch [3], Batch [50/391], Loss: 3.7129\n",
      "Epoch [3], Batch [100/391], Loss: 2.4023\n",
      "Epoch [3], Batch [150/391], Loss: 3.7178\n",
      "Epoch [3], Batch [200/391], Loss: 2.4657\n",
      "Epoch [3], Batch [250/391], Loss: 2.4560\n",
      "Epoch [3], Batch [300/391], Loss: 4.0110\n",
      "Epoch [3], Batch [350/391], Loss: 2.5658\n",
      "Train set: Epoch: 3, Average loss:3.1333, LR: 0.001000 Top-1 Accuracy: 26.6320%, Top-5 Accuracy: 56.7360%, Time consumed:50.67s\n",
      "Test set: Epoch: 3, Average loss:2.4633, Top-1 Accuracy: 35.3700%, Top-5 Accuracy: 67.8700%, Time consumed:8.83s\n",
      "\n",
      "New best top-1 accuracy: 35.37%, top-5 accuracy: 67.87%\n",
      "New best top-5 accuracy: 67.87%\n",
      "Validation loss decreased (2.887696 --> 2.463271). Saving model ...\n"
     ]
    },
    {
     "name": "stderr",
     "output_type": "stream",
     "text": [
      "  3%|██▊                                                                                          | 3/100 [02:54<1:34:26, 58.42s/it]"
     ]
    },
    {
     "name": "stdout",
     "output_type": "stream",
     "text": [
      "Epoch [4], Batch [50/391], Loss: 3.1604\n",
      "Epoch [4], Batch [100/391], Loss: 2.3412\n",
      "Epoch [4], Batch [150/391], Loss: 2.3921\n",
      "Epoch [4], Batch [200/391], Loss: 2.2399\n",
      "Epoch [4], Batch [250/391], Loss: 2.3031\n",
      "Epoch [4], Batch [300/391], Loss: 3.9407\n",
      "Epoch [4], Batch [350/391], Loss: 2.1454\n",
      "Train set: Epoch: 4, Average loss:2.8825, LR: 0.001000 Top-1 Accuracy: 32.7080%, Top-5 Accuracy: 63.2700%, Time consumed:48.43s\n",
      "Test set: Epoch: 4, Average loss:2.1669, Top-1 Accuracy: 42.0400%, Top-5 Accuracy: 75.0900%, Time consumed:8.65s\n",
      "\n",
      "New best top-1 accuracy: 42.04%, top-5 accuracy: 75.09%\n",
      "New best top-5 accuracy: 75.09%\n",
      "Validation loss decreased (2.463271 --> 2.166854). Saving model ...\n"
     ]
    },
    {
     "name": "stderr",
     "output_type": "stream",
     "text": [
      "  4%|███▋                                                                                         | 4/100 [03:51<1:32:48, 58.01s/it]"
     ]
    },
    {
     "name": "stdout",
     "output_type": "stream",
     "text": [
      "Epoch [5], Batch [50/391], Loss: 2.0370\n",
      "Epoch [5], Batch [100/391], Loss: 3.8624\n",
      "Epoch [5], Batch [150/391], Loss: 2.7438\n",
      "Epoch [5], Batch [200/391], Loss: 3.7068\n",
      "Epoch [5], Batch [250/391], Loss: 2.1282\n",
      "Epoch [5], Batch [300/391], Loss: 2.5076\n",
      "Epoch [5], Batch [350/391], Loss: 2.6815\n",
      "Train set: Epoch: 5, Average loss:2.6374, LR: 0.001000 Top-1 Accuracy: 38.2460%, Top-5 Accuracy: 68.9860%, Time consumed:48.65s\n",
      "Test set: Epoch: 5, Average loss:2.0476, Top-1 Accuracy: 45.4000%, Top-5 Accuracy: 76.5400%, Time consumed:8.82s\n",
      "\n",
      "New best top-1 accuracy: 45.40%, top-5 accuracy: 76.54%\n",
      "New best top-5 accuracy: 76.54%\n",
      "Validation loss decreased (2.166854 --> 2.047613). Saving model ...\n"
     ]
    },
    {
     "name": "stderr",
     "output_type": "stream",
     "text": [
      "  5%|████▋                                                                                        | 5/100 [04:49<1:31:40, 57.90s/it]"
     ]
    },
    {
     "name": "stdout",
     "output_type": "stream",
     "text": [
      "Epoch [6], Batch [50/391], Loss: 3.0023\n",
      "Epoch [6], Batch [100/391], Loss: 1.8990\n",
      "Epoch [6], Batch [150/391], Loss: 3.8819\n",
      "Epoch [6], Batch [200/391], Loss: 3.7903\n",
      "Epoch [6], Batch [250/391], Loss: 1.8039\n",
      "Epoch [6], Batch [300/391], Loss: 1.7464\n",
      "Epoch [6], Batch [350/391], Loss: 2.0205\n",
      "Train set: Epoch: 6, Average loss:2.4511, LR: 0.001000 Top-1 Accuracy: 42.5420%, Top-5 Accuracy: 72.8360%, Time consumed:48.36s\n",
      "Test set: Epoch: 6, Average loss:1.8576, Top-1 Accuracy: 50.0800%, Top-5 Accuracy: 79.6700%, Time consumed:8.44s\n",
      "\n",
      "New best top-1 accuracy: 50.08%, top-5 accuracy: 79.67%\n",
      "New best top-5 accuracy: 79.67%\n",
      "Validation loss decreased (2.047613 --> 1.857640). Saving model ...\n"
     ]
    },
    {
     "name": "stderr",
     "output_type": "stream",
     "text": [
      "  6%|█████▌                                                                                       | 6/100 [05:46<1:30:15, 57.61s/it]"
     ]
    },
    {
     "name": "stdout",
     "output_type": "stream",
     "text": [
      "Epoch [7], Batch [50/391], Loss: 3.6560\n",
      "Epoch [7], Batch [100/391], Loss: 1.5710\n",
      "Epoch [7], Batch [150/391], Loss: 1.6615\n",
      "Epoch [7], Batch [200/391], Loss: 3.5486\n",
      "Epoch [7], Batch [250/391], Loss: 1.5105\n",
      "Epoch [7], Batch [300/391], Loss: 1.6905\n",
      "Epoch [7], Batch [350/391], Loss: 3.4802\n",
      "Train set: Epoch: 7, Average loss:2.4173, LR: 0.001000 Top-1 Accuracy: 44.4460%, Top-5 Accuracy: 74.4360%, Time consumed:47.66s\n",
      "Test set: Epoch: 7, Average loss:1.7224, Top-1 Accuracy: 52.9500%, Top-5 Accuracy: 82.3500%, Time consumed:9.51s\n",
      "\n",
      "New best top-1 accuracy: 52.95%, top-5 accuracy: 82.35%\n",
      "New best top-5 accuracy: 82.35%\n",
      "Validation loss decreased (1.857640 --> 1.722406). Saving model ...\n"
     ]
    },
    {
     "name": "stderr",
     "output_type": "stream",
     "text": [
      "  7%|██████▌                                                                                      | 7/100 [06:43<1:29:11, 57.54s/it]"
     ]
    },
    {
     "name": "stdout",
     "output_type": "stream",
     "text": [
      "Epoch [8], Batch [50/391], Loss: 2.1302\n",
      "Epoch [8], Batch [100/391], Loss: 1.4131\n",
      "Epoch [8], Batch [150/391], Loss: 2.2757\n",
      "Epoch [8], Batch [200/391], Loss: 3.5789\n",
      "Epoch [8], Batch [250/391], Loss: 3.5907\n",
      "Epoch [8], Batch [300/391], Loss: 1.6112\n",
      "Epoch [8], Batch [350/391], Loss: 1.3196\n",
      "Train set: Epoch: 8, Average loss:2.2521, LR: 0.001000 Top-1 Accuracy: 48.3580%, Top-5 Accuracy: 77.7780%, Time consumed:49.77s\n",
      "Test set: Epoch: 8, Average loss:1.6109, Top-1 Accuracy: 55.1900%, Top-5 Accuracy: 83.7800%, Time consumed:8.48s\n",
      "\n",
      "New best top-1 accuracy: 55.19%, top-5 accuracy: 83.78%\n",
      "New best top-5 accuracy: 83.78%\n",
      "Validation loss decreased (1.722406 --> 1.610880). Saving model ...\n"
     ]
    },
    {
     "name": "stderr",
     "output_type": "stream",
     "text": [
      "  8%|███████▍                                                                                     | 8/100 [07:42<1:28:41, 57.84s/it]"
     ]
    },
    {
     "name": "stdout",
     "output_type": "stream",
     "text": [
      "Epoch [9], Batch [50/391], Loss: 1.5508\n",
      "Epoch [9], Batch [100/391], Loss: 3.3767\n",
      "Epoch [9], Batch [150/391], Loss: 1.3684\n",
      "Epoch [9], Batch [200/391], Loss: 1.2738\n",
      "Epoch [9], Batch [250/391], Loss: 1.5583\n",
      "Epoch [9], Batch [300/391], Loss: 3.1638\n",
      "Epoch [9], Batch [350/391], Loss: 3.1889\n",
      "Train set: Epoch: 9, Average loss:2.1374, LR: 0.001000 Top-1 Accuracy: 50.9520%, Top-5 Accuracy: 79.4060%, Time consumed:51.52s\n",
      "Test set: Epoch: 9, Average loss:1.4975, Top-1 Accuracy: 58.5500%, Top-5 Accuracy: 85.8500%, Time consumed:8.80s\n",
      "\n",
      "New best top-1 accuracy: 58.55%, top-5 accuracy: 85.85%\n",
      "New best top-5 accuracy: 85.85%\n",
      "Validation loss decreased (1.610880 --> 1.497458). Saving model ...\n"
     ]
    },
    {
     "name": "stderr",
     "output_type": "stream",
     "text": [
      "  9%|████████▎                                                                                    | 9/100 [08:42<1:29:00, 58.69s/it]"
     ]
    },
    {
     "name": "stdout",
     "output_type": "stream",
     "text": [
      "Epoch [10], Batch [50/391], Loss: 1.1962\n",
      "Epoch [10], Batch [100/391], Loss: 3.3252\n",
      "Epoch [10], Batch [150/391], Loss: 1.3215\n",
      "Epoch [10], Batch [200/391], Loss: 3.5521\n",
      "Epoch [10], Batch [250/391], Loss: 3.2392\n",
      "Epoch [10], Batch [300/391], Loss: 1.2892\n",
      "Epoch [10], Batch [350/391], Loss: 1.2378\n",
      "Train set: Epoch: 10, Average loss:2.1632, LR: 0.001000 Top-1 Accuracy: 51.6220%, Top-5 Accuracy: 79.5020%, Time consumed:50.24s\n",
      "Test set: Epoch: 10, Average loss:1.4609, Top-1 Accuracy: 59.8900%, Top-5 Accuracy: 86.2400%, Time consumed:8.49s\n",
      "\n",
      "New best top-1 accuracy: 59.89%, top-5 accuracy: 86.24%\n",
      "New best top-5 accuracy: 86.24%\n",
      "Validation loss decreased (1.497458 --> 1.460874). Saving model ...\n"
     ]
    },
    {
     "name": "stderr",
     "output_type": "stream",
     "text": [
      " 10%|█████████▏                                                                                  | 10/100 [09:41<1:28:09, 58.78s/it]"
     ]
    },
    {
     "name": "stdout",
     "output_type": "stream",
     "text": [
      "Epoch [11], Batch [50/391], Loss: 2.9237\n",
      "Epoch [11], Batch [100/391], Loss: 1.2654\n",
      "Epoch [11], Batch [150/391], Loss: 2.7136\n",
      "Epoch [11], Batch [200/391], Loss: 1.3356\n",
      "Epoch [11], Batch [250/391], Loss: 2.2315\n",
      "Epoch [11], Batch [300/391], Loss: 3.1275\n",
      "Epoch [11], Batch [350/391], Loss: 2.0144\n",
      "Train set: Epoch: 11, Average loss:2.0221, LR: 0.001000 Top-1 Accuracy: 54.6460%, Top-5 Accuracy: 81.6840%, Time consumed:48.64s\n",
      "Test set: Epoch: 11, Average loss:1.4417, Top-1 Accuracy: 60.3300%, Top-5 Accuracy: 86.4400%, Time consumed:8.92s\n",
      "\n",
      "New best top-1 accuracy: 60.33%, top-5 accuracy: 86.44%\n",
      "New best top-5 accuracy: 86.44%\n",
      "Validation loss decreased (1.460874 --> 1.441749). Saving model ...\n"
     ]
    },
    {
     "name": "stderr",
     "output_type": "stream",
     "text": [
      " 11%|██████████                                                                                  | 11/100 [10:39<1:26:45, 58.48s/it]"
     ]
    },
    {
     "name": "stdout",
     "output_type": "stream",
     "text": [
      "Epoch [12], Batch [50/391], Loss: 2.0676\n",
      "Epoch [12], Batch [100/391], Loss: 1.3693\n",
      "Epoch [12], Batch [150/391], Loss: 1.1215\n",
      "Epoch [12], Batch [200/391], Loss: 2.2807\n",
      "Epoch [12], Batch [250/391], Loss: 1.1545\n",
      "Epoch [12], Batch [300/391], Loss: 3.2797\n",
      "Epoch [12], Batch [350/391], Loss: 1.6438\n",
      "Train set: Epoch: 12, Average loss:1.9035, LR: 0.001000 Top-1 Accuracy: 57.2120%, Top-5 Accuracy: 83.1940%, Time consumed:47.81s\n"
     ]
    },
    {
     "name": "stderr",
     "output_type": "stream",
     "text": [
      " 12%|███████████                                                                                 | 12/100 [11:35<1:24:43, 57.77s/it]"
     ]
    },
    {
     "name": "stdout",
     "output_type": "stream",
     "text": [
      "Test set: Epoch: 12, Average loss:1.4442, Top-1 Accuracy: 60.1200%, Top-5 Accuracy: 86.5500%, Time consumed:8.30s\n",
      "\n",
      "New best top-5 accuracy: 86.55%\n",
      "EarlyStopping 카운터: 1 / 10\n",
      "Epoch [13], Batch [50/391], Loss: 0.9444\n",
      "Epoch [13], Batch [100/391], Loss: 2.0745\n",
      "Epoch [13], Batch [150/391], Loss: 1.1352\n",
      "Epoch [13], Batch [200/391], Loss: 2.1429\n",
      "Epoch [13], Batch [250/391], Loss: 2.5266\n",
      "Epoch [13], Batch [300/391], Loss: 3.2781\n",
      "Epoch [13], Batch [350/391], Loss: 1.2110\n",
      "Train set: Epoch: 13, Average loss:1.8337, LR: 0.001000 Top-1 Accuracy: 58.7940%, Top-5 Accuracy: 84.1620%, Time consumed:47.61s\n",
      "Test set: Epoch: 13, Average loss:1.3366, Top-1 Accuracy: 62.5000%, Top-5 Accuracy: 87.9600%, Time consumed:8.46s\n",
      "\n",
      "New best top-1 accuracy: 62.50%, top-5 accuracy: 87.96%\n",
      "New best top-5 accuracy: 87.96%\n",
      "Validation loss decreased (1.441749 --> 1.336615). Saving model ...\n"
     ]
    },
    {
     "name": "stderr",
     "output_type": "stream",
     "text": [
      " 13%|███████████▉                                                                                | 13/100 [12:32<1:23:07, 57.33s/it]"
     ]
    },
    {
     "name": "stdout",
     "output_type": "stream",
     "text": [
      "Epoch [14], Batch [50/391], Loss: 1.1445\n",
      "Epoch [14], Batch [100/391], Loss: 3.3669\n",
      "Epoch [14], Batch [150/391], Loss: 1.0831\n",
      "Epoch [14], Batch [200/391], Loss: 1.1487\n",
      "Epoch [14], Batch [250/391], Loss: 0.9182\n",
      "Epoch [14], Batch [300/391], Loss: 1.9916\n",
      "Epoch [14], Batch [350/391], Loss: 3.2002\n",
      "Train set: Epoch: 14, Average loss:1.8181, LR: 0.001000 Top-1 Accuracy: 60.5960%, Top-5 Accuracy: 85.4540%, Time consumed:47.23s\n",
      "Test set: Epoch: 14, Average loss:1.2669, Top-1 Accuracy: 64.7400%, Top-5 Accuracy: 89.3800%, Time consumed:8.39s\n",
      "\n",
      "New best top-1 accuracy: 64.74%, top-5 accuracy: 89.38%\n",
      "New best top-5 accuracy: 89.38%\n",
      "Validation loss decreased (1.336615 --> 1.266875). Saving model ...\n"
     ]
    },
    {
     "name": "stderr",
     "output_type": "stream",
     "text": [
      " 14%|████████████▉                                                                               | 14/100 [13:27<1:21:32, 56.89s/it]"
     ]
    },
    {
     "name": "stdout",
     "output_type": "stream",
     "text": [
      "Epoch [15], Batch [50/391], Loss: 0.9444\n",
      "Epoch [15], Batch [100/391], Loss: 3.1835\n",
      "Epoch [15], Batch [150/391], Loss: 2.5901\n",
      "Epoch [15], Batch [200/391], Loss: 0.8561\n",
      "Epoch [15], Batch [250/391], Loss: 1.7570\n",
      "Epoch [15], Batch [300/391], Loss: 2.6805\n",
      "Epoch [15], Batch [350/391], Loss: 3.2364\n",
      "Train set: Epoch: 15, Average loss:1.7909, LR: 0.001000 Top-1 Accuracy: 61.2040%, Top-5 Accuracy: 85.3700%, Time consumed:49.88s\n"
     ]
    },
    {
     "name": "stderr",
     "output_type": "stream",
     "text": [
      " 15%|█████████████▊                                                                              | 15/100 [14:26<1:21:26, 57.48s/it]"
     ]
    },
    {
     "name": "stdout",
     "output_type": "stream",
     "text": [
      "Test set: Epoch: 15, Average loss:1.3023, Top-1 Accuracy: 64.3300%, Top-5 Accuracy: 88.1900%, Time consumed:8.98s\n",
      "\n",
      "EarlyStopping 카운터: 1 / 10\n",
      "Epoch [16], Batch [50/391], Loss: 2.7321\n",
      "Epoch [16], Batch [100/391], Loss: 0.9264\n",
      "Epoch [16], Batch [150/391], Loss: 0.8511\n",
      "Epoch [16], Batch [200/391], Loss: 0.9403\n",
      "Epoch [16], Batch [250/391], Loss: 2.7178\n",
      "Epoch [16], Batch [300/391], Loss: 0.9738\n",
      "Epoch [16], Batch [350/391], Loss: 1.8616\n",
      "Train set: Epoch: 16, Average loss:1.6663, LR: 0.001000 Top-1 Accuracy: 63.9820%, Top-5 Accuracy: 87.2840%, Time consumed:49.64s\n",
      "Test set: Epoch: 16, Average loss:1.2433, Top-1 Accuracy: 65.4900%, Top-5 Accuracy: 89.8300%, Time consumed:8.48s\n",
      "\n",
      "New best top-1 accuracy: 65.49%, top-5 accuracy: 89.83%\n",
      "New best top-5 accuracy: 89.83%\n",
      "Validation loss decreased (1.266875 --> 1.243272). Saving model ...\n"
     ]
    },
    {
     "name": "stderr",
     "output_type": "stream",
     "text": [
      " 16%|██████████████▋                                                                             | 16/100 [15:25<1:20:50, 57.75s/it]"
     ]
    },
    {
     "name": "stdout",
     "output_type": "stream",
     "text": [
      "Epoch [17], Batch [50/391], Loss: 3.1622\n",
      "Epoch [17], Batch [100/391], Loss: 3.0833\n",
      "Epoch [17], Batch [150/391], Loss: 2.3117\n",
      "Epoch [17], Batch [200/391], Loss: 3.1832\n",
      "Epoch [17], Batch [250/391], Loss: 3.7169\n",
      "Epoch [17], Batch [300/391], Loss: 0.9723\n",
      "Epoch [17], Batch [350/391], Loss: 3.0879\n",
      "Train set: Epoch: 17, Average loss:1.5697, LR: 0.001000 Top-1 Accuracy: 66.0640%, Top-5 Accuracy: 88.4900%, Time consumed:48.72s\n"
     ]
    },
    {
     "name": "stderr",
     "output_type": "stream",
     "text": [
      " 17%|███████████████▋                                                                            | 17/100 [16:22<1:19:39, 57.59s/it]"
     ]
    },
    {
     "name": "stdout",
     "output_type": "stream",
     "text": [
      "Test set: Epoch: 17, Average loss:1.2462, Top-1 Accuracy: 65.2300%, Top-5 Accuracy: 89.4900%, Time consumed:8.49s\n",
      "\n",
      "EarlyStopping 카운터: 1 / 10\n",
      "Epoch [18], Batch [50/391], Loss: 2.0344\n",
      "Epoch [18], Batch [100/391], Loss: 1.2301\n",
      "Epoch [18], Batch [150/391], Loss: 1.7596\n",
      "Epoch [18], Batch [200/391], Loss: 0.6926\n",
      "Epoch [18], Batch [250/391], Loss: 0.8951\n",
      "Epoch [18], Batch [300/391], Loss: 0.7828\n",
      "Epoch [18], Batch [350/391], Loss: 0.9401\n",
      "Train set: Epoch: 18, Average loss:1.5986, LR: 0.001000 Top-1 Accuracy: 65.8520%, Top-5 Accuracy: 88.2220%, Time consumed:47.02s\n",
      "Test set: Epoch: 18, Average loss:1.2334, Top-1 Accuracy: 66.1100%, Top-5 Accuracy: 89.4800%, Time consumed:8.18s\n",
      "\n",
      "New best top-1 accuracy: 66.11%, top-5 accuracy: 89.48%\n",
      "Validation loss decreased (1.243272 --> 1.233382). Saving model ...\n"
     ]
    },
    {
     "name": "stderr",
     "output_type": "stream",
     "text": [
      " 18%|████████████████▌                                                                           | 18/100 [17:17<1:17:48, 56.94s/it]"
     ]
    },
    {
     "name": "stdout",
     "output_type": "stream",
     "text": [
      "Epoch [19], Batch [50/391], Loss: 0.7134\n",
      "Epoch [19], Batch [100/391], Loss: 3.1617\n",
      "Epoch [19], Batch [150/391], Loss: 0.8503\n",
      "Epoch [19], Batch [200/391], Loss: 0.5662\n",
      "Epoch [19], Batch [250/391], Loss: 0.7086\n",
      "Epoch [19], Batch [300/391], Loss: 0.8309\n",
      "Epoch [19], Batch [350/391], Loss: 1.4604\n",
      "Train set: Epoch: 19, Average loss:1.5912, LR: 0.001000 Top-1 Accuracy: 66.6120%, Top-5 Accuracy: 88.7360%, Time consumed:47.97s\n",
      "Test set: Epoch: 19, Average loss:1.2163, Top-1 Accuracy: 66.6000%, Top-5 Accuracy: 89.7400%, Time consumed:8.75s\n",
      "\n",
      "New best top-1 accuracy: 66.60%, top-5 accuracy: 89.74%\n",
      "Validation loss decreased (1.233382 --> 1.216264). Saving model ...\n"
     ]
    },
    {
     "name": "stderr",
     "output_type": "stream",
     "text": [
      " 19%|█████████████████▍                                                                          | 19/100 [18:14<1:16:52, 56.95s/it]"
     ]
    },
    {
     "name": "stdout",
     "output_type": "stream",
     "text": [
      "Epoch [20], Batch [50/391], Loss: 2.6362\n",
      "Epoch [20], Batch [100/391], Loss: 0.6159\n",
      "Epoch [20], Batch [150/391], Loss: 0.7458\n",
      "Epoch [20], Batch [200/391], Loss: 0.6821\n",
      "Epoch [20], Batch [250/391], Loss: 3.2334\n",
      "Epoch [20], Batch [300/391], Loss: 3.0963\n",
      "Epoch [20], Batch [350/391], Loss: 2.4076\n",
      "Train set: Epoch: 20, Average loss:1.6125, LR: 0.001000 Top-1 Accuracy: 67.6600%, Top-5 Accuracy: 89.2840%, Time consumed:48.57s\n"
     ]
    },
    {
     "name": "stderr",
     "output_type": "stream",
     "text": [
      " 20%|██████████████████▍                                                                         | 20/100 [19:11<1:16:01, 57.02s/it]"
     ]
    },
    {
     "name": "stdout",
     "output_type": "stream",
     "text": [
      "Test set: Epoch: 20, Average loss:1.2248, Top-1 Accuracy: 66.6000%, Top-5 Accuracy: 89.8700%, Time consumed:8.61s\n",
      "\n",
      "New best top-5 accuracy: 89.87%\n",
      "EarlyStopping 카운터: 1 / 10\n",
      "Epoch [21], Batch [50/391], Loss: 0.6344\n",
      "Epoch [21], Batch [100/391], Loss: 0.5738\n",
      "Epoch [21], Batch [150/391], Loss: 2.6499\n",
      "Epoch [21], Batch [200/391], Loss: 2.6880\n",
      "Epoch [21], Batch [250/391], Loss: 0.5005\n",
      "Epoch [21], Batch [300/391], Loss: 2.9971\n",
      "Epoch [21], Batch [350/391], Loss: 3.0279\n",
      "Train set: Epoch: 21, Average loss:1.5206, LR: 0.001000 Top-1 Accuracy: 68.6460%, Top-5 Accuracy: 89.4160%, Time consumed:46.83s\n",
      "Test set: Epoch: 21, Average loss:1.1457, Top-1 Accuracy: 68.4400%, Top-5 Accuracy: 91.0000%, Time consumed:8.19s\n",
      "\n",
      "New best top-1 accuracy: 68.44%, top-5 accuracy: 91.00%\n",
      "New best top-5 accuracy: 91.00%\n",
      "Validation loss decreased (1.216264 --> 1.145679). Saving model ...\n"
     ]
    },
    {
     "name": "stderr",
     "output_type": "stream",
     "text": [
      " 21%|███████████████████▎                                                                        | 21/100 [20:07<1:14:23, 56.50s/it]"
     ]
    },
    {
     "name": "stdout",
     "output_type": "stream",
     "text": [
      "Epoch [22], Batch [50/391], Loss: 1.5939\n",
      "Epoch [22], Batch [100/391], Loss: 2.4437\n",
      "Epoch [22], Batch [150/391], Loss: 3.0840\n",
      "Epoch [22], Batch [200/391], Loss: 2.2856\n",
      "Epoch [22], Batch [250/391], Loss: 0.4166\n",
      "Epoch [22], Batch [300/391], Loss: 0.6468\n",
      "Epoch [22], Batch [350/391], Loss: 2.9948\n",
      "Train set: Epoch: 22, Average loss:1.4348, LR: 0.001000 Top-1 Accuracy: 70.3040%, Top-5 Accuracy: 90.6100%, Time consumed:47.63s\n",
      "Test set: Epoch: 22, Average loss:1.1174, Top-1 Accuracy: 69.2800%, Top-5 Accuracy: 90.8900%, Time consumed:8.19s\n",
      "\n",
      "New best top-1 accuracy: 69.28%, top-5 accuracy: 90.89%\n",
      "Validation loss decreased (1.145679 --> 1.117363). Saving model ...\n"
     ]
    },
    {
     "name": "stderr",
     "output_type": "stream",
     "text": [
      " 22%|████████████████████▏                                                                       | 22/100 [21:03<1:13:16, 56.37s/it]"
     ]
    },
    {
     "name": "stdout",
     "output_type": "stream",
     "text": [
      "Epoch [23], Batch [50/391], Loss: 2.9025\n",
      "Epoch [23], Batch [100/391], Loss: 0.6391\n",
      "Epoch [23], Batch [150/391], Loss: 0.5372\n",
      "Epoch [23], Batch [200/391], Loss: 0.6868\n",
      "Epoch [23], Batch [250/391], Loss: 0.4254\n",
      "Epoch [23], Batch [300/391], Loss: 1.3394\n",
      "Epoch [23], Batch [350/391], Loss: 0.6078\n",
      "Train set: Epoch: 23, Average loss:1.4929, LR: 0.001000 Top-1 Accuracy: 70.2220%, Top-5 Accuracy: 90.0440%, Time consumed:49.81s\n"
     ]
    },
    {
     "name": "stderr",
     "output_type": "stream",
     "text": [
      " 23%|█████████████████████▏                                                                      | 23/100 [22:01<1:13:07, 56.98s/it]"
     ]
    },
    {
     "name": "stdout",
     "output_type": "stream",
     "text": [
      "Test set: Epoch: 23, Average loss:1.1181, Top-1 Accuracy: 69.1400%, Top-5 Accuracy: 91.1400%, Time consumed:8.60s\n",
      "\n",
      "New best top-5 accuracy: 91.14%\n",
      "EarlyStopping 카운터: 1 / 10\n",
      "Epoch [24], Batch [50/391], Loss: 1.5006\n",
      "Epoch [24], Batch [100/391], Loss: 2.9471\n",
      "Epoch [24], Batch [150/391], Loss: 2.0944\n",
      "Epoch [24], Batch [200/391], Loss: 0.5754\n",
      "Epoch [24], Batch [250/391], Loss: 2.7834\n",
      "Epoch [24], Batch [300/391], Loss: 0.4909\n",
      "Epoch [24], Batch [350/391], Loss: 2.7919\n",
      "Train set: Epoch: 24, Average loss:1.4126, LR: 0.001000 Top-1 Accuracy: 71.9920%, Top-5 Accuracy: 90.9880%, Time consumed:47.14s\n",
      "Test set: Epoch: 24, Average loss:1.1112, Top-1 Accuracy: 69.7000%, Top-5 Accuracy: 91.2700%, Time consumed:8.19s\n",
      "\n",
      "New best top-1 accuracy: 69.70%, top-5 accuracy: 91.27%\n",
      "New best top-5 accuracy: 91.27%\n",
      "Validation loss decreased (1.117363 --> 1.111161). Saving model ...\n"
     ]
    },
    {
     "name": "stderr",
     "output_type": "stream",
     "text": [
      " 24%|██████████████████████                                                                      | 24/100 [22:57<1:11:39, 56.57s/it]"
     ]
    },
    {
     "name": "stdout",
     "output_type": "stream",
     "text": [
      "Epoch [25], Batch [50/391], Loss: 0.4364\n",
      "Epoch [25], Batch [100/391], Loss: 2.9160\n",
      "Epoch [25], Batch [150/391], Loss: 0.4630\n",
      "Epoch [25], Batch [200/391], Loss: 0.7027\n",
      "Epoch [25], Batch [250/391], Loss: 2.9347\n",
      "Epoch [25], Batch [300/391], Loss: 2.5396\n",
      "Epoch [25], Batch [350/391], Loss: 0.4676\n",
      "Train set: Epoch: 25, Average loss:1.4734, LR: 0.001000 Top-1 Accuracy: 71.5520%, Top-5 Accuracy: 90.4900%, Time consumed:47.40s\n"
     ]
    },
    {
     "name": "stderr",
     "output_type": "stream",
     "text": [
      " 25%|███████████████████████                                                                     | 25/100 [23:53<1:10:30, 56.41s/it]"
     ]
    },
    {
     "name": "stdout",
     "output_type": "stream",
     "text": [
      "Test set: Epoch: 25, Average loss:1.1239, Top-1 Accuracy: 69.8500%, Top-5 Accuracy: 90.8700%, Time consumed:8.47s\n",
      "\n",
      "New best top-1 accuracy: 69.85%, top-5 accuracy: 90.87%\n",
      "EarlyStopping 카운터: 1 / 10\n",
      "Epoch [26], Batch [50/391], Loss: 0.4279\n",
      "Epoch [26], Batch [100/391], Loss: 0.8358\n",
      "Epoch [26], Batch [150/391], Loss: 0.5295\n",
      "Epoch [26], Batch [200/391], Loss: 0.4222\n",
      "Epoch [26], Batch [250/391], Loss: 2.6441\n",
      "Epoch [26], Batch [300/391], Loss: 0.4672\n",
      "Epoch [26], Batch [350/391], Loss: 2.8141\n",
      "Train set: Epoch: 26, Average loss:1.2896, LR: 0.001000 Top-1 Accuracy: 75.3560%, Top-5 Accuracy: 92.6480%, Time consumed:50.85s\n",
      "Test set: Epoch: 26, Average loss:1.0830, Top-1 Accuracy: 70.5000%, Top-5 Accuracy: 91.4800%, Time consumed:8.71s\n",
      "\n",
      "New best top-1 accuracy: 70.50%, top-5 accuracy: 91.48%\n",
      "New best top-5 accuracy: 91.48%\n",
      "Validation loss decreased (1.111161 --> 1.083012). Saving model ...\n"
     ]
    },
    {
     "name": "stderr",
     "output_type": "stream",
     "text": [
      " 26%|███████████████████████▉                                                                    | 26/100 [24:53<1:10:49, 57.43s/it]"
     ]
    },
    {
     "name": "stdout",
     "output_type": "stream",
     "text": [
      "Epoch [27], Batch [50/391], Loss: 0.4194\n",
      "Epoch [27], Batch [100/391], Loss: 0.4266\n",
      "Epoch [27], Batch [150/391], Loss: 3.0158\n",
      "Epoch [27], Batch [200/391], Loss: 2.5752\n",
      "Epoch [27], Batch [250/391], Loss: 1.7183\n",
      "Epoch [27], Batch [300/391], Loss: 2.5670\n",
      "Epoch [27], Batch [350/391], Loss: 0.5467\n",
      "Train set: Epoch: 27, Average loss:1.3520, LR: 0.001000 Top-1 Accuracy: 73.5260%, Top-5 Accuracy: 91.1420%, Time consumed:50.12s\n"
     ]
    },
    {
     "name": "stderr",
     "output_type": "stream",
     "text": [
      " 27%|████████████████████████▊                                                                   | 27/100 [25:51<1:10:18, 57.79s/it]"
     ]
    },
    {
     "name": "stdout",
     "output_type": "stream",
     "text": [
      "Test set: Epoch: 27, Average loss:1.0846, Top-1 Accuracy: 70.7500%, Top-5 Accuracy: 91.4500%, Time consumed:8.39s\n",
      "\n",
      "New best top-1 accuracy: 70.75%, top-5 accuracy: 91.45%\n",
      "EarlyStopping 카운터: 1 / 10\n",
      "Epoch [28], Batch [50/391], Loss: 2.7153\n",
      "Epoch [28], Batch [100/391], Loss: 2.4624\n",
      "Epoch [28], Batch [150/391], Loss: 1.0919\n",
      "Epoch [28], Batch [200/391], Loss: 0.4029\n",
      "Epoch [28], Batch [250/391], Loss: 0.3577\n",
      "Epoch [28], Batch [300/391], Loss: 2.9562\n",
      "Epoch [28], Batch [350/391], Loss: 1.9971\n",
      "Train set: Epoch: 28, Average loss:1.2950, LR: 0.001000 Top-1 Accuracy: 75.4700%, Top-5 Accuracy: 92.3840%, Time consumed:47.75s\n"
     ]
    },
    {
     "name": "stderr",
     "output_type": "stream",
     "text": [
      " 28%|█████████████████████████▊                                                                  | 28/100 [26:47<1:08:45, 57.29s/it]"
     ]
    },
    {
     "name": "stdout",
     "output_type": "stream",
     "text": [
      "Test set: Epoch: 28, Average loss:1.0974, Top-1 Accuracy: 70.8200%, Top-5 Accuracy: 91.4900%, Time consumed:8.23s\n",
      "\n",
      "New best top-1 accuracy: 70.82%, top-5 accuracy: 91.49%\n",
      "New best top-5 accuracy: 91.49%\n",
      "EarlyStopping 카운터: 2 / 10\n",
      "Epoch [29], Batch [50/391], Loss: 2.5868\n",
      "Epoch [29], Batch [100/391], Loss: 1.7784\n",
      "Epoch [29], Batch [150/391], Loss: 2.6732\n",
      "Epoch [29], Batch [200/391], Loss: 2.1004\n",
      "Epoch [29], Batch [250/391], Loss: 0.3349\n",
      "Epoch [29], Batch [300/391], Loss: 2.4706\n",
      "Epoch [29], Batch [350/391], Loss: 2.7690\n",
      "Train set: Epoch: 29, Average loss:1.3524, LR: 0.001000 Top-1 Accuracy: 74.5400%, Top-5 Accuracy: 91.5060%, Time consumed:49.95s\n",
      "Test set: Epoch: 29, Average loss:1.0484, Top-1 Accuracy: 71.9500%, Top-5 Accuracy: 92.0300%, Time consumed:9.07s\n",
      "\n",
      "New best top-1 accuracy: 71.95%, top-5 accuracy: 92.03%\n",
      "New best top-5 accuracy: 92.03%\n",
      "Validation loss decreased (1.083012 --> 1.048377). Saving model ...\n"
     ]
    },
    {
     "name": "stderr",
     "output_type": "stream",
     "text": [
      " 29%|██████████████████████████▋                                                                 | 29/100 [27:47<1:08:29, 57.88s/it]"
     ]
    },
    {
     "name": "stdout",
     "output_type": "stream",
     "text": [
      "Epoch [30], Batch [50/391], Loss: 0.2623\n",
      "Epoch [30], Batch [100/391], Loss: 2.5608\n",
      "Epoch [30], Batch [150/391], Loss: 0.3639\n",
      "Epoch [30], Batch [200/391], Loss: 1.8933\n",
      "Epoch [30], Batch [250/391], Loss: 1.4697\n",
      "Epoch [30], Batch [300/391], Loss: 0.3668\n",
      "Epoch [30], Batch [350/391], Loss: 2.9580\n",
      "Train set: Epoch: 30, Average loss:1.2219, LR: 0.001000 Top-1 Accuracy: 77.6100%, Top-5 Accuracy: 93.4360%, Time consumed:51.05s\n"
     ]
    },
    {
     "name": "stderr",
     "output_type": "stream",
     "text": [
      " 30%|███████████████████████████▌                                                                | 30/100 [28:46<1:08:08, 58.40s/it]"
     ]
    },
    {
     "name": "stdout",
     "output_type": "stream",
     "text": [
      "Test set: Epoch: 30, Average loss:1.1079, Top-1 Accuracy: 70.4700%, Top-5 Accuracy: 91.0400%, Time consumed:8.56s\n",
      "\n",
      "EarlyStopping 카운터: 1 / 10\n",
      "Epoch [31], Batch [50/391], Loss: 0.2885\n",
      "Epoch [31], Batch [100/391], Loss: 0.2933\n",
      "Epoch [31], Batch [150/391], Loss: 1.5411\n",
      "Epoch [31], Batch [200/391], Loss: 0.4268\n",
      "Epoch [31], Batch [250/391], Loss: 2.6044\n",
      "Epoch [31], Batch [300/391], Loss: 0.4243\n",
      "Epoch [31], Batch [350/391], Loss: 1.5222\n",
      "Train set: Epoch: 31, Average loss:1.2849, LR: 0.001000 Top-1 Accuracy: 76.2240%, Top-5 Accuracy: 92.2100%, Time consumed:48.86s\n"
     ]
    },
    {
     "name": "stderr",
     "output_type": "stream",
     "text": [
      " 31%|████████████████████████████▌                                                               | 31/100 [29:43<1:06:43, 58.03s/it]"
     ]
    },
    {
     "name": "stdout",
     "output_type": "stream",
     "text": [
      "Test set: Epoch: 31, Average loss:1.0682, Top-1 Accuracy: 71.1000%, Top-5 Accuracy: 91.5600%, Time consumed:8.27s\n",
      "\n",
      "EarlyStopping 카운터: 2 / 10\n",
      "Epoch [32], Batch [50/391], Loss: 0.2491\n",
      "Epoch [32], Batch [100/391], Loss: 0.3411\n",
      "Epoch [32], Batch [150/391], Loss: 2.3120\n",
      "Epoch [32], Batch [200/391], Loss: 1.9788\n",
      "Epoch [32], Batch [250/391], Loss: 0.3009\n",
      "Epoch [32], Batch [300/391], Loss: 0.3603\n",
      "Epoch [32], Batch [350/391], Loss: 0.4006\n",
      "Train set: Epoch: 32, Average loss:1.3295, LR: 0.001000 Top-1 Accuracy: 75.2840%, Top-5 Accuracy: 91.9200%, Time consumed:49.44s\n"
     ]
    },
    {
     "name": "stderr",
     "output_type": "stream",
     "text": [
      " 32%|█████████████████████████████▍                                                              | 32/100 [30:42<1:05:45, 58.02s/it]"
     ]
    },
    {
     "name": "stdout",
     "output_type": "stream",
     "text": [
      "Test set: Epoch: 32, Average loss:1.0682, Top-1 Accuracy: 71.2200%, Top-5 Accuracy: 91.5800%, Time consumed:8.58s\n",
      "\n",
      "EarlyStopping 카운터: 3 / 10\n",
      "Epoch [33], Batch [50/391], Loss: 0.2139\n",
      "Epoch [33], Batch [100/391], Loss: 0.2769\n",
      "Epoch [33], Batch [150/391], Loss: 0.2609\n",
      "Epoch [33], Batch [200/391], Loss: 1.2142\n",
      "Epoch [33], Batch [250/391], Loss: 1.6554\n",
      "Epoch [33], Batch [300/391], Loss: 0.3112\n",
      "Epoch [33], Batch [350/391], Loss: 0.3790\n",
      "Train set: Epoch: 33, Average loss:1.3262, LR: 0.001000 Top-1 Accuracy: 75.6660%, Top-5 Accuracy: 92.4180%, Time consumed:50.83s\n"
     ]
    },
    {
     "name": "stderr",
     "output_type": "stream",
     "text": [
      " 33%|██████████████████████████████▎                                                             | 33/100 [31:42<1:05:31, 58.68s/it]"
     ]
    },
    {
     "name": "stdout",
     "output_type": "stream",
     "text": [
      "Test set: Epoch: 33, Average loss:1.0894, Top-1 Accuracy: 70.9100%, Top-5 Accuracy: 91.4600%, Time consumed:9.38s\n",
      "\n",
      "EarlyStopping 카운터: 4 / 10\n",
      "Epoch [34], Batch [50/391], Loss: 0.1875\n",
      "Epoch [34], Batch [100/391], Loss: 0.3004\n",
      "Epoch [34], Batch [150/391], Loss: 2.7260\n",
      "Epoch [34], Batch [200/391], Loss: 0.3372\n",
      "Epoch [34], Batch [250/391], Loss: 1.6339\n",
      "Epoch [34], Batch [300/391], Loss: 0.3416\n",
      "Epoch [34], Batch [350/391], Loss: 0.9150\n",
      "Train set: Epoch: 34, Average loss:1.1633, LR: 0.001000 Top-1 Accuracy: 79.5720%, Top-5 Accuracy: 94.0000%, Time consumed:49.56s\n"
     ]
    },
    {
     "name": "stderr",
     "output_type": "stream",
     "text": [
      " 34%|███████████████████████████████▎                                                            | 34/100 [32:40<1:04:16, 58.43s/it]"
     ]
    },
    {
     "name": "stdout",
     "output_type": "stream",
     "text": [
      "Test set: Epoch: 34, Average loss:1.0868, Top-1 Accuracy: 71.6600%, Top-5 Accuracy: 91.4600%, Time consumed:8.28s\n",
      "\n",
      "EarlyStopping 카운터: 5 / 10\n",
      "Epoch [35], Batch [50/391], Loss: 0.4841\n",
      "Epoch [35], Batch [100/391], Loss: 2.6283\n",
      "Epoch [35], Batch [150/391], Loss: 0.6098\n",
      "Epoch [35], Batch [200/391], Loss: 0.2954\n",
      "Epoch [35], Batch [250/391], Loss: 0.3203\n",
      "Epoch [35], Batch [300/391], Loss: 0.2298\n",
      "Epoch [35], Batch [350/391], Loss: 0.3327\n",
      "Train set: Epoch: 35, Average loss:1.1643, LR: 0.001000 Top-1 Accuracy: 79.0980%, Top-5 Accuracy: 93.2740%, Time consumed:49.02s\n"
     ]
    },
    {
     "name": "stderr",
     "output_type": "stream",
     "text": [
      " 35%|████████████████████████████████▏                                                           | 35/100 [33:37<1:03:00, 58.16s/it]"
     ]
    },
    {
     "name": "stdout",
     "output_type": "stream",
     "text": [
      "Test set: Epoch: 35, Average loss:1.0948, Top-1 Accuracy: 70.4900%, Top-5 Accuracy: 91.4000%, Time consumed:8.51s\n",
      "\n",
      "EarlyStopping 카운터: 6 / 10\n",
      "Epoch [36], Batch [50/391], Loss: 1.7719\n",
      "Epoch [36], Batch [100/391], Loss: 1.1718\n",
      "Epoch [36], Batch [150/391], Loss: 0.6342\n",
      "Epoch [36], Batch [200/391], Loss: 0.2804\n",
      "Epoch [36], Batch [250/391], Loss: 2.1398\n",
      "Epoch [36], Batch [300/391], Loss: 0.2087\n",
      "Epoch [36], Batch [350/391], Loss: 2.4440\n",
      "Train set: Epoch: 36, Average loss:1.1296, LR: 0.001000 Top-1 Accuracy: 80.0020%, Top-5 Accuracy: 94.0980%, Time consumed:48.02s\n"
     ]
    },
    {
     "name": "stderr",
     "output_type": "stream",
     "text": [
      " 36%|█████████████████████████████████                                                           | 36/100 [34:34<1:01:32, 57.70s/it]"
     ]
    },
    {
     "name": "stdout",
     "output_type": "stream",
     "text": [
      "Test set: Epoch: 36, Average loss:1.0572, Top-1 Accuracy: 71.9700%, Top-5 Accuracy: 91.8400%, Time consumed:8.49s\n",
      "\n",
      "New best top-1 accuracy: 71.97%, top-5 accuracy: 91.84%\n",
      "EarlyStopping 카운터: 7 / 10\n",
      "Epoch [37], Batch [50/391], Loss: 2.4028\n",
      "Epoch [37], Batch [100/391], Loss: 0.8033\n",
      "Epoch [37], Batch [150/391], Loss: 0.7181\n",
      "Epoch [37], Batch [200/391], Loss: 0.2981\n",
      "Epoch [37], Batch [250/391], Loss: 3.0071\n",
      "Epoch [37], Batch [300/391], Loss: 0.3157\n",
      "Epoch [37], Batch [350/391], Loss: 1.8997\n",
      "Train set: Epoch: 37, Average loss:1.2148, LR: 0.001000 Top-1 Accuracy: 78.7160%, Top-5 Accuracy: 93.1380%, Time consumed:48.82s\n"
     ]
    },
    {
     "name": "stderr",
     "output_type": "stream",
     "text": [
      " 37%|██████████████████████████████████                                                          | 37/100 [35:32<1:00:39, 57.77s/it]"
     ]
    },
    {
     "name": "stdout",
     "output_type": "stream",
     "text": [
      "Test set: Epoch: 37, Average loss:1.0622, Top-1 Accuracy: 72.0600%, Top-5 Accuracy: 91.8000%, Time consumed:8.94s\n",
      "\n",
      "New best top-1 accuracy: 72.06%, top-5 accuracy: 91.80%\n",
      "EarlyStopping 카운터: 8 / 10\n",
      "Epoch [38], Batch [50/391], Loss: 0.1665\n",
      "Epoch [38], Batch [100/391], Loss: 2.4531\n",
      "Epoch [38], Batch [150/391], Loss: 2.6302\n",
      "Epoch [38], Batch [200/391], Loss: 2.9651\n",
      "Epoch [38], Batch [250/391], Loss: 0.2981\n",
      "Epoch [38], Batch [300/391], Loss: 2.9767\n",
      "Epoch [38], Batch [350/391], Loss: 2.2012\n",
      "Train set: Epoch: 38, Average loss:1.1967, LR: 0.001000 Top-1 Accuracy: 79.1340%, Top-5 Accuracy: 93.4760%, Time consumed:47.95s\n"
     ]
    },
    {
     "name": "stderr",
     "output_type": "stream",
     "text": [
      " 38%|███████████████████████████████████▋                                                          | 38/100 [36:29<59:31, 57.61s/it]"
     ]
    },
    {
     "name": "stdout",
     "output_type": "stream",
     "text": [
      "Test set: Epoch: 38, Average loss:1.0560, Top-1 Accuracy: 72.3400%, Top-5 Accuracy: 91.8200%, Time consumed:9.17s\n",
      "\n",
      "New best top-1 accuracy: 72.34%, top-5 accuracy: 91.82%\n",
      "EarlyStopping 카운터: 9 / 10\n",
      "Epoch [39], Batch [50/391], Loss: 1.0617\n",
      "Epoch [39], Batch [100/391], Loss: 0.1776\n",
      "Epoch [39], Batch [150/391], Loss: 0.2361\n",
      "Epoch [39], Batch [200/391], Loss: 0.1862\n",
      "Epoch [39], Batch [250/391], Loss: 1.2207\n",
      "Epoch [39], Batch [300/391], Loss: 0.2743\n",
      "Epoch [39], Batch [350/391], Loss: 2.5881\n",
      "Train set: Epoch: 39, Average loss:1.1653, LR: 0.001000 Top-1 Accuracy: 79.1200%, Top-5 Accuracy: 93.4180%, Time consumed:49.01s\n",
      "Test set: Epoch: 39, Average loss:1.0277, Top-1 Accuracy: 72.4900%, Top-5 Accuracy: 91.9500%, Time consumed:8.94s\n",
      "\n",
      "New best top-1 accuracy: 72.49%, top-5 accuracy: 91.95%\n",
      "Validation loss decreased (1.048377 --> 1.027718). Saving model ...\n"
     ]
    },
    {
     "name": "stderr",
     "output_type": "stream",
     "text": [
      " 39%|████████████████████████████████████▋                                                         | 39/100 [37:27<58:45, 57.80s/it]"
     ]
    },
    {
     "name": "stdout",
     "output_type": "stream",
     "text": [
      "Epoch [40], Batch [50/391], Loss: 1.2035\n",
      "Epoch [40], Batch [100/391], Loss: 0.1937\n",
      "Epoch [40], Batch [150/391], Loss: 0.2613\n",
      "Epoch [40], Batch [200/391], Loss: 2.3593\n",
      "Epoch [40], Batch [250/391], Loss: 2.8834\n",
      "Epoch [40], Batch [300/391], Loss: 2.5646\n",
      "Epoch [40], Batch [350/391], Loss: 0.2577\n",
      "Train set: Epoch: 40, Average loss:1.0915, LR: 0.001000 Top-1 Accuracy: 81.3900%, Top-5 Accuracy: 94.5720%, Time consumed:47.68s\n"
     ]
    },
    {
     "name": "stderr",
     "output_type": "stream",
     "text": [
      " 40%|█████████████████████████████████████▌                                                        | 40/100 [38:24<57:27, 57.45s/it]"
     ]
    },
    {
     "name": "stdout",
     "output_type": "stream",
     "text": [
      "Test set: Epoch: 40, Average loss:1.0444, Top-1 Accuracy: 72.8600%, Top-5 Accuracy: 92.0600%, Time consumed:8.81s\n",
      "\n",
      "New best top-1 accuracy: 72.86%, top-5 accuracy: 92.06%\n",
      "New best top-5 accuracy: 92.06%\n",
      "EarlyStopping 카운터: 1 / 10\n",
      "Epoch [41], Batch [50/391], Loss: 0.1673\n",
      "Epoch [41], Batch [100/391], Loss: 2.3675\n",
      "Epoch [41], Batch [150/391], Loss: 0.1612\n",
      "Epoch [41], Batch [200/391], Loss: 0.1917\n",
      "Epoch [41], Batch [250/391], Loss: 2.7226\n",
      "Epoch [41], Batch [300/391], Loss: 2.0525\n",
      "Epoch [41], Batch [350/391], Loss: 2.7871\n",
      "Train set: Epoch: 41, Average loss:1.1722, LR: 0.001000 Top-1 Accuracy: 80.0840%, Top-5 Accuracy: 93.7240%, Time consumed:49.56s\n"
     ]
    },
    {
     "name": "stderr",
     "output_type": "stream",
     "text": [
      " 41%|██████████████████████████████████████▌                                                       | 41/100 [39:22<56:43, 57.68s/it]"
     ]
    },
    {
     "name": "stdout",
     "output_type": "stream",
     "text": [
      "Test set: Epoch: 41, Average loss:1.0562, Top-1 Accuracy: 72.3300%, Top-5 Accuracy: 91.5800%, Time consumed:8.65s\n",
      "\n",
      "EarlyStopping 카운터: 2 / 10\n",
      "Epoch [42], Batch [50/391], Loss: 0.7377\n",
      "Epoch [42], Batch [100/391], Loss: 0.5710\n",
      "Epoch [42], Batch [150/391], Loss: 2.6767\n",
      "Epoch [42], Batch [200/391], Loss: 0.1949\n",
      "Epoch [42], Batch [250/391], Loss: 2.1023\n",
      "Epoch [42], Batch [300/391], Loss: 2.3017\n",
      "Epoch [42], Batch [350/391], Loss: 2.6651\n",
      "Train set: Epoch: 42, Average loss:1.1272, LR: 0.001000 Top-1 Accuracy: 80.4900%, Top-5 Accuracy: 93.9820%, Time consumed:48.34s\n"
     ]
    },
    {
     "name": "stderr",
     "output_type": "stream",
     "text": [
      " 42%|███████████████████████████████████████▍                                                      | 42/100 [40:19<55:38, 57.55s/it]"
     ]
    },
    {
     "name": "stdout",
     "output_type": "stream",
     "text": [
      "Test set: Epoch: 42, Average loss:1.0234, Top-1 Accuracy: 72.5200%, Top-5 Accuracy: 92.1100%, Time consumed:8.80s\n",
      "\n",
      "New best top-5 accuracy: 92.11%\n",
      "Validation loss decreased (1.027718 --> 1.023429). Saving model ...\n",
      "Epoch [43], Batch [50/391], Loss: 2.2544\n",
      "Epoch [43], Batch [100/391], Loss: 1.5396\n",
      "Epoch [43], Batch [150/391], Loss: 1.8915\n",
      "Epoch [43], Batch [200/391], Loss: 0.2236\n",
      "Epoch [43], Batch [250/391], Loss: 2.8246\n",
      "Epoch [43], Batch [300/391], Loss: 2.2662\n",
      "Epoch [43], Batch [350/391], Loss: 1.0979\n",
      "Train set: Epoch: 43, Average loss:1.1170, LR: 0.001000 Top-1 Accuracy: 81.3320%, Top-5 Accuracy: 94.2780%, Time consumed:48.50s\n"
     ]
    },
    {
     "name": "stderr",
     "output_type": "stream",
     "text": [
      " 43%|████████████████████████████████████████▍                                                     | 43/100 [41:17<54:37, 57.49s/it]"
     ]
    },
    {
     "name": "stdout",
     "output_type": "stream",
     "text": [
      "Test set: Epoch: 43, Average loss:1.0517, Top-1 Accuracy: 72.1900%, Top-5 Accuracy: 91.9200%, Time consumed:8.84s\n",
      "\n",
      "EarlyStopping 카운터: 1 / 10\n",
      "Epoch [44], Batch [50/391], Loss: 2.6952\n",
      "Epoch [44], Batch [100/391], Loss: 0.1493\n",
      "Epoch [44], Batch [150/391], Loss: 2.4287\n",
      "Epoch [44], Batch [200/391], Loss: 1.5585\n",
      "Epoch [44], Batch [250/391], Loss: 0.1773\n",
      "Epoch [44], Batch [300/391], Loss: 0.1534\n",
      "Epoch [44], Batch [350/391], Loss: 0.1397\n",
      "Train set: Epoch: 44, Average loss:1.1507, LR: 0.001000 Top-1 Accuracy: 80.8640%, Top-5 Accuracy: 94.3160%, Time consumed:47.09s\n"
     ]
    },
    {
     "name": "stderr",
     "output_type": "stream",
     "text": [
      " 44%|█████████████████████████████████████████▎                                                    | 44/100 [42:12<53:02, 56.82s/it]"
     ]
    },
    {
     "name": "stdout",
     "output_type": "stream",
     "text": [
      "Test set: Epoch: 44, Average loss:1.0373, Top-1 Accuracy: 72.4500%, Top-5 Accuracy: 91.9200%, Time consumed:8.17s\n",
      "\n",
      "EarlyStopping 카운터: 2 / 10\n",
      "Epoch [45], Batch [50/391], Loss: 2.2292\n",
      "Epoch [45], Batch [100/391], Loss: 0.1885\n",
      "Epoch [45], Batch [150/391], Loss: 0.1510\n",
      "Epoch [45], Batch [200/391], Loss: 0.1822\n",
      "Epoch [45], Batch [250/391], Loss: 0.1712\n",
      "Epoch [45], Batch [300/391], Loss: 0.1436\n",
      "Epoch [45], Batch [350/391], Loss: 0.7172\n",
      "Train set: Epoch: 45, Average loss:1.1066, LR: 0.001000 Top-1 Accuracy: 81.5720%, Top-5 Accuracy: 94.3560%, Time consumed:46.98s\n"
     ]
    },
    {
     "name": "stderr",
     "output_type": "stream",
     "text": [
      " 45%|██████████████████████████████████████████▎                                                   | 45/100 [43:08<51:56, 56.66s/it]"
     ]
    },
    {
     "name": "stdout",
     "output_type": "stream",
     "text": [
      "Test set: Epoch: 45, Average loss:1.0636, Top-1 Accuracy: 72.1100%, Top-5 Accuracy: 91.2800%, Time consumed:9.30s\n",
      "\n",
      "EarlyStopping 카운터: 3 / 10\n",
      "Epoch [46], Batch [50/391], Loss: 2.4443\n",
      "Epoch [46], Batch [100/391], Loss: 0.1668\n",
      "Epoch [46], Batch [150/391], Loss: 0.1354\n",
      "Epoch [46], Batch [200/391], Loss: 2.3071\n",
      "Epoch [46], Batch [250/391], Loss: 2.8027\n",
      "Epoch [46], Batch [300/391], Loss: 0.2106\n",
      "Epoch [46], Batch [350/391], Loss: 0.1221\n",
      "Train set: Epoch: 46, Average loss:1.0521, LR: 0.001000 Top-1 Accuracy: 82.1520%, Top-5 Accuracy: 94.4420%, Time consumed:47.87s\n"
     ]
    },
    {
     "name": "stderr",
     "output_type": "stream",
     "text": [
      " 46%|███████████████████████████████████████████▏                                                  | 46/100 [44:04<50:50, 56.48s/it]"
     ]
    },
    {
     "name": "stdout",
     "output_type": "stream",
     "text": [
      "Test set: Epoch: 46, Average loss:1.0399, Top-1 Accuracy: 72.6800%, Top-5 Accuracy: 91.8300%, Time consumed:8.19s\n",
      "\n",
      "EarlyStopping 카운터: 4 / 10\n",
      "Epoch [47], Batch [50/391], Loss: 0.1498\n",
      "Epoch [47], Batch [100/391], Loss: 0.1235\n",
      "Epoch [47], Batch [150/391], Loss: 0.2486\n",
      "Epoch [47], Batch [200/391], Loss: 2.4438\n",
      "Epoch [47], Batch [250/391], Loss: 2.3762\n",
      "Epoch [47], Batch [300/391], Loss: 0.1232\n",
      "Epoch [47], Batch [350/391], Loss: 0.1292\n",
      "Train set: Epoch: 47, Average loss:1.0390, LR: 0.001000 Top-1 Accuracy: 81.8720%, Top-5 Accuracy: 94.1240%, Time consumed:47.01s\n"
     ]
    },
    {
     "name": "stderr",
     "output_type": "stream",
     "text": [
      " 47%|████████████████████████████████████████████▏                                                 | 47/100 [45:00<49:36, 56.15s/it]"
     ]
    },
    {
     "name": "stdout",
     "output_type": "stream",
     "text": [
      "Test set: Epoch: 47, Average loss:1.0451, Top-1 Accuracy: 73.3700%, Top-5 Accuracy: 92.4500%, Time consumed:8.24s\n",
      "\n",
      "New best top-1 accuracy: 73.37%, top-5 accuracy: 92.45%\n",
      "New best top-5 accuracy: 92.45%\n",
      "EarlyStopping 카운터: 5 / 10\n",
      "Epoch [48], Batch [50/391], Loss: 2.2115\n",
      "Epoch [48], Batch [100/391], Loss: 2.1941\n",
      "Epoch [48], Batch [150/391], Loss: 1.6865\n",
      "Epoch [48], Batch [200/391], Loss: 2.7658\n",
      "Epoch [48], Batch [250/391], Loss: 0.1460\n",
      "Epoch [48], Batch [300/391], Loss: 2.5895\n",
      "Epoch [48], Batch [350/391], Loss: 0.1079\n",
      "Train set: Epoch: 48, Average loss:1.0425, LR: 0.001000 Top-1 Accuracy: 82.2800%, Top-5 Accuracy: 94.4420%, Time consumed:51.90s\n"
     ]
    },
    {
     "name": "stderr",
     "output_type": "stream",
     "text": [
      " 48%|█████████████████████████████████████████████                                                 | 48/100 [46:00<49:46, 57.43s/it]"
     ]
    },
    {
     "name": "stdout",
     "output_type": "stream",
     "text": [
      "Test set: Epoch: 48, Average loss:1.0762, Top-1 Accuracy: 71.8200%, Top-5 Accuracy: 91.4500%, Time consumed:8.49s\n",
      "\n",
      "EarlyStopping 카운터: 6 / 10\n",
      "Epoch [49], Batch [50/391], Loss: 0.1251\n",
      "Epoch [49], Batch [100/391], Loss: 0.0705\n",
      "Epoch [49], Batch [150/391], Loss: 2.0756\n",
      "Epoch [49], Batch [200/391], Loss: 0.1553\n",
      "Epoch [49], Batch [250/391], Loss: 0.1268\n",
      "Epoch [49], Batch [300/391], Loss: 2.6603\n",
      "Epoch [49], Batch [350/391], Loss: 1.3149\n",
      "Train set: Epoch: 49, Average loss:1.0328, LR: 0.001000 Top-1 Accuracy: 83.0520%, Top-5 Accuracy: 94.8960%, Time consumed:47.24s\n"
     ]
    },
    {
     "name": "stderr",
     "output_type": "stream",
     "text": [
      " 49%|██████████████████████████████████████████████                                                | 49/100 [46:56<48:32, 57.12s/it]"
     ]
    },
    {
     "name": "stdout",
     "output_type": "stream",
     "text": [
      "Test set: Epoch: 49, Average loss:1.0767, Top-1 Accuracy: 72.4000%, Top-5 Accuracy: 91.2900%, Time consumed:9.15s\n",
      "\n",
      "EarlyStopping 카운터: 7 / 10\n",
      "Epoch [50], Batch [50/391], Loss: 0.8936\n",
      "Epoch [50], Batch [100/391], Loss: 0.0840\n",
      "Epoch [50], Batch [150/391], Loss: 1.4898\n",
      "Epoch [50], Batch [200/391], Loss: 0.8865\n",
      "Epoch [50], Batch [250/391], Loss: 2.7851\n",
      "Epoch [50], Batch [300/391], Loss: 1.9502\n",
      "Epoch [50], Batch [350/391], Loss: 2.7840\n",
      "Train set: Epoch: 50, Average loss:0.9909, LR: 0.001000 Top-1 Accuracy: 82.9140%, Top-5 Accuracy: 94.6240%, Time consumed:46.71s\n"
     ]
    },
    {
     "name": "stderr",
     "output_type": "stream",
     "text": [
      " 50%|███████████████████████████████████████████████                                               | 50/100 [47:51<47:04, 56.49s/it]"
     ]
    },
    {
     "name": "stdout",
     "output_type": "stream",
     "text": [
      "Test set: Epoch: 50, Average loss:1.0421, Top-1 Accuracy: 72.6900%, Top-5 Accuracy: 91.7000%, Time consumed:8.32s\n",
      "\n",
      "EarlyStopping 카운터: 8 / 10\n",
      "Epoch [51], Batch [50/391], Loss: 0.0797\n",
      "Epoch [51], Batch [100/391], Loss: 1.9833\n",
      "Epoch [51], Batch [150/391], Loss: 0.0634\n",
      "Epoch [51], Batch [200/391], Loss: 2.4470\n",
      "Epoch [51], Batch [250/391], Loss: 1.6747\n",
      "Epoch [51], Batch [300/391], Loss: 2.5268\n",
      "Epoch [51], Batch [350/391], Loss: 0.1203\n",
      "Train set: Epoch: 51, Average loss:1.0950, LR: 0.001000 Top-1 Accuracy: 82.3520%, Top-5 Accuracy: 94.4280%, Time consumed:50.97s\n"
     ]
    },
    {
     "name": "stderr",
     "output_type": "stream",
     "text": [
      " 51%|███████████████████████████████████████████████▉                                              | 51/100 [48:51<46:48, 57.31s/it]"
     ]
    },
    {
     "name": "stdout",
     "output_type": "stream",
     "text": [
      "Test set: Epoch: 51, Average loss:1.0695, Top-1 Accuracy: 72.2000%, Top-5 Accuracy: 91.7200%, Time consumed:8.25s\n",
      "\n",
      "EarlyStopping 카운터: 9 / 10\n",
      "Epoch [52], Batch [50/391], Loss: 0.7450\n",
      "Epoch [52], Batch [100/391], Loss: 3.0503\n",
      "Epoch [52], Batch [150/391], Loss: 0.0875\n",
      "Epoch [52], Batch [200/391], Loss: 0.1175\n",
      "Epoch [52], Batch [250/391], Loss: 1.1898\n",
      "Epoch [52], Batch [300/391], Loss: 0.6478\n",
      "Epoch [52], Batch [350/391], Loss: 0.1672\n",
      "Train set: Epoch: 52, Average loss:1.1138, LR: 0.001000 Top-1 Accuracy: 81.2500%, Top-5 Accuracy: 93.8260%, Time consumed:47.27s\n"
     ]
    },
    {
     "name": "stderr",
     "output_type": "stream",
     "text": [
      " 51%|███████████████████████████████████████████████▉                                              | 51/100 [49:46<47:49, 58.56s/it]"
     ]
    },
    {
     "name": "stdout",
     "output_type": "stream",
     "text": [
      "Test set: Epoch: 52, Average loss:1.0283, Top-1 Accuracy: 72.6200%, Top-5 Accuracy: 91.8200%, Time consumed:8.16s\n",
      "\n",
      "EarlyStopping 카운터: 10 / 10\n",
      "Early stopping triggered. Training stopped.\n",
      "Loading best model from early stopping checkpoint...\n"
     ]
    },
    {
     "name": "stderr",
     "output_type": "stream",
     "text": [
      "\n"
     ]
    },
    {
     "name": "stdout",
     "output_type": "stream",
     "text": [
      "Test set: Epoch: 100, Average loss:1.0234, Top-1 Accuracy: 72.5200%, Top-5 Accuracy: 92.1100%, Time consumed:9.30s\n",
      "\n",
      "Finish! Best test top-1 accuracy: 73.37%, Best test top-5 accuracy: 92.45%\n",
      "Final test top-1 accuracy: 72.52%, Final test top-5 accuracy: 92.11%\n",
      "Total training time: 2995.95 seconds\n"
     ]
    },
    {
     "data": {
      "text/html": [],
      "text/plain": [
       "<IPython.core.display.HTML object>"
      ]
     },
     "metadata": {},
     "output_type": "display_data"
    },
    {
     "data": {
      "text/html": [
       "<br>    <style><br>        .wandb-row {<br>            display: flex;<br>            flex-direction: row;<br>            flex-wrap: wrap;<br>            justify-content: flex-start;<br>            width: 100%;<br>        }<br>        .wandb-col {<br>            display: flex;<br>            flex-direction: column;<br>            flex-basis: 100%;<br>            flex: 1;<br>            padding: 10px;<br>        }<br>    </style><br><div class=\"wandb-row\"><div class=\"wandb-col\"><h3>Run history:</h3><br/><table class=\"wandb\"><tr><td>epoch</td><td>▁▁▁▁▂▂▂▂▂▃▃▃▃▃▃▄▄▄▄▄▅▅▅▅▅▅▆▆▆▆▆▆▇▇▇▇▇▇██</td></tr><tr><td>learning_rate</td><td>▁▁▁▁▁▁▁▁▁▁▁▁▁▁▁▁▁▁▁▁▁▁▁▁▁▁▁▁▁▁▁▁▁▁▁▁▁▁▁▁</td></tr><tr><td>test_accuracy_top1</td><td>▁▂▄▅▅▆▆▆▆▆▇▇▇▇▇▇▇▇▇█████████████████████</td></tr><tr><td>test_accuracy_top5</td><td>▁▃▆▆▆▇▇▇▇▇█▇████████████████████████████</td></tr><tr><td>test_loss</td><td>█▆▅▄▃▃▂▂▂▂▂▂▂▂▂▁▁▁▁▁▁▁▁▁▁▁▁▁▁▁▁▁▁▁▁▁▁▁▁▁</td></tr><tr><td>total_training_time</td><td>▁</td></tr><tr><td>train_accuracy_top1</td><td>▁▂▃▄▄▅▅▅▅▆▆▆▆▆▆▇▇▇▇▇▇▇▇▇▇███████████████</td></tr><tr><td>train_accuracy_top5</td><td>▁▃▄▅▅▆▆▆▆▇▇▇▇▇▇▇▇█▇█████████████████████</td></tr><tr><td>train_loss</td><td>█▇▆▅▅▄▄▄▄▃▃▃▂▂▂▂▂▂▂▂▂▂▂▂▂▁▁▁▂▁▁▁▁▁▁▁▁▁▁▁</td></tr></table><br/></div><div class=\"wandb-col\"><h3>Run summary:</h3><br/><table class=\"wandb\"><tr><td>best_test_accuracy_top1</td><td>73.37</td></tr><tr><td>best_test_accuracy_top5</td><td>92.45</td></tr><tr><td>early_stopped</td><td>True</td></tr><tr><td>early_stopped_epoch</td><td>52</td></tr><tr><td>epoch</td><td>52</td></tr><tr><td>final_test_accuracy_top1</td><td>72.52</td></tr><tr><td>final_test_accuracy_top5</td><td>92.11</td></tr><tr><td>learning_rate</td><td>0.001</td></tr><tr><td>test_accuracy_top1</td><td>72.62</td></tr><tr><td>test_accuracy_top5</td><td>91.82</td></tr><tr><td>test_loss</td><td>1.02831</td></tr><tr><td>total_training_time</td><td>2995.94539</td></tr><tr><td>train_accuracy_top1</td><td>81.25</td></tr><tr><td>train_accuracy_top5</td><td>93.826</td></tr><tr><td>train_loss</td><td>1.1138</td></tr></table><br/></div></div>"
      ],
      "text/plain": [
       "<IPython.core.display.HTML object>"
      ]
     },
     "metadata": {},
     "output_type": "display_data"
    },
    {
     "data": {
      "text/html": [
       " View run <strong style=\"color:#cdcd00\">resnet18_cutmix,flip,crop_standard</strong> at: <a href='https://wandb.ai/sokjh1310-hanyang-university/PBL-2/runs/fnhoqz14' target=\"_blank\">https://wandb.ai/sokjh1310-hanyang-university/PBL-2/runs/fnhoqz14</a><br> View project at: <a href='https://wandb.ai/sokjh1310-hanyang-university/PBL-2' target=\"_blank\">https://wandb.ai/sokjh1310-hanyang-university/PBL-2</a><br>Synced 5 W&B file(s), 0 media file(s), 0 artifact file(s) and 1 other file(s)"
      ],
      "text/plain": [
       "<IPython.core.display.HTML object>"
      ]
     },
     "metadata": {},
     "output_type": "display_data"
    },
    {
     "data": {
      "text/html": [
       "Find logs at: <code>./wandb/run-20250415_084639-fnhoqz14/logs</code>"
      ],
      "text/plain": [
       "<IPython.core.display.HTML object>"
      ]
     },
     "metadata": {},
     "output_type": "display_data"
    }
   ],
   "source": [
    "import torch\n",
    "import torch.nn as nn\n",
    "import torch.optim as optim\n",
    "from torch.utils.data import DataLoader\n",
    "import torchvision\n",
    "import torchvision.transforms as transforms\n",
    "import torchvision.transforms.v2 as transforms_v2  # CutMix를 위한 v2 transforms 추가\n",
    "import sys\n",
    "import os\n",
    "import time\n",
    "import random\n",
    "import numpy as np\n",
    "import wandb\n",
    "from tqdm import tqdm\n",
    "from tools.tool import EarlyStopping\n",
    "from models.resnet import resnet18, resnet34, resnet50\n",
    "\n",
    "wandb.login(key=\"ef091b9abcea3186341ddf8995d62bde62d7469e\")\n",
    "wandb.init(project=\"PBL-2\", name=\"resnet18_cutmix,flip,crop_standard\")  # 데이터 증강 기법 명시\n",
    "\n",
    "# WandB 설정\n",
    "config = {\n",
    "    \"model\": \"resnet18\",\n",
    "    \"batch_size\": 128,\n",
    "    \"num_epochs\": 100,\n",
    "    \"learning_rate\": 0.001,\n",
    "    \"optimizer\": \"Adam\",\n",
    "    \"seed\": 2025,\n",
    "    \"patience\": 10,  # early stopping patience\n",
    "    \"cutmix_alpha\": 1.0,  # CutMix 알파 파라미터 추가\n",
    "    \"cutmix_prob\": 0.5,   # CutMix 적용 확률 추가\n",
    "    \"crop_padding\": 4,    # RandomCrop 패딩 크기\n",
    "    \"crop_size\": 32       # RandomCrop 크기 (CIFAR-100 이미지 크기는 32x32)\n",
    "}\n",
    "wandb.config.update(config)\n",
    "\n",
    "# CIFAR-100 데이터셋 로드 - 기본 train/test 분할 사용\n",
    "transform_train = transforms.Compose([\n",
    "    transforms.RandomCrop(config[\"crop_size\"], padding=config[\"crop_padding\"]),  # 패딩 후 랜덤 크롭 추가\n",
    "    transforms.RandomHorizontalFlip(),  # 수평 뒤집기\n",
    "    transforms.ToTensor(),\n",
    "    transforms.Normalize((0.5071, 0.4867, 0.4408), (0.2675, 0.2565, 0.2761)),\n",
    "])\n",
    "\n",
    "transform_test = transforms.Compose([\n",
    "    transforms.ToTensor(),\n",
    "    transforms.Normalize((0.5071, 0.4867, 0.4408), (0.2675, 0.2565, 0.2761)),\n",
    "])\n",
    "\n",
    "trainset = torchvision.datasets.CIFAR100(\n",
    "    root='./data', train=True, download=True, transform=transform_train)\n",
    "\n",
    "testset = torchvision.datasets.CIFAR100(\n",
    "    root='./data', train=False, download=True, transform=transform_test)\n",
    "\n",
    "# DataLoader 생성\n",
    "trainloader = DataLoader(trainset, batch_size=config[\"batch_size\"], shuffle=True, num_workers=16)\n",
    "testloader = DataLoader(testset, batch_size=config[\"batch_size\"], shuffle=False, num_workers=16)\n",
    "\n",
    "print(f\"Train set size: {len(trainset)}\")\n",
    "print(f\"Test set size: {len(testset)}\")\n",
    "\n",
    "# CutMix 변환 정의\n",
    "cutmix = transforms_v2.CutMix(alpha=config[\"cutmix_alpha\"], num_classes=100)  # CIFAR-100은 100개 클래스\n",
    "\n",
    "def train(model, trainloader, criterion, optimizer, device, epoch):\n",
    "    \"\"\"\n",
    "    학습 함수 (CutMix 적용)\n",
    "    \"\"\"\n",
    "    model.train()   # 모델을 학습 모드로 설정\n",
    "    start_time = time.time()  # 시간 측정 시작\n",
    "    running_loss = 0.0\n",
    "    correct_top1 = 0\n",
    "    correct_top5 = 0\n",
    "    total = 0\n",
    "    \n",
    "    for i, (inputs, labels) in enumerate(trainloader):\n",
    "        inputs, labels = inputs.to(device), labels.to(device)\n",
    "        \n",
    "        # CutMix 확률적 적용\n",
    "        if random.random() < config[\"cutmix_prob\"]:\n",
    "            inputs, labels = cutmix(inputs, labels)\n",
    "            # 이 경우 labels은 원-핫 인코딩 형태로 변환됨\n",
    "            use_cutmix = True\n",
    "        else:\n",
    "            use_cutmix = False\n",
    "        \n",
    "        optimizer.zero_grad()\n",
    "        \n",
    "        outputs = model(inputs)\n",
    "        \n",
    "        # CutMix 적용 여부에 따라 손실 함수 선택\n",
    "        if use_cutmix:\n",
    "            # CutMix가 적용된 경우 (원-핫 인코딩된 레이블)\n",
    "            loss = torch.nn.functional.cross_entropy(outputs, labels)\n",
    "        else:\n",
    "            # 일반적인 경우 (정수 인덱스 레이블)\n",
    "            loss = criterion(outputs, labels)\n",
    "            \n",
    "        loss.backward()\n",
    "        optimizer.step()\n",
    "        \n",
    "        running_loss += loss.item()\n",
    "        \n",
    "        # 정확도 계산 - CutMix 적용 여부에 따라 다르게 처리\n",
    "        if use_cutmix:\n",
    "            # 원-핫 인코딩된 레이블에서 argmax를 사용해 가장 큰 값의 인덱스 추출\n",
    "            _, label_idx = labels.max(1)\n",
    "        else:\n",
    "            # 정수 인덱스 레이블 그대로 사용\n",
    "            label_idx = labels\n",
    "            \n",
    "        # top-1 정확도 계산\n",
    "        _, predicted = outputs.max(1)\n",
    "        total += inputs.size(0)\n",
    "        correct_top1 += predicted.eq(label_idx).sum().item()\n",
    "        \n",
    "        # top-5 정확도 계산\n",
    "        _, top5_idx = outputs.topk(5, 1, largest=True, sorted=True)\n",
    "        correct_top5 += sum([1 for i in range(len(label_idx)) if label_idx[i] in top5_idx[i]])\n",
    "        \n",
    "        if (i + 1) % 50 == 0:  # 50 배치마다 출력\n",
    "            print(f'Epoch [{epoch+1}], Batch [{i+1}/{len(trainloader)}], Loss: {loss.item():.4f}')\n",
    "    \n",
    "    epoch_loss = running_loss / len(trainloader)\n",
    "    accuracy_top1 = 100.0 * correct_top1 / total\n",
    "    accuracy_top5 = 100.0 * correct_top5 / total\n",
    "    \n",
    "    train_time = time.time() - start_time\n",
    "    \n",
    "    # 학습 세트에 대한 성능 출력\n",
    "    print(f'Train set: Epoch: {epoch+1}, Average loss:{epoch_loss:.4f}, LR: {optimizer.param_groups[0][\"lr\"]:.6f} '\n",
    "          f'Top-1 Accuracy: {accuracy_top1:.4f}%, Top-5 Accuracy: {accuracy_top5:.4f}%, Time consumed:{train_time:.2f}s')\n",
    "    \n",
    "    return epoch_loss, accuracy_top1, accuracy_top5\n",
    "\n",
    "def evaluate(model, dataloader, criterion, device, epoch, phase=\"test\"):\n",
    "    \"\"\"\n",
    "    평가 함수\n",
    "    \"\"\"\n",
    "    model.eval()  # 모델을 평가 모드로 설정\n",
    "    start_time = time.time()  # 시간 측정 시작\n",
    "    \n",
    "    eval_loss = 0.0\n",
    "    correct_top1 = 0\n",
    "    correct_top5 = 0\n",
    "    total = 0\n",
    "    \n",
    "    # 그래디언트 계산 비활성화\n",
    "    with torch.no_grad():\n",
    "        for inputs, labels in dataloader:\n",
    "            inputs, labels = inputs.to(device), labels.to(device)\n",
    "            \n",
    "            # 순전파\n",
    "            outputs = model(inputs)\n",
    "            \n",
    "            # 손실 계산\n",
    "            loss = criterion(outputs, labels)\n",
    "            eval_loss += loss.item()\n",
    "            \n",
    "            # top-1 정확도 계산\n",
    "            _, predicted = outputs.max(1)\n",
    "            total += labels.size(0)\n",
    "            correct_top1 += (predicted == labels).sum().item()\n",
    "            \n",
    "            # top-5 정확도 계산\n",
    "            _, top5_idx = outputs.topk(5, 1, largest=True, sorted=True)\n",
    "            correct_top5 += top5_idx.eq(labels.view(-1, 1).expand_as(top5_idx)).sum().item()\n",
    "    \n",
    "    # 평균 손실 및 정확도 계산\n",
    "    eval_loss = eval_loss / len(dataloader)\n",
    "    accuracy_top1 = 100.0 * correct_top1 / total\n",
    "    accuracy_top5 = 100.0 * correct_top5 / total\n",
    "    \n",
    "    # 평가 시간 계산\n",
    "    eval_time = time.time() - start_time\n",
    "    \n",
    "    # 테스트 세트에 대한 성능 출력\n",
    "    print(f'{phase.capitalize()} set: Epoch: {epoch+1}, Average loss:{eval_loss:.4f}, '\n",
    "          f'Top-1 Accuracy: {accuracy_top1:.4f}%, Top-5 Accuracy: {accuracy_top5:.4f}%, Time consumed:{eval_time:.2f}s')\n",
    "    print()\n",
    "    \n",
    "    return eval_loss, accuracy_top1, accuracy_top5\n",
    "\n",
    "# 메인 학습 루프\n",
    "def main_training_loop(model, trainloader, testloader, criterion, optimizer, device, num_epochs, patience):\n",
    "    \"\"\"\n",
    "    메인 학습 루프 (validation 없이)\n",
    "    \"\"\"\n",
    "    early_stopping = EarlyStopping(patience=patience, verbose=True, path='checkpoint.pt')\n",
    "    \n",
    "    best_test_acc_top1 = 0.0\n",
    "    best_test_acc_top5 = 0.0\n",
    "    \n",
    "    # tqdm을 사용한 진행 상황 표시\n",
    "    for epoch in tqdm(range(num_epochs)):\n",
    "        # 학습\n",
    "        train_loss, train_acc_top1, train_acc_top5 = train(model, trainloader, criterion, optimizer, device, epoch)\n",
    "        \n",
    "        # 테스트 데이터로 평가\n",
    "        test_loss, test_acc_top1, test_acc_top5 = evaluate(model, testloader, criterion, device, epoch, phase=\"test\")\n",
    "        \n",
    "        # WandB에 로깅\n",
    "        wandb.log({\n",
    "            \"epoch\": epoch + 1,\n",
    "            \"learning_rate\": optimizer.param_groups[0]['lr'],\n",
    "            \"train_loss\": train_loss,\n",
    "            \"train_accuracy_top1\": train_acc_top1,\n",
    "            \"train_accuracy_top5\": train_acc_top5,\n",
    "            \"test_loss\": test_loss,\n",
    "            \"test_accuracy_top1\": test_acc_top1,\n",
    "            \"test_accuracy_top5\": test_acc_top5\n",
    "        })\n",
    "            \n",
    "        # 최고 정확도 모델 저장 (top-1 기준)\n",
    "        if test_acc_top1 > best_test_acc_top1:\n",
    "            best_test_acc_top1 = test_acc_top1\n",
    "            best_test_acc_top5_at_best_top1 = test_acc_top5\n",
    "            print(f'New best top-1 accuracy: {best_test_acc_top1:.2f}%, top-5 accuracy: {best_test_acc_top5_at_best_top1:.2f}%')\n",
    "            # 모델 저장\n",
    "            model_path = f'best_model_{wandb.run.name}.pth'\n",
    "            torch.save(model.state_dict(), model_path)\n",
    "            \n",
    "            # WandB에 모델 아티팩트 저장\n",
    "            wandb.save(model_path)\n",
    "        \n",
    "        # top-5 accuracy 기록 업데이트\n",
    "        if test_acc_top5 > best_test_acc_top5:\n",
    "            best_test_acc_top5 = test_acc_top5\n",
    "            print(f'New best top-5 accuracy: {best_test_acc_top5:.2f}%')\n",
    "\n",
    "        # Early stopping 체크 (test loss 기준)\n",
    "        early_stopping(test_loss, model)\n",
    "        if early_stopping.early_stop:\n",
    "            print(\"Early stopping triggered. Training stopped.\")\n",
    "            break\n",
    "    \n",
    "    # 훈련 완료 후 최고 모델 로드\n",
    "    if early_stopping.early_stop:\n",
    "        print(\"Loading best model from early stopping checkpoint...\")\n",
    "        model.load_state_dict(torch.load('checkpoint.pt'))\n",
    "    else:\n",
    "        print(\"Loading best model based on test accuracy...\")\n",
    "        model_path = f'best_model_{wandb.run.name}.pth'\n",
    "        model.load_state_dict(torch.load(model_path))\n",
    "\n",
    "    # 최종 테스트 세트 평가\n",
    "    final_test_loss, final_test_acc_top1, final_test_acc_top5 = evaluate(model, testloader, criterion, device, num_epochs-1, phase=\"test\")\n",
    "    \n",
    "    print(f'Finish! Best test top-1 accuracy: {best_test_acc_top1:.2f}%, Best test top-5 accuracy: {best_test_acc_top5:.2f}%')\n",
    "    print(f'Final test top-1 accuracy: {final_test_acc_top1:.2f}%, Final test top-5 accuracy: {final_test_acc_top5:.2f}%')\n",
    "    \n",
    "    # WandB에 최종 결과 기록\n",
    "    wandb.run.summary[\"best_test_accuracy_top1\"] = best_test_acc_top1\n",
    "    wandb.run.summary[\"best_test_accuracy_top5\"] = best_test_acc_top5\n",
    "    wandb.run.summary[\"final_test_accuracy_top1\"] = final_test_acc_top1\n",
    "    wandb.run.summary[\"final_test_accuracy_top5\"] = final_test_acc_top5\n",
    "\n",
    "    # Early stopping 정보 저장\n",
    "    if early_stopping.early_stop:\n",
    "        wandb.run.summary[\"early_stopped\"] = True\n",
    "        wandb.run.summary[\"early_stopped_epoch\"] = epoch+1\n",
    "    else:\n",
    "        wandb.run.summary[\"early_stopped\"] = False\n",
    "\n",
    "\n",
    "# 디바이스 설정\n",
    "device = torch.device(\"cuda\" if torch.cuda.is_available() else \"cpu\")\n",
    "print(f\"Using device: {device}\")\n",
    "\n",
    "# 모델 초기화\n",
    "model = resnet18().to(device)  \n",
    "criterion = nn.CrossEntropyLoss()  # 손실 함수 정의\n",
    "optimizer = optim.Adam(model.parameters(), lr=config[\"learning_rate\"])  # 옵티마이저 정의\n",
    "\n",
    "# WandB에 모델 구조 기록\n",
    "wandb.watch(model, log=\"all\")\n",
    "\n",
    "# GPU 가속\n",
    "if torch.cuda.device_count() > 1:\n",
    "    print(f\"{torch.cuda.device_count()}개의 GPU를 사용합니다.\")\n",
    "    model = nn.DataParallel(model)\n",
    "\n",
    "# 훈련 시작 시간 기록\n",
    "start_time = time.time()\n",
    "\n",
    "# 메인 학습 루프 호출\n",
    "main_training_loop(\n",
    "    model=model,\n",
    "    trainloader=trainloader,\n",
    "    testloader=testloader,\n",
    "    criterion=criterion,\n",
    "    optimizer=optimizer,\n",
    "    device=device,\n",
    "    num_epochs=config[\"num_epochs\"],\n",
    "    patience=config[\"patience\"]\n",
    ")\n",
    "\n",
    "# 훈련 종료 시간 기록 및 출력\n",
    "end_time = time.time()\n",
    "total_time = end_time - start_time\n",
    "wandb.log({\"total_training_time\": total_time})\n",
    "\n",
    "print(f\"Total training time: {total_time:.2f} seconds\")\n",
    "\n",
    "# WandB 실행 종료\n",
    "wandb.finish()"
   ]
  },
  {
   "cell_type": "code",
   "execution_count": null,
   "id": "e57b9218-aa24-4297-bb92-473c215e6767",
   "metadata": {},
   "outputs": [],
   "source": []
  }
 ],
 "metadata": {
  "kernelspec": {
   "display_name": "Python 3 (ipykernel)",
   "language": "python",
   "name": "python3"
  },
  "language_info": {
   "codemirror_mode": {
    "name": "ipython",
    "version": 3
   },
   "file_extension": ".py",
   "mimetype": "text/x-python",
   "name": "python",
   "nbconvert_exporter": "python",
   "pygments_lexer": "ipython3",
   "version": "3.11.9"
  }
 },
 "nbformat": 4,
 "nbformat_minor": 5
}
