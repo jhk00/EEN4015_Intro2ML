{
 "cells": [
  {
   "cell_type": "code",
   "execution_count": 1,
   "id": "516f9d5f-6361-4b03-98ee-e1ba4de86b92",
   "metadata": {},
   "outputs": [
    {
     "name": "stderr",
     "output_type": "stream",
     "text": [
      "\u001b[34m\u001b[1mwandb\u001b[0m: Using wandb-core as the SDK backend.  Please refer to https://wandb.me/wandb-core for more information.\n",
      "\u001b[34m\u001b[1mwandb\u001b[0m: \u001b[33mWARNING\u001b[0m If you're specifying your api key in code, ensure this code is not shared publicly.\n",
      "\u001b[34m\u001b[1mwandb\u001b[0m: \u001b[33mWARNING\u001b[0m Consider setting the WANDB_API_KEY environment variable, or running `wandb login` from the command line.\n",
      "\u001b[34m\u001b[1mwandb\u001b[0m: Appending key for api.wandb.ai to your netrc file: /home/guswls/.netrc\n",
      "\u001b[34m\u001b[1mwandb\u001b[0m: Currently logged in as: \u001b[33msokjh1310\u001b[0m (\u001b[33msokjh1310-hanyang-university\u001b[0m) to \u001b[32mhttps://api.wandb.ai\u001b[0m. Use \u001b[1m`wandb login --relogin`\u001b[0m to force relogin\n"
     ]
    },
    {
     "data": {
      "text/html": [
       "Tracking run with wandb version 0.19.9"
      ],
      "text/plain": [
       "<IPython.core.display.HTML object>"
      ]
     },
     "metadata": {},
     "output_type": "display_data"
    },
    {
     "data": {
      "text/html": [
       "Run data is saved locally in <code>/home/guswls/EEN4015_Intro2ML/pbl-2/wandb/run-20250415_150803-wewhk73f</code>"
      ],
      "text/plain": [
       "<IPython.core.display.HTML object>"
      ]
     },
     "metadata": {},
     "output_type": "display_data"
    },
    {
     "data": {
      "text/html": [
       "Syncing run <strong><a href='https://wandb.ai/sokjh1310-hanyang-university/PBL-2/runs/wewhk73f' target=\"_blank\">resnet50_cutmix,flip,crop_standard</a></strong> to <a href='https://wandb.ai/sokjh1310-hanyang-university/PBL-2' target=\"_blank\">Weights & Biases</a> (<a href='https://wandb.me/developer-guide' target=\"_blank\">docs</a>)<br>"
      ],
      "text/plain": [
       "<IPython.core.display.HTML object>"
      ]
     },
     "metadata": {},
     "output_type": "display_data"
    },
    {
     "data": {
      "text/html": [
       " View project at <a href='https://wandb.ai/sokjh1310-hanyang-university/PBL-2' target=\"_blank\">https://wandb.ai/sokjh1310-hanyang-university/PBL-2</a>"
      ],
      "text/plain": [
       "<IPython.core.display.HTML object>"
      ]
     },
     "metadata": {},
     "output_type": "display_data"
    },
    {
     "data": {
      "text/html": [
       " View run at <a href='https://wandb.ai/sokjh1310-hanyang-university/PBL-2/runs/wewhk73f' target=\"_blank\">https://wandb.ai/sokjh1310-hanyang-university/PBL-2/runs/wewhk73f</a>"
      ],
      "text/plain": [
       "<IPython.core.display.HTML object>"
      ]
     },
     "metadata": {},
     "output_type": "display_data"
    },
    {
     "name": "stdout",
     "output_type": "stream",
     "text": [
      "Files already downloaded and verified\n",
      "Files already downloaded and verified\n",
      "Train set size: 50000\n",
      "Test set size: 10000\n",
      "Using device: cuda\n",
      "2개의 GPU를 사용합니다.\n"
     ]
    },
    {
     "name": "stderr",
     "output_type": "stream",
     "text": [
      "  0%|                                                                                                       | 0/100 [00:00<?, ?it/s]"
     ]
    },
    {
     "name": "stdout",
     "output_type": "stream",
     "text": [
      "Epoch [1], Batch [50/391], Loss: 4.3441\n",
      "Epoch [1], Batch [100/391], Loss: 4.4700\n",
      "Epoch [1], Batch [150/391], Loss: 3.9645\n",
      "Epoch [1], Batch [200/391], Loss: 4.0578\n",
      "Epoch [1], Batch [250/391], Loss: 4.3095\n",
      "Epoch [1], Batch [300/391], Loss: 4.0970\n",
      "Epoch [1], Batch [350/391], Loss: 3.8389\n",
      "Train set: Epoch: 1, Average loss:4.2358, LR: 0.001000 Top-1 Accuracy: 6.3400%, Top-5 Accuracy: 22.4660%, Time consumed:97.88s\n",
      "Test set: Epoch: 1, Average loss:3.7492, Top-1 Accuracy: 11.4100%, Top-5 Accuracy: 34.0100%, Time consumed:16.48s\n",
      "\n",
      "New best top-1 accuracy: 11.41%, top-5 accuracy: 34.01%\n",
      "New best top-5 accuracy: 34.01%\n",
      "Validation loss decreased (inf --> 3.749235). Saving model ...\n"
     ]
    },
    {
     "name": "stderr",
     "output_type": "stream",
     "text": [
      "  1%|▉                                                                                           | 1/100 [01:54<3:09:26, 114.81s/it]"
     ]
    },
    {
     "name": "stdout",
     "output_type": "stream",
     "text": [
      "Epoch [2], Batch [50/391], Loss: 3.6257\n",
      "Epoch [2], Batch [100/391], Loss: 3.6719\n",
      "Epoch [2], Batch [150/391], Loss: 3.7000\n",
      "Epoch [2], Batch [200/391], Loss: 3.9743\n",
      "Epoch [2], Batch [250/391], Loss: 3.6172\n",
      "Epoch [2], Batch [300/391], Loss: 4.2045\n",
      "Epoch [2], Batch [350/391], Loss: 3.2660\n",
      "Train set: Epoch: 2, Average loss:3.7395, LR: 0.001000 Top-1 Accuracy: 14.0360%, Top-5 Accuracy: 38.0920%, Time consumed:100.86s\n",
      "Test set: Epoch: 2, Average loss:3.1456, Top-1 Accuracy: 22.0200%, Top-5 Accuracy: 51.2000%, Time consumed:15.46s\n",
      "\n",
      "New best top-1 accuracy: 22.02%, top-5 accuracy: 51.20%\n",
      "New best top-5 accuracy: 51.20%\n",
      "Validation loss decreased (3.749235 --> 3.145575). Saving model ...\n"
     ]
    },
    {
     "name": "stderr",
     "output_type": "stream",
     "text": [
      "  2%|█▊                                                                                          | 2/100 [03:51<3:09:29, 116.01s/it]"
     ]
    },
    {
     "name": "stdout",
     "output_type": "stream",
     "text": [
      "Epoch [3], Batch [50/391], Loss: 3.6148\n",
      "Epoch [3], Batch [100/391], Loss: 3.8133\n",
      "Epoch [3], Batch [150/391], Loss: 2.7834\n",
      "Epoch [3], Batch [200/391], Loss: 3.1246\n",
      "Epoch [3], Batch [250/391], Loss: 4.0600\n",
      "Epoch [3], Batch [300/391], Loss: 2.8338\n",
      "Epoch [3], Batch [350/391], Loss: 2.4952\n",
      "Train set: Epoch: 3, Average loss:3.3007, LR: 0.001000 Top-1 Accuracy: 22.0220%, Top-5 Accuracy: 51.5340%, Time consumed:102.01s\n",
      "Test set: Epoch: 3, Average loss:2.8248, Top-1 Accuracy: 28.1100%, Top-5 Accuracy: 61.0700%, Time consumed:17.48s\n",
      "\n",
      "New best top-1 accuracy: 28.11%, top-5 accuracy: 61.07%\n",
      "New best top-5 accuracy: 61.07%\n",
      "Validation loss decreased (3.145575 --> 2.824837). Saving model ...\n"
     ]
    },
    {
     "name": "stderr",
     "output_type": "stream",
     "text": [
      "  3%|██▊                                                                                         | 3/100 [05:51<3:10:29, 117.83s/it]"
     ]
    },
    {
     "name": "stdout",
     "output_type": "stream",
     "text": [
      "Epoch [4], Batch [50/391], Loss: 3.6556\n",
      "Epoch [4], Batch [100/391], Loss: 4.0352\n",
      "Epoch [4], Batch [150/391], Loss: 3.3574\n",
      "Epoch [4], Batch [200/391], Loss: 2.2442\n",
      "Epoch [4], Batch [250/391], Loss: 3.1300\n",
      "Epoch [4], Batch [300/391], Loss: 3.9126\n",
      "Epoch [4], Batch [350/391], Loss: 2.3174\n",
      "Train set: Epoch: 4, Average loss:2.9594, LR: 0.001000 Top-1 Accuracy: 29.4340%, Top-5 Accuracy: 61.0180%, Time consumed:104.06s\n",
      "Test set: Epoch: 4, Average loss:2.5165, Top-1 Accuracy: 34.8600%, Top-5 Accuracy: 67.8500%, Time consumed:15.25s\n",
      "\n",
      "New best top-1 accuracy: 34.86%, top-5 accuracy: 67.85%\n",
      "New best top-5 accuracy: 67.85%\n",
      "Validation loss decreased (2.824837 --> 2.516505). Saving model ...\n"
     ]
    },
    {
     "name": "stderr",
     "output_type": "stream",
     "text": [
      "  4%|███▋                                                                                        | 4/100 [07:51<3:09:48, 118.63s/it]"
     ]
    },
    {
     "name": "stdout",
     "output_type": "stream",
     "text": [
      "Epoch [5], Batch [50/391], Loss: 2.2094\n",
      "Epoch [5], Batch [100/391], Loss: 3.7727\n",
      "Epoch [5], Batch [150/391], Loss: 2.4358\n",
      "Epoch [5], Batch [200/391], Loss: 3.1424\n",
      "Epoch [5], Batch [250/391], Loss: 3.1559\n",
      "Epoch [5], Batch [300/391], Loss: 3.5841\n",
      "Epoch [5], Batch [350/391], Loss: 2.2698\n",
      "Train set: Epoch: 5, Average loss:2.7858, LR: 0.001000 Top-1 Accuracy: 34.1060%, Top-5 Accuracy: 65.4860%, Time consumed:102.43s\n",
      "Test set: Epoch: 5, Average loss:2.1486, Top-1 Accuracy: 42.2000%, Top-5 Accuracy: 74.9900%, Time consumed:16.41s\n",
      "\n",
      "New best top-1 accuracy: 42.20%, top-5 accuracy: 74.99%\n",
      "New best top-5 accuracy: 74.99%\n",
      "Validation loss decreased (2.516505 --> 2.148639). Saving model ...\n"
     ]
    },
    {
     "name": "stderr",
     "output_type": "stream",
     "text": [
      "  5%|████▌                                                                                       | 5/100 [09:50<3:08:16, 118.91s/it]"
     ]
    },
    {
     "name": "stdout",
     "output_type": "stream",
     "text": [
      "Epoch [6], Batch [50/391], Loss: 2.0723\n",
      "Epoch [6], Batch [100/391], Loss: 3.0391\n",
      "Epoch [6], Batch [150/391], Loss: 3.2807\n",
      "Epoch [6], Batch [200/391], Loss: 2.0946\n",
      "Epoch [6], Batch [250/391], Loss: 1.6515\n",
      "Epoch [6], Batch [300/391], Loss: 2.9931\n",
      "Epoch [6], Batch [350/391], Loss: 3.6404\n",
      "Train set: Epoch: 6, Average loss:2.5455, LR: 0.001000 Top-1 Accuracy: 39.6060%, Top-5 Accuracy: 70.9280%, Time consumed:98.88s\n",
      "Test set: Epoch: 6, Average loss:2.0760, Top-1 Accuracy: 44.7800%, Top-5 Accuracy: 76.5400%, Time consumed:15.48s\n",
      "\n",
      "New best top-1 accuracy: 44.78%, top-5 accuracy: 76.54%\n",
      "New best top-5 accuracy: 76.54%\n",
      "Validation loss decreased (2.148639 --> 2.075953). Saving model ...\n"
     ]
    },
    {
     "name": "stderr",
     "output_type": "stream",
     "text": [
      "  6%|█████▌                                                                                      | 6/100 [11:45<3:04:08, 117.54s/it]"
     ]
    },
    {
     "name": "stdout",
     "output_type": "stream",
     "text": [
      "Epoch [7], Batch [50/391], Loss: 3.2417\n",
      "Epoch [7], Batch [100/391], Loss: 2.8708\n",
      "Epoch [7], Batch [150/391], Loss: 2.9611\n",
      "Epoch [7], Batch [200/391], Loss: 3.2416\n",
      "Epoch [7], Batch [250/391], Loss: 1.8843\n",
      "Epoch [7], Batch [300/391], Loss: 3.0017\n",
      "Epoch [7], Batch [350/391], Loss: 1.6793\n",
      "Train set: Epoch: 7, Average loss:2.3986, LR: 0.001000 Top-1 Accuracy: 43.3980%, Top-5 Accuracy: 73.9640%, Time consumed:100.16s\n",
      "Test set: Epoch: 7, Average loss:1.8532, Top-1 Accuracy: 49.4900%, Top-5 Accuracy: 80.6200%, Time consumed:15.55s\n",
      "\n",
      "New best top-1 accuracy: 49.49%, top-5 accuracy: 80.62%\n",
      "New best top-5 accuracy: 80.62%\n",
      "Validation loss decreased (2.075953 --> 1.853187). Saving model ...\n"
     ]
    },
    {
     "name": "stderr",
     "output_type": "stream",
     "text": [
      "  7%|██████▍                                                                                     | 7/100 [13:42<3:01:33, 117.13s/it]"
     ]
    },
    {
     "name": "stdout",
     "output_type": "stream",
     "text": [
      "Epoch [8], Batch [50/391], Loss: 1.9312\n",
      "Epoch [8], Batch [100/391], Loss: 1.7927\n",
      "Epoch [8], Batch [150/391], Loss: 1.9866\n",
      "Epoch [8], Batch [200/391], Loss: 3.3763\n",
      "Epoch [8], Batch [250/391], Loss: 4.0269\n",
      "Epoch [8], Batch [300/391], Loss: 3.4011\n",
      "Epoch [8], Batch [350/391], Loss: 1.6461\n",
      "Train set: Epoch: 8, Average loss:2.3225, LR: 0.001000 Top-1 Accuracy: 45.5620%, Top-5 Accuracy: 75.7100%, Time consumed:100.80s\n",
      "Test set: Epoch: 8, Average loss:1.7138, Top-1 Accuracy: 53.3000%, Top-5 Accuracy: 82.9100%, Time consumed:16.22s\n",
      "\n",
      "New best top-1 accuracy: 53.30%, top-5 accuracy: 82.91%\n",
      "New best top-5 accuracy: 82.91%\n",
      "Validation loss decreased (1.853187 --> 1.713834). Saving model ...\n"
     ]
    },
    {
     "name": "stderr",
     "output_type": "stream",
     "text": [
      "  8%|███████▎                                                                                    | 8/100 [15:39<2:59:49, 117.27s/it]"
     ]
    },
    {
     "name": "stdout",
     "output_type": "stream",
     "text": [
      "Epoch [9], Batch [50/391], Loss: 1.7174\n",
      "Epoch [9], Batch [100/391], Loss: 2.8362\n",
      "Epoch [9], Batch [150/391], Loss: 2.0197\n",
      "Epoch [9], Batch [200/391], Loss: 3.6180\n",
      "Epoch [9], Batch [250/391], Loss: 1.7463\n",
      "Epoch [9], Batch [300/391], Loss: 1.5852\n",
      "Epoch [9], Batch [350/391], Loss: 2.9372\n",
      "Train set: Epoch: 9, Average loss:2.4457, LR: 0.001000 Top-1 Accuracy: 43.4800%, Top-5 Accuracy: 73.4400%, Time consumed:100.82s\n"
     ]
    },
    {
     "name": "stderr",
     "output_type": "stream",
     "text": [
      "  9%|████████▎                                                                                   | 9/100 [17:36<2:57:50, 117.26s/it]"
     ]
    },
    {
     "name": "stdout",
     "output_type": "stream",
     "text": [
      "Test set: Epoch: 9, Average loss:1.8396, Top-1 Accuracy: 50.3300%, Top-5 Accuracy: 80.6700%, Time consumed:16.42s\n",
      "\n",
      "EarlyStopping 카운터: 1 / 10\n",
      "Epoch [10], Batch [50/391], Loss: 3.2714\n",
      "Epoch [10], Batch [100/391], Loss: 1.4764\n",
      "Epoch [10], Batch [150/391], Loss: 1.5529\n",
      "Epoch [10], Batch [200/391], Loss: 1.3326\n",
      "Epoch [10], Batch [250/391], Loss: 1.4771\n",
      "Epoch [10], Batch [300/391], Loss: 1.5612\n",
      "Epoch [10], Batch [350/391], Loss: 1.3780\n",
      "Train set: Epoch: 10, Average loss:2.1603, LR: 0.001000 Top-1 Accuracy: 49.3700%, Top-5 Accuracy: 78.4620%, Time consumed:101.53s\n",
      "Test set: Epoch: 10, Average loss:1.6159, Top-1 Accuracy: 55.9800%, Top-5 Accuracy: 84.3000%, Time consumed:16.92s\n",
      "\n",
      "New best top-1 accuracy: 55.98%, top-5 accuracy: 84.30%\n",
      "New best top-5 accuracy: 84.30%\n",
      "Validation loss decreased (1.713834 --> 1.615903). Saving model ...\n"
     ]
    },
    {
     "name": "stderr",
     "output_type": "stream",
     "text": [
      " 10%|█████████                                                                                  | 10/100 [19:35<2:56:40, 117.79s/it]"
     ]
    },
    {
     "name": "stdout",
     "output_type": "stream",
     "text": [
      "Epoch [11], Batch [50/391], Loss: 1.3520\n",
      "Epoch [11], Batch [100/391], Loss: 1.3734\n",
      "Epoch [11], Batch [150/391], Loss: 1.6708\n",
      "Epoch [11], Batch [200/391], Loss: 3.2306\n",
      "Epoch [11], Batch [250/391], Loss: 1.3669\n",
      "Epoch [11], Batch [300/391], Loss: 1.2757\n",
      "Epoch [11], Batch [350/391], Loss: 3.5482\n",
      "Train set: Epoch: 11, Average loss:2.0834, LR: 0.001000 Top-1 Accuracy: 52.3340%, Top-5 Accuracy: 80.5440%, Time consumed:100.04s\n",
      "Test set: Epoch: 11, Average loss:1.4755, Top-1 Accuracy: 58.1900%, Top-5 Accuracy: 86.9400%, Time consumed:16.59s\n",
      "\n",
      "New best top-1 accuracy: 58.19%, top-5 accuracy: 86.94%\n",
      "New best top-5 accuracy: 86.94%\n",
      "Validation loss decreased (1.615903 --> 1.475521). Saving model ...\n"
     ]
    },
    {
     "name": "stderr",
     "output_type": "stream",
     "text": [
      " 11%|██████████                                                                                 | 11/100 [21:33<2:54:25, 117.59s/it]"
     ]
    },
    {
     "name": "stdout",
     "output_type": "stream",
     "text": [
      "Epoch [12], Batch [50/391], Loss: 2.9822\n",
      "Epoch [12], Batch [100/391], Loss: 1.2131\n",
      "Epoch [12], Batch [150/391], Loss: 2.4372\n",
      "Epoch [12], Batch [200/391], Loss: 1.2045\n",
      "Epoch [12], Batch [250/391], Loss: 1.4173\n",
      "Epoch [12], Batch [300/391], Loss: 1.2903\n",
      "Epoch [12], Batch [350/391], Loss: 1.3674\n",
      "Train set: Epoch: 12, Average loss:2.0340, LR: 0.001000 Top-1 Accuracy: 53.2320%, Top-5 Accuracy: 80.7360%, Time consumed:100.46s\n",
      "Test set: Epoch: 12, Average loss:1.4010, Top-1 Accuracy: 61.2400%, Top-5 Accuracy: 87.1900%, Time consumed:16.24s\n",
      "\n",
      "New best top-1 accuracy: 61.24%, top-5 accuracy: 87.19%\n",
      "New best top-5 accuracy: 87.19%\n",
      "Validation loss decreased (1.475521 --> 1.401037). Saving model ...\n"
     ]
    },
    {
     "name": "stderr",
     "output_type": "stream",
     "text": [
      " 12%|██████████▉                                                                                | 12/100 [23:30<2:52:18, 117.48s/it]"
     ]
    },
    {
     "name": "stdout",
     "output_type": "stream",
     "text": [
      "Epoch [13], Batch [50/391], Loss: 1.6552\n",
      "Epoch [13], Batch [100/391], Loss: 3.1685\n",
      "Epoch [13], Batch [150/391], Loss: 1.1090\n",
      "Epoch [13], Batch [200/391], Loss: 1.0336\n",
      "Epoch [13], Batch [250/391], Loss: 1.2129\n",
      "Epoch [13], Batch [300/391], Loss: 2.8714\n",
      "Epoch [13], Batch [350/391], Loss: 1.4237\n",
      "Train set: Epoch: 13, Average loss:1.9570, LR: 0.001000 Top-1 Accuracy: 55.3820%, Top-5 Accuracy: 82.4340%, Time consumed:102.65s\n"
     ]
    },
    {
     "name": "stderr",
     "output_type": "stream",
     "text": [
      " 13%|███████████▊                                                                               | 13/100 [25:29<2:50:56, 117.89s/it]"
     ]
    },
    {
     "name": "stdout",
     "output_type": "stream",
     "text": [
      "Test set: Epoch: 13, Average loss:1.4133, Top-1 Accuracy: 60.2800%, Top-5 Accuracy: 87.5900%, Time consumed:16.17s\n",
      "\n",
      "New best top-5 accuracy: 87.59%\n",
      "EarlyStopping 카운터: 1 / 10\n",
      "Epoch [14], Batch [50/391], Loss: 2.9654\n",
      "Epoch [14], Batch [100/391], Loss: 1.1877\n",
      "Epoch [14], Batch [150/391], Loss: 2.9641\n",
      "Epoch [14], Batch [200/391], Loss: 1.2475\n",
      "Epoch [14], Batch [250/391], Loss: 1.2741\n",
      "Epoch [14], Batch [300/391], Loss: 1.2869\n",
      "Epoch [14], Batch [350/391], Loss: 3.0843\n",
      "Train set: Epoch: 14, Average loss:1.8721, LR: 0.001000 Top-1 Accuracy: 57.2760%, Top-5 Accuracy: 83.7760%, Time consumed:99.71s\n"
     ]
    },
    {
     "name": "stderr",
     "output_type": "stream",
     "text": [
      " 14%|████████████▋                                                                              | 14/100 [27:24<2:48:04, 117.26s/it]"
     ]
    },
    {
     "name": "stdout",
     "output_type": "stream",
     "text": [
      "Test set: Epoch: 14, Average loss:1.4033, Top-1 Accuracy: 61.2000%, Top-5 Accuracy: 87.6600%, Time consumed:16.10s\n",
      "\n",
      "New best top-5 accuracy: 87.66%\n",
      "EarlyStopping 카운터: 2 / 10\n",
      "Epoch [15], Batch [50/391], Loss: 1.1387\n",
      "Epoch [15], Batch [100/391], Loss: 0.9278\n",
      "Epoch [15], Batch [150/391], Loss: 1.3602\n",
      "Epoch [15], Batch [200/391], Loss: 1.1961\n",
      "Epoch [15], Batch [250/391], Loss: 3.1885\n",
      "Epoch [15], Batch [300/391], Loss: 1.0101\n",
      "Epoch [15], Batch [350/391], Loss: 3.0860\n",
      "Train set: Epoch: 15, Average loss:1.8427, LR: 0.001000 Top-1 Accuracy: 58.4880%, Top-5 Accuracy: 84.7840%, Time consumed:100.71s\n",
      "Test set: Epoch: 15, Average loss:1.3651, Top-1 Accuracy: 62.0900%, Top-5 Accuracy: 88.2500%, Time consumed:16.33s\n",
      "\n",
      "New best top-1 accuracy: 62.09%, top-5 accuracy: 88.25%\n",
      "New best top-5 accuracy: 88.25%\n",
      "Validation loss decreased (1.401037 --> 1.365065). Saving model ...\n"
     ]
    },
    {
     "name": "stderr",
     "output_type": "stream",
     "text": [
      " 15%|█████████████▋                                                                             | 15/100 [29:22<2:46:14, 117.35s/it]"
     ]
    },
    {
     "name": "stdout",
     "output_type": "stream",
     "text": [
      "Epoch [16], Batch [50/391], Loss: 0.9526\n",
      "Epoch [16], Batch [100/391], Loss: 0.9269\n",
      "Epoch [16], Batch [150/391], Loss: 3.0845\n",
      "Epoch [16], Batch [200/391], Loss: 1.1047\n",
      "Epoch [16], Batch [250/391], Loss: 1.8457\n",
      "Epoch [16], Batch [300/391], Loss: 1.5482\n",
      "Epoch [16], Batch [350/391], Loss: 0.8102\n",
      "Train set: Epoch: 16, Average loss:1.7781, LR: 0.001000 Top-1 Accuracy: 60.3100%, Top-5 Accuracy: 85.6900%, Time consumed:99.74s\n",
      "Test set: Epoch: 16, Average loss:1.3057, Top-1 Accuracy: 63.4600%, Top-5 Accuracy: 89.1900%, Time consumed:16.47s\n",
      "\n",
      "New best top-1 accuracy: 63.46%, top-5 accuracy: 89.19%\n",
      "New best top-5 accuracy: 89.19%\n",
      "Validation loss decreased (1.365065 --> 1.305676). Saving model ...\n"
     ]
    },
    {
     "name": "stderr",
     "output_type": "stream",
     "text": [
      " 16%|██████████████▌                                                                            | 16/100 [31:19<2:44:01, 117.17s/it]"
     ]
    },
    {
     "name": "stdout",
     "output_type": "stream",
     "text": [
      "Epoch [17], Batch [50/391], Loss: 0.8145\n",
      "Epoch [17], Batch [100/391], Loss: 3.0374\n",
      "Epoch [17], Batch [150/391], Loss: 3.0776\n",
      "Epoch [17], Batch [200/391], Loss: 2.4401\n",
      "Epoch [17], Batch [250/391], Loss: 2.4605\n",
      "Epoch [17], Batch [300/391], Loss: 1.9652\n",
      "Epoch [17], Batch [350/391], Loss: 0.9119\n",
      "Train set: Epoch: 17, Average loss:1.7443, LR: 0.001000 Top-1 Accuracy: 61.9300%, Top-5 Accuracy: 86.6640%, Time consumed:100.35s\n",
      "Test set: Epoch: 17, Average loss:1.2157, Top-1 Accuracy: 66.1300%, Top-5 Accuracy: 89.9300%, Time consumed:16.38s\n",
      "\n",
      "New best top-1 accuracy: 66.13%, top-5 accuracy: 89.93%\n",
      "New best top-5 accuracy: 89.93%\n",
      "Validation loss decreased (1.305676 --> 1.215664). Saving model ...\n"
     ]
    },
    {
     "name": "stderr",
     "output_type": "stream",
     "text": [
      " 17%|███████████████▍                                                                           | 17/100 [33:16<2:42:06, 117.19s/it]"
     ]
    },
    {
     "name": "stdout",
     "output_type": "stream",
     "text": [
      "Epoch [18], Batch [50/391], Loss: 2.6839\n",
      "Epoch [18], Batch [100/391], Loss: 2.8491\n",
      "Epoch [18], Batch [150/391], Loss: 2.5781\n",
      "Epoch [18], Batch [200/391], Loss: 1.7217\n",
      "Epoch [18], Batch [250/391], Loss: 1.4201\n",
      "Epoch [18], Batch [300/391], Loss: 0.7118\n",
      "Epoch [18], Batch [350/391], Loss: 0.8383\n",
      "Train set: Epoch: 18, Average loss:1.7220, LR: 0.001000 Top-1 Accuracy: 62.2560%, Top-5 Accuracy: 86.7300%, Time consumed:100.34s\n",
      "Test set: Epoch: 18, Average loss:1.1980, Top-1 Accuracy: 66.8600%, Top-5 Accuracy: 90.7000%, Time consumed:16.80s\n",
      "\n",
      "New best top-1 accuracy: 66.86%, top-5 accuracy: 90.70%\n",
      "New best top-5 accuracy: 90.70%\n",
      "Validation loss decreased (1.215664 --> 1.197993). Saving model ...\n"
     ]
    },
    {
     "name": "stderr",
     "output_type": "stream",
     "text": [
      " 18%|████████████████▍                                                                          | 18/100 [35:14<2:40:21, 117.34s/it]"
     ]
    },
    {
     "name": "stdout",
     "output_type": "stream",
     "text": [
      "Epoch [19], Batch [50/391], Loss: 3.1177\n",
      "Epoch [19], Batch [100/391], Loss: 0.9033\n",
      "Epoch [19], Batch [150/391], Loss: 0.8781\n",
      "Epoch [19], Batch [200/391], Loss: 2.2432\n",
      "Epoch [19], Batch [250/391], Loss: 0.9560\n",
      "Epoch [19], Batch [300/391], Loss: 0.9819\n",
      "Epoch [19], Batch [350/391], Loss: 1.7964\n",
      "Train set: Epoch: 19, Average loss:1.7038, LR: 0.001000 Top-1 Accuracy: 63.1620%, Top-5 Accuracy: 87.4280%, Time consumed:101.00s\n"
     ]
    },
    {
     "name": "stderr",
     "output_type": "stream",
     "text": [
      " 19%|█████████████████▎                                                                         | 19/100 [37:11<2:38:27, 117.38s/it]"
     ]
    },
    {
     "name": "stdout",
     "output_type": "stream",
     "text": [
      "Test set: Epoch: 19, Average loss:1.2115, Top-1 Accuracy: 65.8000%, Top-5 Accuracy: 90.5800%, Time consumed:16.46s\n",
      "\n",
      "EarlyStopping 카운터: 1 / 10\n",
      "Epoch [20], Batch [50/391], Loss: 0.7600\n",
      "Epoch [20], Batch [100/391], Loss: 2.0980\n",
      "Epoch [20], Batch [150/391], Loss: 0.7778\n",
      "Epoch [20], Batch [200/391], Loss: 2.0500\n",
      "Epoch [20], Batch [250/391], Loss: 2.5759\n",
      "Epoch [20], Batch [300/391], Loss: 0.7236\n",
      "Epoch [20], Batch [350/391], Loss: 0.8232\n",
      "Train set: Epoch: 20, Average loss:1.5894, LR: 0.001000 Top-1 Accuracy: 65.6680%, Top-5 Accuracy: 88.9160%, Time consumed:100.42s\n",
      "Test set: Epoch: 20, Average loss:1.1965, Top-1 Accuracy: 66.5200%, Top-5 Accuracy: 90.3500%, Time consumed:15.59s\n",
      "\n",
      "Validation loss decreased (1.197993 --> 1.196479). Saving model ...\n"
     ]
    },
    {
     "name": "stderr",
     "output_type": "stream",
     "text": [
      " 20%|██████████████████▏                                                                        | 20/100 [39:07<2:36:04, 117.05s/it]"
     ]
    },
    {
     "name": "stdout",
     "output_type": "stream",
     "text": [
      "Epoch [21], Batch [50/391], Loss: 0.8806\n",
      "Epoch [21], Batch [100/391], Loss: 2.9514\n",
      "Epoch [21], Batch [150/391], Loss: 0.7435\n",
      "Epoch [21], Batch [200/391], Loss: 0.7287\n",
      "Epoch [21], Batch [250/391], Loss: 0.8030\n",
      "Epoch [21], Batch [300/391], Loss: 0.9334\n",
      "Epoch [21], Batch [350/391], Loss: 1.9254\n",
      "Train set: Epoch: 21, Average loss:1.5679, LR: 0.001000 Top-1 Accuracy: 65.9580%, Top-5 Accuracy: 88.9400%, Time consumed:99.71s\n",
      "Test set: Epoch: 21, Average loss:1.1868, Top-1 Accuracy: 67.0100%, Top-5 Accuracy: 90.7600%, Time consumed:15.56s\n",
      "\n",
      "New best top-1 accuracy: 67.01%, top-5 accuracy: 90.76%\n",
      "New best top-5 accuracy: 90.76%\n",
      "Validation loss decreased (1.196479 --> 1.186844). Saving model ...\n"
     ]
    },
    {
     "name": "stderr",
     "output_type": "stream",
     "text": [
      " 21%|███████████████████                                                                        | 21/100 [41:03<2:33:37, 116.68s/it]"
     ]
    },
    {
     "name": "stdout",
     "output_type": "stream",
     "text": [
      "Epoch [22], Batch [50/391], Loss: 0.5431\n",
      "Epoch [22], Batch [100/391], Loss: 0.6686\n",
      "Epoch [22], Batch [150/391], Loss: 3.0414\n",
      "Epoch [22], Batch [200/391], Loss: 2.7650\n",
      "Epoch [22], Batch [250/391], Loss: 0.6948\n",
      "Epoch [22], Batch [300/391], Loss: 3.1663\n",
      "Epoch [22], Batch [350/391], Loss: 2.2734\n",
      "Train set: Epoch: 22, Average loss:1.5970, LR: 0.001000 Top-1 Accuracy: 66.5940%, Top-5 Accuracy: 88.7720%, Time consumed:105.69s\n",
      "Test set: Epoch: 22, Average loss:1.1663, Top-1 Accuracy: 67.5700%, Top-5 Accuracy: 90.6500%, Time consumed:16.08s\n",
      "\n",
      "New best top-1 accuracy: 67.57%, top-5 accuracy: 90.65%\n",
      "Validation loss decreased (1.186844 --> 1.166295). Saving model ...\n"
     ]
    },
    {
     "name": "stderr",
     "output_type": "stream",
     "text": [
      " 22%|████████████████████                                                                       | 22/100 [43:06<2:33:53, 118.38s/it]"
     ]
    },
    {
     "name": "stdout",
     "output_type": "stream",
     "text": [
      "Epoch [23], Batch [50/391], Loss: 2.7781\n",
      "Epoch [23], Batch [100/391], Loss: 2.5351\n",
      "Epoch [23], Batch [150/391], Loss: 0.4229\n",
      "Epoch [23], Batch [200/391], Loss: 3.2405\n",
      "Epoch [23], Batch [250/391], Loss: 2.5891\n",
      "Epoch [23], Batch [300/391], Loss: 3.1205\n",
      "Epoch [23], Batch [350/391], Loss: 0.6996\n",
      "Train set: Epoch: 23, Average loss:1.5265, LR: 0.001000 Top-1 Accuracy: 67.5960%, Top-5 Accuracy: 89.3480%, Time consumed:99.54s\n",
      "Test set: Epoch: 23, Average loss:1.1033, Top-1 Accuracy: 69.0300%, Top-5 Accuracy: 91.6300%, Time consumed:16.03s\n",
      "\n",
      "New best top-1 accuracy: 69.03%, top-5 accuracy: 91.63%\n",
      "New best top-5 accuracy: 91.63%\n",
      "Validation loss decreased (1.166295 --> 1.103333). Saving model ...\n"
     ]
    },
    {
     "name": "stderr",
     "output_type": "stream",
     "text": [
      " 23%|████████████████████▉                                                                      | 23/100 [45:02<2:31:02, 117.69s/it]"
     ]
    },
    {
     "name": "stdout",
     "output_type": "stream",
     "text": [
      "Epoch [24], Batch [50/391], Loss: 0.4796\n",
      "Epoch [24], Batch [100/391], Loss: 0.5354\n",
      "Epoch [24], Batch [150/391], Loss: 2.8674\n",
      "Epoch [24], Batch [200/391], Loss: 0.5832\n",
      "Epoch [24], Batch [250/391], Loss: 1.2705\n",
      "Epoch [24], Batch [300/391], Loss: 0.6136\n",
      "Epoch [24], Batch [350/391], Loss: 0.5786\n",
      "Train set: Epoch: 24, Average loss:1.4680, LR: 0.001000 Top-1 Accuracy: 69.5080%, Top-5 Accuracy: 90.5940%, Time consumed:99.40s\n",
      "Test set: Epoch: 24, Average loss:1.0745, Top-1 Accuracy: 70.3200%, Top-5 Accuracy: 91.8800%, Time consumed:16.36s\n",
      "\n",
      "New best top-1 accuracy: 70.32%, top-5 accuracy: 91.88%\n",
      "New best top-5 accuracy: 91.88%\n",
      "Validation loss decreased (1.103333 --> 1.074488). Saving model ...\n"
     ]
    },
    {
     "name": "stderr",
     "output_type": "stream",
     "text": [
      " 24%|█████████████████████▊                                                                     | 24/100 [46:58<2:28:32, 117.27s/it]"
     ]
    },
    {
     "name": "stdout",
     "output_type": "stream",
     "text": [
      "Epoch [25], Batch [50/391], Loss: 0.5526\n",
      "Epoch [25], Batch [100/391], Loss: 0.4541\n",
      "Epoch [25], Batch [150/391], Loss: 0.5575\n",
      "Epoch [25], Batch [200/391], Loss: 2.2644\n",
      "Epoch [25], Batch [250/391], Loss: 2.9582\n",
      "Epoch [25], Batch [300/391], Loss: 0.6248\n",
      "Epoch [25], Batch [350/391], Loss: 2.5339\n",
      "Train set: Epoch: 25, Average loss:1.4185, LR: 0.001000 Top-1 Accuracy: 70.0860%, Top-5 Accuracy: 90.6200%, Time consumed:99.77s\n"
     ]
    },
    {
     "name": "stderr",
     "output_type": "stream",
     "text": [
      " 25%|██████████████████████▊                                                                    | 25/100 [48:55<2:26:20, 117.08s/it]"
     ]
    },
    {
     "name": "stdout",
     "output_type": "stream",
     "text": [
      "Test set: Epoch: 25, Average loss:1.0864, Top-1 Accuracy: 69.7200%, Top-5 Accuracy: 91.4300%, Time consumed:16.86s\n",
      "\n",
      "EarlyStopping 카운터: 1 / 10\n",
      "Epoch [26], Batch [50/391], Loss: 0.6869\n",
      "Epoch [26], Batch [100/391], Loss: 2.3554\n",
      "Epoch [26], Batch [150/391], Loss: 0.5802\n",
      "Epoch [26], Batch [200/391], Loss: 2.7054\n",
      "Epoch [26], Batch [250/391], Loss: 1.3558\n",
      "Epoch [26], Batch [300/391], Loss: 1.6189\n",
      "Epoch [26], Batch [350/391], Loss: 0.4252\n",
      "Train set: Epoch: 26, Average loss:1.3942, LR: 0.001000 Top-1 Accuracy: 70.7300%, Top-5 Accuracy: 90.8100%, Time consumed:99.04s\n",
      "Test set: Epoch: 26, Average loss:1.0490, Top-1 Accuracy: 70.4000%, Top-5 Accuracy: 92.4100%, Time consumed:17.83s\n",
      "\n",
      "New best top-1 accuracy: 70.40%, top-5 accuracy: 92.41%\n",
      "New best top-5 accuracy: 92.41%\n",
      "Validation loss decreased (1.074488 --> 1.048963). Saving model ...\n"
     ]
    },
    {
     "name": "stderr",
     "output_type": "stream",
     "text": [
      " 26%|███████████████████████▋                                                                   | 26/100 [50:52<2:24:30, 117.17s/it]"
     ]
    },
    {
     "name": "stdout",
     "output_type": "stream",
     "text": [
      "Epoch [27], Batch [50/391], Loss: 1.3715\n",
      "Epoch [27], Batch [100/391], Loss: 2.4438\n",
      "Epoch [27], Batch [150/391], Loss: 0.5561\n",
      "Epoch [27], Batch [200/391], Loss: 2.9599\n",
      "Epoch [27], Batch [250/391], Loss: 2.4608\n",
      "Epoch [27], Batch [300/391], Loss: 0.4149\n",
      "Epoch [27], Batch [350/391], Loss: 0.4051\n",
      "Train set: Epoch: 27, Average loss:1.3452, LR: 0.001000 Top-1 Accuracy: 72.8360%, Top-5 Accuracy: 92.1980%, Time consumed:104.34s\n"
     ]
    },
    {
     "name": "stderr",
     "output_type": "stream",
     "text": [
      " 27%|████████████████████████▌                                                                  | 27/100 [52:53<2:23:53, 118.27s/it]"
     ]
    },
    {
     "name": "stdout",
     "output_type": "stream",
     "text": [
      "Test set: Epoch: 27, Average loss:1.0593, Top-1 Accuracy: 70.3400%, Top-5 Accuracy: 92.4000%, Time consumed:16.47s\n",
      "\n",
      "EarlyStopping 카운터: 1 / 10\n",
      "Epoch [28], Batch [50/391], Loss: 0.4217\n",
      "Epoch [28], Batch [100/391], Loss: 0.4266\n",
      "Epoch [28], Batch [150/391], Loss: 2.4803\n",
      "Epoch [28], Batch [200/391], Loss: 0.5791\n",
      "Epoch [28], Batch [250/391], Loss: 1.2741\n",
      "Epoch [28], Batch [300/391], Loss: 0.4178\n",
      "Epoch [28], Batch [350/391], Loss: 0.4646\n",
      "Train set: Epoch: 28, Average loss:1.3738, LR: 0.001000 Top-1 Accuracy: 73.1220%, Top-5 Accuracy: 92.3160%, Time consumed:105.25s\n",
      "Test set: Epoch: 28, Average loss:1.0296, Top-1 Accuracy: 70.9800%, Top-5 Accuracy: 92.5400%, Time consumed:16.37s\n",
      "\n",
      "New best top-1 accuracy: 70.98%, top-5 accuracy: 92.54%\n",
      "New best top-5 accuracy: 92.54%\n",
      "Validation loss decreased (1.048963 --> 1.029571). Saving model ...\n"
     ]
    },
    {
     "name": "stderr",
     "output_type": "stream",
     "text": [
      " 28%|█████████████████████████▍                                                                 | 28/100 [54:55<2:23:20, 119.45s/it]"
     ]
    },
    {
     "name": "stdout",
     "output_type": "stream",
     "text": [
      "Epoch [29], Batch [50/391], Loss: 0.2811\n",
      "Epoch [29], Batch [100/391], Loss: 0.4128\n",
      "Epoch [29], Batch [150/391], Loss: 0.4336\n",
      "Epoch [29], Batch [200/391], Loss: 2.7049\n",
      "Epoch [29], Batch [250/391], Loss: 1.9487\n",
      "Epoch [29], Batch [300/391], Loss: 0.5208\n",
      "Epoch [29], Batch [350/391], Loss: 2.3989\n",
      "Train set: Epoch: 29, Average loss:1.3712, LR: 0.001000 Top-1 Accuracy: 72.6760%, Top-5 Accuracy: 91.9100%, Time consumed:100.80s\n",
      "Test set: Epoch: 29, Average loss:1.0584, Top-1 Accuracy: 71.0000%, Top-5 Accuracy: 92.4400%, Time consumed:16.26s\n",
      "\n",
      "New best top-1 accuracy: 71.00%, top-5 accuracy: 92.44%\n"
     ]
    },
    {
     "name": "stderr",
     "output_type": "stream",
     "text": [
      " 29%|██████████████████████████▍                                                                | 29/100 [56:52<2:20:35, 118.81s/it]"
     ]
    },
    {
     "name": "stdout",
     "output_type": "stream",
     "text": [
      "EarlyStopping 카운터: 1 / 10\n",
      "Epoch [30], Batch [50/391], Loss: 0.3950\n",
      "Epoch [30], Batch [100/391], Loss: 0.3898\n",
      "Epoch [30], Batch [150/391], Loss: 2.8819\n",
      "Epoch [30], Batch [200/391], Loss: 0.4324\n",
      "Epoch [30], Batch [250/391], Loss: 2.3565\n",
      "Epoch [30], Batch [300/391], Loss: 1.9454\n",
      "Epoch [30], Batch [350/391], Loss: 1.0088\n",
      "Train set: Epoch: 30, Average loss:1.3380, LR: 0.001000 Top-1 Accuracy: 73.0520%, Top-5 Accuracy: 92.1360%, Time consumed:99.44s\n"
     ]
    },
    {
     "name": "stderr",
     "output_type": "stream",
     "text": [
      " 30%|███████████████████████████▎                                                               | 30/100 [58:48<2:17:25, 117.79s/it]"
     ]
    },
    {
     "name": "stdout",
     "output_type": "stream",
     "text": [
      "Test set: Epoch: 30, Average loss:1.0460, Top-1 Accuracy: 70.9400%, Top-5 Accuracy: 92.0500%, Time consumed:15.96s\n",
      "\n",
      "EarlyStopping 카운터: 2 / 10\n",
      "Epoch [31], Batch [50/391], Loss: 0.4954\n",
      "Epoch [31], Batch [100/391], Loss: 0.4844\n",
      "Epoch [31], Batch [150/391], Loss: 0.3932\n",
      "Epoch [31], Batch [200/391], Loss: 0.2751\n",
      "Epoch [31], Batch [250/391], Loss: 1.1175\n",
      "Epoch [31], Batch [300/391], Loss: 0.9971\n",
      "Epoch [31], Batch [350/391], Loss: 1.8109\n",
      "Train set: Epoch: 31, Average loss:1.2368, LR: 0.001000 Top-1 Accuracy: 75.0400%, Top-5 Accuracy: 92.9220%, Time consumed:103.70s\n",
      "Test set: Epoch: 31, Average loss:1.0720, Top-1 Accuracy: 71.0400%, Top-5 Accuracy: 92.6900%, Time consumed:17.65s\n",
      "\n",
      "New best top-1 accuracy: 71.04%, top-5 accuracy: 92.69%\n"
     ]
    },
    {
     "name": "stderr",
     "output_type": "stream",
     "text": [
      " 31%|███████████████████████████▌                                                             | 31/100 [1:00:49<2:16:47, 118.95s/it]"
     ]
    },
    {
     "name": "stdout",
     "output_type": "stream",
     "text": [
      "New best top-5 accuracy: 92.69%\n",
      "EarlyStopping 카운터: 3 / 10\n",
      "Epoch [32], Batch [50/391], Loss: 0.4741\n",
      "Epoch [32], Batch [100/391], Loss: 2.1366\n",
      "Epoch [32], Batch [150/391], Loss: 0.7249\n",
      "Epoch [32], Batch [200/391], Loss: 2.3326\n",
      "Epoch [32], Batch [250/391], Loss: 2.7832\n",
      "Epoch [32], Batch [300/391], Loss: 0.3377\n",
      "Epoch [32], Batch [350/391], Loss: 1.7582\n",
      "Train set: Epoch: 32, Average loss:1.2253, LR: 0.001000 Top-1 Accuracy: 75.4280%, Top-5 Accuracy: 92.9900%, Time consumed:97.29s\n",
      "Test set: Epoch: 32, Average loss:1.0471, Top-1 Accuracy: 71.1000%, Top-5 Accuracy: 92.3200%, Time consumed:15.23s\n",
      "\n",
      "New best top-1 accuracy: 71.10%, top-5 accuracy: 92.32%\n"
     ]
    },
    {
     "name": "stderr",
     "output_type": "stream",
     "text": [
      " 32%|████████████████████████████▍                                                            | 32/100 [1:02:42<2:12:43, 117.12s/it]"
     ]
    },
    {
     "name": "stdout",
     "output_type": "stream",
     "text": [
      "EarlyStopping 카운터: 4 / 10\n",
      "Epoch [33], Batch [50/391], Loss: 0.2350\n",
      "Epoch [33], Batch [100/391], Loss: 2.8421\n",
      "Epoch [33], Batch [150/391], Loss: 0.2469\n",
      "Epoch [33], Batch [200/391], Loss: 0.2631\n",
      "Epoch [33], Batch [250/391], Loss: 0.4511\n",
      "Epoch [33], Batch [300/391], Loss: 2.6829\n",
      "Epoch [33], Batch [350/391], Loss: 2.3030\n",
      "Train set: Epoch: 33, Average loss:1.2448, LR: 0.001000 Top-1 Accuracy: 76.4440%, Top-5 Accuracy: 93.2360%, Time consumed:97.35s\n",
      "Test set: Epoch: 33, Average loss:1.0368, Top-1 Accuracy: 71.8800%, Top-5 Accuracy: 92.0800%, Time consumed:15.63s\n",
      "\n",
      "New best top-1 accuracy: 71.88%, top-5 accuracy: 92.08%\n"
     ]
    },
    {
     "name": "stderr",
     "output_type": "stream",
     "text": [
      " 33%|█████████████████████████████▎                                                           | 33/100 [1:04:35<2:09:29, 115.96s/it]"
     ]
    },
    {
     "name": "stdout",
     "output_type": "stream",
     "text": [
      "EarlyStopping 카운터: 5 / 10\n",
      "Epoch [34], Batch [50/391], Loss: 0.2624\n",
      "Epoch [34], Batch [100/391], Loss: 0.2758\n",
      "Epoch [34], Batch [150/391], Loss: 2.7163\n",
      "Epoch [34], Batch [200/391], Loss: 2.6772\n",
      "Epoch [34], Batch [250/391], Loss: 2.5462\n",
      "Epoch [34], Batch [300/391], Loss: 2.5437\n",
      "Epoch [34], Batch [350/391], Loss: 0.3547\n",
      "Train set: Epoch: 34, Average loss:1.1936, LR: 0.001000 Top-1 Accuracy: 76.0000%, Top-5 Accuracy: 92.7080%, Time consumed:100.59s\n",
      "Test set: Epoch: 34, Average loss:1.0639, Top-1 Accuracy: 72.1900%, Top-5 Accuracy: 92.1800%, Time consumed:15.44s\n",
      "\n",
      "New best top-1 accuracy: 72.19%, top-5 accuracy: 92.18%\n"
     ]
    },
    {
     "name": "stderr",
     "output_type": "stream",
     "text": [
      " 34%|██████████████████████████████▎                                                          | 34/100 [1:06:32<2:07:39, 116.06s/it]"
     ]
    },
    {
     "name": "stdout",
     "output_type": "stream",
     "text": [
      "EarlyStopping 카운터: 6 / 10\n",
      "Epoch [35], Batch [50/391], Loss: 0.1910\n",
      "Epoch [35], Batch [100/391], Loss: 0.3336\n",
      "Epoch [35], Batch [150/391], Loss: 1.2675\n",
      "Epoch [35], Batch [200/391], Loss: 0.2896\n",
      "Epoch [35], Batch [250/391], Loss: 0.2789\n",
      "Epoch [35], Batch [300/391], Loss: 0.2589\n",
      "Epoch [35], Batch [350/391], Loss: 1.5416\n",
      "Train set: Epoch: 35, Average loss:1.2042, LR: 0.001000 Top-1 Accuracy: 77.3000%, Top-5 Accuracy: 93.5340%, Time consumed:102.14s\n"
     ]
    },
    {
     "name": "stderr",
     "output_type": "stream",
     "text": [
      " 35%|███████████████████████████████▏                                                         | 35/100 [1:08:30<2:06:30, 116.77s/it]"
     ]
    },
    {
     "name": "stdout",
     "output_type": "stream",
     "text": [
      "Test set: Epoch: 35, Average loss:1.0466, Top-1 Accuracy: 71.2100%, Top-5 Accuracy: 92.3100%, Time consumed:16.30s\n",
      "\n",
      "EarlyStopping 카운터: 7 / 10\n",
      "Epoch [36], Batch [50/391], Loss: 0.1855\n",
      "Epoch [36], Batch [100/391], Loss: 0.1704\n",
      "Epoch [36], Batch [150/391], Loss: 1.3436\n",
      "Epoch [36], Batch [200/391], Loss: 0.2765\n",
      "Epoch [36], Batch [250/391], Loss: 2.4519\n",
      "Epoch [36], Batch [300/391], Loss: 0.3456\n",
      "Epoch [36], Batch [350/391], Loss: 0.3049\n",
      "Train set: Epoch: 36, Average loss:1.1221, LR: 0.001000 Top-1 Accuracy: 78.7980%, Top-5 Accuracy: 94.1580%, Time consumed:106.25s\n",
      "Test set: Epoch: 36, Average loss:1.0375, Top-1 Accuracy: 72.2200%, Top-5 Accuracy: 92.8300%, Time consumed:16.18s\n",
      "\n",
      "New best top-1 accuracy: 72.22%, top-5 accuracy: 92.83%\n"
     ]
    },
    {
     "name": "stderr",
     "output_type": "stream",
     "text": [
      " 36%|████████████████████████████████                                                         | 36/100 [1:10:33<2:06:27, 118.56s/it]"
     ]
    },
    {
     "name": "stdout",
     "output_type": "stream",
     "text": [
      "New best top-5 accuracy: 92.83%\n",
      "EarlyStopping 카운터: 8 / 10\n",
      "Epoch [37], Batch [50/391], Loss: 2.0977\n",
      "Epoch [37], Batch [100/391], Loss: 0.2140\n",
      "Epoch [37], Batch [150/391], Loss: 2.0176\n",
      "Epoch [37], Batch [200/391], Loss: 0.3923\n",
      "Epoch [37], Batch [250/391], Loss: 0.3544\n",
      "Epoch [37], Batch [300/391], Loss: 0.3527\n",
      "Epoch [37], Batch [350/391], Loss: 0.3288\n",
      "Train set: Epoch: 37, Average loss:1.0050, LR: 0.001000 Top-1 Accuracy: 80.9080%, Top-5 Accuracy: 95.0860%, Time consumed:100.25s\n"
     ]
    },
    {
     "name": "stderr",
     "output_type": "stream",
     "text": [
      " 37%|████████████████████████████████▉                                                        | 37/100 [1:12:30<2:03:55, 118.02s/it]"
     ]
    },
    {
     "name": "stdout",
     "output_type": "stream",
     "text": [
      "Test set: Epoch: 37, Average loss:1.0708, Top-1 Accuracy: 71.7100%, Top-5 Accuracy: 92.4500%, Time consumed:16.51s\n",
      "\n",
      "EarlyStopping 카운터: 9 / 10\n",
      "Epoch [38], Batch [50/391], Loss: 0.8008\n",
      "Epoch [38], Batch [100/391], Loss: 2.7578\n",
      "Epoch [38], Batch [150/391], Loss: 2.9726\n",
      "Epoch [38], Batch [200/391], Loss: 2.5153\n",
      "Epoch [38], Batch [250/391], Loss: 2.5707\n",
      "Epoch [38], Batch [300/391], Loss: 0.1906\n",
      "Epoch [38], Batch [350/391], Loss: 0.9121\n",
      "Train set: Epoch: 38, Average loss:1.1196, LR: 0.001000 Top-1 Accuracy: 79.5760%, Top-5 Accuracy: 94.5100%, Time consumed:102.01s\n"
     ]
    },
    {
     "name": "stderr",
     "output_type": "stream",
     "text": [
      " 37%|████████████████████████████████▉                                                        | 37/100 [1:14:28<2:06:48, 120.77s/it]"
     ]
    },
    {
     "name": "stdout",
     "output_type": "stream",
     "text": [
      "Test set: Epoch: 38, Average loss:1.0772, Top-1 Accuracy: 71.8100%, Top-5 Accuracy: 92.0600%, Time consumed:16.50s\n",
      "\n",
      "EarlyStopping 카운터: 10 / 10\n",
      "Early stopping triggered. Training stopped.\n",
      "Loading best model from early stopping checkpoint...\n"
     ]
    },
    {
     "name": "stderr",
     "output_type": "stream",
     "text": [
      "\n"
     ]
    },
    {
     "name": "stdout",
     "output_type": "stream",
     "text": [
      "Test set: Epoch: 100, Average loss:1.0296, Top-1 Accuracy: 70.9800%, Top-5 Accuracy: 92.5400%, Time consumed:18.16s\n",
      "\n",
      "Finish! Best test top-1 accuracy: 72.22%, Best test top-5 accuracy: 92.83%\n",
      "Final test top-1 accuracy: 70.98%, Final test top-5 accuracy: 92.54%\n",
      "Total training time: 4486.95 seconds\n"
     ]
    },
    {
     "data": {
      "text/html": [],
      "text/plain": [
       "<IPython.core.display.HTML object>"
      ]
     },
     "metadata": {},
     "output_type": "display_data"
    },
    {
     "data": {
      "text/html": [
       "<br>    <style><br>        .wandb-row {<br>            display: flex;<br>            flex-direction: row;<br>            flex-wrap: wrap;<br>            justify-content: flex-start;<br>            width: 100%;<br>        }<br>        .wandb-col {<br>            display: flex;<br>            flex-direction: column;<br>            flex-basis: 100%;<br>            flex: 1;<br>            padding: 10px;<br>        }<br>    </style><br><div class=\"wandb-row\"><div class=\"wandb-col\"><h3>Run history:</h3><br/><table class=\"wandb\"><tr><td>epoch</td><td>▁▁▁▂▂▂▂▂▃▃▃▃▃▃▄▄▄▄▄▅▅▅▅▅▆▆▆▆▆▆▇▇▇▇▇███</td></tr><tr><td>learning_rate</td><td>▁▁▁▁▁▁▁▁▁▁▁▁▁▁▁▁▁▁▁▁▁▁▁▁▁▁▁▁▁▁▁▁▁▁▁▁▁▁</td></tr><tr><td>test_accuracy_top1</td><td>▁▂▃▄▅▅▅▆▅▆▆▇▇▇▇▇▇▇▇▇▇▇████████████████</td></tr><tr><td>test_accuracy_top5</td><td>▁▃▄▅▆▆▇▇▇▇▇▇▇▇▇███████████████████████</td></tr><tr><td>test_loss</td><td>█▆▆▅▄▄▃▃▃▃▂▂▂▂▂▂▁▁▁▁▁▁▁▁▁▁▁▁▁▁▁▁▁▁▁▁▁▁</td></tr><tr><td>total_training_time</td><td>▁</td></tr><tr><td>train_accuracy_top1</td><td>▁▂▂▃▄▄▄▅▄▅▅▅▆▆▆▆▆▆▆▇▇▇▇▇▇▇▇▇▇▇▇▇██████</td></tr><tr><td>train_accuracy_top5</td><td>▁▃▄▅▅▆▆▆▆▆▇▇▇▇▇▇▇▇▇▇▇▇▇███████████████</td></tr><tr><td>train_loss</td><td>█▇▆▅▅▄▄▄▄▄▃▃▃▃▃▃▃▃▃▂▂▂▂▂▂▂▂▂▂▂▂▁▂▁▁▁▁▁</td></tr></table><br/></div><div class=\"wandb-col\"><h3>Run summary:</h3><br/><table class=\"wandb\"><tr><td>best_test_accuracy_top1</td><td>72.22</td></tr><tr><td>best_test_accuracy_top5</td><td>92.83</td></tr><tr><td>early_stopped</td><td>True</td></tr><tr><td>early_stopped_epoch</td><td>38</td></tr><tr><td>epoch</td><td>38</td></tr><tr><td>final_test_accuracy_top1</td><td>70.98</td></tr><tr><td>final_test_accuracy_top5</td><td>92.54</td></tr><tr><td>learning_rate</td><td>0.001</td></tr><tr><td>test_accuracy_top1</td><td>71.81</td></tr><tr><td>test_accuracy_top5</td><td>92.06</td></tr><tr><td>test_loss</td><td>1.07715</td></tr><tr><td>total_training_time</td><td>4486.94507</td></tr><tr><td>train_accuracy_top1</td><td>79.576</td></tr><tr><td>train_accuracy_top5</td><td>94.51</td></tr><tr><td>train_loss</td><td>1.11956</td></tr></table><br/></div></div>"
      ],
      "text/plain": [
       "<IPython.core.display.HTML object>"
      ]
     },
     "metadata": {},
     "output_type": "display_data"
    },
    {
     "data": {
      "text/html": [
       " View run <strong style=\"color:#cdcd00\">resnet50_cutmix,flip,crop_standard</strong> at: <a href='https://wandb.ai/sokjh1310-hanyang-university/PBL-2/runs/wewhk73f' target=\"_blank\">https://wandb.ai/sokjh1310-hanyang-university/PBL-2/runs/wewhk73f</a><br> View project at: <a href='https://wandb.ai/sokjh1310-hanyang-university/PBL-2' target=\"_blank\">https://wandb.ai/sokjh1310-hanyang-university/PBL-2</a><br>Synced 5 W&B file(s), 0 media file(s), 0 artifact file(s) and 1 other file(s)"
      ],
      "text/plain": [
       "<IPython.core.display.HTML object>"
      ]
     },
     "metadata": {},
     "output_type": "display_data"
    },
    {
     "data": {
      "text/html": [
       "Find logs at: <code>./wandb/run-20250415_150803-wewhk73f/logs</code>"
      ],
      "text/plain": [
       "<IPython.core.display.HTML object>"
      ]
     },
     "metadata": {},
     "output_type": "display_data"
    }
   ],
   "source": [
    "import torch\n",
    "import torch.nn as nn\n",
    "import torch.optim as optim\n",
    "from torch.utils.data import DataLoader\n",
    "import torchvision\n",
    "import torchvision.transforms as transforms\n",
    "import torchvision.transforms.v2 as transforms_v2  # CutMix를 위한 v2 transforms 추가\n",
    "import sys\n",
    "import os\n",
    "import time\n",
    "import random\n",
    "import numpy as np\n",
    "import wandb\n",
    "from tqdm import tqdm\n",
    "from tools.tool import EarlyStopping\n",
    "from models.resnet import resnet18, resnet34, resnet50\n",
    "\n",
    "wandb.login(key=\"ef091b9abcea3186341ddf8995d62bde62d7469e\")\n",
    "wandb.init(project=\"PBL-2\", name=\"resnet50_cutmix,flip,crop_standard\")  # 데이터 증강 기법 명시\n",
    "\n",
    "# WandB 설정\n",
    "config = {\n",
    "    \"model\": \"resnet50\",\n",
    "    \"batch_size\": 128,\n",
    "    \"num_epochs\": 100,\n",
    "    \"learning_rate\": 0.001,\n",
    "    \"optimizer\": \"Adam\",\n",
    "    \"seed\": 2025,\n",
    "    \"patience\": 10,  # early stopping patience\n",
    "    \"cutmix_alpha\": 1.0,  # CutMix 알파 파라미터 추가\n",
    "    \"cutmix_prob\": 0.5,   # CutMix 적용 확률 추가\n",
    "    \"crop_padding\": 4,    # RandomCrop 패딩 크기\n",
    "    \"crop_size\": 32       # RandomCrop 크기 (CIFAR-100 이미지 크기는 32x32)\n",
    "}\n",
    "wandb.config.update(config)\n",
    "\n",
    "# CIFAR-100 데이터셋 로드 - 기본 train/test 분할 사용\n",
    "transform_train = transforms.Compose([\n",
    "    transforms.RandomCrop(config[\"crop_size\"], padding=config[\"crop_padding\"]),  # 패딩 후 랜덤 크롭 추가\n",
    "    transforms.RandomHorizontalFlip(),  # 수평 뒤집기\n",
    "    transforms.ToTensor(),\n",
    "    transforms.Normalize((0.5071, 0.4867, 0.4408), (0.2675, 0.2565, 0.2761)),\n",
    "])\n",
    "\n",
    "transform_test = transforms.Compose([\n",
    "    transforms.ToTensor(),\n",
    "    transforms.Normalize((0.5071, 0.4867, 0.4408), (0.2675, 0.2565, 0.2761)),\n",
    "])\n",
    "\n",
    "trainset = torchvision.datasets.CIFAR100(\n",
    "    root='./data', train=True, download=True, transform=transform_train)\n",
    "\n",
    "testset = torchvision.datasets.CIFAR100(\n",
    "    root='./data', train=False, download=True, transform=transform_test)\n",
    "\n",
    "# DataLoader 생성\n",
    "trainloader = DataLoader(trainset, batch_size=config[\"batch_size\"], shuffle=True, num_workers=16)\n",
    "testloader = DataLoader(testset, batch_size=config[\"batch_size\"], shuffle=False, num_workers=16)\n",
    "\n",
    "print(f\"Train set size: {len(trainset)}\")\n",
    "print(f\"Test set size: {len(testset)}\")\n",
    "\n",
    "# CutMix 변환 정의\n",
    "cutmix = transforms_v2.CutMix(alpha=config[\"cutmix_alpha\"], num_classes=100)  # CIFAR-100은 100개 클래스\n",
    "\n",
    "def train(model, trainloader, criterion, optimizer, device, epoch):\n",
    "    \"\"\"\n",
    "    학습 함수 (CutMix 적용)\n",
    "    \"\"\"\n",
    "    model.train()   # 모델을 학습 모드로 설정\n",
    "    start_time = time.time()  # 시간 측정 시작\n",
    "    running_loss = 0.0\n",
    "    correct_top1 = 0\n",
    "    correct_top5 = 0\n",
    "    total = 0\n",
    "    \n",
    "    for i, (inputs, labels) in enumerate(trainloader):\n",
    "        inputs, labels = inputs.to(device), labels.to(device)\n",
    "        \n",
    "        # CutMix 확률적 적용\n",
    "        if random.random() < config[\"cutmix_prob\"]:\n",
    "            inputs, labels = cutmix(inputs, labels)\n",
    "            # 이 경우 labels은 원-핫 인코딩 형태로 변환됨\n",
    "            use_cutmix = True\n",
    "        else:\n",
    "            use_cutmix = False\n",
    "        \n",
    "        optimizer.zero_grad()\n",
    "        \n",
    "        outputs = model(inputs)\n",
    "        \n",
    "        # CutMix 적용 여부에 따라 손실 함수 선택\n",
    "        if use_cutmix:\n",
    "            # CutMix가 적용된 경우 (원-핫 인코딩된 레이블)\n",
    "            loss = torch.nn.functional.cross_entropy(outputs, labels)\n",
    "        else:\n",
    "            # 일반적인 경우 (정수 인덱스 레이블)\n",
    "            loss = criterion(outputs, labels)\n",
    "            \n",
    "        loss.backward()\n",
    "        optimizer.step()\n",
    "        \n",
    "        running_loss += loss.item()\n",
    "        \n",
    "        # 정확도 계산 - CutMix 적용 여부에 따라 다르게 처리\n",
    "        if use_cutmix:\n",
    "            # 원-핫 인코딩된 레이블에서 argmax를 사용해 가장 큰 값의 인덱스 추출\n",
    "            _, label_idx = labels.max(1)\n",
    "        else:\n",
    "            # 정수 인덱스 레이블 그대로 사용\n",
    "            label_idx = labels\n",
    "            \n",
    "        # top-1 정확도 계산\n",
    "        _, predicted = outputs.max(1)\n",
    "        total += inputs.size(0)\n",
    "        correct_top1 += predicted.eq(label_idx).sum().item()\n",
    "        \n",
    "        # top-5 정확도 계산\n",
    "        _, top5_idx = outputs.topk(5, 1, largest=True, sorted=True)\n",
    "        correct_top5 += sum([1 for i in range(len(label_idx)) if label_idx[i] in top5_idx[i]])\n",
    "        \n",
    "        if (i + 1) % 50 == 0:  # 50 배치마다 출력\n",
    "            print(f'Epoch [{epoch+1}], Batch [{i+1}/{len(trainloader)}], Loss: {loss.item():.4f}')\n",
    "    \n",
    "    epoch_loss = running_loss / len(trainloader)\n",
    "    accuracy_top1 = 100.0 * correct_top1 / total\n",
    "    accuracy_top5 = 100.0 * correct_top5 / total\n",
    "    \n",
    "    train_time = time.time() - start_time\n",
    "    \n",
    "    # 학습 세트에 대한 성능 출력\n",
    "    print(f'Train set: Epoch: {epoch+1}, Average loss:{epoch_loss:.4f}, LR: {optimizer.param_groups[0][\"lr\"]:.6f} '\n",
    "          f'Top-1 Accuracy: {accuracy_top1:.4f}%, Top-5 Accuracy: {accuracy_top5:.4f}%, Time consumed:{train_time:.2f}s')\n",
    "    \n",
    "    return epoch_loss, accuracy_top1, accuracy_top5\n",
    "\n",
    "def evaluate(model, dataloader, criterion, device, epoch, phase=\"test\"):\n",
    "    \"\"\"\n",
    "    평가 함수\n",
    "    \"\"\"\n",
    "    model.eval()  # 모델을 평가 모드로 설정\n",
    "    start_time = time.time()  # 시간 측정 시작\n",
    "    \n",
    "    eval_loss = 0.0\n",
    "    correct_top1 = 0\n",
    "    correct_top5 = 0\n",
    "    total = 0\n",
    "    \n",
    "    # 그래디언트 계산 비활성화\n",
    "    with torch.no_grad():\n",
    "        for inputs, labels in dataloader:\n",
    "            inputs, labels = inputs.to(device), labels.to(device)\n",
    "            \n",
    "            # 순전파\n",
    "            outputs = model(inputs)\n",
    "            \n",
    "            # 손실 계산\n",
    "            loss = criterion(outputs, labels)\n",
    "            eval_loss += loss.item()\n",
    "            \n",
    "            # top-1 정확도 계산\n",
    "            _, predicted = outputs.max(1)\n",
    "            total += labels.size(0)\n",
    "            correct_top1 += (predicted == labels).sum().item()\n",
    "            \n",
    "            # top-5 정확도 계산\n",
    "            _, top5_idx = outputs.topk(5, 1, largest=True, sorted=True)\n",
    "            correct_top5 += top5_idx.eq(labels.view(-1, 1).expand_as(top5_idx)).sum().item()\n",
    "    \n",
    "    # 평균 손실 및 정확도 계산\n",
    "    eval_loss = eval_loss / len(dataloader)\n",
    "    accuracy_top1 = 100.0 * correct_top1 / total\n",
    "    accuracy_top5 = 100.0 * correct_top5 / total\n",
    "    \n",
    "    # 평가 시간 계산\n",
    "    eval_time = time.time() - start_time\n",
    "    \n",
    "    # 테스트 세트에 대한 성능 출력\n",
    "    print(f'{phase.capitalize()} set: Epoch: {epoch+1}, Average loss:{eval_loss:.4f}, '\n",
    "          f'Top-1 Accuracy: {accuracy_top1:.4f}%, Top-5 Accuracy: {accuracy_top5:.4f}%, Time consumed:{eval_time:.2f}s')\n",
    "    print()\n",
    "    \n",
    "    return eval_loss, accuracy_top1, accuracy_top5\n",
    "\n",
    "# 메인 학습 루프\n",
    "def main_training_loop(model, trainloader, testloader, criterion, optimizer, device, num_epochs, patience):\n",
    "    \"\"\"\n",
    "    메인 학습 루프 (validation 없이)\n",
    "    \"\"\"\n",
    "    early_stopping = EarlyStopping(patience=patience, verbose=True, path='checkpoint.pt')\n",
    "    \n",
    "    best_test_acc_top1 = 0.0\n",
    "    best_test_acc_top5 = 0.0\n",
    "    \n",
    "    # tqdm을 사용한 진행 상황 표시\n",
    "    for epoch in tqdm(range(num_epochs)):\n",
    "        # 학습\n",
    "        train_loss, train_acc_top1, train_acc_top5 = train(model, trainloader, criterion, optimizer, device, epoch)\n",
    "        \n",
    "        # 테스트 데이터로 평가\n",
    "        test_loss, test_acc_top1, test_acc_top5 = evaluate(model, testloader, criterion, device, epoch, phase=\"test\")\n",
    "        \n",
    "        # WandB에 로깅\n",
    "        wandb.log({\n",
    "            \"epoch\": epoch + 1,\n",
    "            \"learning_rate\": optimizer.param_groups[0]['lr'],\n",
    "            \"train_loss\": train_loss,\n",
    "            \"train_accuracy_top1\": train_acc_top1,\n",
    "            \"train_accuracy_top5\": train_acc_top5,\n",
    "            \"test_loss\": test_loss,\n",
    "            \"test_accuracy_top1\": test_acc_top1,\n",
    "            \"test_accuracy_top5\": test_acc_top5\n",
    "        })\n",
    "            \n",
    "        # 최고 정확도 모델 저장 (top-1 기준)\n",
    "        if test_acc_top1 > best_test_acc_top1:\n",
    "            best_test_acc_top1 = test_acc_top1\n",
    "            best_test_acc_top5_at_best_top1 = test_acc_top5\n",
    "            print(f'New best top-1 accuracy: {best_test_acc_top1:.2f}%, top-5 accuracy: {best_test_acc_top5_at_best_top1:.2f}%')\n",
    "            # 모델 저장\n",
    "            model_path = f'best_model_{wandb.run.name}.pth'\n",
    "            torch.save(model.state_dict(), model_path)\n",
    "            \n",
    "            # WandB에 모델 아티팩트 저장\n",
    "            wandb.save(model_path)\n",
    "        \n",
    "        # top-5 accuracy 기록 업데이트\n",
    "        if test_acc_top5 > best_test_acc_top5:\n",
    "            best_test_acc_top5 = test_acc_top5\n",
    "            print(f'New best top-5 accuracy: {best_test_acc_top5:.2f}%')\n",
    "\n",
    "        # Early stopping 체크 (test loss 기준)\n",
    "        early_stopping(test_loss, model)\n",
    "        if early_stopping.early_stop:\n",
    "            print(\"Early stopping triggered. Training stopped.\")\n",
    "            break\n",
    "    \n",
    "    # 훈련 완료 후 최고 모델 로드\n",
    "    if early_stopping.early_stop:\n",
    "        print(\"Loading best model from early stopping checkpoint...\")\n",
    "        model.load_state_dict(torch.load('checkpoint.pt'))\n",
    "    else:\n",
    "        print(\"Loading best model based on test accuracy...\")\n",
    "        model_path = f'best_model_{wandb.run.name}.pth'\n",
    "        model.load_state_dict(torch.load(model_path))\n",
    "\n",
    "    # 최종 테스트 세트 평가\n",
    "    final_test_loss, final_test_acc_top1, final_test_acc_top5 = evaluate(model, testloader, criterion, device, num_epochs-1, phase=\"test\")\n",
    "    \n",
    "    print(f'Finish! Best test top-1 accuracy: {best_test_acc_top1:.2f}%, Best test top-5 accuracy: {best_test_acc_top5:.2f}%')\n",
    "    print(f'Final test top-1 accuracy: {final_test_acc_top1:.2f}%, Final test top-5 accuracy: {final_test_acc_top5:.2f}%')\n",
    "    \n",
    "    # WandB에 최종 결과 기록\n",
    "    wandb.run.summary[\"best_test_accuracy_top1\"] = best_test_acc_top1\n",
    "    wandb.run.summary[\"best_test_accuracy_top5\"] = best_test_acc_top5\n",
    "    wandb.run.summary[\"final_test_accuracy_top1\"] = final_test_acc_top1\n",
    "    wandb.run.summary[\"final_test_accuracy_top5\"] = final_test_acc_top5\n",
    "\n",
    "    # Early stopping 정보 저장\n",
    "    if early_stopping.early_stop:\n",
    "        wandb.run.summary[\"early_stopped\"] = True\n",
    "        wandb.run.summary[\"early_stopped_epoch\"] = epoch+1\n",
    "    else:\n",
    "        wandb.run.summary[\"early_stopped\"] = False\n",
    "\n",
    "\n",
    "# 디바이스 설정\n",
    "device = torch.device(\"cuda\" if torch.cuda.is_available() else \"cpu\")\n",
    "print(f\"Using device: {device}\")\n",
    "\n",
    "# 모델 초기화\n",
    "model = resnet50().to(device)  \n",
    "criterion = nn.CrossEntropyLoss()  # 손실 함수 정의\n",
    "optimizer = optim.Adam(model.parameters(), lr=config[\"learning_rate\"])  # 옵티마이저 정의\n",
    "\n",
    "# WandB에 모델 구조 기록\n",
    "wandb.watch(model, log=\"all\")\n",
    "\n",
    "# GPU 가속\n",
    "if torch.cuda.device_count() > 1:\n",
    "    print(f\"{torch.cuda.device_count()}개의 GPU를 사용합니다.\")\n",
    "    model = nn.DataParallel(model)\n",
    "\n",
    "# 훈련 시작 시간 기록\n",
    "start_time = time.time()\n",
    "\n",
    "# 메인 학습 루프 호출\n",
    "main_training_loop(\n",
    "    model=model,\n",
    "    trainloader=trainloader,\n",
    "    testloader=testloader,\n",
    "    criterion=criterion,\n",
    "    optimizer=optimizer,\n",
    "    device=device,\n",
    "    num_epochs=config[\"num_epochs\"],\n",
    "    patience=config[\"patience\"]\n",
    ")\n",
    "\n",
    "# 훈련 종료 시간 기록 및 출력\n",
    "end_time = time.time()\n",
    "total_time = end_time - start_time\n",
    "wandb.log({\"total_training_time\": total_time})\n",
    "\n",
    "print(f\"Total training time: {total_time:.2f} seconds\")\n",
    "\n",
    "# WandB 실행 종료\n",
    "wandb.finish()"
   ]
  },
  {
   "cell_type": "code",
   "execution_count": null,
   "id": "e57b9218-aa24-4297-bb92-473c215e6767",
   "metadata": {},
   "outputs": [],
   "source": []
  }
 ],
 "metadata": {
  "kernelspec": {
   "display_name": "Python 3 (ipykernel)",
   "language": "python",
   "name": "python3"
  },
  "language_info": {
   "codemirror_mode": {
    "name": "ipython",
    "version": 3
   },
   "file_extension": ".py",
   "mimetype": "text/x-python",
   "name": "python",
   "nbconvert_exporter": "python",
   "pygments_lexer": "ipython3",
   "version": "3.11.9"
  }
 },
 "nbformat": 4,
 "nbformat_minor": 5
}
