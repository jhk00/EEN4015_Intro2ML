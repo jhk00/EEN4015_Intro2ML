{
 "cells": [
  {
   "cell_type": "code",
   "execution_count": 2,
   "id": "516f9d5f-6361-4b03-98ee-e1ba4de86b92",
   "metadata": {},
   "outputs": [
    {
     "name": "stderr",
     "output_type": "stream",
     "text": [
      "\u001b[34m\u001b[1mwandb\u001b[0m: \u001b[33mWARNING\u001b[0m If you're specifying your api key in code, ensure this code is not shared publicly.\n",
      "\u001b[34m\u001b[1mwandb\u001b[0m: \u001b[33mWARNING\u001b[0m Consider setting the WANDB_API_KEY environment variable, or running `wandb login` from the command line.\n",
      "\u001b[34m\u001b[1mwandb\u001b[0m: Appending key for api.wandb.ai to your netrc file: /home/guswls/.netrc\n"
     ]
    },
    {
     "data": {
      "text/html": [
       "Tracking run with wandb version 0.19.9"
      ],
      "text/plain": [
       "<IPython.core.display.HTML object>"
      ]
     },
     "metadata": {},
     "output_type": "display_data"
    },
    {
     "data": {
      "text/html": [
       "Run data is saved locally in <code>/home/guswls/EEN4015_Intro2ML/pbl-2/wandb/run-20250428_052156-24tufm42</code>"
      ],
      "text/plain": [
       "<IPython.core.display.HTML object>"
      ]
     },
     "metadata": {},
     "output_type": "display_data"
    },
    {
     "data": {
      "text/html": [
       "Syncing run <strong><a href='https://wandb.ai/sokjh1310-hanyang-university/PBL-2/runs/24tufm42' target=\"_blank\">resnet18_cfc,lr=0.005,factor=0.5,SAM_SGD,PSKD</a></strong> to <a href='https://wandb.ai/sokjh1310-hanyang-university/PBL-2' target=\"_blank\">Weights & Biases</a> (<a href='https://wandb.me/developer-guide' target=\"_blank\">docs</a>)<br>"
      ],
      "text/plain": [
       "<IPython.core.display.HTML object>"
      ]
     },
     "metadata": {},
     "output_type": "display_data"
    },
    {
     "data": {
      "text/html": [
       " View project at <a href='https://wandb.ai/sokjh1310-hanyang-university/PBL-2' target=\"_blank\">https://wandb.ai/sokjh1310-hanyang-university/PBL-2</a>"
      ],
      "text/plain": [
       "<IPython.core.display.HTML object>"
      ]
     },
     "metadata": {},
     "output_type": "display_data"
    },
    {
     "data": {
      "text/html": [
       " View run at <a href='https://wandb.ai/sokjh1310-hanyang-university/PBL-2/runs/24tufm42' target=\"_blank\">https://wandb.ai/sokjh1310-hanyang-university/PBL-2/runs/24tufm42</a>"
      ],
      "text/plain": [
       "<IPython.core.display.HTML object>"
      ]
     },
     "metadata": {},
     "output_type": "display_data"
    },
    {
     "name": "stdout",
     "output_type": "stream",
     "text": [
      "Files already downloaded and verified\n",
      "Files already downloaded and verified\n",
      "Train set size: 50000\n",
      "Test set size: 10000\n",
      "Using device: cuda\n"
     ]
    },
    {
     "name": "stderr",
     "output_type": "stream",
     "text": [
      "/usr/local/lib/python3.11/dist-packages/torch/optim/lr_scheduler.py:28: UserWarning: The verbose parameter is deprecated. Please use get_last_lr() to access the learning rate.\n",
      "  warnings.warn(\"The verbose parameter is deprecated. Please use get_last_lr() \"\n"
     ]
    },
    {
     "name": "stdout",
     "output_type": "stream",
     "text": [
      "2개의 GPU를 사용합니다.\n"
     ]
    },
    {
     "name": "stderr",
     "output_type": "stream",
     "text": [
      "  0%|                                                                                                       | 0/300 [00:00<?, ?it/s]/usr/local/lib/python3.11/dist-packages/torch/optim/lr_scheduler.py:143: UserWarning: Detected call of `lr_scheduler.step()` before `optimizer.step()`. In PyTorch 1.1.0 and later, you should call them in the opposite order: `optimizer.step()` before `lr_scheduler.step()`.  Failure to do this will result in PyTorch skipping the first value of the learning rate schedule. See more details at https://pytorch.org/docs/stable/optim.html#how-to-adjust-learning-rate\n",
      "  warnings.warn(\"Detected call of `lr_scheduler.step()` before `optimizer.step()`. \"\n"
     ]
    },
    {
     "name": "stdout",
     "output_type": "stream",
     "text": [
      "Epoch [1], Batch [50/391], Loss: 4.9732, LR: 0.000064\n",
      "Epoch [1], Batch [100/391], Loss: 4.9096, LR: 0.000128\n",
      "Epoch [1], Batch [150/391], Loss: 4.8186, LR: 0.000192\n",
      "Epoch [1], Batch [200/391], Loss: 4.7684, LR: 0.000256\n",
      "Epoch [1], Batch [250/391], Loss: 4.7386, LR: 0.000320\n",
      "Epoch [1], Batch [300/391], Loss: 4.7178, LR: 0.000384\n",
      "Epoch [1], Batch [350/391], Loss: 4.6032, LR: 0.000448\n",
      "Train set: Epoch: 1, Average loss:4.7695, LR: 0.000500 Top-1 Accuracy: 0.6040%, Top-5 Accuracy: 3.5700%, Time consumed:90.17s\n",
      "Test set: Epoch: 1, Average loss:4.2991, Top-1 Accuracy: 6.2500%, Top-5 Accuracy: 19.9600%, Time consumed:9.84s\n",
      "\n",
      "새로운 최고 top-1 정확도: 6.25%, top-5 정확도: 19.96%\n",
      "새로운 최고 top-5 정확도: 19.96%\n",
      "Accuracy improved (-inf% --> 6.25%). Saving model ...\n"
     ]
    },
    {
     "name": "stderr",
     "output_type": "stream",
     "text": [
      "  0%|▎                                                                                           | 1/300 [01:40<8:19:28, 100.23s/it]"
     ]
    },
    {
     "name": "stdout",
     "output_type": "stream",
     "text": [
      "Epoch [2], Batch [50/391], Loss: 4.5279, LR: 0.000564\n",
      "Epoch [2], Batch [100/391], Loss: 4.4057, LR: 0.000628\n",
      "Epoch [2], Batch [150/391], Loss: 4.3585, LR: 0.000692\n",
      "Epoch [2], Batch [200/391], Loss: 4.3938, LR: 0.000756\n",
      "Epoch [2], Batch [250/391], Loss: 4.4378, LR: 0.000820\n",
      "Epoch [2], Batch [300/391], Loss: 4.1473, LR: 0.000884\n",
      "Epoch [2], Batch [350/391], Loss: 4.3206, LR: 0.000948\n",
      "Train set: Epoch: 2, Average loss:4.3915, LR: 0.001000 Top-1 Accuracy: 3.6400%, Top-5 Accuracy: 15.0160%, Time consumed:91.03s\n",
      "Test set: Epoch: 2, Average loss:3.8643, Top-1 Accuracy: 10.8100%, Top-5 Accuracy: 32.2900%, Time consumed:9.92s\n",
      "\n",
      "새로운 최고 top-1 정확도: 10.81%, top-5 정확도: 32.29%\n",
      "새로운 최고 top-5 정확도: 32.29%\n",
      "Accuracy improved (6.25% --> 10.81%). Saving model ...\n"
     ]
    },
    {
     "name": "stderr",
     "output_type": "stream",
     "text": [
      "  1%|▌                                                                                           | 2/300 [03:21<8:20:34, 100.79s/it]"
     ]
    },
    {
     "name": "stdout",
     "output_type": "stream",
     "text": [
      "Epoch [3], Batch [50/391], Loss: 4.0792, LR: 0.001064\n",
      "Epoch [3], Batch [100/391], Loss: 4.1785, LR: 0.001128\n",
      "Epoch [3], Batch [150/391], Loss: 4.3421, LR: 0.001192\n",
      "Epoch [3], Batch [200/391], Loss: 4.4253, LR: 0.001256\n",
      "Epoch [3], Batch [250/391], Loss: 4.3922, LR: 0.001320\n",
      "Epoch [3], Batch [300/391], Loss: 4.3951, LR: 0.001384\n",
      "Epoch [3], Batch [350/391], Loss: 4.1225, LR: 0.001448\n",
      "Train set: Epoch: 3, Average loss:4.1310, LR: 0.001500 Top-1 Accuracy: 7.4560%, Top-5 Accuracy: 24.8980%, Time consumed:94.06s\n",
      "Test set: Epoch: 3, Average loss:3.6318, Top-1 Accuracy: 14.0600%, Top-5 Accuracy: 37.7900%, Time consumed:9.84s\n",
      "\n",
      "새로운 최고 top-1 정확도: 14.06%, top-5 정확도: 37.79%\n",
      "새로운 최고 top-5 정확도: 37.79%\n",
      "Accuracy improved (10.81% --> 14.06%). Saving model ...\n"
     ]
    },
    {
     "name": "stderr",
     "output_type": "stream",
     "text": [
      "  1%|▉                                                                                           | 3/300 [05:05<8:26:27, 102.32s/it]"
     ]
    },
    {
     "name": "stdout",
     "output_type": "stream",
     "text": [
      "Epoch [4], Batch [50/391], Loss: 3.8114, LR: 0.001564\n",
      "Epoch [4], Batch [100/391], Loss: 4.0453, LR: 0.001628\n",
      "Epoch [4], Batch [150/391], Loss: 4.2864, LR: 0.001692\n",
      "Epoch [4], Batch [200/391], Loss: 3.9626, LR: 0.001756\n",
      "Epoch [4], Batch [250/391], Loss: 3.6952, LR: 0.001820\n",
      "Epoch [4], Batch [300/391], Loss: 3.9831, LR: 0.001884\n",
      "Epoch [4], Batch [350/391], Loss: 3.6013, LR: 0.001948\n",
      "Train set: Epoch: 4, Average loss:3.9606, LR: 0.002000 Top-1 Accuracy: 10.3080%, Top-5 Accuracy: 30.8260%, Time consumed:95.01s\n",
      "Test set: Epoch: 4, Average loss:3.3625, Top-1 Accuracy: 19.0300%, Top-5 Accuracy: 46.3100%, Time consumed:9.79s\n",
      "\n",
      "새로운 최고 top-1 정확도: 19.03%, top-5 정확도: 46.31%\n",
      "새로운 최고 top-5 정확도: 46.31%\n",
      "Accuracy improved (14.06% --> 19.03%). Saving model ...\n"
     ]
    },
    {
     "name": "stderr",
     "output_type": "stream",
     "text": [
      "  1%|█▏                                                                                          | 4/300 [06:50<8:30:07, 103.40s/it]"
     ]
    },
    {
     "name": "stdout",
     "output_type": "stream",
     "text": [
      "Epoch [5], Batch [50/391], Loss: 3.7198, LR: 0.002064\n",
      "Epoch [5], Batch [100/391], Loss: 3.5496, LR: 0.002128\n",
      "Epoch [5], Batch [150/391], Loss: 3.5384, LR: 0.002192\n",
      "Epoch [5], Batch [200/391], Loss: 4.2356, LR: 0.002256\n",
      "Epoch [5], Batch [250/391], Loss: 3.9693, LR: 0.002320\n",
      "Epoch [5], Batch [300/391], Loss: 3.3968, LR: 0.002384\n",
      "Epoch [5], Batch [350/391], Loss: 3.3714, LR: 0.002448\n",
      "Train set: Epoch: 5, Average loss:3.7787, LR: 0.002500 Top-1 Accuracy: 13.3400%, Top-5 Accuracy: 36.9760%, Time consumed:98.24s\n",
      "Test set: Epoch: 5, Average loss:3.1157, Top-1 Accuracy: 23.8900%, Top-5 Accuracy: 53.1100%, Time consumed:10.58s\n",
      "\n",
      "새로운 최고 top-1 정확도: 23.89%, top-5 정확도: 53.11%\n",
      "새로운 최고 top-5 정확도: 53.11%\n",
      "Accuracy improved (19.03% --> 23.89%). Saving model ...\n"
     ]
    },
    {
     "name": "stderr",
     "output_type": "stream",
     "text": [
      "  2%|█▌                                                                                          | 5/300 [08:39<8:38:27, 105.45s/it]"
     ]
    },
    {
     "name": "stdout",
     "output_type": "stream",
     "text": [
      "Epoch [6], Batch [50/391], Loss: 3.3444, LR: 0.002564\n",
      "Epoch [6], Batch [100/391], Loss: 4.4375, LR: 0.002628\n",
      "Epoch [6], Batch [150/391], Loss: 3.7995, LR: 0.002692\n",
      "Epoch [6], Batch [200/391], Loss: 3.3022, LR: 0.002756\n",
      "Epoch [6], Batch [250/391], Loss: 3.0831, LR: 0.002820\n",
      "Epoch [6], Batch [300/391], Loss: 3.9863, LR: 0.002884\n",
      "Epoch [6], Batch [350/391], Loss: 3.0163, LR: 0.002948\n",
      "Train set: Epoch: 6, Average loss:3.5969, LR: 0.003000 Top-1 Accuracy: 17.1120%, Top-5 Accuracy: 42.8860%, Time consumed:99.75s\n",
      "Test set: Epoch: 6, Average loss:2.8822, Top-1 Accuracy: 27.5100%, Top-5 Accuracy: 59.3600%, Time consumed:10.10s\n",
      "\n",
      "새로운 최고 top-1 정확도: 27.51%, top-5 정확도: 59.36%\n",
      "새로운 최고 top-5 정확도: 59.36%\n",
      "Accuracy improved (23.89% --> 27.51%). Saving model ...\n"
     ]
    },
    {
     "name": "stderr",
     "output_type": "stream",
     "text": [
      "  2%|█▊                                                                                          | 6/300 [10:29<8:44:27, 107.03s/it]"
     ]
    },
    {
     "name": "stdout",
     "output_type": "stream",
     "text": [
      "Epoch [7], Batch [50/391], Loss: 2.9926, LR: 0.003064\n",
      "Epoch [7], Batch [100/391], Loss: 4.0514, LR: 0.003128\n",
      "Epoch [7], Batch [150/391], Loss: 4.1094, LR: 0.003192\n",
      "Epoch [7], Batch [200/391], Loss: 2.8666, LR: 0.003256\n",
      "Epoch [7], Batch [250/391], Loss: 2.9044, LR: 0.003320\n",
      "Epoch [7], Batch [300/391], Loss: 2.8718, LR: 0.003384\n",
      "Epoch [7], Batch [350/391], Loss: 3.4970, LR: 0.003448\n",
      "Train set: Epoch: 7, Average loss:3.3792, LR: 0.003500 Top-1 Accuracy: 21.0480%, Top-5 Accuracy: 48.9500%, Time consumed:91.52s\n",
      "Test set: Epoch: 7, Average loss:2.6941, Top-1 Accuracy: 30.9600%, Top-5 Accuracy: 63.0800%, Time consumed:11.14s\n",
      "\n",
      "새로운 최고 top-1 정확도: 30.96%, top-5 정확도: 63.08%\n",
      "새로운 최고 top-5 정확도: 63.08%\n",
      "Accuracy improved (27.51% --> 30.96%). Saving model ...\n"
     ]
    },
    {
     "name": "stderr",
     "output_type": "stream",
     "text": [
      "  2%|██▏                                                                                         | 7/300 [12:12<8:36:04, 105.68s/it]"
     ]
    },
    {
     "name": "stdout",
     "output_type": "stream",
     "text": [
      "Epoch [8], Batch [50/391], Loss: 3.0321, LR: 0.003564\n",
      "Epoch [8], Batch [100/391], Loss: 3.4205, LR: 0.003628\n",
      "Epoch [8], Batch [150/391], Loss: 3.6028, LR: 0.003692\n",
      "Epoch [8], Batch [200/391], Loss: 3.7201, LR: 0.003756\n",
      "Epoch [8], Batch [250/391], Loss: 3.8437, LR: 0.003820\n",
      "Epoch [8], Batch [300/391], Loss: 2.7368, LR: 0.003884\n",
      "Epoch [8], Batch [350/391], Loss: 3.9526, LR: 0.003948\n",
      "Train set: Epoch: 8, Average loss:3.2319, LR: 0.004000 Top-1 Accuracy: 24.5780%, Top-5 Accuracy: 53.9800%, Time consumed:90.46s\n",
      "Test set: Epoch: 8, Average loss:2.3894, Top-1 Accuracy: 37.8600%, Top-5 Accuracy: 70.0000%, Time consumed:9.95s\n",
      "\n",
      "새로운 최고 top-1 정확도: 37.86%, top-5 정확도: 70.00%\n",
      "새로운 최고 top-5 정확도: 70.00%\n",
      "Accuracy improved (30.96% --> 37.86%). Saving model ...\n"
     ]
    },
    {
     "name": "stderr",
     "output_type": "stream",
     "text": [
      "  3%|██▍                                                                                         | 8/300 [13:53<8:26:31, 104.08s/it]"
     ]
    },
    {
     "name": "stdout",
     "output_type": "stream",
     "text": [
      "Epoch [9], Batch [50/391], Loss: 2.6943, LR: 0.004064\n",
      "Epoch [9], Batch [100/391], Loss: 2.6861, LR: 0.004128\n",
      "Epoch [9], Batch [150/391], Loss: 2.7790, LR: 0.004192\n",
      "Epoch [9], Batch [200/391], Loss: 3.7634, LR: 0.004256\n",
      "Epoch [9], Batch [250/391], Loss: 2.5081, LR: 0.004320\n",
      "Epoch [9], Batch [300/391], Loss: 2.4775, LR: 0.004384\n",
      "Epoch [9], Batch [350/391], Loss: 2.7157, LR: 0.004448\n",
      "Train set: Epoch: 9, Average loss:3.0385, LR: 0.004500 Top-1 Accuracy: 28.7160%, Top-5 Accuracy: 58.8100%, Time consumed:91.25s\n",
      "Test set: Epoch: 9, Average loss:2.1976, Top-1 Accuracy: 41.6500%, Top-5 Accuracy: 74.1600%, Time consumed:9.82s\n",
      "\n",
      "새로운 최고 top-1 정확도: 41.65%, top-5 정확도: 74.16%\n",
      "새로운 최고 top-5 정확도: 74.16%\n",
      "Accuracy improved (37.86% --> 41.65%). Saving model ...\n"
     ]
    },
    {
     "name": "stderr",
     "output_type": "stream",
     "text": [
      "  3%|██▊                                                                                         | 9/300 [15:34<8:20:35, 103.21s/it]"
     ]
    },
    {
     "name": "stdout",
     "output_type": "stream",
     "text": [
      "Epoch [10], Batch [50/391], Loss: 2.4351, LR: 0.004564\n",
      "Epoch [10], Batch [100/391], Loss: 3.3036, LR: 0.004628\n",
      "Epoch [10], Batch [150/391], Loss: 3.7438, LR: 0.004692\n",
      "Epoch [10], Batch [200/391], Loss: 3.1072, LR: 0.004756\n",
      "Epoch [10], Batch [250/391], Loss: 2.5074, LR: 0.004820\n",
      "Epoch [10], Batch [300/391], Loss: 3.6719, LR: 0.004884\n",
      "Epoch [10], Batch [350/391], Loss: 2.3149, LR: 0.004948\n",
      "Train set: Epoch: 10, Average loss:3.0364, LR: 0.005000 Top-1 Accuracy: 29.4840%, Top-5 Accuracy: 59.5780%, Time consumed:90.81s\n",
      "Test set: Epoch: 10, Average loss:2.0735, Top-1 Accuracy: 45.4500%, Top-5 Accuracy: 76.4000%, Time consumed:9.83s\n",
      "\n",
      "새로운 최고 top-1 정확도: 45.45%, top-5 정확도: 76.40%\n",
      "새로운 최고 top-5 정확도: 76.40%\n",
      "Accuracy improved (41.65% --> 45.45%). Saving model ...\n"
     ]
    },
    {
     "name": "stderr",
     "output_type": "stream",
     "text": [
      "  3%|███                                                                                        | 10/300 [17:15<8:15:25, 102.50s/it]"
     ]
    },
    {
     "name": "stdout",
     "output_type": "stream",
     "text": [
      "Epoch [11], Batch [50/391], Loss: 2.4716, LR: 0.005000\n",
      "Epoch [11], Batch [100/391], Loss: 2.1357, LR: 0.005000\n",
      "Epoch [11], Batch [150/391], Loss: 2.3024, LR: 0.005000\n",
      "Epoch [11], Batch [200/391], Loss: 2.3214, LR: 0.005000\n",
      "Epoch [11], Batch [250/391], Loss: 2.4612, LR: 0.005000\n",
      "Epoch [11], Batch [300/391], Loss: 2.2858, LR: 0.005000\n",
      "Epoch [11], Batch [350/391], Loss: 2.0669, LR: 0.005000\n",
      "Train set: Epoch: 11, Average loss:2.8274, LR: 0.005000 Top-1 Accuracy: 34.3600%, Top-5 Accuracy: 64.7940%, Time consumed:90.66s\n",
      "Test set: Epoch: 11, Average loss:1.9058, Top-1 Accuracy: 48.6900%, Top-5 Accuracy: 78.9300%, Time consumed:9.79s\n",
      "\n",
      "새로운 최고 top-1 정확도: 48.69%, top-5 정확도: 78.93%\n",
      "새로운 최고 top-5 정확도: 78.93%\n",
      "Accuracy improved (45.45% --> 48.69%). Saving model ...\n"
     ]
    },
    {
     "name": "stderr",
     "output_type": "stream",
     "text": [
      "  4%|███▎                                                                                       | 11/300 [18:56<8:11:03, 101.95s/it]"
     ]
    },
    {
     "name": "stdout",
     "output_type": "stream",
     "text": [
      "Epoch [12], Batch [50/391], Loss: 2.9009, LR: 0.005000\n",
      "Epoch [12], Batch [100/391], Loss: 3.8773, LR: 0.005000\n",
      "Epoch [12], Batch [150/391], Loss: 2.2622, LR: 0.005000\n",
      "Epoch [12], Batch [200/391], Loss: 2.3592, LR: 0.005000\n",
      "Epoch [12], Batch [250/391], Loss: 2.3454, LR: 0.005000\n",
      "Epoch [12], Batch [300/391], Loss: 2.9598, LR: 0.005000\n",
      "Epoch [12], Batch [350/391], Loss: 3.7301, LR: 0.005000\n",
      "Train set: Epoch: 12, Average loss:2.7885, LR: 0.005000 Top-1 Accuracy: 35.8960%, Top-5 Accuracy: 65.8100%, Time consumed:90.63s\n",
      "Test set: Epoch: 12, Average loss:1.8192, Top-1 Accuracy: 50.6300%, Top-5 Accuracy: 80.9800%, Time consumed:9.75s\n",
      "\n",
      "새로운 최고 top-1 정확도: 50.63%, top-5 정확도: 80.98%\n",
      "새로운 최고 top-5 정확도: 80.98%\n",
      "Accuracy improved (48.69% --> 50.63%). Saving model ...\n"
     ]
    },
    {
     "name": "stderr",
     "output_type": "stream",
     "text": [
      "  4%|███▋                                                                                       | 12/300 [20:36<8:07:25, 101.55s/it]"
     ]
    },
    {
     "name": "stdout",
     "output_type": "stream",
     "text": [
      "Epoch [13], Batch [50/391], Loss: 1.8094, LR: 0.005000\n",
      "Epoch [13], Batch [100/391], Loss: 2.2016, LR: 0.005000\n",
      "Epoch [13], Batch [150/391], Loss: 2.0627, LR: 0.005000\n",
      "Epoch [13], Batch [200/391], Loss: 1.9166, LR: 0.005000\n",
      "Epoch [13], Batch [250/391], Loss: 1.8641, LR: 0.005000\n",
      "Epoch [13], Batch [300/391], Loss: 2.1169, LR: 0.005000\n",
      "Epoch [13], Batch [350/391], Loss: 2.1987, LR: 0.005000\n",
      "Train set: Epoch: 13, Average loss:2.6104, LR: 0.005000 Top-1 Accuracy: 38.5560%, Top-5 Accuracy: 68.6940%, Time consumed:93.58s\n",
      "Test set: Epoch: 13, Average loss:1.7395, Top-1 Accuracy: 52.5900%, Top-5 Accuracy: 82.1100%, Time consumed:9.74s\n",
      "\n",
      "새로운 최고 top-1 정확도: 52.59%, top-5 정확도: 82.11%\n",
      "새로운 최고 top-5 정확도: 82.11%\n",
      "Accuracy improved (50.63% --> 52.59%). Saving model ...\n"
     ]
    },
    {
     "name": "stderr",
     "output_type": "stream",
     "text": [
      "  4%|███▉                                                                                       | 13/300 [22:20<8:08:38, 102.16s/it]"
     ]
    },
    {
     "name": "stdout",
     "output_type": "stream",
     "text": [
      "Epoch [14], Batch [50/391], Loss: 3.5123, LR: 0.005000\n",
      "Epoch [14], Batch [100/391], Loss: 1.9120, LR: 0.005000\n",
      "Epoch [14], Batch [150/391], Loss: 3.4605, LR: 0.005000\n",
      "Epoch [14], Batch [200/391], Loss: 1.8357, LR: 0.005000\n",
      "Epoch [14], Batch [250/391], Loss: 3.1437, LR: 0.005000\n",
      "Epoch [14], Batch [300/391], Loss: 3.2711, LR: 0.005000\n",
      "Epoch [14], Batch [350/391], Loss: 1.7658, LR: 0.005000\n",
      "Train set: Epoch: 14, Average loss:2.5546, LR: 0.005000 Top-1 Accuracy: 41.0760%, Top-5 Accuracy: 70.9820%, Time consumed:90.51s\n",
      "Test set: Epoch: 14, Average loss:1.6520, Top-1 Accuracy: 54.9700%, Top-5 Accuracy: 83.3100%, Time consumed:10.19s\n",
      "\n",
      "새로운 최고 top-1 정확도: 54.97%, top-5 정확도: 83.31%\n",
      "새로운 최고 top-5 정확도: 83.31%\n",
      "Accuracy improved (52.59% --> 54.97%). Saving model ...\n"
     ]
    },
    {
     "name": "stderr",
     "output_type": "stream",
     "text": [
      "  5%|████▏                                                                                      | 14/300 [24:01<8:05:12, 101.79s/it]"
     ]
    },
    {
     "name": "stdout",
     "output_type": "stream",
     "text": [
      "Epoch [15], Batch [50/391], Loss: 1.6628, LR: 0.005000\n",
      "Epoch [15], Batch [100/391], Loss: 1.8655, LR: 0.005000\n",
      "Epoch [15], Batch [150/391], Loss: 3.8524, LR: 0.005000\n",
      "Epoch [15], Batch [200/391], Loss: 1.6760, LR: 0.005000\n",
      "Epoch [15], Batch [250/391], Loss: 1.7980, LR: 0.005000\n",
      "Epoch [15], Batch [300/391], Loss: 2.6826, LR: 0.005000\n",
      "Epoch [15], Batch [350/391], Loss: 1.6335, LR: 0.005000\n",
      "Train set: Epoch: 15, Average loss:2.4410, LR: 0.005000 Top-1 Accuracy: 43.6600%, Top-5 Accuracy: 73.1760%, Time consumed:90.92s\n",
      "Test set: Epoch: 15, Average loss:1.5463, Top-1 Accuracy: 57.5200%, Top-5 Accuracy: 84.8500%, Time consumed:9.86s\n",
      "\n",
      "새로운 최고 top-1 정확도: 57.52%, top-5 정확도: 84.85%\n",
      "새로운 최고 top-5 정확도: 84.85%\n",
      "Accuracy improved (54.97% --> 57.52%). Saving model ...\n"
     ]
    },
    {
     "name": "stderr",
     "output_type": "stream",
     "text": [
      "  5%|████▌                                                                                      | 15/300 [25:42<8:02:25, 101.56s/it]"
     ]
    },
    {
     "name": "stdout",
     "output_type": "stream",
     "text": [
      "Epoch [16], Batch [50/391], Loss: 3.6402, LR: 0.005000\n",
      "Epoch [16], Batch [100/391], Loss: 3.6492, LR: 0.005000\n",
      "Epoch [16], Batch [150/391], Loss: 1.5948, LR: 0.005000\n",
      "Epoch [16], Batch [200/391], Loss: 3.3127, LR: 0.005000\n",
      "Epoch [16], Batch [250/391], Loss: 3.5580, LR: 0.005000\n",
      "Epoch [16], Batch [300/391], Loss: 1.7533, LR: 0.005000\n",
      "Epoch [16], Batch [350/391], Loss: 1.7419, LR: 0.005000\n",
      "Train set: Epoch: 16, Average loss:2.3662, LR: 0.005000 Top-1 Accuracy: 45.3740%, Top-5 Accuracy: 74.8120%, Time consumed:89.16s\n",
      "Test set: Epoch: 16, Average loss:1.5168, Top-1 Accuracy: 58.6300%, Top-5 Accuracy: 85.4400%, Time consumed:9.70s\n",
      "\n",
      "새로운 최고 top-1 정확도: 58.63%, top-5 정확도: 85.44%\n",
      "새로운 최고 top-5 정확도: 85.44%\n",
      "Accuracy improved (57.52% --> 58.63%). Saving model ...\n"
     ]
    },
    {
     "name": "stderr",
     "output_type": "stream",
     "text": [
      "  5%|████▊                                                                                      | 16/300 [27:21<7:57:13, 100.82s/it]"
     ]
    },
    {
     "name": "stdout",
     "output_type": "stream",
     "text": [
      "Epoch [17], Batch [50/391], Loss: 3.6055, LR: 0.005000\n",
      "Epoch [17], Batch [100/391], Loss: 1.8238, LR: 0.005000\n",
      "Epoch [17], Batch [150/391], Loss: 2.6977, LR: 0.005000\n",
      "Epoch [17], Batch [200/391], Loss: 2.1473, LR: 0.005000\n",
      "Epoch [17], Batch [250/391], Loss: 3.2212, LR: 0.005000\n",
      "Epoch [17], Batch [300/391], Loss: 3.5358, LR: 0.005000\n",
      "Epoch [17], Batch [350/391], Loss: 1.6744, LR: 0.005000\n",
      "Train set: Epoch: 17, Average loss:2.3261, LR: 0.005000 Top-1 Accuracy: 46.4820%, Top-5 Accuracy: 75.7220%, Time consumed:95.41s\n",
      "Test set: Epoch: 17, Average loss:1.4425, Top-1 Accuracy: 59.8200%, Top-5 Accuracy: 86.8000%, Time consumed:9.88s\n",
      "\n",
      "새로운 최고 top-1 정확도: 59.82%, top-5 정확도: 86.80%\n",
      "새로운 최고 top-5 정확도: 86.80%\n",
      "Accuracy improved (58.63% --> 59.82%). Saving model ...\n"
     ]
    },
    {
     "name": "stderr",
     "output_type": "stream",
     "text": [
      "  6%|█████▏                                                                                     | 17/300 [29:07<8:02:14, 102.24s/it]"
     ]
    },
    {
     "name": "stdout",
     "output_type": "stream",
     "text": [
      "Epoch [18], Batch [50/391], Loss: 1.6645, LR: 0.005000\n",
      "Epoch [18], Batch [100/391], Loss: 1.5558, LR: 0.005000\n",
      "Epoch [18], Batch [150/391], Loss: 3.4983, LR: 0.005000\n",
      "Epoch [18], Batch [200/391], Loss: 1.5626, LR: 0.005000\n",
      "Epoch [18], Batch [250/391], Loss: 2.8552, LR: 0.005000\n",
      "Epoch [18], Batch [300/391], Loss: 3.2791, LR: 0.005000\n",
      "Epoch [18], Batch [350/391], Loss: 3.4837, LR: 0.005000\n",
      "Train set: Epoch: 18, Average loss:2.3286, LR: 0.005000 Top-1 Accuracy: 46.7600%, Top-5 Accuracy: 75.2440%, Time consumed:89.57s\n",
      "Test set: Epoch: 18, Average loss:1.4274, Top-1 Accuracy: 60.3000%, Top-5 Accuracy: 87.0200%, Time consumed:9.57s\n",
      "\n",
      "새로운 최고 top-1 정확도: 60.30%, top-5 정확도: 87.02%\n",
      "새로운 최고 top-5 정확도: 87.02%\n",
      "Accuracy improved (59.82% --> 60.30%). Saving model ...\n"
     ]
    },
    {
     "name": "stderr",
     "output_type": "stream",
     "text": [
      "  6%|█████▍                                                                                     | 18/300 [30:46<7:56:29, 101.38s/it]"
     ]
    },
    {
     "name": "stdout",
     "output_type": "stream",
     "text": [
      "Epoch [19], Batch [50/391], Loss: 1.4915, LR: 0.005000\n",
      "Epoch [19], Batch [100/391], Loss: 2.7134, LR: 0.005000\n",
      "Epoch [19], Batch [150/391], Loss: 2.8871, LR: 0.005000\n",
      "Epoch [19], Batch [200/391], Loss: 1.2730, LR: 0.005000\n",
      "Epoch [19], Batch [250/391], Loss: 2.2721, LR: 0.005000\n",
      "Epoch [19], Batch [300/391], Loss: 3.2194, LR: 0.005000\n",
      "Epoch [19], Batch [350/391], Loss: 1.5917, LR: 0.005000\n",
      "Train set: Epoch: 19, Average loss:2.2189, LR: 0.005000 Top-1 Accuracy: 49.5340%, Top-5 Accuracy: 78.1260%, Time consumed:94.22s\n",
      "Test set: Epoch: 19, Average loss:1.4018, Top-1 Accuracy: 61.5900%, Top-5 Accuracy: 87.2800%, Time consumed:9.72s\n",
      "\n",
      "새로운 최고 top-1 정확도: 61.59%, top-5 정확도: 87.28%\n",
      "새로운 최고 top-5 정확도: 87.28%\n",
      "Accuracy improved (60.30% --> 61.59%). Saving model ...\n"
     ]
    },
    {
     "name": "stderr",
     "output_type": "stream",
     "text": [
      "  6%|█████▊                                                                                     | 19/300 [32:30<7:58:50, 102.25s/it]"
     ]
    },
    {
     "name": "stdout",
     "output_type": "stream",
     "text": [
      "Epoch [20], Batch [50/391], Loss: 1.3804, LR: 0.005000\n",
      "Epoch [20], Batch [100/391], Loss: 3.7189, LR: 0.005000\n",
      "Epoch [20], Batch [150/391], Loss: 2.5071, LR: 0.005000\n",
      "Epoch [20], Batch [200/391], Loss: 3.3978, LR: 0.005000\n",
      "Epoch [20], Batch [250/391], Loss: 1.3433, LR: 0.005000\n",
      "Epoch [20], Batch [300/391], Loss: 2.3419, LR: 0.005000\n",
      "Epoch [20], Batch [350/391], Loss: 2.6478, LR: 0.005000\n",
      "Train set: Epoch: 20, Average loss:2.2245, LR: 0.005000 Top-1 Accuracy: 50.0780%, Top-5 Accuracy: 78.4640%, Time consumed:88.91s\n"
     ]
    },
    {
     "name": "stderr",
     "output_type": "stream",
     "text": [
      "  7%|██████                                                                                     | 20/300 [34:09<7:52:26, 101.24s/it]"
     ]
    },
    {
     "name": "stdout",
     "output_type": "stream",
     "text": [
      "Test set: Epoch: 20, Average loss:1.4332, Top-1 Accuracy: 60.7400%, Top-5 Accuracy: 86.6200%, Time consumed:9.96s\n",
      "\n",
      "EarlyStopping 카운터: 1 / 30\n",
      "Epoch [21], Batch [50/391], Loss: 1.3213, LR: 0.005000\n",
      "Epoch [21], Batch [100/391], Loss: 1.3450, LR: 0.005000\n",
      "Epoch [21], Batch [150/391], Loss: 1.3688, LR: 0.005000\n",
      "Epoch [21], Batch [200/391], Loss: 3.4119, LR: 0.005000\n",
      "Epoch [21], Batch [250/391], Loss: 1.2165, LR: 0.005000\n",
      "Epoch [21], Batch [300/391], Loss: 3.5421, LR: 0.005000\n",
      "Epoch [21], Batch [350/391], Loss: 1.5751, LR: 0.005000\n",
      "Train set: Epoch: 21, Average loss:2.1649, LR: 0.005000 Top-1 Accuracy: 50.8240%, Top-5 Accuracy: 78.7600%, Time consumed:90.49s\n",
      "Test set: Epoch: 21, Average loss:1.3560, Top-1 Accuracy: 62.2400%, Top-5 Accuracy: 88.1200%, Time consumed:9.69s\n",
      "\n",
      "새로운 최고 top-1 정확도: 62.24%, top-5 정확도: 88.12%\n",
      "새로운 최고 top-5 정확도: 88.12%\n",
      "Accuracy improved (61.59% --> 62.24%). Saving model ...\n"
     ]
    },
    {
     "name": "stderr",
     "output_type": "stream",
     "text": [
      "  7%|██████▎                                                                                    | 21/300 [35:49<7:49:35, 100.99s/it]"
     ]
    },
    {
     "name": "stdout",
     "output_type": "stream",
     "text": [
      "Epoch [22], Batch [50/391], Loss: 1.3518, LR: 0.005000\n",
      "Epoch [22], Batch [100/391], Loss: 1.6357, LR: 0.005000\n",
      "Epoch [22], Batch [150/391], Loss: 1.3852, LR: 0.005000\n",
      "Epoch [22], Batch [200/391], Loss: 2.6832, LR: 0.005000\n",
      "Epoch [22], Batch [250/391], Loss: 3.5016, LR: 0.005000\n",
      "Epoch [22], Batch [300/391], Loss: 1.2707, LR: 0.005000\n",
      "Epoch [22], Batch [350/391], Loss: 1.4165, LR: 0.005000\n",
      "Train set: Epoch: 22, Average loss:2.1677, LR: 0.005000 Top-1 Accuracy: 51.2020%, Top-5 Accuracy: 79.1220%, Time consumed:89.27s\n",
      "Test set: Epoch: 22, Average loss:1.2986, Top-1 Accuracy: 63.8700%, Top-5 Accuracy: 88.9500%, Time consumed:9.68s\n",
      "\n",
      "새로운 최고 top-1 정확도: 63.87%, top-5 정확도: 88.95%\n",
      "새로운 최고 top-5 정확도: 88.95%\n",
      "Accuracy improved (62.24% --> 63.87%). Saving model ...\n"
     ]
    },
    {
     "name": "stderr",
     "output_type": "stream",
     "text": [
      "  7%|██████▋                                                                                    | 22/300 [37:29<7:45:26, 100.46s/it]"
     ]
    },
    {
     "name": "stdout",
     "output_type": "stream",
     "text": [
      "Epoch [23], Batch [50/391], Loss: 3.0101, LR: 0.005000\n",
      "Epoch [23], Batch [100/391], Loss: 1.3623, LR: 0.005000\n",
      "Epoch [23], Batch [150/391], Loss: 3.4831, LR: 0.005000\n",
      "Epoch [23], Batch [200/391], Loss: 2.1887, LR: 0.005000\n",
      "Epoch [23], Batch [250/391], Loss: 2.1569, LR: 0.005000\n",
      "Epoch [23], Batch [300/391], Loss: 1.3070, LR: 0.005000\n",
      "Epoch [23], Batch [350/391], Loss: 1.5682, LR: 0.005000\n",
      "Train set: Epoch: 23, Average loss:2.0993, LR: 0.005000 Top-1 Accuracy: 52.5940%, Top-5 Accuracy: 79.6580%, Time consumed:88.43s\n"
     ]
    },
    {
     "name": "stderr",
     "output_type": "stream",
     "text": [
      "  8%|███████                                                                                     | 23/300 [39:08<7:41:36, 99.99s/it]"
     ]
    },
    {
     "name": "stdout",
     "output_type": "stream",
     "text": [
      "Test set: Epoch: 23, Average loss:1.3566, Top-1 Accuracy: 62.9400%, Top-5 Accuracy: 87.8700%, Time consumed:10.46s\n",
      "\n",
      "EarlyStopping 카운터: 1 / 30\n",
      "Epoch [24], Batch [50/391], Loss: 3.2307, LR: 0.005000\n",
      "Epoch [24], Batch [100/391], Loss: 1.4392, LR: 0.005000\n",
      "Epoch [24], Batch [150/391], Loss: 1.3372, LR: 0.005000\n",
      "Epoch [24], Batch [200/391], Loss: 1.3143, LR: 0.005000\n",
      "Epoch [24], Batch [250/391], Loss: 1.0722, LR: 0.005000\n",
      "Epoch [24], Batch [300/391], Loss: 1.2841, LR: 0.005000\n",
      "Epoch [24], Batch [350/391], Loss: 1.2196, LR: 0.005000\n",
      "Train set: Epoch: 24, Average loss:2.0411, LR: 0.005000 Top-1 Accuracy: 54.6500%, Top-5 Accuracy: 81.6500%, Time consumed:88.73s\n"
     ]
    },
    {
     "name": "stderr",
     "output_type": "stream",
     "text": [
      "  8%|███████▎                                                                                    | 24/300 [40:47<7:38:46, 99.73s/it]"
     ]
    },
    {
     "name": "stdout",
     "output_type": "stream",
     "text": [
      "Test set: Epoch: 24, Average loss:1.3345, Top-1 Accuracy: 63.1200%, Top-5 Accuracy: 88.5700%, Time consumed:10.39s\n",
      "\n",
      "EarlyStopping 카운터: 2 / 30\n",
      "Epoch [25], Batch [50/391], Loss: 1.1477, LR: 0.005000\n",
      "Epoch [25], Batch [100/391], Loss: 1.1746, LR: 0.005000\n",
      "Epoch [25], Batch [150/391], Loss: 3.2898, LR: 0.005000\n",
      "Epoch [25], Batch [200/391], Loss: 1.1942, LR: 0.005000\n",
      "Epoch [25], Batch [250/391], Loss: 3.2334, LR: 0.005000\n",
      "Epoch [25], Batch [300/391], Loss: 2.7761, LR: 0.005000\n",
      "Epoch [25], Batch [350/391], Loss: 1.2146, LR: 0.005000\n",
      "Train set: Epoch: 25, Average loss:1.9957, LR: 0.005000 Top-1 Accuracy: 55.4220%, Top-5 Accuracy: 81.8980%, Time consumed:88.63s\n",
      "Test set: Epoch: 25, Average loss:1.2015, Top-1 Accuracy: 65.7500%, Top-5 Accuracy: 90.3200%, Time consumed:10.73s\n",
      "\n",
      "새로운 최고 top-1 정확도: 65.75%, top-5 정확도: 90.32%\n",
      "새로운 최고 top-5 정확도: 90.32%\n",
      "Accuracy improved (63.87% --> 65.75%). Saving model ...\n"
     ]
    },
    {
     "name": "stderr",
     "output_type": "stream",
     "text": [
      "  8%|███████▋                                                                                    | 25/300 [42:26<7:37:01, 99.71s/it]"
     ]
    },
    {
     "name": "stdout",
     "output_type": "stream",
     "text": [
      "Epoch [26], Batch [50/391], Loss: 3.2261, LR: 0.002500\n",
      "Epoch [26], Batch [100/391], Loss: 2.5954, LR: 0.002500\n",
      "Epoch [26], Batch [150/391], Loss: 1.1639, LR: 0.002500\n",
      "Epoch [26], Batch [200/391], Loss: 1.2031, LR: 0.002500\n",
      "Epoch [26], Batch [250/391], Loss: 3.2869, LR: 0.002500\n",
      "Epoch [26], Batch [300/391], Loss: 0.9375, LR: 0.002500\n",
      "Epoch [26], Batch [350/391], Loss: 1.1475, LR: 0.002500\n",
      "Train set: Epoch: 26, Average loss:1.9515, LR: 0.002500 Top-1 Accuracy: 57.5020%, Top-5 Accuracy: 83.2640%, Time consumed:88.59s\n",
      "Test set: Epoch: 26, Average loss:1.1582, Top-1 Accuracy: 67.5900%, Top-5 Accuracy: 90.8900%, Time consumed:9.52s\n",
      "\n",
      "새로운 최고 top-1 정확도: 67.59%, top-5 정확도: 90.89%\n",
      "새로운 최고 top-5 정확도: 90.89%\n",
      "Accuracy improved (65.75% --> 67.59%). Saving model ...\n"
     ]
    },
    {
     "name": "stderr",
     "output_type": "stream",
     "text": [
      "  9%|███████▉                                                                                    | 26/300 [44:05<7:33:32, 99.31s/it]"
     ]
    },
    {
     "name": "stdout",
     "output_type": "stream",
     "text": [
      "Epoch [27], Batch [50/391], Loss: 1.8439, LR: 0.002500\n",
      "Epoch [27], Batch [100/391], Loss: 3.4057, LR: 0.002500\n",
      "Epoch [27], Batch [150/391], Loss: 1.1350, LR: 0.002500\n",
      "Epoch [27], Batch [200/391], Loss: 2.9566, LR: 0.002500\n",
      "Epoch [27], Batch [250/391], Loss: 3.0022, LR: 0.002500\n",
      "Epoch [27], Batch [300/391], Loss: 0.9356, LR: 0.002500\n",
      "Epoch [27], Batch [350/391], Loss: 2.6067, LR: 0.002500\n",
      "Train set: Epoch: 27, Average loss:1.8642, LR: 0.002500 Top-1 Accuracy: 59.7300%, Top-5 Accuracy: 85.0220%, Time consumed:88.73s\n",
      "Test set: Epoch: 27, Average loss:1.1270, Top-1 Accuracy: 68.4700%, Top-5 Accuracy: 91.3900%, Time consumed:9.59s\n",
      "\n",
      "새로운 최고 top-1 정확도: 68.47%, top-5 정확도: 91.39%\n",
      "새로운 최고 top-5 정확도: 91.39%\n",
      "Accuracy improved (67.59% --> 68.47%). Saving model ...\n"
     ]
    },
    {
     "name": "stderr",
     "output_type": "stream",
     "text": [
      "  9%|████████▎                                                                                   | 27/300 [45:43<7:30:50, 99.09s/it]"
     ]
    },
    {
     "name": "stdout",
     "output_type": "stream",
     "text": [
      "Epoch [28], Batch [50/391], Loss: 0.9494, LR: 0.002500\n",
      "Epoch [28], Batch [100/391], Loss: 0.9781, LR: 0.002500\n",
      "Epoch [28], Batch [150/391], Loss: 0.9621, LR: 0.002500\n",
      "Epoch [28], Batch [200/391], Loss: 1.7856, LR: 0.002500\n",
      "Epoch [28], Batch [250/391], Loss: 1.9641, LR: 0.002500\n",
      "Epoch [28], Batch [300/391], Loss: 1.1622, LR: 0.002500\n",
      "Epoch [28], Batch [350/391], Loss: 1.1139, LR: 0.002500\n",
      "Train set: Epoch: 28, Average loss:1.8697, LR: 0.002500 Top-1 Accuracy: 59.5120%, Top-5 Accuracy: 84.4680%, Time consumed:88.66s\n",
      "Test set: Epoch: 28, Average loss:1.1123, Top-1 Accuracy: 69.0400%, Top-5 Accuracy: 91.5800%, Time consumed:9.52s\n",
      "\n",
      "새로운 최고 top-1 정확도: 69.04%, top-5 정확도: 91.58%\n",
      "새로운 최고 top-5 정확도: 91.58%\n",
      "Accuracy improved (68.47% --> 69.04%). Saving model ...\n"
     ]
    },
    {
     "name": "stderr",
     "output_type": "stream",
     "text": [
      "  9%|████████▌                                                                                   | 28/300 [47:22<7:28:17, 98.89s/it]"
     ]
    },
    {
     "name": "stdout",
     "output_type": "stream",
     "text": [
      "Epoch [29], Batch [50/391], Loss: 2.6225, LR: 0.002500\n",
      "Epoch [29], Batch [100/391], Loss: 1.2653, LR: 0.002500\n",
      "Epoch [29], Batch [150/391], Loss: 1.0401, LR: 0.002500\n",
      "Epoch [29], Batch [200/391], Loss: 1.1129, LR: 0.002500\n",
      "Epoch [29], Batch [250/391], Loss: 3.2532, LR: 0.002500\n",
      "Epoch [29], Batch [300/391], Loss: 1.0258, LR: 0.002500\n",
      "Epoch [29], Batch [350/391], Loss: 3.0327, LR: 0.002500\n",
      "Train set: Epoch: 29, Average loss:1.8359, LR: 0.002500 Top-1 Accuracy: 60.5320%, Top-5 Accuracy: 84.8920%, Time consumed:87.97s\n",
      "Test set: Epoch: 29, Average loss:1.0799, Top-1 Accuracy: 69.7000%, Top-5 Accuracy: 91.9600%, Time consumed:9.75s\n",
      "\n",
      "새로운 최고 top-1 정확도: 69.70%, top-5 정확도: 91.96%\n",
      "새로운 최고 top-5 정확도: 91.96%\n",
      "Accuracy improved (69.04% --> 69.70%). Saving model ...\n"
     ]
    },
    {
     "name": "stderr",
     "output_type": "stream",
     "text": [
      " 10%|████████▉                                                                                   | 29/300 [49:00<7:25:21, 98.60s/it]"
     ]
    },
    {
     "name": "stdout",
     "output_type": "stream",
     "text": [
      "Epoch [30], Batch [50/391], Loss: 0.8633, LR: 0.002500\n",
      "Epoch [30], Batch [100/391], Loss: 0.8876, LR: 0.002500\n",
      "Epoch [30], Batch [150/391], Loss: 1.0172, LR: 0.002500\n",
      "Epoch [30], Batch [200/391], Loss: 1.0413, LR: 0.002500\n",
      "Epoch [30], Batch [250/391], Loss: 3.3202, LR: 0.002500\n",
      "Epoch [30], Batch [300/391], Loss: 1.0628, LR: 0.002500\n",
      "Epoch [30], Batch [350/391], Loss: 3.3834, LR: 0.002500\n",
      "Train set: Epoch: 30, Average loss:1.9526, LR: 0.002500 Top-1 Accuracy: 58.6960%, Top-5 Accuracy: 83.9060%, Time consumed:88.43s\n"
     ]
    },
    {
     "name": "stderr",
     "output_type": "stream",
     "text": [
      " 10%|█████████▏                                                                                  | 30/300 [50:38<7:22:50, 98.41s/it]"
     ]
    },
    {
     "name": "stdout",
     "output_type": "stream",
     "text": [
      "Test set: Epoch: 30, Average loss:1.0961, Top-1 Accuracy: 69.7000%, Top-5 Accuracy: 91.6600%, Time consumed:9.52s\n",
      "\n",
      "EarlyStopping 카운터: 1 / 30\n",
      "Epoch [31], Batch [50/391], Loss: 0.9473, LR: 0.002500\n",
      "Epoch [31], Batch [100/391], Loss: 2.5758, LR: 0.002500\n",
      "Epoch [31], Batch [150/391], Loss: 1.0859, LR: 0.002500\n",
      "Epoch [31], Batch [200/391], Loss: 1.0897, LR: 0.002500\n",
      "Epoch [31], Batch [250/391], Loss: 0.9812, LR: 0.002500\n",
      "Epoch [31], Batch [300/391], Loss: 0.9769, LR: 0.002500\n",
      "Epoch [31], Batch [350/391], Loss: 0.9114, LR: 0.002500\n",
      "Train set: Epoch: 31, Average loss:1.8583, LR: 0.002500 Top-1 Accuracy: 60.5260%, Top-5 Accuracy: 85.1880%, Time consumed:88.64s\n"
     ]
    },
    {
     "name": "stderr",
     "output_type": "stream",
     "text": [
      " 10%|█████████▌                                                                                  | 31/300 [52:16<7:21:26, 98.46s/it]"
     ]
    },
    {
     "name": "stdout",
     "output_type": "stream",
     "text": [
      "Test set: Epoch: 31, Average loss:1.0950, Top-1 Accuracy: 69.5800%, Top-5 Accuracy: 91.7700%, Time consumed:9.94s\n",
      "\n",
      "EarlyStopping 카운터: 2 / 30\n",
      "Epoch [32], Batch [50/391], Loss: 0.8597, LR: 0.002500\n",
      "Epoch [32], Batch [100/391], Loss: 1.0352, LR: 0.002500\n",
      "Epoch [32], Batch [150/391], Loss: 3.2473, LR: 0.002500\n",
      "Epoch [32], Batch [200/391], Loss: 1.1226, LR: 0.002500\n",
      "Epoch [32], Batch [250/391], Loss: 2.4345, LR: 0.002500\n",
      "Epoch [32], Batch [300/391], Loss: 2.9882, LR: 0.002500\n",
      "Epoch [32], Batch [350/391], Loss: 3.1355, LR: 0.002500\n",
      "Train set: Epoch: 32, Average loss:1.8500, LR: 0.002500 Top-1 Accuracy: 60.4040%, Top-5 Accuracy: 84.6540%, Time consumed:91.58s\n"
     ]
    },
    {
     "name": "stderr",
     "output_type": "stream",
     "text": [
      " 11%|█████████▊                                                                                  | 32/300 [53:58<7:23:39, 99.33s/it]"
     ]
    },
    {
     "name": "stdout",
     "output_type": "stream",
     "text": [
      "Test set: Epoch: 32, Average loss:1.1136, Top-1 Accuracy: 69.6400%, Top-5 Accuracy: 91.6100%, Time consumed:9.77s\n",
      "\n",
      "EarlyStopping 카운터: 3 / 30\n",
      "Epoch [33], Batch [50/391], Loss: 2.9147, LR: 0.002500\n",
      "Epoch [33], Batch [100/391], Loss: 1.8512, LR: 0.002500\n",
      "Epoch [33], Batch [150/391], Loss: 3.3615, LR: 0.002500\n",
      "Epoch [33], Batch [200/391], Loss: 0.9579, LR: 0.002500\n",
      "Epoch [33], Batch [250/391], Loss: 3.0768, LR: 0.002500\n",
      "Epoch [33], Batch [300/391], Loss: 2.8928, LR: 0.002500\n",
      "Epoch [33], Batch [350/391], Loss: 0.8804, LR: 0.002500\n",
      "Train set: Epoch: 33, Average loss:1.7674, LR: 0.002500 Top-1 Accuracy: 61.7040%, Top-5 Accuracy: 85.6300%, Time consumed:87.99s\n"
     ]
    },
    {
     "name": "stderr",
     "output_type": "stream",
     "text": [
      " 11%|██████████                                                                                  | 33/300 [55:35<7:19:57, 98.87s/it]"
     ]
    },
    {
     "name": "stdout",
     "output_type": "stream",
     "text": [
      "Test set: Epoch: 33, Average loss:1.0875, Top-1 Accuracy: 69.6700%, Top-5 Accuracy: 91.6800%, Time consumed:9.80s\n",
      "\n",
      "EarlyStopping 카운터: 4 / 30\n",
      "Epoch [34], Batch [50/391], Loss: 2.9284, LR: 0.001250\n",
      "Epoch [34], Batch [100/391], Loss: 0.9947, LR: 0.001250\n",
      "Epoch [34], Batch [150/391], Loss: 0.8724, LR: 0.001250\n",
      "Epoch [34], Batch [200/391], Loss: 3.3363, LR: 0.001250\n",
      "Epoch [34], Batch [250/391], Loss: 2.5083, LR: 0.001250\n",
      "Epoch [34], Batch [300/391], Loss: 0.7833, LR: 0.001250\n",
      "Epoch [34], Batch [350/391], Loss: 2.8161, LR: 0.001250\n",
      "Train set: Epoch: 34, Average loss:1.7542, LR: 0.001250 Top-1 Accuracy: 62.9560%, Top-5 Accuracy: 86.5440%, Time consumed:88.18s\n",
      "Test set: Epoch: 34, Average loss:1.0556, Top-1 Accuracy: 70.7800%, Top-5 Accuracy: 92.2700%, Time consumed:9.53s\n",
      "\n",
      "새로운 최고 top-1 정확도: 70.78%, top-5 정확도: 92.27%\n",
      "새로운 최고 top-5 정확도: 92.27%\n",
      "Accuracy improved (69.70% --> 70.78%). Saving model ...\n"
     ]
    },
    {
     "name": "stderr",
     "output_type": "stream",
     "text": [
      " 11%|██████████▍                                                                                 | 34/300 [57:13<7:17:08, 98.60s/it]"
     ]
    },
    {
     "name": "stdout",
     "output_type": "stream",
     "text": [
      "Epoch [35], Batch [50/391], Loss: 2.8096, LR: 0.001250\n",
      "Epoch [35], Batch [100/391], Loss: 3.1121, LR: 0.001250\n",
      "Epoch [35], Batch [150/391], Loss: 0.9415, LR: 0.001250\n",
      "Epoch [35], Batch [200/391], Loss: 0.8400, LR: 0.001250\n",
      "Epoch [35], Batch [250/391], Loss: 0.9924, LR: 0.001250\n",
      "Epoch [35], Batch [300/391], Loss: 0.9252, LR: 0.001250\n",
      "Epoch [35], Batch [350/391], Loss: 0.9183, LR: 0.001250\n",
      "Train set: Epoch: 35, Average loss:1.7036, LR: 0.001250 Top-1 Accuracy: 64.0880%, Top-5 Accuracy: 87.0760%, Time consumed:93.06s\n",
      "Test set: Epoch: 35, Average loss:1.0258, Top-1 Accuracy: 71.2700%, Top-5 Accuracy: 92.4900%, Time consumed:9.93s\n",
      "\n",
      "새로운 최고 top-1 정확도: 71.27%, top-5 정확도: 92.49%\n",
      "새로운 최고 top-5 정확도: 92.49%\n",
      "Accuracy improved (70.78% --> 71.27%). Saving model ...\n"
     ]
    },
    {
     "name": "stderr",
     "output_type": "stream",
     "text": [
      " 12%|██████████▋                                                                                 | 35/300 [58:57<7:21:36, 99.99s/it]"
     ]
    },
    {
     "name": "stdout",
     "output_type": "stream",
     "text": [
      "Epoch [36], Batch [50/391], Loss: 2.7081, LR: 0.001250\n",
      "Epoch [36], Batch [100/391], Loss: 0.7558, LR: 0.001250\n",
      "Epoch [36], Batch [150/391], Loss: 1.1632, LR: 0.001250\n",
      "Epoch [36], Batch [200/391], Loss: 2.9370, LR: 0.001250\n",
      "Epoch [36], Batch [250/391], Loss: 2.7317, LR: 0.001250\n",
      "Epoch [36], Batch [300/391], Loss: 0.8535, LR: 0.001250\n",
      "Epoch [36], Batch [350/391], Loss: 2.2541, LR: 0.001250\n",
      "Train set: Epoch: 36, Average loss:1.7338, LR: 0.001250 Top-1 Accuracy: 64.0420%, Top-5 Accuracy: 87.0960%, Time consumed:89.75s\n"
     ]
    },
    {
     "name": "stderr",
     "output_type": "stream",
     "text": [
      " 12%|██████████▋                                                                              | 36/300 [1:00:37<7:20:05, 100.02s/it]"
     ]
    },
    {
     "name": "stdout",
     "output_type": "stream",
     "text": [
      "Test set: Epoch: 36, Average loss:1.0452, Top-1 Accuracy: 70.9900%, Top-5 Accuracy: 92.2800%, Time consumed:10.34s\n",
      "\n",
      "EarlyStopping 카운터: 1 / 30\n",
      "Epoch [37], Batch [50/391], Loss: 0.8663, LR: 0.001250\n",
      "Epoch [37], Batch [100/391], Loss: 2.0267, LR: 0.001250\n",
      "Epoch [37], Batch [150/391], Loss: 2.5516, LR: 0.001250\n",
      "Epoch [37], Batch [200/391], Loss: 0.8219, LR: 0.001250\n",
      "Epoch [37], Batch [250/391], Loss: 0.8371, LR: 0.001250\n",
      "Epoch [37], Batch [300/391], Loss: 0.9890, LR: 0.001250\n",
      "Epoch [37], Batch [350/391], Loss: 1.0268, LR: 0.001250\n",
      "Train set: Epoch: 37, Average loss:1.8157, LR: 0.001250 Top-1 Accuracy: 62.6760%, Top-5 Accuracy: 85.6480%, Time consumed:89.78s\n"
     ]
    },
    {
     "name": "stderr",
     "output_type": "stream",
     "text": [
      " 12%|███████████                                                                               | 37/300 [1:02:16<7:17:54, 99.90s/it]"
     ]
    },
    {
     "name": "stdout",
     "output_type": "stream",
     "text": [
      "Test set: Epoch: 37, Average loss:1.0654, Top-1 Accuracy: 70.9400%, Top-5 Accuracy: 92.1000%, Time consumed:9.85s\n",
      "\n",
      "EarlyStopping 카운터: 2 / 30\n",
      "Epoch [38], Batch [50/391], Loss: 0.8658, LR: 0.001250\n",
      "Epoch [38], Batch [100/391], Loss: 0.9810, LR: 0.001250\n",
      "Epoch [38], Batch [150/391], Loss: 0.8704, LR: 0.001250\n",
      "Epoch [38], Batch [200/391], Loss: 2.9993, LR: 0.001250\n",
      "Epoch [38], Batch [250/391], Loss: 0.8672, LR: 0.001250\n",
      "Epoch [38], Batch [300/391], Loss: 3.1120, LR: 0.001250\n",
      "Epoch [38], Batch [350/391], Loss: 3.2410, LR: 0.001250\n",
      "Train set: Epoch: 38, Average loss:1.7118, LR: 0.001250 Top-1 Accuracy: 63.9080%, Top-5 Accuracy: 86.5020%, Time consumed:88.47s\n",
      "Test set: Epoch: 38, Average loss:1.0242, Top-1 Accuracy: 71.3300%, Top-5 Accuracy: 92.5000%, Time consumed:9.81s\n",
      "\n",
      "새로운 최고 top-1 정확도: 71.33%, top-5 정확도: 92.50%\n",
      "새로운 최고 top-5 정확도: 92.50%\n",
      "Accuracy improved (71.27% --> 71.33%). Saving model ...\n"
     ]
    },
    {
     "name": "stderr",
     "output_type": "stream",
     "text": [
      " 13%|███████████▍                                                                              | 38/300 [1:03:55<7:14:25, 99.49s/it]"
     ]
    },
    {
     "name": "stdout",
     "output_type": "stream",
     "text": [
      "Epoch [39], Batch [50/391], Loss: 0.8661, LR: 0.001250\n",
      "Epoch [39], Batch [100/391], Loss: 2.6310, LR: 0.001250\n",
      "Epoch [39], Batch [150/391], Loss: 1.8281, LR: 0.001250\n",
      "Epoch [39], Batch [200/391], Loss: 0.8197, LR: 0.001250\n",
      "Epoch [39], Batch [250/391], Loss: 2.4373, LR: 0.001250\n",
      "Epoch [39], Batch [300/391], Loss: 0.8259, LR: 0.001250\n",
      "Epoch [39], Batch [350/391], Loss: 3.0170, LR: 0.001250\n",
      "Train set: Epoch: 39, Average loss:1.6820, LR: 0.001250 Top-1 Accuracy: 64.6760%, Top-5 Accuracy: 87.3100%, Time consumed:89.69s\n",
      "Test set: Epoch: 39, Average loss:1.0022, Top-1 Accuracy: 71.9000%, Top-5 Accuracy: 92.7500%, Time consumed:9.52s\n",
      "\n",
      "새로운 최고 top-1 정확도: 71.90%, top-5 정확도: 92.75%\n",
      "새로운 최고 top-5 정확도: 92.75%\n",
      "Accuracy improved (71.33% --> 71.90%). Saving model ...\n"
     ]
    },
    {
     "name": "stderr",
     "output_type": "stream",
     "text": [
      " 13%|███████████▋                                                                              | 39/300 [1:05:34<7:12:43, 99.48s/it]"
     ]
    },
    {
     "name": "stdout",
     "output_type": "stream",
     "text": [
      "Epoch [40], Batch [50/391], Loss: 1.1010, LR: 0.000625\n",
      "Epoch [40], Batch [100/391], Loss: 2.7871, LR: 0.000625\n",
      "Epoch [40], Batch [150/391], Loss: 0.7637, LR: 0.000625\n",
      "Epoch [40], Batch [200/391], Loss: 0.9518, LR: 0.000625\n",
      "Epoch [40], Batch [250/391], Loss: 2.6400, LR: 0.000625\n",
      "Epoch [40], Batch [300/391], Loss: 0.8690, LR: 0.000625\n",
      "Epoch [40], Batch [350/391], Loss: 0.8313, LR: 0.000625\n",
      "Train set: Epoch: 40, Average loss:1.5764, LR: 0.000625 Top-1 Accuracy: 66.6880%, Top-5 Accuracy: 88.2060%, Time consumed:88.95s\n"
     ]
    },
    {
     "name": "stderr",
     "output_type": "stream",
     "text": [
      " 13%|████████████                                                                              | 40/300 [1:07:13<7:10:17, 99.30s/it]"
     ]
    },
    {
     "name": "stdout",
     "output_type": "stream",
     "text": [
      "Test set: Epoch: 40, Average loss:0.9929, Top-1 Accuracy: 71.9000%, Top-5 Accuracy: 92.9200%, Time consumed:9.91s\n",
      "\n",
      "새로운 최고 top-5 정확도: 92.92%\n",
      "EarlyStopping 카운터: 1 / 30\n",
      "Epoch [41], Batch [50/391], Loss: 2.4421, LR: 0.000625\n",
      "Epoch [41], Batch [100/391], Loss: 2.4659, LR: 0.000625\n",
      "Epoch [41], Batch [150/391], Loss: 1.9011, LR: 0.000625\n",
      "Epoch [41], Batch [200/391], Loss: 0.7327, LR: 0.000625\n",
      "Epoch [41], Batch [250/391], Loss: 1.2398, LR: 0.000625\n",
      "Epoch [41], Batch [300/391], Loss: 2.9402, LR: 0.000625\n",
      "Epoch [41], Batch [350/391], Loss: 0.8347, LR: 0.000625\n",
      "Train set: Epoch: 41, Average loss:1.6159, LR: 0.000625 Top-1 Accuracy: 66.0040%, Top-5 Accuracy: 87.9980%, Time consumed:89.48s\n",
      "Test set: Epoch: 41, Average loss:0.9880, Top-1 Accuracy: 72.0800%, Top-5 Accuracy: 93.0300%, Time consumed:10.85s\n",
      "\n",
      "새로운 최고 top-1 정확도: 72.08%, top-5 정확도: 93.03%\n",
      "새로운 최고 top-5 정확도: 93.03%\n",
      "Accuracy improved (71.90% --> 72.08%). Saving model ...\n"
     ]
    },
    {
     "name": "stderr",
     "output_type": "stream",
     "text": [
      " 14%|████████████▎                                                                             | 41/300 [1:08:54<7:10:17, 99.68s/it]"
     ]
    },
    {
     "name": "stdout",
     "output_type": "stream",
     "text": [
      "Epoch [42], Batch [50/391], Loss: 2.9971, LR: 0.000625\n",
      "Epoch [42], Batch [100/391], Loss: 3.1491, LR: 0.000625\n",
      "Epoch [42], Batch [150/391], Loss: 0.9747, LR: 0.000625\n",
      "Epoch [42], Batch [200/391], Loss: 3.0186, LR: 0.000625\n",
      "Epoch [42], Batch [250/391], Loss: 3.2923, LR: 0.000625\n",
      "Epoch [42], Batch [300/391], Loss: 0.8707, LR: 0.000625\n",
      "Epoch [42], Batch [350/391], Loss: 3.1645, LR: 0.000625\n",
      "Train set: Epoch: 42, Average loss:1.6834, LR: 0.000625 Top-1 Accuracy: 64.9360%, Top-5 Accuracy: 87.2040%, Time consumed:88.84s\n",
      "Test set: Epoch: 42, Average loss:0.9886, Top-1 Accuracy: 72.1100%, Top-5 Accuracy: 92.9600%, Time consumed:9.87s\n",
      "\n",
      "새로운 최고 top-1 정확도: 72.11%, top-5 정확도: 92.96%\n",
      "Accuracy improved (72.08% --> 72.11%). Saving model ...\n"
     ]
    },
    {
     "name": "stderr",
     "output_type": "stream",
     "text": [
      " 14%|████████████▌                                                                             | 42/300 [1:10:33<7:07:42, 99.47s/it]"
     ]
    },
    {
     "name": "stdout",
     "output_type": "stream",
     "text": [
      "Epoch [43], Batch [50/391], Loss: 2.7144, LR: 0.000625\n",
      "Epoch [43], Batch [100/391], Loss: 3.0088, LR: 0.000625\n",
      "Epoch [43], Batch [150/391], Loss: 2.9714, LR: 0.000625\n",
      "Epoch [43], Batch [200/391], Loss: 3.1808, LR: 0.000625\n",
      "Epoch [43], Batch [250/391], Loss: 3.1401, LR: 0.000625\n",
      "Epoch [43], Batch [300/391], Loss: 0.8844, LR: 0.000625\n",
      "Epoch [43], Batch [350/391], Loss: 0.8167, LR: 0.000625\n",
      "Train set: Epoch: 43, Average loss:1.6362, LR: 0.000625 Top-1 Accuracy: 66.1600%, Top-5 Accuracy: 88.0220%, Time consumed:87.87s\n",
      "Test set: Epoch: 43, Average loss:0.9807, Top-1 Accuracy: 72.3900%, Top-5 Accuracy: 92.9400%, Time consumed:10.37s\n",
      "\n",
      "새로운 최고 top-1 정확도: 72.39%, top-5 정확도: 92.94%\n",
      "Accuracy improved (72.11% --> 72.39%). Saving model ...\n"
     ]
    },
    {
     "name": "stderr",
     "output_type": "stream",
     "text": [
      " 14%|████████████▉                                                                             | 43/300 [1:12:11<7:04:48, 99.18s/it]"
     ]
    },
    {
     "name": "stdout",
     "output_type": "stream",
     "text": [
      "Epoch [44], Batch [50/391], Loss: 2.3450, LR: 0.000625\n",
      "Epoch [44], Batch [100/391], Loss: 1.2632, LR: 0.000625\n",
      "Epoch [44], Batch [150/391], Loss: 3.0398, LR: 0.000625\n",
      "Epoch [44], Batch [200/391], Loss: 0.7245, LR: 0.000625\n",
      "Epoch [44], Batch [250/391], Loss: 0.7829, LR: 0.000625\n",
      "Epoch [44], Batch [300/391], Loss: 2.8632, LR: 0.000625\n",
      "Epoch [44], Batch [350/391], Loss: 2.0970, LR: 0.000625\n",
      "Train set: Epoch: 44, Average loss:1.7293, LR: 0.000625 Top-1 Accuracy: 64.6560%, Top-5 Accuracy: 86.7460%, Time consumed:88.54s\n"
     ]
    },
    {
     "name": "stderr",
     "output_type": "stream",
     "text": [
      " 15%|█████████████▏                                                                            | 44/300 [1:13:50<7:02:30, 99.03s/it]"
     ]
    },
    {
     "name": "stdout",
     "output_type": "stream",
     "text": [
      "Test set: Epoch: 44, Average loss:0.9859, Top-1 Accuracy: 72.0500%, Top-5 Accuracy: 93.1100%, Time consumed:10.12s\n",
      "\n",
      "새로운 최고 top-5 정확도: 93.11%\n",
      "EarlyStopping 카운터: 1 / 30\n",
      "Epoch [45], Batch [50/391], Loss: 0.9450, LR: 0.000625\n",
      "Epoch [45], Batch [100/391], Loss: 1.0721, LR: 0.000625\n",
      "Epoch [45], Batch [150/391], Loss: 0.6772, LR: 0.000625\n",
      "Epoch [45], Batch [200/391], Loss: 2.9181, LR: 0.000625\n",
      "Epoch [45], Batch [250/391], Loss: 2.9278, LR: 0.000625\n",
      "Epoch [45], Batch [300/391], Loss: 0.7930, LR: 0.000625\n",
      "Epoch [45], Batch [350/391], Loss: 3.1457, LR: 0.000625\n",
      "Train set: Epoch: 45, Average loss:1.6556, LR: 0.000625 Top-1 Accuracy: 66.8080%, Top-5 Accuracy: 88.6300%, Time consumed:89.02s\n"
     ]
    },
    {
     "name": "stderr",
     "output_type": "stream",
     "text": [
      " 15%|█████████████▌                                                                            | 45/300 [1:15:28<7:00:17, 98.89s/it]"
     ]
    },
    {
     "name": "stdout",
     "output_type": "stream",
     "text": [
      "Test set: Epoch: 45, Average loss:1.0041, Top-1 Accuracy: 72.2600%, Top-5 Accuracy: 92.8600%, Time consumed:9.55s\n",
      "\n",
      "EarlyStopping 카운터: 2 / 30\n",
      "Epoch [46], Batch [50/391], Loss: 2.9132, LR: 0.000312\n",
      "Epoch [46], Batch [100/391], Loss: 2.6646, LR: 0.000312\n",
      "Epoch [46], Batch [150/391], Loss: 0.7378, LR: 0.000312\n",
      "Epoch [46], Batch [200/391], Loss: 0.7134, LR: 0.000312\n",
      "Epoch [46], Batch [250/391], Loss: 0.9151, LR: 0.000312\n",
      "Epoch [46], Batch [300/391], Loss: 3.1570, LR: 0.000312\n",
      "Epoch [46], Batch [350/391], Loss: 0.8557, LR: 0.000312\n",
      "Train set: Epoch: 46, Average loss:1.5916, LR: 0.000312 Top-1 Accuracy: 66.8620%, Top-5 Accuracy: 88.3760%, Time consumed:88.59s\n",
      "Test set: Epoch: 46, Average loss:0.9780, Top-1 Accuracy: 72.4800%, Top-5 Accuracy: 93.0400%, Time consumed:9.99s\n",
      "\n",
      "새로운 최고 top-1 정확도: 72.48%, top-5 정확도: 93.04%\n",
      "Accuracy improved (72.39% --> 72.48%). Saving model ...\n"
     ]
    },
    {
     "name": "stderr",
     "output_type": "stream",
     "text": [
      " 15%|█████████████▊                                                                            | 46/300 [1:17:07<6:58:32, 98.87s/it]"
     ]
    },
    {
     "name": "stdout",
     "output_type": "stream",
     "text": [
      "Epoch [47], Batch [50/391], Loss: 0.9479, LR: 0.000312\n",
      "Epoch [47], Batch [100/391], Loss: 0.9894, LR: 0.000312\n",
      "Epoch [47], Batch [150/391], Loss: 0.6798, LR: 0.000312\n",
      "Epoch [47], Batch [200/391], Loss: 0.6270, LR: 0.000312\n",
      "Epoch [47], Batch [250/391], Loss: 0.8864, LR: 0.000312\n",
      "Epoch [47], Batch [300/391], Loss: 1.2418, LR: 0.000312\n",
      "Epoch [47], Batch [350/391], Loss: 0.7927, LR: 0.000312\n",
      "Train set: Epoch: 47, Average loss:1.5123, LR: 0.000312 Top-1 Accuracy: 68.4880%, Top-5 Accuracy: 89.0740%, Time consumed:89.84s\n",
      "Test set: Epoch: 47, Average loss:0.9751, Top-1 Accuracy: 72.8100%, Top-5 Accuracy: 93.0800%, Time consumed:11.05s\n",
      "\n",
      "새로운 최고 top-1 정확도: 72.81%, top-5 정확도: 93.08%\n",
      "Accuracy improved (72.48% --> 72.81%). Saving model ...\n"
     ]
    },
    {
     "name": "stderr",
     "output_type": "stream",
     "text": [
      " 16%|██████████████                                                                            | 47/300 [1:18:48<6:59:45, 99.55s/it]"
     ]
    },
    {
     "name": "stdout",
     "output_type": "stream",
     "text": [
      "Epoch [48], Batch [50/391], Loss: 0.7023, LR: 0.000312\n",
      "Epoch [48], Batch [100/391], Loss: 2.0793, LR: 0.000312\n",
      "Epoch [48], Batch [150/391], Loss: 3.1597, LR: 0.000312\n",
      "Epoch [48], Batch [200/391], Loss: 0.7304, LR: 0.000312\n",
      "Epoch [48], Batch [250/391], Loss: 3.3695, LR: 0.000312\n",
      "Epoch [48], Batch [300/391], Loss: 0.7201, LR: 0.000312\n",
      "Epoch [48], Batch [350/391], Loss: 1.9078, LR: 0.000312\n",
      "Train set: Epoch: 48, Average loss:1.6367, LR: 0.000312 Top-1 Accuracy: 66.4600%, Top-5 Accuracy: 87.9640%, Time consumed:91.54s\n"
     ]
    },
    {
     "name": "stderr",
     "output_type": "stream",
     "text": [
      " 16%|██████████████▏                                                                          | 48/300 [1:20:31<7:01:46, 100.42s/it]"
     ]
    },
    {
     "name": "stdout",
     "output_type": "stream",
     "text": [
      "Test set: Epoch: 48, Average loss:0.9921, Top-1 Accuracy: 72.4400%, Top-5 Accuracy: 92.9800%, Time consumed:10.91s\n",
      "\n",
      "EarlyStopping 카운터: 1 / 30\n",
      "Epoch [49], Batch [50/391], Loss: 3.2349, LR: 0.000312\n",
      "Epoch [49], Batch [100/391], Loss: 0.7448, LR: 0.000312\n",
      "Epoch [49], Batch [150/391], Loss: 2.9671, LR: 0.000312\n",
      "Epoch [49], Batch [200/391], Loss: 3.2011, LR: 0.000312\n",
      "Epoch [49], Batch [250/391], Loss: 0.8766, LR: 0.000312\n",
      "Epoch [49], Batch [300/391], Loss: 1.3928, LR: 0.000312\n",
      "Epoch [49], Batch [350/391], Loss: 0.9429, LR: 0.000312\n",
      "Train set: Epoch: 49, Average loss:1.5957, LR: 0.000312 Top-1 Accuracy: 66.3760%, Top-5 Accuracy: 87.9020%, Time consumed:90.36s\n"
     ]
    },
    {
     "name": "stderr",
     "output_type": "stream",
     "text": [
      " 16%|██████████████▌                                                                          | 49/300 [1:22:11<6:59:24, 100.26s/it]"
     ]
    },
    {
     "name": "stdout",
     "output_type": "stream",
     "text": [
      "Test set: Epoch: 49, Average loss:0.9705, Top-1 Accuracy: 72.6800%, Top-5 Accuracy: 93.1400%, Time consumed:9.51s\n",
      "\n",
      "새로운 최고 top-5 정확도: 93.14%\n",
      "EarlyStopping 카운터: 2 / 30\n",
      "Epoch [50], Batch [50/391], Loss: 0.7350, LR: 0.000312\n",
      "Epoch [50], Batch [100/391], Loss: 0.7514, LR: 0.000312\n",
      "Epoch [50], Batch [150/391], Loss: 2.1571, LR: 0.000312\n",
      "Epoch [50], Batch [200/391], Loss: 0.9604, LR: 0.000312\n",
      "Epoch [50], Batch [250/391], Loss: 1.2540, LR: 0.000312\n",
      "Epoch [50], Batch [300/391], Loss: 2.5398, LR: 0.000312\n",
      "Epoch [50], Batch [350/391], Loss: 1.3746, LR: 0.000312\n",
      "Train set: Epoch: 50, Average loss:1.6690, LR: 0.000312 Top-1 Accuracy: 66.1080%, Top-5 Accuracy: 87.8040%, Time consumed:88.24s\n"
     ]
    },
    {
     "name": "stderr",
     "output_type": "stream",
     "text": [
      " 17%|███████████████                                                                           | 50/300 [1:23:49<6:54:38, 99.51s/it]"
     ]
    },
    {
     "name": "stdout",
     "output_type": "stream",
     "text": [
      "Test set: Epoch: 50, Average loss:0.9785, Top-1 Accuracy: 72.7900%, Top-5 Accuracy: 93.1500%, Time consumed:9.53s\n",
      "\n",
      "새로운 최고 top-5 정확도: 93.15%\n",
      "EarlyStopping 카운터: 3 / 30\n",
      "Epoch [51], Batch [50/391], Loss: 0.6967, LR: 0.000312\n",
      "Epoch [51], Batch [100/391], Loss: 0.8426, LR: 0.000312\n",
      "Epoch [51], Batch [150/391], Loss: 0.7326, LR: 0.000312\n",
      "Epoch [51], Batch [200/391], Loss: 1.7562, LR: 0.000312\n",
      "Epoch [51], Batch [250/391], Loss: 3.1361, LR: 0.000312\n",
      "Epoch [51], Batch [300/391], Loss: 2.6085, LR: 0.000312\n",
      "Epoch [51], Batch [350/391], Loss: 3.0022, LR: 0.000312\n",
      "Train set: Epoch: 51, Average loss:1.5983, LR: 0.000312 Top-1 Accuracy: 67.1520%, Top-5 Accuracy: 88.2060%, Time consumed:88.67s\n"
     ]
    },
    {
     "name": "stderr",
     "output_type": "stream",
     "text": [
      " 17%|███████████████▎                                                                          | 51/300 [1:25:27<6:51:27, 99.14s/it]"
     ]
    },
    {
     "name": "stdout",
     "output_type": "stream",
     "text": [
      "Test set: Epoch: 51, Average loss:0.9770, Top-1 Accuracy: 72.7500%, Top-5 Accuracy: 92.9000%, Time consumed:9.61s\n",
      "\n",
      "EarlyStopping 카운터: 4 / 30\n",
      "Epoch [52], Batch [50/391], Loss: 0.7505, LR: 0.000156\n",
      "Epoch [52], Batch [100/391], Loss: 3.0205, LR: 0.000156\n",
      "Epoch [52], Batch [150/391], Loss: 0.8616, LR: 0.000156\n",
      "Epoch [52], Batch [200/391], Loss: 3.1454, LR: 0.000156\n",
      "Epoch [52], Batch [250/391], Loss: 0.7883, LR: 0.000156\n",
      "Epoch [52], Batch [300/391], Loss: 0.7262, LR: 0.000156\n",
      "Epoch [52], Batch [350/391], Loss: 0.8251, LR: 0.000156\n",
      "Train set: Epoch: 52, Average loss:1.6936, LR: 0.000156 Top-1 Accuracy: 65.4240%, Top-5 Accuracy: 87.0860%, Time consumed:89.41s\n",
      "Test set: Epoch: 52, Average loss:0.9675, Top-1 Accuracy: 72.8800%, Top-5 Accuracy: 93.0500%, Time consumed:10.47s\n",
      "\n",
      "새로운 최고 top-1 정확도: 72.88%, top-5 정확도: 93.05%\n",
      "Accuracy improved (72.81% --> 72.88%). Saving model ...\n"
     ]
    },
    {
     "name": "stderr",
     "output_type": "stream",
     "text": [
      " 17%|███████████████▌                                                                          | 52/300 [1:27:07<6:51:00, 99.44s/it]"
     ]
    },
    {
     "name": "stdout",
     "output_type": "stream",
     "text": [
      "Epoch [53], Batch [50/391], Loss: 2.1955, LR: 0.000156\n",
      "Epoch [53], Batch [100/391], Loss: 2.5385, LR: 0.000156\n",
      "Epoch [53], Batch [150/391], Loss: 2.9616, LR: 0.000156\n",
      "Epoch [53], Batch [200/391], Loss: 1.7284, LR: 0.000156\n",
      "Epoch [53], Batch [250/391], Loss: 3.1185, LR: 0.000156\n",
      "Epoch [53], Batch [300/391], Loss: 1.9630, LR: 0.000156\n",
      "Epoch [53], Batch [350/391], Loss: 2.0136, LR: 0.000156\n",
      "Train set: Epoch: 53, Average loss:1.6535, LR: 0.000156 Top-1 Accuracy: 66.6860%, Top-5 Accuracy: 87.9600%, Time consumed:89.16s\n"
     ]
    },
    {
     "name": "stderr",
     "output_type": "stream",
     "text": [
      " 18%|███████████████▉                                                                          | 53/300 [1:28:46<6:49:13, 99.41s/it]"
     ]
    },
    {
     "name": "stdout",
     "output_type": "stream",
     "text": [
      "Test set: Epoch: 53, Average loss:0.9809, Top-1 Accuracy: 72.6000%, Top-5 Accuracy: 93.0300%, Time consumed:10.17s\n",
      "\n",
      "EarlyStopping 카운터: 1 / 30\n",
      "Epoch [54], Batch [50/391], Loss: 3.0234, LR: 0.000156\n",
      "Epoch [54], Batch [100/391], Loss: 0.8208, LR: 0.000156\n",
      "Epoch [54], Batch [150/391], Loss: 0.6095, LR: 0.000156\n",
      "Epoch [54], Batch [200/391], Loss: 2.2806, LR: 0.000156\n",
      "Epoch [54], Batch [250/391], Loss: 3.1473, LR: 0.000156\n",
      "Epoch [54], Batch [300/391], Loss: 0.8210, LR: 0.000156\n",
      "Epoch [54], Batch [350/391], Loss: 0.6852, LR: 0.000156\n",
      "Train set: Epoch: 54, Average loss:1.5898, LR: 0.000156 Top-1 Accuracy: 67.3640%, Top-5 Accuracy: 88.5040%, Time consumed:88.17s\n"
     ]
    },
    {
     "name": "stderr",
     "output_type": "stream",
     "text": [
      " 18%|████████████████▏                                                                         | 54/300 [1:30:24<6:45:30, 98.90s/it]"
     ]
    },
    {
     "name": "stdout",
     "output_type": "stream",
     "text": [
      "Test set: Epoch: 54, Average loss:0.9851, Top-1 Accuracy: 72.6700%, Top-5 Accuracy: 93.1300%, Time consumed:9.55s\n",
      "\n",
      "EarlyStopping 카운터: 2 / 30\n",
      "Epoch [55], Batch [50/391], Loss: 1.4784, LR: 0.000156\n",
      "Epoch [55], Batch [100/391], Loss: 2.2595, LR: 0.000156\n",
      "Epoch [55], Batch [150/391], Loss: 0.7193, LR: 0.000156\n",
      "Epoch [55], Batch [200/391], Loss: 1.2330, LR: 0.000156\n",
      "Epoch [55], Batch [250/391], Loss: 1.8926, LR: 0.000156\n",
      "Epoch [55], Batch [300/391], Loss: 2.9955, LR: 0.000156\n",
      "Epoch [55], Batch [350/391], Loss: 0.7347, LR: 0.000156\n",
      "Train set: Epoch: 55, Average loss:1.5756, LR: 0.000156 Top-1 Accuracy: 68.9060%, Top-5 Accuracy: 89.6100%, Time consumed:90.09s\n"
     ]
    },
    {
     "name": "stderr",
     "output_type": "stream",
     "text": [
      " 18%|████████████████▌                                                                         | 55/300 [1:32:05<6:45:51, 99.39s/it]"
     ]
    },
    {
     "name": "stdout",
     "output_type": "stream",
     "text": [
      "Test set: Epoch: 55, Average loss:0.9723, Top-1 Accuracy: 72.8500%, Top-5 Accuracy: 93.1400%, Time consumed:10.44s\n",
      "\n",
      "EarlyStopping 카운터: 3 / 30\n",
      "Epoch [56], Batch [50/391], Loss: 2.3805, LR: 0.000156\n",
      "Epoch [56], Batch [100/391], Loss: 0.7382, LR: 0.000156\n",
      "Epoch [56], Batch [150/391], Loss: 2.5719, LR: 0.000156\n",
      "Epoch [56], Batch [200/391], Loss: 0.8248, LR: 0.000156\n",
      "Epoch [56], Batch [250/391], Loss: 1.8607, LR: 0.000156\n",
      "Epoch [56], Batch [300/391], Loss: 3.0213, LR: 0.000156\n",
      "Epoch [56], Batch [350/391], Loss: 2.1983, LR: 0.000156\n",
      "Train set: Epoch: 56, Average loss:1.6467, LR: 0.000156 Top-1 Accuracy: 66.1160%, Top-5 Accuracy: 87.4360%, Time consumed:89.78s\n"
     ]
    },
    {
     "name": "stderr",
     "output_type": "stream",
     "text": [
      " 19%|████████████████▊                                                                         | 56/300 [1:33:44<6:44:33, 99.48s/it]"
     ]
    },
    {
     "name": "stdout",
     "output_type": "stream",
     "text": [
      "Test set: Epoch: 56, Average loss:0.9782, Top-1 Accuracy: 72.7300%, Top-5 Accuracy: 93.0900%, Time consumed:9.90s\n",
      "\n",
      "EarlyStopping 카운터: 4 / 30\n",
      "Epoch [57], Batch [50/391], Loss: 0.8096, LR: 0.000156\n",
      "Epoch [57], Batch [100/391], Loss: 0.7114, LR: 0.000156\n",
      "Epoch [57], Batch [150/391], Loss: 0.5970, LR: 0.000156\n",
      "Epoch [57], Batch [200/391], Loss: 0.7184, LR: 0.000156\n",
      "Epoch [57], Batch [250/391], Loss: 1.5972, LR: 0.000156\n",
      "Epoch [57], Batch [300/391], Loss: 0.8101, LR: 0.000156\n",
      "Epoch [57], Batch [350/391], Loss: 3.0443, LR: 0.000156\n",
      "Train set: Epoch: 57, Average loss:1.6775, LR: 0.000156 Top-1 Accuracy: 65.3500%, Top-5 Accuracy: 87.0140%, Time consumed:88.78s\n"
     ]
    },
    {
     "name": "stderr",
     "output_type": "stream",
     "text": [
      " 19%|█████████████████                                                                         | 57/300 [1:35:24<6:42:38, 99.42s/it]"
     ]
    },
    {
     "name": "stdout",
     "output_type": "stream",
     "text": [
      "Test set: Epoch: 57, Average loss:0.9899, Top-1 Accuracy: 72.7200%, Top-5 Accuracy: 93.0100%, Time consumed:10.49s\n",
      "\n",
      "EarlyStopping 카운터: 5 / 30\n",
      "Epoch [58], Batch [50/391], Loss: 3.1625, LR: 0.000078\n",
      "Epoch [58], Batch [100/391], Loss: 0.7495, LR: 0.000078\n",
      "Epoch [58], Batch [150/391], Loss: 0.7031, LR: 0.000078\n",
      "Epoch [58], Batch [200/391], Loss: 3.2727, LR: 0.000078\n",
      "Epoch [58], Batch [250/391], Loss: 0.8291, LR: 0.000078\n",
      "Epoch [58], Batch [300/391], Loss: 0.9161, LR: 0.000078\n",
      "Epoch [58], Batch [350/391], Loss: 3.1312, LR: 0.000078\n",
      "Train set: Epoch: 58, Average loss:1.5348, LR: 0.000078 Top-1 Accuracy: 68.3080%, Top-5 Accuracy: 89.0800%, Time consumed:88.54s\n"
     ]
    },
    {
     "name": "stderr",
     "output_type": "stream",
     "text": [
      " 19%|█████████████████▍                                                                        | 58/300 [1:37:02<6:39:30, 99.05s/it]"
     ]
    },
    {
     "name": "stdout",
     "output_type": "stream",
     "text": [
      "Test set: Epoch: 58, Average loss:0.9986, Top-1 Accuracy: 72.5900%, Top-5 Accuracy: 92.9400%, Time consumed:9.65s\n",
      "\n",
      "EarlyStopping 카운터: 6 / 30\n",
      "Epoch [59], Batch [50/391], Loss: 2.5754, LR: 0.000078\n",
      "Epoch [59], Batch [100/391], Loss: 2.4087, LR: 0.000078\n",
      "Epoch [59], Batch [150/391], Loss: 0.7130, LR: 0.000078\n",
      "Epoch [59], Batch [200/391], Loss: 0.6560, LR: 0.000078\n",
      "Epoch [59], Batch [250/391], Loss: 3.0863, LR: 0.000078\n",
      "Epoch [59], Batch [300/391], Loss: 2.9415, LR: 0.000078\n",
      "Epoch [59], Batch [350/391], Loss: 0.8002, LR: 0.000078\n",
      "Train set: Epoch: 59, Average loss:1.5775, LR: 0.000078 Top-1 Accuracy: 67.6500%, Top-5 Accuracy: 88.5760%, Time consumed:88.58s\n",
      "Test set: Epoch: 59, Average loss:0.9623, Top-1 Accuracy: 73.0600%, Top-5 Accuracy: 93.2100%, Time consumed:10.33s\n",
      "\n",
      "새로운 최고 top-1 정확도: 73.06%, top-5 정확도: 93.21%\n",
      "새로운 최고 top-5 정확도: 93.21%\n",
      "Accuracy improved (72.88% --> 73.06%). Saving model ...\n"
     ]
    },
    {
     "name": "stderr",
     "output_type": "stream",
     "text": [
      " 20%|█████████████████▋                                                                        | 59/300 [1:38:41<6:37:58, 99.08s/it]"
     ]
    },
    {
     "name": "stdout",
     "output_type": "stream",
     "text": [
      "Epoch [60], Batch [50/391], Loss: 2.5091, LR: 0.000078\n",
      "Epoch [60], Batch [100/391], Loss: 0.8237, LR: 0.000078\n",
      "Epoch [60], Batch [150/391], Loss: 0.9461, LR: 0.000078\n",
      "Epoch [60], Batch [200/391], Loss: 0.7525, LR: 0.000078\n",
      "Epoch [60], Batch [250/391], Loss: 0.8230, LR: 0.000078\n",
      "Epoch [60], Batch [300/391], Loss: 3.0590, LR: 0.000078\n",
      "Epoch [60], Batch [350/391], Loss: 0.7918, LR: 0.000078\n",
      "Train set: Epoch: 60, Average loss:1.5862, LR: 0.000078 Top-1 Accuracy: 67.7340%, Top-5 Accuracy: 88.2940%, Time consumed:92.90s\n"
     ]
    },
    {
     "name": "stderr",
     "output_type": "stream",
     "text": [
      " 20%|█████████████████▊                                                                       | 60/300 [1:40:24<6:41:02, 100.26s/it]"
     ]
    },
    {
     "name": "stdout",
     "output_type": "stream",
     "text": [
      "Test set: Epoch: 60, Average loss:1.0094, Top-1 Accuracy: 72.4800%, Top-5 Accuracy: 92.8200%, Time consumed:10.11s\n",
      "\n",
      "EarlyStopping 카운터: 1 / 30\n",
      "Epoch [61], Batch [50/391], Loss: 0.6739, LR: 0.000078\n",
      "Epoch [61], Batch [100/391], Loss: 0.6180, LR: 0.000078\n",
      "Epoch [61], Batch [150/391], Loss: 2.7432, LR: 0.000078\n",
      "Epoch [61], Batch [200/391], Loss: 0.7370, LR: 0.000078\n",
      "Epoch [61], Batch [250/391], Loss: 0.7579, LR: 0.000078\n",
      "Epoch [61], Batch [300/391], Loss: 0.8794, LR: 0.000078\n",
      "Epoch [61], Batch [350/391], Loss: 2.7418, LR: 0.000078\n",
      "Train set: Epoch: 61, Average loss:1.6114, LR: 0.000078 Top-1 Accuracy: 67.9880%, Top-5 Accuracy: 88.6500%, Time consumed:88.13s\n"
     ]
    },
    {
     "name": "stderr",
     "output_type": "stream",
     "text": [
      " 20%|██████████████████▎                                                                       | 61/300 [1:42:03<6:37:36, 99.82s/it]"
     ]
    },
    {
     "name": "stdout",
     "output_type": "stream",
     "text": [
      "Test set: Epoch: 61, Average loss:0.9733, Top-1 Accuracy: 72.8000%, Top-5 Accuracy: 93.1500%, Time consumed:10.65s\n",
      "\n",
      "EarlyStopping 카운터: 2 / 30\n",
      "Epoch [62], Batch [50/391], Loss: 1.5113, LR: 0.000078\n",
      "Epoch [62], Batch [100/391], Loss: 2.8954, LR: 0.000078\n",
      "Epoch [62], Batch [150/391], Loss: 0.5785, LR: 0.000078\n",
      "Epoch [62], Batch [200/391], Loss: 0.6413, LR: 0.000078\n",
      "Epoch [62], Batch [250/391], Loss: 0.7926, LR: 0.000078\n",
      "Epoch [62], Batch [300/391], Loss: 0.6034, LR: 0.000078\n",
      "Epoch [62], Batch [350/391], Loss: 2.7945, LR: 0.000078\n",
      "Train set: Epoch: 62, Average loss:1.5942, LR: 0.000078 Top-1 Accuracy: 67.3420%, Top-5 Accuracy: 88.3360%, Time consumed:89.08s\n",
      "Test set: Epoch: 62, Average loss:0.9582, Top-1 Accuracy: 73.1200%, Top-5 Accuracy: 93.2500%, Time consumed:9.44s\n",
      "\n",
      "새로운 최고 top-1 정확도: 73.12%, top-5 정확도: 93.25%\n",
      "새로운 최고 top-5 정확도: 93.25%\n",
      "Accuracy improved (73.06% --> 73.12%). Saving model ...\n"
     ]
    },
    {
     "name": "stderr",
     "output_type": "stream",
     "text": [
      " 21%|██████████████████▌                                                                       | 62/300 [1:43:41<6:34:42, 99.50s/it]"
     ]
    },
    {
     "name": "stdout",
     "output_type": "stream",
     "text": [
      "Epoch [63], Batch [50/391], Loss: 0.8028, LR: 0.000078\n",
      "Epoch [63], Batch [100/391], Loss: 1.8229, LR: 0.000078\n",
      "Epoch [63], Batch [150/391], Loss: 0.6131, LR: 0.000078\n",
      "Epoch [63], Batch [200/391], Loss: 1.3362, LR: 0.000078\n",
      "Epoch [63], Batch [250/391], Loss: 0.8465, LR: 0.000078\n",
      "Epoch [63], Batch [300/391], Loss: 0.8222, LR: 0.000078\n",
      "Epoch [63], Batch [350/391], Loss: 2.4234, LR: 0.000078\n",
      "Train set: Epoch: 63, Average loss:1.6359, LR: 0.000078 Top-1 Accuracy: 66.3600%, Top-5 Accuracy: 87.4320%, Time consumed:90.39s\n"
     ]
    },
    {
     "name": "stderr",
     "output_type": "stream",
     "text": [
      " 21%|██████████████████▉                                                                       | 63/300 [1:45:21<6:33:30, 99.62s/it]"
     ]
    },
    {
     "name": "stdout",
     "output_type": "stream",
     "text": [
      "Test set: Epoch: 63, Average loss:0.9690, Top-1 Accuracy: 72.9400%, Top-5 Accuracy: 93.2100%, Time consumed:9.50s\n",
      "\n",
      "EarlyStopping 카운터: 1 / 30\n",
      "Epoch [64], Batch [50/391], Loss: 0.7158, LR: 0.000039\n",
      "Epoch [64], Batch [100/391], Loss: 2.3903, LR: 0.000039\n",
      "Epoch [64], Batch [150/391], Loss: 3.0221, LR: 0.000039\n",
      "Epoch [64], Batch [200/391], Loss: 0.6244, LR: 0.000039\n",
      "Epoch [64], Batch [250/391], Loss: 3.2877, LR: 0.000039\n",
      "Epoch [64], Batch [300/391], Loss: 0.7194, LR: 0.000039\n",
      "Epoch [64], Batch [350/391], Loss: 0.6390, LR: 0.000039\n",
      "Train set: Epoch: 64, Average loss:1.6087, LR: 0.000039 Top-1 Accuracy: 67.2880%, Top-5 Accuracy: 88.2460%, Time consumed:88.43s\n"
     ]
    },
    {
     "name": "stderr",
     "output_type": "stream",
     "text": [
      " 21%|███████████████████▏                                                                      | 64/300 [1:46:59<6:29:51, 99.12s/it]"
     ]
    },
    {
     "name": "stdout",
     "output_type": "stream",
     "text": [
      "Test set: Epoch: 64, Average loss:0.9589, Top-1 Accuracy: 72.9800%, Top-5 Accuracy: 93.3000%, Time consumed:9.50s\n",
      "\n",
      "새로운 최고 top-5 정확도: 93.30%\n",
      "EarlyStopping 카운터: 2 / 30\n",
      "Epoch [65], Batch [50/391], Loss: 3.0976, LR: 0.000039\n",
      "Epoch [65], Batch [100/391], Loss: 2.6548, LR: 0.000039\n",
      "Epoch [65], Batch [150/391], Loss: 1.4362, LR: 0.000039\n",
      "Epoch [65], Batch [200/391], Loss: 0.7034, LR: 0.000039\n",
      "Epoch [65], Batch [250/391], Loss: 0.7399, LR: 0.000039\n",
      "Epoch [65], Batch [300/391], Loss: 2.8047, LR: 0.000039\n",
      "Epoch [65], Batch [350/391], Loss: 1.6161, LR: 0.000039\n",
      "Train set: Epoch: 65, Average loss:1.5855, LR: 0.000039 Top-1 Accuracy: 68.2540%, Top-5 Accuracy: 89.2820%, Time consumed:88.67s\n"
     ]
    },
    {
     "name": "stderr",
     "output_type": "stream",
     "text": [
      " 22%|███████████████████▌                                                                      | 65/300 [1:48:38<6:27:41, 98.99s/it]"
     ]
    },
    {
     "name": "stdout",
     "output_type": "stream",
     "text": [
      "Test set: Epoch: 65, Average loss:0.9965, Top-1 Accuracy: 72.6000%, Top-5 Accuracy: 93.0300%, Time consumed:10.01s\n",
      "\n",
      "EarlyStopping 카운터: 3 / 30\n",
      "Epoch [66], Batch [50/391], Loss: 2.8400, LR: 0.000039\n",
      "Epoch [66], Batch [100/391], Loss: 2.9432, LR: 0.000039\n",
      "Epoch [66], Batch [150/391], Loss: 0.6971, LR: 0.000039\n",
      "Epoch [66], Batch [200/391], Loss: 3.2412, LR: 0.000039\n",
      "Epoch [66], Batch [250/391], Loss: 2.6082, LR: 0.000039\n",
      "Epoch [66], Batch [300/391], Loss: 0.7318, LR: 0.000039\n",
      "Epoch [66], Batch [350/391], Loss: 0.9739, LR: 0.000039\n",
      "Train set: Epoch: 66, Average loss:1.5406, LR: 0.000039 Top-1 Accuracy: 68.6180%, Top-5 Accuracy: 89.1200%, Time consumed:88.83s\n"
     ]
    },
    {
     "name": "stderr",
     "output_type": "stream",
     "text": [
      " 22%|███████████████████▊                                                                      | 66/300 [1:50:16<6:25:25, 98.83s/it]"
     ]
    },
    {
     "name": "stdout",
     "output_type": "stream",
     "text": [
      "Test set: Epoch: 66, Average loss:0.9759, Top-1 Accuracy: 72.9900%, Top-5 Accuracy: 93.0700%, Time consumed:9.62s\n",
      "\n",
      "EarlyStopping 카운터: 4 / 30\n",
      "Epoch [67], Batch [50/391], Loss: 2.1104, LR: 0.000039\n",
      "Epoch [67], Batch [100/391], Loss: 0.7214, LR: 0.000039\n",
      "Epoch [67], Batch [150/391], Loss: 2.7486, LR: 0.000039\n",
      "Epoch [67], Batch [200/391], Loss: 0.6144, LR: 0.000039\n",
      "Epoch [67], Batch [250/391], Loss: 3.4353, LR: 0.000039\n",
      "Epoch [67], Batch [300/391], Loss: 3.1058, LR: 0.000039\n",
      "Epoch [67], Batch [350/391], Loss: 2.0381, LR: 0.000039\n",
      "Train set: Epoch: 67, Average loss:1.5710, LR: 0.000039 Top-1 Accuracy: 67.7680%, Top-5 Accuracy: 88.5060%, Time consumed:88.50s\n"
     ]
    },
    {
     "name": "stderr",
     "output_type": "stream",
     "text": [
      " 22%|████████████████████                                                                      | 67/300 [1:51:55<6:22:55, 98.61s/it]"
     ]
    },
    {
     "name": "stdout",
     "output_type": "stream",
     "text": [
      "Test set: Epoch: 67, Average loss:0.9748, Top-1 Accuracy: 73.1000%, Top-5 Accuracy: 93.1800%, Time consumed:9.60s\n",
      "\n",
      "EarlyStopping 카운터: 5 / 30\n",
      "Epoch [68], Batch [50/391], Loss: 2.1001, LR: 0.000039\n",
      "Epoch [68], Batch [100/391], Loss: 2.6151, LR: 0.000039\n",
      "Epoch [68], Batch [150/391], Loss: 2.7832, LR: 0.000039\n",
      "Epoch [68], Batch [200/391], Loss: 0.6265, LR: 0.000039\n",
      "Epoch [68], Batch [250/391], Loss: 2.2657, LR: 0.000039\n",
      "Epoch [68], Batch [300/391], Loss: 3.1827, LR: 0.000039\n",
      "Epoch [68], Batch [350/391], Loss: 0.8154, LR: 0.000039\n",
      "Train set: Epoch: 68, Average loss:1.7510, LR: 0.000039 Top-1 Accuracy: 64.7780%, Top-5 Accuracy: 86.8900%, Time consumed:88.20s\n"
     ]
    },
    {
     "name": "stderr",
     "output_type": "stream",
     "text": [
      " 23%|████████████████████▍                                                                     | 68/300 [1:53:33<6:21:36, 98.69s/it]"
     ]
    },
    {
     "name": "stdout",
     "output_type": "stream",
     "text": [
      "Test set: Epoch: 68, Average loss:0.9962, Top-1 Accuracy: 72.6500%, Top-5 Accuracy: 93.0800%, Time consumed:10.68s\n",
      "\n",
      "EarlyStopping 카운터: 6 / 30\n",
      "Epoch [69], Batch [50/391], Loss: 3.0633, LR: 0.000039\n",
      "Epoch [69], Batch [100/391], Loss: 0.6217, LR: 0.000039\n",
      "Epoch [69], Batch [150/391], Loss: 1.2137, LR: 0.000039\n",
      "Epoch [69], Batch [200/391], Loss: 2.8772, LR: 0.000039\n",
      "Epoch [69], Batch [250/391], Loss: 0.7667, LR: 0.000039\n",
      "Epoch [69], Batch [300/391], Loss: 0.7449, LR: 0.000039\n",
      "Epoch [69], Batch [350/391], Loss: 0.7834, LR: 0.000039\n",
      "Train set: Epoch: 69, Average loss:1.5160, LR: 0.000039 Top-1 Accuracy: 69.5440%, Top-5 Accuracy: 89.7840%, Time consumed:87.97s\n"
     ]
    },
    {
     "name": "stderr",
     "output_type": "stream",
     "text": [
      " 23%|████████████████████▋                                                                     | 69/300 [1:55:11<6:18:28, 98.31s/it]"
     ]
    },
    {
     "name": "stdout",
     "output_type": "stream",
     "text": [
      "Test set: Epoch: 69, Average loss:0.9645, Top-1 Accuracy: 73.0400%, Top-5 Accuracy: 93.2800%, Time consumed:9.43s\n",
      "\n",
      "EarlyStopping 카운터: 7 / 30\n",
      "Epoch [70], Batch [50/391], Loss: 0.8013, LR: 0.000020\n",
      "Epoch [70], Batch [100/391], Loss: 0.6482, LR: 0.000020\n",
      "Epoch [70], Batch [150/391], Loss: 1.4694, LR: 0.000020\n",
      "Epoch [70], Batch [200/391], Loss: 3.0431, LR: 0.000020\n",
      "Epoch [70], Batch [250/391], Loss: 0.9821, LR: 0.000020\n",
      "Epoch [70], Batch [300/391], Loss: 0.7913, LR: 0.000020\n",
      "Epoch [70], Batch [350/391], Loss: 1.0506, LR: 0.000020\n",
      "Train set: Epoch: 70, Average loss:1.5954, LR: 0.000020 Top-1 Accuracy: 67.7440%, Top-5 Accuracy: 88.3840%, Time consumed:90.72s\n"
     ]
    },
    {
     "name": "stderr",
     "output_type": "stream",
     "text": [
      " 23%|█████████████████████                                                                     | 70/300 [1:56:52<6:19:50, 99.09s/it]"
     ]
    },
    {
     "name": "stdout",
     "output_type": "stream",
     "text": [
      "Test set: Epoch: 70, Average loss:0.9706, Top-1 Accuracy: 73.1000%, Top-5 Accuracy: 93.1800%, Time consumed:10.19s\n",
      "\n",
      "EarlyStopping 카운터: 8 / 30\n",
      "Epoch [71], Batch [50/391], Loss: 2.5023, LR: 0.000020\n",
      "Epoch [71], Batch [100/391], Loss: 2.5447, LR: 0.000020\n",
      "Epoch [71], Batch [150/391], Loss: 1.8958, LR: 0.000020\n",
      "Epoch [71], Batch [200/391], Loss: 0.7386, LR: 0.000020\n",
      "Epoch [71], Batch [250/391], Loss: 0.9122, LR: 0.000020\n",
      "Epoch [71], Batch [300/391], Loss: 0.8361, LR: 0.000020\n",
      "Epoch [71], Batch [350/391], Loss: 2.7230, LR: 0.000020\n",
      "Train set: Epoch: 71, Average loss:1.5732, LR: 0.000020 Top-1 Accuracy: 68.2140%, Top-5 Accuracy: 88.9580%, Time consumed:92.80s\n",
      "Test set: Epoch: 71, Average loss:0.9590, Top-1 Accuracy: 73.2400%, Top-5 Accuracy: 93.3300%, Time consumed:9.52s\n",
      "\n",
      "새로운 최고 top-1 정확도: 73.24%, top-5 정확도: 93.33%\n",
      "새로운 최고 top-5 정확도: 93.33%\n",
      "Accuracy improved (73.12% --> 73.24%). Saving model ...\n"
     ]
    },
    {
     "name": "stderr",
     "output_type": "stream",
     "text": [
      " 24%|█████████████████████                                                                    | 71/300 [1:58:34<6:22:09, 100.13s/it]"
     ]
    },
    {
     "name": "stdout",
     "output_type": "stream",
     "text": [
      "Epoch [72], Batch [50/391], Loss: 0.7343, LR: 0.000020\n",
      "Epoch [72], Batch [100/391], Loss: 2.7769, LR: 0.000020\n",
      "Epoch [72], Batch [150/391], Loss: 2.2968, LR: 0.000020\n",
      "Epoch [72], Batch [200/391], Loss: 0.7306, LR: 0.000020\n",
      "Epoch [72], Batch [250/391], Loss: 0.9203, LR: 0.000020\n",
      "Epoch [72], Batch [300/391], Loss: 0.7217, LR: 0.000020\n",
      "Epoch [72], Batch [350/391], Loss: 0.7773, LR: 0.000020\n",
      "Train set: Epoch: 72, Average loss:1.5711, LR: 0.000020 Top-1 Accuracy: 67.9640%, Top-5 Accuracy: 88.5220%, Time consumed:88.00s\n"
     ]
    },
    {
     "name": "stderr",
     "output_type": "stream",
     "text": [
      " 24%|█████████████████████▌                                                                    | 72/300 [2:00:12<6:17:40, 99.39s/it]"
     ]
    },
    {
     "name": "stdout",
     "output_type": "stream",
     "text": [
      "Test set: Epoch: 72, Average loss:0.9573, Top-1 Accuracy: 73.1000%, Top-5 Accuracy: 93.2400%, Time consumed:9.66s\n",
      "\n",
      "EarlyStopping 카운터: 1 / 30\n",
      "Epoch [73], Batch [50/391], Loss: 2.8913, LR: 0.000020\n",
      "Epoch [73], Batch [100/391], Loss: 2.8670, LR: 0.000020\n",
      "Epoch [73], Batch [150/391], Loss: 2.8360, LR: 0.000020\n",
      "Epoch [73], Batch [200/391], Loss: 1.4772, LR: 0.000020\n",
      "Epoch [73], Batch [250/391], Loss: 2.9346, LR: 0.000020\n",
      "Epoch [73], Batch [300/391], Loss: 3.0105, LR: 0.000020\n",
      "Epoch [73], Batch [350/391], Loss: 0.6736, LR: 0.000020\n",
      "Train set: Epoch: 73, Average loss:1.5361, LR: 0.000020 Top-1 Accuracy: 69.0380%, Top-5 Accuracy: 89.3540%, Time consumed:88.61s\n",
      "Test set: Epoch: 73, Average loss:0.9563, Top-1 Accuracy: 73.2900%, Top-5 Accuracy: 93.4700%, Time consumed:9.90s\n",
      "\n",
      "새로운 최고 top-1 정확도: 73.29%, top-5 정확도: 93.47%\n",
      "새로운 최고 top-5 정확도: 93.47%\n",
      "Accuracy improved (73.24% --> 73.29%). Saving model ...\n"
     ]
    },
    {
     "name": "stderr",
     "output_type": "stream",
     "text": [
      " 24%|█████████████████████▉                                                                    | 73/300 [2:01:51<6:15:19, 99.20s/it]"
     ]
    },
    {
     "name": "stdout",
     "output_type": "stream",
     "text": [
      "Epoch [74], Batch [50/391], Loss: 2.8973, LR: 0.000020\n",
      "Epoch [74], Batch [100/391], Loss: 3.1461, LR: 0.000020\n",
      "Epoch [74], Batch [150/391], Loss: 2.5622, LR: 0.000020\n",
      "Epoch [74], Batch [200/391], Loss: 0.6336, LR: 0.000020\n",
      "Epoch [74], Batch [250/391], Loss: 1.9409, LR: 0.000020\n",
      "Epoch [74], Batch [300/391], Loss: 0.6921, LR: 0.000020\n",
      "Epoch [74], Batch [350/391], Loss: 1.1757, LR: 0.000020\n",
      "Train set: Epoch: 74, Average loss:1.6138, LR: 0.000020 Top-1 Accuracy: 67.6180%, Top-5 Accuracy: 88.4320%, Time consumed:88.29s\n"
     ]
    },
    {
     "name": "stderr",
     "output_type": "stream",
     "text": [
      " 25%|██████████████████████▏                                                                   | 74/300 [2:03:30<6:13:54, 99.27s/it]"
     ]
    },
    {
     "name": "stdout",
     "output_type": "stream",
     "text": [
      "Test set: Epoch: 74, Average loss:0.9830, Top-1 Accuracy: 72.8200%, Top-5 Accuracy: 93.1000%, Time consumed:11.11s\n",
      "\n",
      "EarlyStopping 카운터: 1 / 30\n",
      "Epoch [75], Batch [50/391], Loss: 0.6813, LR: 0.000020\n",
      "Epoch [75], Batch [100/391], Loss: 1.6819, LR: 0.000020\n",
      "Epoch [75], Batch [150/391], Loss: 2.5991, LR: 0.000020\n",
      "Epoch [75], Batch [200/391], Loss: 2.8599, LR: 0.000020\n",
      "Epoch [75], Batch [250/391], Loss: 3.4742, LR: 0.000020\n",
      "Epoch [75], Batch [300/391], Loss: 0.6693, LR: 0.000020\n",
      "Epoch [75], Batch [350/391], Loss: 0.7206, LR: 0.000020\n",
      "Train set: Epoch: 75, Average loss:1.5836, LR: 0.000020 Top-1 Accuracy: 67.9620%, Top-5 Accuracy: 88.5740%, Time consumed:88.35s\n"
     ]
    },
    {
     "name": "stderr",
     "output_type": "stream",
     "text": [
      " 25%|██████████████████████▌                                                                   | 75/300 [2:05:08<6:10:49, 98.89s/it]"
     ]
    },
    {
     "name": "stdout",
     "output_type": "stream",
     "text": [
      "Test set: Epoch: 75, Average loss:0.9624, Top-1 Accuracy: 73.0400%, Top-5 Accuracy: 93.2900%, Time consumed:9.64s\n",
      "\n",
      "EarlyStopping 카운터: 2 / 30\n",
      "Epoch [76], Batch [50/391], Loss: 2.0469, LR: 0.000010\n",
      "Epoch [76], Batch [100/391], Loss: 1.7162, LR: 0.000010\n",
      "Epoch [76], Batch [150/391], Loss: 0.5905, LR: 0.000010\n",
      "Epoch [76], Batch [200/391], Loss: 0.7456, LR: 0.000010\n",
      "Epoch [76], Batch [250/391], Loss: 1.5314, LR: 0.000010\n",
      "Epoch [76], Batch [300/391], Loss: 0.6132, LR: 0.000010\n",
      "Epoch [76], Batch [350/391], Loss: 2.7346, LR: 0.000010\n",
      "Train set: Epoch: 76, Average loss:1.6540, LR: 0.000010 Top-1 Accuracy: 67.0020%, Top-5 Accuracy: 88.4520%, Time consumed:88.46s\n"
     ]
    },
    {
     "name": "stderr",
     "output_type": "stream",
     "text": [
      " 25%|██████████████████████▊                                                                   | 76/300 [2:06:46<6:08:21, 98.67s/it]"
     ]
    },
    {
     "name": "stdout",
     "output_type": "stream",
     "text": [
      "Test set: Epoch: 76, Average loss:0.9583, Top-1 Accuracy: 73.2400%, Top-5 Accuracy: 93.1700%, Time consumed:9.69s\n",
      "\n",
      "EarlyStopping 카운터: 3 / 30\n",
      "Epoch [77], Batch [50/391], Loss: 2.8644, LR: 0.000010\n",
      "Epoch [77], Batch [100/391], Loss: 2.8923, LR: 0.000010\n",
      "Epoch [77], Batch [150/391], Loss: 0.6136, LR: 0.000010\n",
      "Epoch [77], Batch [200/391], Loss: 3.2509, LR: 0.000010\n",
      "Epoch [77], Batch [250/391], Loss: 2.7280, LR: 0.000010\n",
      "Epoch [77], Batch [300/391], Loss: 0.7158, LR: 0.000010\n",
      "Epoch [77], Batch [350/391], Loss: 3.0748, LR: 0.000010\n",
      "Train set: Epoch: 77, Average loss:1.5412, LR: 0.000010 Top-1 Accuracy: 68.4320%, Top-5 Accuracy: 88.9340%, Time consumed:89.26s\n"
     ]
    },
    {
     "name": "stderr",
     "output_type": "stream",
     "text": [
      " 26%|███████████████████████                                                                   | 77/300 [2:08:26<6:07:33, 98.90s/it]"
     ]
    },
    {
     "name": "stdout",
     "output_type": "stream",
     "text": [
      "Test set: Epoch: 77, Average loss:0.9699, Top-1 Accuracy: 73.0500%, Top-5 Accuracy: 93.2400%, Time consumed:10.16s\n",
      "\n",
      "EarlyStopping 카운터: 4 / 30\n",
      "Epoch [78], Batch [50/391], Loss: 1.8137, LR: 0.000010\n",
      "Epoch [78], Batch [100/391], Loss: 0.8172, LR: 0.000010\n",
      "Epoch [78], Batch [150/391], Loss: 0.8184, LR: 0.000010\n",
      "Epoch [78], Batch [200/391], Loss: 3.1980, LR: 0.000010\n",
      "Epoch [78], Batch [250/391], Loss: 3.1243, LR: 0.000010\n",
      "Epoch [78], Batch [300/391], Loss: 2.7698, LR: 0.000010\n",
      "Epoch [78], Batch [350/391], Loss: 0.6820, LR: 0.000010\n",
      "Train set: Epoch: 78, Average loss:1.6112, LR: 0.000010 Top-1 Accuracy: 67.5460%, Top-5 Accuracy: 88.3400%, Time consumed:89.38s\n"
     ]
    },
    {
     "name": "stderr",
     "output_type": "stream",
     "text": [
      " 26%|███████████████████████▍                                                                  | 78/300 [2:10:05<6:06:32, 99.07s/it]"
     ]
    },
    {
     "name": "stdout",
     "output_type": "stream",
     "text": [
      "Test set: Epoch: 78, Average loss:0.9760, Top-1 Accuracy: 73.0800%, Top-5 Accuracy: 93.1400%, Time consumed:10.08s\n",
      "\n",
      "EarlyStopping 카운터: 5 / 30\n",
      "Epoch [79], Batch [50/391], Loss: 0.8216, LR: 0.000010\n",
      "Epoch [79], Batch [100/391], Loss: 0.6463, LR: 0.000010\n",
      "Epoch [79], Batch [150/391], Loss: 1.8212, LR: 0.000010\n",
      "Epoch [79], Batch [200/391], Loss: 0.6886, LR: 0.000010\n",
      "Epoch [79], Batch [250/391], Loss: 2.3091, LR: 0.000010\n",
      "Epoch [79], Batch [300/391], Loss: 0.6982, LR: 0.000010\n",
      "Epoch [79], Batch [350/391], Loss: 2.5646, LR: 0.000010\n",
      "Train set: Epoch: 79, Average loss:1.5040, LR: 0.000010 Top-1 Accuracy: 69.7280%, Top-5 Accuracy: 89.6440%, Time consumed:88.49s\n"
     ]
    },
    {
     "name": "stderr",
     "output_type": "stream",
     "text": [
      " 26%|███████████████████████▋                                                                  | 79/300 [2:11:44<6:04:11, 98.87s/it]"
     ]
    },
    {
     "name": "stdout",
     "output_type": "stream",
     "text": [
      "Test set: Epoch: 79, Average loss:0.9768, Top-1 Accuracy: 72.9200%, Top-5 Accuracy: 93.1900%, Time consumed:9.93s\n",
      "\n",
      "EarlyStopping 카운터: 6 / 30\n",
      "Epoch [80], Batch [50/391], Loss: 0.7498, LR: 0.000010\n",
      "Epoch [80], Batch [100/391], Loss: 0.7149, LR: 0.000010\n",
      "Epoch [80], Batch [150/391], Loss: 0.5615, LR: 0.000010\n",
      "Epoch [80], Batch [200/391], Loss: 3.0768, LR: 0.000010\n",
      "Epoch [80], Batch [250/391], Loss: 0.4912, LR: 0.000010\n",
      "Epoch [80], Batch [300/391], Loss: 3.0857, LR: 0.000010\n",
      "Epoch [80], Batch [350/391], Loss: 2.9106, LR: 0.000010\n",
      "Train set: Epoch: 80, Average loss:1.5369, LR: 0.000010 Top-1 Accuracy: 68.8500%, Top-5 Accuracy: 89.1900%, Time consumed:91.08s\n"
     ]
    },
    {
     "name": "stderr",
     "output_type": "stream",
     "text": [
      " 27%|████████████████████████                                                                  | 80/300 [2:13:24<6:04:23, 99.38s/it]"
     ]
    },
    {
     "name": "stdout",
     "output_type": "stream",
     "text": [
      "Test set: Epoch: 80, Average loss:0.9518, Top-1 Accuracy: 73.1700%, Top-5 Accuracy: 93.2900%, Time consumed:9.48s\n",
      "\n",
      "EarlyStopping 카운터: 7 / 30\n",
      "Epoch [81], Batch [50/391], Loss: 0.7191, LR: 0.000010\n",
      "Epoch [81], Batch [100/391], Loss: 0.7518, LR: 0.000010\n",
      "Epoch [81], Batch [150/391], Loss: 0.9031, LR: 0.000010\n",
      "Epoch [81], Batch [200/391], Loss: 0.6741, LR: 0.000010\n",
      "Epoch [81], Batch [250/391], Loss: 2.8797, LR: 0.000010\n",
      "Epoch [81], Batch [300/391], Loss: 0.8082, LR: 0.000010\n",
      "Epoch [81], Batch [350/391], Loss: 2.4374, LR: 0.000010\n",
      "Train set: Epoch: 81, Average loss:1.6273, LR: 0.000010 Top-1 Accuracy: 67.2760%, Top-5 Accuracy: 88.4280%, Time consumed:92.96s\n"
     ]
    },
    {
     "name": "stderr",
     "output_type": "stream",
     "text": [
      " 27%|████████████████████████                                                                 | 81/300 [2:15:07<6:06:02, 100.29s/it]"
     ]
    },
    {
     "name": "stdout",
     "output_type": "stream",
     "text": [
      "Test set: Epoch: 81, Average loss:0.9610, Top-1 Accuracy: 73.0400%, Top-5 Accuracy: 93.3700%, Time consumed:9.44s\n",
      "\n",
      "EarlyStopping 카운터: 8 / 30\n",
      "Epoch [82], Batch [50/391], Loss: 2.6353, LR: 0.000005\n",
      "Epoch [82], Batch [100/391], Loss: 2.6907, LR: 0.000005\n",
      "Epoch [82], Batch [150/391], Loss: 0.8143, LR: 0.000005\n",
      "Epoch [82], Batch [200/391], Loss: 0.7501, LR: 0.000005\n",
      "Epoch [82], Batch [250/391], Loss: 0.7431, LR: 0.000005\n",
      "Epoch [82], Batch [300/391], Loss: 0.7206, LR: 0.000005\n",
      "Epoch [82], Batch [350/391], Loss: 0.8890, LR: 0.000005\n",
      "Train set: Epoch: 82, Average loss:1.5066, LR: 0.000005 Top-1 Accuracy: 69.5980%, Top-5 Accuracy: 89.8920%, Time consumed:89.31s\n"
     ]
    },
    {
     "name": "stderr",
     "output_type": "stream",
     "text": [
      " 27%|████████████████████████▎                                                                | 82/300 [2:16:46<6:03:26, 100.03s/it]"
     ]
    },
    {
     "name": "stdout",
     "output_type": "stream",
     "text": [
      "Test set: Epoch: 82, Average loss:0.9625, Top-1 Accuracy: 73.1800%, Top-5 Accuracy: 93.2000%, Time consumed:10.11s\n",
      "\n",
      "EarlyStopping 카운터: 9 / 30\n",
      "Epoch [83], Batch [50/391], Loss: 0.7241, LR: 0.000005\n",
      "Epoch [83], Batch [100/391], Loss: 1.5243, LR: 0.000005\n",
      "Epoch [83], Batch [150/391], Loss: 1.6829, LR: 0.000005\n",
      "Epoch [83], Batch [200/391], Loss: 0.7187, LR: 0.000005\n",
      "Epoch [83], Batch [250/391], Loss: 2.4512, LR: 0.000005\n",
      "Epoch [83], Batch [300/391], Loss: 2.5145, LR: 0.000005\n",
      "Epoch [83], Batch [350/391], Loss: 0.7981, LR: 0.000005\n",
      "Train set: Epoch: 83, Average loss:1.5875, LR: 0.000005 Top-1 Accuracy: 67.4900%, Top-5 Accuracy: 88.5020%, Time consumed:88.11s\n"
     ]
    },
    {
     "name": "stderr",
     "output_type": "stream",
     "text": [
      " 28%|████████████████████████▉                                                                 | 83/300 [2:18:24<5:59:32, 99.41s/it]"
     ]
    },
    {
     "name": "stdout",
     "output_type": "stream",
     "text": [
      "Test set: Epoch: 83, Average loss:0.9987, Top-1 Accuracy: 72.8500%, Top-5 Accuracy: 93.0500%, Time consumed:9.86s\n",
      "\n",
      "EarlyStopping 카운터: 10 / 30\n",
      "Epoch [84], Batch [50/391], Loss: 2.9906, LR: 0.000005\n",
      "Epoch [84], Batch [100/391], Loss: 0.5758, LR: 0.000005\n",
      "Epoch [84], Batch [150/391], Loss: 0.8605, LR: 0.000005\n",
      "Epoch [84], Batch [200/391], Loss: 0.6799, LR: 0.000005\n",
      "Epoch [84], Batch [250/391], Loss: 1.2366, LR: 0.000005\n",
      "Epoch [84], Batch [300/391], Loss: 2.6277, LR: 0.000005\n",
      "Epoch [84], Batch [350/391], Loss: 0.6981, LR: 0.000005\n",
      "Train set: Epoch: 84, Average loss:1.6423, LR: 0.000005 Top-1 Accuracy: 66.7460%, Top-5 Accuracy: 87.7520%, Time consumed:88.32s\n"
     ]
    },
    {
     "name": "stderr",
     "output_type": "stream",
     "text": [
      " 28%|█████████████████████████▏                                                                | 84/300 [2:20:02<5:56:34, 99.05s/it]"
     ]
    },
    {
     "name": "stdout",
     "output_type": "stream",
     "text": [
      "Test set: Epoch: 84, Average loss:0.9746, Top-1 Accuracy: 72.9000%, Top-5 Accuracy: 93.1900%, Time consumed:9.88s\n",
      "\n",
      "EarlyStopping 카운터: 11 / 30\n",
      "Epoch [85], Batch [50/391], Loss: 0.6877, LR: 0.000005\n",
      "Epoch [85], Batch [100/391], Loss: 1.0744, LR: 0.000005\n",
      "Epoch [85], Batch [150/391], Loss: 0.6251, LR: 0.000005\n",
      "Epoch [85], Batch [200/391], Loss: 0.6895, LR: 0.000005\n",
      "Epoch [85], Batch [250/391], Loss: 0.8721, LR: 0.000005\n",
      "Epoch [85], Batch [300/391], Loss: 0.7167, LR: 0.000005\n",
      "Epoch [85], Batch [350/391], Loss: 0.6033, LR: 0.000005\n",
      "Train set: Epoch: 85, Average loss:1.5494, LR: 0.000005 Top-1 Accuracy: 67.7360%, Top-5 Accuracy: 88.3120%, Time consumed:88.40s\n"
     ]
    },
    {
     "name": "stderr",
     "output_type": "stream",
     "text": [
      " 28%|█████████████████████████▌                                                                | 85/300 [2:21:40<5:54:04, 98.81s/it]"
     ]
    },
    {
     "name": "stdout",
     "output_type": "stream",
     "text": [
      "Test set: Epoch: 85, Average loss:0.9806, Top-1 Accuracy: 72.9100%, Top-5 Accuracy: 93.0800%, Time consumed:9.86s\n",
      "\n",
      "EarlyStopping 카운터: 12 / 30\n",
      "Epoch [86], Batch [50/391], Loss: 0.7598, LR: 0.000005\n",
      "Epoch [86], Batch [100/391], Loss: 2.9018, LR: 0.000005\n",
      "Epoch [86], Batch [150/391], Loss: 0.7888, LR: 0.000005\n",
      "Epoch [86], Batch [200/391], Loss: 3.0790, LR: 0.000005\n",
      "Epoch [86], Batch [250/391], Loss: 2.5427, LR: 0.000005\n",
      "Epoch [86], Batch [300/391], Loss: 0.7001, LR: 0.000005\n",
      "Epoch [86], Batch [350/391], Loss: 0.6610, LR: 0.000005\n",
      "Train set: Epoch: 86, Average loss:1.5535, LR: 0.000005 Top-1 Accuracy: 68.6480%, Top-5 Accuracy: 89.2380%, Time consumed:88.75s\n"
     ]
    },
    {
     "name": "stderr",
     "output_type": "stream",
     "text": [
      " 29%|█████████████████████████▊                                                                | 86/300 [2:23:19<5:52:23, 98.80s/it]"
     ]
    },
    {
     "name": "stdout",
     "output_type": "stream",
     "text": [
      "Test set: Epoch: 86, Average loss:0.9682, Top-1 Accuracy: 73.1800%, Top-5 Accuracy: 93.1200%, Time consumed:10.01s\n",
      "\n",
      "EarlyStopping 카운터: 13 / 30\n",
      "Epoch [87], Batch [50/391], Loss: 0.7431, LR: 0.000005\n",
      "Epoch [87], Batch [100/391], Loss: 2.6935, LR: 0.000005\n",
      "Epoch [87], Batch [150/391], Loss: 0.7197, LR: 0.000005\n",
      "Epoch [87], Batch [200/391], Loss: 0.7818, LR: 0.000005\n",
      "Epoch [87], Batch [250/391], Loss: 0.7773, LR: 0.000005\n",
      "Epoch [87], Batch [300/391], Loss: 0.7327, LR: 0.000005\n",
      "Epoch [87], Batch [350/391], Loss: 1.2505, LR: 0.000005\n",
      "Train set: Epoch: 87, Average loss:1.5638, LR: 0.000005 Top-1 Accuracy: 68.1640%, Top-5 Accuracy: 88.6320%, Time consumed:89.00s\n"
     ]
    },
    {
     "name": "stderr",
     "output_type": "stream",
     "text": [
      " 29%|██████████████████████████                                                                | 87/300 [2:24:58<5:50:24, 98.71s/it]"
     ]
    },
    {
     "name": "stdout",
     "output_type": "stream",
     "text": [
      "Test set: Epoch: 87, Average loss:0.9593, Top-1 Accuracy: 73.1900%, Top-5 Accuracy: 93.1600%, Time consumed:9.49s\n",
      "\n",
      "EarlyStopping 카운터: 14 / 30\n",
      "Epoch [88], Batch [50/391], Loss: 1.9874, LR: 0.000002\n",
      "Epoch [88], Batch [100/391], Loss: 0.8217, LR: 0.000002\n",
      "Epoch [88], Batch [150/391], Loss: 0.7978, LR: 0.000002\n",
      "Epoch [88], Batch [200/391], Loss: 0.7846, LR: 0.000002\n",
      "Epoch [88], Batch [250/391], Loss: 0.7298, LR: 0.000002\n",
      "Epoch [88], Batch [300/391], Loss: 0.7177, LR: 0.000002\n",
      "Epoch [88], Batch [350/391], Loss: 2.6683, LR: 0.000002\n",
      "Train set: Epoch: 88, Average loss:1.5474, LR: 0.000002 Top-1 Accuracy: 68.2080%, Top-5 Accuracy: 89.0340%, Time consumed:89.85s\n"
     ]
    },
    {
     "name": "stderr",
     "output_type": "stream",
     "text": [
      " 29%|██████████████████████████▍                                                               | 88/300 [2:26:37<5:49:47, 99.00s/it]"
     ]
    },
    {
     "name": "stdout",
     "output_type": "stream",
     "text": [
      "Test set: Epoch: 88, Average loss:0.9600, Top-1 Accuracy: 73.0800%, Top-5 Accuracy: 93.2800%, Time consumed:9.82s\n",
      "\n",
      "EarlyStopping 카운터: 15 / 30\n",
      "Epoch [89], Batch [50/391], Loss: 3.3327, LR: 0.000002\n",
      "Epoch [89], Batch [100/391], Loss: 0.5552, LR: 0.000002\n",
      "Epoch [89], Batch [150/391], Loss: 0.7271, LR: 0.000002\n",
      "Epoch [89], Batch [200/391], Loss: 2.6625, LR: 0.000002\n",
      "Epoch [89], Batch [250/391], Loss: 0.8530, LR: 0.000002\n",
      "Epoch [89], Batch [300/391], Loss: 2.6638, LR: 0.000002\n",
      "Epoch [89], Batch [350/391], Loss: 0.6483, LR: 0.000002\n",
      "Train set: Epoch: 89, Average loss:1.5468, LR: 0.000002 Top-1 Accuracy: 68.5420%, Top-5 Accuracy: 88.9060%, Time consumed:88.48s\n"
     ]
    },
    {
     "name": "stderr",
     "output_type": "stream",
     "text": [
      " 30%|██████████████████████████▋                                                               | 89/300 [2:28:15<5:46:59, 98.67s/it]"
     ]
    },
    {
     "name": "stdout",
     "output_type": "stream",
     "text": [
      "Test set: Epoch: 89, Average loss:0.9601, Top-1 Accuracy: 73.1400%, Top-5 Accuracy: 93.2900%, Time consumed:9.42s\n",
      "\n",
      "EarlyStopping 카운터: 16 / 30\n",
      "Epoch [90], Batch [50/391], Loss: 2.8898, LR: 0.000002\n",
      "Epoch [90], Batch [100/391], Loss: 2.2305, LR: 0.000002\n",
      "Epoch [90], Batch [150/391], Loss: 0.5991, LR: 0.000002\n",
      "Epoch [90], Batch [200/391], Loss: 0.7704, LR: 0.000002\n",
      "Epoch [90], Batch [250/391], Loss: 1.9032, LR: 0.000002\n",
      "Epoch [90], Batch [300/391], Loss: 0.7189, LR: 0.000002\n",
      "Epoch [90], Batch [350/391], Loss: 0.6416, LR: 0.000002\n",
      "Train set: Epoch: 90, Average loss:1.5513, LR: 0.000002 Top-1 Accuracy: 68.2520%, Top-5 Accuracy: 88.6940%, Time consumed:89.02s\n"
     ]
    },
    {
     "name": "stderr",
     "output_type": "stream",
     "text": [
      " 30%|███████████████████████████                                                               | 90/300 [2:29:55<5:46:48, 99.09s/it]"
     ]
    },
    {
     "name": "stdout",
     "output_type": "stream",
     "text": [
      "Test set: Epoch: 90, Average loss:0.9782, Top-1 Accuracy: 72.8700%, Top-5 Accuracy: 92.9900%, Time consumed:11.04s\n",
      "\n",
      "EarlyStopping 카운터: 17 / 30\n",
      "Epoch [91], Batch [50/391], Loss: 0.7816, LR: 0.000002\n",
      "Epoch [91], Batch [100/391], Loss: 2.9884, LR: 0.000002\n",
      "Epoch [91], Batch [150/391], Loss: 2.7683, LR: 0.000002\n",
      "Epoch [91], Batch [200/391], Loss: 0.6506, LR: 0.000002\n",
      "Epoch [91], Batch [250/391], Loss: 2.8565, LR: 0.000002\n",
      "Epoch [91], Batch [300/391], Loss: 2.5927, LR: 0.000002\n",
      "Epoch [91], Batch [350/391], Loss: 3.1355, LR: 0.000002\n",
      "Train set: Epoch: 91, Average loss:1.5879, LR: 0.000002 Top-1 Accuracy: 67.7720%, Top-5 Accuracy: 88.5440%, Time consumed:91.81s\n"
     ]
    },
    {
     "name": "stderr",
     "output_type": "stream",
     "text": [
      " 30%|███████████████████████████▎                                                              | 91/300 [2:31:37<5:47:56, 99.89s/it]"
     ]
    },
    {
     "name": "stdout",
     "output_type": "stream",
     "text": [
      "Test set: Epoch: 91, Average loss:0.9741, Top-1 Accuracy: 72.8600%, Top-5 Accuracy: 93.2000%, Time consumed:9.95s\n",
      "\n",
      "EarlyStopping 카운터: 18 / 30\n",
      "Epoch [92], Batch [50/391], Loss: 1.9072, LR: 0.000002\n",
      "Epoch [92], Batch [100/391], Loss: 0.7041, LR: 0.000002\n",
      "Epoch [92], Batch [150/391], Loss: 0.7294, LR: 0.000002\n",
      "Epoch [92], Batch [200/391], Loss: 3.1631, LR: 0.000002\n",
      "Epoch [92], Batch [250/391], Loss: 0.6505, LR: 0.000002\n",
      "Epoch [92], Batch [300/391], Loss: 3.0607, LR: 0.000002\n",
      "Epoch [92], Batch [350/391], Loss: 2.6121, LR: 0.000002\n",
      "Train set: Epoch: 92, Average loss:1.5937, LR: 0.000002 Top-1 Accuracy: 67.6480%, Top-5 Accuracy: 88.3660%, Time consumed:88.98s\n"
     ]
    },
    {
     "name": "stderr",
     "output_type": "stream",
     "text": [
      " 31%|███████████████████████████▌                                                              | 92/300 [2:33:16<5:45:09, 99.57s/it]"
     ]
    },
    {
     "name": "stdout",
     "output_type": "stream",
     "text": [
      "Test set: Epoch: 92, Average loss:0.9619, Top-1 Accuracy: 73.0700%, Top-5 Accuracy: 93.3400%, Time consumed:9.83s\n",
      "\n",
      "EarlyStopping 카운터: 19 / 30\n",
      "Epoch [93], Batch [50/391], Loss: 3.3367, LR: 0.000002\n",
      "Epoch [93], Batch [100/391], Loss: 3.0067, LR: 0.000002\n",
      "Epoch [93], Batch [150/391], Loss: 1.6546, LR: 0.000002\n",
      "Epoch [93], Batch [200/391], Loss: 0.7859, LR: 0.000002\n",
      "Epoch [93], Batch [250/391], Loss: 0.7466, LR: 0.000002\n",
      "Epoch [93], Batch [300/391], Loss: 0.7419, LR: 0.000002\n",
      "Epoch [93], Batch [350/391], Loss: 0.6963, LR: 0.000002\n",
      "Train set: Epoch: 93, Average loss:1.5846, LR: 0.000002 Top-1 Accuracy: 67.4400%, Top-5 Accuracy: 88.0720%, Time consumed:88.48s\n"
     ]
    },
    {
     "name": "stderr",
     "output_type": "stream",
     "text": [
      " 31%|███████████████████████████▉                                                              | 93/300 [2:34:54<5:42:13, 99.20s/it]"
     ]
    },
    {
     "name": "stdout",
     "output_type": "stream",
     "text": [
      "Test set: Epoch: 93, Average loss:0.9674, Top-1 Accuracy: 73.1000%, Top-5 Accuracy: 93.2800%, Time consumed:9.85s\n",
      "\n",
      "EarlyStopping 카운터: 20 / 30\n",
      "Epoch [94], Batch [50/391], Loss: 0.7748, LR: 0.000001\n",
      "Epoch [94], Batch [100/391], Loss: 0.7589, LR: 0.000001\n",
      "Epoch [94], Batch [150/391], Loss: 1.7609, LR: 0.000001\n",
      "Epoch [94], Batch [200/391], Loss: 1.4733, LR: 0.000001\n",
      "Epoch [94], Batch [250/391], Loss: 1.9586, LR: 0.000001\n",
      "Epoch [94], Batch [300/391], Loss: 0.8464, LR: 0.000001\n",
      "Epoch [94], Batch [350/391], Loss: 0.7414, LR: 0.000001\n",
      "Train set: Epoch: 94, Average loss:1.4841, LR: 0.000001 Top-1 Accuracy: 70.1100%, Top-5 Accuracy: 90.0660%, Time consumed:88.43s\n"
     ]
    },
    {
     "name": "stderr",
     "output_type": "stream",
     "text": [
      " 31%|████████████████████████████▏                                                             | 94/300 [2:36:33<5:39:56, 99.01s/it]"
     ]
    },
    {
     "name": "stdout",
     "output_type": "stream",
     "text": [
      "Test set: Epoch: 94, Average loss:0.9536, Top-1 Accuracy: 73.2400%, Top-5 Accuracy: 93.2700%, Time consumed:10.15s\n",
      "\n",
      "EarlyStopping 카운터: 21 / 30\n",
      "Epoch [95], Batch [50/391], Loss: 2.6291, LR: 0.000001\n",
      "Epoch [95], Batch [100/391], Loss: 0.7214, LR: 0.000001\n",
      "Epoch [95], Batch [150/391], Loss: 0.7138, LR: 0.000001\n",
      "Epoch [95], Batch [200/391], Loss: 3.0478, LR: 0.000001\n",
      "Epoch [95], Batch [250/391], Loss: 2.9171, LR: 0.000001\n",
      "Epoch [95], Batch [300/391], Loss: 2.7361, LR: 0.000001\n",
      "Epoch [95], Batch [350/391], Loss: 2.3556, LR: 0.000001\n",
      "Train set: Epoch: 95, Average loss:1.5283, LR: 0.000001 Top-1 Accuracy: 68.4940%, Top-5 Accuracy: 88.6000%, Time consumed:88.72s\n"
     ]
    },
    {
     "name": "stderr",
     "output_type": "stream",
     "text": [
      " 32%|████████████████████████████▌                                                             | 95/300 [2:38:11<5:37:34, 98.80s/it]"
     ]
    },
    {
     "name": "stdout",
     "output_type": "stream",
     "text": [
      "Test set: Epoch: 95, Average loss:0.9636, Top-1 Accuracy: 73.2300%, Top-5 Accuracy: 93.2500%, Time consumed:9.59s\n",
      "\n",
      "EarlyStopping 카운터: 22 / 30\n",
      "Epoch [96], Batch [50/391], Loss: 0.5882, LR: 0.000001\n",
      "Epoch [96], Batch [100/391], Loss: 2.4752, LR: 0.000001\n",
      "Epoch [96], Batch [150/391], Loss: 2.2392, LR: 0.000001\n",
      "Epoch [96], Batch [200/391], Loss: 3.1001, LR: 0.000001\n",
      "Epoch [96], Batch [250/391], Loss: 0.6746, LR: 0.000001\n",
      "Epoch [96], Batch [300/391], Loss: 2.0590, LR: 0.000001\n",
      "Epoch [96], Batch [350/391], Loss: 0.7282, LR: 0.000001\n",
      "Train set: Epoch: 96, Average loss:1.5958, LR: 0.000001 Top-1 Accuracy: 67.8420%, Top-5 Accuracy: 88.7220%, Time consumed:90.19s\n"
     ]
    },
    {
     "name": "stderr",
     "output_type": "stream",
     "text": [
      " 32%|████████████████████████████▊                                                             | 96/300 [2:39:52<5:38:04, 99.43s/it]"
     ]
    },
    {
     "name": "stdout",
     "output_type": "stream",
     "text": [
      "Test set: Epoch: 96, Average loss:0.9647, Top-1 Accuracy: 73.0700%, Top-5 Accuracy: 93.2100%, Time consumed:10.70s\n",
      "\n",
      "EarlyStopping 카운터: 23 / 30\n",
      "Epoch [97], Batch [50/391], Loss: 0.7556, LR: 0.000001\n",
      "Epoch [97], Batch [100/391], Loss: 2.8745, LR: 0.000001\n",
      "Epoch [97], Batch [150/391], Loss: 0.8570, LR: 0.000001\n",
      "Epoch [97], Batch [200/391], Loss: 3.1040, LR: 0.000001\n",
      "Epoch [97], Batch [250/391], Loss: 0.7378, LR: 0.000001\n",
      "Epoch [97], Batch [300/391], Loss: 0.7112, LR: 0.000001\n",
      "Epoch [97], Batch [350/391], Loss: 0.7165, LR: 0.000001\n",
      "Train set: Epoch: 97, Average loss:1.5461, LR: 0.000001 Top-1 Accuracy: 68.6640%, Top-5 Accuracy: 89.0220%, Time consumed:88.88s\n"
     ]
    },
    {
     "name": "stderr",
     "output_type": "stream",
     "text": [
      " 32%|█████████████████████████████                                                             | 97/300 [2:41:32<5:36:41, 99.51s/it]"
     ]
    },
    {
     "name": "stdout",
     "output_type": "stream",
     "text": [
      "Test set: Epoch: 97, Average loss:0.9699, Top-1 Accuracy: 72.9700%, Top-5 Accuracy: 93.1400%, Time consumed:10.82s\n",
      "\n",
      "EarlyStopping 카운터: 24 / 30\n",
      "Epoch [98], Batch [50/391], Loss: 0.8718, LR: 0.000001\n",
      "Epoch [98], Batch [100/391], Loss: 0.8345, LR: 0.000001\n",
      "Epoch [98], Batch [150/391], Loss: 2.7401, LR: 0.000001\n",
      "Epoch [98], Batch [200/391], Loss: 3.1610, LR: 0.000001\n",
      "Epoch [98], Batch [250/391], Loss: 2.7938, LR: 0.000001\n",
      "Epoch [98], Batch [300/391], Loss: 0.6634, LR: 0.000001\n",
      "Epoch [98], Batch [350/391], Loss: 0.8286, LR: 0.000001\n",
      "Train set: Epoch: 98, Average loss:1.5254, LR: 0.000001 Top-1 Accuracy: 69.0680%, Top-5 Accuracy: 89.4080%, Time consumed:88.78s\n"
     ]
    },
    {
     "name": "stderr",
     "output_type": "stream",
     "text": [
      " 33%|█████████████████████████████▍                                                            | 98/300 [2:43:11<5:34:47, 99.44s/it]"
     ]
    },
    {
     "name": "stdout",
     "output_type": "stream",
     "text": [
      "Test set: Epoch: 98, Average loss:0.9696, Top-1 Accuracy: 73.1900%, Top-5 Accuracy: 93.3500%, Time consumed:10.49s\n",
      "\n",
      "EarlyStopping 카운터: 25 / 30\n",
      "Epoch [99], Batch [50/391], Loss: 2.8386, LR: 0.000001\n",
      "Epoch [99], Batch [100/391], Loss: 0.7315, LR: 0.000001\n",
      "Epoch [99], Batch [150/391], Loss: 0.7289, LR: 0.000001\n",
      "Epoch [99], Batch [200/391], Loss: 0.7631, LR: 0.000001\n",
      "Epoch [99], Batch [250/391], Loss: 0.6738, LR: 0.000001\n",
      "Epoch [99], Batch [300/391], Loss: 0.7207, LR: 0.000001\n",
      "Epoch [99], Batch [350/391], Loss: 3.2665, LR: 0.000001\n",
      "Train set: Epoch: 99, Average loss:1.5954, LR: 0.000001 Top-1 Accuracy: 67.1600%, Top-5 Accuracy: 88.0260%, Time consumed:90.26s\n"
     ]
    },
    {
     "name": "stderr",
     "output_type": "stream",
     "text": [
      " 33%|█████████████████████████████▋                                                            | 99/300 [2:44:51<5:33:21, 99.51s/it]"
     ]
    },
    {
     "name": "stdout",
     "output_type": "stream",
     "text": [
      "Test set: Epoch: 99, Average loss:0.9693, Top-1 Accuracy: 73.1400%, Top-5 Accuracy: 93.2100%, Time consumed:9.39s\n",
      "\n",
      "EarlyStopping 카운터: 26 / 30\n",
      "Epoch [100], Batch [50/391], Loss: 0.5781, LR: 0.000001\n",
      "Epoch [100], Batch [100/391], Loss: 1.0693, LR: 0.000001\n",
      "Epoch [100], Batch [150/391], Loss: 2.7761, LR: 0.000001\n",
      "Epoch [100], Batch [200/391], Loss: 2.1259, LR: 0.000001\n",
      "Epoch [100], Batch [250/391], Loss: 1.7426, LR: 0.000001\n",
      "Epoch [100], Batch [300/391], Loss: 1.3425, LR: 0.000001\n",
      "Epoch [100], Batch [350/391], Loss: 0.8396, LR: 0.000001\n",
      "Train set: Epoch: 100, Average loss:1.5865, LR: 0.000001 Top-1 Accuracy: 67.8200%, Top-5 Accuracy: 88.5360%, Time consumed:88.61s\n"
     ]
    },
    {
     "name": "stderr",
     "output_type": "stream",
     "text": [
      " 33%|█████████████████████████████▋                                                           | 100/300 [2:46:29<5:30:46, 99.23s/it]"
     ]
    },
    {
     "name": "stdout",
     "output_type": "stream",
     "text": [
      "Test set: Epoch: 100, Average loss:0.9724, Top-1 Accuracy: 73.1100%, Top-5 Accuracy: 93.2100%, Time consumed:9.97s\n",
      "\n",
      "EarlyStopping 카운터: 27 / 30\n",
      "Epoch [101], Batch [50/391], Loss: 3.2244, LR: 0.000001\n",
      "Epoch [101], Batch [100/391], Loss: 1.4213, LR: 0.000001\n",
      "Epoch [101], Batch [150/391], Loss: 3.1835, LR: 0.000001\n",
      "Epoch [101], Batch [200/391], Loss: 0.8023, LR: 0.000001\n",
      "Epoch [101], Batch [250/391], Loss: 0.7465, LR: 0.000001\n",
      "Epoch [101], Batch [300/391], Loss: 0.7714, LR: 0.000001\n",
      "Epoch [101], Batch [350/391], Loss: 0.7484, LR: 0.000001\n",
      "Train set: Epoch: 101, Average loss:1.5992, LR: 0.000001 Top-1 Accuracy: 67.6340%, Top-5 Accuracy: 88.4920%, Time consumed:89.68s\n"
     ]
    },
    {
     "name": "stderr",
     "output_type": "stream",
     "text": [
      " 34%|█████████████████████████████▉                                                           | 101/300 [2:48:09<5:29:57, 99.48s/it]"
     ]
    },
    {
     "name": "stdout",
     "output_type": "stream",
     "text": [
      "Test set: Epoch: 101, Average loss:0.9534, Top-1 Accuracy: 73.0400%, Top-5 Accuracy: 93.2500%, Time consumed:10.38s\n",
      "\n",
      "EarlyStopping 카운터: 28 / 30\n",
      "Epoch [102], Batch [50/391], Loss: 3.0464, LR: 0.000001\n",
      "Epoch [102], Batch [100/391], Loss: 2.3870, LR: 0.000001\n",
      "Epoch [102], Batch [150/391], Loss: 0.6796, LR: 0.000001\n",
      "Epoch [102], Batch [200/391], Loss: 2.8614, LR: 0.000001\n",
      "Epoch [102], Batch [250/391], Loss: 0.6383, LR: 0.000001\n",
      "Epoch [102], Batch [300/391], Loss: 2.8973, LR: 0.000001\n",
      "Epoch [102], Batch [350/391], Loss: 2.9682, LR: 0.000001\n",
      "Train set: Epoch: 102, Average loss:1.4907, LR: 0.000001 Top-1 Accuracy: 70.2280%, Top-5 Accuracy: 90.1400%, Time consumed:87.80s\n"
     ]
    },
    {
     "name": "stderr",
     "output_type": "stream",
     "text": [
      " 34%|██████████████████████████████▎                                                          | 102/300 [2:49:47<5:26:30, 98.94s/it]"
     ]
    },
    {
     "name": "stdout",
     "output_type": "stream",
     "text": [
      "Test set: Epoch: 102, Average loss:0.9667, Top-1 Accuracy: 73.0700%, Top-5 Accuracy: 93.3200%, Time consumed:9.87s\n",
      "\n",
      "EarlyStopping 카운터: 29 / 30\n",
      "Epoch [103], Batch [50/391], Loss: 0.8955, LR: 0.000001\n",
      "Epoch [103], Batch [100/391], Loss: 0.7411, LR: 0.000001\n",
      "Epoch [103], Batch [150/391], Loss: 0.6818, LR: 0.000001\n",
      "Epoch [103], Batch [200/391], Loss: 1.9637, LR: 0.000001\n",
      "Epoch [103], Batch [250/391], Loss: 3.0246, LR: 0.000001\n",
      "Epoch [103], Batch [300/391], Loss: 2.3985, LR: 0.000001\n",
      "Epoch [103], Batch [350/391], Loss: 2.9174, LR: 0.000001\n",
      "Train set: Epoch: 103, Average loss:1.6457, LR: 0.000001 Top-1 Accuracy: 66.8320%, Top-5 Accuracy: 87.9940%, Time consumed:89.01s\n"
     ]
    },
    {
     "name": "stderr",
     "output_type": "stream",
     "text": [
      " 34%|█████████████████████████████▉                                                          | 102/300 [2:51:26<5:32:46, 100.84s/it]"
     ]
    },
    {
     "name": "stdout",
     "output_type": "stream",
     "text": [
      "Test set: Epoch: 103, Average loss:1.0008, Top-1 Accuracy: 72.7500%, Top-5 Accuracy: 92.9800%, Time consumed:9.50s\n",
      "\n",
      "EarlyStopping 카운터: 30 / 30\n",
      "에폭 103에서 학습 조기 종료. 최고 성능 에폭: 73\n",
      "테스트 정확도 기준 최고 모델 로드 중...\n"
     ]
    },
    {
     "name": "stderr",
     "output_type": "stream",
     "text": [
      "\n"
     ]
    },
    {
     "name": "stdout",
     "output_type": "stream",
     "text": [
      "Test set: Epoch: 300, Average loss:0.9563, Top-1 Accuracy: 73.2900%, Top-5 Accuracy: 93.4700%, Time consumed:10.17s\n",
      "\n",
      "완료! 최고 테스트 top-1 정확도: 73.29%, 최고 테스트 top-5 정확도: 93.47%\n",
      "최종 테스트 top-1 정확도: 73.29%, 최종 테스트 top-5 정확도: 93.47%\n",
      "전체 학습 시간: 10296.29 초\n"
     ]
    },
    {
     "data": {
      "text/html": [],
      "text/plain": [
       "<IPython.core.display.HTML object>"
      ]
     },
     "metadata": {},
     "output_type": "display_data"
    },
    {
     "data": {
      "text/html": [
       "<br>    <style><br>        .wandb-row {<br>            display: flex;<br>            flex-direction: row;<br>            flex-wrap: wrap;<br>            justify-content: flex-start;<br>            width: 100%;<br>        }<br>        .wandb-col {<br>            display: flex;<br>            flex-direction: column;<br>            flex-basis: 100%;<br>            flex: 1;<br>            padding: 10px;<br>        }<br>    </style><br><div class=\"wandb-row\"><div class=\"wandb-col\"><h3>Run history:</h3><br/><table class=\"wandb\"><tr><td>epoch</td><td>▁▁▁▂▂▂▂▂▂▂▃▃▃▃▃▄▄▄▄▄▅▅▅▅▅▆▆▆▆▆▇▇▇▇▇▇▇███</td></tr><tr><td>learning_rate</td><td>▂▄▆▇██████▄▂▂▂▂▁▁▁▁▁▁▁▁▁▁▁▁▁▁▁▁▁▁▁▁▁▁▁▁▁</td></tr><tr><td>test_accuracy_top1</td><td>▁▁▂▃▃▅▆▆▇▇▇▇████████████████████████████</td></tr><tr><td>test_accuracy_top5</td><td>▁▃▄▅▆▇▇▇▇▇▇▇▇███████████████████████████</td></tr><tr><td>test_loss</td><td>█▆▅▄▃▂▂▂▂▂▁▁▁▁▁▁▁▁▁▁▁▁▁▁▁▁▁▁▁▁▁▁▁▁▁▁▁▁▁▁</td></tr><tr><td>total_training_time</td><td>▁</td></tr><tr><td>train_accuracy_top1</td><td>▁▂▂▃▃▅▅▆▆▆▆▇▇▇▇▇▇▇█▇████████████████████</td></tr><tr><td>train_accuracy_top5</td><td>▁▃▄▆▆▇▇▇▇███████████████████████████████</td></tr><tr><td>train_loss</td><td>█▇▆▆▅▄▃▂▂▂▂▂▂▂▁▁▁▁▁▁▁▁▁▁▁▁▁▁▁▁▁▁▁▁▁▁▁▁▁▁</td></tr></table><br/></div><div class=\"wandb-col\"><h3>Run summary:</h3><br/><table class=\"wandb\"><tr><td>best_epoch</td><td>73</td></tr><tr><td>best_test_accuracy_top1</td><td>73.29</td></tr><tr><td>best_test_accuracy_top5</td><td>93.47</td></tr><tr><td>early_stopped</td><td>True</td></tr><tr><td>early_stopped_epoch</td><td>103</td></tr><tr><td>epoch</td><td>103</td></tr><tr><td>final_test_accuracy_top1</td><td>73.29</td></tr><tr><td>final_test_accuracy_top5</td><td>93.47</td></tr><tr><td>learning_rate</td><td>0.0</td></tr><tr><td>test_accuracy_top1</td><td>72.75</td></tr><tr><td>test_accuracy_top5</td><td>92.98</td></tr><tr><td>test_loss</td><td>1.00083</td></tr><tr><td>total_training_time</td><td>10296.29128</td></tr><tr><td>train_accuracy_top1</td><td>66.832</td></tr><tr><td>train_accuracy_top5</td><td>87.994</td></tr><tr><td>train_loss</td><td>1.6457</td></tr></table><br/></div></div>"
      ],
      "text/plain": [
       "<IPython.core.display.HTML object>"
      ]
     },
     "metadata": {},
     "output_type": "display_data"
    },
    {
     "data": {
      "text/html": [
       " View run <strong style=\"color:#cdcd00\">resnet18_cfc,lr=0.005,factor=0.5,SAM_SGD,PSKD</strong> at: <a href='https://wandb.ai/sokjh1310-hanyang-university/PBL-2/runs/24tufm42' target=\"_blank\">https://wandb.ai/sokjh1310-hanyang-university/PBL-2/runs/24tufm42</a><br> View project at: <a href='https://wandb.ai/sokjh1310-hanyang-university/PBL-2' target=\"_blank\">https://wandb.ai/sokjh1310-hanyang-university/PBL-2</a><br>Synced 5 W&B file(s), 0 media file(s), 0 artifact file(s) and 1 other file(s)"
      ],
      "text/plain": [
       "<IPython.core.display.HTML object>"
      ]
     },
     "metadata": {},
     "output_type": "display_data"
    },
    {
     "data": {
      "text/html": [
       "Find logs at: <code>./wandb/run-20250428_052156-24tufm42/logs</code>"
      ],
      "text/plain": [
       "<IPython.core.display.HTML object>"
      ]
     },
     "metadata": {},
     "output_type": "display_data"
    }
   ],
   "source": [
    "import torch\n",
    "import torch.nn as nn\n",
    "import torch.optim as optim\n",
    "from torch.utils.data import DataLoader\n",
    "import torchvision\n",
    "import torchvision.transforms as transforms\n",
    "import torchvision.transforms.v2 as transforms_v2  # CutMix를 위한 v2 transforms 추가\n",
    "import sys\n",
    "import os\n",
    "import time\n",
    "import random\n",
    "import numpy as np\n",
    "import wandb\n",
    "from tqdm import tqdm\n",
    "from tools.tool import AccuracyEarlyStopping, WarmUpLR, SAM, PSKD  # 수정된 AccuracyEarlyStopping 클래스 임포트\n",
    "from models.resnet import resnet18\n",
    "\n",
    "wandb.login(key=\"ef091b9abcea3186341ddf8995d62bde62d7469e\")\n",
    "wandb.init(project=\"PBL-2\", name=\"resnet18_cfc,lr=0.005,factor=0.5,SAM_SGD,PSKD\")  \n",
    "\n",
    "# WandB 설정 - ResNeXt 코드의 파라미터 사용하되 모델만 resnet18로 변경\n",
    "config = {\n",
    "    # 모델 설정\n",
    "    \"model\": \"resnet18\",  # 모델만 resnet18로 유지\n",
    "    \"batch_size\": 128,    \n",
    "    \"num_epochs\": 300,\n",
    "    \n",
    "    \"learning_rate\": 0.005,  \n",
    "    \"optimizer\": \"SAM_SGD\",\n",
    "    \"momentum\": 0.9,\n",
    "    \"weight_decay\": 5e-4,\n",
    "    \"nesterov\": True,\n",
    "    \n",
    "    # SAM 옵티마이저 설정\n",
    "    \"rho\": 0.05,\n",
    "    \"adaptive\": False,\n",
    "    \n",
    "    # 학습 과정 설정\n",
    "    \"seed\": 2025,\n",
    "    \"deterministic\": False,\n",
    "    \"patience\": 30,  # early stopping patience\n",
    "    \"max_epochs_wait\": float('inf'),\n",
    "    \n",
    "    # 데이터 증강 설정\n",
    "    \"cutmix_alpha\": 1.0,  # CutMix 알파 파라미터\n",
    "    \"cutmix_prob\": 0.5,   # CutMix 적용 확률\n",
    "    \"crop_padding\": 4,    # RandomCrop 패딩 크기\n",
    "    \"crop_size\": 32,      # RandomCrop 크기 (CIFAR-100 이미지 크기는 32x32)\n",
    "    \n",
    "    # 스케줄러 설정 - ResNeXt 파라미터 적용\n",
    "    \"warmup_epochs\": 10,  # ResNeXt와 동일하게 설정\n",
    "    \"lr_scheduler\": \"ReduceLROnPlateau\",\n",
    "    \"lr_factor\": 0.5,\n",
    "    \"lr_patience\": 5,\n",
    "    \"lr_threshold\": 0.1,\n",
    "    \"min_lr\": 1e-6,\n",
    "    \n",
    "    # 시스템 설정\n",
    "    \"num_workers\": 32,\n",
    "    \"pin_memory\": True,\n",
    "}\n",
    "\n",
    "wandb.config.update(config)\n",
    "\n",
    "# CIFAR-100 데이터셋 로드 - 기본 train/test 분할 사용\n",
    "transform_train = transforms.Compose([\n",
    "    transforms.RandomCrop(config[\"crop_size\"], padding=config[\"crop_padding\"]),\n",
    "    transforms.RandomHorizontalFlip(),\n",
    "    transforms.ToTensor(),\n",
    "    transforms.Normalize((0.5071, 0.4867, 0.4408), (0.2675, 0.2565, 0.2761)),\n",
    "])\n",
    "\n",
    "transform_test = transforms.Compose([\n",
    "    transforms.ToTensor(),\n",
    "    transforms.Normalize((0.5071, 0.4867, 0.4408), (0.2675, 0.2565, 0.2761)),\n",
    "])\n",
    "\n",
    "trainset = torchvision.datasets.CIFAR100(\n",
    "    root='./data', train=True, download=True, transform=transform_train)\n",
    "\n",
    "testset = torchvision.datasets.CIFAR100(\n",
    "    root='./data', train=False, download=True, transform=transform_test)\n",
    "\n",
    "# DataLoader 생성 - config 사용\n",
    "trainloader = DataLoader(\n",
    "    trainset, \n",
    "    batch_size=config[\"batch_size\"], \n",
    "    shuffle=True, \n",
    "    pin_memory=config[\"pin_memory\"], \n",
    "    num_workers=config[\"num_workers\"]\n",
    ")\n",
    "\n",
    "testloader = DataLoader(\n",
    "    testset, \n",
    "    batch_size=config[\"batch_size\"], \n",
    "    shuffle=False, \n",
    "    pin_memory=config[\"pin_memory\"], \n",
    "    num_workers=config[\"num_workers\"]\n",
    ")\n",
    "\n",
    "print(f\"Train set size: {len(trainset)}\")\n",
    "print(f\"Test set size: {len(testset)}\")\n",
    "\n",
    "# CutMix 변환 정의\n",
    "cutmix = transforms_v2.CutMix(alpha=config[\"cutmix_alpha\"], num_classes=100)  # CIFAR-100은 100개 클래스\n",
    "\n",
    "def train(model, trainloader, criterion, optimizer, device, epoch, warmup_scheduler=None, warmup_epochs=None):\n",
    "    \"\"\"\n",
    "    학습 함수 (CutMix 및 PSKD 적용)\n",
    "    \"\"\"\n",
    "    # config에서 warmup_epochs 가져오기 (None이면)\n",
    "    if warmup_epochs is None:\n",
    "        warmup_epochs = config[\"warmup_epochs\"]\n",
    "        \n",
    "    model.train()   # 모델을 학습 모드로 설정\n",
    "    start_time = time.time()  # 시간 측정 시작\n",
    "    running_loss = 0.0\n",
    "    correct_top1 = 0\n",
    "    correct_top5 = 0\n",
    "    total = 0\n",
    "    \n",
    "    for i, (inputs, labels) in enumerate(trainloader):\n",
    "        inputs, labels = inputs.to(device), labels.to(device)\n",
    "        \n",
    "        # CutMix 확률적 적용\n",
    "        if random.random() < config[\"cutmix_prob\"]:\n",
    "            inputs, labels = cutmix(inputs, labels)\n",
    "            # 이 경우 labels은 원-핫 인코딩 형태로 변환됨\n",
    "            use_cutmix = True\n",
    "        else:\n",
    "            # 일반 레이블을 원-핫 인코딩으로 변환 (PSKD에 필요)\n",
    "            batch_size = labels.size(0)\n",
    "            one_hot_labels = torch.zeros(batch_size, 100).to(device)  # CIFAR-100은 100개 클래스\n",
    "            one_hot_labels.scatter_(1, labels.unsqueeze(1), 1)\n",
    "            use_cutmix = False\n",
    "        \n",
    "        optimizer.zero_grad()\n",
    "        \n",
    "        outputs = model(inputs)\n",
    "        \n",
    "        # SAM 첫 번째 스텝을 위한 손실 계산\n",
    "        if use_cutmix:\n",
    "            # CutMix가 적용된 경우 (이미 원-핫 인코딩된 레이블)\n",
    "            loss = criterion(outputs, labels)\n",
    "        else:\n",
    "            # 일반적인 경우 (원-핫 인코딩으로 변환한 레이블)\n",
    "            loss = criterion(outputs, one_hot_labels)\n",
    "            \n",
    "        loss.backward()\n",
    "        optimizer.first_step(zero_grad=True)\n",
    "        \n",
    "        # SAM 두 번째 스텝을 위한 손실 계산\n",
    "        outputs = model(inputs)\n",
    "        if use_cutmix:\n",
    "            loss = criterion(outputs, labels)\n",
    "        else:\n",
    "            loss = criterion(outputs, one_hot_labels)\n",
    "        \n",
    "        loss.backward()\n",
    "        optimizer.second_step(zero_grad=True)\n",
    "        \n",
    "        # 학습률 스케줄러 업데이트 - warmup 스케줄러만 여기서 업데이트\n",
    "        if epoch < warmup_epochs and warmup_scheduler is not None:\n",
    "            warmup_scheduler.step()\n",
    "        \n",
    "        running_loss += loss.item()\n",
    "        \n",
    "        # 정확도 계산 - CutMix 적용 여부에 따라 다르게 처리\n",
    "        if use_cutmix:\n",
    "            # 원-핫 인코딩된 레이블에서 argmax를 사용해 가장 큰 값의 인덱스 추출\n",
    "            _, label_idx = labels.max(1)\n",
    "        else:\n",
    "            # 정수 인덱스 레이블 그대로 사용\n",
    "            label_idx = labels\n",
    "            \n",
    "        # top-1 정확도 계산\n",
    "        _, predicted = outputs.max(1)\n",
    "        total += inputs.size(0)\n",
    "        correct_top1 += predicted.eq(label_idx).sum().item()\n",
    "        \n",
    "        # top-5 정확도 계산\n",
    "        _, top5_idx = outputs.topk(5, 1, largest=True, sorted=True)\n",
    "        correct_top5 += sum([1 for i in range(len(label_idx)) if label_idx[i] in top5_idx[i]])\n",
    "        \n",
    "        if (i + 1) % 50 == 0:  # 50 배치마다 출력\n",
    "            print(f'Epoch [{epoch+1}], Batch [{i+1}/{len(trainloader)}], Loss: {loss.item():.4f}, LR: {optimizer.param_groups[0][\"lr\"]:.6f}')\n",
    "    \n",
    "    epoch_loss = running_loss / len(trainloader)\n",
    "    accuracy_top1 = 100.0 * correct_top1 / total\n",
    "    accuracy_top5 = 100.0 * correct_top5 / total\n",
    "    \n",
    "    train_time = time.time() - start_time\n",
    "    \n",
    "    # 학습 세트에 대한 성능 출력\n",
    "    print(f'Train set: Epoch: {epoch+1}, Average loss:{epoch_loss:.4f}, LR: {optimizer.param_groups[0][\"lr\"]:.6f} '\n",
    "          f'Top-1 Accuracy: {accuracy_top1:.4f}%, Top-5 Accuracy: {accuracy_top5:.4f}%, Time consumed:{train_time:.2f}s')\n",
    "    \n",
    "    return epoch_loss, accuracy_top1, accuracy_top5\n",
    "\n",
    "def evaluate(model, dataloader, criterion, device, epoch, phase=\"test\"):\n",
    "    \"\"\"\n",
    "    평가 함수 (PSKD 손실 함수 적용)\n",
    "    \"\"\"\n",
    "    model.eval()  # 모델을 평가 모드로 설정\n",
    "    start_time = time.time()  # 시간 측정 시작\n",
    "    \n",
    "    eval_loss = 0.0\n",
    "    correct_top1 = 0\n",
    "    correct_top5 = 0\n",
    "    total = 0\n",
    "    \n",
    "    # 그래디언트 계산 비활성화\n",
    "    with torch.no_grad():\n",
    "        for inputs, labels in dataloader:\n",
    "            inputs, labels = inputs.to(device), labels.to(device)\n",
    "\n",
    "            # 원-핫 인코딩 변환 (PSKD에 필요)\n",
    "            batch_size = labels.size(0)\n",
    "            one_hot_labels = torch.zeros(batch_size, 100).to(device)  # CIFAR-100은 100개 클래스\n",
    "            one_hot_labels.scatter_(1, labels.unsqueeze(1), 1)\n",
    "            \n",
    "            # 순전파\n",
    "            outputs = model(inputs)\n",
    "            \n",
    "            # PSKD 손실 계산\n",
    "            loss = criterion(outputs, one_hot_labels)\n",
    "            eval_loss += loss.item()\n",
    "            \n",
    "            # top-1 정확도 계산\n",
    "            _, predicted = outputs.max(1)\n",
    "            total += labels.size(0)\n",
    "            correct_top1 += (predicted == labels).sum().item()\n",
    "            \n",
    "            # top-5 정확도 계산\n",
    "            _, top5_idx = outputs.topk(5, 1, largest=True, sorted=True)\n",
    "            correct_top5 += top5_idx.eq(labels.view(-1, 1).expand_as(top5_idx)).sum().item()\n",
    "    \n",
    "    # 평균 손실 및 정확도 계산\n",
    "    eval_loss = eval_loss / len(dataloader)\n",
    "    accuracy_top1 = 100.0 * correct_top1 / total\n",
    "    accuracy_top5 = 100.0 * correct_top5 / total\n",
    "    \n",
    "    # 평가 시간 계산\n",
    "    eval_time = time.time() - start_time\n",
    "    \n",
    "    # 테스트 세트에 대한 성능 출력\n",
    "    print(f'{phase.capitalize()} set: Epoch: {epoch+1}, Average loss:{eval_loss:.4f}, '\n",
    "          f'Top-1 Accuracy: {accuracy_top1:.4f}%, Top-5 Accuracy: {accuracy_top5:.4f}%, Time consumed:{eval_time:.2f}s')\n",
    "    print()\n",
    "    \n",
    "    return eval_loss, accuracy_top1, accuracy_top5\n",
    "\n",
    "# 메인 학습 루프\n",
    "def main_training_loop(model, trainloader, testloader, criterion, optimizer, device, num_epochs=None, patience=None, max_epochs_wait=None, warmup_scheduler=None, main_scheduler=None, warmup_epochs=None):\n",
    "    \"\"\"\n",
    "    메인 학습 루프 (accuracy 기준 early stopping) - config에서 기본값 가져오기\n",
    "    \"\"\"\n",
    "    # config에서 값 가져오기 (None이면)\n",
    "    if num_epochs is None:\n",
    "        num_epochs = config[\"num_epochs\"]\n",
    "    if patience is None:\n",
    "        patience = config[\"patience\"]\n",
    "    if max_epochs_wait is None:\n",
    "        max_epochs_wait = config[\"max_epochs_wait\"]\n",
    "    if warmup_epochs is None:\n",
    "        warmup_epochs = config[\"warmup_epochs\"]\n",
    "        \n",
    "    # 정확도 기반 얼리 스토핑 사용\n",
    "    early_stopping = AccuracyEarlyStopping(patience=patience, verbose=True, path='checkpoint.pt', max_epochs=max_epochs_wait)\n",
    "    \n",
    "    best_test_acc_top1 = 0.0\n",
    "    best_test_acc_top5 = 0.0\n",
    "    \n",
    "    # 테스트 정확도 기록을 위한 리스트\n",
    "    test_acc_top1_history = []\n",
    "    \n",
    "    # tqdm을 사용한 진행 상황 표시\n",
    "    for epoch in tqdm(range(num_epochs)):\n",
    "        # 학습\n",
    "        train_loss, train_acc_top1, train_acc_top5 = train(\n",
    "            model, \n",
    "            trainloader, \n",
    "            criterion, \n",
    "            optimizer, \n",
    "            device, \n",
    "            epoch, \n",
    "            warmup_scheduler, \n",
    "            warmup_epochs\n",
    "        )\n",
    "        \n",
    "        # 테스트 데이터로 평가\n",
    "        test_loss, test_acc_top1, test_acc_top5 = evaluate(model, testloader, criterion, device, epoch, phase=\"test\")\n",
    "\n",
    "        # 웜업 이후 스케줄러 업데이트 \n",
    "        if epoch >= warmup_epochs and main_scheduler is not None:\n",
    "            if isinstance(main_scheduler, torch.optim.lr_scheduler.ReduceLROnPlateau):\n",
    "                main_scheduler.step(test_acc_top1)  # 테스트 정확도에 따라 학습률 업데이트\n",
    "            else:\n",
    "                main_scheduler.step()  # 다른 스케줄러 (예: CosineAnnealingLR)\n",
    "            \n",
    "        # 테스트 정확도 기록\n",
    "        test_acc_top1_history.append(test_acc_top1)\n",
    "        \n",
    "        # WandB에 로깅\n",
    "        wandb.log({\n",
    "            \"epoch\": epoch + 1,\n",
    "            \"learning_rate\": optimizer.param_groups[0]['lr'],\n",
    "            \"train_loss\": train_loss,\n",
    "            \"train_accuracy_top1\": train_acc_top1,\n",
    "            \"train_accuracy_top5\": train_acc_top5,\n",
    "            \"test_loss\": test_loss,\n",
    "            \"test_accuracy_top1\": test_acc_top1,\n",
    "            \"test_accuracy_top5\": test_acc_top5\n",
    "        })\n",
    "            \n",
    "        # 최고 정확도 모델 저장 (top-1 기준)\n",
    "        if test_acc_top1 > best_test_acc_top1:\n",
    "            best_test_acc_top1 = test_acc_top1\n",
    "            best_test_acc_top5_at_best_top1 = test_acc_top5\n",
    "            print(f'새로운 최고 top-1 정확도: {best_test_acc_top1:.2f}%, top-5 정확도: {best_test_acc_top5_at_best_top1:.2f}%')\n",
    "            # 모델 저장\n",
    "            model_path = f'best_model_{wandb.run.name}.pth'\n",
    "            torch.save(model.state_dict(), model_path)\n",
    "            \n",
    "            # WandB에 모델 아티팩트 저장\n",
    "            wandb.save(model_path)\n",
    "        \n",
    "        # top-5 accuracy 기록 업데이트\n",
    "        if test_acc_top5 > best_test_acc_top5:\n",
    "            best_test_acc_top5 = test_acc_top5\n",
    "            print(f'새로운 최고 top-5 정확도: {best_test_acc_top5:.2f}%')\n",
    "\n",
    "        # Early stopping 체크 (test_acc_top1 기준)\n",
    "        early_stopping(test_acc_top1, model, epoch)\n",
    "        if early_stopping.early_stop:\n",
    "            print(f\"에폭 {epoch+1}에서 학습 조기 종료. 최고 성능 에폭: {early_stopping.best_epoch+1}\")\n",
    "            break\n",
    "    \n",
    "    # 훈련 완료 후 최고 모델 로드\n",
    "    print(\"테스트 정확도 기준 최고 모델 로드 중...\")\n",
    "    model_path = f'best_model_{wandb.run.name}.pth'\n",
    "    model.load_state_dict(torch.load(model_path))\n",
    "\n",
    "    # 최종 테스트 세트 평가\n",
    "    final_test_loss, final_test_acc_top1, final_test_acc_top5 = evaluate(model, testloader, criterion, device, num_epochs-1, phase=\"test\")\n",
    "    \n",
    "    print(f'완료! 최고 테스트 top-1 정확도: {best_test_acc_top1:.2f}%, 최고 테스트 top-5 정확도: {best_test_acc_top5:.2f}%')\n",
    "    print(f'최종 테스트 top-1 정확도: {final_test_acc_top1:.2f}%, 최종 테스트 top-5 정확도: {final_test_acc_top5:.2f}%')\n",
    "    \n",
    "    # WandB에 최종 결과 기록\n",
    "    wandb.run.summary[\"best_test_accuracy_top1\"] = best_test_acc_top1\n",
    "    wandb.run.summary[\"best_test_accuracy_top5\"] = best_test_acc_top5\n",
    "    wandb.run.summary[\"final_test_accuracy_top1\"] = final_test_acc_top1\n",
    "    wandb.run.summary[\"final_test_accuracy_top5\"] = final_test_acc_top5\n",
    "\n",
    "    # Early stopping 정보 저장\n",
    "    if early_stopping.early_stop:\n",
    "        wandb.run.summary[\"early_stopped\"] = True\n",
    "        wandb.run.summary[\"early_stopped_epoch\"] = epoch+1\n",
    "        wandb.run.summary[\"best_epoch\"] = early_stopping.best_epoch+1\n",
    "    else:\n",
    "        wandb.run.summary[\"early_stopped\"] = False\n",
    "\n",
    "\n",
    "# 디바이스 설정\n",
    "device = torch.device(\"cuda\" if torch.cuda.is_available() else \"cpu\")\n",
    "print(f\"Using device: {device}\")\n",
    "\n",
    "# 모델 초기화 - config 기반\n",
    "if config[\"model\"] == \"resnet18\":\n",
    "    model = resnet18().to(device)\n",
    "else:\n",
    "    raise ValueError(f\"지원되지 않는 모델: {config['model']}\")\n",
    "\n",
    "# PSKD 손실 함수 설정 (두 번째 코드의 손실 함수 유지)\n",
    "criterion = PSKD()\n",
    "\n",
    "# 옵티마이저 설정 - ResNeXt와 동일한 파라미터 적용\n",
    "if config[\"optimizer\"] == \"SAM_SGD\":\n",
    "    base_optimizer = optim.SGD\n",
    "    optimizer = SAM(\n",
    "        model.parameters(), \n",
    "        base_optimizer, \n",
    "        lr=config[\"learning_rate\"],\n",
    "        momentum=config[\"momentum\"],\n",
    "        weight_decay=config[\"weight_decay\"],\n",
    "        nesterov=config[\"nesterov\"],\n",
    "        rho=config[\"rho\"],\n",
    "        adaptive=config[\"adaptive\"]\n",
    "    )\n",
    "else:\n",
    "    raise ValueError(f\"지원되지 않는 옵티마이저: {config['optimizer']}\")\n",
    "\n",
    "# WarmUpLR 스케줄러 초기화 - ResNeXt와 동일하게 10 에폭으로 설정\n",
    "warmup_steps = config[\"warmup_epochs\"] * len(trainloader)\n",
    "warmup_scheduler = WarmUpLR(optimizer, total_iters=warmup_steps)\n",
    "\n",
    "# 웜업 이후 사용할 스케줄러 설정 - ResNeXt와 동일한 파라미터 적용\n",
    "if config[\"lr_scheduler\"] == \"ReduceLROnPlateau\":\n",
    "    main_scheduler = torch.optim.lr_scheduler.ReduceLROnPlateau(\n",
    "        optimizer, \n",
    "        mode='max',\n",
    "        factor=config[\"lr_factor\"],\n",
    "        patience=config[\"lr_patience\"],\n",
    "        verbose=True,\n",
    "        threshold=config[\"lr_threshold\"],\n",
    "        min_lr=config[\"min_lr\"]\n",
    "    )\n",
    "else:\n",
    "    raise ValueError(f\"지원되지 않는 스케줄러: {config['lr_scheduler']}\")\n",
    "\n",
    "# WandB에 모델 구조 기록\n",
    "wandb.watch(model, log=\"all\")\n",
    "\n",
    "# GPU 가속 - 여러 GPU 사용\n",
    "if torch.cuda.device_count() > 1:\n",
    "    print(f\"{torch.cuda.device_count()}개의 GPU를 사용합니다.\")\n",
    "    model = nn.DataParallel(model)\n",
    "\n",
    "# 훈련 시작 시간 기록\n",
    "start_time = time.time()\n",
    "\n",
    "# 메인 학습 루프 호출 - 명시적인 파라미터 전달 대신 기본값(config에서 자동으로 가져옴) 사용\n",
    "main_training_loop(\n",
    "    model=model,\n",
    "    trainloader=trainloader,\n",
    "    testloader=testloader,\n",
    "    criterion=criterion,\n",
    "    optimizer=optimizer,\n",
    "    device=device,\n",
    "    warmup_scheduler=warmup_scheduler,\n",
    "    main_scheduler=main_scheduler\n",
    ")\n",
    "\n",
    "# 훈련 종료 시간 기록 및 출력\n",
    "end_time = time.time()\n",
    "total_time = end_time - start_time\n",
    "wandb.log({\"total_training_time\": total_time})\n",
    "\n",
    "print(f\"전체 학습 시간: {total_time:.2f} 초\")\n",
    "\n",
    "# WandB 실행 종료\n",
    "wandb.finish()"
   ]
  },
  {
   "cell_type": "code",
   "execution_count": null,
   "id": "e57b9218-aa24-4297-bb92-473c215e6767",
   "metadata": {},
   "outputs": [],
   "source": []
  }
 ],
 "metadata": {
  "kernelspec": {
   "display_name": "Python 3 (ipykernel)",
   "language": "python",
   "name": "python3"
  },
  "language_info": {
   "codemirror_mode": {
    "name": "ipython",
    "version": 3
   },
   "file_extension": ".py",
   "mimetype": "text/x-python",
   "name": "python",
   "nbconvert_exporter": "python",
   "pygments_lexer": "ipython3",
   "version": "3.11.9"
  }
 },
 "nbformat": 4,
 "nbformat_minor": 5
}
