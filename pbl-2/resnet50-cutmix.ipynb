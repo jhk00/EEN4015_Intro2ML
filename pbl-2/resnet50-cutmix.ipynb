{
 "cells": [
  {
   "cell_type": "code",
   "execution_count": 12,
   "id": "516f9d5f-6361-4b03-98ee-e1ba4de86b92",
   "metadata": {},
   "outputs": [
    {
     "name": "stderr",
     "output_type": "stream",
     "text": [
      "\u001b[34m\u001b[1mwandb\u001b[0m: \u001b[33mWARNING\u001b[0m Calling wandb.login() after wandb.init() has no effect.\n"
     ]
    },
    {
     "data": {
      "text/html": [],
      "text/plain": [
       "<IPython.core.display.HTML object>"
      ]
     },
     "metadata": {},
     "output_type": "display_data"
    },
    {
     "data": {
      "text/html": [
       "<br>    <style><br>        .wandb-row {<br>            display: flex;<br>            flex-direction: row;<br>            flex-wrap: wrap;<br>            justify-content: flex-start;<br>            width: 100%;<br>        }<br>        .wandb-col {<br>            display: flex;<br>            flex-direction: column;<br>            flex-basis: 100%;<br>            flex: 1;<br>            padding: 10px;<br>        }<br>    </style><br><div class=\"wandb-row\"><div class=\"wandb-col\"><h3>Run history:</h3><br/><table class=\"wandb\"><tr><td>epoch</td><td>▁▁▁▂▂▂▂▂▂▂▃▃▃▃▃▄▄▄▄▄▄▅▅▅▅▅▆▆▆▆▇▇▇▇▇▇▇███</td></tr><tr><td>learning_rate</td><td>▁▁▁▁▁▁▁▁▁▁▁▁▁▁▁▁▁▁▁▁▁▁▁▁▁▁▁▁▁▁▁▁▁▁▁▁▁▁▁▁</td></tr><tr><td>test_accuracy_top1</td><td>▁▄▅▇▇█▇▇██▇████▇██████▇████████▇███▇████</td></tr><tr><td>test_accuracy_top5</td><td>▁▃▇▇██████▇█▇▇▇▇▇▇▇▇▇█▇▇▇▇▇▇█▇▇▇██▇▇▇██▇</td></tr><tr><td>test_loss</td><td>▇▄▃▁▁▁▂▃▃▃▄▄▄▅▅▆▅▅▆▆▆▇▆▇▇▆▇▇▇▇▇▇▇▇▇▇▇▇█▇</td></tr><tr><td>train_accuracy_top1</td><td>▁▂▃▄▅▆▇▇████████████████████████████████</td></tr><tr><td>train_accuracy_top5</td><td>▁▄▅▆▇███████████████████████████████████</td></tr><tr><td>train_loss</td><td>█▆▅▄▄▃▂▂▁▁▁▁▁▁▁▁▁▁▁▁▁▁▁▁▁▁▁▁▁▁▁▁▁▁▁▁▁▁▁▁</td></tr></table><br/></div><div class=\"wandb-col\"><h3>Run summary:</h3><br/><table class=\"wandb\"><tr><td>epoch</td><td>54</td></tr><tr><td>learning_rate</td><td>0.001</td></tr><tr><td>test_accuracy_top1</td><td>54.61</td></tr><tr><td>test_accuracy_top5</td><td>81.11</td></tr><tr><td>test_loss</td><td>3.53483</td></tr><tr><td>train_accuracy_top1</td><td>98.684</td></tr><tr><td>train_accuracy_top5</td><td>99.976</td></tr><tr><td>train_loss</td><td>0.03982</td></tr></table><br/></div></div>"
      ],
      "text/plain": [
       "<IPython.core.display.HTML object>"
      ]
     },
     "metadata": {},
     "output_type": "display_data"
    },
    {
     "data": {
      "text/html": [
       " View run <strong style=\"color:#cdcd00\">resnet18-cutmix</strong> at: <a href='https://wandb.ai/sokjh1310-hanyang-university/PBL-2/runs/1bhbdsep' target=\"_blank\">https://wandb.ai/sokjh1310-hanyang-university/PBL-2/runs/1bhbdsep</a><br> View project at: <a href='https://wandb.ai/sokjh1310-hanyang-university/PBL-2' target=\"_blank\">https://wandb.ai/sokjh1310-hanyang-university/PBL-2</a><br>Synced 5 W&B file(s), 0 media file(s), 0 artifact file(s) and 1 other file(s)"
      ],
      "text/plain": [
       "<IPython.core.display.HTML object>"
      ]
     },
     "metadata": {},
     "output_type": "display_data"
    },
    {
     "data": {
      "text/html": [
       "Find logs at: <code>./wandb/run-20250411_160129-1bhbdsep/logs</code>"
      ],
      "text/plain": [
       "<IPython.core.display.HTML object>"
      ]
     },
     "metadata": {},
     "output_type": "display_data"
    },
    {
     "data": {
      "text/html": [
       "Tracking run with wandb version 0.19.9"
      ],
      "text/plain": [
       "<IPython.core.display.HTML object>"
      ]
     },
     "metadata": {},
     "output_type": "display_data"
    },
    {
     "data": {
      "text/html": [
       "Run data is saved locally in <code>/home/guswls/EEN4015_Intro2ML/pbl-2/wandb/run-20250411_183154-b7yx0fb1</code>"
      ],
      "text/plain": [
       "<IPython.core.display.HTML object>"
      ]
     },
     "metadata": {},
     "output_type": "display_data"
    },
    {
     "data": {
      "text/html": [
       "Syncing run <strong><a href='https://wandb.ai/sokjh1310-hanyang-university/PBL-2/runs/b7yx0fb1' target=\"_blank\">resnet18</a></strong> to <a href='https://wandb.ai/sokjh1310-hanyang-university/PBL-2' target=\"_blank\">Weights & Biases</a> (<a href='https://wandb.me/developer-guide' target=\"_blank\">docs</a>)<br>"
      ],
      "text/plain": [
       "<IPython.core.display.HTML object>"
      ]
     },
     "metadata": {},
     "output_type": "display_data"
    },
    {
     "data": {
      "text/html": [
       " View project at <a href='https://wandb.ai/sokjh1310-hanyang-university/PBL-2' target=\"_blank\">https://wandb.ai/sokjh1310-hanyang-university/PBL-2</a>"
      ],
      "text/plain": [
       "<IPython.core.display.HTML object>"
      ]
     },
     "metadata": {},
     "output_type": "display_data"
    },
    {
     "data": {
      "text/html": [
       " View run at <a href='https://wandb.ai/sokjh1310-hanyang-university/PBL-2/runs/b7yx0fb1' target=\"_blank\">https://wandb.ai/sokjh1310-hanyang-university/PBL-2/runs/b7yx0fb1</a>"
      ],
      "text/plain": [
       "<IPython.core.display.HTML object>"
      ]
     },
     "metadata": {},
     "output_type": "display_data"
    },
    {
     "name": "stdout",
     "output_type": "stream",
     "text": [
      "Files already downloaded and verified\n",
      "Files already downloaded and verified\n",
      "Using device: cuda\n",
      "2개의 GPU를 사용합니다.\n"
     ]
    },
    {
     "name": "stderr",
     "output_type": "stream",
     "text": [
      "  0%|                                                                                                       | 0/100 [00:00<?, ?it/s]"
     ]
    },
    {
     "name": "stdout",
     "output_type": "stream",
     "text": [
      "Epoch [1], Batch [50/391], Loss: 4.1613\n",
      "Epoch [1], Batch [100/391], Loss: 3.8398\n",
      "Epoch [1], Batch [150/391], Loss: 3.5961\n",
      "Epoch [1], Batch [200/391], Loss: 3.6111\n",
      "Epoch [1], Batch [250/391], Loss: 3.4813\n",
      "Epoch [1], Batch [300/391], Loss: 3.6301\n",
      "Epoch [1], Batch [350/391], Loss: 2.7313\n",
      "Train set: Epoch: 1, Average loss:3.6494, LR: 0.001000 Top-1 Accuracy: 13.8080%, Top-5 Accuracy: 37.4680%, Time consumed:142.21s\n"
     ]
    },
    {
     "name": "stderr",
     "output_type": "stream",
     "text": [
      "  1%|▉                                                                                           | 1/100 [02:46<4:35:11, 166.78s/it]"
     ]
    },
    {
     "name": "stdout",
     "output_type": "stream",
     "text": [
      "Test set: Epoch: 1, Average loss:3.1039, Top-1 Accuracy: 23.0200%, Top-5 Accuracy: 52.7100%, Time consumed:24.47s\n",
      "\n",
      "New best top-1 accuracy: 23.02%, top-5 accuracy: 52.71%\n",
      "New best top-5 accuracy: 52.71%\n",
      "Epoch [2], Batch [50/391], Loss: 2.9003\n",
      "Epoch [2], Batch [100/391], Loss: 2.7379\n",
      "Epoch [2], Batch [150/391], Loss: 2.8800\n",
      "Epoch [2], Batch [200/391], Loss: 2.8593\n",
      "Epoch [2], Batch [250/391], Loss: 2.5817\n",
      "Epoch [2], Batch [300/391], Loss: 2.2938\n",
      "Epoch [2], Batch [350/391], Loss: 2.6411\n",
      "Train set: Epoch: 2, Average loss:2.6843, LR: 0.001000 Top-1 Accuracy: 30.6720%, Top-5 Accuracy: 63.0120%, Time consumed:139.15s\n"
     ]
    },
    {
     "name": "stderr",
     "output_type": "stream",
     "text": [
      "  2%|█▊                                                                                          | 2/100 [05:31<4:30:07, 165.38s/it]"
     ]
    },
    {
     "name": "stdout",
     "output_type": "stream",
     "text": [
      "Test set: Epoch: 2, Average loss:2.6356, Top-1 Accuracy: 32.4300%, Top-5 Accuracy: 64.6800%, Time consumed:25.11s\n",
      "\n",
      "New best top-1 accuracy: 32.43%, top-5 accuracy: 64.68%\n",
      "New best top-5 accuracy: 64.68%\n",
      "Epoch [3], Batch [50/391], Loss: 2.1039\n",
      "Epoch [3], Batch [100/391], Loss: 2.2965\n",
      "Epoch [3], Batch [150/391], Loss: 2.3103\n",
      "Epoch [3], Batch [200/391], Loss: 2.0346\n",
      "Epoch [3], Batch [250/391], Loss: 2.0652\n",
      "Epoch [3], Batch [300/391], Loss: 1.7996\n",
      "Epoch [3], Batch [350/391], Loss: 2.1900\n",
      "Train set: Epoch: 3, Average loss:2.0759, LR: 0.001000 Top-1 Accuracy: 43.6780%, Top-5 Accuracy: 76.0840%, Time consumed:143.47s\n"
     ]
    },
    {
     "name": "stderr",
     "output_type": "stream",
     "text": [
      "  3%|██▊                                                                                         | 3/100 [08:19<4:29:37, 166.77s/it]"
     ]
    },
    {
     "name": "stdout",
     "output_type": "stream",
     "text": [
      "Test set: Epoch: 3, Average loss:2.0332, Top-1 Accuracy: 45.0100%, Top-5 Accuracy: 76.6600%, Time consumed:24.83s\n",
      "\n",
      "New best top-1 accuracy: 45.01%, top-5 accuracy: 76.66%\n",
      "New best top-5 accuracy: 76.66%\n",
      "Epoch [4], Batch [50/391], Loss: 1.7190\n",
      "Epoch [4], Batch [100/391], Loss: 1.7295\n",
      "Epoch [4], Batch [150/391], Loss: 1.6736\n",
      "Epoch [4], Batch [200/391], Loss: 1.6028\n",
      "Epoch [4], Batch [250/391], Loss: 1.5294\n",
      "Epoch [4], Batch [300/391], Loss: 1.7022\n",
      "Epoch [4], Batch [350/391], Loss: 1.5283\n",
      "Train set: Epoch: 4, Average loss:1.6881, LR: 0.001000 Top-1 Accuracy: 52.5800%, Top-5 Accuracy: 83.4040%, Time consumed:136.55s\n"
     ]
    },
    {
     "name": "stderr",
     "output_type": "stream",
     "text": [
      "  4%|███▋                                                                                        | 4/100 [11:01<4:23:27, 164.66s/it]"
     ]
    },
    {
     "name": "stdout",
     "output_type": "stream",
     "text": [
      "Test set: Epoch: 4, Average loss:1.9778, Top-1 Accuracy: 46.2300%, Top-5 Accuracy: 77.6100%, Time consumed:24.75s\n",
      "\n",
      "New best top-1 accuracy: 46.23%, top-5 accuracy: 77.61%\n",
      "New best top-5 accuracy: 77.61%\n",
      "Epoch [5], Batch [50/391], Loss: 1.3997\n",
      "Epoch [5], Batch [100/391], Loss: 1.1355\n",
      "Epoch [5], Batch [150/391], Loss: 1.3702\n",
      "Epoch [5], Batch [200/391], Loss: 1.3168\n",
      "Epoch [5], Batch [250/391], Loss: 1.3183\n",
      "Epoch [5], Batch [300/391], Loss: 1.4839\n",
      "Epoch [5], Batch [350/391], Loss: 1.2370\n",
      "Train set: Epoch: 5, Average loss:1.3632, LR: 0.001000 Top-1 Accuracy: 60.8660%, Top-5 Accuracy: 88.6000%, Time consumed:138.06s\n"
     ]
    },
    {
     "name": "stderr",
     "output_type": "stream",
     "text": [
      "  5%|████▌                                                                                       | 5/100 [13:44<4:20:12, 164.34s/it]"
     ]
    },
    {
     "name": "stdout",
     "output_type": "stream",
     "text": [
      "Test set: Epoch: 5, Average loss:1.8311, Top-1 Accuracy: 51.1200%, Top-5 Accuracy: 80.7800%, Time consumed:25.59s\n",
      "\n",
      "New best top-1 accuracy: 51.12%, top-5 accuracy: 80.78%\n",
      "New best top-5 accuracy: 80.78%\n",
      "Epoch [6], Batch [50/391], Loss: 1.0395\n",
      "Epoch [6], Batch [100/391], Loss: 0.9120\n",
      "Epoch [6], Batch [150/391], Loss: 1.1445\n",
      "Epoch [6], Batch [200/391], Loss: 0.9988\n",
      "Epoch [6], Batch [250/391], Loss: 1.0528\n",
      "Epoch [6], Batch [300/391], Loss: 1.0564\n",
      "Epoch [6], Batch [350/391], Loss: 1.1326\n",
      "Train set: Epoch: 6, Average loss:1.0766, LR: 0.001000 Top-1 Accuracy: 67.9960%, Top-5 Accuracy: 92.5940%, Time consumed:141.82s\n"
     ]
    },
    {
     "name": "stderr",
     "output_type": "stream",
     "text": [
      "  6%|█████▌                                                                                      | 6/100 [16:31<4:18:54, 165.26s/it]"
     ]
    },
    {
     "name": "stdout",
     "output_type": "stream",
     "text": [
      "Test set: Epoch: 6, Average loss:1.7516, Top-1 Accuracy: 53.1300%, Top-5 Accuracy: 82.9500%, Time consumed:25.08s\n",
      "\n",
      "New best top-1 accuracy: 53.13%, top-5 accuracy: 82.95%\n",
      "New best top-5 accuracy: 82.95%\n",
      "Epoch [7], Batch [50/391], Loss: 0.7219\n",
      "Epoch [7], Batch [100/391], Loss: 0.5541\n",
      "Epoch [7], Batch [150/391], Loss: 0.8020\n",
      "Epoch [7], Batch [200/391], Loss: 0.7018\n",
      "Epoch [7], Batch [250/391], Loss: 0.9455\n",
      "Epoch [7], Batch [300/391], Loss: 1.0473\n",
      "Epoch [7], Batch [350/391], Loss: 0.8800\n",
      "Train set: Epoch: 7, Average loss:0.7785, LR: 0.001000 Top-1 Accuracy: 76.3260%, Top-5 Accuracy: 96.0600%, Time consumed:138.78s\n"
     ]
    },
    {
     "name": "stderr",
     "output_type": "stream",
     "text": [
      "  7%|██████▍                                                                                     | 7/100 [19:15<4:15:09, 164.62s/it]"
     ]
    },
    {
     "name": "stdout",
     "output_type": "stream",
     "text": [
      "Test set: Epoch: 7, Average loss:1.8664, Top-1 Accuracy: 53.3600%, Top-5 Accuracy: 82.5600%, Time consumed:24.37s\n",
      "\n",
      "New best top-1 accuracy: 53.36%, top-5 accuracy: 82.56%\n",
      "Epoch [8], Batch [50/391], Loss: 0.3513\n",
      "Epoch [8], Batch [100/391], Loss: 0.3988\n",
      "Epoch [8], Batch [150/391], Loss: 0.4549\n",
      "Epoch [8], Batch [200/391], Loss: 0.5639\n",
      "Epoch [8], Batch [250/391], Loss: 0.5837\n",
      "Epoch [8], Batch [300/391], Loss: 0.5833\n",
      "Epoch [8], Batch [350/391], Loss: 0.4613\n",
      "Train set: Epoch: 8, Average loss:0.5034, LR: 0.001000 Top-1 Accuracy: 84.5220%, Top-5 Accuracy: 98.6060%, Time consumed:135.86s\n"
     ]
    },
    {
     "name": "stderr",
     "output_type": "stream",
     "text": [
      "  8%|███████▎                                                                                    | 8/100 [21:56<4:10:39, 163.47s/it]"
     ]
    },
    {
     "name": "stdout",
     "output_type": "stream",
     "text": [
      "Test set: Epoch: 8, Average loss:1.9564, Top-1 Accuracy: 53.8400%, Top-5 Accuracy: 82.8200%, Time consumed:25.05s\n",
      "\n",
      "New best top-1 accuracy: 53.84%, top-5 accuracy: 82.82%\n",
      "Epoch [9], Batch [50/391], Loss: 0.2616\n",
      "Epoch [9], Batch [100/391], Loss: 0.3349\n",
      "Epoch [9], Batch [150/391], Loss: 0.2316\n",
      "Epoch [9], Batch [200/391], Loss: 0.3073\n",
      "Epoch [9], Batch [250/391], Loss: 0.3766\n",
      "Epoch [9], Batch [300/391], Loss: 0.2734\n",
      "Epoch [9], Batch [350/391], Loss: 0.2690\n",
      "Train set: Epoch: 9, Average loss:0.2870, LR: 0.001000 Top-1 Accuracy: 91.3680%, Top-5 Accuracy: 99.6380%, Time consumed:139.12s\n"
     ]
    },
    {
     "name": "stderr",
     "output_type": "stream",
     "text": [
      "  9%|████████▎                                                                                   | 9/100 [24:41<4:08:35, 163.91s/it]"
     ]
    },
    {
     "name": "stdout",
     "output_type": "stream",
     "text": [
      "Test set: Epoch: 9, Average loss:1.9934, Top-1 Accuracy: 54.9000%, Top-5 Accuracy: 82.4100%, Time consumed:25.62s\n",
      "\n",
      "New best top-1 accuracy: 54.90%, top-5 accuracy: 82.41%\n",
      "Epoch [10], Batch [50/391], Loss: 0.1049\n",
      "Epoch [10], Batch [100/391], Loss: 0.1887\n",
      "Epoch [10], Batch [150/391], Loss: 0.1929\n",
      "Epoch [10], Batch [200/391], Loss: 0.1696\n",
      "Epoch [10], Batch [250/391], Loss: 0.1601\n",
      "Epoch [10], Batch [300/391], Loss: 0.2350\n",
      "Epoch [10], Batch [350/391], Loss: 0.1639\n",
      "Train set: Epoch: 10, Average loss:0.1783, LR: 0.001000 Top-1 Accuracy: 94.6680%, Top-5 Accuracy: 99.8960%, Time consumed:138.22s\n"
     ]
    },
    {
     "name": "stderr",
     "output_type": "stream",
     "text": [
      " 10%|█████████                                                                                  | 10/100 [27:24<4:05:30, 163.67s/it]"
     ]
    },
    {
     "name": "stdout",
     "output_type": "stream",
     "text": [
      "Test set: Epoch: 10, Average loss:2.2949, Top-1 Accuracy: 53.0900%, Top-5 Accuracy: 81.3900%, Time consumed:24.93s\n",
      "\n",
      "Epoch [11], Batch [50/391], Loss: 0.1240\n",
      "Epoch [11], Batch [100/391], Loss: 0.1015\n",
      "Epoch [11], Batch [150/391], Loss: 0.1033\n",
      "Epoch [11], Batch [200/391], Loss: 0.0725\n",
      "Epoch [11], Batch [250/391], Loss: 0.1046\n",
      "Epoch [11], Batch [300/391], Loss: 0.1495\n",
      "Epoch [11], Batch [350/391], Loss: 0.1085\n",
      "Train set: Epoch: 11, Average loss:0.1341, LR: 0.001000 Top-1 Accuracy: 96.0820%, Top-5 Accuracy: 99.9320%, Time consumed:135.88s\n"
     ]
    },
    {
     "name": "stderr",
     "output_type": "stream",
     "text": [
      " 11%|██████████                                                                                 | 11/100 [30:05<4:01:36, 162.89s/it]"
     ]
    },
    {
     "name": "stdout",
     "output_type": "stream",
     "text": [
      "Test set: Epoch: 11, Average loss:2.4967, Top-1 Accuracy: 53.5800%, Top-5 Accuracy: 81.3300%, Time consumed:25.21s\n",
      "\n",
      "Epoch [12], Batch [50/391], Loss: 0.1081\n",
      "Epoch [12], Batch [100/391], Loss: 0.1299\n",
      "Epoch [12], Batch [150/391], Loss: 0.1489\n",
      "Epoch [12], Batch [200/391], Loss: 0.1168\n",
      "Epoch [12], Batch [250/391], Loss: 0.1505\n",
      "Epoch [12], Batch [300/391], Loss: 0.1656\n",
      "Epoch [12], Batch [350/391], Loss: 0.1732\n",
      "Train set: Epoch: 12, Average loss:0.1331, LR: 0.001000 Top-1 Accuracy: 95.9240%, Top-5 Accuracy: 99.9400%, Time consumed:143.05s\n"
     ]
    },
    {
     "name": "stderr",
     "output_type": "stream",
     "text": [
      " 12%|██████████▉                                                                                | 12/100 [32:52<4:01:01, 164.34s/it]"
     ]
    },
    {
     "name": "stdout",
     "output_type": "stream",
     "text": [
      "Test set: Epoch: 12, Average loss:2.4297, Top-1 Accuracy: 54.6700%, Top-5 Accuracy: 81.4700%, Time consumed:24.61s\n",
      "\n",
      "Epoch [13], Batch [50/391], Loss: 0.0563\n",
      "Epoch [13], Batch [100/391], Loss: 0.0870\n",
      "Epoch [13], Batch [150/391], Loss: 0.0924\n",
      "Epoch [13], Batch [200/391], Loss: 0.1199\n",
      "Epoch [13], Batch [250/391], Loss: 0.1381\n",
      "Epoch [13], Batch [300/391], Loss: 0.1816\n",
      "Epoch [13], Batch [350/391], Loss: 0.2544\n",
      "Train set: Epoch: 13, Average loss:0.1152, LR: 0.001000 Top-1 Accuracy: 96.5340%, Top-5 Accuracy: 99.9420%, Time consumed:142.03s\n"
     ]
    },
    {
     "name": "stderr",
     "output_type": "stream",
     "text": [
      " 13%|███████████▊                                                                               | 13/100 [35:40<3:59:36, 165.24s/it]"
     ]
    },
    {
     "name": "stdout",
     "output_type": "stream",
     "text": [
      "Test set: Epoch: 13, Average loss:2.4873, Top-1 Accuracy: 53.4600%, Top-5 Accuracy: 81.5900%, Time consumed:25.28s\n",
      "\n",
      "Epoch [14], Batch [50/391], Loss: 0.1159\n",
      "Epoch [14], Batch [100/391], Loss: 0.0479\n",
      "Epoch [14], Batch [150/391], Loss: 0.1200\n",
      "Epoch [14], Batch [200/391], Loss: 0.1279\n",
      "Epoch [14], Batch [250/391], Loss: 0.1506\n",
      "Epoch [14], Batch [300/391], Loss: 0.2514\n",
      "Epoch [14], Batch [350/391], Loss: 0.1092\n",
      "Train set: Epoch: 14, Average loss:0.1245, LR: 0.001000 Top-1 Accuracy: 96.0680%, Top-5 Accuracy: 99.9180%, Time consumed:137.79s\n"
     ]
    },
    {
     "name": "stderr",
     "output_type": "stream",
     "text": [
      " 14%|████████████▋                                                                              | 14/100 [38:23<3:55:55, 164.60s/it]"
     ]
    },
    {
     "name": "stdout",
     "output_type": "stream",
     "text": [
      "Test set: Epoch: 14, Average loss:2.6663, Top-1 Accuracy: 53.5700%, Top-5 Accuracy: 80.9100%, Time consumed:25.32s\n",
      "\n",
      "Epoch [15], Batch [50/391], Loss: 0.0776\n",
      "Epoch [15], Batch [100/391], Loss: 0.0862\n",
      "Epoch [15], Batch [150/391], Loss: 0.0681\n",
      "Epoch [15], Batch [200/391], Loss: 0.1100\n",
      "Epoch [15], Batch [250/391], Loss: 0.0716\n",
      "Epoch [15], Batch [300/391], Loss: 0.0786\n",
      "Epoch [15], Batch [350/391], Loss: 0.0368\n",
      "Train set: Epoch: 15, Average loss:0.0909, LR: 0.001000 Top-1 Accuracy: 97.1500%, Top-5 Accuracy: 99.9640%, Time consumed:136.56s\n"
     ]
    },
    {
     "name": "stderr",
     "output_type": "stream",
     "text": [
      " 15%|█████████████▋                                                                             | 15/100 [41:04<3:51:48, 163.63s/it]"
     ]
    },
    {
     "name": "stdout",
     "output_type": "stream",
     "text": [
      "Test set: Epoch: 15, Average loss:2.6117, Top-1 Accuracy: 54.8700%, Top-5 Accuracy: 82.5500%, Time consumed:24.81s\n",
      "\n",
      "Epoch [16], Batch [50/391], Loss: 0.0207\n",
      "Epoch [16], Batch [100/391], Loss: 0.0475\n",
      "Epoch [16], Batch [150/391], Loss: 0.0581\n",
      "Epoch [16], Batch [200/391], Loss: 0.0345\n",
      "Epoch [16], Batch [250/391], Loss: 0.0641\n",
      "Epoch [16], Batch [300/391], Loss: 0.1130\n",
      "Epoch [16], Batch [350/391], Loss: 0.0389\n",
      "Train set: Epoch: 16, Average loss:0.0691, LR: 0.001000 Top-1 Accuracy: 97.8540%, Top-5 Accuracy: 99.9700%, Time consumed:135.75s\n"
     ]
    },
    {
     "name": "stderr",
     "output_type": "stream",
     "text": [
      " 16%|██████████████▌                                                                            | 16/100 [43:45<3:47:46, 162.69s/it]"
     ]
    },
    {
     "name": "stdout",
     "output_type": "stream",
     "text": [
      "Test set: Epoch: 16, Average loss:2.7147, Top-1 Accuracy: 54.8700%, Top-5 Accuracy: 81.1600%, Time consumed:24.77s\n",
      "\n",
      "Epoch [17], Batch [50/391], Loss: 0.0859\n",
      "Epoch [17], Batch [100/391], Loss: 0.0292\n",
      "Epoch [17], Batch [150/391], Loss: 0.0869\n",
      "Epoch [17], Batch [200/391], Loss: 0.0478\n",
      "Epoch [17], Batch [250/391], Loss: 0.0555\n",
      "Epoch [17], Batch [300/391], Loss: 0.1748\n",
      "Epoch [17], Batch [350/391], Loss: 0.2182\n",
      "Train set: Epoch: 17, Average loss:0.0944, LR: 0.001000 Top-1 Accuracy: 96.9760%, Top-5 Accuracy: 99.9420%, Time consumed:137.50s\n"
     ]
    },
    {
     "name": "stderr",
     "output_type": "stream",
     "text": [
      " 17%|███████████████▍                                                                           | 17/100 [46:27<3:44:49, 162.52s/it]"
     ]
    },
    {
     "name": "stdout",
     "output_type": "stream",
     "text": [
      "Test set: Epoch: 17, Average loss:2.8443, Top-1 Accuracy: 53.5500%, Top-5 Accuracy: 80.9600%, Time consumed:24.62s\n",
      "\n",
      "Epoch [18], Batch [50/391], Loss: 0.1068\n",
      "Epoch [18], Batch [100/391], Loss: 0.0448\n",
      "Epoch [18], Batch [150/391], Loss: 0.1041\n",
      "Epoch [18], Batch [200/391], Loss: 0.0285\n",
      "Epoch [18], Batch [250/391], Loss: 0.0665\n",
      "Epoch [18], Batch [300/391], Loss: 0.1079\n",
      "Epoch [18], Batch [350/391], Loss: 0.1897\n",
      "Train set: Epoch: 18, Average loss:0.0971, LR: 0.001000 Top-1 Accuracy: 96.8620%, Top-5 Accuracy: 99.9320%, Time consumed:137.10s\n"
     ]
    },
    {
     "name": "stderr",
     "output_type": "stream",
     "text": [
      " 18%|████████████████▍                                                                          | 18/100 [49:09<3:41:44, 162.25s/it]"
     ]
    },
    {
     "name": "stdout",
     "output_type": "stream",
     "text": [
      "Test set: Epoch: 18, Average loss:2.9558, Top-1 Accuracy: 52.8800%, Top-5 Accuracy: 80.1900%, Time consumed:24.51s\n",
      "\n",
      "Epoch [19], Batch [50/391], Loss: 0.0657\n",
      "Epoch [19], Batch [100/391], Loss: 0.0604\n",
      "Epoch [19], Batch [150/391], Loss: 0.0420\n",
      "Epoch [19], Batch [200/391], Loss: 0.0917\n",
      "Epoch [19], Batch [250/391], Loss: 0.0670\n",
      "Epoch [19], Batch [300/391], Loss: 0.0222\n",
      "Epoch [19], Batch [350/391], Loss: 0.1052\n",
      "Train set: Epoch: 19, Average loss:0.0684, LR: 0.001000 Top-1 Accuracy: 97.8320%, Top-5 Accuracy: 99.9720%, Time consumed:138.57s\n"
     ]
    },
    {
     "name": "stderr",
     "output_type": "stream",
     "text": [
      " 19%|█████████████████▎                                                                         | 19/100 [51:52<3:39:20, 162.48s/it]"
     ]
    },
    {
     "name": "stdout",
     "output_type": "stream",
     "text": [
      "Test set: Epoch: 19, Average loss:2.8940, Top-1 Accuracy: 53.5900%, Top-5 Accuracy: 80.7900%, Time consumed:24.43s\n",
      "\n",
      "Epoch [20], Batch [50/391], Loss: 0.0097\n",
      "Epoch [20], Batch [100/391], Loss: 0.0264\n",
      "Epoch [20], Batch [150/391], Loss: 0.0352\n",
      "Epoch [20], Batch [200/391], Loss: 0.0397\n",
      "Epoch [20], Batch [250/391], Loss: 0.0691\n",
      "Epoch [20], Batch [300/391], Loss: 0.0779\n",
      "Epoch [20], Batch [350/391], Loss: 0.0292\n",
      "Train set: Epoch: 20, Average loss:0.0571, LR: 0.001000 Top-1 Accuracy: 98.2000%, Top-5 Accuracy: 99.9820%, Time consumed:137.66s\n"
     ]
    },
    {
     "name": "stderr",
     "output_type": "stream",
     "text": [
      " 20%|██████████████████▏                                                                        | 20/100 [54:34<3:36:43, 162.55s/it]"
     ]
    },
    {
     "name": "stdout",
     "output_type": "stream",
     "text": [
      "Test set: Epoch: 20, Average loss:2.8367, Top-1 Accuracy: 55.0000%, Top-5 Accuracy: 81.4700%, Time consumed:24.93s\n",
      "\n",
      "New best top-1 accuracy: 55.00%, top-5 accuracy: 81.47%\n",
      "Epoch [21], Batch [50/391], Loss: 0.1207\n",
      "Epoch [21], Batch [100/391], Loss: 0.0171\n",
      "Epoch [21], Batch [150/391], Loss: 0.0354\n",
      "Epoch [21], Batch [200/391], Loss: 0.0370\n",
      "Epoch [21], Batch [250/391], Loss: 0.0708\n",
      "Epoch [21], Batch [300/391], Loss: 0.0610\n",
      "Epoch [21], Batch [350/391], Loss: 0.0411\n",
      "Train set: Epoch: 21, Average loss:0.0555, LR: 0.001000 Top-1 Accuracy: 98.2920%, Top-5 Accuracy: 99.9780%, Time consumed:138.15s\n"
     ]
    },
    {
     "name": "stderr",
     "output_type": "stream",
     "text": [
      " 21%|███████████████████                                                                        | 21/100 [57:17<3:34:13, 162.70s/it]"
     ]
    },
    {
     "name": "stdout",
     "output_type": "stream",
     "text": [
      "Test set: Epoch: 21, Average loss:2.9221, Top-1 Accuracy: 55.0100%, Top-5 Accuracy: 81.4200%, Time consumed:24.77s\n",
      "\n",
      "New best top-1 accuracy: 55.01%, top-5 accuracy: 81.42%\n",
      "Epoch [22], Batch [50/391], Loss: 0.0329\n",
      "Epoch [22], Batch [100/391], Loss: 0.0397\n",
      "Epoch [22], Batch [150/391], Loss: 0.0439\n",
      "Epoch [22], Batch [200/391], Loss: 0.1033\n",
      "Epoch [22], Batch [250/391], Loss: 0.1620\n",
      "Epoch [22], Batch [300/391], Loss: 0.1241\n",
      "Epoch [22], Batch [350/391], Loss: 0.0511\n",
      "Train set: Epoch: 22, Average loss:0.0800, LR: 0.001000 Top-1 Accuracy: 97.3800%, Top-5 Accuracy: 99.9640%, Time consumed:136.92s\n"
     ]
    },
    {
     "name": "stderr",
     "output_type": "stream",
     "text": [
      " 22%|████████████████████                                                                       | 22/100 [59:59<3:31:03, 162.35s/it]"
     ]
    },
    {
     "name": "stdout",
     "output_type": "stream",
     "text": [
      "Test set: Epoch: 22, Average loss:3.0792, Top-1 Accuracy: 52.2800%, Top-5 Accuracy: 80.7100%, Time consumed:24.61s\n",
      "\n",
      "Epoch [23], Batch [50/391], Loss: 0.0571\n",
      "Epoch [23], Batch [100/391], Loss: 0.1405\n",
      "Epoch [23], Batch [150/391], Loss: 0.1417\n",
      "Epoch [23], Batch [200/391], Loss: 0.0104\n",
      "Epoch [23], Batch [250/391], Loss: 0.0749\n",
      "Epoch [23], Batch [300/391], Loss: 0.1698\n",
      "Epoch [23], Batch [350/391], Loss: 0.0325\n",
      "Train set: Epoch: 23, Average loss:0.0723, LR: 0.001000 Top-1 Accuracy: 97.7400%, Top-5 Accuracy: 99.9660%, Time consumed:135.98s\n"
     ]
    },
    {
     "name": "stderr",
     "output_type": "stream",
     "text": [
      " 23%|████████████████████▍                                                                    | 23/100 [1:02:40<3:27:44, 161.87s/it]"
     ]
    },
    {
     "name": "stdout",
     "output_type": "stream",
     "text": [
      "Test set: Epoch: 23, Average loss:2.9309, Top-1 Accuracy: 55.2800%, Top-5 Accuracy: 81.3500%, Time consumed:24.66s\n",
      "\n",
      "New best top-1 accuracy: 55.28%, top-5 accuracy: 81.35%\n",
      "Epoch [24], Batch [50/391], Loss: 0.0473\n",
      "Epoch [24], Batch [100/391], Loss: 0.0260\n",
      "Epoch [24], Batch [150/391], Loss: 0.0405\n",
      "Epoch [24], Batch [200/391], Loss: 0.0820\n",
      "Epoch [24], Batch [250/391], Loss: 0.0301\n",
      "Epoch [24], Batch [300/391], Loss: 0.0526\n",
      "Epoch [24], Batch [350/391], Loss: 0.0510\n",
      "Train set: Epoch: 24, Average loss:0.0550, LR: 0.001000 Top-1 Accuracy: 98.2460%, Top-5 Accuracy: 99.9740%, Time consumed:135.43s\n"
     ]
    },
    {
     "name": "stderr",
     "output_type": "stream",
     "text": [
      " 24%|█████████████████████▎                                                                   | 24/100 [1:05:19<3:24:16, 161.27s/it]"
     ]
    },
    {
     "name": "stdout",
     "output_type": "stream",
     "text": [
      "Test set: Epoch: 24, Average loss:2.9914, Top-1 Accuracy: 54.4400%, Top-5 Accuracy: 81.4300%, Time consumed:24.41s\n",
      "\n",
      "Epoch [25], Batch [50/391], Loss: 0.0387\n",
      "Epoch [25], Batch [100/391], Loss: 0.0253\n",
      "Epoch [25], Batch [150/391], Loss: 0.0846\n",
      "Epoch [25], Batch [200/391], Loss: 0.0810\n",
      "Epoch [25], Batch [250/391], Loss: 0.0495\n",
      "Epoch [25], Batch [300/391], Loss: 0.0463\n",
      "Epoch [25], Batch [350/391], Loss: 0.1412\n",
      "Train set: Epoch: 25, Average loss:0.0477, LR: 0.001000 Top-1 Accuracy: 98.5680%, Top-5 Accuracy: 99.9760%, Time consumed:137.06s\n"
     ]
    },
    {
     "name": "stderr",
     "output_type": "stream",
     "text": [
      " 25%|██████████████████████▎                                                                  | 25/100 [1:08:01<3:21:42, 161.36s/it]"
     ]
    },
    {
     "name": "stdout",
     "output_type": "stream",
     "text": [
      "Test set: Epoch: 25, Average loss:3.0587, Top-1 Accuracy: 54.7200%, Top-5 Accuracy: 81.5000%, Time consumed:24.52s\n",
      "\n",
      "Epoch [26], Batch [50/391], Loss: 0.0640\n",
      "Epoch [26], Batch [100/391], Loss: 0.0176\n",
      "Epoch [26], Batch [150/391], Loss: 0.0180\n",
      "Epoch [26], Batch [200/391], Loss: 0.0332\n",
      "Epoch [26], Batch [250/391], Loss: 0.0235\n",
      "Epoch [26], Batch [300/391], Loss: 0.1391\n",
      "Epoch [26], Batch [350/391], Loss: 0.0593\n",
      "Train set: Epoch: 26, Average loss:0.0494, LR: 0.001000 Top-1 Accuracy: 98.5340%, Top-5 Accuracy: 99.9720%, Time consumed:137.55s\n"
     ]
    },
    {
     "name": "stderr",
     "output_type": "stream",
     "text": [
      " 26%|███████████████████████▏                                                                 | 26/100 [1:10:44<3:19:26, 161.71s/it]"
     ]
    },
    {
     "name": "stdout",
     "output_type": "stream",
     "text": [
      "Test set: Epoch: 26, Average loss:3.2285, Top-1 Accuracy: 53.7900%, Top-5 Accuracy: 80.4500%, Time consumed:24.98s\n",
      "\n",
      "Epoch [27], Batch [50/391], Loss: 0.1310\n",
      "Epoch [27], Batch [100/391], Loss: 0.0582\n",
      "Epoch [27], Batch [150/391], Loss: 0.0572\n",
      "Epoch [27], Batch [200/391], Loss: 0.0395\n",
      "Epoch [27], Batch [250/391], Loss: 0.0425\n",
      "Epoch [27], Batch [300/391], Loss: 0.1230\n",
      "Epoch [27], Batch [350/391], Loss: 0.0762\n",
      "Train set: Epoch: 27, Average loss:0.0709, LR: 0.001000 Top-1 Accuracy: 97.7220%, Top-5 Accuracy: 99.9660%, Time consumed:136.69s\n"
     ]
    },
    {
     "name": "stderr",
     "output_type": "stream",
     "text": [
      " 27%|████████████████████████                                                                 | 27/100 [1:13:25<3:16:37, 161.61s/it]"
     ]
    },
    {
     "name": "stdout",
     "output_type": "stream",
     "text": [
      "Test set: Epoch: 27, Average loss:3.0906, Top-1 Accuracy: 54.1100%, Top-5 Accuracy: 80.2400%, Time consumed:24.67s\n",
      "\n",
      "Epoch [28], Batch [50/391], Loss: 0.0319\n",
      "Epoch [28], Batch [100/391], Loss: 0.0561\n",
      "Epoch [28], Batch [150/391], Loss: 0.0118\n",
      "Epoch [28], Batch [200/391], Loss: 0.0632\n",
      "Epoch [28], Batch [250/391], Loss: 0.0443\n",
      "Epoch [28], Batch [300/391], Loss: 0.0507\n",
      "Epoch [28], Batch [350/391], Loss: 0.1112\n",
      "Train set: Epoch: 28, Average loss:0.0547, LR: 0.001000 Top-1 Accuracy: 98.2100%, Top-5 Accuracy: 99.9860%, Time consumed:135.97s\n"
     ]
    },
    {
     "name": "stderr",
     "output_type": "stream",
     "text": [
      " 28%|████████████████████████▉                                                                | 28/100 [1:16:06<3:13:34, 161.31s/it]"
     ]
    },
    {
     "name": "stdout",
     "output_type": "stream",
     "text": [
      "Test set: Epoch: 28, Average loss:3.1095, Top-1 Accuracy: 54.5100%, Top-5 Accuracy: 80.9100%, Time consumed:24.63s\n",
      "\n",
      "Epoch [29], Batch [50/391], Loss: 0.0411\n",
      "Epoch [29], Batch [100/391], Loss: 0.0049\n",
      "Epoch [29], Batch [150/391], Loss: 0.0085\n",
      "Epoch [29], Batch [200/391], Loss: 0.0153\n",
      "Epoch [29], Batch [250/391], Loss: 0.0231\n",
      "Epoch [29], Batch [300/391], Loss: 0.0472\n",
      "Epoch [29], Batch [350/391], Loss: 0.0226\n",
      "Train set: Epoch: 29, Average loss:0.0363, LR: 0.001000 Top-1 Accuracy: 98.9000%, Top-5 Accuracy: 99.9820%, Time consumed:137.29s\n"
     ]
    },
    {
     "name": "stderr",
     "output_type": "stream",
     "text": [
      " 29%|█████████████████████████▊                                                               | 29/100 [1:18:49<3:11:37, 161.93s/it]"
     ]
    },
    {
     "name": "stdout",
     "output_type": "stream",
     "text": [
      "Test set: Epoch: 29, Average loss:3.0530, Top-1 Accuracy: 55.0300%, Top-5 Accuracy: 81.6400%, Time consumed:26.08s\n",
      "\n",
      "Epoch [30], Batch [50/391], Loss: 0.0215\n",
      "Epoch [30], Batch [100/391], Loss: 0.0116\n",
      "Epoch [30], Batch [150/391], Loss: 0.1478\n",
      "Epoch [30], Batch [200/391], Loss: 0.0260\n",
      "Epoch [30], Batch [250/391], Loss: 0.1483\n",
      "Epoch [30], Batch [300/391], Loss: 0.1202\n",
      "Epoch [30], Batch [350/391], Loss: 0.0227\n",
      "Train set: Epoch: 30, Average loss:0.0460, LR: 0.001000 Top-1 Accuracy: 98.5460%, Top-5 Accuracy: 99.9740%, Time consumed:135.78s\n"
     ]
    },
    {
     "name": "stderr",
     "output_type": "stream",
     "text": [
      " 30%|██████████████████████████▋                                                              | 30/100 [1:21:29<3:08:21, 161.45s/it]"
     ]
    },
    {
     "name": "stdout",
     "output_type": "stream",
     "text": [
      "Test set: Epoch: 30, Average loss:3.3342, Top-1 Accuracy: 52.8800%, Top-5 Accuracy: 80.1400%, Time consumed:24.54s\n",
      "\n",
      "Epoch [31], Batch [50/391], Loss: 0.0119\n",
      "Epoch [31], Batch [100/391], Loss: 0.0485\n",
      "Epoch [31], Batch [150/391], Loss: 0.0164\n",
      "Epoch [31], Batch [200/391], Loss: 0.0616\n",
      "Epoch [31], Batch [250/391], Loss: 0.0636\n",
      "Epoch [31], Batch [300/391], Loss: 0.0822\n",
      "Epoch [31], Batch [350/391], Loss: 0.0972\n",
      "Train set: Epoch: 31, Average loss:0.0608, LR: 0.001000 Top-1 Accuracy: 98.0560%, Top-5 Accuracy: 99.9720%, Time consumed:137.73s\n"
     ]
    },
    {
     "name": "stderr",
     "output_type": "stream",
     "text": [
      " 31%|███████████████████████████▌                                                             | 31/100 [1:24:12<3:06:06, 161.84s/it]"
     ]
    },
    {
     "name": "stdout",
     "output_type": "stream",
     "text": [
      "Test set: Epoch: 31, Average loss:3.2794, Top-1 Accuracy: 54.0700%, Top-5 Accuracy: 80.7700%, Time consumed:25.01s\n",
      "\n",
      "Epoch [32], Batch [50/391], Loss: 0.0687\n",
      "Epoch [32], Batch [100/391], Loss: 0.0537\n",
      "Epoch [32], Batch [150/391], Loss: 0.1171\n",
      "Epoch [32], Batch [200/391], Loss: 0.0427\n",
      "Epoch [32], Batch [250/391], Loss: 0.0154\n",
      "Epoch [32], Batch [300/391], Loss: 0.0481\n",
      "Epoch [32], Batch [350/391], Loss: 0.0316\n",
      "Train set: Epoch: 32, Average loss:0.0477, LR: 0.001000 Top-1 Accuracy: 98.4820%, Top-5 Accuracy: 99.9880%, Time consumed:137.75s\n"
     ]
    },
    {
     "name": "stderr",
     "output_type": "stream",
     "text": [
      " 32%|████████████████████████████▍                                                            | 32/100 [1:26:55<3:03:47, 162.17s/it]"
     ]
    },
    {
     "name": "stdout",
     "output_type": "stream",
     "text": [
      "Test set: Epoch: 32, Average loss:3.1725, Top-1 Accuracy: 55.4900%, Top-5 Accuracy: 81.9900%, Time consumed:25.06s\n",
      "\n",
      "New best top-1 accuracy: 55.49%, top-5 accuracy: 81.99%\n",
      "Epoch [33], Batch [50/391], Loss: 0.0084\n",
      "Epoch [33], Batch [100/391], Loss: 0.0368\n",
      "Epoch [33], Batch [150/391], Loss: 0.0205\n",
      "Epoch [33], Batch [200/391], Loss: 0.0139\n",
      "Epoch [33], Batch [250/391], Loss: 0.0119\n",
      "Epoch [33], Batch [300/391], Loss: 0.0121\n",
      "Epoch [33], Batch [350/391], Loss: 0.0330\n",
      "Train set: Epoch: 33, Average loss:0.0307, LR: 0.001000 Top-1 Accuracy: 99.0120%, Top-5 Accuracy: 99.9960%, Time consumed:142.21s\n"
     ]
    },
    {
     "name": "stderr",
     "output_type": "stream",
     "text": [
      " 33%|█████████████████████████████▎                                                           | 33/100 [1:29:42<3:02:40, 163.58s/it]"
     ]
    },
    {
     "name": "stdout",
     "output_type": "stream",
     "text": [
      "Test set: Epoch: 33, Average loss:3.2131, Top-1 Accuracy: 55.4700%, Top-5 Accuracy: 81.9700%, Time consumed:24.66s\n",
      "\n",
      "Epoch [34], Batch [50/391], Loss: 0.0236\n",
      "Epoch [34], Batch [100/391], Loss: 0.0629\n",
      "Epoch [34], Batch [150/391], Loss: 0.0434\n",
      "Epoch [34], Batch [200/391], Loss: 0.0977\n",
      "Epoch [34], Batch [250/391], Loss: 0.0840\n",
      "Epoch [34], Batch [300/391], Loss: 0.0597\n",
      "Epoch [34], Batch [350/391], Loss: 0.0130\n",
      "Train set: Epoch: 34, Average loss:0.0375, LR: 0.001000 Top-1 Accuracy: 98.8400%, Top-5 Accuracy: 99.9920%, Time consumed:137.43s\n"
     ]
    },
    {
     "name": "stderr",
     "output_type": "stream",
     "text": [
      " 34%|██████████████████████████████▎                                                          | 34/100 [1:32:25<2:59:39, 163.33s/it]"
     ]
    },
    {
     "name": "stdout",
     "output_type": "stream",
     "text": [
      "Test set: Epoch: 34, Average loss:3.2585, Top-1 Accuracy: 54.4900%, Top-5 Accuracy: 81.1800%, Time consumed:25.31s\n",
      "\n",
      "Epoch [35], Batch [50/391], Loss: 0.0482\n",
      "Epoch [35], Batch [100/391], Loss: 0.0418\n",
      "Epoch [35], Batch [150/391], Loss: 0.0548\n",
      "Epoch [35], Batch [200/391], Loss: 0.0301\n",
      "Epoch [35], Batch [250/391], Loss: 0.0080\n",
      "Epoch [35], Batch [300/391], Loss: 0.0255\n",
      "Epoch [35], Batch [350/391], Loss: 0.0752\n",
      "Train set: Epoch: 35, Average loss:0.0462, LR: 0.001000 Top-1 Accuracy: 98.5320%, Top-5 Accuracy: 99.9860%, Time consumed:137.37s\n"
     ]
    },
    {
     "name": "stderr",
     "output_type": "stream",
     "text": [
      " 35%|███████████████████████████████▏                                                         | 35/100 [1:35:06<2:56:25, 162.86s/it]"
     ]
    },
    {
     "name": "stdout",
     "output_type": "stream",
     "text": [
      "Test set: Epoch: 35, Average loss:3.5236, Top-1 Accuracy: 53.0900%, Top-5 Accuracy: 79.4800%, Time consumed:24.37s\n",
      "\n",
      "Epoch [36], Batch [50/391], Loss: 0.0900\n",
      "Epoch [36], Batch [100/391], Loss: 0.0406\n",
      "Epoch [36], Batch [150/391], Loss: 0.0104\n",
      "Epoch [36], Batch [200/391], Loss: 0.0240\n",
      "Epoch [36], Batch [250/391], Loss: 0.0236\n",
      "Epoch [36], Batch [300/391], Loss: 0.0389\n",
      "Epoch [36], Batch [350/391], Loss: 0.0322\n",
      "Train set: Epoch: 36, Average loss:0.0537, LR: 0.001000 Top-1 Accuracy: 98.2060%, Top-5 Accuracy: 99.9820%, Time consumed:138.06s\n"
     ]
    },
    {
     "name": "stderr",
     "output_type": "stream",
     "text": [
      " 36%|████████████████████████████████                                                         | 36/100 [1:37:49<2:53:39, 162.80s/it]"
     ]
    },
    {
     "name": "stdout",
     "output_type": "stream",
     "text": [
      "Test set: Epoch: 36, Average loss:3.3305, Top-1 Accuracy: 54.3200%, Top-5 Accuracy: 81.4300%, Time consumed:24.62s\n",
      "\n",
      "Epoch [37], Batch [50/391], Loss: 0.0450\n",
      "Epoch [37], Batch [100/391], Loss: 0.0045\n",
      "Epoch [37], Batch [150/391], Loss: 0.0564\n",
      "Epoch [37], Batch [200/391], Loss: 0.0506\n",
      "Epoch [37], Batch [250/391], Loss: 0.0084\n",
      "Epoch [37], Batch [300/391], Loss: 0.1279\n",
      "Epoch [37], Batch [350/391], Loss: 0.0829\n",
      "Train set: Epoch: 37, Average loss:0.0408, LR: 0.001000 Top-1 Accuracy: 98.6440%, Top-5 Accuracy: 99.9880%, Time consumed:138.27s\n"
     ]
    },
    {
     "name": "stderr",
     "output_type": "stream",
     "text": [
      " 37%|████████████████████████████████▉                                                        | 37/100 [1:40:32<2:50:58, 162.84s/it]"
     ]
    },
    {
     "name": "stdout",
     "output_type": "stream",
     "text": [
      "Test set: Epoch: 37, Average loss:3.3668, Top-1 Accuracy: 54.6900%, Top-5 Accuracy: 80.7800%, Time consumed:24.64s\n",
      "\n",
      "Epoch [38], Batch [50/391], Loss: 0.0732\n",
      "Epoch [38], Batch [100/391], Loss: 0.0288\n",
      "Epoch [38], Batch [150/391], Loss: 0.0044\n",
      "Epoch [38], Batch [200/391], Loss: 0.0176\n",
      "Epoch [38], Batch [250/391], Loss: 0.0043\n",
      "Epoch [38], Batch [300/391], Loss: 0.0078\n",
      "Epoch [38], Batch [350/391], Loss: 0.0609\n",
      "Train set: Epoch: 38, Average loss:0.0322, LR: 0.001000 Top-1 Accuracy: 98.9520%, Top-5 Accuracy: 99.9960%, Time consumed:142.55s\n"
     ]
    },
    {
     "name": "stderr",
     "output_type": "stream",
     "text": [
      " 38%|█████████████████████████████████▊                                                       | 38/100 [1:43:19<2:49:38, 164.17s/it]"
     ]
    },
    {
     "name": "stdout",
     "output_type": "stream",
     "text": [
      "Test set: Epoch: 38, Average loss:3.4021, Top-1 Accuracy: 54.6400%, Top-5 Accuracy: 80.8800%, Time consumed:24.71s\n",
      "\n",
      "Epoch [39], Batch [50/391], Loss: 0.0159\n",
      "Epoch [39], Batch [100/391], Loss: 0.0066\n",
      "Epoch [39], Batch [150/391], Loss: 0.0517\n",
      "Epoch [39], Batch [200/391], Loss: 0.0454\n",
      "Epoch [39], Batch [250/391], Loss: 0.0144\n",
      "Epoch [39], Batch [300/391], Loss: 0.0511\n",
      "Epoch [39], Batch [350/391], Loss: 0.0305\n",
      "Train set: Epoch: 39, Average loss:0.0344, LR: 0.001000 Top-1 Accuracy: 98.8760%, Top-5 Accuracy: 99.9980%, Time consumed:139.20s\n"
     ]
    },
    {
     "name": "stderr",
     "output_type": "stream",
     "text": [
      " 39%|██████████████████████████████████▋                                                      | 39/100 [1:46:04<2:47:11, 164.44s/it]"
     ]
    },
    {
     "name": "stdout",
     "output_type": "stream",
     "text": [
      "Test set: Epoch: 39, Average loss:3.3098, Top-1 Accuracy: 55.0500%, Top-5 Accuracy: 81.3500%, Time consumed:25.89s\n",
      "\n",
      "Epoch [40], Batch [50/391], Loss: 0.0034\n",
      "Epoch [40], Batch [100/391], Loss: 0.0145\n",
      "Epoch [40], Batch [150/391], Loss: 0.0337\n",
      "Epoch [40], Batch [200/391], Loss: 0.0380\n",
      "Epoch [40], Batch [250/391], Loss: 0.0180\n",
      "Epoch [40], Batch [300/391], Loss: 0.0186\n",
      "Epoch [40], Batch [350/391], Loss: 0.0250\n",
      "Train set: Epoch: 40, Average loss:0.0288, LR: 0.001000 Top-1 Accuracy: 99.1100%, Top-5 Accuracy: 99.9920%, Time consumed:143.80s\n"
     ]
    },
    {
     "name": "stderr",
     "output_type": "stream",
     "text": [
      " 40%|███████████████████████████████████▌                                                     | 40/100 [1:48:53<2:45:36, 165.61s/it]"
     ]
    },
    {
     "name": "stdout",
     "output_type": "stream",
     "text": [
      "Test set: Epoch: 40, Average loss:3.3340, Top-1 Accuracy: 54.5600%, Top-5 Accuracy: 81.2200%, Time consumed:24.53s\n",
      "\n",
      "Epoch [41], Batch [50/391], Loss: 0.0239\n",
      "Epoch [41], Batch [100/391], Loss: 0.0597\n",
      "Epoch [41], Batch [150/391], Loss: 0.0311\n",
      "Epoch [41], Batch [200/391], Loss: 0.0229\n",
      "Epoch [41], Batch [250/391], Loss: 0.0317\n",
      "Epoch [41], Batch [300/391], Loss: 0.0579\n",
      "Epoch [41], Batch [350/391], Loss: 0.0712\n",
      "Train set: Epoch: 41, Average loss:0.0362, LR: 0.001000 Top-1 Accuracy: 98.8620%, Top-5 Accuracy: 99.9920%, Time consumed:137.26s\n"
     ]
    },
    {
     "name": "stderr",
     "output_type": "stream",
     "text": [
      " 41%|████████████████████████████████████▍                                                    | 41/100 [1:51:35<2:41:56, 164.69s/it]"
     ]
    },
    {
     "name": "stdout",
     "output_type": "stream",
     "text": [
      "Test set: Epoch: 41, Average loss:3.3426, Top-1 Accuracy: 54.8200%, Top-5 Accuracy: 81.4200%, Time consumed:25.28s\n",
      "\n",
      "Epoch [42], Batch [50/391], Loss: 0.0150\n",
      "Epoch [42], Batch [100/391], Loss: 0.0251\n",
      "Epoch [42], Batch [150/391], Loss: 0.1248\n",
      "Epoch [42], Batch [200/391], Loss: 0.0427\n",
      "Epoch [42], Batch [250/391], Loss: 0.0815\n",
      "Epoch [42], Batch [300/391], Loss: 0.0139\n",
      "Epoch [42], Batch [350/391], Loss: 0.0064\n",
      "Train set: Epoch: 42, Average loss:0.0431, LR: 0.001000 Top-1 Accuracy: 98.6120%, Top-5 Accuracy: 99.9820%, Time consumed:135.55s\n"
     ]
    },
    {
     "name": "stderr",
     "output_type": "stream",
     "text": [
      " 42%|█████████████████████████████████████▍                                                   | 42/100 [1:54:16<2:37:57, 163.40s/it]"
     ]
    },
    {
     "name": "stdout",
     "output_type": "stream",
     "text": [
      "Test set: Epoch: 42, Average loss:3.3573, Top-1 Accuracy: 55.1300%, Top-5 Accuracy: 81.2800%, Time consumed:24.82s\n",
      "\n",
      "Epoch [43], Batch [50/391], Loss: 0.0493\n",
      "Epoch [43], Batch [100/391], Loss: 0.0901\n",
      "Epoch [43], Batch [150/391], Loss: 0.0106\n",
      "Epoch [43], Batch [200/391], Loss: 0.0075\n",
      "Epoch [43], Batch [250/391], Loss: 0.0114\n",
      "Epoch [43], Batch [300/391], Loss: 0.0101\n",
      "Epoch [43], Batch [350/391], Loss: 0.0021\n",
      "Train set: Epoch: 43, Average loss:0.0278, LR: 0.001000 Top-1 Accuracy: 99.0740%, Top-5 Accuracy: 99.9960%, Time consumed:140.34s\n"
     ]
    },
    {
     "name": "stderr",
     "output_type": "stream",
     "text": [
      " 43%|██████████████████████████████████████▎                                                  | 43/100 [1:57:01<2:35:43, 163.92s/it]"
     ]
    },
    {
     "name": "stdout",
     "output_type": "stream",
     "text": [
      "Test set: Epoch: 43, Average loss:3.3783, Top-1 Accuracy: 54.9300%, Top-5 Accuracy: 80.8600%, Time consumed:24.81s\n",
      "\n",
      "Epoch [44], Batch [50/391], Loss: 0.0133\n",
      "Epoch [44], Batch [100/391], Loss: 0.0189\n",
      "Epoch [44], Batch [150/391], Loss: 0.0322\n",
      "Epoch [44], Batch [200/391], Loss: 0.0687\n",
      "Epoch [44], Batch [250/391], Loss: 0.0253\n",
      "Epoch [44], Batch [300/391], Loss: 0.0184\n",
      "Epoch [44], Batch [350/391], Loss: 0.0529\n",
      "Train set: Epoch: 44, Average loss:0.0362, LR: 0.001000 Top-1 Accuracy: 98.8580%, Top-5 Accuracy: 99.9920%, Time consumed:136.48s\n"
     ]
    },
    {
     "name": "stderr",
     "output_type": "stream",
     "text": [
      " 44%|███████████████████████████████████████▏                                                 | 44/100 [1:59:42<2:32:11, 163.07s/it]"
     ]
    },
    {
     "name": "stdout",
     "output_type": "stream",
     "text": [
      "Test set: Epoch: 44, Average loss:3.4898, Top-1 Accuracy: 53.9700%, Top-5 Accuracy: 80.3300%, Time consumed:24.58s\n",
      "\n",
      "Epoch [45], Batch [50/391], Loss: 0.0382\n",
      "Epoch [45], Batch [100/391], Loss: 0.0318\n",
      "Epoch [45], Batch [150/391], Loss: 0.0217\n",
      "Epoch [45], Batch [200/391], Loss: 0.0741\n",
      "Epoch [45], Batch [250/391], Loss: 0.0309\n",
      "Epoch [45], Batch [300/391], Loss: 0.0142\n",
      "Epoch [45], Batch [350/391], Loss: 0.0596\n",
      "Train set: Epoch: 45, Average loss:0.0381, LR: 0.001000 Top-1 Accuracy: 98.7960%, Top-5 Accuracy: 99.9880%, Time consumed:136.65s\n"
     ]
    },
    {
     "name": "stderr",
     "output_type": "stream",
     "text": [
      " 45%|████████████████████████████████████████                                                 | 45/100 [2:02:25<2:29:26, 163.04s/it]"
     ]
    },
    {
     "name": "stdout",
     "output_type": "stream",
     "text": [
      "Test set: Epoch: 45, Average loss:3.3517, Top-1 Accuracy: 54.9200%, Top-5 Accuracy: 81.1500%, Time consumed:26.31s\n",
      "\n",
      "Epoch [46], Batch [50/391], Loss: 0.0176\n",
      "Epoch [46], Batch [100/391], Loss: 0.0065\n",
      "Epoch [46], Batch [150/391], Loss: 0.0092\n",
      "Epoch [46], Batch [200/391], Loss: 0.0220\n",
      "Epoch [46], Batch [250/391], Loss: 0.0555\n",
      "Epoch [46], Batch [300/391], Loss: 0.0013\n",
      "Epoch [46], Batch [350/391], Loss: 0.0065\n",
      "Train set: Epoch: 46, Average loss:0.0286, LR: 0.001000 Top-1 Accuracy: 99.0760%, Top-5 Accuracy: 99.9900%, Time consumed:138.72s\n"
     ]
    },
    {
     "name": "stderr",
     "output_type": "stream",
     "text": [
      " 46%|████████████████████████████████████████▉                                                | 46/100 [2:05:08<2:26:52, 163.19s/it]"
     ]
    },
    {
     "name": "stdout",
     "output_type": "stream",
     "text": [
      "Test set: Epoch: 46, Average loss:3.3264, Top-1 Accuracy: 55.5000%, Top-5 Accuracy: 81.6600%, Time consumed:24.71s\n",
      "\n",
      "New best top-1 accuracy: 55.50%, top-5 accuracy: 81.66%\n",
      "Epoch [47], Batch [50/391], Loss: 0.0320\n",
      "Epoch [47], Batch [100/391], Loss: 0.0239\n",
      "Epoch [47], Batch [150/391], Loss: 0.1130\n",
      "Epoch [47], Batch [200/391], Loss: 0.0401\n",
      "Epoch [47], Batch [250/391], Loss: 0.0048\n",
      "Epoch [47], Batch [300/391], Loss: 0.0006\n",
      "Epoch [47], Batch [350/391], Loss: 0.0141\n",
      "Train set: Epoch: 47, Average loss:0.0207, LR: 0.001000 Top-1 Accuracy: 99.3460%, Top-5 Accuracy: 99.9980%, Time consumed:136.54s\n"
     ]
    },
    {
     "name": "stderr",
     "output_type": "stream",
     "text": [
      " 47%|█████████████████████████████████████████▊                                               | 47/100 [2:07:50<2:23:39, 162.63s/it]"
     ]
    },
    {
     "name": "stdout",
     "output_type": "stream",
     "text": [
      "Test set: Epoch: 47, Average loss:3.3882, Top-1 Accuracy: 55.7300%, Top-5 Accuracy: 81.7800%, Time consumed:24.66s\n",
      "\n",
      "New best top-1 accuracy: 55.73%, top-5 accuracy: 81.78%\n",
      "Epoch [48], Batch [50/391], Loss: 0.0036\n",
      "Epoch [48], Batch [100/391], Loss: 0.0173\n",
      "Epoch [48], Batch [150/391], Loss: 0.0038\n",
      "Epoch [48], Batch [200/391], Loss: 0.0033\n",
      "Epoch [48], Batch [250/391], Loss: 0.0238\n",
      "Epoch [48], Batch [300/391], Loss: 0.1058\n",
      "Epoch [48], Batch [350/391], Loss: 0.0108\n",
      "Train set: Epoch: 48, Average loss:0.0247, LR: 0.001000 Top-1 Accuracy: 99.1780%, Top-5 Accuracy: 99.9940%, Time consumed:136.56s\n"
     ]
    },
    {
     "name": "stderr",
     "output_type": "stream",
     "text": [
      " 48%|██████████████████████████████████████████▋                                              | 48/100 [2:10:32<2:20:56, 162.63s/it]"
     ]
    },
    {
     "name": "stdout",
     "output_type": "stream",
     "text": [
      "Test set: Epoch: 48, Average loss:3.5601, Top-1 Accuracy: 54.5400%, Top-5 Accuracy: 80.7000%, Time consumed:26.07s\n",
      "\n",
      "Epoch [49], Batch [50/391], Loss: 0.0151\n",
      "Epoch [49], Batch [100/391], Loss: 0.0739\n",
      "Epoch [49], Batch [150/391], Loss: 0.0175\n",
      "Epoch [49], Batch [200/391], Loss: 0.0386\n",
      "Epoch [49], Batch [250/391], Loss: 0.1075\n",
      "Epoch [49], Batch [300/391], Loss: 0.0055\n",
      "Epoch [49], Batch [350/391], Loss: 0.0149\n",
      "Train set: Epoch: 49, Average loss:0.0384, LR: 0.001000 Top-1 Accuracy: 98.7020%, Top-5 Accuracy: 99.9880%, Time consumed:137.53s\n"
     ]
    },
    {
     "name": "stderr",
     "output_type": "stream",
     "text": [
      " 49%|███████████████████████████████████████████▌                                             | 49/100 [2:13:15<2:18:14, 162.64s/it]"
     ]
    },
    {
     "name": "stdout",
     "output_type": "stream",
     "text": [
      "Test set: Epoch: 49, Average loss:3.5253, Top-1 Accuracy: 54.5000%, Top-5 Accuracy: 80.8000%, Time consumed:25.13s\n",
      "\n",
      "Epoch [50], Batch [50/391], Loss: 0.0136\n",
      "Epoch [50], Batch [100/391], Loss: 0.0208\n",
      "Epoch [50], Batch [150/391], Loss: 0.0050\n",
      "Epoch [50], Batch [200/391], Loss: 0.0146\n",
      "Epoch [50], Batch [250/391], Loss: 0.0565\n",
      "Epoch [50], Batch [300/391], Loss: 0.0772\n",
      "Epoch [50], Batch [350/391], Loss: 0.0488\n",
      "Train set: Epoch: 50, Average loss:0.0395, LR: 0.001000 Top-1 Accuracy: 98.6960%, Top-5 Accuracy: 99.9900%, Time consumed:137.61s\n"
     ]
    },
    {
     "name": "stderr",
     "output_type": "stream",
     "text": [
      " 50%|████████████████████████████████████████████▌                                            | 50/100 [2:15:59<2:15:53, 163.06s/it]"
     ]
    },
    {
     "name": "stdout",
     "output_type": "stream",
     "text": [
      "Test set: Epoch: 50, Average loss:3.4270, Top-1 Accuracy: 55.2600%, Top-5 Accuracy: 81.5400%, Time consumed:26.42s\n",
      "\n",
      "Epoch [51], Batch [50/391], Loss: 0.0214\n",
      "Epoch [51], Batch [100/391], Loss: 0.0269\n",
      "Epoch [51], Batch [150/391], Loss: 0.0014\n",
      "Epoch [51], Batch [200/391], Loss: 0.0241\n",
      "Epoch [51], Batch [250/391], Loss: 0.0270\n",
      "Epoch [51], Batch [300/391], Loss: 0.0068\n",
      "Epoch [51], Batch [350/391], Loss: 0.0372\n",
      "Train set: Epoch: 51, Average loss:0.0257, LR: 0.001000 Top-1 Accuracy: 99.1680%, Top-5 Accuracy: 99.9820%, Time consumed:136.03s\n"
     ]
    },
    {
     "name": "stderr",
     "output_type": "stream",
     "text": [
      " 51%|█████████████████████████████████████████████▍                                           | 51/100 [2:18:40<2:12:46, 162.58s/it]"
     ]
    },
    {
     "name": "stdout",
     "output_type": "stream",
     "text": [
      "Test set: Epoch: 51, Average loss:3.5771, Top-1 Accuracy: 54.3300%, Top-5 Accuracy: 81.0300%, Time consumed:25.43s\n",
      "\n",
      "Epoch [52], Batch [50/391], Loss: 0.0021\n",
      "Epoch [52], Batch [100/391], Loss: 0.0118\n",
      "Epoch [52], Batch [150/391], Loss: 0.0379\n",
      "Epoch [52], Batch [200/391], Loss: 0.0351\n",
      "Epoch [52], Batch [250/391], Loss: 0.0037\n",
      "Epoch [52], Batch [300/391], Loss: 0.0815\n",
      "Epoch [52], Batch [350/391], Loss: 0.0366\n",
      "Train set: Epoch: 52, Average loss:0.0206, LR: 0.001000 Top-1 Accuracy: 99.3260%, Top-5 Accuracy: 99.9980%, Time consumed:135.42s\n"
     ]
    },
    {
     "name": "stderr",
     "output_type": "stream",
     "text": [
      " 52%|██████████████████████████████████████████████▎                                          | 52/100 [2:21:21<2:09:29, 161.86s/it]"
     ]
    },
    {
     "name": "stdout",
     "output_type": "stream",
     "text": [
      "Test set: Epoch: 52, Average loss:3.5297, Top-1 Accuracy: 55.4500%, Top-5 Accuracy: 81.5900%, Time consumed:24.76s\n",
      "\n",
      "Epoch [53], Batch [50/391], Loss: 0.0072\n",
      "Epoch [53], Batch [100/391], Loss: 0.0041\n",
      "Epoch [53], Batch [150/391], Loss: 0.0038\n",
      "Epoch [53], Batch [200/391], Loss: 0.0081\n",
      "Epoch [53], Batch [250/391], Loss: 0.0211\n",
      "Epoch [53], Batch [300/391], Loss: 0.0035\n",
      "Epoch [53], Batch [350/391], Loss: 0.0186\n",
      "Train set: Epoch: 53, Average loss:0.0230, LR: 0.001000 Top-1 Accuracy: 99.2480%, Top-5 Accuracy: 100.0000%, Time consumed:136.56s\n"
     ]
    },
    {
     "name": "stderr",
     "output_type": "stream",
     "text": [
      " 53%|███████████████████████████████████████████████▏                                         | 53/100 [2:24:02<2:06:43, 161.77s/it]"
     ]
    },
    {
     "name": "stdout",
     "output_type": "stream",
     "text": [
      "Test set: Epoch: 53, Average loss:3.5098, Top-1 Accuracy: 55.6500%, Top-5 Accuracy: 80.9100%, Time consumed:24.97s\n",
      "\n",
      "Epoch [54], Batch [50/391], Loss: 0.0231\n",
      "Epoch [54], Batch [100/391], Loss: 0.1119\n",
      "Epoch [54], Batch [150/391], Loss: 0.0862\n",
      "Epoch [54], Batch [200/391], Loss: 0.0473\n",
      "Epoch [54], Batch [250/391], Loss: 0.0052\n",
      "Epoch [54], Batch [300/391], Loss: 0.0031\n",
      "Epoch [54], Batch [350/391], Loss: 0.0745\n",
      "Train set: Epoch: 54, Average loss:0.0400, LR: 0.001000 Top-1 Accuracy: 98.7440%, Top-5 Accuracy: 99.9840%, Time consumed:136.73s\n"
     ]
    },
    {
     "name": "stderr",
     "output_type": "stream",
     "text": [
      " 54%|████████████████████████████████████████████████                                         | 54/100 [2:26:43<2:03:54, 161.63s/it]"
     ]
    },
    {
     "name": "stdout",
     "output_type": "stream",
     "text": [
      "Test set: Epoch: 54, Average loss:3.4333, Top-1 Accuracy: 55.0500%, Top-5 Accuracy: 81.3600%, Time consumed:24.56s\n",
      "\n",
      "Epoch [55], Batch [50/391], Loss: 0.0406\n",
      "Epoch [55], Batch [100/391], Loss: 0.0077\n",
      "Epoch [55], Batch [150/391], Loss: 0.0125\n",
      "Epoch [55], Batch [200/391], Loss: 0.0007\n",
      "Epoch [55], Batch [250/391], Loss: 0.0009\n",
      "Epoch [55], Batch [300/391], Loss: 0.0134\n",
      "Epoch [55], Batch [350/391], Loss: 0.0775\n",
      "Train set: Epoch: 55, Average loss:0.0219, LR: 0.001000 Top-1 Accuracy: 99.2480%, Top-5 Accuracy: 99.9980%, Time consumed:146.07s\n"
     ]
    },
    {
     "name": "stderr",
     "output_type": "stream",
     "text": [
      " 55%|████████████████████████████████████████████████▉                                        | 55/100 [2:29:36<2:03:36, 164.81s/it]"
     ]
    },
    {
     "name": "stdout",
     "output_type": "stream",
     "text": [
      "Test set: Epoch: 55, Average loss:3.3977, Top-1 Accuracy: 55.4600%, Top-5 Accuracy: 81.3700%, Time consumed:26.15s\n",
      "\n",
      "Epoch [56], Batch [50/391], Loss: 0.0588\n",
      "Epoch [56], Batch [100/391], Loss: 0.0122\n",
      "Epoch [56], Batch [150/391], Loss: 0.0032\n",
      "Epoch [56], Batch [200/391], Loss: 0.0109\n",
      "Epoch [56], Batch [250/391], Loss: 0.0007\n",
      "Epoch [56], Batch [300/391], Loss: 0.0178\n",
      "Epoch [56], Batch [350/391], Loss: 0.0051\n",
      "Train set: Epoch: 56, Average loss:0.0182, LR: 0.001000 Top-1 Accuracy: 99.4260%, Top-5 Accuracy: 99.9960%, Time consumed:135.69s\n"
     ]
    },
    {
     "name": "stderr",
     "output_type": "stream",
     "text": [
      " 56%|█████████████████████████████████████████████████▊                                       | 56/100 [2:32:17<2:00:02, 163.70s/it]"
     ]
    },
    {
     "name": "stdout",
     "output_type": "stream",
     "text": [
      "Test set: Epoch: 56, Average loss:3.5186, Top-1 Accuracy: 55.6700%, Top-5 Accuracy: 81.6800%, Time consumed:25.41s\n",
      "\n",
      "Epoch [57], Batch [50/391], Loss: 0.0157\n",
      "Epoch [57], Batch [100/391], Loss: 0.0078\n",
      "Epoch [57], Batch [150/391], Loss: 0.0045\n",
      "Epoch [57], Batch [200/391], Loss: 0.0238\n",
      "Epoch [57], Batch [250/391], Loss: 0.0033\n",
      "Epoch [57], Batch [300/391], Loss: 0.0233\n",
      "Epoch [57], Batch [350/391], Loss: 0.0286\n",
      "Train set: Epoch: 57, Average loss:0.0234, LR: 0.001000 Top-1 Accuracy: 99.2300%, Top-5 Accuracy: 100.0000%, Time consumed:137.38s\n"
     ]
    },
    {
     "name": "stderr",
     "output_type": "stream",
     "text": [
      " 57%|██████████████████████████████████████████████████▋                                      | 57/100 [2:34:59<1:57:02, 163.31s/it]"
     ]
    },
    {
     "name": "stdout",
     "output_type": "stream",
     "text": [
      "Test set: Epoch: 57, Average loss:3.5792, Top-1 Accuracy: 55.1100%, Top-5 Accuracy: 81.0300%, Time consumed:25.02s\n",
      "\n",
      "Epoch [58], Batch [50/391], Loss: 0.1295\n",
      "Epoch [58], Batch [100/391], Loss: 0.0365\n",
      "Epoch [58], Batch [150/391], Loss: 0.0180\n",
      "Epoch [58], Batch [200/391], Loss: 0.0083\n",
      "Epoch [58], Batch [250/391], Loss: 0.0615\n",
      "Epoch [58], Batch [300/391], Loss: 0.0874\n",
      "Epoch [58], Batch [350/391], Loss: 0.0215\n",
      "Train set: Epoch: 58, Average loss:0.0370, LR: 0.001000 Top-1 Accuracy: 98.7900%, Top-5 Accuracy: 99.9920%, Time consumed:137.04s\n"
     ]
    },
    {
     "name": "stderr",
     "output_type": "stream",
     "text": [
      " 58%|███████████████████████████████████████████████████▌                                     | 58/100 [2:37:41<1:54:02, 162.90s/it]"
     ]
    },
    {
     "name": "stdout",
     "output_type": "stream",
     "text": [
      "Test set: Epoch: 58, Average loss:3.6991, Top-1 Accuracy: 53.4600%, Top-5 Accuracy: 80.3500%, Time consumed:24.91s\n",
      "\n",
      "Epoch [59], Batch [50/391], Loss: 0.0075\n",
      "Epoch [59], Batch [100/391], Loss: 0.0155\n",
      "Epoch [59], Batch [150/391], Loss: 0.0494\n",
      "Epoch [59], Batch [200/391], Loss: 0.0657\n",
      "Epoch [59], Batch [250/391], Loss: 0.0306\n",
      "Epoch [59], Batch [300/391], Loss: 0.0070\n",
      "Epoch [59], Batch [350/391], Loss: 0.0226\n",
      "Train set: Epoch: 59, Average loss:0.0341, LR: 0.001000 Top-1 Accuracy: 98.9340%, Top-5 Accuracy: 99.9940%, Time consumed:145.73s\n"
     ]
    },
    {
     "name": "stderr",
     "output_type": "stream",
     "text": [
      " 59%|████████████████████████████████████████████████████▌                                    | 59/100 [2:40:32<1:52:54, 165.24s/it]"
     ]
    },
    {
     "name": "stdout",
     "output_type": "stream",
     "text": [
      "Test set: Epoch: 59, Average loss:3.6696, Top-1 Accuracy: 54.6700%, Top-5 Accuracy: 81.0600%, Time consumed:24.97s\n",
      "\n",
      "Epoch [60], Batch [50/391], Loss: 0.0448\n",
      "Epoch [60], Batch [100/391], Loss: 0.0287\n",
      "Epoch [60], Batch [150/391], Loss: 0.0182\n",
      "Epoch [60], Batch [200/391], Loss: 0.0224\n",
      "Epoch [60], Batch [250/391], Loss: 0.0450\n",
      "Epoch [60], Batch [300/391], Loss: 0.0020\n",
      "Epoch [60], Batch [350/391], Loss: 0.0017\n",
      "Train set: Epoch: 60, Average loss:0.0206, LR: 0.001000 Top-1 Accuracy: 99.3040%, Top-5 Accuracy: 100.0000%, Time consumed:137.60s\n"
     ]
    },
    {
     "name": "stderr",
     "output_type": "stream",
     "text": [
      " 60%|█████████████████████████████████████████████████████▍                                   | 60/100 [2:43:14<1:49:36, 164.41s/it]"
     ]
    },
    {
     "name": "stdout",
     "output_type": "stream",
     "text": [
      "Test set: Epoch: 60, Average loss:3.5752, Top-1 Accuracy: 54.6700%, Top-5 Accuracy: 80.9400%, Time consumed:24.85s\n",
      "\n",
      "Epoch [61], Batch [50/391], Loss: 0.0064\n",
      "Epoch [61], Batch [100/391], Loss: 0.0199\n",
      "Epoch [61], Batch [150/391], Loss: 0.0023\n",
      "Epoch [61], Batch [200/391], Loss: 0.0020\n",
      "Epoch [61], Batch [250/391], Loss: 0.0286\n",
      "Epoch [61], Batch [300/391], Loss: 0.0368\n",
      "Epoch [61], Batch [350/391], Loss: 0.0422\n",
      "Train set: Epoch: 61, Average loss:0.0184, LR: 0.001000 Top-1 Accuracy: 99.4320%, Top-5 Accuracy: 100.0000%, Time consumed:143.14s\n"
     ]
    },
    {
     "name": "stderr",
     "output_type": "stream",
     "text": [
      " 61%|██████████████████████████████████████████████████████▎                                  | 61/100 [2:46:06<1:48:13, 166.50s/it]"
     ]
    },
    {
     "name": "stdout",
     "output_type": "stream",
     "text": [
      "Test set: Epoch: 61, Average loss:3.7584, Top-1 Accuracy: 53.9300%, Top-5 Accuracy: 80.3500%, Time consumed:28.24s\n",
      "\n",
      "Epoch [62], Batch [50/391], Loss: 0.0014\n",
      "Epoch [62], Batch [100/391], Loss: 0.0037\n",
      "Epoch [62], Batch [150/391], Loss: 0.1061\n",
      "Epoch [62], Batch [200/391], Loss: 0.0201\n",
      "Epoch [62], Batch [250/391], Loss: 0.0023\n",
      "Epoch [62], Batch [300/391], Loss: 0.0195\n",
      "Epoch [62], Batch [350/391], Loss: 0.0086\n",
      "Train set: Epoch: 62, Average loss:0.0241, LR: 0.001000 Top-1 Accuracy: 99.2320%, Top-5 Accuracy: 99.9980%, Time consumed:135.92s\n"
     ]
    },
    {
     "name": "stderr",
     "output_type": "stream",
     "text": [
      " 62%|███████████████████████████████████████████████████████▏                                 | 62/100 [2:48:47<1:44:29, 164.99s/it]"
     ]
    },
    {
     "name": "stdout",
     "output_type": "stream",
     "text": [
      "Test set: Epoch: 62, Average loss:3.6355, Top-1 Accuracy: 55.2800%, Top-5 Accuracy: 81.0000%, Time consumed:25.54s\n",
      "\n",
      "Epoch [63], Batch [50/391], Loss: 0.0050\n",
      "Epoch [63], Batch [100/391], Loss: 0.0027\n",
      "Epoch [63], Batch [150/391], Loss: 0.0043\n",
      "Epoch [63], Batch [200/391], Loss: 0.0018\n",
      "Epoch [63], Batch [250/391], Loss: 0.0074\n",
      "Epoch [63], Batch [300/391], Loss: 0.0202\n",
      "Epoch [63], Batch [350/391], Loss: 0.0388\n",
      "Train set: Epoch: 63, Average loss:0.0197, LR: 0.001000 Top-1 Accuracy: 99.3940%, Top-5 Accuracy: 99.9980%, Time consumed:138.56s\n"
     ]
    },
    {
     "name": "stderr",
     "output_type": "stream",
     "text": [
      " 63%|████████████████████████████████████████████████████████                                 | 63/100 [2:51:31<1:41:33, 164.70s/it]"
     ]
    },
    {
     "name": "stdout",
     "output_type": "stream",
     "text": [
      "Test set: Epoch: 63, Average loss:3.6114, Top-1 Accuracy: 55.5300%, Top-5 Accuracy: 80.9000%, Time consumed:25.44s\n",
      "\n",
      "Epoch [64], Batch [50/391], Loss: 0.0009\n",
      "Epoch [64], Batch [100/391], Loss: 0.0012\n",
      "Epoch [64], Batch [150/391], Loss: 0.0004\n",
      "Epoch [64], Batch [200/391], Loss: 0.0068\n",
      "Epoch [64], Batch [250/391], Loss: 0.0148\n",
      "Epoch [64], Batch [300/391], Loss: 0.0055\n",
      "Epoch [64], Batch [350/391], Loss: 0.0287\n",
      "Train set: Epoch: 64, Average loss:0.0256, LR: 0.001000 Top-1 Accuracy: 99.1860%, Top-5 Accuracy: 99.9900%, Time consumed:146.05s\n"
     ]
    },
    {
     "name": "stderr",
     "output_type": "stream",
     "text": [
      " 64%|████████████████████████████████████████████████████████▉                                | 64/100 [2:54:23<1:40:01, 166.71s/it]"
     ]
    },
    {
     "name": "stdout",
     "output_type": "stream",
     "text": [
      "Test set: Epoch: 64, Average loss:3.6926, Top-1 Accuracy: 54.2700%, Top-5 Accuracy: 80.5400%, Time consumed:25.35s\n",
      "\n",
      "Epoch [65], Batch [50/391], Loss: 0.0202\n",
      "Epoch [65], Batch [100/391], Loss: 0.0124\n",
      "Epoch [65], Batch [150/391], Loss: 0.0049\n",
      "Epoch [65], Batch [200/391], Loss: 0.0468\n",
      "Epoch [65], Batch [250/391], Loss: 0.0394\n",
      "Epoch [65], Batch [300/391], Loss: 0.0219\n",
      "Epoch [65], Batch [350/391], Loss: 0.0109\n",
      "Train set: Epoch: 65, Average loss:0.0217, LR: 0.001000 Top-1 Accuracy: 99.2660%, Top-5 Accuracy: 99.9980%, Time consumed:141.24s\n"
     ]
    },
    {
     "name": "stderr",
     "output_type": "stream",
     "text": [
      " 65%|█████████████████████████████████████████████████████████▊                               | 65/100 [2:57:09<1:37:13, 166.66s/it]"
     ]
    },
    {
     "name": "stdout",
     "output_type": "stream",
     "text": [
      "Test set: Epoch: 65, Average loss:3.6941, Top-1 Accuracy: 54.7000%, Top-5 Accuracy: 80.3800%, Time consumed:25.30s\n",
      "\n",
      "Epoch [66], Batch [50/391], Loss: 0.0205\n",
      "Epoch [66], Batch [100/391], Loss: 0.0023\n",
      "Epoch [66], Batch [150/391], Loss: 0.0037\n",
      "Epoch [66], Batch [200/391], Loss: 0.0040\n",
      "Epoch [66], Batch [250/391], Loss: 0.0201\n",
      "Epoch [66], Batch [300/391], Loss: 0.0148\n",
      "Epoch [66], Batch [350/391], Loss: 0.0126\n",
      "Train set: Epoch: 66, Average loss:0.0192, LR: 0.001000 Top-1 Accuracy: 99.3800%, Top-5 Accuracy: 99.9980%, Time consumed:136.57s\n"
     ]
    },
    {
     "name": "stderr",
     "output_type": "stream",
     "text": [
      " 66%|██████████████████████████████████████████████████████████▋                              | 66/100 [2:59:51<1:33:38, 165.24s/it]"
     ]
    },
    {
     "name": "stdout",
     "output_type": "stream",
     "text": [
      "Test set: Epoch: 66, Average loss:3.5695, Top-1 Accuracy: 55.2900%, Top-5 Accuracy: 80.9000%, Time consumed:25.33s\n",
      "\n",
      "Epoch [67], Batch [50/391], Loss: 0.0047\n",
      "Epoch [67], Batch [100/391], Loss: 0.0147\n",
      "Epoch [67], Batch [150/391], Loss: 0.0066\n",
      "Epoch [67], Batch [200/391], Loss: 0.0042\n",
      "Epoch [67], Batch [250/391], Loss: 0.0242\n",
      "Epoch [67], Batch [300/391], Loss: 0.0076\n",
      "Epoch [67], Batch [350/391], Loss: 0.0031\n",
      "Train set: Epoch: 67, Average loss:0.0153, LR: 0.001000 Top-1 Accuracy: 99.5360%, Top-5 Accuracy: 99.9940%, Time consumed:135.47s\n"
     ]
    },
    {
     "name": "stderr",
     "output_type": "stream",
     "text": [
      " 67%|███████████████████████████████████████████████████████████▋                             | 67/100 [3:02:31<1:30:04, 163.77s/it]"
     ]
    },
    {
     "name": "stdout",
     "output_type": "stream",
     "text": [
      "Test set: Epoch: 67, Average loss:3.6293, Top-1 Accuracy: 55.5300%, Top-5 Accuracy: 80.9900%, Time consumed:24.86s\n",
      "\n",
      "Epoch [68], Batch [50/391], Loss: 0.0003\n",
      "Epoch [68], Batch [100/391], Loss: 0.0011\n",
      "Epoch [68], Batch [150/391], Loss: 0.0034\n",
      "Epoch [68], Batch [200/391], Loss: 0.0062\n",
      "Epoch [68], Batch [250/391], Loss: 0.0083\n",
      "Epoch [68], Batch [300/391], Loss: 0.0631\n",
      "Epoch [68], Batch [350/391], Loss: 0.0381\n",
      "Train set: Epoch: 68, Average loss:0.0171, LR: 0.001000 Top-1 Accuracy: 99.4440%, Top-5 Accuracy: 99.9980%, Time consumed:137.96s\n"
     ]
    },
    {
     "name": "stderr",
     "output_type": "stream",
     "text": [
      " 68%|████████████████████████████████████████████████████████████▌                            | 68/100 [3:05:14<1:27:12, 163.51s/it]"
     ]
    },
    {
     "name": "stdout",
     "output_type": "stream",
     "text": [
      "Test set: Epoch: 68, Average loss:3.7249, Top-1 Accuracy: 55.0700%, Top-5 Accuracy: 80.7700%, Time consumed:24.95s\n",
      "\n",
      "Epoch [69], Batch [50/391], Loss: 0.0015\n",
      "Epoch [69], Batch [100/391], Loss: 0.0859\n",
      "Epoch [69], Batch [150/391], Loss: 0.0170\n",
      "Epoch [69], Batch [200/391], Loss: 0.0260\n",
      "Epoch [69], Batch [250/391], Loss: 0.1008\n",
      "Epoch [69], Batch [300/391], Loss: 0.0184\n",
      "Epoch [69], Batch [350/391], Loss: 0.0586\n",
      "Train set: Epoch: 69, Average loss:0.0385, LR: 0.001000 Top-1 Accuracy: 98.7360%, Top-5 Accuracy: 99.9960%, Time consumed:134.84s\n"
     ]
    },
    {
     "name": "stderr",
     "output_type": "stream",
     "text": [
      " 69%|█████████████████████████████████████████████████████████████▍                           | 69/100 [3:07:54<1:23:52, 162.33s/it]"
     ]
    },
    {
     "name": "stdout",
     "output_type": "stream",
     "text": [
      "Test set: Epoch: 69, Average loss:3.9432, Top-1 Accuracy: 54.6100%, Top-5 Accuracy: 80.1800%, Time consumed:24.74s\n",
      "\n",
      "Epoch [70], Batch [50/391], Loss: 0.0079\n",
      "Epoch [70], Batch [100/391], Loss: 0.0198\n",
      "Epoch [70], Batch [150/391], Loss: 0.0110\n",
      "Epoch [70], Batch [200/391], Loss: 0.0250\n",
      "Epoch [70], Batch [250/391], Loss: 0.0649\n",
      "Epoch [70], Batch [300/391], Loss: 0.0333\n",
      "Epoch [70], Batch [350/391], Loss: 0.0457\n",
      "Train set: Epoch: 70, Average loss:0.0270, LR: 0.001000 Top-1 Accuracy: 99.1580%, Top-5 Accuracy: 99.9960%, Time consumed:136.58s\n"
     ]
    },
    {
     "name": "stderr",
     "output_type": "stream",
     "text": [
      " 70%|██████████████████████████████████████████████████████████████▎                          | 70/100 [3:10:35<1:21:02, 162.09s/it]"
     ]
    },
    {
     "name": "stdout",
     "output_type": "stream",
     "text": [
      "Test set: Epoch: 70, Average loss:3.6843, Top-1 Accuracy: 55.4800%, Top-5 Accuracy: 80.9700%, Time consumed:24.93s\n",
      "\n",
      "Epoch [71], Batch [50/391], Loss: 0.0205\n",
      "Epoch [71], Batch [100/391], Loss: 0.0041\n",
      "Epoch [71], Batch [150/391], Loss: 0.0028\n",
      "Epoch [71], Batch [200/391], Loss: 0.0044\n",
      "Epoch [71], Batch [250/391], Loss: 0.0103\n",
      "Epoch [71], Batch [300/391], Loss: 0.0559\n",
      "Epoch [71], Batch [350/391], Loss: 0.0024\n",
      "Train set: Epoch: 71, Average loss:0.0140, LR: 0.001000 Top-1 Accuracy: 99.5500%, Top-5 Accuracy: 99.9980%, Time consumed:140.58s\n"
     ]
    },
    {
     "name": "stderr",
     "output_type": "stream",
     "text": [
      " 71%|███████████████████████████████████████████████████████████████▏                         | 71/100 [3:13:21<1:18:50, 163.14s/it]"
     ]
    },
    {
     "name": "stdout",
     "output_type": "stream",
     "text": [
      "Test set: Epoch: 71, Average loss:3.5934, Top-1 Accuracy: 56.0000%, Top-5 Accuracy: 81.7100%, Time consumed:24.86s\n",
      "\n",
      "New best top-1 accuracy: 56.00%, top-5 accuracy: 81.71%\n",
      "Epoch [72], Batch [50/391], Loss: 0.0027\n",
      "Epoch [72], Batch [100/391], Loss: 0.0050\n",
      "Epoch [72], Batch [150/391], Loss: 0.0069\n",
      "Epoch [72], Batch [200/391], Loss: 0.0183\n",
      "Epoch [72], Batch [250/391], Loss: 0.0004\n",
      "Epoch [72], Batch [300/391], Loss: 0.0017\n",
      "Epoch [72], Batch [350/391], Loss: 0.0080\n",
      "Train set: Epoch: 72, Average loss:0.0105, LR: 0.001000 Top-1 Accuracy: 99.6380%, Top-5 Accuracy: 100.0000%, Time consumed:137.61s\n"
     ]
    },
    {
     "name": "stderr",
     "output_type": "stream",
     "text": [
      " 72%|████████████████████████████████████████████████████████████████                         | 72/100 [3:16:06<1:16:21, 163.62s/it]"
     ]
    },
    {
     "name": "stdout",
     "output_type": "stream",
     "text": [
      "Test set: Epoch: 72, Average loss:3.6883, Top-1 Accuracy: 55.8800%, Top-5 Accuracy: 81.5700%, Time consumed:27.14s\n",
      "\n",
      "Epoch [73], Batch [50/391], Loss: 0.0010\n",
      "Epoch [73], Batch [100/391], Loss: 0.0006\n",
      "Epoch [73], Batch [150/391], Loss: 0.0038\n",
      "Epoch [73], Batch [200/391], Loss: 0.0185\n",
      "Epoch [73], Batch [250/391], Loss: 0.0338\n",
      "Epoch [73], Batch [300/391], Loss: 0.0027\n",
      "Epoch [73], Batch [350/391], Loss: 0.0409\n",
      "Train set: Epoch: 73, Average loss:0.0173, LR: 0.001000 Top-1 Accuracy: 99.4420%, Top-5 Accuracy: 100.0000%, Time consumed:135.05s\n"
     ]
    },
    {
     "name": "stderr",
     "output_type": "stream",
     "text": [
      " 73%|████████████████████████████████████████████████████████████████▉                        | 73/100 [3:18:46<1:13:07, 162.51s/it]"
     ]
    },
    {
     "name": "stdout",
     "output_type": "stream",
     "text": [
      "Test set: Epoch: 73, Average loss:3.6991, Top-1 Accuracy: 55.0700%, Top-5 Accuracy: 80.9900%, Time consumed:24.85s\n",
      "\n",
      "Epoch [74], Batch [50/391], Loss: 0.0133\n",
      "Epoch [74], Batch [100/391], Loss: 0.0040\n",
      "Epoch [74], Batch [150/391], Loss: 0.0112\n",
      "Epoch [74], Batch [200/391], Loss: 0.0354\n",
      "Epoch [74], Batch [250/391], Loss: 0.0154\n",
      "Epoch [74], Batch [300/391], Loss: 0.0634\n",
      "Epoch [74], Batch [350/391], Loss: 0.0031\n",
      "Train set: Epoch: 74, Average loss:0.0213, LR: 0.001000 Top-1 Accuracy: 99.3560%, Top-5 Accuracy: 99.9960%, Time consumed:135.22s\n"
     ]
    },
    {
     "name": "stderr",
     "output_type": "stream",
     "text": [
      " 74%|█████████████████████████████████████████████████████████████████▊                       | 74/100 [3:21:26<1:10:05, 161.74s/it]"
     ]
    },
    {
     "name": "stdout",
     "output_type": "stream",
     "text": [
      "Test set: Epoch: 74, Average loss:3.8448, Top-1 Accuracy: 54.6700%, Top-5 Accuracy: 80.8800%, Time consumed:24.73s\n",
      "\n",
      "Epoch [75], Batch [50/391], Loss: 0.0038\n",
      "Epoch [75], Batch [100/391], Loss: 0.0017\n",
      "Epoch [75], Batch [150/391], Loss: 0.0113\n",
      "Epoch [75], Batch [200/391], Loss: 0.0284\n",
      "Epoch [75], Batch [250/391], Loss: 0.0356\n",
      "Epoch [75], Batch [300/391], Loss: 0.0258\n",
      "Epoch [75], Batch [350/391], Loss: 0.0264\n",
      "Train set: Epoch: 75, Average loss:0.0206, LR: 0.001000 Top-1 Accuracy: 99.3440%, Top-5 Accuracy: 100.0000%, Time consumed:142.90s\n"
     ]
    },
    {
     "name": "stderr",
     "output_type": "stream",
     "text": [
      " 75%|██████████████████████████████████████████████████████████████████▊                      | 75/100 [3:24:13<1:08:09, 163.59s/it]"
     ]
    },
    {
     "name": "stdout",
     "output_type": "stream",
     "text": [
      "Test set: Epoch: 75, Average loss:3.8088, Top-1 Accuracy: 54.8800%, Top-5 Accuracy: 81.0600%, Time consumed:24.99s\n",
      "\n",
      "Epoch [76], Batch [50/391], Loss: 0.0038\n",
      "Epoch [76], Batch [100/391], Loss: 0.0170\n",
      "Epoch [76], Batch [150/391], Loss: 0.0341\n",
      "Epoch [76], Batch [200/391], Loss: 0.0054\n",
      "Epoch [76], Batch [250/391], Loss: 0.1162\n",
      "Epoch [76], Batch [300/391], Loss: 0.0754\n",
      "Epoch [76], Batch [350/391], Loss: 0.0344\n",
      "Train set: Epoch: 76, Average loss:0.0252, LR: 0.001000 Top-1 Accuracy: 99.2220%, Top-5 Accuracy: 99.9920%, Time consumed:136.48s\n"
     ]
    },
    {
     "name": "stderr",
     "output_type": "stream",
     "text": [
      " 76%|███████████████████████████████████████████████████████████████████▋                     | 76/100 [3:26:55<1:05:07, 162.83s/it]"
     ]
    },
    {
     "name": "stdout",
     "output_type": "stream",
     "text": [
      "Test set: Epoch: 76, Average loss:3.6771, Top-1 Accuracy: 55.4100%, Top-5 Accuracy: 81.2000%, Time consumed:24.56s\n",
      "\n",
      "Epoch [77], Batch [50/391], Loss: 0.0152\n",
      "Epoch [77], Batch [100/391], Loss: 0.0250\n",
      "Epoch [77], Batch [150/391], Loss: 0.0173\n",
      "Epoch [77], Batch [200/391], Loss: 0.0153\n",
      "Epoch [77], Batch [250/391], Loss: 0.0024\n",
      "Epoch [77], Batch [300/391], Loss: 0.0392\n",
      "Epoch [77], Batch [350/391], Loss: 0.0362\n",
      "Train set: Epoch: 77, Average loss:0.0198, LR: 0.001000 Top-1 Accuracy: 99.3700%, Top-5 Accuracy: 99.9940%, Time consumed:135.16s\n"
     ]
    },
    {
     "name": "stderr",
     "output_type": "stream",
     "text": [
      " 77%|████████████████████████████████████████████████████████████████████▌                    | 77/100 [3:29:35<1:02:05, 161.98s/it]"
     ]
    },
    {
     "name": "stdout",
     "output_type": "stream",
     "text": [
      "Test set: Epoch: 77, Average loss:3.7315, Top-1 Accuracy: 55.3200%, Top-5 Accuracy: 80.5900%, Time consumed:24.83s\n",
      "\n",
      "Epoch [78], Batch [50/391], Loss: 0.0077\n",
      "Epoch [78], Batch [100/391], Loss: 0.0035\n",
      "Epoch [78], Batch [150/391], Loss: 0.0022\n",
      "Epoch [78], Batch [200/391], Loss: 0.0195\n",
      "Epoch [78], Batch [250/391], Loss: 0.0362\n",
      "Epoch [78], Batch [300/391], Loss: 0.0241\n",
      "Epoch [78], Batch [350/391], Loss: 0.0535\n",
      "Train set: Epoch: 78, Average loss:0.0203, LR: 0.001000 Top-1 Accuracy: 99.3500%, Top-5 Accuracy: 99.9940%, Time consumed:136.10s\n"
     ]
    },
    {
     "name": "stderr",
     "output_type": "stream",
     "text": [
      " 78%|██████████████████████████████████████████████████████████████████████▉                    | 78/100 [3:32:15<59:15, 161.63s/it]"
     ]
    },
    {
     "name": "stdout",
     "output_type": "stream",
     "text": [
      "Test set: Epoch: 78, Average loss:3.6608, Top-1 Accuracy: 55.7700%, Top-5 Accuracy: 81.3600%, Time consumed:24.72s\n",
      "\n",
      "Epoch [79], Batch [50/391], Loss: 0.0145\n",
      "Epoch [79], Batch [100/391], Loss: 0.0091\n",
      "Epoch [79], Batch [150/391], Loss: 0.0023\n",
      "Epoch [79], Batch [200/391], Loss: 0.0036\n",
      "Epoch [79], Batch [250/391], Loss: 0.0311\n",
      "Epoch [79], Batch [300/391], Loss: 0.0042\n",
      "Epoch [79], Batch [350/391], Loss: 0.0298\n",
      "Train set: Epoch: 79, Average loss:0.0160, LR: 0.001000 Top-1 Accuracy: 99.4840%, Top-5 Accuracy: 99.9960%, Time consumed:135.36s\n"
     ]
    },
    {
     "name": "stderr",
     "output_type": "stream",
     "text": [
      " 79%|███████████████████████████████████████████████████████████████████████▉                   | 79/100 [3:34:56<56:30, 161.43s/it]"
     ]
    },
    {
     "name": "stdout",
     "output_type": "stream",
     "text": [
      "Test set: Epoch: 79, Average loss:3.5974, Top-1 Accuracy: 56.2500%, Top-5 Accuracy: 81.6800%, Time consumed:25.47s\n",
      "\n",
      "New best top-1 accuracy: 56.25%, top-5 accuracy: 81.68%\n",
      "Epoch [80], Batch [50/391], Loss: 0.0585\n",
      "Epoch [80], Batch [100/391], Loss: 0.0220\n",
      "Epoch [80], Batch [150/391], Loss: 0.0119\n",
      "Epoch [80], Batch [200/391], Loss: 0.0026\n",
      "Epoch [80], Batch [250/391], Loss: 0.0254\n",
      "Epoch [80], Batch [300/391], Loss: 0.0222\n",
      "Epoch [80], Batch [350/391], Loss: 0.0454\n",
      "Train set: Epoch: 80, Average loss:0.0133, LR: 0.001000 Top-1 Accuracy: 99.5760%, Top-5 Accuracy: 100.0000%, Time consumed:137.87s\n"
     ]
    },
    {
     "name": "stderr",
     "output_type": "stream",
     "text": [
      " 80%|████████████████████████████████████████████████████████████████████████▊                  | 80/100 [3:37:39<53:57, 161.88s/it]"
     ]
    },
    {
     "name": "stdout",
     "output_type": "stream",
     "text": [
      "Test set: Epoch: 80, Average loss:3.6788, Top-1 Accuracy: 55.7300%, Top-5 Accuracy: 81.4200%, Time consumed:25.05s\n",
      "\n",
      "Epoch [81], Batch [50/391], Loss: 0.0035\n",
      "Epoch [81], Batch [100/391], Loss: 0.0010\n",
      "Epoch [81], Batch [150/391], Loss: 0.0037\n",
      "Epoch [81], Batch [200/391], Loss: 0.0356\n",
      "Epoch [81], Batch [250/391], Loss: 0.0021\n",
      "Epoch [81], Batch [300/391], Loss: 0.0347\n",
      "Epoch [81], Batch [350/391], Loss: 0.0023\n",
      "Train set: Epoch: 81, Average loss:0.0146, LR: 0.001000 Top-1 Accuracy: 99.5400%, Top-5 Accuracy: 99.9980%, Time consumed:139.80s\n"
     ]
    },
    {
     "name": "stderr",
     "output_type": "stream",
     "text": [
      " 81%|█████████████████████████████████████████████████████████████████████████▋                 | 81/100 [3:40:24<51:32, 162.75s/it]"
     ]
    },
    {
     "name": "stdout",
     "output_type": "stream",
     "text": [
      "Test set: Epoch: 81, Average loss:3.8219, Top-1 Accuracy: 55.3700%, Top-5 Accuracy: 81.0800%, Time consumed:24.97s\n",
      "\n",
      "Epoch [82], Batch [50/391], Loss: 0.0364\n",
      "Epoch [82], Batch [100/391], Loss: 0.0686\n",
      "Epoch [82], Batch [150/391], Loss: 0.0146\n",
      "Epoch [82], Batch [200/391], Loss: 0.0051\n",
      "Epoch [82], Batch [250/391], Loss: 0.0039\n",
      "Epoch [82], Batch [300/391], Loss: 0.0312\n",
      "Epoch [82], Batch [350/391], Loss: 0.0635\n",
      "Train set: Epoch: 82, Average loss:0.0254, LR: 0.001000 Top-1 Accuracy: 99.1820%, Top-5 Accuracy: 99.9900%, Time consumed:135.88s\n"
     ]
    },
    {
     "name": "stderr",
     "output_type": "stream",
     "text": [
      " 82%|██████████████████████████████████████████████████████████████████████████▌                | 82/100 [3:43:05<48:40, 162.25s/it]"
     ]
    },
    {
     "name": "stdout",
     "output_type": "stream",
     "text": [
      "Test set: Epoch: 82, Average loss:3.7407, Top-1 Accuracy: 55.4300%, Top-5 Accuracy: 81.0800%, Time consumed:25.19s\n",
      "\n",
      "Epoch [83], Batch [50/391], Loss: 0.0015\n",
      "Epoch [83], Batch [100/391], Loss: 0.0099\n",
      "Epoch [83], Batch [150/391], Loss: 0.0033\n",
      "Epoch [83], Batch [200/391], Loss: 0.0237\n",
      "Epoch [83], Batch [250/391], Loss: 0.0150\n",
      "Epoch [83], Batch [300/391], Loss: 0.0083\n",
      "Epoch [83], Batch [350/391], Loss: 0.0048\n",
      "Train set: Epoch: 83, Average loss:0.0235, LR: 0.001000 Top-1 Accuracy: 99.2320%, Top-5 Accuracy: 99.9980%, Time consumed:137.59s\n"
     ]
    },
    {
     "name": "stderr",
     "output_type": "stream",
     "text": [
      " 83%|███████████████████████████████████████████████████████████████████████████▌               | 83/100 [3:45:48<46:01, 162.47s/it]"
     ]
    },
    {
     "name": "stdout",
     "output_type": "stream",
     "text": [
      "Test set: Epoch: 83, Average loss:3.7629, Top-1 Accuracy: 55.7500%, Top-5 Accuracy: 80.9100%, Time consumed:25.39s\n",
      "\n",
      "Epoch [84], Batch [50/391], Loss: 0.0139\n",
      "Epoch [84], Batch [100/391], Loss: 0.0791\n",
      "Epoch [84], Batch [150/391], Loss: 0.0087\n",
      "Epoch [84], Batch [200/391], Loss: 0.0073\n",
      "Epoch [84], Batch [250/391], Loss: 0.0135\n",
      "Epoch [84], Batch [300/391], Loss: 0.0339\n",
      "Epoch [84], Batch [350/391], Loss: 0.0033\n",
      "Train set: Epoch: 84, Average loss:0.0177, LR: 0.001000 Top-1 Accuracy: 99.4500%, Top-5 Accuracy: 99.9980%, Time consumed:135.76s\n"
     ]
    },
    {
     "name": "stderr",
     "output_type": "stream",
     "text": [
      " 84%|████████████████████████████████████████████████████████████████████████████▍              | 84/100 [3:48:30<43:17, 162.36s/it]"
     ]
    },
    {
     "name": "stdout",
     "output_type": "stream",
     "text": [
      "Test set: Epoch: 84, Average loss:3.6590, Top-1 Accuracy: 56.3400%, Top-5 Accuracy: 81.0100%, Time consumed:26.18s\n",
      "\n",
      "New best top-1 accuracy: 56.34%, top-5 accuracy: 81.01%\n",
      "Epoch [85], Batch [50/391], Loss: 0.0013\n",
      "Epoch [85], Batch [100/391], Loss: 0.0025\n",
      "Epoch [85], Batch [150/391], Loss: 0.0114\n",
      "Epoch [85], Batch [200/391], Loss: 0.0032\n",
      "Epoch [85], Batch [250/391], Loss: 0.0115\n",
      "Epoch [85], Batch [300/391], Loss: 0.0035\n",
      "Epoch [85], Batch [350/391], Loss: 0.0002\n",
      "Train set: Epoch: 85, Average loss:0.0110, LR: 0.001000 Top-1 Accuracy: 99.6220%, Top-5 Accuracy: 100.0000%, Time consumed:142.34s\n"
     ]
    },
    {
     "name": "stderr",
     "output_type": "stream",
     "text": [
      " 85%|█████████████████████████████████████████████████████████████████████████████▎             | 85/100 [3:51:18<41:00, 164.02s/it]"
     ]
    },
    {
     "name": "stdout",
     "output_type": "stream",
     "text": [
      "Test set: Epoch: 85, Average loss:3.6078, Top-1 Accuracy: 56.4900%, Top-5 Accuracy: 81.7900%, Time consumed:25.42s\n",
      "\n",
      "New best top-1 accuracy: 56.49%, top-5 accuracy: 81.79%\n",
      "Epoch [86], Batch [50/391], Loss: 0.0045\n",
      "Epoch [86], Batch [100/391], Loss: 0.0010\n",
      "Epoch [86], Batch [150/391], Loss: 0.0045\n",
      "Epoch [86], Batch [200/391], Loss: 0.0562\n",
      "Epoch [86], Batch [250/391], Loss: 0.0004\n",
      "Epoch [86], Batch [300/391], Loss: 0.0005\n",
      "Epoch [86], Batch [350/391], Loss: 0.0215\n",
      "Train set: Epoch: 86, Average loss:0.0071, LR: 0.001000 Top-1 Accuracy: 99.7900%, Top-5 Accuracy: 100.0000%, Time consumed:138.23s\n"
     ]
    },
    {
     "name": "stderr",
     "output_type": "stream",
     "text": [
      " 86%|██████████████████████████████████████████████████████████████████████████████▎            | 86/100 [3:54:01<38:13, 163.84s/it]"
     ]
    },
    {
     "name": "stdout",
     "output_type": "stream",
     "text": [
      "Test set: Epoch: 86, Average loss:3.7331, Top-1 Accuracy: 55.6100%, Top-5 Accuracy: 81.5900%, Time consumed:25.17s\n",
      "\n",
      "Epoch [87], Batch [50/391], Loss: 0.0256\n",
      "Epoch [87], Batch [100/391], Loss: 0.0054\n",
      "Epoch [87], Batch [150/391], Loss: 0.0107\n",
      "Epoch [87], Batch [200/391], Loss: 0.0018\n",
      "Epoch [87], Batch [250/391], Loss: 0.0064\n",
      "Epoch [87], Batch [300/391], Loss: 0.0092\n",
      "Epoch [87], Batch [350/391], Loss: 0.0049\n",
      "Train set: Epoch: 87, Average loss:0.0138, LR: 0.001000 Top-1 Accuracy: 99.5720%, Top-5 Accuracy: 100.0000%, Time consumed:135.92s\n"
     ]
    },
    {
     "name": "stderr",
     "output_type": "stream",
     "text": [
      " 87%|███████████████████████████████████████████████████████████████████████████████▏           | 87/100 [3:56:43<35:21, 163.16s/it]"
     ]
    },
    {
     "name": "stdout",
     "output_type": "stream",
     "text": [
      "Test set: Epoch: 87, Average loss:3.8376, Top-1 Accuracy: 54.2100%, Top-5 Accuracy: 80.5000%, Time consumed:25.65s\n",
      "\n",
      "Epoch [88], Batch [50/391], Loss: 0.0303\n",
      "Epoch [88], Batch [100/391], Loss: 0.0294\n",
      "Epoch [88], Batch [150/391], Loss: 0.0248\n",
      "Epoch [88], Batch [200/391], Loss: 0.0281\n",
      "Epoch [88], Batch [250/391], Loss: 0.0046\n",
      "Epoch [88], Batch [300/391], Loss: 0.0587\n",
      "Epoch [88], Batch [350/391], Loss: 0.0104\n",
      "Train set: Epoch: 88, Average loss:0.0264, LR: 0.001000 Top-1 Accuracy: 99.1520%, Top-5 Accuracy: 99.9900%, Time consumed:143.69s\n"
     ]
    },
    {
     "name": "stderr",
     "output_type": "stream",
     "text": [
      " 88%|████████████████████████████████████████████████████████████████████████████████           | 88/100 [3:59:32<32:57, 164.77s/it]"
     ]
    },
    {
     "name": "stdout",
     "output_type": "stream",
     "text": [
      "Test set: Epoch: 88, Average loss:3.9781, Top-1 Accuracy: 53.8900%, Top-5 Accuracy: 79.6400%, Time consumed:24.83s\n",
      "\n",
      "Epoch [89], Batch [50/391], Loss: 0.0200\n",
      "Epoch [89], Batch [100/391], Loss: 0.0167\n",
      "Epoch [89], Batch [150/391], Loss: 0.0338\n",
      "Epoch [89], Batch [200/391], Loss: 0.0128\n",
      "Epoch [89], Batch [250/391], Loss: 0.0098\n",
      "Epoch [89], Batch [300/391], Loss: 0.0445\n",
      "Epoch [89], Batch [350/391], Loss: 0.0142\n",
      "Train set: Epoch: 89, Average loss:0.0254, LR: 0.001000 Top-1 Accuracy: 99.1460%, Top-5 Accuracy: 99.9980%, Time consumed:135.54s\n"
     ]
    },
    {
     "name": "stderr",
     "output_type": "stream",
     "text": [
      " 89%|████████████████████████████████████████████████████████████████████████████████▉          | 89/100 [4:02:12<29:57, 163.43s/it]"
     ]
    },
    {
     "name": "stdout",
     "output_type": "stream",
     "text": [
      "Test set: Epoch: 89, Average loss:3.8169, Top-1 Accuracy: 54.9500%, Top-5 Accuracy: 80.5200%, Time consumed:24.75s\n",
      "\n",
      "Epoch [90], Batch [50/391], Loss: 0.0349\n",
      "Epoch [90], Batch [100/391], Loss: 0.0013\n",
      "Epoch [90], Batch [150/391], Loss: 0.0071\n",
      "Epoch [90], Batch [200/391], Loss: 0.0073\n",
      "Epoch [90], Batch [250/391], Loss: 0.0031\n",
      "Epoch [90], Batch [300/391], Loss: 0.0564\n",
      "Epoch [90], Batch [350/391], Loss: 0.0439\n",
      "Train set: Epoch: 90, Average loss:0.0154, LR: 0.001000 Top-1 Accuracy: 99.4900%, Top-5 Accuracy: 100.0000%, Time consumed:139.04s\n"
     ]
    },
    {
     "name": "stderr",
     "output_type": "stream",
     "text": [
      " 90%|█████████████████████████████████████████████████████████████████████████████████▉         | 90/100 [4:04:56<27:15, 163.53s/it]"
     ]
    },
    {
     "name": "stdout",
     "output_type": "stream",
     "text": [
      "Test set: Epoch: 90, Average loss:3.7367, Top-1 Accuracy: 56.1300%, Top-5 Accuracy: 81.3700%, Time consumed:24.73s\n",
      "\n",
      "Epoch [91], Batch [50/391], Loss: 0.0033\n",
      "Epoch [91], Batch [100/391], Loss: 0.0021\n",
      "Epoch [91], Batch [150/391], Loss: 0.0204\n",
      "Epoch [91], Batch [200/391], Loss: 0.0005\n",
      "Epoch [91], Batch [250/391], Loss: 0.0061\n",
      "Epoch [91], Batch [300/391], Loss: 0.0014\n",
      "Epoch [91], Batch [350/391], Loss: 0.0028\n",
      "Train set: Epoch: 91, Average loss:0.0113, LR: 0.001000 Top-1 Accuracy: 99.6140%, Top-5 Accuracy: 100.0000%, Time consumed:135.95s\n"
     ]
    },
    {
     "name": "stderr",
     "output_type": "stream",
     "text": [
      " 91%|██████████████████████████████████████████████████████████████████████████████████▊        | 91/100 [4:07:37<24:26, 162.92s/it]"
     ]
    },
    {
     "name": "stdout",
     "output_type": "stream",
     "text": [
      "Test set: Epoch: 91, Average loss:3.7973, Top-1 Accuracy: 55.2100%, Top-5 Accuracy: 81.0300%, Time consumed:25.53s\n",
      "\n",
      "Epoch [92], Batch [50/391], Loss: 0.0080\n",
      "Epoch [92], Batch [100/391], Loss: 0.0013\n",
      "Epoch [92], Batch [150/391], Loss: 0.0126\n",
      "Epoch [92], Batch [200/391], Loss: 0.0147\n",
      "Epoch [92], Batch [250/391], Loss: 0.0002\n",
      "Epoch [92], Batch [300/391], Loss: 0.0014\n",
      "Epoch [92], Batch [350/391], Loss: 0.0197\n",
      "Train set: Epoch: 92, Average loss:0.0169, LR: 0.001000 Top-1 Accuracy: 99.4480%, Top-5 Accuracy: 99.9980%, Time consumed:135.75s\n"
     ]
    },
    {
     "name": "stderr",
     "output_type": "stream",
     "text": [
      " 92%|███████████████████████████████████████████████████████████████████████████████████▋       | 92/100 [4:10:18<21:38, 162.34s/it]"
     ]
    },
    {
     "name": "stdout",
     "output_type": "stream",
     "text": [
      "Test set: Epoch: 92, Average loss:3.7204, Top-1 Accuracy: 56.0000%, Top-5 Accuracy: 81.3500%, Time consumed:25.23s\n",
      "\n",
      "Epoch [93], Batch [50/391], Loss: 0.0426\n",
      "Epoch [93], Batch [100/391], Loss: 0.0063\n",
      "Epoch [93], Batch [150/391], Loss: 0.0351\n",
      "Epoch [93], Batch [200/391], Loss: 0.0103\n",
      "Epoch [93], Batch [250/391], Loss: 0.0081\n",
      "Epoch [93], Batch [300/391], Loss: 0.0007\n",
      "Epoch [93], Batch [350/391], Loss: 0.0063\n",
      "Train set: Epoch: 93, Average loss:0.0157, LR: 0.001000 Top-1 Accuracy: 99.4840%, Top-5 Accuracy: 99.9940%, Time consumed:135.62s\n"
     ]
    },
    {
     "name": "stderr",
     "output_type": "stream",
     "text": [
      " 93%|████████████████████████████████████████████████████████████████████████████████████▋      | 93/100 [4:12:59<18:52, 161.80s/it]"
     ]
    },
    {
     "name": "stdout",
     "output_type": "stream",
     "text": [
      "Test set: Epoch: 93, Average loss:3.8549, Top-1 Accuracy: 55.3700%, Top-5 Accuracy: 80.7000%, Time consumed:24.93s\n",
      "\n",
      "Epoch [94], Batch [50/391], Loss: 0.0058\n",
      "Epoch [94], Batch [100/391], Loss: 0.0007\n",
      "Epoch [94], Batch [150/391], Loss: 0.0262\n",
      "Epoch [94], Batch [200/391], Loss: 0.0010\n",
      "Epoch [94], Batch [250/391], Loss: 0.0010\n",
      "Epoch [94], Batch [300/391], Loss: 0.0024\n",
      "Epoch [94], Batch [350/391], Loss: 0.1058\n",
      "Train set: Epoch: 94, Average loss:0.0163, LR: 0.001000 Top-1 Accuracy: 99.4560%, Top-5 Accuracy: 99.9980%, Time consumed:138.27s\n"
     ]
    },
    {
     "name": "stderr",
     "output_type": "stream",
     "text": [
      " 94%|█████████████████████████████████████████████████████████████████████████████████████▌     | 94/100 [4:15:42<16:13, 162.18s/it]"
     ]
    },
    {
     "name": "stdout",
     "output_type": "stream",
     "text": [
      "Test set: Epoch: 94, Average loss:3.8386, Top-1 Accuracy: 55.5400%, Top-5 Accuracy: 81.0500%, Time consumed:24.79s\n",
      "\n",
      "Epoch [95], Batch [50/391], Loss: 0.0053\n",
      "Epoch [95], Batch [100/391], Loss: 0.0172\n",
      "Epoch [95], Batch [150/391], Loss: 0.0024\n",
      "Epoch [95], Batch [200/391], Loss: 0.0081\n",
      "Epoch [95], Batch [250/391], Loss: 0.0362\n",
      "Epoch [95], Batch [300/391], Loss: 0.0079\n",
      "Epoch [95], Batch [350/391], Loss: 0.0213\n",
      "Train set: Epoch: 95, Average loss:0.0172, LR: 0.001000 Top-1 Accuracy: 99.4340%, Top-5 Accuracy: 99.9940%, Time consumed:136.16s\n"
     ]
    },
    {
     "name": "stderr",
     "output_type": "stream",
     "text": [
      " 95%|██████████████████████████████████████████████████████████████████████████████████████▍    | 95/100 [4:18:23<13:29, 161.86s/it]"
     ]
    },
    {
     "name": "stdout",
     "output_type": "stream",
     "text": [
      "Test set: Epoch: 95, Average loss:3.8431, Top-1 Accuracy: 55.8900%, Top-5 Accuracy: 81.3200%, Time consumed:24.93s\n",
      "\n",
      "Epoch [96], Batch [50/391], Loss: 0.0133\n",
      "Epoch [96], Batch [100/391], Loss: 0.0059\n",
      "Epoch [96], Batch [150/391], Loss: 0.0301\n",
      "Epoch [96], Batch [200/391], Loss: 0.0423\n",
      "Epoch [96], Batch [250/391], Loss: 0.0047\n",
      "Epoch [96], Batch [300/391], Loss: 0.0115\n",
      "Epoch [96], Batch [350/391], Loss: 0.0746\n",
      "Train set: Epoch: 96, Average loss:0.0158, LR: 0.001000 Top-1 Accuracy: 99.4820%, Top-5 Accuracy: 99.9980%, Time consumed:136.28s\n"
     ]
    },
    {
     "name": "stderr",
     "output_type": "stream",
     "text": [
      " 96%|███████████████████████████████████████████████████████████████████████████████████████▎   | 96/100 [4:21:04<10:46, 161.62s/it]"
     ]
    },
    {
     "name": "stdout",
     "output_type": "stream",
     "text": [
      "Test set: Epoch: 96, Average loss:3.9354, Top-1 Accuracy: 55.1100%, Top-5 Accuracy: 81.0200%, Time consumed:24.78s\n",
      "\n",
      "Epoch [97], Batch [50/391], Loss: 0.0313\n",
      "Epoch [97], Batch [100/391], Loss: 0.0203\n",
      "Epoch [97], Batch [150/391], Loss: 0.0177\n",
      "Epoch [97], Batch [200/391], Loss: 0.0076\n",
      "Epoch [97], Batch [250/391], Loss: 0.0340\n",
      "Epoch [97], Batch [300/391], Loss: 0.0395\n",
      "Epoch [97], Batch [350/391], Loss: 0.0274\n",
      "Train set: Epoch: 97, Average loss:0.0127, LR: 0.001000 Top-1 Accuracy: 99.5860%, Top-5 Accuracy: 100.0000%, Time consumed:142.96s\n"
     ]
    },
    {
     "name": "stderr",
     "output_type": "stream",
     "text": [
      " 97%|████████████████████████████████████████████████████████████████████████████████████████▎  | 97/100 [4:23:51<08:10, 163.41s/it]"
     ]
    },
    {
     "name": "stdout",
     "output_type": "stream",
     "text": [
      "Test set: Epoch: 97, Average loss:3.7656, Top-1 Accuracy: 56.0300%, Top-5 Accuracy: 81.6900%, Time consumed:24.61s\n",
      "\n",
      "Epoch [98], Batch [50/391], Loss: 0.0238\n",
      "Epoch [98], Batch [100/391], Loss: 0.0145\n",
      "Epoch [98], Batch [150/391], Loss: 0.0074\n",
      "Epoch [98], Batch [200/391], Loss: 0.0106\n",
      "Epoch [98], Batch [250/391], Loss: 0.0164\n",
      "Epoch [98], Batch [300/391], Loss: 0.0052\n",
      "Epoch [98], Batch [350/391], Loss: 0.0120\n",
      "Train set: Epoch: 98, Average loss:0.0133, LR: 0.001000 Top-1 Accuracy: 99.5460%, Top-5 Accuracy: 99.9980%, Time consumed:138.09s\n"
     ]
    },
    {
     "name": "stderr",
     "output_type": "stream",
     "text": [
      " 98%|█████████████████████████████████████████████████████████████████████████████████████████▏ | 98/100 [4:26:34<05:26, 163.19s/it]"
     ]
    },
    {
     "name": "stdout",
     "output_type": "stream",
     "text": [
      "Test set: Epoch: 98, Average loss:3.7818, Top-1 Accuracy: 55.9600%, Top-5 Accuracy: 81.2500%, Time consumed:24.58s\n",
      "\n",
      "Epoch [99], Batch [50/391], Loss: 0.0018\n",
      "Epoch [99], Batch [100/391], Loss: 0.0072\n",
      "Epoch [99], Batch [150/391], Loss: 0.0032\n",
      "Epoch [99], Batch [200/391], Loss: 0.0012\n",
      "Epoch [99], Batch [250/391], Loss: 0.0117\n",
      "Epoch [99], Batch [300/391], Loss: 0.0024\n",
      "Epoch [99], Batch [350/391], Loss: 0.0046\n",
      "Train set: Epoch: 99, Average loss:0.0114, LR: 0.001000 Top-1 Accuracy: 99.6200%, Top-5 Accuracy: 100.0000%, Time consumed:135.64s\n"
     ]
    },
    {
     "name": "stderr",
     "output_type": "stream",
     "text": [
      " 99%|██████████████████████████████████████████████████████████████████████████████████████████ | 99/100 [4:29:15<02:42, 162.44s/it]"
     ]
    },
    {
     "name": "stdout",
     "output_type": "stream",
     "text": [
      "Test set: Epoch: 99, Average loss:3.8835, Top-1 Accuracy: 55.1200%, Top-5 Accuracy: 81.3200%, Time consumed:25.05s\n",
      "\n",
      "Epoch [100], Batch [50/391], Loss: 0.0020\n",
      "Epoch [100], Batch [100/391], Loss: 0.0048\n",
      "Epoch [100], Batch [150/391], Loss: 0.0005\n",
      "Epoch [100], Batch [200/391], Loss: 0.0045\n",
      "Epoch [100], Batch [250/391], Loss: 0.0097\n",
      "Epoch [100], Batch [300/391], Loss: 0.0260\n",
      "Epoch [100], Batch [350/391], Loss: 0.0492\n",
      "Train set: Epoch: 100, Average loss:0.0145, LR: 0.001000 Top-1 Accuracy: 99.5540%, Top-5 Accuracy: 99.9940%, Time consumed:138.81s\n"
     ]
    },
    {
     "name": "stderr",
     "output_type": "stream",
     "text": [
      "100%|██████████████████████████████████████████████████████████████████████████████████████████| 100/100 [4:31:58<00:00, 163.19s/it]"
     ]
    },
    {
     "name": "stdout",
     "output_type": "stream",
     "text": [
      "Test set: Epoch: 100, Average loss:3.7850, Top-1 Accuracy: 55.4000%, Top-5 Accuracy: 80.9300%, Time consumed:24.71s\n",
      "\n",
      "Finish! Best top-1 accuracy: 56.49%, Best top-5 accuracy: 82.95%\n",
      "Total training time: 16318.85 seconds\n"
     ]
    },
    {
     "name": "stderr",
     "output_type": "stream",
     "text": [
      "\n"
     ]
    },
    {
     "data": {
      "text/html": [],
      "text/plain": [
       "<IPython.core.display.HTML object>"
      ]
     },
     "metadata": {},
     "output_type": "display_data"
    },
    {
     "data": {
      "text/html": [
       "<br>    <style><br>        .wandb-row {<br>            display: flex;<br>            flex-direction: row;<br>            flex-wrap: wrap;<br>            justify-content: flex-start;<br>            width: 100%;<br>        }<br>        .wandb-col {<br>            display: flex;<br>            flex-direction: column;<br>            flex-basis: 100%;<br>            flex: 1;<br>            padding: 10px;<br>        }<br>    </style><br><div class=\"wandb-row\"><div class=\"wandb-col\"><h3>Run history:</h3><br/><table class=\"wandb\"><tr><td>epoch</td><td>▁▁▁▁▂▂▂▂▃▃▃▃▃▃▄▄▄▄▄▄▅▅▅▅▆▆▆▆▆▆▇▇▇▇▇▇████</td></tr><tr><td>learning_rate</td><td>▁▁▁▁▁▁▁▁▁▁▁▁▁▁▁▁▁▁▁▁▁▁▁▁▁▁▁▁▁▁▁▁▁▁▁▁▁▁▁▁</td></tr><tr><td>test_accuracy_top1</td><td>▁▃▆▇▇▇▇██▇██████████████████████████████</td></tr><tr><td>test_accuracy_top5</td><td>▁▇███████████████▇█████▇██▇█████████████</td></tr><tr><td>test_loss</td><td>▅▂▁▁▁▃▃▄▄▅▅▆▅▅▆▆▆▆▆▇▇▆▆▇▇▇▇▇▇▇█▇▇▇▇▇█▇██</td></tr><tr><td>total_training_time</td><td>▁</td></tr><tr><td>train_accuracy_top1</td><td>▁▅▇▇████████████████████████████████████</td></tr><tr><td>train_accuracy_top5</td><td>▁▄▅▆████████████████████████████████████</td></tr><tr><td>train_loss</td><td>█▇▄▃▁▁▁▁▁▁▁▁▁▁▁▁▁▁▁▁▁▁▁▁▁▁▁▁▁▁▁▁▁▁▁▁▁▁▁▁</td></tr></table><br/></div><div class=\"wandb-col\"><h3>Run summary:</h3><br/><table class=\"wandb\"><tr><td>best_accuracy_top1</td><td>56.49</td></tr><tr><td>best_accuracy_top5</td><td>82.95</td></tr><tr><td>epoch</td><td>100</td></tr><tr><td>learning_rate</td><td>0.001</td></tr><tr><td>test_accuracy_top1</td><td>55.4</td></tr><tr><td>test_accuracy_top5</td><td>80.93</td></tr><tr><td>test_loss</td><td>3.78503</td></tr><tr><td>total_training_time</td><td>16318.84692</td></tr><tr><td>train_accuracy_top1</td><td>99.554</td></tr><tr><td>train_accuracy_top5</td><td>99.994</td></tr><tr><td>train_loss</td><td>0.01453</td></tr></table><br/></div></div>"
      ],
      "text/plain": [
       "<IPython.core.display.HTML object>"
      ]
     },
     "metadata": {},
     "output_type": "display_data"
    },
    {
     "data": {
      "text/html": [
       " View run <strong style=\"color:#cdcd00\">resnet18</strong> at: <a href='https://wandb.ai/sokjh1310-hanyang-university/PBL-2/runs/b7yx0fb1' target=\"_blank\">https://wandb.ai/sokjh1310-hanyang-university/PBL-2/runs/b7yx0fb1</a><br> View project at: <a href='https://wandb.ai/sokjh1310-hanyang-university/PBL-2' target=\"_blank\">https://wandb.ai/sokjh1310-hanyang-university/PBL-2</a><br>Synced 5 W&B file(s), 0 media file(s), 0 artifact file(s) and 1 other file(s)"
      ],
      "text/plain": [
       "<IPython.core.display.HTML object>"
      ]
     },
     "metadata": {},
     "output_type": "display_data"
    },
    {
     "data": {
      "text/html": [
       "Find logs at: <code>./wandb/run-20250411_183154-b7yx0fb1/logs</code>"
      ],
      "text/plain": [
       "<IPython.core.display.HTML object>"
      ]
     },
     "metadata": {},
     "output_type": "display_data"
    }
   ],
   "source": [
    "import torch\n",
    "import torch.nn as nn\n",
    "import torch.optim as optim\n",
    "from torch.utils.data import DataLoader\n",
    "import torchvision\n",
    "import torchvision.transforms as transforms\n",
    "import sys\n",
    "import os\n",
    "import torch\n",
    "import time\n",
    "import random\n",
    "import numpy as np\n",
    "import wandb\n",
    "from tqdm import tqdm\n",
    "from early_stopping_pytorch import EarlyStopping\n",
    "from models.resnet import resnet18, resnet34, resnet50\n",
    "\n",
    "wandb.login(key=\"ef091b9abcea3186341ddf8995d62bde62d7469e\")\n",
    "wandb.init(project=\"PBL-2\", name=\"resnet18\")\n",
    "\n",
    "\n",
    "\"\"\"\n",
    "# 학습 재현성 고정\n",
    "def fix_seed(seed, deterministic=False):\n",
    "    random.seed(seed)\n",
    "    np.random.seed(seed)\n",
    "    torch.manual_seed(seed)\n",
    "    torch.cuda.manual_seed_all(seed)\n",
    "    if deterministic:\n",
    "        torch.backends.cudnn.deterministic = True\n",
    "    else:\n",
    "        torch.backends.cudnn.benchmark = True  # 성능 향상을 위해 True로 변경\n",
    "\n",
    "deterministic=True와 benchmark=False는 확실히 학습 속도를 저하시킬 수 있습니다.\n",
    "특히 torch.backends.cudnn.benchmark=False는 CUDA가 최적의 알고리즘을 찾기 위한 \n",
    "벤치마킹을 수행하지 않게 만들어 성능이 떨어질 수 있습니다.\n",
    "# 속도 우선 설정 -> 완벽한 재현성은 보장되지 않음 \n",
    "\n",
    "fix_seed(2025, deterministic=False)\n",
    "\"\"\"\n",
    "\n",
    "# WandB 설정\n",
    "config = {\n",
    "    \"model\": \"resnet18\",\n",
    "    \"batch_size\": 128,\n",
    "    \"num_epochs\": 100,\n",
    "    \"learning_rate\": 0.001,\n",
    "    \"optimizer\": \"Adam\",\n",
    "    \"seed\": 2025,\n",
    "    \"deterministic\": False,\n",
    "}\n",
    "wandb.config.update(config)\n",
    "\n",
    "# CIFAR-100 데이터셋 로드\n",
    "transform_train = transforms.Compose([\n",
    "    transforms.ToTensor(),\n",
    "    transforms.Normalize((0.5071, 0.4867, 0.4408), (0.2675, 0.2565, 0.2761)),\n",
    "])\n",
    "\n",
    "transform_test = transforms.Compose([\n",
    "    transforms.ToTensor(),\n",
    "    transforms.Normalize((0.5071, 0.4867, 0.4408), (0.2675, 0.2565, 0.2761)),\n",
    "])\n",
    "\n",
    "trainset = torchvision.datasets.CIFAR100(\n",
    "    root='./data', train=True, download=True, transform=transform_train)\n",
    "trainloader = DataLoader(trainset, batch_size=config[\"batch_size\"], shuffle=True, num_workers=16)\n",
    "\n",
    "testset = torchvision.datasets.CIFAR100(\n",
    "    root='./data', train=False, download=True, transform=transform_test)\n",
    "testloader = DataLoader(testset, batch_size=config[\"batch_size\"], shuffle=False, num_workers=16)\n",
    "\n",
    "def train(model, trainloader, criterion, optimizer, device, epoch):\n",
    "    \"\"\"\n",
    "    학습 함수\n",
    "    \"\"\"\n",
    "    model.train()   # 모델을 학습 모드로 설정\n",
    "    start_time = time.time()  # 시간 측정 시작\n",
    "    running_loss = 0.0\n",
    "    correct_top1 = 0\n",
    "    correct_top5 = 0\n",
    "    total = 0\n",
    "    \n",
    "    for i, (inputs, labels) in enumerate(trainloader):\n",
    "        inputs, labels = inputs.to(device), labels.to(device)\n",
    "        \n",
    "        optimizer.zero_grad()\n",
    "        \n",
    "        outputs = model(inputs)\n",
    "        loss = criterion(outputs, labels)\n",
    "        loss.backward()\n",
    "        optimizer.step()\n",
    "        \n",
    "        running_loss += loss.item()\n",
    "        \n",
    "        # top-1 정확도 계산\n",
    "        _, predicted = outputs.max(1)\n",
    "        total += labels.size(0)\n",
    "        correct_top1 += predicted.eq(labels).sum().item()\n",
    "        \n",
    "        # top-5 정확도 계산\n",
    "        _, top5_idx = outputs.topk(5, 1, largest=True, sorted=True)\n",
    "        correct_top5 += top5_idx.eq(labels.view(-1, 1).expand_as(top5_idx)).sum().item()\n",
    "        \n",
    "        if (i + 1) % 50 == 0:  # 50 배치마다 출력\n",
    "            print(f'Epoch [{epoch+1}], Batch [{i+1}/{len(trainloader)}], Loss: {loss.item():.4f}')\n",
    "    \n",
    "    epoch_loss = running_loss / len(trainloader)\n",
    "    accuracy_top1 = 100.0 * correct_top1 / total\n",
    "    accuracy_top5 = 100.0 * correct_top5 / total\n",
    "    \n",
    "    train_time = time.time() - start_time\n",
    "    \n",
    "    # 학습 세트에 대한 성능 출력\n",
    "    print(f'Train set: Epoch: {epoch+1}, Average loss:{epoch_loss:.4f}, LR: {optimizer.param_groups[0][\"lr\"]:.6f} '\n",
    "          f'Top-1 Accuracy: {accuracy_top1:.4f}%, Top-5 Accuracy: {accuracy_top5:.4f}%, Time consumed:{train_time:.2f}s')\n",
    "    \n",
    "    return epoch_loss, accuracy_top1, accuracy_top5\n",
    "\n",
    "def evaluate(model, testloader, criterion, device, epoch):\n",
    "    \"\"\"\n",
    "    평가 함수\n",
    "    \"\"\"\n",
    "    model.eval()  # 모델을 평가 모드로 설정\n",
    "    start_time = time.time()  # 시간 측정 시작\n",
    "    \n",
    "    test_loss = 0.0\n",
    "    correct_top1 = 0\n",
    "    correct_top5 = 0\n",
    "    total = 0\n",
    "    \n",
    "    # 그래디언트 계산 비활성화\n",
    "    with torch.no_grad():\n",
    "        for inputs, labels in testloader:\n",
    "            inputs, labels = inputs.to(device), labels.to(device)\n",
    "            \n",
    "            # 순전파\n",
    "            outputs = model(inputs)\n",
    "            \n",
    "            # 손실 계산\n",
    "            loss = criterion(outputs, labels)\n",
    "            test_loss += loss.item()\n",
    "            \n",
    "            # top-1 정확도 계산\n",
    "            _, predicted = outputs.max(1)\n",
    "            total += labels.size(0)\n",
    "            correct_top1 += (predicted == labels).sum().item()\n",
    "            \n",
    "            # top-5 정확도 계산\n",
    "            _, top5_idx = outputs.topk(5, 1, largest=True, sorted=True)\n",
    "            correct_top5 += top5_idx.eq(labels.view(-1, 1).expand_as(top5_idx)).sum().item()\n",
    "    \n",
    "    # 평균 손실 및 정확도 계산\n",
    "    test_loss = test_loss / len(testloader)\n",
    "    accuracy_top1 = 100.0 * correct_top1 / total\n",
    "    accuracy_top5 = 100.0 * correct_top5 / total\n",
    "    # 평가 시간 계산\n",
    "    eval_time = time.time() - start_time\n",
    "    \n",
    "    # 테스트 세트에 대한 성능 출력\n",
    "    print(f'Test set: Epoch: {epoch+1}, Average loss:{test_loss:.4f}, '\n",
    "          f'Top-1 Accuracy: {accuracy_top1:.4f}%, Top-5 Accuracy: {accuracy_top5:.4f}%, Time consumed:{eval_time:.2f}s')\n",
    "    print()\n",
    "    \n",
    "    return test_loss, accuracy_top1, accuracy_top5\n",
    "\n",
    "\n",
    "# 메인 학습 루프\n",
    "def main_training_loop(model, trainloader, testloader, criterion, optimizer, device, num_epochs):\n",
    "\n",
    "    early_stopping = EarlyStopping(patience=patience, verbose=True)\n",
    "    \n",
    "    \"\"\"\n",
    "    메인 학습 루프\n",
    "    \"\"\"\n",
    "    best_acc_top1 = 0.0\n",
    "    best_acc_top5 = 0.0\n",
    "    \n",
    "    # tqdm을 사용한 진행 상황 표시\n",
    "    for epoch in tqdm(range(num_epochs)):\n",
    "        # 학습\n",
    "        train_loss, train_acc_top1, train_acc_top5 = train(model, trainloader, criterion, optimizer, device, epoch)\n",
    "        \n",
    "        # 평가\n",
    "        test_loss, test_acc_top1, test_acc_top5 = evaluate(model, testloader, criterion, device, epoch)\n",
    "        \n",
    "        # WandB에 로깅\n",
    "        wandb.log({\n",
    "            \"epoch\": epoch + 1,\n",
    "            \"learning_rate\": optimizer.param_groups[0]['lr'],\n",
    "            \"train_loss\": train_loss,\n",
    "            \"train_accuracy_top1\": train_acc_top1,\n",
    "            \"train_accuracy_top5\": train_acc_top5,\n",
    "            \"test_loss\": test_loss,\n",
    "            \"test_accuracy_top1\": test_acc_top1,\n",
    "            \"test_accuracy_top5\": test_acc_top5\n",
    "        })\n",
    "            \n",
    "        # 최고 정확도 모델 저장 (top-1 기준)\n",
    "        if test_acc_top1 > best_acc_top1:\n",
    "            best_acc_top1 = test_acc_top1\n",
    "            best_acc_top5_at_best_top1 = test_acc_top5\n",
    "            print(f'New best top-1 accuracy: {best_acc_top1:.2f}%, top-5 accuracy: {best_acc_top5_at_best_top1:.2f}%')\n",
    "            # 모델 저장\n",
    "            model_path = f'best_model_{wandb.run.name}.pth'\n",
    "            torch.save(model.state_dict(), model_path)\n",
    "            \n",
    "            # WandB에 모델 아티팩트 저장\n",
    "            wandb.save(model_path)\n",
    "        \n",
    "        # top-5 accuracy 기록 업데이트\n",
    "        if test_acc_top5 > best_acc_top5:\n",
    "            best_acc_top5 = test_acc_top5\n",
    "            print(f'New best top-5 accuracy: {best_acc_top5:.2f}%')\n",
    "\n",
    "            early_stopping(test_loss, model)\n",
    "            if early_stopping.early_stop:\n",
    "                print(\"Early stopping triggered. Training stopped.\")\n",
    "                break\n",
    "    \n",
    "        # 조기 종료된 경우 저장된 체크포인트에서 최적의 모델 로드\n",
    "        model.load_state_dict(torch.load('checkpoint.pt'))\n",
    "        \n",
    "        print(f'Finish! Best top-1 accuracy: {best_acc_top1:.2f}%, Best top-5 accuracy: {best_acc_top5:.2f}%')\n",
    "        wandb.run.summary[\"best_accuracy_top1\"] = best_acc_top1\n",
    "        wandb.run.summary[\"best_accuracy_top5\"] = best_acc_top5\n",
    "\n",
    "        if early_stopping.early_stop:\n",
    "            wandb.run.summary[\"early_stopped\"] = True\n",
    "            wandb.run.summary[\"early_stopped_epoch\"] = epoch+1\n",
    "\n",
    "\n",
    "\n",
    "# 디바이스 설정\n",
    "device = torch.device(\"cuda\" if torch.cuda.is_available() else \"cpu\")\n",
    "print(f\"Using device: {device}\")\n",
    "\n",
    "# 모델 초기화\n",
    "model = resnet18().to(device)  \n",
    "criterion = nn.CrossEntropyLoss()  # 손실 함수 정의\n",
    "optimizer = optim.Adam(model.parameters(), lr=config[\"learning_rate\"])  # 옵티마이저 정의\n",
    "\n",
    "# WandB에 모델 구조 기록\n",
    "wandb.watch(model, log=\"all\")\n",
    "\n",
    "# GPU 가속\n",
    "if torch.cuda.device_count() > 1:\n",
    "    print(f\"{torch.cuda.device_count()}개의 GPU를 사용합니다.\")\n",
    "    model = nn.DataParallel(model)\n",
    "\n",
    "# 훈련 시작 시간 기록\n",
    "start_time = time.time()\n",
    "\n",
    "# 메인 학습 루프 호출\n",
    "main_training_loop(\n",
    "    model=model,\n",
    "    trainloader=trainloader,\n",
    "    testloader=testloader,\n",
    "    criterion=criterion,\n",
    "    optimizer=optimizer,\n",
    "    device=device,\n",
    "    num_epochs=config[\"num_epochs\"]\n",
    ")\n",
    "\n",
    "# 훈련 종료 시간 기록 및 출력\n",
    "end_time = time.time()\n",
    "total_time = end_time - start_time\n",
    "wandb.log({\"total_training_time\": total_time})\n",
    "\n",
    "print(f\"Total training time: {total_time:.2f} seconds\")\n",
    "\n",
    "# WandB 실행 종료\n",
    "wandb.finish()"
   ]
  },
  {
   "cell_type": "code",
   "execution_count": null,
   "id": "ccaaa646-eb14-44be-a97a-fde2ee3adf0d",
   "metadata": {},
   "outputs": [],
   "source": []
  }
 ],
 "metadata": {
  "kernelspec": {
   "display_name": "Python 3 (ipykernel)",
   "language": "python",
   "name": "python3"
  },
  "language_info": {
   "codemirror_mode": {
    "name": "ipython",
    "version": 3
   },
   "file_extension": ".py",
   "mimetype": "text/x-python",
   "name": "python",
   "nbconvert_exporter": "python",
   "pygments_lexer": "ipython3",
   "version": "3.11.9"
  }
 },
 "nbformat": 4,
 "nbformat_minor": 5
}
