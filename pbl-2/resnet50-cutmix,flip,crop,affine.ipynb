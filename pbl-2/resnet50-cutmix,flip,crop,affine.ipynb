{
 "cells": [
  {
   "cell_type": "code",
   "execution_count": 2,
   "id": "516f9d5f-6361-4b03-98ee-e1ba4de86b92",
   "metadata": {},
   "outputs": [
    {
     "name": "stderr",
     "output_type": "stream",
     "text": [
      "\u001b[34m\u001b[1mwandb\u001b[0m: \u001b[33mWARNING\u001b[0m Calling wandb.login() after wandb.init() has no effect.\n"
     ]
    },
    {
     "data": {
      "text/html": [],
      "text/plain": [
       "<IPython.core.display.HTML object>"
      ]
     },
     "metadata": {},
     "output_type": "display_data"
    },
    {
     "data": {
      "text/html": [
       " View run <strong style=\"color:#cdcd00\">resnet50_cutmix,flip,crop,affine</strong> at: <a href='https://wandb.ai/sokjh1310-hanyang-university/PBL-2/runs/piy0sq9b' target=\"_blank\">https://wandb.ai/sokjh1310-hanyang-university/PBL-2/runs/piy0sq9b</a><br> View project at: <a href='https://wandb.ai/sokjh1310-hanyang-university/PBL-2' target=\"_blank\">https://wandb.ai/sokjh1310-hanyang-university/PBL-2</a><br>Synced 5 W&B file(s), 0 media file(s), 0 artifact file(s) and 0 other file(s)"
      ],
      "text/plain": [
       "<IPython.core.display.HTML object>"
      ]
     },
     "metadata": {},
     "output_type": "display_data"
    },
    {
     "data": {
      "text/html": [
       "Find logs at: <code>./wandb/run-20250413_151907-piy0sq9b/logs</code>"
      ],
      "text/plain": [
       "<IPython.core.display.HTML object>"
      ]
     },
     "metadata": {},
     "output_type": "display_data"
    },
    {
     "data": {
      "text/html": [
       "Tracking run with wandb version 0.19.9"
      ],
      "text/plain": [
       "<IPython.core.display.HTML object>"
      ]
     },
     "metadata": {},
     "output_type": "display_data"
    },
    {
     "data": {
      "text/html": [
       "Run data is saved locally in <code>/home/guswls/EEN4015_Intro2ML/pbl-2/wandb/run-20250413_152212-s6uboiv6</code>"
      ],
      "text/plain": [
       "<IPython.core.display.HTML object>"
      ]
     },
     "metadata": {},
     "output_type": "display_data"
    },
    {
     "data": {
      "text/html": [
       "Syncing run <strong><a href='https://wandb.ai/sokjh1310-hanyang-university/PBL-2/runs/s6uboiv6' target=\"_blank\">resnet50_cutmix,flip,crop,affine</a></strong> to <a href='https://wandb.ai/sokjh1310-hanyang-university/PBL-2' target=\"_blank\">Weights & Biases</a> (<a href='https://wandb.me/developer-guide' target=\"_blank\">docs</a>)<br>"
      ],
      "text/plain": [
       "<IPython.core.display.HTML object>"
      ]
     },
     "metadata": {},
     "output_type": "display_data"
    },
    {
     "data": {
      "text/html": [
       " View project at <a href='https://wandb.ai/sokjh1310-hanyang-university/PBL-2' target=\"_blank\">https://wandb.ai/sokjh1310-hanyang-university/PBL-2</a>"
      ],
      "text/plain": [
       "<IPython.core.display.HTML object>"
      ]
     },
     "metadata": {},
     "output_type": "display_data"
    },
    {
     "data": {
      "text/html": [
       " View run at <a href='https://wandb.ai/sokjh1310-hanyang-university/PBL-2/runs/s6uboiv6' target=\"_blank\">https://wandb.ai/sokjh1310-hanyang-university/PBL-2/runs/s6uboiv6</a>"
      ],
      "text/plain": [
       "<IPython.core.display.HTML object>"
      ]
     },
     "metadata": {},
     "output_type": "display_data"
    },
    {
     "name": "stdout",
     "output_type": "stream",
     "text": [
      "Files already downloaded and verified\n",
      "Files already downloaded and verified\n",
      "Train set size: 40000\n",
      "Validation set size: 10000\n",
      "Test set size: 10000\n",
      "Using device: cuda\n",
      "2개의 GPU를 사용합니다.\n"
     ]
    },
    {
     "name": "stderr",
     "output_type": "stream",
     "text": [
      "  0%|                                                                                                       | 0/100 [00:00<?, ?it/s]"
     ]
    },
    {
     "name": "stdout",
     "output_type": "stream",
     "text": [
      "Epoch [1], Batch [50/313], Loss: 4.6013\n",
      "Epoch [1], Batch [100/313], Loss: 4.3305\n",
      "Epoch [1], Batch [150/313], Loss: 4.0430\n",
      "Epoch [1], Batch [200/313], Loss: 4.0581\n",
      "Epoch [1], Batch [250/313], Loss: 4.1993\n",
      "Epoch [1], Batch [300/313], Loss: 3.8819\n",
      "Train set: Epoch: 1, Average loss:4.3438, LR: 0.001000 Top-1 Accuracy: 4.9325%, Top-5 Accuracy: 18.9775%, Time consumed:78.64s\n",
      "Val set: Epoch: 1, Average loss:5.2055, Top-1 Accuracy: 7.6400%, Top-5 Accuracy: 26.4700%, Time consumed:15.30s\n",
      "\n",
      "New best top-1 accuracy: 7.64%, top-5 accuracy: 26.47%\n",
      "New best top-5 accuracy: 26.47%\n",
      "Validation loss decreased (inf --> 5.205535). Saving model ...\n"
     ]
    },
    {
     "name": "stderr",
     "output_type": "stream",
     "text": [
      "  1%|▉                                                                                            | 1/100 [01:34<2:35:52, 94.47s/it]"
     ]
    },
    {
     "name": "stdout",
     "output_type": "stream",
     "text": [
      "Epoch [2], Batch [50/313], Loss: 4.1937\n",
      "Epoch [2], Batch [100/313], Loss: 4.3453\n",
      "Epoch [2], Batch [150/313], Loss: 3.8238\n",
      "Epoch [2], Batch [200/313], Loss: 3.9321\n",
      "Epoch [2], Batch [250/313], Loss: 3.6812\n",
      "Epoch [2], Batch [300/313], Loss: 4.0482\n",
      "Train set: Epoch: 2, Average loss:3.9497, LR: 0.001000 Top-1 Accuracy: 9.7500%, Top-5 Accuracy: 30.8675%, Time consumed:81.25s\n",
      "Val set: Epoch: 2, Average loss:3.6166, Top-1 Accuracy: 14.0800%, Top-5 Accuracy: 39.5000%, Time consumed:16.21s\n",
      "\n",
      "New best top-1 accuracy: 14.08%, top-5 accuracy: 39.50%\n",
      "New best top-5 accuracy: 39.50%\n",
      "Validation loss decreased (5.205535 --> 3.616647). Saving model ...\n"
     ]
    },
    {
     "name": "stderr",
     "output_type": "stream",
     "text": [
      "  2%|█▊                                                                                           | 2/100 [03:12<2:37:42, 96.56s/it]"
     ]
    },
    {
     "name": "stdout",
     "output_type": "stream",
     "text": [
      "Epoch [3], Batch [50/313], Loss: 3.9395\n",
      "Epoch [3], Batch [100/313], Loss: 3.7647\n",
      "Epoch [3], Batch [150/313], Loss: 3.8077\n",
      "Epoch [3], Batch [200/313], Loss: 4.0918\n",
      "Epoch [3], Batch [250/313], Loss: 3.7362\n",
      "Epoch [3], Batch [300/313], Loss: 3.2320\n",
      "Train set: Epoch: 3, Average loss:3.7681, LR: 0.001000 Top-1 Accuracy: 13.4675%, Top-5 Accuracy: 37.2000%, Time consumed:81.24s\n",
      "Val set: Epoch: 3, Average loss:4.4661, Top-1 Accuracy: 17.5200%, Top-5 Accuracy: 44.1200%, Time consumed:16.73s\n",
      "\n",
      "New best top-1 accuracy: 17.52%, top-5 accuracy: 44.12%\n"
     ]
    },
    {
     "name": "stderr",
     "output_type": "stream",
     "text": [
      "  3%|██▊                                                                                          | 3/100 [04:50<2:37:20, 97.32s/it]"
     ]
    },
    {
     "name": "stdout",
     "output_type": "stream",
     "text": [
      "New best top-5 accuracy: 44.12%\n",
      "EarlyStopping 카운터: 1 / 10\n",
      "Epoch [4], Batch [50/313], Loss: 3.7052\n",
      "Epoch [4], Batch [100/313], Loss: 4.0815\n",
      "Epoch [4], Batch [150/313], Loss: 3.0435\n",
      "Epoch [4], Batch [200/313], Loss: 3.0600\n",
      "Epoch [4], Batch [250/313], Loss: 2.8908\n",
      "Epoch [4], Batch [300/313], Loss: 2.9954\n",
      "Train set: Epoch: 4, Average loss:3.4789, LR: 0.001000 Top-1 Accuracy: 18.5400%, Top-5 Accuracy: 46.4325%, Time consumed:81.59s\n",
      "Val set: Epoch: 4, Average loss:3.5846, Top-1 Accuracy: 19.5700%, Top-5 Accuracy: 47.3600%, Time consumed:16.47s\n",
      "\n",
      "New best top-1 accuracy: 19.57%, top-5 accuracy: 47.36%\n",
      "New best top-5 accuracy: 47.36%\n",
      "Validation loss decreased (3.616647 --> 3.584596). Saving model ...\n"
     ]
    },
    {
     "name": "stderr",
     "output_type": "stream",
     "text": [
      "  4%|███▋                                                                                         | 4/100 [06:29<2:36:29, 97.81s/it]"
     ]
    },
    {
     "name": "stdout",
     "output_type": "stream",
     "text": [
      "Epoch [5], Batch [50/313], Loss: 2.7275\n",
      "Epoch [5], Batch [100/313], Loss: 2.6160\n",
      "Epoch [5], Batch [150/313], Loss: 2.8787\n",
      "Epoch [5], Batch [200/313], Loss: 3.2612\n",
      "Epoch [5], Batch [250/313], Loss: 2.8077\n",
      "Epoch [5], Batch [300/313], Loss: 2.8897\n",
      "Train set: Epoch: 5, Average loss:3.2960, LR: 0.001000 Top-1 Accuracy: 22.8825%, Top-5 Accuracy: 51.8400%, Time consumed:81.74s\n",
      "Val set: Epoch: 5, Average loss:4.1432, Top-1 Accuracy: 27.2300%, Top-5 Accuracy: 58.0200%, Time consumed:15.99s\n",
      "\n",
      "New best top-1 accuracy: 27.23%, top-5 accuracy: 58.02%\n"
     ]
    },
    {
     "name": "stderr",
     "output_type": "stream",
     "text": [
      "  5%|████▋                                                                                        | 5/100 [08:07<2:34:57, 97.87s/it]"
     ]
    },
    {
     "name": "stdout",
     "output_type": "stream",
     "text": [
      "New best top-5 accuracy: 58.02%\n",
      "EarlyStopping 카운터: 1 / 10\n",
      "Epoch [6], Batch [50/313], Loss: 3.0181\n",
      "Epoch [6], Batch [100/313], Loss: 4.0296\n",
      "Epoch [6], Batch [150/313], Loss: 2.6324\n",
      "Epoch [6], Batch [200/313], Loss: 3.5777\n",
      "Epoch [6], Batch [250/313], Loss: 4.0652\n",
      "Epoch [6], Batch [300/313], Loss: 3.9295\n",
      "Train set: Epoch: 6, Average loss:3.0534, LR: 0.001000 Top-1 Accuracy: 27.1775%, Top-5 Accuracy: 58.1000%, Time consumed:82.36s\n",
      "Val set: Epoch: 6, Average loss:3.1718, Top-1 Accuracy: 32.6100%, Top-5 Accuracy: 65.3700%, Time consumed:16.25s\n",
      "\n",
      "New best top-1 accuracy: 32.61%, top-5 accuracy: 65.37%\n",
      "New best top-5 accuracy: 65.37%\n",
      "Validation loss decreased (3.584596 --> 3.171812). Saving model ...\n"
     ]
    },
    {
     "name": "stderr",
     "output_type": "stream",
     "text": [
      "  6%|█████▌                                                                                       | 6/100 [09:46<2:33:59, 98.30s/it]"
     ]
    },
    {
     "name": "stdout",
     "output_type": "stream",
     "text": [
      "Epoch [7], Batch [50/313], Loss: 2.4359\n",
      "Epoch [7], Batch [100/313], Loss: 2.3052\n",
      "Epoch [7], Batch [150/313], Loss: 3.7236\n",
      "Epoch [7], Batch [200/313], Loss: 2.4759\n",
      "Epoch [7], Batch [250/313], Loss: 2.3781\n",
      "Epoch [7], Batch [300/313], Loss: 3.6139\n",
      "Train set: Epoch: 7, Average loss:3.0101, LR: 0.001000 Top-1 Accuracy: 29.6700%, Top-5 Accuracy: 60.8525%, Time consumed:80.88s\n",
      "Val set: Epoch: 7, Average loss:2.6460, Top-1 Accuracy: 31.8700%, Top-5 Accuracy: 64.6700%, Time consumed:15.48s\n",
      "\n",
      "Validation loss decreased (3.171812 --> 2.645953). Saving model ...\n"
     ]
    },
    {
     "name": "stderr",
     "output_type": "stream",
     "text": [
      "  7%|██████▌                                                                                      | 7/100 [11:23<2:31:32, 97.77s/it]"
     ]
    },
    {
     "name": "stdout",
     "output_type": "stream",
     "text": [
      "Epoch [8], Batch [50/313], Loss: 2.2310\n",
      "Epoch [8], Batch [100/313], Loss: 2.6128\n",
      "Epoch [8], Batch [150/313], Loss: 2.9143\n",
      "Epoch [8], Batch [200/313], Loss: 3.6754\n",
      "Epoch [8], Batch [250/313], Loss: 3.1050\n",
      "Epoch [8], Batch [300/313], Loss: 3.0150\n",
      "Train set: Epoch: 8, Average loss:2.7510, LR: 0.001000 Top-1 Accuracy: 34.3375%, Top-5 Accuracy: 65.5700%, Time consumed:77.40s\n",
      "Val set: Epoch: 8, Average loss:2.3414, Top-1 Accuracy: 39.5200%, Top-5 Accuracy: 72.4800%, Time consumed:15.53s\n",
      "\n",
      "New best top-1 accuracy: 39.52%, top-5 accuracy: 72.48%\n",
      "New best top-5 accuracy: 72.48%\n",
      "Validation loss decreased (2.645953 --> 2.341435). Saving model ...\n"
     ]
    },
    {
     "name": "stderr",
     "output_type": "stream",
     "text": [
      "  8%|███████▍                                                                                     | 8/100 [12:56<2:27:47, 96.39s/it]"
     ]
    },
    {
     "name": "stdout",
     "output_type": "stream",
     "text": [
      "Epoch [9], Batch [50/313], Loss: 3.1410\n",
      "Epoch [9], Batch [100/313], Loss: 3.7360\n",
      "Epoch [9], Batch [150/313], Loss: 3.4098\n",
      "Epoch [9], Batch [200/313], Loss: 2.3546\n",
      "Epoch [9], Batch [250/313], Loss: 2.7680\n",
      "Epoch [9], Batch [300/313], Loss: 2.9661\n",
      "Train set: Epoch: 9, Average loss:2.7605, LR: 0.001000 Top-1 Accuracy: 35.3475%, Top-5 Accuracy: 65.8275%, Time consumed:77.80s\n",
      "Val set: Epoch: 9, Average loss:2.3808, Top-1 Accuracy: 41.8400%, Top-5 Accuracy: 73.9600%, Time consumed:15.92s\n",
      "\n",
      "New best top-1 accuracy: 41.84%, top-5 accuracy: 73.96%\n"
     ]
    },
    {
     "name": "stderr",
     "output_type": "stream",
     "text": [
      "  9%|████████▎                                                                                    | 9/100 [14:30<2:25:03, 95.64s/it]"
     ]
    },
    {
     "name": "stdout",
     "output_type": "stream",
     "text": [
      "New best top-5 accuracy: 73.96%\n",
      "EarlyStopping 카운터: 1 / 10\n",
      "Epoch [10], Batch [50/313], Loss: 3.7731\n",
      "Epoch [10], Batch [100/313], Loss: 3.8226\n",
      "Epoch [10], Batch [150/313], Loss: 2.6266\n",
      "Epoch [10], Batch [200/313], Loss: 3.7001\n",
      "Epoch [10], Batch [250/313], Loss: 3.2001\n",
      "Epoch [10], Batch [300/313], Loss: 2.2475\n",
      "Train set: Epoch: 10, Average loss:2.6732, LR: 0.001000 Top-1 Accuracy: 37.6125%, Top-5 Accuracy: 68.4950%, Time consumed:80.62s\n",
      "Val set: Epoch: 10, Average loss:2.1163, Top-1 Accuracy: 43.5900%, Top-5 Accuracy: 75.9400%, Time consumed:15.88s\n",
      "\n",
      "New best top-1 accuracy: 43.59%, top-5 accuracy: 75.94%\n",
      "New best top-5 accuracy: 75.94%\n",
      "Validation loss decreased (2.341435 --> 2.116344). Saving model ...\n"
     ]
    },
    {
     "name": "stderr",
     "output_type": "stream",
     "text": [
      " 10%|█████████▏                                                                                  | 10/100 [16:07<2:24:04, 96.05s/it]"
     ]
    },
    {
     "name": "stdout",
     "output_type": "stream",
     "text": [
      "Epoch [11], Batch [50/313], Loss: 1.9069\n",
      "Epoch [11], Batch [100/313], Loss: 1.9563\n",
      "Epoch [11], Batch [150/313], Loss: 1.7635\n",
      "Epoch [11], Batch [200/313], Loss: 1.8240\n",
      "Epoch [11], Batch [250/313], Loss: 3.0285\n",
      "Epoch [11], Batch [300/313], Loss: 2.1226\n",
      "Train set: Epoch: 11, Average loss:2.5633, LR: 0.001000 Top-1 Accuracy: 39.8000%, Top-5 Accuracy: 70.6125%, Time consumed:82.31s\n",
      "Val set: Epoch: 11, Average loss:2.1274, Top-1 Accuracy: 44.1900%, Top-5 Accuracy: 75.8700%, Time consumed:16.66s\n",
      "\n",
      "New best top-1 accuracy: 44.19%, top-5 accuracy: 75.87%\n"
     ]
    },
    {
     "name": "stderr",
     "output_type": "stream",
     "text": [
      " 11%|██████████                                                                                  | 11/100 [17:46<2:23:55, 97.03s/it]"
     ]
    },
    {
     "name": "stdout",
     "output_type": "stream",
     "text": [
      "EarlyStopping 카운터: 1 / 10\n",
      "Epoch [12], Batch [50/313], Loss: 3.6546\n",
      "Epoch [12], Batch [100/313], Loss: 3.4110\n",
      "Epoch [12], Batch [150/313], Loss: 1.9218\n",
      "Epoch [12], Batch [200/313], Loss: 3.6811\n",
      "Epoch [12], Batch [250/313], Loss: 1.8792\n",
      "Epoch [12], Batch [300/313], Loss: 1.9345\n",
      "Train set: Epoch: 12, Average loss:2.5547, LR: 0.001000 Top-1 Accuracy: 40.1550%, Top-5 Accuracy: 70.8400%, Time consumed:83.36s\n",
      "Val set: Epoch: 12, Average loss:2.0137, Top-1 Accuracy: 46.7600%, Top-5 Accuracy: 78.4400%, Time consumed:16.37s\n",
      "\n",
      "New best top-1 accuracy: 46.76%, top-5 accuracy: 78.44%\n",
      "New best top-5 accuracy: 78.44%\n",
      "Validation loss decreased (2.116344 --> 2.013663). Saving model ...\n"
     ]
    },
    {
     "name": "stderr",
     "output_type": "stream",
     "text": [
      " 12%|███████████                                                                                 | 12/100 [19:26<2:23:44, 98.00s/it]"
     ]
    },
    {
     "name": "stdout",
     "output_type": "stream",
     "text": [
      "Epoch [13], Batch [50/313], Loss: 2.3017\n",
      "Epoch [13], Batch [100/313], Loss: 1.6207\n",
      "Epoch [13], Batch [150/313], Loss: 1.7244\n",
      "Epoch [13], Batch [200/313], Loss: 2.5297\n",
      "Epoch [13], Batch [250/313], Loss: 2.0150\n",
      "Epoch [13], Batch [300/313], Loss: 1.5187\n",
      "Train set: Epoch: 13, Average loss:2.4717, LR: 0.001000 Top-1 Accuracy: 42.6900%, Top-5 Accuracy: 72.9475%, Time consumed:78.51s\n"
     ]
    },
    {
     "name": "stderr",
     "output_type": "stream",
     "text": [
      " 13%|███████████▉                                                                                | 13/100 [21:01<2:20:33, 96.94s/it]"
     ]
    },
    {
     "name": "stdout",
     "output_type": "stream",
     "text": [
      "Val set: Epoch: 13, Average loss:3.2977, Top-1 Accuracy: 44.6400%, Top-5 Accuracy: 75.4300%, Time consumed:15.96s\n",
      "\n",
      "EarlyStopping 카운터: 1 / 10\n",
      "Epoch [14], Batch [50/313], Loss: 3.2019\n",
      "Epoch [14], Batch [100/313], Loss: 3.2947\n",
      "Epoch [14], Batch [150/313], Loss: 1.7602\n",
      "Epoch [14], Batch [200/313], Loss: 3.0802\n",
      "Epoch [14], Batch [250/313], Loss: 2.1626\n",
      "Epoch [14], Batch [300/313], Loss: 1.6343\n",
      "Train set: Epoch: 14, Average loss:2.5281, LR: 0.001000 Top-1 Accuracy: 41.6225%, Top-5 Accuracy: 71.5425%, Time consumed:79.82s\n",
      "Val set: Epoch: 14, Average loss:1.8918, Top-1 Accuracy: 49.3600%, Top-5 Accuracy: 80.5200%, Time consumed:15.95s\n",
      "\n",
      "New best top-1 accuracy: 49.36%, top-5 accuracy: 80.52%\n",
      "New best top-5 accuracy: 80.52%\n",
      "Validation loss decreased (2.013663 --> 1.891826). Saving model ...\n"
     ]
    },
    {
     "name": "stderr",
     "output_type": "stream",
     "text": [
      " 14%|████████████▉                                                                               | 14/100 [22:37<2:18:39, 96.74s/it]"
     ]
    },
    {
     "name": "stdout",
     "output_type": "stream",
     "text": [
      "Epoch [15], Batch [50/313], Loss: 1.7340\n",
      "Epoch [15], Batch [100/313], Loss: 3.1071\n",
      "Epoch [15], Batch [150/313], Loss: 1.8348\n",
      "Epoch [15], Batch [200/313], Loss: 3.4277\n",
      "Epoch [15], Batch [250/313], Loss: 3.6611\n",
      "Epoch [15], Batch [300/313], Loss: 1.6274\n",
      "Train set: Epoch: 15, Average loss:2.3165, LR: 0.001000 Top-1 Accuracy: 45.7875%, Top-5 Accuracy: 75.8850%, Time consumed:79.03s\n"
     ]
    },
    {
     "name": "stderr",
     "output_type": "stream",
     "text": [
      " 15%|█████████████▊                                                                              | 15/100 [24:12<2:16:12, 96.14s/it]"
     ]
    },
    {
     "name": "stdout",
     "output_type": "stream",
     "text": [
      "Val set: Epoch: 15, Average loss:2.0213, Top-1 Accuracy: 47.7000%, Top-5 Accuracy: 77.7200%, Time consumed:15.72s\n",
      "\n",
      "EarlyStopping 카운터: 1 / 10\n",
      "Epoch [16], Batch [50/313], Loss: 1.6338\n",
      "Epoch [16], Batch [100/313], Loss: 1.7296\n",
      "Epoch [16], Batch [150/313], Loss: 1.6135\n",
      "Epoch [16], Batch [200/313], Loss: 3.0266\n",
      "Epoch [16], Batch [250/313], Loss: 1.5536\n",
      "Epoch [16], Batch [300/313], Loss: 2.7500\n",
      "Train set: Epoch: 16, Average loss:2.3333, LR: 0.001000 Top-1 Accuracy: 46.4475%, Top-5 Accuracy: 75.8850%, Time consumed:81.92s\n",
      "Val set: Epoch: 16, Average loss:1.7850, Top-1 Accuracy: 53.3400%, Top-5 Accuracy: 82.2900%, Time consumed:16.31s\n",
      "\n",
      "New best top-1 accuracy: 53.34%, top-5 accuracy: 82.29%\n",
      "New best top-5 accuracy: 82.29%\n",
      "Validation loss decreased (1.891826 --> 1.785020). Saving model ...\n"
     ]
    },
    {
     "name": "stderr",
     "output_type": "stream",
     "text": [
      " 16%|██████████████▋                                                                             | 16/100 [25:51<2:15:41, 96.92s/it]"
     ]
    },
    {
     "name": "stdout",
     "output_type": "stream",
     "text": [
      "Epoch [17], Batch [50/313], Loss: 1.2813\n",
      "Epoch [17], Batch [100/313], Loss: 3.5902\n",
      "Epoch [17], Batch [150/313], Loss: 1.4879\n",
      "Epoch [17], Batch [200/313], Loss: 2.2732\n",
      "Epoch [17], Batch [250/313], Loss: 1.3679\n",
      "Epoch [17], Batch [300/313], Loss: 1.4048\n",
      "Train set: Epoch: 17, Average loss:2.2668, LR: 0.001000 Top-1 Accuracy: 48.2150%, Top-5 Accuracy: 77.2225%, Time consumed:77.99s\n",
      "Val set: Epoch: 17, Average loss:1.7331, Top-1 Accuracy: 53.0500%, Top-5 Accuracy: 83.2200%, Time consumed:15.87s\n",
      "\n",
      "New best top-5 accuracy: 83.22%\n",
      "Validation loss decreased (1.785020 --> 1.733081). Saving model ...\n"
     ]
    },
    {
     "name": "stderr",
     "output_type": "stream",
     "text": [
      " 17%|███████████████▋                                                                            | 17/100 [27:25<2:12:54, 96.08s/it]"
     ]
    },
    {
     "name": "stdout",
     "output_type": "stream",
     "text": [
      "Epoch [18], Batch [50/313], Loss: 1.4544\n",
      "Epoch [18], Batch [100/313], Loss: 1.4081\n",
      "Epoch [18], Batch [150/313], Loss: 1.5659\n",
      "Epoch [18], Batch [200/313], Loss: 2.8846\n",
      "Epoch [18], Batch [250/313], Loss: 1.4898\n",
      "Epoch [18], Batch [300/313], Loss: 3.0548\n",
      "Train set: Epoch: 18, Average loss:2.2158, LR: 0.001000 Top-1 Accuracy: 48.6425%, Top-5 Accuracy: 77.4350%, Time consumed:78.44s\n",
      "Val set: Epoch: 18, Average loss:1.6599, Top-1 Accuracy: 55.5000%, Top-5 Accuracy: 84.3000%, Time consumed:16.10s\n",
      "\n",
      "New best top-1 accuracy: 55.50%, top-5 accuracy: 84.30%\n",
      "New best top-5 accuracy: 84.30%\n",
      "Validation loss decreased (1.733081 --> 1.659888). Saving model ...\n"
     ]
    },
    {
     "name": "stderr",
     "output_type": "stream",
     "text": [
      " 18%|████████████████▌                                                                           | 18/100 [29:00<2:10:53, 95.77s/it]"
     ]
    },
    {
     "name": "stdout",
     "output_type": "stream",
     "text": [
      "Epoch [19], Batch [50/313], Loss: 2.7193\n",
      "Epoch [19], Batch [100/313], Loss: 1.2320\n",
      "Epoch [19], Batch [150/313], Loss: 1.4912\n",
      "Epoch [19], Batch [200/313], Loss: 2.9028\n",
      "Epoch [19], Batch [250/313], Loss: 3.3036\n",
      "Epoch [19], Batch [300/313], Loss: 3.0476\n",
      "Train set: Epoch: 19, Average loss:2.1323, LR: 0.001000 Top-1 Accuracy: 50.9725%, Top-5 Accuracy: 79.3400%, Time consumed:79.32s\n"
     ]
    },
    {
     "name": "stderr",
     "output_type": "stream",
     "text": [
      " 19%|█████████████████▍                                                                          | 19/100 [30:36<2:09:16, 95.76s/it]"
     ]
    },
    {
     "name": "stdout",
     "output_type": "stream",
     "text": [
      "Val set: Epoch: 19, Average loss:1.7928, Top-1 Accuracy: 53.9900%, Top-5 Accuracy: 83.2000%, Time consumed:16.40s\n",
      "\n",
      "EarlyStopping 카운터: 1 / 10\n",
      "Epoch [20], Batch [50/313], Loss: 1.7644\n",
      "Epoch [20], Batch [100/313], Loss: 1.2952\n",
      "Epoch [20], Batch [150/313], Loss: 1.3227\n",
      "Epoch [20], Batch [200/313], Loss: 1.3584\n",
      "Epoch [20], Batch [250/313], Loss: 1.4257\n",
      "Epoch [20], Batch [300/313], Loss: 3.2628\n",
      "Train set: Epoch: 20, Average loss:2.1175, LR: 0.001000 Top-1 Accuracy: 50.6175%, Top-5 Accuracy: 78.9475%, Time consumed:82.34s\n",
      "Val set: Epoch: 20, Average loss:1.5757, Top-1 Accuracy: 57.3300%, Top-5 Accuracy: 85.4000%, Time consumed:16.27s\n",
      "\n",
      "New best top-1 accuracy: 57.33%, top-5 accuracy: 85.40%\n",
      "New best top-5 accuracy: 85.40%\n",
      "Validation loss decreased (1.659888 --> 1.575725). Saving model ...\n"
     ]
    },
    {
     "name": "stderr",
     "output_type": "stream",
     "text": [
      " 20%|██████████████████▍                                                                         | 20/100 [32:15<2:09:02, 96.78s/it]"
     ]
    },
    {
     "name": "stdout",
     "output_type": "stream",
     "text": [
      "Epoch [21], Batch [50/313], Loss: 1.4198\n",
      "Epoch [21], Batch [100/313], Loss: 1.5519\n",
      "Epoch [21], Batch [150/313], Loss: 1.2044\n",
      "Epoch [21], Batch [200/313], Loss: 2.1924\n",
      "Epoch [21], Batch [250/313], Loss: 3.5033\n",
      "Epoch [21], Batch [300/313], Loss: 1.4905\n",
      "Train set: Epoch: 21, Average loss:2.0807, LR: 0.001000 Top-1 Accuracy: 52.4075%, Top-5 Accuracy: 80.3525%, Time consumed:77.26s\n"
     ]
    },
    {
     "name": "stderr",
     "output_type": "stream",
     "text": [
      " 21%|███████████████████▎                                                                        | 21/100 [33:48<2:06:00, 95.70s/it]"
     ]
    },
    {
     "name": "stdout",
     "output_type": "stream",
     "text": [
      "Val set: Epoch: 21, Average loss:1.7826, Top-1 Accuracy: 55.1600%, Top-5 Accuracy: 83.4700%, Time consumed:15.92s\n",
      "\n",
      "EarlyStopping 카운터: 1 / 10\n",
      "Epoch [22], Batch [50/313], Loss: 2.5544\n",
      "Epoch [22], Batch [100/313], Loss: 1.3135\n",
      "Epoch [22], Batch [150/313], Loss: 1.3529\n",
      "Epoch [22], Batch [200/313], Loss: 1.1296\n",
      "Epoch [22], Batch [250/313], Loss: 3.1636\n",
      "Epoch [22], Batch [300/313], Loss: 1.2982\n",
      "Train set: Epoch: 22, Average loss:2.0435, LR: 0.001000 Top-1 Accuracy: 53.7300%, Top-5 Accuracy: 81.3700%, Time consumed:78.97s\n"
     ]
    },
    {
     "name": "stderr",
     "output_type": "stream",
     "text": [
      " 22%|████████████████████▏                                                                       | 22/100 [35:22<2:03:56, 95.35s/it]"
     ]
    },
    {
     "name": "stdout",
     "output_type": "stream",
     "text": [
      "Val set: Epoch: 22, Average loss:1.6880, Top-1 Accuracy: 56.0300%, Top-5 Accuracy: 84.8800%, Time consumed:15.55s\n",
      "\n",
      "EarlyStopping 카운터: 2 / 10\n",
      "Epoch [23], Batch [50/313], Loss: 1.1156\n",
      "Epoch [23], Batch [100/313], Loss: 3.2271\n",
      "Epoch [23], Batch [150/313], Loss: 2.7858\n",
      "Epoch [23], Batch [200/313], Loss: 1.9524\n",
      "Epoch [23], Batch [250/313], Loss: 3.2717\n",
      "Epoch [23], Batch [300/313], Loss: 3.0927\n",
      "Train set: Epoch: 23, Average loss:2.0749, LR: 0.001000 Top-1 Accuracy: 54.1375%, Top-5 Accuracy: 81.3725%, Time consumed:78.13s\n",
      "Val set: Epoch: 23, Average loss:1.5110, Top-1 Accuracy: 59.6900%, Top-5 Accuracy: 86.4500%, Time consumed:16.77s\n",
      "\n",
      "New best top-1 accuracy: 59.69%, top-5 accuracy: 86.45%\n",
      "New best top-5 accuracy: 86.45%\n",
      "Validation loss decreased (1.575725 --> 1.511001). Saving model ...\n"
     ]
    },
    {
     "name": "stderr",
     "output_type": "stream",
     "text": [
      " 23%|█████████████████████▏                                                                      | 23/100 [36:58<2:02:22, 95.36s/it]"
     ]
    },
    {
     "name": "stdout",
     "output_type": "stream",
     "text": [
      "Epoch [24], Batch [50/313], Loss: 1.0780\n",
      "Epoch [24], Batch [100/313], Loss: 2.6720\n",
      "Epoch [24], Batch [150/313], Loss: 3.4520\n",
      "Epoch [24], Batch [200/313], Loss: 0.9925\n",
      "Epoch [24], Batch [250/313], Loss: 1.3482\n",
      "Epoch [24], Batch [300/313], Loss: 3.2086\n",
      "Train set: Epoch: 24, Average loss:1.9387, LR: 0.001000 Top-1 Accuracy: 56.1050%, Top-5 Accuracy: 83.0025%, Time consumed:78.21s\n"
     ]
    },
    {
     "name": "stderr",
     "output_type": "stream",
     "text": [
      " 24%|██████████████████████                                                                      | 24/100 [38:31<2:00:07, 94.83s/it]"
     ]
    },
    {
     "name": "stdout",
     "output_type": "stream",
     "text": [
      "Val set: Epoch: 24, Average loss:1.7081, Top-1 Accuracy: 57.6200%, Top-5 Accuracy: 84.7500%, Time consumed:15.40s\n",
      "\n",
      "EarlyStopping 카운터: 1 / 10\n",
      "Epoch [25], Batch [50/313], Loss: 1.5881\n",
      "Epoch [25], Batch [100/313], Loss: 2.1341\n",
      "Epoch [25], Batch [150/313], Loss: 1.1616\n",
      "Epoch [25], Batch [200/313], Loss: 1.3816\n",
      "Epoch [25], Batch [250/313], Loss: 1.2959\n",
      "Epoch [25], Batch [300/313], Loss: 2.7762\n",
      "Train set: Epoch: 25, Average loss:1.7711, LR: 0.001000 Top-1 Accuracy: 59.3075%, Top-5 Accuracy: 85.1125%, Time consumed:82.05s\n"
     ]
    },
    {
     "name": "stderr",
     "output_type": "stream",
     "text": [
      " 25%|███████████████████████                                                                     | 25/100 [40:09<1:59:42, 95.76s/it]"
     ]
    },
    {
     "name": "stdout",
     "output_type": "stream",
     "text": [
      "Val set: Epoch: 25, Average loss:1.5507, Top-1 Accuracy: 57.7300%, Top-5 Accuracy: 85.6800%, Time consumed:15.87s\n",
      "\n",
      "EarlyStopping 카운터: 2 / 10\n",
      "Epoch [26], Batch [50/313], Loss: 0.9850\n",
      "Epoch [26], Batch [100/313], Loss: 1.2280\n",
      "Epoch [26], Batch [150/313], Loss: 2.7780\n",
      "Epoch [26], Batch [200/313], Loss: 3.0141\n",
      "Epoch [26], Batch [250/313], Loss: 0.9740\n",
      "Epoch [26], Batch [300/313], Loss: 2.9126\n",
      "Train set: Epoch: 26, Average loss:1.8984, LR: 0.001000 Top-1 Accuracy: 57.6625%, Top-5 Accuracy: 83.6175%, Time consumed:79.16s\n",
      "Val set: Epoch: 26, Average loss:1.4691, Top-1 Accuracy: 59.7300%, Top-5 Accuracy: 86.5400%, Time consumed:16.09s\n",
      "\n",
      "New best top-1 accuracy: 59.73%, top-5 accuracy: 86.54%\n",
      "New best top-5 accuracy: 86.54%\n",
      "Validation loss decreased (1.511001 --> 1.469136). Saving model ...\n"
     ]
    },
    {
     "name": "stderr",
     "output_type": "stream",
     "text": [
      " 26%|███████████████████████▉                                                                    | 26/100 [41:45<1:58:05, 95.75s/it]"
     ]
    },
    {
     "name": "stdout",
     "output_type": "stream",
     "text": [
      "Epoch [27], Batch [50/313], Loss: 0.9406\n",
      "Epoch [27], Batch [100/313], Loss: 3.1766\n",
      "Epoch [27], Batch [150/313], Loss: 3.1807\n",
      "Epoch [27], Batch [200/313], Loss: 1.0773\n",
      "Epoch [27], Batch [250/313], Loss: 1.0887\n",
      "Epoch [27], Batch [300/313], Loss: 1.0439\n",
      "Train set: Epoch: 27, Average loss:1.7275, LR: 0.001000 Top-1 Accuracy: 61.2600%, Top-5 Accuracy: 86.5025%, Time consumed:82.26s\n",
      "Val set: Epoch: 27, Average loss:1.3857, Top-1 Accuracy: 61.7300%, Top-5 Accuracy: 88.2500%, Time consumed:16.38s\n",
      "\n",
      "New best top-1 accuracy: 61.73%, top-5 accuracy: 88.25%\n",
      "New best top-5 accuracy: 88.25%\n",
      "Validation loss decreased (1.469136 --> 1.385745). Saving model ...\n"
     ]
    },
    {
     "name": "stderr",
     "output_type": "stream",
     "text": [
      " 27%|████████████████████████▊                                                                   | 27/100 [43:24<1:57:45, 96.79s/it]"
     ]
    },
    {
     "name": "stdout",
     "output_type": "stream",
     "text": [
      "Epoch [28], Batch [50/313], Loss: 2.7314\n",
      "Epoch [28], Batch [100/313], Loss: 0.8412\n",
      "Epoch [28], Batch [150/313], Loss: 0.9127\n",
      "Epoch [28], Batch [200/313], Loss: 1.0492\n",
      "Epoch [28], Batch [250/313], Loss: 2.6377\n",
      "Epoch [28], Batch [300/313], Loss: 3.1882\n",
      "Train set: Epoch: 28, Average loss:1.8345, LR: 0.001000 Top-1 Accuracy: 59.2900%, Top-5 Accuracy: 84.4350%, Time consumed:79.42s\n"
     ]
    },
    {
     "name": "stderr",
     "output_type": "stream",
     "text": [
      " 28%|█████████████████████████▊                                                                  | 28/100 [45:01<1:56:02, 96.70s/it]"
     ]
    },
    {
     "name": "stdout",
     "output_type": "stream",
     "text": [
      "Val set: Epoch: 28, Average loss:1.4396, Top-1 Accuracy: 61.2400%, Top-5 Accuracy: 87.3200%, Time consumed:17.05s\n",
      "\n",
      "EarlyStopping 카운터: 1 / 10\n",
      "Epoch [29], Batch [50/313], Loss: 1.0568\n",
      "Epoch [29], Batch [100/313], Loss: 1.1080\n",
      "Epoch [29], Batch [150/313], Loss: 1.1125\n",
      "Epoch [29], Batch [200/313], Loss: 3.3594\n",
      "Epoch [29], Batch [250/313], Loss: 1.6866\n",
      "Epoch [29], Batch [300/313], Loss: 1.9689\n",
      "Train set: Epoch: 29, Average loss:1.7346, LR: 0.001000 Top-1 Accuracy: 61.1075%, Top-5 Accuracy: 86.0650%, Time consumed:78.93s\n",
      "Val set: Epoch: 29, Average loss:1.3997, Top-1 Accuracy: 62.0900%, Top-5 Accuracy: 87.7200%, Time consumed:16.73s\n",
      "\n",
      "New best top-1 accuracy: 62.09%, top-5 accuracy: 87.72%\n"
     ]
    },
    {
     "name": "stderr",
     "output_type": "stream",
     "text": [
      " 29%|██████████████████████████▋                                                                 | 29/100 [46:37<1:54:08, 96.46s/it]"
     ]
    },
    {
     "name": "stdout",
     "output_type": "stream",
     "text": [
      "EarlyStopping 카운터: 2 / 10\n",
      "Epoch [30], Batch [50/313], Loss: 1.0360\n",
      "Epoch [30], Batch [100/313], Loss: 2.0410\n",
      "Epoch [30], Batch [150/313], Loss: 3.0238\n",
      "Epoch [30], Batch [200/313], Loss: 0.8483\n",
      "Epoch [30], Batch [250/313], Loss: 1.6234\n",
      "Epoch [30], Batch [300/313], Loss: 1.1005\n",
      "Train set: Epoch: 30, Average loss:1.7439, LR: 0.001000 Top-1 Accuracy: 61.6025%, Top-5 Accuracy: 86.4250%, Time consumed:78.44s\n",
      "Val set: Epoch: 30, Average loss:1.3991, Top-1 Accuracy: 62.2300%, Top-5 Accuracy: 87.9000%, Time consumed:16.98s\n",
      "\n",
      "New best top-1 accuracy: 62.23%, top-5 accuracy: 87.90%\n"
     ]
    },
    {
     "name": "stderr",
     "output_type": "stream",
     "text": [
      " 30%|███████████████████████████▌                                                                | 30/100 [48:12<1:52:16, 96.23s/it]"
     ]
    },
    {
     "name": "stdout",
     "output_type": "stream",
     "text": [
      "EarlyStopping 카운터: 3 / 10\n",
      "Epoch [31], Batch [50/313], Loss: 2.7992\n",
      "Epoch [31], Batch [100/313], Loss: 0.7123\n",
      "Epoch [31], Batch [150/313], Loss: 3.2406\n",
      "Epoch [31], Batch [200/313], Loss: 2.7169\n",
      "Epoch [31], Batch [250/313], Loss: 0.8607\n",
      "Epoch [31], Batch [300/313], Loss: 1.0314\n",
      "Train set: Epoch: 31, Average loss:1.7422, LR: 0.001000 Top-1 Accuracy: 61.9700%, Top-5 Accuracy: 86.2975%, Time consumed:81.35s\n",
      "Val set: Epoch: 31, Average loss:1.3738, Top-1 Accuracy: 62.9000%, Top-5 Accuracy: 88.1400%, Time consumed:16.05s\n",
      "\n",
      "New best top-1 accuracy: 62.90%, top-5 accuracy: 88.14%\n",
      "Validation loss decreased (1.385745 --> 1.373848). Saving model ...\n"
     ]
    },
    {
     "name": "stderr",
     "output_type": "stream",
     "text": [
      " 31%|████████████████████████████▌                                                               | 31/100 [49:50<1:51:15, 96.75s/it]"
     ]
    },
    {
     "name": "stdout",
     "output_type": "stream",
     "text": [
      "Epoch [32], Batch [50/313], Loss: 0.7896\n",
      "Epoch [32], Batch [100/313], Loss: 1.0599\n",
      "Epoch [32], Batch [150/313], Loss: 0.8138\n",
      "Epoch [32], Batch [200/313], Loss: 1.8755\n",
      "Epoch [32], Batch [250/313], Loss: 3.1896\n",
      "Epoch [32], Batch [300/313], Loss: 0.7881\n",
      "Train set: Epoch: 32, Average loss:1.7485, LR: 0.001000 Top-1 Accuracy: 62.5075%, Top-5 Accuracy: 86.2775%, Time consumed:79.14s\n"
     ]
    },
    {
     "name": "stderr",
     "output_type": "stream",
     "text": [
      " 32%|█████████████████████████████▍                                                              | 32/100 [51:26<1:49:13, 96.37s/it]"
     ]
    },
    {
     "name": "stdout",
     "output_type": "stream",
     "text": [
      "Val set: Epoch: 32, Average loss:1.6987, Top-1 Accuracy: 59.9500%, Top-5 Accuracy: 86.1700%, Time consumed:16.34s\n",
      "\n",
      "EarlyStopping 카운터: 1 / 10\n",
      "Epoch [33], Batch [50/313], Loss: 1.1039\n",
      "Epoch [33], Batch [100/313], Loss: 0.6869\n",
      "Epoch [33], Batch [150/313], Loss: 0.6249\n",
      "Epoch [33], Batch [200/313], Loss: 0.6912\n",
      "Epoch [33], Batch [250/313], Loss: 2.8323\n",
      "Epoch [33], Batch [300/313], Loss: 2.7622\n",
      "Train set: Epoch: 33, Average loss:1.6543, LR: 0.001000 Top-1 Accuracy: 64.3675%, Top-5 Accuracy: 87.7325%, Time consumed:79.05s\n",
      "Val set: Epoch: 33, Average loss:1.3388, Top-1 Accuracy: 63.7700%, Top-5 Accuracy: 88.6000%, Time consumed:15.87s\n",
      "\n",
      "New best top-1 accuracy: 63.77%, top-5 accuracy: 88.60%\n",
      "New best top-5 accuracy: 88.60%\n",
      "Validation loss decreased (1.373848 --> 1.338844). Saving model ...\n"
     ]
    },
    {
     "name": "stderr",
     "output_type": "stream",
     "text": [
      " 33%|██████████████████████████████▎                                                             | 33/100 [53:01<1:47:18, 96.10s/it]"
     ]
    },
    {
     "name": "stdout",
     "output_type": "stream",
     "text": [
      "Epoch [34], Batch [50/313], Loss: 3.0938\n",
      "Epoch [34], Batch [100/313], Loss: 0.7499\n",
      "Epoch [34], Batch [150/313], Loss: 0.8014\n",
      "Epoch [34], Batch [200/313], Loss: 2.9695\n",
      "Epoch [34], Batch [250/313], Loss: 2.8697\n",
      "Epoch [34], Batch [300/313], Loss: 0.9276\n",
      "Train set: Epoch: 34, Average loss:1.5846, LR: 0.001000 Top-1 Accuracy: 64.9125%, Top-5 Accuracy: 87.6900%, Time consumed:79.04s\n"
     ]
    },
    {
     "name": "stderr",
     "output_type": "stream",
     "text": [
      " 34%|███████████████████████████████▎                                                            | 34/100 [54:36<1:45:21, 95.78s/it]"
     ]
    },
    {
     "name": "stdout",
     "output_type": "stream",
     "text": [
      "Val set: Epoch: 34, Average loss:1.3554, Top-1 Accuracy: 63.6800%, Top-5 Accuracy: 88.2400%, Time consumed:15.97s\n",
      "\n",
      "EarlyStopping 카운터: 1 / 10\n",
      "Epoch [35], Batch [50/313], Loss: 2.7882\n",
      "Epoch [35], Batch [100/313], Loss: 1.8565\n",
      "Epoch [35], Batch [150/313], Loss: 0.5801\n",
      "Epoch [35], Batch [200/313], Loss: 0.8123\n",
      "Epoch [35], Batch [250/313], Loss: 0.9111\n",
      "Epoch [35], Batch [300/313], Loss: 0.7420\n",
      "Train set: Epoch: 35, Average loss:1.5290, LR: 0.001000 Top-1 Accuracy: 66.2425%, Top-5 Accuracy: 88.7325%, Time consumed:79.45s\n",
      "Val set: Epoch: 35, Average loss:1.3166, Top-1 Accuracy: 63.9300%, Top-5 Accuracy: 88.8400%, Time consumed:15.86s\n",
      "\n",
      "New best top-1 accuracy: 63.93%, top-5 accuracy: 88.84%\n",
      "New best top-5 accuracy: 88.84%\n",
      "Validation loss decreased (1.338844 --> 1.316626). Saving model ...\n"
     ]
    },
    {
     "name": "stderr",
     "output_type": "stream",
     "text": [
      " 35%|████████████████████████████████▏                                                           | 35/100 [56:12<1:43:46, 95.79s/it]"
     ]
    },
    {
     "name": "stdout",
     "output_type": "stream",
     "text": [
      "Epoch [36], Batch [50/313], Loss: 2.6400\n",
      "Epoch [36], Batch [100/313], Loss: 3.0253\n",
      "Epoch [36], Batch [150/313], Loss: 0.5295\n",
      "Epoch [36], Batch [200/313], Loss: 0.5319\n",
      "Epoch [36], Batch [250/313], Loss: 2.9213\n",
      "Epoch [36], Batch [300/313], Loss: 0.8149\n",
      "Train set: Epoch: 36, Average loss:1.5146, LR: 0.001000 Top-1 Accuracy: 67.2100%, Top-5 Accuracy: 89.4600%, Time consumed:79.53s\n"
     ]
    },
    {
     "name": "stderr",
     "output_type": "stream",
     "text": [
      " 36%|█████████████████████████████████                                                           | 36/100 [57:49<1:42:25, 96.02s/it]"
     ]
    },
    {
     "name": "stdout",
     "output_type": "stream",
     "text": [
      "Val set: Epoch: 36, Average loss:1.3363, Top-1 Accuracy: 63.2500%, Top-5 Accuracy: 88.9400%, Time consumed:17.00s\n",
      "\n",
      "New best top-5 accuracy: 88.94%\n",
      "EarlyStopping 카운터: 1 / 10\n",
      "Epoch [37], Batch [50/313], Loss: 3.0525\n",
      "Epoch [37], Batch [100/313], Loss: 0.5273\n",
      "Epoch [37], Batch [150/313], Loss: 0.6374\n",
      "Epoch [37], Batch [200/313], Loss: 0.7628\n",
      "Epoch [37], Batch [250/313], Loss: 0.7114\n",
      "Epoch [37], Batch [300/313], Loss: 0.8092\n",
      "Train set: Epoch: 37, Average loss:1.5147, LR: 0.001000 Top-1 Accuracy: 67.8900%, Top-5 Accuracy: 89.7600%, Time consumed:80.51s\n",
      "Val set: Epoch: 37, Average loss:1.2969, Top-1 Accuracy: 64.6300%, Top-5 Accuracy: 89.4200%, Time consumed:17.30s\n",
      "\n",
      "New best top-1 accuracy: 64.63%, top-5 accuracy: 89.42%\n",
      "New best top-5 accuracy: 89.42%\n",
      "Validation loss decreased (1.316626 --> 1.296896). Saving model ...\n"
     ]
    },
    {
     "name": "stderr",
     "output_type": "stream",
     "text": [
      " 37%|██████████████████████████████████                                                          | 37/100 [59:27<1:41:32, 96.71s/it]"
     ]
    },
    {
     "name": "stdout",
     "output_type": "stream",
     "text": [
      "Epoch [38], Batch [50/313], Loss: 0.5242\n",
      "Epoch [38], Batch [100/313], Loss: 0.5800\n",
      "Epoch [38], Batch [150/313], Loss: 0.6398\n",
      "Epoch [38], Batch [200/313], Loss: 2.7311\n",
      "Epoch [38], Batch [250/313], Loss: 0.6122\n",
      "Epoch [38], Batch [300/313], Loss: 0.5352\n",
      "Train set: Epoch: 38, Average loss:1.5276, LR: 0.001000 Top-1 Accuracy: 67.6000%, Top-5 Accuracy: 89.3775%, Time consumed:79.70s\n"
     ]
    },
    {
     "name": "stderr",
     "output_type": "stream",
     "text": [
      " 38%|██████████████████████████████████▏                                                       | 38/100 [1:01:05<1:40:13, 96.98s/it]"
     ]
    },
    {
     "name": "stdout",
     "output_type": "stream",
     "text": [
      "Val set: Epoch: 38, Average loss:1.3355, Top-1 Accuracy: 64.5700%, Top-5 Accuracy: 88.8700%, Time consumed:17.90s\n",
      "\n",
      "EarlyStopping 카운터: 1 / 10\n",
      "Epoch [39], Batch [50/313], Loss: 0.5270\n",
      "Epoch [39], Batch [100/313], Loss: 0.6450\n",
      "Epoch [39], Batch [150/313], Loss: 2.5351\n",
      "Epoch [39], Batch [200/313], Loss: 0.6745\n",
      "Epoch [39], Batch [250/313], Loss: 2.8512\n",
      "Epoch [39], Batch [300/313], Loss: 2.5317\n",
      "Train set: Epoch: 39, Average loss:1.4525, LR: 0.001000 Top-1 Accuracy: 69.6825%, Top-5 Accuracy: 90.6200%, Time consumed:80.02s\n",
      "Val set: Epoch: 39, Average loss:1.2729, Top-1 Accuracy: 65.3800%, Top-5 Accuracy: 89.2800%, Time consumed:16.95s\n",
      "\n",
      "New best top-1 accuracy: 65.38%, top-5 accuracy: 89.28%\n",
      "Validation loss decreased (1.296896 --> 1.272919). Saving model ...\n"
     ]
    },
    {
     "name": "stderr",
     "output_type": "stream",
     "text": [
      " 39%|███████████████████████████████████                                                       | 39/100 [1:02:42<1:38:47, 97.17s/it]"
     ]
    },
    {
     "name": "stdout",
     "output_type": "stream",
     "text": [
      "Epoch [40], Batch [50/313], Loss: 0.5386\n",
      "Epoch [40], Batch [100/313], Loss: 0.4435\n",
      "Epoch [40], Batch [150/313], Loss: 2.4392\n",
      "Epoch [40], Batch [200/313], Loss: 2.5502\n",
      "Epoch [40], Batch [250/313], Loss: 2.0338\n",
      "Epoch [40], Batch [300/313], Loss: 2.6546\n",
      "Train set: Epoch: 40, Average loss:1.3780, LR: 0.001000 Top-1 Accuracy: 70.7050%, Top-5 Accuracy: 90.9000%, Time consumed:79.62s\n"
     ]
    },
    {
     "name": "stderr",
     "output_type": "stream",
     "text": [
      " 40%|████████████████████████████████████                                                      | 40/100 [1:04:19<1:36:53, 96.89s/it]"
     ]
    },
    {
     "name": "stdout",
     "output_type": "stream",
     "text": [
      "Val set: Epoch: 40, Average loss:1.2885, Top-1 Accuracy: 65.1700%, Top-5 Accuracy: 88.8000%, Time consumed:16.63s\n",
      "\n",
      "EarlyStopping 카운터: 1 / 10\n",
      "Epoch [41], Batch [50/313], Loss: 0.4448\n",
      "Epoch [41], Batch [100/313], Loss: 2.7785\n",
      "Epoch [41], Batch [150/313], Loss: 3.0055\n",
      "Epoch [41], Batch [200/313], Loss: 1.1711\n",
      "Epoch [41], Batch [250/313], Loss: 2.9457\n",
      "Epoch [41], Batch [300/313], Loss: 3.1573\n",
      "Train set: Epoch: 41, Average loss:1.5300, LR: 0.001000 Top-1 Accuracy: 68.7900%, Top-5 Accuracy: 90.0075%, Time consumed:78.39s\n"
     ]
    },
    {
     "name": "stderr",
     "output_type": "stream",
     "text": [
      " 41%|████████████████████████████████████▉                                                     | 41/100 [1:05:53<1:34:31, 96.13s/it]"
     ]
    },
    {
     "name": "stdout",
     "output_type": "stream",
     "text": [
      "Val set: Epoch: 41, Average loss:1.4086, Top-1 Accuracy: 65.2400%, Top-5 Accuracy: 88.3300%, Time consumed:15.95s\n",
      "\n",
      "EarlyStopping 카운터: 2 / 10\n",
      "Epoch [42], Batch [50/313], Loss: 0.4544\n",
      "Epoch [42], Batch [100/313], Loss: 1.7858\n",
      "Epoch [42], Batch [150/313], Loss: 0.9169\n",
      "Epoch [42], Batch [200/313], Loss: 2.9112\n",
      "Epoch [42], Batch [250/313], Loss: 3.1280\n",
      "Epoch [42], Batch [300/313], Loss: 0.6295\n",
      "Train set: Epoch: 42, Average loss:1.4516, LR: 0.001000 Top-1 Accuracy: 70.1200%, Top-5 Accuracy: 90.3775%, Time consumed:83.64s\n"
     ]
    },
    {
     "name": "stderr",
     "output_type": "stream",
     "text": [
      " 42%|█████████████████████████████████████▊                                                    | 42/100 [1:07:34<1:34:19, 97.57s/it]"
     ]
    },
    {
     "name": "stdout",
     "output_type": "stream",
     "text": [
      "Val set: Epoch: 42, Average loss:1.3617, Top-1 Accuracy: 64.8000%, Top-5 Accuracy: 88.0600%, Time consumed:17.30s\n",
      "\n",
      "EarlyStopping 카운터: 3 / 10\n",
      "Epoch [43], Batch [50/313], Loss: 2.7364\n",
      "Epoch [43], Batch [100/313], Loss: 1.2596\n",
      "Epoch [43], Batch [150/313], Loss: 0.4329\n",
      "Epoch [43], Batch [200/313], Loss: 1.0151\n",
      "Epoch [43], Batch [250/313], Loss: 0.5857\n",
      "Epoch [43], Batch [300/313], Loss: 2.2805\n",
      "Train set: Epoch: 43, Average loss:1.4066, LR: 0.001000 Top-1 Accuracy: 71.7150%, Top-5 Accuracy: 91.3375%, Time consumed:79.08s\n",
      "Val set: Epoch: 43, Average loss:1.2840, Top-1 Accuracy: 65.5800%, Top-5 Accuracy: 89.1600%, Time consumed:15.95s\n",
      "\n",
      "New best top-1 accuracy: 65.58%, top-5 accuracy: 89.16%\n"
     ]
    },
    {
     "name": "stderr",
     "output_type": "stream",
     "text": [
      " 43%|██████████████████████████████████████▋                                                   | 43/100 [1:09:09<1:32:04, 96.91s/it]"
     ]
    },
    {
     "name": "stdout",
     "output_type": "stream",
     "text": [
      "EarlyStopping 카운터: 4 / 10\n",
      "Epoch [44], Batch [50/313], Loss: 0.4648\n",
      "Epoch [44], Batch [100/313], Loss: 0.6490\n",
      "Epoch [44], Batch [150/313], Loss: 0.4434\n",
      "Epoch [44], Batch [200/313], Loss: 0.6421\n",
      "Epoch [44], Batch [250/313], Loss: 0.5976\n",
      "Epoch [44], Batch [300/313], Loss: 2.4274\n",
      "Train set: Epoch: 44, Average loss:1.4368, LR: 0.001000 Top-1 Accuracy: 70.8875%, Top-5 Accuracy: 90.5600%, Time consumed:78.58s\n"
     ]
    },
    {
     "name": "stderr",
     "output_type": "stream",
     "text": [
      " 44%|███████████████████████████████████████▌                                                  | 44/100 [1:10:45<1:30:00, 96.44s/it]"
     ]
    },
    {
     "name": "stdout",
     "output_type": "stream",
     "text": [
      "Val set: Epoch: 44, Average loss:1.2811, Top-1 Accuracy: 65.5500%, Top-5 Accuracy: 89.1400%, Time consumed:16.75s\n",
      "\n",
      "EarlyStopping 카운터: 5 / 10\n",
      "Epoch [45], Batch [50/313], Loss: 0.5565\n",
      "Epoch [45], Batch [100/313], Loss: 2.9169\n",
      "Epoch [45], Batch [150/313], Loss: 3.1281\n",
      "Epoch [45], Batch [200/313], Loss: 3.1012\n",
      "Epoch [45], Batch [250/313], Loss: 1.1833\n",
      "Epoch [45], Batch [300/313], Loss: 1.4758\n",
      "Train set: Epoch: 45, Average loss:1.3991, LR: 0.001000 Top-1 Accuracy: 70.3925%, Top-5 Accuracy: 89.9025%, Time consumed:81.33s\n",
      "Val set: Epoch: 45, Average loss:1.2704, Top-1 Accuracy: 66.1600%, Top-5 Accuracy: 89.1800%, Time consumed:18.23s\n",
      "\n",
      "New best top-1 accuracy: 66.16%, top-5 accuracy: 89.18%\n",
      "Validation loss decreased (1.272919 --> 1.270391). Saving model ...\n"
     ]
    },
    {
     "name": "stderr",
     "output_type": "stream",
     "text": [
      " 45%|████████████████████████████████████████▌                                                 | 45/100 [1:12:25<1:29:24, 97.53s/it]"
     ]
    },
    {
     "name": "stdout",
     "output_type": "stream",
     "text": [
      "Epoch [46], Batch [50/313], Loss: 2.3219\n",
      "Epoch [46], Batch [100/313], Loss: 3.0177\n",
      "Epoch [46], Batch [150/313], Loss: 1.2615\n",
      "Epoch [46], Batch [200/313], Loss: 3.0475\n",
      "Epoch [46], Batch [250/313], Loss: 2.7959\n",
      "Epoch [46], Batch [300/313], Loss: 0.4760\n",
      "Train set: Epoch: 46, Average loss:1.4130, LR: 0.001000 Top-1 Accuracy: 71.1750%, Top-5 Accuracy: 90.9400%, Time consumed:78.51s\n"
     ]
    },
    {
     "name": "stderr",
     "output_type": "stream",
     "text": [
      " 46%|█████████████████████████████████████████▍                                                | 46/100 [1:13:59<1:26:58, 96.65s/it]"
     ]
    },
    {
     "name": "stdout",
     "output_type": "stream",
     "text": [
      "Val set: Epoch: 46, Average loss:1.3005, Top-1 Accuracy: 65.4400%, Top-5 Accuracy: 89.1200%, Time consumed:16.06s\n",
      "\n",
      "EarlyStopping 카운터: 1 / 10\n",
      "Epoch [47], Batch [50/313], Loss: 0.4577\n",
      "Epoch [47], Batch [100/313], Loss: 2.7628\n",
      "Epoch [47], Batch [150/313], Loss: 2.8355\n",
      "Epoch [47], Batch [200/313], Loss: 0.5009\n",
      "Epoch [47], Batch [250/313], Loss: 3.1002\n",
      "Epoch [47], Batch [300/313], Loss: 0.5828\n",
      "Train set: Epoch: 47, Average loss:1.3579, LR: 0.001000 Top-1 Accuracy: 71.5275%, Top-5 Accuracy: 90.7500%, Time consumed:78.91s\n"
     ]
    },
    {
     "name": "stderr",
     "output_type": "stream",
     "text": [
      " 47%|██████████████████████████████████████████▎                                               | 47/100 [1:15:35<1:25:07, 96.38s/it]"
     ]
    },
    {
     "name": "stdout",
     "output_type": "stream",
     "text": [
      "Val set: Epoch: 47, Average loss:1.4058, Top-1 Accuracy: 63.7900%, Top-5 Accuracy: 88.0400%, Time consumed:16.83s\n",
      "\n",
      "EarlyStopping 카운터: 2 / 10\n",
      "Epoch [48], Batch [50/313], Loss: 2.4021\n",
      "Epoch [48], Batch [100/313], Loss: 0.4775\n",
      "Epoch [48], Batch [150/313], Loss: 2.8199\n",
      "Epoch [48], Batch [200/313], Loss: 2.6063\n",
      "Epoch [48], Batch [250/313], Loss: 0.3535\n",
      "Epoch [48], Batch [300/313], Loss: 2.1706\n",
      "Train set: Epoch: 48, Average loss:1.3988, LR: 0.001000 Top-1 Accuracy: 72.1400%, Top-5 Accuracy: 91.1175%, Time consumed:78.98s\n",
      "Val set: Epoch: 48, Average loss:1.3801, Top-1 Accuracy: 66.4000%, Top-5 Accuracy: 89.5400%, Time consumed:16.89s\n",
      "\n",
      "New best top-1 accuracy: 66.40%, top-5 accuracy: 89.54%\n"
     ]
    },
    {
     "name": "stderr",
     "output_type": "stream",
     "text": [
      " 48%|███████████████████████████████████████████▏                                              | 48/100 [1:17:11<1:23:27, 96.30s/it]"
     ]
    },
    {
     "name": "stdout",
     "output_type": "stream",
     "text": [
      "New best top-5 accuracy: 89.54%\n",
      "EarlyStopping 카운터: 3 / 10\n",
      "Epoch [49], Batch [50/313], Loss: 0.2595\n",
      "Epoch [49], Batch [100/313], Loss: 0.3699\n",
      "Epoch [49], Batch [150/313], Loss: 2.8288\n",
      "Epoch [49], Batch [200/313], Loss: 2.3040\n",
      "Epoch [49], Batch [250/313], Loss: 2.1031\n",
      "Epoch [49], Batch [300/313], Loss: 2.7502\n",
      "Train set: Epoch: 49, Average loss:1.2870, LR: 0.001000 Top-1 Accuracy: 73.7075%, Top-5 Accuracy: 91.6225%, Time consumed:79.25s\n",
      "Val set: Epoch: 49, Average loss:1.2894, Top-1 Accuracy: 66.7000%, Top-5 Accuracy: 89.6300%, Time consumed:15.93s\n",
      "\n",
      "New best top-1 accuracy: 66.70%, top-5 accuracy: 89.63%\n"
     ]
    },
    {
     "name": "stderr",
     "output_type": "stream",
     "text": [
      " 49%|████████████████████████████████████████████                                              | 49/100 [1:18:47<1:21:38, 96.05s/it]"
     ]
    },
    {
     "name": "stdout",
     "output_type": "stream",
     "text": [
      "New best top-5 accuracy: 89.63%\n",
      "EarlyStopping 카운터: 4 / 10\n",
      "Epoch [50], Batch [50/313], Loss: 2.4402\n",
      "Epoch [50], Batch [100/313], Loss: 0.5021\n",
      "Epoch [50], Batch [150/313], Loss: 2.0403\n",
      "Epoch [50], Batch [200/313], Loss: 0.3744\n",
      "Epoch [50], Batch [250/313], Loss: 0.6524\n",
      "Epoch [50], Batch [300/313], Loss: 0.5187\n",
      "Train set: Epoch: 50, Average loss:1.3539, LR: 0.001000 Top-1 Accuracy: 72.8150%, Top-5 Accuracy: 91.3800%, Time consumed:80.79s\n"
     ]
    },
    {
     "name": "stderr",
     "output_type": "stream",
     "text": [
      " 50%|█████████████████████████████████████████████                                             | 50/100 [1:20:23<1:20:12, 96.25s/it]"
     ]
    },
    {
     "name": "stdout",
     "output_type": "stream",
     "text": [
      "Val set: Epoch: 50, Average loss:1.3436, Top-1 Accuracy: 64.6400%, Top-5 Accuracy: 88.4600%, Time consumed:15.91s\n",
      "\n",
      "EarlyStopping 카운터: 5 / 10\n",
      "Epoch [51], Batch [50/313], Loss: 1.6923\n",
      "Epoch [51], Batch [100/313], Loss: 2.4128\n",
      "Epoch [51], Batch [150/313], Loss: 0.3367\n",
      "Epoch [51], Batch [200/313], Loss: 0.3930\n",
      "Epoch [51], Batch [250/313], Loss: 2.8357\n",
      "Epoch [51], Batch [300/313], Loss: 2.8658\n",
      "Train set: Epoch: 51, Average loss:1.3011, LR: 0.001000 Top-1 Accuracy: 74.0200%, Top-5 Accuracy: 92.3425%, Time consumed:79.60s\n"
     ]
    },
    {
     "name": "stderr",
     "output_type": "stream",
     "text": [
      " 51%|█████████████████████████████████████████████▉                                            | 51/100 [1:21:59<1:18:28, 96.09s/it]"
     ]
    },
    {
     "name": "stdout",
     "output_type": "stream",
     "text": [
      "Val set: Epoch: 51, Average loss:1.2891, Top-1 Accuracy: 65.8300%, Top-5 Accuracy: 89.2300%, Time consumed:16.11s\n",
      "\n",
      "EarlyStopping 카운터: 6 / 10\n",
      "Epoch [52], Batch [50/313], Loss: 0.3012\n",
      "Epoch [52], Batch [100/313], Loss: 2.4501\n",
      "Epoch [52], Batch [150/313], Loss: 0.3696\n",
      "Epoch [52], Batch [200/313], Loss: 2.4830\n",
      "Epoch [52], Batch [250/313], Loss: 2.5135\n",
      "Epoch [52], Batch [300/313], Loss: 0.6013\n",
      "Train set: Epoch: 52, Average loss:1.1489, LR: 0.001000 Top-1 Accuracy: 76.5025%, Top-5 Accuracy: 92.9650%, Time consumed:79.93s\n"
     ]
    },
    {
     "name": "stderr",
     "output_type": "stream",
     "text": [
      " 52%|██████████████████████████████████████████████▊                                           | 52/100 [1:23:35<1:16:54, 96.14s/it]"
     ]
    },
    {
     "name": "stdout",
     "output_type": "stream",
     "text": [
      "Val set: Epoch: 52, Average loss:1.5294, Top-1 Accuracy: 60.3000%, Top-5 Accuracy: 85.8000%, Time consumed:16.31s\n",
      "\n",
      "EarlyStopping 카운터: 7 / 10\n",
      "Epoch [53], Batch [50/313], Loss: 0.5886\n",
      "Epoch [53], Batch [100/313], Loss: 1.7657\n",
      "Epoch [53], Batch [150/313], Loss: 2.4762\n",
      "Epoch [53], Batch [200/313], Loss: 0.3150\n",
      "Epoch [53], Batch [250/313], Loss: 1.6723\n",
      "Epoch [53], Batch [300/313], Loss: 1.4782\n",
      "Train set: Epoch: 53, Average loss:1.3949, LR: 0.001000 Top-1 Accuracy: 73.3250%, Top-5 Accuracy: 91.6650%, Time consumed:79.23s\n"
     ]
    },
    {
     "name": "stderr",
     "output_type": "stream",
     "text": [
      " 53%|███████████████████████████████████████████████▋                                          | 53/100 [1:25:11<1:15:14, 96.06s/it]"
     ]
    },
    {
     "name": "stdout",
     "output_type": "stream",
     "text": [
      "Val set: Epoch: 53, Average loss:1.2919, Top-1 Accuracy: 66.4400%, Top-5 Accuracy: 88.9700%, Time consumed:16.63s\n",
      "\n",
      "EarlyStopping 카운터: 8 / 10\n",
      "Epoch [54], Batch [50/313], Loss: 1.6470\n",
      "Epoch [54], Batch [100/313], Loss: 2.5974\n",
      "Epoch [54], Batch [150/313], Loss: 0.3805\n",
      "Epoch [54], Batch [200/313], Loss: 0.2925\n",
      "Epoch [54], Batch [250/313], Loss: 2.2209\n",
      "Epoch [54], Batch [300/313], Loss: 0.2714\n",
      "Train set: Epoch: 54, Average loss:1.2125, LR: 0.001000 Top-1 Accuracy: 76.5325%, Top-5 Accuracy: 93.1975%, Time consumed:79.48s\n",
      "Val set: Epoch: 54, Average loss:1.2749, Top-1 Accuracy: 66.8300%, Top-5 Accuracy: 89.2100%, Time consumed:16.00s\n",
      "\n",
      "New best top-1 accuracy: 66.83%, top-5 accuracy: 89.21%\n"
     ]
    },
    {
     "name": "stderr",
     "output_type": "stream",
     "text": [
      " 54%|████████████████████████████████████████████████▌                                         | 54/100 [1:26:47<1:13:34, 95.96s/it]"
     ]
    },
    {
     "name": "stdout",
     "output_type": "stream",
     "text": [
      "EarlyStopping 카운터: 9 / 10\n",
      "Epoch [55], Batch [50/313], Loss: 2.2690\n",
      "Epoch [55], Batch [100/313], Loss: 0.1985\n",
      "Epoch [55], Batch [150/313], Loss: 1.1165\n",
      "Epoch [55], Batch [200/313], Loss: 0.2798\n",
      "Epoch [55], Batch [250/313], Loss: 2.3774\n",
      "Epoch [55], Batch [300/313], Loss: 1.8929\n",
      "Train set: Epoch: 55, Average loss:1.1302, LR: 0.001000 Top-1 Accuracy: 78.1950%, Top-5 Accuracy: 93.6050%, Time consumed:82.05s\n",
      "Val set: Epoch: 55, Average loss:1.3073, Top-1 Accuracy: 66.9900%, Top-5 Accuracy: 89.2400%, Time consumed:16.05s\n",
      "\n",
      "New best top-1 accuracy: 66.99%, top-5 accuracy: 89.24%\n"
     ]
    },
    {
     "name": "stderr",
     "output_type": "stream",
     "text": [
      " 54%|████████████████████████████████████████████████▌                                         | 54/100 [1:28:25<1:15:19, 98.25s/it]"
     ]
    },
    {
     "name": "stdout",
     "output_type": "stream",
     "text": [
      "EarlyStopping 카운터: 10 / 10\n",
      "Early stopping triggered. Training stopped.\n",
      "Loading best model from early stopping checkpoint...\n"
     ]
    },
    {
     "name": "stderr",
     "output_type": "stream",
     "text": [
      "\n"
     ]
    },
    {
     "name": "stdout",
     "output_type": "stream",
     "text": [
      "Test set: Epoch: 100, Average loss:1.2770, Top-1 Accuracy: 69.0000%, Top-5 Accuracy: 90.4600%, Time consumed:16.17s\n",
      "\n",
      "Finish! Best validation top-1 accuracy: 66.99%, Best validation top-5 accuracy: 89.63%\n",
      "Final test top-1 accuracy: 69.00%, Final test top-5 accuracy: 90.46%\n",
      "Total training time: 5321.85 seconds\n"
     ]
    },
    {
     "data": {
      "text/html": [],
      "text/plain": [
       "<IPython.core.display.HTML object>"
      ]
     },
     "metadata": {},
     "output_type": "display_data"
    },
    {
     "data": {
      "text/html": [
       "<br>    <style><br>        .wandb-row {<br>            display: flex;<br>            flex-direction: row;<br>            flex-wrap: wrap;<br>            justify-content: flex-start;<br>            width: 100%;<br>        }<br>        .wandb-col {<br>            display: flex;<br>            flex-direction: column;<br>            flex-basis: 100%;<br>            flex: 1;<br>            padding: 10px;<br>        }<br>    </style><br><div class=\"wandb-row\"><div class=\"wandb-col\"><h3>Run history:</h3><br/><table class=\"wandb\"><tr><td>epoch</td><td>▁▁▁▁▂▂▂▂▃▃▃▃▃▃▄▄▄▄▅▅▅▅▅▆▆▆▆▆▆▆▇▇▇▇▇▇████</td></tr><tr><td>learning_rate</td><td>▁▁▁▁▁▁▁▁▁▁▁▁▁▁▁▁▁▁▁▁▁▁▁▁▁▁▁▁▁▁▁▁▁▁▁▁▁▁▁▁</td></tr><tr><td>test_accuracy_top1</td><td>▁</td></tr><tr><td>test_accuracy_top5</td><td>▁</td></tr><tr><td>test_loss</td><td>▁</td></tr><tr><td>total_training_time</td><td>▁</td></tr><tr><td>train_accuracy_top1</td><td>▁▁▂▂▃▄▄▄▄▅▅▅▅▅▅▆▆▆▆▆▆▆▆▇▇▇▇▇▇▇▇▇▇▇▇▇████</td></tr><tr><td>train_accuracy_top5</td><td>▁▂▃▄▄▅▅▅▆▆▆▆▆▆▆▇▇▇▇▇▇▇▇▇▇▇██████████████</td></tr><tr><td>train_loss</td><td>█▇▇▆▅▅▅▄▄▄▄▄▄▃▃▃▃▃▃▂▂▂▂▂▂▂▂▂▂▂▂▂▂▂▁▁▁▁▁▁</td></tr><tr><td>val_accuracy_top1</td><td>▁▂▂▃▄▅▅▅▅▆▆▆▆▆▇▇▇▇▇▇▇▇▇▇████████████████</td></tr><tr><td>val_accuracy_top5</td><td>▁▂▃▄▅▆▆▇▆▇▇▇▇▇█▇█▇██████████████████████</td></tr><tr><td>val_loss</td><td>█▅▇▅▆▃▃▃▃▃▅▂▂▂▂▂▂▂▂▁▁▁▁▁▁▁▁▁▁▁▁▁▁▁▁▁▁▁▁▁</td></tr></table><br/></div><div class=\"wandb-col\"><h3>Run summary:</h3><br/><table class=\"wandb\"><tr><td>best_val_accuracy_top1</td><td>66.99</td></tr><tr><td>best_val_accuracy_top5</td><td>89.63</td></tr><tr><td>early_stopped</td><td>True</td></tr><tr><td>early_stopped_epoch</td><td>55</td></tr><tr><td>epoch</td><td>55</td></tr><tr><td>learning_rate</td><td>0.001</td></tr><tr><td>test_accuracy_top1</td><td>69</td></tr><tr><td>test_accuracy_top5</td><td>90.46</td></tr><tr><td>test_loss</td><td>1.27703</td></tr><tr><td>total_training_time</td><td>5321.85356</td></tr><tr><td>train_accuracy_top1</td><td>78.195</td></tr><tr><td>train_accuracy_top5</td><td>93.605</td></tr><tr><td>train_loss</td><td>1.13019</td></tr><tr><td>val_accuracy_top1</td><td>66.99</td></tr><tr><td>val_accuracy_top5</td><td>89.24</td></tr><tr><td>val_loss</td><td>1.30729</td></tr></table><br/></div></div>"
      ],
      "text/plain": [
       "<IPython.core.display.HTML object>"
      ]
     },
     "metadata": {},
     "output_type": "display_data"
    },
    {
     "data": {
      "text/html": [
       " View run <strong style=\"color:#cdcd00\">resnet50_cutmix,flip,crop,affine</strong> at: <a href='https://wandb.ai/sokjh1310-hanyang-university/PBL-2/runs/s6uboiv6' target=\"_blank\">https://wandb.ai/sokjh1310-hanyang-university/PBL-2/runs/s6uboiv6</a><br> View project at: <a href='https://wandb.ai/sokjh1310-hanyang-university/PBL-2' target=\"_blank\">https://wandb.ai/sokjh1310-hanyang-university/PBL-2</a><br>Synced 5 W&B file(s), 0 media file(s), 0 artifact file(s) and 1 other file(s)"
      ],
      "text/plain": [
       "<IPython.core.display.HTML object>"
      ]
     },
     "metadata": {},
     "output_type": "display_data"
    },
    {
     "data": {
      "text/html": [
       "Find logs at: <code>./wandb/run-20250413_152212-s6uboiv6/logs</code>"
      ],
      "text/plain": [
       "<IPython.core.display.HTML object>"
      ]
     },
     "metadata": {},
     "output_type": "display_data"
    }
   ],
   "source": [
    "import torch\n",
    "import torch.nn as nn\n",
    "import torch.optim as optim\n",
    "from torch.utils.data import DataLoader, Subset\n",
    "import torchvision\n",
    "import torchvision.transforms as transforms\n",
    "import torchvision.transforms.v2 as transforms_v2  # CutMix를 위한 v2 transforms 추가\n",
    "import sys\n",
    "import os\n",
    "import torch\n",
    "import time\n",
    "import random\n",
    "import numpy as np\n",
    "import wandb\n",
    "from tqdm import tqdm\n",
    "from sklearn.model_selection import StratifiedShuffleSplit\n",
    "from tools.tool import EarlyStopping\n",
    "from models.resnet import resnet18, resnet34, resnet50\n",
    "\n",
    "wandb.login(key=\"ef091b9abcea3186341ddf8995d62bde62d7469e\")\n",
    "wandb.init(project=\"PBL-2\", name=\"shake_resnet50_cutmix,flip,crop,affine\")  # 데이터 증강 기법 추가 명시\n",
    "\n",
    "# WandB 설정\n",
    "config = {\n",
    "    \"model\": \"shake_resnet50\",\n",
    "    \"batch_size\": 128,\n",
    "    \"num_epochs\": 100,\n",
    "    \"learning_rate\": 0.001,\n",
    "    \"optimizer\": \"Adam\",\n",
    "    \"seed\": 2025,\n",
    "    \"deterministic\": False,\n",
    "    \"patience\": 10,  # early stopping patience\n",
    "    \"train_ratio\": 0.8,\n",
    "    \"val_ratio\": 0.2,\n",
    "    \"cutmix_alpha\": 1.0,  # CutMix 알파 파라미터 추가\n",
    "    \"cutmix_prob\": 0.5,   # CutMix 적용 확률 추가\n",
    "    \"crop_padding\": 4,    # RandomCrop 패딩 크기\n",
    "    \"crop_size\": 32,      # RandomCrop 크기 (CIFAR-100 이미지 크기는 32x32)\n",
    "    \"affine_degrees\": 10, # RandomAffine 회전 각도 범위\n",
    "    \"affine_translate\": (0.1, 0.1),  # RandomAffine 이동 범위 (가로, 세로)\n",
    "    \"affine_scale\": (0.9, 1.1),      # RandomAffine 확대/축소 범위\n",
    "    \"affine_shear\": 10                # RandomAffine 전단 범위\n",
    "}\n",
    "wandb.config.update(config)\n",
    "\n",
    "# CIFAR-100 데이터셋 로드\n",
    "# RandomCrop 변환 추가\n",
    "transform_train = transforms.Compose([\n",
    "    transforms.RandomCrop(config[\"crop_size\"], padding=config[\"crop_padding\"]),  # 패딩 후 랜덤 크롭\n",
    "    transforms.RandomHorizontalFlip(),  # 수평 뒤집기\n",
    "    transforms.RandomAffine(\n",
    "        degrees=config[\"affine_degrees\"],           # 회전 각도 범위 (-15도 ~ 15도)\n",
    "        translate=config[\"affine_translate\"],       # 이동 범위 (가로, 세로)\n",
    "        scale=config[\"affine_scale\"],               # 확대/축소 범위\n",
    "        shear=config[\"affine_shear\"]                # 전단 범위\n",
    "    ),\n",
    "    transforms.ToTensor(),\n",
    "    transforms.Normalize((0.5071, 0.4867, 0.4408), (0.2675, 0.2565, 0.2761)),\n",
    "])\n",
    "\n",
    "transform_test = transforms.Compose([\n",
    "    transforms.ToTensor(),\n",
    "    transforms.Normalize((0.5071, 0.4867, 0.4408), (0.2675, 0.2565, 0.2761)),\n",
    "])\n",
    "\n",
    "full_trainset = torchvision.datasets.CIFAR100(\n",
    "    root='./data', train=True, download=True, transform=transform_train)\n",
    "\n",
    "testset = torchvision.datasets.CIFAR100(\n",
    "    root='./data', train=False, download=True, transform=transform_test)\n",
    "\n",
    "# Stratified 분할을 위한 준비 (train, validation 나누기)\n",
    "# 모든 라벨을 추출\n",
    "targets = np.array(full_trainset.targets)\n",
    "\n",
    "# StratifiedShuffleSplit을 사용하여 8:2 비율로 분할\n",
    "# train과 validation을 나눔 (full_trainset에서 8:2)\n",
    "train_val_split = StratifiedShuffleSplit(n_splits=1, test_size=config[\"val_ratio\"], random_state=config[\"seed\"])\n",
    "train_idx, val_idx = next(train_val_split.split(np.zeros(len(targets)), targets))\n",
    "\n",
    "# Subset 생성\n",
    "trainset = Subset(full_trainset, train_idx)\n",
    "valset = Subset(full_trainset, val_idx)\n",
    "\n",
    "# DataLoader 생성\n",
    "trainloader = DataLoader(trainset, batch_size=config[\"batch_size\"], shuffle=True, num_workers=16)\n",
    "valloader = DataLoader(valset, batch_size=config[\"batch_size\"], shuffle=False, num_workers=16)\n",
    "testloader = DataLoader(testset, batch_size=config[\"batch_size\"], shuffle=False, num_workers=16)\n",
    "\n",
    "print(f\"Train set size: {len(trainset)}\")\n",
    "print(f\"Validation set size: {len(valset)}\")\n",
    "print(f\"Test set size: {len(testset)}\")\n",
    "\n",
    "# 추가: CutMix 변환 정의\n",
    "cutmix = transforms_v2.CutMix(alpha=config[\"cutmix_alpha\"], num_classes=100)  # CIFAR-100은 100개 클래스\n",
    "\n",
    "# CutMix용 손실 함수 정의 (원-핫 인코딩된 레이블 처리)\n",
    "def cutmix_criterion(outputs, targets):\n",
    "    \"\"\"\n",
    "    CutMix로 혼합된 레이블을 처리하기 위한 손실 함수\n",
    "    outputs: 모델 출력\n",
    "    targets: CutMix로 생성된 원-핫 인코딩 레이블\n",
    "    \"\"\"\n",
    "    return torch.nn.functional.cross_entropy(outputs, targets)\n",
    "\n",
    "def train(model, trainloader, criterion, optimizer, device, epoch):\n",
    "    \"\"\"\n",
    "    학습 함수 (CutMix 적용)\n",
    "    \"\"\"\n",
    "    model.train()   # 모델을 학습 모드로 설정\n",
    "    start_time = time.time()  # 시간 측정 시작\n",
    "    running_loss = 0.0\n",
    "    correct_top1 = 0\n",
    "    correct_top5 = 0\n",
    "    total = 0\n",
    "    \n",
    "    for i, (inputs, labels) in enumerate(trainloader):\n",
    "        inputs, labels = inputs.to(device), labels.to(device)\n",
    "        \n",
    "        # CutMix 확률적 적용\n",
    "        if random.random() < config[\"cutmix_prob\"]:\n",
    "            inputs, labels = cutmix(inputs, labels)\n",
    "            # 이 경우 labels은 원-핫 인코딩 형태로 변환됨\n",
    "            use_cutmix = True\n",
    "        else:\n",
    "            use_cutmix = False\n",
    "        \n",
    "        optimizer.zero_grad()\n",
    "        \n",
    "        outputs = model(inputs)\n",
    "        \n",
    "        # CutMix 적용 여부에 따라 손실 함수 선택\n",
    "        if use_cutmix:\n",
    "            # CutMix가 적용된 경우 (원-핫 인코딩된 레이블)\n",
    "            loss = torch.nn.functional.cross_entropy(outputs, labels)\n",
    "        else:\n",
    "            # 일반적인 경우 (정수 인덱스 레이블)\n",
    "            loss = criterion(outputs, labels)\n",
    "            \n",
    "        loss.backward()\n",
    "        optimizer.step()\n",
    "        \n",
    "        running_loss += loss.item()\n",
    "        \n",
    "        # 정확도 계산 - CutMix 적용 여부에 따라 다르게 처리\n",
    "        if use_cutmix:\n",
    "            # 원-핫 인코딩된 레이블에서 argmax를 사용해 가장 큰 값의 인덱스 추출\n",
    "            _, label_idx = labels.max(1)\n",
    "        else:\n",
    "            # 정수 인덱스 레이블 그대로 사용\n",
    "            label_idx = labels\n",
    "            \n",
    "        # top-1 정확도 계산\n",
    "        _, predicted = outputs.max(1)\n",
    "        total += inputs.size(0)\n",
    "        correct_top1 += predicted.eq(label_idx).sum().item()\n",
    "        \n",
    "        # top-5 정확도 계산\n",
    "        _, top5_idx = outputs.topk(5, 1, largest=True, sorted=True)\n",
    "        correct_top5 += sum([1 for i in range(len(label_idx)) if label_idx[i] in top5_idx[i]])\n",
    "        \n",
    "        if (i + 1) % 50 == 0:  # 50 배치마다 출력\n",
    "            print(f'Epoch [{epoch+1}], Batch [{i+1}/{len(trainloader)}], Loss: {loss.item():.4f}')\n",
    "    \n",
    "    epoch_loss = running_loss / len(trainloader)\n",
    "    accuracy_top1 = 100.0 * correct_top1 / total\n",
    "    accuracy_top5 = 100.0 * correct_top5 / total\n",
    "    \n",
    "    train_time = time.time() - start_time\n",
    "    \n",
    "    # 학습 세트에 대한 성능 출력\n",
    "    print(f'Train set: Epoch: {epoch+1}, Average loss:{epoch_loss:.4f}, LR: {optimizer.param_groups[0][\"lr\"]:.6f} '\n",
    "          f'Top-1 Accuracy: {accuracy_top1:.4f}%, Top-5 Accuracy: {accuracy_top5:.4f}%, Time consumed:{train_time:.2f}s')\n",
    "    \n",
    "    return epoch_loss, accuracy_top1, accuracy_top5\n",
    "\n",
    "def evaluate(model, dataloader, criterion, device, epoch, phase=\"val\"):\n",
    "    \"\"\"\n",
    "    평가 함수\n",
    "    \"\"\"\n",
    "    model.eval()  # 모델을 평가 모드로 설정\n",
    "    start_time = time.time()  # 시간 측정 시작\n",
    "    \n",
    "    eval_loss = 0.0\n",
    "    correct_top1 = 0\n",
    "    correct_top5 = 0\n",
    "    total = 0\n",
    "    \n",
    "    # 그래디언트 계산 비활성화\n",
    "    with torch.no_grad():\n",
    "        for inputs, labels in dataloader:\n",
    "            inputs, labels = inputs.to(device), labels.to(device)\n",
    "            \n",
    "            # 순전파\n",
    "            outputs = model(inputs)\n",
    "            \n",
    "            # 손실 계산\n",
    "            loss = criterion(outputs, labels)\n",
    "            eval_loss += loss.item()\n",
    "            \n",
    "            # top-1 정확도 계산\n",
    "            _, predicted = outputs.max(1)\n",
    "            total += labels.size(0)\n",
    "            correct_top1 += (predicted == labels).sum().item()\n",
    "            \n",
    "            # top-5 정확도 계산\n",
    "            _, top5_idx = outputs.topk(5, 1, largest=True, sorted=True)\n",
    "            correct_top5 += top5_idx.eq(labels.view(-1, 1).expand_as(top5_idx)).sum().item()\n",
    "    \n",
    "    # 평균 손실 및 정확도 계산\n",
    "    eval_loss = eval_loss / len(dataloader)\n",
    "    accuracy_top1 = 100.0 * correct_top1 / total\n",
    "    accuracy_top5 = 100.0 * correct_top5 / total\n",
    "    \n",
    "    # 평가 시간 계산\n",
    "    eval_time = time.time() - start_time\n",
    "    \n",
    "    # 테스트 세트에 대한 성능 출력\n",
    "    print(f'{phase.capitalize()} set: Epoch: {epoch+1}, Average loss:{eval_loss:.4f}, '\n",
    "          f'Top-1 Accuracy: {accuracy_top1:.4f}%, Top-5 Accuracy: {accuracy_top5:.4f}%, Time consumed:{eval_time:.2f}s')\n",
    "    print()\n",
    "    \n",
    "    return eval_loss, accuracy_top1, accuracy_top5\n",
    "\n",
    "\n",
    "# 메인 학습 루프\n",
    "def main_training_loop(model, trainloader, valloader, testloader, criterion, optimizer, device, num_epochs, patience):\n",
    "    \"\"\"\n",
    "    메인 학습 루프\n",
    "    \"\"\"\n",
    "    early_stopping = EarlyStopping(patience=patience, verbose=True)\n",
    "    \n",
    "    best_acc_top1 = 0.0\n",
    "    best_acc_top5 = 0.0\n",
    "    \n",
    "    # tqdm을 사용한 진행 상황 표시\n",
    "    for epoch in tqdm(range(num_epochs)):\n",
    "        # 학습\n",
    "        train_loss, train_acc_top1, train_acc_top5 = train(model, trainloader, criterion, optimizer, device, epoch)\n",
    "        \n",
    "        # 평가\n",
    "        val_loss, val_acc_top1, val_acc_top5 = evaluate(model, valloader, criterion, device, epoch, phase=\"val\")\n",
    "        \n",
    "        # WandB에 로깅\n",
    "        wandb.log({\n",
    "            \"epoch\": epoch + 1,\n",
    "            \"learning_rate\": optimizer.param_groups[0]['lr'],\n",
    "            \"train_loss\": train_loss,\n",
    "            \"train_accuracy_top1\": train_acc_top1,\n",
    "            \"train_accuracy_top5\": train_acc_top5,\n",
    "            \"val_loss\": val_loss,\n",
    "            \"val_accuracy_top1\": val_acc_top1,\n",
    "            \"val_accuracy_top5\": val_acc_top5\n",
    "        })\n",
    "            \n",
    "        # 최고 정확도 모델 저장 (top-1 기준)\n",
    "        if val_acc_top1 > best_acc_top1:\n",
    "            best_acc_top1 = val_acc_top1\n",
    "            best_acc_top5_at_best_top1 = val_acc_top5\n",
    "            print(f'New best top-1 accuracy: {best_acc_top1:.2f}%, top-5 accuracy: {best_acc_top5_at_best_top1:.2f}%')\n",
    "            # 모델 저장\n",
    "            model_path = f'best_model_{wandb.run.name}.pth'\n",
    "            torch.save(model.state_dict(), model_path)\n",
    "            \n",
    "            # WandB에 모델 아티팩트 저장\n",
    "            wandb.save(model_path)\n",
    "        \n",
    "        # top-5 accuracy 기록 업데이트\n",
    "        if val_acc_top5 > best_acc_top5:\n",
    "            best_acc_top5 = val_acc_top5\n",
    "            print(f'New best top-5 accuracy: {best_acc_top5:.2f}%')\n",
    "\n",
    "        # Early stopping 체크 (validation loss 기준)\n",
    "        early_stopping(val_loss, model)\n",
    "        if early_stopping.early_stop:\n",
    "            print(\"Early stopping triggered. Training stopped.\")\n",
    "            break\n",
    "    \n",
    "    # 훈련 완료 후 모델 평가 (best model 로드)\n",
    "    if early_stopping.early_stop:\n",
    "        print(\"Loading best model from early stopping checkpoint...\")\n",
    "    else:\n",
    "        print(\"Loading best model based on validation accuracy...\")\n",
    "        model_path = f'best_model_{wandb.run.name}.pth'\n",
    "        model.load_state_dict(torch.load(model_path))\n",
    "\n",
    "    # 최종 테스트 세트 평가\n",
    "    test_loss, test_acc_top1, test_acc_top5 = evaluate(model, testloader, criterion, device, num_epochs-1, phase=\"test\")\n",
    "    \n",
    "    # 테스트 결과를 wandb 로그에 추가\n",
    "    wandb.log({\n",
    "        \"epoch\": epoch + 1,  # 마지막 에폭 또는 early stopping된 에폭\n",
    "        \"test_loss\": test_loss,\n",
    "        \"test_accuracy_top1\": test_acc_top1,\n",
    "        \"test_accuracy_top5\": test_acc_top5\n",
    "    })\n",
    "    \n",
    "    print(f'Finish! Best validation top-1 accuracy: {best_acc_top1:.2f}%, Best validation top-5 accuracy: {best_acc_top5:.2f}%')\n",
    "    print(f'Final test top-1 accuracy: {test_acc_top1:.2f}%, Final test top-5 accuracy: {test_acc_top5:.2f}%')\n",
    "    \n",
    "    # WandB에 최종 결과 기록\n",
    "    wandb.run.summary[\"best_val_accuracy_top1\"] = best_acc_top1\n",
    "    wandb.run.summary[\"best_val_accuracy_top5\"] = best_acc_top5\n",
    "    wandb.run.summary[\"test_accuracy_top1\"] = test_acc_top1\n",
    "    wandb.run.summary[\"test_accuracy_top5\"] = test_acc_top5\n",
    "\n",
    "    # Early stopping 정보 저장\n",
    "    if early_stopping.early_stop:\n",
    "        wandb.run.summary[\"early_stopped\"] = True\n",
    "        wandb.run.summary[\"early_stopped_epoch\"] = epoch+1\n",
    "    else:\n",
    "        wandb.run.summary[\"early_stopped\"] = False\n",
    "\n",
    "\n",
    "# 디바이스 설정\n",
    "device = torch.device(\"cuda\" if torch.cuda.is_available() else \"cpu\")\n",
    "print(f\"Using device: {device}\")\n",
    "\n",
    "# 모델 초기화\n",
    "model = resnet50().to(device)  \n",
    "criterion = nn.CrossEntropyLoss()  # 손실 함수 정의\n",
    "optimizer = optim.Adam(model.parameters(), lr=config[\"learning_rate\"])  # 옵티마이저 정의\n",
    "\n",
    "# WandB에 모델 구조 기록\n",
    "wandb.watch(model, log=\"all\")\n",
    "\n",
    "# GPU 가속\n",
    "if torch.cuda.device_count() > 1:\n",
    "    print(f\"{torch.cuda.device_count()}개의 GPU를 사용합니다.\")\n",
    "    model = nn.DataParallel(model)\n",
    "\n",
    "# 훈련 시작 시간 기록\n",
    "start_time = time.time()\n",
    "\n",
    "# 메인 학습 루프 호출\n",
    "main_training_loop(\n",
    "    model=model,\n",
    "    trainloader=trainloader,\n",
    "    valloader=valloader,\n",
    "    testloader=testloader,\n",
    "    criterion=criterion,\n",
    "    optimizer=optimizer,\n",
    "    device=device,\n",
    "    num_epochs=config[\"num_epochs\"],\n",
    "    patience=config[\"patience\"]\n",
    ")\n",
    "\n",
    "# 훈련 종료 시간 기록 및 출력\n",
    "end_time = time.time()\n",
    "total_time = end_time - start_time\n",
    "wandb.log({\"total_training_time\": total_time})\n",
    "\n",
    "print(f\"Total training time: {total_time:.2f} seconds\")\n",
    "\n",
    "# WandB 실행 종료\n",
    "wandb.finish()"
   ]
  },
  {
   "cell_type": "code",
   "execution_count": null,
   "id": "e57b9218-aa24-4297-bb92-473c215e6767",
   "metadata": {},
   "outputs": [],
   "source": []
  }
 ],
 "metadata": {
  "kernelspec": {
   "display_name": "Python 3 (ipykernel)",
   "language": "python",
   "name": "python3"
  },
  "language_info": {
   "codemirror_mode": {
    "name": "ipython",
    "version": 3
   },
   "file_extension": ".py",
   "mimetype": "text/x-python",
   "name": "python",
   "nbconvert_exporter": "python",
   "pygments_lexer": "ipython3",
   "version": "3.11.9"
  }
 },
 "nbformat": 4,
 "nbformat_minor": 5
}
