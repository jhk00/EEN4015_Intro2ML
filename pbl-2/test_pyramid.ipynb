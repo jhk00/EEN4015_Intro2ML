{
 "cells": [
  {
   "cell_type": "code",
   "execution_count": null,
   "id": "dbcfcd14-ee69-4d18-89b5-ce3d95734290",
   "metadata": {},
   "outputs": [
    {
     "name": "stdout",
     "output_type": "stream",
     "text": [
      "Using device: cuda\n",
      "GPU 수: 2\n",
      "GPU 이름: NVIDIA RTX A5000\n",
      "가용 CUDA 메모리: 25.43 GB\n",
      "Files already downloaded and verified\n",
      "총 테스트 배치 수: 79, 배치 크기: 128\n",
      "총 테스트 샘플 수: 10000\n",
      "\n",
      "------- 모델 가중치 분석 -------\n",
      "\n",
      "[11:18:44] 모델 1 가중치 분석 중...\n",
      "모델 1 파일 크기: 109.30 MB\n",
      "모델 1 총 파라미터 수: 28,486,308\n",
      "모델 1 가중치 평균: 0.000047\n",
      "모델 1 가중치 절대값 평균: 0.002872\n",
      "모델 1 가중치 표준편차 평균: 0.034607\n",
      "모델 1는 학습된 모델로 추정됩니다.\n",
      "\n",
      "[11:18:44] 모델 2 가중치 분석 중...\n",
      "모델 2 파일 크기: 109.31 MB\n",
      "모델 2 총 파라미터 수: 28,486,308\n",
      "모델 2 가중치 평균: 0.000872\n",
      "모델 2 가중치 절대값 평균: 0.027161\n",
      "모델 2 가중치 표준편차 평균: 0.018295\n",
      "모델 2는 학습된 모델로 추정됩니다.\n",
      "\n",
      "------- 가중치 분석 결과 비교 -------\n",
      "두 모델 모두 학습된 것으로 추정됩니다. 정확한 비교를 위해 정확도 평가를 진행합니다.\n",
      "\n",
      "------- 모델 1 평가 -------\n",
      "\n",
      "[11:18:45] ShakePyramidNet 모델 1 평가 시작...\n",
      "[11:18:46] 모델 가중치 로딩 중...\n",
      "[11:18:46] 모델 가중치 로딩 완료\n"
     ]
    },
    {
     "name": "stderr",
     "output_type": "stream",
     "text": [
      "ShakePyramidNet 모델 1 평가 중:   0%|                                                                     | 0/79 [00:00<?, ?batch/s]"
     ]
    },
    {
     "name": "stdout",
     "output_type": "stream",
     "text": [
      "[11:18:47] 배치 0/79 처리 중...\n"
     ]
    },
    {
     "name": "stderr",
     "output_type": "stream",
     "text": [
      "/usr/local/lib/python3.11/dist-packages/torch/nn/modules/conv.py:456: UserWarning: Plan failed with a CuDNNError: cuDNN error: CUDNN_STATUS_BAD_PARAM\n",
      "Exception raised from run_conv_plan at ../aten/src/ATen/native/cudnn/Conv_v8.cpp:374 (most recent call first):\n",
      "frame #0: c10::Error::Error(c10::SourceLocation, std::string) + 0x57 (0x7f6c7474d897 in /usr/local/lib/python3.11/dist-packages/torch/lib/libc10.so)\n",
      "frame #1: <unknown function> + 0xe1c861 (0x7f6c755ef861 in /usr/local/lib/python3.11/dist-packages/torch/lib/libtorch_cuda.so)\n",
      "frame #2: <unknown function> + 0x1095d83 (0x7f6c75868d83 in /usr/local/lib/python3.11/dist-packages/torch/lib/libtorch_cuda.so)\n",
      "frame #3: <unknown function> + 0x1097c2c (0x7f6c7586ac2c in /usr/local/lib/python3.11/dist-packages/torch/lib/libtorch_cuda.so)\n",
      "frame #4: <unknown function> + 0x109817b (0x7f6c7586b17b in /usr/local/lib/python3.11/dist-packages/torch/lib/libtorch_cuda.so)\n",
      "frame #5: <unknown function> + 0x107aca2 (0x7f6c7584dca2 in /usr/local/lib/python3.11/dist-packages/torch/lib/libtorch_cuda.so)\n",
      "frame #6: at::native::cudnn_convolution(at::Tensor const&, at::Tensor const&, c10::ArrayRef<long>, c10::ArrayRef<long>, c10::ArrayRef<long>, long, bool, bool, bool) + 0x53f (0x7f6c7584e66f in /usr/local/lib/python3.11/dist-packages/torch/lib/libtorch_cuda.so)\n",
      "frame #7: <unknown function> + 0x32d0a9e (0x7f6c77aa3a9e in /usr/local/lib/python3.11/dist-packages/torch/lib/libtorch_cuda.so)\n",
      "frame #8: <unknown function> + 0x32e8251 (0x7f6c77abb251 in /usr/local/lib/python3.11/dist-packages/torch/lib/libtorch_cuda.so)\n",
      "frame #9: at::_ops::cudnn_convolution::call(at::Tensor const&, at::Tensor const&, c10::ArrayRef<c10::SymInt>, c10::ArrayRef<c10::SymInt>, c10::ArrayRef<c10::SymInt>, c10::SymInt, bool, bool, bool) + 0x2bb (0x7f6cab0bdc2b in /usr/local/lib/python3.11/dist-packages/torch/lib/libtorch_cpu.so)\n",
      "frame #10: at::native::_convolution(at::Tensor const&, at::Tensor const&, std::optional<at::Tensor> const&, c10::ArrayRef<long>, c10::ArrayRef<long>, c10::ArrayRef<long>, bool, c10::ArrayRef<long>, long, bool, bool, bool, bool) + 0x13cb (0x7f6caa2f880b in /usr/local/lib/python3.11/dist-packages/torch/lib/libtorch_cpu.so)\n",
      "frame #11: <unknown function> + 0x2e0089f (0x7f6cab48689f in /usr/local/lib/python3.11/dist-packages/torch/lib/libtorch_cpu.so)\n",
      "frame #12: <unknown function> + 0x2e071fc (0x7f6cab48d1fc in /usr/local/lib/python3.11/dist-packages/torch/lib/libtorch_cpu.so)\n",
      "frame #13: at::_ops::_convolution::call(at::Tensor const&, at::Tensor const&, std::optional<at::Tensor> const&, c10::ArrayRef<c10::SymInt>, c10::ArrayRef<c10::SymInt>, c10::ArrayRef<c10::SymInt>, bool, c10::ArrayRef<c10::SymInt>, c10::SymInt, bool, bool, bool, bool) + 0x344 (0x7f6caabcf6f4 in /usr/local/lib/python3.11/dist-packages/torch/lib/libtorch_cpu.so)\n",
      "frame #14: at::native::convolution(at::Tensor const&, at::Tensor const&, std::optional<at::Tensor> const&, c10::ArrayRef<long>, c10::ArrayRef<long>, c10::ArrayRef<long>, bool, c10::ArrayRef<long>, long) + 0x3b8 (0x7f6caa2ebe88 in /usr/local/lib/python3.11/dist-packages/torch/lib/libtorch_cpu.so)\n",
      "frame #15: <unknown function> + 0x2e0013c (0x7f6cab48613c in /usr/local/lib/python3.11/dist-packages/torch/lib/libtorch_cpu.so)\n",
      "frame #16: <unknown function> + 0x2e07068 (0x7f6cab48d068 in /usr/local/lib/python3.11/dist-packages/torch/lib/libtorch_cpu.so)\n",
      "frame #17: at::_ops::convolution::redispatch(c10::DispatchKeySet, at::Tensor const&, at::Tensor const&, std::optional<at::Tensor> const&, c10::ArrayRef<c10::SymInt>, c10::ArrayRef<c10::SymInt>, c10::ArrayRef<c10::SymInt>, bool, c10::ArrayRef<c10::SymInt>, c10::SymInt) + 0x17b (0x7f6caab8d38b in /usr/local/lib/python3.11/dist-packages/torch/lib/libtorch_cpu.so)\n",
      "frame #18: <unknown function> + 0x4503901 (0x7f6cacb89901 in /usr/local/lib/python3.11/dist-packages/torch/lib/libtorch_cpu.so)\n",
      "frame #19: <unknown function> + 0x4504879 (0x7f6cacb8a879 in /usr/local/lib/python3.11/dist-packages/torch/lib/libtorch_cpu.so)\n",
      "frame #20: at::_ops::convolution::call(at::Tensor const&, at::Tensor const&, std::optional<at::Tensor> const&, c10::ArrayRef<c10::SymInt>, c10::ArrayRef<c10::SymInt>, c10::ArrayRef<c10::SymInt>, bool, c10::ArrayRef<c10::SymInt>, c10::SymInt) + 0x2d4 (0x7f6caabce4f4 in /usr/local/lib/python3.11/dist-packages/torch/lib/libtorch_cpu.so)\n",
      "frame #21: <unknown function> + 0x19bd900 (0x7f6caa043900 in /usr/local/lib/python3.11/dist-packages/torch/lib/libtorch_cpu.so)\n",
      "frame #22: at::native::conv2d_symint(at::Tensor const&, at::Tensor const&, std::optional<at::Tensor> const&, c10::ArrayRef<c10::SymInt>, c10::ArrayRef<c10::SymInt>, c10::ArrayRef<c10::SymInt>, c10::SymInt) + 0x16b (0x7f6caa2ef76b in /usr/local/lib/python3.11/dist-packages/torch/lib/libtorch_cpu.so)\n",
      "frame #23: <unknown function> + 0x2ff96c3 (0x7f6cab67f6c3 in /usr/local/lib/python3.11/dist-packages/torch/lib/libtorch_cpu.so)\n",
      "frame #24: <unknown function> + 0x2ff995d (0x7f6cab67f95d in /usr/local/lib/python3.11/dist-packages/torch/lib/libtorch_cpu.so)\n",
      "frame #25: at::_ops::conv2d::call(at::Tensor const&, at::Tensor const&, std::optional<at::Tensor> const&, c10::ArrayRef<c10::SymInt>, c10::ArrayRef<c10::SymInt>, c10::ArrayRef<c10::SymInt>, c10::SymInt) + 0x26e (0x7f6cab1f295e in /usr/local/lib/python3.11/dist-packages/torch/lib/libtorch_cpu.so)\n",
      "frame #26: <unknown function> + 0x68853d (0x7f6cd073b53d in /usr/local/lib/python3.11/dist-packages/torch/lib/libtorch_python.so)\n",
      "frame #27: /usr/bin/python3() [0x5ee159]\n",
      "frame #28: _PyObject_MakeTpCall + 0x14d (0x63939d in /usr/bin/python3)\n",
      "frame #29: _PyEval_EvalFrameDefault + 0x6b3 (0x58ee33 in /usr/bin/python3)\n",
      "frame #30: /usr/bin/python3() [0x639a23]\n",
      "frame #31: PyObject_Call + 0x57 (0x639057 in /usr/bin/python3)\n",
      "frame #32: _PyEval_EvalFrameDefault + 0x4731 (0x592eb1 in /usr/bin/python3)\n",
      "frame #33: /usr/bin/python3() [0x63a04a]\n",
      "frame #34: PyObject_Call + 0x57 (0x639057 in /usr/bin/python3)\n",
      "frame #35: _PyEval_EvalFrameDefault + 0x4731 (0x592eb1 in /usr/bin/python3)\n",
      "frame #36: _PyObject_FastCallDictTstate + 0x240 (0x63bfc0 in /usr/bin/python3)\n",
      "frame #37: _PyObject_Call_Prepend + 0x5a (0x63c7ca in /usr/bin/python3)\n",
      "frame #38: /usr/bin/python3() [0x6fb337]\n",
      "frame #39: _PyObject_MakeTpCall + 0x14d (0x63939d in /usr/bin/python3)\n",
      "frame #40: _PyEval_EvalFrameDefault + 0x6b3 (0x58ee33 in /usr/bin/python3)\n",
      "frame #41: /usr/bin/python3() [0x639a23]\n",
      "frame #42: PyObject_Call + 0x57 (0x639057 in /usr/bin/python3)\n",
      "frame #43: _PyEval_EvalFrameDefault + 0x4731 (0x592eb1 in /usr/bin/python3)\n",
      "frame #44: /usr/bin/python3() [0x63a04a]\n",
      "frame #45: PyObject_Call + 0x57 (0x639057 in /usr/bin/python3)\n",
      "frame #46: _PyEval_EvalFrameDefault + 0x4731 (0x592eb1 in /usr/bin/python3)\n",
      "frame #47: _PyObject_FastCallDictTstate + 0x240 (0x63bfc0 in /usr/bin/python3)\n",
      "frame #48: _PyObject_Call_Prepend + 0x5a (0x63c7ca in /usr/bin/python3)\n",
      "frame #49: /usr/bin/python3() [0x6fb337]\n",
      "frame #50: _PyObject_MakeTpCall + 0x14d (0x63939d in /usr/bin/python3)\n",
      "frame #51: _PyEval_EvalFrameDefault + 0x6b3 (0x58ee33 in /usr/bin/python3)\n",
      "frame #52: /usr/bin/python3() [0x639a23]\n",
      "frame #53: PyObject_Call + 0x57 (0x639057 in /usr/bin/python3)\n",
      "frame #54: _PyEval_EvalFrameDefault + 0x4731 (0x592eb1 in /usr/bin/python3)\n",
      "frame #55: /usr/bin/python3() [0x63a04a]\n",
      "frame #56: PyObject_Call + 0x57 (0x639057 in /usr/bin/python3)\n",
      "frame #57: _PyEval_EvalFrameDefault + 0x4731 (0x592eb1 in /usr/bin/python3)\n",
      "frame #58: _PyObject_FastCallDictTstate + 0x240 (0x63bfc0 in /usr/bin/python3)\n",
      "frame #59: _PyObject_Call_Prepend + 0x5a (0x63c7ca in /usr/bin/python3)\n",
      "frame #60: /usr/bin/python3() [0x6fb337]\n",
      "frame #61: _PyObject_MakeTpCall + 0x14d (0x63939d in /usr/bin/python3)\n",
      "frame #62: _PyEval_EvalFrameDefault + 0x6b3 (0x58ee33 in /usr/bin/python3)\n",
      "frame #63: /usr/bin/python3() [0x639a23]\n",
      " (Triggered internally at ../aten/src/ATen/native/cudnn/Conv_v8.cpp:921.)\n",
      "  return F.conv2d(input, weight, bias, self.stride,\n",
      "/usr/local/lib/python3.11/dist-packages/torch/nn/modules/conv.py:456: UserWarning: Plan failed with a cudnnException: CUDNN_BACKEND_EXECUTION_PLAN_DESCRIPTOR: cudnnFinalize Descriptor Failed cudnn_status: CUDNN_STATUS_NOT_SUPPORTED (Triggered internally at ../aten/src/ATen/native/cudnn/Conv_v8.cpp:919.)\n",
      "  return F.conv2d(input, weight, bias, self.stride,\n",
      "ShakePyramidNet 모델 1 평가 중:   6%|█▎                   | 5/79 [02:50<41:45, 33.85s/batch, 배치 정확도=77.34%, 전체 정확도=82.03%]"
     ]
    },
    {
     "name": "stdout",
     "output_type": "stream",
     "text": [
      "[11:21:37] 배치 5/79 처리 중...\n"
     ]
    },
    {
     "name": "stderr",
     "output_type": "stream",
     "text": [
      "ShakePyramidNet 모델 1 평가 중:  13%|██▌                 | 10/79 [05:36<38:07, 33.15s/batch, 배치 정확도=87.50%, 전체 정확도=82.89%]"
     ]
    },
    {
     "name": "stdout",
     "output_type": "stream",
     "text": [
      "[11:24:23] 배치 10/79 처리 중...\n"
     ]
    },
    {
     "name": "stderr",
     "output_type": "stream",
     "text": [
      "ShakePyramidNet 모델 1 평가 중:  19%|███▊                | 15/79 [08:18<34:35, 32.44s/batch, 배치 정확도=82.81%, 전체 정확도=82.34%]"
     ]
    },
    {
     "name": "stdout",
     "output_type": "stream",
     "text": [
      "[11:27:04] 배치 15/79 처리 중...\n"
     ]
    },
    {
     "name": "stderr",
     "output_type": "stream",
     "text": [
      "ShakePyramidNet 모델 1 평가 중:  25%|█████               | 20/79 [10:59<31:48, 32.34s/batch, 배치 정확도=83.59%, 전체 정확도=82.77%]"
     ]
    },
    {
     "name": "stdout",
     "output_type": "stream",
     "text": [
      "[11:29:46] 배치 20/79 처리 중...\n"
     ]
    },
    {
     "name": "stderr",
     "output_type": "stream",
     "text": [
      "ShakePyramidNet 모델 1 평가 중:  32%|██████▎             | 25/79 [13:41<29:02, 32.27s/batch, 배치 정확도=81.25%, 전체 정확도=82.22%]"
     ]
    },
    {
     "name": "stdout",
     "output_type": "stream",
     "text": [
      "[11:32:27] 배치 25/79 처리 중...\n"
     ]
    },
    {
     "name": "stderr",
     "output_type": "stream",
     "text": [
      "ShakePyramidNet 모델 1 평가 중:  38%|███████▌            | 30/79 [16:22<26:21, 32.28s/batch, 배치 정확도=88.28%, 전체 정확도=82.06%]"
     ]
    },
    {
     "name": "stdout",
     "output_type": "stream",
     "text": [
      "[11:35:09] 배치 30/79 처리 중...\n"
     ]
    },
    {
     "name": "stderr",
     "output_type": "stream",
     "text": [
      "ShakePyramidNet 모델 1 평가 중:  44%|████████▊           | 35/79 [19:03<23:40, 32.28s/batch, 배치 정확도=83.59%, 전체 정확도=82.19%]"
     ]
    },
    {
     "name": "stdout",
     "output_type": "stream",
     "text": [
      "[11:37:50] 배치 35/79 처리 중...\n"
     ]
    },
    {
     "name": "stderr",
     "output_type": "stream",
     "text": [
      "ShakePyramidNet 모델 1 평가 중:  51%|██████████▏         | 40/79 [21:45<20:59, 32.29s/batch, 배치 정확도=78.12%, 전체 정확도=82.15%]"
     ]
    },
    {
     "name": "stdout",
     "output_type": "stream",
     "text": [
      "[11:40:32] 배치 40/79 처리 중...\n"
     ]
    },
    {
     "name": "stderr",
     "output_type": "stream",
     "text": [
      "ShakePyramidNet 모델 1 평가 중:  57%|███████████▍        | 45/79 [24:26<18:17, 32.28s/batch, 배치 정확도=80.47%, 전체 정확도=82.31%]"
     ]
    },
    {
     "name": "stdout",
     "output_type": "stream",
     "text": [
      "[11:43:13] 배치 45/79 처리 중...\n"
     ]
    },
    {
     "name": "stderr",
     "output_type": "stream",
     "text": [
      "ShakePyramidNet 모델 1 평가 중:  63%|████████████▋       | 50/79 [27:08<15:35, 32.26s/batch, 배치 정확도=84.38%, 전체 정확도=82.30%]"
     ]
    },
    {
     "name": "stdout",
     "output_type": "stream",
     "text": [
      "[11:45:54] 배치 50/79 처리 중...\n"
     ]
    },
    {
     "name": "stderr",
     "output_type": "stream",
     "text": [
      "ShakePyramidNet 모델 1 평가 중:  70%|█████████████▉      | 55/79 [29:49<12:54, 32.26s/batch, 배치 정확도=83.59%, 전체 정확도=82.16%]"
     ]
    },
    {
     "name": "stdout",
     "output_type": "stream",
     "text": [
      "[11:48:36] 배치 55/79 처리 중...\n"
     ]
    },
    {
     "name": "stderr",
     "output_type": "stream",
     "text": [
      "ShakePyramidNet 모델 1 평가 중:  76%|███████████████▏    | 60/79 [32:30<10:13, 32.28s/batch, 배치 정확도=84.38%, 전체 정확도=82.19%]"
     ]
    },
    {
     "name": "stdout",
     "output_type": "stream",
     "text": [
      "[11:51:17] 배치 60/79 처리 중...\n"
     ]
    },
    {
     "name": "stderr",
     "output_type": "stream",
     "text": [
      "ShakePyramidNet 모델 1 평가 중:  82%|████████████████▍   | 65/79 [35:12<07:31, 32.28s/batch, 배치 정확도=85.16%, 전체 정확도=82.10%]"
     ]
    },
    {
     "name": "stdout",
     "output_type": "stream",
     "text": [
      "[11:53:59] 배치 65/79 처리 중...\n"
     ]
    },
    {
     "name": "stderr",
     "output_type": "stream",
     "text": [
      "ShakePyramidNet 모델 1 평가 중:  89%|█████████████████▋  | 70/79 [37:53<04:50, 32.27s/batch, 배치 정확도=86.72%, 전체 정확도=82.23%]"
     ]
    },
    {
     "name": "stdout",
     "output_type": "stream",
     "text": [
      "[11:56:40] 배치 70/79 처리 중...\n"
     ]
    },
    {
     "name": "stderr",
     "output_type": "stream",
     "text": [
      "ShakePyramidNet 모델 1 평가 중:  95%|██████████████████▉ | 75/79 [40:35<02:09, 32.32s/batch, 배치 정확도=85.16%, 전체 정확도=82.17%]"
     ]
    },
    {
     "name": "stdout",
     "output_type": "stream",
     "text": [
      "[11:59:21] 배치 75/79 처리 중...\n"
     ]
    },
    {
     "name": "stderr",
     "output_type": "stream",
     "text": [
      "ShakePyramidNet 모델 1 평가 중: 100%|████████████████████| 79/79 [42:33<00:00, 32.32s/batch, 배치 정확도=81.25%, 전체 정확도=82.25%]\n"
     ]
    },
    {
     "name": "stdout",
     "output_type": "stream",
     "text": [
      "\n",
      "[12:01:19] ShakePyramidNet 모델 1 평가 완료:\n",
      "- Top-1 정확도: 82.25%\n",
      "- Top-5 정확도: 96.82%\n",
      "- 평가 소요 시간: 2554.91초\n",
      "- 오류 발생 배치 수: 0/79\n",
      "- CPU 전환 배치 수: 0/79\n",
      "\n",
      "------- 모델 2 평가 -------\n",
      "\n",
      "[12:01:20] ShakePyramidNet 모델 2 평가 시작...\n",
      "[12:01:20] 모델 가중치 로딩 중...\n",
      "[12:01:21] 모델 가중치 로딩 완료\n"
     ]
    },
    {
     "name": "stderr",
     "output_type": "stream",
     "text": [
      "ShakePyramidNet 모델 2 평가 중:   0%|                                                                     | 0/79 [00:00<?, ?batch/s]"
     ]
    },
    {
     "name": "stdout",
     "output_type": "stream",
     "text": [
      "[12:01:23] 배치 0/79 처리 중...\n"
     ]
    },
    {
     "name": "stderr",
     "output_type": "stream",
     "text": [
      "ShakePyramidNet 모델 2 평가 중:   6%|█▍                     | 5/79 [02:45<40:22, 32.73s/batch, 배치 정확도=9.38%, 전체 정확도=6.09%]"
     ]
    },
    {
     "name": "stdout",
     "output_type": "stream",
     "text": [
      "[12:04:06] 배치 5/79 처리 중...\n"
     ]
    },
    {
     "name": "stderr",
     "output_type": "stream",
     "text": [
      "ShakePyramidNet 모델 2 평가 중:  13%|██▊                   | 10/79 [05:26<37:11, 32.34s/batch, 배치 정확도=5.47%, 전체 정확도=6.25%]"
     ]
    },
    {
     "name": "stdout",
     "output_type": "stream",
     "text": [
      "[12:06:48] 배치 10/79 처리 중...\n"
     ]
    },
    {
     "name": "stderr",
     "output_type": "stream",
     "text": [
      "ShakePyramidNet 모델 2 평가 중:  19%|████▏                 | 15/79 [08:10<35:04, 32.89s/batch, 배치 정확도=8.59%, 전체 정확도=6.46%]"
     ]
    },
    {
     "name": "stdout",
     "output_type": "stream",
     "text": [
      "[12:09:31] 배치 15/79 처리 중...\n"
     ]
    },
    {
     "name": "stderr",
     "output_type": "stream",
     "text": [
      "ShakePyramidNet 모델 2 평가 중:  25%|█████▌                | 20/79 [10:52<31:57, 32.50s/batch, 배치 정확도=7.81%, 전체 정확도=6.76%]"
     ]
    },
    {
     "name": "stdout",
     "output_type": "stream",
     "text": [
      "[12:12:13] 배치 20/79 처리 중...\n"
     ]
    },
    {
     "name": "stderr",
     "output_type": "stream",
     "text": [
      "ShakePyramidNet 모델 2 평가 중:  32%|██████▉               | 25/79 [13:33<29:06, 32.34s/batch, 배치 정확도=6.25%, 전체 정확도=6.78%]"
     ]
    },
    {
     "name": "stdout",
     "output_type": "stream",
     "text": [
      "[12:14:55] 배치 25/79 처리 중...\n"
     ]
    },
    {
     "name": "stderr",
     "output_type": "stream",
     "text": [
      "ShakePyramidNet 모델 2 평가 중:  37%|████████              | 29/79 [15:42<26:54, 32.28s/batch, 배치 정확도=5.47%, 전체 정확도=6.90%]"
     ]
    }
   ],
   "source": [
    "import torch\n",
    "import torch.nn as nn\n",
    "import torchvision\n",
    "import torchvision.transforms as transforms\n",
    "from torch.utils.data import DataLoader\n",
    "from models.shake_pyramidnet import ShakePyramidNet  # 모델 클래스 임포트\n",
    "import time\n",
    "from tqdm import tqdm  # 진행 바 표시용\n",
    "\n",
    "# CUDA 메모리 관리 최적화 설정\n",
    "torch.backends.cudnn.benchmark = False  # 벤치마크 끄기\n",
    "torch.backends.cudnn.deterministic = True  # 결정적 알고리즘 사용\n",
    "torch.cuda.empty_cache()  # CUDA 캐시 비우기\n",
    "\n",
    "# 디바이스 설정 - CPU 옵션 추가\n",
    "force_cpu = False  # True로 설정하면 강제로 CPU 사용\n",
    "device = torch.device(\"cpu\") if force_cpu else torch.device(\"cuda\" if torch.cuda.is_available() else \"cpu\")\n",
    "print(f\"Using device: {device}\")\n",
    "if device.type == 'cuda':\n",
    "    print(f\"GPU 수: {torch.cuda.device_count()}\")\n",
    "    print(f\"GPU 이름: {torch.cuda.get_device_name(0)}\")\n",
    "    print(f\"가용 CUDA 메모리: {torch.cuda.get_device_properties(0).total_memory / 1e9:.2f} GB\")\n",
    "\n",
    "# 테스트 데이터셋 설정 (CIFAR-100)\n",
    "transform_test = transforms.Compose([\n",
    "    transforms.ToTensor(),\n",
    "    transforms.Normalize((0.5071, 0.4867, 0.4408), (0.2675, 0.2565, 0.2761)),\n",
    "])\n",
    "\n",
    "testset = torchvision.datasets.CIFAR100(\n",
    "    root='./data', train=False, download=True, transform=transform_test)\n",
    "testloader = DataLoader(\n",
    "    testset, \n",
    "    batch_size=128,  # 배치 크기 조정\n",
    "    shuffle=False, \n",
    "    pin_memory=(device.type == 'cuda'),  # GPU 사용시에만 pin_memory 활성화\n",
    "    num_workers=32\n",
    ")\n",
    "\n",
    "# 배치 수 계산하여 출력\n",
    "total_batches = len(testloader)\n",
    "print(f\"총 테스트 배치 수: {total_batches}, 배치 크기: {testloader.batch_size}\")\n",
    "print(f\"총 테스트 샘플 수: {len(testset)}\")\n",
    "\n",
    "# ShakePyramidNet 모델 생성 함수\n",
    "def create_model():\n",
    "    model = ShakePyramidNet(\n",
    "        depth=110,\n",
    "        alpha=270,\n",
    "        label=100     # CIFAR-100이므로 100 클래스\n",
    "    )\n",
    "    return model\n",
    "\n",
    "# 모델 평가 함수 - 진행 상태 표시 기능 추가\n",
    "def evaluate_model(model_path, model_name):\n",
    "    try:\n",
    "        start_time = time.time()\n",
    "        print(f\"\\n[{time.strftime('%H:%M:%S')}] {model_name} 평가 시작...\")\n",
    "        \n",
    "        # 모델 생성\n",
    "        model = create_model()\n",
    "        \n",
    "        # 저장된 가중치를 불러옴\n",
    "        print(f\"[{time.strftime('%H:%M:%S')}] 모델 가중치 로딩 중...\")\n",
    "        if device.type == 'cuda':\n",
    "            state_dict = torch.load(model_path, map_location=device)\n",
    "        else:\n",
    "            state_dict = torch.load(model_path, map_location='cpu')\n",
    "        \n",
    "        # 'module.' 접두사 처리\n",
    "        if all(k.startswith('module.') for k in state_dict.keys()):\n",
    "            # GPU 사용 가능하고 여러 개일 경우 DataParallel 사용\n",
    "            if device.type == 'cuda' and torch.cuda.device_count() > 1 and not force_cpu:\n",
    "                model = nn.DataParallel(model)\n",
    "            else:\n",
    "                # CPU 모드이거나 GPU가 하나일 경우 접두사 제거\n",
    "                state_dict = {k.replace('module.', ''): v for k, v in state_dict.items()}\n",
    "        \n",
    "        # 가중치 로드\n",
    "        model.load_state_dict(state_dict)\n",
    "        print(f\"[{time.strftime('%H:%M:%S')}] 모델 가중치 로딩 완료\")\n",
    "        \n",
    "        # 디바이스로 모델 이동\n",
    "        model = model.to(device)\n",
    "        model.eval()\n",
    "        \n",
    "        correct_top1 = 0\n",
    "        correct_top5 = 0\n",
    "        total = 0\n",
    "        \n",
    "        cpu_fallback_count = 0  # CPU로 전환한 배치 수\n",
    "        error_batch_count = 0   # 오류가 발생한 배치 수\n",
    "        \n",
    "        # 평가 과정에서 에러 핸들링 + 진행 상태 표시\n",
    "        with torch.no_grad():\n",
    "            # tqdm을 사용하여 진행 바 표시\n",
    "            pbar = tqdm(testloader, desc=f\"{model_name} 평가 중\", unit=\"batch\")\n",
    "            for batch_idx, (inputs, labels) in enumerate(pbar):\n",
    "                try:\n",
    "                    # 5배치마다 진행 상황 출력\n",
    "                    if batch_idx % 5 == 0:\n",
    "                        print(f\"[{time.strftime('%H:%M:%S')}] 배치 {batch_idx}/{total_batches} 처리 중...\")\n",
    "                    \n",
    "                    inputs, labels = inputs.to(device), labels.to(device)\n",
    "                    outputs = model(inputs)\n",
    "                    \n",
    "                    # Top-1 정확도\n",
    "                    _, predicted = outputs.max(1)\n",
    "                    batch_correct = predicted.eq(labels).sum().item()\n",
    "                    total += labels.size(0)\n",
    "                    correct_top1 += batch_correct\n",
    "                    \n",
    "                    # Top-5 정확도\n",
    "                    _, top5_idx = outputs.topk(5, 1, largest=True, sorted=True)\n",
    "                    batch_correct_top5 = top5_idx.eq(labels.view(-1, 1).expand_as(top5_idx)).sum().item()\n",
    "                    correct_top5 += batch_correct_top5\n",
    "                    \n",
    "                    # 현재 배치 정확도를 진행 바에 업데이트\n",
    "                    batch_acc = 100. * batch_correct / labels.size(0)\n",
    "                    pbar.set_postfix({\"배치 정확도\": f\"{batch_acc:.2f}%\", \n",
    "                                     \"전체 정확도\": f\"{100. * correct_top1 / total:.2f}%\"})\n",
    "                    \n",
    "                except RuntimeError as e:\n",
    "                    print(f\"\\n[{time.strftime('%H:%M:%S')}] 배치 {batch_idx}/{total_batches} 처리 중 오류 발생: {e}\")\n",
    "                    error_batch_count += 1\n",
    "                    \n",
    "                    # CPU로 전환하여 재시도\n",
    "                    if device.type == 'cuda':\n",
    "                        print(f\"[{time.strftime('%H:%M:%S')}] CPU로 전환하여 계속합니다...\")\n",
    "                        cpu_fallback_count += 1\n",
    "                        inputs, labels = inputs.cpu(), labels.cpu()\n",
    "                        model = model.cpu()\n",
    "                        outputs = model(inputs)\n",
    "                        \n",
    "                        # Top-1 정확도\n",
    "                        _, predicted = outputs.max(1)\n",
    "                        batch_correct = predicted.eq(labels).sum().item()\n",
    "                        total += labels.size(0)\n",
    "                        correct_top1 += batch_correct\n",
    "                        \n",
    "                        # Top-5 정확도\n",
    "                        _, top5_idx = outputs.topk(5, 1, largest=True, sorted=True)\n",
    "                        batch_correct_top5 = top5_idx.eq(labels.view(-1, 1).expand_as(top5_idx)).sum().item()\n",
    "                        correct_top5 += batch_correct_top5\n",
    "                        \n",
    "                        # 현재 배치 정확도를 진행 바에 업데이트\n",
    "                        batch_acc = 100. * batch_correct / labels.size(0)\n",
    "                        pbar.set_postfix({\"배치 정확도\": f\"{batch_acc:.2f}%\", \n",
    "                                          \"전체 정확도\": f\"{100. * correct_top1 / total:.2f}%\",\n",
    "                                          \"CPU 전환\": cpu_fallback_count})\n",
    "                        \n",
    "                        # 다시 GPU로 전환\n",
    "                        model = model.to(device)\n",
    "        \n",
    "        accuracy_top1 = 100.0 * correct_top1 / total\n",
    "        accuracy_top5 = 100.0 * correct_top5 / total\n",
    "        \n",
    "        evaluation_time = time.time() - start_time\n",
    "        \n",
    "        print(f'\\n[{time.strftime(\"%H:%M:%S\")}] {model_name} 평가 완료:')\n",
    "        print(f'- Top-1 정확도: {accuracy_top1:.2f}%')\n",
    "        print(f'- Top-5 정확도: {accuracy_top5:.2f}%')\n",
    "        print(f'- 평가 소요 시간: {evaluation_time:.2f}초')\n",
    "        print(f'- 오류 발생 배치 수: {error_batch_count}/{total_batches}')\n",
    "        print(f'- CPU 전환 배치 수: {cpu_fallback_count}/{total_batches}')\n",
    "        \n",
    "        return accuracy_top1, accuracy_top5\n",
    "    \n",
    "    except Exception as e:\n",
    "        print(f\"\\n[{time.strftime('%H:%M:%S')}] 모델 평가 중 예외 발생: {e}\")\n",
    "        return 0.0, 0.0\n",
    "\n",
    "# 두 모델의 가중치 특성 비교\n",
    "def analyze_model_weights(model_path, model_name):\n",
    "    print(f\"\\n[{time.strftime('%H:%M:%S')}] {model_name} 가중치 분석 중...\")\n",
    "    \n",
    "    # 파일 크기 확인\n",
    "    import os\n",
    "    file_size_mb = os.path.getsize(model_path) / (1024 * 1024)\n",
    "    print(f\"{model_name} 파일 크기: {file_size_mb:.2f} MB\")\n",
    "    \n",
    "    # 가중치 통계 분석\n",
    "    state_dict = torch.load(model_path, map_location='cpu')\n",
    "    \n",
    "    # 가중치 개수, 평균, 표준편차 계산\n",
    "    total_params = 0\n",
    "    total_weight_sum = 0\n",
    "    total_abs_weight_sum = 0\n",
    "    weight_std_sum = 0\n",
    "    weight_count = 0\n",
    "    \n",
    "    for name, param in state_dict.items():\n",
    "        if 'weight' in name:\n",
    "            weight_count += 1\n",
    "            param_count = param.numel()\n",
    "            total_params += param_count\n",
    "            \n",
    "            # 가중치 통계\n",
    "            param_mean = param.mean().item()\n",
    "            param_abs_mean = param.abs().mean().item()\n",
    "            param_std = param.std().item()\n",
    "            \n",
    "            total_weight_sum += param_mean * param_count\n",
    "            total_abs_weight_sum += param_abs_mean * param_count\n",
    "            weight_std_sum += param_std\n",
    "    \n",
    "    # 평균값 계산\n",
    "    avg_weight = total_weight_sum / total_params\n",
    "    avg_abs_weight = total_abs_weight_sum / total_params\n",
    "    avg_std = weight_std_sum / weight_count\n",
    "    \n",
    "    print(f\"{model_name} 총 파라미터 수: {total_params:,}\")\n",
    "    print(f\"{model_name} 가중치 평균: {avg_weight:.6f}\")\n",
    "    print(f\"{model_name} 가중치 절대값 평균: {avg_abs_weight:.6f}\")\n",
    "    print(f\"{model_name} 가중치 표준편차 평균: {avg_std:.6f}\")\n",
    "    \n",
    "    # 학습된 모델 여부 예측\n",
    "    is_trained = avg_std > 0.01  # 일반적으로 학습된 모델은 표준편차가 더 큼\n",
    "    print(f\"{model_name}는 {'학습된 모델로 추정됩니다.' if is_trained else '학습되지 않은 모델로 추정됩니다.'}\")\n",
    "    \n",
    "    return {\n",
    "        'file_size_mb': file_size_mb,\n",
    "        'total_params': total_params,\n",
    "        'avg_weight': avg_weight,\n",
    "        'avg_abs_weight': avg_abs_weight,\n",
    "        'avg_std': avg_std,\n",
    "        'is_trained': is_trained\n",
    "    }\n",
    "\n",
    "# 먼저 두 모델의 가중치를 분석하여 학습 여부 추정\n",
    "print(\"\\n------- 모델 가중치 분석 -------\")\n",
    "model1_path = 'best_model_shake_pyramidnet_1.pth'\n",
    "model1_analysis = analyze_model_weights(model1_path, \"모델 1\")\n",
    "\n",
    "model2_path = 'best_model_shake_pyramidnet_2.pth'\n",
    "model2_analysis = analyze_model_weights(model2_path, \"모델 2\")\n",
    "\n",
    "print(\"\\n------- 가중치 분석 결과 비교 -------\")\n",
    "if model1_analysis['is_trained'] and not model2_analysis['is_trained']:\n",
    "    print(\"모델 1이 학습된 모델이고, 모델 2는 학습되지 않은 모델로 추정됩니다.\")\n",
    "    better_model = model1_path\n",
    "elif not model1_analysis['is_trained'] and model2_analysis['is_trained']:\n",
    "    print(\"모델 2가 학습된 모델이고, 모델 1은 학습되지 않은 모델로 추정됩니다.\")\n",
    "    better_model = model2_path\n",
    "elif model1_analysis['is_trained'] and model2_analysis['is_trained']:\n",
    "    print(\"두 모델 모두 학습된 것으로 추정됩니다. 정확한 비교를 위해 정확도 평가를 진행합니다.\")\n",
    "    # 두 모델 평가 진행\n",
    "    print(\"\\n------- 모델 1 평가 -------\")\n",
    "    model1_acc_top1, model1_acc_top5 = evaluate_model(model1_path, \"ShakePyramidNet 모델 1\")\n",
    "\n",
    "    # 메모리 정리\n",
    "    torch.cuda.empty_cache()\n",
    "\n",
    "    print(\"\\n------- 모델 2 평가 -------\")\n",
    "    model2_acc_top1, model2_acc_top5 = evaluate_model(model2_path, \"ShakePyramidNet 모델 2\")\n",
    "\n",
    "    # 결과 비교\n",
    "    print(\"\\n------- 결과 비교 -------\")\n",
    "    if model1_acc_top1 > model2_acc_top1:\n",
    "        print(f\"모델 1이 Top-1 정확도에서 {model1_acc_top1 - model2_acc_top1:.2f}% 더 우수합니다.\")\n",
    "        better_model = model1_path\n",
    "    elif model2_acc_top1 > model1_acc_top1:\n",
    "        print(f\"모델 2가 Top-1 정확도에서 {model2_acc_top1 - model1_acc_top1:.2f}% 더 우수합니다.\")\n",
    "        better_model = model2_path\n",
    "    else:\n",
    "        print(\"두 모델의 Top-1 정확도가 동일합니다.\")\n",
    "        better_model = model1_path if model1_acc_top5 >= model2_acc_top5 else model2_path\n",
    "else:\n",
    "    print(\"두 모델 모두 학습되지 않은 것으로 추정됩니다.\")\n",
    "    better_model = \"없음\"\n",
    "\n",
    "if better_model != \"없음\":\n",
    "    print(f\"\\n더 나은 모델: {better_model}\")\n",
    "    print(f\"이 모델을 앙상블이나 추론에 사용하세요.\")\n",
    "else:\n",
    "    print(\"\\n두 모델 모두 사용하기에 적합하지 않습니다. 모델을 다시 학습하세요.\")"
   ]
  },
  {
   "cell_type": "code",
   "execution_count": null,
   "id": "da955ed2-db7f-4492-8d5a-0075869c43c2",
   "metadata": {},
   "outputs": [],
   "source": []
  }
 ],
 "metadata": {
  "kernelspec": {
   "display_name": "Python 3 (ipykernel)",
   "language": "python",
   "name": "python3"
  },
  "language_info": {
   "codemirror_mode": {
    "name": "ipython",
    "version": 3
   },
   "file_extension": ".py",
   "mimetype": "text/x-python",
   "name": "python",
   "nbconvert_exporter": "python",
   "pygments_lexer": "ipython3",
   "version": "3.11.9"
  }
 },
 "nbformat": 4,
 "nbformat_minor": 5
}
