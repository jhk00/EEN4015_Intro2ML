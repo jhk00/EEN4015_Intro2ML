{
 "cells": [
  {
   "cell_type": "code",
   "execution_count": null,
   "id": "516f9d5f-6361-4b03-98ee-e1ba4de86b92",
   "metadata": {},
   "outputs": [
    {
     "name": "stderr",
     "output_type": "stream",
     "text": [
      "\u001b[34m\u001b[1mwandb\u001b[0m: \u001b[33mWARNING\u001b[0m Calling wandb.login() after wandb.init() has no effect.\n"
     ]
    },
    {
     "data": {
      "text/html": [],
      "text/plain": [
       "<IPython.core.display.HTML object>"
      ]
     },
     "metadata": {},
     "output_type": "display_data"
    },
    {
     "data": {
      "text/html": [
       " View run <strong style=\"color:#cdcd00\">resnet18_cfc,lr=0.01,factor=0.5,SAM_standard</strong> at: <a href='https://wandb.ai/sokjh1310-hanyang-university/PBL-2/runs/seblxl0d' target=\"_blank\">https://wandb.ai/sokjh1310-hanyang-university/PBL-2/runs/seblxl0d</a><br> View project at: <a href='https://wandb.ai/sokjh1310-hanyang-university/PBL-2' target=\"_blank\">https://wandb.ai/sokjh1310-hanyang-university/PBL-2</a><br>Synced 5 W&B file(s), 0 media file(s), 0 artifact file(s) and 0 other file(s)"
      ],
      "text/plain": [
       "<IPython.core.display.HTML object>"
      ]
     },
     "metadata": {},
     "output_type": "display_data"
    },
    {
     "data": {
      "text/html": [
       "Find logs at: <code>./wandb/run-20250418_053512-seblxl0d/logs</code>"
      ],
      "text/plain": [
       "<IPython.core.display.HTML object>"
      ]
     },
     "metadata": {},
     "output_type": "display_data"
    },
    {
     "data": {
      "text/html": [
       "Tracking run with wandb version 0.19.9"
      ],
      "text/plain": [
       "<IPython.core.display.HTML object>"
      ]
     },
     "metadata": {},
     "output_type": "display_data"
    },
    {
     "data": {
      "text/html": [
       "Run data is saved locally in <code>/home/guswls/EEN4015_Intro2ML/pbl-2/wandb/run-20250418_054151-4n6g8sbn</code>"
      ],
      "text/plain": [
       "<IPython.core.display.HTML object>"
      ]
     },
     "metadata": {},
     "output_type": "display_data"
    },
    {
     "data": {
      "text/html": [
       "Syncing run <strong><a href='https://wandb.ai/sokjh1310-hanyang-university/PBL-2/runs/4n6g8sbn' target=\"_blank\">resnet18_cfc,lr=0.01,factor=0.5,SAM_standard</a></strong> to <a href='https://wandb.ai/sokjh1310-hanyang-university/PBL-2' target=\"_blank\">Weights & Biases</a> (<a href='https://wandb.me/developer-guide' target=\"_blank\">docs</a>)<br>"
      ],
      "text/plain": [
       "<IPython.core.display.HTML object>"
      ]
     },
     "metadata": {},
     "output_type": "display_data"
    },
    {
     "data": {
      "text/html": [
       " View project at <a href='https://wandb.ai/sokjh1310-hanyang-university/PBL-2' target=\"_blank\">https://wandb.ai/sokjh1310-hanyang-university/PBL-2</a>"
      ],
      "text/plain": [
       "<IPython.core.display.HTML object>"
      ]
     },
     "metadata": {},
     "output_type": "display_data"
    },
    {
     "data": {
      "text/html": [
       " View run at <a href='https://wandb.ai/sokjh1310-hanyang-university/PBL-2/runs/4n6g8sbn' target=\"_blank\">https://wandb.ai/sokjh1310-hanyang-university/PBL-2/runs/4n6g8sbn</a>"
      ],
      "text/plain": [
       "<IPython.core.display.HTML object>"
      ]
     },
     "metadata": {},
     "output_type": "display_data"
    },
    {
     "name": "stdout",
     "output_type": "stream",
     "text": [
      "Files already downloaded and verified\n",
      "Files already downloaded and verified\n",
      "Train set size: 50000\n",
      "Test set size: 10000\n",
      "Using device: cuda\n",
      "2개의 GPU를 사용합니다."
     ]
    },
    {
     "name": "stderr",
     "output_type": "stream",
     "text": [
      "/usr/local/lib/python3.11/dist-packages/torch/optim/lr_scheduler.py:28: UserWarning: The verbose parameter is deprecated. Please use get_last_lr() to access the learning rate.\n",
      "  warnings.warn(\"The verbose parameter is deprecated. Please use get_last_lr() \"\n"
     ]
    },
    {
     "name": "stdout",
     "output_type": "stream",
     "text": [
      "\n"
     ]
    },
    {
     "name": "stderr",
     "output_type": "stream",
     "text": [
      "  0%|                                                                                                       | 0/300 [00:00<?, ?it/s]/usr/local/lib/python3.11/dist-packages/torch/optim/lr_scheduler.py:143: UserWarning: Detected call of `lr_scheduler.step()` before `optimizer.step()`. In PyTorch 1.1.0 and later, you should call them in the opposite order: `optimizer.step()` before `lr_scheduler.step()`.  Failure to do this will result in PyTorch skipping the first value of the learning rate schedule. See more details at https://pytorch.org/docs/stable/optim.html#how-to-adjust-learning-rate\n",
      "  warnings.warn(\"Detected call of `lr_scheduler.step()` before `optimizer.step()`. \"\n"
     ]
    },
    {
     "name": "stdout",
     "output_type": "stream",
     "text": [
      "Epoch [1], Batch [50/391], Loss: 4.5961, LR: 0.000256\n",
      "Epoch [1], Batch [100/391], Loss: 4.5056, LR: 0.000512\n",
      "Epoch [1], Batch [150/391], Loss: 4.0830, LR: 0.000767\n",
      "Epoch [1], Batch [200/391], Loss: 4.3724, LR: 0.001023\n",
      "Epoch [1], Batch [250/391], Loss: 3.8148, LR: 0.001279\n",
      "Epoch [1], Batch [300/391], Loss: 3.7220, LR: 0.001535\n",
      "Epoch [1], Batch [350/391], Loss: 4.3313, LR: 0.001790\n",
      "Train set: Epoch: 1, Average loss:4.2361, LR: 0.002000 Top-1 Accuracy: 6.3880%, Top-5 Accuracy: 22.4320%, Time consumed:91.87s\n",
      "Test set: Epoch: 1, Average loss:3.7305, Top-1 Accuracy: 12.6700%, Top-5 Accuracy: 37.2200%, Time consumed:8.16s\n",
      "\n",
      "새로운 최고 top-1 정확도: 12.67%, top-5 정확도: 37.22%\n",
      "새로운 최고 top-5 정확도: 37.22%\n",
      "Accuracy improved (-inf% --> 12.67%). Saving model ...\n"
     ]
    },
    {
     "name": "stderr",
     "output_type": "stream",
     "text": [
      "  0%|▎                                                                                           | 1/300 [01:40<8:19:36, 100.25s/it]"
     ]
    },
    {
     "name": "stdout",
     "output_type": "stream",
     "text": [
      "Epoch [2], Batch [50/391], Loss: 3.7938, LR: 0.002256\n",
      "Epoch [2], Batch [100/391], Loss: 3.4379, LR: 0.002512\n",
      "Epoch [2], Batch [150/391], Loss: 3.6116, LR: 0.002767\n",
      "Epoch [2], Batch [200/391], Loss: 3.3739, LR: 0.003023\n",
      "Epoch [2], Batch [250/391], Loss: 3.2603, LR: 0.003279\n",
      "Epoch [2], Batch [300/391], Loss: 3.3991, LR: 0.003535\n",
      "Epoch [2], Batch [350/391], Loss: 3.9479, LR: 0.003790\n",
      "Train set: Epoch: 2, Average loss:3.7179, LR: 0.004000 Top-1 Accuracy: 14.1860%, Top-5 Accuracy: 39.0500%, Time consumed:94.84s\n",
      "Test set: Epoch: 2, Average loss:3.2554, Top-1 Accuracy: 21.3300%, Top-5 Accuracy: 50.4000%, Time consumed:8.05s\n",
      "\n",
      "새로운 최고 top-1 정확도: 21.33%, top-5 정확도: 50.40%\n",
      "새로운 최고 top-5 정확도: 50.40%\n",
      "Accuracy improved (12.67% --> 21.33%). Saving model ...\n"
     ]
    },
    {
     "name": "stderr",
     "output_type": "stream",
     "text": [
      "  1%|▌                                                                                           | 2/300 [03:23<8:26:26, 101.97s/it]"
     ]
    },
    {
     "name": "stdout",
     "output_type": "stream",
     "text": [
      "Epoch [3], Batch [50/391], Loss: 3.0326, LR: 0.004256\n",
      "Epoch [3], Batch [100/391], Loss: 3.0342, LR: 0.004512\n",
      "Epoch [3], Batch [150/391], Loss: 4.0415, LR: 0.004767\n",
      "Epoch [3], Batch [200/391], Loss: 3.8093, LR: 0.005023\n",
      "Epoch [3], Batch [250/391], Loss: 2.8377, LR: 0.005279\n",
      "Epoch [3], Batch [300/391], Loss: 2.9366, LR: 0.005535\n",
      "Epoch [3], Batch [350/391], Loss: 2.7980, LR: 0.005790\n",
      "Train set: Epoch: 3, Average loss:3.3317, LR: 0.006000 Top-1 Accuracy: 21.8020%, Top-5 Accuracy: 50.9640%, Time consumed:90.53s\n",
      "Test set: Epoch: 3, Average loss:2.6647, Top-1 Accuracy: 31.7800%, Top-5 Accuracy: 63.8200%, Time consumed:8.10s\n",
      "\n",
      "새로운 최고 top-1 정확도: 31.78%, top-5 정확도: 63.82%\n",
      "새로운 최고 top-5 정확도: 63.82%\n",
      "Accuracy improved (21.33% --> 31.78%). Saving model ...\n"
     ]
    },
    {
     "name": "stderr",
     "output_type": "stream",
     "text": [
      "  1%|▉                                                                                           | 3/300 [05:02<8:17:54, 100.59s/it]"
     ]
    },
    {
     "name": "stdout",
     "output_type": "stream",
     "text": [
      "Epoch [4], Batch [50/391], Loss: 3.1691, LR: 0.006256\n",
      "Epoch [4], Batch [100/391], Loss: 2.8669, LR: 0.006512\n",
      "Epoch [4], Batch [150/391], Loss: 2.6220, LR: 0.006767\n",
      "Epoch [4], Batch [200/391], Loss: 2.6368, LR: 0.007023\n",
      "Epoch [4], Batch [250/391], Loss: 3.8379, LR: 0.007279\n",
      "Epoch [4], Batch [300/391], Loss: 3.5700, LR: 0.007535\n",
      "Epoch [4], Batch [350/391], Loss: 2.4219, LR: 0.007790\n",
      "Train set: Epoch: 4, Average loss:2.9721, LR: 0.008000 Top-1 Accuracy: 29.2860%, Top-5 Accuracy: 60.6960%, Time consumed:93.83s\n",
      "Test set: Epoch: 4, Average loss:2.3399, Top-1 Accuracy: 38.1600%, Top-5 Accuracy: 71.0900%, Time consumed:8.36s\n",
      "\n",
      "새로운 최고 top-1 정확도: 38.16%, top-5 정확도: 71.09%\n",
      "새로운 최고 top-5 정확도: 71.09%\n",
      "Accuracy improved (31.78% --> 38.16%). Saving model ...\n"
     ]
    },
    {
     "name": "stderr",
     "output_type": "stream",
     "text": [
      "  1%|█▏                                                                                          | 4/300 [06:44<8:19:49, 101.32s/it]"
     ]
    },
    {
     "name": "stdout",
     "output_type": "stream",
     "text": [
      "Epoch [5], Batch [50/391], Loss: 3.8390, LR: 0.008256\n",
      "Epoch [5], Batch [100/391], Loss: 3.3550, LR: 0.008512\n",
      "Epoch [5], Batch [150/391], Loss: 2.1009, LR: 0.008767\n",
      "Epoch [5], Batch [200/391], Loss: 3.2485, LR: 0.009023\n",
      "Epoch [5], Batch [250/391], Loss: 2.1393, LR: 0.009279\n",
      "Epoch [5], Batch [300/391], Loss: 2.1440, LR: 0.009535\n",
      "Epoch [5], Batch [350/391], Loss: 2.0353, LR: 0.009790\n",
      "Train set: Epoch: 5, Average loss:2.7229, LR: 0.010000 Top-1 Accuracy: 35.2300%, Top-5 Accuracy: 66.9600%, Time consumed:94.16s\n",
      "Test set: Epoch: 5, Average loss:2.0010, Top-1 Accuracy: 46.0400%, Top-5 Accuracy: 77.8200%, Time consumed:9.04s\n",
      "\n",
      "새로운 최고 top-1 정확도: 46.04%, top-5 정확도: 77.82%\n",
      "새로운 최고 top-5 정확도: 77.82%\n",
      "Accuracy improved (38.16% --> 46.04%). Saving model ...\n"
     ]
    },
    {
     "name": "stderr",
     "output_type": "stream",
     "text": [
      "  2%|█▌                                                                                          | 5/300 [08:28<8:21:56, 102.09s/it]"
     ]
    },
    {
     "name": "stdout",
     "output_type": "stream",
     "text": [
      "Epoch [6], Batch [50/391], Loss: 2.5787, LR: 0.010000\n",
      "Epoch [6], Batch [100/391], Loss: 1.7364, LR: 0.010000\n",
      "Epoch [6], Batch [150/391], Loss: 3.6242, LR: 0.010000\n",
      "Epoch [6], Batch [200/391], Loss: 3.0872, LR: 0.010000\n",
      "Epoch [6], Batch [250/391], Loss: 2.1317, LR: 0.010000\n",
      "Epoch [6], Batch [300/391], Loss: 1.8930, LR: 0.010000\n",
      "Epoch [6], Batch [350/391], Loss: 2.8879, LR: 0.010000\n",
      "Train set: Epoch: 6, Average loss:2.6331, LR: 0.010000 Top-1 Accuracy: 38.7280%, Top-5 Accuracy: 69.2240%, Time consumed:96.24s\n",
      "Test set: Epoch: 6, Average loss:1.8909, Top-1 Accuracy: 48.8300%, Top-5 Accuracy: 79.4000%, Time consumed:9.13s\n",
      "\n",
      "새로운 최고 top-1 정확도: 48.83%, top-5 정확도: 79.40%\n",
      "새로운 최고 top-5 정확도: 79.40%\n",
      "Accuracy improved (46.04% --> 48.83%). Saving model ...\n"
     ]
    },
    {
     "name": "stderr",
     "output_type": "stream",
     "text": [
      "  2%|█▊                                                                                          | 6/300 [10:13<8:26:07, 103.29s/it]"
     ]
    },
    {
     "name": "stdout",
     "output_type": "stream",
     "text": [
      "Epoch [7], Batch [50/391], Loss: 3.5995, LR: 0.010000\n",
      "Epoch [7], Batch [100/391], Loss: 3.5471, LR: 0.010000\n",
      "Epoch [7], Batch [150/391], Loss: 1.5324, LR: 0.010000\n",
      "Epoch [7], Batch [200/391], Loss: 1.5266, LR: 0.010000\n",
      "Epoch [7], Batch [250/391], Loss: 3.6060, LR: 0.010000\n",
      "Epoch [7], Batch [300/391], Loss: 3.4678, LR: 0.010000\n",
      "Epoch [7], Batch [350/391], Loss: 2.1975, LR: 0.010000\n",
      "Train set: Epoch: 7, Average loss:2.4396, LR: 0.010000 Top-1 Accuracy: 43.1080%, Top-5 Accuracy: 73.2060%, Time consumed:93.45s\n",
      "Test set: Epoch: 7, Average loss:1.6691, Top-1 Accuracy: 54.1100%, Top-5 Accuracy: 83.2900%, Time consumed:8.50s\n",
      "\n",
      "새로운 최고 top-1 정확도: 54.11%, top-5 정확도: 83.29%\n",
      "새로운 최고 top-5 정확도: 83.29%\n",
      "Accuracy improved (48.83% --> 54.11%). Saving model ...\n"
     ]
    },
    {
     "name": "stderr",
     "output_type": "stream",
     "text": [
      "  2%|██▏                                                                                         | 7/300 [11:56<8:22:40, 102.94s/it]"
     ]
    },
    {
     "name": "stdout",
     "output_type": "stream",
     "text": [
      "Epoch [8], Batch [50/391], Loss: 1.6941, LR: 0.010000\n",
      "Epoch [8], Batch [100/391], Loss: 3.5938, LR: 0.010000\n",
      "Epoch [8], Batch [150/391], Loss: 1.4686, LR: 0.010000\n",
      "Epoch [8], Batch [200/391], Loss: 1.6023, LR: 0.010000\n",
      "Epoch [8], Batch [250/391], Loss: 1.5122, LR: 0.010000\n",
      "Epoch [8], Batch [300/391], Loss: 1.4355, LR: 0.010000\n",
      "Epoch [8], Batch [350/391], Loss: 2.4312, LR: 0.010000\n",
      "Train set: Epoch: 8, Average loss:2.3629, LR: 0.010000 Top-1 Accuracy: 45.7120%, Top-5 Accuracy: 75.1420%, Time consumed:90.92s\n"
     ]
    },
    {
     "name": "stderr",
     "output_type": "stream",
     "text": [
      "  3%|██▍                                                                                         | 8/300 [13:35<8:15:00, 101.71s/it]"
     ]
    },
    {
     "name": "stdout",
     "output_type": "stream",
     "text": [
      "Test set: Epoch: 8, Average loss:1.7279, Top-1 Accuracy: 53.6700%, Top-5 Accuracy: 82.2000%, Time consumed:8.17s\n",
      "\n",
      "EarlyStopping 카운터: 1 / 30\n",
      "Epoch [9], Batch [50/391], Loss: 1.4759, LR: 0.010000\n",
      "Epoch [9], Batch [100/391], Loss: 3.3286, LR: 0.010000\n",
      "Epoch [9], Batch [150/391], Loss: 1.5119, LR: 0.010000\n",
      "Epoch [9], Batch [200/391], Loss: 1.6081, LR: 0.010000\n",
      "Epoch [9], Batch [250/391], Loss: 3.5524, LR: 0.010000\n",
      "Epoch [9], Batch [300/391], Loss: 1.6328, LR: 0.010000\n",
      "Epoch [9], Batch [350/391], Loss: 3.2784, LR: 0.010000\n",
      "Train set: Epoch: 9, Average loss:2.2001, LR: 0.010000 Top-1 Accuracy: 49.3040%, Top-5 Accuracy: 78.0700%, Time consumed:92.98s\n",
      "Test set: Epoch: 9, Average loss:1.6357, Top-1 Accuracy: 55.7000%, Top-5 Accuracy: 83.7000%, Time consumed:8.19s\n",
      "\n",
      "새로운 최고 top-1 정확도: 55.70%, top-5 정확도: 83.70%\n",
      "새로운 최고 top-5 정확도: 83.70%\n",
      "Accuracy improved (54.11% --> 55.70%). Saving model ...\n"
     ]
    },
    {
     "name": "stderr",
     "output_type": "stream",
     "text": [
      "  3%|██▊                                                                                         | 9/300 [15:16<8:12:51, 101.62s/it]"
     ]
    },
    {
     "name": "stdout",
     "output_type": "stream",
     "text": [
      "Epoch [10], Batch [50/391], Loss: 1.3945, LR: 0.010000\n",
      "Epoch [10], Batch [100/391], Loss: 1.2465, LR: 0.010000\n",
      "Epoch [10], Batch [150/391], Loss: 3.3033, LR: 0.010000\n",
      "Epoch [10], Batch [200/391], Loss: 1.2888, LR: 0.010000\n",
      "Epoch [10], Batch [250/391], Loss: 1.5038, LR: 0.010000\n",
      "Epoch [10], Batch [300/391], Loss: 1.4028, LR: 0.010000\n",
      "Epoch [10], Batch [350/391], Loss: 1.2001, LR: 0.010000\n",
      "Train set: Epoch: 10, Average loss:2.0976, LR: 0.010000 Top-1 Accuracy: 51.9860%, Top-5 Accuracy: 80.2120%, Time consumed:90.05s\n",
      "Test set: Epoch: 10, Average loss:1.6199, Top-1 Accuracy: 56.4500%, Top-5 Accuracy: 84.2300%, Time consumed:8.09s\n",
      "\n",
      "새로운 최고 top-1 정확도: 56.45%, top-5 정확도: 84.23%\n",
      "새로운 최고 top-5 정확도: 84.23%\n",
      "Accuracy improved (55.70% --> 56.45%). Saving model ...\n"
     ]
    },
    {
     "name": "stderr",
     "output_type": "stream",
     "text": [
      "  3%|███                                                                                        | 10/300 [16:55<8:06:22, 100.63s/it]"
     ]
    },
    {
     "name": "stdout",
     "output_type": "stream",
     "text": [
      "Epoch [11], Batch [50/391], Loss: 1.2256, LR: 0.010000\n",
      "Epoch [11], Batch [100/391], Loss: 1.2094, LR: 0.010000\n",
      "Epoch [11], Batch [150/391], Loss: 1.5612, LR: 0.010000\n",
      "Epoch [11], Batch [200/391], Loss: 1.3575, LR: 0.010000\n",
      "Epoch [11], Batch [250/391], Loss: 1.2561, LR: 0.010000\n",
      "Epoch [11], Batch [300/391], Loss: 2.8355, LR: 0.010000\n",
      "Epoch [11], Batch [350/391], Loss: 1.3629, LR: 0.010000\n",
      "Train set: Epoch: 11, Average loss:2.0274, LR: 0.010000 Top-1 Accuracy: 53.9100%, Top-5 Accuracy: 81.4060%, Time consumed:89.04s\n",
      "Test set: Epoch: 11, Average loss:1.4695, Top-1 Accuracy: 59.3900%, Top-5 Accuracy: 85.7000%, Time consumed:8.38s\n",
      "\n",
      "새로운 최고 top-1 정확도: 59.39%, top-5 정확도: 85.70%\n",
      "새로운 최고 top-5 정확도: 85.70%\n",
      "Accuracy improved (56.45% --> 59.39%). Saving model ...\n"
     ]
    },
    {
     "name": "stderr",
     "output_type": "stream",
     "text": [
      "  4%|███▎                                                                                        | 11/300 [18:32<8:00:19, 99.72s/it]"
     ]
    },
    {
     "name": "stdout",
     "output_type": "stream",
     "text": [
      "Epoch [12], Batch [50/391], Loss: 3.0174, LR: 0.010000\n",
      "Epoch [12], Batch [100/391], Loss: 1.3715, LR: 0.010000\n",
      "Epoch [12], Batch [150/391], Loss: 0.9964, LR: 0.010000\n",
      "Epoch [12], Batch [200/391], Loss: 3.0314, LR: 0.010000\n",
      "Epoch [12], Batch [250/391], Loss: 1.3879, LR: 0.010000\n",
      "Epoch [12], Batch [300/391], Loss: 1.0072, LR: 0.010000\n",
      "Epoch [12], Batch [350/391], Loss: 1.1371, LR: 0.010000\n",
      "Train set: Epoch: 12, Average loss:1.9590, LR: 0.010000 Top-1 Accuracy: 55.5480%, Top-5 Accuracy: 82.4800%, Time consumed:89.18s\n",
      "Test set: Epoch: 12, Average loss:1.3505, Top-1 Accuracy: 62.1400%, Top-5 Accuracy: 87.9800%, Time consumed:8.99s\n",
      "\n",
      "새로운 최고 top-1 정확도: 62.14%, top-5 정확도: 87.98%\n",
      "새로운 최고 top-5 정확도: 87.98%\n",
      "Accuracy improved (59.39% --> 62.14%). Saving model ...\n"
     ]
    },
    {
     "name": "stderr",
     "output_type": "stream",
     "text": [
      "  4%|███▋                                                                                        | 12/300 [20:11<7:56:44, 99.32s/it]"
     ]
    },
    {
     "name": "stdout",
     "output_type": "stream",
     "text": [
      "Epoch [13], Batch [50/391], Loss: 3.3230, LR: 0.010000\n",
      "Epoch [13], Batch [100/391], Loss: 3.3444, LR: 0.010000\n",
      "Epoch [13], Batch [150/391], Loss: 1.3384, LR: 0.010000\n",
      "Epoch [13], Batch [200/391], Loss: 3.0272, LR: 0.010000\n",
      "Epoch [13], Batch [250/391], Loss: 3.3493, LR: 0.010000\n",
      "Epoch [13], Batch [300/391], Loss: 1.9738, LR: 0.010000\n",
      "Epoch [13], Batch [350/391], Loss: 3.1221, LR: 0.010000\n",
      "Train set: Epoch: 13, Average loss:2.0172, LR: 0.010000 Top-1 Accuracy: 56.0540%, Top-5 Accuracy: 82.3700%, Time consumed:89.19s\n"
     ]
    },
    {
     "name": "stderr",
     "output_type": "stream",
     "text": [
      "  4%|███▉                                                                                        | 13/300 [21:49<7:53:05, 98.90s/it]"
     ]
    },
    {
     "name": "stdout",
     "output_type": "stream",
     "text": [
      "Test set: Epoch: 13, Average loss:1.4139, Top-1 Accuracy: 61.8000%, Top-5 Accuracy: 87.5000%, Time consumed:8.74s\n",
      "\n",
      "EarlyStopping 카운터: 1 / 30\n",
      "Epoch [14], Batch [50/391], Loss: 2.6200, LR: 0.010000\n",
      "Epoch [14], Batch [100/391], Loss: 0.7389, LR: 0.010000\n",
      "Epoch [14], Batch [150/391], Loss: 1.1539, LR: 0.010000\n",
      "Epoch [14], Batch [200/391], Loss: 2.2253, LR: 0.010000\n",
      "Epoch [14], Batch [250/391], Loss: 2.7622, LR: 0.010000\n",
      "Epoch [14], Batch [300/391], Loss: 1.0358, LR: 0.010000\n",
      "Epoch [14], Batch [350/391], Loss: 3.1959, LR: 0.010000\n",
      "Train set: Epoch: 14, Average loss:1.9088, LR: 0.010000 Top-1 Accuracy: 58.3120%, Top-5 Accuracy: 84.1640%, Time consumed:88.32s\n",
      "Test set: Epoch: 14, Average loss:1.3160, Top-1 Accuracy: 63.7900%, Top-5 Accuracy: 88.6300%, Time consumed:8.22s\n",
      "\n",
      "새로운 최고 top-1 정확도: 63.79%, top-5 정확도: 88.63%\n",
      "새로운 최고 top-5 정확도: 88.63%\n",
      "Accuracy improved (62.14% --> 63.79%). Saving model ...\n"
     ]
    },
    {
     "name": "stderr",
     "output_type": "stream",
     "text": [
      "  5%|████▎                                                                                       | 14/300 [23:25<7:48:23, 98.26s/it]"
     ]
    },
    {
     "name": "stdout",
     "output_type": "stream",
     "text": [
      "Epoch [15], Batch [50/391], Loss: 1.0252, LR: 0.010000\n",
      "Epoch [15], Batch [100/391], Loss: 2.9919, LR: 0.010000\n",
      "Epoch [15], Batch [150/391], Loss: 1.1158, LR: 0.010000\n",
      "Epoch [15], Batch [200/391], Loss: 2.9001, LR: 0.010000\n",
      "Epoch [15], Batch [250/391], Loss: 2.6305, LR: 0.010000\n",
      "Epoch [15], Batch [300/391], Loss: 0.7260, LR: 0.010000\n",
      "Epoch [15], Batch [350/391], Loss: 1.0409, LR: 0.010000\n",
      "Train set: Epoch: 15, Average loss:1.8724, LR: 0.010000 Top-1 Accuracy: 58.6980%, Top-5 Accuracy: 83.7240%, Time consumed:90.70s\n"
     ]
    },
    {
     "name": "stderr",
     "output_type": "stream",
     "text": [
      "  5%|████▌                                                                                       | 15/300 [25:04<7:47:44, 98.47s/it]"
     ]
    },
    {
     "name": "stdout",
     "output_type": "stream",
     "text": [
      "Test set: Epoch: 15, Average loss:1.3459, Top-1 Accuracy: 63.4300%, Top-5 Accuracy: 88.0500%, Time consumed:8.25s\n",
      "\n",
      "EarlyStopping 카운터: 1 / 30\n",
      "Epoch [16], Batch [50/391], Loss: 0.9209, LR: 0.010000\n",
      "Epoch [16], Batch [100/391], Loss: 1.0218, LR: 0.010000\n",
      "Epoch [16], Batch [150/391], Loss: 0.9059, LR: 0.010000\n",
      "Epoch [16], Batch [200/391], Loss: 3.3158, LR: 0.010000\n",
      "Epoch [16], Batch [250/391], Loss: 3.1980, LR: 0.010000\n",
      "Epoch [16], Batch [300/391], Loss: 1.0154, LR: 0.010000\n",
      "Epoch [16], Batch [350/391], Loss: 1.0829, LR: 0.010000\n",
      "Train set: Epoch: 16, Average loss:1.8286, LR: 0.010000 Top-1 Accuracy: 59.9980%, Top-5 Accuracy: 84.6520%, Time consumed:87.96s\n",
      "Test set: Epoch: 16, Average loss:1.2242, Top-1 Accuracy: 65.4000%, Top-5 Accuracy: 89.8900%, Time consumed:8.42s\n",
      "\n",
      "새로운 최고 top-1 정확도: 65.40%, top-5 정확도: 89.89%\n",
      "새로운 최고 top-5 정확도: 89.89%\n",
      "Accuracy improved (63.79% --> 65.40%). Saving model ...\n"
     ]
    },
    {
     "name": "stderr",
     "output_type": "stream",
     "text": [
      "  5%|████▉                                                                                       | 16/300 [26:41<7:43:33, 97.94s/it]"
     ]
    },
    {
     "name": "stdout",
     "output_type": "stream",
     "text": [
      "Epoch [17], Batch [50/391], Loss: 1.6794, LR: 0.010000\n",
      "Epoch [17], Batch [100/391], Loss: 2.0241, LR: 0.010000\n",
      "Epoch [17], Batch [150/391], Loss: 2.6312, LR: 0.010000\n",
      "Epoch [17], Batch [200/391], Loss: 0.8840, LR: 0.010000\n",
      "Epoch [17], Batch [250/391], Loss: 2.7965, LR: 0.010000\n",
      "Epoch [17], Batch [300/391], Loss: 2.7870, LR: 0.010000\n",
      "Epoch [17], Batch [350/391], Loss: 1.4999, LR: 0.010000\n",
      "Train set: Epoch: 17, Average loss:1.7685, LR: 0.010000 Top-1 Accuracy: 60.7520%, Top-5 Accuracy: 84.9500%, Time consumed:88.71s\n"
     ]
    },
    {
     "name": "stderr",
     "output_type": "stream",
     "text": [
      "  6%|█████▏                                                                                      | 17/300 [28:18<7:40:19, 97.60s/it]"
     ]
    },
    {
     "name": "stdout",
     "output_type": "stream",
     "text": [
      "Test set: Epoch: 17, Average loss:1.2480, Top-1 Accuracy: 65.3900%, Top-5 Accuracy: 89.1400%, Time consumed:8.08s\n",
      "\n",
      "EarlyStopping 카운터: 1 / 30\n",
      "Epoch [18], Batch [50/391], Loss: 0.6875, LR: 0.010000\n",
      "Epoch [18], Batch [100/391], Loss: 0.8873, LR: 0.010000\n",
      "Epoch [18], Batch [150/391], Loss: 2.0307, LR: 0.010000\n",
      "Epoch [18], Batch [200/391], Loss: 0.7984, LR: 0.010000\n",
      "Epoch [18], Batch [250/391], Loss: 3.2986, LR: 0.010000\n",
      "Epoch [18], Batch [300/391], Loss: 2.1950, LR: 0.010000\n",
      "Epoch [18], Batch [350/391], Loss: 2.8187, LR: 0.010000\n",
      "Train set: Epoch: 18, Average loss:1.7113, LR: 0.010000 Top-1 Accuracy: 63.0800%, Top-5 Accuracy: 86.6840%, Time consumed:90.86s\n",
      "Test set: Epoch: 18, Average loss:1.2431, Top-1 Accuracy: 65.6300%, Top-5 Accuracy: 89.6000%, Time consumed:8.03s\n",
      "\n",
      "새로운 최고 top-1 정확도: 65.63%, top-5 정확도: 89.60%\n",
      "Accuracy improved (65.40% --> 65.63%). Saving model ...\n"
     ]
    },
    {
     "name": "stderr",
     "output_type": "stream",
     "text": [
      "  6%|█████▌                                                                                      | 18/300 [29:57<7:40:55, 98.07s/it]"
     ]
    },
    {
     "name": "stdout",
     "output_type": "stream",
     "text": [
      "Epoch [19], Batch [50/391], Loss: 2.2731, LR: 0.010000\n",
      "Epoch [19], Batch [100/391], Loss: 1.0484, LR: 0.010000\n",
      "Epoch [19], Batch [150/391], Loss: 2.6294, LR: 0.010000\n",
      "Epoch [19], Batch [200/391], Loss: 1.0181, LR: 0.010000\n",
      "Epoch [19], Batch [250/391], Loss: 0.8232, LR: 0.010000\n",
      "Epoch [19], Batch [300/391], Loss: 2.4790, LR: 0.010000\n",
      "Epoch [19], Batch [350/391], Loss: 2.9758, LR: 0.010000\n",
      "Train set: Epoch: 19, Average loss:1.7287, LR: 0.010000 Top-1 Accuracy: 62.4540%, Top-5 Accuracy: 85.9420%, Time consumed:94.42s\n",
      "Test set: Epoch: 19, Average loss:1.2058, Top-1 Accuracy: 66.3000%, Top-5 Accuracy: 90.0400%, Time consumed:8.21s\n",
      "\n",
      "새로운 최고 top-1 정확도: 66.30%, top-5 정확도: 90.04%\n",
      "새로운 최고 top-5 정확도: 90.04%\n",
      "Accuracy improved (65.63% --> 66.30%). Saving model ...\n"
     ]
    },
    {
     "name": "stderr",
     "output_type": "stream",
     "text": [
      "  6%|█████▊                                                                                      | 19/300 [31:40<7:46:05, 99.52s/it]"
     ]
    },
    {
     "name": "stdout",
     "output_type": "stream",
     "text": [
      "Epoch [20], Batch [50/391], Loss: 0.8161, LR: 0.010000\n",
      "Epoch [20], Batch [100/391], Loss: 0.8804, LR: 0.010000\n",
      "Epoch [20], Batch [150/391], Loss: 1.2676, LR: 0.010000\n",
      "Epoch [20], Batch [200/391], Loss: 0.6969, LR: 0.010000\n",
      "Epoch [20], Batch [250/391], Loss: 0.8443, LR: 0.010000\n",
      "Epoch [20], Batch [300/391], Loss: 1.5636, LR: 0.010000\n",
      "Epoch [20], Batch [350/391], Loss: 2.9584, LR: 0.010000\n",
      "Train set: Epoch: 20, Average loss:1.6785, LR: 0.010000 Top-1 Accuracy: 64.8960%, Top-5 Accuracy: 87.5360%, Time consumed:89.76s\n"
     ]
    },
    {
     "name": "stderr",
     "output_type": "stream",
     "text": [
      "  7%|██████▏                                                                                     | 20/300 [33:18<7:42:35, 99.13s/it]"
     ]
    },
    {
     "name": "stdout",
     "output_type": "stream",
     "text": [
      "Test set: Epoch: 20, Average loss:1.2607, Top-1 Accuracy: 66.1500%, Top-5 Accuracy: 89.4500%, Time consumed:8.45s\n",
      "\n",
      "EarlyStopping 카운터: 1 / 30\n",
      "Epoch [21], Batch [50/391], Loss: 2.4809, LR: 0.010000\n",
      "Epoch [21], Batch [100/391], Loss: 3.2015, LR: 0.010000\n",
      "Epoch [21], Batch [150/391], Loss: 0.6789, LR: 0.010000\n",
      "Epoch [21], Batch [200/391], Loss: 0.7783, LR: 0.010000\n",
      "Epoch [21], Batch [250/391], Loss: 0.5351, LR: 0.010000\n",
      "Epoch [21], Batch [300/391], Loss: 3.1097, LR: 0.010000\n",
      "Epoch [21], Batch [350/391], Loss: 3.0556, LR: 0.010000\n",
      "Train set: Epoch: 21, Average loss:1.7365, LR: 0.010000 Top-1 Accuracy: 63.4520%, Top-5 Accuracy: 86.3180%, Time consumed:90.19s\n",
      "Test set: Epoch: 21, Average loss:1.1681, Top-1 Accuracy: 67.1400%, Top-5 Accuracy: 90.4600%, Time consumed:8.07s\n",
      "\n",
      "새로운 최고 top-1 정확도: 67.14%, top-5 정확도: 90.46%\n",
      "새로운 최고 top-5 정확도: 90.46%\n",
      "Accuracy improved (66.30% --> 67.14%). Saving model ...\n"
     ]
    },
    {
     "name": "stderr",
     "output_type": "stream",
     "text": [
      "  7%|██████▍                                                                                     | 21/300 [34:57<7:40:08, 98.95s/it]"
     ]
    },
    {
     "name": "stdout",
     "output_type": "stream",
     "text": [
      "Epoch [22], Batch [50/391], Loss: 2.2588, LR: 0.010000\n",
      "Epoch [22], Batch [100/391], Loss: 0.4932, LR: 0.010000\n",
      "Epoch [22], Batch [150/391], Loss: 2.2418, LR: 0.010000\n",
      "Epoch [22], Batch [200/391], Loss: 0.5837, LR: 0.010000\n",
      "Epoch [22], Batch [250/391], Loss: 0.5170, LR: 0.010000\n",
      "Epoch [22], Batch [300/391], Loss: 2.2442, LR: 0.010000\n",
      "Epoch [22], Batch [350/391], Loss: 2.8448, LR: 0.010000\n",
      "Train set: Epoch: 22, Average loss:1.5761, LR: 0.010000 Top-1 Accuracy: 66.6740%, Top-5 Accuracy: 88.1980%, Time consumed:88.98s\n",
      "Test set: Epoch: 22, Average loss:1.1731, Top-1 Accuracy: 67.5000%, Top-5 Accuracy: 90.5400%, Time consumed:8.16s\n",
      "\n",
      "새로운 최고 top-1 정확도: 67.50%, top-5 정확도: 90.54%\n",
      "새로운 최고 top-5 정확도: 90.54%\n",
      "Accuracy improved (67.14% --> 67.50%). Saving model ...\n"
     ]
    },
    {
     "name": "stderr",
     "output_type": "stream",
     "text": [
      "  7%|██████▋                                                                                     | 22/300 [36:34<7:36:18, 98.49s/it]"
     ]
    },
    {
     "name": "stdout",
     "output_type": "stream",
     "text": [
      "Epoch [23], Batch [50/391], Loss: 1.0986, LR: 0.010000\n",
      "Epoch [23], Batch [100/391], Loss: 3.4793, LR: 0.010000\n",
      "Epoch [23], Batch [150/391], Loss: 2.5732, LR: 0.010000\n",
      "Epoch [23], Batch [200/391], Loss: 0.6118, LR: 0.010000\n",
      "Epoch [23], Batch [250/391], Loss: 0.5637, LR: 0.010000\n",
      "Epoch [23], Batch [300/391], Loss: 0.5179, LR: 0.010000\n",
      "Epoch [23], Batch [350/391], Loss: 3.1281, LR: 0.010000\n",
      "Train set: Epoch: 23, Average loss:1.5945, LR: 0.010000 Top-1 Accuracy: 67.1180%, Top-5 Accuracy: 88.2780%, Time consumed:94.20s\n",
      "Test set: Epoch: 23, Average loss:1.1823, Top-1 Accuracy: 67.5100%, Top-5 Accuracy: 89.9800%, Time consumed:8.24s\n",
      "\n",
      "새로운 최고 top-1 정확도: 67.51%, top-5 정확도: 89.98%\n",
      "Accuracy improved (67.50% --> 67.51%). Saving model ...\n"
     ]
    },
    {
     "name": "stderr",
     "output_type": "stream",
     "text": [
      "  8%|███████                                                                                     | 23/300 [38:17<7:40:29, 99.74s/it]"
     ]
    },
    {
     "name": "stdout",
     "output_type": "stream",
     "text": [
      "Epoch [24], Batch [50/391], Loss: 0.4199, LR: 0.010000\n",
      "Epoch [24], Batch [100/391], Loss: 2.4438, LR: 0.010000\n",
      "Epoch [24], Batch [150/391], Loss: 0.6514, LR: 0.010000\n",
      "Epoch [24], Batch [200/391], Loss: 0.5871, LR: 0.010000\n",
      "Epoch [24], Batch [250/391], Loss: 0.5344, LR: 0.010000\n",
      "Epoch [24], Batch [300/391], Loss: 0.6076, LR: 0.010000\n",
      "Epoch [24], Batch [350/391], Loss: 0.7009, LR: 0.010000\n",
      "Train set: Epoch: 24, Average loss:1.4884, LR: 0.010000 Top-1 Accuracy: 67.7540%, Top-5 Accuracy: 88.2160%, Time consumed:91.67s\n",
      "Test set: Epoch: 24, Average loss:1.1726, Top-1 Accuracy: 67.8800%, Top-5 Accuracy: 90.0300%, Time consumed:8.36s\n",
      "\n",
      "새로운 최고 top-1 정확도: 67.88%, top-5 정확도: 90.03%\n",
      "Accuracy improved (67.51% --> 67.88%). Saving model ...\n"
     ]
    },
    {
     "name": "stderr",
     "output_type": "stream",
     "text": [
      "  8%|███████▎                                                                                    | 24/300 [39:57<7:39:33, 99.91s/it]"
     ]
    },
    {
     "name": "stdout",
     "output_type": "stream",
     "text": [
      "Epoch [25], Batch [50/391], Loss: 0.5745, LR: 0.010000\n",
      "Epoch [25], Batch [100/391], Loss: 0.5118, LR: 0.010000\n",
      "Epoch [25], Batch [150/391], Loss: 0.5782, LR: 0.010000\n",
      "Epoch [25], Batch [200/391], Loss: 0.4586, LR: 0.010000\n",
      "Epoch [25], Batch [250/391], Loss: 0.5844, LR: 0.010000\n",
      "Epoch [25], Batch [300/391], Loss: 2.6163, LR: 0.010000\n",
      "Epoch [25], Batch [350/391], Loss: 0.6092, LR: 0.010000\n",
      "Train set: Epoch: 25, Average loss:1.5804, LR: 0.010000 Top-1 Accuracy: 67.3440%, Top-5 Accuracy: 88.2660%, Time consumed:94.32s\n",
      "Test set: Epoch: 25, Average loss:1.1893, Top-1 Accuracy: 67.9000%, Top-5 Accuracy: 90.0100%, Time consumed:8.74s\n",
      "\n",
      "새로운 최고 top-1 정확도: 67.90%, top-5 정확도: 90.01%\n",
      "Accuracy improved (67.88% --> 67.90%). Saving model ...\n"
     ]
    },
    {
     "name": "stderr",
     "output_type": "stream",
     "text": [
      "  8%|███████▌                                                                                   | 25/300 [41:40<7:42:35, 100.93s/it]"
     ]
    },
    {
     "name": "stdout",
     "output_type": "stream",
     "text": [
      "Epoch [26], Batch [50/391], Loss: 0.4140, LR: 0.010000\n",
      "Epoch [26], Batch [100/391], Loss: 0.5415, LR: 0.010000\n",
      "Train set: Epoch: 26, Average loss:1.3923, LR: 0.010000 Top-1 Accuracy: 70.9580%, Top-5 Accuracy: 90.4360%, Time consumed:91.79s\n",
      "Test set: Epoch: 26, Average loss:1.1603, Top-1 Accuracy: 68.3500%, Top-5 Accuracy: 90.7400%, Time consumed:8.17s\n",
      "\n",
      "새로운 최고 top-1 정확도: 68.35%, top-5 정확도: 90.74%\n",
      "새로운 최고 top-5 정확도: 90.74%\n",
      "Accuracy improved (67.90% --> 68.35%). Saving model ...\n"
     ]
    },
    {
     "name": "stderr",
     "output_type": "stream",
     "text": [
      "  9%|███████▉                                                                                   | 26/300 [43:20<7:39:55, 100.71s/it]"
     ]
    },
    {
     "name": "stdout",
     "output_type": "stream",
     "text": [
      "Epoch [27], Batch [50/391], Loss: 0.9763, LR: 0.010000\n",
      "Epoch [27], Batch [100/391], Loss: 0.3900, LR: 0.010000\n"
     ]
    }
   ],
   "source": [
    "import torch\n",
    "import torch.nn as nn\n",
    "import torch.optim as optim\n",
    "from torch.utils.data import DataLoader\n",
    "import torchvision\n",
    "import torchvision.transforms as transforms\n",
    "import torchvision.transforms.v2 as transforms_v2  # CutMix를 위한 v2 transforms 추가\n",
    "import sys\n",
    "import os\n",
    "import time\n",
    "import random\n",
    "import numpy as np\n",
    "import wandb\n",
    "from tqdm import tqdm\n",
    "from tools.tool import AccuracyEarlyStopping, WarmUpLR, SAM  # 수정된 AccuracyEarlyStopping 클래스 임포트\n",
    "from models.resnet import resnet18\n",
    "\n",
    "wandb.login(key=\"ef091b9abcea3186341ddf8995d62bde62d7469e\")\n",
    "wandb.init(project=\"PBL-2\", name=\"resnet18_cfc,lr=0.01,factor=0.5,SAM_standard\")  \n",
    "\n",
    "# WandB 설정\n",
    "config = {\n",
    "    \"model\": \"resnet18\",\n",
    "    \"batch_size\": 128,\n",
    "    \"num_epochs\": 300,\n",
    "    \"learning_rate\": 0.01,\n",
    "    \"optimizer\": \"Adam\",\n",
    "    \"seed\": 2025,\n",
    "    \"deterministic\": False,\n",
    "    \"patience\": 30,  # early stopping patience\n",
    "    \"max_epochs_wait\": float('inf'),  # 최대 30 에폭까지만 기다림\n",
    "    \"cutmix_alpha\": 1.0,  # CutMix 알파 파라미터 추가\n",
    "    \"cutmix_prob\": 0.5,   # CutMix 적용 확률 추가\n",
    "    \"crop_padding\": 4,    # RandomCrop 패딩 크기\n",
    "    \"crop_size\": 32,      # RandomCrop 크기 (CIFAR-100 이미지 크기는 32x32)\n",
    "    \"warmup_epochs\": 5,   # 웜업할 에폭 수 추가\n",
    "}\n",
    "wandb.config.update(config)\n",
    "\n",
    "# CIFAR-100 데이터셋 로드 - 기본 train/test 분할 사용\n",
    "transform_train = transforms.Compose([\n",
    "    transforms.RandomCrop(config[\"crop_size\"], padding=config[\"crop_padding\"]),  # 패딩 후 랜덤 크롭\n",
    "    transforms.RandomHorizontalFlip(),  # 수평 뒤집기\n",
    "    transforms.ToTensor(),\n",
    "    transforms.Normalize((0.5071, 0.4867, 0.4408), (0.2675, 0.2565, 0.2761)),\n",
    "])\n",
    "\n",
    "transform_test = transforms.Compose([\n",
    "    transforms.ToTensor(),\n",
    "    transforms.Normalize((0.5071, 0.4867, 0.4408), (0.2675, 0.2565, 0.2761)),\n",
    "])\n",
    "\n",
    "trainset = torchvision.datasets.CIFAR100(\n",
    "    root='./data', train=True, download=True, transform=transform_train)\n",
    "\n",
    "testset = torchvision.datasets.CIFAR100(\n",
    "    root='./data', train=False, download=True, transform=transform_test)\n",
    "\n",
    "# DataLoader 생성\n",
    "trainloader = DataLoader(trainset, batch_size=config[\"batch_size\"], shuffle=True, num_workers=16)\n",
    "testloader = DataLoader(testset, batch_size=config[\"batch_size\"], shuffle=False, num_workers=16)\n",
    "\n",
    "print(f\"Train set size: {len(trainset)}\")\n",
    "print(f\"Test set size: {len(testset)}\")\n",
    "\n",
    "# CutMix 변환 정의\n",
    "cutmix = transforms_v2.CutMix(alpha=config[\"cutmix_alpha\"], num_classes=100)  # CIFAR-100은 100개 클래스\n",
    "\n",
    "def train(model, trainloader, criterion, optimizer, device, epoch, warmup_scheduler=None, warmup_epochs=5):\n",
    "    \"\"\"\n",
    "    학습 함수 (CutMix 적용)\n",
    "    \"\"\"\n",
    "    model.train()   # 모델을 학습 모드로 설정\n",
    "    start_time = time.time()  # 시간 측정 시작\n",
    "    running_loss = 0.0\n",
    "    correct_top1 = 0\n",
    "    correct_top5 = 0\n",
    "    total = 0\n",
    "    \n",
    "    for i, (inputs, labels) in enumerate(trainloader):\n",
    "        inputs, labels = inputs.to(device), labels.to(device)\n",
    "        \n",
    "        # CutMix 확률적 적용\n",
    "        if random.random() < config[\"cutmix_prob\"]:\n",
    "            inputs, labels = cutmix(inputs, labels)\n",
    "            # 이 경우 labels은 원-핫 인코딩 형태로 변환됨\n",
    "            use_cutmix = True\n",
    "        else:\n",
    "            use_cutmix = False\n",
    "        \n",
    "        optimizer.zero_grad()\n",
    "        outputs = model(inputs)\n",
    "        \n",
    "        # CutMix 적용 여부에 따라 손실 함수 선택\n",
    "        if use_cutmix:\n",
    "            # CutMix가 적용된 경우 (원-핫 인코딩된 레이블)\n",
    "            loss = torch.nn.functional.cross_entropy(outputs, labels)\n",
    "        else:\n",
    "            # 일반적인 경우 (정수 인덱스 레이블)\n",
    "            loss = criterion(outputs, labels)\n",
    "            \n",
    "        loss.backward()\n",
    "        optimizer.first_step(zero_grad=True)\n",
    "\n",
    "\n",
    "        \n",
    "        # 두 번째 forward-backward 패스\n",
    "        if use_cutmix:\n",
    "            # 새로운 forward 패스 필요\n",
    "            outputs = model(inputs)\n",
    "            loss = torch.nn.functional.cross_entropy(outputs, labels)\n",
    "        else:\n",
    "            # 새로운 forward 패스 필요\n",
    "            outputs = model(inputs)\n",
    "            loss = criterion(outputs, labels)\n",
    "        \n",
    "        loss.backward()\n",
    "        optimizer.second_step(zero_grad=True)\n",
    "\n",
    "        # 학습률 스케줄러 업데이트 - warmup 스케줄러만 여기서 업데이트\n",
    "        if epoch < warmup_epochs and warmup_scheduler is not None:\n",
    "            warmup_scheduler.step()\n",
    "        \n",
    "        running_loss += loss.item()\n",
    "\n",
    "        # 정확도 계산 - CutMix 적용 여부에 따라 다르게 처리\n",
    "        if use_cutmix:\n",
    "            # 원-핫 인코딩된 레이블에서 argmax를 사용해 가장 큰 값의 인덱스 추출\n",
    "            _, label_idx = labels.max(1)\n",
    "        else:\n",
    "            # 정수 인덱스 레이블 그대로 사용\n",
    "            label_idx = labels\n",
    "        \n",
    "    \n",
    "        # top-1 정확도 계산\n",
    "        _, predicted = outputs.max(1)\n",
    "        total += inputs.size(0)\n",
    "        correct_top1 += predicted.eq(label_idx).sum().item()\n",
    "        \n",
    "        # top-5 정확도 계산\n",
    "        _, top5_idx = outputs.topk(5, 1, largest=True, sorted=True)\n",
    "        correct_top5 += sum([1 for i in range(len(label_idx)) if label_idx[i] in top5_idx[i]])\n",
    "        \n",
    "        if (i + 1) % 50 == 0:  # 50 배치마다 출력\n",
    "            print(f'Epoch [{epoch+1}], Batch [{i+1}/{len(trainloader)}], Loss: {loss.item():.4f}, LR: {optimizer.param_groups[0][\"lr\"]:.6f}')\n",
    "    \n",
    "    epoch_loss = running_loss / len(trainloader)\n",
    "    accuracy_top1 = 100.0 * correct_top1 / total\n",
    "    accuracy_top5 = 100.0 * correct_top5 / total\n",
    "    \n",
    "    train_time = time.time() - start_time\n",
    "    \n",
    "    # 학습 세트에 대한 성능 출력\n",
    "    print(f'Train set: Epoch: {epoch+1}, Average loss:{epoch_loss:.4f}, LR: {optimizer.param_groups[0][\"lr\"]:.6f} '\n",
    "          f'Top-1 Accuracy: {accuracy_top1:.4f}%, Top-5 Accuracy: {accuracy_top5:.4f}%, Time consumed:{train_time:.2f}s')\n",
    "    \n",
    "    return epoch_loss, accuracy_top1, accuracy_top5\n",
    "\n",
    "def evaluate(model, dataloader, criterion, device, epoch, phase=\"test\"):\n",
    "    \"\"\"\n",
    "    평가 함수\n",
    "    \"\"\"\n",
    "    model.eval()  # 모델을 평가 모드로 설정\n",
    "    start_time = time.time()  # 시간 측정 시작\n",
    "    \n",
    "    eval_loss = 0.0\n",
    "    correct_top1 = 0\n",
    "    correct_top5 = 0\n",
    "    total = 0\n",
    "    \n",
    "    # 그래디언트 계산 비활성화\n",
    "    with torch.no_grad():\n",
    "        for inputs, labels in dataloader:\n",
    "            inputs, labels = inputs.to(device), labels.to(device)\n",
    "            \n",
    "            # 순전파\n",
    "            outputs = model(inputs)\n",
    "            \n",
    "            # 손실 계산\n",
    "            loss = criterion(outputs, labels)\n",
    "            eval_loss += loss.item()\n",
    "            \n",
    "            # top-1 정확도 계산\n",
    "            _, predicted = outputs.max(1)\n",
    "            total += labels.size(0)\n",
    "            correct_top1 += (predicted == labels).sum().item()\n",
    "            \n",
    "            # top-5 정확도 계산\n",
    "            _, top5_idx = outputs.topk(5, 1, largest=True, sorted=True)\n",
    "            correct_top5 += top5_idx.eq(labels.view(-1, 1).expand_as(top5_idx)).sum().item()\n",
    "    \n",
    "    # 평균 손실 및 정확도 계산\n",
    "    eval_loss = eval_loss / len(dataloader)\n",
    "    accuracy_top1 = 100.0 * correct_top1 / total\n",
    "    accuracy_top5 = 100.0 * correct_top5 / total\n",
    "    \n",
    "    # 평가 시간 계산\n",
    "    eval_time = time.time() - start_time\n",
    "    \n",
    "    # 테스트 세트에 대한 성능 출력\n",
    "    print(f'{phase.capitalize()} set: Epoch: {epoch+1}, Average loss:{eval_loss:.4f}, '\n",
    "          f'Top-1 Accuracy: {accuracy_top1:.4f}%, Top-5 Accuracy: {accuracy_top5:.4f}%, Time consumed:{eval_time:.2f}s')\n",
    "    print()\n",
    "    \n",
    "    return eval_loss, accuracy_top1, accuracy_top5\n",
    "\n",
    "# 메인 학습 루프\n",
    "def main_training_loop(model, trainloader, testloader, criterion, optimizer, device, num_epochs, patience, max_epochs_wait, warmup_scheduler=None, main_scheduler=None, warmup_epochs=5):\n",
    "    \"\"\"\n",
    "    메인 학습 루프 (accuracy 기준 early stopping)\n",
    "    \"\"\"\n",
    "    # 정확도 기반 얼리 스토핑 사용\n",
    "    early_stopping = AccuracyEarlyStopping(patience=patience, verbose=True, path='checkpoint.pt', max_epochs=max_epochs_wait)\n",
    "    \n",
    "    best_test_acc_top1 = 0.0\n",
    "    best_test_acc_top5 = 0.0\n",
    "    \n",
    "    # 테스트 정확도 기록을 위한 리스트\n",
    "    test_acc_top1_history = []\n",
    "    \n",
    "    # tqdm을 사용한 진행 상황 표시\n",
    "    for epoch in tqdm(range(num_epochs)):\n",
    "        # 학습\n",
    "        train_loss, train_acc_top1, train_acc_top5 = train(\n",
    "            model, \n",
    "            trainloader, \n",
    "            criterion, \n",
    "            optimizer, \n",
    "            device, \n",
    "            epoch, \n",
    "            warmup_scheduler, \n",
    "            warmup_epochs\n",
    "        )\n",
    "        \n",
    "        # 테스트 데이터로 평가\n",
    "        test_loss, test_acc_top1, test_acc_top5 = evaluate(model, testloader, criterion, device, epoch, phase=\"test\")\n",
    "\n",
    "        # 웜업 이후 ReduceLROnPlateau 스케줄러 업데이트 \n",
    "        if epoch >= warmup_epochs and main_scheduler is not None:\n",
    "            main_scheduler.step(test_acc_top1)  # 테스트 정확도에 따라 학습률 업데이트       \n",
    "            \n",
    "        # 테스트 정확도 기록\n",
    "        test_acc_top1_history.append(test_acc_top1)\n",
    "        \n",
    "        # WandB에 로깅\n",
    "        wandb.log({\n",
    "            \"epoch\": epoch + 1,\n",
    "            \"learning_rate\": optimizer.param_groups[0]['lr'],\n",
    "            \"train_loss\": train_loss,\n",
    "            \"train_accuracy_top1\": train_acc_top1,\n",
    "            \"train_accuracy_top5\": train_acc_top5,\n",
    "            \"test_loss\": test_loss,\n",
    "            \"test_accuracy_top1\": test_acc_top1,\n",
    "            \"test_accuracy_top5\": test_acc_top5\n",
    "        })\n",
    "            \n",
    "        # 최고 정확도 모델 저장 (top-1 기준)\n",
    "        if test_acc_top1 > best_test_acc_top1:\n",
    "            best_test_acc_top1 = test_acc_top1\n",
    "            best_test_acc_top5_at_best_top1 = test_acc_top5\n",
    "            print(f'새로운 최고 top-1 정확도: {best_test_acc_top1:.2f}%, top-5 정확도: {best_test_acc_top5_at_best_top1:.2f}%')\n",
    "            # 모델 저장\n",
    "            model_path = f'best_model_{wandb.run.name}.pth'\n",
    "            torch.save(model.state_dict(), model_path)\n",
    "            \n",
    "            # WandB에 모델 아티팩트 저장\n",
    "            wandb.save(model_path)\n",
    "        \n",
    "        # top-5 accuracy 기록 업데이트\n",
    "        if test_acc_top5 > best_test_acc_top5:\n",
    "            best_test_acc_top5 = test_acc_top5\n",
    "            print(f'새로운 최고 top-5 정확도: {best_test_acc_top5:.2f}%')\n",
    "\n",
    "        # Early stopping 체크 (test_acc_top1 기준)\n",
    "        early_stopping(test_acc_top1, model, epoch)\n",
    "        if early_stopping.early_stop:\n",
    "            print(f\"에폭 {epoch+1}에서 학습 조기 종료. 최고 성능 에폭: {early_stopping.best_epoch+1}\")\n",
    "            break\n",
    "    \n",
    "    # 훈련 완료 후 최고 모델 로드\n",
    "    print(\"테스트 정확도 기준 최고 모델 로드 중...\")\n",
    "    model_path = f'best_model_{wandb.run.name}.pth'\n",
    "    model.load_state_dict(torch.load(model_path))\n",
    "\n",
    "    # 최종 테스트 세트 평가\n",
    "    final_test_loss, final_test_acc_top1, final_test_acc_top5 = evaluate(model, testloader, criterion, device, num_epochs-1, phase=\"test\")\n",
    "    \n",
    "    print(f'완료! 최고 테스트 top-1 정확도: {best_test_acc_top1:.2f}%, 최고 테스트 top-5 정확도: {best_test_acc_top5:.2f}%')\n",
    "    print(f'최종 테스트 top-1 정확도: {final_test_acc_top1:.2f}%, 최종 테스트 top-5 정확도: {final_test_acc_top5:.2f}%')\n",
    "    \n",
    "    # WandB에 최종 결과 기록\n",
    "    wandb.run.summary[\"best_test_accuracy_top1\"] = best_test_acc_top1\n",
    "    wandb.run.summary[\"best_test_accuracy_top5\"] = best_test_acc_top5\n",
    "    wandb.run.summary[\"final_test_accuracy_top1\"] = final_test_acc_top1\n",
    "    wandb.run.summary[\"final_test_accuracy_top5\"] = final_test_acc_top5\n",
    "\n",
    "    # Early stopping 정보 저장\n",
    "    if early_stopping.early_stop:\n",
    "        wandb.run.summary[\"early_stopped\"] = True\n",
    "        wandb.run.summary[\"early_stopped_epoch\"] = epoch+1\n",
    "        wandb.run.summary[\"best_epoch\"] = early_stopping.best_epoch+1\n",
    "    else:\n",
    "        wandb.run.summary[\"early_stopped\"] = False\n",
    "\n",
    "\n",
    "# 디바이스 설정\n",
    "device = torch.device(\"cuda\" if torch.cuda.is_available() else \"cpu\")\n",
    "print(f\"Using device: {device}\")\n",
    "\n",
    "# 모델 초기화\n",
    "# 또는 매개변수 커스터마이징\n",
    "model = resnet18().to(device)\n",
    "criterion = nn.CrossEntropyLoss()  # 기본 CrossEntropyLoss 사용 (라벨 스무딩 없음)\n",
    "base_optimizer = optim.Adam\n",
    "optimizer = SAM(model.parameters(), base_optimizer, lr=config[\"learning_rate\"])\n",
    "\n",
    "# WarmUpLR 스케줄러 초기화\n",
    "# 웜업할 총 iteration 수 계산 (웜업 에폭 × 배치 수)\n",
    "warmup_steps = config[\"warmup_epochs\"] * len(trainloader)\n",
    "warmup_scheduler = WarmUpLR(optimizer, total_iters=warmup_steps)\n",
    "\n",
    "# 웜업 이후 사용할 스케줄러 설정 \n",
    "main_scheduler = torch.optim.lr_scheduler.ReduceLROnPlateau(\n",
    "    optimizer, \n",
    "    mode='max',           # 정확도를 모니터링하므로 'max' 모드 사용\n",
    "    factor=0.5,           # 학습률 감소 비율 (5배 감소)\n",
    "    patience=5,           # 몇 에폭 동안 개선이 없을 때 감소시킬지\n",
    "    verbose=True,         # 학습률 변경 시 출력\n",
    "    threshold=0.01,        # 개선으로 간주할 최소 변화량\n",
    "    min_lr=1e-6\n",
    ")\n",
    "\n",
    "# WandB에 모델 구조 기록\n",
    "wandb.watch(model, log=\"all\")\n",
    "\n",
    "# GPU 가속\n",
    "if torch.cuda.device_count() > 1:\n",
    "    print(f\"{torch.cuda.device_count()}개의 GPU를 사용합니다.\")\n",
    "    model = nn.DataParallel(model)\n",
    "\n",
    "# 훈련 시작 시간 기록\n",
    "start_time = time.time()\n",
    "\n",
    "# 메인 학습 루프 호출\n",
    "main_training_loop(\n",
    "    model=model,\n",
    "    trainloader=trainloader,\n",
    "    testloader=testloader,\n",
    "    criterion=criterion,\n",
    "    optimizer=optimizer,\n",
    "    device=device,\n",
    "    num_epochs=config[\"num_epochs\"],\n",
    "    patience=config[\"patience\"],\n",
    "    max_epochs_wait=config[\"max_epochs_wait\"],\n",
    "    warmup_scheduler=warmup_scheduler,\n",
    "    main_scheduler=main_scheduler,\n",
    "    warmup_epochs=config[\"warmup_epochs\"]\n",
    ")\n",
    "\n",
    "# 훈련 종료 시간 기록 및 출력\n",
    "end_time = time.time()\n",
    "total_time = end_time - start_time\n",
    "wandb.log({\"total_training_time\": total_time})\n",
    "\n",
    "print(f\"전체 학습 시간: {total_time:.2f} 초\")\n",
    "\n",
    "# WandB 실행 종료\n",
    "wandb.finish()"
   ]
  }
 ],
 "metadata": {
  "kernelspec": {
   "display_name": "Python 3 (ipykernel)",
   "language": "python",
   "name": "python3"
  },
  "language_info": {
   "codemirror_mode": {
    "name": "ipython",
    "version": 3
   },
   "file_extension": ".py",
   "mimetype": "text/x-python",
   "name": "python",
   "nbconvert_exporter": "python",
   "pygments_lexer": "ipython3",
   "version": "3.11.9"
  }
 },
 "nbformat": 4,
 "nbformat_minor": 5
}
