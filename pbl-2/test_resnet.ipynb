{
 "cells": [
  {
   "cell_type": "code",
   "execution_count": 2,
   "id": "aa61c1c1-ff8b-4532-b6d0-5fc19ddc6773",
   "metadata": {},
   "outputs": [
    {
     "name": "stdout",
     "output_type": "stream",
     "text": [
      "Using device: cuda\n",
      "GPU 수: 2\n",
      "GPU 이름: NVIDIA RTX A5000\n",
      "가용 CUDA 메모리: 25.43 GB\n",
      "Files already downloaded and verified\n",
      "총 테스트 배치 수: 40, 배치 크기: 256\n",
      "총 테스트 샘플 수: 10000\n",
      "\n",
      "[12:14:50] ResNet18 가중치 분석 중...\n",
      "ResNet18 파일 크기: 42.89 MB\n",
      "ResNet18 총 파라미터 수: 11,215,232\n",
      "ResNet18 가중치 평균: -0.000783\n",
      "ResNet18 가중치 절대값 평균: 0.007838\n",
      "ResNet18 가중치 표준편차 평균: 0.036871\n",
      "ResNet18는 학습된 모델로 추정됩니다.\n",
      "\n",
      "------- ResNet18 모델 평가 시작 -------\n",
      "\n",
      "[12:14:50] ResNet18 평가 시작...\n",
      "[12:14:50] 모델 생성 중...\n",
      "[12:14:50] 모델 가중치 로딩 중...\n",
      "[12:14:50] 모델 가중치 로딩 완료\n"
     ]
    },
    {
     "name": "stderr",
     "output_type": "stream",
     "text": [
      "ResNet18 평가 중:   2%|▉                                  | 1/40 [00:01<01:04,  1.65s/batch, 배치 정확도=82.42%, 전체 정확도=82.42%] ?batch/s]"
     ]
    },
    {
     "name": "stdout",
     "output_type": "stream",
     "text": [
      "[12:14:52] 배치 0/40 처리 중...\n"
     ]
    },
    {
     "name": "stderr",
     "output_type": "stream",
     "text": [
      "ResNet18 평가 중:  15%|█████▎                             | 6/40 [00:02<00:07,  4.58batch/s, 배치 정확도=78.91%, 전체 정확도=79.91%]"
     ]
    },
    {
     "name": "stdout",
     "output_type": "stream",
     "text": [
      "[12:14:52] 배치 5/40 처리 중...\n"
     ]
    },
    {
     "name": "stderr",
     "output_type": "stream",
     "text": [
      "ResNet18 평가 중:  25%|████████▌                         | 10/40 [00:02<00:04,  7.08batch/s, 배치 정확도=81.25%, 전체 정확도=80.50%]"
     ]
    },
    {
     "name": "stdout",
     "output_type": "stream",
     "text": [
      "[12:14:53] 배치 10/40 처리 중...\n"
     ]
    },
    {
     "name": "stderr",
     "output_type": "stream",
     "text": [
      "ResNet18 평가 중:  40%|█████████████▌                    | 16/40 [00:03<00:02,  8.09batch/s, 배치 정확도=80.08%, 전체 정확도=79.94%]"
     ]
    },
    {
     "name": "stdout",
     "output_type": "stream",
     "text": [
      "[12:14:54] 배치 15/40 처리 중...\n"
     ]
    },
    {
     "name": "stderr",
     "output_type": "stream",
     "text": [
      "ResNet18 평가 중:  55%|██████████████████▋               | 22/40 [00:03<00:01, 10.11batch/s, 배치 정확도=83.20%, 전체 정확도=79.94%]"
     ]
    },
    {
     "name": "stdout",
     "output_type": "stream",
     "text": [
      "[12:14:54] 배치 20/40 처리 중...\n"
     ]
    },
    {
     "name": "stderr",
     "output_type": "stream",
     "text": [
      "ResNet18 평가 중:  65%|██████████████████████            | 26/40 [00:04<00:01, 10.81batch/s, 배치 정확도=80.47%, 전체 정확도=79.98%]"
     ]
    },
    {
     "name": "stdout",
     "output_type": "stream",
     "text": [
      "[12:14:54] 배치 25/40 처리 중...\n"
     ]
    },
    {
     "name": "stderr",
     "output_type": "stream",
     "text": [
      "ResNet18 평가 중:  75%|█████████████████████████▌        | 30/40 [00:04<00:00, 11.07batch/s, 배치 정확도=81.64%, 전체 정확도=80.13%]"
     ]
    },
    {
     "name": "stdout",
     "output_type": "stream",
     "text": [
      "[12:14:55] 배치 30/40 처리 중...\n"
     ]
    },
    {
     "name": "stderr",
     "output_type": "stream",
     "text": [
      "ResNet18 평가 중:  90%|██████████████████████████████▌   | 36/40 [00:05<00:00, 10.98batch/s, 배치 정확도=82.42%, 전체 정확도=80.23%]"
     ]
    },
    {
     "name": "stdout",
     "output_type": "stream",
     "text": [
      "[12:14:55] 배치 35/40 처리 중...\n"
     ]
    },
    {
     "name": "stderr",
     "output_type": "stream",
     "text": [
      "ResNet18 평가 중: 100%|██████████████████████████████████| 40/40 [00:05<00:00,  7.21batch/s, 배치 정확도=68.75%, 전체 정확도=80.32%]"
     ]
    },
    {
     "name": "stdout",
     "output_type": "stream",
     "text": [
      "\n",
      "[12:14:56] ResNet18 평가 완료:\n",
      "- Top-1 정확도: 80.32%\n",
      "- Top-5 정확도: 95.50%\n",
      "- 평가 소요 시간: 5.82초\n",
      "- 오류 발생 배치 수: 0/40\n",
      "- CPU 전환 배치 수: 0/40\n",
      "\n",
      "------- 최종 결과 -------\n",
      "ResNet18 모델의 CIFAR-100 테스트셋 성능:\n",
      "- Top-1 정확도: 80.32%\n",
      "- Top-5 정확도: 95.50%\n"
     ]
    },
    {
     "name": "stderr",
     "output_type": "stream",
     "text": [
      "\n"
     ]
    }
   ],
   "source": [
    "import torch\n",
    "import torch.nn as nn\n",
    "import torchvision\n",
    "import torchvision.transforms as transforms\n",
    "from torch.utils.data import DataLoader\n",
    "import time\n",
    "from tqdm import tqdm  # 진행 바 표시용\n",
    "import sys\n",
    "import os\n",
    "\n",
    "# models 디렉토리 추가\n",
    "sys.path.append('./models')\n",
    "from resnet import resnet18  # 커스텀 ResNet 모델 임포트\n",
    "\n",
    "# CUDA 메모리 관리 최적화 설정\n",
    "torch.backends.cudnn.benchmark = False  # 벤치마크 끄기\n",
    "torch.backends.cudnn.deterministic = True  # 결정적 알고리즘 사용\n",
    "torch.cuda.empty_cache()  # CUDA 캐시 비우기\n",
    "\n",
    "# 디바이스 설정 - CPU 옵션 추가\n",
    "force_cpu = False  # True로 설정하면 강제로 CPU 사용\n",
    "device = torch.device(\"cpu\") if force_cpu else torch.device(\"cuda\" if torch.cuda.is_available() else \"cpu\")\n",
    "print(f\"Using device: {device}\")\n",
    "if device.type == 'cuda':\n",
    "    print(f\"GPU 수: {torch.cuda.device_count()}\")\n",
    "    print(f\"GPU 이름: {torch.cuda.get_device_name(0)}\")\n",
    "    print(f\"가용 CUDA 메모리: {torch.cuda.get_device_properties(0).total_memory / 1e9:.2f} GB\")\n",
    "\n",
    "# 테스트 데이터셋 설정 (CIFAR-100)\n",
    "transform_test = transforms.Compose([\n",
    "    transforms.ToTensor(),\n",
    "    transforms.Normalize((0.5071, 0.4867, 0.4408), (0.2675, 0.2565, 0.2761)),\n",
    "])\n",
    "\n",
    "testset = torchvision.datasets.CIFAR100(\n",
    "    root='./data', train=False, download=True, transform=transform_test)\n",
    "testloader = DataLoader(\n",
    "    testset, \n",
    "    batch_size=256,  # 배치 크기 조정\n",
    "    shuffle=False, \n",
    "    pin_memory=(device.type == 'cuda'),  # GPU 사용시에만 pin_memory 활성화\n",
    "    num_workers=32  # 시스템에 맞게 조정\n",
    ")\n",
    "\n",
    "# 배치 수 계산하여 출력\n",
    "total_batches = len(testloader)\n",
    "print(f\"총 테스트 배치 수: {total_batches}, 배치 크기: {testloader.batch_size}\")\n",
    "print(f\"총 테스트 샘플 수: {len(testset)}\")\n",
    "\n",
    "# 모델 평가 함수\n",
    "def evaluate_model(model_path, model_name=\"ResNet18\"):\n",
    "    try:\n",
    "        start_time = time.time()\n",
    "        print(f\"\\n[{time.strftime('%H:%M:%S')}] {model_name} 평가 시작...\")\n",
    "        \n",
    "        # 모델 생성 - 커스텀 ResNet18 사용\n",
    "        print(f\"[{time.strftime('%H:%M:%S')}] 모델 생성 중...\")\n",
    "        model = resnet18()  # 이미 CIFAR-100용으로 설정되어 있음 (num_classes=100)\n",
    "        \n",
    "        # 저장된 가중치를 불러옴\n",
    "        print(f\"[{time.strftime('%H:%M:%S')}] 모델 가중치 로딩 중...\")\n",
    "        if device.type == 'cuda':\n",
    "            state_dict = torch.load(model_path, map_location=device)\n",
    "        else:\n",
    "            state_dict = torch.load(model_path, map_location='cpu')\n",
    "        \n",
    "        # 'module.' 접두사 처리\n",
    "        if all(k.startswith('module.') for k in state_dict.keys()):\n",
    "            # GPU 사용 가능하고 여러 개일 경우 DataParallel 사용\n",
    "            if device.type == 'cuda' and torch.cuda.device_count() > 1 and not force_cpu:\n",
    "                model = nn.DataParallel(model)\n",
    "            else:\n",
    "                # CPU 모드이거나 GPU가 하나일 경우 접두사 제거\n",
    "                state_dict = {k.replace('module.', ''): v for k, v in state_dict.items()}\n",
    "        \n",
    "        # 가중치 로드\n",
    "        model.load_state_dict(state_dict)\n",
    "        print(f\"[{time.strftime('%H:%M:%S')}] 모델 가중치 로딩 완료\")\n",
    "        \n",
    "        # 디바이스로 모델 이동\n",
    "        model = model.to(device)\n",
    "        model.eval()\n",
    "        \n",
    "        correct_top1 = 0\n",
    "        correct_top5 = 0\n",
    "        total = 0\n",
    "        \n",
    "        cpu_fallback_count = 0  # CPU로 전환한 배치 수\n",
    "        error_batch_count = 0   # 오류가 발생한 배치 수\n",
    "        \n",
    "        # 평가 과정에서 에러 핸들링 + 진행 상태 표시\n",
    "        with torch.no_grad():\n",
    "            # tqdm을 사용하여 진행 바 표시\n",
    "            pbar = tqdm(testloader, desc=f\"{model_name} 평가 중\", unit=\"batch\")\n",
    "            for batch_idx, (inputs, labels) in enumerate(pbar):\n",
    "                try:\n",
    "                    # 5배치마다 진행 상황 출력\n",
    "                    if batch_idx % 5 == 0:\n",
    "                        print(f\"[{time.strftime('%H:%M:%S')}] 배치 {batch_idx}/{total_batches} 처리 중...\")\n",
    "                    \n",
    "                    inputs, labels = inputs.to(device), labels.to(device)\n",
    "                    outputs = model(inputs)\n",
    "                    \n",
    "                    # Top-1 정확도\n",
    "                    _, predicted = outputs.max(1)\n",
    "                    batch_correct = predicted.eq(labels).sum().item()\n",
    "                    total += labels.size(0)\n",
    "                    correct_top1 += batch_correct\n",
    "                    \n",
    "                    # Top-5 정확도\n",
    "                    _, top5_idx = outputs.topk(5, 1, largest=True, sorted=True)\n",
    "                    batch_correct_top5 = top5_idx.eq(labels.view(-1, 1).expand_as(top5_idx)).sum().item()\n",
    "                    correct_top5 += batch_correct_top5\n",
    "                    \n",
    "                    # 현재 배치 정확도를 진행 바에 업데이트\n",
    "                    batch_acc = 100. * batch_correct / labels.size(0)\n",
    "                    pbar.set_postfix({\"배치 정확도\": f\"{batch_acc:.2f}%\", \n",
    "                                     \"전체 정확도\": f\"{100. * correct_top1 / total:.2f}%\"})\n",
    "                    \n",
    "                except RuntimeError as e:\n",
    "                    print(f\"\\n[{time.strftime('%H:%M:%S')}] 배치 {batch_idx}/{total_batches} 처리 중 오류 발생: {e}\")\n",
    "                    error_batch_count += 1\n",
    "                    \n",
    "                    # CPU로 전환하여 재시도\n",
    "                    if device.type == 'cuda':\n",
    "                        print(f\"[{time.strftime('%H:%M:%S')}] CPU로 전환하여 계속합니다...\")\n",
    "                        cpu_fallback_count += 1\n",
    "                        inputs, labels = inputs.cpu(), labels.cpu()\n",
    "                        model = model.cpu()\n",
    "                        outputs = model(inputs)\n",
    "                        \n",
    "                        # Top-1 정확도\n",
    "                        _, predicted = outputs.max(1)\n",
    "                        batch_correct = predicted.eq(labels).sum().item()\n",
    "                        total += labels.size(0)\n",
    "                        correct_top1 += batch_correct\n",
    "                        \n",
    "                        # Top-5 정확도\n",
    "                        _, top5_idx = outputs.topk(5, 1, largest=True, sorted=True)\n",
    "                        batch_correct_top5 = top5_idx.eq(labels.view(-1, 1).expand_as(top5_idx)).sum().item()\n",
    "                        correct_top5 += batch_correct_top5\n",
    "                        \n",
    "                        # 현재 배치 정확도를 진행 바에 업데이트\n",
    "                        batch_acc = 100. * batch_correct / labels.size(0)\n",
    "                        pbar.set_postfix({\"배치 정확도\": f\"{batch_acc:.2f}%\", \n",
    "                                          \"전체 정확도\": f\"{100. * correct_top1 / total:.2f}%\",\n",
    "                                          \"CPU 전환\": cpu_fallback_count})\n",
    "                        \n",
    "                        # 다시 GPU로 전환\n",
    "                        model = model.to(device)\n",
    "        \n",
    "        accuracy_top1 = 100.0 * correct_top1 / total\n",
    "        accuracy_top5 = 100.0 * correct_top5 / total\n",
    "        \n",
    "        evaluation_time = time.time() - start_time\n",
    "        \n",
    "        print(f'\\n[{time.strftime(\"%H:%M:%S\")}] {model_name} 평가 완료:')\n",
    "        print(f'- Top-1 정확도: {accuracy_top1:.2f}%')\n",
    "        print(f'- Top-5 정확도: {accuracy_top5:.2f}%')\n",
    "        print(f'- 평가 소요 시간: {evaluation_time:.2f}초')\n",
    "        print(f'- 오류 발생 배치 수: {error_batch_count}/{total_batches}')\n",
    "        print(f'- CPU 전환 배치 수: {cpu_fallback_count}/{total_batches}')\n",
    "        \n",
    "        return accuracy_top1, accuracy_top5\n",
    "    \n",
    "    except Exception as e:\n",
    "        print(f\"\\n[{time.strftime('%H:%M:%S')}] 모델 평가 중 예외 발생: {e}\")\n",
    "        return 0.0, 0.0\n",
    "\n",
    "# 모델 가중치 분석 함수\n",
    "def analyze_model_weights(model_path, model_name=\"ResNet18\"):\n",
    "    print(f\"\\n[{time.strftime('%H:%M:%S')}] {model_name} 가중치 분석 중...\")\n",
    "    \n",
    "    # 파일 크기 확인\n",
    "    import os\n",
    "    file_size_mb = os.path.getsize(model_path) / (1024 * 1024)\n",
    "    print(f\"{model_name} 파일 크기: {file_size_mb:.2f} MB\")\n",
    "    \n",
    "    # 가중치 통계 분석\n",
    "    state_dict = torch.load(model_path, map_location='cpu')\n",
    "    \n",
    "    # 가중치 개수, 평균, 표준편차 계산\n",
    "    total_params = 0\n",
    "    total_weight_sum = 0\n",
    "    total_abs_weight_sum = 0\n",
    "    weight_std_sum = 0\n",
    "    weight_count = 0\n",
    "    \n",
    "    for name, param in state_dict.items():\n",
    "        if 'weight' in name:\n",
    "            weight_count += 1\n",
    "            param_count = param.numel()\n",
    "            total_params += param_count\n",
    "            \n",
    "            # 가중치 통계\n",
    "            param_mean = param.mean().item()\n",
    "            param_abs_mean = param.abs().mean().item()\n",
    "            param_std = param.std().item()\n",
    "            \n",
    "            total_weight_sum += param_mean * param_count\n",
    "            total_abs_weight_sum += param_abs_mean * param_count\n",
    "            weight_std_sum += param_std\n",
    "    \n",
    "    # 평균값 계산\n",
    "    avg_weight = total_weight_sum / total_params\n",
    "    avg_abs_weight = total_abs_weight_sum / total_params\n",
    "    avg_std = weight_std_sum / weight_count\n",
    "    \n",
    "    print(f\"{model_name} 총 파라미터 수: {total_params:,}\")\n",
    "    print(f\"{model_name} 가중치 평균: {avg_weight:.6f}\")\n",
    "    print(f\"{model_name} 가중치 절대값 평균: {avg_abs_weight:.6f}\")\n",
    "    print(f\"{model_name} 가중치 표준편차 평균: {avg_std:.6f}\")\n",
    "    \n",
    "    # 학습된 모델 여부 예측\n",
    "    is_trained = avg_std > 0.01  # 일반적으로 학습된 모델은 표준편차가 더 큼\n",
    "    print(f\"{model_name}는 {'학습된 모델로 추정됩니다.' if is_trained else '학습되지 않은 모델로 추정됩니다.'}\")\n",
    "    \n",
    "    return {\n",
    "        'file_size_mb': file_size_mb,\n",
    "        'total_params': total_params,\n",
    "        'avg_weight': avg_weight,\n",
    "        'avg_abs_weight': avg_abs_weight,\n",
    "        'avg_std': avg_std,\n",
    "        'is_trained': is_trained\n",
    "    }\n",
    "\n",
    "if __name__ == \"__main__\":\n",
    "    model_path = 'best_model_resnet18.pth'\n",
    "    \n",
    "    # 모델 파일 존재 확인\n",
    "    if not os.path.exists(model_path):\n",
    "        print(f\"오류: {model_path} 파일을 찾을 수 없습니다.\")\n",
    "        sys.exit(1)\n",
    "    \n",
    "    # models 디렉토리 존재 확인 \n",
    "    if not os.path.exists('./models'):\n",
    "        print(\"오류: models 디렉토리를 찾을 수 없습니다.\")\n",
    "        sys.exit(1)\n",
    "    \n",
    "    # models/resnet.py 파일 존재 확인\n",
    "    if not os.path.exists('./models/resnet.py'):\n",
    "        print(\"오류: models/resnet.py 파일을 찾을 수 없습니다.\")\n",
    "        sys.exit(1)\n",
    "    \n",
    "    # 1. 먼저 모델 가중치 분석\n",
    "    analysis_results = analyze_model_weights(model_path, \"ResNet18\")\n",
    "    \n",
    "    # 2. 모델 성능 평가\n",
    "    if analysis_results['is_trained']:\n",
    "        print(\"\\n------- ResNet18 모델 평가 시작 -------\")\n",
    "        top1_acc, top5_acc = evaluate_model(model_path, \"ResNet18\")\n",
    "        \n",
    "        print(\"\\n------- 최종 결과 -------\")\n",
    "        print(f\"ResNet18 모델의 CIFAR-100 테스트셋 성능:\")\n",
    "        print(f\"- Top-1 정확도: {top1_acc:.2f}%\")\n",
    "        print(f\"- Top-5 정확도: {top5_acc:.2f}%\")\n",
    "    else:\n",
    "        print(\"\\n------- 주의 -------\")\n",
    "        print(\"모델이 제대로 학습되지 않은 것으로 추정됩니다.\")\n",
    "        print(\"평가를 계속하시겠습니까? (y/n)\")\n",
    "        choice = input()\n",
    "        if choice.lower() == 'y':\n",
    "            top1_acc, top5_acc = evaluate_model(model_path, \"ResNet18\")\n",
    "            \n",
    "            print(\"\\n------- 최종 결과 -------\")\n",
    "            print(f\"ResNet18 모델의 CIFAR-100 테스트셋 성능:\")\n",
    "            print(f\"- Top-1 정확도: {top1_acc:.2f}%\")\n",
    "            print(f\"- Top-5 정확도: {top5_acc:.2f}%\")"
   ]
  },
  {
   "cell_type": "code",
   "execution_count": null,
   "id": "001dbff0-379f-4bec-b7b2-e5c0acd954e9",
   "metadata": {},
   "outputs": [],
   "source": []
  }
 ],
 "metadata": {
  "kernelspec": {
   "display_name": "Python 3 (ipykernel)",
   "language": "python",
   "name": "python3"
  },
  "language_info": {
   "codemirror_mode": {
    "name": "ipython",
    "version": 3
   },
   "file_extension": ".py",
   "mimetype": "text/x-python",
   "name": "python",
   "nbconvert_exporter": "python",
   "pygments_lexer": "ipython3",
   "version": "3.11.9"
  }
 },
 "nbformat": 4,
 "nbformat_minor": 5
}
