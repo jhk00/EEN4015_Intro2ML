{
 "cells": [
  {
   "cell_type": "code",
   "execution_count": 2,
   "id": "516f9d5f-6361-4b03-98ee-e1ba4de86b92",
   "metadata": {},
   "outputs": [
    {
     "name": "stderr",
     "output_type": "stream",
     "text": [
      "\u001b[34m\u001b[1mwandb\u001b[0m: \u001b[33mWARNING\u001b[0m Calling wandb.login() after wandb.init() has no effect.\n"
     ]
    },
    {
     "data": {
      "text/html": [],
      "text/plain": [
       "<IPython.core.display.HTML object>"
      ]
     },
     "metadata": {},
     "output_type": "display_data"
    },
    {
     "data": {
      "text/html": [
       "<br>    <style><br>        .wandb-row {<br>            display: flex;<br>            flex-direction: row;<br>            flex-wrap: wrap;<br>            justify-content: flex-start;<br>            width: 100%;<br>        }<br>        .wandb-col {<br>            display: flex;<br>            flex-direction: column;<br>            flex-basis: 100%;<br>            flex: 1;<br>            padding: 10px;<br>        }<br>    </style><br><div class=\"wandb-row\"><div class=\"wandb-col\"><h3>Run history:</h3><br/><table class=\"wandb\"><tr><td>epoch</td><td>▁▂▂▃▄▄▅▅▆▇▇█</td></tr><tr><td>learning_rate</td><td>▁▃▅▆████████</td></tr><tr><td>test_accuracy_top1</td><td>▁▃▄▅▅▆▇▇████</td></tr><tr><td>test_accuracy_top5</td><td>▁▄▅▆▆▇██████</td></tr><tr><td>test_loss</td><td>█▅▄▃▃▂▂▂▁▁▁▁</td></tr><tr><td>train_accuracy_top1</td><td>▁▂▃▄▅▆▇▇▇▇██</td></tr><tr><td>train_accuracy_top5</td><td>▁▃▅▅▆▇▇▇████</td></tr><tr><td>train_loss</td><td>█▆▅▄▃▃▂▂▁▁▁▁</td></tr></table><br/></div><div class=\"wandb-col\"><h3>Run summary:</h3><br/><table class=\"wandb\"><tr><td>epoch</td><td>12</td></tr><tr><td>learning_rate</td><td>0.01</td></tr><tr><td>test_accuracy_top1</td><td>61.75</td></tr><tr><td>test_accuracy_top5</td><td>87.72</td></tr><tr><td>test_loss</td><td>1.41294</td></tr><tr><td>train_accuracy_top1</td><td>57.652</td></tr><tr><td>train_accuracy_top5</td><td>83.428</td></tr><tr><td>train_loss</td><td>1.91255</td></tr></table><br/></div></div>"
      ],
      "text/plain": [
       "<IPython.core.display.HTML object>"
      ]
     },
     "metadata": {},
     "output_type": "display_data"
    },
    {
     "data": {
      "text/html": [
       " View run <strong style=\"color:#cdcd00\">resnet18_cfc,lr=0.01,factor=0.5_standard</strong> at: <a href='https://wandb.ai/sokjh1310-hanyang-university/PBL-2/runs/dyoionhn' target=\"_blank\">https://wandb.ai/sokjh1310-hanyang-university/PBL-2/runs/dyoionhn</a><br> View project at: <a href='https://wandb.ai/sokjh1310-hanyang-university/PBL-2' target=\"_blank\">https://wandb.ai/sokjh1310-hanyang-university/PBL-2</a><br>Synced 5 W&B file(s), 0 media file(s), 0 artifact file(s) and 1 other file(s)"
      ],
      "text/plain": [
       "<IPython.core.display.HTML object>"
      ]
     },
     "metadata": {},
     "output_type": "display_data"
    },
    {
     "data": {
      "text/html": [
       "Find logs at: <code>./wandb/run-20250417_152901-dyoionhn/logs</code>"
      ],
      "text/plain": [
       "<IPython.core.display.HTML object>"
      ]
     },
     "metadata": {},
     "output_type": "display_data"
    },
    {
     "data": {
      "text/html": [
       "Tracking run with wandb version 0.19.9"
      ],
      "text/plain": [
       "<IPython.core.display.HTML object>"
      ]
     },
     "metadata": {},
     "output_type": "display_data"
    },
    {
     "data": {
      "text/html": [
       "Run data is saved locally in <code>/home/guswls/EEN4015_Intro2ML/pbl-2/wandb/run-20250417_154051-7f3asw35</code>"
      ],
      "text/plain": [
       "<IPython.core.display.HTML object>"
      ]
     },
     "metadata": {},
     "output_type": "display_data"
    },
    {
     "data": {
      "text/html": [
       "Syncing run <strong><a href='https://wandb.ai/sokjh1310-hanyang-university/PBL-2/runs/7f3asw35' target=\"_blank\">resnet18_cfc,lr=0.01,factor=0.5_standard</a></strong> to <a href='https://wandb.ai/sokjh1310-hanyang-university/PBL-2' target=\"_blank\">Weights & Biases</a> (<a href='https://wandb.me/developer-guide' target=\"_blank\">docs</a>)<br>"
      ],
      "text/plain": [
       "<IPython.core.display.HTML object>"
      ]
     },
     "metadata": {},
     "output_type": "display_data"
    },
    {
     "data": {
      "text/html": [
       " View project at <a href='https://wandb.ai/sokjh1310-hanyang-university/PBL-2' target=\"_blank\">https://wandb.ai/sokjh1310-hanyang-university/PBL-2</a>"
      ],
      "text/plain": [
       "<IPython.core.display.HTML object>"
      ]
     },
     "metadata": {},
     "output_type": "display_data"
    },
    {
     "data": {
      "text/html": [
       " View run at <a href='https://wandb.ai/sokjh1310-hanyang-university/PBL-2/runs/7f3asw35' target=\"_blank\">https://wandb.ai/sokjh1310-hanyang-university/PBL-2/runs/7f3asw35</a>"
      ],
      "text/plain": [
       "<IPython.core.display.HTML object>"
      ]
     },
     "metadata": {},
     "output_type": "display_data"
    },
    {
     "name": "stdout",
     "output_type": "stream",
     "text": [
      "Files already downloaded and verified\n",
      "Files already downloaded and verified\n"
     ]
    },
    {
     "name": "stderr",
     "output_type": "stream",
     "text": [
      "/usr/local/lib/python3.11/dist-packages/torch/optim/lr_scheduler.py:28: UserWarning: The verbose parameter is deprecated. Please use get_last_lr() to access the learning rate.\n",
      "  warnings.warn(\"The verbose parameter is deprecated. Please use get_last_lr() \"\n"
     ]
    },
    {
     "name": "stdout",
     "output_type": "stream",
     "text": [
      "Train set size: 50000\n",
      "Test set size: 10000\n",
      "Using device: cuda\n",
      "2개의 GPU를 사용합니다.\n"
     ]
    },
    {
     "name": "stderr",
     "output_type": "stream",
     "text": [
      "  0%|                                                                                                       | 0/300 [00:00<?, ?it/s]"
     ]
    },
    {
     "name": "stdout",
     "output_type": "stream",
     "text": [
      "Epoch [1], Batch [50/391], Loss: 4.1797, LR: 0.000256\n",
      "Epoch [1], Batch [100/391], Loss: 4.2738, LR: 0.000512\n",
      "Epoch [1], Batch [150/391], Loss: 3.8125, LR: 0.000767\n",
      "Epoch [1], Batch [200/391], Loss: 4.0134, LR: 0.001023\n",
      "Epoch [1], Batch [250/391], Loss: 3.8565, LR: 0.001279\n",
      "Epoch [1], Batch [300/391], Loss: 3.5335, LR: 0.001535\n",
      "Epoch [1], Batch [350/391], Loss: 4.3529, LR: 0.001790\n",
      "Train set: Epoch: 1, Average loss:4.0494, LR: 0.002000 Top-1 Accuracy: 9.3340%, Top-5 Accuracy: 28.2720%, Time consumed:49.59s\n",
      "Test set: Epoch: 1, Average loss:3.5691, Top-1 Accuracy: 15.7900%, Top-5 Accuracy: 41.8200%, Time consumed:8.51s\n",
      "\n",
      "새로운 최고 top-1 정확도: 15.79%, top-5 정확도: 41.82%\n",
      "새로운 최고 top-5 정확도: 41.82%\n",
      "Accuracy improved (-inf% --> 15.79%). Saving model ...\n"
     ]
    },
    {
     "name": "stderr",
     "output_type": "stream",
     "text": [
      "  0%|▎                                                                                            | 1/300 [00:58<4:50:50, 58.36s/it]"
     ]
    },
    {
     "name": "stdout",
     "output_type": "stream",
     "text": [
      "Epoch [2], Batch [50/391], Loss: 3.2172, LR: 0.002256\n",
      "Epoch [2], Batch [100/391], Loss: 3.8867, LR: 0.002512\n",
      "Epoch [2], Batch [150/391], Loss: 3.0681, LR: 0.002767\n",
      "Epoch [2], Batch [200/391], Loss: 3.4881, LR: 0.003023\n",
      "Epoch [2], Batch [250/391], Loss: 2.9425, LR: 0.003279\n",
      "Epoch [2], Batch [300/391], Loss: 2.8438, LR: 0.003535\n",
      "Epoch [2], Batch [350/391], Loss: 4.0726, LR: 0.003790\n",
      "Train set: Epoch: 2, Average loss:3.5577, LR: 0.004000 Top-1 Accuracy: 17.7920%, Top-5 Accuracy: 44.0300%, Time consumed:47.52s\n",
      "Test set: Epoch: 2, Average loss:3.0441, Top-1 Accuracy: 24.4200%, Top-5 Accuracy: 55.2300%, Time consumed:8.98s\n",
      "\n",
      "새로운 최고 top-1 정확도: 24.42%, top-5 정확도: 55.23%\n",
      "새로운 최고 top-5 정확도: 55.23%\n",
      "Accuracy improved (15.79% --> 24.42%). Saving model ...\n"
     ]
    },
    {
     "name": "stderr",
     "output_type": "stream",
     "text": [
      "  1%|▌                                                                                            | 2/300 [01:55<4:45:07, 57.41s/it]"
     ]
    },
    {
     "name": "stdout",
     "output_type": "stream",
     "text": [
      "Epoch [3], Batch [50/391], Loss: 4.3527, LR: 0.004256\n",
      "Epoch [3], Batch [100/391], Loss: 4.1848, LR: 0.004512\n",
      "Epoch [3], Batch [150/391], Loss: 2.7275, LR: 0.004767\n",
      "Epoch [3], Batch [200/391], Loss: 2.4748, LR: 0.005023\n",
      "Epoch [3], Batch [250/391], Loss: 2.4791, LR: 0.005279\n",
      "Epoch [3], Batch [300/391], Loss: 3.8520, LR: 0.005535\n",
      "Epoch [3], Batch [350/391], Loss: 2.5080, LR: 0.005790\n",
      "Train set: Epoch: 3, Average loss:3.1577, LR: 0.006000 Top-1 Accuracy: 25.9540%, Top-5 Accuracy: 55.6560%, Time consumed:51.00s\n",
      "Test set: Epoch: 3, Average loss:2.5642, Top-1 Accuracy: 33.6800%, Top-5 Accuracy: 65.8700%, Time consumed:8.30s\n",
      "\n",
      "새로운 최고 top-1 정확도: 33.68%, top-5 정확도: 65.87%\n",
      "새로운 최고 top-5 정확도: 65.87%\n",
      "Accuracy improved (24.42% --> 33.68%). Saving model ...\n"
     ]
    },
    {
     "name": "stderr",
     "output_type": "stream",
     "text": [
      "  1%|▉                                                                                            | 3/300 [02:54<4:49:06, 58.41s/it]"
     ]
    },
    {
     "name": "stdout",
     "output_type": "stream",
     "text": [
      "Epoch [4], Batch [50/391], Loss: 2.3547, LR: 0.006256\n",
      "Epoch [4], Batch [100/391], Loss: 3.7729, LR: 0.006512\n",
      "Epoch [4], Batch [150/391], Loss: 2.2451, LR: 0.006767\n",
      "Epoch [4], Batch [200/391], Loss: 4.0740, LR: 0.007023\n",
      "Epoch [4], Batch [250/391], Loss: 3.2869, LR: 0.007279\n",
      "Epoch [4], Batch [300/391], Loss: 3.6279, LR: 0.007535\n",
      "Epoch [4], Batch [350/391], Loss: 3.8515, LR: 0.007790\n",
      "Train set: Epoch: 4, Average loss:2.9123, LR: 0.008000 Top-1 Accuracy: 32.2040%, Top-5 Accuracy: 62.9820%, Time consumed:47.34s\n",
      "Test set: Epoch: 4, Average loss:2.4090, Top-1 Accuracy: 36.9700%, Top-5 Accuracy: 69.8600%, Time consumed:7.95s\n",
      "\n",
      "새로운 최고 top-1 정확도: 36.97%, top-5 정확도: 69.86%\n",
      "새로운 최고 top-5 정확도: 69.86%\n",
      "Accuracy improved (33.68% --> 36.97%). Saving model ...\n"
     ]
    },
    {
     "name": "stderr",
     "output_type": "stream",
     "text": [
      "  1%|█▏                                                                                           | 4/300 [03:50<4:42:31, 57.27s/it]"
     ]
    },
    {
     "name": "stdout",
     "output_type": "stream",
     "text": [
      "Epoch [5], Batch [50/391], Loss: 2.0589, LR: 0.008256\n",
      "Epoch [5], Batch [100/391], Loss: 3.6223, LR: 0.008512\n",
      "Epoch [5], Batch [150/391], Loss: 2.9193, LR: 0.008767\n",
      "Epoch [5], Batch [200/391], Loss: 3.8588, LR: 0.009023\n",
      "Epoch [5], Batch [250/391], Loss: 1.8975, LR: 0.009279\n",
      "Epoch [5], Batch [300/391], Loss: 1.9248, LR: 0.009535\n",
      "Epoch [5], Batch [350/391], Loss: 1.8267, LR: 0.009790\n",
      "Train set: Epoch: 5, Average loss:2.6636, LR: 0.010000 Top-1 Accuracy: 38.1140%, Top-5 Accuracy: 68.7080%, Time consumed:48.14s\n",
      "Test set: Epoch: 5, Average loss:2.0508, Top-1 Accuracy: 44.9400%, Top-5 Accuracy: 76.6300%, Time consumed:8.17s\n",
      "\n",
      "새로운 최고 top-1 정확도: 44.94%, top-5 정확도: 76.63%\n",
      "새로운 최고 top-5 정확도: 76.63%\n",
      "Accuracy improved (36.97% --> 44.94%). Saving model ...\n"
     ]
    },
    {
     "name": "stderr",
     "output_type": "stream",
     "text": [
      "  2%|█▌                                                                                           | 5/300 [04:46<4:40:20, 57.02s/it]"
     ]
    },
    {
     "name": "stdout",
     "output_type": "stream",
     "text": [
      "Epoch [6], Batch [50/391], Loss: 1.6932, LR: 0.010000\n",
      "Epoch [6], Batch [100/391], Loss: 2.5995, LR: 0.010000\n",
      "Epoch [6], Batch [150/391], Loss: 1.8891, LR: 0.010000\n",
      "Epoch [6], Batch [200/391], Loss: 1.9664, LR: 0.010000\n",
      "Epoch [6], Batch [250/391], Loss: 1.7366, LR: 0.010000\n",
      "Epoch [6], Batch [300/391], Loss: 1.6733, LR: 0.010000\n",
      "Epoch [6], Batch [350/391], Loss: 3.0371, LR: 0.010000\n",
      "Train set: Epoch: 6, Average loss:2.4645, LR: 0.010000 Top-1 Accuracy: 42.9740%, Top-5 Accuracy: 73.3520%, Time consumed:51.53s\n",
      "Test set: Epoch: 6, Average loss:1.9125, Top-1 Accuracy: 48.2200%, Top-5 Accuracy: 79.2300%, Time consumed:8.07s\n",
      "\n",
      "새로운 최고 top-1 정확도: 48.22%, top-5 정확도: 79.23%\n",
      "새로운 최고 top-5 정확도: 79.23%\n",
      "Accuracy improved (44.94% --> 48.22%). Saving model ...\n"
     ]
    },
    {
     "name": "stderr",
     "output_type": "stream",
     "text": [
      "  2%|█▊                                                                                           | 6/300 [05:46<4:44:05, 57.98s/it]"
     ]
    },
    {
     "name": "stdout",
     "output_type": "stream",
     "text": [
      "Epoch [7], Batch [50/391], Loss: 2.8296, LR: 0.010000\n",
      "Epoch [7], Batch [100/391], Loss: 1.7607, LR: 0.010000\n",
      "Epoch [7], Batch [150/391], Loss: 1.6407, LR: 0.010000\n",
      "Epoch [7], Batch [200/391], Loss: 1.3418, LR: 0.010000\n",
      "Epoch [7], Batch [250/391], Loss: 2.1328, LR: 0.010000\n",
      "Epoch [7], Batch [300/391], Loss: 1.3788, LR: 0.010000\n",
      "Epoch [7], Batch [350/391], Loss: 3.4559, LR: 0.010000\n",
      "Train set: Epoch: 7, Average loss:2.3067, LR: 0.010000 Top-1 Accuracy: 46.7840%, Top-5 Accuracy: 76.1300%, Time consumed:46.93s\n",
      "Test set: Epoch: 7, Average loss:1.7268, Top-1 Accuracy: 52.7800%, Top-5 Accuracy: 82.1700%, Time consumed:8.02s\n",
      "\n",
      "새로운 최고 top-1 정확도: 52.78%, top-5 정확도: 82.17%\n",
      "새로운 최고 top-5 정확도: 82.17%\n",
      "Accuracy improved (48.22% --> 52.78%). Saving model ...\n"
     ]
    },
    {
     "name": "stderr",
     "output_type": "stream",
     "text": [
      "  2%|██▏                                                                                          | 7/300 [06:41<4:38:41, 57.07s/it]"
     ]
    },
    {
     "name": "stdout",
     "output_type": "stream",
     "text": [
      "Epoch [8], Batch [50/391], Loss: 1.3351, LR: 0.010000\n",
      "Epoch [8], Batch [100/391], Loss: 1.2777, LR: 0.010000\n",
      "Epoch [8], Batch [150/391], Loss: 3.3434, LR: 0.010000\n",
      "Epoch [8], Batch [200/391], Loss: 2.9311, LR: 0.010000\n",
      "Epoch [8], Batch [250/391], Loss: 1.4992, LR: 0.010000\n",
      "Epoch [8], Batch [300/391], Loss: 1.6693, LR: 0.010000\n",
      "Epoch [8], Batch [350/391], Loss: 1.4336, LR: 0.010000\n",
      "Train set: Epoch: 8, Average loss:2.2176, LR: 0.010000 Top-1 Accuracy: 49.1300%, Top-5 Accuracy: 77.8000%, Time consumed:47.63s\n",
      "Test set: Epoch: 8, Average loss:1.6525, Top-1 Accuracy: 54.9100%, Top-5 Accuracy: 84.0800%, Time consumed:8.00s\n",
      "\n",
      "새로운 최고 top-1 정확도: 54.91%, top-5 정확도: 84.08%\n",
      "새로운 최고 top-5 정확도: 84.08%\n",
      "Accuracy improved (52.78% --> 54.91%). Saving model ...\n"
     ]
    },
    {
     "name": "stderr",
     "output_type": "stream",
     "text": [
      "  3%|██▍                                                                                          | 8/300 [07:37<4:35:53, 56.69s/it]"
     ]
    },
    {
     "name": "stdout",
     "output_type": "stream",
     "text": [
      "Epoch [9], Batch [50/391], Loss: 1.4396, LR: 0.010000\n",
      "Epoch [9], Batch [100/391], Loss: 1.3081, LR: 0.010000\n",
      "Epoch [9], Batch [150/391], Loss: 2.2508, LR: 0.010000\n",
      "Epoch [9], Batch [200/391], Loss: 3.1093, LR: 0.010000\n",
      "Epoch [9], Batch [250/391], Loss: 1.5696, LR: 0.010000\n",
      "Epoch [9], Batch [300/391], Loss: 1.4289, LR: 0.010000\n",
      "Epoch [9], Batch [350/391], Loss: 1.6055, LR: 0.010000\n",
      "Train set: Epoch: 9, Average loss:2.0770, LR: 0.010000 Top-1 Accuracy: 53.0380%, Top-5 Accuracy: 80.7600%, Time consumed:47.50s\n",
      "Test set: Epoch: 9, Average loss:1.5795, Top-1 Accuracy: 57.3100%, Top-5 Accuracy: 85.3800%, Time consumed:8.36s\n",
      "\n",
      "새로운 최고 top-1 정확도: 57.31%, top-5 정확도: 85.38%\n",
      "새로운 최고 top-5 정확도: 85.38%\n",
      "Accuracy improved (54.91% --> 57.31%). Saving model ...\n"
     ]
    },
    {
     "name": "stderr",
     "output_type": "stream",
     "text": [
      "  3%|██▊                                                                                          | 9/300 [08:33<4:34:07, 56.52s/it]"
     ]
    },
    {
     "name": "stdout",
     "output_type": "stream",
     "text": [
      "Epoch [10], Batch [50/391], Loss: 1.2509, LR: 0.010000\n",
      "Epoch [10], Batch [100/391], Loss: 1.3888, LR: 0.010000\n",
      "Epoch [10], Batch [150/391], Loss: 2.0708, LR: 0.010000\n",
      "Epoch [10], Batch [200/391], Loss: 2.0600, LR: 0.010000\n",
      "Epoch [10], Batch [250/391], Loss: 3.4121, LR: 0.010000\n",
      "Epoch [10], Batch [300/391], Loss: 1.5473, LR: 0.010000\n",
      "Epoch [10], Batch [350/391], Loss: 1.3628, LR: 0.010000\n",
      "Train set: Epoch: 10, Average loss:2.0730, LR: 0.010000 Top-1 Accuracy: 53.7220%, Top-5 Accuracy: 80.6900%, Time consumed:47.12s\n",
      "Test set: Epoch: 10, Average loss:1.4633, Top-1 Accuracy: 60.8500%, Top-5 Accuracy: 86.7000%, Time consumed:7.95s\n",
      "\n",
      "새로운 최고 top-1 정확도: 60.85%, top-5 정확도: 86.70%\n",
      "새로운 최고 top-5 정확도: 86.70%\n",
      "Accuracy improved (57.31% --> 60.85%). Saving model ...\n"
     ]
    },
    {
     "name": "stderr",
     "output_type": "stream",
     "text": [
      "  3%|███                                                                                         | 10/300 [09:29<4:31:23, 56.15s/it]"
     ]
    },
    {
     "name": "stdout",
     "output_type": "stream",
     "text": [
      "Epoch [11], Batch [50/391], Loss: 2.3022, LR: 0.010000\n",
      "Epoch [11], Batch [100/391], Loss: 3.3373, LR: 0.010000\n",
      "Epoch [11], Batch [150/391], Loss: 1.1866, LR: 0.010000\n",
      "Epoch [11], Batch [200/391], Loss: 2.1727, LR: 0.010000\n",
      "Epoch [11], Batch [250/391], Loss: 1.3403, LR: 0.010000\n",
      "Epoch [11], Batch [300/391], Loss: 1.8991, LR: 0.010000\n",
      "Epoch [11], Batch [350/391], Loss: 1.1342, LR: 0.010000\n",
      "Train set: Epoch: 11, Average loss:1.9629, LR: 0.010000 Top-1 Accuracy: 56.0780%, Top-5 Accuracy: 82.3920%, Time consumed:47.84s\n",
      "Test set: Epoch: 11, Average loss:1.3875, Top-1 Accuracy: 61.5900%, Top-5 Accuracy: 87.9100%, Time consumed:8.22s\n",
      "\n",
      "새로운 최고 top-1 정확도: 61.59%, top-5 정확도: 87.91%\n",
      "새로운 최고 top-5 정확도: 87.91%\n",
      "Accuracy improved (60.85% --> 61.59%). Saving model ...\n"
     ]
    },
    {
     "name": "stderr",
     "output_type": "stream",
     "text": [
      "  4%|███▎                                                                                        | 11/300 [10:25<4:30:43, 56.20s/it]"
     ]
    },
    {
     "name": "stdout",
     "output_type": "stream",
     "text": [
      "Epoch [12], Batch [50/391], Loss: 1.9298, LR: 0.010000\n",
      "Epoch [12], Batch [100/391], Loss: 3.1419, LR: 0.010000\n",
      "Epoch [12], Batch [150/391], Loss: 1.0921, LR: 0.010000\n",
      "Epoch [12], Batch [200/391], Loss: 0.9127, LR: 0.010000\n",
      "Epoch [12], Batch [250/391], Loss: 2.3742, LR: 0.010000\n",
      "Epoch [12], Batch [300/391], Loss: 3.3436, LR: 0.010000\n",
      "Epoch [12], Batch [350/391], Loss: 2.8931, LR: 0.010000\n",
      "Train set: Epoch: 12, Average loss:1.9998, LR: 0.010000 Top-1 Accuracy: 56.8280%, Top-5 Accuracy: 82.6120%, Time consumed:47.84s\n"
     ]
    },
    {
     "name": "stderr",
     "output_type": "stream",
     "text": [
      "  4%|███▋                                                                                        | 12/300 [11:21<4:29:15, 56.10s/it]"
     ]
    },
    {
     "name": "stdout",
     "output_type": "stream",
     "text": [
      "Test set: Epoch: 12, Average loss:1.4505, Top-1 Accuracy: 61.1000%, Top-5 Accuracy: 87.1800%, Time consumed:8.00s\n",
      "\n",
      "EarlyStopping 카운터: 1 / 30\n",
      "Epoch [13], Batch [50/391], Loss: 2.7903, LR: 0.010000\n",
      "Epoch [13], Batch [100/391], Loss: 1.0590, LR: 0.010000\n",
      "Epoch [13], Batch [150/391], Loss: 3.3842, LR: 0.010000\n",
      "Epoch [13], Batch [200/391], Loss: 0.9104, LR: 0.010000\n",
      "Epoch [13], Batch [250/391], Loss: 3.4723, LR: 0.010000\n",
      "Epoch [13], Batch [300/391], Loss: 3.3007, LR: 0.010000\n",
      "Epoch [13], Batch [350/391], Loss: 0.9999, LR: 0.010000\n",
      "Train set: Epoch: 13, Average loss:1.9132, LR: 0.010000 Top-1 Accuracy: 58.1160%, Top-5 Accuracy: 83.8060%, Time consumed:47.15s\n"
     ]
    },
    {
     "name": "stderr",
     "output_type": "stream",
     "text": [
      "  4%|███▉                                                                                        | 13/300 [12:16<4:26:55, 55.80s/it]"
     ]
    },
    {
     "name": "stdout",
     "output_type": "stream",
     "text": [
      "Test set: Epoch: 13, Average loss:1.4443, Top-1 Accuracy: 61.1100%, Top-5 Accuracy: 86.7900%, Time consumed:7.97s\n",
      "\n",
      "EarlyStopping 카운터: 2 / 30\n",
      "Epoch [14], Batch [50/391], Loss: 3.3398, LR: 0.010000\n",
      "Epoch [14], Batch [100/391], Loss: 2.1935, LR: 0.010000\n",
      "Epoch [14], Batch [150/391], Loss: 1.1013, LR: 0.010000\n",
      "Epoch [14], Batch [200/391], Loss: 3.1969, LR: 0.010000\n",
      "Epoch [14], Batch [250/391], Loss: 1.7382, LR: 0.010000\n",
      "Epoch [14], Batch [300/391], Loss: 0.9232, LR: 0.010000\n",
      "Epoch [14], Batch [350/391], Loss: 1.1698, LR: 0.010000\n",
      "Train set: Epoch: 14, Average loss:1.8233, LR: 0.010000 Top-1 Accuracy: 60.2500%, Top-5 Accuracy: 85.2480%, Time consumed:48.83s\n",
      "Test set: Epoch: 14, Average loss:1.3380, Top-1 Accuracy: 63.3400%, Top-5 Accuracy: 88.5200%, Time consumed:8.03s\n",
      "\n",
      "새로운 최고 top-1 정확도: 63.34%, top-5 정확도: 88.52%\n",
      "새로운 최고 top-5 정확도: 88.52%\n",
      "Accuracy improved (61.59% --> 63.34%). Saving model ...\n"
     ]
    },
    {
     "name": "stderr",
     "output_type": "stream",
     "text": [
      "  5%|████▎                                                                                       | 14/300 [13:13<4:27:52, 56.20s/it]"
     ]
    },
    {
     "name": "stdout",
     "output_type": "stream",
     "text": [
      "Epoch [15], Batch [50/391], Loss: 2.2170, LR: 0.010000\n",
      "Epoch [15], Batch [100/391], Loss: 2.4297, LR: 0.010000\n",
      "Epoch [15], Batch [150/391], Loss: 1.5219, LR: 0.010000\n",
      "Epoch [15], Batch [200/391], Loss: 2.5375, LR: 0.010000\n",
      "Epoch [15], Batch [250/391], Loss: 0.9425, LR: 0.010000\n",
      "Epoch [15], Batch [300/391], Loss: 0.7138, LR: 0.010000\n",
      "Epoch [15], Batch [350/391], Loss: 3.2487, LR: 0.010000\n",
      "Train set: Epoch: 15, Average loss:1.7576, LR: 0.010000 Top-1 Accuracy: 60.9640%, Top-5 Accuracy: 85.4900%, Time consumed:48.65s\n",
      "Test set: Epoch: 15, Average loss:1.2881, Top-1 Accuracy: 64.0500%, Top-5 Accuracy: 89.0000%, Time consumed:8.71s\n",
      "\n",
      "새로운 최고 top-1 정확도: 64.05%, top-5 정확도: 89.00%\n",
      "새로운 최고 top-5 정확도: 89.00%\n",
      "Accuracy improved (63.34% --> 64.05%). Saving model ...\n"
     ]
    },
    {
     "name": "stderr",
     "output_type": "stream",
     "text": [
      "  5%|████▌                                                                                       | 15/300 [14:11<4:28:59, 56.63s/it]"
     ]
    },
    {
     "name": "stdout",
     "output_type": "stream",
     "text": [
      "Epoch [16], Batch [50/391], Loss: 0.7923, LR: 0.010000\n",
      "Epoch [16], Batch [100/391], Loss: 0.8147, LR: 0.010000\n",
      "Epoch [16], Batch [150/391], Loss: 0.7091, LR: 0.010000\n",
      "Epoch [16], Batch [200/391], Loss: 2.7289, LR: 0.010000\n",
      "Epoch [16], Batch [250/391], Loss: 3.2263, LR: 0.010000\n",
      "Epoch [16], Batch [300/391], Loss: 2.5221, LR: 0.010000\n",
      "Epoch [16], Batch [350/391], Loss: 1.1215, LR: 0.010000\n",
      "Train set: Epoch: 16, Average loss:1.7053, LR: 0.010000 Top-1 Accuracy: 62.6220%, Top-5 Accuracy: 86.2860%, Time consumed:46.86s\n",
      "Test set: Epoch: 16, Average loss:1.2673, Top-1 Accuracy: 65.5600%, Top-5 Accuracy: 89.4900%, Time consumed:8.21s\n",
      "\n",
      "새로운 최고 top-1 정확도: 65.56%, top-5 정확도: 89.49%\n",
      "새로운 최고 top-5 정확도: 89.49%\n",
      "Accuracy improved (64.05% --> 65.56%). Saving model ...\n"
     ]
    },
    {
     "name": "stderr",
     "output_type": "stream",
     "text": [
      "  5%|████▉                                                                                       | 16/300 [15:06<4:26:10, 56.24s/it]"
     ]
    },
    {
     "name": "stdout",
     "output_type": "stream",
     "text": [
      "Epoch [17], Batch [50/391], Loss: 0.8122, LR: 0.010000\n",
      "Epoch [17], Batch [100/391], Loss: 0.8536, LR: 0.010000\n",
      "Epoch [17], Batch [150/391], Loss: 2.1900, LR: 0.010000\n",
      "Epoch [17], Batch [200/391], Loss: 2.8374, LR: 0.010000\n",
      "Epoch [17], Batch [250/391], Loss: 0.8517, LR: 0.010000\n",
      "Epoch [17], Batch [300/391], Loss: 0.8186, LR: 0.010000\n",
      "Epoch [17], Batch [350/391], Loss: 0.7460, LR: 0.010000\n",
      "Train set: Epoch: 17, Average loss:1.5684, LR: 0.010000 Top-1 Accuracy: 65.8740%, Top-5 Accuracy: 88.5100%, Time consumed:48.32s\n"
     ]
    },
    {
     "name": "stderr",
     "output_type": "stream",
     "text": [
      "  6%|█████▏                                                                                      | 17/300 [16:03<4:25:38, 56.32s/it]"
     ]
    },
    {
     "name": "stdout",
     "output_type": "stream",
     "text": [
      "Test set: Epoch: 17, Average loss:1.2654, Top-1 Accuracy: 65.4500%, Top-5 Accuracy: 89.3900%, Time consumed:8.20s\n",
      "\n",
      "EarlyStopping 카운터: 1 / 30\n",
      "Epoch [18], Batch [50/391], Loss: 0.7628, LR: 0.010000\n",
      "Epoch [18], Batch [100/391], Loss: 0.7323, LR: 0.010000\n",
      "Epoch [18], Batch [150/391], Loss: 1.7671, LR: 0.010000\n",
      "Epoch [18], Batch [200/391], Loss: 0.7287, LR: 0.010000\n",
      "Epoch [18], Batch [250/391], Loss: 0.6900, LR: 0.010000\n",
      "Epoch [18], Batch [300/391], Loss: 0.6987, LR: 0.010000\n",
      "Epoch [18], Batch [350/391], Loss: 0.8748, LR: 0.010000\n",
      "Train set: Epoch: 18, Average loss:1.5918, LR: 0.010000 Top-1 Accuracy: 66.0540%, Top-5 Accuracy: 88.5120%, Time consumed:47.05s\n",
      "Test set: Epoch: 18, Average loss:1.2134, Top-1 Accuracy: 67.0000%, Top-5 Accuracy: 90.1700%, Time consumed:8.35s\n",
      "\n",
      "새로운 최고 top-1 정확도: 67.00%, top-5 정확도: 90.17%\n",
      "새로운 최고 top-5 정확도: 90.17%\n",
      "Accuracy improved (65.56% --> 67.00%). Saving model ...\n"
     ]
    },
    {
     "name": "stderr",
     "output_type": "stream",
     "text": [
      "  6%|█████▌                                                                                      | 18/300 [16:58<4:23:44, 56.12s/it]"
     ]
    },
    {
     "name": "stdout",
     "output_type": "stream",
     "text": [
      "Epoch [19], Batch [50/391], Loss: 0.8090, LR: 0.010000\n",
      "Epoch [19], Batch [100/391], Loss: 0.6837, LR: 0.010000\n",
      "Epoch [19], Batch [150/391], Loss: 0.8062, LR: 0.010000\n",
      "Epoch [19], Batch [200/391], Loss: 0.7212, LR: 0.010000\n",
      "Epoch [19], Batch [250/391], Loss: 2.3629, LR: 0.010000\n",
      "Epoch [19], Batch [300/391], Loss: 2.1857, LR: 0.010000\n",
      "Epoch [19], Batch [350/391], Loss: 3.1394, LR: 0.010000\n",
      "Train set: Epoch: 19, Average loss:1.7090, LR: 0.010000 Top-1 Accuracy: 63.5220%, Top-5 Accuracy: 86.3180%, Time consumed:46.83s\n"
     ]
    },
    {
     "name": "stderr",
     "output_type": "stream",
     "text": [
      "  6%|█████▊                                                                                      | 19/300 [17:53<4:21:39, 55.87s/it]"
     ]
    },
    {
     "name": "stdout",
     "output_type": "stream",
     "text": [
      "Test set: Epoch: 19, Average loss:1.2827, Top-1 Accuracy: 65.1100%, Top-5 Accuracy: 89.0800%, Time consumed:8.46s\n",
      "\n",
      "EarlyStopping 카운터: 1 / 30\n",
      "Epoch [20], Batch [50/391], Loss: 0.6267, LR: 0.010000\n",
      "Epoch [20], Batch [100/391], Loss: 0.9584, LR: 0.010000\n",
      "Epoch [20], Batch [150/391], Loss: 3.0437, LR: 0.010000\n",
      "Epoch [20], Batch [200/391], Loss: 2.8769, LR: 0.010000\n",
      "Epoch [20], Batch [250/391], Loss: 0.8126, LR: 0.010000\n",
      "Epoch [20], Batch [300/391], Loss: 0.8024, LR: 0.010000\n",
      "Epoch [20], Batch [350/391], Loss: 0.6378, LR: 0.010000\n",
      "Train set: Epoch: 20, Average loss:1.5312, LR: 0.010000 Top-1 Accuracy: 67.5860%, Top-5 Accuracy: 89.2680%, Time consumed:50.82s\n",
      "Test set: Epoch: 20, Average loss:1.1937, Top-1 Accuracy: 68.2800%, Top-5 Accuracy: 90.4000%, Time consumed:7.91s\n",
      "\n",
      "새로운 최고 top-1 정확도: 68.28%, top-5 정확도: 90.40%\n",
      "새로운 최고 top-5 정확도: 90.40%\n",
      "Accuracy improved (67.00% --> 68.28%). Saving model ...\n"
     ]
    },
    {
     "name": "stderr",
     "output_type": "stream",
     "text": [
      "  7%|██████▏                                                                                     | 20/300 [18:53<4:25:07, 56.81s/it]"
     ]
    },
    {
     "name": "stdout",
     "output_type": "stream",
     "text": [
      "Epoch [21], Batch [50/391], Loss: 2.5114, LR: 0.010000\n",
      "Epoch [21], Batch [100/391], Loss: 0.6560, LR: 0.010000\n",
      "Epoch [21], Batch [150/391], Loss: 2.5853, LR: 0.010000\n",
      "Epoch [21], Batch [200/391], Loss: 0.6855, LR: 0.010000\n",
      "Epoch [21], Batch [250/391], Loss: 1.4289, LR: 0.010000\n",
      "Epoch [21], Batch [300/391], Loss: 3.0057, LR: 0.010000\n",
      "Epoch [21], Batch [350/391], Loss: 0.5732, LR: 0.010000\n",
      "Train set: Epoch: 21, Average loss:1.5499, LR: 0.010000 Top-1 Accuracy: 67.8920%, Top-5 Accuracy: 88.9280%, Time consumed:47.36s\n"
     ]
    },
    {
     "name": "stderr",
     "output_type": "stream",
     "text": [
      "  7%|██████▍                                                                                     | 21/300 [19:48<4:22:18, 56.41s/it]"
     ]
    },
    {
     "name": "stdout",
     "output_type": "stream",
     "text": [
      "Test set: Epoch: 21, Average loss:1.2584, Top-1 Accuracy: 67.0400%, Top-5 Accuracy: 90.0100%, Time consumed:8.12s\n",
      "\n",
      "EarlyStopping 카운터: 1 / 30\n",
      "Epoch [22], Batch [50/391], Loss: 0.5283, LR: 0.010000\n",
      "Epoch [22], Batch [100/391], Loss: 0.8102, LR: 0.010000\n",
      "Epoch [22], Batch [150/391], Loss: 3.0532, LR: 0.010000\n",
      "Epoch [22], Batch [200/391], Loss: 3.0951, LR: 0.010000\n",
      "Epoch [22], Batch [250/391], Loss: 0.6759, LR: 0.010000\n",
      "Epoch [22], Batch [300/391], Loss: 0.6459, LR: 0.010000\n",
      "Epoch [22], Batch [350/391], Loss: 1.1546, LR: 0.010000\n",
      "Train set: Epoch: 22, Average loss:1.4784, LR: 0.010000 Top-1 Accuracy: 68.7360%, Top-5 Accuracy: 89.3100%, Time consumed:47.17s\n",
      "Test set: Epoch: 22, Average loss:1.1958, Top-1 Accuracy: 68.3000%, Top-5 Accuracy: 90.3300%, Time consumed:8.02s\n",
      "\n",
      "새로운 최고 top-1 정확도: 68.30%, top-5 정확도: 90.33%\n",
      "Accuracy improved (68.28% --> 68.30%). Saving model ...\n"
     ]
    },
    {
     "name": "stderr",
     "output_type": "stream",
     "text": [
      "  7%|██████▋                                                                                     | 22/300 [20:43<4:20:01, 56.12s/it]"
     ]
    },
    {
     "name": "stdout",
     "output_type": "stream",
     "text": [
      "Epoch [23], Batch [50/391], Loss: 0.6802, LR: 0.010000\n",
      "Epoch [23], Batch [100/391], Loss: 0.6024, LR: 0.010000\n",
      "Epoch [23], Batch [150/391], Loss: 0.8667, LR: 0.010000\n",
      "Epoch [23], Batch [200/391], Loss: 0.5945, LR: 0.010000\n",
      "Epoch [23], Batch [250/391], Loss: 2.8759, LR: 0.010000\n",
      "Epoch [23], Batch [300/391], Loss: 3.0544, LR: 0.010000\n",
      "Epoch [23], Batch [350/391], Loss: 2.2687, LR: 0.010000\n",
      "Train set: Epoch: 23, Average loss:1.4826, LR: 0.010000 Top-1 Accuracy: 70.1060%, Top-5 Accuracy: 90.3820%, Time consumed:47.02s\n",
      "Test set: Epoch: 23, Average loss:1.1556, Top-1 Accuracy: 69.4400%, Top-5 Accuracy: 90.7000%, Time consumed:8.48s\n",
      "\n",
      "새로운 최고 top-1 정확도: 69.44%, top-5 정확도: 90.70%\n",
      "새로운 최고 top-5 정확도: 90.70%\n",
      "Accuracy improved (68.30% --> 69.44%). Saving model ...\n"
     ]
    },
    {
     "name": "stderr",
     "output_type": "stream",
     "text": [
      "  8%|███████                                                                                     | 23/300 [21:39<4:18:35, 56.01s/it]"
     ]
    },
    {
     "name": "stdout",
     "output_type": "stream",
     "text": [
      "Epoch [24], Batch [50/391], Loss: 0.6360, LR: 0.010000\n",
      "Epoch [24], Batch [100/391], Loss: 0.5492, LR: 0.010000\n",
      "Epoch [24], Batch [150/391], Loss: 3.1606, LR: 0.010000\n",
      "Epoch [24], Batch [200/391], Loss: 2.2184, LR: 0.010000\n",
      "Epoch [24], Batch [250/391], Loss: 0.5117, LR: 0.010000\n",
      "Epoch [24], Batch [300/391], Loss: 2.9189, LR: 0.010000\n",
      "Epoch [24], Batch [350/391], Loss: 0.6198, LR: 0.010000\n",
      "Train set: Epoch: 24, Average loss:1.5240, LR: 0.010000 Top-1 Accuracy: 69.3140%, Top-5 Accuracy: 89.4300%, Time consumed:47.22s\n"
     ]
    },
    {
     "name": "stderr",
     "output_type": "stream",
     "text": [
      "  8%|███████▎                                                                                    | 24/300 [22:35<4:16:47, 55.82s/it]"
     ]
    },
    {
     "name": "stdout",
     "output_type": "stream",
     "text": [
      "Test set: Epoch: 24, Average loss:1.1606, Top-1 Accuracy: 69.1700%, Top-5 Accuracy: 90.6300%, Time consumed:8.16s\n",
      "\n",
      "EarlyStopping 카운터: 1 / 30\n",
      "Epoch [25], Batch [50/391], Loss: 3.3352, LR: 0.010000\n",
      "Epoch [25], Batch [100/391], Loss: 0.4947, LR: 0.010000\n",
      "Epoch [25], Batch [150/391], Loss: 2.8419, LR: 0.010000\n",
      "Epoch [25], Batch [200/391], Loss: 0.4022, LR: 0.010000\n",
      "Epoch [25], Batch [250/391], Loss: 0.7830, LR: 0.010000\n",
      "Epoch [25], Batch [300/391], Loss: 0.4858, LR: 0.010000\n",
      "Epoch [25], Batch [350/391], Loss: 0.4950, LR: 0.010000\n",
      "Train set: Epoch: 25, Average loss:1.4533, LR: 0.010000 Top-1 Accuracy: 70.0560%, Top-5 Accuracy: 89.7860%, Time consumed:47.51s\n"
     ]
    },
    {
     "name": "stderr",
     "output_type": "stream",
     "text": [
      "  8%|███████▋                                                                                    | 25/300 [23:30<4:15:23, 55.72s/it]"
     ]
    },
    {
     "name": "stdout",
     "output_type": "stream",
     "text": [
      "Test set: Epoch: 25, Average loss:1.2215, Top-1 Accuracy: 67.0200%, Top-5 Accuracy: 89.7900%, Time consumed:7.98s\n",
      "\n",
      "EarlyStopping 카운터: 2 / 30\n",
      "Epoch [26], Batch [50/391], Loss: 1.8074, LR: 0.010000\n",
      "Epoch [26], Batch [100/391], Loss: 0.5265, LR: 0.010000\n",
      "Epoch [26], Batch [150/391], Loss: 0.5777, LR: 0.010000\n",
      "Epoch [26], Batch [200/391], Loss: 1.1836, LR: 0.010000\n",
      "Epoch [26], Batch [250/391], Loss: 0.4535, LR: 0.010000\n",
      "Epoch [26], Batch [300/391], Loss: 2.9105, LR: 0.010000\n",
      "Epoch [26], Batch [350/391], Loss: 0.5701, LR: 0.010000\n",
      "Train set: Epoch: 26, Average loss:1.4449, LR: 0.010000 Top-1 Accuracy: 71.1340%, Top-5 Accuracy: 90.2180%, Time consumed:46.81s\n"
     ]
    },
    {
     "name": "stderr",
     "output_type": "stream",
     "text": [
      "  9%|███████▉                                                                                    | 26/300 [24:25<4:13:29, 55.51s/it]"
     ]
    },
    {
     "name": "stdout",
     "output_type": "stream",
     "text": [
      "Test set: Epoch: 26, Average loss:1.2045, Top-1 Accuracy: 68.5400%, Top-5 Accuracy: 90.3400%, Time consumed:8.20s\n",
      "\n",
      "EarlyStopping 카운터: 3 / 30\n",
      "Epoch [27], Batch [50/391], Loss: 2.6949, LR: 0.010000\n",
      "Epoch [27], Batch [100/391], Loss: 0.5268, LR: 0.010000\n",
      "Epoch [27], Batch [150/391], Loss: 0.4221, LR: 0.010000\n",
      "Epoch [27], Batch [200/391], Loss: 2.9935, LR: 0.010000\n",
      "Epoch [27], Batch [250/391], Loss: 0.4986, LR: 0.010000\n",
      "Epoch [27], Batch [300/391], Loss: 0.7652, LR: 0.010000\n",
      "Epoch [27], Batch [350/391], Loss: 2.7232, LR: 0.010000\n",
      "Train set: Epoch: 27, Average loss:1.4526, LR: 0.010000 Top-1 Accuracy: 70.6000%, Top-5 Accuracy: 89.7120%, Time consumed:49.73s\n"
     ]
    },
    {
     "name": "stderr",
     "output_type": "stream",
     "text": [
      "  9%|████████▎                                                                                   | 27/300 [25:23<4:16:13, 56.31s/it]"
     ]
    },
    {
     "name": "stdout",
     "output_type": "stream",
     "text": [
      "Test set: Epoch: 27, Average loss:1.1737, Top-1 Accuracy: 68.8200%, Top-5 Accuracy: 90.4600%, Time consumed:8.45s\n",
      "\n",
      "EarlyStopping 카운터: 4 / 30\n",
      "Epoch [28], Batch [50/391], Loss: 2.4700, LR: 0.010000\n",
      "Epoch [28], Batch [100/391], Loss: 0.4142, LR: 0.010000\n",
      "Epoch [28], Batch [150/391], Loss: 2.6993, LR: 0.010000\n",
      "Epoch [28], Batch [200/391], Loss: 0.5359, LR: 0.010000\n",
      "Epoch [28], Batch [250/391], Loss: 0.4647, LR: 0.010000\n",
      "Epoch [28], Batch [300/391], Loss: 1.7918, LR: 0.010000\n",
      "Epoch [28], Batch [350/391], Loss: 2.1717, LR: 0.010000\n",
      "Train set: Epoch: 28, Average loss:1.3673, LR: 0.010000 Top-1 Accuracy: 73.6380%, Top-5 Accuracy: 91.7120%, Time consumed:49.42s\n"
     ]
    },
    {
     "name": "stderr",
     "output_type": "stream",
     "text": [
      "  9%|████████▌                                                                                   | 28/300 [26:21<4:17:05, 56.71s/it]"
     ]
    },
    {
     "name": "stdout",
     "output_type": "stream",
     "text": [
      "Test set: Epoch: 28, Average loss:1.2043, Top-1 Accuracy: 67.9200%, Top-5 Accuracy: 90.2600%, Time consumed:8.22s\n",
      "\n",
      "EarlyStopping 카운터: 5 / 30\n",
      "Epoch [29], Batch [50/391], Loss: 0.2983, LR: 0.010000\n",
      "Epoch [29], Batch [100/391], Loss: 0.4172, LR: 0.010000\n",
      "Epoch [29], Batch [150/391], Loss: 0.2602, LR: 0.010000\n",
      "Epoch [29], Batch [200/391], Loss: 3.0206, LR: 0.010000\n",
      "Epoch [29], Batch [250/391], Loss: 0.5075, LR: 0.010000\n",
      "Epoch [29], Batch [300/391], Loss: 0.5099, LR: 0.010000\n",
      "Epoch [29], Batch [350/391], Loss: 2.2771, LR: 0.010000\n",
      "Train set: Epoch: 29, Average loss:1.4251, LR: 0.010000 Top-1 Accuracy: 72.2400%, Top-5 Accuracy: 90.6480%, Time consumed:47.12s\n",
      "Test set: Epoch: 29, Average loss:1.1282, Top-1 Accuracy: 69.9100%, Top-5 Accuracy: 91.4100%, Time consumed:8.79s\n",
      "\n",
      "새로운 최고 top-1 정확도: 69.91%, top-5 정확도: 91.41%\n",
      "새로운 최고 top-5 정확도: 91.41%\n",
      "Accuracy improved (69.44% --> 69.91%). Saving model ...\n"
     ]
    },
    {
     "name": "stderr",
     "output_type": "stream",
     "text": [
      " 10%|████████▉                                                                                   | 29/300 [27:17<4:15:23, 56.55s/it]"
     ]
    },
    {
     "name": "stdout",
     "output_type": "stream",
     "text": [
      "Epoch [30], Batch [50/391], Loss: 2.4140, LR: 0.010000\n",
      "Epoch [30], Batch [100/391], Loss: 2.7776, LR: 0.010000\n",
      "Epoch [30], Batch [150/391], Loss: 0.4334, LR: 0.010000\n",
      "Epoch [30], Batch [200/391], Loss: 0.3564, LR: 0.010000\n",
      "Epoch [30], Batch [250/391], Loss: 2.8663, LR: 0.010000\n",
      "Epoch [30], Batch [300/391], Loss: 2.3077, LR: 0.010000\n",
      "Epoch [30], Batch [350/391], Loss: 1.8890, LR: 0.010000\n",
      "Train set: Epoch: 30, Average loss:1.4153, LR: 0.010000 Top-1 Accuracy: 73.4600%, Top-5 Accuracy: 91.5160%, Time consumed:47.57s\n"
     ]
    },
    {
     "name": "stderr",
     "output_type": "stream",
     "text": [
      " 10%|█████████▏                                                                                  | 30/300 [28:13<4:13:24, 56.31s/it]"
     ]
    },
    {
     "name": "stdout",
     "output_type": "stream",
     "text": [
      "Test set: Epoch: 30, Average loss:1.1741, Top-1 Accuracy: 68.8900%, Top-5 Accuracy: 90.4400%, Time consumed:8.20s\n",
      "\n",
      "EarlyStopping 카운터: 1 / 30\n",
      "Epoch [31], Batch [50/391], Loss: 0.4015, LR: 0.010000\n",
      "Epoch [31], Batch [100/391], Loss: 0.9617, LR: 0.010000\n",
      "Epoch [31], Batch [150/391], Loss: 0.4066, LR: 0.010000\n",
      "Epoch [31], Batch [200/391], Loss: 2.3607, LR: 0.010000\n",
      "Epoch [31], Batch [250/391], Loss: 0.3840, LR: 0.010000\n",
      "Epoch [31], Batch [300/391], Loss: 1.8807, LR: 0.010000\n",
      "Epoch [31], Batch [350/391], Loss: 2.9951, LR: 0.010000\n",
      "Train set: Epoch: 31, Average loss:1.3424, LR: 0.010000 Top-1 Accuracy: 74.5120%, Top-5 Accuracy: 91.6340%, Time consumed:47.44s\n"
     ]
    },
    {
     "name": "stderr",
     "output_type": "stream",
     "text": [
      " 10%|█████████▌                                                                                  | 31/300 [29:08<4:11:12, 56.03s/it]"
     ]
    },
    {
     "name": "stdout",
     "output_type": "stream",
     "text": [
      "Test set: Epoch: 31, Average loss:1.1647, Top-1 Accuracy: 69.3200%, Top-5 Accuracy: 90.9600%, Time consumed:7.92s\n",
      "\n",
      "EarlyStopping 카운터: 2 / 30\n",
      "Epoch [32], Batch [50/391], Loss: 2.5199, LR: 0.010000\n",
      "Epoch [32], Batch [100/391], Loss: 1.3810, LR: 0.010000\n",
      "Epoch [32], Batch [150/391], Loss: 0.3456, LR: 0.010000\n",
      "Epoch [32], Batch [200/391], Loss: 2.6698, LR: 0.010000\n",
      "Epoch [32], Batch [250/391], Loss: 0.4048, LR: 0.010000\n",
      "Epoch [32], Batch [300/391], Loss: 2.3357, LR: 0.010000\n",
      "Epoch [32], Batch [350/391], Loss: 2.8710, LR: 0.010000\n",
      "Train set: Epoch: 32, Average loss:1.3845, LR: 0.010000 Top-1 Accuracy: 73.0740%, Top-5 Accuracy: 91.0260%, Time consumed:47.51s\n"
     ]
    },
    {
     "name": "stderr",
     "output_type": "stream",
     "text": [
      " 11%|█████████▊                                                                                  | 32/300 [30:04<4:09:50, 55.94s/it]"
     ]
    },
    {
     "name": "stdout",
     "output_type": "stream",
     "text": [
      "Test set: Epoch: 32, Average loss:1.1534, Top-1 Accuracy: 69.8500%, Top-5 Accuracy: 90.7200%, Time consumed:8.19s\n",
      "\n",
      "EarlyStopping 카운터: 3 / 30\n",
      "Epoch [33], Batch [50/391], Loss: 0.2761, LR: 0.010000\n",
      "Epoch [33], Batch [100/391], Loss: 0.2795, LR: 0.010000\n",
      "Epoch [33], Batch [150/391], Loss: 0.3434, LR: 0.010000\n",
      "Epoch [33], Batch [200/391], Loss: 2.7124, LR: 0.010000\n",
      "Epoch [33], Batch [250/391], Loss: 2.3812, LR: 0.010000\n",
      "Epoch [33], Batch [300/391], Loss: 0.5188, LR: 0.010000\n",
      "Epoch [33], Batch [350/391], Loss: 0.3859, LR: 0.010000\n",
      "Train set: Epoch: 33, Average loss:1.2205, LR: 0.010000 Top-1 Accuracy: 76.8700%, Top-5 Accuracy: 92.8500%, Time consumed:48.54s\n"
     ]
    },
    {
     "name": "stderr",
     "output_type": "stream",
     "text": [
      " 11%|██████████                                                                                  | 33/300 [31:02<4:11:38, 56.55s/it]"
     ]
    },
    {
     "name": "stdout",
     "output_type": "stream",
     "text": [
      "Test set: Epoch: 33, Average loss:1.1428, Top-1 Accuracy: 69.8200%, Top-5 Accuracy: 91.0100%, Time consumed:9.42s\n",
      "\n",
      "EarlyStopping 카운터: 4 / 30\n",
      "Epoch [34], Batch [50/391], Loss: 0.3345, LR: 0.010000\n",
      "Epoch [34], Batch [100/391], Loss: 2.0307, LR: 0.010000\n",
      "Epoch [34], Batch [150/391], Loss: 2.8105, LR: 0.010000\n",
      "Epoch [34], Batch [200/391], Loss: 2.6868, LR: 0.010000\n",
      "Epoch [34], Batch [250/391], Loss: 2.3812, LR: 0.010000\n",
      "Epoch [34], Batch [300/391], Loss: 2.9231, LR: 0.010000\n",
      "Epoch [34], Batch [350/391], Loss: 2.8081, LR: 0.010000\n",
      "Train set: Epoch: 34, Average loss:1.3193, LR: 0.010000 Top-1 Accuracy: 74.9040%, Top-5 Accuracy: 91.6640%, Time consumed:47.36s\n"
     ]
    },
    {
     "name": "stderr",
     "output_type": "stream",
     "text": [
      " 11%|██████████▍                                                                                 | 34/300 [31:57<4:09:06, 56.19s/it]"
     ]
    },
    {
     "name": "stdout",
     "output_type": "stream",
     "text": [
      "Test set: Epoch: 34, Average loss:1.1625, Top-1 Accuracy: 69.8600%, Top-5 Accuracy: 90.9200%, Time consumed:7.99s\n",
      "\n",
      "EarlyStopping 카운터: 5 / 30\n",
      "Epoch [35], Batch [50/391], Loss: 2.8188, LR: 0.010000\n",
      "Epoch [35], Batch [100/391], Loss: 0.2949, LR: 0.010000\n",
      "Epoch [35], Batch [150/391], Loss: 0.2677, LR: 0.010000\n",
      "Epoch [35], Batch [200/391], Loss: 0.2396, LR: 0.010000\n",
      "Epoch [35], Batch [250/391], Loss: 1.6521, LR: 0.010000\n",
      "Epoch [35], Batch [300/391], Loss: 2.7452, LR: 0.010000\n",
      "Epoch [35], Batch [350/391], Loss: 0.2320, LR: 0.010000\n",
      "Train set: Epoch: 35, Average loss:1.2147, LR: 0.010000 Top-1 Accuracy: 76.8940%, Top-5 Accuracy: 92.4540%, Time consumed:46.84s\n",
      "Test set: Epoch: 35, Average loss:1.1563, Top-1 Accuracy: 70.5000%, Top-5 Accuracy: 91.1300%, Time consumed:8.72s\n",
      "\n",
      "새로운 최고 top-1 정확도: 70.50%, top-5 정확도: 91.13%\n",
      "Accuracy improved (69.91% --> 70.50%). Saving model ...\n"
     ]
    },
    {
     "name": "stderr",
     "output_type": "stream",
     "text": [
      " 12%|██████████▋                                                                                 | 35/300 [32:53<4:07:42, 56.08s/it]"
     ]
    },
    {
     "name": "stdout",
     "output_type": "stream",
     "text": [
      "Epoch [36], Batch [50/391], Loss: 0.2212, LR: 0.010000\n",
      "Epoch [36], Batch [100/391], Loss: 0.3189, LR: 0.010000\n",
      "Epoch [36], Batch [150/391], Loss: 0.4195, LR: 0.010000\n",
      "Epoch [36], Batch [200/391], Loss: 0.2498, LR: 0.010000\n",
      "Epoch [36], Batch [250/391], Loss: 0.3088, LR: 0.010000\n",
      "Epoch [36], Batch [300/391], Loss: 0.2918, LR: 0.010000\n",
      "Epoch [36], Batch [350/391], Loss: 0.8945, LR: 0.010000\n",
      "Train set: Epoch: 36, Average loss:1.2540, LR: 0.010000 Top-1 Accuracy: 76.5660%, Top-5 Accuracy: 92.2260%, Time consumed:46.98s\n"
     ]
    },
    {
     "name": "stderr",
     "output_type": "stream",
     "text": [
      " 12%|███████████                                                                                 | 36/300 [33:48<4:05:21, 55.76s/it]"
     ]
    },
    {
     "name": "stdout",
     "output_type": "stream",
     "text": [
      "Test set: Epoch: 36, Average loss:1.1494, Top-1 Accuracy: 70.4800%, Top-5 Accuracy: 91.0200%, Time consumed:8.03s\n",
      "\n",
      "EarlyStopping 카운터: 1 / 30\n",
      "Epoch [37], Batch [50/391], Loss: 0.2959, LR: 0.010000\n",
      "Epoch [37], Batch [100/391], Loss: 1.7960, LR: 0.010000\n",
      "Epoch [37], Batch [150/391], Loss: 0.2937, LR: 0.010000\n",
      "Epoch [37], Batch [200/391], Loss: 0.2635, LR: 0.010000\n",
      "Epoch [37], Batch [250/391], Loss: 2.4402, LR: 0.010000\n",
      "Epoch [37], Batch [300/391], Loss: 0.2616, LR: 0.010000\n",
      "Epoch [37], Batch [350/391], Loss: 0.3216, LR: 0.010000\n",
      "Train set: Epoch: 37, Average loss:1.2478, LR: 0.010000 Top-1 Accuracy: 76.4720%, Top-5 Accuracy: 92.1120%, Time consumed:48.53s\n"
     ]
    },
    {
     "name": "stderr",
     "output_type": "stream",
     "text": [
      " 12%|███████████▎                                                                                | 37/300 [34:45<4:05:36, 56.03s/it]"
     ]
    },
    {
     "name": "stdout",
     "output_type": "stream",
     "text": [
      "Test set: Epoch: 37, Average loss:1.1171, Top-1 Accuracy: 70.5000%, Top-5 Accuracy: 91.3400%, Time consumed:8.12s\n",
      "\n",
      "EarlyStopping 카운터: 2 / 30\n",
      "Epoch [38], Batch [50/391], Loss: 1.3947, LR: 0.010000\n",
      "Epoch [38], Batch [100/391], Loss: 0.5243, LR: 0.010000\n",
      "Epoch [38], Batch [150/391], Loss: 1.0117, LR: 0.010000\n",
      "Epoch [38], Batch [200/391], Loss: 0.5687, LR: 0.010000\n",
      "Epoch [38], Batch [250/391], Loss: 2.7673, LR: 0.010000\n",
      "Epoch [38], Batch [300/391], Loss: 1.5045, LR: 0.010000\n",
      "Epoch [38], Batch [350/391], Loss: 0.2812, LR: 0.010000\n",
      "Train set: Epoch: 38, Average loss:1.1887, LR: 0.010000 Top-1 Accuracy: 77.8640%, Top-5 Accuracy: 92.9820%, Time consumed:46.91s\n"
     ]
    },
    {
     "name": "stderr",
     "output_type": "stream",
     "text": [
      " 13%|███████████▋                                                                                | 38/300 [35:40<4:03:34, 55.78s/it]"
     ]
    },
    {
     "name": "stdout",
     "output_type": "stream",
     "text": [
      "Test set: Epoch: 38, Average loss:1.2204, Top-1 Accuracy: 69.2900%, Top-5 Accuracy: 89.9900%, Time consumed:8.28s\n",
      "\n",
      "EarlyStopping 카운터: 3 / 30\n",
      "Epoch [39], Batch [50/391], Loss: 0.3475, LR: 0.010000\n",
      "Epoch [39], Batch [100/391], Loss: 0.1844, LR: 0.010000\n",
      "Epoch [39], Batch [150/391], Loss: 2.4704, LR: 0.010000\n",
      "Epoch [39], Batch [200/391], Loss: 0.2314, LR: 0.010000\n",
      "Epoch [39], Batch [250/391], Loss: 0.2568, LR: 0.010000\n",
      "Epoch [39], Batch [300/391], Loss: 2.8749, LR: 0.010000\n",
      "Epoch [39], Batch [350/391], Loss: 1.4096, LR: 0.010000\n",
      "Train set: Epoch: 39, Average loss:1.1861, LR: 0.010000 Top-1 Accuracy: 78.9180%, Top-5 Accuracy: 93.3060%, Time consumed:49.67s\n"
     ]
    },
    {
     "name": "stderr",
     "output_type": "stream",
     "text": [
      " 13%|███████████▉                                                                                | 39/300 [36:38<4:05:18, 56.39s/it]"
     ]
    },
    {
     "name": "stdout",
     "output_type": "stream",
     "text": [
      "Test set: Epoch: 39, Average loss:1.1458, Top-1 Accuracy: 70.2000%, Top-5 Accuracy: 90.8000%, Time consumed:8.14s\n",
      "\n",
      "EarlyStopping 카운터: 4 / 30\n",
      "Epoch [40], Batch [50/391], Loss: 1.4552, LR: 0.010000\n",
      "Epoch [40], Batch [100/391], Loss: 1.9219, LR: 0.010000\n",
      "Epoch [40], Batch [150/391], Loss: 0.1929, LR: 0.010000\n",
      "Epoch [40], Batch [200/391], Loss: 0.2964, LR: 0.010000\n",
      "Epoch [40], Batch [250/391], Loss: 2.1478, LR: 0.010000\n",
      "Epoch [40], Batch [300/391], Loss: 0.2626, LR: 0.010000\n",
      "Epoch [40], Batch [350/391], Loss: 2.8463, LR: 0.010000\n",
      "Train set: Epoch: 40, Average loss:1.2749, LR: 0.010000 Top-1 Accuracy: 76.2880%, Top-5 Accuracy: 91.6880%, Time consumed:47.73s\n",
      "Test set: Epoch: 40, Average loss:1.1047, Top-1 Accuracy: 71.5400%, Top-5 Accuracy: 91.2700%, Time consumed:8.54s\n",
      "\n",
      "새로운 최고 top-1 정확도: 71.54%, top-5 정확도: 91.27%\n",
      "Accuracy improved (70.50% --> 71.54%). Saving model ...\n"
     ]
    },
    {
     "name": "stderr",
     "output_type": "stream",
     "text": [
      " 13%|████████████▎                                                                               | 40/300 [37:34<4:04:29, 56.42s/it]"
     ]
    },
    {
     "name": "stdout",
     "output_type": "stream",
     "text": [
      "Epoch [41], Batch [50/391], Loss: 0.1703, LR: 0.010000\n",
      "Epoch [41], Batch [100/391], Loss: 2.7854, LR: 0.010000\n",
      "Epoch [41], Batch [150/391], Loss: 2.1276, LR: 0.010000\n",
      "Epoch [41], Batch [200/391], Loss: 0.6595, LR: 0.010000\n",
      "Epoch [41], Batch [250/391], Loss: 0.2747, LR: 0.010000\n",
      "Epoch [41], Batch [300/391], Loss: 2.9594, LR: 0.010000\n",
      "Epoch [41], Batch [350/391], Loss: 2.5794, LR: 0.010000\n",
      "Train set: Epoch: 41, Average loss:1.1658, LR: 0.010000 Top-1 Accuracy: 77.9240%, Top-5 Accuracy: 92.4100%, Time consumed:51.26s\n",
      "Test set: Epoch: 41, Average loss:1.1023, Top-1 Accuracy: 71.5800%, Top-5 Accuracy: 91.5900%, Time consumed:7.97s\n",
      "\n",
      "새로운 최고 top-1 정확도: 71.58%, top-5 정확도: 91.59%\n",
      "새로운 최고 top-5 정확도: 91.59%\n",
      "Accuracy improved (71.54% --> 71.58%). Saving model ...\n"
     ]
    },
    {
     "name": "stderr",
     "output_type": "stream",
     "text": [
      " 14%|████████████▌                                                                               | 41/300 [38:34<4:07:29, 57.34s/it]"
     ]
    },
    {
     "name": "stdout",
     "output_type": "stream",
     "text": [
      "Epoch [42], Batch [50/391], Loss: 2.6761, LR: 0.010000\n",
      "Epoch [42], Batch [100/391], Loss: 0.2069, LR: 0.010000\n",
      "Epoch [42], Batch [150/391], Loss: 2.3470, LR: 0.010000\n",
      "Epoch [42], Batch [200/391], Loss: 0.1617, LR: 0.010000\n",
      "Epoch [42], Batch [250/391], Loss: 0.2323, LR: 0.010000\n",
      "Epoch [42], Batch [300/391], Loss: 0.1696, LR: 0.010000\n",
      "Epoch [42], Batch [350/391], Loss: 2.6648, LR: 0.010000\n",
      "Train set: Epoch: 42, Average loss:1.2033, LR: 0.010000 Top-1 Accuracy: 78.1280%, Top-5 Accuracy: 92.7460%, Time consumed:46.72s\n"
     ]
    },
    {
     "name": "stderr",
     "output_type": "stream",
     "text": [
      " 14%|████████████▉                                                                               | 42/300 [39:28<4:03:08, 56.55s/it]"
     ]
    },
    {
     "name": "stdout",
     "output_type": "stream",
     "text": [
      "Test set: Epoch: 42, Average loss:1.1123, Top-1 Accuracy: 71.4000%, Top-5 Accuracy: 91.1800%, Time consumed:7.98s\n",
      "\n",
      "EarlyStopping 카운터: 1 / 30\n",
      "Epoch [43], Batch [50/391], Loss: 0.1328, LR: 0.010000\n",
      "Epoch [43], Batch [100/391], Loss: 2.2600, LR: 0.010000\n",
      "Epoch [43], Batch [150/391], Loss: 0.1924, LR: 0.010000\n",
      "Epoch [43], Batch [200/391], Loss: 0.1817, LR: 0.010000\n",
      "Epoch [43], Batch [250/391], Loss: 1.7945, LR: 0.010000\n",
      "Epoch [43], Batch [300/391], Loss: 0.2170, LR: 0.010000\n",
      "Epoch [43], Batch [350/391], Loss: 2.9361, LR: 0.010000\n",
      "Train set: Epoch: 43, Average loss:1.0988, LR: 0.010000 Top-1 Accuracy: 80.3100%, Top-5 Accuracy: 93.8960%, Time consumed:47.80s\n"
     ]
    },
    {
     "name": "stderr",
     "output_type": "stream",
     "text": [
      " 14%|█████████████▏                                                                              | 43/300 [40:24<4:01:19, 56.34s/it]"
     ]
    },
    {
     "name": "stdout",
     "output_type": "stream",
     "text": [
      "Test set: Epoch: 43, Average loss:1.1169, Top-1 Accuracy: 71.5400%, Top-5 Accuracy: 91.3400%, Time consumed:8.05s\n",
      "\n",
      "EarlyStopping 카운터: 2 / 30\n",
      "Epoch [44], Batch [50/391], Loss: 0.2168, LR: 0.010000\n",
      "Epoch [44], Batch [100/391], Loss: 0.1760, LR: 0.010000\n",
      "Epoch [44], Batch [150/391], Loss: 0.2064, LR: 0.010000\n",
      "Epoch [44], Batch [200/391], Loss: 2.2814, LR: 0.010000\n",
      "Epoch [44], Batch [250/391], Loss: 0.2100, LR: 0.010000\n",
      "Epoch [44], Batch [300/391], Loss: 0.2449, LR: 0.010000\n",
      "Epoch [44], Batch [350/391], Loss: 3.0164, LR: 0.010000\n",
      "Train set: Epoch: 44, Average loss:1.0956, LR: 0.010000 Top-1 Accuracy: 79.8340%, Top-5 Accuracy: 93.4420%, Time consumed:47.63s\n"
     ]
    },
    {
     "name": "stderr",
     "output_type": "stream",
     "text": [
      " 15%|█████████████▍                                                                              | 44/300 [41:20<3:59:35, 56.15s/it]"
     ]
    },
    {
     "name": "stdout",
     "output_type": "stream",
     "text": [
      "Test set: Epoch: 44, Average loss:1.1681, Top-1 Accuracy: 70.3900%, Top-5 Accuracy: 90.6100%, Time consumed:8.08s\n",
      "\n",
      "EarlyStopping 카운터: 3 / 30\n",
      "Epoch [45], Batch [50/391], Loss: 1.6164, LR: 0.010000\n",
      "Epoch [45], Batch [100/391], Loss: 0.7233, LR: 0.010000\n",
      "Epoch [45], Batch [150/391], Loss: 0.2183, LR: 0.010000\n",
      "Epoch [45], Batch [200/391], Loss: 0.1926, LR: 0.010000\n",
      "Epoch [45], Batch [250/391], Loss: 0.1828, LR: 0.010000\n",
      "Epoch [45], Batch [300/391], Loss: 0.1889, LR: 0.010000\n",
      "Epoch [45], Batch [350/391], Loss: 2.9318, LR: 0.010000\n",
      "Train set: Epoch: 45, Average loss:1.1780, LR: 0.010000 Top-1 Accuracy: 78.8100%, Top-5 Accuracy: 93.2940%, Time consumed:47.07s\n"
     ]
    },
    {
     "name": "stderr",
     "output_type": "stream",
     "text": [
      " 15%|█████████████▊                                                                              | 45/300 [42:15<3:57:12, 55.81s/it]"
     ]
    },
    {
     "name": "stdout",
     "output_type": "stream",
     "text": [
      "Test set: Epoch: 45, Average loss:1.1675, Top-1 Accuracy: 70.3100%, Top-5 Accuracy: 91.0000%, Time consumed:7.95s\n",
      "\n",
      "EarlyStopping 카운터: 4 / 30\n",
      "Epoch [46], Batch [50/391], Loss: 2.8685, LR: 0.010000\n",
      "Epoch [46], Batch [100/391], Loss: 2.8383, LR: 0.010000\n",
      "Epoch [46], Batch [150/391], Loss: 0.2026, LR: 0.010000\n",
      "Epoch [46], Batch [200/391], Loss: 0.7725, LR: 0.010000\n",
      "Epoch [46], Batch [250/391], Loss: 0.1431, LR: 0.010000\n",
      "Epoch [46], Batch [300/391], Loss: 0.2765, LR: 0.010000\n",
      "Epoch [46], Batch [350/391], Loss: 0.1328, LR: 0.010000\n",
      "Train set: Epoch: 46, Average loss:1.0709, LR: 0.010000 Top-1 Accuracy: 80.3820%, Top-5 Accuracy: 93.7500%, Time consumed:47.16s\n"
     ]
    },
    {
     "name": "stderr",
     "output_type": "stream",
     "text": [
      " 15%|██████████████                                                                              | 46/300 [43:10<3:55:27, 55.62s/it]"
     ]
    },
    {
     "name": "stdout",
     "output_type": "stream",
     "text": [
      "Test set: Epoch: 46, Average loss:1.1707, Top-1 Accuracy: 71.3800%, Top-5 Accuracy: 91.4700%, Time consumed:7.99s\n",
      "\n",
      "EarlyStopping 카운터: 5 / 30\n",
      "Epoch [47], Batch [50/391], Loss: 2.4655, LR: 0.005000\n",
      "Epoch [47], Batch [100/391], Loss: 0.0861, LR: 0.005000\n",
      "Epoch [47], Batch [150/391], Loss: 0.0900, LR: 0.005000\n",
      "Epoch [47], Batch [200/391], Loss: 0.0673, LR: 0.005000\n",
      "Epoch [47], Batch [250/391], Loss: 0.1755, LR: 0.005000\n",
      "Epoch [47], Batch [300/391], Loss: 2.4477, LR: 0.005000\n",
      "Epoch [47], Batch [350/391], Loss: 2.7555, LR: 0.005000\n",
      "Train set: Epoch: 47, Average loss:0.9307, LR: 0.005000 Top-1 Accuracy: 84.2420%, Top-5 Accuracy: 95.0400%, Time consumed:47.09s\n",
      "Test set: Epoch: 47, Average loss:1.0574, Top-1 Accuracy: 74.0800%, Top-5 Accuracy: 92.9600%, Time consumed:8.13s\n",
      "\n",
      "새로운 최고 top-1 정확도: 74.08%, top-5 정확도: 92.96%\n",
      "새로운 최고 top-5 정확도: 92.96%\n",
      "Accuracy improved (71.58% --> 74.08%). Saving model ...\n"
     ]
    },
    {
     "name": "stderr",
     "output_type": "stream",
     "text": [
      " 16%|██████████████▍                                                                             | 47/300 [44:06<3:54:18, 55.57s/it]"
     ]
    },
    {
     "name": "stdout",
     "output_type": "stream",
     "text": [
      "Epoch [48], Batch [50/391], Loss: 0.1070, LR: 0.005000\n",
      "Epoch [48], Batch [100/391], Loss: 1.4360, LR: 0.005000\n",
      "Epoch [48], Batch [150/391], Loss: 2.4338, LR: 0.005000\n",
      "Epoch [48], Batch [200/391], Loss: 0.0557, LR: 0.005000\n",
      "Epoch [48], Batch [250/391], Loss: 0.0676, LR: 0.005000\n",
      "Epoch [48], Batch [300/391], Loss: 0.1290, LR: 0.005000\n",
      "Epoch [48], Batch [350/391], Loss: 0.1513, LR: 0.005000\n",
      "Train set: Epoch: 48, Average loss:1.1085, LR: 0.005000 Top-1 Accuracy: 81.5140%, Top-5 Accuracy: 93.7100%, Time consumed:50.49s\n",
      "Test set: Epoch: 48, Average loss:1.0344, Top-1 Accuracy: 74.2600%, Top-5 Accuracy: 92.6400%, Time consumed:8.40s\n",
      "\n",
      "새로운 최고 top-1 정확도: 74.26%, top-5 정확도: 92.64%\n",
      "Accuracy improved (74.08% --> 74.26%). Saving model ...\n"
     ]
    },
    {
     "name": "stderr",
     "output_type": "stream",
     "text": [
      " 16%|██████████████▋                                                                             | 48/300 [45:05<3:57:54, 56.64s/it]"
     ]
    },
    {
     "name": "stdout",
     "output_type": "stream",
     "text": [
      "Epoch [49], Batch [50/391], Loss: 0.7265, LR: 0.005000\n",
      "Epoch [49], Batch [100/391], Loss: 2.3342, LR: 0.005000\n",
      "Epoch [49], Batch [150/391], Loss: 0.0712, LR: 0.005000\n",
      "Epoch [49], Batch [200/391], Loss: 2.6219, LR: 0.005000\n",
      "Epoch [49], Batch [250/391], Loss: 1.3985, LR: 0.005000\n",
      "Epoch [49], Batch [300/391], Loss: 0.0665, LR: 0.005000\n",
      "Epoch [49], Batch [350/391], Loss: 0.0592, LR: 0.005000\n",
      "Train set: Epoch: 49, Average loss:0.8831, LR: 0.005000 Top-1 Accuracy: 86.5640%, Top-5 Accuracy: 95.9460%, Time consumed:47.24s\n",
      "Test set: Epoch: 49, Average loss:1.0324, Top-1 Accuracy: 74.3300%, Top-5 Accuracy: 92.6200%, Time consumed:7.96s\n",
      "\n",
      "새로운 최고 top-1 정확도: 74.33%, top-5 정확도: 92.62%\n",
      "Accuracy improved (74.26% --> 74.33%). Saving model ...\n"
     ]
    },
    {
     "name": "stderr",
     "output_type": "stream",
     "text": [
      " 16%|███████████████                                                                             | 49/300 [46:00<3:55:28, 56.29s/it]"
     ]
    },
    {
     "name": "stdout",
     "output_type": "stream",
     "text": [
      "Epoch [50], Batch [50/391], Loss: 2.2843, LR: 0.005000\n",
      "Epoch [50], Batch [100/391], Loss: 1.5124, LR: 0.005000\n",
      "Epoch [50], Batch [150/391], Loss: 1.9233, LR: 0.005000\n",
      "Epoch [50], Batch [200/391], Loss: 0.0891, LR: 0.005000\n",
      "Epoch [50], Batch [250/391], Loss: 0.0687, LR: 0.005000\n",
      "Epoch [50], Batch [300/391], Loss: 0.1193, LR: 0.005000\n",
      "Epoch [50], Batch [350/391], Loss: 1.7892, LR: 0.005000\n",
      "Train set: Epoch: 50, Average loss:1.0243, LR: 0.005000 Top-1 Accuracy: 82.9420%, Top-5 Accuracy: 94.5100%, Time consumed:47.03s\n"
     ]
    },
    {
     "name": "stderr",
     "output_type": "stream",
     "text": [
      " 17%|███████████████▎                                                                            | 50/300 [46:56<3:53:29, 56.04s/it]"
     ]
    },
    {
     "name": "stdout",
     "output_type": "stream",
     "text": [
      "Test set: Epoch: 50, Average loss:1.0213, Top-1 Accuracy: 73.9100%, Top-5 Accuracy: 92.5700%, Time consumed:8.41s\n",
      "\n",
      "EarlyStopping 카운터: 1 / 30\n",
      "Epoch [51], Batch [50/391], Loss: 0.0450, LR: 0.005000\n",
      "Epoch [51], Batch [100/391], Loss: 1.6919, LR: 0.005000\n",
      "Epoch [51], Batch [150/391], Loss: 0.0728, LR: 0.005000\n",
      "Epoch [51], Batch [200/391], Loss: 0.0612, LR: 0.005000\n",
      "Epoch [51], Batch [250/391], Loss: 0.0797, LR: 0.005000\n",
      "Epoch [51], Batch [300/391], Loss: 2.6647, LR: 0.005000\n",
      "Epoch [51], Batch [350/391], Loss: 0.0714, LR: 0.005000\n",
      "Train set: Epoch: 51, Average loss:0.9368, LR: 0.005000 Top-1 Accuracy: 84.7320%, Top-5 Accuracy: 95.1400%, Time consumed:47.58s\n"
     ]
    },
    {
     "name": "stderr",
     "output_type": "stream",
     "text": [
      " 17%|███████████████▋                                                                            | 51/300 [47:51<3:51:54, 55.88s/it]"
     ]
    },
    {
     "name": "stdout",
     "output_type": "stream",
     "text": [
      "Test set: Epoch: 51, Average loss:1.0474, Top-1 Accuracy: 73.9600%, Top-5 Accuracy: 92.6000%, Time consumed:7.94s\n",
      "\n",
      "EarlyStopping 카운터: 2 / 30\n",
      "Epoch [52], Batch [50/391], Loss: 2.4127, LR: 0.005000\n",
      "Epoch [52], Batch [100/391], Loss: 0.0287, LR: 0.005000\n",
      "Epoch [52], Batch [150/391], Loss: 0.0639, LR: 0.005000\n",
      "Epoch [52], Batch [200/391], Loss: 0.0706, LR: 0.005000\n",
      "Epoch [52], Batch [250/391], Loss: 0.5143, LR: 0.005000\n",
      "Epoch [52], Batch [300/391], Loss: 0.0731, LR: 0.005000\n",
      "Epoch [52], Batch [350/391], Loss: 0.0832, LR: 0.005000\n",
      "Train set: Epoch: 52, Average loss:0.9435, LR: 0.005000 Top-1 Accuracy: 85.3200%, Top-5 Accuracy: 95.3580%, Time consumed:47.58s\n"
     ]
    },
    {
     "name": "stderr",
     "output_type": "stream",
     "text": [
      " 17%|███████████████▉                                                                            | 52/300 [48:47<3:50:40, 55.81s/it]"
     ]
    },
    {
     "name": "stdout",
     "output_type": "stream",
     "text": [
      "Test set: Epoch: 52, Average loss:1.0597, Top-1 Accuracy: 73.7400%, Top-5 Accuracy: 91.9300%, Time consumed:8.05s\n",
      "\n",
      "EarlyStopping 카운터: 3 / 30\n",
      "Epoch [53], Batch [50/391], Loss: 2.0379, LR: 0.005000\n",
      "Epoch [53], Batch [100/391], Loss: 0.0433, LR: 0.005000\n",
      "Epoch [53], Batch [150/391], Loss: 0.0499, LR: 0.005000\n",
      "Epoch [53], Batch [200/391], Loss: 0.0610, LR: 0.005000\n",
      "Epoch [53], Batch [250/391], Loss: 0.0690, LR: 0.005000\n",
      "Epoch [53], Batch [300/391], Loss: 0.6122, LR: 0.005000\n",
      "Epoch [53], Batch [350/391], Loss: 0.0699, LR: 0.005000\n",
      "Train set: Epoch: 53, Average loss:0.9956, LR: 0.005000 Top-1 Accuracy: 83.3640%, Top-5 Accuracy: 94.6180%, Time consumed:51.79s\n"
     ]
    },
    {
     "name": "stderr",
     "output_type": "stream",
     "text": [
      " 18%|████████████████▎                                                                           | 53/300 [49:47<3:54:46, 57.03s/it]"
     ]
    },
    {
     "name": "stdout",
     "output_type": "stream",
     "text": [
      "Test set: Epoch: 53, Average loss:1.0350, Top-1 Accuracy: 73.9400%, Top-5 Accuracy: 92.0800%, Time consumed:8.09s\n",
      "\n",
      "EarlyStopping 카운터: 4 / 30\n",
      "Epoch [54], Batch [50/391], Loss: 2.6601, LR: 0.002500\n",
      "Epoch [54], Batch [100/391], Loss: 0.0240, LR: 0.002500\n",
      "Epoch [54], Batch [150/391], Loss: 0.0543, LR: 0.002500\n",
      "Epoch [54], Batch [200/391], Loss: 0.0312, LR: 0.002500\n",
      "Epoch [54], Batch [250/391], Loss: 1.2771, LR: 0.002500\n",
      "Epoch [54], Batch [300/391], Loss: 0.0319, LR: 0.002500\n",
      "Epoch [54], Batch [350/391], Loss: 1.2762, LR: 0.002500\n",
      "Train set: Epoch: 54, Average loss:1.0529, LR: 0.002500 Top-1 Accuracy: 82.5860%, Top-5 Accuracy: 94.1180%, Time consumed:47.05s\n",
      "Test set: Epoch: 54, Average loss:0.9816, Top-1 Accuracy: 75.5200%, Top-5 Accuracy: 92.8200%, Time consumed:8.41s\n",
      "\n",
      "새로운 최고 top-1 정확도: 75.52%, top-5 정확도: 92.82%\n",
      "Accuracy improved (74.33% --> 75.52%). Saving model ...\n"
     ]
    },
    {
     "name": "stderr",
     "output_type": "stream",
     "text": [
      " 18%|████████████████▌                                                                           | 54/300 [50:42<3:52:11, 56.63s/it]"
     ]
    },
    {
     "name": "stdout",
     "output_type": "stream",
     "text": [
      "Epoch [55], Batch [50/391], Loss: 0.0290, LR: 0.002500\n",
      "Epoch [55], Batch [100/391], Loss: 2.4511, LR: 0.002500\n",
      "Epoch [55], Batch [150/391], Loss: 2.3303, LR: 0.002500\n",
      "Epoch [55], Batch [200/391], Loss: 2.2250, LR: 0.002500\n",
      "Epoch [55], Batch [250/391], Loss: 2.6381, LR: 0.002500\n",
      "Epoch [55], Batch [300/391], Loss: 2.0706, LR: 0.002500\n",
      "Epoch [55], Batch [350/391], Loss: 2.2413, LR: 0.002500\n",
      "Train set: Epoch: 55, Average loss:0.8748, LR: 0.002500 Top-1 Accuracy: 85.9600%, Top-5 Accuracy: 95.5120%, Time consumed:46.98s\n",
      "Test set: Epoch: 55, Average loss:1.0047, Top-1 Accuracy: 75.5300%, Top-5 Accuracy: 93.2500%, Time consumed:8.37s\n",
      "\n",
      "새로운 최고 top-1 정확도: 75.53%, top-5 정확도: 93.25%\n",
      "새로운 최고 top-5 정확도: 93.25%\n",
      "Accuracy improved (75.52% --> 75.53%). Saving model ...\n"
     ]
    },
    {
     "name": "stderr",
     "output_type": "stream",
     "text": [
      " 18%|████████████████▊                                                                           | 55/300 [51:38<3:49:59, 56.32s/it]"
     ]
    },
    {
     "name": "stdout",
     "output_type": "stream",
     "text": [
      "Epoch [56], Batch [50/391], Loss: 0.0319, LR: 0.002500\n",
      "Epoch [56], Batch [100/391], Loss: 0.0147, LR: 0.002500\n",
      "Epoch [56], Batch [150/391], Loss: 2.4824, LR: 0.002500\n",
      "Epoch [56], Batch [200/391], Loss: 0.0305, LR: 0.002500\n",
      "Epoch [56], Batch [250/391], Loss: 1.0421, LR: 0.002500\n",
      "Epoch [56], Batch [300/391], Loss: 0.0499, LR: 0.002500\n",
      "Epoch [56], Batch [350/391], Loss: 0.0690, LR: 0.002500\n",
      "Train set: Epoch: 56, Average loss:0.9273, LR: 0.002500 Top-1 Accuracy: 85.2260%, Top-5 Accuracy: 95.1800%, Time consumed:47.45s\n"
     ]
    },
    {
     "name": "stderr",
     "output_type": "stream",
     "text": [
      " 19%|█████████████████▏                                                                          | 56/300 [52:34<3:48:01, 56.07s/it]"
     ]
    },
    {
     "name": "stdout",
     "output_type": "stream",
     "text": [
      "Test set: Epoch: 56, Average loss:0.9734, Top-1 Accuracy: 75.5200%, Top-5 Accuracy: 93.0400%, Time consumed:8.03s\n",
      "\n",
      "EarlyStopping 카운터: 1 / 30\n",
      "Epoch [57], Batch [50/391], Loss: 0.0228, LR: 0.002500\n",
      "Epoch [57], Batch [100/391], Loss: 1.5751, LR: 0.002500\n",
      "Epoch [57], Batch [150/391], Loss: 0.0210, LR: 0.002500\n",
      "Epoch [57], Batch [200/391], Loss: 1.8248, LR: 0.002500\n",
      "Epoch [57], Batch [250/391], Loss: 2.2887, LR: 0.002500\n",
      "Epoch [57], Batch [300/391], Loss: 2.2529, LR: 0.002500\n",
      "Epoch [57], Batch [350/391], Loss: 2.4441, LR: 0.002500\n",
      "Train set: Epoch: 57, Average loss:0.9190, LR: 0.002500 Top-1 Accuracy: 85.8400%, Top-5 Accuracy: 95.6740%, Time consumed:47.82s\n"
     ]
    },
    {
     "name": "stderr",
     "output_type": "stream",
     "text": [
      " 19%|█████████████████▍                                                                          | 57/300 [53:30<3:47:00, 56.05s/it]"
     ]
    },
    {
     "name": "stdout",
     "output_type": "stream",
     "text": [
      "Test set: Epoch: 57, Average loss:0.9798, Top-1 Accuracy: 75.0700%, Top-5 Accuracy: 92.8500%, Time consumed:8.18s\n",
      "\n",
      "EarlyStopping 카운터: 2 / 30\n",
      "Epoch [58], Batch [50/391], Loss: 2.6026, LR: 0.002500\n",
      "Epoch [58], Batch [100/391], Loss: 1.0542, LR: 0.002500\n",
      "Epoch [58], Batch [150/391], Loss: 0.0243, LR: 0.002500\n",
      "Epoch [58], Batch [200/391], Loss: 1.2377, LR: 0.002500\n",
      "Epoch [58], Batch [250/391], Loss: 1.8211, LR: 0.002500\n",
      "Epoch [58], Batch [300/391], Loss: 0.0177, LR: 0.002500\n",
      "Epoch [58], Batch [350/391], Loss: 0.0609, LR: 0.002500\n",
      "Train set: Epoch: 58, Average loss:0.9614, LR: 0.002500 Top-1 Accuracy: 84.7420%, Top-5 Accuracy: 95.2460%, Time consumed:46.87s\n",
      "Test set: Epoch: 58, Average loss:0.9846, Top-1 Accuracy: 75.5400%, Top-5 Accuracy: 93.1500%, Time consumed:7.98s\n",
      "\n",
      "새로운 최고 top-1 정확도: 75.54%, top-5 정확도: 93.15%\n",
      "Accuracy improved (75.53% --> 75.54%). Saving model ...\n"
     ]
    },
    {
     "name": "stderr",
     "output_type": "stream",
     "text": [
      " 19%|█████████████████▊                                                                          | 58/300 [54:25<3:44:53, 55.76s/it]"
     ]
    },
    {
     "name": "stdout",
     "output_type": "stream",
     "text": [
      "Epoch [59], Batch [50/391], Loss: 0.0183, LR: 0.002500\n",
      "Epoch [59], Batch [100/391], Loss: 0.0266, LR: 0.002500\n",
      "Epoch [59], Batch [150/391], Loss: 2.6672, LR: 0.002500\n",
      "Epoch [59], Batch [200/391], Loss: 1.6956, LR: 0.002500\n",
      "Epoch [59], Batch [250/391], Loss: 0.0269, LR: 0.002500\n",
      "Epoch [59], Batch [300/391], Loss: 2.5433, LR: 0.002500\n",
      "Epoch [59], Batch [350/391], Loss: 1.6805, LR: 0.002500\n",
      "Train set: Epoch: 59, Average loss:0.9274, LR: 0.002500 Top-1 Accuracy: 87.6540%, Top-5 Accuracy: 96.6920%, Time consumed:47.81s\n"
     ]
    },
    {
     "name": "stderr",
     "output_type": "stream",
     "text": [
      " 20%|██████████████████                                                                          | 59/300 [55:20<3:44:06, 55.79s/it]"
     ]
    },
    {
     "name": "stdout",
     "output_type": "stream",
     "text": [
      "Test set: Epoch: 59, Average loss:0.9931, Top-1 Accuracy: 75.5400%, Top-5 Accuracy: 93.0300%, Time consumed:8.05s\n",
      "\n",
      "EarlyStopping 카운터: 1 / 30\n",
      "Epoch [60], Batch [50/391], Loss: 1.1790, LR: 0.002500\n",
      "Epoch [60], Batch [100/391], Loss: 0.0201, LR: 0.002500\n",
      "Epoch [60], Batch [150/391], Loss: 0.4783, LR: 0.002500\n",
      "Epoch [60], Batch [200/391], Loss: 0.0412, LR: 0.002500\n",
      "Epoch [60], Batch [250/391], Loss: 1.1308, LR: 0.002500\n",
      "Epoch [60], Batch [300/391], Loss: 1.4430, LR: 0.002500\n",
      "Epoch [60], Batch [350/391], Loss: 0.0277, LR: 0.002500\n",
      "Train set: Epoch: 60, Average loss:0.8964, LR: 0.002500 Top-1 Accuracy: 86.2660%, Top-5 Accuracy: 95.9780%, Time consumed:46.89s\n"
     ]
    },
    {
     "name": "stderr",
     "output_type": "stream",
     "text": [
      " 20%|██████████████████▍                                                                         | 60/300 [56:15<3:41:58, 55.49s/it]"
     ]
    },
    {
     "name": "stdout",
     "output_type": "stream",
     "text": [
      "Test set: Epoch: 60, Average loss:1.0081, Top-1 Accuracy: 75.2200%, Top-5 Accuracy: 93.1300%, Time consumed:7.89s\n",
      "\n",
      "EarlyStopping 카운터: 2 / 30\n",
      "Epoch [61], Batch [50/391], Loss: 0.4895, LR: 0.001250\n",
      "Epoch [61], Batch [100/391], Loss: 2.6021, LR: 0.001250\n",
      "Epoch [61], Batch [150/391], Loss: 0.0163, LR: 0.001250\n",
      "Epoch [61], Batch [200/391], Loss: 0.0293, LR: 0.001250\n",
      "Epoch [61], Batch [250/391], Loss: 0.0350, LR: 0.001250\n",
      "Epoch [61], Batch [300/391], Loss: 0.0346, LR: 0.001250\n",
      "Epoch [61], Batch [350/391], Loss: 2.3253, LR: 0.001250\n",
      "Train set: Epoch: 61, Average loss:0.9477, LR: 0.001250 Top-1 Accuracy: 84.9560%, Top-5 Accuracy: 95.1780%, Time consumed:47.20s\n",
      "Test set: Epoch: 61, Average loss:0.9979, Top-1 Accuracy: 76.0800%, Top-5 Accuracy: 93.5100%, Time consumed:7.91s\n",
      "\n",
      "새로운 최고 top-1 정확도: 76.08%, top-5 정확도: 93.51%\n",
      "새로운 최고 top-5 정확도: 93.51%\n",
      "Accuracy improved (75.54% --> 76.08%). Saving model ...\n"
     ]
    },
    {
     "name": "stderr",
     "output_type": "stream",
     "text": [
      " 20%|██████████████████▋                                                                         | 61/300 [57:11<3:40:51, 55.45s/it]"
     ]
    },
    {
     "name": "stdout",
     "output_type": "stream",
     "text": [
      "Epoch [62], Batch [50/391], Loss: 1.9324, LR: 0.001250\n",
      "Epoch [62], Batch [100/391], Loss: 2.3643, LR: 0.001250\n",
      "Epoch [62], Batch [150/391], Loss: 0.0212, LR: 0.001250\n",
      "Epoch [62], Batch [200/391], Loss: 0.0268, LR: 0.001250\n",
      "Epoch [62], Batch [250/391], Loss: 0.0148, LR: 0.001250\n",
      "Epoch [62], Batch [300/391], Loss: 0.0295, LR: 0.001250\n",
      "Epoch [62], Batch [350/391], Loss: 0.7529, LR: 0.001250\n",
      "Train set: Epoch: 62, Average loss:0.8426, LR: 0.001250 Top-1 Accuracy: 87.2560%, Top-5 Accuracy: 96.1800%, Time consumed:46.82s\n"
     ]
    },
    {
     "name": "stderr",
     "output_type": "stream",
     "text": [
      " 21%|███████████████████                                                                         | 62/300 [58:06<3:39:32, 55.35s/it]"
     ]
    },
    {
     "name": "stdout",
     "output_type": "stream",
     "text": [
      "Test set: Epoch: 62, Average loss:0.9600, Top-1 Accuracy: 75.3700%, Top-5 Accuracy: 93.0900%, Time consumed:8.29s\n",
      "\n",
      "EarlyStopping 카운터: 1 / 30\n",
      "Epoch [63], Batch [50/391], Loss: 0.0411, LR: 0.001250\n",
      "Epoch [63], Batch [100/391], Loss: 0.0160, LR: 0.001250\n",
      "Epoch [63], Batch [150/391], Loss: 0.0143, LR: 0.001250\n",
      "Epoch [63], Batch [200/391], Loss: 1.1653, LR: 0.001250\n",
      "Epoch [63], Batch [250/391], Loss: 0.0282, LR: 0.001250\n",
      "Epoch [63], Batch [300/391], Loss: 0.0132, LR: 0.001250\n",
      "Epoch [63], Batch [350/391], Loss: 0.0191, LR: 0.001250\n",
      "Train set: Epoch: 63, Average loss:0.8162, LR: 0.001250 Top-1 Accuracy: 87.5680%, Top-5 Accuracy: 96.4200%, Time consumed:46.72s\n"
     ]
    },
    {
     "name": "stderr",
     "output_type": "stream",
     "text": [
      " 21%|███████████████████▎                                                                        | 63/300 [59:00<3:37:50, 55.15s/it]"
     ]
    },
    {
     "name": "stdout",
     "output_type": "stream",
     "text": [
      "Test set: Epoch: 63, Average loss:0.9685, Top-1 Accuracy: 75.6700%, Top-5 Accuracy: 93.2400%, Time consumed:7.96s\n",
      "\n",
      "EarlyStopping 카운터: 2 / 30\n",
      "Epoch [64], Batch [50/391], Loss: 2.6055, LR: 0.001250\n",
      "Epoch [64], Batch [100/391], Loss: 2.7099, LR: 0.001250\n",
      "Epoch [64], Batch [150/391], Loss: 0.0523, LR: 0.001250\n",
      "Epoch [64], Batch [200/391], Loss: 0.0140, LR: 0.001250\n",
      "Epoch [64], Batch [250/391], Loss: 0.0203, LR: 0.001250\n",
      "Epoch [64], Batch [300/391], Loss: 2.4123, LR: 0.001250\n",
      "Epoch [64], Batch [350/391], Loss: 0.0178, LR: 0.001250\n",
      "Train set: Epoch: 64, Average loss:0.9428, LR: 0.001250 Top-1 Accuracy: 85.9160%, Top-5 Accuracy: 96.0080%, Time consumed:48.53s\n"
     ]
    },
    {
     "name": "stderr",
     "output_type": "stream",
     "text": [
      " 21%|███████████████████▋                                                                        | 64/300 [59:57<3:38:28, 55.54s/it]"
     ]
    },
    {
     "name": "stdout",
     "output_type": "stream",
     "text": [
      "Test set: Epoch: 64, Average loss:0.9540, Top-1 Accuracy: 75.5400%, Top-5 Accuracy: 93.2600%, Time consumed:7.93s\n",
      "\n",
      "EarlyStopping 카운터: 3 / 30\n",
      "Epoch [65], Batch [50/391], Loss: 0.0218, LR: 0.001250\n",
      "Epoch [65], Batch [100/391], Loss: 1.0654, LR: 0.001250\n",
      "Epoch [65], Batch [150/391], Loss: 0.0236, LR: 0.001250\n",
      "Epoch [65], Batch [200/391], Loss: 0.0487, LR: 0.001250\n",
      "Epoch [65], Batch [250/391], Loss: 2.5249, LR: 0.001250\n",
      "Epoch [65], Batch [300/391], Loss: 1.7381, LR: 0.001250\n",
      "Epoch [65], Batch [350/391], Loss: 0.0122, LR: 0.001250\n",
      "Train set: Epoch: 65, Average loss:0.8534, LR: 0.001250 Top-1 Accuracy: 86.0120%, Top-5 Accuracy: 95.7300%, Time consumed:47.65s\n"
     ]
    },
    {
     "name": "stderr",
     "output_type": "stream",
     "text": [
      " 22%|███████████████████▌                                                                      | 65/300 [1:00:53<3:37:47, 55.61s/it]"
     ]
    },
    {
     "name": "stdout",
     "output_type": "stream",
     "text": [
      "Test set: Epoch: 65, Average loss:0.9556, Top-1 Accuracy: 75.7600%, Top-5 Accuracy: 93.0600%, Time consumed:8.11s\n",
      "\n",
      "EarlyStopping 카운터: 4 / 30\n",
      "Epoch [66], Batch [50/391], Loss: 2.6733, LR: 0.001250\n",
      "Epoch [66], Batch [100/391], Loss: 0.2424, LR: 0.001250\n",
      "Epoch [66], Batch [150/391], Loss: 0.0177, LR: 0.001250\n",
      "Epoch [66], Batch [200/391], Loss: 1.3323, LR: 0.001250\n",
      "Epoch [66], Batch [250/391], Loss: 0.0189, LR: 0.001250\n",
      "Epoch [66], Batch [300/391], Loss: 0.0246, LR: 0.001250\n",
      "Epoch [66], Batch [350/391], Loss: 0.0109, LR: 0.001250\n",
      "Train set: Epoch: 66, Average loss:0.9071, LR: 0.001250 Top-1 Accuracy: 85.8400%, Top-5 Accuracy: 95.6980%, Time consumed:47.20s\n",
      "Test set: Epoch: 66, Average loss:0.9641, Top-1 Accuracy: 76.3400%, Top-5 Accuracy: 93.2900%, Time consumed:8.28s\n",
      "\n",
      "새로운 최고 top-1 정확도: 76.34%, top-5 정확도: 93.29%\n",
      "Accuracy improved (76.08% --> 76.34%). Saving model ...\n"
     ]
    },
    {
     "name": "stderr",
     "output_type": "stream",
     "text": [
      " 22%|███████████████████▊                                                                      | 66/300 [1:01:48<3:36:59, 55.64s/it]"
     ]
    },
    {
     "name": "stdout",
     "output_type": "stream",
     "text": [
      "Epoch [67], Batch [50/391], Loss: 2.0261, LR: 0.001250\n",
      "Epoch [67], Batch [100/391], Loss: 2.2884, LR: 0.001250\n",
      "Epoch [67], Batch [150/391], Loss: 1.8304, LR: 0.001250\n",
      "Epoch [67], Batch [200/391], Loss: 0.0094, LR: 0.001250\n",
      "Epoch [67], Batch [250/391], Loss: 0.0138, LR: 0.001250\n",
      "Epoch [67], Batch [300/391], Loss: 0.0164, LR: 0.001250\n",
      "Epoch [67], Batch [350/391], Loss: 0.0175, LR: 0.001250\n",
      "Train set: Epoch: 67, Average loss:0.9284, LR: 0.001250 Top-1 Accuracy: 85.9000%, Top-5 Accuracy: 95.8460%, Time consumed:46.90s\n"
     ]
    },
    {
     "name": "stderr",
     "output_type": "stream",
     "text": [
      " 22%|████████████████████                                                                      | 67/300 [1:02:43<3:35:27, 55.48s/it]"
     ]
    },
    {
     "name": "stdout",
     "output_type": "stream",
     "text": [
      "Test set: Epoch: 67, Average loss:0.9546, Top-1 Accuracy: 75.9200%, Top-5 Accuracy: 93.2500%, Time consumed:8.21s\n",
      "\n",
      "EarlyStopping 카운터: 1 / 30\n",
      "Epoch [68], Batch [50/391], Loss: 0.3894, LR: 0.000625\n",
      "Epoch [68], Batch [100/391], Loss: 2.2047, LR: 0.000625\n",
      "Epoch [68], Batch [150/391], Loss: 2.4219, LR: 0.000625\n",
      "Epoch [68], Batch [200/391], Loss: 0.0243, LR: 0.000625\n",
      "Epoch [68], Batch [250/391], Loss: 0.0175, LR: 0.000625\n",
      "Epoch [68], Batch [300/391], Loss: 2.2074, LR: 0.000625\n",
      "Epoch [68], Batch [350/391], Loss: 0.0183, LR: 0.000625\n",
      "Train set: Epoch: 68, Average loss:0.9469, LR: 0.000625 Top-1 Accuracy: 85.3260%, Top-5 Accuracy: 95.7960%, Time consumed:49.09s\n"
     ]
    },
    {
     "name": "stderr",
     "output_type": "stream",
     "text": [
      " 23%|████████████████████▍                                                                     | 68/300 [1:03:41<3:36:21, 55.95s/it]"
     ]
    },
    {
     "name": "stdout",
     "output_type": "stream",
     "text": [
      "Test set: Epoch: 68, Average loss:0.9447, Top-1 Accuracy: 76.2000%, Top-5 Accuracy: 93.2900%, Time consumed:7.96s\n",
      "\n",
      "EarlyStopping 카운터: 2 / 30\n",
      "Epoch [69], Batch [50/391], Loss: 0.0147, LR: 0.000625\n",
      "Epoch [69], Batch [100/391], Loss: 0.0131, LR: 0.000625\n",
      "Epoch [69], Batch [150/391], Loss: 1.4884, LR: 0.000625\n",
      "Epoch [69], Batch [200/391], Loss: 1.5621, LR: 0.000625\n",
      "Epoch [69], Batch [250/391], Loss: 1.3903, LR: 0.000625\n",
      "Epoch [69], Batch [300/391], Loss: 1.1476, LR: 0.000625\n",
      "Epoch [69], Batch [350/391], Loss: 2.0203, LR: 0.000625\n",
      "Train set: Epoch: 69, Average loss:0.9087, LR: 0.000625 Top-1 Accuracy: 85.4480%, Top-5 Accuracy: 95.5960%, Time consumed:47.15s\n"
     ]
    },
    {
     "name": "stderr",
     "output_type": "stream",
     "text": [
      " 23%|████████████████████▋                                                                     | 69/300 [1:04:36<3:34:25, 55.69s/it]"
     ]
    },
    {
     "name": "stdout",
     "output_type": "stream",
     "text": [
      "Test set: Epoch: 69, Average loss:0.9661, Top-1 Accuracy: 76.0200%, Top-5 Accuracy: 93.2600%, Time consumed:7.93s\n",
      "\n",
      "EarlyStopping 카운터: 3 / 30\n",
      "Epoch [70], Batch [50/391], Loss: 0.0150, LR: 0.000625\n",
      "Epoch [70], Batch [100/391], Loss: 0.0117, LR: 0.000625\n",
      "Epoch [70], Batch [150/391], Loss: 1.9673, LR: 0.000625\n",
      "Epoch [70], Batch [200/391], Loss: 1.5716, LR: 0.000625\n",
      "Epoch [70], Batch [250/391], Loss: 0.0127, LR: 0.000625\n",
      "Epoch [70], Batch [300/391], Loss: 1.4834, LR: 0.000625\n",
      "Epoch [70], Batch [350/391], Loss: 2.3630, LR: 0.000625\n",
      "Train set: Epoch: 70, Average loss:0.9231, LR: 0.000625 Top-1 Accuracy: 86.3040%, Top-5 Accuracy: 96.0400%, Time consumed:47.98s\n"
     ]
    },
    {
     "name": "stderr",
     "output_type": "stream",
     "text": [
      " 23%|█████████████████████                                                                     | 70/300 [1:05:32<3:34:34, 55.97s/it]"
     ]
    },
    {
     "name": "stdout",
     "output_type": "stream",
     "text": [
      "Test set: Epoch: 70, Average loss:0.9608, Top-1 Accuracy: 75.6600%, Top-5 Accuracy: 92.9100%, Time consumed:8.64s\n",
      "\n",
      "EarlyStopping 카운터: 4 / 30\n",
      "Epoch [71], Batch [50/391], Loss: 0.0128, LR: 0.000625\n",
      "Epoch [71], Batch [100/391], Loss: 0.0116, LR: 0.000625\n",
      "Epoch [71], Batch [150/391], Loss: 0.0129, LR: 0.000625\n",
      "Epoch [71], Batch [200/391], Loss: 0.0258, LR: 0.000625\n",
      "Epoch [71], Batch [250/391], Loss: 0.0209, LR: 0.000625\n",
      "Epoch [71], Batch [300/391], Loss: 0.6759, LR: 0.000625\n",
      "Epoch [71], Batch [350/391], Loss: 2.3293, LR: 0.000625\n",
      "Train set: Epoch: 71, Average loss:0.8841, LR: 0.000625 Top-1 Accuracy: 87.1440%, Top-5 Accuracy: 96.3820%, Time consumed:47.31s\n"
     ]
    },
    {
     "name": "stderr",
     "output_type": "stream",
     "text": [
      " 24%|█████████████████████▎                                                                    | 71/300 [1:06:28<3:33:08, 55.85s/it]"
     ]
    },
    {
     "name": "stdout",
     "output_type": "stream",
     "text": [
      "Test set: Epoch: 71, Average loss:0.9939, Top-1 Accuracy: 76.1600%, Top-5 Accuracy: 93.4200%, Time consumed:8.23s\n",
      "\n",
      "EarlyStopping 카운터: 5 / 30\n",
      "Epoch [72], Batch [50/391], Loss: 0.0193, LR: 0.000625\n",
      "Epoch [72], Batch [100/391], Loss: 0.0327, LR: 0.000625\n",
      "Epoch [72], Batch [150/391], Loss: 1.9775, LR: 0.000625\n",
      "Epoch [72], Batch [200/391], Loss: 1.6303, LR: 0.000625\n",
      "Epoch [72], Batch [250/391], Loss: 0.0194, LR: 0.000625\n",
      "Epoch [72], Batch [300/391], Loss: 2.1825, LR: 0.000625\n",
      "Epoch [72], Batch [350/391], Loss: 1.9504, LR: 0.000625\n",
      "Train set: Epoch: 72, Average loss:0.8630, LR: 0.000625 Top-1 Accuracy: 87.2540%, Top-5 Accuracy: 96.3720%, Time consumed:50.66s\n"
     ]
    },
    {
     "name": "stderr",
     "output_type": "stream",
     "text": [
      " 24%|█████████████████████▌                                                                    | 72/300 [1:07:27<3:36:32, 56.99s/it]"
     ]
    },
    {
     "name": "stdout",
     "output_type": "stream",
     "text": [
      "Test set: Epoch: 72, Average loss:0.9359, Top-1 Accuracy: 76.1700%, Top-5 Accuracy: 93.2900%, Time consumed:8.98s\n",
      "\n",
      "EarlyStopping 카운터: 6 / 30\n",
      "Epoch [73], Batch [50/391], Loss: 1.8823, LR: 0.000625\n",
      "Epoch [73], Batch [100/391], Loss: 0.0163, LR: 0.000625\n",
      "Epoch [73], Batch [150/391], Loss: 0.7046, LR: 0.000625\n",
      "Epoch [73], Batch [200/391], Loss: 2.2779, LR: 0.000625\n",
      "Epoch [73], Batch [250/391], Loss: 1.0491, LR: 0.000625\n",
      "Epoch [73], Batch [300/391], Loss: 0.0130, LR: 0.000625\n",
      "Epoch [73], Batch [350/391], Loss: 2.3628, LR: 0.000625\n",
      "Train set: Epoch: 73, Average loss:0.7885, LR: 0.000625 Top-1 Accuracy: 89.4080%, Top-5 Accuracy: 97.2600%, Time consumed:48.82s\n"
     ]
    },
    {
     "name": "stderr",
     "output_type": "stream",
     "text": [
      " 24%|█████████████████████▉                                                                    | 73/300 [1:08:25<3:36:00, 57.09s/it]"
     ]
    },
    {
     "name": "stdout",
     "output_type": "stream",
     "text": [
      "Test set: Epoch: 73, Average loss:0.9340, Top-1 Accuracy: 76.3000%, Top-5 Accuracy: 93.2800%, Time consumed:8.52s\n",
      "\n",
      "EarlyStopping 카운터: 7 / 30\n",
      "Epoch [74], Batch [50/391], Loss: 1.6882, LR: 0.000312\n",
      "Epoch [74], Batch [100/391], Loss: 0.0142, LR: 0.000312\n",
      "Epoch [74], Batch [150/391], Loss: 2.4065, LR: 0.000312\n",
      "Epoch [74], Batch [200/391], Loss: 1.6010, LR: 0.000312\n",
      "Epoch [74], Batch [250/391], Loss: 0.9212, LR: 0.000312\n",
      "Epoch [74], Batch [300/391], Loss: 0.0167, LR: 0.000312\n",
      "Epoch [74], Batch [350/391], Loss: 0.0302, LR: 0.000312\n",
      "Train set: Epoch: 74, Average loss:0.8845, LR: 0.000312 Top-1 Accuracy: 87.5960%, Top-5 Accuracy: 96.5440%, Time consumed:49.85s\n",
      "Test set: Epoch: 74, Average loss:0.9338, Top-1 Accuracy: 76.4800%, Top-5 Accuracy: 93.4300%, Time consumed:9.28s\n",
      "\n",
      "새로운 최고 top-1 정확도: 76.48%, top-5 정확도: 93.43%\n",
      "Accuracy improved (76.34% --> 76.48%). Saving model ...\n"
     ]
    },
    {
     "name": "stderr",
     "output_type": "stream",
     "text": [
      " 25%|██████████████████████▏                                                                   | 74/300 [1:09:24<3:37:38, 57.78s/it]"
     ]
    },
    {
     "name": "stdout",
     "output_type": "stream",
     "text": [
      "Epoch [75], Batch [50/391], Loss: 0.0084, LR: 0.000312\n",
      "Epoch [75], Batch [100/391], Loss: 1.4835, LR: 0.000312\n",
      "Epoch [75], Batch [150/391], Loss: 0.0181, LR: 0.000312\n",
      "Epoch [75], Batch [200/391], Loss: 0.0142, LR: 0.000312\n",
      "Epoch [75], Batch [250/391], Loss: 0.0159, LR: 0.000312\n",
      "Epoch [75], Batch [300/391], Loss: 0.0135, LR: 0.000312\n",
      "Epoch [75], Batch [350/391], Loss: 0.0144, LR: 0.000312\n",
      "Train set: Epoch: 75, Average loss:0.9701, LR: 0.000312 Top-1 Accuracy: 83.6080%, Top-5 Accuracy: 94.9500%, Time consumed:49.63s\n"
     ]
    },
    {
     "name": "stderr",
     "output_type": "stream",
     "text": [
      " 25%|██████████████████████▌                                                                   | 75/300 [1:10:22<3:36:50, 57.82s/it]"
     ]
    },
    {
     "name": "stdout",
     "output_type": "stream",
     "text": [
      "Test set: Epoch: 75, Average loss:0.9386, Top-1 Accuracy: 76.2500%, Top-5 Accuracy: 93.2000%, Time consumed:8.29s\n",
      "\n",
      "EarlyStopping 카운터: 1 / 30\n",
      "Epoch [76], Batch [50/391], Loss: 0.0096, LR: 0.000312\n",
      "Epoch [76], Batch [100/391], Loss: 0.0138, LR: 0.000312\n",
      "Epoch [76], Batch [150/391], Loss: 0.6789, LR: 0.000312\n",
      "Epoch [76], Batch [200/391], Loss: 0.0305, LR: 0.000312\n",
      "Epoch [76], Batch [250/391], Loss: 1.0369, LR: 0.000312\n",
      "Epoch [76], Batch [300/391], Loss: 1.8719, LR: 0.000312\n",
      "Epoch [76], Batch [350/391], Loss: 0.0236, LR: 0.000312\n",
      "Train set: Epoch: 76, Average loss:0.8849, LR: 0.000312 Top-1 Accuracy: 87.0080%, Top-5 Accuracy: 96.3220%, Time consumed:51.16s\n",
      "Test set: Epoch: 76, Average loss:0.9545, Top-1 Accuracy: 76.5500%, Top-5 Accuracy: 93.5400%, Time consumed:8.35s\n",
      "\n",
      "새로운 최고 top-1 정확도: 76.55%, top-5 정확도: 93.54%\n",
      "새로운 최고 top-5 정확도: 93.54%\n",
      "Accuracy improved (76.48% --> 76.55%). Saving model ...\n"
     ]
    },
    {
     "name": "stderr",
     "output_type": "stream",
     "text": [
      " 25%|██████████████████████▊                                                                   | 76/300 [1:11:22<3:38:07, 58.43s/it]"
     ]
    },
    {
     "name": "stdout",
     "output_type": "stream",
     "text": [
      "Epoch [77], Batch [50/391], Loss: 0.0158, LR: 0.000312\n",
      "Epoch [77], Batch [100/391], Loss: 2.4568, LR: 0.000312\n",
      "Epoch [77], Batch [150/391], Loss: 0.0080, LR: 0.000312\n",
      "Epoch [77], Batch [200/391], Loss: 0.0151, LR: 0.000312\n",
      "Epoch [77], Batch [250/391], Loss: 2.3169, LR: 0.000312\n",
      "Epoch [77], Batch [300/391], Loss: 0.6306, LR: 0.000312\n",
      "Epoch [77], Batch [350/391], Loss: 0.0249, LR: 0.000312\n",
      "Train set: Epoch: 77, Average loss:0.8744, LR: 0.000312 Top-1 Accuracy: 86.7340%, Top-5 Accuracy: 96.0860%, Time consumed:49.80s\n"
     ]
    },
    {
     "name": "stderr",
     "output_type": "stream",
     "text": [
      " 26%|███████████████████████                                                                   | 77/300 [1:12:20<3:37:13, 58.45s/it]"
     ]
    },
    {
     "name": "stdout",
     "output_type": "stream",
     "text": [
      "Test set: Epoch: 77, Average loss:0.9368, Top-1 Accuracy: 76.4100%, Top-5 Accuracy: 93.4300%, Time consumed:8.69s\n",
      "\n",
      "EarlyStopping 카운터: 1 / 30\n",
      "Epoch [78], Batch [50/391], Loss: 2.1544, LR: 0.000312\n",
      "Epoch [78], Batch [100/391], Loss: 0.0178, LR: 0.000312\n",
      "Epoch [78], Batch [150/391], Loss: 2.1145, LR: 0.000312\n",
      "Epoch [78], Batch [200/391], Loss: 1.8819, LR: 0.000312\n",
      "Epoch [78], Batch [250/391], Loss: 1.1389, LR: 0.000312\n",
      "Epoch [78], Batch [300/391], Loss: 0.0223, LR: 0.000312\n",
      "Epoch [78], Batch [350/391], Loss: 0.0078, LR: 0.000312\n",
      "Train set: Epoch: 78, Average loss:0.9487, LR: 0.000312 Top-1 Accuracy: 85.9020%, Top-5 Accuracy: 95.9100%, Time consumed:51.98s\n"
     ]
    },
    {
     "name": "stderr",
     "output_type": "stream",
     "text": [
      " 26%|███████████████████████▍                                                                  | 78/300 [1:13:21<3:38:07, 58.95s/it]"
     ]
    },
    {
     "name": "stdout",
     "output_type": "stream",
     "text": [
      "Test set: Epoch: 78, Average loss:0.9440, Top-1 Accuracy: 76.3300%, Top-5 Accuracy: 93.4800%, Time consumed:8.15s\n",
      "\n",
      "EarlyStopping 카운터: 2 / 30\n",
      "Epoch [79], Batch [50/391], Loss: 0.0191, LR: 0.000312\n",
      "Epoch [79], Batch [100/391], Loss: 0.0118, LR: 0.000312\n",
      "Epoch [79], Batch [150/391], Loss: 0.0091, LR: 0.000312\n",
      "Epoch [79], Batch [200/391], Loss: 2.3408, LR: 0.000312\n",
      "Epoch [79], Batch [250/391], Loss: 2.2997, LR: 0.000312\n",
      "Epoch [79], Batch [300/391], Loss: 0.0157, LR: 0.000312\n",
      "Epoch [79], Batch [350/391], Loss: 0.0173, LR: 0.000312\n",
      "Train set: Epoch: 79, Average loss:0.8326, LR: 0.000312 Top-1 Accuracy: 88.0180%, Top-5 Accuracy: 96.6480%, Time consumed:47.32s\n"
     ]
    },
    {
     "name": "stderr",
     "output_type": "stream",
     "text": [
      " 26%|███████████████████████▋                                                                  | 79/300 [1:14:16<3:33:20, 57.92s/it]"
     ]
    },
    {
     "name": "stdout",
     "output_type": "stream",
     "text": [
      "Test set: Epoch: 79, Average loss:0.9379, Top-1 Accuracy: 76.2000%, Top-5 Accuracy: 93.3100%, Time consumed:8.18s\n",
      "\n",
      "EarlyStopping 카운터: 3 / 30\n",
      "Epoch [80], Batch [50/391], Loss: 1.3220, LR: 0.000312\n",
      "Epoch [80], Batch [100/391], Loss: 1.8295, LR: 0.000312\n",
      "Epoch [80], Batch [150/391], Loss: 1.2775, LR: 0.000312\n",
      "Epoch [80], Batch [200/391], Loss: 0.0062, LR: 0.000312\n",
      "Epoch [80], Batch [250/391], Loss: 2.3965, LR: 0.000312\n",
      "Epoch [80], Batch [300/391], Loss: 1.8323, LR: 0.000312\n",
      "Epoch [80], Batch [350/391], Loss: 2.2963, LR: 0.000312\n",
      "Train set: Epoch: 80, Average loss:0.8982, LR: 0.000312 Top-1 Accuracy: 87.3800%, Top-5 Accuracy: 96.6940%, Time consumed:46.99s\n"
     ]
    },
    {
     "name": "stderr",
     "output_type": "stream",
     "text": [
      " 27%|████████████████████████                                                                  | 80/300 [1:15:11<3:29:10, 57.05s/it]"
     ]
    },
    {
     "name": "stdout",
     "output_type": "stream",
     "text": [
      "Test set: Epoch: 80, Average loss:0.9462, Top-1 Accuracy: 76.4300%, Top-5 Accuracy: 93.2900%, Time consumed:8.02s\n",
      "\n",
      "EarlyStopping 카운터: 4 / 30\n",
      "Epoch [81], Batch [50/391], Loss: 2.0526, LR: 0.000156\n",
      "Epoch [81], Batch [100/391], Loss: 0.0151, LR: 0.000156\n",
      "Epoch [81], Batch [150/391], Loss: 0.0180, LR: 0.000156\n",
      "Epoch [81], Batch [200/391], Loss: 2.0695, LR: 0.000156\n",
      "Epoch [81], Batch [250/391], Loss: 0.0112, LR: 0.000156\n",
      "Epoch [81], Batch [300/391], Loss: 0.0108, LR: 0.000156\n",
      "Epoch [81], Batch [350/391], Loss: 0.0226, LR: 0.000156\n",
      "Train set: Epoch: 81, Average loss:0.8566, LR: 0.000156 Top-1 Accuracy: 86.5340%, Top-5 Accuracy: 95.9620%, Time consumed:47.67s\n"
     ]
    },
    {
     "name": "stderr",
     "output_type": "stream",
     "text": [
      " 27%|████████████████████████▎                                                                 | 81/300 [1:16:07<3:27:05, 56.74s/it]"
     ]
    },
    {
     "name": "stdout",
     "output_type": "stream",
     "text": [
      "Test set: Epoch: 81, Average loss:0.9441, Top-1 Accuracy: 75.8500%, Top-5 Accuracy: 92.9900%, Time consumed:8.34s\n",
      "\n",
      "EarlyStopping 카운터: 5 / 30\n",
      "Epoch [82], Batch [50/391], Loss: 1.6786, LR: 0.000156\n",
      "Epoch [82], Batch [100/391], Loss: 1.7403, LR: 0.000156\n",
      "Epoch [82], Batch [150/391], Loss: 2.3782, LR: 0.000156\n",
      "Epoch [82], Batch [200/391], Loss: 1.6652, LR: 0.000156\n",
      "Epoch [82], Batch [250/391], Loss: 0.0113, LR: 0.000156\n",
      "Epoch [82], Batch [300/391], Loss: 0.0132, LR: 0.000156\n",
      "Epoch [82], Batch [350/391], Loss: 0.7179, LR: 0.000156\n",
      "Train set: Epoch: 82, Average loss:0.8802, LR: 0.000156 Top-1 Accuracy: 86.9340%, Top-5 Accuracy: 96.3420%, Time consumed:47.27s\n",
      "Test set: Epoch: 82, Average loss:0.9389, Top-1 Accuracy: 76.5600%, Top-5 Accuracy: 93.3500%, Time consumed:8.23s\n",
      "\n",
      "새로운 최고 top-1 정확도: 76.56%, top-5 정확도: 93.35%\n",
      "Accuracy improved (76.55% --> 76.56%). Saving model ...\n"
     ]
    },
    {
     "name": "stderr",
     "output_type": "stream",
     "text": [
      " 27%|████████████████████████▌                                                                 | 82/300 [1:17:03<3:25:03, 56.44s/it]"
     ]
    },
    {
     "name": "stdout",
     "output_type": "stream",
     "text": [
      "Epoch [83], Batch [50/391], Loss: 0.0212, LR: 0.000156\n",
      "Epoch [83], Batch [100/391], Loss: 1.6898, LR: 0.000156\n",
      "Epoch [83], Batch [150/391], Loss: 0.6712, LR: 0.000156\n",
      "Epoch [83], Batch [200/391], Loss: 0.0353, LR: 0.000156\n",
      "Epoch [83], Batch [250/391], Loss: 2.3605, LR: 0.000156\n",
      "Epoch [83], Batch [300/391], Loss: 0.0094, LR: 0.000156\n",
      "Epoch [83], Batch [350/391], Loss: 0.0143, LR: 0.000156\n",
      "Train set: Epoch: 83, Average loss:0.7868, LR: 0.000156 Top-1 Accuracy: 88.2700%, Top-5 Accuracy: 96.7700%, Time consumed:46.90s\n"
     ]
    },
    {
     "name": "stderr",
     "output_type": "stream",
     "text": [
      " 28%|████████████████████████▉                                                                 | 83/300 [1:17:59<3:23:44, 56.33s/it]"
     ]
    },
    {
     "name": "stdout",
     "output_type": "stream",
     "text": [
      "Test set: Epoch: 83, Average loss:0.9375, Top-1 Accuracy: 76.4700%, Top-5 Accuracy: 93.4400%, Time consumed:9.18s\n",
      "\n",
      "EarlyStopping 카운터: 1 / 30\n",
      "Epoch [84], Batch [50/391], Loss: 0.0067, LR: 0.000156\n",
      "Epoch [84], Batch [100/391], Loss: 1.7317, LR: 0.000156\n",
      "Epoch [84], Batch [150/391], Loss: 1.1598, LR: 0.000156\n",
      "Epoch [84], Batch [200/391], Loss: 0.0265, LR: 0.000156\n",
      "Epoch [84], Batch [250/391], Loss: 0.0048, LR: 0.000156\n",
      "Epoch [84], Batch [300/391], Loss: 1.9988, LR: 0.000156\n",
      "Epoch [84], Batch [350/391], Loss: 0.0123, LR: 0.000156\n",
      "Train set: Epoch: 84, Average loss:0.8066, LR: 0.000156 Top-1 Accuracy: 87.7420%, Top-5 Accuracy: 96.5480%, Time consumed:46.90s\n"
     ]
    },
    {
     "name": "stderr",
     "output_type": "stream",
     "text": [
      " 28%|█████████████████████████▏                                                                | 84/300 [1:18:54<3:21:46, 56.05s/it]"
     ]
    },
    {
     "name": "stdout",
     "output_type": "stream",
     "text": [
      "Test set: Epoch: 84, Average loss:0.9361, Top-1 Accuracy: 76.3800%, Top-5 Accuracy: 93.2000%, Time consumed:8.48s\n",
      "\n",
      "EarlyStopping 카운터: 2 / 30\n",
      "Epoch [85], Batch [50/391], Loss: 2.2464, LR: 0.000156\n",
      "Epoch [85], Batch [100/391], Loss: 1.8836, LR: 0.000156\n",
      "Epoch [85], Batch [150/391], Loss: 0.6459, LR: 0.000156\n",
      "Epoch [85], Batch [200/391], Loss: 0.0096, LR: 0.000156\n",
      "Epoch [85], Batch [250/391], Loss: 1.6833, LR: 0.000156\n",
      "Epoch [85], Batch [300/391], Loss: 0.4237, LR: 0.000156\n",
      "Epoch [85], Batch [350/391], Loss: 2.3519, LR: 0.000156\n",
      "Train set: Epoch: 85, Average loss:0.7546, LR: 0.000156 Top-1 Accuracy: 88.6580%, Top-5 Accuracy: 96.7580%, Time consumed:47.33s\n",
      "Test set: Epoch: 85, Average loss:0.9614, Top-1 Accuracy: 76.5800%, Top-5 Accuracy: 93.5400%, Time consumed:8.04s\n",
      "\n",
      "새로운 최고 top-1 정확도: 76.58%, top-5 정확도: 93.54%\n",
      "Accuracy improved (76.56% --> 76.58%). Saving model ...\n"
     ]
    },
    {
     "name": "stderr",
     "output_type": "stream",
     "text": [
      " 28%|█████████████████████████▌                                                                | 85/300 [1:19:50<3:20:23, 55.93s/it]"
     ]
    },
    {
     "name": "stdout",
     "output_type": "stream",
     "text": [
      "Epoch [86], Batch [50/391], Loss: 0.0145, LR: 0.000156\n",
      "Epoch [86], Batch [100/391], Loss: 0.0130, LR: 0.000156\n",
      "Epoch [86], Batch [150/391], Loss: 1.3419, LR: 0.000156\n",
      "Epoch [86], Batch [200/391], Loss: 0.0106, LR: 0.000156\n",
      "Epoch [86], Batch [250/391], Loss: 0.0092, LR: 0.000156\n",
      "Epoch [86], Batch [300/391], Loss: 0.0126, LR: 0.000156\n",
      "Epoch [86], Batch [350/391], Loss: 2.2514, LR: 0.000156\n",
      "Train set: Epoch: 86, Average loss:0.9369, LR: 0.000156 Top-1 Accuracy: 86.2820%, Top-5 Accuracy: 96.0760%, Time consumed:47.52s\n"
     ]
    },
    {
     "name": "stderr",
     "output_type": "stream",
     "text": [
      " 29%|█████████████████████████▊                                                                | 86/300 [1:20:46<3:19:07, 55.83s/it]"
     ]
    },
    {
     "name": "stdout",
     "output_type": "stream",
     "text": [
      "Test set: Epoch: 86, Average loss:0.9294, Top-1 Accuracy: 76.3100%, Top-5 Accuracy: 93.2400%, Time consumed:8.08s\n",
      "\n",
      "EarlyStopping 카운터: 1 / 30\n",
      "Epoch [87], Batch [50/391], Loss: 0.0100, LR: 0.000078\n",
      "Epoch [87], Batch [100/391], Loss: 2.2673, LR: 0.000078\n",
      "Epoch [87], Batch [150/391], Loss: 0.0058, LR: 0.000078\n",
      "Epoch [87], Batch [200/391], Loss: 2.3907, LR: 0.000078\n",
      "Epoch [87], Batch [250/391], Loss: 1.4568, LR: 0.000078\n",
      "Epoch [87], Batch [300/391], Loss: 0.0132, LR: 0.000078\n",
      "Epoch [87], Batch [350/391], Loss: 0.6343, LR: 0.000078\n",
      "Train set: Epoch: 87, Average loss:0.8688, LR: 0.000078 Top-1 Accuracy: 86.6940%, Top-5 Accuracy: 96.3180%, Time consumed:48.04s\n"
     ]
    },
    {
     "name": "stderr",
     "output_type": "stream",
     "text": [
      " 29%|██████████████████████████                                                                | 87/300 [1:21:43<3:19:35, 56.22s/it]"
     ]
    },
    {
     "name": "stdout",
     "output_type": "stream",
     "text": [
      "Test set: Epoch: 87, Average loss:0.9370, Top-1 Accuracy: 76.5400%, Top-5 Accuracy: 93.4100%, Time consumed:9.09s\n",
      "\n",
      "EarlyStopping 카운터: 2 / 30\n",
      "Epoch [88], Batch [50/391], Loss: 2.4685, LR: 0.000078\n",
      "Epoch [88], Batch [100/391], Loss: 0.0113, LR: 0.000078\n",
      "Epoch [88], Batch [150/391], Loss: 0.0134, LR: 0.000078\n",
      "Epoch [88], Batch [200/391], Loss: 0.0271, LR: 0.000078\n",
      "Epoch [88], Batch [250/391], Loss: 0.7217, LR: 0.000078\n",
      "Epoch [88], Batch [300/391], Loss: 1.2869, LR: 0.000078\n",
      "Epoch [88], Batch [350/391], Loss: 2.3268, LR: 0.000078\n",
      "Train set: Epoch: 88, Average loss:0.7688, LR: 0.000078 Top-1 Accuracy: 88.5780%, Top-5 Accuracy: 96.7340%, Time consumed:47.41s\n",
      "Test set: Epoch: 88, Average loss:0.9317, Top-1 Accuracy: 76.7000%, Top-5 Accuracy: 93.3900%, Time consumed:8.20s\n",
      "\n",
      "새로운 최고 top-1 정확도: 76.70%, top-5 정확도: 93.39%\n",
      "Accuracy improved (76.58% --> 76.70%). Saving model ...\n"
     ]
    },
    {
     "name": "stderr",
     "output_type": "stream",
     "text": [
      " 29%|██████████████████████████▍                                                               | 88/300 [1:22:39<3:18:16, 56.12s/it]"
     ]
    },
    {
     "name": "stdout",
     "output_type": "stream",
     "text": [
      "Epoch [89], Batch [50/391], Loss: 2.0977, LR: 0.000078\n",
      "Epoch [89], Batch [100/391], Loss: 2.3381, LR: 0.000078\n",
      "Epoch [89], Batch [150/391], Loss: 0.0111, LR: 0.000078\n",
      "Epoch [89], Batch [200/391], Loss: 0.0603, LR: 0.000078\n",
      "Epoch [89], Batch [250/391], Loss: 1.8951, LR: 0.000078\n",
      "Epoch [89], Batch [300/391], Loss: 2.1221, LR: 0.000078\n",
      "Epoch [89], Batch [350/391], Loss: 1.6452, LR: 0.000078\n",
      "Train set: Epoch: 89, Average loss:0.8012, LR: 0.000078 Top-1 Accuracy: 88.7080%, Top-5 Accuracy: 97.0440%, Time consumed:48.92s\n"
     ]
    },
    {
     "name": "stderr",
     "output_type": "stream",
     "text": [
      " 30%|██████████████████████████▋                                                               | 89/300 [1:23:36<3:18:20, 56.40s/it]"
     ]
    },
    {
     "name": "stdout",
     "output_type": "stream",
     "text": [
      "Test set: Epoch: 89, Average loss:0.9326, Top-1 Accuracy: 76.3800%, Top-5 Accuracy: 93.2500%, Time consumed:8.14s\n",
      "\n",
      "EarlyStopping 카운터: 1 / 30\n",
      "Epoch [90], Batch [50/391], Loss: 0.0131, LR: 0.000078\n",
      "Epoch [90], Batch [100/391], Loss: 0.0078, LR: 0.000078\n",
      "Epoch [90], Batch [150/391], Loss: 0.0112, LR: 0.000078\n",
      "Epoch [90], Batch [200/391], Loss: 0.0114, LR: 0.000078\n",
      "Epoch [90], Batch [250/391], Loss: 0.0261, LR: 0.000078\n",
      "Epoch [90], Batch [300/391], Loss: 2.1780, LR: 0.000078\n",
      "Epoch [90], Batch [350/391], Loss: 1.0341, LR: 0.000078\n",
      "Train set: Epoch: 90, Average loss:0.8772, LR: 0.000078 Top-1 Accuracy: 87.9140%, Top-5 Accuracy: 96.8920%, Time consumed:48.36s\n"
     ]
    },
    {
     "name": "stderr",
     "output_type": "stream",
     "text": [
      " 30%|███████████████████████████                                                               | 90/300 [1:24:32<3:17:34, 56.45s/it]"
     ]
    },
    {
     "name": "stdout",
     "output_type": "stream",
     "text": [
      "Test set: Epoch: 90, Average loss:0.9360, Top-1 Accuracy: 76.0200%, Top-5 Accuracy: 93.0800%, Time consumed:8.20s\n",
      "\n",
      "EarlyStopping 카운터: 2 / 30\n",
      "Epoch [91], Batch [50/391], Loss: 0.0178, LR: 0.000078\n",
      "Epoch [91], Batch [100/391], Loss: 0.0102, LR: 0.000078\n",
      "Epoch [91], Batch [150/391], Loss: 0.0145, LR: 0.000078\n",
      "Epoch [91], Batch [200/391], Loss: 0.0177, LR: 0.000078\n",
      "Epoch [91], Batch [250/391], Loss: 0.0088, LR: 0.000078\n",
      "Epoch [91], Batch [300/391], Loss: 0.0201, LR: 0.000078\n",
      "Epoch [91], Batch [350/391], Loss: 2.2062, LR: 0.000078\n",
      "Train set: Epoch: 91, Average loss:0.8256, LR: 0.000078 Top-1 Accuracy: 87.5660%, Top-5 Accuracy: 96.7380%, Time consumed:50.07s\n"
     ]
    },
    {
     "name": "stderr",
     "output_type": "stream",
     "text": [
      " 30%|███████████████████████████▎                                                              | 91/300 [1:25:30<3:18:32, 57.00s/it]"
     ]
    },
    {
     "name": "stdout",
     "output_type": "stream",
     "text": [
      "Test set: Epoch: 91, Average loss:0.9483, Top-1 Accuracy: 76.6000%, Top-5 Accuracy: 93.4300%, Time consumed:8.21s\n",
      "\n",
      "EarlyStopping 카운터: 3 / 30\n",
      "Epoch [92], Batch [50/391], Loss: 2.2781, LR: 0.000078\n",
      "Epoch [92], Batch [100/391], Loss: 2.0803, LR: 0.000078\n",
      "Epoch [92], Batch [150/391], Loss: 0.0215, LR: 0.000078\n",
      "Epoch [92], Batch [200/391], Loss: 0.0203, LR: 0.000078\n",
      "Epoch [92], Batch [250/391], Loss: 0.0070, LR: 0.000078\n",
      "Epoch [92], Batch [300/391], Loss: 1.3505, LR: 0.000078\n",
      "Epoch [92], Batch [350/391], Loss: 0.0107, LR: 0.000078\n",
      "Train set: Epoch: 92, Average loss:0.8393, LR: 0.000078 Top-1 Accuracy: 87.2900%, Top-5 Accuracy: 96.4740%, Time consumed:47.47s\n"
     ]
    },
    {
     "name": "stderr",
     "output_type": "stream",
     "text": [
      " 31%|███████████████████████████▌                                                              | 92/300 [1:26:26<3:16:24, 56.66s/it]"
     ]
    },
    {
     "name": "stdout",
     "output_type": "stream",
     "text": [
      "Test set: Epoch: 92, Average loss:0.9368, Top-1 Accuracy: 76.5900%, Top-5 Accuracy: 93.4700%, Time consumed:8.39s\n",
      "\n",
      "EarlyStopping 카운터: 4 / 30\n",
      "Epoch [93], Batch [50/391], Loss: 0.0194, LR: 0.000039\n",
      "Epoch [93], Batch [100/391], Loss: 2.1592, LR: 0.000039\n",
      "Epoch [93], Batch [150/391], Loss: 1.2788, LR: 0.000039\n",
      "Epoch [93], Batch [200/391], Loss: 2.0774, LR: 0.000039\n",
      "Epoch [93], Batch [250/391], Loss: 2.6106, LR: 0.000039\n",
      "Epoch [93], Batch [300/391], Loss: 0.0286, LR: 0.000039\n",
      "Epoch [93], Batch [350/391], Loss: 0.0110, LR: 0.000039\n",
      "Train set: Epoch: 93, Average loss:0.9003, LR: 0.000039 Top-1 Accuracy: 86.1460%, Top-5 Accuracy: 96.0580%, Time consumed:47.08s\n"
     ]
    },
    {
     "name": "stderr",
     "output_type": "stream",
     "text": [
      " 31%|███████████████████████████▉                                                              | 93/300 [1:27:22<3:14:40, 56.43s/it]"
     ]
    },
    {
     "name": "stdout",
     "output_type": "stream",
     "text": [
      "Test set: Epoch: 93, Average loss:0.9311, Top-1 Accuracy: 76.3500%, Top-5 Accuracy: 93.2300%, Time consumed:8.80s\n",
      "\n",
      "EarlyStopping 카운터: 5 / 30\n",
      "Epoch [94], Batch [50/391], Loss: 0.0086, LR: 0.000039\n",
      "Epoch [94], Batch [100/391], Loss: 1.6797, LR: 0.000039\n",
      "Epoch [94], Batch [150/391], Loss: 2.2584, LR: 0.000039\n",
      "Epoch [94], Batch [200/391], Loss: 0.0613, LR: 0.000039\n",
      "Epoch [94], Batch [250/391], Loss: 0.0073, LR: 0.000039\n",
      "Epoch [94], Batch [300/391], Loss: 0.6350, LR: 0.000039\n",
      "Epoch [94], Batch [350/391], Loss: 2.0916, LR: 0.000039\n",
      "Train set: Epoch: 94, Average loss:0.8731, LR: 0.000039 Top-1 Accuracy: 86.2820%, Top-5 Accuracy: 95.9960%, Time consumed:48.05s\n"
     ]
    },
    {
     "name": "stderr",
     "output_type": "stream",
     "text": [
      " 31%|████████████████████████████▏                                                             | 94/300 [1:28:19<3:14:28, 56.64s/it]"
     ]
    },
    {
     "name": "stdout",
     "output_type": "stream",
     "text": [
      "Test set: Epoch: 94, Average loss:0.9345, Top-1 Accuracy: 76.4300%, Top-5 Accuracy: 93.1900%, Time consumed:9.10s\n",
      "\n",
      "EarlyStopping 카운터: 6 / 30\n",
      "Epoch [95], Batch [50/391], Loss: 0.0138, LR: 0.000039\n",
      "Epoch [95], Batch [100/391], Loss: 0.0071, LR: 0.000039\n",
      "Epoch [95], Batch [150/391], Loss: 1.4123, LR: 0.000039\n",
      "Epoch [95], Batch [200/391], Loss: 0.0085, LR: 0.000039\n",
      "Epoch [95], Batch [250/391], Loss: 1.9637, LR: 0.000039\n",
      "Epoch [95], Batch [300/391], Loss: 0.0144, LR: 0.000039\n",
      "Epoch [95], Batch [350/391], Loss: 0.0120, LR: 0.000039\n",
      "Train set: Epoch: 95, Average loss:0.8665, LR: 0.000039 Top-1 Accuracy: 86.8960%, Top-5 Accuracy: 96.2800%, Time consumed:47.05s\n",
      "Test set: Epoch: 95, Average loss:0.9231, Top-1 Accuracy: 76.7200%, Top-5 Accuracy: 93.3300%, Time consumed:8.58s\n",
      "\n",
      "새로운 최고 top-1 정확도: 76.72%, top-5 정확도: 93.33%\n",
      "Accuracy improved (76.70% --> 76.72%). Saving model ...\n"
     ]
    },
    {
     "name": "stderr",
     "output_type": "stream",
     "text": [
      " 32%|████████████████████████████▌                                                             | 95/300 [1:29:15<3:12:43, 56.41s/it]"
     ]
    },
    {
     "name": "stdout",
     "output_type": "stream",
     "text": [
      "Epoch [96], Batch [50/391], Loss: 1.1410, LR: 0.000039\n",
      "Epoch [96], Batch [100/391], Loss: 2.4005, LR: 0.000039\n",
      "Epoch [96], Batch [150/391], Loss: 1.7436, LR: 0.000039\n",
      "Epoch [96], Batch [200/391], Loss: 1.3357, LR: 0.000039\n",
      "Epoch [96], Batch [250/391], Loss: 2.4815, LR: 0.000039\n",
      "Epoch [96], Batch [300/391], Loss: 0.0149, LR: 0.000039\n",
      "Epoch [96], Batch [350/391], Loss: 0.0088, LR: 0.000039\n",
      "Train set: Epoch: 96, Average loss:0.9818, LR: 0.000039 Top-1 Accuracy: 85.7620%, Top-5 Accuracy: 96.1360%, Time consumed:47.24s\n"
     ]
    },
    {
     "name": "stderr",
     "output_type": "stream",
     "text": [
      " 32%|████████████████████████████▊                                                             | 96/300 [1:30:12<3:11:44, 56.39s/it]"
     ]
    },
    {
     "name": "stdout",
     "output_type": "stream",
     "text": [
      "Test set: Epoch: 96, Average loss:0.9358, Top-1 Accuracy: 76.3900%, Top-5 Accuracy: 93.2600%, Time consumed:9.12s\n",
      "\n",
      "EarlyStopping 카운터: 1 / 30\n",
      "Epoch [97], Batch [50/391], Loss: 1.4483, LR: 0.000039\n",
      "Epoch [97], Batch [100/391], Loss: 0.0180, LR: 0.000039\n",
      "Epoch [97], Batch [150/391], Loss: 0.9223, LR: 0.000039\n",
      "Epoch [97], Batch [200/391], Loss: 2.1413, LR: 0.000039\n",
      "Epoch [97], Batch [250/391], Loss: 0.0203, LR: 0.000039\n",
      "Epoch [97], Batch [300/391], Loss: 1.0669, LR: 0.000039\n",
      "Epoch [97], Batch [350/391], Loss: 0.0202, LR: 0.000039\n",
      "Train set: Epoch: 97, Average loss:0.8313, LR: 0.000039 Top-1 Accuracy: 87.2700%, Top-5 Accuracy: 96.2920%, Time consumed:47.38s\n"
     ]
    },
    {
     "name": "stderr",
     "output_type": "stream",
     "text": [
      " 32%|█████████████████████████████                                                             | 97/300 [1:31:07<3:09:49, 56.11s/it]"
     ]
    },
    {
     "name": "stdout",
     "output_type": "stream",
     "text": [
      "Test set: Epoch: 97, Average loss:0.9377, Top-1 Accuracy: 76.5000%, Top-5 Accuracy: 93.3700%, Time consumed:8.05s\n",
      "\n",
      "EarlyStopping 카운터: 2 / 30\n",
      "Epoch [98], Batch [50/391], Loss: 0.0104, LR: 0.000039\n",
      "Epoch [98], Batch [100/391], Loss: 2.2502, LR: 0.000039\n",
      "Epoch [98], Batch [150/391], Loss: 2.1269, LR: 0.000039\n",
      "Epoch [98], Batch [200/391], Loss: 0.0168, LR: 0.000039\n",
      "Epoch [98], Batch [250/391], Loss: 1.6867, LR: 0.000039\n",
      "Epoch [98], Batch [300/391], Loss: 0.0101, LR: 0.000039\n",
      "Epoch [98], Batch [350/391], Loss: 2.1863, LR: 0.000039\n",
      "Train set: Epoch: 98, Average loss:0.8281, LR: 0.000039 Top-1 Accuracy: 87.1860%, Top-5 Accuracy: 96.1140%, Time consumed:48.72s\n"
     ]
    },
    {
     "name": "stderr",
     "output_type": "stream",
     "text": [
      " 33%|█████████████████████████████▍                                                            | 98/300 [1:32:04<3:09:46, 56.37s/it]"
     ]
    },
    {
     "name": "stdout",
     "output_type": "stream",
     "text": [
      "Test set: Epoch: 98, Average loss:0.9366, Top-1 Accuracy: 76.5500%, Top-5 Accuracy: 93.2500%, Time consumed:8.27s\n",
      "\n",
      "EarlyStopping 카운터: 3 / 30\n",
      "Epoch [99], Batch [50/391], Loss: 2.1942, LR: 0.000020\n",
      "Epoch [99], Batch [100/391], Loss: 0.0106, LR: 0.000020\n",
      "Epoch [99], Batch [150/391], Loss: 0.0167, LR: 0.000020\n",
      "Epoch [99], Batch [200/391], Loss: 2.0717, LR: 0.000020\n",
      "Epoch [99], Batch [250/391], Loss: 0.0096, LR: 0.000020\n",
      "Epoch [99], Batch [300/391], Loss: 2.4248, LR: 0.000020\n",
      "Epoch [99], Batch [350/391], Loss: 0.6999, LR: 0.000020\n",
      "Train set: Epoch: 99, Average loss:0.8478, LR: 0.000020 Top-1 Accuracy: 87.5440%, Top-5 Accuracy: 96.5500%, Time consumed:47.05s\n"
     ]
    },
    {
     "name": "stderr",
     "output_type": "stream",
     "text": [
      " 33%|█████████████████████████████▋                                                            | 99/300 [1:33:00<3:08:05, 56.15s/it]"
     ]
    },
    {
     "name": "stdout",
     "output_type": "stream",
     "text": [
      "Test set: Epoch: 99, Average loss:0.9442, Top-1 Accuracy: 76.5300%, Top-5 Accuracy: 93.4300%, Time consumed:8.57s\n",
      "\n",
      "EarlyStopping 카운터: 4 / 30\n",
      "Epoch [100], Batch [50/391], Loss: 2.1284, LR: 0.000020\n",
      "Epoch [100], Batch [100/391], Loss: 1.8730, LR: 0.000020\n",
      "Epoch [100], Batch [150/391], Loss: 0.0093, LR: 0.000020\n",
      "Epoch [100], Batch [200/391], Loss: 1.2282, LR: 0.000020\n",
      "Epoch [100], Batch [250/391], Loss: 0.0113, LR: 0.000020\n",
      "Epoch [100], Batch [300/391], Loss: 2.0231, LR: 0.000020\n",
      "Epoch [100], Batch [350/391], Loss: 0.0090, LR: 0.000020\n",
      "Train set: Epoch: 100, Average loss:0.8259, LR: 0.000020 Top-1 Accuracy: 87.0240%, Top-5 Accuracy: 96.2780%, Time consumed:47.74s\n"
     ]
    },
    {
     "name": "stderr",
     "output_type": "stream",
     "text": [
      " 33%|█████████████████████████████▋                                                           | 100/300 [1:33:55<3:06:47, 56.04s/it]"
     ]
    },
    {
     "name": "stdout",
     "output_type": "stream",
     "text": [
      "Test set: Epoch: 100, Average loss:0.9342, Top-1 Accuracy: 76.6200%, Top-5 Accuracy: 93.4800%, Time consumed:8.04s\n",
      "\n",
      "EarlyStopping 카운터: 5 / 30\n",
      "Epoch [101], Batch [50/391], Loss: 2.3233, LR: 0.000020\n",
      "Epoch [101], Batch [100/391], Loss: 1.0515, LR: 0.000020\n",
      "Epoch [101], Batch [150/391], Loss: 0.0183, LR: 0.000020\n",
      "Epoch [101], Batch [200/391], Loss: 0.0144, LR: 0.000020\n",
      "Epoch [101], Batch [250/391], Loss: 2.0863, LR: 0.000020\n",
      "Epoch [101], Batch [300/391], Loss: 0.0192, LR: 0.000020\n",
      "Epoch [101], Batch [350/391], Loss: 0.0141, LR: 0.000020\n",
      "Train set: Epoch: 101, Average loss:0.8925, LR: 0.000020 Top-1 Accuracy: 87.1560%, Top-5 Accuracy: 96.4520%, Time consumed:47.08s\n"
     ]
    },
    {
     "name": "stderr",
     "output_type": "stream",
     "text": [
      " 34%|█████████████████████████████▉                                                           | 101/300 [1:34:51<3:05:06, 55.81s/it]"
     ]
    },
    {
     "name": "stdout",
     "output_type": "stream",
     "text": [
      "Test set: Epoch: 101, Average loss:0.9252, Top-1 Accuracy: 76.5900%, Top-5 Accuracy: 93.3100%, Time consumed:8.20s\n",
      "\n",
      "EarlyStopping 카운터: 6 / 30\n",
      "Epoch [102], Batch [50/391], Loss: 0.0098, LR: 0.000020\n",
      "Epoch [102], Batch [100/391], Loss: 0.0200, LR: 0.000020\n",
      "Epoch [102], Batch [150/391], Loss: 1.9740, LR: 0.000020\n",
      "Epoch [102], Batch [200/391], Loss: 2.1529, LR: 0.000020\n",
      "Epoch [102], Batch [250/391], Loss: 0.0076, LR: 0.000020\n",
      "Epoch [102], Batch [300/391], Loss: 0.0179, LR: 0.000020\n",
      "Epoch [102], Batch [350/391], Loss: 1.9136, LR: 0.000020\n",
      "Train set: Epoch: 102, Average loss:0.8461, LR: 0.000020 Top-1 Accuracy: 87.6100%, Top-5 Accuracy: 96.4420%, Time consumed:49.49s\n"
     ]
    },
    {
     "name": "stderr",
     "output_type": "stream",
     "text": [
      " 34%|██████████████████████████████▎                                                          | 102/300 [1:35:48<3:06:00, 56.37s/it]"
     ]
    },
    {
     "name": "stdout",
     "output_type": "stream",
     "text": [
      "Test set: Epoch: 102, Average loss:0.9303, Top-1 Accuracy: 76.6200%, Top-5 Accuracy: 93.4200%, Time consumed:8.16s\n",
      "\n",
      "EarlyStopping 카운터: 7 / 30\n",
      "Epoch [103], Batch [50/391], Loss: 0.0148, LR: 0.000020\n",
      "Epoch [103], Batch [100/391], Loss: 0.0087, LR: 0.000020\n",
      "Epoch [103], Batch [150/391], Loss: 0.9153, LR: 0.000020\n",
      "Epoch [103], Batch [200/391], Loss: 0.0157, LR: 0.000020\n",
      "Epoch [103], Batch [250/391], Loss: 1.5926, LR: 0.000020\n",
      "Epoch [103], Batch [300/391], Loss: 2.4264, LR: 0.000020\n",
      "Epoch [103], Batch [350/391], Loss: 2.2954, LR: 0.000020\n",
      "Train set: Epoch: 103, Average loss:0.8861, LR: 0.000020 Top-1 Accuracy: 86.8420%, Top-5 Accuracy: 96.2320%, Time consumed:47.54s\n"
     ]
    },
    {
     "name": "stderr",
     "output_type": "stream",
     "text": [
      " 34%|██████████████████████████████▌                                                          | 103/300 [1:36:44<3:04:41, 56.25s/it]"
     ]
    },
    {
     "name": "stdout",
     "output_type": "stream",
     "text": [
      "Test set: Epoch: 103, Average loss:0.9333, Top-1 Accuracy: 76.6500%, Top-5 Accuracy: 93.4100%, Time consumed:8.45s\n",
      "\n",
      "EarlyStopping 카운터: 8 / 30\n",
      "Epoch [104], Batch [50/391], Loss: 0.0183, LR: 0.000020\n",
      "Epoch [104], Batch [100/391], Loss: 0.0298, LR: 0.000020\n",
      "Epoch [104], Batch [150/391], Loss: 0.0093, LR: 0.000020\n",
      "Epoch [104], Batch [200/391], Loss: 1.9808, LR: 0.000020\n",
      "Epoch [104], Batch [250/391], Loss: 1.8940, LR: 0.000020\n",
      "Epoch [104], Batch [300/391], Loss: 1.1966, LR: 0.000020\n",
      "Epoch [104], Batch [350/391], Loss: 0.0071, LR: 0.000020\n",
      "Train set: Epoch: 104, Average loss:0.8859, LR: 0.000020 Top-1 Accuracy: 88.0640%, Top-5 Accuracy: 96.6860%, Time consumed:46.77s\n"
     ]
    },
    {
     "name": "stderr",
     "output_type": "stream",
     "text": [
      " 35%|██████████████████████████████▊                                                          | 104/300 [1:37:39<3:02:37, 55.90s/it]"
     ]
    },
    {
     "name": "stdout",
     "output_type": "stream",
     "text": [
      "Test set: Epoch: 104, Average loss:0.9328, Top-1 Accuracy: 76.5900%, Top-5 Accuracy: 93.3900%, Time consumed:8.31s\n",
      "\n",
      "EarlyStopping 카운터: 9 / 30\n",
      "Epoch [105], Batch [50/391], Loss: 0.0187, LR: 0.000010\n",
      "Epoch [105], Batch [100/391], Loss: 2.2248, LR: 0.000010\n",
      "Epoch [105], Batch [150/391], Loss: 2.0401, LR: 0.000010\n",
      "Epoch [105], Batch [200/391], Loss: 2.3597, LR: 0.000010\n",
      "Epoch [105], Batch [250/391], Loss: 1.9009, LR: 0.000010\n",
      "Epoch [105], Batch [300/391], Loss: 1.3225, LR: 0.000010\n",
      "Epoch [105], Batch [350/391], Loss: 0.0139, LR: 0.000010\n",
      "Train set: Epoch: 105, Average loss:0.8765, LR: 0.000010 Top-1 Accuracy: 85.6760%, Top-5 Accuracy: 95.7500%, Time consumed:49.31s\n"
     ]
    },
    {
     "name": "stderr",
     "output_type": "stream",
     "text": [
      " 35%|███████████████████████████████▏                                                         | 105/300 [1:38:38<3:04:10, 56.67s/it]"
     ]
    },
    {
     "name": "stdout",
     "output_type": "stream",
     "text": [
      "Test set: Epoch: 105, Average loss:0.9388, Top-1 Accuracy: 76.6700%, Top-5 Accuracy: 93.3800%, Time consumed:9.13s\n",
      "\n",
      "EarlyStopping 카운터: 10 / 30\n",
      "Epoch [106], Batch [50/391], Loss: 0.6903, LR: 0.000010\n",
      "Epoch [106], Batch [100/391], Loss: 0.4452, LR: 0.000010\n",
      "Epoch [106], Batch [150/391], Loss: 2.0342, LR: 0.000010\n",
      "Epoch [106], Batch [200/391], Loss: 1.7273, LR: 0.000010\n",
      "Epoch [106], Batch [250/391], Loss: 1.4059, LR: 0.000010\n",
      "Epoch [106], Batch [300/391], Loss: 2.0094, LR: 0.000010\n",
      "Epoch [106], Batch [350/391], Loss: 2.2784, LR: 0.000010\n",
      "Train set: Epoch: 106, Average loss:0.8345, LR: 0.000010 Top-1 Accuracy: 87.9180%, Top-5 Accuracy: 96.6460%, Time consumed:50.80s\n"
     ]
    },
    {
     "name": "stderr",
     "output_type": "stream",
     "text": [
      " 35%|███████████████████████████████▍                                                         | 106/300 [1:39:37<3:05:33, 57.39s/it]"
     ]
    },
    {
     "name": "stdout",
     "output_type": "stream",
     "text": [
      "Test set: Epoch: 106, Average loss:0.9365, Top-1 Accuracy: 76.0900%, Top-5 Accuracy: 93.0800%, Time consumed:8.27s\n",
      "\n",
      "EarlyStopping 카운터: 11 / 30\n",
      "Epoch [107], Batch [50/391], Loss: 0.0232, LR: 0.000010\n",
      "Epoch [107], Batch [100/391], Loss: 1.5678, LR: 0.000010\n",
      "Epoch [107], Batch [150/391], Loss: 0.0078, LR: 0.000010\n",
      "Epoch [107], Batch [200/391], Loss: 0.0120, LR: 0.000010\n",
      "Epoch [107], Batch [250/391], Loss: 0.0172, LR: 0.000010\n",
      "Epoch [107], Batch [300/391], Loss: 0.0151, LR: 0.000010\n",
      "Epoch [107], Batch [350/391], Loss: 0.0119, LR: 0.000010\n",
      "Train set: Epoch: 107, Average loss:0.8874, LR: 0.000010 Top-1 Accuracy: 86.0080%, Top-5 Accuracy: 95.8500%, Time consumed:47.84s\n"
     ]
    },
    {
     "name": "stderr",
     "output_type": "stream",
     "text": [
      " 36%|███████████████████████████████▋                                                         | 107/300 [1:40:33<3:03:06, 56.93s/it]"
     ]
    },
    {
     "name": "stdout",
     "output_type": "stream",
     "text": [
      "Test set: Epoch: 107, Average loss:0.9457, Top-1 Accuracy: 76.1200%, Top-5 Accuracy: 93.0600%, Time consumed:8.00s\n",
      "\n",
      "EarlyStopping 카운터: 12 / 30\n",
      "Epoch [108], Batch [50/391], Loss: 1.5969, LR: 0.000010\n",
      "Epoch [108], Batch [100/391], Loss: 0.0265, LR: 0.000010\n",
      "Epoch [108], Batch [150/391], Loss: 1.8065, LR: 0.000010\n",
      "Epoch [108], Batch [200/391], Loss: 2.1603, LR: 0.000010\n",
      "Epoch [108], Batch [250/391], Loss: 0.0133, LR: 0.000010\n",
      "Epoch [108], Batch [300/391], Loss: 2.2299, LR: 0.000010\n",
      "Epoch [108], Batch [350/391], Loss: 0.0101, LR: 0.000010\n",
      "Train set: Epoch: 108, Average loss:0.8621, LR: 0.000010 Top-1 Accuracy: 87.9280%, Top-5 Accuracy: 96.8580%, Time consumed:47.60s\n"
     ]
    },
    {
     "name": "stderr",
     "output_type": "stream",
     "text": [
      " 36%|████████████████████████████████                                                         | 108/300 [1:41:29<3:01:05, 56.59s/it]"
     ]
    },
    {
     "name": "stdout",
     "output_type": "stream",
     "text": [
      "Test set: Epoch: 108, Average loss:0.9426, Top-1 Accuracy: 76.7200%, Top-5 Accuracy: 93.4300%, Time consumed:8.21s\n",
      "\n",
      "EarlyStopping 카운터: 13 / 30\n",
      "Epoch [109], Batch [50/391], Loss: 1.3987, LR: 0.000010\n",
      "Epoch [109], Batch [100/391], Loss: 0.4240, LR: 0.000010\n",
      "Epoch [109], Batch [150/391], Loss: 0.0068, LR: 0.000010\n",
      "Epoch [109], Batch [200/391], Loss: 0.4041, LR: 0.000010\n",
      "Epoch [109], Batch [250/391], Loss: 0.0136, LR: 0.000010\n",
      "Epoch [109], Batch [300/391], Loss: 2.1821, LR: 0.000010\n",
      "Epoch [109], Batch [350/391], Loss: 0.0185, LR: 0.000010\n",
      "Train set: Epoch: 109, Average loss:0.7441, LR: 0.000010 Top-1 Accuracy: 88.6900%, Top-5 Accuracy: 96.7020%, Time consumed:46.84s\n"
     ]
    },
    {
     "name": "stderr",
     "output_type": "stream",
     "text": [
      " 36%|████████████████████████████████▎                                                        | 109/300 [1:42:25<2:59:37, 56.43s/it]"
     ]
    },
    {
     "name": "stdout",
     "output_type": "stream",
     "text": [
      "Test set: Epoch: 109, Average loss:0.9250, Top-1 Accuracy: 76.6000%, Top-5 Accuracy: 93.3600%, Time consumed:9.19s\n",
      "\n",
      "EarlyStopping 카운터: 14 / 30\n",
      "Epoch [110], Batch [50/391], Loss: 2.5147, LR: 0.000010\n",
      "Epoch [110], Batch [100/391], Loss: 0.0069, LR: 0.000010\n",
      "Epoch [110], Batch [150/391], Loss: 1.7463, LR: 0.000010\n",
      "Epoch [110], Batch [200/391], Loss: 0.6860, LR: 0.000010\n",
      "Epoch [110], Batch [250/391], Loss: 1.8653, LR: 0.000010\n",
      "Epoch [110], Batch [300/391], Loss: 2.2145, LR: 0.000010\n",
      "Epoch [110], Batch [350/391], Loss: 0.0110, LR: 0.000010\n",
      "Train set: Epoch: 110, Average loss:0.8891, LR: 0.000010 Top-1 Accuracy: 86.1180%, Top-5 Accuracy: 95.8580%, Time consumed:47.97s\n"
     ]
    },
    {
     "name": "stderr",
     "output_type": "stream",
     "text": [
      " 37%|████████████████████████████████▋                                                        | 110/300 [1:43:21<2:58:32, 56.38s/it]"
     ]
    },
    {
     "name": "stdout",
     "output_type": "stream",
     "text": [
      "Test set: Epoch: 110, Average loss:0.9327, Top-1 Accuracy: 76.4600%, Top-5 Accuracy: 93.2700%, Time consumed:8.30s\n",
      "\n",
      "EarlyStopping 카운터: 15 / 30\n",
      "Epoch [111], Batch [50/391], Loss: 1.4669, LR: 0.000005\n",
      "Epoch [111], Batch [100/391], Loss: 1.2636, LR: 0.000005\n",
      "Epoch [111], Batch [150/391], Loss: 2.4317, LR: 0.000005\n",
      "Epoch [111], Batch [200/391], Loss: 0.0155, LR: 0.000005\n",
      "Epoch [111], Batch [250/391], Loss: 0.0214, LR: 0.000005\n",
      "Epoch [111], Batch [300/391], Loss: 0.0116, LR: 0.000005\n",
      "Epoch [111], Batch [350/391], Loss: 2.3710, LR: 0.000005\n",
      "Train set: Epoch: 111, Average loss:0.8022, LR: 0.000005 Top-1 Accuracy: 87.5600%, Top-5 Accuracy: 96.4480%, Time consumed:47.51s\n"
     ]
    },
    {
     "name": "stderr",
     "output_type": "stream",
     "text": [
      " 37%|████████████████████████████████▉                                                        | 111/300 [1:44:17<2:56:50, 56.14s/it]"
     ]
    },
    {
     "name": "stdout",
     "output_type": "stream",
     "text": [
      "Test set: Epoch: 111, Average loss:0.9522, Top-1 Accuracy: 76.6800%, Top-5 Accuracy: 93.6100%, Time consumed:8.06s\n",
      "\n",
      "새로운 최고 top-5 정확도: 93.61%\n",
      "EarlyStopping 카운터: 16 / 30\n",
      "Epoch [112], Batch [50/391], Loss: 2.1277, LR: 0.000005\n",
      "Epoch [112], Batch [100/391], Loss: 2.1381, LR: 0.000005\n",
      "Epoch [112], Batch [150/391], Loss: 0.0242, LR: 0.000005\n",
      "Epoch [112], Batch [200/391], Loss: 1.2133, LR: 0.000005\n",
      "Epoch [112], Batch [250/391], Loss: 2.2306, LR: 0.000005\n",
      "Epoch [112], Batch [300/391], Loss: 0.0159, LR: 0.000005\n",
      "Epoch [112], Batch [350/391], Loss: 1.8261, LR: 0.000005\n",
      "Train set: Epoch: 112, Average loss:0.8767, LR: 0.000005 Top-1 Accuracy: 87.2700%, Top-5 Accuracy: 96.4700%, Time consumed:52.51s\n"
     ]
    },
    {
     "name": "stderr",
     "output_type": "stream",
     "text": [
      " 37%|█████████████████████████████████▏                                                       | 112/300 [1:45:18<3:00:56, 57.75s/it]"
     ]
    },
    {
     "name": "stdout",
     "output_type": "stream",
     "text": [
      "Test set: Epoch: 112, Average loss:0.9300, Top-1 Accuracy: 76.6200%, Top-5 Accuracy: 93.4400%, Time consumed:8.97s\n",
      "\n",
      "EarlyStopping 카운터: 17 / 30\n",
      "Epoch [113], Batch [50/391], Loss: 0.0106, LR: 0.000005\n",
      "Epoch [113], Batch [100/391], Loss: 1.3981, LR: 0.000005\n",
      "Epoch [113], Batch [150/391], Loss: 0.4267, LR: 0.000005\n",
      "Epoch [113], Batch [200/391], Loss: 0.0125, LR: 0.000005\n",
      "Epoch [113], Batch [250/391], Loss: 2.0989, LR: 0.000005\n",
      "Epoch [113], Batch [300/391], Loss: 2.3334, LR: 0.000005\n",
      "Epoch [113], Batch [350/391], Loss: 0.0213, LR: 0.000005\n",
      "Train set: Epoch: 113, Average loss:0.8689, LR: 0.000005 Top-1 Accuracy: 87.2780%, Top-5 Accuracy: 96.5900%, Time consumed:47.42s\n"
     ]
    },
    {
     "name": "stderr",
     "output_type": "stream",
     "text": [
      " 38%|█████████████████████████████████▌                                                       | 113/300 [1:46:14<2:58:11, 57.17s/it]"
     ]
    },
    {
     "name": "stdout",
     "output_type": "stream",
     "text": [
      "Test set: Epoch: 113, Average loss:0.9296, Top-1 Accuracy: 76.3400%, Top-5 Accuracy: 93.3700%, Time consumed:8.40s\n",
      "\n",
      "EarlyStopping 카운터: 18 / 30\n",
      "Epoch [114], Batch [50/391], Loss: 1.7738, LR: 0.000005\n",
      "Epoch [114], Batch [100/391], Loss: 0.0203, LR: 0.000005\n",
      "Epoch [114], Batch [150/391], Loss: 0.9707, LR: 0.000005\n",
      "Epoch [114], Batch [200/391], Loss: 2.2058, LR: 0.000005\n",
      "Epoch [114], Batch [250/391], Loss: 1.7076, LR: 0.000005\n",
      "Epoch [114], Batch [300/391], Loss: 0.0078, LR: 0.000005\n",
      "Epoch [114], Batch [350/391], Loss: 0.0086, LR: 0.000005\n",
      "Train set: Epoch: 114, Average loss:0.7863, LR: 0.000005 Top-1 Accuracy: 89.0420%, Top-5 Accuracy: 97.0360%, Time consumed:46.74s\n"
     ]
    },
    {
     "name": "stderr",
     "output_type": "stream",
     "text": [
      " 38%|█████████████████████████████████▊                                                       | 114/300 [1:47:09<2:55:27, 56.60s/it]"
     ]
    },
    {
     "name": "stdout",
     "output_type": "stream",
     "text": [
      "Test set: Epoch: 114, Average loss:0.9421, Top-1 Accuracy: 76.6900%, Top-5 Accuracy: 93.4500%, Time consumed:8.52s\n",
      "\n",
      "EarlyStopping 카운터: 19 / 30\n",
      "Epoch [115], Batch [50/391], Loss: 1.9879, LR: 0.000005\n",
      "Epoch [115], Batch [100/391], Loss: 0.0106, LR: 0.000005\n",
      "Epoch [115], Batch [150/391], Loss: 2.2396, LR: 0.000005\n",
      "Epoch [115], Batch [200/391], Loss: 0.0070, LR: 0.000005\n",
      "Epoch [115], Batch [250/391], Loss: 0.0211, LR: 0.000005\n",
      "Epoch [115], Batch [300/391], Loss: 2.4267, LR: 0.000005\n",
      "Epoch [115], Batch [350/391], Loss: 2.1397, LR: 0.000005\n",
      "Train set: Epoch: 115, Average loss:0.9107, LR: 0.000005 Top-1 Accuracy: 86.9780%, Top-5 Accuracy: 96.4480%, Time consumed:48.38s\n"
     ]
    },
    {
     "name": "stderr",
     "output_type": "stream",
     "text": [
      " 38%|██████████████████████████████████                                                       | 115/300 [1:48:06<2:54:45, 56.68s/it]"
     ]
    },
    {
     "name": "stdout",
     "output_type": "stream",
     "text": [
      "Test set: Epoch: 115, Average loss:0.9366, Top-1 Accuracy: 76.6300%, Top-5 Accuracy: 93.4600%, Time consumed:8.47s\n",
      "\n",
      "EarlyStopping 카운터: 20 / 30\n",
      "Epoch [116], Batch [50/391], Loss: 0.0060, LR: 0.000005\n",
      "Epoch [116], Batch [100/391], Loss: 1.5120, LR: 0.000005\n",
      "Epoch [116], Batch [150/391], Loss: 0.0087, LR: 0.000005\n",
      "Epoch [116], Batch [200/391], Loss: 1.2884, LR: 0.000005\n",
      "Epoch [116], Batch [250/391], Loss: 1.3662, LR: 0.000005\n",
      "Epoch [116], Batch [300/391], Loss: 1.9662, LR: 0.000005\n",
      "Epoch [116], Batch [350/391], Loss: 0.0126, LR: 0.000005\n",
      "Train set: Epoch: 116, Average loss:0.8232, LR: 0.000005 Top-1 Accuracy: 88.3060%, Top-5 Accuracy: 97.0720%, Time consumed:47.33s\n"
     ]
    },
    {
     "name": "stderr",
     "output_type": "stream",
     "text": [
      " 39%|██████████████████████████████████▍                                                      | 116/300 [1:49:02<2:53:00, 56.42s/it]"
     ]
    },
    {
     "name": "stdout",
     "output_type": "stream",
     "text": [
      "Test set: Epoch: 116, Average loss:0.9366, Top-1 Accuracy: 76.6200%, Top-5 Accuracy: 93.4100%, Time consumed:8.48s\n",
      "\n",
      "EarlyStopping 카운터: 21 / 30\n",
      "Epoch [117], Batch [50/391], Loss: 0.4635, LR: 0.000002\n",
      "Epoch [117], Batch [100/391], Loss: 2.2018, LR: 0.000002\n",
      "Epoch [117], Batch [150/391], Loss: 0.0114, LR: 0.000002\n",
      "Epoch [117], Batch [200/391], Loss: 1.8791, LR: 0.000002\n",
      "Epoch [117], Batch [250/391], Loss: 0.0166, LR: 0.000002\n",
      "Epoch [117], Batch [300/391], Loss: 1.0002, LR: 0.000002\n",
      "Epoch [117], Batch [350/391], Loss: 0.0101, LR: 0.000002\n",
      "Train set: Epoch: 117, Average loss:0.9509, LR: 0.000002 Top-1 Accuracy: 86.2300%, Top-5 Accuracy: 96.2120%, Time consumed:51.17s\n"
     ]
    },
    {
     "name": "stderr",
     "output_type": "stream",
     "text": [
      " 39%|██████████████████████████████████▋                                                      | 117/300 [1:50:01<2:54:53, 57.34s/it]"
     ]
    },
    {
     "name": "stdout",
     "output_type": "stream",
     "text": [
      "Test set: Epoch: 117, Average loss:0.9468, Top-1 Accuracy: 75.7200%, Top-5 Accuracy: 92.9900%, Time consumed:8.31s\n",
      "\n",
      "EarlyStopping 카운터: 22 / 30\n",
      "Epoch [118], Batch [50/391], Loss: 0.0081, LR: 0.000002\n",
      "Epoch [118], Batch [100/391], Loss: 0.0098, LR: 0.000002\n",
      "Epoch [118], Batch [150/391], Loss: 2.0155, LR: 0.000002\n",
      "Epoch [118], Batch [200/391], Loss: 1.4497, LR: 0.000002\n",
      "Epoch [118], Batch [250/391], Loss: 0.0103, LR: 0.000002\n",
      "Epoch [118], Batch [300/391], Loss: 0.0136, LR: 0.000002\n",
      "Epoch [118], Batch [350/391], Loss: 0.0137, LR: 0.000002\n",
      "Train set: Epoch: 118, Average loss:0.8326, LR: 0.000002 Top-1 Accuracy: 88.3940%, Top-5 Accuracy: 96.8740%, Time consumed:48.62s\n"
     ]
    },
    {
     "name": "stderr",
     "output_type": "stream",
     "text": [
      " 39%|███████████████████████████████████                                                      | 118/300 [1:50:58<2:53:45, 57.28s/it]"
     ]
    },
    {
     "name": "stdout",
     "output_type": "stream",
     "text": [
      "Test set: Epoch: 118, Average loss:0.9314, Top-1 Accuracy: 76.5700%, Top-5 Accuracy: 93.4300%, Time consumed:8.52s\n",
      "\n",
      "EarlyStopping 카운터: 23 / 30\n",
      "Epoch [119], Batch [50/391], Loss: 0.0087, LR: 0.000002\n",
      "Epoch [119], Batch [100/391], Loss: 0.0118, LR: 0.000002\n",
      "Epoch [119], Batch [150/391], Loss: 0.0068, LR: 0.000002\n",
      "Epoch [119], Batch [200/391], Loss: 2.3328, LR: 0.000002\n",
      "Epoch [119], Batch [250/391], Loss: 1.7739, LR: 0.000002\n",
      "Epoch [119], Batch [300/391], Loss: 0.0176, LR: 0.000002\n",
      "Epoch [119], Batch [350/391], Loss: 0.0146, LR: 0.000002\n",
      "Train set: Epoch: 119, Average loss:0.8280, LR: 0.000002 Top-1 Accuracy: 86.8920%, Top-5 Accuracy: 96.1880%, Time consumed:49.20s\n"
     ]
    },
    {
     "name": "stderr",
     "output_type": "stream",
     "text": [
      " 40%|███████████████████████████████████▎                                                     | 119/300 [1:51:57<2:54:25, 57.82s/it]"
     ]
    },
    {
     "name": "stdout",
     "output_type": "stream",
     "text": [
      "Test set: Epoch: 119, Average loss:0.9391, Top-1 Accuracy: 76.4000%, Top-5 Accuracy: 93.2700%, Time consumed:9.87s\n",
      "\n",
      "EarlyStopping 카운터: 24 / 30\n",
      "Epoch [120], Batch [50/391], Loss: 0.0221, LR: 0.000002\n",
      "Epoch [120], Batch [100/391], Loss: 0.0109, LR: 0.000002\n",
      "Epoch [120], Batch [150/391], Loss: 1.2152, LR: 0.000002\n",
      "Epoch [120], Batch [200/391], Loss: 0.0162, LR: 0.000002\n",
      "Epoch [120], Batch [250/391], Loss: 1.1193, LR: 0.000002\n",
      "Epoch [120], Batch [300/391], Loss: 0.0096, LR: 0.000002\n",
      "Epoch [120], Batch [350/391], Loss: 2.0537, LR: 0.000002\n",
      "Train set: Epoch: 120, Average loss:0.8546, LR: 0.000002 Top-1 Accuracy: 88.3600%, Top-5 Accuracy: 96.8440%, Time consumed:48.72s\n",
      "Test set: Epoch: 120, Average loss:0.9350, Top-1 Accuracy: 76.7800%, Top-5 Accuracy: 93.4800%, Time consumed:9.27s\n",
      "\n",
      "새로운 최고 top-1 정확도: 76.78%, top-5 정확도: 93.48%\n",
      "Accuracy improved (76.72% --> 76.78%). Saving model ...\n"
     ]
    },
    {
     "name": "stderr",
     "output_type": "stream",
     "text": [
      " 40%|███████████████████████████████████▌                                                     | 120/300 [1:52:56<2:53:49, 57.94s/it]"
     ]
    },
    {
     "name": "stdout",
     "output_type": "stream",
     "text": [
      "Epoch [121], Batch [50/391], Loss: 0.0094, LR: 0.000002\n",
      "Epoch [121], Batch [100/391], Loss: 2.0699, LR: 0.000002\n",
      "Epoch [121], Batch [150/391], Loss: 0.0093, LR: 0.000002\n",
      "Epoch [121], Batch [200/391], Loss: 1.7795, LR: 0.000002\n",
      "Epoch [121], Batch [250/391], Loss: 0.0094, LR: 0.000002\n",
      "Epoch [121], Batch [300/391], Loss: 0.0197, LR: 0.000002\n",
      "Epoch [121], Batch [350/391], Loss: 1.9310, LR: 0.000002\n",
      "Train set: Epoch: 121, Average loss:0.8177, LR: 0.000002 Top-1 Accuracy: 88.2880%, Top-5 Accuracy: 96.8200%, Time consumed:48.08s\n"
     ]
    },
    {
     "name": "stderr",
     "output_type": "stream",
     "text": [
      " 40%|███████████████████████████████████▉                                                     | 121/300 [1:53:52<2:51:32, 57.50s/it]"
     ]
    },
    {
     "name": "stdout",
     "output_type": "stream",
     "text": [
      "Test set: Epoch: 121, Average loss:0.9446, Top-1 Accuracy: 76.5500%, Top-5 Accuracy: 93.5600%, Time consumed:8.39s\n",
      "\n",
      "EarlyStopping 카운터: 1 / 30\n",
      "Epoch [122], Batch [50/391], Loss: 0.0068, LR: 0.000002\n",
      "Epoch [122], Batch [100/391], Loss: 0.0119, LR: 0.000002\n",
      "Epoch [122], Batch [150/391], Loss: 2.2450, LR: 0.000002\n",
      "Epoch [122], Batch [200/391], Loss: 0.0121, LR: 0.000002\n",
      "Epoch [122], Batch [250/391], Loss: 0.0175, LR: 0.000002\n",
      "Epoch [122], Batch [300/391], Loss: 0.7719, LR: 0.000002\n",
      "Epoch [122], Batch [350/391], Loss: 0.0215, LR: 0.000002\n",
      "Train set: Epoch: 122, Average loss:0.8311, LR: 0.000002 Top-1 Accuracy: 88.1040%, Top-5 Accuracy: 96.7240%, Time consumed:51.33s\n"
     ]
    },
    {
     "name": "stderr",
     "output_type": "stream",
     "text": [
      " 41%|████████████████████████████████████▏                                                    | 122/300 [1:54:52<2:52:21, 58.10s/it]"
     ]
    },
    {
     "name": "stdout",
     "output_type": "stream",
     "text": [
      "Test set: Epoch: 122, Average loss:0.9365, Top-1 Accuracy: 76.5500%, Top-5 Accuracy: 93.4200%, Time consumed:8.16s\n",
      "\n",
      "EarlyStopping 카운터: 2 / 30\n",
      "Epoch [123], Batch [50/391], Loss: 0.6259, LR: 0.000001\n",
      "Epoch [123], Batch [100/391], Loss: 2.3765, LR: 0.000001\n",
      "Epoch [123], Batch [150/391], Loss: 1.0337, LR: 0.000001\n",
      "Epoch [123], Batch [200/391], Loss: 0.0081, LR: 0.000001\n",
      "Epoch [123], Batch [250/391], Loss: 0.0112, LR: 0.000001\n",
      "Epoch [123], Batch [300/391], Loss: 2.2026, LR: 0.000001\n",
      "Epoch [123], Batch [350/391], Loss: 0.0122, LR: 0.000001\n",
      "Train set: Epoch: 123, Average loss:0.8492, LR: 0.000001 Top-1 Accuracy: 88.2140%, Top-5 Accuracy: 96.9480%, Time consumed:47.61s\n"
     ]
    },
    {
     "name": "stderr",
     "output_type": "stream",
     "text": [
      " 41%|████████████████████████████████████▍                                                    | 123/300 [1:55:47<2:49:21, 57.41s/it]"
     ]
    },
    {
     "name": "stdout",
     "output_type": "stream",
     "text": [
      "Test set: Epoch: 123, Average loss:0.9646, Top-1 Accuracy: 76.7700%, Top-5 Accuracy: 93.7300%, Time consumed:8.19s\n",
      "\n",
      "새로운 최고 top-5 정확도: 93.73%\n",
      "EarlyStopping 카운터: 3 / 30\n",
      "Epoch [124], Batch [50/391], Loss: 0.1758, LR: 0.000001\n",
      "Epoch [124], Batch [100/391], Loss: 0.0156, LR: 0.000001\n",
      "Epoch [124], Batch [150/391], Loss: 0.0102, LR: 0.000001\n",
      "Epoch [124], Batch [200/391], Loss: 0.0242, LR: 0.000001\n",
      "Epoch [124], Batch [250/391], Loss: 1.7873, LR: 0.000001\n",
      "Epoch [124], Batch [300/391], Loss: 2.2853, LR: 0.000001\n",
      "Epoch [124], Batch [350/391], Loss: 2.2153, LR: 0.000001\n",
      "Train set: Epoch: 124, Average loss:0.7305, LR: 0.000001 Top-1 Accuracy: 89.2880%, Top-5 Accuracy: 97.1160%, Time consumed:47.27s\n"
     ]
    },
    {
     "name": "stderr",
     "output_type": "stream",
     "text": [
      " 41%|████████████████████████████████████▊                                                    | 124/300 [1:56:43<2:46:49, 56.87s/it]"
     ]
    },
    {
     "name": "stdout",
     "output_type": "stream",
     "text": [
      "Test set: Epoch: 124, Average loss:0.9360, Top-1 Accuracy: 76.6900%, Top-5 Accuracy: 93.4400%, Time consumed:8.35s\n",
      "\n",
      "EarlyStopping 카운터: 4 / 30\n",
      "Epoch [125], Batch [50/391], Loss: 0.0115, LR: 0.000001\n",
      "Epoch [125], Batch [100/391], Loss: 2.0073, LR: 0.000001\n",
      "Epoch [125], Batch [150/391], Loss: 1.8012, LR: 0.000001\n",
      "Epoch [125], Batch [200/391], Loss: 0.0181, LR: 0.000001\n",
      "Epoch [125], Batch [250/391], Loss: 0.0122, LR: 0.000001\n",
      "Epoch [125], Batch [300/391], Loss: 0.7580, LR: 0.000001\n",
      "Epoch [125], Batch [350/391], Loss: 0.4232, LR: 0.000001\n",
      "Train set: Epoch: 125, Average loss:0.8547, LR: 0.000001 Top-1 Accuracy: 87.6040%, Top-5 Accuracy: 96.6640%, Time consumed:47.93s\n"
     ]
    },
    {
     "name": "stderr",
     "output_type": "stream",
     "text": [
      " 42%|█████████████████████████████████████                                                    | 125/300 [1:57:40<2:45:28, 56.73s/it]"
     ]
    },
    {
     "name": "stdout",
     "output_type": "stream",
     "text": [
      "Test set: Epoch: 125, Average loss:0.9550, Top-1 Accuracy: 76.6000%, Top-5 Accuracy: 93.5500%, Time consumed:8.48s\n",
      "\n",
      "EarlyStopping 카운터: 5 / 30\n",
      "Epoch [126], Batch [50/391], Loss: 0.0082, LR: 0.000001\n",
      "Epoch [126], Batch [100/391], Loss: 2.3040, LR: 0.000001\n",
      "Epoch [126], Batch [150/391], Loss: 0.0195, LR: 0.000001\n",
      "Epoch [126], Batch [200/391], Loss: 0.0107, LR: 0.000001\n",
      "Epoch [126], Batch [250/391], Loss: 1.7802, LR: 0.000001\n",
      "Epoch [126], Batch [300/391], Loss: 0.0114, LR: 0.000001\n",
      "Epoch [126], Batch [350/391], Loss: 0.0066, LR: 0.000001\n",
      "Train set: Epoch: 126, Average loss:0.8630, LR: 0.000001 Top-1 Accuracy: 86.8780%, Top-5 Accuracy: 96.2280%, Time consumed:47.02s\n"
     ]
    },
    {
     "name": "stderr",
     "output_type": "stream",
     "text": [
      " 42%|█████████████████████████████████████▍                                                   | 126/300 [1:58:35<2:43:16, 56.30s/it]"
     ]
    },
    {
     "name": "stdout",
     "output_type": "stream",
     "text": [
      "Test set: Epoch: 126, Average loss:0.9581, Top-1 Accuracy: 76.7200%, Top-5 Accuracy: 93.5900%, Time consumed:8.27s\n",
      "\n",
      "EarlyStopping 카운터: 6 / 30\n",
      "Epoch [127], Batch [50/391], Loss: 1.6903, LR: 0.000001\n",
      "Epoch [127], Batch [100/391], Loss: 0.0150, LR: 0.000001\n",
      "Epoch [127], Batch [150/391], Loss: 1.9964, LR: 0.000001\n",
      "Epoch [127], Batch [200/391], Loss: 0.4030, LR: 0.000001\n",
      "Epoch [127], Batch [250/391], Loss: 0.0247, LR: 0.000001\n",
      "Epoch [127], Batch [300/391], Loss: 1.7291, LR: 0.000001\n",
      "Epoch [127], Batch [350/391], Loss: 1.5851, LR: 0.000001\n",
      "Train set: Epoch: 127, Average loss:0.8218, LR: 0.000001 Top-1 Accuracy: 87.8660%, Top-5 Accuracy: 96.5660%, Time consumed:48.04s\n"
     ]
    },
    {
     "name": "stderr",
     "output_type": "stream",
     "text": [
      " 42%|█████████████████████████████████████▋                                                   | 127/300 [1:59:32<2:42:54, 56.50s/it]"
     ]
    },
    {
     "name": "stdout",
     "output_type": "stream",
     "text": [
      "Test set: Epoch: 127, Average loss:0.9387, Top-1 Accuracy: 76.7300%, Top-5 Accuracy: 93.4700%, Time consumed:8.90s\n",
      "\n",
      "EarlyStopping 카운터: 7 / 30\n",
      "Epoch [128], Batch [50/391], Loss: 0.0114, LR: 0.000001\n",
      "Epoch [128], Batch [100/391], Loss: 1.7540, LR: 0.000001\n",
      "Epoch [128], Batch [150/391], Loss: 2.2268, LR: 0.000001\n",
      "Epoch [128], Batch [200/391], Loss: 0.5166, LR: 0.000001\n",
      "Epoch [128], Batch [250/391], Loss: 0.0075, LR: 0.000001\n",
      "Epoch [128], Batch [300/391], Loss: 1.9408, LR: 0.000001\n",
      "Epoch [128], Batch [350/391], Loss: 2.0122, LR: 0.000001\n",
      "Train set: Epoch: 128, Average loss:0.8070, LR: 0.000001 Top-1 Accuracy: 88.4200%, Top-5 Accuracy: 96.8780%, Time consumed:47.47s\n"
     ]
    },
    {
     "name": "stderr",
     "output_type": "stream",
     "text": [
      " 43%|█████████████████████████████████████▉                                                   | 128/300 [2:00:28<2:41:27, 56.33s/it]"
     ]
    },
    {
     "name": "stdout",
     "output_type": "stream",
     "text": [
      "Test set: Epoch: 128, Average loss:0.9354, Top-1 Accuracy: 76.2200%, Top-5 Accuracy: 93.1800%, Time consumed:8.45s\n",
      "\n",
      "EarlyStopping 카운터: 8 / 30\n",
      "Epoch [129], Batch [50/391], Loss: 1.1158, LR: 0.000001\n",
      "Epoch [129], Batch [100/391], Loss: 1.9951, LR: 0.000001\n",
      "Epoch [129], Batch [150/391], Loss: 1.9257, LR: 0.000001\n",
      "Epoch [129], Batch [200/391], Loss: 1.5295, LR: 0.000001\n",
      "Epoch [129], Batch [250/391], Loss: 0.0085, LR: 0.000001\n",
      "Epoch [129], Batch [300/391], Loss: 1.6886, LR: 0.000001\n",
      "Epoch [129], Batch [350/391], Loss: 0.0060, LR: 0.000001\n",
      "Train set: Epoch: 129, Average loss:0.8679, LR: 0.000001 Top-1 Accuracy: 86.7860%, Top-5 Accuracy: 96.2880%, Time consumed:51.22s\n"
     ]
    },
    {
     "name": "stderr",
     "output_type": "stream",
     "text": [
      " 43%|██████████████████████████████████████▎                                                  | 129/300 [2:01:27<2:43:13, 57.27s/it]"
     ]
    },
    {
     "name": "stdout",
     "output_type": "stream",
     "text": [
      "Test set: Epoch: 129, Average loss:0.9540, Top-1 Accuracy: 76.6700%, Top-5 Accuracy: 93.6300%, Time consumed:8.25s\n",
      "\n",
      "EarlyStopping 카운터: 9 / 30\n",
      "Epoch [130], Batch [50/391], Loss: 2.4559, LR: 0.000001\n",
      "Epoch [130], Batch [100/391], Loss: 2.0921, LR: 0.000001\n",
      "Epoch [130], Batch [150/391], Loss: 2.4414, LR: 0.000001\n",
      "Epoch [130], Batch [200/391], Loss: 0.0140, LR: 0.000001\n",
      "Epoch [130], Batch [250/391], Loss: 1.7061, LR: 0.000001\n",
      "Epoch [130], Batch [300/391], Loss: 2.2052, LR: 0.000001\n",
      "Epoch [130], Batch [350/391], Loss: 0.0092, LR: 0.000001\n",
      "Train set: Epoch: 130, Average loss:0.8943, LR: 0.000001 Top-1 Accuracy: 86.5880%, Top-5 Accuracy: 96.1420%, Time consumed:47.15s\n"
     ]
    },
    {
     "name": "stderr",
     "output_type": "stream",
     "text": [
      " 43%|██████████████████████████████████████▌                                                  | 130/300 [2:02:23<2:40:48, 56.76s/it]"
     ]
    },
    {
     "name": "stdout",
     "output_type": "stream",
     "text": [
      "Test set: Epoch: 130, Average loss:0.9354, Top-1 Accuracy: 76.6700%, Top-5 Accuracy: 93.4600%, Time consumed:8.40s\n",
      "\n",
      "EarlyStopping 카운터: 10 / 30\n",
      "Epoch [131], Batch [50/391], Loss: 0.0237, LR: 0.000001\n",
      "Epoch [131], Batch [100/391], Loss: 0.0096, LR: 0.000001\n",
      "Epoch [131], Batch [150/391], Loss: 1.2308, LR: 0.000001\n",
      "Epoch [131], Batch [200/391], Loss: 0.0079, LR: 0.000001\n",
      "Epoch [131], Batch [250/391], Loss: 1.1362, LR: 0.000001\n",
      "Epoch [131], Batch [300/391], Loss: 0.0168, LR: 0.000001\n",
      "Epoch [131], Batch [350/391], Loss: 1.9119, LR: 0.000001\n",
      "Train set: Epoch: 131, Average loss:0.7791, LR: 0.000001 Top-1 Accuracy: 88.1640%, Top-5 Accuracy: 96.4200%, Time consumed:49.05s\n"
     ]
    },
    {
     "name": "stderr",
     "output_type": "stream",
     "text": [
      " 44%|██████████████████████████████████████▊                                                  | 131/300 [2:03:21<2:40:51, 57.11s/it]"
     ]
    },
    {
     "name": "stdout",
     "output_type": "stream",
     "text": [
      "Test set: Epoch: 131, Average loss:0.9344, Top-1 Accuracy: 76.4800%, Top-5 Accuracy: 93.4000%, Time consumed:8.87s\n",
      "\n",
      "EarlyStopping 카운터: 11 / 30\n",
      "Epoch [132], Batch [50/391], Loss: 0.0116, LR: 0.000001\n",
      "Epoch [132], Batch [100/391], Loss: 0.0186, LR: 0.000001\n",
      "Epoch [132], Batch [150/391], Loss: 0.0066, LR: 0.000001\n",
      "Epoch [132], Batch [200/391], Loss: 0.0193, LR: 0.000001\n",
      "Epoch [132], Batch [250/391], Loss: 2.4513, LR: 0.000001\n",
      "Epoch [132], Batch [300/391], Loss: 0.0123, LR: 0.000001\n",
      "Epoch [132], Batch [350/391], Loss: 0.0112, LR: 0.000001\n",
      "Train set: Epoch: 132, Average loss:0.7816, LR: 0.000001 Top-1 Accuracy: 88.4680%, Top-5 Accuracy: 96.8320%, Time consumed:47.69s\n",
      "Test set: Epoch: 132, Average loss:0.9305, Top-1 Accuracy: 76.7900%, Top-5 Accuracy: 93.4000%, Time consumed:8.52s\n",
      "\n",
      "새로운 최고 top-1 정확도: 76.79%, top-5 정확도: 93.40%\n",
      "Accuracy improved (76.78% --> 76.79%). Saving model ...\n"
     ]
    },
    {
     "name": "stderr",
     "output_type": "stream",
     "text": [
      " 44%|███████████████████████████████████████▏                                                 | 132/300 [2:04:17<2:39:21, 56.91s/it]"
     ]
    },
    {
     "name": "stdout",
     "output_type": "stream",
     "text": [
      "Epoch [133], Batch [50/391], Loss: 2.1269, LR: 0.000001\n",
      "Epoch [133], Batch [100/391], Loss: 2.0240, LR: 0.000001\n",
      "Epoch [133], Batch [150/391], Loss: 0.7153, LR: 0.000001\n",
      "Epoch [133], Batch [200/391], Loss: 2.1542, LR: 0.000001\n",
      "Epoch [133], Batch [250/391], Loss: 1.5500, LR: 0.000001\n",
      "Epoch [133], Batch [300/391], Loss: 0.2178, LR: 0.000001\n",
      "Epoch [133], Batch [350/391], Loss: 2.2985, LR: 0.000001\n",
      "Train set: Epoch: 133, Average loss:0.7535, LR: 0.000001 Top-1 Accuracy: 90.2460%, Top-5 Accuracy: 97.4420%, Time consumed:47.45s\n"
     ]
    },
    {
     "name": "stderr",
     "output_type": "stream",
     "text": [
      " 44%|███████████████████████████████████████▍                                                 | 133/300 [2:05:13<2:37:25, 56.56s/it]"
     ]
    },
    {
     "name": "stdout",
     "output_type": "stream",
     "text": [
      "Test set: Epoch: 133, Average loss:0.9412, Top-1 Accuracy: 76.4900%, Top-5 Accuracy: 93.4100%, Time consumed:8.30s\n",
      "\n",
      "EarlyStopping 카운터: 1 / 30\n",
      "Epoch [134], Batch [50/391], Loss: 0.0081, LR: 0.000001\n",
      "Epoch [134], Batch [100/391], Loss: 0.0079, LR: 0.000001\n",
      "Epoch [134], Batch [150/391], Loss: 0.0129, LR: 0.000001\n",
      "Epoch [134], Batch [200/391], Loss: 2.2629, LR: 0.000001\n",
      "Epoch [134], Batch [250/391], Loss: 1.5960, LR: 0.000001\n",
      "Epoch [134], Batch [300/391], Loss: 0.0220, LR: 0.000001\n",
      "Epoch [134], Batch [350/391], Loss: 0.0091, LR: 0.000001\n",
      "Train set: Epoch: 134, Average loss:0.8480, LR: 0.000001 Top-1 Accuracy: 87.5900%, Top-5 Accuracy: 96.6960%, Time consumed:46.98s\n"
     ]
    },
    {
     "name": "stderr",
     "output_type": "stream",
     "text": [
      " 45%|███████████████████████████████████████▊                                                 | 134/300 [2:06:08<2:35:39, 56.26s/it]"
     ]
    },
    {
     "name": "stdout",
     "output_type": "stream",
     "text": [
      "Test set: Epoch: 134, Average loss:0.9418, Top-1 Accuracy: 76.6000%, Top-5 Accuracy: 93.4400%, Time consumed:8.58s\n",
      "\n",
      "EarlyStopping 카운터: 2 / 30\n",
      "Epoch [135], Batch [50/391], Loss: 1.3426, LR: 0.000001\n",
      "Epoch [135], Batch [100/391], Loss: 0.0201, LR: 0.000001\n",
      "Epoch [135], Batch [150/391], Loss: 1.8234, LR: 0.000001\n",
      "Epoch [135], Batch [200/391], Loss: 1.5231, LR: 0.000001\n",
      "Epoch [135], Batch [250/391], Loss: 2.6604, LR: 0.000001\n",
      "Epoch [135], Batch [300/391], Loss: 0.0150, LR: 0.000001\n",
      "Epoch [135], Batch [350/391], Loss: 2.2775, LR: 0.000001\n",
      "Train set: Epoch: 135, Average loss:0.8307, LR: 0.000001 Top-1 Accuracy: 87.5000%, Top-5 Accuracy: 96.3280%, Time consumed:49.20s\n"
     ]
    },
    {
     "name": "stderr",
     "output_type": "stream",
     "text": [
      " 45%|████████████████████████████████████████                                                 | 135/300 [2:07:07<2:36:18, 56.84s/it]"
     ]
    },
    {
     "name": "stdout",
     "output_type": "stream",
     "text": [
      "Test set: Epoch: 135, Average loss:0.9547, Top-1 Accuracy: 76.6400%, Top-5 Accuracy: 93.4600%, Time consumed:8.98s\n",
      "\n",
      "EarlyStopping 카운터: 3 / 30\n",
      "Epoch [136], Batch [50/391], Loss: 1.7037, LR: 0.000001\n",
      "Epoch [136], Batch [100/391], Loss: 0.4267, LR: 0.000001\n",
      "Epoch [136], Batch [150/391], Loss: 0.0166, LR: 0.000001\n",
      "Epoch [136], Batch [200/391], Loss: 2.1086, LR: 0.000001\n",
      "Epoch [136], Batch [250/391], Loss: 0.0099, LR: 0.000001\n",
      "Epoch [136], Batch [300/391], Loss: 0.0191, LR: 0.000001\n",
      "Epoch [136], Batch [350/391], Loss: 0.0170, LR: 0.000001\n",
      "Train set: Epoch: 136, Average loss:0.7691, LR: 0.000001 Top-1 Accuracy: 88.9580%, Top-5 Accuracy: 96.9360%, Time consumed:49.21s\n"
     ]
    },
    {
     "name": "stderr",
     "output_type": "stream",
     "text": [
      " 45%|████████████████████████████████████████▎                                                | 136/300 [2:08:04<2:35:52, 57.03s/it]"
     ]
    },
    {
     "name": "stdout",
     "output_type": "stream",
     "text": [
      "Test set: Epoch: 136, Average loss:0.9361, Top-1 Accuracy: 76.4800%, Top-5 Accuracy: 93.3900%, Time consumed:8.25s\n",
      "\n",
      "EarlyStopping 카운터: 4 / 30\n",
      "Epoch [137], Batch [50/391], Loss: 2.1280, LR: 0.000001\n",
      "Epoch [137], Batch [100/391], Loss: 2.2283, LR: 0.000001\n",
      "Epoch [137], Batch [150/391], Loss: 0.0145, LR: 0.000001\n",
      "Epoch [137], Batch [200/391], Loss: 2.1783, LR: 0.000001\n",
      "Epoch [137], Batch [250/391], Loss: 1.2864, LR: 0.000001\n",
      "Epoch [137], Batch [300/391], Loss: 2.0502, LR: 0.000001\n",
      "Epoch [137], Batch [350/391], Loss: 1.7491, LR: 0.000001\n",
      "Train set: Epoch: 137, Average loss:0.7858, LR: 0.000001 Top-1 Accuracy: 88.4520%, Top-5 Accuracy: 96.9600%, Time consumed:47.69s\n"
     ]
    },
    {
     "name": "stderr",
     "output_type": "stream",
     "text": [
      " 46%|████████████████████████████████████████▋                                                | 137/300 [2:09:00<2:34:15, 56.78s/it]"
     ]
    },
    {
     "name": "stdout",
     "output_type": "stream",
     "text": [
      "Test set: Epoch: 137, Average loss:0.9330, Top-1 Accuracy: 76.4800%, Top-5 Accuracy: 93.2600%, Time consumed:8.51s\n",
      "\n",
      "EarlyStopping 카운터: 5 / 30\n",
      "Epoch [138], Batch [50/391], Loss: 2.3948, LR: 0.000001\n",
      "Epoch [138], Batch [100/391], Loss: 2.3873, LR: 0.000001\n",
      "Epoch [138], Batch [150/391], Loss: 0.0103, LR: 0.000001\n",
      "Epoch [138], Batch [200/391], Loss: 0.0143, LR: 0.000001\n",
      "Epoch [138], Batch [250/391], Loss: 0.0154, LR: 0.000001\n",
      "Epoch [138], Batch [300/391], Loss: 0.0107, LR: 0.000001\n",
      "Epoch [138], Batch [350/391], Loss: 0.0128, LR: 0.000001\n",
      "Train set: Epoch: 138, Average loss:0.8672, LR: 0.000001 Top-1 Accuracy: 87.1480%, Top-5 Accuracy: 96.4980%, Time consumed:48.08s\n"
     ]
    },
    {
     "name": "stderr",
     "output_type": "stream",
     "text": [
      " 46%|████████████████████████████████████████▉                                                | 138/300 [2:09:57<2:33:25, 56.83s/it]"
     ]
    },
    {
     "name": "stdout",
     "output_type": "stream",
     "text": [
      "Test set: Epoch: 138, Average loss:0.9314, Top-1 Accuracy: 76.5300%, Top-5 Accuracy: 93.3400%, Time consumed:8.85s\n",
      "\n",
      "EarlyStopping 카운터: 6 / 30\n",
      "Epoch [139], Batch [50/391], Loss: 1.4409, LR: 0.000001\n",
      "Epoch [139], Batch [100/391], Loss: 2.0091, LR: 0.000001\n",
      "Epoch [139], Batch [150/391], Loss: 0.0146, LR: 0.000001\n",
      "Epoch [139], Batch [200/391], Loss: 1.7275, LR: 0.000001\n",
      "Epoch [139], Batch [250/391], Loss: 0.0148, LR: 0.000001\n",
      "Epoch [139], Batch [300/391], Loss: 0.0119, LR: 0.000001\n",
      "Epoch [139], Batch [350/391], Loss: 1.6036, LR: 0.000001\n",
      "Train set: Epoch: 139, Average loss:0.8471, LR: 0.000001 Top-1 Accuracy: 88.2760%, Top-5 Accuracy: 96.8860%, Time consumed:47.13s\n"
     ]
    },
    {
     "name": "stderr",
     "output_type": "stream",
     "text": [
      " 46%|█████████████████████████████████████████▏                                               | 139/300 [2:10:53<2:31:25, 56.43s/it]"
     ]
    },
    {
     "name": "stdout",
     "output_type": "stream",
     "text": [
      "Test set: Epoch: 139, Average loss:0.9433, Top-1 Accuracy: 76.5800%, Top-5 Accuracy: 93.5500%, Time consumed:8.38s\n",
      "\n",
      "EarlyStopping 카운터: 7 / 30\n",
      "Epoch [140], Batch [50/391], Loss: 0.0098, LR: 0.000001\n",
      "Epoch [140], Batch [100/391], Loss: 2.2827, LR: 0.000001\n",
      "Epoch [140], Batch [150/391], Loss: 2.3386, LR: 0.000001\n",
      "Epoch [140], Batch [200/391], Loss: 0.0083, LR: 0.000001\n",
      "Epoch [140], Batch [250/391], Loss: 2.1418, LR: 0.000001\n",
      "Epoch [140], Batch [300/391], Loss: 2.2766, LR: 0.000001\n",
      "Epoch [140], Batch [350/391], Loss: 0.0158, LR: 0.000001\n",
      "Train set: Epoch: 140, Average loss:0.8483, LR: 0.000001 Top-1 Accuracy: 87.4460%, Top-5 Accuracy: 96.4460%, Time consumed:47.26s\n"
     ]
    },
    {
     "name": "stderr",
     "output_type": "stream",
     "text": [
      " 47%|█████████████████████████████████████████▌                                               | 140/300 [2:11:48<2:29:42, 56.14s/it]"
     ]
    },
    {
     "name": "stdout",
     "output_type": "stream",
     "text": [
      "Test set: Epoch: 140, Average loss:0.9341, Top-1 Accuracy: 76.1800%, Top-5 Accuracy: 93.0200%, Time consumed:8.19s\n",
      "\n",
      "EarlyStopping 카운터: 8 / 30\n",
      "Epoch [141], Batch [50/391], Loss: 0.0068, LR: 0.000001\n",
      "Epoch [141], Batch [100/391], Loss: 0.2381, LR: 0.000001\n",
      "Epoch [141], Batch [150/391], Loss: 2.2535, LR: 0.000001\n",
      "Epoch [141], Batch [200/391], Loss: 0.0135, LR: 0.000001\n",
      "Epoch [141], Batch [250/391], Loss: 0.0083, LR: 0.000001\n",
      "Epoch [141], Batch [300/391], Loss: 0.0132, LR: 0.000001\n",
      "Epoch [141], Batch [350/391], Loss: 0.0288, LR: 0.000001\n",
      "Train set: Epoch: 141, Average loss:0.8030, LR: 0.000001 Top-1 Accuracy: 88.0700%, Top-5 Accuracy: 96.6700%, Time consumed:47.43s\n"
     ]
    },
    {
     "name": "stderr",
     "output_type": "stream",
     "text": [
      " 47%|█████████████████████████████████████████▊                                               | 141/300 [2:12:44<2:28:23, 56.00s/it]"
     ]
    },
    {
     "name": "stdout",
     "output_type": "stream",
     "text": [
      "Test set: Epoch: 141, Average loss:0.9460, Top-1 Accuracy: 76.0500%, Top-5 Accuracy: 92.9400%, Time consumed:8.22s\n",
      "\n",
      "EarlyStopping 카운터: 9 / 30\n",
      "Epoch [142], Batch [50/391], Loss: 0.0150, LR: 0.000001\n",
      "Epoch [142], Batch [100/391], Loss: 0.0074, LR: 0.000001\n",
      "Epoch [142], Batch [150/391], Loss: 0.0142, LR: 0.000001\n",
      "Epoch [142], Batch [200/391], Loss: 2.3196, LR: 0.000001\n",
      "Epoch [142], Batch [250/391], Loss: 2.5037, LR: 0.000001\n",
      "Epoch [142], Batch [300/391], Loss: 0.0218, LR: 0.000001\n",
      "Epoch [142], Batch [350/391], Loss: 0.6484, LR: 0.000001\n",
      "Train set: Epoch: 142, Average loss:0.8606, LR: 0.000001 Top-1 Accuracy: 86.8380%, Top-5 Accuracy: 96.1720%, Time consumed:46.95s\n"
     ]
    },
    {
     "name": "stderr",
     "output_type": "stream",
     "text": [
      " 47%|██████████████████████████████████████████▏                                              | 142/300 [2:13:39<2:26:55, 55.79s/it]"
     ]
    },
    {
     "name": "stdout",
     "output_type": "stream",
     "text": [
      "Test set: Epoch: 142, Average loss:0.9299, Top-1 Accuracy: 76.3400%, Top-5 Accuracy: 93.2100%, Time consumed:8.36s\n",
      "\n",
      "EarlyStopping 카운터: 10 / 30\n",
      "Epoch [143], Batch [50/391], Loss: 0.0058, LR: 0.000001\n",
      "Epoch [143], Batch [100/391], Loss: 0.2067, LR: 0.000001\n",
      "Epoch [143], Batch [150/391], Loss: 1.1040, LR: 0.000001\n",
      "Epoch [143], Batch [200/391], Loss: 1.3848, LR: 0.000001\n",
      "Epoch [143], Batch [250/391], Loss: 1.8313, LR: 0.000001\n",
      "Epoch [143], Batch [300/391], Loss: 0.0151, LR: 0.000001\n",
      "Epoch [143], Batch [350/391], Loss: 0.0135, LR: 0.000001\n",
      "Train set: Epoch: 143, Average loss:0.8971, LR: 0.000001 Top-1 Accuracy: 87.0420%, Top-5 Accuracy: 96.4220%, Time consumed:48.27s\n"
     ]
    },
    {
     "name": "stderr",
     "output_type": "stream",
     "text": [
      " 48%|██████████████████████████████████████████▍                                              | 143/300 [2:14:36<2:26:47, 56.10s/it]"
     ]
    },
    {
     "name": "stdout",
     "output_type": "stream",
     "text": [
      "Test set: Epoch: 143, Average loss:0.9368, Top-1 Accuracy: 76.1500%, Top-5 Accuracy: 93.0400%, Time consumed:8.54s\n",
      "\n",
      "EarlyStopping 카운터: 11 / 30\n",
      "Epoch [144], Batch [50/391], Loss: 1.5310, LR: 0.000001\n",
      "Epoch [144], Batch [100/391], Loss: 0.0101, LR: 0.000001\n",
      "Epoch [144], Batch [150/391], Loss: 0.0108, LR: 0.000001\n",
      "Epoch [144], Batch [200/391], Loss: 2.2733, LR: 0.000001\n",
      "Epoch [144], Batch [250/391], Loss: 0.0059, LR: 0.000001\n",
      "Epoch [144], Batch [300/391], Loss: 0.0190, LR: 0.000001\n",
      "Epoch [144], Batch [350/391], Loss: 0.0163, LR: 0.000001\n",
      "Train set: Epoch: 144, Average loss:0.8001, LR: 0.000001 Top-1 Accuracy: 87.7720%, Top-5 Accuracy: 96.5480%, Time consumed:47.70s\n"
     ]
    },
    {
     "name": "stderr",
     "output_type": "stream",
     "text": [
      " 48%|██████████████████████████████████████████▋                                              | 144/300 [2:15:32<2:25:45, 56.06s/it]"
     ]
    },
    {
     "name": "stdout",
     "output_type": "stream",
     "text": [
      "Test set: Epoch: 144, Average loss:0.9352, Top-1 Accuracy: 76.7100%, Top-5 Accuracy: 93.5600%, Time consumed:8.26s\n",
      "\n",
      "EarlyStopping 카운터: 12 / 30\n",
      "Epoch [145], Batch [50/391], Loss: 0.0084, LR: 0.000001\n",
      "Epoch [145], Batch [100/391], Loss: 1.7854, LR: 0.000001\n",
      "Epoch [145], Batch [150/391], Loss: 0.0217, LR: 0.000001\n",
      "Epoch [145], Batch [200/391], Loss: 0.8615, LR: 0.000001\n",
      "Epoch [145], Batch [250/391], Loss: 2.0830, LR: 0.000001\n",
      "Epoch [145], Batch [300/391], Loss: 0.0113, LR: 0.000001\n",
      "Epoch [145], Batch [350/391], Loss: 0.0158, LR: 0.000001\n",
      "Train set: Epoch: 145, Average loss:0.8674, LR: 0.000001 Top-1 Accuracy: 87.5500%, Top-5 Accuracy: 96.6720%, Time consumed:47.46s\n"
     ]
    },
    {
     "name": "stderr",
     "output_type": "stream",
     "text": [
      " 48%|███████████████████████████████████████████                                              | 145/300 [2:16:28<2:24:34, 55.96s/it]"
     ]
    },
    {
     "name": "stdout",
     "output_type": "stream",
     "text": [
      "Test set: Epoch: 145, Average loss:0.9325, Top-1 Accuracy: 76.6600%, Top-5 Accuracy: 93.4100%, Time consumed:8.27s\n",
      "\n",
      "EarlyStopping 카운터: 13 / 30\n",
      "Epoch [146], Batch [50/391], Loss: 0.0303, LR: 0.000001\n",
      "Epoch [146], Batch [100/391], Loss: 2.0163, LR: 0.000001\n",
      "Epoch [146], Batch [150/391], Loss: 1.6520, LR: 0.000001\n",
      "Epoch [146], Batch [200/391], Loss: 0.0154, LR: 0.000001\n",
      "Epoch [146], Batch [250/391], Loss: 0.0176, LR: 0.000001\n",
      "Epoch [146], Batch [300/391], Loss: 0.0140, LR: 0.000001\n",
      "Epoch [146], Batch [350/391], Loss: 0.0205, LR: 0.000001\n",
      "Train set: Epoch: 146, Average loss:0.8300, LR: 0.000001 Top-1 Accuracy: 88.0060%, Top-5 Accuracy: 96.7700%, Time consumed:47.66s\n"
     ]
    },
    {
     "name": "stderr",
     "output_type": "stream",
     "text": [
      " 49%|███████████████████████████████████████████▎                                             | 146/300 [2:17:24<2:23:39, 55.97s/it]"
     ]
    },
    {
     "name": "stdout",
     "output_type": "stream",
     "text": [
      "Test set: Epoch: 146, Average loss:0.9405, Top-1 Accuracy: 76.5800%, Top-5 Accuracy: 93.5600%, Time consumed:8.32s\n",
      "\n",
      "EarlyStopping 카운터: 14 / 30\n",
      "Epoch [147], Batch [50/391], Loss: 0.0051, LR: 0.000001\n",
      "Epoch [147], Batch [100/391], Loss: 0.0103, LR: 0.000001\n",
      "Epoch [147], Batch [150/391], Loss: 0.0229, LR: 0.000001\n",
      "Epoch [147], Batch [200/391], Loss: 0.0247, LR: 0.000001\n",
      "Epoch [147], Batch [250/391], Loss: 0.0097, LR: 0.000001\n",
      "Epoch [147], Batch [300/391], Loss: 0.0110, LR: 0.000001\n",
      "Epoch [147], Batch [350/391], Loss: 1.7751, LR: 0.000001\n",
      "Train set: Epoch: 147, Average loss:0.9041, LR: 0.000001 Top-1 Accuracy: 86.9340%, Top-5 Accuracy: 96.4420%, Time consumed:49.62s\n"
     ]
    },
    {
     "name": "stderr",
     "output_type": "stream",
     "text": [
      " 49%|███████████████████████████████████████████▌                                             | 147/300 [2:18:23<2:25:09, 56.92s/it]"
     ]
    },
    {
     "name": "stdout",
     "output_type": "stream",
     "text": [
      "Test set: Epoch: 147, Average loss:0.9337, Top-1 Accuracy: 76.1600%, Top-5 Accuracy: 93.0900%, Time consumed:9.53s\n",
      "\n",
      "EarlyStopping 카운터: 15 / 30\n",
      "Epoch [148], Batch [50/391], Loss: 0.0081, LR: 0.000001\n",
      "Epoch [148], Batch [100/391], Loss: 0.0171, LR: 0.000001\n",
      "Epoch [148], Batch [150/391], Loss: 0.0106, LR: 0.000001\n",
      "Epoch [148], Batch [200/391], Loss: 1.7053, LR: 0.000001\n",
      "Epoch [148], Batch [250/391], Loss: 2.2799, LR: 0.000001\n",
      "Epoch [148], Batch [300/391], Loss: 1.9317, LR: 0.000001\n",
      "Epoch [148], Batch [350/391], Loss: 0.0115, LR: 0.000001\n",
      "Train set: Epoch: 148, Average loss:0.7585, LR: 0.000001 Top-1 Accuracy: 89.8180%, Top-5 Accuracy: 97.2860%, Time consumed:49.95s\n"
     ]
    },
    {
     "name": "stderr",
     "output_type": "stream",
     "text": [
      " 49%|███████████████████████████████████████████▉                                             | 148/300 [2:19:22<2:25:48, 57.55s/it]"
     ]
    },
    {
     "name": "stdout",
     "output_type": "stream",
     "text": [
      "Test set: Epoch: 148, Average loss:0.9247, Top-1 Accuracy: 76.7100%, Top-5 Accuracy: 93.4500%, Time consumed:9.07s\n",
      "\n",
      "EarlyStopping 카운터: 16 / 30\n",
      "Epoch [149], Batch [50/391], Loss: 2.3457, LR: 0.000001\n",
      "Epoch [149], Batch [100/391], Loss: 1.4594, LR: 0.000001\n",
      "Epoch [149], Batch [150/391], Loss: 0.0224, LR: 0.000001\n",
      "Epoch [149], Batch [200/391], Loss: 0.9332, LR: 0.000001\n",
      "Epoch [149], Batch [250/391], Loss: 0.8798, LR: 0.000001\n",
      "Epoch [149], Batch [300/391], Loss: 0.9753, LR: 0.000001\n",
      "Epoch [149], Batch [350/391], Loss: 0.0091, LR: 0.000001\n",
      "Train set: Epoch: 149, Average loss:0.8080, LR: 0.000001 Top-1 Accuracy: 87.6960%, Top-5 Accuracy: 96.4180%, Time consumed:50.63s\n"
     ]
    },
    {
     "name": "stderr",
     "output_type": "stream",
     "text": [
      " 50%|████████████████████████████████████████████▏                                            | 149/300 [2:20:22<2:26:31, 58.22s/it]"
     ]
    },
    {
     "name": "stdout",
     "output_type": "stream",
     "text": [
      "Test set: Epoch: 149, Average loss:0.9467, Top-1 Accuracy: 76.5800%, Top-5 Accuracy: 93.5200%, Time consumed:9.13s\n",
      "\n",
      "EarlyStopping 카운터: 17 / 30\n",
      "Epoch [150], Batch [50/391], Loss: 0.0124, LR: 0.000001\n",
      "Epoch [150], Batch [100/391], Loss: 0.0105, LR: 0.000001\n",
      "Epoch [150], Batch [150/391], Loss: 0.0197, LR: 0.000001\n",
      "Epoch [150], Batch [200/391], Loss: 0.0093, LR: 0.000001\n",
      "Epoch [150], Batch [250/391], Loss: 0.0224, LR: 0.000001\n",
      "Epoch [150], Batch [300/391], Loss: 0.0129, LR: 0.000001\n",
      "Epoch [150], Batch [350/391], Loss: 0.0141, LR: 0.000001\n",
      "Train set: Epoch: 150, Average loss:0.8375, LR: 0.000001 Top-1 Accuracy: 86.9460%, Top-5 Accuracy: 95.9240%, Time consumed:47.90s\n"
     ]
    },
    {
     "name": "stderr",
     "output_type": "stream",
     "text": [
      " 50%|████████████████████████████████████████████▌                                            | 150/300 [2:21:18<2:24:02, 57.61s/it]"
     ]
    },
    {
     "name": "stdout",
     "output_type": "stream",
     "text": [
      "Test set: Epoch: 150, Average loss:0.9371, Top-1 Accuracy: 76.5000%, Top-5 Accuracy: 93.2600%, Time consumed:8.29s\n",
      "\n",
      "EarlyStopping 카운터: 18 / 30\n",
      "Epoch [151], Batch [50/391], Loss: 0.0157, LR: 0.000001\n",
      "Epoch [151], Batch [100/391], Loss: 1.3416, LR: 0.000001\n",
      "Epoch [151], Batch [150/391], Loss: 2.4209, LR: 0.000001\n",
      "Epoch [151], Batch [200/391], Loss: 0.0200, LR: 0.000001\n",
      "Epoch [151], Batch [250/391], Loss: 1.4637, LR: 0.000001\n",
      "Epoch [151], Batch [300/391], Loss: 0.0188, LR: 0.000001\n",
      "Epoch [151], Batch [350/391], Loss: 0.0164, LR: 0.000001\n",
      "Train set: Epoch: 151, Average loss:0.7819, LR: 0.000001 Top-1 Accuracy: 88.0220%, Top-5 Accuracy: 96.5160%, Time consumed:50.73s\n"
     ]
    },
    {
     "name": "stderr",
     "output_type": "stream",
     "text": [
      " 50%|████████████████████████████████████████████▊                                            | 151/300 [2:22:17<2:24:12, 58.07s/it]"
     ]
    },
    {
     "name": "stdout",
     "output_type": "stream",
     "text": [
      "Test set: Epoch: 151, Average loss:0.9371, Top-1 Accuracy: 76.5600%, Top-5 Accuracy: 93.3800%, Time consumed:8.40s\n",
      "\n",
      "EarlyStopping 카운터: 19 / 30\n",
      "Epoch [152], Batch [50/391], Loss: 1.9594, LR: 0.000001\n",
      "Epoch [152], Batch [100/391], Loss: 2.5584, LR: 0.000001\n",
      "Epoch [152], Batch [150/391], Loss: 2.1007, LR: 0.000001\n",
      "Epoch [152], Batch [200/391], Loss: 2.1739, LR: 0.000001\n",
      "Epoch [152], Batch [250/391], Loss: 0.4427, LR: 0.000001\n",
      "Epoch [152], Batch [300/391], Loss: 0.0152, LR: 0.000001\n",
      "Epoch [152], Batch [350/391], Loss: 2.0536, LR: 0.000001\n",
      "Train set: Epoch: 152, Average loss:0.8550, LR: 0.000001 Top-1 Accuracy: 87.5200%, Top-5 Accuracy: 96.6600%, Time consumed:48.15s\n"
     ]
    },
    {
     "name": "stderr",
     "output_type": "stream",
     "text": [
      " 51%|█████████████████████████████████████████████                                            | 152/300 [2:23:13<2:22:01, 57.58s/it]"
     ]
    },
    {
     "name": "stdout",
     "output_type": "stream",
     "text": [
      "Test set: Epoch: 152, Average loss:0.9344, Top-1 Accuracy: 76.6600%, Top-5 Accuracy: 93.5200%, Time consumed:8.27s\n",
      "\n",
      "EarlyStopping 카운터: 20 / 30\n",
      "Epoch [153], Batch [50/391], Loss: 0.0128, LR: 0.000001\n",
      "Epoch [153], Batch [100/391], Loss: 1.4173, LR: 0.000001\n",
      "Epoch [153], Batch [150/391], Loss: 0.0098, LR: 0.000001\n",
      "Epoch [153], Batch [200/391], Loss: 0.0060, LR: 0.000001\n",
      "Epoch [153], Batch [250/391], Loss: 0.0095, LR: 0.000001\n",
      "Epoch [153], Batch [300/391], Loss: 2.4906, LR: 0.000001\n",
      "Epoch [153], Batch [350/391], Loss: 0.2560, LR: 0.000001\n",
      "Train set: Epoch: 153, Average loss:0.8872, LR: 0.000001 Top-1 Accuracy: 86.4820%, Top-5 Accuracy: 96.1900%, Time consumed:49.10s\n"
     ]
    },
    {
     "name": "stderr",
     "output_type": "stream",
     "text": [
      " 51%|█████████████████████████████████████████████▍                                           | 153/300 [2:24:11<2:20:59, 57.55s/it]"
     ]
    },
    {
     "name": "stdout",
     "output_type": "stream",
     "text": [
      "Test set: Epoch: 153, Average loss:0.9308, Top-1 Accuracy: 76.4000%, Top-5 Accuracy: 93.1700%, Time consumed:8.38s\n",
      "\n",
      "EarlyStopping 카운터: 21 / 30\n",
      "Epoch [154], Batch [50/391], Loss: 0.0180, LR: 0.000001\n",
      "Epoch [154], Batch [100/391], Loss: 1.6667, LR: 0.000001\n",
      "Epoch [154], Batch [150/391], Loss: 2.2560, LR: 0.000001\n",
      "Epoch [154], Batch [200/391], Loss: 0.0228, LR: 0.000001\n",
      "Epoch [154], Batch [250/391], Loss: 2.4132, LR: 0.000001\n",
      "Epoch [154], Batch [300/391], Loss: 0.0049, LR: 0.000001\n",
      "Epoch [154], Batch [350/391], Loss: 0.2823, LR: 0.000001\n",
      "Train set: Epoch: 154, Average loss:0.8223, LR: 0.000001 Top-1 Accuracy: 88.2480%, Top-5 Accuracy: 96.8720%, Time consumed:48.75s\n"
     ]
    },
    {
     "name": "stderr",
     "output_type": "stream",
     "text": [
      " 51%|█████████████████████████████████████████████▋                                           | 154/300 [2:25:08<2:19:50, 57.47s/it]"
     ]
    },
    {
     "name": "stdout",
     "output_type": "stream",
     "text": [
      "Test set: Epoch: 154, Average loss:0.9350, Top-1 Accuracy: 76.4000%, Top-5 Accuracy: 93.1500%, Time consumed:8.52s\n",
      "\n",
      "EarlyStopping 카운터: 22 / 30\n",
      "Epoch [155], Batch [50/391], Loss: 0.0121, LR: 0.000001\n",
      "Epoch [155], Batch [100/391], Loss: 2.1381, LR: 0.000001\n",
      "Epoch [155], Batch [150/391], Loss: 0.0120, LR: 0.000001\n",
      "Epoch [155], Batch [200/391], Loss: 0.0147, LR: 0.000001\n",
      "Epoch [155], Batch [250/391], Loss: 2.2915, LR: 0.000001\n",
      "Epoch [155], Batch [300/391], Loss: 0.0281, LR: 0.000001\n",
      "Epoch [155], Batch [350/391], Loss: 2.1508, LR: 0.000001\n",
      "Train set: Epoch: 155, Average loss:0.8632, LR: 0.000001 Top-1 Accuracy: 86.5920%, Top-5 Accuracy: 96.1080%, Time consumed:49.99s\n"
     ]
    },
    {
     "name": "stderr",
     "output_type": "stream",
     "text": [
      " 52%|█████████████████████████████████████████████▉                                           | 155/300 [2:26:07<2:20:00, 57.94s/it]"
     ]
    },
    {
     "name": "stdout",
     "output_type": "stream",
     "text": [
      "Test set: Epoch: 155, Average loss:0.9334, Top-1 Accuracy: 76.5800%, Top-5 Accuracy: 93.3700%, Time consumed:9.04s\n",
      "\n",
      "EarlyStopping 카운터: 23 / 30\n",
      "Epoch [156], Batch [50/391], Loss: 2.2674, LR: 0.000001\n",
      "Epoch [156], Batch [100/391], Loss: 2.0251, LR: 0.000001\n",
      "Epoch [156], Batch [150/391], Loss: 0.0104, LR: 0.000001\n",
      "Epoch [156], Batch [200/391], Loss: 0.0168, LR: 0.000001\n",
      "Epoch [156], Batch [250/391], Loss: 0.0216, LR: 0.000001\n",
      "Epoch [156], Batch [300/391], Loss: 0.0082, LR: 0.000001\n",
      "Epoch [156], Batch [350/391], Loss: 1.7150, LR: 0.000001\n",
      "Train set: Epoch: 156, Average loss:0.8837, LR: 0.000001 Top-1 Accuracy: 86.8440%, Top-5 Accuracy: 96.1980%, Time consumed:47.92s\n"
     ]
    },
    {
     "name": "stderr",
     "output_type": "stream",
     "text": [
      " 52%|██████████████████████████████████████████████▎                                          | 156/300 [2:27:04<2:18:03, 57.52s/it]"
     ]
    },
    {
     "name": "stdout",
     "output_type": "stream",
     "text": [
      "Test set: Epoch: 156, Average loss:0.9280, Top-1 Accuracy: 76.4300%, Top-5 Accuracy: 93.2500%, Time consumed:8.63s\n",
      "\n",
      "EarlyStopping 카운터: 24 / 30\n",
      "Epoch [157], Batch [50/391], Loss: 0.7362, LR: 0.000001\n",
      "Epoch [157], Batch [100/391], Loss: 2.3757, LR: 0.000001\n",
      "Epoch [157], Batch [150/391], Loss: 0.0067, LR: 0.000001\n",
      "Epoch [157], Batch [200/391], Loss: 1.9991, LR: 0.000001\n",
      "Epoch [157], Batch [250/391], Loss: 0.0140, LR: 0.000001\n",
      "Epoch [157], Batch [300/391], Loss: 1.7161, LR: 0.000001\n",
      "Epoch [157], Batch [350/391], Loss: 0.0503, LR: 0.000001\n",
      "Train set: Epoch: 157, Average loss:0.8491, LR: 0.000001 Top-1 Accuracy: 87.0600%, Top-5 Accuracy: 96.1980%, Time consumed:48.71s\n"
     ]
    },
    {
     "name": "stderr",
     "output_type": "stream",
     "text": [
      " 52%|██████████████████████████████████████████████▌                                          | 157/300 [2:28:01<2:16:55, 57.45s/it]"
     ]
    },
    {
     "name": "stdout",
     "output_type": "stream",
     "text": [
      "Test set: Epoch: 157, Average loss:0.9466, Top-1 Accuracy: 76.6600%, Top-5 Accuracy: 93.5400%, Time consumed:8.56s\n",
      "\n",
      "EarlyStopping 카운터: 25 / 30\n",
      "Epoch [158], Batch [50/391], Loss: 0.0063, LR: 0.000001\n",
      "Epoch [158], Batch [100/391], Loss: 0.0174, LR: 0.000001\n",
      "Epoch [158], Batch [150/391], Loss: 0.0068, LR: 0.000001\n",
      "Epoch [158], Batch [200/391], Loss: 0.0229, LR: 0.000001\n",
      "Epoch [158], Batch [250/391], Loss: 0.0080, LR: 0.000001\n",
      "Epoch [158], Batch [300/391], Loss: 0.4385, LR: 0.000001\n",
      "Epoch [158], Batch [350/391], Loss: 0.0196, LR: 0.000001\n",
      "Train set: Epoch: 158, Average loss:0.8260, LR: 0.000001 Top-1 Accuracy: 86.8540%, Top-5 Accuracy: 96.1860%, Time consumed:47.86s\n"
     ]
    },
    {
     "name": "stderr",
     "output_type": "stream",
     "text": [
      " 53%|██████████████████████████████████████████████▊                                          | 158/300 [2:28:57<2:15:03, 57.07s/it]"
     ]
    },
    {
     "name": "stdout",
     "output_type": "stream",
     "text": [
      "Test set: Epoch: 158, Average loss:0.9297, Top-1 Accuracy: 76.4400%, Top-5 Accuracy: 93.1500%, Time consumed:8.30s\n",
      "\n",
      "EarlyStopping 카운터: 26 / 30\n",
      "Epoch [159], Batch [50/391], Loss: 0.0082, LR: 0.000001\n",
      "Epoch [159], Batch [100/391], Loss: 2.3431, LR: 0.000001\n",
      "Epoch [159], Batch [150/391], Loss: 0.0055, LR: 0.000001\n",
      "Epoch [159], Batch [200/391], Loss: 0.0070, LR: 0.000001\n",
      "Epoch [159], Batch [250/391], Loss: 0.0111, LR: 0.000001\n",
      "Epoch [159], Batch [300/391], Loss: 0.0075, LR: 0.000001\n",
      "Epoch [159], Batch [350/391], Loss: 1.9719, LR: 0.000001\n",
      "Train set: Epoch: 159, Average loss:0.8819, LR: 0.000001 Top-1 Accuracy: 87.0460%, Top-5 Accuracy: 96.4120%, Time consumed:48.08s\n"
     ]
    },
    {
     "name": "stderr",
     "output_type": "stream",
     "text": [
      " 53%|███████████████████████████████████████████████▏                                         | 159/300 [2:29:54<2:14:04, 57.05s/it]"
     ]
    },
    {
     "name": "stdout",
     "output_type": "stream",
     "text": [
      "Test set: Epoch: 159, Average loss:0.9341, Top-1 Accuracy: 76.6400%, Top-5 Accuracy: 93.5000%, Time consumed:8.94s\n",
      "\n",
      "EarlyStopping 카운터: 27 / 30\n",
      "Epoch [160], Batch [50/391], Loss: 2.5028, LR: 0.000001\n",
      "Epoch [160], Batch [100/391], Loss: 0.0122, LR: 0.000001\n",
      "Epoch [160], Batch [150/391], Loss: 0.0100, LR: 0.000001\n",
      "Epoch [160], Batch [200/391], Loss: 0.0103, LR: 0.000001\n",
      "Epoch [160], Batch [250/391], Loss: 1.2622, LR: 0.000001\n",
      "Epoch [160], Batch [300/391], Loss: 2.1443, LR: 0.000001\n",
      "Epoch [160], Batch [350/391], Loss: 1.9744, LR: 0.000001\n",
      "Train set: Epoch: 160, Average loss:0.8705, LR: 0.000001 Top-1 Accuracy: 86.9980%, Top-5 Accuracy: 96.1380%, Time consumed:48.43s\n"
     ]
    },
    {
     "name": "stderr",
     "output_type": "stream",
     "text": [
      " 53%|███████████████████████████████████████████████▍                                         | 160/300 [2:30:51<2:13:05, 57.04s/it]"
     ]
    },
    {
     "name": "stdout",
     "output_type": "stream",
     "text": [
      "Test set: Epoch: 160, Average loss:0.9306, Top-1 Accuracy: 76.5700%, Top-5 Accuracy: 93.3500%, Time consumed:8.56s\n",
      "\n",
      "EarlyStopping 카운터: 28 / 30\n",
      "Epoch [161], Batch [50/391], Loss: 2.5879, LR: 0.000001\n",
      "Epoch [161], Batch [100/391], Loss: 2.3998, LR: 0.000001\n",
      "Epoch [161], Batch [150/391], Loss: 1.2172, LR: 0.000001\n",
      "Epoch [161], Batch [200/391], Loss: 0.0138, LR: 0.000001\n",
      "Epoch [161], Batch [250/391], Loss: 1.1353, LR: 0.000001\n",
      "Epoch [161], Batch [300/391], Loss: 0.0140, LR: 0.000001\n",
      "Epoch [161], Batch [350/391], Loss: 0.0109, LR: 0.000001\n",
      "Train set: Epoch: 161, Average loss:0.8938, LR: 0.000001 Top-1 Accuracy: 86.1100%, Top-5 Accuracy: 95.9620%, Time consumed:50.33s\n"
     ]
    },
    {
     "name": "stderr",
     "output_type": "stream",
     "text": [
      " 54%|███████████████████████████████████████████████▊                                         | 161/300 [2:31:51<2:14:00, 57.85s/it]"
     ]
    },
    {
     "name": "stdout",
     "output_type": "stream",
     "text": [
      "Test set: Epoch: 161, Average loss:0.9291, Top-1 Accuracy: 76.3500%, Top-5 Accuracy: 93.2500%, Time consumed:9.40s\n",
      "\n",
      "EarlyStopping 카운터: 29 / 30\n",
      "Epoch [162], Batch [50/391], Loss: 0.0059, LR: 0.000001\n",
      "Epoch [162], Batch [100/391], Loss: 1.8954, LR: 0.000001\n",
      "Epoch [162], Batch [150/391], Loss: 1.9632, LR: 0.000001\n",
      "Epoch [162], Batch [200/391], Loss: 0.0113, LR: 0.000001\n",
      "Epoch [162], Batch [250/391], Loss: 0.9897, LR: 0.000001\n",
      "Epoch [162], Batch [300/391], Loss: 1.7788, LR: 0.000001\n",
      "Epoch [162], Batch [350/391], Loss: 0.0415, LR: 0.000001\n",
      "Train set: Epoch: 162, Average loss:0.8694, LR: 0.000001 Top-1 Accuracy: 88.3680%, Top-5 Accuracy: 96.9020%, Time consumed:48.09s\n"
     ]
    },
    {
     "name": "stderr",
     "output_type": "stream",
     "text": [
      " 54%|███████████████████████████████████████████████▊                                         | 161/300 [2:32:48<2:11:55, 56.95s/it]"
     ]
    },
    {
     "name": "stdout",
     "output_type": "stream",
     "text": [
      "Test set: Epoch: 162, Average loss:0.9304, Top-1 Accuracy: 76.5800%, Top-5 Accuracy: 93.4400%, Time consumed:8.90s\n",
      "\n",
      "EarlyStopping 카운터: 30 / 30\n",
      "에폭 162에서 학습 조기 종료. 최고 성능 에폭: 132\n",
      "테스트 정확도 기준 최고 모델 로드 중...\n"
     ]
    },
    {
     "name": "stderr",
     "output_type": "stream",
     "text": [
      "\n"
     ]
    },
    {
     "name": "stdout",
     "output_type": "stream",
     "text": [
      "Test set: Epoch: 300, Average loss:0.9305, Top-1 Accuracy: 76.7900%, Top-5 Accuracy: 93.4000%, Time consumed:8.44s\n",
      "\n",
      "완료! 최고 테스트 top-1 정확도: 76.79%, 최고 테스트 top-5 정확도: 93.73%\n",
      "최종 테스트 top-1 정확도: 76.79%, 최종 테스트 top-5 정확도: 93.40%\n",
      "전체 학습 시간: 9176.94 초\n"
     ]
    },
    {
     "data": {
      "text/html": [],
      "text/plain": [
       "<IPython.core.display.HTML object>"
      ]
     },
     "metadata": {},
     "output_type": "display_data"
    },
    {
     "data": {
      "text/html": [
       "<br>    <style><br>        .wandb-row {<br>            display: flex;<br>            flex-direction: row;<br>            flex-wrap: wrap;<br>            justify-content: flex-start;<br>            width: 100%;<br>        }<br>        .wandb-col {<br>            display: flex;<br>            flex-direction: column;<br>            flex-basis: 100%;<br>            flex: 1;<br>            padding: 10px;<br>        }<br>    </style><br><div class=\"wandb-row\"><div class=\"wandb-col\"><h3>Run history:</h3><br/><table class=\"wandb\"><tr><td>epoch</td><td>▁▁▁▂▂▃▃▃▃▃▃▄▄▄▄▅▅▅▅▅▅▆▆▆▆▆▆▆▆▇▇▇▇▇▇█████</td></tr><tr><td>learning_rate</td><td>▅█████████▄▄▂▁▁▁▁▁▁▁▁▁▁▁▁▁▁▁▁▁▁▁▁▁▁▁▁▁▁▁</td></tr><tr><td>test_accuracy_top1</td><td>▁▄▄▆▆▆▇▇▇▇▇▇▇▇██████████████████████████</td></tr><tr><td>test_accuracy_top5</td><td>▁▆▇▇▇▇▇▇▇▇▇▇▇███████████████████████████</td></tr><tr><td>test_loss</td><td>█▆▄▄▃▃▃▄▃▃▂▁▂▁▁▁▁▁▁▁▁▁▁▁▁▁▁▁▁▁▁▁▁▁▁▁▁▁▁▁</td></tr><tr><td>total_training_time</td><td>▁</td></tr><tr><td>train_accuracy_top1</td><td>▁▂▅▅▆▆▆▆▆▇▇▇█▇█▇████████████████████████</td></tr><tr><td>train_accuracy_top5</td><td>▁▂▄▅▅▆▆▇▆▆▇▇▇▇▇██▇██████████████████████</td></tr><tr><td>train_loss</td><td>█▇▇▆▅▅▄▄▃▃▃▂▃▂▂▂▂▁▁▂▁▁▁▂▁▁▁▁▁▁▁▁▁▁▁▁▁▁▁▁</td></tr></table><br/></div><div class=\"wandb-col\"><h3>Run summary:</h3><br/><table class=\"wandb\"><tr><td>best_epoch</td><td>132</td></tr><tr><td>best_test_accuracy_top1</td><td>76.79</td></tr><tr><td>best_test_accuracy_top5</td><td>93.73</td></tr><tr><td>early_stopped</td><td>True</td></tr><tr><td>early_stopped_epoch</td><td>162</td></tr><tr><td>epoch</td><td>162</td></tr><tr><td>final_test_accuracy_top1</td><td>76.79</td></tr><tr><td>final_test_accuracy_top5</td><td>93.4</td></tr><tr><td>learning_rate</td><td>0.0</td></tr><tr><td>test_accuracy_top1</td><td>76.58</td></tr><tr><td>test_accuracy_top5</td><td>93.44</td></tr><tr><td>test_loss</td><td>0.93044</td></tr><tr><td>total_training_time</td><td>9176.94201</td></tr><tr><td>train_accuracy_top1</td><td>88.368</td></tr><tr><td>train_accuracy_top5</td><td>96.902</td></tr><tr><td>train_loss</td><td>0.8694</td></tr></table><br/></div></div>"
      ],
      "text/plain": [
       "<IPython.core.display.HTML object>"
      ]
     },
     "metadata": {},
     "output_type": "display_data"
    },
    {
     "data": {
      "text/html": [
       " View run <strong style=\"color:#cdcd00\">resnet18_cfc,lr=0.01,factor=0.5_standard</strong> at: <a href='https://wandb.ai/sokjh1310-hanyang-university/PBL-2/runs/7f3asw35' target=\"_blank\">https://wandb.ai/sokjh1310-hanyang-university/PBL-2/runs/7f3asw35</a><br> View project at: <a href='https://wandb.ai/sokjh1310-hanyang-university/PBL-2' target=\"_blank\">https://wandb.ai/sokjh1310-hanyang-university/PBL-2</a><br>Synced 5 W&B file(s), 0 media file(s), 0 artifact file(s) and 1 other file(s)"
      ],
      "text/plain": [
       "<IPython.core.display.HTML object>"
      ]
     },
     "metadata": {},
     "output_type": "display_data"
    },
    {
     "data": {
      "text/html": [
       "Find logs at: <code>./wandb/run-20250417_154051-7f3asw35/logs</code>"
      ],
      "text/plain": [
       "<IPython.core.display.HTML object>"
      ]
     },
     "metadata": {},
     "output_type": "display_data"
    }
   ],
   "source": [
    "import torch\n",
    "import torch.nn as nn\n",
    "import torch.optim as optim\n",
    "from torch.utils.data import DataLoader\n",
    "import torchvision\n",
    "import torchvision.transforms as transforms\n",
    "import torchvision.transforms.v2 as transforms_v2  # CutMix를 위한 v2 transforms 추가\n",
    "import sys\n",
    "import os\n",
    "import time\n",
    "import random\n",
    "import numpy as np\n",
    "import wandb\n",
    "from sam import SAM\n",
    "from tqdm import tqdm\n",
    "from tools.tool import AccuracyEarlyStopping, WarmUpLR  # 수정된 AccuracyEarlyStopping 클래스 임포트\n",
    "from models.resnet import resnet18\n",
    "\n",
    "wandb.login(key=\"ef091b9abcea3186341ddf8995d62bde62d7469e\")\n",
    "wandb.init(project=\"PBL-2\", name=\"resnet18_cfc,lr=0.01,factor=0.5_standard\")  \n",
    "\n",
    "# WandB 설정\n",
    "config = {\n",
    "    \"model\": \"resnet18\",\n",
    "    \"batch_size\": 128,\n",
    "    \"num_epochs\": 300,\n",
    "    \"learning_rate\": 0.01,\n",
    "    \"optimizer\": \"Adam\",\n",
    "    \"seed\": 2025,\n",
    "    \"deterministic\": False,\n",
    "    \"patience\": 30,  # early stopping patience\n",
    "    \"max_epochs_wait\": float('inf'),  # 최대 30 에폭까지만 기다림\n",
    "    \"cutmix_alpha\": 1.0,  # CutMix 알파 파라미터 추가\n",
    "    \"cutmix_prob\": 0.5,   # CutMix 적용 확률 추가\n",
    "    \"crop_padding\": 4,    # RandomCrop 패딩 크기\n",
    "    \"crop_size\": 32,      # RandomCrop 크기 (CIFAR-100 이미지 크기는 32x32)\n",
    "    \"warmup_epochs\": 5,   # 웜업할 에폭 수 추가\n",
    "}\n",
    "wandb.config.update(config)\n",
    "\n",
    "# CIFAR-100 데이터셋 로드 - 기본 train/test 분할 사용\n",
    "transform_train = transforms.Compose([\n",
    "    transforms.RandomCrop(config[\"crop_size\"], padding=config[\"crop_padding\"]),  # 패딩 후 랜덤 크롭\n",
    "    transforms.RandomHorizontalFlip(),  # 수평 뒤집기\n",
    "    transforms.ToTensor(),\n",
    "    transforms.Normalize((0.5071, 0.4867, 0.4408), (0.2675, 0.2565, 0.2761)),\n",
    "])\n",
    "\n",
    "transform_test = transforms.Compose([\n",
    "    transforms.ToTensor(),\n",
    "    transforms.Normalize((0.5071, 0.4867, 0.4408), (0.2675, 0.2565, 0.2761)),\n",
    "])\n",
    "\n",
    "trainset = torchvision.datasets.CIFAR100(\n",
    "    root='./data', train=True, download=True, transform=transform_train)\n",
    "\n",
    "testset = torchvision.datasets.CIFAR100(\n",
    "    root='./data', train=False, download=True, transform=transform_test)\n",
    "\n",
    "# DataLoader 생성\n",
    "trainloader = DataLoader(trainset, batch_size=config[\"batch_size\"], shuffle=True, num_workers=16)\n",
    "testloader = DataLoader(testset, batch_size=config[\"batch_size\"], shuffle=False, num_workers=16)\n",
    "\n",
    "print(f\"Train set size: {len(trainset)}\")\n",
    "print(f\"Test set size: {len(testset)}\")\n",
    "\n",
    "# CutMix 변환 정의\n",
    "cutmix = transforms_v2.CutMix(alpha=config[\"cutmix_alpha\"], num_classes=100)  # CIFAR-100은 100개 클래스\n",
    "\n",
    "def train(model, trainloader, criterion, optimizer, device, epoch, warmup_scheduler=None, warmup_epochs=5):\n",
    "    \"\"\"\n",
    "    학습 함수 (CutMix 적용)\n",
    "    \"\"\"\n",
    "    model.train()   # 모델을 학습 모드로 설정\n",
    "    start_time = time.time()  # 시간 측정 시작\n",
    "    running_loss = 0.0\n",
    "    correct_top1 = 0\n",
    "    correct_top5 = 0\n",
    "    total = 0\n",
    "    \n",
    "    for i, (inputs, labels) in enumerate(trainloader):\n",
    "        inputs, labels = inputs.to(device), labels.to(device)\n",
    "        \n",
    "        # CutMix 확률적 적용\n",
    "        if random.random() < config[\"cutmix_prob\"]:\n",
    "            inputs, labels = cutmix(inputs, labels)\n",
    "            # 이 경우 labels은 원-핫 인코딩 형태로 변환됨\n",
    "            use_cutmix = True\n",
    "        else:\n",
    "            use_cutmix = False\n",
    "        \n",
    "        optimizer.zero_grad()\n",
    "        \n",
    "        outputs = model(inputs)\n",
    "        \n",
    "        # CutMix 적용 여부에 따라 손실 함수 선택\n",
    "        if use_cutmix:\n",
    "            # CutMix가 적용된 경우 (원-핫 인코딩된 레이블)\n",
    "            loss = torch.nn.functional.cross_entropy(outputs, labels)\n",
    "        else:\n",
    "            # 일반적인 경우 (정수 인덱스 레이블)\n",
    "            loss = criterion(outputs, labels)\n",
    "            \n",
    "        loss.backward()\n",
    "        optimizer.step()\n",
    "\n",
    "        # 학습률 스케줄러 업데이트 - warmup 스케줄러만 여기서 업데이트\n",
    "        if epoch < warmup_epochs and warmup_scheduler is not None:\n",
    "            warmup_scheduler.step()\n",
    "        \n",
    "        running_loss += loss.item()\n",
    "        \n",
    "        # 정확도 계산 - CutMix 적용 여부에 따라 다르게 처리\n",
    "        if use_cutmix:\n",
    "            # 원-핫 인코딩된 레이블에서 argmax를 사용해 가장 큰 값의 인덱스 추출\n",
    "            _, label_idx = labels.max(1)\n",
    "        else:\n",
    "            # 정수 인덱스 레이블 그대로 사용\n",
    "            label_idx = labels\n",
    "            \n",
    "        # top-1 정확도 계산\n",
    "        _, predicted = outputs.max(1)\n",
    "        total += inputs.size(0)\n",
    "        correct_top1 += predicted.eq(label_idx).sum().item()\n",
    "        \n",
    "        # top-5 정확도 계산\n",
    "        _, top5_idx = outputs.topk(5, 1, largest=True, sorted=True)\n",
    "        correct_top5 += sum([1 for i in range(len(label_idx)) if label_idx[i] in top5_idx[i]])\n",
    "        \n",
    "        if (i + 1) % 50 == 0:  # 50 배치마다 출력\n",
    "            print(f'Epoch [{epoch+1}], Batch [{i+1}/{len(trainloader)}], Loss: {loss.item():.4f}, LR: {optimizer.param_groups[0][\"lr\"]:.6f}')\n",
    "    \n",
    "    epoch_loss = running_loss / len(trainloader)\n",
    "    accuracy_top1 = 100.0 * correct_top1 / total\n",
    "    accuracy_top5 = 100.0 * correct_top5 / total\n",
    "    \n",
    "    train_time = time.time() - start_time\n",
    "    \n",
    "    # 학습 세트에 대한 성능 출력\n",
    "    print(f'Train set: Epoch: {epoch+1}, Average loss:{epoch_loss:.4f}, LR: {optimizer.param_groups[0][\"lr\"]:.6f} '\n",
    "          f'Top-1 Accuracy: {accuracy_top1:.4f}%, Top-5 Accuracy: {accuracy_top5:.4f}%, Time consumed:{train_time:.2f}s')\n",
    "    \n",
    "    return epoch_loss, accuracy_top1, accuracy_top5\n",
    "\n",
    "def evaluate(model, dataloader, criterion, device, epoch, phase=\"test\"):\n",
    "    \"\"\"\n",
    "    평가 함수\n",
    "    \"\"\"\n",
    "    model.eval()  # 모델을 평가 모드로 설정\n",
    "    start_time = time.time()  # 시간 측정 시작\n",
    "    \n",
    "    eval_loss = 0.0\n",
    "    correct_top1 = 0\n",
    "    correct_top5 = 0\n",
    "    total = 0\n",
    "    \n",
    "    # 그래디언트 계산 비활성화\n",
    "    with torch.no_grad():\n",
    "        for inputs, labels in dataloader:\n",
    "            inputs, labels = inputs.to(device), labels.to(device)\n",
    "            \n",
    "            # 순전파\n",
    "            outputs = model(inputs)\n",
    "            \n",
    "            # 손실 계산\n",
    "            loss = criterion(outputs, labels)\n",
    "            eval_loss += loss.item()\n",
    "            \n",
    "            # top-1 정확도 계산\n",
    "            _, predicted = outputs.max(1)\n",
    "            total += labels.size(0)\n",
    "            correct_top1 += (predicted == labels).sum().item()\n",
    "            \n",
    "            # top-5 정확도 계산\n",
    "            _, top5_idx = outputs.topk(5, 1, largest=True, sorted=True)\n",
    "            correct_top5 += top5_idx.eq(labels.view(-1, 1).expand_as(top5_idx)).sum().item()\n",
    "    \n",
    "    # 평균 손실 및 정확도 계산\n",
    "    eval_loss = eval_loss / len(dataloader)\n",
    "    accuracy_top1 = 100.0 * correct_top1 / total\n",
    "    accuracy_top5 = 100.0 * correct_top5 / total\n",
    "    \n",
    "    # 평가 시간 계산\n",
    "    eval_time = time.time() - start_time\n",
    "    \n",
    "    # 테스트 세트에 대한 성능 출력\n",
    "    print(f'{phase.capitalize()} set: Epoch: {epoch+1}, Average loss:{eval_loss:.4f}, '\n",
    "          f'Top-1 Accuracy: {accuracy_top1:.4f}%, Top-5 Accuracy: {accuracy_top5:.4f}%, Time consumed:{eval_time:.2f}s')\n",
    "    print()\n",
    "    \n",
    "    return eval_loss, accuracy_top1, accuracy_top5\n",
    "\n",
    "# 메인 학습 루프\n",
    "def main_training_loop(model, trainloader, testloader, criterion, optimizer, device, num_epochs, patience, max_epochs_wait, warmup_scheduler=None, main_scheduler=None, warmup_epochs=5):\n",
    "    \"\"\"\n",
    "    메인 학습 루프 (accuracy 기준 early stopping)\n",
    "    \"\"\"\n",
    "    # 정확도 기반 얼리 스토핑 사용\n",
    "    early_stopping = AccuracyEarlyStopping(patience=patience, verbose=True, path='checkpoint.pt', max_epochs=max_epochs_wait)\n",
    "    \n",
    "    best_test_acc_top1 = 0.0\n",
    "    best_test_acc_top5 = 0.0\n",
    "    \n",
    "    # 테스트 정확도 기록을 위한 리스트\n",
    "    test_acc_top1_history = []\n",
    "    \n",
    "    # tqdm을 사용한 진행 상황 표시\n",
    "    for epoch in tqdm(range(num_epochs)):\n",
    "        # 학습\n",
    "        train_loss, train_acc_top1, train_acc_top5 = train(\n",
    "            model, \n",
    "            trainloader, \n",
    "            criterion, \n",
    "            optimizer, \n",
    "            device, \n",
    "            epoch, \n",
    "            warmup_scheduler, \n",
    "            warmup_epochs\n",
    "        )\n",
    "        \n",
    "        # 테스트 데이터로 평가\n",
    "        test_loss, test_acc_top1, test_acc_top5 = evaluate(model, testloader, criterion, device, epoch, phase=\"test\")\n",
    "\n",
    "        # 웜업 이후 ReduceLROnPlateau 스케줄러 업데이트 \n",
    "        if epoch >= warmup_epochs and main_scheduler is not None:\n",
    "            main_scheduler.step(test_acc_top1)  # 테스트 정확도에 따라 학습률 업데이트       \n",
    "            \n",
    "        # 테스트 정확도 기록\n",
    "        test_acc_top1_history.append(test_acc_top1)\n",
    "        \n",
    "        # WandB에 로깅\n",
    "        wandb.log({\n",
    "            \"epoch\": epoch + 1,\n",
    "            \"learning_rate\": optimizer.param_groups[0]['lr'],\n",
    "            \"train_loss\": train_loss,\n",
    "            \"train_accuracy_top1\": train_acc_top1,\n",
    "            \"train_accuracy_top5\": train_acc_top5,\n",
    "            \"test_loss\": test_loss,\n",
    "            \"test_accuracy_top1\": test_acc_top1,\n",
    "            \"test_accuracy_top5\": test_acc_top5\n",
    "        })\n",
    "            \n",
    "        # 최고 정확도 모델 저장 (top-1 기준)\n",
    "        if test_acc_top1 > best_test_acc_top1:\n",
    "            best_test_acc_top1 = test_acc_top1\n",
    "            best_test_acc_top5_at_best_top1 = test_acc_top5\n",
    "            print(f'새로운 최고 top-1 정확도: {best_test_acc_top1:.2f}%, top-5 정확도: {best_test_acc_top5_at_best_top1:.2f}%')\n",
    "            # 모델 저장\n",
    "            model_path = f'best_model_{wandb.run.name}.pth'\n",
    "            torch.save(model.state_dict(), model_path)\n",
    "            \n",
    "            # WandB에 모델 아티팩트 저장\n",
    "            wandb.save(model_path)\n",
    "        \n",
    "        # top-5 accuracy 기록 업데이트\n",
    "        if test_acc_top5 > best_test_acc_top5:\n",
    "            best_test_acc_top5 = test_acc_top5\n",
    "            print(f'새로운 최고 top-5 정확도: {best_test_acc_top5:.2f}%')\n",
    "\n",
    "        # Early stopping 체크 (test_acc_top1 기준)\n",
    "        early_stopping(test_acc_top1, model, epoch)\n",
    "        if early_stopping.early_stop:\n",
    "            print(f\"에폭 {epoch+1}에서 학습 조기 종료. 최고 성능 에폭: {early_stopping.best_epoch+1}\")\n",
    "            break\n",
    "    \n",
    "    # 훈련 완료 후 최고 모델 로드\n",
    "    print(\"테스트 정확도 기준 최고 모델 로드 중...\")\n",
    "    model_path = f'best_model_{wandb.run.name}.pth'\n",
    "    model.load_state_dict(torch.load(model_path))\n",
    "\n",
    "    # 최종 테스트 세트 평가\n",
    "    final_test_loss, final_test_acc_top1, final_test_acc_top5 = evaluate(model, testloader, criterion, device, num_epochs-1, phase=\"test\")\n",
    "    \n",
    "    print(f'완료! 최고 테스트 top-1 정확도: {best_test_acc_top1:.2f}%, 최고 테스트 top-5 정확도: {best_test_acc_top5:.2f}%')\n",
    "    print(f'최종 테스트 top-1 정확도: {final_test_acc_top1:.2f}%, 최종 테스트 top-5 정확도: {final_test_acc_top5:.2f}%')\n",
    "    \n",
    "    # WandB에 최종 결과 기록\n",
    "    wandb.run.summary[\"best_test_accuracy_top1\"] = best_test_acc_top1\n",
    "    wandb.run.summary[\"best_test_accuracy_top5\"] = best_test_acc_top5\n",
    "    wandb.run.summary[\"final_test_accuracy_top1\"] = final_test_acc_top1\n",
    "    wandb.run.summary[\"final_test_accuracy_top5\"] = final_test_acc_top5\n",
    "\n",
    "    # Early stopping 정보 저장\n",
    "    if early_stopping.early_stop:\n",
    "        wandb.run.summary[\"early_stopped\"] = True\n",
    "        wandb.run.summary[\"early_stopped_epoch\"] = epoch+1\n",
    "        wandb.run.summary[\"best_epoch\"] = early_stopping.best_epoch+1\n",
    "    else:\n",
    "        wandb.run.summary[\"early_stopped\"] = False\n",
    "\n",
    "\n",
    "# 디바이스 설정\n",
    "device = torch.device(\"cuda\" if torch.cuda.is_available() else \"cpu\")\n",
    "print(f\"Using device: {device}\")\n",
    "\n",
    "# 모델 초기화\n",
    "# 또는 매개변수 커스터마이징\n",
    "model = resnet18().to(device)\n",
    "criterion = nn.CrossEntropyLoss()  # 기본 CrossEntropyLoss 사용 (라벨 스무딩 없음)\n",
    "best_optimizer = optim.Adam\n",
    "optimizer = SAM(model.parameters(), best_optimizer, lr=config[\"learning_rate\"])  # 옵티마이저 정의\n",
    "\n",
    "# WarmUpLR 스케줄러 초기화\n",
    "# 웜업할 총 iteration 수 계산 (웜업 에폭 × 배치 수)\n",
    "warmup_steps = config[\"warmup_epochs\"] * len(trainloader)\n",
    "warmup_scheduler = WarmUpLR(optimizer, total_iters=warmup_steps)\n",
    "\n",
    "# 웜업 이후 사용할 스케줄러 설정 \n",
    "main_scheduler = torch.optim.lr_scheduler.ReduceLROnPlateau(\n",
    "    optimizer, \n",
    "    mode='max',           # 정확도를 모니터링하므로 'max' 모드 사용\n",
    "    factor=0.5,           # 학습률 감소 비율 (5배 감소)\n",
    "    patience=5,           # 몇 에폭 동안 개선이 없을 때 감소시킬지\n",
    "    verbose=True,         # 학습률 변경 시 출력\n",
    "    threshold=0.01,        # 개선으로 간주할 최소 변화량\n",
    "    min_lr=1e-6\n",
    ")\n",
    "\n",
    "# WandB에 모델 구조 기록\n",
    "wandb.watch(model, log=\"all\")\n",
    "\n",
    "# GPU 가속\n",
    "if torch.cuda.device_count() > 1:\n",
    "    print(f\"{torch.cuda.device_count()}개의 GPU를 사용합니다.\")\n",
    "    model = nn.DataParallel(model)\n",
    "\n",
    "# 훈련 시작 시간 기록\n",
    "start_time = time.time()\n",
    "\n",
    "# 메인 학습 루프 호출\n",
    "main_training_loop(\n",
    "    model=model,\n",
    "    trainloader=trainloader,\n",
    "    testloader=testloader,\n",
    "    criterion=criterion,\n",
    "    optimizer=optimizer,\n",
    "    device=device,\n",
    "    num_epochs=config[\"num_epochs\"],\n",
    "    patience=config[\"patience\"],\n",
    "    max_epochs_wait=config[\"max_epochs_wait\"],\n",
    "    warmup_scheduler=warmup_scheduler,\n",
    "    main_scheduler=main_scheduler,\n",
    "    warmup_epochs=config[\"warmup_epochs\"]\n",
    ")\n",
    "\n",
    "# 훈련 종료 시간 기록 및 출력\n",
    "end_time = time.time()\n",
    "total_time = end_time - start_time\n",
    "wandb.log({\"total_training_time\": total_time})\n",
    "\n",
    "print(f\"전체 학습 시간: {total_time:.2f} 초\")\n",
    "\n",
    "# WandB 실행 종료\n",
    "wandb.finish()"
   ]
  },
  {
   "cell_type": "code",
   "execution_count": null,
   "id": "e57b9218-aa24-4297-bb92-473c215e6767",
   "metadata": {},
   "outputs": [],
   "source": []
  }
 ],
 "metadata": {
  "kernelspec": {
   "display_name": "Python 3 (ipykernel)",
   "language": "python",
   "name": "python3"
  },
  "language_info": {
   "codemirror_mode": {
    "name": "ipython",
    "version": 3
   },
   "file_extension": ".py",
   "mimetype": "text/x-python",
   "name": "python",
   "nbconvert_exporter": "python",
   "pygments_lexer": "ipython3",
   "version": "3.11.9"
  }
 },
 "nbformat": 4,
 "nbformat_minor": 5
}
