{
 "cells": [
  {
   "cell_type": "code",
   "execution_count": 2,
   "id": "516f9d5f-6361-4b03-98ee-e1ba4de86b92",
   "metadata": {},
   "outputs": [
    {
     "name": "stderr",
     "output_type": "stream",
     "text": [
      "\u001b[34m\u001b[1mwandb\u001b[0m: \u001b[33mWARNING\u001b[0m If you're specifying your api key in code, ensure this code is not shared publicly.\n",
      "\u001b[34m\u001b[1mwandb\u001b[0m: \u001b[33mWARNING\u001b[0m Consider setting the WANDB_API_KEY environment variable, or running `wandb login` from the command line.\n",
      "\u001b[34m\u001b[1mwandb\u001b[0m: Appending key for api.wandb.ai to your netrc file: /home/guswls/.netrc\n"
     ]
    },
    {
     "data": {
      "text/html": [
       "Tracking run with wandb version 0.19.9"
      ],
      "text/plain": [
       "<IPython.core.display.HTML object>"
      ]
     },
     "metadata": {},
     "output_type": "display_data"
    },
    {
     "data": {
      "text/html": [
       "Run data is saved locally in <code>/home/guswls/EEN4015_Intro2ML/pbl-2/wandb/run-20250413_063128-8t3spgxs</code>"
      ],
      "text/plain": [
       "<IPython.core.display.HTML object>"
      ]
     },
     "metadata": {},
     "output_type": "display_data"
    },
    {
     "data": {
      "text/html": [
       "Syncing run <strong><a href='https://wandb.ai/sokjh1310-hanyang-university/PBL-2/runs/8t3spgxs' target=\"_blank\">resnet18_cutmix,flip,crop</a></strong> to <a href='https://wandb.ai/sokjh1310-hanyang-university/PBL-2' target=\"_blank\">Weights & Biases</a> (<a href='https://wandb.me/developer-guide' target=\"_blank\">docs</a>)<br>"
      ],
      "text/plain": [
       "<IPython.core.display.HTML object>"
      ]
     },
     "metadata": {},
     "output_type": "display_data"
    },
    {
     "data": {
      "text/html": [
       " View project at <a href='https://wandb.ai/sokjh1310-hanyang-university/PBL-2' target=\"_blank\">https://wandb.ai/sokjh1310-hanyang-university/PBL-2</a>"
      ],
      "text/plain": [
       "<IPython.core.display.HTML object>"
      ]
     },
     "metadata": {},
     "output_type": "display_data"
    },
    {
     "data": {
      "text/html": [
       " View run at <a href='https://wandb.ai/sokjh1310-hanyang-university/PBL-2/runs/8t3spgxs' target=\"_blank\">https://wandb.ai/sokjh1310-hanyang-university/PBL-2/runs/8t3spgxs</a>"
      ],
      "text/plain": [
       "<IPython.core.display.HTML object>"
      ]
     },
     "metadata": {},
     "output_type": "display_data"
    },
    {
     "name": "stdout",
     "output_type": "stream",
     "text": [
      "Files already downloaded and verified\n",
      "Files already downloaded and verified\n",
      "Train set size: 40000\n",
      "Validation set size: 5000\n",
      "Test set size: 5000\n",
      "Using device: cuda\n",
      "2개의 GPU를 사용합니다.\n"
     ]
    },
    {
     "name": "stderr",
     "output_type": "stream",
     "text": [
      "  0%|                                                                                                       | 0/100 [00:00<?, ?it/s]"
     ]
    },
    {
     "name": "stdout",
     "output_type": "stream",
     "text": [
      "Epoch [1], Batch [50/313], Loss: 4.5549\n",
      "Epoch [1], Batch [100/313], Loss: 4.3689\n",
      "Epoch [1], Batch [150/313], Loss: 3.8767\n",
      "Epoch [1], Batch [200/313], Loss: 3.6372\n",
      "Epoch [1], Batch [250/313], Loss: 4.2199\n",
      "Epoch [1], Batch [300/313], Loss: 3.9352\n",
      "Train set: Epoch: 1, Average loss:4.0706, LR: 0.001000 Top-1 Accuracy: 8.6050%, Top-5 Accuracy: 27.2875%, Time consumed:40.94s\n",
      "Val set: Epoch: 1, Average loss:3.6925, Top-1 Accuracy: 13.5400%, Top-5 Accuracy: 36.6600%, Time consumed:5.30s\n",
      "\n",
      "New best top-1 accuracy: 13.54%, top-5 accuracy: 36.66%\n",
      "New best top-5 accuracy: 36.66%\n",
      "Validation loss decreased (inf --> 3.692495). Saving model ...\n"
     ]
    },
    {
     "name": "stderr",
     "output_type": "stream",
     "text": [
      "  1%|▉                                                                                            | 1/100 [00:46<1:16:45, 46.52s/it]"
     ]
    },
    {
     "name": "stdout",
     "output_type": "stream",
     "text": [
      "Epoch [2], Batch [50/313], Loss: 3.3276\n",
      "Epoch [2], Batch [100/313], Loss: 3.2379\n",
      "Epoch [2], Batch [150/313], Loss: 3.9324\n",
      "Epoch [2], Batch [200/313], Loss: 3.3654\n",
      "Epoch [2], Batch [250/313], Loss: 3.9435\n",
      "Epoch [2], Batch [300/313], Loss: 3.2532\n",
      "Train set: Epoch: 2, Average loss:3.5921, LR: 0.001000 Top-1 Accuracy: 16.5950%, Top-5 Accuracy: 43.1500%, Time consumed:38.60s\n",
      "Val set: Epoch: 2, Average loss:3.1101, Top-1 Accuracy: 22.4400%, Top-5 Accuracy: 52.1400%, Time consumed:4.75s\n",
      "\n",
      "New best top-1 accuracy: 22.44%, top-5 accuracy: 52.14%\n",
      "New best top-5 accuracy: 52.14%\n",
      "Validation loss decreased (3.692495 --> 3.110076). Saving model ...\n"
     ]
    },
    {
     "name": "stderr",
     "output_type": "stream",
     "text": [
      "  2%|█▊                                                                                           | 2/100 [01:30<1:13:10, 44.80s/it]"
     ]
    },
    {
     "name": "stdout",
     "output_type": "stream",
     "text": [
      "Epoch [3], Batch [50/313], Loss: 2.8297\n",
      "Epoch [3], Batch [100/313], Loss: 3.0819\n",
      "Epoch [3], Batch [150/313], Loss: 4.1452\n",
      "Epoch [3], Batch [200/313], Loss: 3.9023\n",
      "Epoch [3], Batch [250/313], Loss: 3.6972\n",
      "Epoch [3], Batch [300/313], Loss: 4.0619\n",
      "Train set: Epoch: 3, Average loss:3.3039, LR: 0.001000 Top-1 Accuracy: 22.8100%, Top-5 Accuracy: 51.8450%, Time consumed:38.47s\n",
      "Val set: Epoch: 3, Average loss:2.7385, Top-1 Accuracy: 29.8000%, Top-5 Accuracy: 61.9200%, Time consumed:4.59s\n",
      "\n",
      "New best top-1 accuracy: 29.80%, top-5 accuracy: 61.92%\n",
      "New best top-5 accuracy: 61.92%\n",
      "Validation loss decreased (3.110076 --> 2.738476). Saving model ...\n"
     ]
    },
    {
     "name": "stderr",
     "output_type": "stream",
     "text": [
      "  3%|██▊                                                                                          | 3/100 [02:13<1:11:20, 44.12s/it]"
     ]
    },
    {
     "name": "stdout",
     "output_type": "stream",
     "text": [
      "Epoch [4], Batch [50/313], Loss: 3.9945\n",
      "Epoch [4], Batch [100/313], Loss: 2.6100\n",
      "Epoch [4], Batch [150/313], Loss: 3.0427\n",
      "Epoch [4], Batch [200/313], Loss: 2.5708\n",
      "Epoch [4], Batch [250/313], Loss: 3.2918\n",
      "Epoch [4], Batch [300/313], Loss: 2.7110\n",
      "Train set: Epoch: 4, Average loss:3.0151, LR: 0.001000 Top-1 Accuracy: 28.9550%, Top-5 Accuracy: 59.5850%, Time consumed:38.14s\n",
      "Val set: Epoch: 4, Average loss:2.4631, Top-1 Accuracy: 34.9400%, Top-5 Accuracy: 68.7800%, Time consumed:5.07s\n",
      "\n",
      "New best top-1 accuracy: 34.94%, top-5 accuracy: 68.78%\n",
      "New best top-5 accuracy: 68.78%\n",
      "Validation loss decreased (2.738476 --> 2.463128). Saving model ...\n"
     ]
    },
    {
     "name": "stderr",
     "output_type": "stream",
     "text": [
      "  4%|███▋                                                                                         | 4/100 [02:56<1:10:11, 43.87s/it]"
     ]
    },
    {
     "name": "stdout",
     "output_type": "stream",
     "text": [
      "Epoch [5], Batch [50/313], Loss: 3.8681\n",
      "Epoch [5], Batch [100/313], Loss: 2.0747\n",
      "Epoch [5], Batch [150/313], Loss: 2.3634\n",
      "Epoch [5], Batch [200/313], Loss: 2.1508\n",
      "Epoch [5], Batch [250/313], Loss: 3.7938\n",
      "Epoch [5], Batch [300/313], Loss: 2.1664\n",
      "Train set: Epoch: 5, Average loss:2.8429, LR: 0.001000 Top-1 Accuracy: 33.2550%, Top-5 Accuracy: 63.9175%, Time consumed:37.98s\n"
     ]
    },
    {
     "name": "stderr",
     "output_type": "stream",
     "text": [
      "  5%|████▋                                                                                        | 5/100 [03:40<1:09:03, 43.62s/it]"
     ]
    },
    {
     "name": "stdout",
     "output_type": "stream",
     "text": [
      "Val set: Epoch: 5, Average loss:2.4796, Top-1 Accuracy: 35.9200%, Top-5 Accuracy: 68.5200%, Time consumed:5.05s\n",
      "\n",
      "New best top-1 accuracy: 35.92%, top-5 accuracy: 68.52%\n",
      "EarlyStopping 카운터: 1 / 10\n",
      "Epoch [6], Batch [50/313], Loss: 2.1134\n",
      "Epoch [6], Batch [100/313], Loss: 2.1826\n",
      "Epoch [6], Batch [150/313], Loss: 3.5285\n",
      "Epoch [6], Batch [200/313], Loss: 3.6183\n",
      "Epoch [6], Batch [250/313], Loss: 1.9135\n",
      "Epoch [6], Batch [300/313], Loss: 2.1374\n",
      "Train set: Epoch: 6, Average loss:2.6818, LR: 0.001000 Top-1 Accuracy: 37.6225%, Top-5 Accuracy: 68.2950%, Time consumed:39.70s\n",
      "Val set: Epoch: 6, Average loss:2.1333, Top-1 Accuracy: 43.0800%, Top-5 Accuracy: 75.8600%, Time consumed:4.53s\n",
      "\n",
      "New best top-1 accuracy: 43.08%, top-5 accuracy: 75.86%\n",
      "New best top-5 accuracy: 75.86%\n",
      "Validation loss decreased (2.463128 --> 2.133310). Saving model ...\n"
     ]
    },
    {
     "name": "stderr",
     "output_type": "stream",
     "text": [
      "  6%|█████▌                                                                                       | 6/100 [04:24<1:08:47, 43.91s/it]"
     ]
    },
    {
     "name": "stdout",
     "output_type": "stream",
     "text": [
      "Epoch [7], Batch [50/313], Loss: 1.9794\n",
      "Epoch [7], Batch [100/313], Loss: 1.8915\n",
      "Epoch [7], Batch [150/313], Loss: 3.7360\n",
      "Epoch [7], Batch [200/313], Loss: 3.4403\n",
      "Epoch [7], Batch [250/313], Loss: 1.9056\n",
      "Epoch [7], Batch [300/313], Loss: 1.9158\n",
      "Train set: Epoch: 7, Average loss:2.4469, LR: 0.001000 Top-1 Accuracy: 42.1950%, Top-5 Accuracy: 73.0125%, Time consumed:38.30s\n",
      "Val set: Epoch: 7, Average loss:2.0057, Top-1 Accuracy: 46.6800%, Top-5 Accuracy: 77.6200%, Time consumed:4.49s\n",
      "\n",
      "New best top-1 accuracy: 46.68%, top-5 accuracy: 77.62%\n",
      "New best top-5 accuracy: 77.62%\n",
      "Validation loss decreased (2.133310 --> 2.005678). Saving model ...\n"
     ]
    },
    {
     "name": "stderr",
     "output_type": "stream",
     "text": [
      "  7%|██████▌                                                                                      | 7/100 [05:07<1:07:37, 43.62s/it]"
     ]
    },
    {
     "name": "stdout",
     "output_type": "stream",
     "text": [
      "Epoch [8], Batch [50/313], Loss: 1.8385\n",
      "Epoch [8], Batch [100/313], Loss: 1.5907\n",
      "Epoch [8], Batch [150/313], Loss: 1.6728\n",
      "Epoch [8], Batch [200/313], Loss: 1.6971\n",
      "Epoch [8], Batch [250/313], Loss: 3.3971\n",
      "Epoch [8], Batch [300/313], Loss: 1.8321\n",
      "Train set: Epoch: 8, Average loss:2.4188, LR: 0.001000 Top-1 Accuracy: 44.3550%, Top-5 Accuracy: 74.2400%, Time consumed:37.34s\n",
      "Val set: Epoch: 8, Average loss:1.9796, Top-1 Accuracy: 47.4200%, Top-5 Accuracy: 78.0600%, Time consumed:4.44s\n",
      "\n",
      "New best top-1 accuracy: 47.42%, top-5 accuracy: 78.06%\n",
      "New best top-5 accuracy: 78.06%\n",
      "Validation loss decreased (2.005678 --> 1.979605). Saving model ...\n"
     ]
    },
    {
     "name": "stderr",
     "output_type": "stream",
     "text": [
      "  8%|███████▍                                                                                     | 8/100 [05:49<1:06:06, 43.12s/it]"
     ]
    },
    {
     "name": "stdout",
     "output_type": "stream",
     "text": [
      "Epoch [9], Batch [50/313], Loss: 1.7228\n",
      "Epoch [9], Batch [100/313], Loss: 3.6805\n",
      "Epoch [9], Batch [150/313], Loss: 3.6174\n",
      "Epoch [9], Batch [200/313], Loss: 1.8745\n",
      "Epoch [9], Batch [250/313], Loss: 3.6042\n",
      "Epoch [9], Batch [300/313], Loss: 3.4950\n",
      "Train set: Epoch: 9, Average loss:2.3657, LR: 0.001000 Top-1 Accuracy: 46.1625%, Top-5 Accuracy: 75.6675%, Time consumed:40.49s\n",
      "Val set: Epoch: 9, Average loss:1.8076, Top-1 Accuracy: 51.7000%, Top-5 Accuracy: 81.4000%, Time consumed:4.64s\n",
      "\n",
      "New best top-1 accuracy: 51.70%, top-5 accuracy: 81.40%\n",
      "New best top-5 accuracy: 81.40%\n",
      "Validation loss decreased (1.979605 --> 1.807562). Saving model ...\n"
     ]
    },
    {
     "name": "stderr",
     "output_type": "stream",
     "text": [
      "  9%|████████▎                                                                                    | 9/100 [06:35<1:06:29, 43.84s/it]"
     ]
    },
    {
     "name": "stdout",
     "output_type": "stream",
     "text": [
      "Epoch [10], Batch [50/313], Loss: 1.5165\n",
      "Epoch [10], Batch [100/313], Loss: 1.3572\n",
      "Epoch [10], Batch [150/313], Loss: 3.4744\n",
      "Epoch [10], Batch [200/313], Loss: 1.6772\n",
      "Epoch [10], Batch [250/313], Loss: 2.2198\n",
      "Epoch [10], Batch [300/313], Loss: 1.4341\n",
      "Train set: Epoch: 10, Average loss:2.2045, LR: 0.001000 Top-1 Accuracy: 48.8600%, Top-5 Accuracy: 77.8475%, Time consumed:38.10s\n",
      "Val set: Epoch: 10, Average loss:1.7277, Top-1 Accuracy: 53.4800%, Top-5 Accuracy: 83.3200%, Time consumed:4.61s\n",
      "\n",
      "New best top-1 accuracy: 53.48%, top-5 accuracy: 83.32%\n",
      "New best top-5 accuracy: 83.32%\n",
      "Validation loss decreased (1.807562 --> 1.727651). Saving model ...\n"
     ]
    },
    {
     "name": "stderr",
     "output_type": "stream",
     "text": [
      " 10%|█████████▏                                                                                  | 10/100 [07:17<1:05:20, 43.56s/it]"
     ]
    },
    {
     "name": "stdout",
     "output_type": "stream",
     "text": [
      "Epoch [11], Batch [50/313], Loss: 3.3875\n",
      "Epoch [11], Batch [100/313], Loss: 1.2630\n",
      "Epoch [11], Batch [150/313], Loss: 1.2639\n",
      "Epoch [11], Batch [200/313], Loss: 1.4021\n",
      "Epoch [11], Batch [250/313], Loss: 3.1130\n",
      "Epoch [11], Batch [300/313], Loss: 1.0989\n",
      "Train set: Epoch: 11, Average loss:2.0813, LR: 0.001000 Top-1 Accuracy: 52.1525%, Top-5 Accuracy: 79.9375%, Time consumed:37.11s\n",
      "Val set: Epoch: 11, Average loss:1.5957, Top-1 Accuracy: 55.7000%, Top-5 Accuracy: 85.2000%, Time consumed:4.52s\n",
      "\n",
      "New best top-1 accuracy: 55.70%, top-5 accuracy: 85.20%\n",
      "New best top-5 accuracy: 85.20%\n",
      "Validation loss decreased (1.727651 --> 1.595677). Saving model ...\n"
     ]
    },
    {
     "name": "stderr",
     "output_type": "stream",
     "text": [
      " 11%|██████████                                                                                  | 11/100 [07:59<1:03:50, 43.04s/it]"
     ]
    },
    {
     "name": "stdout",
     "output_type": "stream",
     "text": [
      "Epoch [12], Batch [50/313], Loss: 1.3091\n",
      "Epoch [12], Batch [100/313], Loss: 3.0453\n",
      "Epoch [12], Batch [150/313], Loss: 3.0473\n",
      "Epoch [12], Batch [200/313], Loss: 1.3944\n",
      "Epoch [12], Batch [250/313], Loss: 1.4944\n",
      "Epoch [12], Batch [300/313], Loss: 2.0035\n",
      "Train set: Epoch: 12, Average loss:2.0453, LR: 0.001000 Top-1 Accuracy: 53.7950%, Top-5 Accuracy: 81.0750%, Time consumed:37.58s\n"
     ]
    },
    {
     "name": "stderr",
     "output_type": "stream",
     "text": [
      " 12%|███████████                                                                                 | 12/100 [08:42<1:02:45, 42.79s/it]"
     ]
    },
    {
     "name": "stdout",
     "output_type": "stream",
     "text": [
      "Val set: Epoch: 12, Average loss:1.6064, Top-1 Accuracy: 56.6800%, Top-5 Accuracy: 84.7600%, Time consumed:4.53s\n",
      "\n",
      "New best top-1 accuracy: 56.68%, top-5 accuracy: 84.76%\n",
      "EarlyStopping 카운터: 1 / 10\n",
      "Epoch [13], Batch [50/313], Loss: 3.2555\n",
      "Epoch [13], Batch [100/313], Loss: 1.0539\n",
      "Epoch [13], Batch [150/313], Loss: 1.8331\n",
      "Epoch [13], Batch [200/313], Loss: 1.1667\n",
      "Epoch [13], Batch [250/313], Loss: 1.2977\n",
      "Epoch [13], Batch [300/313], Loss: 3.4165\n",
      "Train set: Epoch: 13, Average loss:2.0314, LR: 0.001000 Top-1 Accuracy: 55.2525%, Top-5 Accuracy: 81.7600%, Time consumed:37.20s\n",
      "Val set: Epoch: 13, Average loss:1.5283, Top-1 Accuracy: 58.0000%, Top-5 Accuracy: 86.4000%, Time consumed:5.02s\n",
      "\n",
      "New best top-1 accuracy: 58.00%, top-5 accuracy: 86.40%\n",
      "New best top-5 accuracy: 86.40%\n",
      "Validation loss decreased (1.595677 --> 1.528298). Saving model ...\n"
     ]
    },
    {
     "name": "stderr",
     "output_type": "stream",
     "text": [
      " 13%|███████████▉                                                                                | 13/100 [09:24<1:01:54, 42.70s/it]"
     ]
    },
    {
     "name": "stdout",
     "output_type": "stream",
     "text": [
      "Epoch [14], Batch [50/313], Loss: 1.0940\n",
      "Epoch [14], Batch [100/313], Loss: 2.7598\n",
      "Epoch [14], Batch [150/313], Loss: 3.3068\n",
      "Epoch [14], Batch [200/313], Loss: 1.0345\n",
      "Epoch [14], Batch [250/313], Loss: 1.1538\n",
      "Epoch [14], Batch [300/313], Loss: 1.1070\n",
      "Train set: Epoch: 14, Average loss:2.0003, LR: 0.001000 Top-1 Accuracy: 56.3250%, Top-5 Accuracy: 82.6850%, Time consumed:37.45s\n"
     ]
    },
    {
     "name": "stderr",
     "output_type": "stream",
     "text": [
      " 14%|████████████▉                                                                               | 14/100 [10:06<1:01:00, 42.56s/it]"
     ]
    },
    {
     "name": "stdout",
     "output_type": "stream",
     "text": [
      "Val set: Epoch: 14, Average loss:1.5549, Top-1 Accuracy: 58.0400%, Top-5 Accuracy: 85.8400%, Time consumed:4.67s\n",
      "\n",
      "New best top-1 accuracy: 58.04%, top-5 accuracy: 85.84%\n",
      "EarlyStopping 카운터: 1 / 10\n",
      "Epoch [15], Batch [50/313], Loss: 2.7294\n",
      "Epoch [15], Batch [100/313], Loss: 0.9728\n",
      "Epoch [15], Batch [150/313], Loss: 0.9450\n",
      "Epoch [15], Batch [200/313], Loss: 3.1442\n",
      "Epoch [15], Batch [250/313], Loss: 1.1933\n",
      "Epoch [15], Batch [300/313], Loss: 2.3219\n",
      "Train set: Epoch: 15, Average loss:1.9086, LR: 0.001000 Top-1 Accuracy: 57.9700%, Top-5 Accuracy: 84.0725%, Time consumed:37.76s\n",
      "Val set: Epoch: 15, Average loss:1.4979, Top-1 Accuracy: 60.5400%, Top-5 Accuracy: 86.0800%, Time consumed:4.85s\n",
      "\n",
      "New best top-1 accuracy: 60.54%, top-5 accuracy: 86.08%\n",
      "Validation loss decreased (1.528298 --> 1.497854). Saving model ...\n"
     ]
    },
    {
     "name": "stderr",
     "output_type": "stream",
     "text": [
      " 15%|█████████████▊                                                                              | 15/100 [10:49<1:00:25, 42.65s/it]"
     ]
    },
    {
     "name": "stdout",
     "output_type": "stream",
     "text": [
      "Epoch [16], Batch [50/313], Loss: 1.4302\n",
      "Epoch [16], Batch [100/313], Loss: 2.2574\n",
      "Epoch [16], Batch [150/313], Loss: 1.1706\n",
      "Epoch [16], Batch [200/313], Loss: 1.0851\n",
      "Epoch [16], Batch [250/313], Loss: 1.1140\n",
      "Epoch [16], Batch [300/313], Loss: 2.8054\n",
      "Train set: Epoch: 16, Average loss:1.6963, LR: 0.001000 Top-1 Accuracy: 62.0575%, Top-5 Accuracy: 86.4475%, Time consumed:38.16s\n",
      "Val set: Epoch: 16, Average loss:1.3982, Top-1 Accuracy: 61.5800%, Top-5 Accuracy: 88.2000%, Time consumed:5.47s\n",
      "\n",
      "New best top-1 accuracy: 61.58%, top-5 accuracy: 88.20%\n",
      "New best top-5 accuracy: 88.20%\n",
      "Validation loss decreased (1.497854 --> 1.398243). Saving model ...\n"
     ]
    },
    {
     "name": "stderr",
     "output_type": "stream",
     "text": [
      " 16%|██████████████▋                                                                             | 16/100 [11:33<1:00:14, 43.03s/it]"
     ]
    },
    {
     "name": "stdout",
     "output_type": "stream",
     "text": [
      "Epoch [17], Batch [50/313], Loss: 1.6099\n",
      "Epoch [17], Batch [100/313], Loss: 2.8811\n",
      "Epoch [17], Batch [150/313], Loss: 0.7974\n",
      "Epoch [17], Batch [200/313], Loss: 1.9889\n",
      "Epoch [17], Batch [250/313], Loss: 0.9769\n",
      "Epoch [17], Batch [300/313], Loss: 3.0245\n",
      "Train set: Epoch: 17, Average loss:1.7663, LR: 0.001000 Top-1 Accuracy: 61.4750%, Top-5 Accuracy: 86.0125%, Time consumed:40.38s\n",
      "Val set: Epoch: 17, Average loss:1.3691, Top-1 Accuracy: 62.4600%, Top-5 Accuracy: 88.6200%, Time consumed:4.92s\n",
      "\n",
      "New best top-1 accuracy: 62.46%, top-5 accuracy: 88.62%\n",
      "New best top-5 accuracy: 88.62%\n",
      "Validation loss decreased (1.398243 --> 1.369108). Saving model ...\n"
     ]
    },
    {
     "name": "stderr",
     "output_type": "stream",
     "text": [
      " 17%|███████████████▋                                                                            | 17/100 [12:19<1:00:34, 43.79s/it]"
     ]
    },
    {
     "name": "stdout",
     "output_type": "stream",
     "text": [
      "Epoch [18], Batch [50/313], Loss: 3.3591\n",
      "Epoch [18], Batch [100/313], Loss: 2.1981\n",
      "Epoch [18], Batch [150/313], Loss: 3.1936\n",
      "Epoch [18], Batch [200/313], Loss: 3.1972\n",
      "Epoch [18], Batch [250/313], Loss: 0.8577\n",
      "Epoch [18], Batch [300/313], Loss: 1.6909\n",
      "Train set: Epoch: 18, Average loss:1.7459, LR: 0.001000 Top-1 Accuracy: 62.6200%, Top-5 Accuracy: 86.7025%, Time consumed:38.90s\n",
      "Val set: Epoch: 18, Average loss:1.3277, Top-1 Accuracy: 63.6000%, Top-5 Accuracy: 88.8200%, Time consumed:5.15s\n",
      "\n",
      "New best top-1 accuracy: 63.60%, top-5 accuracy: 88.82%\n",
      "New best top-5 accuracy: 88.82%\n",
      "Validation loss decreased (1.369108 --> 1.327727). Saving model ...\n"
     ]
    },
    {
     "name": "stderr",
     "output_type": "stream",
     "text": [
      " 18%|████████████████▌                                                                           | 18/100 [13:03<1:00:03, 43.94s/it]"
     ]
    },
    {
     "name": "stdout",
     "output_type": "stream",
     "text": [
      "Epoch [19], Batch [50/313], Loss: 0.6526\n",
      "Epoch [19], Batch [100/313], Loss: 3.5720\n",
      "Epoch [19], Batch [150/313], Loss: 1.1723\n",
      "Epoch [19], Batch [200/313], Loss: 0.8610\n",
      "Epoch [19], Batch [250/313], Loss: 0.8312\n",
      "Epoch [19], Batch [300/313], Loss: 1.3839\n",
      "Train set: Epoch: 19, Average loss:1.7786, LR: 0.001000 Top-1 Accuracy: 62.2150%, Top-5 Accuracy: 85.9100%, Time consumed:38.84s\n"
     ]
    },
    {
     "name": "stderr",
     "output_type": "stream",
     "text": [
      " 19%|█████████████████▊                                                                            | 19/100 [13:47<59:13, 43.87s/it]"
     ]
    },
    {
     "name": "stdout",
     "output_type": "stream",
     "text": [
      "Val set: Epoch: 19, Average loss:1.3535, Top-1 Accuracy: 63.4200%, Top-5 Accuracy: 89.0800%, Time consumed:4.86s\n",
      "\n",
      "New best top-5 accuracy: 89.08%\n",
      "EarlyStopping 카운터: 1 / 10\n",
      "Epoch [20], Batch [50/313], Loss: 3.1537\n",
      "Epoch [20], Batch [100/313], Loss: 2.9127\n",
      "Epoch [20], Batch [150/313], Loss: 0.6729\n",
      "Epoch [20], Batch [200/313], Loss: 2.1767\n",
      "Epoch [20], Batch [250/313], Loss: 1.7998\n",
      "Epoch [20], Batch [300/313], Loss: 3.2167\n",
      "Train set: Epoch: 20, Average loss:1.6778, LR: 0.001000 Top-1 Accuracy: 64.7550%, Top-5 Accuracy: 87.4400%, Time consumed:40.31s\n"
     ]
    },
    {
     "name": "stderr",
     "output_type": "stream",
     "text": [
      " 20%|██████████████████▊                                                                           | 20/100 [14:32<58:57, 44.22s/it]"
     ]
    },
    {
     "name": "stdout",
     "output_type": "stream",
     "text": [
      "Val set: Epoch: 20, Average loss:1.3574, Top-1 Accuracy: 63.6400%, Top-5 Accuracy: 88.6000%, Time consumed:4.62s\n",
      "\n",
      "New best top-1 accuracy: 63.64%, top-5 accuracy: 88.60%\n",
      "EarlyStopping 카운터: 2 / 10\n",
      "Epoch [21], Batch [50/313], Loss: 0.6470\n",
      "Epoch [21], Batch [100/313], Loss: 3.2926\n",
      "Epoch [21], Batch [150/313], Loss: 0.7680\n",
      "Epoch [21], Batch [200/313], Loss: 0.6067\n",
      "Epoch [21], Batch [250/313], Loss: 0.8374\n",
      "Epoch [21], Batch [300/313], Loss: 2.6580\n",
      "Train set: Epoch: 21, Average loss:1.6283, LR: 0.001000 Top-1 Accuracy: 65.5250%, Top-5 Accuracy: 87.8750%, Time consumed:40.77s\n",
      "Val set: Epoch: 21, Average loss:1.2832, Top-1 Accuracy: 65.0600%, Top-5 Accuracy: 89.4000%, Time consumed:5.18s\n",
      "\n",
      "New best top-1 accuracy: 65.06%, top-5 accuracy: 89.40%\n",
      "New best top-5 accuracy: 89.40%\n",
      "Validation loss decreased (1.327727 --> 1.283182). Saving model ...\n"
     ]
    },
    {
     "name": "stderr",
     "output_type": "stream",
     "text": [
      " 21%|███████████████████▋                                                                          | 21/100 [15:18<59:00, 44.81s/it]"
     ]
    },
    {
     "name": "stdout",
     "output_type": "stream",
     "text": [
      "Epoch [22], Batch [50/313], Loss: 0.6491\n",
      "Epoch [22], Batch [100/313], Loss: 3.1435\n",
      "Epoch [22], Batch [150/313], Loss: 2.9454\n",
      "Epoch [22], Batch [200/313], Loss: 0.7492\n",
      "Epoch [22], Batch [250/313], Loss: 3.2234\n",
      "Epoch [22], Batch [300/313], Loss: 1.9060\n",
      "Train set: Epoch: 22, Average loss:1.5783, LR: 0.001000 Top-1 Accuracy: 66.6050%, Top-5 Accuracy: 88.4650%, Time consumed:38.56s\n"
     ]
    },
    {
     "name": "stderr",
     "output_type": "stream",
     "text": [
      " 22%|████████████████████▋                                                                         | 22/100 [16:01<57:34, 44.29s/it]"
     ]
    },
    {
     "name": "stdout",
     "output_type": "stream",
     "text": [
      "Val set: Epoch: 22, Average loss:1.2899, Top-1 Accuracy: 65.0400%, Top-5 Accuracy: 89.4800%, Time consumed:4.51s\n",
      "\n",
      "New best top-5 accuracy: 89.48%\n",
      "EarlyStopping 카운터: 1 / 10\n",
      "Epoch [23], Batch [50/313], Loss: 2.9895\n",
      "Epoch [23], Batch [100/313], Loss: 0.6061\n",
      "Epoch [23], Batch [150/313], Loss: 3.1074\n",
      "Epoch [23], Batch [200/313], Loss: 2.9862\n",
      "Epoch [23], Batch [250/313], Loss: 2.7709\n",
      "Epoch [23], Batch [300/313], Loss: 2.9630\n",
      "Train set: Epoch: 23, Average loss:1.5455, LR: 0.001000 Top-1 Accuracy: 67.8900%, Top-5 Accuracy: 88.7200%, Time consumed:41.59s\n",
      "Val set: Epoch: 23, Average loss:1.2644, Top-1 Accuracy: 65.8600%, Top-5 Accuracy: 89.5400%, Time consumed:4.95s\n",
      "\n",
      "New best top-1 accuracy: 65.86%, top-5 accuracy: 89.54%\n",
      "New best top-5 accuracy: 89.54%\n",
      "Validation loss decreased (1.283182 --> 1.264355). Saving model ...\n"
     ]
    },
    {
     "name": "stderr",
     "output_type": "stream",
     "text": [
      " 23%|█████████████████████▌                                                                        | 23/100 [16:48<57:47, 45.04s/it]"
     ]
    },
    {
     "name": "stdout",
     "output_type": "stream",
     "text": [
      "Epoch [24], Batch [50/313], Loss: 2.7433\n",
      "Epoch [24], Batch [100/313], Loss: 3.0460\n",
      "Epoch [24], Batch [150/313], Loss: 0.5658\n",
      "Epoch [24], Batch [200/313], Loss: 3.1705\n",
      "Epoch [24], Batch [250/313], Loss: 0.4468\n",
      "Epoch [24], Batch [300/313], Loss: 2.8055\n",
      "Train set: Epoch: 24, Average loss:1.5513, LR: 0.001000 Top-1 Accuracy: 68.9525%, Top-5 Accuracy: 89.7250%, Time consumed:41.23s\n",
      "Val set: Epoch: 24, Average loss:1.2554, Top-1 Accuracy: 66.4400%, Top-5 Accuracy: 89.7600%, Time consumed:4.66s\n",
      "\n",
      "New best top-1 accuracy: 66.44%, top-5 accuracy: 89.76%\n",
      "New best top-5 accuracy: 89.76%\n",
      "Validation loss decreased (1.264355 --> 1.255422). Saving model ...\n"
     ]
    },
    {
     "name": "stderr",
     "output_type": "stream",
     "text": [
      " 24%|██████████████████████▌                                                                       | 24/100 [17:34<57:27, 45.36s/it]"
     ]
    },
    {
     "name": "stdout",
     "output_type": "stream",
     "text": [
      "Epoch [25], Batch [50/313], Loss: 2.3412\n",
      "Epoch [25], Batch [100/313], Loss: 1.6867\n",
      "Epoch [25], Batch [150/313], Loss: 2.4386\n",
      "Epoch [25], Batch [200/313], Loss: 1.2459\n",
      "Epoch [25], Batch [250/313], Loss: 0.5368\n",
      "Epoch [25], Batch [300/313], Loss: 2.0703\n",
      "Train set: Epoch: 25, Average loss:1.4609, LR: 0.001000 Top-1 Accuracy: 69.6825%, Top-5 Accuracy: 89.4050%, Time consumed:37.47s\n"
     ]
    },
    {
     "name": "stderr",
     "output_type": "stream",
     "text": [
      " 25%|███████████████████████▌                                                                      | 25/100 [18:16<55:30, 44.41s/it]"
     ]
    },
    {
     "name": "stdout",
     "output_type": "stream",
     "text": [
      "Val set: Epoch: 25, Average loss:1.2581, Top-1 Accuracy: 66.0200%, Top-5 Accuracy: 89.4800%, Time consumed:4.70s\n",
      "\n",
      "EarlyStopping 카운터: 1 / 10\n",
      "Epoch [26], Batch [50/313], Loss: 0.3823\n",
      "Epoch [26], Batch [100/313], Loss: 0.6407\n",
      "Epoch [26], Batch [150/313], Loss: 1.2224\n",
      "Epoch [26], Batch [200/313], Loss: 0.5060\n",
      "Epoch [26], Batch [250/313], Loss: 0.5352\n",
      "Epoch [26], Batch [300/313], Loss: 0.4949\n",
      "Train set: Epoch: 26, Average loss:1.4249, LR: 0.001000 Top-1 Accuracy: 71.2675%, Top-5 Accuracy: 90.8300%, Time consumed:37.15s\n"
     ]
    },
    {
     "name": "stderr",
     "output_type": "stream",
     "text": [
      " 26%|████████████████████████▍                                                                     | 26/100 [18:58<53:48, 43.63s/it]"
     ]
    },
    {
     "name": "stdout",
     "output_type": "stream",
     "text": [
      "Val set: Epoch: 26, Average loss:1.2463, Top-1 Accuracy: 66.0000%, Top-5 Accuracy: 89.3800%, Time consumed:4.55s\n",
      "\n",
      "Validation loss decreased (1.255422 --> 1.246296). Saving model ...\n",
      "Epoch [27], Batch [50/313], Loss: 2.4664\n",
      "Epoch [27], Batch [100/313], Loss: 0.5423\n",
      "Epoch [27], Batch [150/313], Loss: 2.2528\n",
      "Epoch [27], Batch [200/313], Loss: 0.4705\n",
      "Epoch [27], Batch [250/313], Loss: 0.5654\n",
      "Epoch [27], Batch [300/313], Loss: 0.4743\n",
      "Train set: Epoch: 27, Average loss:1.4077, LR: 0.001000 Top-1 Accuracy: 72.0950%, Top-5 Accuracy: 90.7625%, Time consumed:39.37s\n"
     ]
    },
    {
     "name": "stderr",
     "output_type": "stream",
     "text": [
      " 27%|█████████████████████████▍                                                                    | 27/100 [19:42<53:18, 43.81s/it]"
     ]
    },
    {
     "name": "stdout",
     "output_type": "stream",
     "text": [
      "Val set: Epoch: 27, Average loss:1.2308, Top-1 Accuracy: 66.2400%, Top-5 Accuracy: 89.7600%, Time consumed:4.72s\n",
      "\n",
      "Validation loss decreased (1.246296 --> 1.230830). Saving model ...\n",
      "Epoch [28], Batch [50/313], Loss: 0.4387\n",
      "Epoch [28], Batch [100/313], Loss: 0.4493\n",
      "Epoch [28], Batch [150/313], Loss: 2.7452\n",
      "Epoch [28], Batch [200/313], Loss: 0.4502\n",
      "Epoch [28], Batch [250/313], Loss: 0.5467\n",
      "Epoch [28], Batch [300/313], Loss: 0.4463\n",
      "Train set: Epoch: 28, Average loss:1.4319, LR: 0.001000 Top-1 Accuracy: 71.7375%, Top-5 Accuracy: 90.6600%, Time consumed:38.16s\n",
      "Val set: Epoch: 28, Average loss:1.2293, Top-1 Accuracy: 66.6000%, Top-5 Accuracy: 89.9200%, Time consumed:4.84s\n",
      "\n",
      "New best top-1 accuracy: 66.60%, top-5 accuracy: 89.92%\n",
      "New best top-5 accuracy: 89.92%\n",
      "Validation loss decreased (1.230830 --> 1.229332). Saving model ...\n"
     ]
    },
    {
     "name": "stderr",
     "output_type": "stream",
     "text": [
      " 28%|██████████████████████████▎                                                                   | 28/100 [20:25<52:22, 43.65s/it]"
     ]
    },
    {
     "name": "stdout",
     "output_type": "stream",
     "text": [
      "Epoch [29], Batch [50/313], Loss: 0.3549\n",
      "Epoch [29], Batch [100/313], Loss: 0.4794\n",
      "Epoch [29], Batch [150/313], Loss: 0.3299\n",
      "Epoch [29], Batch [200/313], Loss: 1.8990\n",
      "Epoch [29], Batch [250/313], Loss: 2.4797\n",
      "Epoch [29], Batch [300/313], Loss: 0.3977\n",
      "Train set: Epoch: 29, Average loss:1.3056, LR: 0.001000 Top-1 Accuracy: 74.7775%, Top-5 Accuracy: 92.2550%, Time consumed:40.42s\n"
     ]
    },
    {
     "name": "stderr",
     "output_type": "stream",
     "text": [
      " 29%|███████████████████████████▎                                                                  | 29/100 [21:11<52:15, 44.16s/it]"
     ]
    },
    {
     "name": "stdout",
     "output_type": "stream",
     "text": [
      "Val set: Epoch: 29, Average loss:1.2731, Top-1 Accuracy: 66.4400%, Top-5 Accuracy: 89.8600%, Time consumed:4.94s\n",
      "\n",
      "EarlyStopping 카운터: 1 / 10\n",
      "Epoch [30], Batch [50/313], Loss: 2.9112\n",
      "Epoch [30], Batch [100/313], Loss: 0.3654\n",
      "Epoch [30], Batch [150/313], Loss: 0.3874\n",
      "Epoch [30], Batch [200/313], Loss: 2.6026\n",
      "Epoch [30], Batch [250/313], Loss: 2.9395\n",
      "Epoch [30], Batch [300/313], Loss: 1.5130\n",
      "Train set: Epoch: 30, Average loss:1.5162, LR: 0.001000 Top-1 Accuracy: 70.7050%, Top-5 Accuracy: 89.5825%, Time consumed:40.20s\n",
      "Val set: Epoch: 30, Average loss:1.1989, Top-1 Accuracy: 68.2000%, Top-5 Accuracy: 90.4200%, Time consumed:4.60s\n",
      "\n",
      "New best top-1 accuracy: 68.20%, top-5 accuracy: 90.42%\n",
      "New best top-5 accuracy: 90.42%\n",
      "Validation loss decreased (1.229332 --> 1.198939). Saving model ...\n"
     ]
    },
    {
     "name": "stderr",
     "output_type": "stream",
     "text": [
      " 30%|████████████████████████████▏                                                                 | 30/100 [21:56<51:50, 44.43s/it]"
     ]
    },
    {
     "name": "stdout",
     "output_type": "stream",
     "text": [
      "Epoch [31], Batch [50/313], Loss: 2.4696\n",
      "Epoch [31], Batch [100/313], Loss: 2.9257\n",
      "Epoch [31], Batch [150/313], Loss: 0.4178\n",
      "Epoch [31], Batch [200/313], Loss: 1.6848\n",
      "Epoch [31], Batch [250/313], Loss: 0.4165\n",
      "Epoch [31], Batch [300/313], Loss: 0.4324\n",
      "Train set: Epoch: 31, Average loss:1.3247, LR: 0.001000 Top-1 Accuracy: 74.3425%, Top-5 Accuracy: 91.2975%, Time consumed:39.90s\n"
     ]
    },
    {
     "name": "stderr",
     "output_type": "stream",
     "text": [
      " 31%|█████████████████████████████▏                                                                | 31/100 [22:41<51:19, 44.63s/it]"
     ]
    },
    {
     "name": "stdout",
     "output_type": "stream",
     "text": [
      "Val set: Epoch: 31, Average loss:1.1890, Top-1 Accuracy: 67.9200%, Top-5 Accuracy: 90.3600%, Time consumed:5.06s\n",
      "\n",
      "Validation loss decreased (1.198939 --> 1.188990). Saving model ...\n",
      "Epoch [32], Batch [50/313], Loss: 0.3124\n",
      "Epoch [32], Batch [100/313], Loss: 0.3108\n",
      "Epoch [32], Batch [150/313], Loss: 0.4155\n",
      "Epoch [32], Batch [200/313], Loss: 3.0189\n",
      "Epoch [32], Batch [250/313], Loss: 0.3446\n",
      "Epoch [32], Batch [300/313], Loss: 2.5621\n",
      "Train set: Epoch: 32, Average loss:1.2699, LR: 0.001000 Top-1 Accuracy: 75.3525%, Top-5 Accuracy: 91.9550%, Time consumed:40.38s\n"
     ]
    },
    {
     "name": "stderr",
     "output_type": "stream",
     "text": [
      " 32%|██████████████████████████████                                                                | 32/100 [23:26<50:53, 44.90s/it]"
     ]
    },
    {
     "name": "stdout",
     "output_type": "stream",
     "text": [
      "Val set: Epoch: 32, Average loss:1.2258, Top-1 Accuracy: 67.4200%, Top-5 Accuracy: 90.1200%, Time consumed:5.14s\n",
      "\n",
      "EarlyStopping 카운터: 1 / 10\n",
      "Epoch [33], Batch [50/313], Loss: 0.2616\n",
      "Epoch [33], Batch [100/313], Loss: 2.7847\n",
      "Epoch [33], Batch [150/313], Loss: 0.2819\n",
      "Epoch [33], Batch [200/313], Loss: 0.4402\n",
      "Epoch [33], Batch [250/313], Loss: 0.3098\n",
      "Epoch [33], Batch [300/313], Loss: 0.3521\n",
      "Train set: Epoch: 33, Average loss:1.2329, LR: 0.001000 Top-1 Accuracy: 75.8425%, Top-5 Accuracy: 91.9475%, Time consumed:41.46s\n"
     ]
    },
    {
     "name": "stderr",
     "output_type": "stream",
     "text": [
      " 33%|███████████████████████████████                                                               | 33/100 [24:13<50:46, 45.47s/it]"
     ]
    },
    {
     "name": "stdout",
     "output_type": "stream",
     "text": [
      "Val set: Epoch: 33, Average loss:1.1757, Top-1 Accuracy: 67.9800%, Top-5 Accuracy: 90.5200%, Time consumed:5.23s\n",
      "\n",
      "New best top-5 accuracy: 90.52%\n",
      "Validation loss decreased (1.188990 --> 1.175737). Saving model ...\n",
      "Epoch [34], Batch [50/313], Loss: 0.2665\n",
      "Epoch [34], Batch [100/313], Loss: 2.7183\n",
      "Epoch [34], Batch [150/313], Loss: 2.0624\n",
      "Epoch [34], Batch [200/313], Loss: 0.3115\n",
      "Epoch [34], Batch [250/313], Loss: 1.1131\n",
      "Epoch [34], Batch [300/313], Loss: 0.2721\n",
      "Train set: Epoch: 34, Average loss:1.2799, LR: 0.001000 Top-1 Accuracy: 74.9450%, Top-5 Accuracy: 91.4250%, Time consumed:40.10s\n"
     ]
    },
    {
     "name": "stderr",
     "output_type": "stream",
     "text": [
      " 34%|███████████████████████████████▉                                                              | 34/100 [24:59<50:04, 45.52s/it]"
     ]
    },
    {
     "name": "stdout",
     "output_type": "stream",
     "text": [
      "Val set: Epoch: 34, Average loss:1.1974, Top-1 Accuracy: 67.2200%, Top-5 Accuracy: 90.1200%, Time consumed:5.53s\n",
      "\n",
      "EarlyStopping 카운터: 1 / 10\n",
      "Epoch [35], Batch [50/313], Loss: 2.8845\n",
      "Epoch [35], Batch [100/313], Loss: 0.2250\n",
      "Epoch [35], Batch [150/313], Loss: 2.4661\n",
      "Epoch [35], Batch [200/313], Loss: 0.2344\n",
      "Epoch [35], Batch [250/313], Loss: 2.9355\n",
      "Epoch [35], Batch [300/313], Loss: 0.9705\n",
      "Train set: Epoch: 35, Average loss:1.1935, LR: 0.001000 Top-1 Accuracy: 77.5950%, Top-5 Accuracy: 92.7275%, Time consumed:40.39s\n"
     ]
    },
    {
     "name": "stderr",
     "output_type": "stream",
     "text": [
      " 35%|████████████████████████████████▉                                                             | 35/100 [25:45<49:23, 45.60s/it]"
     ]
    },
    {
     "name": "stdout",
     "output_type": "stream",
     "text": [
      "Val set: Epoch: 35, Average loss:1.1914, Top-1 Accuracy: 68.3200%, Top-5 Accuracy: 90.3600%, Time consumed:5.26s\n",
      "\n",
      "New best top-1 accuracy: 68.32%, top-5 accuracy: 90.36%\n",
      "EarlyStopping 카운터: 2 / 10\n",
      "Epoch [36], Batch [50/313], Loss: 3.0091\n",
      "Epoch [36], Batch [100/313], Loss: 0.2334\n",
      "Epoch [36], Batch [150/313], Loss: 1.0831\n",
      "Epoch [36], Batch [200/313], Loss: 0.2612\n",
      "Epoch [36], Batch [250/313], Loss: 2.9776\n",
      "Epoch [36], Batch [300/313], Loss: 0.1522\n",
      "Train set: Epoch: 36, Average loss:1.2381, LR: 0.001000 Top-1 Accuracy: 77.6825%, Top-5 Accuracy: 92.7550%, Time consumed:40.29s\n",
      "Val set: Epoch: 36, Average loss:1.1744, Top-1 Accuracy: 68.5400%, Top-5 Accuracy: 90.9000%, Time consumed:4.87s\n",
      "\n",
      "New best top-1 accuracy: 68.54%, top-5 accuracy: 90.90%\n",
      "New best top-5 accuracy: 90.90%\n",
      "Validation loss decreased (1.175737 --> 1.174421). Saving model ...\n"
     ]
    },
    {
     "name": "stderr",
     "output_type": "stream",
     "text": [
      " 36%|█████████████████████████████████▊                                                            | 36/100 [26:30<48:34, 45.54s/it]"
     ]
    },
    {
     "name": "stdout",
     "output_type": "stream",
     "text": [
      "Epoch [37], Batch [50/313], Loss: 0.2325\n",
      "Epoch [37], Batch [100/313], Loss: 2.6885\n",
      "Epoch [37], Batch [150/313], Loss: 0.2086\n",
      "Epoch [37], Batch [200/313], Loss: 0.3001\n",
      "Epoch [37], Batch [250/313], Loss: 0.3573\n",
      "Epoch [37], Batch [300/313], Loss: 1.5529\n",
      "Train set: Epoch: 37, Average loss:1.1665, LR: 0.001000 Top-1 Accuracy: 78.9950%, Top-5 Accuracy: 93.3575%, Time consumed:40.84s\n"
     ]
    },
    {
     "name": "stderr",
     "output_type": "stream",
     "text": [
      " 37%|██████████████████████████████████▊                                                           | 37/100 [27:16<47:53, 45.62s/it]"
     ]
    },
    {
     "name": "stdout",
     "output_type": "stream",
     "text": [
      "Val set: Epoch: 37, Average loss:1.1792, Top-1 Accuracy: 67.9200%, Top-5 Accuracy: 90.5600%, Time consumed:4.96s\n",
      "\n",
      "EarlyStopping 카운터: 1 / 10\n",
      "Epoch [38], Batch [50/313], Loss: 0.2841\n",
      "Epoch [38], Batch [100/313], Loss: 2.7312\n",
      "Epoch [38], Batch [150/313], Loss: 0.1883\n",
      "Epoch [38], Batch [200/313], Loss: 0.1658\n",
      "Epoch [38], Batch [250/313], Loss: 0.2228\n",
      "Epoch [38], Batch [300/313], Loss: 0.1311\n",
      "Train set: Epoch: 38, Average loss:1.1978, LR: 0.001000 Top-1 Accuracy: 78.0575%, Top-5 Accuracy: 92.8475%, Time consumed:39.49s\n",
      "Val set: Epoch: 38, Average loss:1.1732, Top-1 Accuracy: 69.1000%, Top-5 Accuracy: 90.5600%, Time consumed:5.08s\n",
      "\n",
      "New best top-1 accuracy: 69.10%, top-5 accuracy: 90.56%\n",
      "Validation loss decreased (1.174421 --> 1.173174). Saving model ...\n"
     ]
    },
    {
     "name": "stderr",
     "output_type": "stream",
     "text": [
      " 38%|███████████████████████████████████▋                                                          | 38/100 [28:01<46:53, 45.37s/it]"
     ]
    },
    {
     "name": "stdout",
     "output_type": "stream",
     "text": [
      "Epoch [39], Batch [50/313], Loss: 0.1844\n",
      "Epoch [39], Batch [100/313], Loss: 1.9516\n",
      "Epoch [39], Batch [150/313], Loss: 2.3047\n",
      "Epoch [39], Batch [200/313], Loss: 0.9140\n",
      "Epoch [39], Batch [250/313], Loss: 0.1232\n",
      "Epoch [39], Batch [300/313], Loss: 0.3097\n",
      "Train set: Epoch: 39, Average loss:1.2243, LR: 0.001000 Top-1 Accuracy: 78.1375%, Top-5 Accuracy: 93.0750%, Time consumed:38.93s\n"
     ]
    },
    {
     "name": "stderr",
     "output_type": "stream",
     "text": [
      " 39%|████████████████████████████████████▋                                                         | 39/100 [28:45<45:41, 44.94s/it]"
     ]
    },
    {
     "name": "stdout",
     "output_type": "stream",
     "text": [
      "Val set: Epoch: 39, Average loss:1.2563, Top-1 Accuracy: 67.1600%, Top-5 Accuracy: 89.4600%, Time consumed:4.97s\n",
      "\n",
      "EarlyStopping 카운터: 1 / 10\n",
      "Epoch [40], Batch [50/313], Loss: 3.0652\n",
      "Epoch [40], Batch [100/313], Loss: 2.5439\n",
      "Epoch [40], Batch [150/313], Loss: 2.4745\n",
      "Epoch [40], Batch [200/313], Loss: 2.7407\n",
      "Epoch [40], Batch [250/313], Loss: 2.6762\n",
      "Epoch [40], Batch [300/313], Loss: 0.1231\n",
      "Train set: Epoch: 40, Average loss:1.2171, LR: 0.001000 Top-1 Accuracy: 78.6475%, Top-5 Accuracy: 92.7925%, Time consumed:39.67s\n",
      "Val set: Epoch: 40, Average loss:1.1506, Top-1 Accuracy: 69.5400%, Top-5 Accuracy: 90.4400%, Time consumed:5.06s\n",
      "\n",
      "New best top-1 accuracy: 69.54%, top-5 accuracy: 90.44%\n",
      "Validation loss decreased (1.173174 --> 1.150611). Saving model ...\n"
     ]
    },
    {
     "name": "stderr",
     "output_type": "stream",
     "text": [
      " 40%|█████████████████████████████████████▌                                                        | 40/100 [29:30<44:57, 44.96s/it]"
     ]
    },
    {
     "name": "stdout",
     "output_type": "stream",
     "text": [
      "Epoch [41], Batch [50/313], Loss: 0.1215\n",
      "Epoch [41], Batch [100/313], Loss: 3.0056\n",
      "Epoch [41], Batch [150/313], Loss: 0.2596\n",
      "Epoch [41], Batch [200/313], Loss: 0.1580\n",
      "Epoch [41], Batch [250/313], Loss: 0.2679\n",
      "Epoch [41], Batch [300/313], Loss: 0.1422\n",
      "Train set: Epoch: 41, Average loss:1.1400, LR: 0.001000 Top-1 Accuracy: 79.3525%, Top-5 Accuracy: 93.0600%, Time consumed:38.57s\n"
     ]
    },
    {
     "name": "stderr",
     "output_type": "stream",
     "text": [
      " 41%|██████████████████████████████████████▌                                                       | 41/100 [30:13<43:52, 44.62s/it]"
     ]
    },
    {
     "name": "stdout",
     "output_type": "stream",
     "text": [
      "Val set: Epoch: 41, Average loss:1.2187, Top-1 Accuracy: 68.2600%, Top-5 Accuracy: 89.6400%, Time consumed:5.27s\n",
      "\n",
      "EarlyStopping 카운터: 1 / 10\n",
      "Epoch [42], Batch [50/313], Loss: 0.1569\n",
      "Epoch [42], Batch [100/313], Loss: 0.1761\n",
      "Epoch [42], Batch [150/313], Loss: 0.1981\n",
      "Epoch [42], Batch [200/313], Loss: 0.1005\n",
      "Epoch [42], Batch [250/313], Loss: 0.1215\n",
      "Epoch [42], Batch [300/313], Loss: 0.1793\n",
      "Train set: Epoch: 42, Average loss:1.0795, LR: 0.001000 Top-1 Accuracy: 80.8250%, Top-5 Accuracy: 94.0025%, Time consumed:41.74s\n"
     ]
    },
    {
     "name": "stderr",
     "output_type": "stream",
     "text": [
      " 42%|███████████████████████████████████████▍                                                      | 42/100 [31:00<43:43, 45.24s/it]"
     ]
    },
    {
     "name": "stdout",
     "output_type": "stream",
     "text": [
      "Val set: Epoch: 42, Average loss:1.1997, Top-1 Accuracy: 68.3200%, Top-5 Accuracy: 90.2000%, Time consumed:4.92s\n",
      "\n",
      "EarlyStopping 카운터: 2 / 10\n",
      "Epoch [43], Batch [50/313], Loss: 0.1424\n",
      "Epoch [43], Batch [100/313], Loss: 0.1784\n",
      "Epoch [43], Batch [150/313], Loss: 2.6850\n",
      "Epoch [43], Batch [200/313], Loss: 0.1238\n",
      "Epoch [43], Batch [250/313], Loss: 0.1418\n",
      "Epoch [43], Batch [300/313], Loss: 0.2143\n",
      "Train set: Epoch: 43, Average loss:1.1201, LR: 0.001000 Top-1 Accuracy: 80.1575%, Top-5 Accuracy: 93.2300%, Time consumed:39.12s\n"
     ]
    },
    {
     "name": "stderr",
     "output_type": "stream",
     "text": [
      " 43%|████████████████████████████████████████▍                                                     | 43/100 [31:44<42:37, 44.87s/it]"
     ]
    },
    {
     "name": "stdout",
     "output_type": "stream",
     "text": [
      "Val set: Epoch: 43, Average loss:1.2592, Top-1 Accuracy: 66.8800%, Top-5 Accuracy: 88.7400%, Time consumed:4.89s\n",
      "\n",
      "EarlyStopping 카운터: 3 / 10\n",
      "Epoch [44], Batch [50/313], Loss: 2.8781\n",
      "Epoch [44], Batch [100/313], Loss: 1.8285\n",
      "Epoch [44], Batch [150/313], Loss: 2.6891\n",
      "Epoch [44], Batch [200/313], Loss: 0.1997\n",
      "Epoch [44], Batch [250/313], Loss: 2.7997\n",
      "Epoch [44], Batch [300/313], Loss: 0.1240\n",
      "Train set: Epoch: 44, Average loss:1.1119, LR: 0.001000 Top-1 Accuracy: 79.7475%, Top-5 Accuracy: 93.0175%, Time consumed:38.97s\n"
     ]
    },
    {
     "name": "stderr",
     "output_type": "stream",
     "text": [
      " 44%|█████████████████████████████████████████▎                                                    | 44/100 [32:28<41:38, 44.61s/it]"
     ]
    },
    {
     "name": "stdout",
     "output_type": "stream",
     "text": [
      "Val set: Epoch: 44, Average loss:1.1652, Top-1 Accuracy: 69.3200%, Top-5 Accuracy: 90.5000%, Time consumed:5.03s\n",
      "\n",
      "EarlyStopping 카운터: 4 / 10\n",
      "Epoch [45], Batch [50/313], Loss: 2.7718\n",
      "Epoch [45], Batch [100/313], Loss: 1.7384\n",
      "Epoch [45], Batch [150/313], Loss: 0.0853\n",
      "Epoch [45], Batch [200/313], Loss: 3.0479\n",
      "Epoch [45], Batch [250/313], Loss: 0.1571\n",
      "Epoch [45], Batch [300/313], Loss: 2.5541\n",
      "Train set: Epoch: 45, Average loss:1.0990, LR: 0.001000 Top-1 Accuracy: 79.5725%, Top-5 Accuracy: 92.6975%, Time consumed:39.94s\n"
     ]
    },
    {
     "name": "stderr",
     "output_type": "stream",
     "text": [
      " 45%|██████████████████████████████████████████▎                                                   | 45/100 [33:13<41:00, 44.73s/it]"
     ]
    },
    {
     "name": "stdout",
     "output_type": "stream",
     "text": [
      "Val set: Epoch: 45, Average loss:1.1529, Top-1 Accuracy: 69.6000%, Top-5 Accuracy: 90.8200%, Time consumed:4.94s\n",
      "\n",
      "New best top-1 accuracy: 69.60%, top-5 accuracy: 90.82%\n",
      "EarlyStopping 카운터: 5 / 10\n",
      "Epoch [46], Batch [50/313], Loss: 2.0562\n",
      "Epoch [46], Batch [100/313], Loss: 2.7337\n",
      "Epoch [46], Batch [150/313], Loss: 2.9577\n",
      "Epoch [46], Batch [200/313], Loss: 0.1000\n",
      "Epoch [46], Batch [250/313], Loss: 0.1498\n",
      "Epoch [46], Batch [300/313], Loss: 0.7220\n",
      "Train set: Epoch: 46, Average loss:1.1762, LR: 0.001000 Top-1 Accuracy: 81.5125%, Top-5 Accuracy: 94.3275%, Time consumed:39.39s\n"
     ]
    },
    {
     "name": "stderr",
     "output_type": "stream",
     "text": [
      " 46%|███████████████████████████████████████████▏                                                  | 46/100 [33:57<40:10, 44.63s/it]"
     ]
    },
    {
     "name": "stdout",
     "output_type": "stream",
     "text": [
      "Val set: Epoch: 46, Average loss:1.1846, Top-1 Accuracy: 69.1600%, Top-5 Accuracy: 90.9600%, Time consumed:5.01s\n",
      "\n",
      "New best top-5 accuracy: 90.96%\n",
      "EarlyStopping 카운터: 6 / 10\n",
      "Epoch [47], Batch [50/313], Loss: 0.0927\n",
      "Epoch [47], Batch [100/313], Loss: 2.7180\n",
      "Epoch [47], Batch [150/313], Loss: 0.1416\n",
      "Epoch [47], Batch [200/313], Loss: 1.9873\n",
      "Epoch [47], Batch [250/313], Loss: 2.6092\n",
      "Epoch [47], Batch [300/313], Loss: 0.0995\n",
      "Train set: Epoch: 47, Average loss:1.0200, LR: 0.001000 Top-1 Accuracy: 82.4325%, Top-5 Accuracy: 94.3475%, Time consumed:38.68s\n"
     ]
    },
    {
     "name": "stderr",
     "output_type": "stream",
     "text": [
      " 47%|████████████████████████████████████████████▏                                                 | 47/100 [34:41<39:14, 44.43s/it]"
     ]
    },
    {
     "name": "stdout",
     "output_type": "stream",
     "text": [
      "Val set: Epoch: 47, Average loss:1.1747, Top-1 Accuracy: 69.1200%, Top-5 Accuracy: 90.4400%, Time consumed:5.26s\n",
      "\n",
      "EarlyStopping 카운터: 7 / 10\n",
      "Epoch [48], Batch [50/313], Loss: 1.7122\n",
      "Epoch [48], Batch [100/313], Loss: 2.3180\n",
      "Epoch [48], Batch [150/313], Loss: 0.1988\n",
      "Epoch [48], Batch [200/313], Loss: 2.5165\n",
      "Epoch [48], Batch [250/313], Loss: 3.1523\n",
      "Epoch [48], Batch [300/313], Loss: 2.3364\n",
      "Train set: Epoch: 48, Average loss:1.1149, LR: 0.001000 Top-1 Accuracy: 80.2725%, Top-5 Accuracy: 93.2325%, Time consumed:38.84s\n"
     ]
    },
    {
     "name": "stderr",
     "output_type": "stream",
     "text": [
      " 48%|█████████████████████████████████████████████                                                 | 48/100 [35:25<38:21, 44.26s/it]"
     ]
    },
    {
     "name": "stdout",
     "output_type": "stream",
     "text": [
      "Val set: Epoch: 48, Average loss:1.1771, Top-1 Accuracy: 68.6000%, Top-5 Accuracy: 90.2400%, Time consumed:5.03s\n",
      "\n",
      "EarlyStopping 카운터: 8 / 10\n",
      "Epoch [49], Batch [50/313], Loss: 0.1133\n",
      "Epoch [49], Batch [100/313], Loss: 0.0848\n",
      "Epoch [49], Batch [150/313], Loss: 0.0715\n",
      "Epoch [49], Batch [200/313], Loss: 0.1009\n",
      "Epoch [49], Batch [250/313], Loss: 2.5306\n",
      "Epoch [49], Batch [300/313], Loss: 0.0943\n",
      "Train set: Epoch: 49, Average loss:1.1720, LR: 0.001000 Top-1 Accuracy: 79.7700%, Top-5 Accuracy: 92.9625%, Time consumed:39.97s\n"
     ]
    },
    {
     "name": "stderr",
     "output_type": "stream",
     "text": [
      " 49%|██████████████████████████████████████████████                                                | 49/100 [36:10<37:50, 44.53s/it]"
     ]
    },
    {
     "name": "stdout",
     "output_type": "stream",
     "text": [
      "Val set: Epoch: 49, Average loss:1.1638, Top-1 Accuracy: 69.6000%, Top-5 Accuracy: 91.4000%, Time consumed:5.18s\n",
      "\n",
      "New best top-5 accuracy: 91.40%\n",
      "EarlyStopping 카운터: 9 / 10\n",
      "Epoch [50], Batch [50/313], Loss: 0.0693\n",
      "Epoch [50], Batch [100/313], Loss: 2.8288\n",
      "Epoch [50], Batch [150/313], Loss: 2.8294\n",
      "Epoch [50], Batch [200/313], Loss: 2.1388\n",
      "Epoch [50], Batch [250/313], Loss: 0.0925\n",
      "Epoch [50], Batch [300/313], Loss: 0.8898\n",
      "Train set: Epoch: 50, Average loss:0.9686, LR: 0.001000 Top-1 Accuracy: 83.5325%, Top-5 Accuracy: 94.5875%, Time consumed:40.44s\n",
      "Val set: Epoch: 50, Average loss:1.1273, Top-1 Accuracy: 69.6400%, Top-5 Accuracy: 90.6600%, Time consumed:5.02s\n",
      "\n",
      "New best top-1 accuracy: 69.64%, top-5 accuracy: 90.66%\n",
      "Validation loss decreased (1.150611 --> 1.127266). Saving model ...\n"
     ]
    },
    {
     "name": "stderr",
     "output_type": "stream",
     "text": [
      " 50%|███████████████████████████████████████████████                                               | 50/100 [36:56<37:24, 44.88s/it]"
     ]
    },
    {
     "name": "stdout",
     "output_type": "stream",
     "text": [
      "Epoch [51], Batch [50/313], Loss: 0.0841\n",
      "Epoch [51], Batch [100/313], Loss: 0.1899\n",
      "Epoch [51], Batch [150/313], Loss: 1.9447\n",
      "Epoch [51], Batch [200/313], Loss: 0.1004\n",
      "Epoch [51], Batch [250/313], Loss: 0.1241\n",
      "Epoch [51], Batch [300/313], Loss: 2.5671\n",
      "Train set: Epoch: 51, Average loss:0.9974, LR: 0.001000 Top-1 Accuracy: 83.6825%, Top-5 Accuracy: 94.7600%, Time consumed:38.60s\n"
     ]
    },
    {
     "name": "stderr",
     "output_type": "stream",
     "text": [
      " 51%|███████████████████████████████████████████████▉                                              | 51/100 [37:40<36:22, 44.54s/it]"
     ]
    },
    {
     "name": "stdout",
     "output_type": "stream",
     "text": [
      "Val set: Epoch: 51, Average loss:1.1663, Top-1 Accuracy: 69.2600%, Top-5 Accuracy: 90.2200%, Time consumed:5.12s\n",
      "\n",
      "EarlyStopping 카운터: 1 / 10\n",
      "Epoch [52], Batch [50/313], Loss: 2.8151\n",
      "Epoch [52], Batch [100/313], Loss: 0.1879\n",
      "Epoch [52], Batch [150/313], Loss: 0.0789\n",
      "Epoch [52], Batch [200/313], Loss: 0.2970\n",
      "Epoch [52], Batch [250/313], Loss: 0.0766\n",
      "Epoch [52], Batch [300/313], Loss: 0.1479\n",
      "Train set: Epoch: 52, Average loss:1.0068, LR: 0.001000 Top-1 Accuracy: 82.8500%, Top-5 Accuracy: 94.4800%, Time consumed:39.27s\n"
     ]
    },
    {
     "name": "stderr",
     "output_type": "stream",
     "text": [
      " 52%|████████████████████████████████████████████████▉                                             | 52/100 [38:24<35:32, 44.43s/it]"
     ]
    },
    {
     "name": "stdout",
     "output_type": "stream",
     "text": [
      "Val set: Epoch: 52, Average loss:1.2237, Top-1 Accuracy: 68.9800%, Top-5 Accuracy: 90.2600%, Time consumed:4.91s\n",
      "\n",
      "EarlyStopping 카운터: 2 / 10\n",
      "Epoch [53], Batch [50/313], Loss: 0.0908\n",
      "Epoch [53], Batch [100/313], Loss: 0.0981\n",
      "Epoch [53], Batch [150/313], Loss: 2.5865\n",
      "Epoch [53], Batch [200/313], Loss: 0.1049\n",
      "Epoch [53], Batch [250/313], Loss: 0.1099\n",
      "Epoch [53], Batch [300/313], Loss: 0.1576\n",
      "Train set: Epoch: 53, Average loss:1.0463, LR: 0.001000 Top-1 Accuracy: 82.6150%, Top-5 Accuracy: 94.5600%, Time consumed:39.55s\n"
     ]
    },
    {
     "name": "stderr",
     "output_type": "stream",
     "text": [
      " 53%|█████████████████████████████████████████████████▊                                            | 53/100 [39:09<34:50, 44.48s/it]"
     ]
    },
    {
     "name": "stdout",
     "output_type": "stream",
     "text": [
      "Val set: Epoch: 53, Average loss:1.1384, Top-1 Accuracy: 70.0600%, Top-5 Accuracy: 90.6800%, Time consumed:4.92s\n",
      "\n",
      "New best top-1 accuracy: 70.06%, top-5 accuracy: 90.68%\n",
      "EarlyStopping 카운터: 3 / 10\n",
      "Epoch [54], Batch [50/313], Loss: 2.9427\n",
      "Epoch [54], Batch [100/313], Loss: 0.4538\n",
      "Epoch [54], Batch [150/313], Loss: 1.9993\n",
      "Epoch [54], Batch [200/313], Loss: 2.7634\n",
      "Epoch [54], Batch [250/313], Loss: 0.1113\n",
      "Epoch [54], Batch [300/313], Loss: 2.5657\n",
      "Train set: Epoch: 54, Average loss:0.9543, LR: 0.001000 Top-1 Accuracy: 84.2000%, Top-5 Accuracy: 95.2275%, Time consumed:38.68s\n"
     ]
    },
    {
     "name": "stderr",
     "output_type": "stream",
     "text": [
      " 54%|██████████████████████████████████████████████████▊                                           | 54/100 [39:52<33:55, 44.25s/it]"
     ]
    },
    {
     "name": "stdout",
     "output_type": "stream",
     "text": [
      "Val set: Epoch: 54, Average loss:1.1559, Top-1 Accuracy: 69.4200%, Top-5 Accuracy: 90.5200%, Time consumed:5.02s\n",
      "\n",
      "EarlyStopping 카운터: 4 / 10\n",
      "Epoch [55], Batch [50/313], Loss: 0.0611\n",
      "Epoch [55], Batch [100/313], Loss: 2.9057\n",
      "Epoch [55], Batch [150/313], Loss: 0.1262\n",
      "Epoch [55], Batch [200/313], Loss: 2.2634\n",
      "Epoch [55], Batch [250/313], Loss: 2.4528\n",
      "Epoch [55], Batch [300/313], Loss: 1.0085\n",
      "Train set: Epoch: 55, Average loss:1.0825, LR: 0.001000 Top-1 Accuracy: 81.6725%, Top-5 Accuracy: 93.7600%, Time consumed:38.57s\n"
     ]
    },
    {
     "name": "stderr",
     "output_type": "stream",
     "text": [
      " 55%|███████████████████████████████████████████████████▋                                          | 55/100 [40:36<32:59, 43.99s/it]"
     ]
    },
    {
     "name": "stdout",
     "output_type": "stream",
     "text": [
      "Val set: Epoch: 55, Average loss:1.2035, Top-1 Accuracy: 69.2200%, Top-5 Accuracy: 89.9200%, Time consumed:4.80s\n",
      "\n",
      "EarlyStopping 카운터: 5 / 10\n",
      "Epoch [56], Batch [50/313], Loss: 0.1146\n",
      "Epoch [56], Batch [100/313], Loss: 0.1296\n",
      "Epoch [56], Batch [150/313], Loss: 2.5058\n",
      "Epoch [56], Batch [200/313], Loss: 2.7498\n",
      "Epoch [56], Batch [250/313], Loss: 2.7410\n",
      "Epoch [56], Batch [300/313], Loss: 0.0766\n",
      "Train set: Epoch: 56, Average loss:1.0241, LR: 0.001000 Top-1 Accuracy: 83.0400%, Top-5 Accuracy: 94.2300%, Time consumed:38.70s\n"
     ]
    },
    {
     "name": "stderr",
     "output_type": "stream",
     "text": [
      " 56%|████████████████████████████████████████████████████▋                                         | 56/100 [41:19<32:12, 43.92s/it]"
     ]
    },
    {
     "name": "stdout",
     "output_type": "stream",
     "text": [
      "Val set: Epoch: 56, Average loss:1.1973, Top-1 Accuracy: 69.6000%, Top-5 Accuracy: 90.4400%, Time consumed:5.06s\n",
      "\n",
      "EarlyStopping 카운터: 6 / 10\n",
      "Epoch [57], Batch [50/313], Loss: 0.0378\n",
      "Epoch [57], Batch [100/313], Loss: 2.8328\n",
      "Epoch [57], Batch [150/313], Loss: 2.2015\n",
      "Epoch [57], Batch [200/313], Loss: 2.4057\n",
      "Epoch [57], Batch [250/313], Loss: 0.1079\n",
      "Epoch [57], Batch [300/313], Loss: 2.4459\n",
      "Train set: Epoch: 57, Average loss:1.1880, LR: 0.001000 Top-1 Accuracy: 81.2700%, Top-5 Accuracy: 94.0175%, Time consumed:42.14s\n"
     ]
    },
    {
     "name": "stderr",
     "output_type": "stream",
     "text": [
      " 57%|█████████████████████████████████████████████████████▌                                        | 57/100 [42:07<32:09, 44.88s/it]"
     ]
    },
    {
     "name": "stdout",
     "output_type": "stream",
     "text": [
      "Val set: Epoch: 57, Average loss:1.1524, Top-1 Accuracy: 69.9400%, Top-5 Accuracy: 90.6000%, Time consumed:4.96s\n",
      "\n",
      "EarlyStopping 카운터: 7 / 10\n",
      "Epoch [58], Batch [50/313], Loss: 2.5141\n",
      "Epoch [58], Batch [100/313], Loss: 0.1069\n",
      "Epoch [58], Batch [150/313], Loss: 2.5130\n",
      "Epoch [58], Batch [200/313], Loss: 2.7215\n",
      "Epoch [58], Batch [250/313], Loss: 2.8090\n",
      "Epoch [58], Batch [300/313], Loss: 0.0756\n",
      "Train set: Epoch: 58, Average loss:1.0882, LR: 0.001000 Top-1 Accuracy: 81.8625%, Top-5 Accuracy: 94.0525%, Time consumed:38.64s\n"
     ]
    },
    {
     "name": "stderr",
     "output_type": "stream",
     "text": [
      " 58%|██████████████████████████████████████████████████████▌                                       | 58/100 [42:50<31:09, 44.50s/it]"
     ]
    },
    {
     "name": "stdout",
     "output_type": "stream",
     "text": [
      "Val set: Epoch: 58, Average loss:1.2002, Top-1 Accuracy: 69.8000%, Top-5 Accuracy: 90.7200%, Time consumed:4.98s\n",
      "\n",
      "EarlyStopping 카운터: 8 / 10\n",
      "Epoch [59], Batch [50/313], Loss: 0.0484\n",
      "Epoch [59], Batch [100/313], Loss: 2.2184\n",
      "Epoch [59], Batch [150/313], Loss: 2.3492\n",
      "Epoch [59], Batch [200/313], Loss: 2.4885\n",
      "Epoch [59], Batch [250/313], Loss: 1.5779\n",
      "Epoch [59], Batch [300/313], Loss: 0.0720\n",
      "Train set: Epoch: 59, Average loss:1.0150, LR: 0.001000 Top-1 Accuracy: 82.6975%, Top-5 Accuracy: 94.1625%, Time consumed:39.97s\n"
     ]
    },
    {
     "name": "stderr",
     "output_type": "stream",
     "text": [
      " 59%|███████████████████████████████████████████████████████▍                                      | 59/100 [43:35<30:30, 44.65s/it]"
     ]
    },
    {
     "name": "stdout",
     "output_type": "stream",
     "text": [
      "Val set: Epoch: 59, Average loss:1.1877, Top-1 Accuracy: 69.8400%, Top-5 Accuracy: 89.9600%, Time consumed:5.02s\n",
      "\n",
      "EarlyStopping 카운터: 9 / 10\n",
      "Epoch [60], Batch [50/313], Loss: 2.5795\n",
      "Epoch [60], Batch [100/313], Loss: 1.4850\n",
      "Epoch [60], Batch [150/313], Loss: 0.0432\n",
      "Epoch [60], Batch [200/313], Loss: 2.6038\n",
      "Epoch [60], Batch [250/313], Loss: 0.0618\n",
      "Epoch [60], Batch [300/313], Loss: 0.0972\n",
      "Train set: Epoch: 60, Average loss:1.0375, LR: 0.001000 Top-1 Accuracy: 83.6850%, Top-5 Accuracy: 94.8275%, Time consumed:38.57s\n"
     ]
    },
    {
     "name": "stderr",
     "output_type": "stream",
     "text": [
      " 59%|███████████████████████████████████████████████████████▍                                      | 59/100 [44:19<30:48, 45.08s/it]"
     ]
    },
    {
     "name": "stdout",
     "output_type": "stream",
     "text": [
      "Val set: Epoch: 60, Average loss:1.2545, Top-1 Accuracy: 68.1000%, Top-5 Accuracy: 89.5800%, Time consumed:5.25s\n",
      "\n",
      "EarlyStopping 카운터: 10 / 10\n",
      "Early stopping triggered. Training stopped.\n",
      "Loading best model from early stopping checkpoint...\n"
     ]
    },
    {
     "name": "stderr",
     "output_type": "stream",
     "text": [
      "\n"
     ]
    },
    {
     "name": "stdout",
     "output_type": "stream",
     "text": [
      "Test set: Epoch: 100, Average loss:1.2509, Top-1 Accuracy: 67.6800%, Top-5 Accuracy: 89.0400%, Time consumed:5.06s\n",
      "\n",
      "Finish! Best validation top-1 accuracy: 70.06%, Best validation top-5 accuracy: 91.40%\n",
      "Final test top-1 accuracy: 67.68%, Final test top-5 accuracy: 89.04%\n",
      "Total training time: 2664.60 seconds\n"
     ]
    },
    {
     "data": {
      "text/html": [],
      "text/plain": [
       "<IPython.core.display.HTML object>"
      ]
     },
     "metadata": {},
     "output_type": "display_data"
    },
    {
     "data": {
      "text/html": [
       "<br>    <style><br>        .wandb-row {<br>            display: flex;<br>            flex-direction: row;<br>            flex-wrap: wrap;<br>            justify-content: flex-start;<br>            width: 100%;<br>        }<br>        .wandb-col {<br>            display: flex;<br>            flex-direction: column;<br>            flex-basis: 100%;<br>            flex: 1;<br>            padding: 10px;<br>        }<br>    </style><br><div class=\"wandb-row\"><div class=\"wandb-col\"><h3>Run history:</h3><br/><table class=\"wandb\"><tr><td>epoch</td><td>▁▁▁▁▂▂▂▂▂▂▃▃▃▃▃▃▄▄▄▄▄▅▅▅▅▆▆▆▆▆▆▇▇▇▇▇████</td></tr><tr><td>learning_rate</td><td>▁▁▁▁▁▁▁▁▁▁▁▁▁▁▁▁▁▁▁▁▁▁▁▁▁▁▁▁▁▁▁▁▁▁▁▁▁▁▁▁</td></tr><tr><td>test_accuracy_top1</td><td>▁</td></tr><tr><td>test_accuracy_top5</td><td>▁</td></tr><tr><td>test_loss</td><td>▁</td></tr><tr><td>total_training_time</td><td>▁</td></tr><tr><td>train_accuracy_top1</td><td>▁▂▃▄▄▅▅▅▅▆▆▆▆▆▆▆▇▇▇▇▇▇▇▇█▇██████████████</td></tr><tr><td>train_accuracy_top5</td><td>▁▂▄▄▅▅▆▆▇▇▇▇▇▇▇▇▇▇█▇█▇██████████████████</td></tr><tr><td>train_loss</td><td>█▇▆▆▅▄▄▄▃▃▃▃▃▃▃▂▂▂▂▂▂▂▂▂▂▂▁▂▂▂▁▁▁▁▁▁▁▁▁▁</td></tr><tr><td>val_accuracy_top1</td><td>▁▂▃▄▄▅▅▆▆▆▇▇▇▇▇▇████████████████████████</td></tr><tr><td>val_accuracy_top5</td><td>▁▃▄▅▆▆▇▇▇▇██████████████████████████████</td></tr><tr><td>val_loss</td><td>█▅▅▄▃▃▂▂▂▂▂▂▂▂▁▁▁▁▁▁▁▁▁▁▁▁▁▁▁▁▁▁▁▁▁▁▁▁▁▁</td></tr></table><br/></div><div class=\"wandb-col\"><h3>Run summary:</h3><br/><table class=\"wandb\"><tr><td>best_val_accuracy_top1</td><td>70.06</td></tr><tr><td>best_val_accuracy_top5</td><td>91.4</td></tr><tr><td>early_stopped</td><td>True</td></tr><tr><td>early_stopped_epoch</td><td>60</td></tr><tr><td>epoch</td><td>60</td></tr><tr><td>learning_rate</td><td>0.001</td></tr><tr><td>test_accuracy_top1</td><td>67.68</td></tr><tr><td>test_accuracy_top5</td><td>89.04</td></tr><tr><td>test_loss</td><td>1.25091</td></tr><tr><td>total_training_time</td><td>2664.59733</td></tr><tr><td>train_accuracy_top1</td><td>83.685</td></tr><tr><td>train_accuracy_top5</td><td>94.8275</td></tr><tr><td>train_loss</td><td>1.03754</td></tr><tr><td>val_accuracy_top1</td><td>68.1</td></tr><tr><td>val_accuracy_top5</td><td>89.58</td></tr><tr><td>val_loss</td><td>1.25447</td></tr></table><br/></div></div>"
      ],
      "text/plain": [
       "<IPython.core.display.HTML object>"
      ]
     },
     "metadata": {},
     "output_type": "display_data"
    },
    {
     "data": {
      "text/html": [
       " View run <strong style=\"color:#cdcd00\">resnet18_cutmix,flip,crop</strong> at: <a href='https://wandb.ai/sokjh1310-hanyang-university/PBL-2/runs/8t3spgxs' target=\"_blank\">https://wandb.ai/sokjh1310-hanyang-university/PBL-2/runs/8t3spgxs</a><br> View project at: <a href='https://wandb.ai/sokjh1310-hanyang-university/PBL-2' target=\"_blank\">https://wandb.ai/sokjh1310-hanyang-university/PBL-2</a><br>Synced 5 W&B file(s), 0 media file(s), 0 artifact file(s) and 1 other file(s)"
      ],
      "text/plain": [
       "<IPython.core.display.HTML object>"
      ]
     },
     "metadata": {},
     "output_type": "display_data"
    },
    {
     "data": {
      "text/html": [
       "Find logs at: <code>./wandb/run-20250413_063128-8t3spgxs/logs</code>"
      ],
      "text/plain": [
       "<IPython.core.display.HTML object>"
      ]
     },
     "metadata": {},
     "output_type": "display_data"
    }
   ],
   "source": [
    "import torch\n",
    "import torch.nn as nn\n",
    "import torch.optim as optim\n",
    "from torch.utils.data import DataLoader, Subset\n",
    "import torchvision\n",
    "import torchvision.transforms as transforms\n",
    "import torchvision.transforms.v2 as transforms_v2  # CutMix를 위한 v2 transforms 추가\n",
    "import sys\n",
    "import os\n",
    "import torch\n",
    "import time\n",
    "import random\n",
    "import numpy as np\n",
    "import wandb\n",
    "from tqdm import tqdm\n",
    "from sklearn.model_selection import StratifiedShuffleSplit\n",
    "from tools.tool import EarlyStopping\n",
    "from models.resnet import resnet18, resnet34, resnet50\n",
    "\n",
    "wandb.login(key=\"ef091b9abcea3186341ddf8995d62bde62d7469e\")\n",
    "wandb.init(project=\"PBL-2\", name=\"resnet18_cutmix,flip,crop\")  # 데이터 증강 기법 추가 명시\n",
    "\n",
    "# WandB 설정\n",
    "config = {\n",
    "    \"model\": \"resnet18\",\n",
    "    \"batch_size\": 128,\n",
    "    \"num_epochs\": 100,\n",
    "    \"learning_rate\": 0.001,\n",
    "    \"optimizer\": \"Adam\",\n",
    "    \"seed\": 2025,\n",
    "    #\"deterministic\": False,\n",
    "    \"patience\": 10,  # early stopping patience\n",
    "    \"train_ratio\": 0.8,\n",
    "    \"val_ratio\": 0.1,\n",
    "    \"test_ratio\": 0.1,\n",
    "    \"cutmix_alpha\": 1.0,  # CutMix 알파 파라미터 추가\n",
    "    \"cutmix_prob\": 0.5,   # CutMix 적용 확률 추가\n",
    "    \"crop_padding\": 4,    # RandomCrop 패딩 크기\n",
    "    \"crop_size\": 32       # RandomCrop 크기 (CIFAR-100 이미지 크기는 32x32)\n",
    "}\n",
    "wandb.config.update(config)\n",
    "\n",
    "# CIFAR-100 데이터셋 로드\n",
    "# RandomCrop 변환 추가\n",
    "transform_train = transforms.Compose([\n",
    "    transforms.RandomCrop(config[\"crop_size\"], padding=config[\"crop_padding\"]),  # 패딩 후 랜덤 크롭 추가\n",
    "    transforms.RandomHorizontalFlip(),  # 수평 뒤집기\n",
    "    transforms.ToTensor(),\n",
    "    transforms.Normalize((0.5071, 0.4867, 0.4408), (0.2675, 0.2565, 0.2761)),\n",
    "])\n",
    "\n",
    "transform_test = transforms.Compose([\n",
    "    transforms.ToTensor(),\n",
    "    transforms.Normalize((0.5071, 0.4867, 0.4408), (0.2675, 0.2565, 0.2761)),\n",
    "])\n",
    "\n",
    "full_trainset = torchvision.datasets.CIFAR100(\n",
    "    root='./data', train=True, download=True, transform=transform_train)\n",
    "\n",
    "testset = torchvision.datasets.CIFAR100(\n",
    "    root='./data', train=False, download=True, transform=transform_test)\n",
    "\n",
    "# Stratified 분할을 위한 준비 (train, validation 나누기)\n",
    "# 모든 라벨을 추출\n",
    "targets = np.array(full_trainset.targets)\n",
    "\n",
    "# StratifiedShuffleSplit을 사용하여 8:1:1 비율로 분할\n",
    "# 먼저 train과 validation을 나눔 (full_trainset에서 8:2)\n",
    "train_val_split = StratifiedShuffleSplit(n_splits=1, test_size=0.2, random_state=config[\"seed\"])\n",
    "train_idx, temp_idx = next(train_val_split.split(np.zeros(len(targets)), targets))\n",
    "\n",
    "# 그 다음 validation과 test를 나눔 (temp에서 1:1, 전체로 보면 1:1)\n",
    "val_test_targets = targets[temp_idx]\n",
    "val_test_split = StratifiedShuffleSplit(n_splits=1, test_size=0.5, random_state=config[\"seed\"])\n",
    "val_idx_temp, test_idx_temp = next(val_test_split.split(np.zeros(len(val_test_targets)), val_test_targets))\n",
    "\n",
    "# 원래 인덱스로 매핑\n",
    "val_idx = temp_idx[val_idx_temp]\n",
    "test_idx = temp_idx[test_idx_temp]\n",
    "\n",
    "# Subset 생성\n",
    "trainset = Subset(full_trainset, train_idx)\n",
    "valset = Subset(full_trainset, val_idx)\n",
    "testset_split = Subset(full_trainset, test_idx)  # 원래 테스트셋 대신 stratified split에서 나온 테스트셋 사용\n",
    "\n",
    "# DataLoader 생성\n",
    "trainloader = DataLoader(trainset, batch_size=config[\"batch_size\"], shuffle=True, num_workers=16)\n",
    "valloader = DataLoader(valset, batch_size=config[\"batch_size\"], shuffle=False, num_workers=16)\n",
    "testloader = DataLoader(testset_split, batch_size=config[\"batch_size\"], shuffle=False, num_workers=16)\n",
    "\n",
    "print(f\"Train set size: {len(trainset)}\")\n",
    "print(f\"Validation set size: {len(valset)}\")\n",
    "print(f\"Test set size: {len(testset_split)}\")\n",
    "\n",
    "# 추가: CutMix 변환 정의\n",
    "cutmix = transforms_v2.CutMix(alpha=config[\"cutmix_alpha\"], num_classes=100)  # CIFAR-100은 100개 클래스\n",
    "\n",
    "# CutMix용 손실 함수 정의 (원-핫 인코딩된 레이블 처리)\n",
    "def cutmix_criterion(outputs, targets):\n",
    "    \"\"\"\n",
    "    CutMix로 혼합된 레이블을 처리하기 위한 손실 함수\n",
    "    outputs: 모델 출력\n",
    "    targets: CutMix로 생성된 원-핫 인코딩 레이블\n",
    "    \"\"\"\n",
    "    return torch.nn.functional.cross_entropy(outputs, targets)\n",
    "\n",
    "def train(model, trainloader, criterion, optimizer, device, epoch):\n",
    "    \"\"\"\n",
    "    학습 함수 (CutMix 적용)\n",
    "    \"\"\"\n",
    "    model.train()   # 모델을 학습 모드로 설정\n",
    "    start_time = time.time()  # 시간 측정 시작\n",
    "    running_loss = 0.0\n",
    "    correct_top1 = 0\n",
    "    correct_top5 = 0\n",
    "    total = 0\n",
    "    \n",
    "    for i, (inputs, labels) in enumerate(trainloader):\n",
    "        inputs, labels = inputs.to(device), labels.to(device)\n",
    "        \n",
    "        # CutMix 확률적 적용\n",
    "        if random.random() < config[\"cutmix_prob\"]:\n",
    "            inputs, labels = cutmix(inputs, labels)\n",
    "            # 이 경우 labels은 원-핫 인코딩 형태로 변환됨\n",
    "            use_cutmix = True\n",
    "        else:\n",
    "            use_cutmix = False\n",
    "        \n",
    "        optimizer.zero_grad()\n",
    "        \n",
    "        outputs = model(inputs)\n",
    "        \n",
    "        # CutMix 적용 여부에 따라 손실 함수 선택\n",
    "        if use_cutmix:\n",
    "            # CutMix가 적용된 경우 (원-핫 인코딩된 레이블)\n",
    "            loss = torch.nn.functional.cross_entropy(outputs, labels)\n",
    "        else:\n",
    "            # 일반적인 경우 (정수 인덱스 레이블)\n",
    "            loss = criterion(outputs, labels)\n",
    "            \n",
    "        loss.backward()\n",
    "        optimizer.step()\n",
    "        \n",
    "        running_loss += loss.item()\n",
    "        \n",
    "        # 정확도 계산 - CutMix 적용 여부에 따라 다르게 처리\n",
    "        if use_cutmix:\n",
    "            # 원-핫 인코딩된 레이블에서 argmax를 사용해 가장 큰 값의 인덱스 추출\n",
    "            _, label_idx = labels.max(1)\n",
    "        else:\n",
    "            # 정수 인덱스 레이블 그대로 사용\n",
    "            label_idx = labels\n",
    "            \n",
    "        # top-1 정확도 계산\n",
    "        _, predicted = outputs.max(1)\n",
    "        total += inputs.size(0)\n",
    "        correct_top1 += predicted.eq(label_idx).sum().item()\n",
    "        \n",
    "        # top-5 정확도 계산\n",
    "        _, top5_idx = outputs.topk(5, 1, largest=True, sorted=True)\n",
    "        correct_top5 += sum([1 for i in range(len(label_idx)) if label_idx[i] in top5_idx[i]])\n",
    "        \n",
    "        if (i + 1) % 50 == 0:  # 50 배치마다 출력\n",
    "            print(f'Epoch [{epoch+1}], Batch [{i+1}/{len(trainloader)}], Loss: {loss.item():.4f}')\n",
    "    \n",
    "    epoch_loss = running_loss / len(trainloader)\n",
    "    accuracy_top1 = 100.0 * correct_top1 / total\n",
    "    accuracy_top5 = 100.0 * correct_top5 / total\n",
    "    \n",
    "    train_time = time.time() - start_time\n",
    "    \n",
    "    # 학습 세트에 대한 성능 출력\n",
    "    print(f'Train set: Epoch: {epoch+1}, Average loss:{epoch_loss:.4f}, LR: {optimizer.param_groups[0][\"lr\"]:.6f} '\n",
    "          f'Top-1 Accuracy: {accuracy_top1:.4f}%, Top-5 Accuracy: {accuracy_top5:.4f}%, Time consumed:{train_time:.2f}s')\n",
    "    \n",
    "    return epoch_loss, accuracy_top1, accuracy_top5\n",
    "\n",
    "def evaluate(model, dataloader, criterion, device, epoch, phase=\"val\"):\n",
    "    \"\"\"\n",
    "    평가 함수\n",
    "    \"\"\"\n",
    "    model.eval()  # 모델을 평가 모드로 설정\n",
    "    start_time = time.time()  # 시간 측정 시작\n",
    "    \n",
    "    eval_loss = 0.0\n",
    "    correct_top1 = 0\n",
    "    correct_top5 = 0\n",
    "    total = 0\n",
    "    \n",
    "    # 그래디언트 계산 비활성화\n",
    "    with torch.no_grad():\n",
    "        for inputs, labels in dataloader:\n",
    "            inputs, labels = inputs.to(device), labels.to(device)\n",
    "            \n",
    "            # 순전파\n",
    "            outputs = model(inputs)\n",
    "            \n",
    "            # 손실 계산\n",
    "            loss = criterion(outputs, labels)\n",
    "            eval_loss += loss.item()\n",
    "            \n",
    "            # top-1 정확도 계산\n",
    "            _, predicted = outputs.max(1)\n",
    "            total += labels.size(0)\n",
    "            correct_top1 += (predicted == labels).sum().item()\n",
    "            \n",
    "            # top-5 정확도 계산\n",
    "            _, top5_idx = outputs.topk(5, 1, largest=True, sorted=True)\n",
    "            correct_top5 += top5_idx.eq(labels.view(-1, 1).expand_as(top5_idx)).sum().item()\n",
    "    \n",
    "    # 평균 손실 및 정확도 계산\n",
    "    eval_loss = eval_loss / len(dataloader)\n",
    "    accuracy_top1 = 100.0 * correct_top1 / total\n",
    "    accuracy_top5 = 100.0 * correct_top5 / total\n",
    "    \n",
    "    # 평가 시간 계산\n",
    "    eval_time = time.time() - start_time\n",
    "    \n",
    "    # 테스트 세트에 대한 성능 출력\n",
    "    print(f'{phase.capitalize()} set: Epoch: {epoch+1}, Average loss:{eval_loss:.4f}, '\n",
    "          f'Top-1 Accuracy: {accuracy_top1:.4f}%, Top-5 Accuracy: {accuracy_top5:.4f}%, Time consumed:{eval_time:.2f}s')\n",
    "    print()\n",
    "    \n",
    "    return eval_loss, accuracy_top1, accuracy_top5\n",
    "\n",
    "\n",
    "# 메인 학습 루프\n",
    "def main_training_loop(model, trainloader, valloader, testloader, criterion, optimizer, device, num_epochs, patience):\n",
    "    \"\"\"\n",
    "    메인 학습 루프\n",
    "    \"\"\"\n",
    "    early_stopping = EarlyStopping(patience=patience, verbose=True)\n",
    "    \n",
    "    best_acc_top1 = 0.0\n",
    "    best_acc_top5 = 0.0\n",
    "    \n",
    "    # tqdm을 사용한 진행 상황 표시\n",
    "    for epoch in tqdm(range(num_epochs)):\n",
    "        # 학습\n",
    "        train_loss, train_acc_top1, train_acc_top5 = train(model, trainloader, criterion, optimizer, device, epoch)\n",
    "        \n",
    "        # 평가\n",
    "        val_loss, val_acc_top1, val_acc_top5 = evaluate(model, valloader, criterion, device, epoch, phase=\"val\")\n",
    "        \n",
    "        # WandB에 로깅\n",
    "        wandb.log({\n",
    "            \"epoch\": epoch + 1,\n",
    "            \"learning_rate\": optimizer.param_groups[0]['lr'],\n",
    "            \"train_loss\": train_loss,\n",
    "            \"train_accuracy_top1\": train_acc_top1,\n",
    "            \"train_accuracy_top5\": train_acc_top5,\n",
    "            \"val_loss\": val_loss,\n",
    "            \"val_accuracy_top1\": val_acc_top1,\n",
    "            \"val_accuracy_top5\": val_acc_top5\n",
    "        })\n",
    "            \n",
    "        # 최고 정확도 모델 저장 (top-1 기준)\n",
    "        if val_acc_top1 > best_acc_top1:\n",
    "            best_acc_top1 = val_acc_top1\n",
    "            best_acc_top5_at_best_top1 = val_acc_top5\n",
    "            print(f'New best top-1 accuracy: {best_acc_top1:.2f}%, top-5 accuracy: {best_acc_top5_at_best_top1:.2f}%')\n",
    "            # 모델 저장\n",
    "            model_path = f'best_model_{wandb.run.name}.pth'\n",
    "            torch.save(model.state_dict(), model_path)\n",
    "            \n",
    "            # WandB에 모델 아티팩트 저장\n",
    "            wandb.save(model_path)\n",
    "        \n",
    "        # top-5 accuracy 기록 업데이트\n",
    "        if val_acc_top5 > best_acc_top5:\n",
    "            best_acc_top5 = val_acc_top5\n",
    "            print(f'New best top-5 accuracy: {best_acc_top5:.2f}%')\n",
    "\n",
    "        # Early stopping 체크 (validation loss 기준)\n",
    "        early_stopping(val_loss, model)\n",
    "        if early_stopping.early_stop:\n",
    "            print(\"Early stopping triggered. Training stopped.\")\n",
    "            break\n",
    "    \n",
    "    # 훈련 완료 후 모델 평가 (best model 로드)\n",
    "    if early_stopping.early_stop:\n",
    "        print(\"Loading best model from early stopping checkpoint...\")\n",
    "    else:\n",
    "        print(\"Loading best model based on validation accuracy...\")\n",
    "        model_path = f'best_model_{wandb.run.name}.pth'\n",
    "        model.load_state_dict(torch.load(model_path))\n",
    "\n",
    "    # 최종 테스트 세트 평가\n",
    "    test_loss, test_acc_top1, test_acc_top5 = evaluate(model, testloader, criterion, device, num_epochs-1, phase=\"test\")\n",
    "    \n",
    "    # 테스트 결과를 wandb 로그에 추가\n",
    "    wandb.log({\n",
    "        \"epoch\": epoch + 1,  # 마지막 에폭 또는 early stopping된 에폭\n",
    "        \"test_loss\": test_loss,\n",
    "        \"test_accuracy_top1\": test_acc_top1,\n",
    "        \"test_accuracy_top5\": test_acc_top5\n",
    "    })\n",
    "    \n",
    "    print(f'Finish! Best validation top-1 accuracy: {best_acc_top1:.2f}%, Best validation top-5 accuracy: {best_acc_top5:.2f}%')\n",
    "    print(f'Final test top-1 accuracy: {test_acc_top1:.2f}%, Final test top-5 accuracy: {test_acc_top5:.2f}%')\n",
    "    \n",
    "    # WandB에 최종 결과 기록\n",
    "    wandb.run.summary[\"best_val_accuracy_top1\"] = best_acc_top1\n",
    "    wandb.run.summary[\"best_val_accuracy_top5\"] = best_acc_top5\n",
    "    wandb.run.summary[\"test_accuracy_top1\"] = test_acc_top1\n",
    "    wandb.run.summary[\"test_accuracy_top5\"] = test_acc_top5\n",
    "\n",
    "    # Early stopping 정보 저장\n",
    "    if early_stopping.early_stop:\n",
    "        wandb.run.summary[\"early_stopped\"] = True\n",
    "        wandb.run.summary[\"early_stopped_epoch\"] = epoch+1\n",
    "    else:\n",
    "        wandb.run.summary[\"early_stopped\"] = False\n",
    "\n",
    "\n",
    "# 디바이스 설정\n",
    "device = torch.device(\"cuda\" if torch.cuda.is_available() else \"cpu\")\n",
    "print(f\"Using device: {device}\")\n",
    "\n",
    "# 모델 초기화\n",
    "model = resnet18().to(device)  \n",
    "criterion = nn.CrossEntropyLoss()  # 손실 함수 정의\n",
    "optimizer = optim.Adam(model.parameters(), lr=config[\"learning_rate\"])  # 옵티마이저 정의\n",
    "\n",
    "# WandB에 모델 구조 기록\n",
    "wandb.watch(model, log=\"all\")\n",
    "\n",
    "# GPU 가속\n",
    "if torch.cuda.device_count() > 1:\n",
    "    print(f\"{torch.cuda.device_count()}개의 GPU를 사용합니다.\")\n",
    "    model = nn.DataParallel(model)\n",
    "\n",
    "# 훈련 시작 시간 기록\n",
    "start_time = time.time()\n",
    "\n",
    "# 메인 학습 루프 호출\n",
    "main_training_loop(\n",
    "    model=model,\n",
    "    trainloader=trainloader,\n",
    "    valloader=valloader,\n",
    "    testloader=testloader,\n",
    "    criterion=criterion,\n",
    "    optimizer=optimizer,\n",
    "    device=device,\n",
    "    num_epochs=config[\"num_epochs\"],\n",
    "    patience=config[\"patience\"]\n",
    ")\n",
    "\n",
    "# 훈련 종료 시간 기록 및 출력\n",
    "end_time = time.time()\n",
    "total_time = end_time - start_time\n",
    "wandb.log({\"total_training_time\": total_time})\n",
    "\n",
    "print(f\"Total training time: {total_time:.2f} seconds\")\n",
    "\n",
    "# WandB 실행 종료\n",
    "wandb.finish()"
   ]
  },
  {
   "cell_type": "code",
   "execution_count": null,
   "id": "e57b9218-aa24-4297-bb92-473c215e6767",
   "metadata": {},
   "outputs": [],
   "source": []
  }
 ],
 "metadata": {
  "kernelspec": {
   "display_name": "Python 3 (ipykernel)",
   "language": "python",
   "name": "python3"
  },
  "language_info": {
   "codemirror_mode": {
    "name": "ipython",
    "version": 3
   },
   "file_extension": ".py",
   "mimetype": "text/x-python",
   "name": "python",
   "nbconvert_exporter": "python",
   "pygments_lexer": "ipython3",
   "version": "3.11.9"
  }
 },
 "nbformat": 4,
 "nbformat_minor": 5
}
