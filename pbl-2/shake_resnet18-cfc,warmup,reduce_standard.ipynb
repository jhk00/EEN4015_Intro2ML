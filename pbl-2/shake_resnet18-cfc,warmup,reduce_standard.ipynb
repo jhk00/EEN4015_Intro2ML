{
 "cells": [
  {
   "cell_type": "code",
   "execution_count": 1,
   "id": "516f9d5f-6361-4b03-98ee-e1ba4de86b92",
   "metadata": {},
   "outputs": [
    {
     "name": "stderr",
     "output_type": "stream",
     "text": [
      "\u001b[34m\u001b[1mwandb\u001b[0m: Using wandb-core as the SDK backend.  Please refer to https://wandb.me/wandb-core for more information.\n",
      "\u001b[34m\u001b[1mwandb\u001b[0m: \u001b[33mWARNING\u001b[0m If you're specifying your api key in code, ensure this code is not shared publicly.\n",
      "\u001b[34m\u001b[1mwandb\u001b[0m: \u001b[33mWARNING\u001b[0m Consider setting the WANDB_API_KEY environment variable, or running `wandb login` from the command line.\n",
      "\u001b[34m\u001b[1mwandb\u001b[0m: Appending key for api.wandb.ai to your netrc file: /home/guswls/.netrc\n",
      "\u001b[34m\u001b[1mwandb\u001b[0m: Currently logged in as: \u001b[33msokjh1310\u001b[0m (\u001b[33msokjh1310-hanyang-university\u001b[0m) to \u001b[32mhttps://api.wandb.ai\u001b[0m. Use \u001b[1m`wandb login --relogin`\u001b[0m to force relogin\n"
     ]
    },
    {
     "data": {
      "text/html": [
       "Tracking run with wandb version 0.19.9"
      ],
      "text/plain": [
       "<IPython.core.display.HTML object>"
      ]
     },
     "metadata": {},
     "output_type": "display_data"
    },
    {
     "data": {
      "text/html": [
       "Run data is saved locally in <code>/home/guswls/EEN4015_Intro2ML/pbl-2/wandb/run-20250417_110204-ude5rwnx</code>"
      ],
      "text/plain": [
       "<IPython.core.display.HTML object>"
      ]
     },
     "metadata": {},
     "output_type": "display_data"
    },
    {
     "data": {
      "text/html": [
       "Syncing run <strong><a href='https://wandb.ai/sokjh1310-hanyang-university/PBL-2/runs/ude5rwnx' target=\"_blank\">shake_resnet18_cutmix,flip,crop_standard</a></strong> to <a href='https://wandb.ai/sokjh1310-hanyang-university/PBL-2' target=\"_blank\">Weights & Biases</a> (<a href='https://wandb.me/developer-guide' target=\"_blank\">docs</a>)<br>"
      ],
      "text/plain": [
       "<IPython.core.display.HTML object>"
      ]
     },
     "metadata": {},
     "output_type": "display_data"
    },
    {
     "data": {
      "text/html": [
       " View project at <a href='https://wandb.ai/sokjh1310-hanyang-university/PBL-2' target=\"_blank\">https://wandb.ai/sokjh1310-hanyang-university/PBL-2</a>"
      ],
      "text/plain": [
       "<IPython.core.display.HTML object>"
      ]
     },
     "metadata": {},
     "output_type": "display_data"
    },
    {
     "data": {
      "text/html": [
       " View run at <a href='https://wandb.ai/sokjh1310-hanyang-university/PBL-2/runs/ude5rwnx' target=\"_blank\">https://wandb.ai/sokjh1310-hanyang-university/PBL-2/runs/ude5rwnx</a>"
      ],
      "text/plain": [
       "<IPython.core.display.HTML object>"
      ]
     },
     "metadata": {},
     "output_type": "display_data"
    },
    {
     "name": "stdout",
     "output_type": "stream",
     "text": [
      "Files already downloaded and verified\n",
      "Files already downloaded and verified\n",
      "Train set size: 50000\n",
      "Test set size: 10000\n",
      "Using device: cuda\n"
     ]
    },
    {
     "name": "stderr",
     "output_type": "stream",
     "text": [
      "/usr/local/lib/python3.11/dist-packages/torch/optim/lr_scheduler.py:28: UserWarning: The verbose parameter is deprecated. Please use get_last_lr() to access the learning rate.\n",
      "  warnings.warn(\"The verbose parameter is deprecated. Please use get_last_lr() \"\n"
     ]
    },
    {
     "name": "stdout",
     "output_type": "stream",
     "text": [
      "2개의 GPU를 사용합니다.\n"
     ]
    },
    {
     "name": "stderr",
     "output_type": "stream",
     "text": [
      "  0%|                                                                                                       | 0/100 [00:00<?, ?it/s]/home/guswls/EEN4015_Intro2ML/pbl-2/tools/shakedrop.py:14: UserWarning: The torch.cuda.*DtypeTensor constructors are no longer recommended. It's best to use methods such as torch.tensor(data, dtype=*, device='cuda') to create tensors. (Triggered internally at ../torch/csrc/tensor/python_tensor.cpp:78.)\n",
      "  gate = torch.cuda.FloatTensor([0]).bernoulli_(1 - p_drop)\n"
     ]
    },
    {
     "name": "stdout",
     "output_type": "stream",
     "text": [
      "Epoch [1], Batch [50/391], Loss: 4.6380, LR: 0.000026\n",
      "Epoch [1], Batch [100/391], Loss: 4.3825, LR: 0.000051\n",
      "Epoch [1], Batch [150/391], Loss: 4.4524, LR: 0.000077\n",
      "Epoch [1], Batch [200/391], Loss: 4.4531, LR: 0.000102\n",
      "Epoch [1], Batch [250/391], Loss: 4.4495, LR: 0.000128\n",
      "Epoch [1], Batch [300/391], Loss: 4.4122, LR: 0.000153\n",
      "Epoch [1], Batch [350/391], Loss: 4.5384, LR: 0.000179\n",
      "Train set: Epoch: 1, Average loss:4.3672, LR: 0.000200 Top-1 Accuracy: 5.1000%, Top-5 Accuracy: 17.8700%, Time consumed:51.41s\n",
      "Test set: Epoch: 1, Average loss:3.8997, Top-1 Accuracy: 9.8500%, Top-5 Accuracy: 30.6800%, Time consumed:7.93s\n",
      "\n",
      "새로운 최고 top-1 정확도: 9.85%, top-5 정확도: 30.68%\n",
      "새로운 최고 top-5 정확도: 30.68%\n",
      "Accuracy improved (-inf% --> 9.85%). Saving model ...\n"
     ]
    },
    {
     "name": "stderr",
     "output_type": "stream",
     "text": [
      "  1%|▉                                                                                            | 1/100 [00:59<1:38:21, 59.61s/it]"
     ]
    },
    {
     "name": "stdout",
     "output_type": "stream",
     "text": [
      "Epoch [2], Batch [50/391], Loss: 4.0792, LR: 0.000226\n",
      "Epoch [2], Batch [100/391], Loss: 4.0552, LR: 0.000251\n",
      "Epoch [2], Batch [150/391], Loss: 4.0377, LR: 0.000277\n",
      "Epoch [2], Batch [200/391], Loss: 4.0305, LR: 0.000302\n",
      "Epoch [2], Batch [250/391], Loss: 3.9174, LR: 0.000328\n",
      "Epoch [2], Batch [300/391], Loss: 4.4218, LR: 0.000353\n",
      "Epoch [2], Batch [350/391], Loss: 3.9992, LR: 0.000379\n",
      "Train set: Epoch: 2, Average loss:4.1287, LR: 0.000400 Top-1 Accuracy: 8.5280%, Top-5 Accuracy: 26.9660%, Time consumed:52.36s\n",
      "Test set: Epoch: 2, Average loss:3.8637, Top-1 Accuracy: 11.5600%, Top-5 Accuracy: 34.3200%, Time consumed:8.41s\n",
      "\n",
      "새로운 최고 top-1 정확도: 11.56%, top-5 정확도: 34.32%\n",
      "새로운 최고 top-5 정확도: 34.32%\n",
      "Accuracy improved (9.85% --> 11.56%). Saving model ...\n"
     ]
    },
    {
     "name": "stderr",
     "output_type": "stream",
     "text": [
      "  2%|█▊                                                                                           | 2/100 [02:00<1:38:43, 60.45s/it]"
     ]
    },
    {
     "name": "stdout",
     "output_type": "stream",
     "text": [
      "Epoch [3], Batch [50/391], Loss: 4.0234, LR: 0.000426\n",
      "Epoch [3], Batch [100/391], Loss: 4.2621, LR: 0.000451\n",
      "Epoch [3], Batch [150/391], Loss: 4.4022, LR: 0.000477\n",
      "Epoch [3], Batch [200/391], Loss: 4.4229, LR: 0.000502\n",
      "Epoch [3], Batch [250/391], Loss: 3.5897, LR: 0.000528\n",
      "Epoch [3], Batch [300/391], Loss: 3.9071, LR: 0.000553\n",
      "Epoch [3], Batch [350/391], Loss: 4.0210, LR: 0.000579\n",
      "Train set: Epoch: 3, Average loss:4.0555, LR: 0.000600 Top-1 Accuracy: 9.9920%, Top-5 Accuracy: 29.9100%, Time consumed:55.14s\n",
      "Test set: Epoch: 3, Average loss:3.7741, Top-1 Accuracy: 13.2200%, Top-5 Accuracy: 35.3200%, Time consumed:8.15s\n",
      "\n",
      "새로운 최고 top-1 정확도: 13.22%, top-5 정확도: 35.32%\n",
      "새로운 최고 top-5 정확도: 35.32%\n",
      "Accuracy improved (11.56% --> 13.22%). Saving model ...\n"
     ]
    },
    {
     "name": "stderr",
     "output_type": "stream",
     "text": [
      "  3%|██▊                                                                                          | 3/100 [03:04<1:40:00, 61.86s/it]"
     ]
    },
    {
     "name": "stdout",
     "output_type": "stream",
     "text": [
      "Epoch [4], Batch [50/391], Loss: 4.1712, LR: 0.000626\n",
      "Epoch [4], Batch [100/391], Loss: 4.1509, LR: 0.000651\n",
      "Epoch [4], Batch [150/391], Loss: 3.8164, LR: 0.000677\n",
      "Epoch [4], Batch [200/391], Loss: 4.0641, LR: 0.000702\n",
      "Epoch [4], Batch [250/391], Loss: 4.1217, LR: 0.000728\n",
      "Epoch [4], Batch [300/391], Loss: 3.6913, LR: 0.000753\n",
      "Epoch [4], Batch [350/391], Loss: 4.1850, LR: 0.000779\n",
      "Train set: Epoch: 4, Average loss:3.9936, LR: 0.000800 Top-1 Accuracy: 10.8800%, Top-5 Accuracy: 31.8100%, Time consumed:52.74s\n",
      "Test set: Epoch: 4, Average loss:3.5230, Top-1 Accuracy: 16.3500%, Top-5 Accuracy: 42.0800%, Time consumed:8.31s\n",
      "\n",
      "새로운 최고 top-1 정확도: 16.35%, top-5 정확도: 42.08%\n",
      "새로운 최고 top-5 정확도: 42.08%\n",
      "Accuracy improved (13.22% --> 16.35%). Saving model ...\n"
     ]
    },
    {
     "name": "stderr",
     "output_type": "stream",
     "text": [
      "  4%|███▋                                                                                         | 4/100 [04:05<1:38:38, 61.65s/it]"
     ]
    },
    {
     "name": "stdout",
     "output_type": "stream",
     "text": [
      "Epoch [5], Batch [50/391], Loss: 4.0862, LR: 0.000826\n",
      "Epoch [5], Batch [100/391], Loss: 4.0172, LR: 0.000851\n",
      "Epoch [5], Batch [150/391], Loss: 3.8763, LR: 0.000877\n",
      "Epoch [5], Batch [200/391], Loss: 4.3836, LR: 0.000902\n",
      "Epoch [5], Batch [250/391], Loss: 3.4747, LR: 0.000928\n",
      "Epoch [5], Batch [300/391], Loss: 4.4083, LR: 0.000953\n",
      "Epoch [5], Batch [350/391], Loss: 4.3984, LR: 0.000979\n",
      "Train set: Epoch: 5, Average loss:3.9236, LR: 0.001000 Top-1 Accuracy: 11.9300%, Top-5 Accuracy: 33.7840%, Time consumed:51.12s\n"
     ]
    },
    {
     "name": "stderr",
     "output_type": "stream",
     "text": [
      "  5%|████▋                                                                                        | 5/100 [05:05<1:36:24, 60.89s/it]"
     ]
    },
    {
     "name": "stdout",
     "output_type": "stream",
     "text": [
      "Test set: Epoch: 5, Average loss:3.6796, Top-1 Accuracy: 14.3200%, Top-5 Accuracy: 37.3200%, Time consumed:8.43s\n",
      "\n",
      "EarlyStopping 카운터: 1 / 10\n",
      "Epoch [6], Batch [50/391], Loss: 3.6534, LR: 0.001000\n",
      "Epoch [6], Batch [100/391], Loss: 3.7935, LR: 0.001000\n",
      "Epoch [6], Batch [150/391], Loss: 4.0699, LR: 0.001000\n",
      "Epoch [6], Batch [200/391], Loss: 3.2789, LR: 0.001000\n",
      "Epoch [6], Batch [250/391], Loss: 3.9950, LR: 0.001000\n",
      "Epoch [6], Batch [300/391], Loss: 4.1114, LR: 0.001000\n",
      "Epoch [6], Batch [350/391], Loss: 4.2594, LR: 0.001000\n",
      "Train set: Epoch: 6, Average loss:3.9371, LR: 0.001000 Top-1 Accuracy: 12.0380%, Top-5 Accuracy: 33.4640%, Time consumed:51.07s\n",
      "Test set: Epoch: 6, Average loss:3.4170, Top-1 Accuracy: 19.3100%, Top-5 Accuracy: 45.2100%, Time consumed:8.14s\n",
      "\n",
      "새로운 최고 top-1 정확도: 19.31%, top-5 정확도: 45.21%\n",
      "새로운 최고 top-5 정확도: 45.21%\n",
      "Accuracy improved (16.35% --> 19.31%). Saving model ...\n"
     ]
    },
    {
     "name": "stderr",
     "output_type": "stream",
     "text": [
      "  6%|█████▌                                                                                       | 6/100 [06:04<1:34:37, 60.40s/it]"
     ]
    },
    {
     "name": "stdout",
     "output_type": "stream",
     "text": [
      "Epoch [7], Batch [50/391], Loss: 4.6205, LR: 0.001000\n",
      "Epoch [7], Batch [100/391], Loss: 3.6430, LR: 0.001000\n",
      "Epoch [7], Batch [150/391], Loss: 3.4554, LR: 0.001000\n",
      "Epoch [7], Batch [200/391], Loss: 3.9821, LR: 0.001000\n",
      "Epoch [7], Batch [250/391], Loss: 3.7295, LR: 0.001000\n",
      "Epoch [7], Batch [300/391], Loss: 3.6430, LR: 0.001000\n",
      "Epoch [7], Batch [350/391], Loss: 4.4457, LR: 0.001000\n",
      "Train set: Epoch: 7, Average loss:3.9130, LR: 0.001000 Top-1 Accuracy: 12.5140%, Top-5 Accuracy: 34.1700%, Time consumed:50.97s\n",
      "Test set: Epoch: 7, Average loss:3.3492, Top-1 Accuracy: 20.6500%, Top-5 Accuracy: 47.7300%, Time consumed:7.96s\n",
      "\n",
      "새로운 최고 top-1 정확도: 20.65%, top-5 정확도: 47.73%\n",
      "새로운 최고 top-5 정확도: 47.73%\n",
      "Accuracy improved (19.31% --> 20.65%). Saving model ...\n"
     ]
    },
    {
     "name": "stderr",
     "output_type": "stream",
     "text": [
      "  7%|██████▌                                                                                      | 7/100 [07:03<1:32:59, 59.99s/it]"
     ]
    },
    {
     "name": "stdout",
     "output_type": "stream",
     "text": [
      "Epoch [8], Batch [50/391], Loss: 3.8744, LR: 0.001000\n",
      "Epoch [8], Batch [100/391], Loss: 3.9770, LR: 0.001000\n",
      "Epoch [8], Batch [150/391], Loss: 4.4167, LR: 0.001000\n",
      "Epoch [8], Batch [200/391], Loss: 3.8905, LR: 0.001000\n",
      "Epoch [8], Batch [250/391], Loss: 3.8063, LR: 0.001000\n",
      "Epoch [8], Batch [300/391], Loss: 4.2357, LR: 0.001000\n",
      "Epoch [8], Batch [350/391], Loss: 3.5927, LR: 0.001000\n",
      "Train set: Epoch: 8, Average loss:3.9134, LR: 0.001000 Top-1 Accuracy: 12.1620%, Top-5 Accuracy: 34.2700%, Time consumed:50.58s\n"
     ]
    },
    {
     "name": "stderr",
     "output_type": "stream",
     "text": [
      "  8%|███████▍                                                                                     | 8/100 [08:02<1:31:31, 59.69s/it]"
     ]
    },
    {
     "name": "stdout",
     "output_type": "stream",
     "text": [
      "Test set: Epoch: 8, Average loss:3.3235, Top-1 Accuracy: 20.2500%, Top-5 Accuracy: 48.3400%, Time consumed:8.44s\n",
      "\n",
      "새로운 최고 top-5 정확도: 48.34%\n",
      "EarlyStopping 카운터: 1 / 10\n",
      "Epoch [9], Batch [50/391], Loss: 3.7858, LR: 0.001000\n",
      "Epoch [9], Batch [100/391], Loss: 4.3891, LR: 0.001000\n",
      "Epoch [9], Batch [150/391], Loss: 3.8628, LR: 0.001000\n",
      "Epoch [9], Batch [200/391], Loss: 3.8162, LR: 0.001000\n",
      "Epoch [9], Batch [250/391], Loss: 4.2204, LR: 0.001000\n",
      "Epoch [9], Batch [300/391], Loss: 3.4191, LR: 0.001000\n",
      "Epoch [9], Batch [350/391], Loss: 3.6804, LR: 0.001000\n",
      "Train set: Epoch: 9, Average loss:3.9440, LR: 0.001000 Top-1 Accuracy: 12.2920%, Top-5 Accuracy: 34.0640%, Time consumed:54.60s\n"
     ]
    },
    {
     "name": "stderr",
     "output_type": "stream",
     "text": [
      "  9%|████████▎                                                                                    | 9/100 [09:05<1:32:11, 60.79s/it]"
     ]
    },
    {
     "name": "stdout",
     "output_type": "stream",
     "text": [
      "Test set: Epoch: 9, Average loss:3.3320, Top-1 Accuracy: 19.2300%, Top-5 Accuracy: 48.2200%, Time consumed:8.61s\n",
      "\n",
      "EarlyStopping 카운터: 2 / 10\n",
      "Epoch [10], Batch [50/391], Loss: 3.7683, LR: 0.001000\n",
      "Epoch [10], Batch [100/391], Loss: 4.1273, LR: 0.001000\n",
      "Epoch [10], Batch [150/391], Loss: 4.2528, LR: 0.001000\n",
      "Epoch [10], Batch [200/391], Loss: 4.5668, LR: 0.001000\n",
      "Epoch [10], Batch [250/391], Loss: 4.2294, LR: 0.001000\n",
      "Epoch [10], Batch [300/391], Loss: 3.2238, LR: 0.001000\n",
      "Epoch [10], Batch [350/391], Loss: 4.0006, LR: 0.001000\n",
      "Train set: Epoch: 10, Average loss:3.9082, LR: 0.001000 Top-1 Accuracy: 13.1760%, Top-5 Accuracy: 35.0780%, Time consumed:52.39s\n"
     ]
    },
    {
     "name": "stderr",
     "output_type": "stream",
     "text": [
      " 10%|█████████▏                                                                                  | 10/100 [10:06<1:31:14, 60.83s/it]"
     ]
    },
    {
     "name": "stdout",
     "output_type": "stream",
     "text": [
      "Test set: Epoch: 10, Average loss:3.6978, Top-1 Accuracy: 14.3300%, Top-5 Accuracy: 36.7400%, Time consumed:8.51s\n",
      "\n",
      "EarlyStopping 카운터: 3 / 10\n",
      "Epoch [11], Batch [50/391], Loss: 3.9109, LR: 0.001000\n",
      "Epoch [11], Batch [100/391], Loss: 4.1782, LR: 0.001000\n",
      "Epoch [11], Batch [150/391], Loss: 3.2167, LR: 0.001000\n",
      "Epoch [11], Batch [200/391], Loss: 3.3141, LR: 0.001000\n",
      "Epoch [11], Batch [250/391], Loss: 4.1397, LR: 0.001000\n",
      "Epoch [11], Batch [300/391], Loss: 4.2575, LR: 0.001000\n",
      "Epoch [11], Batch [350/391], Loss: 3.3731, LR: 0.001000\n",
      "Train set: Epoch: 11, Average loss:3.9065, LR: 0.001000 Top-1 Accuracy: 12.4000%, Top-5 Accuracy: 34.4160%, Time consumed:51.02s\n"
     ]
    },
    {
     "name": "stderr",
     "output_type": "stream",
     "text": [
      " 11%|██████████                                                                                  | 11/100 [11:06<1:29:37, 60.42s/it]"
     ]
    },
    {
     "name": "stdout",
     "output_type": "stream",
     "text": [
      "Test set: Epoch: 11, Average loss:3.6587, Top-1 Accuracy: 15.4700%, Top-5 Accuracy: 40.3000%, Time consumed:8.46s\n",
      "\n",
      "EarlyStopping 카운터: 4 / 10\n",
      "Epoch [12], Batch [50/391], Loss: 3.0928, LR: 0.000100\n",
      "Epoch [12], Batch [100/391], Loss: 4.0565, LR: 0.000100\n",
      "Epoch [12], Batch [150/391], Loss: 4.0585, LR: 0.000100\n",
      "Epoch [12], Batch [200/391], Loss: 4.3236, LR: 0.000100\n",
      "Epoch [12], Batch [250/391], Loss: 3.3742, LR: 0.000100\n",
      "Epoch [12], Batch [300/391], Loss: 3.8845, LR: 0.000100\n",
      "Epoch [12], Batch [350/391], Loss: 3.2511, LR: 0.000100\n",
      "Train set: Epoch: 12, Average loss:3.7911, LR: 0.000100 Top-1 Accuracy: 14.9160%, Top-5 Accuracy: 38.0760%, Time consumed:51.49s\n"
     ]
    },
    {
     "name": "stderr",
     "output_type": "stream",
     "text": [
      " 12%|███████████                                                                                 | 12/100 [12:06<1:28:18, 60.22s/it]"
     ]
    },
    {
     "name": "stdout",
     "output_type": "stream",
     "text": [
      "Test set: Epoch: 12, Average loss:3.3227, Top-1 Accuracy: 20.5800%, Top-5 Accuracy: 48.4300%, Time consumed:8.26s\n",
      "\n",
      "새로운 최고 top-5 정확도: 48.43%\n",
      "EarlyStopping 카운터: 5 / 10\n",
      "Epoch [13], Batch [50/391], Loss: 4.2935, LR: 0.000100\n",
      "Epoch [13], Batch [100/391], Loss: 3.8307, LR: 0.000100\n",
      "Epoch [13], Batch [150/391], Loss: 4.2085, LR: 0.000100\n",
      "Epoch [13], Batch [200/391], Loss: 3.4971, LR: 0.000100\n",
      "Epoch [13], Batch [250/391], Loss: 3.7767, LR: 0.000100\n",
      "Epoch [13], Batch [300/391], Loss: 4.4504, LR: 0.000100\n",
      "Epoch [13], Batch [350/391], Loss: 3.0681, LR: 0.000100\n",
      "Train set: Epoch: 13, Average loss:3.6729, LR: 0.000100 Top-1 Accuracy: 16.9060%, Top-5 Accuracy: 41.5500%, Time consumed:50.93s\n",
      "Test set: Epoch: 13, Average loss:3.1790, Top-1 Accuracy: 23.5700%, Top-5 Accuracy: 52.2100%, Time consumed:8.67s\n",
      "\n",
      "새로운 최고 top-1 정확도: 23.57%, top-5 정확도: 52.21%\n",
      "새로운 최고 top-5 정확도: 52.21%\n",
      "Accuracy improved (20.65% --> 23.57%). Saving model ...\n"
     ]
    },
    {
     "name": "stderr",
     "output_type": "stream",
     "text": [
      " 13%|███████████▉                                                                                | 13/100 [13:05<1:27:09, 60.11s/it]"
     ]
    },
    {
     "name": "stdout",
     "output_type": "stream",
     "text": [
      "Epoch [14], Batch [50/391], Loss: 3.8744, LR: 0.000100\n",
      "Epoch [14], Batch [100/391], Loss: 4.0096, LR: 0.000100\n",
      "Epoch [14], Batch [150/391], Loss: 4.2390, LR: 0.000100\n",
      "Epoch [14], Batch [200/391], Loss: 4.1153, LR: 0.000100\n",
      "Epoch [14], Batch [250/391], Loss: 3.1430, LR: 0.000100\n",
      "Epoch [14], Batch [300/391], Loss: 3.0462, LR: 0.000100\n",
      "Epoch [14], Batch [350/391], Loss: 3.0680, LR: 0.000100\n",
      "Train set: Epoch: 14, Average loss:3.6877, LR: 0.000100 Top-1 Accuracy: 16.8260%, Top-5 Accuracy: 41.2060%, Time consumed:50.86s\n"
     ]
    },
    {
     "name": "stderr",
     "output_type": "stream",
     "text": [
      " 14%|████████████▉                                                                               | 14/100 [14:05<1:25:46, 59.84s/it]"
     ]
    },
    {
     "name": "stdout",
     "output_type": "stream",
     "text": [
      "Test set: Epoch: 14, Average loss:3.1558, Top-1 Accuracy: 22.9700%, Top-5 Accuracy: 51.6400%, Time consumed:8.35s\n",
      "\n",
      "EarlyStopping 카운터: 1 / 10\n",
      "Epoch [15], Batch [50/391], Loss: 3.5931, LR: 0.000100\n",
      "Epoch [15], Batch [100/391], Loss: 3.9532, LR: 0.000100\n",
      "Epoch [15], Batch [150/391], Loss: 4.0522, LR: 0.000100\n",
      "Epoch [15], Batch [200/391], Loss: 3.4146, LR: 0.000100\n",
      "Epoch [15], Batch [250/391], Loss: 3.5329, LR: 0.000100\n",
      "Epoch [15], Batch [300/391], Loss: 3.0561, LR: 0.000100\n",
      "Epoch [15], Batch [350/391], Loss: 3.4370, LR: 0.000100\n",
      "Train set: Epoch: 15, Average loss:3.6840, LR: 0.000100 Top-1 Accuracy: 17.2680%, Top-5 Accuracy: 41.8640%, Time consumed:52.04s\n"
     ]
    },
    {
     "name": "stderr",
     "output_type": "stream",
     "text": [
      " 15%|█████████████▊                                                                              | 15/100 [15:05<1:25:12, 60.15s/it]"
     ]
    },
    {
     "name": "stdout",
     "output_type": "stream",
     "text": [
      "Test set: Epoch: 15, Average loss:3.5290, Top-1 Accuracy: 20.2900%, Top-5 Accuracy: 48.1300%, Time consumed:8.81s\n",
      "\n",
      "EarlyStopping 카운터: 2 / 10\n",
      "Epoch [16], Batch [50/391], Loss: 4.1062, LR: 0.000100\n",
      "Epoch [16], Batch [100/391], Loss: 3.7666, LR: 0.000100\n",
      "Epoch [16], Batch [150/391], Loss: 3.0958, LR: 0.000100\n",
      "Epoch [16], Batch [200/391], Loss: 3.8594, LR: 0.000100\n",
      "Epoch [16], Batch [250/391], Loss: 3.9595, LR: 0.000100\n",
      "Epoch [16], Batch [300/391], Loss: 3.2769, LR: 0.000100\n",
      "Epoch [16], Batch [350/391], Loss: 4.3092, LR: 0.000100\n",
      "Train set: Epoch: 16, Average loss:3.6972, LR: 0.000100 Top-1 Accuracy: 16.8940%, Top-5 Accuracy: 41.4720%, Time consumed:50.63s\n"
     ]
    },
    {
     "name": "stderr",
     "output_type": "stream",
     "text": [
      " 16%|██████████████▋                                                                             | 16/100 [16:05<1:23:45, 59.82s/it]"
     ]
    },
    {
     "name": "stdout",
     "output_type": "stream",
     "text": [
      "Test set: Epoch: 16, Average loss:3.7813, Top-1 Accuracy: 20.4500%, Top-5 Accuracy: 46.2700%, Time consumed:8.45s\n",
      "\n",
      "EarlyStopping 카운터: 3 / 10\n",
      "Epoch [17], Batch [50/391], Loss: 4.0306, LR: 0.000100\n",
      "Epoch [17], Batch [100/391], Loss: 3.5458, LR: 0.000100\n",
      "Epoch [17], Batch [150/391], Loss: 3.0810, LR: 0.000100\n",
      "Epoch [17], Batch [200/391], Loss: 3.3442, LR: 0.000100\n",
      "Epoch [17], Batch [250/391], Loss: 4.1726, LR: 0.000100\n",
      "Epoch [17], Batch [300/391], Loss: 3.4311, LR: 0.000100\n",
      "Epoch [17], Batch [350/391], Loss: 3.4073, LR: 0.000100\n",
      "Train set: Epoch: 17, Average loss:3.6632, LR: 0.000100 Top-1 Accuracy: 17.6960%, Top-5 Accuracy: 42.2740%, Time consumed:50.95s\n"
     ]
    },
    {
     "name": "stderr",
     "output_type": "stream",
     "text": [
      " 17%|███████████████▋                                                                            | 17/100 [17:04<1:22:37, 59.73s/it]"
     ]
    },
    {
     "name": "stdout",
     "output_type": "stream",
     "text": [
      "Test set: Epoch: 17, Average loss:3.3551, Top-1 Accuracy: 19.5400%, Top-5 Accuracy: 46.5700%, Time consumed:8.56s\n",
      "\n",
      "EarlyStopping 카운터: 4 / 10\n",
      "Epoch [18], Batch [50/391], Loss: 2.9802, LR: 0.000010\n",
      "Epoch [18], Batch [100/391], Loss: 4.1888, LR: 0.000010\n",
      "Epoch [18], Batch [150/391], Loss: 3.4759, LR: 0.000010\n",
      "Epoch [18], Batch [200/391], Loss: 3.3561, LR: 0.000010\n",
      "Epoch [18], Batch [250/391], Loss: 3.5937, LR: 0.000010\n",
      "Epoch [18], Batch [300/391], Loss: 3.1988, LR: 0.000010\n",
      "Epoch [18], Batch [350/391], Loss: 4.0977, LR: 0.000010\n",
      "Train set: Epoch: 18, Average loss:3.6512, LR: 0.000010 Top-1 Accuracy: 17.8820%, Top-5 Accuracy: 42.9160%, Time consumed:50.93s\n"
     ]
    },
    {
     "name": "stderr",
     "output_type": "stream",
     "text": [
      " 18%|████████████████▌                                                                           | 18/100 [18:04<1:21:38, 59.74s/it]"
     ]
    },
    {
     "name": "stdout",
     "output_type": "stream",
     "text": [
      "Test set: Epoch: 18, Average loss:3.2897, Top-1 Accuracy: 21.7400%, Top-5 Accuracy: 48.8000%, Time consumed:8.82s\n",
      "\n",
      "EarlyStopping 카운터: 5 / 10\n",
      "Epoch [19], Batch [50/391], Loss: 3.5942, LR: 0.000010\n",
      "Epoch [19], Batch [100/391], Loss: 3.8435, LR: 0.000010\n",
      "Epoch [19], Batch [150/391], Loss: 3.8024, LR: 0.000010\n",
      "Epoch [19], Batch [200/391], Loss: 4.1556, LR: 0.000010\n",
      "Epoch [19], Batch [250/391], Loss: 2.8763, LR: 0.000010\n",
      "Epoch [19], Batch [300/391], Loss: 4.1120, LR: 0.000010\n",
      "Epoch [19], Batch [350/391], Loss: 3.0302, LR: 0.000010\n",
      "Train set: Epoch: 19, Average loss:3.6559, LR: 0.000010 Top-1 Accuracy: 17.8580%, Top-5 Accuracy: 42.8060%, Time consumed:51.67s\n"
     ]
    },
    {
     "name": "stderr",
     "output_type": "stream",
     "text": [
      " 19%|█████████████████▍                                                                          | 19/100 [19:04<1:20:54, 59.93s/it]"
     ]
    },
    {
     "name": "stdout",
     "output_type": "stream",
     "text": [
      "Test set: Epoch: 19, Average loss:4.0634, Top-1 Accuracy: 18.8900%, Top-5 Accuracy: 45.1800%, Time consumed:8.70s\n",
      "\n",
      "EarlyStopping 카운터: 6 / 10\n",
      "Epoch [20], Batch [50/391], Loss: 4.1833, LR: 0.000010\n",
      "Epoch [20], Batch [100/391], Loss: 3.5897, LR: 0.000010\n",
      "Epoch [20], Batch [150/391], Loss: 4.1394, LR: 0.000010\n",
      "Epoch [20], Batch [200/391], Loss: 4.1080, LR: 0.000010\n",
      "Epoch [20], Batch [250/391], Loss: 4.1617, LR: 0.000010\n",
      "Epoch [20], Batch [300/391], Loss: 3.3723, LR: 0.000010\n",
      "Epoch [20], Batch [350/391], Loss: 4.1026, LR: 0.000010\n",
      "Train set: Epoch: 20, Average loss:3.6272, LR: 0.000010 Top-1 Accuracy: 18.2780%, Top-5 Accuracy: 43.7760%, Time consumed:50.37s\n"
     ]
    },
    {
     "name": "stderr",
     "output_type": "stream",
     "text": [
      " 20%|██████████████████▍                                                                         | 20/100 [20:03<1:19:25, 59.57s/it]"
     ]
    },
    {
     "name": "stdout",
     "output_type": "stream",
     "text": [
      "Test set: Epoch: 20, Average loss:3.2730, Top-1 Accuracy: 21.6000%, Top-5 Accuracy: 48.9100%, Time consumed:8.37s\n",
      "\n",
      "EarlyStopping 카운터: 7 / 10\n",
      "Epoch [21], Batch [50/391], Loss: 2.8493, LR: 0.000010\n",
      "Epoch [21], Batch [100/391], Loss: 3.1595, LR: 0.000010\n",
      "Epoch [21], Batch [150/391], Loss: 4.2727, LR: 0.000010\n",
      "Epoch [21], Batch [200/391], Loss: 3.5153, LR: 0.000010\n",
      "Epoch [21], Batch [250/391], Loss: 4.3419, LR: 0.000010\n",
      "Epoch [21], Batch [300/391], Loss: 4.2252, LR: 0.000010\n",
      "Epoch [21], Batch [350/391], Loss: 4.1676, LR: 0.000010\n",
      "Train set: Epoch: 21, Average loss:3.6646, LR: 0.000010 Top-1 Accuracy: 18.0740%, Top-5 Accuracy: 42.9560%, Time consumed:51.30s\n"
     ]
    },
    {
     "name": "stderr",
     "output_type": "stream",
     "text": [
      " 21%|███████████████████▎                                                                        | 21/100 [21:03<1:18:28, 59.60s/it]"
     ]
    },
    {
     "name": "stdout",
     "output_type": "stream",
     "text": [
      "Test set: Epoch: 21, Average loss:4.1292, Top-1 Accuracy: 19.6600%, Top-5 Accuracy: 46.1600%, Time consumed:8.36s\n",
      "\n",
      "EarlyStopping 카운터: 8 / 10\n",
      "Epoch [22], Batch [50/391], Loss: 3.0645, LR: 0.000001\n",
      "Epoch [22], Batch [100/391], Loss: 3.6660, LR: 0.000001\n",
      "Epoch [22], Batch [150/391], Loss: 3.5153, LR: 0.000001\n",
      "Epoch [22], Batch [200/391], Loss: 3.8972, LR: 0.000001\n",
      "Epoch [22], Batch [250/391], Loss: 4.0173, LR: 0.000001\n",
      "Epoch [22], Batch [300/391], Loss: 4.1590, LR: 0.000001\n",
      "Epoch [22], Batch [350/391], Loss: 4.3197, LR: 0.000001\n",
      "Train set: Epoch: 22, Average loss:3.6661, LR: 0.000001 Top-1 Accuracy: 17.7880%, Top-5 Accuracy: 42.7220%, Time consumed:50.48s\n"
     ]
    },
    {
     "name": "stderr",
     "output_type": "stream",
     "text": [
      " 22%|████████████████████▏                                                                       | 22/100 [22:02<1:17:13, 59.40s/it]"
     ]
    },
    {
     "name": "stdout",
     "output_type": "stream",
     "text": [
      "Test set: Epoch: 22, Average loss:3.3325, Top-1 Accuracy: 20.9400%, Top-5 Accuracy: 48.4300%, Time consumed:8.46s\n",
      "\n",
      "EarlyStopping 카운터: 9 / 10\n",
      "Epoch [23], Batch [50/391], Loss: 3.1043, LR: 0.000001\n",
      "Epoch [23], Batch [100/391], Loss: 4.3722, LR: 0.000001\n",
      "Epoch [23], Batch [150/391], Loss: 3.4011, LR: 0.000001\n",
      "Epoch [23], Batch [200/391], Loss: 3.3554, LR: 0.000001\n",
      "Epoch [23], Batch [250/391], Loss: 3.4909, LR: 0.000001\n",
      "Epoch [23], Batch [300/391], Loss: 2.7837, LR: 0.000001\n",
      "Epoch [23], Batch [350/391], Loss: 3.3395, LR: 0.000001\n",
      "Train set: Epoch: 23, Average loss:3.6635, LR: 0.000001 Top-1 Accuracy: 17.6980%, Top-5 Accuracy: 42.4540%, Time consumed:51.12s\n"
     ]
    },
    {
     "name": "stderr",
     "output_type": "stream",
     "text": [
      " 22%|████████████████████▏                                                                       | 22/100 [23:01<1:21:38, 62.80s/it]"
     ]
    },
    {
     "name": "stdout",
     "output_type": "stream",
     "text": [
      "Test set: Epoch: 23, Average loss:3.4015, Top-1 Accuracy: 19.6100%, Top-5 Accuracy: 45.4400%, Time consumed:8.39s\n",
      "\n",
      "EarlyStopping 카운터: 10 / 10\n",
      "에폭 23에서 학습 조기 종료. 최고 성능 에폭: 13\n",
      "테스트 정확도 기준 최고 모델 로드 중...\n"
     ]
    },
    {
     "name": "stderr",
     "output_type": "stream",
     "text": [
      "\n"
     ]
    },
    {
     "name": "stdout",
     "output_type": "stream",
     "text": [
      "Test set: Epoch: 100, Average loss:3.1790, Top-1 Accuracy: 23.5700%, Top-5 Accuracy: 52.2100%, Time consumed:8.46s\n",
      "\n",
      "완료! 최고 테스트 top-1 정확도: 23.57%, 최고 테스트 top-5 정확도: 52.21%\n",
      "최종 테스트 top-1 정확도: 23.57%, 최종 테스트 top-5 정확도: 52.21%\n",
      "전체 학습 시간: 1390.12 초\n"
     ]
    },
    {
     "data": {
      "text/html": [],
      "text/plain": [
       "<IPython.core.display.HTML object>"
      ]
     },
     "metadata": {},
     "output_type": "display_data"
    },
    {
     "data": {
      "text/html": [
       "<br>    <style><br>        .wandb-row {<br>            display: flex;<br>            flex-direction: row;<br>            flex-wrap: wrap;<br>            justify-content: flex-start;<br>            width: 100%;<br>        }<br>        .wandb-col {<br>            display: flex;<br>            flex-direction: column;<br>            flex-basis: 100%;<br>            flex: 1;<br>            padding: 10px;<br>        }<br>    </style><br><div class=\"wandb-row\"><div class=\"wandb-col\"><h3>Run history:</h3><br/><table class=\"wandb\"><tr><td>epoch</td><td>▁▁▂▂▂▃▃▃▄▄▄▅▅▅▅▆▆▆▇▇▇██</td></tr><tr><td>learning_rate</td><td>▂▄▅▇██████▂▂▂▂▂▂▁▁▁▁▁▁▁</td></tr><tr><td>test_accuracy_top1</td><td>▁▂▃▄▃▆▇▆▆▃▄▆██▆▆▆▇▆▇▆▇▆</td></tr><tr><td>test_accuracy_top5</td><td>▁▂▃▅▃▆▇▇▇▃▄▇██▇▆▆▇▆▇▆▇▆</td></tr><tr><td>test_loss</td><td>▆▆▅▄▅▃▂▂▂▅▅▂▁▁▄▅▂▂█▂█▂▃</td></tr><tr><td>total_training_time</td><td>▁</td></tr><tr><td>train_accuracy_top1</td><td>▁▃▄▄▅▅▅▅▅▅▅▆▇▇▇▇███████</td></tr><tr><td>train_accuracy_top5</td><td>▁▃▄▅▅▅▅▅▅▆▅▆▇▇▇▇███████</td></tr><tr><td>train_loss</td><td>█▆▅▄▄▄▄▄▄▄▄▃▁▂▂▂▁▁▁▁▁▁▁</td></tr></table><br/></div><div class=\"wandb-col\"><h3>Run summary:</h3><br/><table class=\"wandb\"><tr><td>best_epoch</td><td>13</td></tr><tr><td>best_test_accuracy_top1</td><td>23.57</td></tr><tr><td>best_test_accuracy_top5</td><td>52.21</td></tr><tr><td>early_stopped</td><td>True</td></tr><tr><td>early_stopped_epoch</td><td>23</td></tr><tr><td>epoch</td><td>23</td></tr><tr><td>final_test_accuracy_top1</td><td>23.57</td></tr><tr><td>final_test_accuracy_top5</td><td>52.21</td></tr><tr><td>learning_rate</td><td>0.0</td></tr><tr><td>test_accuracy_top1</td><td>19.61</td></tr><tr><td>test_accuracy_top5</td><td>45.44</td></tr><tr><td>test_loss</td><td>3.40152</td></tr><tr><td>total_training_time</td><td>1390.11761</td></tr><tr><td>train_accuracy_top1</td><td>17.698</td></tr><tr><td>train_accuracy_top5</td><td>42.454</td></tr><tr><td>train_loss</td><td>3.66348</td></tr></table><br/></div></div>"
      ],
      "text/plain": [
       "<IPython.core.display.HTML object>"
      ]
     },
     "metadata": {},
     "output_type": "display_data"
    },
    {
     "data": {
      "text/html": [
       " View run <strong style=\"color:#cdcd00\">shake_resnet18_cutmix,flip,crop_standard</strong> at: <a href='https://wandb.ai/sokjh1310-hanyang-university/PBL-2/runs/ude5rwnx' target=\"_blank\">https://wandb.ai/sokjh1310-hanyang-university/PBL-2/runs/ude5rwnx</a><br> View project at: <a href='https://wandb.ai/sokjh1310-hanyang-university/PBL-2' target=\"_blank\">https://wandb.ai/sokjh1310-hanyang-university/PBL-2</a><br>Synced 5 W&B file(s), 0 media file(s), 0 artifact file(s) and 1 other file(s)"
      ],
      "text/plain": [
       "<IPython.core.display.HTML object>"
      ]
     },
     "metadata": {},
     "output_type": "display_data"
    },
    {
     "data": {
      "text/html": [
       "Find logs at: <code>./wandb/run-20250417_110204-ude5rwnx/logs</code>"
      ],
      "text/plain": [
       "<IPython.core.display.HTML object>"
      ]
     },
     "metadata": {},
     "output_type": "display_data"
    }
   ],
   "source": [
    "import torch\n",
    "import torch.nn as nn\n",
    "import torch.optim as optim\n",
    "from torch.utils.data import DataLoader\n",
    "import torchvision\n",
    "import torchvision.transforms as transforms\n",
    "import torchvision.transforms.v2 as transforms_v2  # CutMix를 위한 v2 transforms 추가\n",
    "import sys\n",
    "import os\n",
    "import time\n",
    "import random\n",
    "import numpy as np\n",
    "import wandb\n",
    "from tqdm import tqdm\n",
    "from tools.tool import AccuracyEarlyStopping, WarmUpLR  # 수정된 AccuracyEarlyStopping 클래스 임포트\n",
    "from models.shake_resnet import shake_resnet18\n",
    "\n",
    "wandb.login(key=\"ef091b9abcea3186341ddf8995d62bde62d7469e\")\n",
    "wandb.init(project=\"PBL-2\", name=\"shake_resnet18_cfc,warmup,reduce_standard\")  \n",
    "\n",
    "# WandB 설정\n",
    "config = {\n",
    "    \"model\": \"shake_resnet18\",\n",
    "    \"batch_size\": 128,\n",
    "    \"num_epochs\": 100,\n",
    "    \"learning_rate\": 0.001,\n",
    "    \"optimizer\": \"Adam\",\n",
    "    \"seed\": 2025,\n",
    "    \"deterministic\": False,\n",
    "    \"patience\": 10,  # early stopping patience\n",
    "    \"max_epochs_wait\": 30,  # 최대 30 에폭까지만 기다림\n",
    "    \"cutmix_alpha\": 1.0,  # CutMix 알파 파라미터 추가\n",
    "    \"cutmix_prob\": 0.5,   # CutMix 적용 확률 추가\n",
    "    \"crop_padding\": 4,    # RandomCrop 패딩 크기\n",
    "    \"crop_size\": 32,      # RandomCrop 크기 (CIFAR-100 이미지 크기는 32x32)\n",
    "    \"warmup_epochs\": 5,   # 웜업할 에폭 수 추가\n",
    "}\n",
    "wandb.config.update(config)\n",
    "\n",
    "# CIFAR-100 데이터셋 로드 - 기본 train/test 분할 사용\n",
    "transform_train = transforms.Compose([\n",
    "    transforms.RandomCrop(config[\"crop_size\"], padding=config[\"crop_padding\"]),  # 패딩 후 랜덤 크롭\n",
    "    transforms.RandomHorizontalFlip(),  # 수평 뒤집기\n",
    "    transforms.ToTensor(),\n",
    "    transforms.Normalize((0.5071, 0.4867, 0.4408), (0.2675, 0.2565, 0.2761)),\n",
    "])\n",
    "\n",
    "transform_test = transforms.Compose([\n",
    "    transforms.ToTensor(),\n",
    "    transforms.Normalize((0.5071, 0.4867, 0.4408), (0.2675, 0.2565, 0.2761)),\n",
    "])\n",
    "\n",
    "trainset = torchvision.datasets.CIFAR100(\n",
    "    root='./data', train=True, download=True, transform=transform_train)\n",
    "\n",
    "testset = torchvision.datasets.CIFAR100(\n",
    "    root='./data', train=False, download=True, transform=transform_test)\n",
    "\n",
    "# DataLoader 생성\n",
    "trainloader = DataLoader(trainset, batch_size=config[\"batch_size\"], shuffle=True, num_workers=16)\n",
    "testloader = DataLoader(testset, batch_size=config[\"batch_size\"], shuffle=False, num_workers=16)\n",
    "\n",
    "print(f\"Train set size: {len(trainset)}\")\n",
    "print(f\"Test set size: {len(testset)}\")\n",
    "\n",
    "# CutMix 변환 정의\n",
    "cutmix = transforms_v2.CutMix(alpha=config[\"cutmix_alpha\"], num_classes=100)  # CIFAR-100은 100개 클래스\n",
    "\n",
    "def train(model, trainloader, criterion, optimizer, device, epoch, warmup_scheduler=None, warmup_epochs=5):\n",
    "    \"\"\"\n",
    "    학습 함수 (CutMix 적용)\n",
    "    \"\"\"\n",
    "    model.train()   # 모델을 학습 모드로 설정\n",
    "    start_time = time.time()  # 시간 측정 시작\n",
    "    running_loss = 0.0\n",
    "    correct_top1 = 0\n",
    "    correct_top5 = 0\n",
    "    total = 0\n",
    "    \n",
    "    for i, (inputs, labels) in enumerate(trainloader):\n",
    "        inputs, labels = inputs.to(device), labels.to(device)\n",
    "        \n",
    "        # CutMix 확률적 적용\n",
    "        if random.random() < config[\"cutmix_prob\"]:\n",
    "            inputs, labels = cutmix(inputs, labels)\n",
    "            # 이 경우 labels은 원-핫 인코딩 형태로 변환됨\n",
    "            use_cutmix = True\n",
    "        else:\n",
    "            use_cutmix = False\n",
    "        \n",
    "        optimizer.zero_grad()\n",
    "        \n",
    "        outputs = model(inputs)\n",
    "        \n",
    "        # CutMix 적용 여부에 따라 손실 함수 선택\n",
    "        if use_cutmix:\n",
    "            # CutMix가 적용된 경우 (원-핫 인코딩된 레이블)\n",
    "            loss = torch.nn.functional.cross_entropy(outputs, labels)\n",
    "        else:\n",
    "            # 일반적인 경우 (정수 인덱스 레이블)\n",
    "            loss = criterion(outputs, labels)\n",
    "            \n",
    "        loss.backward()\n",
    "        optimizer.step()\n",
    "\n",
    "        # 학습률 스케줄러 업데이트 - warmup 스케줄러만 여기서 업데이트\n",
    "        if epoch < warmup_epochs and warmup_scheduler is not None:\n",
    "            warmup_scheduler.step()\n",
    "        \n",
    "        running_loss += loss.item()\n",
    "        \n",
    "        # 정확도 계산 - CutMix 적용 여부에 따라 다르게 처리\n",
    "        if use_cutmix:\n",
    "            # 원-핫 인코딩된 레이블에서 argmax를 사용해 가장 큰 값의 인덱스 추출\n",
    "            _, label_idx = labels.max(1)\n",
    "        else:\n",
    "            # 정수 인덱스 레이블 그대로 사용\n",
    "            label_idx = labels\n",
    "            \n",
    "        # top-1 정확도 계산\n",
    "        _, predicted = outputs.max(1)\n",
    "        total += inputs.size(0)\n",
    "        correct_top1 += predicted.eq(label_idx).sum().item()\n",
    "        \n",
    "        # top-5 정확도 계산\n",
    "        _, top5_idx = outputs.topk(5, 1, largest=True, sorted=True)\n",
    "        correct_top5 += sum([1 for i in range(len(label_idx)) if label_idx[i] in top5_idx[i]])\n",
    "        \n",
    "        if (i + 1) % 50 == 0:  # 50 배치마다 출력\n",
    "            print(f'Epoch [{epoch+1}], Batch [{i+1}/{len(trainloader)}], Loss: {loss.item():.4f}, LR: {optimizer.param_groups[0][\"lr\"]:.6f}')\n",
    "    \n",
    "    epoch_loss = running_loss / len(trainloader)\n",
    "    accuracy_top1 = 100.0 * correct_top1 / total\n",
    "    accuracy_top5 = 100.0 * correct_top5 / total\n",
    "    \n",
    "    train_time = time.time() - start_time\n",
    "    \n",
    "    # 학습 세트에 대한 성능 출력\n",
    "    print(f'Train set: Epoch: {epoch+1}, Average loss:{epoch_loss:.4f}, LR: {optimizer.param_groups[0][\"lr\"]:.6f} '\n",
    "          f'Top-1 Accuracy: {accuracy_top1:.4f}%, Top-5 Accuracy: {accuracy_top5:.4f}%, Time consumed:{train_time:.2f}s')\n",
    "    \n",
    "    return epoch_loss, accuracy_top1, accuracy_top5\n",
    "\n",
    "def evaluate(model, dataloader, criterion, device, epoch, phase=\"test\"):\n",
    "    \"\"\"\n",
    "    평가 함수\n",
    "    \"\"\"\n",
    "    model.eval()  # 모델을 평가 모드로 설정\n",
    "    start_time = time.time()  # 시간 측정 시작\n",
    "    \n",
    "    eval_loss = 0.0\n",
    "    correct_top1 = 0\n",
    "    correct_top5 = 0\n",
    "    total = 0\n",
    "    \n",
    "    # 그래디언트 계산 비활성화\n",
    "    with torch.no_grad():\n",
    "        for inputs, labels in dataloader:\n",
    "            inputs, labels = inputs.to(device), labels.to(device)\n",
    "            \n",
    "            # 순전파\n",
    "            outputs = model(inputs)\n",
    "            \n",
    "            # 손실 계산\n",
    "            loss = criterion(outputs, labels)\n",
    "            eval_loss += loss.item()\n",
    "            \n",
    "            # top-1 정확도 계산\n",
    "            _, predicted = outputs.max(1)\n",
    "            total += labels.size(0)\n",
    "            correct_top1 += (predicted == labels).sum().item()\n",
    "            \n",
    "            # top-5 정확도 계산\n",
    "            _, top5_idx = outputs.topk(5, 1, largest=True, sorted=True)\n",
    "            correct_top5 += top5_idx.eq(labels.view(-1, 1).expand_as(top5_idx)).sum().item()\n",
    "    \n",
    "    # 평균 손실 및 정확도 계산\n",
    "    eval_loss = eval_loss / len(dataloader)\n",
    "    accuracy_top1 = 100.0 * correct_top1 / total\n",
    "    accuracy_top5 = 100.0 * correct_top5 / total\n",
    "    \n",
    "    # 평가 시간 계산\n",
    "    eval_time = time.time() - start_time\n",
    "    \n",
    "    # 테스트 세트에 대한 성능 출력\n",
    "    print(f'{phase.capitalize()} set: Epoch: {epoch+1}, Average loss:{eval_loss:.4f}, '\n",
    "          f'Top-1 Accuracy: {accuracy_top1:.4f}%, Top-5 Accuracy: {accuracy_top5:.4f}%, Time consumed:{eval_time:.2f}s')\n",
    "    print()\n",
    "    \n",
    "    return eval_loss, accuracy_top1, accuracy_top5\n",
    "\n",
    "# 메인 학습 루프\n",
    "def main_training_loop(model, trainloader, testloader, criterion, optimizer, device, num_epochs, patience, max_epochs_wait, warmup_scheduler=None, main_scheduler=None, warmup_epochs=5):\n",
    "    \"\"\"\n",
    "    메인 학습 루프 (accuracy 기준 early stopping)\n",
    "    \"\"\"\n",
    "    # 정확도 기반 얼리 스토핑 사용\n",
    "    early_stopping = AccuracyEarlyStopping(patience=patience, verbose=True, path='checkpoint.pt', max_epochs=max_epochs_wait)\n",
    "    \n",
    "    best_test_acc_top1 = 0.0\n",
    "    best_test_acc_top5 = 0.0\n",
    "    \n",
    "    # 테스트 정확도 기록을 위한 리스트\n",
    "    test_acc_top1_history = []\n",
    "    \n",
    "    # tqdm을 사용한 진행 상황 표시\n",
    "    for epoch in tqdm(range(num_epochs)):\n",
    "        # 학습\n",
    "        train_loss, train_acc_top1, train_acc_top5 = train(\n",
    "            model, \n",
    "            trainloader, \n",
    "            criterion, \n",
    "            optimizer, \n",
    "            device, \n",
    "            epoch, \n",
    "            warmup_scheduler, \n",
    "            warmup_epochs\n",
    "        )\n",
    "        \n",
    "        # 테스트 데이터로 평가\n",
    "        test_loss, test_acc_top1, test_acc_top5 = evaluate(model, testloader, criterion, device, epoch, phase=\"test\")\n",
    "\n",
    "        # 웜업 이후 ReduceLROnPlateau 스케줄러 업데이트 \n",
    "        if epoch >= warmup_epochs and main_scheduler is not None:\n",
    "            main_scheduler.step(test_acc_top1)  # 테스트 정확도에 따라 학습률 업데이트       \n",
    "            \n",
    "        # 테스트 정확도 기록\n",
    "        test_acc_top1_history.append(test_acc_top1)\n",
    "        \n",
    "        # WandB에 로깅\n",
    "        wandb.log({\n",
    "            \"epoch\": epoch + 1,\n",
    "            \"learning_rate\": optimizer.param_groups[0]['lr'],\n",
    "            \"train_loss\": train_loss,\n",
    "            \"train_accuracy_top1\": train_acc_top1,\n",
    "            \"train_accuracy_top5\": train_acc_top5,\n",
    "            \"test_loss\": test_loss,\n",
    "            \"test_accuracy_top1\": test_acc_top1,\n",
    "            \"test_accuracy_top5\": test_acc_top5\n",
    "        })\n",
    "            \n",
    "        # 최고 정확도 모델 저장 (top-1 기준)\n",
    "        if test_acc_top1 > best_test_acc_top1:\n",
    "            best_test_acc_top1 = test_acc_top1\n",
    "            best_test_acc_top5_at_best_top1 = test_acc_top5\n",
    "            print(f'새로운 최고 top-1 정확도: {best_test_acc_top1:.2f}%, top-5 정확도: {best_test_acc_top5_at_best_top1:.2f}%')\n",
    "            # 모델 저장\n",
    "            model_path = f'best_model_{wandb.run.name}.pth'\n",
    "            torch.save(model.state_dict(), model_path)\n",
    "            \n",
    "            # WandB에 모델 아티팩트 저장\n",
    "            wandb.save(model_path)\n",
    "        \n",
    "        # top-5 accuracy 기록 업데이트\n",
    "        if test_acc_top5 > best_test_acc_top5:\n",
    "            best_test_acc_top5 = test_acc_top5\n",
    "            print(f'새로운 최고 top-5 정확도: {best_test_acc_top5:.2f}%')\n",
    "\n",
    "        # Early stopping 체크 (test_acc_top1 기준)\n",
    "        early_stopping(test_acc_top1, model, epoch)\n",
    "        if early_stopping.early_stop:\n",
    "            print(f\"에폭 {epoch+1}에서 학습 조기 종료. 최고 성능 에폭: {early_stopping.best_epoch+1}\")\n",
    "            break\n",
    "    \n",
    "    # 훈련 완료 후 최고 모델 로드\n",
    "    print(\"테스트 정확도 기준 최고 모델 로드 중...\")\n",
    "    model_path = f'best_model_{wandb.run.name}.pth'\n",
    "    model.load_state_dict(torch.load(model_path))\n",
    "\n",
    "    # 최종 테스트 세트 평가\n",
    "    final_test_loss, final_test_acc_top1, final_test_acc_top5 = evaluate(model, testloader, criterion, device, num_epochs-1, phase=\"test\")\n",
    "    \n",
    "    print(f'완료! 최고 테스트 top-1 정확도: {best_test_acc_top1:.2f}%, 최고 테스트 top-5 정확도: {best_test_acc_top5:.2f}%')\n",
    "    print(f'최종 테스트 top-1 정확도: {final_test_acc_top1:.2f}%, 최종 테스트 top-5 정확도: {final_test_acc_top5:.2f}%')\n",
    "    \n",
    "    # WandB에 최종 결과 기록\n",
    "    wandb.run.summary[\"best_test_accuracy_top1\"] = best_test_acc_top1\n",
    "    wandb.run.summary[\"best_test_accuracy_top5\"] = best_test_acc_top5\n",
    "    wandb.run.summary[\"final_test_accuracy_top1\"] = final_test_acc_top1\n",
    "    wandb.run.summary[\"final_test_accuracy_top5\"] = final_test_acc_top5\n",
    "\n",
    "    # Early stopping 정보 저장\n",
    "    if early_stopping.early_stop:\n",
    "        wandb.run.summary[\"early_stopped\"] = True\n",
    "        wandb.run.summary[\"early_stopped_epoch\"] = epoch+1\n",
    "        wandb.run.summary[\"best_epoch\"] = early_stopping.best_epoch+1\n",
    "    else:\n",
    "        wandb.run.summary[\"early_stopped\"] = False\n",
    "\n",
    "\n",
    "# 디바이스 설정\n",
    "device = torch.device(\"cuda\" if torch.cuda.is_available() else \"cpu\")\n",
    "print(f\"Using device: {device}\")\n",
    "\n",
    "# 모델 초기화\n",
    "# 또는 매개변수 커스터마이징\n",
    "model = shake_resnet18(num_classes=100, p_drop=0.5, alpha_range=[0, 0]).to(device)\n",
    "criterion = nn.CrossEntropyLoss()  # 기본 CrossEntropyLoss 사용 (라벨 스무딩 없음)\n",
    "optimizer = optim.Adam(model.parameters(), lr=config[\"learning_rate\"])  # 옵티마이저 정의\n",
    "\n",
    "# WarmUpLR 스케줄러 초기화\n",
    "# 웜업할 총 iteration 수 계산 (웜업 에폭 × 배치 수)\n",
    "warmup_steps = config[\"warmup_epochs\"] * len(trainloader)\n",
    "warmup_scheduler = WarmUpLR(optimizer, total_iters=warmup_steps)\n",
    "\n",
    "# 웜업 이후 사용할 스케줄러 설정 \n",
    "main_scheduler = torch.optim.lr_scheduler.ReduceLROnPlateau(\n",
    "    optimizer, \n",
    "    mode='max',           # 정확도를 모니터링하므로 'max' 모드 사용\n",
    "    factor=0.1,           # 학습률 감소 비율 (10배 감소)\n",
    "    patience=3,           # 몇 에폭 동안 개선이 없을 때 감소시킬지\n",
    "    verbose=True,         # 학습률 변경 시 출력\n",
    "    threshold=0.01        # 개선으로 간주할 최소 변화량\n",
    ")\n",
    "\n",
    "# WandB에 모델 구조 기록\n",
    "wandb.watch(model, log=\"all\")\n",
    "\n",
    "# GPU 가속\n",
    "if torch.cuda.device_count() > 1:\n",
    "    print(f\"{torch.cuda.device_count()}개의 GPU를 사용합니다.\")\n",
    "    model = nn.DataParallel(model)\n",
    "\n",
    "# 훈련 시작 시간 기록\n",
    "start_time = time.time()\n",
    "\n",
    "# 메인 학습 루프 호출\n",
    "main_training_loop(\n",
    "    model=model,\n",
    "    trainloader=trainloader,\n",
    "    testloader=testloader,\n",
    "    criterion=criterion,\n",
    "    optimizer=optimizer,\n",
    "    device=device,\n",
    "    num_epochs=config[\"num_epochs\"],\n",
    "    patience=config[\"patience\"],\n",
    "    max_epochs_wait=config[\"max_epochs_wait\"],\n",
    "    warmup_scheduler=warmup_scheduler,\n",
    "    main_scheduler=main_scheduler,\n",
    "    warmup_epochs=config[\"warmup_epochs\"]\n",
    ")\n",
    "\n",
    "# 훈련 종료 시간 기록 및 출력\n",
    "end_time = time.time()\n",
    "total_time = end_time - start_time\n",
    "wandb.log({\"total_training_time\": total_time})\n",
    "\n",
    "print(f\"전체 학습 시간: {total_time:.2f} 초\")\n",
    "\n",
    "# WandB 실행 종료\n",
    "wandb.finish()"
   ]
  },
  {
   "cell_type": "code",
   "execution_count": null,
   "id": "e57b9218-aa24-4297-bb92-473c215e6767",
   "metadata": {},
   "outputs": [],
   "source": []
  }
 ],
 "metadata": {
  "kernelspec": {
   "display_name": "Python 3 (ipykernel)",
   "language": "python",
   "name": "python3"
  },
  "language_info": {
   "codemirror_mode": {
    "name": "ipython",
    "version": 3
   },
   "file_extension": ".py",
   "mimetype": "text/x-python",
   "name": "python",
   "nbconvert_exporter": "python",
   "pygments_lexer": "ipython3",
   "version": "3.11.9"
  }
 },
 "nbformat": 4,
 "nbformat_minor": 5
}
