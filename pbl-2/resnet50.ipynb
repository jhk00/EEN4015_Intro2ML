{
 "cells": [
  {
   "cell_type": "code",
   "execution_count": 1,
   "id": "516f9d5f-6361-4b03-98ee-e1ba4de86b92",
   "metadata": {},
   "outputs": [
    {
     "name": "stderr",
     "output_type": "stream",
     "text": [
      "\u001b[34m\u001b[1mwandb\u001b[0m: Using wandb-core as the SDK backend.  Please refer to https://wandb.me/wandb-core for more information.\n",
      "\u001b[34m\u001b[1mwandb\u001b[0m: \u001b[33mWARNING\u001b[0m If you're specifying your api key in code, ensure this code is not shared publicly.\n",
      "\u001b[34m\u001b[1mwandb\u001b[0m: \u001b[33mWARNING\u001b[0m Consider setting the WANDB_API_KEY environment variable, or running `wandb login` from the command line.\n",
      "\u001b[34m\u001b[1mwandb\u001b[0m: Appending key for api.wandb.ai to your netrc file: /home/guswls/.netrc\n",
      "\u001b[34m\u001b[1mwandb\u001b[0m: Currently logged in as: \u001b[33msokjh1310\u001b[0m (\u001b[33msokjh1310-hanyang-university\u001b[0m) to \u001b[32mhttps://api.wandb.ai\u001b[0m. Use \u001b[1m`wandb login --relogin`\u001b[0m to force relogin\n"
     ]
    },
    {
     "data": {
      "text/html": [
       "Tracking run with wandb version 0.19.9"
      ],
      "text/plain": [
       "<IPython.core.display.HTML object>"
      ]
     },
     "metadata": {},
     "output_type": "display_data"
    },
    {
     "data": {
      "text/html": [
       "Run data is saved locally in <code>/home/guswls/EEN4015_Intro2ML/pbl-2/wandb/run-20250412_024625-p9th1zr1</code>"
      ],
      "text/plain": [
       "<IPython.core.display.HTML object>"
      ]
     },
     "metadata": {},
     "output_type": "display_data"
    },
    {
     "data": {
      "text/html": [
       "Syncing run <strong><a href='https://wandb.ai/sokjh1310-hanyang-university/PBL-2/runs/p9th1zr1' target=\"_blank\">resnet50</a></strong> to <a href='https://wandb.ai/sokjh1310-hanyang-university/PBL-2' target=\"_blank\">Weights & Biases</a> (<a href='https://wandb.me/developer-guide' target=\"_blank\">docs</a>)<br>"
      ],
      "text/plain": [
       "<IPython.core.display.HTML object>"
      ]
     },
     "metadata": {},
     "output_type": "display_data"
    },
    {
     "data": {
      "text/html": [
       " View project at <a href='https://wandb.ai/sokjh1310-hanyang-university/PBL-2' target=\"_blank\">https://wandb.ai/sokjh1310-hanyang-university/PBL-2</a>"
      ],
      "text/plain": [
       "<IPython.core.display.HTML object>"
      ]
     },
     "metadata": {},
     "output_type": "display_data"
    },
    {
     "data": {
      "text/html": [
       " View run at <a href='https://wandb.ai/sokjh1310-hanyang-university/PBL-2/runs/p9th1zr1' target=\"_blank\">https://wandb.ai/sokjh1310-hanyang-university/PBL-2/runs/p9th1zr1</a>"
      ],
      "text/plain": [
       "<IPython.core.display.HTML object>"
      ]
     },
     "metadata": {},
     "output_type": "display_data"
    },
    {
     "name": "stdout",
     "output_type": "stream",
     "text": [
      "Files already downloaded and verified\n",
      "Files already downloaded and verified\n",
      "Using device: cuda\n",
      "2개의 GPU를 사용합니다.\n"
     ]
    },
    {
     "name": "stderr",
     "output_type": "stream",
     "text": [
      "  0%|                                                                                                       | 0/100 [00:00<?, ?it/s]"
     ]
    },
    {
     "name": "stdout",
     "output_type": "stream",
     "text": [
      "Epoch [1], Batch [50/391], Loss: 4.5077\n",
      "Epoch [1], Batch [100/391], Loss: 4.3237\n",
      "Epoch [1], Batch [150/391], Loss: 3.9518\n",
      "Epoch [1], Batch [200/391], Loss: 4.0461\n",
      "Epoch [1], Batch [250/391], Loss: 3.8723\n",
      "Epoch [1], Batch [300/391], Loss: 3.7727\n",
      "Epoch [1], Batch [350/391], Loss: 3.5041\n",
      "Train set: Epoch: 1, Average loss:4.0279, LR: 0.001000 Top-1 Accuracy: 8.7080%, Top-5 Accuracy: 27.5160%, Time consumed:99.03s\n"
     ]
    },
    {
     "name": "stderr",
     "output_type": "stream",
     "text": [
      "  1%|▉                                                                                           | 1/100 [01:54<3:09:32, 114.87s/it]"
     ]
    },
    {
     "name": "stdout",
     "output_type": "stream",
     "text": [
      "Test set: Epoch: 1, Average loss:3.4535, Top-1 Accuracy: 16.6200%, Top-5 Accuracy: 43.7500%, Time consumed:15.64s\n",
      "\n",
      "New best top-1 accuracy: 16.62%, top-5 accuracy: 43.75%\n",
      "New best top-5 accuracy: 43.75%\n",
      "Epoch [2], Batch [50/391], Loss: 3.4724\n",
      "Epoch [2], Batch [100/391], Loss: 3.4486\n",
      "Epoch [2], Batch [150/391], Loss: 3.1970\n",
      "Epoch [2], Batch [200/391], Loss: 3.2509\n",
      "Epoch [2], Batch [250/391], Loss: 2.9870\n",
      "Epoch [2], Batch [300/391], Loss: 2.9568\n",
      "Epoch [2], Batch [350/391], Loss: 2.6092\n",
      "Train set: Epoch: 2, Average loss:3.1370, LR: 0.001000 Top-1 Accuracy: 21.9640%, Top-5 Accuracy: 51.8960%, Time consumed:97.95s\n",
      "Test set: Epoch: 2, Average loss:2.8579, Top-1 Accuracy: 27.7400%, Top-5 Accuracy: 60.0400%, Time consumed:15.77s\n",
      "\n",
      "New best top-1 accuracy: 27.74%, top-5 accuracy: 60.04%\n"
     ]
    },
    {
     "name": "stderr",
     "output_type": "stream",
     "text": [
      "  2%|█▊                                                                                          | 2/100 [03:48<3:06:47, 114.36s/it]"
     ]
    },
    {
     "name": "stdout",
     "output_type": "stream",
     "text": [
      "New best top-5 accuracy: 60.04%\n",
      "Epoch [3], Batch [50/391], Loss: 2.5809\n",
      "Epoch [3], Batch [100/391], Loss: 2.4524\n",
      "Epoch [3], Batch [150/391], Loss: 2.5903\n",
      "Epoch [3], Batch [200/391], Loss: 2.4968\n",
      "Epoch [3], Batch [250/391], Loss: 2.4647\n",
      "Epoch [3], Batch [300/391], Loss: 2.1644\n",
      "Epoch [3], Batch [350/391], Loss: 2.4715\n",
      "Train set: Epoch: 3, Average loss:2.4941, LR: 0.001000 Top-1 Accuracy: 34.3060%, Top-5 Accuracy: 67.6600%, Time consumed:96.82s\n",
      "Test set: Epoch: 3, Average loss:2.4853, Top-1 Accuracy: 38.8500%, Top-5 Accuracy: 70.8100%, Time consumed:15.62s\n",
      "\n",
      "New best top-1 accuracy: 38.85%, top-5 accuracy: 70.81%\n"
     ]
    },
    {
     "name": "stderr",
     "output_type": "stream",
     "text": [
      "  3%|██▊                                                                                         | 3/100 [05:41<3:03:38, 113.60s/it]"
     ]
    },
    {
     "name": "stdout",
     "output_type": "stream",
     "text": [
      "New best top-5 accuracy: 70.81%\n",
      "Epoch [4], Batch [50/391], Loss: 2.2013\n",
      "Epoch [4], Batch [100/391], Loss: 1.9834\n",
      "Epoch [4], Batch [150/391], Loss: 2.1070\n",
      "Epoch [4], Batch [200/391], Loss: 2.0965\n",
      "Epoch [4], Batch [250/391], Loss: 1.8764\n",
      "Epoch [4], Batch [300/391], Loss: 1.8414\n",
      "Epoch [4], Batch [350/391], Loss: 1.9536\n",
      "Train set: Epoch: 4, Average loss:2.0478, LR: 0.001000 Top-1 Accuracy: 44.2020%, Top-5 Accuracy: 76.9820%, Time consumed:99.16s\n",
      "Test set: Epoch: 4, Average loss:4.2808, Top-1 Accuracy: 44.6000%, Top-5 Accuracy: 75.9600%, Time consumed:15.85s\n",
      "\n",
      "New best top-1 accuracy: 44.60%, top-5 accuracy: 75.96%\n"
     ]
    },
    {
     "name": "stderr",
     "output_type": "stream",
     "text": [
      "  4%|███▋                                                                                        | 4/100 [07:36<3:02:49, 114.27s/it]"
     ]
    },
    {
     "name": "stdout",
     "output_type": "stream",
     "text": [
      "New best top-5 accuracy: 75.96%\n",
      "Epoch [5], Batch [50/391], Loss: 1.8547\n",
      "Epoch [5], Batch [100/391], Loss: 1.5610\n",
      "Epoch [5], Batch [150/391], Loss: 1.6049\n",
      "Epoch [5], Batch [200/391], Loss: 1.7225\n",
      "Epoch [5], Batch [250/391], Loss: 1.7663\n",
      "Epoch [5], Batch [300/391], Loss: 2.1010\n",
      "Epoch [5], Batch [350/391], Loss: 1.5530\n",
      "Train set: Epoch: 5, Average loss:1.7564, LR: 0.001000 Top-1 Accuracy: 51.1960%, Top-5 Accuracy: 82.2020%, Time consumed:99.00s\n",
      "Test set: Epoch: 5, Average loss:2.1679, Top-1 Accuracy: 46.4900%, Top-5 Accuracy: 77.7800%, Time consumed:15.46s\n",
      "\n",
      "New best top-1 accuracy: 46.49%, top-5 accuracy: 77.78%\n"
     ]
    },
    {
     "name": "stderr",
     "output_type": "stream",
     "text": [
      "  5%|████▌                                                                                       | 5/100 [09:31<3:01:10, 114.43s/it]"
     ]
    },
    {
     "name": "stdout",
     "output_type": "stream",
     "text": [
      "New best top-5 accuracy: 77.78%\n",
      "Epoch [6], Batch [50/391], Loss: 1.3020\n",
      "Epoch [6], Batch [100/391], Loss: 1.5047\n",
      "Epoch [6], Batch [150/391], Loss: 1.5877\n",
      "Epoch [6], Batch [200/391], Loss: 1.7797\n",
      "Epoch [6], Batch [250/391], Loss: 1.5058\n",
      "Epoch [6], Batch [300/391], Loss: 1.3148\n",
      "Epoch [6], Batch [350/391], Loss: 1.6492\n",
      "Train set: Epoch: 6, Average loss:1.4920, LR: 0.001000 Top-1 Accuracy: 57.2080%, Top-5 Accuracy: 86.7620%, Time consumed:95.31s\n",
      "Test set: Epoch: 6, Average loss:2.1467, Top-1 Accuracy: 50.9600%, Top-5 Accuracy: 80.9800%, Time consumed:16.08s\n",
      "\n",
      "New best top-1 accuracy: 50.96%, top-5 accuracy: 80.98%\n"
     ]
    },
    {
     "name": "stderr",
     "output_type": "stream",
     "text": [
      "  6%|█████▌                                                                                      | 6/100 [11:23<2:57:50, 113.52s/it]"
     ]
    },
    {
     "name": "stdout",
     "output_type": "stream",
     "text": [
      "New best top-5 accuracy: 80.98%\n",
      "Epoch [7], Batch [50/391], Loss: 1.2942\n",
      "Epoch [7], Batch [100/391], Loss: 1.2897\n",
      "Epoch [7], Batch [150/391], Loss: 1.0912\n",
      "Epoch [7], Batch [200/391], Loss: 1.3179\n",
      "Epoch [7], Batch [250/391], Loss: 1.2362\n",
      "Epoch [7], Batch [300/391], Loss: 1.3201\n",
      "Epoch [7], Batch [350/391], Loss: 1.5329\n",
      "Train set: Epoch: 7, Average loss:1.2676, LR: 0.001000 Top-1 Accuracy: 62.9040%, Top-5 Accuracy: 90.0520%, Time consumed:96.77s\n",
      "Test set: Epoch: 7, Average loss:1.7523, Top-1 Accuracy: 53.3200%, Top-5 Accuracy: 82.2900%, Time consumed:15.93s\n",
      "\n",
      "New best top-1 accuracy: 53.32%, top-5 accuracy: 82.29%\n"
     ]
    },
    {
     "name": "stderr",
     "output_type": "stream",
     "text": [
      "  7%|██████▍                                                                                     | 7/100 [13:16<2:55:41, 113.35s/it]"
     ]
    },
    {
     "name": "stdout",
     "output_type": "stream",
     "text": [
      "New best top-5 accuracy: 82.29%\n",
      "Epoch [8], Batch [50/391], Loss: 0.9909\n",
      "Epoch [8], Batch [100/391], Loss: 0.8291\n",
      "Epoch [8], Batch [150/391], Loss: 1.0400\n",
      "Epoch [8], Batch [200/391], Loss: 0.9429\n",
      "Epoch [8], Batch [250/391], Loss: 1.0346\n",
      "Epoch [8], Batch [300/391], Loss: 0.8718\n",
      "Epoch [8], Batch [350/391], Loss: 0.9807\n",
      "Train set: Epoch: 8, Average loss:1.0332, LR: 0.001000 Top-1 Accuracy: 69.0380%, Top-5 Accuracy: 93.1440%, Time consumed:94.98s\n",
      "Test set: Epoch: 8, Average loss:1.9597, Top-1 Accuracy: 53.7600%, Top-5 Accuracy: 82.9500%, Time consumed:16.10s\n",
      "\n",
      "New best top-1 accuracy: 53.76%, top-5 accuracy: 82.95%\n"
     ]
    },
    {
     "name": "stderr",
     "output_type": "stream",
     "text": [
      "  8%|███████▎                                                                                    | 8/100 [15:07<2:52:49, 112.71s/it]"
     ]
    },
    {
     "name": "stdout",
     "output_type": "stream",
     "text": [
      "New best top-5 accuracy: 82.95%\n",
      "Epoch [9], Batch [50/391], Loss: 0.7697\n",
      "Epoch [9], Batch [100/391], Loss: 0.6404\n",
      "Epoch [9], Batch [150/391], Loss: 0.8820\n",
      "Epoch [9], Batch [200/391], Loss: 0.7301\n",
      "Epoch [9], Batch [250/391], Loss: 0.8081\n",
      "Epoch [9], Batch [300/391], Loss: 0.8721\n",
      "Epoch [9], Batch [350/391], Loss: 0.7396\n",
      "Train set: Epoch: 9, Average loss:0.8242, LR: 0.001000 Top-1 Accuracy: 74.5560%, Top-5 Accuracy: 95.6740%, Time consumed:94.76s\n",
      "Test set: Epoch: 9, Average loss:2.0862, Top-1 Accuracy: 53.8800%, Top-5 Accuracy: 83.8300%, Time consumed:15.83s\n",
      "\n",
      "New best top-1 accuracy: 53.88%, top-5 accuracy: 83.83%\n"
     ]
    },
    {
     "name": "stderr",
     "output_type": "stream",
     "text": [
      "  9%|████████▎                                                                                   | 9/100 [16:58<2:50:04, 112.13s/it]"
     ]
    },
    {
     "name": "stdout",
     "output_type": "stream",
     "text": [
      "New best top-5 accuracy: 83.83%\n",
      "Epoch [10], Batch [50/391], Loss: 0.5029\n",
      "Epoch [10], Batch [100/391], Loss: 0.4191\n",
      "Epoch [10], Batch [150/391], Loss: 0.6607\n",
      "Epoch [10], Batch [200/391], Loss: 0.5659\n",
      "Epoch [10], Batch [250/391], Loss: 0.5464\n",
      "Epoch [10], Batch [300/391], Loss: 0.5589\n",
      "Epoch [10], Batch [350/391], Loss: 0.6119\n",
      "Train set: Epoch: 10, Average loss:0.6212, LR: 0.001000 Top-1 Accuracy: 80.2660%, Top-5 Accuracy: 97.5560%, Time consumed:99.48s\n",
      "Test set: Epoch: 10, Average loss:1.8502, Top-1 Accuracy: 54.9500%, Top-5 Accuracy: 83.9700%, Time consumed:16.02s\n",
      "\n",
      "New best top-1 accuracy: 54.95%, top-5 accuracy: 83.97%\n"
     ]
    },
    {
     "name": "stderr",
     "output_type": "stream",
     "text": [
      " 10%|█████████                                                                                  | 10/100 [18:54<2:49:54, 113.27s/it]"
     ]
    },
    {
     "name": "stdout",
     "output_type": "stream",
     "text": [
      "New best top-5 accuracy: 83.97%\n",
      "Epoch [11], Batch [50/391], Loss: 0.3461\n",
      "Epoch [11], Batch [100/391], Loss: 0.3909\n",
      "Epoch [11], Batch [150/391], Loss: 0.4445\n",
      "Epoch [11], Batch [200/391], Loss: 0.4272\n",
      "Epoch [11], Batch [250/391], Loss: 0.4737\n",
      "Epoch [11], Batch [300/391], Loss: 0.4990\n",
      "Epoch [11], Batch [350/391], Loss: 0.5375\n",
      "Train set: Epoch: 11, Average loss:0.4506, LR: 0.001000 Top-1 Accuracy: 85.5220%, Top-5 Accuracy: 98.7620%, Time consumed:97.77s\n",
      "Test set: Epoch: 11, Average loss:1.8681, Top-1 Accuracy: 55.9900%, Top-5 Accuracy: 84.4000%, Time consumed:15.91s\n",
      "\n",
      "New best top-1 accuracy: 55.99%, top-5 accuracy: 84.40%\n"
     ]
    },
    {
     "name": "stderr",
     "output_type": "stream",
     "text": [
      " 11%|██████████                                                                                 | 11/100 [20:48<2:48:19, 113.48s/it]"
     ]
    },
    {
     "name": "stdout",
     "output_type": "stream",
     "text": [
      "New best top-5 accuracy: 84.40%\n",
      "Epoch [12], Batch [50/391], Loss: 0.2540\n",
      "Epoch [12], Batch [100/391], Loss: 0.2791\n",
      "Epoch [12], Batch [150/391], Loss: 0.2478\n",
      "Epoch [12], Batch [200/391], Loss: 0.3472\n",
      "Epoch [12], Batch [250/391], Loss: 0.2570\n",
      "Epoch [12], Batch [300/391], Loss: 0.4391\n",
      "Epoch [12], Batch [350/391], Loss: 0.4214\n",
      "Train set: Epoch: 12, Average loss:0.3347, LR: 0.001000 Top-1 Accuracy: 89.0100%, Top-5 Accuracy: 99.3600%, Time consumed:95.71s\n"
     ]
    },
    {
     "name": "stderr",
     "output_type": "stream",
     "text": [
      " 12%|██████████▉                                                                                | 12/100 [22:40<2:45:39, 112.94s/it]"
     ]
    },
    {
     "name": "stdout",
     "output_type": "stream",
     "text": [
      "Test set: Epoch: 12, Average loss:2.4080, Top-1 Accuracy: 55.8000%, Top-5 Accuracy: 83.3200%, Time consumed:16.01s\n",
      "\n",
      "Epoch [13], Batch [50/391], Loss: 0.1921\n",
      "Epoch [13], Batch [100/391], Loss: 0.1490\n",
      "Epoch [13], Batch [150/391], Loss: 0.2699\n",
      "Epoch [13], Batch [200/391], Loss: 0.2250\n",
      "Epoch [13], Batch [250/391], Loss: 0.2385\n",
      "Epoch [13], Batch [300/391], Loss: 0.2558\n",
      "Epoch [13], Batch [350/391], Loss: 0.3233\n",
      "Train set: Epoch: 13, Average loss:0.2586, LR: 0.001000 Top-1 Accuracy: 91.6360%, Top-5 Accuracy: 99.7000%, Time consumed:100.55s\n"
     ]
    },
    {
     "name": "stderr",
     "output_type": "stream",
     "text": [
      " 13%|███████████▊                                                                               | 13/100 [24:36<2:45:28, 114.12s/it]"
     ]
    },
    {
     "name": "stdout",
     "output_type": "stream",
     "text": [
      "Test set: Epoch: 13, Average loss:2.1495, Top-1 Accuracy: 55.2900%, Top-5 Accuracy: 83.6500%, Time consumed:16.29s\n",
      "\n",
      "Epoch [14], Batch [50/391], Loss: 0.1121\n",
      "Epoch [14], Batch [100/391], Loss: 0.1165\n",
      "Epoch [14], Batch [150/391], Loss: 0.2234\n",
      "Epoch [14], Batch [200/391], Loss: 0.2690\n",
      "Epoch [14], Batch [250/391], Loss: 0.2696\n",
      "Epoch [14], Batch [300/391], Loss: 0.3139\n",
      "Epoch [14], Batch [350/391], Loss: 0.2741\n",
      "Train set: Epoch: 14, Average loss:0.2043, LR: 0.001000 Top-1 Accuracy: 93.4240%, Top-5 Accuracy: 99.7860%, Time consumed:100.18s\n",
      "Test set: Epoch: 14, Average loss:2.2608, Top-1 Accuracy: 56.6000%, Top-5 Accuracy: 83.9700%, Time consumed:16.23s\n",
      "\n",
      "New best top-1 accuracy: 56.60%, top-5 accuracy: 83.97%\n"
     ]
    },
    {
     "name": "stderr",
     "output_type": "stream",
     "text": [
      " 14%|████████████▋                                                                              | 14/100 [26:33<2:44:40, 114.89s/it]"
     ]
    },
    {
     "name": "stdout",
     "output_type": "stream",
     "text": [
      "Epoch [15], Batch [50/391], Loss: 0.1880\n",
      "Epoch [15], Batch [100/391], Loss: 0.1363\n",
      "Epoch [15], Batch [150/391], Loss: 0.1743\n",
      "Epoch [15], Batch [200/391], Loss: 0.1510\n",
      "Epoch [15], Batch [250/391], Loss: 0.1644\n",
      "Epoch [15], Batch [300/391], Loss: 0.2197\n",
      "Epoch [15], Batch [350/391], Loss: 0.1872\n",
      "Train set: Epoch: 15, Average loss:0.1676, LR: 0.001000 Top-1 Accuracy: 94.6040%, Top-5 Accuracy: 99.8640%, Time consumed:95.22s\n",
      "Test set: Epoch: 15, Average loss:2.2657, Top-1 Accuracy: 57.1300%, Top-5 Accuracy: 84.5000%, Time consumed:15.75s\n",
      "\n",
      "New best top-1 accuracy: 57.13%, top-5 accuracy: 84.50%\n"
     ]
    },
    {
     "name": "stderr",
     "output_type": "stream",
     "text": [
      " 15%|█████████████▋                                                                             | 15/100 [28:24<2:41:11, 113.78s/it]"
     ]
    },
    {
     "name": "stdout",
     "output_type": "stream",
     "text": [
      "New best top-5 accuracy: 84.50%\n",
      "Epoch [16], Batch [50/391], Loss: 0.0527\n",
      "Epoch [16], Batch [100/391], Loss: 0.1985\n",
      "Epoch [16], Batch [150/391], Loss: 0.0767\n",
      "Epoch [16], Batch [200/391], Loss: 0.1063\n",
      "Epoch [16], Batch [250/391], Loss: 0.2165\n",
      "Epoch [16], Batch [300/391], Loss: 0.1807\n",
      "Epoch [16], Batch [350/391], Loss: 0.2766\n",
      "Train set: Epoch: 16, Average loss:0.1474, LR: 0.001000 Top-1 Accuracy: 95.2640%, Top-5 Accuracy: 99.8940%, Time consumed:96.23s\n"
     ]
    },
    {
     "name": "stderr",
     "output_type": "stream",
     "text": [
      " 16%|██████████████▌                                                                            | 16/100 [30:16<2:38:29, 113.20s/it]"
     ]
    },
    {
     "name": "stdout",
     "output_type": "stream",
     "text": [
      "Test set: Epoch: 16, Average loss:2.7185, Top-1 Accuracy: 55.7200%, Top-5 Accuracy: 82.9800%, Time consumed:15.63s\n",
      "\n",
      "Epoch [17], Batch [50/391], Loss: 0.0597\n",
      "Epoch [17], Batch [100/391], Loss: 0.0538\n",
      "Epoch [17], Batch [150/391], Loss: 0.1445\n",
      "Epoch [17], Batch [200/391], Loss: 0.0850\n",
      "Epoch [17], Batch [250/391], Loss: 0.1831\n",
      "Epoch [17], Batch [300/391], Loss: 0.1681\n",
      "Epoch [17], Batch [350/391], Loss: 0.1081\n",
      "Train set: Epoch: 17, Average loss:0.1236, LR: 0.001000 Top-1 Accuracy: 96.0660%, Top-5 Accuracy: 99.9380%, Time consumed:96.26s\n"
     ]
    },
    {
     "name": "stderr",
     "output_type": "stream",
     "text": [
      " 17%|███████████████▍                                                                           | 17/100 [32:10<2:36:42, 113.29s/it]"
     ]
    },
    {
     "name": "stdout",
     "output_type": "stream",
     "text": [
      "Test set: Epoch: 17, Average loss:2.2996, Top-1 Accuracy: 56.9700%, Top-5 Accuracy: 83.6900%, Time consumed:17.21s\n",
      "\n",
      "Epoch [18], Batch [50/391], Loss: 0.1084\n",
      "Epoch [18], Batch [100/391], Loss: 0.0403\n",
      "Epoch [18], Batch [150/391], Loss: 0.0917\n",
      "Epoch [18], Batch [200/391], Loss: 0.1278\n",
      "Epoch [18], Batch [250/391], Loss: 0.1357\n",
      "Epoch [18], Batch [300/391], Loss: 0.1015\n",
      "Epoch [18], Batch [350/391], Loss: 0.1291\n",
      "Train set: Epoch: 18, Average loss:0.1202, LR: 0.001000 Top-1 Accuracy: 96.1000%, Top-5 Accuracy: 99.9300%, Time consumed:100.34s\n",
      "Test set: Epoch: 18, Average loss:2.3365, Top-1 Accuracy: 57.8600%, Top-5 Accuracy: 84.3600%, Time consumed:16.45s\n",
      "\n",
      "New best top-1 accuracy: 57.86%, top-5 accuracy: 84.36%\n"
     ]
    },
    {
     "name": "stderr",
     "output_type": "stream",
     "text": [
      " 18%|████████████████▍                                                                          | 18/100 [34:07<2:36:23, 114.43s/it]"
     ]
    },
    {
     "name": "stdout",
     "output_type": "stream",
     "text": [
      "Epoch [19], Batch [50/391], Loss: 0.0785\n",
      "Epoch [19], Batch [100/391], Loss: 0.1568\n",
      "Epoch [19], Batch [150/391], Loss: 0.0519\n",
      "Epoch [19], Batch [200/391], Loss: 0.1510\n",
      "Epoch [19], Batch [250/391], Loss: 0.1476\n",
      "Epoch [19], Batch [300/391], Loss: 0.0834\n",
      "Epoch [19], Batch [350/391], Loss: 0.0976\n",
      "Train set: Epoch: 19, Average loss:0.1215, LR: 0.001000 Top-1 Accuracy: 96.0940%, Top-5 Accuracy: 99.9280%, Time consumed:97.38s\n"
     ]
    },
    {
     "name": "stderr",
     "output_type": "stream",
     "text": [
      " 19%|█████████████████▎                                                                         | 19/100 [36:00<2:34:13, 114.24s/it]"
     ]
    },
    {
     "name": "stdout",
     "output_type": "stream",
     "text": [
      "Test set: Epoch: 19, Average loss:2.5064, Top-1 Accuracy: 56.6000%, Top-5 Accuracy: 83.0200%, Time consumed:16.42s\n",
      "\n",
      "Epoch [21], Batch [50/391], Loss: 0.0731\n",
      "Epoch [21], Batch [100/391], Loss: 0.0409\n",
      "Epoch [21], Batch [150/391], Loss: 0.0971\n",
      "Epoch [21], Batch [200/391], Loss: 0.0998\n",
      "Epoch [21], Batch [250/391], Loss: 0.1705\n",
      "Epoch [21], Batch [300/391], Loss: 0.0847\n",
      "Epoch [21], Batch [350/391], Loss: 0.0982\n",
      "Train set: Epoch: 21, Average loss:0.0946, LR: 0.001000 Top-1 Accuracy: 96.9560%, Top-5 Accuracy: 99.9540%, Time consumed:96.39s\n"
     ]
    },
    {
     "name": "stderr",
     "output_type": "stream",
     "text": [
      " 21%|███████████████████                                                                        | 21/100 [39:44<2:28:50, 113.04s/it]"
     ]
    },
    {
     "name": "stdout",
     "output_type": "stream",
     "text": [
      "Test set: Epoch: 21, Average loss:2.5463, Top-1 Accuracy: 56.9200%, Top-5 Accuracy: 83.2400%, Time consumed:15.86s\n",
      "\n",
      "Epoch [22], Batch [50/391], Loss: 0.0714\n",
      "Epoch [22], Batch [100/391], Loss: 0.1010\n",
      "Epoch [22], Batch [150/391], Loss: 0.0767\n",
      "Epoch [22], Batch [200/391], Loss: 0.1166\n",
      "Epoch [22], Batch [250/391], Loss: 0.1139\n",
      "Epoch [22], Batch [300/391], Loss: 0.0800\n",
      "Epoch [22], Batch [350/391], Loss: 0.0661\n",
      "Train set: Epoch: 22, Average loss:0.0850, LR: 0.001000 Top-1 Accuracy: 97.3340%, Top-5 Accuracy: 99.9620%, Time consumed:94.62s\n"
     ]
    },
    {
     "name": "stderr",
     "output_type": "stream",
     "text": [
      " 22%|████████████████████                                                                       | 22/100 [41:35<2:25:58, 112.29s/it]"
     ]
    },
    {
     "name": "stdout",
     "output_type": "stream",
     "text": [
      "Test set: Epoch: 22, Average loss:2.5451, Top-1 Accuracy: 57.0800%, Top-5 Accuracy: 83.5000%, Time consumed:15.91s\n",
      "\n",
      "Epoch [23], Batch [50/391], Loss: 0.0976\n",
      "Epoch [23], Batch [100/391], Loss: 0.1338\n",
      "Epoch [23], Batch [150/391], Loss: 0.0548\n",
      "Epoch [23], Batch [200/391], Loss: 0.0614\n",
      "Epoch [23], Batch [250/391], Loss: 0.0774\n",
      "Epoch [23], Batch [300/391], Loss: 0.1013\n",
      "Epoch [23], Batch [350/391], Loss: 0.0787\n",
      "Train set: Epoch: 23, Average loss:0.0745, LR: 0.001000 Top-1 Accuracy: 97.7060%, Top-5 Accuracy: 99.9720%, Time consumed:94.78s\n"
     ]
    },
    {
     "name": "stderr",
     "output_type": "stream",
     "text": [
      " 23%|████████████████████▉                                                                      | 23/100 [43:25<2:23:29, 111.81s/it]"
     ]
    },
    {
     "name": "stdout",
     "output_type": "stream",
     "text": [
      "Test set: Epoch: 23, Average loss:2.7405, Top-1 Accuracy: 56.4900%, Top-5 Accuracy: 82.9800%, Time consumed:15.89s\n",
      "\n",
      "Epoch [24], Batch [50/391], Loss: 0.0529\n",
      "Epoch [24], Batch [100/391], Loss: 0.0795\n",
      "Epoch [24], Batch [150/391], Loss: 0.1157\n",
      "Epoch [24], Batch [200/391], Loss: 0.0250\n",
      "Epoch [24], Batch [250/391], Loss: 0.1328\n",
      "Epoch [24], Batch [300/391], Loss: 0.1135\n",
      "Epoch [24], Batch [350/391], Loss: 0.1082\n",
      "Train set: Epoch: 24, Average loss:0.0882, LR: 0.001000 Top-1 Accuracy: 97.1860%, Top-5 Accuracy: 99.9420%, Time consumed:96.93s\n"
     ]
    },
    {
     "name": "stderr",
     "output_type": "stream",
     "text": [
      " 24%|█████████████████████▊                                                                     | 24/100 [45:18<2:21:49, 111.97s/it]"
     ]
    },
    {
     "name": "stdout",
     "output_type": "stream",
     "text": [
      "Test set: Epoch: 24, Average loss:2.4904, Top-1 Accuracy: 56.5800%, Top-5 Accuracy: 84.1000%, Time consumed:15.40s\n",
      "\n",
      "Epoch [25], Batch [50/391], Loss: 0.0587\n",
      "Epoch [25], Batch [100/391], Loss: 0.0448\n",
      "Epoch [25], Batch [150/391], Loss: 0.0740\n",
      "Epoch [25], Batch [200/391], Loss: 0.1064\n",
      "Epoch [25], Batch [250/391], Loss: 0.0795\n",
      "Epoch [25], Batch [300/391], Loss: 0.1440\n",
      "Epoch [25], Batch [350/391], Loss: 0.0987\n",
      "Train set: Epoch: 25, Average loss:0.0720, LR: 0.001000 Top-1 Accuracy: 97.8020%, Top-5 Accuracy: 99.9640%, Time consumed:94.07s\n"
     ]
    },
    {
     "name": "stderr",
     "output_type": "stream",
     "text": [
      " 25%|██████████████████████▊                                                                    | 25/100 [47:09<2:19:40, 111.74s/it]"
     ]
    },
    {
     "name": "stdout",
     "output_type": "stream",
     "text": [
      "Test set: Epoch: 25, Average loss:2.5354, Top-1 Accuracy: 57.0200%, Top-5 Accuracy: 83.3400%, Time consumed:17.14s\n",
      "\n",
      "Epoch [26], Batch [50/391], Loss: 0.0555\n",
      "Epoch [26], Batch [100/391], Loss: 0.0171\n",
      "Epoch [26], Batch [150/391], Loss: 0.0707\n",
      "Epoch [26], Batch [200/391], Loss: 0.0723\n",
      "Epoch [26], Batch [250/391], Loss: 0.1769\n",
      "Epoch [26], Batch [300/391], Loss: 0.0419\n",
      "Epoch [26], Batch [350/391], Loss: 0.0821\n",
      "Train set: Epoch: 26, Average loss:0.0789, LR: 0.001000 Top-1 Accuracy: 97.4900%, Top-5 Accuracy: 99.9680%, Time consumed:94.01s\n"
     ]
    },
    {
     "name": "stderr",
     "output_type": "stream",
     "text": [
      " 26%|███████████████████████▋                                                                   | 26/100 [48:59<2:17:05, 111.15s/it]"
     ]
    },
    {
     "name": "stdout",
     "output_type": "stream",
     "text": [
      "Test set: Epoch: 26, Average loss:2.6937, Top-1 Accuracy: 54.7200%, Top-5 Accuracy: 82.0400%, Time consumed:15.77s\n",
      "\n",
      "Epoch [27], Batch [50/391], Loss: 0.0633\n",
      "Epoch [27], Batch [100/391], Loss: 0.0590\n",
      "Epoch [27], Batch [150/391], Loss: 0.0703\n",
      "Epoch [27], Batch [200/391], Loss: 0.0603\n",
      "Epoch [27], Batch [250/391], Loss: 0.0808\n",
      "Epoch [27], Batch [300/391], Loss: 0.0882\n",
      "Epoch [27], Batch [350/391], Loss: 0.0785\n",
      "Train set: Epoch: 27, Average loss:0.0669, LR: 0.001000 Top-1 Accuracy: 97.8820%, Top-5 Accuracy: 99.9760%, Time consumed:99.99s\n"
     ]
    },
    {
     "name": "stderr",
     "output_type": "stream",
     "text": [
      " 27%|████████████████████████▌                                                                  | 27/100 [50:55<2:17:11, 112.76s/it]"
     ]
    },
    {
     "name": "stdout",
     "output_type": "stream",
     "text": [
      "Test set: Epoch: 27, Average loss:2.5661, Top-1 Accuracy: 56.7700%, Top-5 Accuracy: 83.6500%, Time consumed:16.52s\n",
      "\n",
      "Epoch [28], Batch [50/391], Loss: 0.0918\n",
      "Epoch [28], Batch [100/391], Loss: 0.0378\n",
      "Epoch [28], Batch [150/391], Loss: 0.0459\n",
      "Epoch [28], Batch [200/391], Loss: 0.0702\n",
      "Epoch [28], Batch [250/391], Loss: 0.0857\n",
      "Epoch [28], Batch [300/391], Loss: 0.0931\n",
      "Epoch [28], Batch [350/391], Loss: 0.0447\n",
      "Train set: Epoch: 28, Average loss:0.0680, LR: 0.001000 Top-1 Accuracy: 97.7860%, Top-5 Accuracy: 99.9760%, Time consumed:99.16s\n"
     ]
    },
    {
     "name": "stderr",
     "output_type": "stream",
     "text": [
      " 28%|█████████████████████████▍                                                                 | 28/100 [52:50<2:16:04, 113.39s/it]"
     ]
    },
    {
     "name": "stdout",
     "output_type": "stream",
     "text": [
      "Test set: Epoch: 28, Average loss:2.6058, Top-1 Accuracy: 57.5300%, Top-5 Accuracy: 83.8000%, Time consumed:15.70s\n",
      "\n",
      "Epoch [29], Batch [50/391], Loss: 0.0522\n",
      "Epoch [29], Batch [100/391], Loss: 0.0487\n",
      "Epoch [29], Batch [150/391], Loss: 0.0254\n",
      "Epoch [29], Batch [200/391], Loss: 0.0883\n",
      "Epoch [29], Batch [250/391], Loss: 0.0868\n",
      "Epoch [29], Batch [300/391], Loss: 0.0519\n",
      "Epoch [29], Batch [350/391], Loss: 0.1014\n",
      "Train set: Epoch: 29, Average loss:0.0627, LR: 0.001000 Top-1 Accuracy: 98.0000%, Top-5 Accuracy: 99.9800%, Time consumed:95.45s\n"
     ]
    },
    {
     "name": "stderr",
     "output_type": "stream",
     "text": [
      " 29%|██████████████████████████▍                                                                | 29/100 [54:42<2:13:36, 112.91s/it]"
     ]
    },
    {
     "name": "stdout",
     "output_type": "stream",
     "text": [
      "Test set: Epoch: 29, Average loss:2.9191, Top-1 Accuracy: 56.0700%, Top-5 Accuracy: 83.4100%, Time consumed:16.31s\n",
      "\n",
      "Epoch [30], Batch [50/391], Loss: 0.0988\n",
      "Epoch [30], Batch [100/391], Loss: 0.0086\n",
      "Epoch [30], Batch [150/391], Loss: 0.0746\n",
      "Epoch [30], Batch [200/391], Loss: 0.0286\n",
      "Epoch [30], Batch [250/391], Loss: 0.0286\n",
      "Epoch [30], Batch [300/391], Loss: 0.1109\n",
      "Epoch [30], Batch [350/391], Loss: 0.0542\n",
      "Train set: Epoch: 30, Average loss:0.0589, LR: 0.001000 Top-1 Accuracy: 98.2120%, Top-5 Accuracy: 99.9780%, Time consumed:99.52s\n"
     ]
    },
    {
     "name": "stderr",
     "output_type": "stream",
     "text": [
      " 30%|███████████████████████████▎                                                               | 30/100 [56:38<2:12:51, 113.87s/it]"
     ]
    },
    {
     "name": "stdout",
     "output_type": "stream",
     "text": [
      "Test set: Epoch: 30, Average loss:2.9012, Top-1 Accuracy: 57.0800%, Top-5 Accuracy: 84.4300%, Time consumed:16.61s\n",
      "\n",
      "Epoch [31], Batch [50/391], Loss: 0.0252\n",
      "Epoch [31], Batch [100/391], Loss: 0.0543\n",
      "Epoch [31], Batch [150/391], Loss: 0.0123\n",
      "Epoch [31], Batch [200/391], Loss: 0.0418\n",
      "Epoch [31], Batch [250/391], Loss: 0.0579\n",
      "Epoch [31], Batch [300/391], Loss: 0.0736\n",
      "Epoch [31], Batch [350/391], Loss: 0.0476\n",
      "Train set: Epoch: 31, Average loss:0.0628, LR: 0.001000 Top-1 Accuracy: 98.0100%, Top-5 Accuracy: 99.9760%, Time consumed:100.54s\n"
     ]
    },
    {
     "name": "stderr",
     "output_type": "stream",
     "text": [
      " 31%|████████████████████████████▏                                                              | 31/100 [58:35<2:11:53, 114.69s/it]"
     ]
    },
    {
     "name": "stdout",
     "output_type": "stream",
     "text": [
      "Test set: Epoch: 31, Average loss:2.7690, Top-1 Accuracy: 56.9000%, Top-5 Accuracy: 82.7800%, Time consumed:16.05s\n",
      "\n",
      "Epoch [32], Batch [50/391], Loss: 0.0298\n",
      "Epoch [32], Batch [100/391], Loss: 0.0306\n",
      "Epoch [32], Batch [150/391], Loss: 0.0503\n",
      "Epoch [32], Batch [200/391], Loss: 0.0232\n",
      "Epoch [32], Batch [250/391], Loss: 0.0516\n",
      "Epoch [32], Batch [300/391], Loss: 0.0252\n",
      "Epoch [32], Batch [350/391], Loss: 0.0715\n",
      "Train set: Epoch: 32, Average loss:0.0518, LR: 0.001000 Top-1 Accuracy: 98.3940%, Top-5 Accuracy: 99.9840%, Time consumed:97.53s\n"
     ]
    },
    {
     "name": "stderr",
     "output_type": "stream",
     "text": [
      " 32%|████████████████████████████▍                                                            | 32/100 [1:00:28<2:09:29, 114.26s/it]"
     ]
    },
    {
     "name": "stdout",
     "output_type": "stream",
     "text": [
      "Test set: Epoch: 32, Average loss:3.0260, Top-1 Accuracy: 56.1500%, Top-5 Accuracy: 82.7000%, Time consumed:15.71s\n",
      "\n",
      "Epoch [33], Batch [50/391], Loss: 0.0425\n",
      "Epoch [33], Batch [100/391], Loss: 0.0790\n",
      "Epoch [33], Batch [150/391], Loss: 0.0286\n",
      "Epoch [33], Batch [200/391], Loss: 0.0834\n",
      "Epoch [33], Batch [250/391], Loss: 0.0828\n",
      "Epoch [33], Batch [300/391], Loss: 0.0815\n",
      "Epoch [33], Batch [350/391], Loss: 0.0488\n",
      "Train set: Epoch: 33, Average loss:0.0606, LR: 0.001000 Top-1 Accuracy: 98.0360%, Top-5 Accuracy: 99.9680%, Time consumed:96.07s\n"
     ]
    },
    {
     "name": "stderr",
     "output_type": "stream",
     "text": [
      " 33%|█████████████████████████████▎                                                           | 33/100 [1:02:19<2:06:43, 113.48s/it]"
     ]
    },
    {
     "name": "stdout",
     "output_type": "stream",
     "text": [
      "Test set: Epoch: 33, Average loss:2.7401, Top-1 Accuracy: 56.6800%, Top-5 Accuracy: 83.3200%, Time consumed:15.57s\n",
      "\n",
      "Epoch [34], Batch [50/391], Loss: 0.0090\n",
      "Epoch [34], Batch [100/391], Loss: 0.0443\n",
      "Epoch [34], Batch [150/391], Loss: 0.0748\n",
      "Epoch [34], Batch [200/391], Loss: 0.0277\n",
      "Epoch [34], Batch [250/391], Loss: 0.0685\n",
      "Epoch [34], Batch [300/391], Loss: 0.0670\n",
      "Epoch [34], Batch [350/391], Loss: 0.0411\n",
      "Train set: Epoch: 34, Average loss:0.0575, LR: 0.001000 Top-1 Accuracy: 98.2260%, Top-5 Accuracy: 99.9860%, Time consumed:96.50s\n"
     ]
    },
    {
     "name": "stderr",
     "output_type": "stream",
     "text": [
      " 34%|██████████████████████████████▎                                                          | 34/100 [1:04:13<2:04:46, 113.43s/it]"
     ]
    },
    {
     "name": "stdout",
     "output_type": "stream",
     "text": [
      "Test set: Epoch: 34, Average loss:2.7454, Top-1 Accuracy: 55.6500%, Top-5 Accuracy: 83.5200%, Time consumed:16.81s\n",
      "\n",
      "Epoch [35], Batch [50/391], Loss: 0.0128\n",
      "Epoch [35], Batch [100/391], Loss: 0.0606\n",
      "Epoch [35], Batch [150/391], Loss: 0.0790\n",
      "Epoch [35], Batch [200/391], Loss: 0.0350\n",
      "Epoch [35], Batch [250/391], Loss: 0.0508\n",
      "Epoch [35], Batch [300/391], Loss: 0.0091\n",
      "Epoch [35], Batch [350/391], Loss: 0.0492\n",
      "Train set: Epoch: 35, Average loss:0.0469, LR: 0.001000 Top-1 Accuracy: 98.5100%, Top-5 Accuracy: 99.9920%, Time consumed:93.68s\n"
     ]
    },
    {
     "name": "stderr",
     "output_type": "stream",
     "text": [
      " 35%|███████████████████████████████▏                                                         | 35/100 [1:06:02<2:01:37, 112.27s/it]"
     ]
    },
    {
     "name": "stdout",
     "output_type": "stream",
     "text": [
      "Test set: Epoch: 35, Average loss:2.8551, Top-1 Accuracy: 56.4100%, Top-5 Accuracy: 82.7800%, Time consumed:15.89s\n",
      "\n",
      "Epoch [36], Batch [50/391], Loss: 0.0239\n",
      "Epoch [36], Batch [100/391], Loss: 0.0139\n",
      "Epoch [36], Batch [150/391], Loss: 0.0339\n",
      "Epoch [36], Batch [200/391], Loss: 0.0477\n",
      "Epoch [36], Batch [250/391], Loss: 0.0830\n",
      "Epoch [36], Batch [300/391], Loss: 0.1472\n",
      "Epoch [36], Batch [350/391], Loss: 0.0289\n",
      "Train set: Epoch: 36, Average loss:0.0513, LR: 0.001000 Top-1 Accuracy: 98.4520%, Top-5 Accuracy: 99.9700%, Time consumed:94.34s\n"
     ]
    },
    {
     "name": "stderr",
     "output_type": "stream",
     "text": [
      " 36%|████████████████████████████████                                                         | 36/100 [1:07:53<1:59:10, 111.72s/it]"
     ]
    },
    {
     "name": "stdout",
     "output_type": "stream",
     "text": [
      "Test set: Epoch: 36, Average loss:2.9132, Top-1 Accuracy: 55.8200%, Top-5 Accuracy: 82.7800%, Time consumed:16.10s\n",
      "\n",
      "Epoch [37], Batch [50/391], Loss: 0.0853\n",
      "Epoch [37], Batch [100/391], Loss: 0.0167\n",
      "Epoch [37], Batch [150/391], Loss: 0.0249\n",
      "Epoch [37], Batch [200/391], Loss: 0.0155\n",
      "Epoch [37], Batch [250/391], Loss: 0.0510\n",
      "Epoch [37], Batch [300/391], Loss: 0.0508\n",
      "Epoch [37], Batch [350/391], Loss: 0.0372\n",
      "Train set: Epoch: 37, Average loss:0.0469, LR: 0.001000 Top-1 Accuracy: 98.5280%, Top-5 Accuracy: 99.9840%, Time consumed:96.74s\n",
      "Test set: Epoch: 37, Average loss:2.7621, Top-1 Accuracy: 58.1100%, Top-5 Accuracy: 83.7800%, Time consumed:15.53s\n",
      "\n",
      "New best top-1 accuracy: 58.11%, top-5 accuracy: 83.78%\n"
     ]
    },
    {
     "name": "stderr",
     "output_type": "stream",
     "text": [
      " 37%|████████████████████████████████▉                                                        | 37/100 [1:09:45<1:57:34, 111.97s/it]"
     ]
    },
    {
     "name": "stdout",
     "output_type": "stream",
     "text": [
      "Epoch [38], Batch [50/391], Loss: 0.0191\n",
      "Epoch [38], Batch [100/391], Loss: 0.0814\n",
      "Epoch [38], Batch [150/391], Loss: 0.1040\n",
      "Epoch [38], Batch [200/391], Loss: 0.0420\n",
      "Epoch [38], Batch [250/391], Loss: 0.0528\n",
      "Epoch [38], Batch [300/391], Loss: 0.0673\n",
      "Epoch [38], Batch [350/391], Loss: 0.0287\n",
      "Train set: Epoch: 38, Average loss:0.0375, LR: 0.001000 Top-1 Accuracy: 98.8120%, Top-5 Accuracy: 99.9880%, Time consumed:95.30s\n"
     ]
    },
    {
     "name": "stderr",
     "output_type": "stream",
     "text": [
      " 38%|█████████████████████████████████▊                                                       | 38/100 [1:11:37<1:55:42, 111.97s/it]"
     ]
    },
    {
     "name": "stdout",
     "output_type": "stream",
     "text": [
      "Test set: Epoch: 38, Average loss:3.0731, Top-1 Accuracy: 56.9500%, Top-5 Accuracy: 82.8900%, Time consumed:16.65s\n",
      "\n",
      "Epoch [39], Batch [50/391], Loss: 0.0200\n",
      "Epoch [39], Batch [100/391], Loss: 0.0070\n",
      "Epoch [39], Batch [150/391], Loss: 0.0840\n",
      "Epoch [39], Batch [200/391], Loss: 0.0302\n",
      "Epoch [39], Batch [250/391], Loss: 0.0390\n",
      "Epoch [39], Batch [300/391], Loss: 0.0479\n",
      "Epoch [39], Batch [350/391], Loss: 0.0343\n",
      "Train set: Epoch: 39, Average loss:0.0495, LR: 0.001000 Top-1 Accuracy: 98.4460%, Top-5 Accuracy: 99.9880%, Time consumed:95.19s\n"
     ]
    },
    {
     "name": "stderr",
     "output_type": "stream",
     "text": [
      " 39%|██████████████████████████████████▋                                                      | 39/100 [1:13:28<1:53:26, 111.57s/it]"
     ]
    },
    {
     "name": "stdout",
     "output_type": "stream",
     "text": [
      "Test set: Epoch: 39, Average loss:2.7558, Top-1 Accuracy: 57.6200%, Top-5 Accuracy: 83.9900%, Time consumed:15.45s\n",
      "\n",
      "Epoch [40], Batch [50/391], Loss: 0.0278\n",
      "Epoch [40], Batch [100/391], Loss: 0.0579\n",
      "Epoch [40], Batch [150/391], Loss: 0.0489\n",
      "Epoch [40], Batch [200/391], Loss: 0.0419\n",
      "Epoch [40], Batch [250/391], Loss: 0.0614\n",
      "Epoch [40], Batch [300/391], Loss: 0.0531\n",
      "Epoch [40], Batch [350/391], Loss: 0.0126\n",
      "Train set: Epoch: 40, Average loss:0.0485, LR: 0.001000 Top-1 Accuracy: 98.4020%, Top-5 Accuracy: 99.9760%, Time consumed:94.50s\n"
     ]
    },
    {
     "name": "stderr",
     "output_type": "stream",
     "text": [
      " 40%|███████████████████████████████████▌                                                     | 40/100 [1:15:19<1:51:31, 111.53s/it]"
     ]
    },
    {
     "name": "stdout",
     "output_type": "stream",
     "text": [
      "Test set: Epoch: 40, Average loss:2.8019, Top-1 Accuracy: 57.9500%, Top-5 Accuracy: 83.6700%, Time consumed:16.93s\n",
      "\n",
      "Epoch [41], Batch [50/391], Loss: 0.0383\n",
      "Epoch [41], Batch [100/391], Loss: 0.0299\n",
      "Epoch [41], Batch [150/391], Loss: 0.0246\n",
      "Epoch [41], Batch [200/391], Loss: 0.0195\n",
      "Epoch [41], Batch [250/391], Loss: 0.0105\n",
      "Epoch [41], Batch [300/391], Loss: 0.0276\n",
      "Epoch [41], Batch [350/391], Loss: 0.0193\n",
      "Train set: Epoch: 41, Average loss:0.0330, LR: 0.001000 Top-1 Accuracy: 99.0020%, Top-5 Accuracy: 99.9920%, Time consumed:94.38s\n"
     ]
    },
    {
     "name": "stderr",
     "output_type": "stream",
     "text": [
      " 41%|████████████████████████████████████▍                                                    | 41/100 [1:17:09<1:49:12, 111.06s/it]"
     ]
    },
    {
     "name": "stdout",
     "output_type": "stream",
     "text": [
      "Test set: Epoch: 41, Average loss:2.7479, Top-1 Accuracy: 57.8900%, Top-5 Accuracy: 83.6700%, Time consumed:15.57s\n",
      "\n",
      "Epoch [42], Batch [50/391], Loss: 0.0133\n",
      "Epoch [42], Batch [100/391], Loss: 0.0055\n",
      "Epoch [42], Batch [150/391], Loss: 0.0296\n",
      "Epoch [42], Batch [200/391], Loss: 0.0330\n",
      "Epoch [42], Batch [250/391], Loss: 0.0590\n",
      "Epoch [42], Batch [300/391], Loss: 0.0281\n",
      "Epoch [42], Batch [350/391], Loss: 0.0502\n",
      "Train set: Epoch: 42, Average loss:0.0352, LR: 0.001000 Top-1 Accuracy: 98.9180%, Top-5 Accuracy: 99.9920%, Time consumed:96.20s\n"
     ]
    },
    {
     "name": "stderr",
     "output_type": "stream",
     "text": [
      " 42%|█████████████████████████████████████▍                                                   | 42/100 [1:19:02<1:47:41, 111.41s/it]"
     ]
    },
    {
     "name": "stdout",
     "output_type": "stream",
     "text": [
      "Test set: Epoch: 42, Average loss:2.9538, Top-1 Accuracy: 56.9200%, Top-5 Accuracy: 83.1700%, Time consumed:16.04s\n",
      "\n",
      "Epoch [43], Batch [50/391], Loss: 0.0131\n",
      "Epoch [43], Batch [100/391], Loss: 0.0452\n",
      "Epoch [43], Batch [150/391], Loss: 0.0780\n",
      "Epoch [43], Batch [200/391], Loss: 0.0223\n",
      "Epoch [43], Batch [250/391], Loss: 0.0396\n",
      "Epoch [43], Batch [300/391], Loss: 0.0455\n",
      "Epoch [43], Batch [350/391], Loss: 0.1299\n",
      "Train set: Epoch: 43, Average loss:0.0407, LR: 0.001000 Top-1 Accuracy: 98.7040%, Top-5 Accuracy: 99.9900%, Time consumed:97.59s\n"
     ]
    },
    {
     "name": "stderr",
     "output_type": "stream",
     "text": [
      " 43%|██████████████████████████████████████▎                                                  | 43/100 [1:20:55<1:46:18, 111.90s/it]"
     ]
    },
    {
     "name": "stdout",
     "output_type": "stream",
     "text": [
      "Test set: Epoch: 43, Average loss:2.9991, Top-1 Accuracy: 55.8800%, Top-5 Accuracy: 82.7000%, Time consumed:15.44s\n",
      "\n",
      "Epoch [44], Batch [50/391], Loss: 0.0423\n",
      "Epoch [44], Batch [100/391], Loss: 0.0106\n",
      "Epoch [44], Batch [150/391], Loss: 0.1378\n",
      "Epoch [44], Batch [200/391], Loss: 0.0208\n",
      "Epoch [44], Batch [250/391], Loss: 0.0200\n",
      "Epoch [44], Batch [300/391], Loss: 0.0575\n",
      "Epoch [44], Batch [350/391], Loss: 0.0998\n",
      "Train set: Epoch: 44, Average loss:0.0454, LR: 0.001000 Top-1 Accuracy: 98.5900%, Top-5 Accuracy: 99.9840%, Time consumed:98.13s\n"
     ]
    },
    {
     "name": "stderr",
     "output_type": "stream",
     "text": [
      " 44%|███████████████████████████████████████▏                                                 | 44/100 [1:22:49<1:45:04, 112.57s/it]"
     ]
    },
    {
     "name": "stdout",
     "output_type": "stream",
     "text": [
      "Test set: Epoch: 44, Average loss:2.8939, Top-1 Accuracy: 57.1300%, Top-5 Accuracy: 83.6900%, Time consumed:15.99s\n",
      "\n",
      "Epoch [45], Batch [50/391], Loss: 0.0244\n",
      "Epoch [45], Batch [100/391], Loss: 0.0494\n",
      "Epoch [45], Batch [150/391], Loss: 0.0633\n",
      "Epoch [45], Batch [200/391], Loss: 0.0729\n",
      "Epoch [45], Batch [250/391], Loss: 0.0255\n",
      "Epoch [45], Batch [300/391], Loss: 0.0660\n",
      "Epoch [45], Batch [350/391], Loss: 0.0234\n",
      "Train set: Epoch: 45, Average loss:0.0405, LR: 0.001000 Top-1 Accuracy: 98.7400%, Top-5 Accuracy: 99.9880%, Time consumed:95.81s\n"
     ]
    },
    {
     "name": "stderr",
     "output_type": "stream",
     "text": [
      " 45%|████████████████████████████████████████                                                 | 45/100 [1:24:41<1:43:08, 112.52s/it]"
     ]
    },
    {
     "name": "stdout",
     "output_type": "stream",
     "text": [
      "Test set: Epoch: 45, Average loss:3.2749, Top-1 Accuracy: 57.3300%, Top-5 Accuracy: 83.6400%, Time consumed:16.58s\n",
      "\n",
      "Epoch [46], Batch [50/391], Loss: 0.0450\n",
      "Epoch [46], Batch [100/391], Loss: 0.0297\n",
      "Epoch [46], Batch [150/391], Loss: 0.0086\n",
      "Epoch [46], Batch [200/391], Loss: 0.0291\n",
      "Epoch [46], Batch [250/391], Loss: 0.0250\n",
      "Epoch [46], Batch [300/391], Loss: 0.0632\n",
      "Epoch [46], Batch [350/391], Loss: 0.0640\n",
      "Train set: Epoch: 46, Average loss:0.0352, LR: 0.001000 Top-1 Accuracy: 98.8800%, Top-5 Accuracy: 99.9860%, Time consumed:97.74s\n"
     ]
    },
    {
     "name": "stderr",
     "output_type": "stream",
     "text": [
      " 46%|████████████████████████████████████████▉                                                | 46/100 [1:26:35<1:41:36, 112.89s/it]"
     ]
    },
    {
     "name": "stdout",
     "output_type": "stream",
     "text": [
      "Test set: Epoch: 46, Average loss:2.9497, Top-1 Accuracy: 57.4600%, Top-5 Accuracy: 83.2200%, Time consumed:16.01s\n",
      "\n",
      "Epoch [47], Batch [50/391], Loss: 0.0109\n",
      "Epoch [47], Batch [100/391], Loss: 0.0246\n",
      "Epoch [47], Batch [150/391], Loss: 0.0793\n",
      "Epoch [47], Batch [200/391], Loss: 0.0058\n",
      "Epoch [47], Batch [250/391], Loss: 0.0433\n",
      "Epoch [47], Batch [300/391], Loss: 0.0502\n",
      "Epoch [47], Batch [350/391], Loss: 0.0571\n",
      "Train set: Epoch: 47, Average loss:0.0311, LR: 0.001000 Top-1 Accuracy: 99.0000%, Top-5 Accuracy: 100.0000%, Time consumed:98.85s\n"
     ]
    },
    {
     "name": "stderr",
     "output_type": "stream",
     "text": [
      " 47%|█████████████████████████████████████████▊                                               | 47/100 [1:28:30<1:40:26, 113.70s/it]"
     ]
    },
    {
     "name": "stdout",
     "output_type": "stream",
     "text": [
      "Test set: Epoch: 47, Average loss:2.9845, Top-1 Accuracy: 57.7200%, Top-5 Accuracy: 83.3600%, Time consumed:16.74s\n",
      "\n",
      "Epoch [48], Batch [50/391], Loss: 0.0122\n",
      "Epoch [48], Batch [100/391], Loss: 0.0100\n",
      "Epoch [48], Batch [150/391], Loss: 0.0303\n",
      "Epoch [48], Batch [200/391], Loss: 0.0194\n",
      "Epoch [48], Batch [250/391], Loss: 0.0105\n",
      "Epoch [48], Batch [300/391], Loss: 0.0263\n",
      "Epoch [48], Batch [350/391], Loss: 0.0378\n",
      "Train set: Epoch: 48, Average loss:0.0327, LR: 0.001000 Top-1 Accuracy: 99.0060%, Top-5 Accuracy: 99.9880%, Time consumed:95.29s\n"
     ]
    },
    {
     "name": "stderr",
     "output_type": "stream",
     "text": [
      " 48%|██████████████████████████████████████████▋                                              | 48/100 [1:30:23<1:38:06, 113.20s/it]"
     ]
    },
    {
     "name": "stdout",
     "output_type": "stream",
     "text": [
      "Test set: Epoch: 48, Average loss:2.8378, Top-1 Accuracy: 57.6100%, Top-5 Accuracy: 83.5700%, Time consumed:16.72s\n",
      "\n",
      "Epoch [49], Batch [50/391], Loss: 0.0476\n",
      "Epoch [49], Batch [100/391], Loss: 0.0117\n",
      "Epoch [49], Batch [150/391], Loss: 0.0287\n",
      "Epoch [49], Batch [200/391], Loss: 0.0668\n",
      "Epoch [49], Batch [250/391], Loss: 0.0910\n",
      "Epoch [49], Batch [300/391], Loss: 0.0624\n",
      "Epoch [49], Batch [350/391], Loss: 0.0061\n",
      "Train set: Epoch: 49, Average loss:0.0366, LR: 0.001000 Top-1 Accuracy: 98.8920%, Top-5 Accuracy: 99.9780%, Time consumed:100.78s\n"
     ]
    },
    {
     "name": "stderr",
     "output_type": "stream",
     "text": [
      " 49%|███████████████████████████████████████████▌                                             | 49/100 [1:32:21<1:37:26, 114.64s/it]"
     ]
    },
    {
     "name": "stdout",
     "output_type": "stream",
     "text": [
      "Test set: Epoch: 49, Average loss:2.8196, Top-1 Accuracy: 57.6600%, Top-5 Accuracy: 83.8900%, Time consumed:17.22s\n",
      "\n",
      "Epoch [50], Batch [50/391], Loss: 0.0038\n",
      "Epoch [50], Batch [100/391], Loss: 0.0054\n",
      "Epoch [50], Batch [150/391], Loss: 0.0404\n",
      "Epoch [50], Batch [200/391], Loss: 0.0103\n",
      "Epoch [50], Batch [250/391], Loss: 0.0149\n",
      "Epoch [50], Batch [300/391], Loss: 0.0189\n",
      "Epoch [50], Batch [350/391], Loss: 0.0256\n",
      "Train set: Epoch: 50, Average loss:0.0259, LR: 0.001000 Top-1 Accuracy: 99.1860%, Top-5 Accuracy: 99.9980%, Time consumed:99.11s\n",
      "Test set: Epoch: 50, Average loss:2.8210, Top-1 Accuracy: 58.2300%, Top-5 Accuracy: 83.8300%, Time consumed:15.82s\n",
      "\n",
      "New best top-1 accuracy: 58.23%, top-5 accuracy: 83.83%\n"
     ]
    },
    {
     "name": "stderr",
     "output_type": "stream",
     "text": [
      " 50%|████████████████████████████████████████████▌                                            | 50/100 [1:34:16<1:35:40, 114.81s/it]"
     ]
    },
    {
     "name": "stdout",
     "output_type": "stream",
     "text": [
      "Epoch [51], Batch [50/391], Loss: 0.0570\n",
      "Epoch [51], Batch [100/391], Loss: 0.0142\n",
      "Epoch [51], Batch [150/391], Loss: 0.1268\n",
      "Epoch [51], Batch [200/391], Loss: 0.0192\n",
      "Epoch [51], Batch [250/391], Loss: 0.0501\n",
      "Epoch [51], Batch [300/391], Loss: 0.0447\n",
      "Epoch [51], Batch [350/391], Loss: 0.0708\n",
      "Train set: Epoch: 51, Average loss:0.0394, LR: 0.001000 Top-1 Accuracy: 98.7420%, Top-5 Accuracy: 99.9940%, Time consumed:96.66s\n"
     ]
    },
    {
     "name": "stderr",
     "output_type": "stream",
     "text": [
      " 51%|█████████████████████████████████████████████▍                                           | 51/100 [1:36:09<1:33:16, 114.21s/it]"
     ]
    },
    {
     "name": "stdout",
     "output_type": "stream",
     "text": [
      "Test set: Epoch: 51, Average loss:2.9699, Top-1 Accuracy: 57.1700%, Top-5 Accuracy: 83.4700%, Time consumed:16.13s\n",
      "\n",
      "Epoch [52], Batch [50/391], Loss: 0.0518\n",
      "Epoch [52], Batch [100/391], Loss: 0.0230\n",
      "Epoch [52], Batch [150/391], Loss: 0.0132\n",
      "Epoch [52], Batch [200/391], Loss: 0.0291\n",
      "Epoch [52], Batch [250/391], Loss: 0.0243\n",
      "Epoch [52], Batch [300/391], Loss: 0.0131\n",
      "Epoch [52], Batch [350/391], Loss: 0.0131\n",
      "Train set: Epoch: 52, Average loss:0.0321, LR: 0.001000 Top-1 Accuracy: 98.9800%, Top-5 Accuracy: 99.9960%, Time consumed:95.96s\n"
     ]
    },
    {
     "name": "stderr",
     "output_type": "stream",
     "text": [
      " 52%|██████████████████████████████████████████████▎                                          | 52/100 [1:38:00<1:30:45, 113.44s/it]"
     ]
    },
    {
     "name": "stdout",
     "output_type": "stream",
     "text": [
      "Test set: Epoch: 52, Average loss:2.9360, Top-1 Accuracy: 58.0700%, Top-5 Accuracy: 84.1800%, Time consumed:15.69s\n",
      "\n",
      "Epoch [53], Batch [50/391], Loss: 0.0019\n",
      "Epoch [53], Batch [100/391], Loss: 0.0376\n",
      "Epoch [53], Batch [150/391], Loss: 0.0017\n",
      "Epoch [53], Batch [200/391], Loss: 0.0027\n",
      "Epoch [53], Batch [250/391], Loss: 0.0076\n",
      "Epoch [53], Batch [300/391], Loss: 0.0058\n",
      "Epoch [53], Batch [350/391], Loss: 0.0563\n",
      "Train set: Epoch: 53, Average loss:0.0253, LR: 0.001000 Top-1 Accuracy: 99.2380%, Top-5 Accuracy: 99.9960%, Time consumed:95.01s\n"
     ]
    },
    {
     "name": "stderr",
     "output_type": "stream",
     "text": [
      " 53%|███████████████████████████████████████████████▏                                         | 53/100 [1:39:51<1:28:12, 112.60s/it]"
     ]
    },
    {
     "name": "stdout",
     "output_type": "stream",
     "text": [
      "Test set: Epoch: 53, Average loss:2.8836, Top-1 Accuracy: 57.7800%, Top-5 Accuracy: 83.8500%, Time consumed:15.61s\n",
      "\n",
      "Epoch [54], Batch [50/391], Loss: 0.0031\n",
      "Epoch [54], Batch [100/391], Loss: 0.0081\n",
      "Epoch [54], Batch [150/391], Loss: 0.0034\n",
      "Epoch [54], Batch [200/391], Loss: 0.0322\n",
      "Epoch [54], Batch [250/391], Loss: 0.0093\n",
      "Epoch [54], Batch [300/391], Loss: 0.0119\n",
      "Epoch [54], Batch [350/391], Loss: 0.0564\n",
      "Train set: Epoch: 54, Average loss:0.0229, LR: 0.001000 Top-1 Accuracy: 99.2980%, Top-5 Accuracy: 99.9920%, Time consumed:94.61s\n"
     ]
    },
    {
     "name": "stderr",
     "output_type": "stream",
     "text": [
      " 54%|████████████████████████████████████████████████                                         | 54/100 [1:41:41<1:25:47, 111.90s/it]"
     ]
    },
    {
     "name": "stdout",
     "output_type": "stream",
     "text": [
      "Test set: Epoch: 54, Average loss:2.8256, Top-1 Accuracy: 58.1400%, Top-5 Accuracy: 84.0200%, Time consumed:15.66s\n",
      "\n",
      "Epoch [55], Batch [50/391], Loss: 0.0024\n",
      "Epoch [55], Batch [100/391], Loss: 0.0134\n",
      "Epoch [55], Batch [150/391], Loss: 0.0534\n",
      "Epoch [55], Batch [200/391], Loss: 0.0117\n",
      "Epoch [55], Batch [250/391], Loss: 0.0679\n",
      "Epoch [55], Batch [300/391], Loss: 0.0248\n",
      "Epoch [55], Batch [350/391], Loss: 0.0369\n",
      "Train set: Epoch: 55, Average loss:0.0276, LR: 0.001000 Top-1 Accuracy: 99.1520%, Top-5 Accuracy: 99.9960%, Time consumed:99.23s\n"
     ]
    },
    {
     "name": "stderr",
     "output_type": "stream",
     "text": [
      " 55%|████████████████████████████████████████████████▉                                        | 55/100 [1:43:37<1:24:48, 113.07s/it]"
     ]
    },
    {
     "name": "stdout",
     "output_type": "stream",
     "text": [
      "Test set: Epoch: 55, Average loss:2.9503, Top-1 Accuracy: 57.7500%, Top-5 Accuracy: 83.6400%, Time consumed:16.56s\n",
      "\n",
      "Epoch [56], Batch [50/391], Loss: 0.0370\n",
      "Epoch [56], Batch [100/391], Loss: 0.0058\n",
      "Epoch [56], Batch [150/391], Loss: 0.0244\n",
      "Epoch [56], Batch [200/391], Loss: 0.0350\n",
      "Epoch [56], Batch [250/391], Loss: 0.0225\n",
      "Epoch [56], Batch [300/391], Loss: 0.0561\n",
      "Epoch [56], Batch [350/391], Loss: 0.0818\n",
      "Train set: Epoch: 56, Average loss:0.0345, LR: 0.001000 Top-1 Accuracy: 98.8880%, Top-5 Accuracy: 99.9940%, Time consumed:96.20s\n"
     ]
    },
    {
     "name": "stderr",
     "output_type": "stream",
     "text": [
      " 56%|█████████████████████████████████████████████████▊                                       | 56/100 [1:45:29<1:22:45, 112.86s/it]"
     ]
    },
    {
     "name": "stdout",
     "output_type": "stream",
     "text": [
      "Test set: Epoch: 56, Average loss:2.9899, Top-1 Accuracy: 57.7200%, Top-5 Accuracy: 83.6400%, Time consumed:16.16s\n",
      "\n",
      "Epoch [57], Batch [50/391], Loss: 0.0612\n",
      "Epoch [57], Batch [100/391], Loss: 0.0220\n",
      "Epoch [57], Batch [150/391], Loss: 0.0102\n",
      "Epoch [57], Batch [200/391], Loss: 0.0327\n",
      "Epoch [57], Batch [250/391], Loss: 0.0205\n",
      "Epoch [57], Batch [300/391], Loss: 0.0410\n",
      "Epoch [57], Batch [350/391], Loss: 0.0435\n",
      "Train set: Epoch: 57, Average loss:0.0311, LR: 0.001000 Top-1 Accuracy: 99.0460%, Top-5 Accuracy: 99.9900%, Time consumed:97.92s\n"
     ]
    },
    {
     "name": "stderr",
     "output_type": "stream",
     "text": [
      " 57%|██████████████████████████████████████████████████▋                                      | 57/100 [1:47:23<1:21:03, 113.10s/it]"
     ]
    },
    {
     "name": "stdout",
     "output_type": "stream",
     "text": [
      "Test set: Epoch: 57, Average loss:2.8505, Top-1 Accuracy: 57.5100%, Top-5 Accuracy: 83.6500%, Time consumed:15.75s\n",
      "\n",
      "Epoch [58], Batch [50/391], Loss: 0.0091\n",
      "Epoch [58], Batch [100/391], Loss: 0.0032\n",
      "Epoch [58], Batch [150/391], Loss: 0.0060\n",
      "Epoch [58], Batch [200/391], Loss: 0.0211\n",
      "Epoch [58], Batch [250/391], Loss: 0.0232\n",
      "Epoch [58], Batch [300/391], Loss: 0.0081\n",
      "Epoch [58], Batch [350/391], Loss: 0.0083\n",
      "Train set: Epoch: 58, Average loss:0.0239, LR: 0.001000 Top-1 Accuracy: 99.2740%, Top-5 Accuracy: 99.9960%, Time consumed:99.90s\n"
     ]
    },
    {
     "name": "stderr",
     "output_type": "stream",
     "text": [
      " 58%|███████████████████████████████████████████████████▌                                     | 58/100 [1:49:19<1:19:47, 113.99s/it]"
     ]
    },
    {
     "name": "stdout",
     "output_type": "stream",
     "text": [
      "Test set: Epoch: 58, Average loss:3.4892, Top-1 Accuracy: 56.3000%, Top-5 Accuracy: 82.2500%, Time consumed:16.16s\n",
      "\n",
      "Epoch [59], Batch [50/391], Loss: 0.0714\n",
      "Epoch [59], Batch [100/391], Loss: 0.0100\n",
      "Epoch [59], Batch [150/391], Loss: 0.0134\n",
      "Epoch [59], Batch [200/391], Loss: 0.0049\n",
      "Epoch [59], Batch [250/391], Loss: 0.0219\n",
      "Epoch [59], Batch [300/391], Loss: 0.0348\n",
      "Epoch [59], Batch [350/391], Loss: 0.0037\n",
      "Train set: Epoch: 59, Average loss:0.0211, LR: 0.001000 Top-1 Accuracy: 99.3540%, Top-5 Accuracy: 99.9940%, Time consumed:95.32s\n",
      "Test set: Epoch: 59, Average loss:2.8484, Top-1 Accuracy: 58.8200%, Top-5 Accuracy: 84.5900%, Time consumed:15.87s\n",
      "\n",
      "New best top-1 accuracy: 58.82%, top-5 accuracy: 84.59%\n"
     ]
    },
    {
     "name": "stderr",
     "output_type": "stream",
     "text": [
      " 59%|████████████████████████████████████████████████████▌                                    | 59/100 [1:51:10<1:17:22, 113.23s/it]"
     ]
    },
    {
     "name": "stdout",
     "output_type": "stream",
     "text": [
      "New best top-5 accuracy: 84.59%\n",
      "Epoch [60], Batch [50/391], Loss: 0.0231\n",
      "Epoch [60], Batch [100/391], Loss: 0.0215\n",
      "Epoch [60], Batch [150/391], Loss: 0.0054\n",
      "Epoch [60], Batch [200/391], Loss: 0.0149\n",
      "Epoch [60], Batch [250/391], Loss: 0.0041\n",
      "Epoch [60], Batch [300/391], Loss: 0.0336\n",
      "Epoch [60], Batch [350/391], Loss: 0.0259\n",
      "Train set: Epoch: 60, Average loss:0.0212, LR: 0.001000 Top-1 Accuracy: 99.3680%, Top-5 Accuracy: 99.9920%, Time consumed:97.32s\n"
     ]
    },
    {
     "name": "stderr",
     "output_type": "stream",
     "text": [
      " 60%|█████████████████████████████████████████████████████▍                                   | 60/100 [1:53:04<1:15:37, 113.45s/it]"
     ]
    },
    {
     "name": "stdout",
     "output_type": "stream",
     "text": [
      "Test set: Epoch: 60, Average loss:3.1139, Top-1 Accuracy: 57.6600%, Top-5 Accuracy: 83.8200%, Time consumed:16.63s\n",
      "\n",
      "Epoch [61], Batch [50/391], Loss: 0.0039\n",
      "Epoch [61], Batch [100/391], Loss: 0.0170\n",
      "Epoch [61], Batch [150/391], Loss: 0.0180\n",
      "Epoch [61], Batch [200/391], Loss: 0.0213\n",
      "Epoch [61], Batch [250/391], Loss: 0.0680\n",
      "Epoch [61], Batch [300/391], Loss: 0.0118\n",
      "Epoch [61], Batch [350/391], Loss: 0.1274\n",
      "Train set: Epoch: 61, Average loss:0.0336, LR: 0.001000 Top-1 Accuracy: 98.9580%, Top-5 Accuracy: 99.9920%, Time consumed:97.44s\n"
     ]
    },
    {
     "name": "stderr",
     "output_type": "stream",
     "text": [
      " 61%|██████████████████████████████████████████████████████▎                                  | 61/100 [1:55:00<1:14:05, 113.99s/it]"
     ]
    },
    {
     "name": "stdout",
     "output_type": "stream",
     "text": [
      "Test set: Epoch: 61, Average loss:2.9914, Top-1 Accuracy: 56.3000%, Top-5 Accuracy: 83.2000%, Time consumed:17.80s\n",
      "\n",
      "Epoch [62], Batch [50/391], Loss: 0.0358\n",
      "Epoch [62], Batch [100/391], Loss: 0.0070\n",
      "Epoch [62], Batch [150/391], Loss: 0.0043\n",
      "Epoch [62], Batch [200/391], Loss: 0.0351\n",
      "Epoch [62], Batch [250/391], Loss: 0.0380\n",
      "Epoch [62], Batch [300/391], Loss: 0.0160\n",
      "Epoch [62], Batch [350/391], Loss: 0.0349\n",
      "Train set: Epoch: 62, Average loss:0.0328, LR: 0.001000 Top-1 Accuracy: 98.9020%, Top-5 Accuracy: 99.9900%, Time consumed:95.73s\n"
     ]
    },
    {
     "name": "stderr",
     "output_type": "stream",
     "text": [
      " 62%|███████████████████████████████████████████████████████▏                                 | 62/100 [1:56:51<1:11:40, 113.18s/it]"
     ]
    },
    {
     "name": "stdout",
     "output_type": "stream",
     "text": [
      "Test set: Epoch: 62, Average loss:3.0368, Top-1 Accuracy: 57.4000%, Top-5 Accuracy: 83.9400%, Time consumed:15.56s\n",
      "\n",
      "Epoch [63], Batch [50/391], Loss: 0.0320\n",
      "Epoch [63], Batch [100/391], Loss: 0.0011\n",
      "Epoch [63], Batch [150/391], Loss: 0.0442\n",
      "Epoch [63], Batch [200/391], Loss: 0.0469\n",
      "Epoch [63], Batch [250/391], Loss: 0.0068\n",
      "Epoch [63], Batch [300/391], Loss: 0.0050\n",
      "Epoch [63], Batch [350/391], Loss: 0.0223\n",
      "Train set: Epoch: 63, Average loss:0.0224, LR: 0.001000 Top-1 Accuracy: 99.3260%, Top-5 Accuracy: 99.9980%, Time consumed:95.95s\n"
     ]
    },
    {
     "name": "stderr",
     "output_type": "stream",
     "text": [
      " 63%|████████████████████████████████████████████████████████                                 | 63/100 [1:58:43<1:09:33, 112.79s/it]"
     ]
    },
    {
     "name": "stdout",
     "output_type": "stream",
     "text": [
      "Test set: Epoch: 63, Average loss:2.9480, Top-1 Accuracy: 58.4800%, Top-5 Accuracy: 83.8600%, Time consumed:15.91s\n",
      "\n",
      "Epoch [64], Batch [50/391], Loss: 0.0507\n",
      "Epoch [64], Batch [100/391], Loss: 0.0077\n",
      "Epoch [64], Batch [150/391], Loss: 0.0186\n",
      "Epoch [64], Batch [200/391], Loss: 0.0086\n",
      "Epoch [64], Batch [250/391], Loss: 0.0012\n",
      "Epoch [64], Batch [300/391], Loss: 0.0346\n",
      "Epoch [64], Batch [350/391], Loss: 0.0503\n",
      "Train set: Epoch: 64, Average loss:0.0206, LR: 0.001000 Top-1 Accuracy: 99.3280%, Top-5 Accuracy: 99.9940%, Time consumed:95.99s\n"
     ]
    },
    {
     "name": "stderr",
     "output_type": "stream",
     "text": [
      " 64%|████████████████████████████████████████████████████████▉                                | 64/100 [2:00:34<1:07:27, 112.44s/it]"
     ]
    },
    {
     "name": "stdout",
     "output_type": "stream",
     "text": [
      "Test set: Epoch: 64, Average loss:3.0226, Top-1 Accuracy: 56.7800%, Top-5 Accuracy: 83.3000%, Time consumed:15.64s\n",
      "\n",
      "Epoch [65], Batch [50/391], Loss: 0.0143\n",
      "Epoch [65], Batch [100/391], Loss: 0.0243\n",
      "Epoch [65], Batch [150/391], Loss: 0.0571\n",
      "Epoch [65], Batch [200/391], Loss: 0.0430\n",
      "Epoch [65], Batch [250/391], Loss: 0.0125\n",
      "Epoch [65], Batch [300/391], Loss: 0.0115\n",
      "Epoch [65], Batch [350/391], Loss: 0.0095\n",
      "Train set: Epoch: 65, Average loss:0.0217, LR: 0.001000 Top-1 Accuracy: 99.3580%, Top-5 Accuracy: 99.9920%, Time consumed:94.79s\n"
     ]
    },
    {
     "name": "stderr",
     "output_type": "stream",
     "text": [
      " 65%|█████████████████████████████████████████████████████████▊                               | 65/100 [2:02:26<1:05:24, 112.13s/it]"
     ]
    },
    {
     "name": "stdout",
     "output_type": "stream",
     "text": [
      "Test set: Epoch: 65, Average loss:3.0315, Top-1 Accuracy: 57.6200%, Top-5 Accuracy: 83.9400%, Time consumed:16.61s\n",
      "\n",
      "Epoch [66], Batch [50/391], Loss: 0.0547\n",
      "Epoch [66], Batch [100/391], Loss: 0.0072\n",
      "Epoch [66], Batch [150/391], Loss: 0.0617\n",
      "Epoch [66], Batch [200/391], Loss: 0.0156\n",
      "Epoch [66], Batch [250/391], Loss: 0.0251\n",
      "Epoch [66], Batch [300/391], Loss: 0.0032\n",
      "Epoch [66], Batch [350/391], Loss: 0.0063\n",
      "Train set: Epoch: 66, Average loss:0.0193, LR: 0.001000 Top-1 Accuracy: 99.4100%, Top-5 Accuracy: 100.0000%, Time consumed:95.35s\n"
     ]
    },
    {
     "name": "stderr",
     "output_type": "stream",
     "text": [
      " 66%|██████████████████████████████████████████████████████████▋                              | 66/100 [2:04:17<1:03:20, 111.78s/it]"
     ]
    },
    {
     "name": "stdout",
     "output_type": "stream",
     "text": [
      "Test set: Epoch: 66, Average loss:3.1180, Top-1 Accuracy: 57.6800%, Top-5 Accuracy: 84.0500%, Time consumed:15.60s\n",
      "\n",
      "Epoch [67], Batch [50/391], Loss: 0.0062\n",
      "Epoch [67], Batch [100/391], Loss: 0.0041\n",
      "Epoch [67], Batch [150/391], Loss: 0.0237\n",
      "Epoch [67], Batch [200/391], Loss: 0.0303\n",
      "Epoch [67], Batch [250/391], Loss: 0.0238\n",
      "Epoch [67], Batch [300/391], Loss: 0.0221\n",
      "Epoch [67], Batch [350/391], Loss: 0.0407\n",
      "Train set: Epoch: 67, Average loss:0.0238, LR: 0.001000 Top-1 Accuracy: 99.2120%, Top-5 Accuracy: 99.9920%, Time consumed:95.43s\n"
     ]
    },
    {
     "name": "stderr",
     "output_type": "stream",
     "text": [
      " 67%|███████████████████████████████████████████████████████████▋                             | 67/100 [2:06:08<1:01:22, 111.58s/it]"
     ]
    },
    {
     "name": "stdout",
     "output_type": "stream",
     "text": [
      "Test set: Epoch: 67, Average loss:2.9852, Top-1 Accuracy: 57.1200%, Top-5 Accuracy: 83.5800%, Time consumed:15.68s\n",
      "\n",
      "Epoch [68], Batch [50/391], Loss: 0.0075\n",
      "Epoch [68], Batch [100/391], Loss: 0.0222\n",
      "Epoch [68], Batch [150/391], Loss: 0.0355\n",
      "Epoch [68], Batch [200/391], Loss: 0.0231\n",
      "Epoch [68], Batch [250/391], Loss: 0.0064\n",
      "Epoch [68], Batch [300/391], Loss: 0.0070\n",
      "Epoch [68], Batch [350/391], Loss: 0.0152\n",
      "Train set: Epoch: 68, Average loss:0.0262, LR: 0.001000 Top-1 Accuracy: 99.1380%, Top-5 Accuracy: 100.0000%, Time consumed:94.48s\n"
     ]
    },
    {
     "name": "stderr",
     "output_type": "stream",
     "text": [
      " 68%|█████████████████████████████████████████████████████████████▉                             | 68/100 [2:07:59<59:28, 111.50s/it]"
     ]
    },
    {
     "name": "stdout",
     "output_type": "stream",
     "text": [
      "Test set: Epoch: 68, Average loss:2.9939, Top-1 Accuracy: 56.3900%, Top-5 Accuracy: 83.6900%, Time consumed:16.83s\n",
      "\n",
      "Epoch [69], Batch [50/391], Loss: 0.0008\n",
      "Epoch [69], Batch [100/391], Loss: 0.0127\n",
      "Epoch [69], Batch [150/391], Loss: 0.0218\n",
      "Epoch [69], Batch [200/391], Loss: 0.0512\n",
      "Epoch [69], Batch [250/391], Loss: 0.0050\n",
      "Epoch [69], Batch [300/391], Loss: 0.0517\n",
      "Epoch [69], Batch [350/391], Loss: 0.0103\n",
      "Train set: Epoch: 69, Average loss:0.0219, LR: 0.001000 Top-1 Accuracy: 99.2920%, Top-5 Accuracy: 99.9960%, Time consumed:94.62s\n"
     ]
    },
    {
     "name": "stderr",
     "output_type": "stream",
     "text": [
      " 69%|██████████████████████████████████████████████████████████████▊                            | 69/100 [2:09:50<57:27, 111.22s/it]"
     ]
    },
    {
     "name": "stdout",
     "output_type": "stream",
     "text": [
      "Test set: Epoch: 69, Average loss:3.4422, Top-1 Accuracy: 56.0800%, Top-5 Accuracy: 82.8000%, Time consumed:15.94s\n",
      "\n",
      "Epoch [70], Batch [50/391], Loss: 0.0105\n",
      "Epoch [70], Batch [100/391], Loss: 0.0055\n",
      "Epoch [70], Batch [150/391], Loss: 0.0204\n",
      "Epoch [70], Batch [200/391], Loss: 0.0116\n",
      "Epoch [70], Batch [250/391], Loss: 0.0208\n",
      "Epoch [70], Batch [300/391], Loss: 0.0094\n",
      "Epoch [70], Batch [350/391], Loss: 0.0199\n",
      "Train set: Epoch: 70, Average loss:0.0181, LR: 0.001000 Top-1 Accuracy: 99.4360%, Top-5 Accuracy: 99.9980%, Time consumed:95.22s\n"
     ]
    },
    {
     "name": "stderr",
     "output_type": "stream",
     "text": [
      " 70%|███████████████████████████████████████████████████████████████▋                           | 70/100 [2:11:41<55:37, 111.25s/it]"
     ]
    },
    {
     "name": "stdout",
     "output_type": "stream",
     "text": [
      "Test set: Epoch: 70, Average loss:3.1974, Top-1 Accuracy: 58.1900%, Top-5 Accuracy: 83.8800%, Time consumed:16.08s\n",
      "\n",
      "Epoch [71], Batch [50/391], Loss: 0.0040\n",
      "Epoch [71], Batch [100/391], Loss: 0.0071\n",
      "Epoch [71], Batch [150/391], Loss: 0.0016\n",
      "Epoch [71], Batch [200/391], Loss: 0.0202\n",
      "Epoch [71], Batch [250/391], Loss: 0.0171\n",
      "Epoch [71], Batch [300/391], Loss: 0.0400\n",
      "Epoch [71], Batch [350/391], Loss: 0.0279\n",
      "Train set: Epoch: 71, Average loss:0.0151, LR: 0.001000 Top-1 Accuracy: 99.5340%, Top-5 Accuracy: 99.9940%, Time consumed:94.40s\n"
     ]
    },
    {
     "name": "stderr",
     "output_type": "stream",
     "text": [
      " 71%|████████████████████████████████████████████████████████████████▌                          | 71/100 [2:13:32<53:42, 111.11s/it]"
     ]
    },
    {
     "name": "stdout",
     "output_type": "stream",
     "text": [
      "Test set: Epoch: 71, Average loss:3.4621, Top-1 Accuracy: 58.1000%, Top-5 Accuracy: 83.7300%, Time consumed:16.37s\n",
      "\n",
      "Epoch [72], Batch [50/391], Loss: 0.0195\n",
      "Epoch [72], Batch [100/391], Loss: 0.0032\n",
      "Epoch [72], Batch [150/391], Loss: 0.0664\n",
      "Epoch [72], Batch [200/391], Loss: 0.0346\n",
      "Epoch [72], Batch [250/391], Loss: 0.0151\n",
      "Epoch [72], Batch [300/391], Loss: 0.0345\n",
      "Epoch [72], Batch [350/391], Loss: 0.0518\n",
      "Train set: Epoch: 72, Average loss:0.0250, LR: 0.001000 Top-1 Accuracy: 99.1720%, Top-5 Accuracy: 99.9940%, Time consumed:96.03s\n"
     ]
    },
    {
     "name": "stderr",
     "output_type": "stream",
     "text": [
      " 72%|█████████████████████████████████████████████████████████████████▌                         | 72/100 [2:15:24<51:58, 111.36s/it]"
     ]
    },
    {
     "name": "stdout",
     "output_type": "stream",
     "text": [
      "Test set: Epoch: 72, Average loss:2.9967, Top-1 Accuracy: 57.3300%, Top-5 Accuracy: 83.7400%, Time consumed:15.93s\n",
      "\n",
      "Epoch [73], Batch [50/391], Loss: 0.0116\n",
      "Epoch [73], Batch [100/391], Loss: 0.0119\n",
      "Epoch [73], Batch [150/391], Loss: 0.0046\n",
      "Epoch [73], Batch [200/391], Loss: 0.0027\n",
      "Epoch [73], Batch [250/391], Loss: 0.0115\n",
      "Epoch [73], Batch [300/391], Loss: 0.0449\n",
      "Epoch [73], Batch [350/391], Loss: 0.0318\n",
      "Train set: Epoch: 73, Average loss:0.0212, LR: 0.001000 Top-1 Accuracy: 99.3360%, Top-5 Accuracy: 99.9940%, Time consumed:94.52s\n"
     ]
    },
    {
     "name": "stderr",
     "output_type": "stream",
     "text": [
      " 73%|██████████████████████████████████████████████████████████████████▍                        | 73/100 [2:17:14<49:56, 110.98s/it]"
     ]
    },
    {
     "name": "stdout",
     "output_type": "stream",
     "text": [
      "Test set: Epoch: 73, Average loss:3.1612, Top-1 Accuracy: 57.3300%, Top-5 Accuracy: 84.0000%, Time consumed:15.55s\n",
      "\n",
      "Epoch [74], Batch [50/391], Loss: 0.0267\n",
      "Epoch [74], Batch [100/391], Loss: 0.0065\n",
      "Epoch [74], Batch [150/391], Loss: 0.0206\n",
      "Epoch [74], Batch [200/391], Loss: 0.0136\n",
      "Epoch [74], Batch [250/391], Loss: 0.0238\n",
      "Epoch [74], Batch [300/391], Loss: 0.0018\n",
      "Epoch [74], Batch [350/391], Loss: 0.0134\n",
      "Train set: Epoch: 74, Average loss:0.0237, LR: 0.001000 Top-1 Accuracy: 99.2100%, Top-5 Accuracy: 99.9920%, Time consumed:94.56s\n"
     ]
    },
    {
     "name": "stderr",
     "output_type": "stream",
     "text": [
      " 74%|███████████████████████████████████████████████████████████████████▎                       | 74/100 [2:19:05<48:05, 110.99s/it]"
     ]
    },
    {
     "name": "stdout",
     "output_type": "stream",
     "text": [
      "Test set: Epoch: 74, Average loss:3.1104, Top-1 Accuracy: 56.8900%, Top-5 Accuracy: 83.0400%, Time consumed:16.45s\n",
      "\n",
      "Epoch [75], Batch [50/391], Loss: 0.0175\n",
      "Epoch [75], Batch [100/391], Loss: 0.0348\n",
      "Epoch [75], Batch [150/391], Loss: 0.0344\n",
      "Epoch [75], Batch [200/391], Loss: 0.0049\n",
      "Epoch [75], Batch [250/391], Loss: 0.0195\n",
      "Epoch [75], Batch [300/391], Loss: 0.0129\n",
      "Epoch [75], Batch [350/391], Loss: 0.0177\n",
      "Train set: Epoch: 75, Average loss:0.0210, LR: 0.001000 Top-1 Accuracy: 99.3600%, Top-5 Accuracy: 99.9960%, Time consumed:94.52s\n"
     ]
    },
    {
     "name": "stderr",
     "output_type": "stream",
     "text": [
      " 75%|████████████████████████████████████████████████████████████████████▎                      | 75/100 [2:20:56<46:12, 110.92s/it]"
     ]
    },
    {
     "name": "stdout",
     "output_type": "stream",
     "text": [
      "Test set: Epoch: 75, Average loss:3.0448, Top-1 Accuracy: 58.3800%, Top-5 Accuracy: 83.6600%, Time consumed:16.21s\n",
      "\n",
      "Epoch [76], Batch [50/391], Loss: 0.0016\n",
      "Epoch [76], Batch [100/391], Loss: 0.0042\n",
      "Epoch [76], Batch [150/391], Loss: 0.0309\n",
      "Epoch [76], Batch [200/391], Loss: 0.0136\n",
      "Epoch [76], Batch [250/391], Loss: 0.0130\n",
      "Epoch [76], Batch [300/391], Loss: 0.0488\n",
      "Epoch [76], Batch [350/391], Loss: 0.0568\n",
      "Train set: Epoch: 76, Average loss:0.0159, LR: 0.001000 Top-1 Accuracy: 99.4920%, Top-5 Accuracy: 99.9940%, Time consumed:97.20s\n"
     ]
    },
    {
     "name": "stderr",
     "output_type": "stream",
     "text": [
      " 76%|█████████████████████████████████████████████████████████████████████▏                     | 76/100 [2:22:50<44:43, 111.81s/it]"
     ]
    },
    {
     "name": "stdout",
     "output_type": "stream",
     "text": [
      "Test set: Epoch: 76, Average loss:2.9900, Top-1 Accuracy: 58.4700%, Top-5 Accuracy: 83.9800%, Time consumed:16.68s\n",
      "\n",
      "Epoch [77], Batch [50/391], Loss: 0.0240\n",
      "Epoch [77], Batch [100/391], Loss: 0.0171\n",
      "Epoch [77], Batch [150/391], Loss: 0.0064\n",
      "Epoch [77], Batch [200/391], Loss: 0.0235\n",
      "Epoch [77], Batch [250/391], Loss: 0.0104\n",
      "Epoch [77], Batch [300/391], Loss: 0.0564\n",
      "Epoch [77], Batch [350/391], Loss: 0.0302\n",
      "Train set: Epoch: 77, Average loss:0.0158, LR: 0.001000 Top-1 Accuracy: 99.4960%, Top-5 Accuracy: 99.9960%, Time consumed:97.26s\n",
      "Test set: Epoch: 77, Average loss:3.0240, Top-1 Accuracy: 59.1000%, Top-5 Accuracy: 84.6100%, Time consumed:17.89s\n",
      "\n",
      "New best top-1 accuracy: 59.10%, top-5 accuracy: 84.61%\n"
     ]
    },
    {
     "name": "stderr",
     "output_type": "stream",
     "text": [
      " 77%|██████████████████████████████████████████████████████████████████████                     | 77/100 [2:24:45<43:16, 112.89s/it]"
     ]
    },
    {
     "name": "stdout",
     "output_type": "stream",
     "text": [
      "New best top-5 accuracy: 84.61%\n",
      "Epoch [78], Batch [50/391], Loss: 0.0032\n",
      "Epoch [78], Batch [100/391], Loss: 0.0385\n",
      "Epoch [78], Batch [150/391], Loss: 0.0092\n",
      "Epoch [78], Batch [200/391], Loss: 0.0074\n",
      "Epoch [78], Batch [250/391], Loss: 0.0836\n",
      "Epoch [78], Batch [300/391], Loss: 0.0072\n",
      "Epoch [78], Batch [350/391], Loss: 0.0314\n",
      "Train set: Epoch: 78, Average loss:0.0203, LR: 0.001000 Top-1 Accuracy: 99.3840%, Top-5 Accuracy: 99.9980%, Time consumed:96.57s\n"
     ]
    },
    {
     "name": "stderr",
     "output_type": "stream",
     "text": [
      " 78%|██████████████████████████████████████████████████████████████████████▉                    | 78/100 [2:26:38<41:21, 112.78s/it]"
     ]
    },
    {
     "name": "stdout",
     "output_type": "stream",
     "text": [
      "Test set: Epoch: 78, Average loss:3.1165, Top-1 Accuracy: 56.6000%, Top-5 Accuracy: 82.9600%, Time consumed:15.95s\n",
      "\n",
      "Epoch [79], Batch [50/391], Loss: 0.0495\n",
      "Epoch [79], Batch [100/391], Loss: 0.0090\n",
      "Epoch [79], Batch [150/391], Loss: 0.0103\n",
      "Epoch [79], Batch [200/391], Loss: 0.0027\n",
      "Epoch [79], Batch [250/391], Loss: 0.0112\n",
      "Epoch [79], Batch [300/391], Loss: 0.0128\n",
      "Epoch [79], Batch [350/391], Loss: 0.0133\n",
      "Train set: Epoch: 79, Average loss:0.0249, LR: 0.001000 Top-1 Accuracy: 99.2120%, Top-5 Accuracy: 99.9920%, Time consumed:94.54s\n"
     ]
    },
    {
     "name": "stderr",
     "output_type": "stream",
     "text": [
      " 79%|███████████████████████████████████████████████████████████████████████▉                   | 79/100 [2:28:28<39:14, 112.10s/it]"
     ]
    },
    {
     "name": "stdout",
     "output_type": "stream",
     "text": [
      "Test set: Epoch: 79, Average loss:3.0425, Top-1 Accuracy: 58.2100%, Top-5 Accuracy: 83.9000%, Time consumed:15.95s\n",
      "\n",
      "Epoch [80], Batch [50/391], Loss: 0.0059\n",
      "Epoch [80], Batch [100/391], Loss: 0.0086\n",
      "Epoch [80], Batch [150/391], Loss: 0.0121\n",
      "Epoch [80], Batch [200/391], Loss: 0.0074\n",
      "Epoch [80], Batch [250/391], Loss: 0.0042\n",
      "Epoch [80], Batch [300/391], Loss: 0.0091\n",
      "Epoch [80], Batch [350/391], Loss: 0.0756\n",
      "Train set: Epoch: 80, Average loss:0.0166, LR: 0.001000 Top-1 Accuracy: 99.4800%, Top-5 Accuracy: 99.9960%, Time consumed:102.01s\n"
     ]
    },
    {
     "name": "stderr",
     "output_type": "stream",
     "text": [
      " 80%|████████████████████████████████████████████████████████████████████████▊                  | 80/100 [2:30:26<37:55, 113.78s/it]"
     ]
    },
    {
     "name": "stdout",
     "output_type": "stream",
     "text": [
      "Test set: Epoch: 80, Average loss:3.3051, Top-1 Accuracy: 57.8200%, Top-5 Accuracy: 84.1100%, Time consumed:15.68s\n",
      "\n",
      "Epoch [81], Batch [50/391], Loss: 0.0137\n",
      "Epoch [81], Batch [100/391], Loss: 0.0046\n",
      "Epoch [81], Batch [150/391], Loss: 0.0440\n",
      "Epoch [81], Batch [200/391], Loss: 0.0213\n",
      "Epoch [81], Batch [250/391], Loss: 0.0281\n",
      "Epoch [81], Batch [300/391], Loss: 0.0388\n",
      "Epoch [81], Batch [350/391], Loss: 0.0660\n",
      "Train set: Epoch: 81, Average loss:0.0231, LR: 0.001000 Top-1 Accuracy: 99.2520%, Top-5 Accuracy: 99.9980%, Time consumed:95.00s\n"
     ]
    },
    {
     "name": "stderr",
     "output_type": "stream",
     "text": [
      " 81%|█████████████████████████████████████████████████████████████████████████▋                 | 81/100 [2:32:17<35:46, 112.99s/it]"
     ]
    },
    {
     "name": "stdout",
     "output_type": "stream",
     "text": [
      "Test set: Epoch: 81, Average loss:3.0805, Top-1 Accuracy: 58.1200%, Top-5 Accuracy: 84.1800%, Time consumed:16.13s\n",
      "\n",
      "Epoch [82], Batch [50/391], Loss: 0.0013\n",
      "Epoch [82], Batch [100/391], Loss: 0.0065\n",
      "Epoch [82], Batch [150/391], Loss: 0.0345\n",
      "Epoch [82], Batch [200/391], Loss: 0.0044\n",
      "Epoch [82], Batch [250/391], Loss: 0.0146\n",
      "Epoch [82], Batch [300/391], Loss: 0.0112\n",
      "Epoch [82], Batch [350/391], Loss: 0.0048\n",
      "Train set: Epoch: 82, Average loss:0.0164, LR: 0.001000 Top-1 Accuracy: 99.4500%, Top-5 Accuracy: 99.9980%, Time consumed:95.47s\n"
     ]
    },
    {
     "name": "stderr",
     "output_type": "stream",
     "text": [
      " 82%|██████████████████████████████████████████████████████████████████████████▌                | 82/100 [2:34:10<33:55, 113.06s/it]"
     ]
    },
    {
     "name": "stdout",
     "output_type": "stream",
     "text": [
      "Test set: Epoch: 82, Average loss:3.1171, Top-1 Accuracy: 58.6700%, Top-5 Accuracy: 84.1600%, Time consumed:17.74s\n",
      "\n",
      "Epoch [83], Batch [50/391], Loss: 0.0415\n",
      "Epoch [83], Batch [100/391], Loss: 0.0010\n",
      "Epoch [83], Batch [150/391], Loss: 0.0011\n",
      "Epoch [83], Batch [200/391], Loss: 0.0060\n",
      "Epoch [83], Batch [250/391], Loss: 0.0134\n",
      "Epoch [83], Batch [300/391], Loss: 0.0010\n",
      "Epoch [83], Batch [350/391], Loss: 0.0030\n",
      "Train set: Epoch: 83, Average loss:0.0108, LR: 0.001000 Top-1 Accuracy: 99.6640%, Top-5 Accuracy: 100.0000%, Time consumed:96.76s\n"
     ]
    },
    {
     "name": "stderr",
     "output_type": "stream",
     "text": [
      " 83%|███████████████████████████████████████████████████████████████████████████▌               | 83/100 [2:36:03<32:01, 113.05s/it]"
     ]
    },
    {
     "name": "stdout",
     "output_type": "stream",
     "text": [
      "Test set: Epoch: 83, Average loss:3.0534, Top-1 Accuracy: 58.3000%, Top-5 Accuracy: 84.3500%, Time consumed:16.26s\n",
      "\n",
      "Epoch [84], Batch [50/391], Loss: 0.0038\n",
      "Epoch [84], Batch [100/391], Loss: 0.0074\n",
      "Epoch [84], Batch [150/391], Loss: 0.0356\n",
      "Epoch [84], Batch [200/391], Loss: 0.0176\n",
      "Epoch [84], Batch [250/391], Loss: 0.0660\n",
      "Epoch [84], Batch [300/391], Loss: 0.0434\n",
      "Epoch [84], Batch [350/391], Loss: 0.0094\n",
      "Train set: Epoch: 84, Average loss:0.0205, LR: 0.001000 Top-1 Accuracy: 99.3540%, Top-5 Accuracy: 99.9980%, Time consumed:94.49s\n"
     ]
    },
    {
     "name": "stderr",
     "output_type": "stream",
     "text": [
      " 84%|████████████████████████████████████████████████████████████████████████████▍              | 84/100 [2:37:54<29:56, 112.26s/it]"
     ]
    },
    {
     "name": "stdout",
     "output_type": "stream",
     "text": [
      "Test set: Epoch: 84, Average loss:3.1060, Top-1 Accuracy: 58.2500%, Top-5 Accuracy: 83.7300%, Time consumed:15.94s\n",
      "\n",
      "Epoch [85], Batch [50/391], Loss: 0.0013\n",
      "Epoch [85], Batch [100/391], Loss: 0.0110\n",
      "Epoch [85], Batch [150/391], Loss: 0.0114\n",
      "Epoch [85], Batch [200/391], Loss: 0.0063\n",
      "Epoch [85], Batch [250/391], Loss: 0.0174\n",
      "Epoch [85], Batch [300/391], Loss: 0.0049\n",
      "Epoch [85], Batch [350/391], Loss: 0.0448\n",
      "Train set: Epoch: 85, Average loss:0.0141, LR: 0.001000 Top-1 Accuracy: 99.5600%, Top-5 Accuracy: 99.9960%, Time consumed:97.05s\n"
     ]
    },
    {
     "name": "stderr",
     "output_type": "stream",
     "text": [
      " 85%|█████████████████████████████████████████████████████████████████████████████▎             | 85/100 [2:39:46<28:05, 112.37s/it]"
     ]
    },
    {
     "name": "stdout",
     "output_type": "stream",
     "text": [
      "Test set: Epoch: 85, Average loss:3.0854, Top-1 Accuracy: 58.5200%, Top-5 Accuracy: 83.8000%, Time consumed:15.55s\n",
      "\n",
      "Epoch [86], Batch [50/391], Loss: 0.0040\n",
      "Epoch [86], Batch [100/391], Loss: 0.0041\n",
      "Epoch [86], Batch [150/391], Loss: 0.0109\n",
      "Epoch [86], Batch [200/391], Loss: 0.0065\n",
      "Epoch [86], Batch [250/391], Loss: 0.0419\n",
      "Epoch [86], Batch [300/391], Loss: 0.0034\n",
      "Epoch [86], Batch [350/391], Loss: 0.0289\n",
      "Train set: Epoch: 86, Average loss:0.0160, LR: 0.001000 Top-1 Accuracy: 99.4800%, Top-5 Accuracy: 100.0000%, Time consumed:95.15s\n"
     ]
    },
    {
     "name": "stderr",
     "output_type": "stream",
     "text": [
      " 86%|██████████████████████████████████████████████████████████████████████████████▎            | 86/100 [2:41:38<26:10, 112.16s/it]"
     ]
    },
    {
     "name": "stdout",
     "output_type": "stream",
     "text": [
      "Test set: Epoch: 86, Average loss:3.0370, Top-1 Accuracy: 58.5300%, Top-5 Accuracy: 83.7700%, Time consumed:16.50s\n",
      "\n",
      "Epoch [87], Batch [50/391], Loss: 0.0179\n",
      "Epoch [87], Batch [100/391], Loss: 0.0016\n",
      "Epoch [87], Batch [150/391], Loss: 0.0507\n",
      "Epoch [87], Batch [200/391], Loss: 0.0016\n",
      "Epoch [87], Batch [250/391], Loss: 0.0026\n",
      "Epoch [87], Batch [300/391], Loss: 0.0029\n",
      "Epoch [87], Batch [350/391], Loss: 0.0045\n",
      "Train set: Epoch: 87, Average loss:0.0194, LR: 0.001000 Top-1 Accuracy: 99.3660%, Top-5 Accuracy: 99.9960%, Time consumed:94.58s\n"
     ]
    },
    {
     "name": "stderr",
     "output_type": "stream",
     "text": [
      " 87%|███████████████████████████████████████████████████████████████████████████████▏           | 87/100 [2:43:29<24:14, 111.86s/it]"
     ]
    },
    {
     "name": "stdout",
     "output_type": "stream",
     "text": [
      "Test set: Epoch: 87, Average loss:3.1937, Top-1 Accuracy: 57.3000%, Top-5 Accuracy: 83.2500%, Time consumed:16.58s\n",
      "\n",
      "Epoch [88], Batch [50/391], Loss: 0.0805\n",
      "Epoch [88], Batch [100/391], Loss: 0.0054\n",
      "Epoch [88], Batch [150/391], Loss: 0.0130\n",
      "Epoch [88], Batch [200/391], Loss: 0.0096\n",
      "Epoch [88], Batch [250/391], Loss: 0.0010\n",
      "Epoch [88], Batch [300/391], Loss: 0.0037\n",
      "Epoch [88], Batch [350/391], Loss: 0.0116\n",
      "Train set: Epoch: 88, Average loss:0.0191, LR: 0.001000 Top-1 Accuracy: 99.3640%, Top-5 Accuracy: 100.0000%, Time consumed:94.69s\n",
      "Test set: Epoch: 88, Average loss:3.0376, Top-1 Accuracy: 59.1200%, Top-5 Accuracy: 84.2100%, Time consumed:15.69s\n",
      "\n",
      "New best top-1 accuracy: 59.12%, top-5 accuracy: 84.21%\n"
     ]
    },
    {
     "name": "stderr",
     "output_type": "stream",
     "text": [
      " 88%|████████████████████████████████████████████████████████████████████████████████           | 88/100 [2:45:20<22:17, 111.50s/it]"
     ]
    },
    {
     "name": "stdout",
     "output_type": "stream",
     "text": [
      "Epoch [89], Batch [50/391], Loss: 0.0156\n",
      "Epoch [89], Batch [100/391], Loss: 0.0035\n",
      "Epoch [89], Batch [150/391], Loss: 0.0082\n",
      "Epoch [89], Batch [200/391], Loss: 0.0063\n",
      "Epoch [89], Batch [250/391], Loss: 0.0114\n",
      "Epoch [89], Batch [300/391], Loss: 0.0124\n",
      "Epoch [89], Batch [350/391], Loss: 0.0012\n",
      "Train set: Epoch: 89, Average loss:0.0151, LR: 0.001000 Top-1 Accuracy: 99.5140%, Top-5 Accuracy: 99.9980%, Time consumed:95.11s\n",
      "Test set: Epoch: 89, Average loss:2.9029, Top-1 Accuracy: 59.2500%, Top-5 Accuracy: 84.6900%, Time consumed:15.90s\n",
      "\n",
      "New best top-1 accuracy: 59.25%, top-5 accuracy: 84.69%\n"
     ]
    },
    {
     "name": "stderr",
     "output_type": "stream",
     "text": [
      " 89%|████████████████████████████████████████████████████████████████████████████████▉          | 89/100 [2:47:11<20:25, 111.44s/it]"
     ]
    },
    {
     "name": "stdout",
     "output_type": "stream",
     "text": [
      "New best top-5 accuracy: 84.69%\n",
      "Epoch [90], Batch [50/391], Loss: 0.0097\n",
      "Epoch [90], Batch [100/391], Loss: 0.0011\n",
      "Epoch [90], Batch [150/391], Loss: 0.0233\n",
      "Epoch [90], Batch [200/391], Loss: 0.1099\n",
      "Epoch [90], Batch [250/391], Loss: 0.0083\n",
      "Epoch [90], Batch [300/391], Loss: 0.0063\n",
      "Epoch [90], Batch [350/391], Loss: 0.0066\n",
      "Train set: Epoch: 90, Average loss:0.0178, LR: 0.001000 Top-1 Accuracy: 99.4280%, Top-5 Accuracy: 99.9960%, Time consumed:102.94s\n"
     ]
    },
    {
     "name": "stderr",
     "output_type": "stream",
     "text": [
      " 90%|█████████████████████████████████████████████████████████████████████████████████▉         | 90/100 [2:49:10<18:55, 113.59s/it]"
     ]
    },
    {
     "name": "stdout",
     "output_type": "stream",
     "text": [
      "Test set: Epoch: 90, Average loss:3.1283, Top-1 Accuracy: 57.8200%, Top-5 Accuracy: 83.4900%, Time consumed:15.68s\n",
      "\n",
      "Epoch [91], Batch [50/391], Loss: 0.0089\n",
      "Epoch [91], Batch [100/391], Loss: 0.0046\n",
      "Epoch [91], Batch [150/391], Loss: 0.0016\n",
      "Epoch [91], Batch [200/391], Loss: 0.0055\n",
      "Epoch [91], Batch [250/391], Loss: 0.0246\n",
      "Epoch [91], Batch [300/391], Loss: 0.0111\n",
      "Epoch [91], Batch [350/391], Loss: 0.0140\n",
      "Train set: Epoch: 91, Average loss:0.0125, LR: 0.001000 Top-1 Accuracy: 99.6200%, Top-5 Accuracy: 99.9980%, Time consumed:95.56s\n"
     ]
    },
    {
     "name": "stderr",
     "output_type": "stream",
     "text": [
      " 91%|██████████████████████████████████████████████████████████████████████████████████▊        | 91/100 [2:51:01<16:57, 113.01s/it]"
     ]
    },
    {
     "name": "stdout",
     "output_type": "stream",
     "text": [
      "Test set: Epoch: 91, Average loss:3.3948, Top-1 Accuracy: 57.5600%, Top-5 Accuracy: 83.0000%, Time consumed:16.08s\n",
      "\n",
      "Epoch [92], Batch [50/391], Loss: 0.0031\n",
      "Epoch [92], Batch [100/391], Loss: 0.0176\n",
      "Epoch [92], Batch [150/391], Loss: 0.0194\n",
      "Epoch [92], Batch [200/391], Loss: 0.0096\n",
      "Epoch [92], Batch [250/391], Loss: 0.0074\n",
      "Epoch [92], Batch [300/391], Loss: 0.0023\n",
      "Epoch [92], Batch [350/391], Loss: 0.0313\n",
      "Train set: Epoch: 92, Average loss:0.0155, LR: 0.001000 Top-1 Accuracy: 99.5000%, Top-5 Accuracy: 99.9980%, Time consumed:94.44s\n"
     ]
    },
    {
     "name": "stderr",
     "output_type": "stream",
     "text": [
      " 92%|███████████████████████████████████████████████████████████████████████████████████▋       | 92/100 [2:52:52<14:58, 112.29s/it]"
     ]
    },
    {
     "name": "stdout",
     "output_type": "stream",
     "text": [
      "Test set: Epoch: 92, Average loss:3.2464, Top-1 Accuracy: 57.5500%, Top-5 Accuracy: 83.6100%, Time consumed:16.18s\n",
      "\n",
      "Epoch [93], Batch [50/391], Loss: 0.0060\n",
      "Epoch [93], Batch [100/391], Loss: 0.0258\n",
      "Epoch [93], Batch [150/391], Loss: 0.0009\n",
      "Epoch [93], Batch [200/391], Loss: 0.0055\n",
      "Epoch [93], Batch [250/391], Loss: 0.0219\n",
      "Epoch [93], Batch [300/391], Loss: 0.0077\n",
      "Epoch [93], Batch [350/391], Loss: 0.0427\n",
      "Train set: Epoch: 93, Average loss:0.0153, LR: 0.001000 Top-1 Accuracy: 99.4860%, Top-5 Accuracy: 100.0000%, Time consumed:95.41s\n"
     ]
    },
    {
     "name": "stderr",
     "output_type": "stream",
     "text": [
      " 93%|████████████████████████████████████████████████████████████████████████████████████▋      | 93/100 [2:54:43<13:04, 112.05s/it]"
     ]
    },
    {
     "name": "stdout",
     "output_type": "stream",
     "text": [
      "Test set: Epoch: 93, Average loss:3.1350, Top-1 Accuracy: 58.7600%, Top-5 Accuracy: 83.9200%, Time consumed:16.07s\n",
      "\n",
      "Epoch [94], Batch [50/391], Loss: 0.0055\n",
      "Epoch [94], Batch [100/391], Loss: 0.0083\n",
      "Epoch [94], Batch [150/391], Loss: 0.0568\n",
      "Epoch [94], Batch [200/391], Loss: 0.0066\n",
      "Epoch [94], Batch [250/391], Loss: 0.0751\n",
      "Epoch [94], Batch [300/391], Loss: 0.0128\n",
      "Epoch [94], Batch [350/391], Loss: 0.0391\n",
      "Train set: Epoch: 94, Average loss:0.0144, LR: 0.001000 Top-1 Accuracy: 99.5440%, Top-5 Accuracy: 99.9960%, Time consumed:95.15s\n"
     ]
    },
    {
     "name": "stderr",
     "output_type": "stream",
     "text": [
      " 94%|█████████████████████████████████████████████████████████████████████████████████████▌     | 94/100 [2:56:34<11:10, 111.73s/it]"
     ]
    },
    {
     "name": "stdout",
     "output_type": "stream",
     "text": [
      "Test set: Epoch: 94, Average loss:3.0606, Top-1 Accuracy: 58.0800%, Top-5 Accuracy: 84.0800%, Time consumed:15.83s\n",
      "\n",
      "Epoch [95], Batch [50/391], Loss: 0.0039\n",
      "Epoch [95], Batch [100/391], Loss: 0.0046\n",
      "Epoch [95], Batch [150/391], Loss: 0.0105\n",
      "Epoch [95], Batch [200/391], Loss: 0.0402\n",
      "Epoch [95], Batch [250/391], Loss: 0.0047\n",
      "Epoch [95], Batch [300/391], Loss: 0.0137\n",
      "Epoch [95], Batch [350/391], Loss: 0.0241\n",
      "Train set: Epoch: 95, Average loss:0.0156, LR: 0.001000 Top-1 Accuracy: 99.5100%, Top-5 Accuracy: 99.9980%, Time consumed:94.17s\n"
     ]
    },
    {
     "name": "stderr",
     "output_type": "stream",
     "text": [
      " 95%|██████████████████████████████████████████████████████████████████████████████████████▍    | 95/100 [2:58:24<09:15, 111.16s/it]"
     ]
    },
    {
     "name": "stdout",
     "output_type": "stream",
     "text": [
      "Test set: Epoch: 95, Average loss:3.1146, Top-1 Accuracy: 57.8000%, Top-5 Accuracy: 83.8200%, Time consumed:15.66s\n",
      "\n",
      "Epoch [96], Batch [50/391], Loss: 0.0027\n",
      "Epoch [96], Batch [100/391], Loss: 0.0014\n",
      "Epoch [96], Batch [150/391], Loss: 0.0260\n",
      "Epoch [96], Batch [200/391], Loss: 0.0073\n",
      "Epoch [96], Batch [250/391], Loss: 0.0408\n",
      "Epoch [96], Batch [300/391], Loss: 0.0651\n",
      "Epoch [96], Batch [350/391], Loss: 0.0137\n",
      "Train set: Epoch: 96, Average loss:0.0187, LR: 0.001000 Top-1 Accuracy: 99.3840%, Top-5 Accuracy: 99.9960%, Time consumed:94.61s\n"
     ]
    },
    {
     "name": "stderr",
     "output_type": "stream",
     "text": [
      " 96%|███████████████████████████████████████████████████████████████████████████████████████▎   | 96/100 [3:00:14<07:23, 110.89s/it]"
     ]
    },
    {
     "name": "stdout",
     "output_type": "stream",
     "text": [
      "Test set: Epoch: 96, Average loss:3.1193, Top-1 Accuracy: 57.3700%, Top-5 Accuracy: 83.1000%, Time consumed:15.64s\n",
      "\n",
      "Epoch [97], Batch [50/391], Loss: 0.0017\n",
      "Epoch [97], Batch [100/391], Loss: 0.0479\n",
      "Epoch [97], Batch [150/391], Loss: 0.0105\n",
      "Epoch [97], Batch [200/391], Loss: 0.0332\n",
      "Epoch [97], Batch [250/391], Loss: 0.0028\n",
      "Epoch [97], Batch [300/391], Loss: 0.0035\n",
      "Epoch [97], Batch [350/391], Loss: 0.0067\n",
      "Train set: Epoch: 97, Average loss:0.0149, LR: 0.001000 Top-1 Accuracy: 99.5260%, Top-5 Accuracy: 100.0000%, Time consumed:95.74s\n"
     ]
    },
    {
     "name": "stderr",
     "output_type": "stream",
     "text": [
      " 97%|████████████████████████████████████████████████████████████████████████████████████████▎  | 97/100 [3:02:06<05:33, 111.03s/it]"
     ]
    },
    {
     "name": "stdout",
     "output_type": "stream",
     "text": [
      "Test set: Epoch: 97, Average loss:3.1062, Top-1 Accuracy: 57.9700%, Top-5 Accuracy: 84.0500%, Time consumed:15.61s\n",
      "\n",
      "Epoch [98], Batch [50/391], Loss: 0.0445\n",
      "Epoch [98], Batch [100/391], Loss: 0.0071\n",
      "Epoch [98], Batch [150/391], Loss: 0.0056\n",
      "Epoch [98], Batch [200/391], Loss: 0.0066\n",
      "Epoch [98], Batch [250/391], Loss: 0.0095\n",
      "Epoch [98], Batch [300/391], Loss: 0.0064\n",
      "Epoch [98], Batch [350/391], Loss: 0.0201\n",
      "Train set: Epoch: 98, Average loss:0.0095, LR: 0.001000 Top-1 Accuracy: 99.7180%, Top-5 Accuracy: 100.0000%, Time consumed:97.84s\n"
     ]
    },
    {
     "name": "stderr",
     "output_type": "stream",
     "text": [
      " 98%|█████████████████████████████████████████████████████████████████████████████████████████▏ | 98/100 [3:03:59<03:43, 111.77s/it]"
     ]
    },
    {
     "name": "stdout",
     "output_type": "stream",
     "text": [
      "Test set: Epoch: 98, Average loss:3.0644, Top-1 Accuracy: 58.8400%, Top-5 Accuracy: 83.9100%, Time consumed:15.67s\n",
      "\n",
      "Epoch [99], Batch [50/391], Loss: 0.0097\n",
      "Epoch [99], Batch [100/391], Loss: 0.0234\n",
      "Epoch [99], Batch [150/391], Loss: 0.0014\n",
      "Epoch [99], Batch [200/391], Loss: 0.0028\n",
      "Epoch [99], Batch [250/391], Loss: 0.0134\n",
      "Epoch [99], Batch [300/391], Loss: 0.0248\n",
      "Epoch [99], Batch [350/391], Loss: 0.0094\n",
      "Train set: Epoch: 99, Average loss:0.0137, LR: 0.001000 Top-1 Accuracy: 99.5520%, Top-5 Accuracy: 99.9980%, Time consumed:94.53s\n"
     ]
    },
    {
     "name": "stderr",
     "output_type": "stream",
     "text": [
      " 99%|██████████████████████████████████████████████████████████████████████████████████████████ | 99/100 [3:05:51<01:51, 111.69s/it]"
     ]
    },
    {
     "name": "stdout",
     "output_type": "stream",
     "text": [
      "Test set: Epoch: 99, Average loss:3.2253, Top-1 Accuracy: 58.6400%, Top-5 Accuracy: 83.8000%, Time consumed:16.94s\n",
      "\n",
      "Epoch [100], Batch [50/391], Loss: 0.0102\n",
      "Epoch [100], Batch [100/391], Loss: 0.0178\n",
      "Epoch [100], Batch [150/391], Loss: 0.0022\n",
      "Epoch [100], Batch [200/391], Loss: 0.0280\n",
      "Epoch [100], Batch [250/391], Loss: 0.0043\n",
      "Epoch [100], Batch [300/391], Loss: 0.0018\n",
      "Epoch [100], Batch [350/391], Loss: 0.0069\n",
      "Train set: Epoch: 100, Average loss:0.0132, LR: 0.001000 Top-1 Accuracy: 99.5660%, Top-5 Accuracy: 99.9980%, Time consumed:94.53s\n"
     ]
    },
    {
     "name": "stderr",
     "output_type": "stream",
     "text": [
      "100%|██████████████████████████████████████████████████████████████████████████████████████████| 100/100 [3:07:41<00:00, 112.62s/it]"
     ]
    },
    {
     "name": "stdout",
     "output_type": "stream",
     "text": [
      "Test set: Epoch: 100, Average loss:3.1747, Top-1 Accuracy: 58.0900%, Top-5 Accuracy: 83.7100%, Time consumed:15.87s\n",
      "\n",
      "Finish! Best top-1 accuracy: 59.25%, Best top-5 accuracy: 84.69%\n",
      "Total training time: 11261.68 seconds\n"
     ]
    },
    {
     "name": "stderr",
     "output_type": "stream",
     "text": [
      "\n"
     ]
    },
    {
     "data": {
      "text/html": [],
      "text/plain": [
       "<IPython.core.display.HTML object>"
      ]
     },
     "metadata": {},
     "output_type": "display_data"
    },
    {
     "data": {
      "text/html": [
       "<br>    <style><br>        .wandb-row {<br>            display: flex;<br>            flex-direction: row;<br>            flex-wrap: wrap;<br>            justify-content: flex-start;<br>            width: 100%;<br>        }<br>        .wandb-col {<br>            display: flex;<br>            flex-direction: column;<br>            flex-basis: 100%;<br>            flex: 1;<br>            padding: 10px;<br>        }<br>    </style><br><div class=\"wandb-row\"><div class=\"wandb-col\"><h3>Run history:</h3><br/><table class=\"wandb\"><tr><td>epoch</td><td>▁▂▂▂▂▂▃▃▃▃▄▄▄▄▄▅▅▅▅▅▅▅▅▅▅▆▆▆▆▆▇▇▇▇▇▇████</td></tr><tr><td>learning_rate</td><td>▁▁▁▁▁▁▁▁▁▁▁▁▁▁▁▁▁▁▁▁▁▁▁▁▁▁▁▁▁▁▁▁▁▁▁▁▁▁▁▁</td></tr><tr><td>test_accuracy_top1</td><td>▁▃▅▆▇▇▇▇▇██▇██▇████████▇██▇████▇████████</td></tr><tr><td>test_accuracy_top5</td><td>▁▃▆▇▅▆▅▅▆▆▅▆▆▄▆▆▆▇▆▆▇▅▇▆▄▅▆▇▅▇▇▆▆▇█▆▅▇▇▆</td></tr><tr><td>test_loss</td><td>█▆▃▁▃▃▄▄▄▄▆▅▅▅▆▅▅▆▇▆▅▆▆▅▆▆▇▇▆▆▆▇▆▆▆▆▇▇▇▇</td></tr><tr><td>total_training_time</td><td>▁</td></tr><tr><td>train_accuracy_top1</td><td>▁▃▃▄▅▇▇▇████████████████████████████████</td></tr><tr><td>train_accuracy_top5</td><td>▁▃▅▆▇███████████████████████████████████</td></tr><tr><td>train_loss</td><td>█▆▅▃▃▂▂▂▁▁▁▁▁▁▁▁▁▁▁▁▁▁▁▁▁▁▁▁▁▁▁▁▁▁▁▁▁▁▁▁</td></tr></table><br/></div><div class=\"wandb-col\"><h3>Run summary:</h3><br/><table class=\"wandb\"><tr><td>best_accuracy_top1</td><td>59.25</td></tr><tr><td>best_accuracy_top5</td><td>84.69</td></tr><tr><td>epoch</td><td>100</td></tr><tr><td>learning_rate</td><td>0.001</td></tr><tr><td>test_accuracy_top1</td><td>58.09</td></tr><tr><td>test_accuracy_top5</td><td>83.71</td></tr><tr><td>test_loss</td><td>3.17474</td></tr><tr><td>total_training_time</td><td>11261.67937</td></tr><tr><td>train_accuracy_top1</td><td>99.566</td></tr><tr><td>train_accuracy_top5</td><td>99.998</td></tr><tr><td>train_loss</td><td>0.0132</td></tr></table><br/></div></div>"
      ],
      "text/plain": [
       "<IPython.core.display.HTML object>"
      ]
     },
     "metadata": {},
     "output_type": "display_data"
    },
    {
     "data": {
      "text/html": [
       " View run <strong style=\"color:#cdcd00\">resnet50</strong> at: <a href='https://wandb.ai/sokjh1310-hanyang-university/PBL-2/runs/p9th1zr1' target=\"_blank\">https://wandb.ai/sokjh1310-hanyang-university/PBL-2/runs/p9th1zr1</a><br> View project at: <a href='https://wandb.ai/sokjh1310-hanyang-university/PBL-2' target=\"_blank\">https://wandb.ai/sokjh1310-hanyang-university/PBL-2</a><br>Synced 5 W&B file(s), 0 media file(s), 0 artifact file(s) and 1 other file(s)"
      ],
      "text/plain": [
       "<IPython.core.display.HTML object>"
      ]
     },
     "metadata": {},
     "output_type": "display_data"
    },
    {
     "data": {
      "text/html": [
       "Find logs at: <code>./wandb/run-20250412_024625-p9th1zr1/logs</code>"
      ],
      "text/plain": [
       "<IPython.core.display.HTML object>"
      ]
     },
     "metadata": {},
     "output_type": "display_data"
    }
   ],
   "source": [
    "import torch\n",
    "import torch.nn as nn\n",
    "import torch.optim as optim\n",
    "from torch.utils.data import DataLoader\n",
    "import torchvision\n",
    "import torchvision.transforms as transforms\n",
    "import sys\n",
    "import os\n",
    "import torch\n",
    "import time\n",
    "import random\n",
    "import numpy as np\n",
    "import wandb\n",
    "from tqdm import tqdm\n",
    "\n",
    "from models.resnet import resnet18, resnet34, resnet50\n",
    "\n",
    "wandb.login(key=\"ef091b9abcea3186341ddf8995d62bde62d7469e\")\n",
    "wandb.init(project=\"PBL-2\", name=\"resnet50\")\n",
    "\n",
    "\n",
    "\"\"\"\n",
    "# 학습 재현성 고정\n",
    "def fix_seed(seed, deterministic=False):\n",
    "    random.seed(seed)\n",
    "    np.random.seed(seed)\n",
    "    torch.manual_seed(seed)\n",
    "    torch.cuda.manual_seed_all(seed)\n",
    "    if deterministic:\n",
    "        torch.backends.cudnn.deterministic = True\n",
    "    else:\n",
    "        torch.backends.cudnn.benchmark = True  # 성능 향상을 위해 True로 변경\n",
    "\n",
    "deterministic=True와 benchmark=False는 확실히 학습 속도를 저하시킬 수 있습니다.\n",
    "특히 torch.backends.cudnn.benchmark=False는 CUDA가 최적의 알고리즘을 찾기 위한 \n",
    "벤치마킹을 수행하지 않게 만들어 성능이 떨어질 수 있습니다.\n",
    "# 속도 우선 설정 -> 완벽한 재현성은 보장되지 않음 \n",
    "\n",
    "fix_seed(2025, deterministic=False)\n",
    "\"\"\"\n",
    "\n",
    "# WandB 설정\n",
    "config = {\n",
    "    \"model\": \"resnet50\",\n",
    "    \"batch_size\": 128,\n",
    "    \"num_epochs\": 100,\n",
    "    \"learning_rate\": 0.001,\n",
    "    \"optimizer\": \"Adam\",\n",
    "    \"seed\": 2025,\n",
    "    \"deterministic\": False,\n",
    "}\n",
    "wandb.config.update(config)\n",
    "\n",
    "# CIFAR-100 데이터셋 로드\n",
    "transform_train = transforms.Compose([\n",
    "    transforms.ToTensor(),\n",
    "    transforms.Normalize((0.5071, 0.4867, 0.4408), (0.2675, 0.2565, 0.2761)),\n",
    "])\n",
    "\n",
    "transform_test = transforms.Compose([\n",
    "    transforms.ToTensor(),\n",
    "    transforms.Normalize((0.5071, 0.4867, 0.4408), (0.2675, 0.2565, 0.2761)),\n",
    "])\n",
    "\n",
    "trainset = torchvision.datasets.CIFAR100(\n",
    "    root='./data', train=True, download=True, transform=transform_train)\n",
    "trainloader = DataLoader(trainset, batch_size=config[\"batch_size\"], shuffle=True, num_workers=16)\n",
    "\n",
    "testset = torchvision.datasets.CIFAR100(\n",
    "    root='./data', train=False, download=True, transform=transform_test)\n",
    "testloader = DataLoader(testset, batch_size=config[\"batch_size\"], shuffle=False, num_workers=16)\n",
    "\n",
    "def train(model, trainloader, criterion, optimizer, device, epoch):\n",
    "    \"\"\"\n",
    "    학습 함수\n",
    "    \"\"\"\n",
    "    model.train()   # 모델을 학습 모드로 설정\n",
    "    start_time = time.time()  # 시간 측정 시작\n",
    "    running_loss = 0.0\n",
    "    correct_top1 = 0\n",
    "    correct_top5 = 0\n",
    "    total = 0\n",
    "    \n",
    "    for i, (inputs, labels) in enumerate(trainloader):\n",
    "        inputs, labels = inputs.to(device), labels.to(device)\n",
    "        \n",
    "        optimizer.zero_grad()\n",
    "        \n",
    "        outputs = model(inputs)\n",
    "        loss = criterion(outputs, labels)\n",
    "        loss.backward()\n",
    "        optimizer.step()\n",
    "        \n",
    "        running_loss += loss.item()\n",
    "        \n",
    "        # top-1 정확도 계산\n",
    "        _, predicted = outputs.max(1)\n",
    "        total += labels.size(0)\n",
    "        correct_top1 += predicted.eq(labels).sum().item()\n",
    "        \n",
    "        # top-5 정확도 계산\n",
    "        _, top5_idx = outputs.topk(5, 1, largest=True, sorted=True)\n",
    "        correct_top5 += top5_idx.eq(labels.view(-1, 1).expand_as(top5_idx)).sum().item()\n",
    "        \n",
    "        if (i + 1) % 50 == 0:  # 50 배치마다 출력\n",
    "            print(f'Epoch [{epoch+1}], Batch [{i+1}/{len(trainloader)}], Loss: {loss.item():.4f}')\n",
    "    \n",
    "    epoch_loss = running_loss / len(trainloader)\n",
    "    accuracy_top1 = 100.0 * correct_top1 / total\n",
    "    accuracy_top5 = 100.0 * correct_top5 / total\n",
    "    \n",
    "    train_time = time.time() - start_time\n",
    "    \n",
    "    # 학습 세트에 대한 성능 출력\n",
    "    print(f'Train set: Epoch: {epoch+1}, Average loss:{epoch_loss:.4f}, LR: {optimizer.param_groups[0][\"lr\"]:.6f} '\n",
    "          f'Top-1 Accuracy: {accuracy_top1:.4f}%, Top-5 Accuracy: {accuracy_top5:.4f}%, Time consumed:{train_time:.2f}s')\n",
    "    \n",
    "    return epoch_loss, accuracy_top1, accuracy_top5\n",
    "\n",
    "def evaluate(model, testloader, criterion, device, epoch):\n",
    "    \"\"\"\n",
    "    평가 함수\n",
    "    \"\"\"\n",
    "    model.eval()  # 모델을 평가 모드로 설정\n",
    "    start_time = time.time()  # 시간 측정 시작\n",
    "    \n",
    "    test_loss = 0.0\n",
    "    correct_top1 = 0\n",
    "    correct_top5 = 0\n",
    "    total = 0\n",
    "    \n",
    "    # 그래디언트 계산 비활성화\n",
    "    with torch.no_grad():\n",
    "        for inputs, labels in testloader:\n",
    "            inputs, labels = inputs.to(device), labels.to(device)\n",
    "            \n",
    "            # 순전파\n",
    "            outputs = model(inputs)\n",
    "            \n",
    "            # 손실 계산\n",
    "            loss = criterion(outputs, labels)\n",
    "            test_loss += loss.item()\n",
    "            \n",
    "            # top-1 정확도 계산\n",
    "            _, predicted = outputs.max(1)\n",
    "            total += labels.size(0)\n",
    "            correct_top1 += (predicted == labels).sum().item()\n",
    "            \n",
    "            # top-5 정확도 계산\n",
    "            _, top5_idx = outputs.topk(5, 1, largest=True, sorted=True)\n",
    "            correct_top5 += top5_idx.eq(labels.view(-1, 1).expand_as(top5_idx)).sum().item()\n",
    "    \n",
    "    # 평균 손실 및 정확도 계산\n",
    "    test_loss = test_loss / len(testloader)\n",
    "    accuracy_top1 = 100.0 * correct_top1 / total\n",
    "    accuracy_top5 = 100.0 * correct_top5 / total\n",
    "    \n",
    "    # 평가 시간 계산\n",
    "    eval_time = time.time() - start_time\n",
    "    \n",
    "    # 테스트 세트에 대한 성능 출력\n",
    "    print(f'Test set: Epoch: {epoch+1}, Average loss:{test_loss:.4f}, '\n",
    "          f'Top-1 Accuracy: {accuracy_top1:.4f}%, Top-5 Accuracy: {accuracy_top5:.4f}%, Time consumed:{eval_time:.2f}s')\n",
    "    print()\n",
    "    \n",
    "    return test_loss, accuracy_top1, accuracy_top5\n",
    "\n",
    "\n",
    "# 메인 학습 루프\n",
    "def main_training_loop(model, trainloader, testloader, criterion, optimizer, device, num_epochs=100):\n",
    "    \"\"\"\n",
    "    메인 학습 루프\n",
    "    \"\"\"\n",
    "    best_acc_top1 = 0.0\n",
    "    best_acc_top5 = 0.0\n",
    "    \n",
    "    # tqdm을 사용한 진행 상황 표시\n",
    "    for epoch in tqdm(range(num_epochs)):\n",
    "        # 학습\n",
    "        train_loss, train_acc_top1, train_acc_top5 = train(model, trainloader, criterion, optimizer, device, epoch)\n",
    "        \n",
    "        # 평가\n",
    "        test_loss, test_acc_top1, test_acc_top5 = evaluate(model, testloader, criterion, device, epoch)\n",
    "        \n",
    "        # WandB에 로깅\n",
    "        wandb.log({\n",
    "            \"epoch\": epoch + 1,\n",
    "            \"learning_rate\": optimizer.param_groups[0]['lr'],\n",
    "            \"train_loss\": train_loss,\n",
    "            \"train_accuracy_top1\": train_acc_top1,\n",
    "            \"train_accuracy_top5\": train_acc_top5,\n",
    "            \"test_loss\": test_loss,\n",
    "            \"test_accuracy_top1\": test_acc_top1,\n",
    "            \"test_accuracy_top5\": test_acc_top5\n",
    "        })\n",
    "            \n",
    "        # 최고 정확도 모델 저장 (top-1 기준)\n",
    "        if test_acc_top1 > best_acc_top1:\n",
    "            best_acc_top1 = test_acc_top1\n",
    "            best_acc_top5_at_best_top1 = test_acc_top5\n",
    "            print(f'New best top-1 accuracy: {best_acc_top1:.2f}%, top-5 accuracy: {best_acc_top5_at_best_top1:.2f}%')\n",
    "            \n",
    "            # 모델 저장\n",
    "            model_path = f'best_model_{wandb.run.name}.pth'\n",
    "            torch.save(model.state_dict(), model_path)\n",
    "            \n",
    "            # WandB에 모델 아티팩트 저장\n",
    "            wandb.save(model_path)\n",
    "        \n",
    "        # top-5 accuracy 기록 업데이트\n",
    "        if test_acc_top5 > best_acc_top5:\n",
    "            best_acc_top5 = test_acc_top5\n",
    "            print(f'New best top-5 accuracy: {best_acc_top5:.2f}%')\n",
    "    \n",
    "    print(f'Finish! Best top-1 accuracy: {best_acc_top1:.2f}%, Best top-5 accuracy: {best_acc_top5:.2f}%')\n",
    "    wandb.run.summary[\"best_accuracy_top1\"] = best_acc_top1\n",
    "    wandb.run.summary[\"best_accuracy_top5\"] = best_acc_top5\n",
    "\n",
    "# 디바이스 설정\n",
    "device = torch.device(\"cuda\" if torch.cuda.is_available() else \"cpu\")\n",
    "print(f\"Using device: {device}\")\n",
    "\n",
    "# 모델 초기화\n",
    "model = resnet50().to(device)  \n",
    "criterion = nn.CrossEntropyLoss()  # 손실 함수 정의\n",
    "optimizer = optim.Adam(model.parameters(), lr=config[\"learning_rate\"])  # 옵티마이저 정의\n",
    "\n",
    "# WandB에 모델 구조 기록\n",
    "wandb.watch(model, log=\"all\")\n",
    "\n",
    "# GPU 가속\n",
    "if torch.cuda.device_count() > 1:\n",
    "    print(f\"{torch.cuda.device_count()}개의 GPU를 사용합니다.\")\n",
    "    model = nn.DataParallel(model)\n",
    "\n",
    "# 훈련 시작 시간 기록\n",
    "start_time = time.time()\n",
    "\n",
    "# 메인 학습 루프 호출\n",
    "main_training_loop(\n",
    "    model=model,\n",
    "    trainloader=trainloader,\n",
    "    testloader=testloader,\n",
    "    criterion=criterion,\n",
    "    optimizer=optimizer,\n",
    "    device=device,\n",
    "    num_epochs=config[\"num_epochs\"]\n",
    ")\n",
    "\n",
    "# 훈련 종료 시간 기록 및 출력\n",
    "end_time = time.time()\n",
    "total_time = end_time - start_time\n",
    "wandb.log({\"total_training_time\": total_time})\n",
    "\n",
    "print(f\"Total training time: {total_time:.2f} seconds\")\n",
    "\n",
    "# WandB 실행 종료\n",
    "wandb.finish()"
   ]
  },
  {
   "cell_type": "code",
   "execution_count": null,
   "id": "ccaaa646-eb14-44be-a97a-fde2ee3adf0d",
   "metadata": {},
   "outputs": [],
   "source": []
  }
 ],
 "metadata": {
  "kernelspec": {
   "display_name": "Python 3 (ipykernel)",
   "language": "python",
   "name": "python3"
  },
  "language_info": {
   "codemirror_mode": {
    "name": "ipython",
    "version": 3
   },
   "file_extension": ".py",
   "mimetype": "text/x-python",
   "name": "python",
   "nbconvert_exporter": "python",
   "pygments_lexer": "ipython3",
   "version": "3.11.9"
  }
 },
 "nbformat": 4,
 "nbformat_minor": 5
}
