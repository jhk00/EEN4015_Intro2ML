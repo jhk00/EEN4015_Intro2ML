{
 "cells": [
  {
   "cell_type": "code",
   "execution_count": 1,
   "id": "516f9d5f-6361-4b03-98ee-e1ba4de86b92",
   "metadata": {
    "scrolled": true
   },
   "outputs": [
    {
     "name": "stderr",
     "output_type": "stream",
     "text": [
      "\u001b[34m\u001b[1mwandb\u001b[0m: Using wandb-core as the SDK backend.  Please refer to https://wandb.me/wandb-core for more information.\n",
      "\u001b[34m\u001b[1mwandb\u001b[0m: \u001b[33mWARNING\u001b[0m If you're specifying your api key in code, ensure this code is not shared publicly.\n",
      "\u001b[34m\u001b[1mwandb\u001b[0m: \u001b[33mWARNING\u001b[0m Consider setting the WANDB_API_KEY environment variable, or running `wandb login` from the command line.\n",
      "\u001b[34m\u001b[1mwandb\u001b[0m: Appending key for api.wandb.ai to your netrc file: /home/guswls/.netrc\n",
      "\u001b[34m\u001b[1mwandb\u001b[0m: Currently logged in as: \u001b[33msokjh1310\u001b[0m (\u001b[33msokjh1310-hanyang-university\u001b[0m) to \u001b[32mhttps://api.wandb.ai\u001b[0m. Use \u001b[1m`wandb login --relogin`\u001b[0m to force relogin\n"
     ]
    },
    {
     "data": {
      "text/html": [
       "Tracking run with wandb version 0.19.9"
      ],
      "text/plain": [
       "<IPython.core.display.HTML object>"
      ]
     },
     "metadata": {},
     "output_type": "display_data"
    },
    {
     "data": {
      "text/html": [
       "Run data is saved locally in <code>/home/guswls/EEN4015_Intro2ML/pbl-2/wandb/run-20250422_021250-cpy9p3kf</code>"
      ],
      "text/plain": [
       "<IPython.core.display.HTML object>"
      ]
     },
     "metadata": {},
     "output_type": "display_data"
    },
    {
     "data": {
      "text/html": [
       "Syncing run <strong><a href='https://wandb.ai/sokjh1310-hanyang-university/PBL-2/runs/cpy9p3kf' target=\"_blank\">resnet18_cfc,lr=0.01,factor=0.5,smoothing,clipping,SAM_SGD</a></strong> to <a href='https://wandb.ai/sokjh1310-hanyang-university/PBL-2' target=\"_blank\">Weights & Biases</a> (<a href='https://wandb.me/developer-guide' target=\"_blank\">docs</a>)<br>"
      ],
      "text/plain": [
       "<IPython.core.display.HTML object>"
      ]
     },
     "metadata": {},
     "output_type": "display_data"
    },
    {
     "data": {
      "text/html": [
       " View project at <a href='https://wandb.ai/sokjh1310-hanyang-university/PBL-2' target=\"_blank\">https://wandb.ai/sokjh1310-hanyang-university/PBL-2</a>"
      ],
      "text/plain": [
       "<IPython.core.display.HTML object>"
      ]
     },
     "metadata": {},
     "output_type": "display_data"
    },
    {
     "data": {
      "text/html": [
       " View run at <a href='https://wandb.ai/sokjh1310-hanyang-university/PBL-2/runs/cpy9p3kf' target=\"_blank\">https://wandb.ai/sokjh1310-hanyang-university/PBL-2/runs/cpy9p3kf</a>"
      ],
      "text/plain": [
       "<IPython.core.display.HTML object>"
      ]
     },
     "metadata": {},
     "output_type": "display_data"
    },
    {
     "name": "stdout",
     "output_type": "stream",
     "text": [
      "Files already downloaded and verified\n",
      "Files already downloaded and verified\n",
      "Train set size: 50000\n",
      "Test set size: 10000\n",
      "Using device: cuda\n"
     ]
    },
    {
     "name": "stderr",
     "output_type": "stream",
     "text": [
      "/usr/local/lib/python3.11/dist-packages/torch/optim/lr_scheduler.py:28: UserWarning: The verbose parameter is deprecated. Please use get_last_lr() to access the learning rate.\n",
      "  warnings.warn(\"The verbose parameter is deprecated. Please use get_last_lr() \"\n"
     ]
    },
    {
     "name": "stdout",
     "output_type": "stream",
     "text": [
      "2개의 GPU를 사용합니다.\n"
     ]
    },
    {
     "name": "stderr",
     "output_type": "stream",
     "text": [
      "  0%|                                                                                                       | 0/300 [00:00<?, ?it/s]/usr/local/lib/python3.11/dist-packages/torch/optim/lr_scheduler.py:143: UserWarning: Detected call of `lr_scheduler.step()` before `optimizer.step()`. In PyTorch 1.1.0 and later, you should call them in the opposite order: `optimizer.step()` before `lr_scheduler.step()`.  Failure to do this will result in PyTorch skipping the first value of the learning rate schedule. See more details at https://pytorch.org/docs/stable/optim.html#how-to-adjust-learning-rate\n",
      "  warnings.warn(\"Detected call of `lr_scheduler.step()` before `optimizer.step()`. \"\n"
     ]
    },
    {
     "name": "stdout",
     "output_type": "stream",
     "text": [
      "Epoch [1], Batch [50/196], Loss: 4.7784, LR: 0.000510\n",
      "Epoch [1], Batch [100/196], Loss: 4.5662, LR: 0.001020\n",
      "Epoch [1], Batch [150/196], Loss: 4.4559, LR: 0.001531\n",
      "Train set: Epoch: 1, Average loss:4.6512, LR: 0.002000 Top-1 Accuracy: 1.2820%, Top-5 Accuracy: 6.5240%, Time consumed:169.90s\n",
      "Test set: Epoch: 1, Average loss:4.1890, Top-1 Accuracy: 8.1300%, Top-5 Accuracy: 25.6400%, Time consumed:14.95s\n",
      "\n",
      "새로운 최고 top-1 정확도: 8.13%, top-5 정확도: 25.64%\n",
      "새로운 최고 top-5 정확도: 25.64%\n",
      "Accuracy improved (-inf% --> 8.13%). Saving model ...\n"
     ]
    },
    {
     "name": "stderr",
     "output_type": "stream",
     "text": [
      "  0%|▎                                                                                          | 1/300 [03:05<15:22:20, 185.09s/it]"
     ]
    },
    {
     "name": "stdout",
     "output_type": "stream",
     "text": [
      "Epoch [2], Batch [50/196], Loss: 4.4691, LR: 0.002510\n",
      "Epoch [2], Batch [100/196], Loss: 4.3241, LR: 0.003020\n",
      "Epoch [2], Batch [150/196], Loss: 4.1731, LR: 0.003531\n",
      "Train set: Epoch: 2, Average loss:4.2286, LR: 0.004000 Top-1 Accuracy: 6.7340%, Top-5 Accuracy: 23.3000%, Time consumed:170.43s\n",
      "Test set: Epoch: 2, Average loss:3.8766, Top-1 Accuracy: 13.4700%, Top-5 Accuracy: 36.6600%, Time consumed:14.99s\n",
      "\n",
      "새로운 최고 top-1 정확도: 13.47%, top-5 정확도: 36.66%\n",
      "새로운 최고 top-5 정확도: 36.66%\n",
      "Accuracy improved (8.13% --> 13.47%). Saving model ...\n"
     ]
    },
    {
     "name": "stderr",
     "output_type": "stream",
     "text": [
      "  1%|▌                                                                                          | 2/300 [06:10<15:20:59, 185.43s/it]"
     ]
    },
    {
     "name": "stdout",
     "output_type": "stream",
     "text": [
      "Epoch [3], Batch [50/196], Loss: 4.1902, LR: 0.004510\n",
      "Epoch [3], Batch [100/196], Loss: 4.1166, LR: 0.005020\n",
      "Epoch [3], Batch [150/196], Loss: 3.7775, LR: 0.005531\n",
      "Train set: Epoch: 3, Average loss:4.0050, LR: 0.006000 Top-1 Accuracy: 11.1620%, Top-5 Accuracy: 32.7620%, Time consumed:167.78s\n",
      "Test set: Epoch: 3, Average loss:3.6015, Top-1 Accuracy: 18.7800%, Top-5 Accuracy: 47.1200%, Time consumed:14.63s\n",
      "\n",
      "새로운 최고 top-1 정확도: 18.78%, top-5 정확도: 47.12%\n",
      "새로운 최고 top-5 정확도: 47.12%\n",
      "Accuracy improved (13.47% --> 18.78%). Saving model ...\n"
     ]
    },
    {
     "name": "stderr",
     "output_type": "stream",
     "text": [
      "  1%|▉                                                                                          | 3/300 [09:13<15:11:40, 184.18s/it]"
     ]
    },
    {
     "name": "stdout",
     "output_type": "stream",
     "text": [
      "Epoch [4], Batch [50/196], Loss: 4.0026, LR: 0.006510\n",
      "Epoch [4], Batch [100/196], Loss: 3.5988, LR: 0.007020\n",
      "Epoch [4], Batch [150/196], Loss: 3.5111, LR: 0.007531\n",
      "Train set: Epoch: 4, Average loss:3.7844, LR: 0.008000 Top-1 Accuracy: 15.5040%, Top-5 Accuracy: 40.4620%, Time consumed:168.72s\n",
      "Test set: Epoch: 4, Average loss:3.4050, Top-1 Accuracy: 23.9500%, Top-5 Accuracy: 53.1900%, Time consumed:14.88s\n",
      "\n",
      "새로운 최고 top-1 정확도: 23.95%, top-5 정확도: 53.19%\n",
      "새로운 최고 top-5 정확도: 53.19%\n",
      "Accuracy improved (18.78% --> 23.95%). Saving model ...\n"
     ]
    },
    {
     "name": "stderr",
     "output_type": "stream",
     "text": [
      "  1%|█▏                                                                                         | 4/300 [12:17<15:08:07, 184.08s/it]"
     ]
    },
    {
     "name": "stdout",
     "output_type": "stream",
     "text": [
      "Epoch [5], Batch [50/196], Loss: 3.2215, LR: 0.008510\n",
      "Epoch [5], Batch [100/196], Loss: 3.3906, LR: 0.009020\n",
      "Epoch [5], Batch [150/196], Loss: 3.8722, LR: 0.009531\n",
      "Train set: Epoch: 5, Average loss:3.5948, LR: 0.010000 Top-1 Accuracy: 19.6180%, Top-5 Accuracy: 46.7700%, Time consumed:166.93s\n",
      "Test set: Epoch: 5, Average loss:3.1384, Top-1 Accuracy: 29.2900%, Top-5 Accuracy: 61.4300%, Time consumed:15.26s\n",
      "\n",
      "새로운 최고 top-1 정확도: 29.29%, top-5 정확도: 61.43%\n",
      "새로운 최고 top-5 정확도: 61.43%\n",
      "Accuracy improved (23.95% --> 29.29%). Saving model ...\n"
     ]
    },
    {
     "name": "stderr",
     "output_type": "stream",
     "text": [
      "  2%|█▌                                                                                         | 5/300 [15:19<15:02:09, 183.49s/it]"
     ]
    },
    {
     "name": "stdout",
     "output_type": "stream",
     "text": [
      "Epoch [6], Batch [50/196], Loss: 3.7925, LR: 0.010000\n",
      "Epoch [6], Batch [100/196], Loss: 4.0638, LR: 0.010000\n",
      "Epoch [6], Batch [150/196], Loss: 3.3482, LR: 0.010000\n",
      "Train set: Epoch: 6, Average loss:3.4351, LR: 0.010000 Top-1 Accuracy: 23.4840%, Top-5 Accuracy: 52.2080%, Time consumed:167.48s\n",
      "Test set: Epoch: 6, Average loss:2.9515, Top-1 Accuracy: 34.0600%, Top-5 Accuracy: 66.1400%, Time consumed:15.02s\n",
      "\n",
      "새로운 최고 top-1 정확도: 34.06%, top-5 정확도: 66.14%\n",
      "새로운 최고 top-5 정확도: 66.14%\n",
      "Accuracy improved (29.29% --> 34.06%). Saving model ...\n"
     ]
    },
    {
     "name": "stderr",
     "output_type": "stream",
     "text": [
      "  2%|█▊                                                                                         | 6/300 [18:22<14:57:51, 183.24s/it]"
     ]
    },
    {
     "name": "stdout",
     "output_type": "stream",
     "text": [
      "Epoch [7], Batch [50/196], Loss: 3.0347, LR: 0.010000\n",
      "Epoch [7], Batch [100/196], Loss: 3.3060, LR: 0.010000\n",
      "Epoch [7], Batch [150/196], Loss: 3.9606, LR: 0.010000\n",
      "Train set: Epoch: 7, Average loss:3.2666, LR: 0.010000 Top-1 Accuracy: 27.7840%, Top-5 Accuracy: 58.0940%, Time consumed:167.49s\n",
      "Test set: Epoch: 7, Average loss:2.8813, Top-1 Accuracy: 36.8600%, Top-5 Accuracy: 68.6100%, Time consumed:15.18s\n",
      "\n",
      "새로운 최고 top-1 정확도: 36.86%, top-5 정확도: 68.61%\n",
      "새로운 최고 top-5 정확도: 68.61%\n",
      "Accuracy improved (34.06% --> 36.86%). Saving model ...\n"
     ]
    },
    {
     "name": "stderr",
     "output_type": "stream",
     "text": [
      "  2%|██                                                                                         | 7/300 [21:25<14:54:16, 183.13s/it]"
     ]
    },
    {
     "name": "stdout",
     "output_type": "stream",
     "text": [
      "Epoch [8], Batch [50/196], Loss: 2.7163, LR: 0.010000\n",
      "Epoch [8], Batch [100/196], Loss: 2.8184, LR: 0.010000\n",
      "Epoch [8], Batch [150/196], Loss: 3.3064, LR: 0.010000\n",
      "Train set: Epoch: 8, Average loss:3.1429, LR: 0.010000 Top-1 Accuracy: 31.1180%, Top-5 Accuracy: 61.5800%, Time consumed:167.05s\n",
      "Test set: Epoch: 8, Average loss:2.6389, Top-1 Accuracy: 42.5500%, Top-5 Accuracy: 74.5700%, Time consumed:15.06s\n",
      "\n",
      "새로운 최고 top-1 정확도: 42.55%, top-5 정확도: 74.57%\n",
      "새로운 최고 top-5 정확도: 74.57%\n",
      "Accuracy improved (36.86% --> 42.55%). Saving model ...\n"
     ]
    },
    {
     "name": "stderr",
     "output_type": "stream",
     "text": [
      "  3%|██▍                                                                                        | 8/300 [24:27<14:50:00, 182.88s/it]"
     ]
    },
    {
     "name": "stdout",
     "output_type": "stream",
     "text": [
      "Epoch [9], Batch [50/196], Loss: 2.3896, LR: 0.010000\n",
      "Epoch [9], Batch [100/196], Loss: 2.8594, LR: 0.010000\n",
      "Epoch [9], Batch [150/196], Loss: 2.6171, LR: 0.010000\n",
      "Train set: Epoch: 9, Average loss:3.0682, LR: 0.010000 Top-1 Accuracy: 33.2020%, Top-5 Accuracy: 63.6980%, Time consumed:164.64s\n",
      "Test set: Epoch: 9, Average loss:2.5894, Top-1 Accuracy: 43.9300%, Top-5 Accuracy: 76.2800%, Time consumed:14.60s\n",
      "\n",
      "새로운 최고 top-1 정확도: 43.93%, top-5 정확도: 76.28%\n",
      "새로운 최고 top-5 정확도: 76.28%\n",
      "Accuracy improved (42.55% --> 43.93%). Saving model ...\n"
     ]
    },
    {
     "name": "stderr",
     "output_type": "stream",
     "text": [
      "  3%|██▋                                                                                        | 9/300 [27:27<14:41:49, 181.82s/it]"
     ]
    },
    {
     "name": "stdout",
     "output_type": "stream",
     "text": [
      "Epoch [10], Batch [50/196], Loss: 2.5979, LR: 0.010000\n",
      "Epoch [10], Batch [100/196], Loss: 2.5918, LR: 0.010000\n",
      "Epoch [10], Batch [150/196], Loss: 2.5468, LR: 0.010000\n",
      "Train set: Epoch: 10, Average loss:2.9221, LR: 0.010000 Top-1 Accuracy: 36.7900%, Top-5 Accuracy: 67.5680%, Time consumed:170.99s\n",
      "Test set: Epoch: 10, Average loss:2.4055, Top-1 Accuracy: 49.5900%, Top-5 Accuracy: 79.8500%, Time consumed:15.03s\n",
      "\n",
      "새로운 최고 top-1 정확도: 49.59%, top-5 정확도: 79.85%\n",
      "새로운 최고 top-5 정확도: 79.85%\n",
      "Accuracy improved (43.93% --> 49.59%). Saving model ...\n"
     ]
    },
    {
     "name": "stderr",
     "output_type": "stream",
     "text": [
      "  3%|███                                                                                       | 10/300 [30:33<14:45:28, 183.20s/it]"
     ]
    },
    {
     "name": "stdout",
     "output_type": "stream",
     "text": [
      "Epoch [11], Batch [50/196], Loss: 3.4979, LR: 0.010000\n",
      "Epoch [11], Batch [100/196], Loss: 3.7207, LR: 0.010000\n",
      "Epoch [11], Batch [150/196], Loss: 2.5314, LR: 0.010000\n",
      "Train set: Epoch: 11, Average loss:2.8168, LR: 0.010000 Top-1 Accuracy: 39.7040%, Top-5 Accuracy: 69.3820%, Time consumed:167.02s\n",
      "Test set: Epoch: 11, Average loss:2.3338, Top-1 Accuracy: 51.8200%, Top-5 Accuracy: 81.5600%, Time consumed:15.06s\n",
      "\n",
      "새로운 최고 top-1 정확도: 51.82%, top-5 정확도: 81.56%\n",
      "새로운 최고 top-5 정확도: 81.56%\n",
      "Accuracy improved (49.59% --> 51.82%). Saving model ...\n"
     ]
    },
    {
     "name": "stderr",
     "output_type": "stream",
     "text": [
      "  4%|███▎                                                                                      | 11/300 [33:35<14:41:08, 182.94s/it]"
     ]
    },
    {
     "name": "stdout",
     "output_type": "stream",
     "text": [
      "Epoch [12], Batch [50/196], Loss: 3.3530, LR: 0.010000\n",
      "Epoch [12], Batch [100/196], Loss: 2.4468, LR: 0.010000\n",
      "Epoch [12], Batch [150/196], Loss: 2.3339, LR: 0.010000\n",
      "Train set: Epoch: 12, Average loss:2.7373, LR: 0.010000 Top-1 Accuracy: 41.7140%, Top-5 Accuracy: 71.8100%, Time consumed:167.16s\n"
     ]
    },
    {
     "name": "stderr",
     "output_type": "stream",
     "text": [
      "  4%|███▌                                                                                      | 12/300 [36:38<14:36:56, 182.70s/it]"
     ]
    },
    {
     "name": "stdout",
     "output_type": "stream",
     "text": [
      "Test set: Epoch: 12, Average loss:2.3734, Top-1 Accuracy: 50.5800%, Top-5 Accuracy: 80.3900%, Time consumed:14.98s\n",
      "\n",
      "EarlyStopping 카운터: 1 / 30\n",
      "Epoch [13], Batch [50/196], Loss: 2.2714, LR: 0.010000\n",
      "Epoch [13], Batch [100/196], Loss: 2.1647, LR: 0.010000\n",
      "Epoch [13], Batch [150/196], Loss: 2.3753, LR: 0.010000\n",
      "Train set: Epoch: 13, Average loss:2.7169, LR: 0.010000 Top-1 Accuracy: 43.5100%, Top-5 Accuracy: 72.9540%, Time consumed:167.30s\n",
      "Test set: Epoch: 13, Average loss:2.2548, Top-1 Accuracy: 53.7100%, Top-5 Accuracy: 82.8100%, Time consumed:15.08s\n",
      "\n",
      "새로운 최고 top-1 정확도: 53.71%, top-5 정확도: 82.81%\n",
      "새로운 최고 top-5 정확도: 82.81%\n",
      "Accuracy improved (51.82% --> 53.71%). Saving model ...\n"
     ]
    },
    {
     "name": "stderr",
     "output_type": "stream",
     "text": [
      "  4%|███▉                                                                                      | 13/300 [39:40<14:33:47, 182.67s/it]"
     ]
    },
    {
     "name": "stdout",
     "output_type": "stream",
     "text": [
      "Epoch [14], Batch [50/196], Loss: 2.4297, LR: 0.010000\n",
      "Epoch [14], Batch [100/196], Loss: 2.2084, LR: 0.010000\n",
      "Epoch [14], Batch [150/196], Loss: 2.2032, LR: 0.010000\n",
      "Train set: Epoch: 14, Average loss:2.6012, LR: 0.010000 Top-1 Accuracy: 46.5620%, Top-5 Accuracy: 76.1540%, Time consumed:167.46s\n",
      "Test set: Epoch: 14, Average loss:2.1884, Top-1 Accuracy: 55.9800%, Top-5 Accuracy: 83.9700%, Time consumed:14.73s\n",
      "\n",
      "새로운 최고 top-1 정확도: 55.98%, top-5 정확도: 83.97%\n",
      "새로운 최고 top-5 정확도: 83.97%\n",
      "Accuracy improved (53.71% --> 55.98%). Saving model ...\n"
     ]
    },
    {
     "name": "stderr",
     "output_type": "stream",
     "text": [
      "  5%|████▏                                                                                     | 14/300 [42:43<14:30:31, 182.63s/it]"
     ]
    },
    {
     "name": "stdout",
     "output_type": "stream",
     "text": [
      "Epoch [15], Batch [50/196], Loss: 2.8261, LR: 0.010000\n",
      "Epoch [15], Batch [100/196], Loss: 2.5725, LR: 0.010000\n",
      "Epoch [15], Batch [150/196], Loss: 2.6910, LR: 0.010000\n",
      "Train set: Epoch: 15, Average loss:2.5515, LR: 0.010000 Top-1 Accuracy: 47.6140%, Top-5 Accuracy: 76.5820%, Time consumed:167.78s\n"
     ]
    },
    {
     "name": "stderr",
     "output_type": "stream",
     "text": [
      "  5%|████▌                                                                                     | 15/300 [45:46<14:27:43, 182.68s/it]"
     ]
    },
    {
     "name": "stdout",
     "output_type": "stream",
     "text": [
      "Test set: Epoch: 15, Average loss:2.1958, Top-1 Accuracy: 55.8400%, Top-5 Accuracy: 84.4000%, Time consumed:15.01s\n",
      "\n",
      "새로운 최고 top-5 정확도: 84.40%\n",
      "EarlyStopping 카운터: 1 / 30\n",
      "Epoch [16], Batch [50/196], Loss: 2.0704, LR: 0.010000\n",
      "Epoch [16], Batch [100/196], Loss: 3.1371, LR: 0.010000\n",
      "Epoch [16], Batch [150/196], Loss: 3.2443, LR: 0.010000\n",
      "Train set: Epoch: 16, Average loss:2.5550, LR: 0.010000 Top-1 Accuracy: 47.6340%, Top-5 Accuracy: 76.3040%, Time consumed:168.04s\n",
      "Test set: Epoch: 16, Average loss:2.1752, Top-1 Accuracy: 56.0500%, Top-5 Accuracy: 85.0400%, Time consumed:14.70s\n",
      "\n",
      "새로운 최고 top-1 정확도: 56.05%, top-5 정확도: 85.04%\n",
      "새로운 최고 top-5 정확도: 85.04%\n",
      "Accuracy improved (55.98% --> 56.05%). Saving model ...\n"
     ]
    },
    {
     "name": "stderr",
     "output_type": "stream",
     "text": [
      "  5%|████▊                                                                                     | 16/300 [48:49<14:25:06, 182.77s/it]"
     ]
    },
    {
     "name": "stdout",
     "output_type": "stream",
     "text": [
      "Epoch [17], Batch [50/196], Loss: 3.3105, LR: 0.010000\n",
      "Epoch [17], Batch [100/196], Loss: 2.1456, LR: 0.010000\n",
      "Epoch [17], Batch [150/196], Loss: 3.5987, LR: 0.010000\n",
      "Train set: Epoch: 17, Average loss:2.4904, LR: 0.010000 Top-1 Accuracy: 50.5700%, Top-5 Accuracy: 79.0800%, Time consumed:167.71s\n",
      "Test set: Epoch: 17, Average loss:2.0860, Top-1 Accuracy: 59.0700%, Top-5 Accuracy: 86.1500%, Time consumed:14.88s\n",
      "\n",
      "새로운 최고 top-1 정확도: 59.07%, top-5 정확도: 86.15%\n",
      "새로운 최고 top-5 정확도: 86.15%\n",
      "Accuracy improved (56.05% --> 59.07%). Saving model ...\n"
     ]
    },
    {
     "name": "stderr",
     "output_type": "stream",
     "text": [
      "  6%|█████                                                                                     | 17/300 [51:51<14:22:09, 182.79s/it]"
     ]
    },
    {
     "name": "stdout",
     "output_type": "stream",
     "text": [
      "Epoch [18], Batch [50/196], Loss: 3.0147, LR: 0.010000\n",
      "Epoch [18], Batch [100/196], Loss: 2.0873, LR: 0.010000\n",
      "Epoch [18], Batch [150/196], Loss: 2.0203, LR: 0.010000\n",
      "Train set: Epoch: 18, Average loss:2.4430, LR: 0.010000 Top-1 Accuracy: 50.8860%, Top-5 Accuracy: 79.3880%, Time consumed:167.79s\n",
      "Test set: Epoch: 18, Average loss:2.0364, Top-1 Accuracy: 60.4100%, Top-5 Accuracy: 86.8900%, Time consumed:14.61s\n",
      "\n",
      "새로운 최고 top-1 정확도: 60.41%, top-5 정확도: 86.89%\n",
      "새로운 최고 top-5 정확도: 86.89%\n",
      "Accuracy improved (59.07% --> 60.41%). Saving model ...\n"
     ]
    },
    {
     "name": "stderr",
     "output_type": "stream",
     "text": [
      "  6%|█████▍                                                                                    | 18/300 [54:54<14:18:53, 182.74s/it]"
     ]
    },
    {
     "name": "stdout",
     "output_type": "stream",
     "text": [
      "Epoch [19], Batch [50/196], Loss: 1.9499, LR: 0.010000\n",
      "Epoch [19], Batch [100/196], Loss: 1.9171, LR: 0.010000\n",
      "Epoch [19], Batch [150/196], Loss: 1.9989, LR: 0.010000\n",
      "Train set: Epoch: 19, Average loss:2.4026, LR: 0.010000 Top-1 Accuracy: 52.4620%, Top-5 Accuracy: 80.3660%, Time consumed:167.01s\n",
      "Test set: Epoch: 19, Average loss:2.0056, Top-1 Accuracy: 61.3500%, Top-5 Accuracy: 87.4100%, Time consumed:14.53s\n",
      "\n",
      "새로운 최고 top-1 정확도: 61.35%, top-5 정확도: 87.41%\n",
      "새로운 최고 top-5 정확도: 87.41%\n",
      "Accuracy improved (60.41% --> 61.35%). Saving model ...\n"
     ]
    },
    {
     "name": "stderr",
     "output_type": "stream",
     "text": [
      "  6%|█████▋                                                                                    | 19/300 [57:56<14:14:29, 182.45s/it]"
     ]
    },
    {
     "name": "stdout",
     "output_type": "stream",
     "text": [
      "Epoch [20], Batch [50/196], Loss: 1.8630, LR: 0.010000\n",
      "Epoch [20], Batch [100/196], Loss: 1.9091, LR: 0.010000\n",
      "Epoch [20], Batch [150/196], Loss: 1.7881, LR: 0.010000\n",
      "Train set: Epoch: 20, Average loss:2.3666, LR: 0.010000 Top-1 Accuracy: 53.2700%, Top-5 Accuracy: 80.7680%, Time consumed:167.90s\n"
     ]
    },
    {
     "name": "stderr",
     "output_type": "stream",
     "text": [
      "  7%|█████▊                                                                                  | 20/300 [1:00:58<14:11:37, 182.49s/it]"
     ]
    },
    {
     "name": "stdout",
     "output_type": "stream",
     "text": [
      "Test set: Epoch: 20, Average loss:2.0177, Top-1 Accuracy: 61.1400%, Top-5 Accuracy: 87.3300%, Time consumed:14.67s\n",
      "\n",
      "EarlyStopping 카운터: 1 / 30\n",
      "Epoch [21], Batch [50/196], Loss: 2.9568, LR: 0.010000\n",
      "Epoch [21], Batch [100/196], Loss: 1.8137, LR: 0.010000\n",
      "Epoch [21], Batch [150/196], Loss: 1.9029, LR: 0.010000\n",
      "Train set: Epoch: 21, Average loss:2.3490, LR: 0.010000 Top-1 Accuracy: 53.8080%, Top-5 Accuracy: 81.2040%, Time consumed:166.94s\n",
      "Test set: Epoch: 21, Average loss:1.9557, Top-1 Accuracy: 63.1400%, Top-5 Accuracy: 88.2300%, Time consumed:15.30s\n",
      "\n",
      "새로운 최고 top-1 정확도: 63.14%, top-5 정확도: 88.23%\n",
      "새로운 최고 top-5 정확도: 88.23%\n",
      "Accuracy improved (61.35% --> 63.14%). Saving model ...\n"
     ]
    },
    {
     "name": "stderr",
     "output_type": "stream",
     "text": [
      "  7%|██████▏                                                                                 | 21/300 [1:04:01<14:08:38, 182.50s/it]"
     ]
    },
    {
     "name": "stdout",
     "output_type": "stream",
     "text": [
      "Epoch [22], Batch [50/196], Loss: 3.6000, LR: 0.010000\n",
      "Epoch [22], Batch [100/196], Loss: 1.7116, LR: 0.010000\n",
      "Epoch [22], Batch [150/196], Loss: 1.7849, LR: 0.010000\n",
      "Train set: Epoch: 22, Average loss:2.3603, LR: 0.010000 Top-1 Accuracy: 53.9120%, Top-5 Accuracy: 81.0740%, Time consumed:167.45s\n"
     ]
    },
    {
     "name": "stderr",
     "output_type": "stream",
     "text": [
      "  7%|██████▍                                                                                 | 22/300 [1:07:04<14:06:00, 182.59s/it]"
     ]
    },
    {
     "name": "stdout",
     "output_type": "stream",
     "text": [
      "Test set: Epoch: 22, Average loss:1.9639, Top-1 Accuracy: 63.0800%, Top-5 Accuracy: 88.3000%, Time consumed:15.35s\n",
      "\n",
      "새로운 최고 top-5 정확도: 88.30%\n",
      "EarlyStopping 카운터: 1 / 30\n",
      "Epoch [23], Batch [50/196], Loss: 1.7914, LR: 0.010000\n",
      "Epoch [23], Batch [100/196], Loss: 1.8387, LR: 0.010000\n",
      "Epoch [23], Batch [150/196], Loss: 1.7583, LR: 0.010000\n",
      "Train set: Epoch: 23, Average loss:2.2253, LR: 0.010000 Top-1 Accuracy: 57.1640%, Top-5 Accuracy: 83.7620%, Time consumed:167.06s\n"
     ]
    },
    {
     "name": "stderr",
     "output_type": "stream",
     "text": [
      "  8%|██████▋                                                                                 | 23/300 [1:10:06<14:02:37, 182.52s/it]"
     ]
    },
    {
     "name": "stdout",
     "output_type": "stream",
     "text": [
      "Test set: Epoch: 23, Average loss:1.9785, Top-1 Accuracy: 62.4400%, Top-5 Accuracy: 88.0400%, Time consumed:15.28s\n",
      "\n",
      "EarlyStopping 카운터: 2 / 30\n",
      "Epoch [24], Batch [50/196], Loss: 3.2867, LR: 0.010000\n",
      "Epoch [24], Batch [100/196], Loss: 2.5921, LR: 0.010000\n",
      "Epoch [24], Batch [150/196], Loss: 1.8160, LR: 0.010000\n",
      "Train set: Epoch: 24, Average loss:2.1968, LR: 0.010000 Top-1 Accuracy: 57.6580%, Top-5 Accuracy: 83.4560%, Time consumed:166.57s\n",
      "Test set: Epoch: 24, Average loss:1.9531, Top-1 Accuracy: 63.6000%, Top-5 Accuracy: 88.5000%, Time consumed:14.98s\n",
      "\n",
      "새로운 최고 top-1 정확도: 63.60%, top-5 정확도: 88.50%\n",
      "새로운 최고 top-5 정확도: 88.50%\n",
      "Accuracy improved (63.14% --> 63.60%). Saving model ...\n"
     ]
    },
    {
     "name": "stderr",
     "output_type": "stream",
     "text": [
      "  8%|███████                                                                                 | 24/300 [1:13:08<13:58:34, 182.30s/it]"
     ]
    },
    {
     "name": "stdout",
     "output_type": "stream",
     "text": [
      "Epoch [25], Batch [50/196], Loss: 1.6964, LR: 0.010000\n",
      "Epoch [25], Batch [100/196], Loss: 1.8069, LR: 0.010000\n",
      "Epoch [25], Batch [150/196], Loss: 1.7437, LR: 0.010000\n",
      "Train set: Epoch: 25, Average loss:2.1917, LR: 0.010000 Top-1 Accuracy: 58.8100%, Top-5 Accuracy: 84.8280%, Time consumed:167.65s\n",
      "Test set: Epoch: 25, Average loss:1.8872, Top-1 Accuracy: 65.3300%, Top-5 Accuracy: 89.9400%, Time consumed:15.15s\n",
      "\n",
      "새로운 최고 top-1 정확도: 65.33%, top-5 정확도: 89.94%\n",
      "새로운 최고 top-5 정확도: 89.94%\n",
      "Accuracy improved (63.60% --> 65.33%). Saving model ...\n"
     ]
    },
    {
     "name": "stderr",
     "output_type": "stream",
     "text": [
      "  8%|███████▎                                                                                | 25/300 [1:16:11<13:56:34, 182.53s/it]"
     ]
    },
    {
     "name": "stdout",
     "output_type": "stream",
     "text": [
      "Epoch [26], Batch [50/196], Loss: 1.7808, LR: 0.010000\n",
      "Epoch [26], Batch [100/196], Loss: 3.3796, LR: 0.010000\n",
      "Epoch [26], Batch [150/196], Loss: 1.5205, LR: 0.010000\n",
      "Train set: Epoch: 26, Average loss:2.2054, LR: 0.010000 Top-1 Accuracy: 58.4140%, Top-5 Accuracy: 84.0220%, Time consumed:166.81s\n"
     ]
    },
    {
     "name": "stderr",
     "output_type": "stream",
     "text": [
      "  9%|███████▋                                                                                | 26/300 [1:19:14<13:54:01, 182.63s/it]"
     ]
    },
    {
     "name": "stdout",
     "output_type": "stream",
     "text": [
      "Test set: Epoch: 26, Average loss:1.9024, Top-1 Accuracy: 64.8000%, Top-5 Accuracy: 89.5100%, Time consumed:16.07s\n",
      "\n",
      "EarlyStopping 카운터: 1 / 30\n",
      "Epoch [27], Batch [50/196], Loss: 2.1424, LR: 0.010000\n",
      "Epoch [27], Batch [100/196], Loss: 3.2500, LR: 0.010000\n",
      "Epoch [27], Batch [150/196], Loss: 1.8354, LR: 0.010000\n",
      "Train set: Epoch: 27, Average loss:2.2759, LR: 0.010000 Top-1 Accuracy: 56.1980%, Top-5 Accuracy: 82.7540%, Time consumed:168.00s\n"
     ]
    },
    {
     "name": "stderr",
     "output_type": "stream",
     "text": [
      "  9%|███████▉                                                                                | 27/300 [1:22:17<13:51:28, 182.74s/it]"
     ]
    },
    {
     "name": "stdout",
     "output_type": "stream",
     "text": [
      "Test set: Epoch: 27, Average loss:1.9036, Top-1 Accuracy: 64.9500%, Top-5 Accuracy: 89.3100%, Time consumed:15.00s\n",
      "\n",
      "EarlyStopping 카운터: 2 / 30\n",
      "Epoch [28], Batch [50/196], Loss: 2.3406, LR: 0.010000\n",
      "Epoch [28], Batch [100/196], Loss: 1.4843, LR: 0.010000\n",
      "Epoch [28], Batch [150/196], Loss: 2.5654, LR: 0.010000\n",
      "Train set: Epoch: 28, Average loss:2.1225, LR: 0.010000 Top-1 Accuracy: 60.3080%, Top-5 Accuracy: 85.4580%, Time consumed:167.37s\n",
      "Test set: Epoch: 28, Average loss:1.8737, Top-1 Accuracy: 65.7400%, Top-5 Accuracy: 89.4600%, Time consumed:14.91s\n",
      "\n",
      "새로운 최고 top-1 정확도: 65.74%, top-5 정확도: 89.46%\n",
      "Accuracy improved (65.33% --> 65.74%). Saving model ...\n"
     ]
    },
    {
     "name": "stderr",
     "output_type": "stream",
     "text": [
      "  9%|████████▏                                                                               | 28/300 [1:25:19<13:48:09, 182.68s/it]"
     ]
    },
    {
     "name": "stdout",
     "output_type": "stream",
     "text": [
      "Epoch [29], Batch [50/196], Loss: 1.6437, LR: 0.010000\n",
      "Epoch [29], Batch [100/196], Loss: 3.1021, LR: 0.010000\n",
      "Epoch [29], Batch [150/196], Loss: 1.6790, LR: 0.010000\n",
      "Train set: Epoch: 29, Average loss:2.1369, LR: 0.010000 Top-1 Accuracy: 60.7760%, Top-5 Accuracy: 85.5540%, Time consumed:167.48s\n",
      "Test set: Epoch: 29, Average loss:1.8607, Top-1 Accuracy: 66.4300%, Top-5 Accuracy: 89.5800%, Time consumed:15.44s\n",
      "\n",
      "새로운 최고 top-1 정확도: 66.43%, top-5 정확도: 89.58%\n",
      "Accuracy improved (65.74% --> 66.43%). Saving model ...\n"
     ]
    },
    {
     "name": "stderr",
     "output_type": "stream",
     "text": [
      " 10%|████████▌                                                                               | 29/300 [1:28:22<13:45:46, 182.83s/it]"
     ]
    },
    {
     "name": "stdout",
     "output_type": "stream",
     "text": [
      "Epoch [30], Batch [50/196], Loss: 1.6195, LR: 0.010000\n",
      "Epoch [30], Batch [100/196], Loss: 1.7677, LR: 0.010000\n",
      "Epoch [30], Batch [150/196], Loss: 1.6456, LR: 0.010000\n",
      "Train set: Epoch: 30, Average loss:2.0764, LR: 0.010000 Top-1 Accuracy: 61.1840%, Top-5 Accuracy: 85.5100%, Time consumed:167.36s\n",
      "Test set: Epoch: 30, Average loss:1.8310, Top-1 Accuracy: 67.0600%, Top-5 Accuracy: 90.2800%, Time consumed:15.24s\n",
      "\n",
      "새로운 최고 top-1 정확도: 67.06%, top-5 정확도: 90.28%\n",
      "새로운 최고 top-5 정확도: 90.28%\n",
      "Accuracy improved (66.43% --> 67.06%). Saving model ...\n"
     ]
    },
    {
     "name": "stderr",
     "output_type": "stream",
     "text": [
      " 10%|████████▊                                                                               | 30/300 [1:31:25<13:42:45, 182.83s/it]"
     ]
    },
    {
     "name": "stdout",
     "output_type": "stream",
     "text": [
      "Epoch [31], Batch [50/196], Loss: 1.6661, LR: 0.010000\n",
      "Epoch [31], Batch [100/196], Loss: 1.6686, LR: 0.010000\n",
      "Epoch [31], Batch [150/196], Loss: 1.7892, LR: 0.010000\n",
      "Train set: Epoch: 31, Average loss:2.0753, LR: 0.010000 Top-1 Accuracy: 62.0040%, Top-5 Accuracy: 86.2860%, Time consumed:164.76s\n",
      "Test set: Epoch: 31, Average loss:1.8174, Top-1 Accuracy: 67.3900%, Top-5 Accuracy: 90.6200%, Time consumed:15.06s\n",
      "\n",
      "새로운 최고 top-1 정확도: 67.39%, top-5 정확도: 90.62%\n",
      "새로운 최고 top-5 정확도: 90.62%\n",
      "Accuracy improved (67.06% --> 67.39%). Saving model ...\n"
     ]
    },
    {
     "name": "stderr",
     "output_type": "stream",
     "text": [
      " 10%|█████████                                                                               | 31/300 [1:34:25<13:35:58, 182.00s/it]"
     ]
    },
    {
     "name": "stdout",
     "output_type": "stream",
     "text": [
      "Epoch [32], Batch [50/196], Loss: 1.0522, LR: 0.010000\n",
      "Epoch [32], Batch [100/196], Loss: 1.6003, LR: 0.010000\n",
      "Epoch [32], Batch [150/196], Loss: 1.6337, LR: 0.010000\n",
      "Train set: Epoch: 32, Average loss:2.1158, LR: 0.010000 Top-1 Accuracy: 61.0340%, Top-5 Accuracy: 85.4860%, Time consumed:165.28s\n",
      "Test set: Epoch: 32, Average loss:1.8211, Top-1 Accuracy: 67.4900%, Top-5 Accuracy: 90.2600%, Time consumed:14.70s\n",
      "\n",
      "새로운 최고 top-1 정확도: 67.49%, top-5 정확도: 90.26%\n",
      "Accuracy improved (67.39% --> 67.49%). Saving model ...\n"
     ]
    },
    {
     "name": "stderr",
     "output_type": "stream",
     "text": [
      " 11%|█████████▍                                                                              | 32/300 [1:37:26<13:30:35, 181.48s/it]"
     ]
    },
    {
     "name": "stdout",
     "output_type": "stream",
     "text": [
      "Epoch [33], Batch [50/196], Loss: 1.5770, LR: 0.010000\n",
      "Epoch [33], Batch [100/196], Loss: 1.5384, LR: 0.010000\n",
      "Epoch [33], Batch [150/196], Loss: 2.1461, LR: 0.010000\n",
      "Train set: Epoch: 33, Average loss:2.0967, LR: 0.010000 Top-1 Accuracy: 62.1560%, Top-5 Accuracy: 86.1580%, Time consumed:166.61s\n",
      "Test set: Epoch: 33, Average loss:1.8377, Top-1 Accuracy: 67.5200%, Top-5 Accuracy: 90.0600%, Time consumed:14.95s\n",
      "\n",
      "새로운 최고 top-1 정확도: 67.52%, top-5 정확도: 90.06%\n",
      "Accuracy improved (67.49% --> 67.52%). Saving model ...\n"
     ]
    },
    {
     "name": "stderr",
     "output_type": "stream",
     "text": [
      " 11%|█████████▋                                                                              | 33/300 [1:40:27<13:28:06, 181.60s/it]"
     ]
    },
    {
     "name": "stdout",
     "output_type": "stream",
     "text": [
      "Epoch [34], Batch [50/196], Loss: 1.6089, LR: 0.010000\n",
      "Epoch [34], Batch [100/196], Loss: 2.5454, LR: 0.010000\n",
      "Epoch [34], Batch [150/196], Loss: 1.6166, LR: 0.010000\n",
      "Train set: Epoch: 34, Average loss:2.0383, LR: 0.010000 Top-1 Accuracy: 63.7860%, Top-5 Accuracy: 87.3960%, Time consumed:166.42s\n",
      "Test set: Epoch: 34, Average loss:1.7750, Top-1 Accuracy: 69.2000%, Top-5 Accuracy: 91.3800%, Time consumed:14.89s\n",
      "\n",
      "새로운 최고 top-1 정확도: 69.20%, top-5 정확도: 91.38%\n",
      "새로운 최고 top-5 정확도: 91.38%\n",
      "Accuracy improved (67.52% --> 69.20%). Saving model ...\n"
     ]
    },
    {
     "name": "stderr",
     "output_type": "stream",
     "text": [
      " 11%|█████████▉                                                                              | 34/300 [1:43:29<13:25:01, 181.58s/it]"
     ]
    },
    {
     "name": "stdout",
     "output_type": "stream",
     "text": [
      "Epoch [35], Batch [50/196], Loss: 1.5216, LR: 0.010000\n",
      "Epoch [35], Batch [100/196], Loss: 3.0769, LR: 0.010000\n",
      "Epoch [35], Batch [150/196], Loss: 1.8628, LR: 0.010000\n",
      "Train set: Epoch: 35, Average loss:1.9017, LR: 0.010000 Top-1 Accuracy: 66.7440%, Top-5 Accuracy: 89.1880%, Time consumed:166.76s\n"
     ]
    },
    {
     "name": "stderr",
     "output_type": "stream",
     "text": [
      " 12%|██████████▎                                                                             | 35/300 [1:46:31<13:21:57, 181.57s/it]"
     ]
    },
    {
     "name": "stdout",
     "output_type": "stream",
     "text": [
      "Test set: Epoch: 35, Average loss:1.7862, Top-1 Accuracy: 68.7100%, Top-5 Accuracy: 91.2700%, Time consumed:14.78s\n",
      "\n",
      "EarlyStopping 카운터: 1 / 30\n",
      "Epoch [36], Batch [50/196], Loss: 1.5025, LR: 0.010000\n",
      "Epoch [36], Batch [100/196], Loss: 2.1075, LR: 0.010000\n",
      "Epoch [36], Batch [150/196], Loss: 1.6226, LR: 0.010000\n",
      "Train set: Epoch: 36, Average loss:2.0329, LR: 0.010000 Top-1 Accuracy: 63.4500%, Top-5 Accuracy: 86.5640%, Time consumed:168.67s\n",
      "Test set: Epoch: 36, Average loss:1.7592, Top-1 Accuracy: 69.4800%, Top-5 Accuracy: 91.6700%, Time consumed:14.76s\n",
      "\n",
      "새로운 최고 top-1 정확도: 69.48%, top-5 정확도: 91.67%\n",
      "새로운 최고 top-5 정확도: 91.67%\n",
      "Accuracy improved (69.20% --> 69.48%). Saving model ...\n"
     ]
    },
    {
     "name": "stderr",
     "output_type": "stream",
     "text": [
      " 12%|██████████▌                                                                             | 36/300 [1:49:34<13:21:43, 182.21s/it]"
     ]
    },
    {
     "name": "stdout",
     "output_type": "stream",
     "text": [
      "Epoch [37], Batch [50/196], Loss: 1.4950, LR: 0.010000\n",
      "Epoch [37], Batch [100/196], Loss: 2.6693, LR: 0.010000\n",
      "Epoch [37], Batch [150/196], Loss: 1.2214, LR: 0.010000\n",
      "Train set: Epoch: 37, Average loss:1.9236, LR: 0.010000 Top-1 Accuracy: 67.0820%, Top-5 Accuracy: 89.4420%, Time consumed:166.68s\n"
     ]
    },
    {
     "name": "stderr",
     "output_type": "stream",
     "text": [
      " 12%|██████████▊                                                                             | 37/300 [1:52:36<13:17:39, 181.98s/it]"
     ]
    },
    {
     "name": "stdout",
     "output_type": "stream",
     "text": [
      "Test set: Epoch: 37, Average loss:1.8286, Top-1 Accuracy: 67.1700%, Top-5 Accuracy: 90.4000%, Time consumed:14.75s\n",
      "\n",
      "EarlyStopping 카운터: 1 / 30\n",
      "Epoch [38], Batch [50/196], Loss: 1.5016, LR: 0.010000\n",
      "Epoch [38], Batch [100/196], Loss: 1.5532, LR: 0.010000\n",
      "Epoch [38], Batch [150/196], Loss: 1.4917, LR: 0.010000\n",
      "Train set: Epoch: 38, Average loss:1.9760, LR: 0.010000 Top-1 Accuracy: 65.7340%, Top-5 Accuracy: 88.4020%, Time consumed:168.99s\n",
      "Test set: Epoch: 38, Average loss:1.7539, Top-1 Accuracy: 69.9700%, Top-5 Accuracy: 91.2100%, Time consumed:15.02s\n",
      "\n",
      "새로운 최고 top-1 정확도: 69.97%, top-5 정확도: 91.21%\n",
      "Accuracy improved (69.48% --> 69.97%). Saving model ...\n"
     ]
    },
    {
     "name": "stderr",
     "output_type": "stream",
     "text": [
      " 13%|███████████▏                                                                            | 38/300 [1:55:40<13:17:37, 182.66s/it]"
     ]
    },
    {
     "name": "stdout",
     "output_type": "stream",
     "text": [
      "Epoch [39], Batch [50/196], Loss: 3.3088, LR: 0.010000\n",
      "Epoch [39], Batch [100/196], Loss: 2.9165, LR: 0.010000\n",
      "Epoch [39], Batch [150/196], Loss: 3.3134, LR: 0.010000\n",
      "Train set: Epoch: 39, Average loss:1.9754, LR: 0.010000 Top-1 Accuracy: 65.5200%, Top-5 Accuracy: 87.7660%, Time consumed:166.91s\n"
     ]
    },
    {
     "name": "stderr",
     "output_type": "stream",
     "text": [
      " 13%|███████████▍                                                                            | 39/300 [1:58:42<13:13:17, 182.37s/it]"
     ]
    },
    {
     "name": "stdout",
     "output_type": "stream",
     "text": [
      "Test set: Epoch: 39, Average loss:1.7573, Top-1 Accuracy: 69.6600%, Top-5 Accuracy: 91.2600%, Time consumed:14.77s\n",
      "\n",
      "EarlyStopping 카운터: 1 / 30\n",
      "Epoch [40], Batch [50/196], Loss: 1.4975, LR: 0.010000\n",
      "Epoch [40], Batch [100/196], Loss: 2.9047, LR: 0.010000\n",
      "Epoch [40], Batch [150/196], Loss: 1.4789, LR: 0.010000\n",
      "Train set: Epoch: 40, Average loss:1.9686, LR: 0.010000 Top-1 Accuracy: 66.2480%, Top-5 Accuracy: 88.0600%, Time consumed:166.70s\n"
     ]
    },
    {
     "name": "stderr",
     "output_type": "stream",
     "text": [
      " 13%|███████████▋                                                                            | 40/300 [2:01:43<13:09:08, 182.11s/it]"
     ]
    },
    {
     "name": "stdout",
     "output_type": "stream",
     "text": [
      "Test set: Epoch: 40, Average loss:1.7948, Top-1 Accuracy: 68.6500%, Top-5 Accuracy: 90.5600%, Time consumed:14.80s\n",
      "\n",
      "EarlyStopping 카운터: 2 / 30\n",
      "Epoch [41], Batch [50/196], Loss: 1.0572, LR: 0.010000\n",
      "Epoch [41], Batch [100/196], Loss: 1.4761, LR: 0.010000\n",
      "Epoch [41], Batch [150/196], Loss: 1.5083, LR: 0.010000\n",
      "Train set: Epoch: 41, Average loss:1.8889, LR: 0.010000 Top-1 Accuracy: 68.2580%, Top-5 Accuracy: 89.7540%, Time consumed:166.21s\n"
     ]
    },
    {
     "name": "stderr",
     "output_type": "stream",
     "text": [
      " 14%|████████████                                                                            | 41/300 [2:04:44<13:04:31, 181.74s/it]"
     ]
    },
    {
     "name": "stdout",
     "output_type": "stream",
     "text": [
      "Test set: Epoch: 41, Average loss:1.7600, Top-1 Accuracy: 69.7400%, Top-5 Accuracy: 90.9600%, Time consumed:14.69s\n",
      "\n",
      "EarlyStopping 카운터: 3 / 30\n",
      "Epoch [42], Batch [50/196], Loss: 1.1018, LR: 0.010000\n",
      "Epoch [42], Batch [100/196], Loss: 2.6119, LR: 0.010000\n",
      "Epoch [42], Batch [150/196], Loss: 1.4043, LR: 0.010000\n",
      "Train set: Epoch: 42, Average loss:1.9456, LR: 0.010000 Top-1 Accuracy: 67.3140%, Top-5 Accuracy: 88.9740%, Time consumed:166.81s\n",
      "Test set: Epoch: 42, Average loss:1.7443, Top-1 Accuracy: 70.3900%, Top-5 Accuracy: 91.4000%, Time consumed:14.58s\n",
      "\n",
      "새로운 최고 top-1 정확도: 70.39%, top-5 정확도: 91.40%\n",
      "Accuracy improved (69.97% --> 70.39%). Saving model ...\n"
     ]
    },
    {
     "name": "stderr",
     "output_type": "stream",
     "text": [
      " 14%|████████████▎                                                                           | 42/300 [2:07:46<13:01:24, 181.72s/it]"
     ]
    },
    {
     "name": "stdout",
     "output_type": "stream",
     "text": [
      "Epoch [43], Batch [50/196], Loss: 2.4953, LR: 0.010000\n",
      "Epoch [43], Batch [100/196], Loss: 2.7985, LR: 0.010000\n",
      "Epoch [43], Batch [150/196], Loss: 1.4830, LR: 0.010000\n",
      "Train set: Epoch: 43, Average loss:1.7874, LR: 0.010000 Top-1 Accuracy: 71.4340%, Top-5 Accuracy: 91.2440%, Time consumed:166.46s\n"
     ]
    },
    {
     "name": "stderr",
     "output_type": "stream",
     "text": [
      " 14%|████████████▌                                                                           | 43/300 [2:10:47<12:57:38, 181.55s/it]"
     ]
    },
    {
     "name": "stdout",
     "output_type": "stream",
     "text": [
      "Test set: Epoch: 43, Average loss:1.7405, Top-1 Accuracy: 70.0400%, Top-5 Accuracy: 91.3300%, Time consumed:14.67s\n",
      "\n",
      "EarlyStopping 카운터: 1 / 30\n",
      "Epoch [44], Batch [50/196], Loss: 1.3590, LR: 0.010000\n",
      "Epoch [44], Batch [100/196], Loss: 2.3290, LR: 0.010000\n",
      "Epoch [44], Batch [150/196], Loss: 3.0545, LR: 0.010000\n",
      "Train set: Epoch: 44, Average loss:1.9419, LR: 0.010000 Top-1 Accuracy: 68.0900%, Top-5 Accuracy: 89.3940%, Time consumed:168.78s\n"
     ]
    },
    {
     "name": "stderr",
     "output_type": "stream",
     "text": [
      " 15%|████████████▉                                                                           | 44/300 [2:13:52<12:58:50, 182.54s/it]"
     ]
    },
    {
     "name": "stdout",
     "output_type": "stream",
     "text": [
      "Test set: Epoch: 44, Average loss:1.7618, Top-1 Accuracy: 69.4600%, Top-5 Accuracy: 91.1900%, Time consumed:16.07s\n",
      "\n",
      "EarlyStopping 카운터: 2 / 30\n",
      "Epoch [45], Batch [50/196], Loss: 2.7758, LR: 0.005000\n",
      "Epoch [45], Batch [100/196], Loss: 1.3404, LR: 0.005000\n",
      "Epoch [45], Batch [150/196], Loss: 2.7890, LR: 0.005000\n",
      "Train set: Epoch: 45, Average loss:1.7405, LR: 0.005000 Top-1 Accuracy: 72.7540%, Top-5 Accuracy: 91.3760%, Time consumed:166.95s\n",
      "Test set: Epoch: 45, Average loss:1.6541, Top-1 Accuracy: 72.6800%, Top-5 Accuracy: 92.7500%, Time consumed:14.99s\n",
      "\n",
      "새로운 최고 top-1 정확도: 72.68%, top-5 정확도: 92.75%\n",
      "새로운 최고 top-5 정확도: 92.75%\n",
      "Accuracy improved (70.39% --> 72.68%). Saving model ...\n"
     ]
    },
    {
     "name": "stderr",
     "output_type": "stream",
     "text": [
      " 15%|█████████████▏                                                                          | 45/300 [2:16:54<12:55:27, 182.46s/it]"
     ]
    },
    {
     "name": "stdout",
     "output_type": "stream",
     "text": [
      "Epoch [46], Batch [50/196], Loss: 1.7706, LR: 0.005000\n",
      "Epoch [46], Batch [100/196], Loss: 2.8896, LR: 0.005000\n",
      "Epoch [46], Batch [150/196], Loss: 1.1188, LR: 0.005000\n",
      "Train set: Epoch: 46, Average loss:1.8551, LR: 0.005000 Top-1 Accuracy: 70.4460%, Top-5 Accuracy: 90.5380%, Time consumed:167.60s\n",
      "Test set: Epoch: 46, Average loss:1.6566, Top-1 Accuracy: 72.9300%, Top-5 Accuracy: 92.6200%, Time consumed:15.10s\n",
      "\n",
      "새로운 최고 top-1 정확도: 72.93%, top-5 정확도: 92.62%\n",
      "Accuracy improved (72.68% --> 72.93%). Saving model ...\n"
     ]
    },
    {
     "name": "stderr",
     "output_type": "stream",
     "text": [
      " 15%|█████████████▍                                                                          | 46/300 [2:19:57<12:53:02, 182.61s/it]"
     ]
    },
    {
     "name": "stdout",
     "output_type": "stream",
     "text": [
      "Epoch [47], Batch [50/196], Loss: 1.5179, LR: 0.005000\n",
      "Epoch [47], Batch [100/196], Loss: 1.3775, LR: 0.005000\n",
      "Epoch [47], Batch [150/196], Loss: 1.3559, LR: 0.005000\n",
      "Train set: Epoch: 47, Average loss:1.7121, LR: 0.005000 Top-1 Accuracy: 74.2180%, Top-5 Accuracy: 91.8320%, Time consumed:167.02s\n",
      "Test set: Epoch: 47, Average loss:1.6526, Top-1 Accuracy: 72.9900%, Top-5 Accuracy: 92.4900%, Time consumed:14.76s\n",
      "\n",
      "새로운 최고 top-1 정확도: 72.99%, top-5 정확도: 92.49%\n",
      "Accuracy improved (72.93% --> 72.99%). Saving model ...\n"
     ]
    },
    {
     "name": "stderr",
     "output_type": "stream",
     "text": [
      " 16%|█████████████▊                                                                          | 47/300 [2:22:59<12:49:15, 182.43s/it]"
     ]
    },
    {
     "name": "stdout",
     "output_type": "stream",
     "text": [
      "Epoch [48], Batch [50/196], Loss: 1.2909, LR: 0.005000\n",
      "Epoch [48], Batch [100/196], Loss: 2.5567, LR: 0.005000\n",
      "Epoch [48], Batch [150/196], Loss: 2.8840, LR: 0.005000\n",
      "Train set: Epoch: 48, Average loss:1.7596, LR: 0.005000 Top-1 Accuracy: 72.1860%, Top-5 Accuracy: 90.8440%, Time consumed:166.96s\n",
      "Test set: Epoch: 48, Average loss:1.6521, Top-1 Accuracy: 73.0200%, Top-5 Accuracy: 92.8800%, Time consumed:14.82s\n",
      "\n",
      "새로운 최고 top-1 정확도: 73.02%, top-5 정확도: 92.88%\n",
      "새로운 최고 top-5 정확도: 92.88%\n",
      "Accuracy improved (72.99% --> 73.02%). Saving model ...\n"
     ]
    },
    {
     "name": "stderr",
     "output_type": "stream",
     "text": [
      " 16%|██████████████                                                                          | 48/300 [2:26:01<12:45:41, 182.31s/it]"
     ]
    },
    {
     "name": "stdout",
     "output_type": "stream",
     "text": [
      "Epoch [49], Batch [50/196], Loss: 2.7843, LR: 0.005000\n",
      "Epoch [49], Batch [100/196], Loss: 2.1608, LR: 0.005000\n",
      "Epoch [49], Batch [150/196], Loss: 1.2581, LR: 0.005000\n",
      "Train set: Epoch: 49, Average loss:1.7561, LR: 0.005000 Top-1 Accuracy: 73.3700%, Top-5 Accuracy: 91.8880%, Time consumed:167.21s\n",
      "Test set: Epoch: 49, Average loss:1.6395, Top-1 Accuracy: 73.6000%, Top-5 Accuracy: 92.6500%, Time consumed:15.23s\n",
      "\n",
      "새로운 최고 top-1 정확도: 73.60%, top-5 정확도: 92.65%\n",
      "Accuracy improved (73.02% --> 73.60%). Saving model ...\n"
     ]
    },
    {
     "name": "stderr",
     "output_type": "stream",
     "text": [
      " 16%|██████████████▎                                                                         | 49/300 [2:29:04<12:43:08, 182.42s/it]"
     ]
    },
    {
     "name": "stdout",
     "output_type": "stream",
     "text": [
      "Epoch [50], Batch [50/196], Loss: 1.2358, LR: 0.005000\n",
      "Epoch [50], Batch [100/196], Loss: 1.9497, LR: 0.005000\n",
      "Epoch [50], Batch [150/196], Loss: 1.2333, LR: 0.005000\n",
      "Train set: Epoch: 50, Average loss:1.6613, LR: 0.005000 Top-1 Accuracy: 74.8140%, Top-5 Accuracy: 92.3020%, Time consumed:166.82s\n",
      "Test set: Epoch: 50, Average loss:1.6419, Top-1 Accuracy: 73.8100%, Top-5 Accuracy: 92.5300%, Time consumed:16.04s\n",
      "\n",
      "새로운 최고 top-1 정확도: 73.81%, top-5 정확도: 92.53%\n",
      "Accuracy improved (73.60% --> 73.81%). Saving model ...\n"
     ]
    },
    {
     "name": "stderr",
     "output_type": "stream",
     "text": [
      " 17%|██████████████▋                                                                         | 50/300 [2:32:07<12:41:01, 182.65s/it]"
     ]
    },
    {
     "name": "stdout",
     "output_type": "stream",
     "text": [
      "Epoch [51], Batch [50/196], Loss: 1.2105, LR: 0.005000\n",
      "Epoch [51], Batch [100/196], Loss: 1.9314, LR: 0.005000\n",
      "Epoch [51], Batch [150/196], Loss: 1.2554, LR: 0.005000\n",
      "Train set: Epoch: 51, Average loss:1.7436, LR: 0.005000 Top-1 Accuracy: 72.9740%, Top-5 Accuracy: 91.2560%, Time consumed:165.79s\n",
      "Test set: Epoch: 51, Average loss:1.6292, Top-1 Accuracy: 74.1600%, Top-5 Accuracy: 92.9500%, Time consumed:15.63s\n",
      "\n",
      "새로운 최고 top-1 정확도: 74.16%, top-5 정확도: 92.95%\n",
      "새로운 최고 top-5 정확도: 92.95%\n",
      "Accuracy improved (73.81% --> 74.16%). Saving model ...\n"
     ]
    },
    {
     "name": "stderr",
     "output_type": "stream",
     "text": [
      " 17%|██████████████▉                                                                         | 51/300 [2:35:09<12:36:46, 182.36s/it]"
     ]
    },
    {
     "name": "stdout",
     "output_type": "stream",
     "text": [
      "Epoch [52], Batch [50/196], Loss: 1.3391, LR: 0.005000\n",
      "Epoch [52], Batch [100/196], Loss: 2.4401, LR: 0.005000\n",
      "Epoch [52], Batch [150/196], Loss: 1.2234, LR: 0.005000\n",
      "Train set: Epoch: 52, Average loss:1.7848, LR: 0.005000 Top-1 Accuracy: 73.4560%, Top-5 Accuracy: 91.6480%, Time consumed:167.31s\n"
     ]
    },
    {
     "name": "stderr",
     "output_type": "stream",
     "text": [
      " 17%|███████████████▎                                                                        | 52/300 [2:38:11<12:33:37, 182.33s/it]"
     ]
    },
    {
     "name": "stdout",
     "output_type": "stream",
     "text": [
      "Test set: Epoch: 52, Average loss:1.6543, Top-1 Accuracy: 73.1300%, Top-5 Accuracy: 92.5800%, Time consumed:14.95s\n",
      "\n",
      "EarlyStopping 카운터: 1 / 30\n",
      "Epoch [53], Batch [50/196], Loss: 1.2535, LR: 0.005000\n",
      "Epoch [53], Batch [100/196], Loss: 1.2125, LR: 0.005000\n",
      "Epoch [53], Batch [150/196], Loss: 1.2318, LR: 0.005000\n",
      "Train set: Epoch: 53, Average loss:1.7291, LR: 0.005000 Top-1 Accuracy: 73.5440%, Top-5 Accuracy: 91.6080%, Time consumed:166.32s\n"
     ]
    },
    {
     "name": "stderr",
     "output_type": "stream",
     "text": [
      " 18%|███████████████▌                                                                        | 53/300 [2:41:12<12:29:25, 182.05s/it]"
     ]
    },
    {
     "name": "stdout",
     "output_type": "stream",
     "text": [
      "Test set: Epoch: 53, Average loss:1.6554, Top-1 Accuracy: 72.8000%, Top-5 Accuracy: 92.7700%, Time consumed:15.06s\n",
      "\n",
      "EarlyStopping 카운터: 2 / 30\n",
      "Epoch [54], Batch [50/196], Loss: 1.2367, LR: 0.005000\n",
      "Epoch [54], Batch [100/196], Loss: 1.2108, LR: 0.005000\n",
      "Epoch [54], Batch [150/196], Loss: 2.0533, LR: 0.005000\n",
      "Train set: Epoch: 54, Average loss:1.7418, LR: 0.005000 Top-1 Accuracy: 74.2360%, Top-5 Accuracy: 91.6220%, Time consumed:167.06s\n"
     ]
    },
    {
     "name": "stderr",
     "output_type": "stream",
     "text": [
      " 18%|███████████████▊                                                                        | 54/300 [2:44:14<12:26:17, 182.02s/it]"
     ]
    },
    {
     "name": "stdout",
     "output_type": "stream",
     "text": [
      "Test set: Epoch: 54, Average loss:1.6259, Top-1 Accuracy: 73.9600%, Top-5 Accuracy: 92.9900%, Time consumed:14.90s\n",
      "\n",
      "새로운 최고 top-5 정확도: 92.99%\n",
      "EarlyStopping 카운터: 3 / 30\n",
      "Epoch [55], Batch [50/196], Loss: 1.1988, LR: 0.005000\n",
      "Epoch [55], Batch [100/196], Loss: 1.2524, LR: 0.005000\n",
      "Epoch [55], Batch [150/196], Loss: 2.7696, LR: 0.005000\n",
      "Train set: Epoch: 55, Average loss:1.7298, LR: 0.005000 Top-1 Accuracy: 74.1160%, Top-5 Accuracy: 91.4900%, Time consumed:167.10s\n"
     ]
    },
    {
     "name": "stderr",
     "output_type": "stream",
     "text": [
      " 18%|████████████████▏                                                                       | 55/300 [2:47:16<12:23:16, 182.03s/it]"
     ]
    },
    {
     "name": "stdout",
     "output_type": "stream",
     "text": [
      "Test set: Epoch: 55, Average loss:1.6221, Top-1 Accuracy: 73.9400%, Top-5 Accuracy: 92.9900%, Time consumed:14.92s\n",
      "\n",
      "EarlyStopping 카운터: 4 / 30\n",
      "Epoch [56], Batch [50/196], Loss: 1.1929, LR: 0.002500\n",
      "Epoch [56], Batch [100/196], Loss: 1.2213, LR: 0.002500\n",
      "Epoch [56], Batch [150/196], Loss: 1.2802, LR: 0.002500\n",
      "Train set: Epoch: 56, Average loss:1.7119, LR: 0.002500 Top-1 Accuracy: 75.4080%, Top-5 Accuracy: 92.1600%, Time consumed:166.99s\n",
      "Test set: Epoch: 56, Average loss:1.6057, Top-1 Accuracy: 74.4300%, Top-5 Accuracy: 93.2200%, Time consumed:14.91s\n",
      "\n",
      "새로운 최고 top-1 정확도: 74.43%, top-5 정확도: 93.22%\n",
      "새로운 최고 top-5 정확도: 93.22%\n",
      "Accuracy improved (74.16% --> 74.43%). Saving model ...\n"
     ]
    },
    {
     "name": "stderr",
     "output_type": "stream",
     "text": [
      " 19%|████████████████▍                                                                       | 56/300 [2:50:18<12:20:21, 182.06s/it]"
     ]
    },
    {
     "name": "stdout",
     "output_type": "stream",
     "text": [
      "Epoch [57], Batch [50/196], Loss: 2.3963, LR: 0.002500\n",
      "Epoch [57], Batch [100/196], Loss: 1.1671, LR: 0.002500\n",
      "Epoch [57], Batch [150/196], Loss: 1.2044, LR: 0.002500\n",
      "Train set: Epoch: 57, Average loss:1.6849, LR: 0.002500 Top-1 Accuracy: 75.4000%, Top-5 Accuracy: 92.2160%, Time consumed:166.29s\n",
      "Test set: Epoch: 57, Average loss:1.5972, Top-1 Accuracy: 74.9200%, Top-5 Accuracy: 93.4200%, Time consumed:14.51s\n",
      "\n",
      "새로운 최고 top-1 정확도: 74.92%, top-5 정확도: 93.42%\n",
      "새로운 최고 top-5 정확도: 93.42%\n",
      "Accuracy improved (74.43% --> 74.92%). Saving model ...\n"
     ]
    },
    {
     "name": "stderr",
     "output_type": "stream",
     "text": [
      " 19%|████████████████▋                                                                       | 57/300 [2:53:19<12:16:04, 181.75s/it]"
     ]
    },
    {
     "name": "stdout",
     "output_type": "stream",
     "text": [
      "Epoch [58], Batch [50/196], Loss: 2.2413, LR: 0.002500\n",
      "Epoch [58], Batch [100/196], Loss: 1.1504, LR: 0.002500\n",
      "Epoch [58], Batch [150/196], Loss: 1.2479, LR: 0.002500\n",
      "Train set: Epoch: 58, Average loss:1.6335, LR: 0.002500 Top-1 Accuracy: 77.5540%, Top-5 Accuracy: 92.9260%, Time consumed:167.93s\n",
      "Test set: Epoch: 58, Average loss:1.5877, Top-1 Accuracy: 75.3300%, Top-5 Accuracy: 93.3000%, Time consumed:14.72s\n",
      "\n",
      "새로운 최고 top-1 정확도: 75.33%, top-5 정확도: 93.30%\n",
      "Accuracy improved (74.92% --> 75.33%). Saving model ...\n"
     ]
    },
    {
     "name": "stderr",
     "output_type": "stream",
     "text": [
      " 19%|█████████████████                                                                       | 58/300 [2:56:22<12:14:25, 182.09s/it]"
     ]
    },
    {
     "name": "stdout",
     "output_type": "stream",
     "text": [
      "Epoch [59], Batch [50/196], Loss: 1.1414, LR: 0.002500\n",
      "Epoch [59], Batch [100/196], Loss: 1.5898, LR: 0.002500\n",
      "Epoch [59], Batch [150/196], Loss: 2.5292, LR: 0.002500\n",
      "Train set: Epoch: 59, Average loss:1.6791, LR: 0.002500 Top-1 Accuracy: 76.6180%, Top-5 Accuracy: 92.9640%, Time consumed:168.09s\n"
     ]
    },
    {
     "name": "stderr",
     "output_type": "stream",
     "text": [
      " 20%|█████████████████▎                                                                      | 59/300 [2:59:25<12:12:33, 182.38s/it]"
     ]
    },
    {
     "name": "stdout",
     "output_type": "stream",
     "text": [
      "Test set: Epoch: 59, Average loss:1.6015, Top-1 Accuracy: 74.5700%, Top-5 Accuracy: 93.2900%, Time consumed:14.96s\n",
      "\n",
      "EarlyStopping 카운터: 1 / 30\n",
      "Epoch [60], Batch [50/196], Loss: 1.1612, LR: 0.002500\n",
      "Epoch [60], Batch [100/196], Loss: 1.1715, LR: 0.002500\n",
      "Epoch [60], Batch [150/196], Loss: 2.5346, LR: 0.002500\n",
      "Train set: Epoch: 60, Average loss:1.6344, LR: 0.002500 Top-1 Accuracy: 78.6860%, Top-5 Accuracy: 93.8320%, Time consumed:166.44s\n"
     ]
    },
    {
     "name": "stderr",
     "output_type": "stream",
     "text": [
      " 20%|█████████████████▌                                                                      | 60/300 [3:02:26<12:07:53, 181.97s/it]"
     ]
    },
    {
     "name": "stdout",
     "output_type": "stream",
     "text": [
      "Test set: Epoch: 60, Average loss:1.6013, Top-1 Accuracy: 75.0900%, Top-5 Accuracy: 93.2000%, Time consumed:14.58s\n",
      "\n",
      "EarlyStopping 카운터: 2 / 30\n",
      "Epoch [61], Batch [50/196], Loss: 1.1441, LR: 0.002500\n",
      "Epoch [61], Batch [100/196], Loss: 2.5495, LR: 0.002500\n",
      "Epoch [61], Batch [150/196], Loss: 0.8701, LR: 0.002500\n",
      "Train set: Epoch: 61, Average loss:1.6750, LR: 0.002500 Top-1 Accuracy: 76.2480%, Top-5 Accuracy: 92.1800%, Time consumed:166.56s\n"
     ]
    },
    {
     "name": "stderr",
     "output_type": "stream",
     "text": [
      " 20%|█████████████████▉                                                                      | 61/300 [3:05:28<12:04:11, 181.81s/it]"
     ]
    },
    {
     "name": "stdout",
     "output_type": "stream",
     "text": [
      "Test set: Epoch: 61, Average loss:1.5997, Top-1 Accuracy: 74.8900%, Top-5 Accuracy: 93.0800%, Time consumed:14.86s\n",
      "\n",
      "EarlyStopping 카운터: 3 / 30\n",
      "Epoch [62], Batch [50/196], Loss: 1.2708, LR: 0.002500\n",
      "Epoch [62], Batch [100/196], Loss: 1.1652, LR: 0.002500\n",
      "Epoch [62], Batch [150/196], Loss: 0.6070, LR: 0.002500\n",
      "Train set: Epoch: 62, Average loss:1.5974, LR: 0.002500 Top-1 Accuracy: 77.0560%, Top-5 Accuracy: 92.4020%, Time consumed:167.00s\n"
     ]
    },
    {
     "name": "stderr",
     "output_type": "stream",
     "text": [
      " 21%|██████████████████▏                                                                     | 62/300 [3:08:30<12:01:08, 181.80s/it]"
     ]
    },
    {
     "name": "stdout",
     "output_type": "stream",
     "text": [
      "Test set: Epoch: 62, Average loss:1.5879, Top-1 Accuracy: 75.1000%, Top-5 Accuracy: 93.4100%, Time consumed:14.78s\n",
      "\n",
      "EarlyStopping 카운터: 4 / 30\n",
      "Epoch [63], Batch [50/196], Loss: 1.1572, LR: 0.002500\n",
      "Epoch [63], Batch [100/196], Loss: 2.9457, LR: 0.002500\n",
      "Epoch [63], Batch [150/196], Loss: 1.1357, LR: 0.002500\n",
      "Train set: Epoch: 63, Average loss:1.7008, LR: 0.002500 Top-1 Accuracy: 75.0200%, Top-5 Accuracy: 91.6300%, Time consumed:166.94s\n"
     ]
    },
    {
     "name": "stderr",
     "output_type": "stream",
     "text": [
      " 21%|██████████████████▍                                                                     | 63/300 [3:11:31<11:58:11, 181.82s/it]"
     ]
    },
    {
     "name": "stdout",
     "output_type": "stream",
     "text": [
      "Test set: Epoch: 63, Average loss:1.5926, Top-1 Accuracy: 75.2300%, Top-5 Accuracy: 93.1600%, Time consumed:14.92s\n",
      "\n",
      "EarlyStopping 카운터: 5 / 30\n",
      "Epoch [64], Batch [50/196], Loss: 0.8087, LR: 0.002500\n",
      "Epoch [64], Batch [100/196], Loss: 1.5635, LR: 0.002500\n",
      "Epoch [64], Batch [150/196], Loss: 1.8908, LR: 0.002500\n",
      "Train set: Epoch: 64, Average loss:1.6805, LR: 0.002500 Top-1 Accuracy: 76.9880%, Top-5 Accuracy: 92.9660%, Time consumed:167.03s\n"
     ]
    },
    {
     "name": "stderr",
     "output_type": "stream",
     "text": [
      " 21%|██████████████████▊                                                                     | 64/300 [3:14:34<11:56:15, 182.10s/it]"
     ]
    },
    {
     "name": "stdout",
     "output_type": "stream",
     "text": [
      "Test set: Epoch: 64, Average loss:1.5930, Top-1 Accuracy: 75.1500%, Top-5 Accuracy: 93.3100%, Time consumed:15.71s\n",
      "\n",
      "EarlyStopping 카운터: 6 / 30\n",
      "Epoch [65], Batch [50/196], Loss: 1.1434, LR: 0.001250\n",
      "Epoch [65], Batch [100/196], Loss: 2.7356, LR: 0.001250\n",
      "Epoch [65], Batch [150/196], Loss: 2.2802, LR: 0.001250\n",
      "Train set: Epoch: 65, Average loss:1.6419, LR: 0.001250 Top-1 Accuracy: 77.5200%, Top-5 Accuracy: 92.7080%, Time consumed:166.67s\n",
      "Test set: Epoch: 65, Average loss:1.5890, Top-1 Accuracy: 75.4700%, Top-5 Accuracy: 93.1300%, Time consumed:15.13s\n",
      "\n",
      "새로운 최고 top-1 정확도: 75.47%, top-5 정확도: 93.13%\n",
      "Accuracy improved (75.33% --> 75.47%). Saving model ...\n"
     ]
    },
    {
     "name": "stderr",
     "output_type": "stream",
     "text": [
      " 22%|███████████████████                                                                     | 65/300 [3:17:36<11:53:13, 182.10s/it]"
     ]
    },
    {
     "name": "stdout",
     "output_type": "stream",
     "text": [
      "Epoch [66], Batch [50/196], Loss: 2.7136, LR: 0.001250\n",
      "Epoch [66], Batch [100/196], Loss: 2.4964, LR: 0.001250\n",
      "Epoch [66], Batch [150/196], Loss: 1.0917, LR: 0.001250\n",
      "Train set: Epoch: 66, Average loss:1.6250, LR: 0.001250 Top-1 Accuracy: 78.0980%, Top-5 Accuracy: 92.9100%, Time consumed:168.27s\n"
     ]
    },
    {
     "name": "stderr",
     "output_type": "stream",
     "text": [
      " 22%|███████████████████▎                                                                    | 66/300 [3:20:40<11:51:55, 182.54s/it]"
     ]
    },
    {
     "name": "stdout",
     "output_type": "stream",
     "text": [
      "Test set: Epoch: 66, Average loss:1.5865, Top-1 Accuracy: 75.1700%, Top-5 Accuracy: 93.2000%, Time consumed:15.30s\n",
      "\n",
      "EarlyStopping 카운터: 1 / 30\n",
      "Epoch [67], Batch [50/196], Loss: 3.1822, LR: 0.001250\n",
      "Epoch [67], Batch [100/196], Loss: 1.1076, LR: 0.001250\n",
      "Epoch [67], Batch [150/196], Loss: 2.4645, LR: 0.001250\n",
      "Train set: Epoch: 67, Average loss:1.7273, LR: 0.001250 Top-1 Accuracy: 75.4460%, Top-5 Accuracy: 92.0340%, Time consumed:171.54s\n"
     ]
    },
    {
     "name": "stderr",
     "output_type": "stream",
     "text": [
      " 22%|███████████████████▋                                                                    | 67/300 [3:23:46<11:52:58, 183.60s/it]"
     ]
    },
    {
     "name": "stdout",
     "output_type": "stream",
     "text": [
      "Test set: Epoch: 67, Average loss:1.5965, Top-1 Accuracy: 74.9300%, Top-5 Accuracy: 93.1200%, Time consumed:14.51s\n",
      "\n",
      "EarlyStopping 카운터: 2 / 30\n",
      "Epoch [68], Batch [50/196], Loss: 1.0929, LR: 0.001250\n",
      "Epoch [68], Batch [100/196], Loss: 2.1224, LR: 0.001250\n",
      "Epoch [68], Batch [150/196], Loss: 1.0946, LR: 0.001250\n",
      "Train set: Epoch: 68, Average loss:1.5958, LR: 0.001250 Top-1 Accuracy: 79.3500%, Top-5 Accuracy: 93.7120%, Time consumed:167.70s\n",
      "Test set: Epoch: 68, Average loss:1.5848, Top-1 Accuracy: 75.5700%, Top-5 Accuracy: 93.1800%, Time consumed:14.68s\n",
      "\n",
      "새로운 최고 top-1 정확도: 75.57%, top-5 정확도: 93.18%\n",
      "Accuracy improved (75.47% --> 75.57%). Saving model ...\n"
     ]
    },
    {
     "name": "stderr",
     "output_type": "stream",
     "text": [
      " 23%|███████████████████▉                                                                    | 68/300 [3:26:48<11:48:47, 183.31s/it]"
     ]
    },
    {
     "name": "stdout",
     "output_type": "stream",
     "text": [
      "Epoch [69], Batch [50/196], Loss: 2.0640, LR: 0.001250\n",
      "Epoch [69], Batch [100/196], Loss: 2.9097, LR: 0.001250\n",
      "Epoch [69], Batch [150/196], Loss: 1.1200, LR: 0.001250\n",
      "Train set: Epoch: 69, Average loss:1.6291, LR: 0.001250 Top-1 Accuracy: 77.2100%, Top-5 Accuracy: 92.4440%, Time consumed:166.41s\n"
     ]
    },
    {
     "name": "stderr",
     "output_type": "stream",
     "text": [
      " 23%|████████████████████▏                                                                   | 69/300 [3:29:50<11:43:52, 182.83s/it]"
     ]
    },
    {
     "name": "stdout",
     "output_type": "stream",
     "text": [
      "Test set: Epoch: 69, Average loss:1.5837, Top-1 Accuracy: 75.1700%, Top-5 Accuracy: 93.2400%, Time consumed:15.29s\n",
      "\n",
      "EarlyStopping 카운터: 1 / 30\n",
      "Epoch [70], Batch [50/196], Loss: 2.3212, LR: 0.001250\n",
      "Epoch [70], Batch [100/196], Loss: 1.8990, LR: 0.001250\n",
      "Epoch [70], Batch [150/196], Loss: 0.7433, LR: 0.001250\n",
      "Train set: Epoch: 70, Average loss:1.5843, LR: 0.001250 Top-1 Accuracy: 79.3700%, Top-5 Accuracy: 93.5640%, Time consumed:167.16s\n"
     ]
    },
    {
     "name": "stderr",
     "output_type": "stream",
     "text": [
      " 23%|████████████████████▌                                                                   | 70/300 [3:32:52<11:39:35, 182.50s/it]"
     ]
    },
    {
     "name": "stdout",
     "output_type": "stream",
     "text": [
      "Test set: Epoch: 70, Average loss:1.5865, Top-1 Accuracy: 75.5300%, Top-5 Accuracy: 93.0600%, Time consumed:14.59s\n",
      "\n",
      "EarlyStopping 카운터: 2 / 30\n",
      "Epoch [71], Batch [50/196], Loss: 2.0980, LR: 0.000625\n",
      "Epoch [71], Batch [100/196], Loss: 1.1013, LR: 0.000625\n",
      "Epoch [71], Batch [150/196], Loss: 2.6983, LR: 0.000625\n",
      "Train set: Epoch: 71, Average loss:1.6368, LR: 0.000625 Top-1 Accuracy: 78.3440%, Top-5 Accuracy: 93.1280%, Time consumed:169.00s\n",
      "Test set: Epoch: 71, Average loss:1.5738, Top-1 Accuracy: 75.7400%, Top-5 Accuracy: 93.5000%, Time consumed:14.87s\n",
      "\n",
      "새로운 최고 top-1 정확도: 75.74%, top-5 정확도: 93.50%\n",
      "새로운 최고 top-5 정확도: 93.50%\n",
      "Accuracy improved (75.57% --> 75.74%). Saving model ...\n"
     ]
    },
    {
     "name": "stderr",
     "output_type": "stream",
     "text": [
      " 24%|████████████████████▊                                                                   | 71/300 [3:35:56<11:38:24, 182.99s/it]"
     ]
    },
    {
     "name": "stdout",
     "output_type": "stream",
     "text": [
      "Epoch [72], Batch [50/196], Loss: 1.1003, LR: 0.000625\n",
      "Epoch [72], Batch [100/196], Loss: 1.0937, LR: 0.000625\n",
      "Epoch [72], Batch [150/196], Loss: 1.0493, LR: 0.000625\n",
      "Train set: Epoch: 72, Average loss:1.6227, LR: 0.000625 Top-1 Accuracy: 79.8580%, Top-5 Accuracy: 94.2880%, Time consumed:166.98s\n"
     ]
    },
    {
     "name": "stderr",
     "output_type": "stream",
     "text": [
      " 24%|█████████████████████                                                                   | 72/300 [3:38:58<11:34:16, 182.70s/it]"
     ]
    },
    {
     "name": "stdout",
     "output_type": "stream",
     "text": [
      "Test set: Epoch: 72, Average loss:1.6002, Top-1 Accuracy: 75.2800%, Top-5 Accuracy: 93.1000%, Time consumed:15.05s\n",
      "\n",
      "EarlyStopping 카운터: 1 / 30\n",
      "Epoch [73], Batch [50/196], Loss: 1.0942, LR: 0.000625\n",
      "Epoch [73], Batch [100/196], Loss: 2.4620, LR: 0.000625\n",
      "Epoch [73], Batch [150/196], Loss: 1.0811, LR: 0.000625\n",
      "Train set: Epoch: 73, Average loss:1.6096, LR: 0.000625 Top-1 Accuracy: 77.9900%, Top-5 Accuracy: 92.4520%, Time consumed:168.42s\n",
      "Test set: Epoch: 73, Average loss:1.5716, Top-1 Accuracy: 76.0100%, Top-5 Accuracy: 93.2900%, Time consumed:15.65s\n",
      "\n",
      "새로운 최고 top-1 정확도: 76.01%, top-5 정확도: 93.29%\n",
      "Accuracy improved (75.74% --> 76.01%). Saving model ...\n"
     ]
    },
    {
     "name": "stderr",
     "output_type": "stream",
     "text": [
      " 24%|█████████████████████▍                                                                  | 73/300 [3:42:02<11:33:01, 183.18s/it]"
     ]
    },
    {
     "name": "stdout",
     "output_type": "stream",
     "text": [
      "Epoch [74], Batch [50/196], Loss: 2.7832, LR: 0.000625\n",
      "Epoch [74], Batch [100/196], Loss: 1.0895, LR: 0.000625\n",
      "Epoch [74], Batch [150/196], Loss: 2.5962, LR: 0.000625\n",
      "Train set: Epoch: 74, Average loss:1.6483, LR: 0.000625 Top-1 Accuracy: 78.2880%, Top-5 Accuracy: 93.1480%, Time consumed:178.37s\n"
     ]
    },
    {
     "name": "stderr",
     "output_type": "stream",
     "text": [
      " 25%|█████████████████████▋                                                                  | 74/300 [3:45:16<11:41:12, 186.16s/it]"
     ]
    },
    {
     "name": "stdout",
     "output_type": "stream",
     "text": [
      "Test set: Epoch: 74, Average loss:1.5759, Top-1 Accuracy: 75.7200%, Top-5 Accuracy: 93.2200%, Time consumed:14.75s\n",
      "\n",
      "EarlyStopping 카운터: 1 / 30\n",
      "Epoch [75], Batch [50/196], Loss: 2.4323, LR: 0.000625\n",
      "Epoch [75], Batch [100/196], Loss: 1.0711, LR: 0.000625\n",
      "Epoch [75], Batch [150/196], Loss: 1.0856, LR: 0.000625\n",
      "Train set: Epoch: 75, Average loss:1.5986, LR: 0.000625 Top-1 Accuracy: 78.7040%, Top-5 Accuracy: 93.2020%, Time consumed:168.12s\n"
     ]
    },
    {
     "name": "stderr",
     "output_type": "stream",
     "text": [
      " 25%|██████████████████████                                                                  | 75/300 [3:48:19<11:34:41, 185.25s/it]"
     ]
    },
    {
     "name": "stdout",
     "output_type": "stream",
     "text": [
      "Test set: Epoch: 75, Average loss:1.5733, Top-1 Accuracy: 75.9700%, Top-5 Accuracy: 93.2600%, Time consumed:14.99s\n",
      "\n",
      "EarlyStopping 카운터: 2 / 30\n",
      "Epoch [76], Batch [50/196], Loss: 2.2434, LR: 0.000625\n",
      "Epoch [76], Batch [100/196], Loss: 1.1319, LR: 0.000625\n",
      "Epoch [76], Batch [150/196], Loss: 1.0934, LR: 0.000625\n",
      "Train set: Epoch: 76, Average loss:1.5901, LR: 0.000625 Top-1 Accuracy: 79.5800%, Top-5 Accuracy: 93.9200%, Time consumed:166.74s\n"
     ]
    },
    {
     "name": "stderr",
     "output_type": "stream",
     "text": [
      " 25%|██████████████████████▎                                                                 | 76/300 [3:51:21<11:28:07, 184.32s/it]"
     ]
    },
    {
     "name": "stdout",
     "output_type": "stream",
     "text": [
      "Test set: Epoch: 76, Average loss:1.5755, Top-1 Accuracy: 75.4900%, Top-5 Accuracy: 93.2400%, Time consumed:15.41s\n",
      "\n",
      "EarlyStopping 카운터: 3 / 30\n",
      "Epoch [77], Batch [50/196], Loss: 2.1751, LR: 0.000312\n",
      "Epoch [77], Batch [100/196], Loss: 2.7336, LR: 0.000312\n",
      "Epoch [77], Batch [150/196], Loss: 2.1436, LR: 0.000312\n",
      "Train set: Epoch: 77, Average loss:1.6547, LR: 0.000312 Top-1 Accuracy: 78.1380%, Top-5 Accuracy: 93.2000%, Time consumed:167.25s\n"
     ]
    },
    {
     "name": "stderr",
     "output_type": "stream",
     "text": [
      " 26%|██████████████████████▌                                                                 | 77/300 [3:54:23<11:22:33, 183.65s/it]"
     ]
    },
    {
     "name": "stdout",
     "output_type": "stream",
     "text": [
      "Test set: Epoch: 77, Average loss:1.5714, Top-1 Accuracy: 75.8400%, Top-5 Accuracy: 93.4800%, Time consumed:14.83s\n",
      "\n",
      "EarlyStopping 카운터: 4 / 30\n",
      "Epoch [78], Batch [50/196], Loss: 1.1044, LR: 0.000312\n",
      "Epoch [78], Batch [100/196], Loss: 0.6288, LR: 0.000312\n",
      "Epoch [78], Batch [150/196], Loss: 1.1192, LR: 0.000312\n",
      "Train set: Epoch: 78, Average loss:1.6068, LR: 0.000312 Top-1 Accuracy: 78.5100%, Top-5 Accuracy: 93.1500%, Time consumed:167.52s\n"
     ]
    },
    {
     "name": "stderr",
     "output_type": "stream",
     "text": [
      " 26%|██████████████████████▉                                                                 | 78/300 [3:57:25<11:18:16, 183.32s/it]"
     ]
    },
    {
     "name": "stdout",
     "output_type": "stream",
     "text": [
      "Test set: Epoch: 78, Average loss:1.5690, Top-1 Accuracy: 75.8500%, Top-5 Accuracy: 93.4000%, Time consumed:15.02s\n",
      "\n",
      "EarlyStopping 카운터: 5 / 30\n",
      "Epoch [79], Batch [50/196], Loss: 2.6720, LR: 0.000312\n",
      "Epoch [79], Batch [100/196], Loss: 1.0991, LR: 0.000312\n",
      "Epoch [79], Batch [150/196], Loss: 1.1366, LR: 0.000312\n",
      "Train set: Epoch: 79, Average loss:1.6262, LR: 0.000312 Top-1 Accuracy: 77.6260%, Top-5 Accuracy: 92.6740%, Time consumed:168.69s\n"
     ]
    },
    {
     "name": "stderr",
     "output_type": "stream",
     "text": [
      " 26%|███████████████████████▏                                                                | 79/300 [4:00:29<11:15:33, 183.41s/it]"
     ]
    },
    {
     "name": "stdout",
     "output_type": "stream",
     "text": [
      "Test set: Epoch: 79, Average loss:1.5752, Top-1 Accuracy: 75.8500%, Top-5 Accuracy: 93.2800%, Time consumed:14.93s\n",
      "\n",
      "EarlyStopping 카운터: 6 / 30\n",
      "Epoch [80], Batch [50/196], Loss: 2.6606, LR: 0.000312\n",
      "Epoch [80], Batch [100/196], Loss: 1.6243, LR: 0.000312\n",
      "Epoch [80], Batch [150/196], Loss: 1.1022, LR: 0.000312\n",
      "Train set: Epoch: 80, Average loss:1.5949, LR: 0.000312 Top-1 Accuracy: 78.6840%, Top-5 Accuracy: 93.0280%, Time consumed:166.75s\n"
     ]
    },
    {
     "name": "stderr",
     "output_type": "stream",
     "text": [
      " 27%|███████████████████████▍                                                                | 80/300 [4:03:31<11:10:22, 182.83s/it]"
     ]
    },
    {
     "name": "stdout",
     "output_type": "stream",
     "text": [
      "Test set: Epoch: 80, Average loss:1.5782, Top-1 Accuracy: 75.6700%, Top-5 Accuracy: 93.3500%, Time consumed:14.73s\n",
      "\n",
      "EarlyStopping 카운터: 7 / 30\n",
      "Epoch [81], Batch [50/196], Loss: 1.1005, LR: 0.000312\n",
      "Epoch [81], Batch [100/196], Loss: 1.0680, LR: 0.000312\n",
      "Epoch [81], Batch [150/196], Loss: 1.0928, LR: 0.000312\n",
      "Train set: Epoch: 81, Average loss:1.6240, LR: 0.000312 Top-1 Accuracy: 78.2260%, Top-5 Accuracy: 93.1500%, Time consumed:167.09s\n"
     ]
    },
    {
     "name": "stderr",
     "output_type": "stream",
     "text": [
      " 27%|███████████████████████▊                                                                | 81/300 [4:06:32<11:06:06, 182.49s/it]"
     ]
    },
    {
     "name": "stdout",
     "output_type": "stream",
     "text": [
      "Test set: Epoch: 81, Average loss:1.5716, Top-1 Accuracy: 75.9500%, Top-5 Accuracy: 93.3000%, Time consumed:14.61s\n",
      "\n",
      "EarlyStopping 카운터: 8 / 30\n",
      "Epoch [82], Batch [50/196], Loss: 2.3290, LR: 0.000312\n",
      "Epoch [82], Batch [100/196], Loss: 2.3945, LR: 0.000312\n",
      "Epoch [82], Batch [150/196], Loss: 1.0776, LR: 0.000312\n",
      "Train set: Epoch: 82, Average loss:1.6162, LR: 0.000312 Top-1 Accuracy: 79.1740%, Top-5 Accuracy: 93.5320%, Time consumed:167.43s\n"
     ]
    },
    {
     "name": "stderr",
     "output_type": "stream",
     "text": [
      " 27%|████████████████████████                                                                | 82/300 [4:09:34<11:02:25, 182.32s/it]"
     ]
    },
    {
     "name": "stdout",
     "output_type": "stream",
     "text": [
      "Test set: Epoch: 82, Average loss:1.5721, Top-1 Accuracy: 75.9700%, Top-5 Accuracy: 93.3700%, Time consumed:14.48s\n",
      "\n",
      "EarlyStopping 카운터: 9 / 30\n",
      "Epoch [83], Batch [50/196], Loss: 2.4087, LR: 0.000156\n",
      "Epoch [83], Batch [100/196], Loss: 1.0610, LR: 0.000156\n",
      "Epoch [83], Batch [150/196], Loss: 1.1006, LR: 0.000156\n",
      "Train set: Epoch: 83, Average loss:1.5144, LR: 0.000156 Top-1 Accuracy: 81.4620%, Top-5 Accuracy: 94.5840%, Time consumed:166.27s\n",
      "Test set: Epoch: 83, Average loss:1.5701, Top-1 Accuracy: 76.1300%, Top-5 Accuracy: 93.4800%, Time consumed:14.95s\n",
      "\n",
      "새로운 최고 top-1 정확도: 76.13%, top-5 정확도: 93.48%\n",
      "Accuracy improved (76.01% --> 76.13%). Saving model ...\n"
     ]
    },
    {
     "name": "stderr",
     "output_type": "stream",
     "text": [
      " 28%|████████████████████████▎                                                               | 83/300 [4:12:36<10:58:27, 182.06s/it]"
     ]
    },
    {
     "name": "stdout",
     "output_type": "stream",
     "text": [
      "Epoch [84], Batch [50/196], Loss: 1.0819, LR: 0.000156\n",
      "Epoch [84], Batch [100/196], Loss: 2.5836, LR: 0.000156\n",
      "Epoch [84], Batch [150/196], Loss: 1.0727, LR: 0.000156\n",
      "Train set: Epoch: 84, Average loss:1.6496, LR: 0.000156 Top-1 Accuracy: 78.6940%, Top-5 Accuracy: 93.5840%, Time consumed:166.71s\n",
      "Test set: Epoch: 84, Average loss:1.5697, Top-1 Accuracy: 76.1900%, Top-5 Accuracy: 93.4300%, Time consumed:14.72s\n",
      "\n",
      "새로운 최고 top-1 정확도: 76.19%, top-5 정확도: 93.43%\n",
      "Accuracy improved (76.13% --> 76.19%). Saving model ...\n"
     ]
    },
    {
     "name": "stderr",
     "output_type": "stream",
     "text": [
      " 28%|████████████████████████▋                                                               | 84/300 [4:15:37<10:55:01, 181.95s/it]"
     ]
    },
    {
     "name": "stdout",
     "output_type": "stream",
     "text": [
      "Epoch [85], Batch [50/196], Loss: 2.4785, LR: 0.000156\n",
      "Epoch [85], Batch [100/196], Loss: 1.1124, LR: 0.000156\n",
      "Epoch [85], Batch [150/196], Loss: 1.1116, LR: 0.000156\n",
      "Train set: Epoch: 85, Average loss:1.5720, LR: 0.000156 Top-1 Accuracy: 79.8500%, Top-5 Accuracy: 93.7960%, Time consumed:166.29s\n"
     ]
    },
    {
     "name": "stderr",
     "output_type": "stream",
     "text": [
      " 28%|████████████████████████▉                                                               | 85/300 [4:18:38<10:50:56, 181.66s/it]"
     ]
    },
    {
     "name": "stdout",
     "output_type": "stream",
     "text": [
      "Test set: Epoch: 85, Average loss:1.5677, Top-1 Accuracy: 76.1100%, Top-5 Accuracy: 93.3700%, Time consumed:14.68s\n",
      "\n",
      "EarlyStopping 카운터: 1 / 30\n",
      "Epoch [86], Batch [50/196], Loss: 1.0811, LR: 0.000156\n",
      "Epoch [86], Batch [100/196], Loss: 1.0800, LR: 0.000156\n",
      "Epoch [86], Batch [150/196], Loss: 1.0790, LR: 0.000156\n",
      "Train set: Epoch: 86, Average loss:1.5803, LR: 0.000156 Top-1 Accuracy: 80.0220%, Top-5 Accuracy: 93.7460%, Time consumed:166.94s\n"
     ]
    },
    {
     "name": "stderr",
     "output_type": "stream",
     "text": [
      " 29%|█████████████████████████▏                                                              | 86/300 [4:21:40<10:48:09, 181.73s/it]"
     ]
    },
    {
     "name": "stdout",
     "output_type": "stream",
     "text": [
      "Test set: Epoch: 86, Average loss:1.5808, Top-1 Accuracy: 75.6800%, Top-5 Accuracy: 93.2200%, Time consumed:14.95s\n",
      "\n",
      "EarlyStopping 카운터: 2 / 30\n",
      "Epoch [87], Batch [50/196], Loss: 2.5982, LR: 0.000156\n",
      "Epoch [87], Batch [100/196], Loss: 1.0902, LR: 0.000156\n",
      "Epoch [87], Batch [150/196], Loss: 2.5787, LR: 0.000156\n",
      "Train set: Epoch: 87, Average loss:1.6771, LR: 0.000156 Top-1 Accuracy: 77.1360%, Top-5 Accuracy: 92.7040%, Time consumed:167.43s\n"
     ]
    },
    {
     "name": "stderr",
     "output_type": "stream",
     "text": [
      " 29%|█████████████████████████▌                                                              | 87/300 [4:24:43<10:45:53, 181.94s/it]"
     ]
    },
    {
     "name": "stdout",
     "output_type": "stream",
     "text": [
      "Test set: Epoch: 87, Average loss:1.5728, Top-1 Accuracy: 75.9100%, Top-5 Accuracy: 93.3700%, Time consumed:15.01s\n",
      "\n",
      "EarlyStopping 카운터: 3 / 30\n",
      "Epoch [88], Batch [50/196], Loss: 0.5061, LR: 0.000156\n",
      "Epoch [88], Batch [100/196], Loss: 2.8307, LR: 0.000156\n",
      "Epoch [88], Batch [150/196], Loss: 1.6515, LR: 0.000156\n",
      "Train set: Epoch: 88, Average loss:1.6106, LR: 0.000156 Top-1 Accuracy: 79.0440%, Top-5 Accuracy: 93.2920%, Time consumed:166.85s\n"
     ]
    },
    {
     "name": "stderr",
     "output_type": "stream",
     "text": [
      " 29%|█████████████████████████▊                                                              | 88/300 [4:27:45<10:43:18, 182.07s/it]"
     ]
    },
    {
     "name": "stdout",
     "output_type": "stream",
     "text": [
      "Test set: Epoch: 88, Average loss:1.5695, Top-1 Accuracy: 76.1900%, Top-5 Accuracy: 93.4100%, Time consumed:15.51s\n",
      "\n",
      "EarlyStopping 카운터: 4 / 30\n",
      "Epoch [89], Batch [50/196], Loss: 2.5584, LR: 0.000156\n",
      "Epoch [89], Batch [100/196], Loss: 1.0799, LR: 0.000156\n",
      "Epoch [89], Batch [150/196], Loss: 1.1213, LR: 0.000156\n",
      "Train set: Epoch: 89, Average loss:1.5112, LR: 0.000156 Top-1 Accuracy: 81.2380%, Top-5 Accuracy: 94.3320%, Time consumed:167.62s\n",
      "Test set: Epoch: 89, Average loss:1.5680, Top-1 Accuracy: 76.2000%, Top-5 Accuracy: 93.3400%, Time consumed:14.84s\n",
      "\n",
      "새로운 최고 top-1 정확도: 76.20%, top-5 정확도: 93.34%\n",
      "Accuracy improved (76.19% --> 76.20%). Saving model ...\n"
     ]
    },
    {
     "name": "stderr",
     "output_type": "stream",
     "text": [
      " 30%|██████████████████████████                                                              | 89/300 [4:30:48<10:40:55, 182.26s/it]"
     ]
    },
    {
     "name": "stdout",
     "output_type": "stream",
     "text": [
      "Epoch [90], Batch [50/196], Loss: 1.0380, LR: 0.000078\n",
      "Epoch [90], Batch [100/196], Loss: 2.4847, LR: 0.000078\n",
      "Epoch [90], Batch [150/196], Loss: 1.7905, LR: 0.000078\n",
      "Train set: Epoch: 90, Average loss:1.5348, LR: 0.000078 Top-1 Accuracy: 79.9960%, Top-5 Accuracy: 93.6820%, Time consumed:167.03s\n"
     ]
    },
    {
     "name": "stderr",
     "output_type": "stream",
     "text": [
      " 30%|██████████████████████████▍                                                             | 90/300 [4:33:49<10:37:22, 182.11s/it]"
     ]
    },
    {
     "name": "stdout",
     "output_type": "stream",
     "text": [
      "Test set: Epoch: 90, Average loss:1.5744, Top-1 Accuracy: 75.7900%, Top-5 Accuracy: 93.3400%, Time consumed:14.72s\n",
      "\n",
      "EarlyStopping 카운터: 1 / 30\n",
      "Epoch [91], Batch [50/196], Loss: 2.0899, LR: 0.000078\n",
      "Epoch [91], Batch [100/196], Loss: 1.1065, LR: 0.000078\n",
      "Epoch [91], Batch [150/196], Loss: 1.3710, LR: 0.000078\n",
      "Train set: Epoch: 91, Average loss:1.6310, LR: 0.000078 Top-1 Accuracy: 77.2680%, Top-5 Accuracy: 92.1820%, Time consumed:166.45s\n",
      "Test set: Epoch: 91, Average loss:1.5668, Top-1 Accuracy: 76.3700%, Top-5 Accuracy: 93.4900%, Time consumed:14.80s\n",
      "\n",
      "새로운 최고 top-1 정확도: 76.37%, top-5 정확도: 93.49%\n",
      "Accuracy improved (76.20% --> 76.37%). Saving model ...\n"
     ]
    },
    {
     "name": "stderr",
     "output_type": "stream",
     "text": [
      " 30%|██████████████████████████▋                                                             | 91/300 [4:36:51<10:33:41, 181.92s/it]"
     ]
    },
    {
     "name": "stdout",
     "output_type": "stream",
     "text": [
      "Epoch [92], Batch [50/196], Loss: 0.7391, LR: 0.000078\n",
      "Epoch [92], Batch [100/196], Loss: 1.0476, LR: 0.000078\n",
      "Epoch [92], Batch [150/196], Loss: 1.0826, LR: 0.000078\n",
      "Train set: Epoch: 92, Average loss:1.5194, LR: 0.000078 Top-1 Accuracy: 80.9100%, Top-5 Accuracy: 93.8660%, Time consumed:167.80s\n"
     ]
    },
    {
     "name": "stderr",
     "output_type": "stream",
     "text": [
      " 31%|██████████████████████████▉                                                             | 92/300 [4:39:53<10:31:15, 182.10s/it]"
     ]
    },
    {
     "name": "stdout",
     "output_type": "stream",
     "text": [
      "Test set: Epoch: 92, Average loss:1.5765, Top-1 Accuracy: 75.7900%, Top-5 Accuracy: 93.4500%, Time consumed:14.70s\n",
      "\n",
      "EarlyStopping 카운터: 1 / 30\n",
      "Epoch [93], Batch [50/196], Loss: 1.0642, LR: 0.000078\n",
      "Epoch [93], Batch [100/196], Loss: 2.6328, LR: 0.000078\n",
      "Epoch [93], Batch [150/196], Loss: 1.0400, LR: 0.000078\n",
      "Train set: Epoch: 93, Average loss:1.5176, LR: 0.000078 Top-1 Accuracy: 82.2860%, Top-5 Accuracy: 94.8660%, Time consumed:166.93s\n"
     ]
    },
    {
     "name": "stderr",
     "output_type": "stream",
     "text": [
      " 31%|███████████████████████████▎                                                            | 93/300 [4:42:55<10:27:57, 182.02s/it]"
     ]
    },
    {
     "name": "stdout",
     "output_type": "stream",
     "text": [
      "Test set: Epoch: 93, Average loss:1.5927, Top-1 Accuracy: 75.4300%, Top-5 Accuracy: 93.1300%, Time consumed:14.89s\n",
      "\n",
      "EarlyStopping 카운터: 2 / 30\n",
      "Epoch [94], Batch [50/196], Loss: 1.1212, LR: 0.000078\n",
      "Epoch [94], Batch [100/196], Loss: 1.0848, LR: 0.000078\n",
      "Epoch [94], Batch [150/196], Loss: 1.0941, LR: 0.000078\n",
      "Train set: Epoch: 94, Average loss:1.5999, LR: 0.000078 Top-1 Accuracy: 79.2260%, Top-5 Accuracy: 93.6160%, Time consumed:171.10s\n"
     ]
    },
    {
     "name": "stderr",
     "output_type": "stream",
     "text": [
      " 31%|███████████████████████████▌                                                            | 94/300 [4:46:01<10:29:14, 183.28s/it]"
     ]
    },
    {
     "name": "stdout",
     "output_type": "stream",
     "text": [
      "Test set: Epoch: 94, Average loss:1.5809, Top-1 Accuracy: 75.6400%, Top-5 Accuracy: 93.3100%, Time consumed:15.11s\n",
      "\n",
      "EarlyStopping 카운터: 3 / 30\n",
      "Epoch [95], Batch [50/196], Loss: 1.9331, LR: 0.000078\n",
      "Epoch [95], Batch [100/196], Loss: 2.7116, LR: 0.000078\n",
      "Epoch [95], Batch [150/196], Loss: 2.4517, LR: 0.000078\n",
      "Train set: Epoch: 95, Average loss:1.5836, LR: 0.000078 Top-1 Accuracy: 80.1560%, Top-5 Accuracy: 94.2240%, Time consumed:165.71s\n"
     ]
    },
    {
     "name": "stderr",
     "output_type": "stream",
     "text": [
      " 32%|███████████████████████████▊                                                            | 95/300 [4:49:02<10:23:17, 182.43s/it]"
     ]
    },
    {
     "name": "stdout",
     "output_type": "stream",
     "text": [
      "Test set: Epoch: 95, Average loss:1.5697, Top-1 Accuracy: 76.0300%, Top-5 Accuracy: 93.4400%, Time consumed:14.73s\n",
      "\n",
      "EarlyStopping 카운터: 4 / 30\n",
      "Epoch [96], Batch [50/196], Loss: 1.0680, LR: 0.000039\n",
      "Epoch [96], Batch [100/196], Loss: 1.0398, LR: 0.000039\n",
      "Epoch [96], Batch [150/196], Loss: 1.0900, LR: 0.000039\n",
      "Train set: Epoch: 96, Average loss:1.4918, LR: 0.000039 Top-1 Accuracy: 81.7580%, Top-5 Accuracy: 94.6720%, Time consumed:167.82s\n"
     ]
    },
    {
     "name": "stderr",
     "output_type": "stream",
     "text": [
      " 32%|████████████████████████████▏                                                           | 96/300 [4:52:04<10:20:17, 182.44s/it]"
     ]
    },
    {
     "name": "stdout",
     "output_type": "stream",
     "text": [
      "Test set: Epoch: 96, Average loss:1.5721, Top-1 Accuracy: 75.9700%, Top-5 Accuracy: 93.3300%, Time consumed:14.63s\n",
      "\n",
      "EarlyStopping 카운터: 5 / 30\n",
      "Epoch [97], Batch [50/196], Loss: 1.0602, LR: 0.000039\n",
      "Epoch [97], Batch [100/196], Loss: 0.3677, LR: 0.000039\n",
      "Epoch [97], Batch [150/196], Loss: 2.6051, LR: 0.000039\n",
      "Train set: Epoch: 97, Average loss:1.5395, LR: 0.000039 Top-1 Accuracy: 81.4960%, Top-5 Accuracy: 94.6400%, Time consumed:167.33s\n"
     ]
    },
    {
     "name": "stderr",
     "output_type": "stream",
     "text": [
      " 32%|████████████████████████████▍                                                           | 97/300 [4:55:06<10:16:45, 182.29s/it]"
     ]
    },
    {
     "name": "stdout",
     "output_type": "stream",
     "text": [
      "Test set: Epoch: 97, Average loss:1.5702, Top-1 Accuracy: 76.0700%, Top-5 Accuracy: 93.3000%, Time consumed:14.63s\n",
      "\n",
      "EarlyStopping 카운터: 6 / 30\n",
      "Epoch [98], Batch [50/196], Loss: 1.7935, LR: 0.000039\n",
      "Epoch [98], Batch [100/196], Loss: 2.1705, LR: 0.000039\n",
      "Epoch [98], Batch [150/196], Loss: 2.7595, LR: 0.000039\n",
      "Train set: Epoch: 98, Average loss:1.5850, LR: 0.000039 Top-1 Accuracy: 79.7760%, Top-5 Accuracy: 93.5880%, Time consumed:167.93s\n"
     ]
    },
    {
     "name": "stderr",
     "output_type": "stream",
     "text": [
      " 33%|████████████████████████████▋                                                           | 98/300 [4:58:09<10:14:12, 182.44s/it]"
     ]
    },
    {
     "name": "stdout",
     "output_type": "stream",
     "text": [
      "Test set: Epoch: 98, Average loss:1.5699, Top-1 Accuracy: 76.0200%, Top-5 Accuracy: 93.5500%, Time consumed:14.85s\n",
      "\n",
      "새로운 최고 top-5 정확도: 93.55%\n",
      "EarlyStopping 카운터: 7 / 30\n",
      "Epoch [99], Batch [50/196], Loss: 1.0640, LR: 0.000039\n",
      "Epoch [99], Batch [100/196], Loss: 1.0741, LR: 0.000039\n",
      "Epoch [99], Batch [150/196], Loss: 2.6933, LR: 0.000039\n",
      "Train set: Epoch: 99, Average loss:1.5191, LR: 0.000039 Top-1 Accuracy: 81.8400%, Top-5 Accuracy: 94.6180%, Time consumed:166.68s\n"
     ]
    },
    {
     "name": "stderr",
     "output_type": "stream",
     "text": [
      " 33%|█████████████████████████████                                                           | 99/300 [5:01:11<10:10:22, 182.20s/it]"
     ]
    },
    {
     "name": "stdout",
     "output_type": "stream",
     "text": [
      "Test set: Epoch: 99, Average loss:1.5669, Top-1 Accuracy: 76.2500%, Top-5 Accuracy: 93.5600%, Time consumed:14.95s\n",
      "\n",
      "새로운 최고 top-5 정확도: 93.56%\n",
      "EarlyStopping 카운터: 8 / 30\n",
      "Epoch [100], Batch [50/196], Loss: 2.7037, LR: 0.000039\n",
      "Epoch [100], Batch [100/196], Loss: 1.6767, LR: 0.000039\n",
      "Epoch [100], Batch [150/196], Loss: 2.4329, LR: 0.000039\n",
      "Train set: Epoch: 100, Average loss:1.5971, LR: 0.000039 Top-1 Accuracy: 78.7520%, Top-5 Accuracy: 93.3740%, Time consumed:167.97s\n"
     ]
    },
    {
     "name": "stderr",
     "output_type": "stream",
     "text": [
      " 33%|█████████████████████████████                                                          | 100/300 [5:04:13<10:07:48, 182.34s/it]"
     ]
    },
    {
     "name": "stdout",
     "output_type": "stream",
     "text": [
      "Test set: Epoch: 100, Average loss:1.5710, Top-1 Accuracy: 76.1000%, Top-5 Accuracy: 93.3500%, Time consumed:14.69s\n",
      "\n",
      "EarlyStopping 카운터: 9 / 30\n",
      "Epoch [101], Batch [50/196], Loss: 1.0925, LR: 0.000039\n",
      "Epoch [101], Batch [100/196], Loss: 1.0577, LR: 0.000039\n",
      "Epoch [101], Batch [150/196], Loss: 2.7661, LR: 0.000039\n",
      "Train set: Epoch: 101, Average loss:1.5746, LR: 0.000039 Top-1 Accuracy: 79.7460%, Top-5 Accuracy: 93.6520%, Time consumed:167.53s\n"
     ]
    },
    {
     "name": "stderr",
     "output_type": "stream",
     "text": [
      " 34%|█████████████████████████████▎                                                         | 101/300 [5:07:16<10:04:58, 182.40s/it]"
     ]
    },
    {
     "name": "stdout",
     "output_type": "stream",
     "text": [
      "Test set: Epoch: 101, Average loss:1.5764, Top-1 Accuracy: 75.8800%, Top-5 Accuracy: 93.3200%, Time consumed:15.01s\n",
      "\n",
      "EarlyStopping 카운터: 10 / 30\n",
      "Epoch [102], Batch [50/196], Loss: 1.0441, LR: 0.000020\n",
      "Epoch [102], Batch [100/196], Loss: 1.8885, LR: 0.000020\n",
      "Epoch [102], Batch [150/196], Loss: 1.0692, LR: 0.000020\n",
      "Train set: Epoch: 102, Average loss:1.6365, LR: 0.000020 Top-1 Accuracy: 78.1060%, Top-5 Accuracy: 93.0840%, Time consumed:166.86s\n"
     ]
    },
    {
     "name": "stderr",
     "output_type": "stream",
     "text": [
      " 34%|█████████████████████████████▌                                                         | 102/300 [5:10:18<10:01:13, 182.19s/it]"
     ]
    },
    {
     "name": "stdout",
     "output_type": "stream",
     "text": [
      "Test set: Epoch: 102, Average loss:1.5701, Top-1 Accuracy: 76.1000%, Top-5 Accuracy: 93.3700%, Time consumed:14.82s\n",
      "\n",
      "EarlyStopping 카운터: 11 / 30\n",
      "Epoch [103], Batch [50/196], Loss: 1.0787, LR: 0.000020\n",
      "Epoch [103], Batch [100/196], Loss: 1.0902, LR: 0.000020\n",
      "Epoch [103], Batch [150/196], Loss: 1.1021, LR: 0.000020\n",
      "Train set: Epoch: 103, Average loss:1.4711, LR: 0.000020 Top-1 Accuracy: 82.3820%, Top-5 Accuracy: 94.8360%, Time consumed:167.53s\n"
     ]
    },
    {
     "name": "stderr",
     "output_type": "stream",
     "text": [
      " 34%|██████████████████████████████▏                                                         | 103/300 [5:13:20<9:58:33, 182.30s/it]"
     ]
    },
    {
     "name": "stdout",
     "output_type": "stream",
     "text": [
      "Test set: Epoch: 103, Average loss:1.5683, Top-1 Accuracy: 76.2300%, Top-5 Accuracy: 93.4000%, Time consumed:15.04s\n",
      "\n",
      "EarlyStopping 카운터: 12 / 30\n",
      "Epoch [104], Batch [50/196], Loss: 1.0762, LR: 0.000020\n",
      "Epoch [104], Batch [100/196], Loss: 1.0906, LR: 0.000020\n",
      "Epoch [104], Batch [150/196], Loss: 1.1054, LR: 0.000020\n",
      "Train set: Epoch: 104, Average loss:1.6079, LR: 0.000020 Top-1 Accuracy: 78.0600%, Top-5 Accuracy: 92.4660%, Time consumed:166.64s\n"
     ]
    },
    {
     "name": "stderr",
     "output_type": "stream",
     "text": [
      " 35%|██████████████████████████████▌                                                         | 104/300 [5:16:22<9:54:40, 182.04s/it]"
     ]
    },
    {
     "name": "stdout",
     "output_type": "stream",
     "text": [
      "Test set: Epoch: 104, Average loss:1.5729, Top-1 Accuracy: 76.0400%, Top-5 Accuracy: 93.4400%, Time consumed:14.78s\n",
      "\n",
      "EarlyStopping 카운터: 13 / 30\n",
      "Epoch [105], Batch [50/196], Loss: 1.9516, LR: 0.000020\n",
      "Epoch [105], Batch [100/196], Loss: 1.0366, LR: 0.000020\n",
      "Epoch [105], Batch [150/196], Loss: 1.0738, LR: 0.000020\n",
      "Train set: Epoch: 105, Average loss:1.5435, LR: 0.000020 Top-1 Accuracy: 81.4420%, Top-5 Accuracy: 94.7240%, Time consumed:167.10s\n"
     ]
    },
    {
     "name": "stderr",
     "output_type": "stream",
     "text": [
      " 35%|██████████████████████████████▊                                                         | 105/300 [5:19:24<9:51:36, 182.03s/it]"
     ]
    },
    {
     "name": "stdout",
     "output_type": "stream",
     "text": [
      "Test set: Epoch: 105, Average loss:1.5806, Top-1 Accuracy: 75.6800%, Top-5 Accuracy: 93.1800%, Time consumed:14.91s\n",
      "\n",
      "EarlyStopping 카운터: 14 / 30\n",
      "Epoch [106], Batch [50/196], Loss: 1.0820, LR: 0.000020\n",
      "Epoch [106], Batch [100/196], Loss: 2.6559, LR: 0.000020\n",
      "Epoch [106], Batch [150/196], Loss: 0.6296, LR: 0.000020\n",
      "Train set: Epoch: 106, Average loss:1.5637, LR: 0.000020 Top-1 Accuracy: 79.4460%, Top-5 Accuracy: 93.5720%, Time consumed:166.60s\n"
     ]
    },
    {
     "name": "stderr",
     "output_type": "stream",
     "text": [
      " 35%|███████████████████████████████                                                         | 106/300 [5:22:25<9:47:42, 181.76s/it]"
     ]
    },
    {
     "name": "stdout",
     "output_type": "stream",
     "text": [
      "Test set: Epoch: 106, Average loss:1.5727, Top-1 Accuracy: 75.8400%, Top-5 Accuracy: 93.4500%, Time consumed:14.53s\n",
      "\n",
      "EarlyStopping 카운터: 15 / 30\n",
      "Epoch [107], Batch [50/196], Loss: 1.1037, LR: 0.000020\n",
      "Epoch [107], Batch [100/196], Loss: 2.4826, LR: 0.000020\n",
      "Epoch [107], Batch [150/196], Loss: 1.0442, LR: 0.000020\n",
      "Train set: Epoch: 107, Average loss:1.5357, LR: 0.000020 Top-1 Accuracy: 79.7660%, Top-5 Accuracy: 93.4620%, Time consumed:168.37s\n"
     ]
    },
    {
     "name": "stderr",
     "output_type": "stream",
     "text": [
      " 36%|███████████████████████████████▍                                                        | 107/300 [5:25:28<9:45:58, 182.17s/it]"
     ]
    },
    {
     "name": "stdout",
     "output_type": "stream",
     "text": [
      "Test set: Epoch: 107, Average loss:1.5781, Top-1 Accuracy: 75.7500%, Top-5 Accuracy: 93.2800%, Time consumed:14.73s\n",
      "\n",
      "EarlyStopping 카운터: 16 / 30\n",
      "Epoch [108], Batch [50/196], Loss: 1.0958, LR: 0.000010\n",
      "Epoch [108], Batch [100/196], Loss: 1.0921, LR: 0.000010\n",
      "Epoch [108], Batch [150/196], Loss: 1.0388, LR: 0.000010\n",
      "Train set: Epoch: 108, Average loss:1.5992, LR: 0.000010 Top-1 Accuracy: 79.3420%, Top-5 Accuracy: 93.5660%, Time consumed:166.71s\n"
     ]
    },
    {
     "name": "stderr",
     "output_type": "stream",
     "text": [
      " 36%|███████████████████████████████▋                                                        | 108/300 [5:28:29<9:42:03, 181.89s/it]"
     ]
    },
    {
     "name": "stdout",
     "output_type": "stream",
     "text": [
      "Test set: Epoch: 108, Average loss:1.5667, Top-1 Accuracy: 76.0500%, Top-5 Accuracy: 93.5100%, Time consumed:14.54s\n",
      "\n",
      "EarlyStopping 카운터: 17 / 30\n",
      "Epoch [109], Batch [50/196], Loss: 2.5724, LR: 0.000010\n",
      "Epoch [109], Batch [100/196], Loss: 1.4132, LR: 0.000010\n",
      "Epoch [109], Batch [150/196], Loss: 2.6916, LR: 0.000010\n",
      "Train set: Epoch: 109, Average loss:1.6779, LR: 0.000010 Top-1 Accuracy: 76.9720%, Top-5 Accuracy: 92.3080%, Time consumed:167.19s\n"
     ]
    },
    {
     "name": "stderr",
     "output_type": "stream",
     "text": [
      " 36%|███████████████████████████████▉                                                        | 109/300 [5:31:31<9:38:56, 181.87s/it]"
     ]
    },
    {
     "name": "stdout",
     "output_type": "stream",
     "text": [
      "Test set: Epoch: 109, Average loss:1.5764, Top-1 Accuracy: 75.8700%, Top-5 Accuracy: 93.3800%, Time consumed:14.60s\n",
      "\n",
      "EarlyStopping 카운터: 18 / 30\n",
      "Epoch [110], Batch [50/196], Loss: 1.0709, LR: 0.000010\n",
      "Epoch [110], Batch [100/196], Loss: 2.5765, LR: 0.000010\n",
      "Epoch [110], Batch [150/196], Loss: 1.0655, LR: 0.000010\n",
      "Train set: Epoch: 110, Average loss:1.5458, LR: 0.000010 Top-1 Accuracy: 80.8380%, Top-5 Accuracy: 94.1680%, Time consumed:166.16s\n"
     ]
    },
    {
     "name": "stderr",
     "output_type": "stream",
     "text": [
      " 37%|████████████████████████████████▎                                                       | 110/300 [5:34:32<9:35:02, 181.59s/it]"
     ]
    },
    {
     "name": "stdout",
     "output_type": "stream",
     "text": [
      "Test set: Epoch: 110, Average loss:1.5745, Top-1 Accuracy: 76.0500%, Top-5 Accuracy: 93.3200%, Time consumed:14.78s\n",
      "\n",
      "EarlyStopping 카운터: 19 / 30\n",
      "Epoch [111], Batch [50/196], Loss: 1.0619, LR: 0.000010\n",
      "Epoch [111], Batch [100/196], Loss: 1.0762, LR: 0.000010\n",
      "Epoch [111], Batch [150/196], Loss: 2.2702, LR: 0.000010\n",
      "Train set: Epoch: 111, Average loss:1.5301, LR: 0.000010 Top-1 Accuracy: 80.7780%, Top-5 Accuracy: 93.7820%, Time consumed:166.54s\n"
     ]
    },
    {
     "name": "stderr",
     "output_type": "stream",
     "text": [
      " 37%|████████████████████████████████▌                                                       | 111/300 [5:37:33<9:31:49, 181.53s/it]"
     ]
    },
    {
     "name": "stdout",
     "output_type": "stream",
     "text": [
      "Test set: Epoch: 111, Average loss:1.5704, Top-1 Accuracy: 76.1300%, Top-5 Accuracy: 93.4500%, Time consumed:14.85s\n",
      "\n",
      "EarlyStopping 카운터: 20 / 30\n",
      "Epoch [112], Batch [50/196], Loss: 1.0709, LR: 0.000010\n",
      "Epoch [112], Batch [100/196], Loss: 1.1253, LR: 0.000010\n",
      "Epoch [112], Batch [150/196], Loss: 1.0685, LR: 0.000010\n",
      "Train set: Epoch: 112, Average loss:1.5653, LR: 0.000010 Top-1 Accuracy: 79.7360%, Top-5 Accuracy: 93.2720%, Time consumed:167.76s\n"
     ]
    },
    {
     "name": "stderr",
     "output_type": "stream",
     "text": [
      " 37%|████████████████████████████████▊                                                       | 112/300 [5:40:36<9:30:15, 182.00s/it]"
     ]
    },
    {
     "name": "stdout",
     "output_type": "stream",
     "text": [
      "Test set: Epoch: 112, Average loss:1.5804, Top-1 Accuracy: 75.7100%, Top-5 Accuracy: 93.2200%, Time consumed:15.32s\n",
      "\n",
      "EarlyStopping 카운터: 21 / 30\n",
      "Epoch [113], Batch [50/196], Loss: 1.0699, LR: 0.000010\n",
      "Epoch [113], Batch [100/196], Loss: 2.7445, LR: 0.000010\n",
      "Epoch [113], Batch [150/196], Loss: 2.2316, LR: 0.000010\n",
      "Train set: Epoch: 113, Average loss:1.5457, LR: 0.000010 Top-1 Accuracy: 79.3400%, Top-5 Accuracy: 93.0100%, Time consumed:168.13s\n"
     ]
    },
    {
     "name": "stderr",
     "output_type": "stream",
     "text": [
      " 38%|█████████████████████████████████▏                                                      | 113/300 [5:43:39<9:28:05, 182.28s/it]"
     ]
    },
    {
     "name": "stdout",
     "output_type": "stream",
     "text": [
      "Test set: Epoch: 113, Average loss:1.5760, Top-1 Accuracy: 75.9100%, Top-5 Accuracy: 93.2900%, Time consumed:14.80s\n",
      "\n",
      "EarlyStopping 카운터: 22 / 30\n",
      "Epoch [114], Batch [50/196], Loss: 2.2806, LR: 0.000005\n",
      "Epoch [114], Batch [100/196], Loss: 1.0620, LR: 0.000005\n",
      "Epoch [114], Batch [150/196], Loss: 2.7535, LR: 0.000005\n",
      "Train set: Epoch: 114, Average loss:1.5866, LR: 0.000005 Top-1 Accuracy: 79.4220%, Top-5 Accuracy: 93.5100%, Time consumed:167.12s\n"
     ]
    },
    {
     "name": "stderr",
     "output_type": "stream",
     "text": [
      " 38%|█████████████████████████████████▍                                                      | 114/300 [5:46:41<9:24:41, 182.16s/it]"
     ]
    },
    {
     "name": "stdout",
     "output_type": "stream",
     "text": [
      "Test set: Epoch: 114, Average loss:1.5685, Top-1 Accuracy: 76.2100%, Top-5 Accuracy: 93.4300%, Time consumed:14.77s\n",
      "\n",
      "EarlyStopping 카운터: 23 / 30\n",
      "Epoch [115], Batch [50/196], Loss: 1.0820, LR: 0.000005\n",
      "Epoch [115], Batch [100/196], Loss: 0.7759, LR: 0.000005\n",
      "Epoch [115], Batch [150/196], Loss: 1.0887, LR: 0.000005\n",
      "Train set: Epoch: 115, Average loss:1.5312, LR: 0.000005 Top-1 Accuracy: 81.1240%, Top-5 Accuracy: 94.5640%, Time consumed:167.27s\n"
     ]
    },
    {
     "name": "stderr",
     "output_type": "stream",
     "text": [
      " 38%|█████████████████████████████████▋                                                      | 115/300 [5:49:43<9:21:30, 182.11s/it]"
     ]
    },
    {
     "name": "stdout",
     "output_type": "stream",
     "text": [
      "Test set: Epoch: 115, Average loss:1.5680, Top-1 Accuracy: 76.1000%, Top-5 Accuracy: 93.4400%, Time consumed:14.73s\n",
      "\n",
      "EarlyStopping 카운터: 24 / 30\n",
      "Epoch [116], Batch [50/196], Loss: 1.0531, LR: 0.000005\n",
      "Epoch [116], Batch [100/196], Loss: 1.5049, LR: 0.000005\n",
      "Epoch [116], Batch [150/196], Loss: 2.6196, LR: 0.000005\n",
      "Train set: Epoch: 116, Average loss:1.5730, LR: 0.000005 Top-1 Accuracy: 79.0080%, Top-5 Accuracy: 93.2900%, Time consumed:166.71s\n"
     ]
    },
    {
     "name": "stderr",
     "output_type": "stream",
     "text": [
      " 39%|██████████████████████████████████                                                      | 116/300 [5:52:45<9:17:46, 181.88s/it]"
     ]
    },
    {
     "name": "stdout",
     "output_type": "stream",
     "text": [
      "Test set: Epoch: 116, Average loss:1.5796, Top-1 Accuracy: 75.7500%, Top-5 Accuracy: 93.2900%, Time consumed:14.64s\n",
      "\n",
      "EarlyStopping 카운터: 25 / 30\n",
      "Epoch [117], Batch [50/196], Loss: 1.2844, LR: 0.000005\n",
      "Epoch [117], Batch [100/196], Loss: 2.3671, LR: 0.000005\n",
      "Epoch [117], Batch [150/196], Loss: 1.3018, LR: 0.000005\n",
      "Train set: Epoch: 117, Average loss:1.5692, LR: 0.000005 Top-1 Accuracy: 79.0380%, Top-5 Accuracy: 92.9440%, Time consumed:166.99s\n"
     ]
    },
    {
     "name": "stderr",
     "output_type": "stream",
     "text": [
      " 39%|██████████████████████████████████▎                                                     | 117/300 [5:55:46<9:14:33, 181.82s/it]"
     ]
    },
    {
     "name": "stdout",
     "output_type": "stream",
     "text": [
      "Test set: Epoch: 117, Average loss:1.5694, Top-1 Accuracy: 76.2400%, Top-5 Accuracy: 93.3500%, Time consumed:14.69s\n",
      "\n",
      "EarlyStopping 카운터: 26 / 30\n",
      "Epoch [118], Batch [50/196], Loss: 2.8145, LR: 0.000005\n",
      "Epoch [118], Batch [100/196], Loss: 1.0453, LR: 0.000005\n",
      "Epoch [118], Batch [150/196], Loss: 1.1060, LR: 0.000005\n",
      "Train set: Epoch: 118, Average loss:1.6047, LR: 0.000005 Top-1 Accuracy: 78.3700%, Top-5 Accuracy: 92.8300%, Time consumed:167.74s\n"
     ]
    },
    {
     "name": "stderr",
     "output_type": "stream",
     "text": [
      " 39%|██████████████████████████████████▌                                                     | 118/300 [5:58:49<9:12:02, 181.99s/it]"
     ]
    },
    {
     "name": "stdout",
     "output_type": "stream",
     "text": [
      "Test set: Epoch: 118, Average loss:1.5874, Top-1 Accuracy: 75.6200%, Top-5 Accuracy: 93.1000%, Time consumed:14.65s\n",
      "\n",
      "EarlyStopping 카운터: 27 / 30\n",
      "Epoch [119], Batch [50/196], Loss: 1.0638, LR: 0.000005\n",
      "Epoch [119], Batch [100/196], Loss: 2.7559, LR: 0.000005\n",
      "Epoch [119], Batch [150/196], Loss: 2.7600, LR: 0.000005\n",
      "Train set: Epoch: 119, Average loss:1.5811, LR: 0.000005 Top-1 Accuracy: 79.8520%, Top-5 Accuracy: 93.9060%, Time consumed:167.64s\n"
     ]
    },
    {
     "name": "stderr",
     "output_type": "stream",
     "text": [
      " 40%|██████████████████████████████████▉                                                     | 119/300 [6:01:51<9:09:22, 182.12s/it]"
     ]
    },
    {
     "name": "stdout",
     "output_type": "stream",
     "text": [
      "Test set: Epoch: 119, Average loss:1.5692, Top-1 Accuracy: 76.1400%, Top-5 Accuracy: 93.4000%, Time consumed:14.76s\n",
      "\n",
      "EarlyStopping 카운터: 28 / 30\n",
      "Epoch [120], Batch [50/196], Loss: 1.7007, LR: 0.000002\n",
      "Epoch [120], Batch [100/196], Loss: 1.0926, LR: 0.000002\n",
      "Epoch [120], Batch [150/196], Loss: 1.0542, LR: 0.000002\n",
      "Train set: Epoch: 120, Average loss:1.5268, LR: 0.000002 Top-1 Accuracy: 80.5900%, Top-5 Accuracy: 94.0940%, Time consumed:167.46s\n"
     ]
    },
    {
     "name": "stderr",
     "output_type": "stream",
     "text": [
      " 40%|███████████████████████████████████▏                                                    | 120/300 [6:04:53<9:06:34, 182.19s/it]"
     ]
    },
    {
     "name": "stdout",
     "output_type": "stream",
     "text": [
      "Test set: Epoch: 120, Average loss:1.5696, Top-1 Accuracy: 76.0300%, Top-5 Accuracy: 93.3800%, Time consumed:14.91s\n",
      "\n",
      "EarlyStopping 카운터: 29 / 30\n",
      "Epoch [121], Batch [50/196], Loss: 1.3293, LR: 0.000002\n",
      "Epoch [121], Batch [100/196], Loss: 2.5152, LR: 0.000002\n",
      "Epoch [121], Batch [150/196], Loss: 2.5850, LR: 0.000002\n",
      "Train set: Epoch: 121, Average loss:1.6107, LR: 0.000002 Top-1 Accuracy: 78.6760%, Top-5 Accuracy: 92.7900%, Time consumed:169.01s\n"
     ]
    },
    {
     "name": "stderr",
     "output_type": "stream",
     "text": [
      " 40%|███████████████████████████████████▏                                                    | 120/300 [6:07:57<9:11:56, 183.98s/it]"
     ]
    },
    {
     "name": "stdout",
     "output_type": "stream",
     "text": [
      "Test set: Epoch: 121, Average loss:1.5688, Top-1 Accuracy: 76.0300%, Top-5 Accuracy: 93.4500%, Time consumed:14.56s\n",
      "\n",
      "EarlyStopping 카운터: 30 / 30\n",
      "에폭 121에서 학습 조기 종료. 최고 성능 에폭: 91\n",
      "테스트 정확도 기준 최고 모델 로드 중...\n"
     ]
    },
    {
     "name": "stderr",
     "output_type": "stream",
     "text": [
      "\n"
     ]
    },
    {
     "name": "stdout",
     "output_type": "stream",
     "text": [
      "Test set: Epoch: 300, Average loss:1.5668, Top-1 Accuracy: 76.3700%, Top-5 Accuracy: 93.4900%, Time consumed:14.86s\n",
      "\n",
      "완료! 최고 테스트 top-1 정확도: 76.37%, 최고 테스트 top-5 정확도: 93.56%\n",
      "최종 테스트 top-1 정확도: 76.37%, 최종 테스트 top-5 정확도: 93.49%\n",
      "전체 학습 시간: 22092.40 초\n"
     ]
    },
    {
     "data": {
      "text/html": [],
      "text/plain": [
       "<IPython.core.display.HTML object>"
      ]
     },
     "metadata": {},
     "output_type": "display_data"
    },
    {
     "data": {
      "text/html": [
       "<br>    <style><br>        .wandb-row {<br>            display: flex;<br>            flex-direction: row;<br>            flex-wrap: wrap;<br>            justify-content: flex-start;<br>            width: 100%;<br>        }<br>        .wandb-col {<br>            display: flex;<br>            flex-direction: column;<br>            flex-basis: 100%;<br>            flex: 1;<br>            padding: 10px;<br>        }<br>    </style><br><div class=\"wandb-row\"><div class=\"wandb-col\"><h3>Run history:</h3><br/><table class=\"wandb\"><tr><td>epoch</td><td>▁▁▁▁▂▂▂▂▂▂▃▃▃▃▄▄▄▄▄▄▅▅▅▅▅▆▆▆▆▆▆▇▇▇▇▇████</td></tr><tr><td>learning_rate</td><td>████████████████▄▄▃▃▂▂▁▁▁▁▁▁▁▁▁▁▁▁▁▁▁▁▁▁</td></tr><tr><td>test_accuracy_top1</td><td>▁▂▃▅▅▅▆▆▆▆▆▇▇▇▇█████████████████████████</td></tr><tr><td>test_accuracy_top5</td><td>▁▅▆▆▆▇▇▇▇▇██████████████████████████████</td></tr><tr><td>test_loss</td><td>█▇▆▅▄▃▃▂▂▂▂▂▂▂▂▂▁▁▁▁▁▁▁▁▁▁▁▁▁▁▁▁▁▁▁▁▁▁▁▁</td></tr><tr><td>total_training_time</td><td>▁</td></tr><tr><td>train_accuracy_top1</td><td>▁▁▂▃▄▄▄▅▅▅▆▆▆▆▆▆▇▇▇▇▇▇██████████████████</td></tr><tr><td>train_accuracy_top5</td><td>▁▄▅▅▆▆▆▆▇▇██████████████████████████████</td></tr><tr><td>train_loss</td><td>█▇▅▅▄▃▃▃▃▃▃▃▂▂▂▂▂▂▂▁▁▁▁▁▁▁▁▁▁▁▁▁▁▁▁▁▁▁▁▁</td></tr></table><br/></div><div class=\"wandb-col\"><h3>Run summary:</h3><br/><table class=\"wandb\"><tr><td>best_epoch</td><td>91</td></tr><tr><td>best_test_accuracy_top1</td><td>76.37</td></tr><tr><td>best_test_accuracy_top5</td><td>93.56</td></tr><tr><td>early_stopped</td><td>True</td></tr><tr><td>early_stopped_epoch</td><td>121</td></tr><tr><td>epoch</td><td>121</td></tr><tr><td>final_test_accuracy_top1</td><td>76.37</td></tr><tr><td>final_test_accuracy_top5</td><td>93.49</td></tr><tr><td>learning_rate</td><td>0.0</td></tr><tr><td>test_accuracy_top1</td><td>76.03</td></tr><tr><td>test_accuracy_top5</td><td>93.45</td></tr><tr><td>test_loss</td><td>1.56882</td></tr><tr><td>total_training_time</td><td>22092.40349</td></tr><tr><td>train_accuracy_top1</td><td>78.676</td></tr><tr><td>train_accuracy_top5</td><td>92.79</td></tr><tr><td>train_loss</td><td>1.6107</td></tr></table><br/></div></div>"
      ],
      "text/plain": [
       "<IPython.core.display.HTML object>"
      ]
     },
     "metadata": {},
     "output_type": "display_data"
    },
    {
     "data": {
      "text/html": [
       " View run <strong style=\"color:#cdcd00\">resnet18_cfc,lr=0.01,factor=0.5,smoothing,clipping,SAM_SGD</strong> at: <a href='https://wandb.ai/sokjh1310-hanyang-university/PBL-2/runs/cpy9p3kf' target=\"_blank\">https://wandb.ai/sokjh1310-hanyang-university/PBL-2/runs/cpy9p3kf</a><br> View project at: <a href='https://wandb.ai/sokjh1310-hanyang-university/PBL-2' target=\"_blank\">https://wandb.ai/sokjh1310-hanyang-university/PBL-2</a><br>Synced 5 W&B file(s), 0 media file(s), 0 artifact file(s) and 1 other file(s)"
      ],
      "text/plain": [
       "<IPython.core.display.HTML object>"
      ]
     },
     "metadata": {},
     "output_type": "display_data"
    },
    {
     "data": {
      "text/html": [
       "Find logs at: <code>./wandb/run-20250422_021250-cpy9p3kf/logs</code>"
      ],
      "text/plain": [
       "<IPython.core.display.HTML object>"
      ]
     },
     "metadata": {},
     "output_type": "display_data"
    }
   ],
   "source": [
    "import torch\n",
    "import torch.nn as nn\n",
    "import torch.optim as optim\n",
    "from torch.utils.data import DataLoader\n",
    "import torchvision\n",
    "import torchvision.transforms as transforms\n",
    "import torchvision.transforms.v2 as transforms_v2  # CutMix를 위한 v2 transforms 추가\n",
    "import sys\n",
    "import os\n",
    "import time\n",
    "import random\n",
    "import numpy as np\n",
    "import wandb\n",
    "from tqdm import tqdm\n",
    "from tools.tool import AccuracyEarlyStopping, WarmUpLR, SAM  # 수정된 AccuracyEarlyStopping 클래스 임포트\n",
    "from models.resnet import resnet18\n",
    "\n",
    "wandb.login(key=\"ef091b9abcea3186341ddf8995d62bde62d7469e\")\n",
    "wandb.init(project=\"PBL-2\", name=\"resnet18_cfc,lr=0.01,factor=0.5,smoothing,clipping,SAM_SGD\")  \n",
    "torch.backends.cudnn.benchmark = True\n",
    "\n",
    "# WandB 설정\n",
    "config = {\n",
    "    \"model\": \"resnet18\",\n",
    "    \"batch_size\": 256,\n",
    "    \"num_epochs\": 300,\n",
    "    \"learning_rate\": 0.01,\n",
    "    \"optimizer\": \"SGD\",\n",
    "    \"seed\": 2025,\n",
    "    \"deterministic\": False,\n",
    "    \"early_stop_patience\": 30,  # early stopping patience - 이름 변경\n",
    "    \"max_epochs_wait\": float('inf'),  # 최대 30 에폭까지만 기다림\n",
    "    \"cutmix_alpha\": 1.0,  # CutMix 알파 파라미터 추가\n",
    "    \"cutmix_prob\": 0.5,   # CutMix 적용 확률 추가\n",
    "    \"crop_padding\": 4,    # RandomCrop 패딩 크기\n",
    "    \"crop_size\": 32,      # RandomCrop 크기 (CIFAR-100 이미지 크기는 32x32)\n",
    "    \"warmup_epochs\": 5,   # 웜업할 에폭 수 추가\n",
    "    \"grad_clip_norm\": 5.0,  # 그라디언트 클리핑 임계값 추가\n",
    "    \"momentum\": 0.9,      # 콤마 추가\n",
    "    \"weight_decay\": 5e-4, # 콤마 추가\n",
    "\n",
    "    # Main Scheduler Param - 명확한 구분을 위해 scheduler_ 접두사 추가\n",
    "    \"scheduler_factor\": 0.5,           # 학습률 감소 비율 (5배 감소)\n",
    "    \"scheduler_patience\": 5,           # 몇 에폭 동안 개선이 없을 때 감소시킬지\n",
    "    \"scheduler_verbose\": True,         # 학습률 변경 시 출력\n",
    "    \"scheduler_threshold\": 0.01,       # 개선으로 간주할 최소 변화량\n",
    "    \"scheduler_min_lr\": 1e-6\n",
    "}\n",
    "wandb.config.update(config)\n",
    "\n",
    "# CIFAR-100 데이터셋 로드 - 기본 train/test 분할 사용\n",
    "transform_train = transforms.Compose([\n",
    "    transforms.RandomCrop(config[\"crop_size\"], padding=config[\"crop_padding\"]),  # 패딩 후 랜덤 크롭\n",
    "    transforms.RandomHorizontalFlip(),  # 수평 뒤집기\n",
    "    transforms.ToTensor(),\n",
    "    transforms.Normalize((0.5071, 0.4867, 0.4408), (0.2675, 0.2565, 0.2761)),\n",
    "])\n",
    "\n",
    "transform_test = transforms.Compose([\n",
    "    transforms.ToTensor(),\n",
    "    transforms.Normalize((0.5071, 0.4867, 0.4408), (0.2675, 0.2565, 0.2761)),\n",
    "])\n",
    "\n",
    "trainset = torchvision.datasets.CIFAR100(\n",
    "    root='./data', train=True, download=True, transform=transform_train)\n",
    "\n",
    "testset = torchvision.datasets.CIFAR100(\n",
    "    root='./data', train=False, download=True, transform=transform_test)\n",
    "\n",
    "# DataLoader 생성\n",
    "trainloader = DataLoader(trainset, batch_size=config[\"batch_size\"], shuffle=True, num_workers=16,pin_memory=True)\n",
    "testloader = DataLoader(testset, batch_size=config[\"batch_size\"], shuffle=False, num_workers=16,pin_memory=True)\n",
    "\n",
    "print(f\"Train set size: {len(trainset)}\")\n",
    "print(f\"Test set size: {len(testset)}\")\n",
    "\n",
    "# CutMix 변환 정의\n",
    "cutmix = transforms_v2.CutMix(alpha=config[\"cutmix_alpha\"], num_classes=100)  # CIFAR-100은 100개 클래스\n",
    "\n",
    "def train(model, trainloader, criterion, optimizer, device, epoch, warmup_scheduler=None, warmup_epochs=5, grad_clip_norm=None):\n",
    "    \"\"\"\n",
    "    학습 함수 (CutMix 적용, 그라디언트 클리핑 추가)\n",
    "    \"\"\"\n",
    "    model.train()   # 모델을 학습 모드로 설정\n",
    "    start_time = time.time()  # 시간 측정 시작\n",
    "    running_loss = 0.0\n",
    "    correct_top1 = 0\n",
    "    correct_top5 = 0\n",
    "    total = 0\n",
    "    \n",
    "    for i, (inputs, labels) in enumerate(trainloader):\n",
    "        inputs, labels = inputs.to(device), labels.to(device)\n",
    "        \n",
    "        # CutMix 확률적 적용\n",
    "        if random.random() < config[\"cutmix_prob\"]:\n",
    "            inputs, labels = cutmix(inputs, labels)\n",
    "            # 이 경우 labels은 원-핫 인코딩 형태로 변환됨\n",
    "            use_cutmix = True\n",
    "        else:\n",
    "            use_cutmix = False\n",
    "        \n",
    "        optimizer.zero_grad()\n",
    "        outputs = model(inputs)\n",
    "        \n",
    "        # CutMix 적용 여부에 따라 손실 함수 선택\n",
    "        if use_cutmix:\n",
    "            # CutMix가 적용된 경우 (원-핫 인코딩된 레이블)\n",
    "            loss = torch.nn.functional.cross_entropy(outputs, labels)\n",
    "        else:\n",
    "            # 일반적인 경우 (정수 인덱스 레이블)\n",
    "            loss = criterion(outputs, labels)\n",
    "            \n",
    "        loss.backward()\n",
    "        \n",
    "        # 그라디언트 클리핑 적용 (첫 번째 스텝 전)\n",
    "        if grad_clip_norm is not None:\n",
    "            torch.nn.utils.clip_grad_norm_(model.parameters(), grad_clip_norm)\n",
    "        \n",
    "        optimizer.first_step(zero_grad=True)\n",
    "\n",
    "        # 두 번째 forward-backward 패스\n",
    "        if use_cutmix:\n",
    "            # 새로운 forward 패스 필요\n",
    "            outputs = model(inputs)\n",
    "            loss = torch.nn.functional.cross_entropy(outputs, labels)\n",
    "        else:\n",
    "            # 새로운 forward 패스 필요\n",
    "            outputs = model(inputs)\n",
    "            loss = criterion(outputs, labels)\n",
    "        \n",
    "        loss.backward()\n",
    "        \n",
    "        # 그라디언트 클리핑 적용 (두 번째 스텝 전)\n",
    "        if grad_clip_norm is not None:\n",
    "            torch.nn.utils.clip_grad_norm_(model.parameters(), grad_clip_norm)\n",
    "        \n",
    "        optimizer.second_step(zero_grad=True)\n",
    "\n",
    "        # 학습률 스케줄러 업데이트 - warmup 스케줄러만 여기서 업데이트\n",
    "        if epoch < warmup_epochs and warmup_scheduler is not None:\n",
    "            warmup_scheduler.step()\n",
    "        \n",
    "        running_loss += loss.item()\n",
    "\n",
    "        # 정확도 계산 - CutMix 적용 여부에 따라 다르게 처리\n",
    "        if use_cutmix:\n",
    "            # 원-핫 인코딩된 레이블에서 argmax를 사용해 가장 큰 값의 인덱스 추출\n",
    "            _, label_idx = labels.max(1)\n",
    "        else:\n",
    "            # 정수 인덱스 레이블 그대로 사용\n",
    "            label_idx = labels\n",
    "        \n",
    "    \n",
    "        # top-1 정확도 계산\n",
    "        _, predicted = outputs.max(1)\n",
    "        total += inputs.size(0)\n",
    "        correct_top1 += predicted.eq(label_idx).sum().item()\n",
    "        \n",
    "        # top-5 정확도 계산\n",
    "        _, top5_idx = outputs.topk(5, 1, largest=True, sorted=True)\n",
    "        correct_top5 += sum([1 for i in range(len(label_idx)) if label_idx[i] in top5_idx[i]])\n",
    "        \n",
    "        if (i + 1) % 50 == 0:  # 50 배치마다 출력\n",
    "            print(f'Epoch [{epoch+1}], Batch [{i+1}/{len(trainloader)}], Loss: {loss.item():.4f}, LR: {optimizer.param_groups[0][\"lr\"]:.6f}')\n",
    "    \n",
    "    epoch_loss = running_loss / len(trainloader)\n",
    "    accuracy_top1 = 100.0 * correct_top1 / total\n",
    "    accuracy_top5 = 100.0 * correct_top5 / total\n",
    "    \n",
    "    train_time = time.time() - start_time\n",
    "    \n",
    "    # 학습 세트에 대한 성능 출력\n",
    "    print(f'Train set: Epoch: {epoch+1}, Average loss:{epoch_loss:.4f}, LR: {optimizer.param_groups[0][\"lr\"]:.6f} '\n",
    "          f'Top-1 Accuracy: {accuracy_top1:.4f}%, Top-5 Accuracy: {accuracy_top5:.4f}%, Time consumed:{train_time:.2f}s')\n",
    "    \n",
    "    return epoch_loss, accuracy_top1, accuracy_top5\n",
    "\n",
    "def evaluate(model, dataloader, criterion, device, epoch, phase=\"test\"):\n",
    "    \"\"\"\n",
    "    평가 함수\n",
    "    \"\"\"\n",
    "    model.eval()  # 모델을 평가 모드로 설정\n",
    "    start_time = time.time()  # 시간 측정 시작\n",
    "    \n",
    "    eval_loss = 0.0\n",
    "    correct_top1 = 0\n",
    "    correct_top5 = 0\n",
    "    total = 0\n",
    "    \n",
    "    # 그래디언트 계산 비활성화\n",
    "    with torch.no_grad():\n",
    "        for inputs, labels in dataloader:\n",
    "            inputs, labels = inputs.to(device), labels.to(device)\n",
    "            \n",
    "            # 순전파\n",
    "            outputs = model(inputs)\n",
    "            \n",
    "            # 손실 계산\n",
    "            loss = criterion(outputs, labels)\n",
    "            eval_loss += loss.item()\n",
    "            \n",
    "            # top-1 정확도 계산\n",
    "            _, predicted = outputs.max(1)\n",
    "            total += labels.size(0)\n",
    "            correct_top1 += (predicted == labels).sum().item()\n",
    "            \n",
    "            # top-5 정확도 계산\n",
    "            _, top5_idx = outputs.topk(5, 1, largest=True, sorted=True)\n",
    "            correct_top5 += top5_idx.eq(labels.view(-1, 1).expand_as(top5_idx)).sum().item()\n",
    "    \n",
    "    # 평균 손실 및 정확도 계산\n",
    "    eval_loss = eval_loss / len(dataloader)\n",
    "    accuracy_top1 = 100.0 * correct_top1 / total\n",
    "    accuracy_top5 = 100.0 * correct_top5 / total\n",
    "    \n",
    "    # 평가 시간 계산\n",
    "    eval_time = time.time() - start_time\n",
    "    \n",
    "    # 테스트 세트에 대한 성능 출력\n",
    "    print(f'{phase.capitalize()} set: Epoch: {epoch+1}, Average loss:{eval_loss:.4f}, '\n",
    "          f'Top-1 Accuracy: {accuracy_top1:.4f}%, Top-5 Accuracy: {accuracy_top5:.4f}%, Time consumed:{eval_time:.2f}s')\n",
    "    print()\n",
    "    \n",
    "    return eval_loss, accuracy_top1, accuracy_top5\n",
    "\n",
    "# 메인 학습 루프\n",
    "def main_training_loop(model, trainloader, testloader, criterion, optimizer, device, num_epochs, patience, max_epochs_wait, warmup_scheduler=None, main_scheduler=None, warmup_epochs=5, grad_clip_norm=None):\n",
    "    \"\"\"\n",
    "    메인 학습 루프 (accuracy 기준 early stopping)\n",
    "    \"\"\"\n",
    "    # 정확도 기반 얼리 스토핑 사용\n",
    "    early_stopping = AccuracyEarlyStopping(patience=patience, verbose=True, path='checkpoint.pt', max_epochs=max_epochs_wait)\n",
    "    \n",
    "    best_test_acc_top1 = 0.0\n",
    "    best_test_acc_top5 = 0.0\n",
    "    \n",
    "    # 테스트 정확도 기록을 위한 리스트\n",
    "    test_acc_top1_history = []\n",
    "    \n",
    "    # tqdm을 사용한 진행 상황 표시\n",
    "    for epoch in tqdm(range(num_epochs)):\n",
    "        # 학습\n",
    "        train_loss, train_acc_top1, train_acc_top5 = train(\n",
    "            model, \n",
    "            trainloader, \n",
    "            criterion, \n",
    "            optimizer, \n",
    "            device, \n",
    "            epoch, \n",
    "            warmup_scheduler, \n",
    "            warmup_epochs,\n",
    "            grad_clip_norm\n",
    "        )\n",
    "        \n",
    "        # 테스트 데이터로 평가\n",
    "        test_loss, test_acc_top1, test_acc_top5 = evaluate(model, testloader, criterion, device, epoch, phase=\"test\")\n",
    "\n",
    "        # 웜업 이후 ReduceLROnPlateau 스케줄러 업데이트 \n",
    "        if epoch >= warmup_epochs and main_scheduler is not None:\n",
    "            main_scheduler.step(test_acc_top1)  # 테스트 정확도에 따라 학습률 업데이트       \n",
    "            \n",
    "        # 테스트 정확도 기록\n",
    "        test_acc_top1_history.append(test_acc_top1)\n",
    "        \n",
    "        # WandB에 로깅\n",
    "        wandb.log({\n",
    "            \"epoch\": epoch + 1,\n",
    "            \"learning_rate\": optimizer.param_groups[0]['lr'],\n",
    "            \"train_loss\": train_loss,\n",
    "            \"train_accuracy_top1\": train_acc_top1,\n",
    "            \"train_accuracy_top5\": train_acc_top5,\n",
    "            \"test_loss\": test_loss,\n",
    "            \"test_accuracy_top1\": test_acc_top1,\n",
    "            \"test_accuracy_top5\": test_acc_top5\n",
    "        })\n",
    "            \n",
    "        # 최고 정확도 모델 저장 (top-1 기준)\n",
    "        if test_acc_top1 > best_test_acc_top1:\n",
    "            best_test_acc_top1 = test_acc_top1\n",
    "            best_test_acc_top5_at_best_top1 = test_acc_top5\n",
    "            print(f'새로운 최고 top-1 정확도: {best_test_acc_top1:.2f}%, top-5 정확도: {best_test_acc_top5_at_best_top1:.2f}%')\n",
    "            # 모델 저장\n",
    "            model_path = f'best_model_{wandb.run.name}.pth'\n",
    "            torch.save(model.state_dict(), model_path)\n",
    "            \n",
    "            # WandB에 모델 아티팩트 저장\n",
    "            wandb.save(model_path)\n",
    "        \n",
    "        # top-5 accuracy 기록 업데이트\n",
    "        if test_acc_top5 > best_test_acc_top5:\n",
    "            best_test_acc_top5 = test_acc_top5\n",
    "            print(f'새로운 최고 top-5 정확도: {best_test_acc_top5:.2f}%')\n",
    "\n",
    "        # Early stopping 체크 (test_acc_top1 기준)\n",
    "        early_stopping(test_acc_top1, model, epoch)\n",
    "        if early_stopping.early_stop:\n",
    "            print(f\"에폭 {epoch+1}에서 학습 조기 종료. 최고 성능 에폭: {early_stopping.best_epoch+1}\")\n",
    "            break\n",
    "    \n",
    "    # 훈련 완료 후 최고 모델 로드\n",
    "    print(\"테스트 정확도 기준 최고 모델 로드 중...\")\n",
    "    model_path = f'best_model_{wandb.run.name}.pth'\n",
    "    model.load_state_dict(torch.load(model_path))\n",
    "\n",
    "    # 최종 테스트 세트 평가\n",
    "    final_test_loss, final_test_acc_top1, final_test_acc_top5 = evaluate(model, testloader, criterion, device, num_epochs-1, phase=\"test\")\n",
    "    \n",
    "    print(f'완료! 최고 테스트 top-1 정확도: {best_test_acc_top1:.2f}%, 최고 테스트 top-5 정확도: {best_test_acc_top5:.2f}%')\n",
    "    print(f'최종 테스트 top-1 정확도: {final_test_acc_top1:.2f}%, 최종 테스트 top-5 정확도: {final_test_acc_top5:.2f}%')\n",
    "    \n",
    "    # WandB에 최종 결과 기록\n",
    "    wandb.run.summary[\"best_test_accuracy_top1\"] = best_test_acc_top1\n",
    "    wandb.run.summary[\"best_test_accuracy_top5\"] = best_test_acc_top5\n",
    "    wandb.run.summary[\"final_test_accuracy_top1\"] = final_test_acc_top1\n",
    "    wandb.run.summary[\"final_test_accuracy_top5\"] = final_test_acc_top5\n",
    "\n",
    "    # Early stopping 정보 저장\n",
    "    if early_stopping.early_stop:\n",
    "        wandb.run.summary[\"early_stopped\"] = True\n",
    "        wandb.run.summary[\"early_stopped_epoch\"] = epoch+1\n",
    "        wandb.run.summary[\"best_epoch\"] = early_stopping.best_epoch+1\n",
    "    else:\n",
    "        wandb.run.summary[\"early_stopped\"] = False\n",
    "\n",
    "\n",
    "# 디바이스 설정\n",
    "device = torch.device(\"cuda\" if torch.cuda.is_available() else \"cpu\")\n",
    "print(f\"Using device: {device}\")\n",
    "\n",
    "# 모델 초기화\n",
    "# 또는 매개변수 커스터마이징\n",
    "model = resnet18().to(device)\n",
    "criterion = nn.CrossEntropyLoss(label_smoothing=0.1)  # 라벨 스무딩 사용\n",
    "base_optimizer = optim.SGD\n",
    "optimizer = SAM(model.parameters(), base_optimizer, lr=config[\"learning_rate\"], momentum=config[\"momentum\"], weight_decay=config[\"weight_decay\"])\n",
    "\n",
    "# WarmUpLR 스케줄러 초기화\n",
    "# 웜업할 총 iteration 수 계산 (웜업 에폭 × 배치 수)\n",
    "warmup_steps = config[\"warmup_epochs\"] * len(trainloader)\n",
    "warmup_scheduler = WarmUpLR(optimizer, total_iters=warmup_steps)\n",
    "\n",
    "# 웜업 이후 사용할 스케줄러 설정 \n",
    "main_scheduler = torch.optim.lr_scheduler.ReduceLROnPlateau(\n",
    "    optimizer, \n",
    "    mode='max',                      # 정확도를 모니터링하므로 'max' 모드 사용\n",
    "    factor=config[\"scheduler_factor\"],         # 학습률 감소 비율\n",
    "    patience=config[\"scheduler_patience\"],     # 몇 에폭 동안 개선이 없을 때 감소시킬지\n",
    "    verbose=config[\"scheduler_verbose\"],       # 학습률 변경 시 출력\n",
    "    threshold=config[\"scheduler_threshold\"],   # 개선으로 간주할 최소 변화량\n",
    "    min_lr=config[\"scheduler_min_lr\"]\n",
    ")\n",
    "\n",
    "# WandB에 모델 구조 기록\n",
    "wandb.watch(model, log=\"all\")\n",
    "\n",
    "# GPU 가속\n",
    "if torch.cuda.device_count() > 1:\n",
    "    print(f\"{torch.cuda.device_count()}개의 GPU를 사용합니다.\")\n",
    "    model = nn.DataParallel(model)\n",
    "\n",
    "# 훈련 시작 시간 기록\n",
    "start_time = time.time()\n",
    "\n",
    "# 메인 학습 루프 호출\n",
    "main_training_loop(\n",
    "    model=model,\n",
    "    trainloader=trainloader,\n",
    "    testloader=testloader,\n",
    "    criterion=criterion,\n",
    "    optimizer=optimizer,\n",
    "    device=device,\n",
    "    num_epochs=config[\"num_epochs\"],\n",
    "    patience=config[\"early_stop_patience\"],  # early stopping 파라미터 이름 변경\n",
    "    max_epochs_wait=config[\"max_epochs_wait\"],\n",
    "    warmup_scheduler=warmup_scheduler,\n",
    "    main_scheduler=main_scheduler,\n",
    "    warmup_epochs=config[\"warmup_epochs\"],\n",
    "    grad_clip_norm=config[\"grad_clip_norm\"]\n",
    ")\n",
    "\n",
    "# 훈련 종료 시간 기록 및 출력\n",
    "end_time = time.time()\n",
    "total_time = end_time - start_time\n",
    "wandb.log({\"total_training_time\": total_time})\n",
    "\n",
    "print(f\"전체 학습 시간: {total_time:.2f} 초\")\n",
    "\n",
    "# WandB 실행 종료\n",
    "wandb.finish()"
   ]
  },
  {
   "cell_type": "code",
   "execution_count": null,
   "id": "815d90ff-2ed0-46e9-81aa-685289e8c626",
   "metadata": {},
   "outputs": [],
   "source": []
  }
 ],
 "metadata": {
  "kernelspec": {
   "display_name": "Python 3 (ipykernel)",
   "language": "python",
   "name": "python3"
  },
  "language_info": {
   "codemirror_mode": {
    "name": "ipython",
    "version": 3
   },
   "file_extension": ".py",
   "mimetype": "text/x-python",
   "name": "python",
   "nbconvert_exporter": "python",
   "pygments_lexer": "ipython3",
   "version": "3.11.9"
  }
 },
 "nbformat": 4,
 "nbformat_minor": 5
}
