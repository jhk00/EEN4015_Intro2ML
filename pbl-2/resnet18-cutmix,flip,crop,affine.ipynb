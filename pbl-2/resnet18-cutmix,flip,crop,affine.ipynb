{
 "cells": [
  {
   "cell_type": "code",
   "execution_count": 1,
   "id": "516f9d5f-6361-4b03-98ee-e1ba4de86b92",
   "metadata": {},
   "outputs": [
    {
     "name": "stderr",
     "output_type": "stream",
     "text": [
      "\u001b[34m\u001b[1mwandb\u001b[0m: Using wandb-core as the SDK backend.  Please refer to https://wandb.me/wandb-core for more information.\n",
      "\u001b[34m\u001b[1mwandb\u001b[0m: \u001b[33mWARNING\u001b[0m If you're specifying your api key in code, ensure this code is not shared publicly.\n",
      "\u001b[34m\u001b[1mwandb\u001b[0m: \u001b[33mWARNING\u001b[0m Consider setting the WANDB_API_KEY environment variable, or running `wandb login` from the command line.\n",
      "\u001b[34m\u001b[1mwandb\u001b[0m: Appending key for api.wandb.ai to your netrc file: /home/guswls/.netrc\n",
      "\u001b[34m\u001b[1mwandb\u001b[0m: Currently logged in as: \u001b[33msokjh1310\u001b[0m (\u001b[33msokjh1310-hanyang-university\u001b[0m) to \u001b[32mhttps://api.wandb.ai\u001b[0m. Use \u001b[1m`wandb login --relogin`\u001b[0m to force relogin\n"
     ]
    },
    {
     "data": {
      "text/html": [
       "Tracking run with wandb version 0.19.9"
      ],
      "text/plain": [
       "<IPython.core.display.HTML object>"
      ]
     },
     "metadata": {},
     "output_type": "display_data"
    },
    {
     "data": {
      "text/html": [
       "Run data is saved locally in <code>/home/guswls/EEN4015_Intro2ML/pbl-2/wandb/run-20250413_073746-w55nwthl</code>"
      ],
      "text/plain": [
       "<IPython.core.display.HTML object>"
      ]
     },
     "metadata": {},
     "output_type": "display_data"
    },
    {
     "data": {
      "text/html": [
       "Syncing run <strong><a href='https://wandb.ai/sokjh1310-hanyang-university/PBL-2/runs/w55nwthl' target=\"_blank\">resnet18_cutmix,flip,crop,affine</a></strong> to <a href='https://wandb.ai/sokjh1310-hanyang-university/PBL-2' target=\"_blank\">Weights & Biases</a> (<a href='https://wandb.me/developer-guide' target=\"_blank\">docs</a>)<br>"
      ],
      "text/plain": [
       "<IPython.core.display.HTML object>"
      ]
     },
     "metadata": {},
     "output_type": "display_data"
    },
    {
     "data": {
      "text/html": [
       " View project at <a href='https://wandb.ai/sokjh1310-hanyang-university/PBL-2' target=\"_blank\">https://wandb.ai/sokjh1310-hanyang-university/PBL-2</a>"
      ],
      "text/plain": [
       "<IPython.core.display.HTML object>"
      ]
     },
     "metadata": {},
     "output_type": "display_data"
    },
    {
     "data": {
      "text/html": [
       " View run at <a href='https://wandb.ai/sokjh1310-hanyang-university/PBL-2/runs/w55nwthl' target=\"_blank\">https://wandb.ai/sokjh1310-hanyang-university/PBL-2/runs/w55nwthl</a>"
      ],
      "text/plain": [
       "<IPython.core.display.HTML object>"
      ]
     },
     "metadata": {},
     "output_type": "display_data"
    },
    {
     "name": "stdout",
     "output_type": "stream",
     "text": [
      "Files already downloaded and verified\n",
      "Files already downloaded and verified\n",
      "Train set size: 40000\n",
      "Validation set size: 5000\n",
      "Test set size: 5000\n",
      "Using device: cuda\n",
      "2개의 GPU를 사용합니다.\n"
     ]
    },
    {
     "name": "stderr",
     "output_type": "stream",
     "text": [
      "  0%|                                                                                                       | 0/100 [00:00<?, ?it/s]"
     ]
    },
    {
     "name": "stdout",
     "output_type": "stream",
     "text": [
      "Epoch [1], Batch [50/313], Loss: 4.2233\n",
      "Epoch [1], Batch [100/313], Loss: 3.9718\n",
      "Epoch [1], Batch [150/313], Loss: 4.2605\n",
      "Epoch [1], Batch [200/313], Loss: 4.3556\n",
      "Epoch [1], Batch [250/313], Loss: 4.2706\n",
      "Epoch [1], Batch [300/313], Loss: 3.6998\n",
      "Train set: Epoch: 1, Average loss:4.1698, LR: 0.001000 Top-1 Accuracy: 7.2025%, Top-5 Accuracy: 24.3825%, Time consumed:41.24s\n",
      "Val set: Epoch: 1, Average loss:3.7140, Top-1 Accuracy: 12.0600%, Top-5 Accuracy: 35.8400%, Time consumed:4.59s\n",
      "\n",
      "New best top-1 accuracy: 12.06%, top-5 accuracy: 35.84%\n",
      "New best top-5 accuracy: 35.84%\n",
      "Validation loss decreased (inf --> 3.714008). Saving model ...\n"
     ]
    },
    {
     "name": "stderr",
     "output_type": "stream",
     "text": [
      "  1%|▉                                                                                            | 1/100 [00:46<1:15:57, 46.04s/it]"
     ]
    },
    {
     "name": "stdout",
     "output_type": "stream",
     "text": [
      "Epoch [2], Batch [50/313], Loss: 3.7507\n",
      "Epoch [2], Batch [100/313], Loss: 4.2041\n",
      "Epoch [2], Batch [150/313], Loss: 4.1326\n",
      "Epoch [2], Batch [200/313], Loss: 3.4771\n",
      "Epoch [2], Batch [250/313], Loss: 3.9172\n",
      "Epoch [2], Batch [300/313], Loss: 3.9673\n",
      "Train set: Epoch: 2, Average loss:3.7451, LR: 0.001000 Top-1 Accuracy: 13.6975%, Top-5 Accuracy: 37.9550%, Time consumed:38.09s\n",
      "Val set: Epoch: 2, Average loss:3.3717, Top-1 Accuracy: 17.8600%, Top-5 Accuracy: 45.6400%, Time consumed:4.63s\n",
      "\n",
      "New best top-1 accuracy: 17.86%, top-5 accuracy: 45.64%\n",
      "New best top-5 accuracy: 45.64%\n",
      "Validation loss decreased (3.714008 --> 3.371661). Saving model ...\n"
     ]
    },
    {
     "name": "stderr",
     "output_type": "stream",
     "text": [
      "  2%|█▊                                                                                           | 2/100 [01:28<1:12:12, 44.21s/it]"
     ]
    },
    {
     "name": "stdout",
     "output_type": "stream",
     "text": [
      "Epoch [3], Batch [50/313], Loss: 4.3420\n",
      "Epoch [3], Batch [100/313], Loss: 3.2203\n",
      "Epoch [3], Batch [150/313], Loss: 3.1465\n",
      "Epoch [3], Batch [200/313], Loss: 3.0231\n",
      "Epoch [3], Batch [250/313], Loss: 3.3474\n",
      "Epoch [3], Batch [300/313], Loss: 2.9948\n",
      "Train set: Epoch: 3, Average loss:3.4982, LR: 0.001000 Top-1 Accuracy: 18.8650%, Top-5 Accuracy: 46.1250%, Time consumed:38.17s\n",
      "Val set: Epoch: 3, Average loss:2.9950, Top-1 Accuracy: 25.2200%, Top-5 Accuracy: 54.8400%, Time consumed:4.62s\n",
      "\n",
      "New best top-1 accuracy: 25.22%, top-5 accuracy: 54.84%\n",
      "New best top-5 accuracy: 54.84%\n",
      "Validation loss decreased (3.371661 --> 2.994985). Saving model ...\n"
     ]
    },
    {
     "name": "stderr",
     "output_type": "stream",
     "text": [
      "  3%|██▊                                                                                          | 3/100 [02:11<1:10:35, 43.67s/it]"
     ]
    },
    {
     "name": "stdout",
     "output_type": "stream",
     "text": [
      "Epoch [4], Batch [50/313], Loss: 3.9154\n",
      "Epoch [4], Batch [100/313], Loss: 3.0165\n",
      "Epoch [4], Batch [150/313], Loss: 2.8263\n",
      "Epoch [4], Batch [200/313], Loss: 2.8270\n",
      "Epoch [4], Batch [250/313], Loss: 3.5184\n",
      "Epoch [4], Batch [300/313], Loss: 2.7251\n",
      "Train set: Epoch: 4, Average loss:3.2786, LR: 0.001000 Top-1 Accuracy: 23.3325%, Top-5 Accuracy: 52.3600%, Time consumed:38.65s\n",
      "Val set: Epoch: 4, Average loss:2.8165, Top-1 Accuracy: 27.7400%, Top-5 Accuracy: 59.8800%, Time consumed:4.57s\n",
      "\n",
      "New best top-1 accuracy: 27.74%, top-5 accuracy: 59.88%\n",
      "New best top-5 accuracy: 59.88%\n",
      "Validation loss decreased (2.994985 --> 2.816514). Saving model ...\n"
     ]
    },
    {
     "name": "stderr",
     "output_type": "stream",
     "text": [
      "  4%|███▋                                                                                         | 4/100 [02:55<1:09:44, 43.58s/it]"
     ]
    },
    {
     "name": "stdout",
     "output_type": "stream",
     "text": [
      "Epoch [5], Batch [50/313], Loss: 2.5063\n",
      "Epoch [5], Batch [100/313], Loss: 2.4982\n",
      "Epoch [5], Batch [150/313], Loss: 2.4149\n",
      "Epoch [5], Batch [200/313], Loss: 2.6243\n",
      "Epoch [5], Batch [250/313], Loss: 4.2677\n",
      "Epoch [5], Batch [300/313], Loss: 2.5191\n",
      "Train set: Epoch: 5, Average loss:3.0255, LR: 0.001000 Top-1 Accuracy: 28.2350%, Top-5 Accuracy: 58.4100%, Time consumed:39.29s\n",
      "Val set: Epoch: 5, Average loss:2.5188, Top-1 Accuracy: 34.5800%, Top-5 Accuracy: 66.4600%, Time consumed:4.72s\n",
      "\n",
      "New best top-1 accuracy: 34.58%, top-5 accuracy: 66.46%\n",
      "New best top-5 accuracy: 66.46%\n",
      "Validation loss decreased (2.816514 --> 2.518839). Saving model ...\n"
     ]
    },
    {
     "name": "stderr",
     "output_type": "stream",
     "text": [
      "  5%|████▋                                                                                        | 5/100 [03:39<1:09:24, 43.84s/it]"
     ]
    },
    {
     "name": "stdout",
     "output_type": "stream",
     "text": [
      "Epoch [6], Batch [50/313], Loss: 3.9484\n",
      "Epoch [6], Batch [100/313], Loss: 2.3605\n",
      "Epoch [6], Batch [150/313], Loss: 2.5330\n",
      "Epoch [6], Batch [200/313], Loss: 2.3070\n",
      "Epoch [6], Batch [250/313], Loss: 3.4409\n",
      "Epoch [6], Batch [300/313], Loss: 2.2958\n",
      "Train set: Epoch: 6, Average loss:3.0141, LR: 0.001000 Top-1 Accuracy: 29.9475%, Top-5 Accuracy: 59.9950%, Time consumed:39.01s\n",
      "Val set: Epoch: 6, Average loss:2.5084, Top-1 Accuracy: 35.1800%, Top-5 Accuracy: 67.4000%, Time consumed:4.99s\n",
      "\n",
      "New best top-1 accuracy: 35.18%, top-5 accuracy: 67.40%\n",
      "New best top-5 accuracy: 67.40%\n",
      "Validation loss decreased (2.518839 --> 2.508410). Saving model ...\n"
     ]
    },
    {
     "name": "stderr",
     "output_type": "stream",
     "text": [
      "  6%|█████▌                                                                                       | 6/100 [04:23<1:08:53, 43.98s/it]"
     ]
    },
    {
     "name": "stdout",
     "output_type": "stream",
     "text": [
      "Epoch [7], Batch [50/313], Loss: 2.2772\n",
      "Epoch [7], Batch [100/313], Loss: 2.1727\n",
      "Epoch [7], Batch [150/313], Loss: 2.0824\n",
      "Epoch [7], Batch [200/313], Loss: 2.1737\n",
      "Epoch [7], Batch [250/313], Loss: 2.1040\n",
      "Epoch [7], Batch [300/313], Loss: 2.1567\n",
      "Train set: Epoch: 7, Average loss:2.7910, LR: 0.001000 Top-1 Accuracy: 34.8625%, Top-5 Accuracy: 65.8950%, Time consumed:38.42s\n",
      "Val set: Epoch: 7, Average loss:2.4035, Top-1 Accuracy: 37.8000%, Top-5 Accuracy: 69.2800%, Time consumed:5.52s\n",
      "\n",
      "New best top-1 accuracy: 37.80%, top-5 accuracy: 69.28%\n",
      "New best top-5 accuracy: 69.28%\n",
      "Validation loss decreased (2.508410 --> 2.403511). Saving model ...\n"
     ]
    },
    {
     "name": "stderr",
     "output_type": "stream",
     "text": [
      "  7%|██████▌                                                                                      | 7/100 [05:08<1:08:17, 44.06s/it]"
     ]
    },
    {
     "name": "stdout",
     "output_type": "stream",
     "text": [
      "Epoch [8], Batch [50/313], Loss: 2.1040\n",
      "Epoch [8], Batch [100/313], Loss: 1.9575\n",
      "Epoch [8], Batch [150/313], Loss: 2.1175\n",
      "Epoch [8], Batch [200/313], Loss: 2.2839\n",
      "Epoch [8], Batch [250/313], Loss: 1.9420\n",
      "Epoch [8], Batch [300/313], Loss: 3.3753\n",
      "Train set: Epoch: 8, Average loss:2.6516, LR: 0.001000 Top-1 Accuracy: 37.7700%, Top-5 Accuracy: 68.6075%, Time consumed:38.36s\n",
      "Val set: Epoch: 8, Average loss:2.1923, Top-1 Accuracy: 42.3800%, Top-5 Accuracy: 73.8000%, Time consumed:5.24s\n",
      "\n",
      "New best top-1 accuracy: 42.38%, top-5 accuracy: 73.80%\n",
      "New best top-5 accuracy: 73.80%\n",
      "Validation loss decreased (2.403511 --> 2.192276). Saving model ...\n"
     ]
    },
    {
     "name": "stderr",
     "output_type": "stream",
     "text": [
      "  8%|███████▍                                                                                     | 8/100 [05:52<1:07:27, 43.99s/it]"
     ]
    },
    {
     "name": "stdout",
     "output_type": "stream",
     "text": [
      "Epoch [9], Batch [50/313], Loss: 2.0452\n",
      "Epoch [9], Batch [100/313], Loss: 1.7493\n",
      "Epoch [9], Batch [150/313], Loss: 2.0359\n",
      "Epoch [9], Batch [200/313], Loss: 1.9504\n",
      "Epoch [9], Batch [250/313], Loss: 3.8706\n",
      "Epoch [9], Batch [300/313], Loss: 3.7631\n",
      "Train set: Epoch: 9, Average loss:2.5999, LR: 0.001000 Top-1 Accuracy: 39.9125%, Top-5 Accuracy: 69.9675%, Time consumed:39.31s\n",
      "Val set: Epoch: 9, Average loss:2.0944, Top-1 Accuracy: 44.7400%, Top-5 Accuracy: 75.9400%, Time consumed:4.82s\n",
      "\n",
      "New best top-1 accuracy: 44.74%, top-5 accuracy: 75.94%\n",
      "New best top-5 accuracy: 75.94%\n",
      "Validation loss decreased (2.192276 --> 2.094425). Saving model ...\n"
     ]
    },
    {
     "name": "stderr",
     "output_type": "stream",
     "text": [
      "  9%|████████▎                                                                                    | 9/100 [06:36<1:06:55, 44.12s/it]"
     ]
    },
    {
     "name": "stdout",
     "output_type": "stream",
     "text": [
      "Epoch [10], Batch [50/313], Loss: 1.7999\n",
      "Epoch [10], Batch [100/313], Loss: 1.7846\n",
      "Epoch [10], Batch [150/313], Loss: 3.6538\n",
      "Epoch [10], Batch [200/313], Loss: 1.7715\n",
      "Epoch [10], Batch [250/313], Loss: 1.7765\n",
      "Epoch [10], Batch [300/313], Loss: 1.7106\n",
      "Train set: Epoch: 10, Average loss:2.4700, LR: 0.001000 Top-1 Accuracy: 42.5425%, Top-5 Accuracy: 72.3900%, Time consumed:38.44s\n",
      "Val set: Epoch: 10, Average loss:1.9506, Top-1 Accuracy: 47.7600%, Top-5 Accuracy: 78.0400%, Time consumed:4.97s\n",
      "\n",
      "New best top-1 accuracy: 47.76%, top-5 accuracy: 78.04%\n",
      "New best top-5 accuracy: 78.04%\n",
      "Validation loss decreased (2.094425 --> 1.950606). Saving model ...\n"
     ]
    },
    {
     "name": "stderr",
     "output_type": "stream",
     "text": [
      " 10%|█████████▏                                                                                  | 10/100 [07:20<1:05:58, 43.98s/it]"
     ]
    },
    {
     "name": "stdout",
     "output_type": "stream",
     "text": [
      "Epoch [11], Batch [50/313], Loss: 1.6145\n",
      "Epoch [11], Batch [100/313], Loss: 3.5820\n",
      "Epoch [11], Batch [150/313], Loss: 2.5291\n",
      "Epoch [11], Batch [200/313], Loss: 1.7568\n",
      "Epoch [11], Batch [250/313], Loss: 1.9787\n",
      "Epoch [11], Batch [300/313], Loss: 1.8732\n",
      "Train set: Epoch: 11, Average loss:2.4970, LR: 0.001000 Top-1 Accuracy: 43.2825%, Top-5 Accuracy: 72.5850%, Time consumed:38.73s\n",
      "Val set: Epoch: 11, Average loss:1.8617, Top-1 Accuracy: 49.1600%, Top-5 Accuracy: 81.1400%, Time consumed:4.89s\n",
      "\n",
      "New best top-1 accuracy: 49.16%, top-5 accuracy: 81.14%\n",
      "New best top-5 accuracy: 81.14%\n",
      "Validation loss decreased (1.950606 --> 1.861654). Saving model ...\n"
     ]
    },
    {
     "name": "stderr",
     "output_type": "stream",
     "text": [
      " 11%|██████████                                                                                  | 11/100 [08:03<1:05:11, 43.95s/it]"
     ]
    },
    {
     "name": "stdout",
     "output_type": "stream",
     "text": [
      "Epoch [12], Batch [50/313], Loss: 1.5228\n",
      "Epoch [12], Batch [100/313], Loss: 1.5482\n",
      "Epoch [12], Batch [150/313], Loss: 3.7991\n",
      "Epoch [12], Batch [200/313], Loss: 2.2819\n",
      "Epoch [12], Batch [250/313], Loss: 1.7535\n",
      "Epoch [12], Batch [300/313], Loss: 1.6075\n",
      "Train set: Epoch: 12, Average loss:2.4173, LR: 0.001000 Top-1 Accuracy: 44.4875%, Top-5 Accuracy: 73.5075%, Time consumed:39.53s\n",
      "Val set: Epoch: 12, Average loss:1.8446, Top-1 Accuracy: 49.7800%, Top-5 Accuracy: 80.0000%, Time consumed:5.41s\n",
      "\n",
      "New best top-1 accuracy: 49.78%, top-5 accuracy: 80.00%\n",
      "Validation loss decreased (1.861654 --> 1.844566). Saving model ...\n"
     ]
    },
    {
     "name": "stderr",
     "output_type": "stream",
     "text": [
      " 12%|███████████                                                                                 | 12/100 [08:49<1:05:00, 44.32s/it]"
     ]
    },
    {
     "name": "stdout",
     "output_type": "stream",
     "text": [
      "Epoch [13], Batch [50/313], Loss: 3.5790\n",
      "Epoch [13], Batch [100/313], Loss: 1.7421\n",
      "Epoch [13], Batch [150/313], Loss: 3.6057\n",
      "Epoch [13], Batch [200/313], Loss: 1.3549\n",
      "Epoch [13], Batch [250/313], Loss: 1.6669\n",
      "Epoch [13], Batch [300/313], Loss: 3.6670\n",
      "Train set: Epoch: 13, Average loss:2.2883, LR: 0.001000 Top-1 Accuracy: 47.3575%, Top-5 Accuracy: 76.5150%, Time consumed:40.66s\n",
      "Val set: Epoch: 13, Average loss:1.8145, Top-1 Accuracy: 51.2200%, Top-5 Accuracy: 81.0600%, Time consumed:4.55s\n",
      "\n",
      "New best top-1 accuracy: 51.22%, top-5 accuracy: 81.06%\n",
      "Validation loss decreased (1.844566 --> 1.814504). Saving model ...\n"
     ]
    },
    {
     "name": "stderr",
     "output_type": "stream",
     "text": [
      " 13%|███████████▉                                                                                | 13/100 [09:34<1:04:46, 44.67s/it]"
     ]
    },
    {
     "name": "stdout",
     "output_type": "stream",
     "text": [
      "Epoch [14], Batch [50/313], Loss: 2.5314\n",
      "Epoch [14], Batch [100/313], Loss: 3.6068\n",
      "Epoch [14], Batch [150/313], Loss: 1.5936\n",
      "Epoch [14], Batch [200/313], Loss: 3.3619\n",
      "Epoch [14], Batch [250/313], Loss: 3.7129\n",
      "Epoch [14], Batch [300/313], Loss: 1.4531\n",
      "Train set: Epoch: 14, Average loss:2.3386, LR: 0.001000 Top-1 Accuracy: 47.1250%, Top-5 Accuracy: 75.7600%, Time consumed:38.99s\n",
      "Val set: Epoch: 14, Average loss:1.7157, Top-1 Accuracy: 54.1400%, Top-5 Accuracy: 82.3600%, Time consumed:4.58s\n",
      "\n",
      "New best top-1 accuracy: 54.14%, top-5 accuracy: 82.36%\n",
      "New best top-5 accuracy: 82.36%\n",
      "Validation loss decreased (1.814504 --> 1.715713). Saving model ...\n"
     ]
    },
    {
     "name": "stderr",
     "output_type": "stream",
     "text": [
      " 14%|████████████▉                                                                               | 14/100 [10:18<1:03:39, 44.41s/it]"
     ]
    },
    {
     "name": "stdout",
     "output_type": "stream",
     "text": [
      "Epoch [15], Batch [50/313], Loss: 3.2614\n",
      "Epoch [15], Batch [100/313], Loss: 1.3354\n",
      "Epoch [15], Batch [150/313], Loss: 1.4163\n",
      "Epoch [15], Batch [200/313], Loss: 2.2139\n",
      "Epoch [15], Batch [250/313], Loss: 1.6131\n",
      "Epoch [15], Batch [300/313], Loss: 1.6267\n",
      "Train set: Epoch: 15, Average loss:2.1267, LR: 0.001000 Top-1 Accuracy: 51.2475%, Top-5 Accuracy: 79.2575%, Time consumed:38.78s\n"
     ]
    },
    {
     "name": "stderr",
     "output_type": "stream",
     "text": [
      " 15%|█████████████▊                                                                              | 15/100 [11:02<1:02:34, 44.18s/it]"
     ]
    },
    {
     "name": "stdout",
     "output_type": "stream",
     "text": [
      "Val set: Epoch: 15, Average loss:1.7796, Top-1 Accuracy: 52.6800%, Top-5 Accuracy: 81.6000%, Time consumed:4.83s\n",
      "\n",
      "EarlyStopping 카운터: 1 / 10\n",
      "Epoch [16], Batch [50/313], Loss: 1.4235\n",
      "Epoch [16], Batch [100/313], Loss: 1.2279\n",
      "Epoch [16], Batch [150/313], Loss: 2.9388\n",
      "Epoch [16], Batch [200/313], Loss: 2.9248\n",
      "Epoch [16], Batch [250/313], Loss: 1.2922\n",
      "Epoch [16], Batch [300/313], Loss: 1.2300\n",
      "Train set: Epoch: 16, Average loss:2.1083, LR: 0.001000 Top-1 Accuracy: 52.0800%, Top-5 Accuracy: 79.8800%, Time consumed:40.22s\n",
      "Val set: Epoch: 16, Average loss:1.6973, Top-1 Accuracy: 54.4600%, Top-5 Accuracy: 82.1800%, Time consumed:4.73s\n",
      "\n",
      "New best top-1 accuracy: 54.46%, top-5 accuracy: 82.18%\n",
      "Validation loss decreased (1.715713 --> 1.697259). Saving model ...\n"
     ]
    },
    {
     "name": "stderr",
     "output_type": "stream",
     "text": [
      " 16%|██████████████▋                                                                             | 16/100 [11:47<1:02:18, 44.50s/it]"
     ]
    },
    {
     "name": "stdout",
     "output_type": "stream",
     "text": [
      "Epoch [17], Batch [50/313], Loss: 3.5806\n",
      "Epoch [17], Batch [100/313], Loss: 3.2599\n",
      "Epoch [17], Batch [150/313], Loss: 1.4745\n",
      "Epoch [17], Batch [200/313], Loss: 1.3972\n",
      "Epoch [17], Batch [250/313], Loss: 1.3163\n",
      "Epoch [17], Batch [300/313], Loss: 1.3883\n",
      "Train set: Epoch: 17, Average loss:2.0912, LR: 0.001000 Top-1 Accuracy: 53.2325%, Top-5 Accuracy: 80.6625%, Time consumed:39.54s\n",
      "Val set: Epoch: 17, Average loss:1.5925, Top-1 Accuracy: 56.9600%, Top-5 Accuracy: 84.8400%, Time consumed:4.92s\n",
      "\n",
      "New best top-1 accuracy: 56.96%, top-5 accuracy: 84.84%\n",
      "New best top-5 accuracy: 84.84%\n",
      "Validation loss decreased (1.697259 --> 1.592470). Saving model ...\n"
     ]
    },
    {
     "name": "stderr",
     "output_type": "stream",
     "text": [
      " 17%|███████████████▋                                                                            | 17/100 [12:32<1:01:39, 44.57s/it]"
     ]
    },
    {
     "name": "stdout",
     "output_type": "stream",
     "text": [
      "Epoch [18], Batch [50/313], Loss: 3.4772\n",
      "Epoch [18], Batch [100/313], Loss: 3.6795\n",
      "Epoch [18], Batch [150/313], Loss: 3.4160\n",
      "Epoch [18], Batch [200/313], Loss: 3.3028\n",
      "Epoch [18], Batch [250/313], Loss: 2.6888\n",
      "Epoch [18], Batch [300/313], Loss: 1.2915\n",
      "Train set: Epoch: 18, Average loss:2.1258, LR: 0.001000 Top-1 Accuracy: 53.2850%, Top-5 Accuracy: 80.3875%, Time consumed:38.15s\n"
     ]
    },
    {
     "name": "stderr",
     "output_type": "stream",
     "text": [
      " 18%|████████████████▌                                                                           | 18/100 [13:15<1:00:18, 44.13s/it]"
     ]
    },
    {
     "name": "stdout",
     "output_type": "stream",
     "text": [
      "Val set: Epoch: 18, Average loss:1.6099, Top-1 Accuracy: 56.0600%, Top-5 Accuracy: 84.3000%, Time consumed:4.95s\n",
      "\n",
      "EarlyStopping 카운터: 1 / 10\n",
      "Epoch [19], Batch [50/313], Loss: 1.9887\n",
      "Epoch [19], Batch [100/313], Loss: 1.3159\n",
      "Epoch [19], Batch [150/313], Loss: 1.3231\n",
      "Epoch [19], Batch [200/313], Loss: 1.3526\n",
      "Epoch [19], Batch [250/313], Loss: 3.3862\n",
      "Epoch [19], Batch [300/313], Loss: 1.0246\n",
      "Train set: Epoch: 19, Average loss:1.9358, LR: 0.001000 Top-1 Accuracy: 56.8400%, Top-5 Accuracy: 82.8275%, Time consumed:38.86s\n"
     ]
    },
    {
     "name": "stderr",
     "output_type": "stream",
     "text": [
      " 19%|█████████████████▊                                                                            | 19/100 [13:58<59:17, 43.92s/it]"
     ]
    },
    {
     "name": "stdout",
     "output_type": "stream",
     "text": [
      "Val set: Epoch: 19, Average loss:1.5933, Top-1 Accuracy: 56.8600%, Top-5 Accuracy: 84.9600%, Time consumed:4.56s\n",
      "\n",
      "New best top-5 accuracy: 84.96%\n",
      "EarlyStopping 카운터: 2 / 10\n",
      "Epoch [20], Batch [50/313], Loss: 0.9624\n",
      "Epoch [20], Batch [100/313], Loss: 1.3449\n",
      "Epoch [20], Batch [150/313], Loss: 3.2680\n",
      "Epoch [20], Batch [200/313], Loss: 3.2388\n",
      "Epoch [20], Batch [250/313], Loss: 3.4482\n",
      "Epoch [20], Batch [300/313], Loss: 1.3103\n",
      "Train set: Epoch: 20, Average loss:1.9707, LR: 0.001000 Top-1 Accuracy: 56.1000%, Top-5 Accuracy: 82.5275%, Time consumed:41.46s\n",
      "Val set: Epoch: 20, Average loss:1.5029, Top-1 Accuracy: 58.5800%, Top-5 Accuracy: 86.1200%, Time consumed:5.30s\n",
      "\n",
      "New best top-1 accuracy: 58.58%, top-5 accuracy: 86.12%\n",
      "New best top-5 accuracy: 86.12%\n",
      "Validation loss decreased (1.592470 --> 1.502948). Saving model ...\n"
     ]
    },
    {
     "name": "stderr",
     "output_type": "stream",
     "text": [
      " 20%|██████████████████▊                                                                           | 20/100 [14:45<59:47, 44.85s/it]"
     ]
    },
    {
     "name": "stdout",
     "output_type": "stream",
     "text": [
      "Epoch [21], Batch [50/313], Loss: 3.0820\n",
      "Epoch [21], Batch [100/313], Loss: 1.1957\n",
      "Epoch [21], Batch [150/313], Loss: 3.4773\n",
      "Epoch [21], Batch [200/313], Loss: 3.4196\n",
      "Epoch [21], Batch [250/313], Loss: 1.1318\n",
      "Epoch [21], Batch [300/313], Loss: 3.3412\n",
      "Train set: Epoch: 21, Average loss:1.8671, LR: 0.001000 Top-1 Accuracy: 57.5300%, Top-5 Accuracy: 83.4800%, Time consumed:39.89s\n"
     ]
    },
    {
     "name": "stderr",
     "output_type": "stream",
     "text": [
      " 21%|███████████████████▋                                                                          | 21/100 [15:30<59:09, 44.93s/it]"
     ]
    },
    {
     "name": "stdout",
     "output_type": "stream",
     "text": [
      "Val set: Epoch: 21, Average loss:1.5617, Top-1 Accuracy: 57.5400%, Top-5 Accuracy: 84.6200%, Time consumed:5.22s\n",
      "\n",
      "EarlyStopping 카운터: 1 / 10\n",
      "Epoch [22], Batch [50/313], Loss: 1.1929\n",
      "Epoch [22], Batch [100/313], Loss: 1.7164\n",
      "Epoch [22], Batch [150/313], Loss: 2.4551\n",
      "Epoch [22], Batch [200/313], Loss: 2.5555\n",
      "Epoch [22], Batch [250/313], Loss: 1.0053\n",
      "Epoch [22], Batch [300/313], Loss: 1.0205\n",
      "Train set: Epoch: 22, Average loss:1.8078, LR: 0.001000 Top-1 Accuracy: 59.6950%, Top-5 Accuracy: 84.9925%, Time consumed:42.53s\n",
      "Val set: Epoch: 22, Average loss:1.4681, Top-1 Accuracy: 60.6000%, Top-5 Accuracy: 86.9400%, Time consumed:4.77s\n",
      "\n",
      "New best top-1 accuracy: 60.60%, top-5 accuracy: 86.94%\n",
      "New best top-5 accuracy: 86.94%\n",
      "Validation loss decreased (1.502948 --> 1.468089). Saving model ...\n"
     ]
    },
    {
     "name": "stderr",
     "output_type": "stream",
     "text": [
      " 22%|████████████████████▋                                                                         | 22/100 [16:18<59:25, 45.71s/it]"
     ]
    },
    {
     "name": "stdout",
     "output_type": "stream",
     "text": [
      "Epoch [23], Batch [50/313], Loss: 1.1331\n",
      "Epoch [23], Batch [100/313], Loss: 1.0324\n",
      "Epoch [23], Batch [150/313], Loss: 1.0238\n",
      "Epoch [23], Batch [200/313], Loss: 3.4395\n",
      "Epoch [23], Batch [250/313], Loss: 2.9685\n",
      "Epoch [23], Batch [300/313], Loss: 1.1083\n",
      "Train set: Epoch: 23, Average loss:1.7710, LR: 0.001000 Top-1 Accuracy: 60.5000%, Top-5 Accuracy: 85.1175%, Time consumed:39.90s\n",
      "Val set: Epoch: 23, Average loss:1.4377, Top-1 Accuracy: 61.4200%, Top-5 Accuracy: 87.2000%, Time consumed:4.84s\n",
      "\n",
      "New best top-1 accuracy: 61.42%, top-5 accuracy: 87.20%\n",
      "New best top-5 accuracy: 87.20%\n",
      "Validation loss decreased (1.468089 --> 1.437714). Saving model ...\n"
     ]
    },
    {
     "name": "stderr",
     "output_type": "stream",
     "text": [
      " 23%|█████████████████████▌                                                                        | 23/100 [17:03<58:23, 45.49s/it]"
     ]
    },
    {
     "name": "stdout",
     "output_type": "stream",
     "text": [
      "Epoch [24], Batch [50/313], Loss: 1.0612\n",
      "Epoch [24], Batch [100/313], Loss: 1.0555\n",
      "Epoch [24], Batch [150/313], Loss: 2.7053\n",
      "Epoch [24], Batch [200/313], Loss: 0.9284\n",
      "Epoch [24], Batch [250/313], Loss: 0.7905\n",
      "Epoch [24], Batch [300/313], Loss: 0.9833\n",
      "Train set: Epoch: 24, Average loss:1.7670, LR: 0.001000 Top-1 Accuracy: 61.5850%, Top-5 Accuracy: 85.8250%, Time consumed:39.60s\n"
     ]
    },
    {
     "name": "stderr",
     "output_type": "stream",
     "text": [
      " 24%|██████████████████████▌                                                                       | 24/100 [17:48<57:26, 45.35s/it]"
     ]
    },
    {
     "name": "stdout",
     "output_type": "stream",
     "text": [
      "Val set: Epoch: 24, Average loss:1.5115, Top-1 Accuracy: 59.0600%, Top-5 Accuracy: 86.3000%, Time consumed:5.41s\n",
      "\n",
      "EarlyStopping 카운터: 1 / 10\n",
      "Epoch [25], Batch [50/313], Loss: 3.3751\n",
      "Epoch [25], Batch [100/313], Loss: 0.9484\n",
      "Epoch [25], Batch [150/313], Loss: 2.7567\n",
      "Epoch [25], Batch [200/313], Loss: 0.8158\n",
      "Epoch [25], Batch [250/313], Loss: 2.9108\n",
      "Epoch [25], Batch [300/313], Loss: 2.7226\n",
      "Train set: Epoch: 25, Average loss:1.8621, LR: 0.001000 Top-1 Accuracy: 60.8775%, Top-5 Accuracy: 85.2225%, Time consumed:41.03s\n",
      "Val set: Epoch: 25, Average loss:1.4086, Top-1 Accuracy: 62.1400%, Top-5 Accuracy: 87.5000%, Time consumed:5.11s\n",
      "\n",
      "New best top-1 accuracy: 62.14%, top-5 accuracy: 87.50%\n",
      "New best top-5 accuracy: 87.50%\n",
      "Validation loss decreased (1.437714 --> 1.408588). Saving model ...\n"
     ]
    },
    {
     "name": "stderr",
     "output_type": "stream",
     "text": [
      " 25%|███████████████████████▌                                                                      | 25/100 [18:34<57:04, 45.66s/it]"
     ]
    },
    {
     "name": "stdout",
     "output_type": "stream",
     "text": [
      "Epoch [26], Batch [50/313], Loss: 0.8780\n",
      "Epoch [26], Batch [100/313], Loss: 2.4627\n",
      "Epoch [26], Batch [150/313], Loss: 0.8824\n",
      "Epoch [26], Batch [200/313], Loss: 0.8224\n",
      "Epoch [26], Batch [250/313], Loss: 0.8970\n",
      "Epoch [26], Batch [300/313], Loss: 3.5170\n",
      "Train set: Epoch: 26, Average loss:1.7483, LR: 0.001000 Top-1 Accuracy: 62.3200%, Top-5 Accuracy: 85.8325%, Time consumed:39.92s\n",
      "Val set: Epoch: 26, Average loss:1.3961, Top-1 Accuracy: 62.8400%, Top-5 Accuracy: 87.7600%, Time consumed:4.87s\n",
      "\n",
      "New best top-1 accuracy: 62.84%, top-5 accuracy: 87.76%\n",
      "New best top-5 accuracy: 87.76%\n",
      "Validation loss decreased (1.408588 --> 1.396060). Saving model ...\n"
     ]
    },
    {
     "name": "stderr",
     "output_type": "stream",
     "text": [
      " 26%|████████████████████████▍                                                                     | 26/100 [19:19<56:04, 45.47s/it]"
     ]
    },
    {
     "name": "stdout",
     "output_type": "stream",
     "text": [
      "Epoch [27], Batch [50/313], Loss: 0.8620\n",
      "Epoch [27], Batch [100/313], Loss: 0.7389\n",
      "Epoch [27], Batch [150/313], Loss: 0.7419\n",
      "Epoch [27], Batch [200/313], Loss: 0.6592\n",
      "Epoch [27], Batch [250/313], Loss: 3.4921\n",
      "Epoch [27], Batch [300/313], Loss: 1.0793\n",
      "Train set: Epoch: 27, Average loss:1.6177, LR: 0.001000 Top-1 Accuracy: 65.1900%, Top-5 Accuracy: 87.9625%, Time consumed:38.99s\n"
     ]
    },
    {
     "name": "stderr",
     "output_type": "stream",
     "text": [
      " 27%|█████████████████████████▍                                                                    | 27/100 [20:03<54:40, 44.94s/it]"
     ]
    },
    {
     "name": "stdout",
     "output_type": "stream",
     "text": [
      "Val set: Epoch: 27, Average loss:1.4003, Top-1 Accuracy: 62.3800%, Top-5 Accuracy: 87.6000%, Time consumed:4.72s\n",
      "\n",
      "EarlyStopping 카운터: 1 / 10\n",
      "Epoch [28], Batch [50/313], Loss: 3.1882\n",
      "Epoch [28], Batch [100/313], Loss: 0.7931\n",
      "Epoch [28], Batch [150/313], Loss: 1.0551\n",
      "Epoch [28], Batch [200/313], Loss: 0.7044\n",
      "Epoch [28], Batch [250/313], Loss: 0.6654\n",
      "Epoch [28], Batch [300/313], Loss: 2.2777\n",
      "Train set: Epoch: 28, Average loss:1.5652, LR: 0.001000 Top-1 Accuracy: 66.7600%, Top-5 Accuracy: 88.7825%, Time consumed:40.04s\n"
     ]
    },
    {
     "name": "stderr",
     "output_type": "stream",
     "text": [
      " 28%|██████████████████████████▎                                                                   | 28/100 [20:48<53:51, 44.88s/it]"
     ]
    },
    {
     "name": "stdout",
     "output_type": "stream",
     "text": [
      "Val set: Epoch: 28, Average loss:1.4036, Top-1 Accuracy: 62.4400%, Top-5 Accuracy: 87.3200%, Time consumed:4.68s\n",
      "\n",
      "EarlyStopping 카운터: 2 / 10\n",
      "Epoch [29], Batch [50/313], Loss: 1.3715\n",
      "Epoch [29], Batch [100/313], Loss: 0.7896\n",
      "Epoch [29], Batch [150/313], Loss: 0.9055\n",
      "Epoch [29], Batch [200/313], Loss: 0.6980\n",
      "Epoch [29], Batch [250/313], Loss: 3.1406\n",
      "Epoch [29], Batch [300/313], Loss: 0.7715\n",
      "Train set: Epoch: 29, Average loss:1.5777, LR: 0.001000 Top-1 Accuracy: 66.3225%, Top-5 Accuracy: 88.0825%, Time consumed:38.15s\n"
     ]
    },
    {
     "name": "stderr",
     "output_type": "stream",
     "text": [
      " 29%|███████████████████████████▎                                                                  | 29/100 [21:31<52:38, 44.49s/it]"
     ]
    },
    {
     "name": "stdout",
     "output_type": "stream",
     "text": [
      "Val set: Epoch: 29, Average loss:1.3976, Top-1 Accuracy: 62.8000%, Top-5 Accuracy: 87.5200%, Time consumed:5.42s\n",
      "\n",
      "EarlyStopping 카운터: 3 / 10\n",
      "Epoch [30], Batch [50/313], Loss: 2.1430\n",
      "Epoch [30], Batch [100/313], Loss: 0.6400\n",
      "Epoch [30], Batch [150/313], Loss: 0.7013\n",
      "Epoch [30], Batch [200/313], Loss: 2.8508\n",
      "Epoch [30], Batch [250/313], Loss: 0.7515\n",
      "Epoch [30], Batch [300/313], Loss: 0.7515\n",
      "Train set: Epoch: 30, Average loss:1.6372, LR: 0.001000 Top-1 Accuracy: 65.7200%, Top-5 Accuracy: 87.8175%, Time consumed:40.70s\n",
      "Val set: Epoch: 30, Average loss:1.3419, Top-1 Accuracy: 63.7200%, Top-5 Accuracy: 88.7200%, Time consumed:4.82s\n",
      "\n",
      "New best top-1 accuracy: 63.72%, top-5 accuracy: 88.72%\n",
      "New best top-5 accuracy: 88.72%\n",
      "Validation loss decreased (1.396060 --> 1.341851). Saving model ...\n"
     ]
    },
    {
     "name": "stderr",
     "output_type": "stream",
     "text": [
      " 30%|████████████████████████████▏                                                                 | 30/100 [22:17<52:21, 44.87s/it]"
     ]
    },
    {
     "name": "stdout",
     "output_type": "stream",
     "text": [
      "Epoch [31], Batch [50/313], Loss: 0.7325\n",
      "Epoch [31], Batch [100/313], Loss: 2.5583\n",
      "Epoch [31], Batch [150/313], Loss: 0.8037\n",
      "Epoch [31], Batch [200/313], Loss: 0.6763\n",
      "Epoch [31], Batch [250/313], Loss: 0.7366\n",
      "Epoch [31], Batch [300/313], Loss: 0.5395\n",
      "Train set: Epoch: 31, Average loss:1.5715, LR: 0.001000 Top-1 Accuracy: 67.8650%, Top-5 Accuracy: 89.0825%, Time consumed:40.63s\n"
     ]
    },
    {
     "name": "stderr",
     "output_type": "stream",
     "text": [
      " 31%|█████████████████████████████▏                                                                | 31/100 [23:02<51:46, 45.02s/it]"
     ]
    },
    {
     "name": "stdout",
     "output_type": "stream",
     "text": [
      "Val set: Epoch: 31, Average loss:1.3457, Top-1 Accuracy: 63.5000%, Top-5 Accuracy: 87.7200%, Time consumed:4.74s\n",
      "\n",
      "EarlyStopping 카운터: 1 / 10\n",
      "Epoch [32], Batch [50/313], Loss: 0.6189\n",
      "Epoch [32], Batch [100/313], Loss: 3.3086\n",
      "Epoch [32], Batch [150/313], Loss: 2.4827\n",
      "Epoch [32], Batch [200/313], Loss: 1.7096\n",
      "Epoch [32], Batch [250/313], Loss: 0.6990\n",
      "Epoch [32], Batch [300/313], Loss: 2.9596\n",
      "Train set: Epoch: 32, Average loss:1.6574, LR: 0.001000 Top-1 Accuracy: 66.5425%, Top-5 Accuracy: 87.9500%, Time consumed:41.17s\n"
     ]
    },
    {
     "name": "stderr",
     "output_type": "stream",
     "text": [
      " 32%|██████████████████████████████                                                                | 32/100 [23:48<51:19, 45.29s/it]"
     ]
    },
    {
     "name": "stdout",
     "output_type": "stream",
     "text": [
      "Val set: Epoch: 32, Average loss:1.3700, Top-1 Accuracy: 63.4000%, Top-5 Accuracy: 88.1000%, Time consumed:4.76s\n",
      "\n",
      "EarlyStopping 카운터: 2 / 10\n",
      "Epoch [33], Batch [50/313], Loss: 0.7151\n",
      "Epoch [33], Batch [100/313], Loss: 0.5301\n",
      "Epoch [33], Batch [150/313], Loss: 2.8766\n",
      "Epoch [33], Batch [200/313], Loss: 2.1295\n",
      "Epoch [33], Batch [250/313], Loss: 0.6620\n",
      "Epoch [33], Batch [300/313], Loss: 0.6099\n",
      "Train set: Epoch: 33, Average loss:1.5936, LR: 0.001000 Top-1 Accuracy: 68.0325%, Top-5 Accuracy: 89.1875%, Time consumed:39.05s\n"
     ]
    },
    {
     "name": "stderr",
     "output_type": "stream",
     "text": [
      " 33%|███████████████████████████████                                                               | 33/100 [24:32<50:04, 44.85s/it]"
     ]
    },
    {
     "name": "stdout",
     "output_type": "stream",
     "text": [
      "Val set: Epoch: 33, Average loss:1.4314, Top-1 Accuracy: 61.9600%, Top-5 Accuracy: 87.1200%, Time consumed:4.75s\n",
      "\n",
      "EarlyStopping 카운터: 3 / 10\n",
      "Epoch [34], Batch [50/313], Loss: 0.6778\n",
      "Epoch [34], Batch [100/313], Loss: 0.5712\n",
      "Epoch [34], Batch [150/313], Loss: 2.5804\n",
      "Epoch [34], Batch [200/313], Loss: 0.5659\n",
      "Epoch [34], Batch [250/313], Loss: 0.4751\n",
      "Epoch [34], Batch [300/313], Loss: 2.2918\n",
      "Train set: Epoch: 34, Average loss:1.5492, LR: 0.001000 Top-1 Accuracy: 68.2950%, Top-5 Accuracy: 88.8900%, Time consumed:38.68s\n"
     ]
    },
    {
     "name": "stderr",
     "output_type": "stream",
     "text": [
      " 34%|███████████████████████████████▉                                                              | 34/100 [25:16<48:54, 44.47s/it]"
     ]
    },
    {
     "name": "stdout",
     "output_type": "stream",
     "text": [
      "Val set: Epoch: 34, Average loss:1.3874, Top-1 Accuracy: 63.0400%, Top-5 Accuracy: 87.3000%, Time consumed:4.90s\n",
      "\n",
      "EarlyStopping 카운터: 4 / 10\n",
      "Epoch [35], Batch [50/313], Loss: 0.4431\n",
      "Epoch [35], Batch [100/313], Loss: 0.5933\n",
      "Epoch [35], Batch [150/313], Loss: 1.2172\n",
      "Epoch [35], Batch [200/313], Loss: 0.5100\n",
      "Epoch [35], Batch [250/313], Loss: 0.6517\n",
      "Epoch [35], Batch [300/313], Loss: 3.2053\n",
      "Train set: Epoch: 35, Average loss:1.5809, LR: 0.001000 Top-1 Accuracy: 68.1900%, Top-5 Accuracy: 88.4725%, Time consumed:39.32s\n"
     ]
    },
    {
     "name": "stderr",
     "output_type": "stream",
     "text": [
      " 35%|████████████████████████████████▉                                                             | 35/100 [26:00<48:01, 44.34s/it]"
     ]
    },
    {
     "name": "stdout",
     "output_type": "stream",
     "text": [
      "Val set: Epoch: 35, Average loss:1.3685, Top-1 Accuracy: 63.6600%, Top-5 Accuracy: 88.5000%, Time consumed:4.71s\n",
      "\n",
      "EarlyStopping 카운터: 5 / 10\n",
      "Epoch [36], Batch [50/313], Loss: 2.9063\n",
      "Epoch [36], Batch [100/313], Loss: 0.6160\n",
      "Epoch [36], Batch [150/313], Loss: 2.8376\n",
      "Epoch [36], Batch [200/313], Loss: 0.7390\n",
      "Epoch [36], Batch [250/313], Loss: 0.6154\n",
      "Epoch [36], Batch [300/313], Loss: 3.0982\n",
      "Train set: Epoch: 36, Average loss:1.5014, LR: 0.001000 Top-1 Accuracy: 69.2850%, Top-5 Accuracy: 89.3625%, Time consumed:39.11s\n"
     ]
    },
    {
     "name": "stderr",
     "output_type": "stream",
     "text": [
      " 36%|█████████████████████████████████▊                                                            | 36/100 [26:44<47:12, 44.26s/it]"
     ]
    },
    {
     "name": "stdout",
     "output_type": "stream",
     "text": [
      "Val set: Epoch: 36, Average loss:1.3581, Top-1 Accuracy: 65.0000%, Top-5 Accuracy: 87.8200%, Time consumed:4.82s\n",
      "\n",
      "New best top-1 accuracy: 65.00%, top-5 accuracy: 87.82%\n",
      "EarlyStopping 카운터: 6 / 10\n",
      "Epoch [37], Batch [50/313], Loss: 0.6966\n",
      "Epoch [37], Batch [100/313], Loss: 0.5143\n",
      "Epoch [37], Batch [150/313], Loss: 0.4080\n",
      "Epoch [37], Batch [200/313], Loss: 0.4925\n",
      "Epoch [37], Batch [250/313], Loss: 2.7638\n",
      "Epoch [37], Batch [300/313], Loss: 0.6478\n",
      "Train set: Epoch: 37, Average loss:1.4741, LR: 0.001000 Top-1 Accuracy: 70.6725%, Top-5 Accuracy: 89.8475%, Time consumed:40.39s\n"
     ]
    },
    {
     "name": "stderr",
     "output_type": "stream",
     "text": [
      " 37%|██████████████████████████████████▊                                                           | 37/100 [27:29<46:45, 44.53s/it]"
     ]
    },
    {
     "name": "stdout",
     "output_type": "stream",
     "text": [
      "Val set: Epoch: 37, Average loss:1.4085, Top-1 Accuracy: 63.3600%, Top-5 Accuracy: 87.7400%, Time consumed:4.79s\n",
      "\n",
      "EarlyStopping 카운터: 7 / 10\n",
      "Epoch [38], Batch [50/313], Loss: 2.8563\n",
      "Epoch [38], Batch [100/313], Loss: 1.1833\n",
      "Epoch [38], Batch [150/313], Loss: 0.4162\n",
      "Epoch [38], Batch [200/313], Loss: 1.1522\n",
      "Epoch [38], Batch [250/313], Loss: 2.6575\n",
      "Epoch [38], Batch [300/313], Loss: 0.6719\n",
      "Train set: Epoch: 38, Average loss:1.4079, LR: 0.001000 Top-1 Accuracy: 72.2050%, Top-5 Accuracy: 90.7450%, Time consumed:39.74s\n"
     ]
    },
    {
     "name": "stderr",
     "output_type": "stream",
     "text": [
      " 38%|███████████████████████████████████▋                                                          | 38/100 [28:13<46:01, 44.54s/it]"
     ]
    },
    {
     "name": "stdout",
     "output_type": "stream",
     "text": [
      "Val set: Epoch: 38, Average loss:1.3624, Top-1 Accuracy: 64.5600%, Top-5 Accuracy: 88.6200%, Time consumed:4.80s\n",
      "\n",
      "EarlyStopping 카운터: 8 / 10\n",
      "Epoch [39], Batch [50/313], Loss: 0.4865\n",
      "Epoch [39], Batch [100/313], Loss: 3.1613\n",
      "Epoch [39], Batch [150/313], Loss: 1.0169\n",
      "Epoch [39], Batch [200/313], Loss: 3.0071\n",
      "Epoch [39], Batch [250/313], Loss: 3.0828\n",
      "Epoch [39], Batch [300/313], Loss: 2.9996\n",
      "Train set: Epoch: 39, Average loss:1.5128, LR: 0.001000 Top-1 Accuracy: 71.4850%, Top-5 Accuracy: 90.4075%, Time consumed:38.22s\n"
     ]
    },
    {
     "name": "stderr",
     "output_type": "stream",
     "text": [
      " 39%|████████████████████████████████████▋                                                         | 39/100 [28:56<44:47, 44.05s/it]"
     ]
    },
    {
     "name": "stdout",
     "output_type": "stream",
     "text": [
      "Val set: Epoch: 39, Average loss:1.4006, Top-1 Accuracy: 63.5800%, Top-5 Accuracy: 87.4600%, Time consumed:4.70s\n",
      "\n",
      "EarlyStopping 카운터: 9 / 10\n",
      "Epoch [40], Batch [50/313], Loss: 0.4033\n",
      "Epoch [40], Batch [100/313], Loss: 3.0637\n",
      "Epoch [40], Batch [150/313], Loss: 3.2013\n",
      "Epoch [40], Batch [200/313], Loss: 2.7642\n",
      "Epoch [40], Batch [250/313], Loss: 2.6088\n",
      "Epoch [40], Batch [300/313], Loss: 0.4646\n",
      "Train set: Epoch: 40, Average loss:1.3951, LR: 0.001000 Top-1 Accuracy: 71.7350%, Top-5 Accuracy: 90.2250%, Time consumed:40.81s\n",
      "Val set: Epoch: 40, Average loss:1.3377, Top-1 Accuracy: 65.1200%, Top-5 Accuracy: 88.6200%, Time consumed:4.72s\n",
      "\n",
      "New best top-1 accuracy: 65.12%, top-5 accuracy: 88.62%\n",
      "Validation loss decreased (1.341851 --> 1.337715). Saving model ...\n"
     ]
    },
    {
     "name": "stderr",
     "output_type": "stream",
     "text": [
      " 40%|█████████████████████████████████████▌                                                        | 40/100 [29:42<44:34, 44.57s/it]"
     ]
    },
    {
     "name": "stdout",
     "output_type": "stream",
     "text": [
      "Epoch [41], Batch [50/313], Loss: 0.4342\n",
      "Epoch [41], Batch [100/313], Loss: 0.5133\n",
      "Epoch [41], Batch [150/313], Loss: 0.5112\n",
      "Epoch [41], Batch [200/313], Loss: 1.8589\n",
      "Epoch [41], Batch [250/313], Loss: 2.9931\n",
      "Epoch [41], Batch [300/313], Loss: 3.3249\n",
      "Train set: Epoch: 41, Average loss:1.3772, LR: 0.001000 Top-1 Accuracy: 73.2100%, Top-5 Accuracy: 91.2450%, Time consumed:38.48s\n"
     ]
    },
    {
     "name": "stderr",
     "output_type": "stream",
     "text": [
      " 41%|██████████████████████████████████████▌                                                       | 41/100 [30:26<43:28, 44.20s/it]"
     ]
    },
    {
     "name": "stdout",
     "output_type": "stream",
     "text": [
      "Val set: Epoch: 41, Average loss:1.3782, Top-1 Accuracy: 64.0800%, Top-5 Accuracy: 87.8400%, Time consumed:4.86s\n",
      "\n",
      "EarlyStopping 카운터: 1 / 10\n",
      "Epoch [42], Batch [50/313], Loss: 0.3633\n",
      "Epoch [42], Batch [100/313], Loss: 0.5469\n",
      "Epoch [42], Batch [150/313], Loss: 0.3248\n",
      "Epoch [42], Batch [200/313], Loss: 0.4181\n",
      "Epoch [42], Batch [250/313], Loss: 2.2297\n",
      "Epoch [42], Batch [300/313], Loss: 0.4121\n",
      "Train set: Epoch: 42, Average loss:1.3191, LR: 0.001000 Top-1 Accuracy: 75.0475%, Top-5 Accuracy: 92.3050%, Time consumed:38.30s\n",
      "Val set: Epoch: 42, Average loss:1.2900, Top-1 Accuracy: 65.7800%, Top-5 Accuracy: 88.9200%, Time consumed:5.39s\n",
      "\n",
      "New best top-1 accuracy: 65.78%, top-5 accuracy: 88.92%\n",
      "New best top-5 accuracy: 88.92%\n",
      "Validation loss decreased (1.337715 --> 1.289959). Saving model ...\n"
     ]
    },
    {
     "name": "stderr",
     "output_type": "stream",
     "text": [
      " 42%|███████████████████████████████████████▍                                                      | 42/100 [31:09<42:39, 44.13s/it]"
     ]
    },
    {
     "name": "stdout",
     "output_type": "stream",
     "text": [
      "Epoch [43], Batch [50/313], Loss: 0.3139\n",
      "Epoch [43], Batch [100/313], Loss: 0.4520\n",
      "Epoch [43], Batch [150/313], Loss: 2.8369\n",
      "Epoch [43], Batch [200/313], Loss: 0.4117\n",
      "Epoch [43], Batch [250/313], Loss: 2.5605\n",
      "Epoch [43], Batch [300/313], Loss: 0.3913\n",
      "Train set: Epoch: 43, Average loss:1.3049, LR: 0.001000 Top-1 Accuracy: 75.3025%, Top-5 Accuracy: 91.9675%, Time consumed:41.20s\n"
     ]
    },
    {
     "name": "stderr",
     "output_type": "stream",
     "text": [
      " 43%|████████████████████████████████████████▍                                                     | 43/100 [31:55<42:26, 44.67s/it]"
     ]
    },
    {
     "name": "stdout",
     "output_type": "stream",
     "text": [
      "Val set: Epoch: 43, Average loss:1.3097, Top-1 Accuracy: 65.3800%, Top-5 Accuracy: 89.2600%, Time consumed:4.73s\n",
      "\n",
      "New best top-5 accuracy: 89.26%\n",
      "EarlyStopping 카운터: 1 / 10\n",
      "Epoch [44], Batch [50/313], Loss: 3.0285\n",
      "Epoch [44], Batch [100/313], Loss: 0.5138\n",
      "Epoch [44], Batch [150/313], Loss: 0.8690\n",
      "Epoch [44], Batch [200/313], Loss: 3.1936\n",
      "Epoch [44], Batch [250/313], Loss: 1.0899\n",
      "Epoch [44], Batch [300/313], Loss: 0.3193\n",
      "Train set: Epoch: 44, Average loss:1.2997, LR: 0.001000 Top-1 Accuracy: 75.0075%, Top-5 Accuracy: 91.5975%, Time consumed:37.90s\n"
     ]
    },
    {
     "name": "stderr",
     "output_type": "stream",
     "text": [
      " 44%|█████████████████████████████████████████▎                                                    | 44/100 [32:39<41:15, 44.20s/it]"
     ]
    },
    {
     "name": "stdout",
     "output_type": "stream",
     "text": [
      "Val set: Epoch: 44, Average loss:1.3676, Top-1 Accuracy: 64.5400%, Top-5 Accuracy: 87.9400%, Time consumed:5.22s\n",
      "\n",
      "EarlyStopping 카운터: 2 / 10\n",
      "Epoch [45], Batch [50/313], Loss: 0.2945\n",
      "Epoch [45], Batch [100/313], Loss: 1.3416\n",
      "Epoch [45], Batch [150/313], Loss: 2.8001\n",
      "Epoch [45], Batch [200/313], Loss: 3.4636\n",
      "Epoch [45], Batch [250/313], Loss: 0.4439\n",
      "Epoch [45], Batch [300/313], Loss: 2.9807\n",
      "Train set: Epoch: 45, Average loss:1.3350, LR: 0.001000 Top-1 Accuracy: 75.5650%, Top-5 Accuracy: 92.0525%, Time consumed:42.62s\n"
     ]
    },
    {
     "name": "stderr",
     "output_type": "stream",
     "text": [
      " 45%|██████████████████████████████████████████▎                                                   | 45/100 [33:26<41:30, 45.29s/it]"
     ]
    },
    {
     "name": "stdout",
     "output_type": "stream",
     "text": [
      "Val set: Epoch: 45, Average loss:1.3093, Top-1 Accuracy: 65.7200%, Top-5 Accuracy: 88.6800%, Time consumed:5.19s\n",
      "\n",
      "EarlyStopping 카운터: 3 / 10\n",
      "Epoch [46], Batch [50/313], Loss: 1.7511\n",
      "Epoch [46], Batch [100/313], Loss: 1.0574\n",
      "Epoch [46], Batch [150/313], Loss: 0.3769\n",
      "Epoch [46], Batch [200/313], Loss: 0.2606\n",
      "Epoch [46], Batch [250/313], Loss: 0.2708\n",
      "Epoch [46], Batch [300/313], Loss: 1.3171\n",
      "Train set: Epoch: 46, Average loss:1.3890, LR: 0.001000 Top-1 Accuracy: 73.9825%, Top-5 Accuracy: 91.0300%, Time consumed:38.50s\n"
     ]
    },
    {
     "name": "stderr",
     "output_type": "stream",
     "text": [
      " 46%|███████████████████████████████████████████▏                                                  | 46/100 [34:10<40:15, 44.73s/it]"
     ]
    },
    {
     "name": "stdout",
     "output_type": "stream",
     "text": [
      "Val set: Epoch: 46, Average loss:1.3224, Top-1 Accuracy: 65.7000%, Top-5 Accuracy: 88.4400%, Time consumed:4.93s\n",
      "\n",
      "EarlyStopping 카운터: 4 / 10\n",
      "Epoch [47], Batch [50/313], Loss: 0.2958\n",
      "Epoch [47], Batch [100/313], Loss: 2.9120\n",
      "Epoch [47], Batch [150/313], Loss: 0.2819\n",
      "Epoch [47], Batch [200/313], Loss: 0.2363\n",
      "Epoch [47], Batch [250/313], Loss: 0.3528\n",
      "Epoch [47], Batch [300/313], Loss: 2.0575\n",
      "Train set: Epoch: 47, Average loss:1.3432, LR: 0.001000 Top-1 Accuracy: 74.9825%, Top-5 Accuracy: 91.6050%, Time consumed:41.01s\n"
     ]
    },
    {
     "name": "stderr",
     "output_type": "stream",
     "text": [
      " 47%|████████████████████████████████████████████▏                                                 | 47/100 [34:55<39:45, 45.01s/it]"
     ]
    },
    {
     "name": "stdout",
     "output_type": "stream",
     "text": [
      "Val set: Epoch: 47, Average loss:1.3519, Top-1 Accuracy: 64.9800%, Top-5 Accuracy: 88.6600%, Time consumed:4.66s\n",
      "\n",
      "EarlyStopping 카운터: 5 / 10\n",
      "Epoch [48], Batch [50/313], Loss: 0.3149\n",
      "Epoch [48], Batch [100/313], Loss: 2.9568\n",
      "Epoch [48], Batch [150/313], Loss: 1.7181\n",
      "Epoch [48], Batch [200/313], Loss: 2.8978\n",
      "Epoch [48], Batch [250/313], Loss: 2.6841\n",
      "Epoch [48], Batch [300/313], Loss: 0.3844\n",
      "Train set: Epoch: 48, Average loss:1.2271, LR: 0.001000 Top-1 Accuracy: 76.8900%, Top-5 Accuracy: 92.5625%, Time consumed:39.71s\n"
     ]
    },
    {
     "name": "stderr",
     "output_type": "stream",
     "text": [
      " 48%|█████████████████████████████████████████████                                                 | 48/100 [35:40<39:00, 45.02s/it]"
     ]
    },
    {
     "name": "stdout",
     "output_type": "stream",
     "text": [
      "Val set: Epoch: 48, Average loss:1.3407, Top-1 Accuracy: 65.7600%, Top-5 Accuracy: 88.9400%, Time consumed:5.30s\n",
      "\n",
      "EarlyStopping 카운터: 6 / 10\n",
      "Epoch [49], Batch [50/313], Loss: 2.9052\n",
      "Epoch [49], Batch [100/313], Loss: 2.3550\n",
      "Epoch [49], Batch [150/313], Loss: 0.2519\n",
      "Epoch [49], Batch [200/313], Loss: 0.2558\n",
      "Epoch [49], Batch [250/313], Loss: 2.3703\n",
      "Epoch [49], Batch [300/313], Loss: 2.2918\n",
      "Train set: Epoch: 49, Average loss:1.2903, LR: 0.001000 Top-1 Accuracy: 76.3350%, Top-5 Accuracy: 91.8375%, Time consumed:40.57s\n"
     ]
    },
    {
     "name": "stderr",
     "output_type": "stream",
     "text": [
      " 49%|██████████████████████████████████████████████                                                | 49/100 [36:26<38:24, 45.19s/it]"
     ]
    },
    {
     "name": "stdout",
     "output_type": "stream",
     "text": [
      "Val set: Epoch: 49, Average loss:1.3345, Top-1 Accuracy: 65.8000%, Top-5 Accuracy: 88.5200%, Time consumed:4.89s\n",
      "\n",
      "New best top-1 accuracy: 65.80%, top-5 accuracy: 88.52%\n",
      "EarlyStopping 카운터: 7 / 10\n",
      "Epoch [50], Batch [50/313], Loss: 0.2562\n",
      "Epoch [50], Batch [100/313], Loss: 1.5890\n",
      "Epoch [50], Batch [150/313], Loss: 0.3270\n",
      "Epoch [50], Batch [200/313], Loss: 2.5047\n",
      "Epoch [50], Batch [250/313], Loss: 2.9284\n",
      "Epoch [50], Batch [300/313], Loss: 2.9340\n",
      "Train set: Epoch: 50, Average loss:1.2621, LR: 0.001000 Top-1 Accuracy: 77.2175%, Top-5 Accuracy: 92.6900%, Time consumed:38.53s\n"
     ]
    },
    {
     "name": "stderr",
     "output_type": "stream",
     "text": [
      " 50%|███████████████████████████████████████████████                                               | 50/100 [37:09<37:12, 44.64s/it]"
     ]
    },
    {
     "name": "stdout",
     "output_type": "stream",
     "text": [
      "Val set: Epoch: 50, Average loss:1.3357, Top-1 Accuracy: 66.0200%, Top-5 Accuracy: 89.0600%, Time consumed:4.70s\n",
      "\n",
      "New best top-1 accuracy: 66.02%, top-5 accuracy: 89.06%\n",
      "EarlyStopping 카운터: 8 / 10\n",
      "Epoch [51], Batch [50/313], Loss: 2.9157\n",
      "Epoch [51], Batch [100/313], Loss: 0.7106\n",
      "Epoch [51], Batch [150/313], Loss: 0.2771\n",
      "Epoch [51], Batch [200/313], Loss: 1.4099\n",
      "Epoch [51], Batch [250/313], Loss: 2.8831\n",
      "Epoch [51], Batch [300/313], Loss: 0.4544\n",
      "Train set: Epoch: 51, Average loss:1.1980, LR: 0.001000 Top-1 Accuracy: 77.7050%, Top-5 Accuracy: 92.6650%, Time consumed:39.50s\n"
     ]
    },
    {
     "name": "stderr",
     "output_type": "stream",
     "text": [
      " 51%|███████████████████████████████████████████████▉                                              | 51/100 [37:54<36:28, 44.67s/it]"
     ]
    },
    {
     "name": "stdout",
     "output_type": "stream",
     "text": [
      "Val set: Epoch: 51, Average loss:1.3567, Top-1 Accuracy: 65.7600%, Top-5 Accuracy: 88.3400%, Time consumed:5.21s\n",
      "\n",
      "EarlyStopping 카운터: 9 / 10\n",
      "Epoch [52], Batch [50/313], Loss: 0.3685\n",
      "Epoch [52], Batch [100/313], Loss: 0.2753\n",
      "Epoch [52], Batch [150/313], Loss: 0.2666\n",
      "Epoch [52], Batch [200/313], Loss: 0.1743\n",
      "Epoch [52], Batch [250/313], Loss: 0.3518\n",
      "Epoch [52], Batch [300/313], Loss: 0.2044\n",
      "Train set: Epoch: 52, Average loss:1.0938, LR: 0.001000 Top-1 Accuracy: 79.6450%, Top-5 Accuracy: 93.9450%, Time consumed:38.28s\n"
     ]
    },
    {
     "name": "stderr",
     "output_type": "stream",
     "text": [
      " 51%|███████████████████████████████████████████████▉                                              | 51/100 [38:37<37:07, 45.45s/it]"
     ]
    },
    {
     "name": "stdout",
     "output_type": "stream",
     "text": [
      "Val set: Epoch: 52, Average loss:1.3302, Top-1 Accuracy: 66.2000%, Top-5 Accuracy: 88.6000%, Time consumed:4.94s\n",
      "\n",
      "New best top-1 accuracy: 66.20%, top-5 accuracy: 88.60%\n",
      "EarlyStopping 카운터: 10 / 10\n",
      "Early stopping triggered. Training stopped.\n",
      "Loading best model from early stopping checkpoint...\n"
     ]
    },
    {
     "name": "stderr",
     "output_type": "stream",
     "text": [
      "\n"
     ]
    },
    {
     "name": "stdout",
     "output_type": "stream",
     "text": [
      "Test set: Epoch: 100, Average loss:1.3316, Top-1 Accuracy: 65.3800%, Top-5 Accuracy: 88.4000%, Time consumed:4.74s\n",
      "\n",
      "Finish! Best validation top-1 accuracy: 66.20%, Best validation top-5 accuracy: 89.26%\n",
      "Final test top-1 accuracy: 65.38%, Final test top-5 accuracy: 88.40%\n",
      "Total training time: 2322.73 seconds\n"
     ]
    },
    {
     "data": {
      "text/html": [],
      "text/plain": [
       "<IPython.core.display.HTML object>"
      ]
     },
     "metadata": {},
     "output_type": "display_data"
    },
    {
     "data": {
      "text/html": [
       "<br>    <style><br>        .wandb-row {<br>            display: flex;<br>            flex-direction: row;<br>            flex-wrap: wrap;<br>            justify-content: flex-start;<br>            width: 100%;<br>        }<br>        .wandb-col {<br>            display: flex;<br>            flex-direction: column;<br>            flex-basis: 100%;<br>            flex: 1;<br>            padding: 10px;<br>        }<br>    </style><br><div class=\"wandb-row\"><div class=\"wandb-col\"><h3>Run history:</h3><br/><table class=\"wandb\"><tr><td>epoch</td><td>▁▁▁▁▂▂▂▂▃▃▃▃▃▃▄▄▄▄▄▄▅▅▅▅▅▆▆▆▆▆▆▆▇▇▇▇████</td></tr><tr><td>learning_rate</td><td>▁▁▁▁▁▁▁▁▁▁▁▁▁▁▁▁▁▁▁▁▁▁▁▁▁▁▁▁▁▁▁▁▁▁▁▁▁▁▁▁</td></tr><tr><td>test_accuracy_top1</td><td>▁</td></tr><tr><td>test_accuracy_top5</td><td>▁</td></tr><tr><td>test_loss</td><td>▁</td></tr><tr><td>total_training_time</td><td>▁</td></tr><tr><td>train_accuracy_top1</td><td>▁▂▃▃▃▄▄▄▄▅▅▅▅▅▆▆▆▆▆▆▇▇▇▇▇▇▇▇▇▇▇▇████████</td></tr><tr><td>train_accuracy_top5</td><td>▁▂▃▄▄▅▅▆▆▆▆▆▇▇▇▇▇▇▇▇▇▇▇▇▇▇█▇▇███████████</td></tr><tr><td>train_loss</td><td>█▇▆▆▅▅▄▄▄▄▄▃▃▃▃▃▃▃▃▃▂▂▂▂▂▂▂▂▂▂▂▂▂▁▁▂▂▁▁▁</td></tr><tr><td>val_accuracy_top1</td><td>▁▂▃▄▄▅▅▆▆▆▆▆▇▇▇▇▇▇██████████████████████</td></tr><tr><td>val_accuracy_top5</td><td>▁▂▃▄▅▅▆▆▇▇▇▇▇▇▇▇████████████████████████</td></tr><tr><td>val_loss</td><td>█▇▆▅▅▄▄▃▃▃▃▂▂▂▂▂▂▂▂▁▁▁▁▁▁▁▁▁▁▁▁▁▁▁▁▁▁▁▁▁</td></tr></table><br/></div><div class=\"wandb-col\"><h3>Run summary:</h3><br/><table class=\"wandb\"><tr><td>best_val_accuracy_top1</td><td>66.2</td></tr><tr><td>best_val_accuracy_top5</td><td>89.26</td></tr><tr><td>early_stopped</td><td>True</td></tr><tr><td>early_stopped_epoch</td><td>52</td></tr><tr><td>epoch</td><td>52</td></tr><tr><td>learning_rate</td><td>0.001</td></tr><tr><td>test_accuracy_top1</td><td>65.38</td></tr><tr><td>test_accuracy_top5</td><td>88.4</td></tr><tr><td>test_loss</td><td>1.33165</td></tr><tr><td>total_training_time</td><td>2322.72804</td></tr><tr><td>train_accuracy_top1</td><td>79.645</td></tr><tr><td>train_accuracy_top5</td><td>93.945</td></tr><tr><td>train_loss</td><td>1.09385</td></tr><tr><td>val_accuracy_top1</td><td>66.2</td></tr><tr><td>val_accuracy_top5</td><td>88.6</td></tr><tr><td>val_loss</td><td>1.33018</td></tr></table><br/></div></div>"
      ],
      "text/plain": [
       "<IPython.core.display.HTML object>"
      ]
     },
     "metadata": {},
     "output_type": "display_data"
    },
    {
     "data": {
      "text/html": [
       " View run <strong style=\"color:#cdcd00\">resnet18_cutmix,flip,crop,affine</strong> at: <a href='https://wandb.ai/sokjh1310-hanyang-university/PBL-2/runs/w55nwthl' target=\"_blank\">https://wandb.ai/sokjh1310-hanyang-university/PBL-2/runs/w55nwthl</a><br> View project at: <a href='https://wandb.ai/sokjh1310-hanyang-university/PBL-2' target=\"_blank\">https://wandb.ai/sokjh1310-hanyang-university/PBL-2</a><br>Synced 5 W&B file(s), 0 media file(s), 0 artifact file(s) and 1 other file(s)"
      ],
      "text/plain": [
       "<IPython.core.display.HTML object>"
      ]
     },
     "metadata": {},
     "output_type": "display_data"
    },
    {
     "data": {
      "text/html": [
       "Find logs at: <code>./wandb/run-20250413_073746-w55nwthl/logs</code>"
      ],
      "text/plain": [
       "<IPython.core.display.HTML object>"
      ]
     },
     "metadata": {},
     "output_type": "display_data"
    }
   ],
   "source": [
    "import torch\n",
    "import torch.nn as nn\n",
    "import torch.optim as optim\n",
    "from torch.utils.data import DataLoader, Subset\n",
    "import torchvision\n",
    "import torchvision.transforms as transforms\n",
    "import torchvision.transforms.v2 as transforms_v2  # CutMix를 위한 v2 transforms 추가\n",
    "import sys\n",
    "import os\n",
    "import torch\n",
    "import time\n",
    "import random\n",
    "import numpy as np\n",
    "import wandb\n",
    "from tqdm import tqdm\n",
    "from sklearn.model_selection import StratifiedShuffleSplit\n",
    "from tools.tool import EarlyStopping\n",
    "from models.resnet import resnet18, resnet34, resnet50\n",
    "\n",
    "wandb.login(key=\"ef091b9abcea3186341ddf8995d62bde62d7469e\")\n",
    "wandb.init(project=\"PBL-2\", name=\"resnet18_cutmix,flip,crop,affine\")  # RandomAffine 추가 명시\n",
    "\n",
    "# WandB 설정\n",
    "config = {\n",
    "    \"model\": \"resnet18\",\n",
    "    \"batch_size\": 128,\n",
    "    \"num_epochs\": 100,\n",
    "    \"learning_rate\": 0.001,\n",
    "    \"optimizer\": \"Adam\",\n",
    "    \"seed\": 2025,\n",
    "    \"deterministic\": False,\n",
    "    \"patience\": 10,  # early stopping patience\n",
    "    \"train_ratio\": 0.8,\n",
    "    \"val_ratio\": 0.1,\n",
    "    \"test_ratio\": 0.1,\n",
    "    \"cutmix_alpha\": 1.0,  # CutMix 알파 파라미터 추가\n",
    "    \"cutmix_prob\": 0.5,   # CutMix 적용 확률 추가\n",
    "    \"crop_padding\": 4,    # RandomCrop 패딩 크기\n",
    "    \"crop_size\": 32,      # RandomCrop 크기 (CIFAR-100 이미지 크기는 32x32)\n",
    "    \"affine_degrees\": 10, # RandomAffine 회전 각도 범위\n",
    "    \"affine_translate\": (0.1, 0.1),  # RandomAffine 이동 범위 (가로, 세로)\n",
    "    \"affine_scale\": (0.9, 1.1),      # RandomAffine 확대/축소 범위\n",
    "    \"affine_shear\": 10                # RandomAffine 전단 범위\n",
    "}\n",
    "wandb.config.update(config)\n",
    "\n",
    "# CIFAR-100 데이터셋 로드\n",
    "# RandomAffine 변환 추가\n",
    "transform_train = transforms.Compose([\n",
    "    transforms.RandomCrop(config[\"crop_size\"], padding=config[\"crop_padding\"]),  # 패딩 후 랜덤 크롭\n",
    "    transforms.RandomHorizontalFlip(),  # 수평 뒤집기\n",
    "    transforms.RandomAffine(\n",
    "        degrees=config[\"affine_degrees\"],           # 회전 각도 범위 (-15도 ~ 15도)\n",
    "        translate=config[\"affine_translate\"],       # 이동 범위 (가로, 세로)\n",
    "        scale=config[\"affine_scale\"],               # 확대/축소 범위\n",
    "        shear=config[\"affine_shear\"]                # 전단 범위\n",
    "    ),\n",
    "    transforms.ToTensor(),\n",
    "    transforms.Normalize((0.5071, 0.4867, 0.4408), (0.2675, 0.2565, 0.2761)),\n",
    "])\n",
    "\n",
    "transform_test = transforms.Compose([\n",
    "    transforms.ToTensor(),\n",
    "    transforms.Normalize((0.5071, 0.4867, 0.4408), (0.2675, 0.2565, 0.2761)),\n",
    "])\n",
    "\n",
    "full_trainset = torchvision.datasets.CIFAR100(\n",
    "    root='./data', train=True, download=True, transform=transform_train)\n",
    "\n",
    "testset = torchvision.datasets.CIFAR100(\n",
    "    root='./data', train=False, download=True, transform=transform_test)\n",
    "\n",
    "# Stratified 분할을 위한 준비 (train, validation 나누기)\n",
    "# 모든 라벨을 추출\n",
    "targets = np.array(full_trainset.targets)\n",
    "\n",
    "# StratifiedShuffleSplit을 사용하여 8:1:1 비율로 분할\n",
    "# 먼저 train과 validation을 나눔 (full_trainset에서 8:2)\n",
    "train_val_split = StratifiedShuffleSplit(n_splits=1, test_size=0.2, random_state=config[\"seed\"])\n",
    "train_idx, temp_idx = next(train_val_split.split(np.zeros(len(targets)), targets))\n",
    "\n",
    "# 그 다음 validation과 test를 나눔 (temp에서 1:1, 전체로 보면 1:1)\n",
    "val_test_targets = targets[temp_idx]\n",
    "val_test_split = StratifiedShuffleSplit(n_splits=1, test_size=0.5, random_state=config[\"seed\"])\n",
    "val_idx_temp, test_idx_temp = next(val_test_split.split(np.zeros(len(val_test_targets)), val_test_targets))\n",
    "\n",
    "# 원래 인덱스로 매핑\n",
    "val_idx = temp_idx[val_idx_temp]\n",
    "test_idx = temp_idx[test_idx_temp]\n",
    "\n",
    "# Subset 생성\n",
    "trainset = Subset(full_trainset, train_idx)\n",
    "valset = Subset(full_trainset, val_idx)\n",
    "testset_split = Subset(full_trainset, test_idx)  # 원래 테스트셋 대신 stratified split에서 나온 테스트셋 사용\n",
    "\n",
    "# DataLoader 생성\n",
    "trainloader = DataLoader(trainset, batch_size=config[\"batch_size\"], shuffle=True, num_workers=16)\n",
    "valloader = DataLoader(valset, batch_size=config[\"batch_size\"], shuffle=False, num_workers=16)\n",
    "testloader = DataLoader(testset_split, batch_size=config[\"batch_size\"], shuffle=False, num_workers=16)\n",
    "\n",
    "print(f\"Train set size: {len(trainset)}\")\n",
    "print(f\"Validation set size: {len(valset)}\")\n",
    "print(f\"Test set size: {len(testset_split)}\")\n",
    "\n",
    "# 추가: CutMix 변환 정의\n",
    "cutmix = transforms_v2.CutMix(alpha=config[\"cutmix_alpha\"], num_classes=100)  # CIFAR-100은 100개 클래스\n",
    "\n",
    "# CutMix용 손실 함수 정의 (원-핫 인코딩된 레이블 처리)\n",
    "def cutmix_criterion(outputs, targets):\n",
    "    \"\"\"\n",
    "    CutMix로 혼합된 레이블을 처리하기 위한 손실 함수\n",
    "    outputs: 모델 출력\n",
    "    targets: CutMix로 생성된 원-핫 인코딩 레이블\n",
    "    \"\"\"\n",
    "    return torch.nn.functional.cross_entropy(outputs, targets)\n",
    "\n",
    "def train(model, trainloader, criterion, optimizer, device, epoch):\n",
    "    \"\"\"\n",
    "    학습 함수 (CutMix 적용)\n",
    "    \"\"\"\n",
    "    model.train()   # 모델을 학습 모드로 설정\n",
    "    start_time = time.time()  # 시간 측정 시작\n",
    "    running_loss = 0.0\n",
    "    correct_top1 = 0\n",
    "    correct_top5 = 0\n",
    "    total = 0\n",
    "    \n",
    "    for i, (inputs, labels) in enumerate(trainloader):\n",
    "        inputs, labels = inputs.to(device), labels.to(device)\n",
    "        \n",
    "        # CutMix 확률적 적용\n",
    "        if random.random() < config[\"cutmix_prob\"]:\n",
    "            inputs, labels = cutmix(inputs, labels)\n",
    "            # 이 경우 labels은 원-핫 인코딩 형태로 변환됨\n",
    "            use_cutmix = True\n",
    "        else:\n",
    "            use_cutmix = False\n",
    "        \n",
    "        optimizer.zero_grad()\n",
    "        \n",
    "        outputs = model(inputs)\n",
    "        \n",
    "        # CutMix 적용 여부에 따라 손실 함수 선택\n",
    "        if use_cutmix:\n",
    "            # CutMix가 적용된 경우 (원-핫 인코딩된 레이블)\n",
    "            loss = torch.nn.functional.cross_entropy(outputs, labels)\n",
    "        else:\n",
    "            # 일반적인 경우 (정수 인덱스 레이블)\n",
    "            loss = criterion(outputs, labels)\n",
    "            \n",
    "        loss.backward()\n",
    "        optimizer.step()\n",
    "        \n",
    "        running_loss += loss.item()\n",
    "        \n",
    "        # 정확도 계산 - CutMix 적용 여부에 따라 다르게 처리\n",
    "        if use_cutmix:\n",
    "            # 원-핫 인코딩된 레이블에서 argmax를 사용해 가장 큰 값의 인덱스 추출\n",
    "            _, label_idx = labels.max(1)\n",
    "        else:\n",
    "            # 정수 인덱스 레이블 그대로 사용\n",
    "            label_idx = labels\n",
    "            \n",
    "        # top-1 정확도 계산\n",
    "        _, predicted = outputs.max(1)\n",
    "        total += inputs.size(0)\n",
    "        correct_top1 += predicted.eq(label_idx).sum().item()\n",
    "        \n",
    "        # top-5 정확도 계산\n",
    "        _, top5_idx = outputs.topk(5, 1, largest=True, sorted=True)\n",
    "        correct_top5 += sum([1 for i in range(len(label_idx)) if label_idx[i] in top5_idx[i]])\n",
    "        \n",
    "        if (i + 1) % 50 == 0:  # 50 배치마다 출력\n",
    "            print(f'Epoch [{epoch+1}], Batch [{i+1}/{len(trainloader)}], Loss: {loss.item():.4f}')\n",
    "    \n",
    "    epoch_loss = running_loss / len(trainloader)\n",
    "    accuracy_top1 = 100.0 * correct_top1 / total\n",
    "    accuracy_top5 = 100.0 * correct_top5 / total\n",
    "    \n",
    "    train_time = time.time() - start_time\n",
    "    \n",
    "    # 학습 세트에 대한 성능 출력\n",
    "    print(f'Train set: Epoch: {epoch+1}, Average loss:{epoch_loss:.4f}, LR: {optimizer.param_groups[0][\"lr\"]:.6f} '\n",
    "          f'Top-1 Accuracy: {accuracy_top1:.4f}%, Top-5 Accuracy: {accuracy_top5:.4f}%, Time consumed:{train_time:.2f}s')\n",
    "    \n",
    "    return epoch_loss, accuracy_top1, accuracy_top5\n",
    "\n",
    "def evaluate(model, dataloader, criterion, device, epoch, phase=\"val\"):\n",
    "    \"\"\"\n",
    "    평가 함수\n",
    "    \"\"\"\n",
    "    model.eval()  # 모델을 평가 모드로 설정\n",
    "    start_time = time.time()  # 시간 측정 시작\n",
    "    \n",
    "    eval_loss = 0.0\n",
    "    correct_top1 = 0\n",
    "    correct_top5 = 0\n",
    "    total = 0\n",
    "    \n",
    "    # 그래디언트 계산 비활성화\n",
    "    with torch.no_grad():\n",
    "        for inputs, labels in dataloader:\n",
    "            inputs, labels = inputs.to(device), labels.to(device)\n",
    "            \n",
    "            # 순전파\n",
    "            outputs = model(inputs)\n",
    "            \n",
    "            # 손실 계산\n",
    "            loss = criterion(outputs, labels)\n",
    "            eval_loss += loss.item()\n",
    "            \n",
    "            # top-1 정확도 계산\n",
    "            _, predicted = outputs.max(1)\n",
    "            total += labels.size(0)\n",
    "            correct_top1 += (predicted == labels).sum().item()\n",
    "            \n",
    "            # top-5 정확도 계산\n",
    "            _, top5_idx = outputs.topk(5, 1, largest=True, sorted=True)\n",
    "            correct_top5 += top5_idx.eq(labels.view(-1, 1).expand_as(top5_idx)).sum().item()\n",
    "    \n",
    "    # 평균 손실 및 정확도 계산\n",
    "    eval_loss = eval_loss / len(dataloader)\n",
    "    accuracy_top1 = 100.0 * correct_top1 / total\n",
    "    accuracy_top5 = 100.0 * correct_top5 / total\n",
    "    \n",
    "    # 평가 시간 계산\n",
    "    eval_time = time.time() - start_time\n",
    "    \n",
    "    # 테스트 세트에 대한 성능 출력\n",
    "    print(f'{phase.capitalize()} set: Epoch: {epoch+1}, Average loss:{eval_loss:.4f}, '\n",
    "          f'Top-1 Accuracy: {accuracy_top1:.4f}%, Top-5 Accuracy: {accuracy_top5:.4f}%, Time consumed:{eval_time:.2f}s')\n",
    "    print()\n",
    "    \n",
    "    return eval_loss, accuracy_top1, accuracy_top5\n",
    "\n",
    "\n",
    "# 메인 학습 루프\n",
    "def main_training_loop(model, trainloader, valloader, testloader, criterion, optimizer, device, num_epochs, patience):\n",
    "    \"\"\"\n",
    "    메인 학습 루프\n",
    "    \"\"\"\n",
    "    early_stopping = EarlyStopping(patience=patience, verbose=True)\n",
    "    \n",
    "    best_acc_top1 = 0.0\n",
    "    best_acc_top5 = 0.0\n",
    "    \n",
    "    # tqdm을 사용한 진행 상황 표시\n",
    "    for epoch in tqdm(range(num_epochs)):\n",
    "        # 학습\n",
    "        train_loss, train_acc_top1, train_acc_top5 = train(model, trainloader, criterion, optimizer, device, epoch)\n",
    "        \n",
    "        # 평가\n",
    "        val_loss, val_acc_top1, val_acc_top5 = evaluate(model, valloader, criterion, device, epoch, phase=\"val\")\n",
    "        \n",
    "        # WandB에 로깅\n",
    "        wandb.log({\n",
    "            \"epoch\": epoch + 1,\n",
    "            \"learning_rate\": optimizer.param_groups[0]['lr'],\n",
    "            \"train_loss\": train_loss,\n",
    "            \"train_accuracy_top1\": train_acc_top1,\n",
    "            \"train_accuracy_top5\": train_acc_top5,\n",
    "            \"val_loss\": val_loss,\n",
    "            \"val_accuracy_top1\": val_acc_top1,\n",
    "            \"val_accuracy_top5\": val_acc_top5\n",
    "        })\n",
    "            \n",
    "        # 최고 정확도 모델 저장 (top-1 기준)\n",
    "        if val_acc_top1 > best_acc_top1:\n",
    "            best_acc_top1 = val_acc_top1\n",
    "            best_acc_top5_at_best_top1 = val_acc_top5\n",
    "            print(f'New best top-1 accuracy: {best_acc_top1:.2f}%, top-5 accuracy: {best_acc_top5_at_best_top1:.2f}%')\n",
    "            # 모델 저장\n",
    "            model_path = f'best_model_{wandb.run.name}.pth'\n",
    "            torch.save(model.state_dict(), model_path)\n",
    "            \n",
    "            # WandB에 모델 아티팩트 저장\n",
    "            wandb.save(model_path)\n",
    "        \n",
    "        # top-5 accuracy 기록 업데이트\n",
    "        if val_acc_top5 > best_acc_top5:\n",
    "            best_acc_top5 = val_acc_top5\n",
    "            print(f'New best top-5 accuracy: {best_acc_top5:.2f}%')\n",
    "\n",
    "        # Early stopping 체크 (validation loss 기준)\n",
    "        early_stopping(val_loss, model)\n",
    "        if early_stopping.early_stop:\n",
    "            print(\"Early stopping triggered. Training stopped.\")\n",
    "            break\n",
    "    \n",
    "    # 훈련 완료 후 모델 평가 (best model 로드)\n",
    "    if early_stopping.early_stop:\n",
    "        print(\"Loading best model from early stopping checkpoint...\")\n",
    "    else:\n",
    "        print(\"Loading best model based on validation accuracy...\")\n",
    "        model_path = f'best_model_{wandb.run.name}.pth'\n",
    "        model.load_state_dict(torch.load(model_path))\n",
    "\n",
    "    # 최종 테스트 세트 평가\n",
    "    test_loss, test_acc_top1, test_acc_top5 = evaluate(model, testloader, criterion, device, num_epochs-1, phase=\"test\")\n",
    "    \n",
    "    # 테스트 결과를 wandb 로그에 추가\n",
    "    wandb.log({\n",
    "        \"epoch\": epoch + 1,  # 마지막 에폭 또는 early stopping된 에폭\n",
    "        \"test_loss\": test_loss,\n",
    "        \"test_accuracy_top1\": test_acc_top1,\n",
    "        \"test_accuracy_top5\": test_acc_top5\n",
    "    })\n",
    "    \n",
    "    print(f'Finish! Best validation top-1 accuracy: {best_acc_top1:.2f}%, Best validation top-5 accuracy: {best_acc_top5:.2f}%')\n",
    "    print(f'Final test top-1 accuracy: {test_acc_top1:.2f}%, Final test top-5 accuracy: {test_acc_top5:.2f}%')\n",
    "    \n",
    "    # WandB에 최종 결과 기록\n",
    "    wandb.run.summary[\"best_val_accuracy_top1\"] = best_acc_top1\n",
    "    wandb.run.summary[\"best_val_accuracy_top5\"] = best_acc_top5\n",
    "    wandb.run.summary[\"test_accuracy_top1\"] = test_acc_top1\n",
    "    wandb.run.summary[\"test_accuracy_top5\"] = test_acc_top5\n",
    "\n",
    "    # Early stopping 정보 저장\n",
    "    if early_stopping.early_stop:\n",
    "        wandb.run.summary[\"early_stopped\"] = True\n",
    "        wandb.run.summary[\"early_stopped_epoch\"] = epoch+1\n",
    "    else:\n",
    "        wandb.run.summary[\"early_stopped\"] = False\n",
    "\n",
    "\n",
    "# 디바이스 설정\n",
    "device = torch.device(\"cuda\" if torch.cuda.is_available() else \"cpu\")\n",
    "print(f\"Using device: {device}\")\n",
    "\n",
    "# 모델 초기화\n",
    "model = resnet18().to(device)  \n",
    "criterion = nn.CrossEntropyLoss()  # 손실 함수 정의\n",
    "optimizer = optim.Adam(model.parameters(), lr=config[\"learning_rate\"])  # 옵티마이저 정의\n",
    "\n",
    "# WandB에 모델 구조 기록\n",
    "wandb.watch(model, log=\"all\")\n",
    "\n",
    "# GPU 가속\n",
    "if torch.cuda.device_count() > 1:\n",
    "    print(f\"{torch.cuda.device_count()}개의 GPU를 사용합니다.\")\n",
    "    model = nn.DataParallel(model)\n",
    "\n",
    "# 훈련 시작 시간 기록\n",
    "start_time = time.time()\n",
    "\n",
    "# 메인 학습 루프 호출\n",
    "main_training_loop(\n",
    "    model=model,\n",
    "    trainloader=trainloader,\n",
    "    valloader=valloader,\n",
    "    testloader=testloader,\n",
    "    criterion=criterion,\n",
    "    optimizer=optimizer,\n",
    "    device=device,\n",
    "    num_epochs=config[\"num_epochs\"],\n",
    "    patience=config[\"patience\"]\n",
    ")\n",
    "\n",
    "# 훈련 종료 시간 기록 및 출력\n",
    "end_time = time.time()\n",
    "total_time = end_time - start_time\n",
    "wandb.log({\"total_training_time\": total_time})\n",
    "\n",
    "print(f\"Total training time: {total_time:.2f} seconds\")\n",
    "\n",
    "# WandB 실행 종료\n",
    "wandb.finish()"
   ]
  },
  {
   "cell_type": "code",
   "execution_count": null,
   "id": "e57b9218-aa24-4297-bb92-473c215e6767",
   "metadata": {},
   "outputs": [],
   "source": []
  }
 ],
 "metadata": {
  "kernelspec": {
   "display_name": "Python 3 (ipykernel)",
   "language": "python",
   "name": "python3"
  },
  "language_info": {
   "codemirror_mode": {
    "name": "ipython",
    "version": 3
   },
   "file_extension": ".py",
   "mimetype": "text/x-python",
   "name": "python",
   "nbconvert_exporter": "python",
   "pygments_lexer": "ipython3",
   "version": "3.11.9"
  }
 },
 "nbformat": 4,
 "nbformat_minor": 5
}
