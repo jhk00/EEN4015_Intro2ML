{
 "cells": [
  {
   "cell_type": "code",
   "execution_count": 1,
   "id": "a0235f8d-3690-465e-a653-18478072b1d7",
   "metadata": {},
   "outputs": [
    {
     "name": "stdout",
     "output_type": "stream",
     "text": [
      "현재 GPU: NVIDIA RTX A5000\n",
      "사용 가능한 GPU 메모리: 25.43 GB\n",
      "현재 할당된 메모리: 0.00 GB\n",
      "현재 캐시된 메모리: 0.00 GB\n",
      "Sat Apr 19 04:43:44 2025       \n",
      "+-----------------------------------------------------------------------------+\n",
      "| NVIDIA-SMI 470.199.02   Driver Version: 470.199.02   CUDA Version: 12.2     |\n",
      "|-------------------------------+----------------------+----------------------+\n",
      "| GPU  Name        Persistence-M| Bus-Id        Disp.A | Volatile Uncorr. ECC |\n",
      "| Fan  Temp  Perf  Pwr:Usage/Cap|         Memory-Usage | GPU-Util  Compute M. |\n",
      "|                               |                      |               MIG M. |\n",
      "|===============================+======================+======================|\n",
      "|   0  NVIDIA RTX A5000    Off  | 00000000:3B:00.0 Off |                  Off |\n",
      "| 30%   33C    P8    20W / 230W |  24254MiB / 24256MiB |      0%      Default |\n",
      "|                               |                      |                  N/A |\n",
      "+-------------------------------+----------------------+----------------------+\n",
      "|   1  NVIDIA RTX A5000    Off  | 00000000:AF:00.0 Off |                  Off |\n",
      "| 30%   33C    P8    15W / 230W |  20906MiB / 24256MiB |      0%      Default |\n",
      "|                               |                      |                  N/A |\n",
      "+-------------------------------+----------------------+----------------------+\n",
      "                                                                               \n",
      "+-----------------------------------------------------------------------------+\n",
      "| Processes:                                                                  |\n",
      "|  GPU   GI   CI        PID   Type   Process name                  GPU Memory |\n",
      "|        ID   ID                                                   Usage      |\n",
      "|=============================================================================|\n",
      "+-----------------------------------------------------------------------------+\n"
     ]
    }
   ],
   "source": [
    "import torch\n",
    "import gc\n",
    "import os\n",
    "\n",
    "# 모든 PyTorch 변수 제거 시도\n",
    "try:\n",
    "    del model\n",
    "except:\n",
    "    pass\n",
    "\n",
    "try:\n",
    "    del optimizer, criterion, trainloader, testloader\n",
    "except:\n",
    "    pass\n",
    "\n",
    "# 강제 메모리 수집\n",
    "gc.collect()\n",
    "\n",
    "# CUDA 캐시 비우기\n",
    "torch.cuda.empty_cache()\n",
    "\n",
    "# GPU 상태 확인\n",
    "if torch.cuda.is_available():\n",
    "    print(f\"현재 GPU: {torch.cuda.get_device_name()}\")\n",
    "    print(f\"사용 가능한 GPU 메모리: {torch.cuda.get_device_properties(0).total_memory / 1e9:.2f} GB\")\n",
    "    print(f\"현재 할당된 메모리: {torch.cuda.memory_allocated() / 1e9:.2f} GB\")\n",
    "    print(f\"현재 캐시된 메모리: {torch.cuda.memory_reserved() / 1e9:.2f} GB\")\n",
    "\n",
    "# 시스템 메모리 상태 확인\n",
    "!nvidia-smi"
   ]
  },
  {
   "cell_type": "code",
   "execution_count": null,
   "id": "92829523-816b-4c13-bf88-e93eee9f6a66",
   "metadata": {},
   "outputs": [],
   "source": []
  }
 ],
 "metadata": {
  "kernelspec": {
   "display_name": "Python 3 (ipykernel)",
   "language": "python",
   "name": "python3"
  },
  "language_info": {
   "codemirror_mode": {
    "name": "ipython",
    "version": 3
   },
   "file_extension": ".py",
   "mimetype": "text/x-python",
   "name": "python",
   "nbconvert_exporter": "python",
   "pygments_lexer": "ipython3",
   "version": "3.11.9"
  }
 },
 "nbformat": 4,
 "nbformat_minor": 5
}
