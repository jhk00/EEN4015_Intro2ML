{
 "cells": [
  {
   "cell_type": "code",
   "execution_count": null,
   "id": "516f9d5f-6361-4b03-98ee-e1ba4de86b92",
   "metadata": {},
   "outputs": [
    {
     "name": "stderr",
     "output_type": "stream",
     "text": [
      "\u001b[34m\u001b[1mwandb\u001b[0m: \u001b[33mWARNING\u001b[0m Calling wandb.login() after wandb.init() has no effect.\n"
     ]
    },
    {
     "data": {
      "text/html": [],
      "text/plain": [
       "<IPython.core.display.HTML object>"
      ]
     },
     "metadata": {},
     "output_type": "display_data"
    },
    {
     "data": {
      "text/html": [
       " View run <strong style=\"color:#cdcd00\">shake_resnet18_cutmix,flip,crop_standard</strong> at: <a href='https://wandb.ai/sokjh1310-hanyang-university/PBL-2/runs/qzzmew2k' target=\"_blank\">https://wandb.ai/sokjh1310-hanyang-university/PBL-2/runs/qzzmew2k</a><br> View project at: <a href='https://wandb.ai/sokjh1310-hanyang-university/PBL-2' target=\"_blank\">https://wandb.ai/sokjh1310-hanyang-university/PBL-2</a><br>Synced 5 W&B file(s), 0 media file(s), 0 artifact file(s) and 0 other file(s)"
      ],
      "text/plain": [
       "<IPython.core.display.HTML object>"
      ]
     },
     "metadata": {},
     "output_type": "display_data"
    },
    {
     "data": {
      "text/html": [
       "Find logs at: <code>./wandb/run-20250416_165028-qzzmew2k/logs</code>"
      ],
      "text/plain": [
       "<IPython.core.display.HTML object>"
      ]
     },
     "metadata": {},
     "output_type": "display_data"
    },
    {
     "data": {
      "text/html": [
       "Tracking run with wandb version 0.19.9"
      ],
      "text/plain": [
       "<IPython.core.display.HTML object>"
      ]
     },
     "metadata": {},
     "output_type": "display_data"
    },
    {
     "data": {
      "text/html": [
       "Run data is saved locally in <code>/home/guswls/EEN4015_Intro2ML/pbl-2/wandb/run-20250416_165255-sgr8lddl</code>"
      ],
      "text/plain": [
       "<IPython.core.display.HTML object>"
      ]
     },
     "metadata": {},
     "output_type": "display_data"
    },
    {
     "data": {
      "text/html": [
       "Syncing run <strong><a href='https://wandb.ai/sokjh1310-hanyang-university/PBL-2/runs/sgr8lddl' target=\"_blank\">shake_resnet18_cutmix,flip,crop_standard</a></strong> to <a href='https://wandb.ai/sokjh1310-hanyang-university/PBL-2' target=\"_blank\">Weights & Biases</a> (<a href='https://wandb.me/developer-guide' target=\"_blank\">docs</a>)<br>"
      ],
      "text/plain": [
       "<IPython.core.display.HTML object>"
      ]
     },
     "metadata": {},
     "output_type": "display_data"
    },
    {
     "data": {
      "text/html": [
       " View project at <a href='https://wandb.ai/sokjh1310-hanyang-university/PBL-2' target=\"_blank\">https://wandb.ai/sokjh1310-hanyang-university/PBL-2</a>"
      ],
      "text/plain": [
       "<IPython.core.display.HTML object>"
      ]
     },
     "metadata": {},
     "output_type": "display_data"
    },
    {
     "data": {
      "text/html": [
       " View run at <a href='https://wandb.ai/sokjh1310-hanyang-university/PBL-2/runs/sgr8lddl' target=\"_blank\">https://wandb.ai/sokjh1310-hanyang-university/PBL-2/runs/sgr8lddl</a>"
      ],
      "text/plain": [
       "<IPython.core.display.HTML object>"
      ]
     },
     "metadata": {},
     "output_type": "display_data"
    },
    {
     "name": "stdout",
     "output_type": "stream",
     "text": [
      "Files already downloaded and verified\n",
      "Files already downloaded and verified\n",
      "Train set size: 50000\n",
      "Test set size: 10000\n",
      "Using device: cuda\n",
      "2개의 GPU를 사용합니다.\n"
     ]
    },
    {
     "name": "stderr",
     "output_type": "stream",
     "text": [
      "  0%|                                                                                                       | 0/100 [00:00<?, ?it/s]"
     ]
    },
    {
     "name": "stdout",
     "output_type": "stream",
     "text": [
      "Epoch [1], Batch [50/391], Loss: 4.4131\n",
      "Epoch [1], Batch [100/391], Loss: 4.5366\n",
      "Epoch [1], Batch [150/391], Loss: 4.5755\n",
      "Epoch [1], Batch [200/391], Loss: 3.8333\n",
      "Epoch [1], Batch [250/391], Loss: 4.3270\n",
      "Epoch [1], Batch [300/391], Loss: 3.9326\n",
      "Epoch [1], Batch [350/391], Loss: 4.1994\n",
      "Train set: Epoch: 1, Average loss:4.2195, LR: 0.001000 Top-1 Accuracy: 6.8840%, Top-5 Accuracy: 23.1880%, Time consumed:52.02s\n",
      "Test set: Epoch: 1, Average loss:3.7470, Top-1 Accuracy: 11.1100%, Top-5 Accuracy: 34.5800%, Time consumed:8.36s\n",
      "\n",
      "새로운 최고 top-1 정확도: 11.11%, top-5 정확도: 34.58%\n",
      "새로운 최고 top-5 정확도: 34.58%\n",
      "Accuracy improved (-inf% --> 11.11%). Saving model ...\n"
     ]
    },
    {
     "name": "stderr",
     "output_type": "stream",
     "text": [
      "  1%|▉                                                                                            | 1/100 [01:00<1:40:03, 60.64s/it]"
     ]
    },
    {
     "name": "stdout",
     "output_type": "stream",
     "text": [
      "Epoch [2], Batch [50/391], Loss: 4.4572\n",
      "Epoch [2], Batch [100/391], Loss: 4.3913\n",
      "Epoch [2], Batch [150/391], Loss: 3.8893\n",
      "Epoch [2], Batch [200/391], Loss: 3.6757\n",
      "Epoch [2], Batch [250/391], Loss: 4.4478\n",
      "Epoch [2], Batch [300/391], Loss: 3.7413\n",
      "Epoch [2], Batch [350/391], Loss: 3.3925\n",
      "Train set: Epoch: 2, Average loss:4.0110, LR: 0.001000 Top-1 Accuracy: 9.9680%, Top-5 Accuracy: 30.1520%, Time consumed:54.14s\n",
      "Test set: Epoch: 2, Average loss:3.5607, Top-1 Accuracy: 15.5200%, Top-5 Accuracy: 41.0700%, Time consumed:8.84s\n",
      "\n",
      "새로운 최고 top-1 정확도: 15.52%, top-5 정확도: 41.07%\n",
      "새로운 최고 top-5 정확도: 41.07%\n",
      "Accuracy improved (11.11% --> 15.52%). Saving model ...\n"
     ]
    },
    {
     "name": "stderr",
     "output_type": "stream",
     "text": [
      "  2%|█▊                                                                                           | 2/100 [02:03<1:41:31, 62.16s/it]"
     ]
    },
    {
     "name": "stdout",
     "output_type": "stream",
     "text": [
      "Epoch [3], Batch [50/391], Loss: 4.1063\n",
      "Epoch [3], Batch [100/391], Loss: 3.8103\n",
      "Epoch [3], Batch [150/391], Loss: 3.4233\n",
      "Epoch [3], Batch [200/391], Loss: 4.2381\n",
      "Epoch [3], Batch [250/391], Loss: 3.5546\n",
      "Epoch [3], Batch [300/391], Loss: 3.5591\n",
      "Epoch [3], Batch [350/391], Loss: 3.7933\n",
      "Train set: Epoch: 3, Average loss:3.9209, LR: 0.001000 Top-1 Accuracy: 11.9220%, Top-5 Accuracy: 33.5760%, Time consumed:55.14s\n",
      "Test set: Epoch: 3, Average loss:3.3134, Top-1 Accuracy: 20.0000%, Top-5 Accuracy: 47.5200%, Time consumed:8.46s\n",
      "\n",
      "새로운 최고 top-1 정확도: 20.00%, top-5 정확도: 47.52%\n",
      "새로운 최고 top-5 정확도: 47.52%\n",
      "Accuracy improved (15.52% --> 20.00%). Saving model ...\n"
     ]
    },
    {
     "name": "stderr",
     "output_type": "stream",
     "text": [
      "  3%|██▊                                                                                          | 3/100 [03:07<1:41:45, 62.94s/it]"
     ]
    },
    {
     "name": "stdout",
     "output_type": "stream",
     "text": [
      "Epoch [4], Batch [50/391], Loss: 4.2191\n",
      "Epoch [4], Batch [100/391], Loss: 3.4495\n",
      "Epoch [4], Batch [150/391], Loss: 4.1670\n",
      "Epoch [4], Batch [200/391], Loss: 4.3852\n",
      "Epoch [4], Batch [250/391], Loss: 3.5038\n",
      "Epoch [4], Batch [300/391], Loss: 3.5400\n",
      "Epoch [4], Batch [350/391], Loss: 3.8865\n",
      "Train set: Epoch: 4, Average loss:3.8661, LR: 0.001000 Top-1 Accuracy: 12.7320%, Top-5 Accuracy: 35.1920%, Time consumed:51.96s\n"
     ]
    },
    {
     "name": "stderr",
     "output_type": "stream",
     "text": [
      "  4%|███▋                                                                                         | 4/100 [04:08<1:39:06, 61.94s/it]"
     ]
    },
    {
     "name": "stdout",
     "output_type": "stream",
     "text": [
      "Test set: Epoch: 4, Average loss:3.4536, Top-1 Accuracy: 16.9900%, Top-5 Accuracy: 43.7600%, Time consumed:8.44s\n",
      "\n",
      "EarlyStopping 카운터: 1 / 10\n",
      "Epoch [5], Batch [50/391], Loss: 3.5085\n",
      "Epoch [5], Batch [100/391], Loss: 3.6466\n",
      "Epoch [5], Batch [150/391], Loss: 3.6194\n",
      "Epoch [5], Batch [200/391], Loss: 3.5197\n",
      "Epoch [5], Batch [250/391], Loss: 3.9333\n",
      "Epoch [5], Batch [300/391], Loss: 3.7695\n",
      "Epoch [5], Batch [350/391], Loss: 3.8150\n",
      "Train set: Epoch: 5, Average loss:3.8874, LR: 0.001000 Top-1 Accuracy: 12.6920%, Top-5 Accuracy: 34.6820%, Time consumed:52.96s\n"
     ]
    },
    {
     "name": "stderr",
     "output_type": "stream",
     "text": [
      "  5%|████▋                                                                                        | 5/100 [05:09<1:37:57, 61.87s/it]"
     ]
    },
    {
     "name": "stdout",
     "output_type": "stream",
     "text": [
      "Test set: Epoch: 5, Average loss:3.4885, Top-1 Accuracy: 17.2900%, Top-5 Accuracy: 42.1200%, Time consumed:8.76s\n",
      "\n",
      "EarlyStopping 카운터: 2 / 10\n",
      "Epoch [6], Batch [50/391], Loss: 3.5151\n",
      "Epoch [6], Batch [100/391], Loss: 4.2297\n",
      "Epoch [6], Batch [150/391], Loss: 3.4122\n",
      "Epoch [6], Batch [200/391], Loss: 4.1976\n",
      "Epoch [6], Batch [250/391], Loss: 4.3244\n",
      "Epoch [6], Batch [300/391], Loss: 3.6104\n",
      "Epoch [6], Batch [350/391], Loss: 3.8544\n",
      "Train set: Epoch: 6, Average loss:3.8685, LR: 0.001000 Top-1 Accuracy: 12.9940%, Top-5 Accuracy: 35.6140%, Time consumed:51.55s\n"
     ]
    },
    {
     "name": "stderr",
     "output_type": "stream",
     "text": [
      "  6%|█████▌                                                                                       | 6/100 [06:09<1:35:55, 61.23s/it]"
     ]
    },
    {
     "name": "stdout",
     "output_type": "stream",
     "text": [
      "Test set: Epoch: 6, Average loss:3.5067, Top-1 Accuracy: 17.6000%, Top-5 Accuracy: 43.4500%, Time consumed:8.44s\n",
      "\n",
      "EarlyStopping 카운터: 3 / 10\n",
      "Epoch [7], Batch [50/391], Loss: 4.9350\n",
      "Epoch [7], Batch [100/391], Loss: 4.4900\n",
      "Epoch [7], Batch [150/391], Loss: 3.4795\n",
      "Epoch [7], Batch [200/391], Loss: 4.0150\n",
      "Epoch [7], Batch [250/391], Loss: 3.6783\n",
      "Epoch [7], Batch [300/391], Loss: 3.4016\n",
      "Epoch [7], Batch [350/391], Loss: 4.0405\n",
      "Train set: Epoch: 7, Average loss:3.8559, LR: 0.001000 Top-1 Accuracy: 13.3380%, Top-5 Accuracy: 35.8160%, Time consumed:50.88s\n"
     ]
    },
    {
     "name": "stderr",
     "output_type": "stream",
     "text": [
      "  7%|██████▌                                                                                      | 7/100 [07:09<1:33:54, 60.58s/it]"
     ]
    },
    {
     "name": "stdout",
     "output_type": "stream",
     "text": [
      "Test set: Epoch: 7, Average loss:4.6872, Top-1 Accuracy: 14.2900%, Top-5 Accuracy: 36.9500%, Time consumed:8.37s\n",
      "\n",
      "EarlyStopping 카운터: 4 / 10\n",
      "Epoch [8], Batch [50/391], Loss: 3.9439\n",
      "Epoch [8], Batch [100/391], Loss: 4.1097\n",
      "Epoch [8], Batch [150/391], Loss: 3.8097\n",
      "Epoch [8], Batch [200/391], Loss: 3.5675\n",
      "Epoch [8], Batch [250/391], Loss: 3.3096\n",
      "Epoch [8], Batch [300/391], Loss: 3.3319\n",
      "Epoch [8], Batch [350/391], Loss: 3.2245\n",
      "Train set: Epoch: 8, Average loss:3.8490, LR: 0.001000 Top-1 Accuracy: 13.8180%, Top-5 Accuracy: 36.2320%, Time consumed:51.36s\n"
     ]
    },
    {
     "name": "stderr",
     "output_type": "stream",
     "text": [
      "  8%|███████▍                                                                                     | 8/100 [08:09<1:32:34, 60.38s/it]"
     ]
    },
    {
     "name": "stdout",
     "output_type": "stream",
     "text": [
      "Test set: Epoch: 8, Average loss:3.5070, Top-1 Accuracy: 18.4400%, Top-5 Accuracy: 43.8600%, Time consumed:8.58s\n",
      "\n",
      "EarlyStopping 카운터: 5 / 10\n",
      "Epoch [9], Batch [50/391], Loss: 3.9111\n",
      "Epoch [9], Batch [100/391], Loss: 3.9518\n",
      "Epoch [9], Batch [150/391], Loss: 4.2723\n",
      "Epoch [9], Batch [200/391], Loss: 3.7393\n",
      "Epoch [9], Batch [250/391], Loss: 4.5621\n",
      "Epoch [9], Batch [300/391], Loss: 3.4549\n",
      "Epoch [9], Batch [350/391], Loss: 3.8943\n",
      "Train set: Epoch: 9, Average loss:3.8543, LR: 0.001000 Top-1 Accuracy: 13.9160%, Top-5 Accuracy: 36.5020%, Time consumed:53.09s\n"
     ]
    },
    {
     "name": "stderr",
     "output_type": "stream",
     "text": [
      "  9%|████████▎                                                                                    | 9/100 [09:11<1:32:26, 60.95s/it]"
     ]
    },
    {
     "name": "stdout",
     "output_type": "stream",
     "text": [
      "Test set: Epoch: 9, Average loss:5.3648, Top-1 Accuracy: 11.5200%, Top-5 Accuracy: 29.3000%, Time consumed:9.09s\n",
      "\n",
      "EarlyStopping 카운터: 6 / 10\n",
      "Epoch [10], Batch [50/391], Loss: 3.5169\n",
      "Epoch [10], Batch [100/391], Loss: 3.3720\n",
      "Epoch [10], Batch [150/391], Loss: 3.7825\n",
      "Epoch [10], Batch [200/391], Loss: 3.7036\n",
      "Epoch [10], Batch [250/391], Loss: 3.5044\n",
      "Epoch [10], Batch [300/391], Loss: 3.7416\n",
      "Epoch [10], Batch [350/391], Loss: 4.2313\n",
      "Train set: Epoch: 10, Average loss:3.8603, LR: 0.001000 Top-1 Accuracy: 13.4980%, Top-5 Accuracy: 36.3980%, Time consumed:54.87s\n",
      "Test set: Epoch: 10, Average loss:3.2438, Top-1 Accuracy: 21.4000%, Top-5 Accuracy: 49.8700%, Time consumed:8.37s\n",
      "\n",
      "새로운 최고 top-1 정확도: 21.40%, top-5 정확도: 49.87%\n",
      "새로운 최고 top-5 정확도: 49.87%\n",
      "Accuracy improved (20.00% --> 21.40%). Saving model ...\n"
     ]
    },
    {
     "name": "stderr",
     "output_type": "stream",
     "text": [
      " 10%|█████████▏                                                                                  | 10/100 [10:14<1:32:36, 61.74s/it]"
     ]
    },
    {
     "name": "stdout",
     "output_type": "stream",
     "text": [
      "Epoch [11], Batch [50/391], Loss: 3.9301\n",
      "Epoch [11], Batch [100/391], Loss: 3.2516\n",
      "Epoch [11], Batch [150/391], Loss: 3.0322\n",
      "Epoch [11], Batch [200/391], Loss: 3.2619\n",
      "Epoch [11], Batch [250/391], Loss: 4.1737\n",
      "Epoch [11], Batch [300/391], Loss: 4.1872\n",
      "Epoch [11], Batch [350/391], Loss: 3.4522\n",
      "Train set: Epoch: 11, Average loss:3.8435, LR: 0.001000 Top-1 Accuracy: 14.1260%, Top-5 Accuracy: 36.7840%, Time consumed:51.15s\n"
     ]
    },
    {
     "name": "stderr",
     "output_type": "stream",
     "text": [
      " 11%|██████████                                                                                  | 11/100 [11:14<1:30:38, 61.10s/it]"
     ]
    },
    {
     "name": "stdout",
     "output_type": "stream",
     "text": [
      "Test set: Epoch: 11, Average loss:3.5350, Top-1 Accuracy: 15.3500%, Top-5 Accuracy: 42.5200%, Time consumed:8.51s\n",
      "\n",
      "EarlyStopping 카운터: 1 / 10\n",
      "Epoch [12], Batch [50/391], Loss: 3.3350\n",
      "Epoch [12], Batch [100/391], Loss: 4.2647\n",
      "Epoch [12], Batch [150/391], Loss: 3.5254\n",
      "Epoch [12], Batch [200/391], Loss: 3.4261\n",
      "Epoch [12], Batch [250/391], Loss: 3.7153\n",
      "Epoch [12], Batch [300/391], Loss: 4.5201\n",
      "Epoch [12], Batch [350/391], Loss: 3.8699\n",
      "Train set: Epoch: 12, Average loss:3.8308, LR: 0.001000 Top-1 Accuracy: 14.0860%, Top-5 Accuracy: 36.8600%, Time consumed:50.41s\n"
     ]
    },
    {
     "name": "stderr",
     "output_type": "stream",
     "text": [
      " 12%|███████████                                                                                 | 12/100 [12:13<1:28:34, 60.39s/it]"
     ]
    },
    {
     "name": "stdout",
     "output_type": "stream",
     "text": [
      "Test set: Epoch: 12, Average loss:3.5465, Top-1 Accuracy: 16.4200%, Top-5 Accuracy: 42.4300%, Time consumed:8.35s\n",
      "\n",
      "EarlyStopping 카운터: 2 / 10\n",
      "Epoch [13], Batch [50/391], Loss: 4.3709\n",
      "Epoch [13], Batch [100/391], Loss: 3.8555\n",
      "Epoch [13], Batch [150/391], Loss: 3.4770\n",
      "Epoch [13], Batch [200/391], Loss: 4.0522\n",
      "Epoch [13], Batch [250/391], Loss: 4.0228\n",
      "Epoch [13], Batch [300/391], Loss: 3.6113\n",
      "Epoch [13], Batch [350/391], Loss: 3.4090\n",
      "Train set: Epoch: 13, Average loss:3.8075, LR: 0.001000 Top-1 Accuracy: 14.4780%, Top-5 Accuracy: 38.2540%, Time consumed:51.34s\n"
     ]
    },
    {
     "name": "stderr",
     "output_type": "stream",
     "text": [
      " 13%|███████████▉                                                                                | 13/100 [13:13<1:27:27, 60.32s/it]"
     ]
    },
    {
     "name": "stdout",
     "output_type": "stream",
     "text": [
      "Test set: Epoch: 13, Average loss:3.6782, Top-1 Accuracy: 13.0700%, Top-5 Accuracy: 36.1500%, Time consumed:8.81s\n",
      "\n",
      "EarlyStopping 카운터: 3 / 10\n",
      "Epoch [14], Batch [50/391], Loss: 3.9945\n",
      "Epoch [14], Batch [100/391], Loss: 4.2817\n",
      "Epoch [14], Batch [150/391], Loss: 4.2218\n",
      "Epoch [14], Batch [200/391], Loss: 3.8911\n",
      "Epoch [14], Batch [250/391], Loss: 2.9854\n",
      "Epoch [14], Batch [300/391], Loss: 4.4269\n",
      "Epoch [14], Batch [350/391], Loss: 4.2211\n",
      "Train set: Epoch: 14, Average loss:3.8678, LR: 0.001000 Top-1 Accuracy: 13.9940%, Top-5 Accuracy: 36.4960%, Time consumed:51.98s\n"
     ]
    },
    {
     "name": "stderr",
     "output_type": "stream",
     "text": [
      " 14%|████████████▉                                                                               | 14/100 [14:13<1:26:27, 60.32s/it]"
     ]
    },
    {
     "name": "stdout",
     "output_type": "stream",
     "text": [
      "Test set: Epoch: 14, Average loss:3.5143, Top-1 Accuracy: 16.0900%, Top-5 Accuracy: 42.7000%, Time consumed:8.32s\n",
      "\n",
      "EarlyStopping 카운터: 4 / 10\n",
      "Epoch [15], Batch [50/391], Loss: 2.9616\n",
      "Epoch [15], Batch [100/391], Loss: 3.2401\n",
      "Epoch [15], Batch [150/391], Loss: 3.3114\n",
      "Epoch [15], Batch [200/391], Loss: 3.2607\n",
      "Epoch [15], Batch [250/391], Loss: 4.2906\n",
      "Epoch [15], Batch [300/391], Loss: 3.9390\n",
      "Epoch [15], Batch [350/391], Loss: 4.2664\n",
      "Train set: Epoch: 15, Average loss:3.8537, LR: 0.001000 Top-1 Accuracy: 13.9340%, Top-5 Accuracy: 36.7580%, Time consumed:52.13s\n"
     ]
    },
    {
     "name": "stderr",
     "output_type": "stream",
     "text": [
      " 15%|█████████████▊                                                                              | 15/100 [15:14<1:25:30, 60.35s/it]"
     ]
    },
    {
     "name": "stdout",
     "output_type": "stream",
     "text": [
      "Test set: Epoch: 15, Average loss:3.5952, Top-1 Accuracy: 14.2800%, Top-5 Accuracy: 39.2900%, Time consumed:8.29s\n",
      "\n",
      "EarlyStopping 카운터: 5 / 10\n",
      "Epoch [16], Batch [50/391], Loss: 4.1775\n",
      "Epoch [16], Batch [100/391], Loss: 3.5318\n",
      "Epoch [16], Batch [150/391], Loss: 4.2389\n",
      "Epoch [16], Batch [200/391], Loss: 3.7378\n",
      "Epoch [16], Batch [250/391], Loss: 4.5162\n",
      "Epoch [16], Batch [300/391], Loss: 4.2633\n",
      "Epoch [16], Batch [350/391], Loss: 3.5979\n",
      "Train set: Epoch: 16, Average loss:3.9185, LR: 0.001000 Top-1 Accuracy: 13.2320%, Top-5 Accuracy: 35.2680%, Time consumed:50.45s\n"
     ]
    },
    {
     "name": "stderr",
     "output_type": "stream",
     "text": [
      " 16%|██████████████▋                                                                             | 16/100 [16:13<1:23:59, 60.00s/it]"
     ]
    },
    {
     "name": "stdout",
     "output_type": "stream",
     "text": [
      "Test set: Epoch: 16, Average loss:3.4795, Top-1 Accuracy: 16.8900%, Top-5 Accuracy: 42.9300%, Time consumed:8.71s\n",
      "\n",
      "EarlyStopping 카운터: 6 / 10\n",
      "Epoch [17], Batch [50/391], Loss: 3.5065\n",
      "Epoch [17], Batch [100/391], Loss: 4.3721\n",
      "Epoch [17], Batch [150/391], Loss: 3.8895\n",
      "Epoch [17], Batch [200/391], Loss: 3.4335\n",
      "Epoch [17], Batch [250/391], Loss: 3.5134\n",
      "Epoch [17], Batch [300/391], Loss: 4.4761\n",
      "Epoch [17], Batch [350/391], Loss: 4.1057\n",
      "Train set: Epoch: 17, Average loss:3.8944, LR: 0.001000 Top-1 Accuracy: 13.6180%, Top-5 Accuracy: 35.5880%, Time consumed:50.51s\n"
     ]
    },
    {
     "name": "stderr",
     "output_type": "stream",
     "text": [
      " 17%|███████████████▋                                                                            | 17/100 [17:12<1:22:32, 59.66s/it]"
     ]
    },
    {
     "name": "stdout",
     "output_type": "stream",
     "text": [
      "Test set: Epoch: 17, Average loss:3.8188, Top-1 Accuracy: 12.8100%, Top-5 Accuracy: 34.1700%, Time consumed:8.37s\n",
      "\n",
      "EarlyStopping 카운터: 7 / 10\n",
      "Epoch [18], Batch [50/391], Loss: 3.6548\n",
      "Epoch [18], Batch [100/391], Loss: 4.2710\n",
      "Epoch [18], Batch [150/391], Loss: 4.0048\n",
      "Epoch [18], Batch [200/391], Loss: 4.3955\n",
      "Epoch [18], Batch [250/391], Loss: 3.5036\n",
      "Epoch [18], Batch [300/391], Loss: 4.4595\n",
      "Epoch [18], Batch [350/391], Loss: 3.5250\n",
      "Train set: Epoch: 18, Average loss:3.8949, LR: 0.001000 Top-1 Accuracy: 13.4860%, Top-5 Accuracy: 35.7660%, Time consumed:50.72s\n"
     ]
    },
    {
     "name": "stderr",
     "output_type": "stream",
     "text": [
      " 18%|████████████████▌                                                                           | 18/100 [18:11<1:21:21, 59.53s/it]"
     ]
    },
    {
     "name": "stdout",
     "output_type": "stream",
     "text": [
      "Test set: Epoch: 18, Average loss:4.0211, Top-1 Accuracy: 8.0100%, Top-5 Accuracy: 26.2200%, Time consumed:8.50s\n",
      "\n",
      "EarlyStopping 카운터: 8 / 10\n",
      "Epoch [19], Batch [50/391], Loss: 3.4713\n",
      "Epoch [19], Batch [100/391], Loss: 4.2098\n",
      "Epoch [19], Batch [150/391], Loss: 3.7448\n",
      "Epoch [19], Batch [200/391], Loss: 4.0576\n",
      "Epoch [19], Batch [250/391], Loss: 4.2825\n",
      "Epoch [19], Batch [300/391], Loss: 3.3730\n",
      "Epoch [19], Batch [350/391], Loss: 4.2926\n",
      "Train set: Epoch: 19, Average loss:3.8974, LR: 0.001000 Top-1 Accuracy: 13.6760%, Top-5 Accuracy: 35.8380%, Time consumed:52.61s\n"
     ]
    },
    {
     "name": "stderr",
     "output_type": "stream",
     "text": [
      " 19%|█████████████████▍                                                                          | 19/100 [19:13<1:21:13, 60.16s/it]"
     ]
    },
    {
     "name": "stdout",
     "output_type": "stream",
     "text": [
      "Test set: Epoch: 19, Average loss:3.9990, Top-1 Accuracy: 9.5900%, Top-5 Accuracy: 27.2800%, Time consumed:9.02s\n",
      "\n",
      "EarlyStopping 카운터: 9 / 10\n",
      "Epoch [20], Batch [50/391], Loss: 4.2931\n",
      "Epoch [20], Batch [100/391], Loss: 3.7948\n",
      "Epoch [20], Batch [150/391], Loss: 4.2035\n",
      "Epoch [20], Batch [200/391], Loss: 4.5825\n",
      "Epoch [20], Batch [250/391], Loss: 3.8772\n",
      "Epoch [20], Batch [300/391], Loss: 4.1929\n",
      "Epoch [20], Batch [350/391], Loss: 3.9609\n"
     ]
    }
   ],
   "source": [
    "import torch\n",
    "import torch.nn as nn\n",
    "import torch.optim as optim\n",
    "from torch.utils.data import DataLoader\n",
    "import torchvision\n",
    "import torchvision.transforms as transforms\n",
    "import torchvision.transforms.v2 as transforms_v2  # CutMix를 위한 v2 transforms 추가\n",
    "import sys\n",
    "import os\n",
    "import time\n",
    "import random\n",
    "import numpy as np\n",
    "import wandb\n",
    "from tqdm import tqdm\n",
    "from tools.tool import AccuracyEarlyStopping  # 수정된 AccuracyEarlyStopping 클래스 임포트\n",
    "from models.shake_resnet import shake_resnet18\n",
    "\n",
    "wandb.login(key=\"ef091b9abcea3186341ddf8995d62bde62d7469e\")\n",
    "wandb.init(project=\"PBL-2\", name=\"shake_resnet18_cutmix,flip,crop_standard\")  \n",
    "\n",
    "# WandB 설정\n",
    "config = {\n",
    "    \"model\": \"shake_resnet18\",\n",
    "    \"batch_size\": 128,\n",
    "    \"num_epochs\": 100,\n",
    "    \"learning_rate\": 0.001,\n",
    "    \"optimizer\": \"Adam\",\n",
    "    \"seed\": 2025,\n",
    "    \"deterministic\": False,\n",
    "    \"patience\": 10,  # early stopping patience\n",
    "    \"max_epochs_wait\": 30,  # 최대 30 에폭까지만 기다림\n",
    "    \"cutmix_alpha\": 1.0,  # CutMix 알파 파라미터 추가\n",
    "    \"cutmix_prob\": 0.5,   # CutMix 적용 확률 추가\n",
    "    \"crop_padding\": 4,    # RandomCrop 패딩 크기\n",
    "    \"crop_size\": 32,      # RandomCrop 크기 (CIFAR-100 이미지 크기는 32x32)\n",
    "}\n",
    "wandb.config.update(config)\n",
    "\n",
    "# CIFAR-100 데이터셋 로드 - 기본 train/test 분할 사용\n",
    "transform_train = transforms.Compose([\n",
    "    transforms.RandomCrop(config[\"crop_size\"], padding=config[\"crop_padding\"]),  # 패딩 후 랜덤 크롭\n",
    "    transforms.RandomHorizontalFlip(),  # 수평 뒤집기\n",
    "    transforms.ToTensor(),\n",
    "    transforms.Normalize((0.5071, 0.4867, 0.4408), (0.2675, 0.2565, 0.2761)),\n",
    "])\n",
    "\n",
    "transform_test = transforms.Compose([\n",
    "    transforms.ToTensor(),\n",
    "    transforms.Normalize((0.5071, 0.4867, 0.4408), (0.2675, 0.2565, 0.2761)),\n",
    "])\n",
    "\n",
    "trainset = torchvision.datasets.CIFAR100(\n",
    "    root='./data', train=True, download=True, transform=transform_train)\n",
    "\n",
    "testset = torchvision.datasets.CIFAR100(\n",
    "    root='./data', train=False, download=True, transform=transform_test)\n",
    "\n",
    "# DataLoader 생성\n",
    "trainloader = DataLoader(trainset, batch_size=config[\"batch_size\"], shuffle=True, num_workers=16)\n",
    "testloader = DataLoader(testset, batch_size=config[\"batch_size\"], shuffle=False, num_workers=16)\n",
    "\n",
    "print(f\"Train set size: {len(trainset)}\")\n",
    "print(f\"Test set size: {len(testset)}\")\n",
    "\n",
    "# CutMix 변환 정의\n",
    "cutmix = transforms_v2.CutMix(alpha=config[\"cutmix_alpha\"], num_classes=100)  # CIFAR-100은 100개 클래스\n",
    "\n",
    "def train(model, trainloader, criterion, optimizer, device, epoch):\n",
    "    \"\"\"\n",
    "    학습 함수 (CutMix 적용)\n",
    "    \"\"\"\n",
    "    model.train()   # 모델을 학습 모드로 설정\n",
    "    start_time = time.time()  # 시간 측정 시작\n",
    "    running_loss = 0.0\n",
    "    correct_top1 = 0\n",
    "    correct_top5 = 0\n",
    "    total = 0\n",
    "    \n",
    "    for i, (inputs, labels) in enumerate(trainloader):\n",
    "        inputs, labels = inputs.to(device), labels.to(device)\n",
    "        \n",
    "        # CutMix 확률적 적용\n",
    "        if random.random() < config[\"cutmix_prob\"]:\n",
    "            inputs, labels = cutmix(inputs, labels)\n",
    "            # 이 경우 labels은 원-핫 인코딩 형태로 변환됨\n",
    "            use_cutmix = True\n",
    "        else:\n",
    "            use_cutmix = False\n",
    "        \n",
    "        optimizer.zero_grad()\n",
    "        \n",
    "        outputs = model(inputs)\n",
    "        \n",
    "        # CutMix 적용 여부에 따라 손실 함수 선택\n",
    "        if use_cutmix:\n",
    "            # CutMix가 적용된 경우 (원-핫 인코딩된 레이블)\n",
    "            loss = torch.nn.functional.cross_entropy(outputs, labels)\n",
    "        else:\n",
    "            # 일반적인 경우 (정수 인덱스 레이블)\n",
    "            loss = criterion(outputs, labels)\n",
    "            \n",
    "        loss.backward()\n",
    "        optimizer.step()\n",
    "        \n",
    "        running_loss += loss.item()\n",
    "        \n",
    "        # 정확도 계산 - CutMix 적용 여부에 따라 다르게 처리\n",
    "        if use_cutmix:\n",
    "            # 원-핫 인코딩된 레이블에서 argmax를 사용해 가장 큰 값의 인덱스 추출\n",
    "            _, label_idx = labels.max(1)\n",
    "        else:\n",
    "            # 정수 인덱스 레이블 그대로 사용\n",
    "            label_idx = labels\n",
    "            \n",
    "        # top-1 정확도 계산\n",
    "        _, predicted = outputs.max(1)\n",
    "        total += inputs.size(0)\n",
    "        correct_top1 += predicted.eq(label_idx).sum().item()\n",
    "        \n",
    "        # top-5 정확도 계산\n",
    "        _, top5_idx = outputs.topk(5, 1, largest=True, sorted=True)\n",
    "        correct_top5 += sum([1 for i in range(len(label_idx)) if label_idx[i] in top5_idx[i]])\n",
    "        \n",
    "        if (i + 1) % 50 == 0:  # 50 배치마다 출력\n",
    "            print(f'Epoch [{epoch+1}], Batch [{i+1}/{len(trainloader)}], Loss: {loss.item():.4f}')\n",
    "    \n",
    "    epoch_loss = running_loss / len(trainloader)\n",
    "    accuracy_top1 = 100.0 * correct_top1 / total\n",
    "    accuracy_top5 = 100.0 * correct_top5 / total\n",
    "    \n",
    "    train_time = time.time() - start_time\n",
    "    \n",
    "    # 학습 세트에 대한 성능 출력\n",
    "    print(f'Train set: Epoch: {epoch+1}, Average loss:{epoch_loss:.4f}, LR: {optimizer.param_groups[0][\"lr\"]:.6f} '\n",
    "          f'Top-1 Accuracy: {accuracy_top1:.4f}%, Top-5 Accuracy: {accuracy_top5:.4f}%, Time consumed:{train_time:.2f}s')\n",
    "    \n",
    "    return epoch_loss, accuracy_top1, accuracy_top5\n",
    "\n",
    "def evaluate(model, dataloader, criterion, device, epoch, phase=\"test\"):\n",
    "    \"\"\"\n",
    "    평가 함수\n",
    "    \"\"\"\n",
    "    model.eval()  # 모델을 평가 모드로 설정\n",
    "    start_time = time.time()  # 시간 측정 시작\n",
    "    \n",
    "    eval_loss = 0.0\n",
    "    correct_top1 = 0\n",
    "    correct_top5 = 0\n",
    "    total = 0\n",
    "    \n",
    "    # 그래디언트 계산 비활성화\n",
    "    with torch.no_grad():\n",
    "        for inputs, labels in dataloader:\n",
    "            inputs, labels = inputs.to(device), labels.to(device)\n",
    "            \n",
    "            # 순전파\n",
    "            outputs = model(inputs)\n",
    "            \n",
    "            # 손실 계산\n",
    "            loss = criterion(outputs, labels)\n",
    "            eval_loss += loss.item()\n",
    "            \n",
    "            # top-1 정확도 계산\n",
    "            _, predicted = outputs.max(1)\n",
    "            total += labels.size(0)\n",
    "            correct_top1 += (predicted == labels).sum().item()\n",
    "            \n",
    "            # top-5 정확도 계산\n",
    "            _, top5_idx = outputs.topk(5, 1, largest=True, sorted=True)\n",
    "            correct_top5 += top5_idx.eq(labels.view(-1, 1).expand_as(top5_idx)).sum().item()\n",
    "    \n",
    "    # 평균 손실 및 정확도 계산\n",
    "    eval_loss = eval_loss / len(dataloader)\n",
    "    accuracy_top1 = 100.0 * correct_top1 / total\n",
    "    accuracy_top5 = 100.0 * correct_top5 / total\n",
    "    \n",
    "    # 평가 시간 계산\n",
    "    eval_time = time.time() - start_time\n",
    "    \n",
    "    # 테스트 세트에 대한 성능 출력\n",
    "    print(f'{phase.capitalize()} set: Epoch: {epoch+1}, Average loss:{eval_loss:.4f}, '\n",
    "          f'Top-1 Accuracy: {accuracy_top1:.4f}%, Top-5 Accuracy: {accuracy_top5:.4f}%, Time consumed:{eval_time:.2f}s')\n",
    "    print()\n",
    "    \n",
    "    return eval_loss, accuracy_top1, accuracy_top5\n",
    "\n",
    "# 메인 학습 루프\n",
    "def main_training_loop(model, trainloader, testloader, criterion, optimizer, device, num_epochs, patience, max_epochs_wait):\n",
    "    \"\"\"\n",
    "    메인 학습 루프 (accuracy 기준 early stopping)\n",
    "    \"\"\"\n",
    "    # 정확도 기반 얼리 스토핑 사용\n",
    "    early_stopping = AccuracyEarlyStopping(patience=patience, verbose=True, path='checkpoint.pt', max_epochs=max_epochs_wait)\n",
    "    \n",
    "    best_test_acc_top1 = 0.0\n",
    "    best_test_acc_top5 = 0.0\n",
    "    \n",
    "    # 테스트 정확도 기록을 위한 리스트\n",
    "    test_acc_top1_history = []\n",
    "    \n",
    "    # tqdm을 사용한 진행 상황 표시\n",
    "    for epoch in tqdm(range(num_epochs)):\n",
    "        # 학습\n",
    "        train_loss, train_acc_top1, train_acc_top5 = train(model, trainloader, criterion, optimizer, device, epoch)\n",
    "        \n",
    "        # 테스트 데이터로 평가\n",
    "        test_loss, test_acc_top1, test_acc_top5 = evaluate(model, testloader, criterion, device, epoch, phase=\"test\")\n",
    "        \n",
    "        # 테스트 정확도 기록\n",
    "        test_acc_top1_history.append(test_acc_top1)\n",
    "        \n",
    "        # WandB에 로깅\n",
    "        wandb.log({\n",
    "            \"epoch\": epoch + 1,\n",
    "            \"learning_rate\": optimizer.param_groups[0]['lr'],\n",
    "            \"train_loss\": train_loss,\n",
    "            \"train_accuracy_top1\": train_acc_top1,\n",
    "            \"train_accuracy_top5\": train_acc_top5,\n",
    "            \"test_loss\": test_loss,\n",
    "            \"test_accuracy_top1\": test_acc_top1,\n",
    "            \"test_accuracy_top5\": test_acc_top5\n",
    "        })\n",
    "            \n",
    "        # 최고 정확도 모델 저장 (top-1 기준)\n",
    "        if test_acc_top1 > best_test_acc_top1:\n",
    "            best_test_acc_top1 = test_acc_top1\n",
    "            best_test_acc_top5_at_best_top1 = test_acc_top5\n",
    "            print(f'새로운 최고 top-1 정확도: {best_test_acc_top1:.2f}%, top-5 정확도: {best_test_acc_top5_at_best_top1:.2f}%')\n",
    "            # 모델 저장\n",
    "            model_path = f'best_model_{wandb.run.name}.pth'\n",
    "            torch.save(model.state_dict(), model_path)\n",
    "            \n",
    "            # WandB에 모델 아티팩트 저장\n",
    "            wandb.save(model_path)\n",
    "        \n",
    "        # top-5 accuracy 기록 업데이트\n",
    "        if test_acc_top5 > best_test_acc_top5:\n",
    "            best_test_acc_top5 = test_acc_top5\n",
    "            print(f'새로운 최고 top-5 정확도: {best_test_acc_top5:.2f}%')\n",
    "\n",
    "        # Early stopping 체크 (test_acc_top1 기준)\n",
    "        early_stopping(test_acc_top1, model, epoch)\n",
    "        if early_stopping.early_stop:\n",
    "            print(f\"에폭 {epoch+1}에서 학습 조기 종료. 최고 성능 에폭: {early_stopping.best_epoch+1}\")\n",
    "            break\n",
    "    \n",
    "    # 훈련 완료 후 최고 모델 로드\n",
    "    print(\"테스트 정확도 기준 최고 모델 로드 중...\")\n",
    "    model_path = f'best_model_{wandb.run.name}.pth'\n",
    "    model.load_state_dict(torch.load(model_path))\n",
    "\n",
    "    # 최종 테스트 세트 평가\n",
    "    final_test_loss, final_test_acc_top1, final_test_acc_top5 = evaluate(model, testloader, criterion, device, num_epochs-1, phase=\"test\")\n",
    "    \n",
    "    print(f'완료! 최고 테스트 top-1 정확도: {best_test_acc_top1:.2f}%, 최고 테스트 top-5 정확도: {best_test_acc_top5:.2f}%')\n",
    "    print(f'최종 테스트 top-1 정확도: {final_test_acc_top1:.2f}%, 최종 테스트 top-5 정확도: {final_test_acc_top5:.2f}%')\n",
    "    \n",
    "    # WandB에 최종 결과 기록\n",
    "    wandb.run.summary[\"best_test_accuracy_top1\"] = best_test_acc_top1\n",
    "    wandb.run.summary[\"best_test_accuracy_top5\"] = best_test_acc_top5\n",
    "    wandb.run.summary[\"final_test_accuracy_top1\"] = final_test_acc_top1\n",
    "    wandb.run.summary[\"final_test_accuracy_top5\"] = final_test_acc_top5\n",
    "\n",
    "    # Early stopping 정보 저장\n",
    "    if early_stopping.early_stop:\n",
    "        wandb.run.summary[\"early_stopped\"] = True\n",
    "        wandb.run.summary[\"early_stopped_epoch\"] = epoch+1\n",
    "        wandb.run.summary[\"best_epoch\"] = early_stopping.best_epoch+1\n",
    "    else:\n",
    "        wandb.run.summary[\"early_stopped\"] = False\n",
    "\n",
    "\n",
    "# 디바이스 설정\n",
    "device = torch.device(\"cuda\" if torch.cuda.is_available() else \"cpu\")\n",
    "print(f\"Using device: {device}\")\n",
    "\n",
    "# 모델 초기화\n",
    "# 또는 매개변수 커스터마이징\n",
    "model = shake_resnet18(num_classes=100, p_drop=0.5, alpha_range=[0, 0]).to(device)\n",
    "criterion = nn.CrossEntropyLoss()  # 기본 CrossEntropyLoss 사용 (라벨 스무딩 없음)\n",
    "optimizer = optim.Adam(model.parameters(), lr=config[\"learning_rate\"])  # 옵티마이저 정의\n",
    "\n",
    "# WandB에 모델 구조 기록\n",
    "wandb.watch(model, log=\"all\")\n",
    "\n",
    "# GPU 가속\n",
    "if torch.cuda.device_count() > 1:\n",
    "    print(f\"{torch.cuda.device_count()}개의 GPU를 사용합니다.\")\n",
    "    model = nn.DataParallel(model)\n",
    "\n",
    "# 훈련 시작 시간 기록\n",
    "start_time = time.time()\n",
    "\n",
    "# 메인 학습 루프 호출\n",
    "main_training_loop(\n",
    "    model=model,\n",
    "    trainloader=trainloader,\n",
    "    testloader=testloader,\n",
    "    criterion=criterion,\n",
    "    optimizer=optimizer,\n",
    "    device=device,\n",
    "    num_epochs=config[\"num_epochs\"],\n",
    "    patience=config[\"patience\"],\n",
    "    max_epochs_wait=config[\"max_epochs_wait\"]\n",
    ")\n",
    "\n",
    "# 훈련 종료 시간 기록 및 출력\n",
    "end_time = time.time()\n",
    "total_time = end_time - start_time\n",
    "wandb.log({\"total_training_time\": total_time})\n",
    "\n",
    "print(f\"전체 학습 시간: {total_time:.2f} 초\")\n",
    "\n",
    "# WandB 실행 종료\n",
    "wandb.finish()"
   ]
  },
  {
   "cell_type": "code",
   "execution_count": null,
   "id": "e57b9218-aa24-4297-bb92-473c215e6767",
   "metadata": {},
   "outputs": [],
   "source": []
  }
 ],
 "metadata": {
  "kernelspec": {
   "display_name": "Python 3 (ipykernel)",
   "language": "python",
   "name": "python3"
  },
  "language_info": {
   "codemirror_mode": {
    "name": "ipython",
    "version": 3
   },
   "file_extension": ".py",
   "mimetype": "text/x-python",
   "name": "python",
   "nbconvert_exporter": "python",
   "pygments_lexer": "ipython3",
   "version": "3.11.9"
  }
 },
 "nbformat": 4,
 "nbformat_minor": 5
}
