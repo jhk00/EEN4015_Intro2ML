{
 "cells": [
  {
   "cell_type": "code",
   "execution_count": null,
   "id": "516f9d5f-6361-4b03-98ee-e1ba4de86b92",
   "metadata": {},
   "outputs": [
    {
     "name": "stderr",
     "output_type": "stream",
     "text": [
      "\u001b[34m\u001b[1mwandb\u001b[0m: Using wandb-core as the SDK backend.  Please refer to https://wandb.me/wandb-core for more information.\n",
      "\u001b[34m\u001b[1mwandb\u001b[0m: \u001b[33mWARNING\u001b[0m If you're specifying your api key in code, ensure this code is not shared publicly.\n",
      "\u001b[34m\u001b[1mwandb\u001b[0m: \u001b[33mWARNING\u001b[0m Consider setting the WANDB_API_KEY environment variable, or running `wandb login` from the command line.\n",
      "\u001b[34m\u001b[1mwandb\u001b[0m: Appending key for api.wandb.ai to your netrc file: /home/guswls/.netrc\n",
      "\u001b[34m\u001b[1mwandb\u001b[0m: Currently logged in as: \u001b[33msokjh1310\u001b[0m (\u001b[33msokjh1310-hanyang-university\u001b[0m) to \u001b[32mhttps://api.wandb.ai\u001b[0m. Use \u001b[1m`wandb login --relogin`\u001b[0m to force relogin\n"
     ]
    },
    {
     "data": {
      "text/html": [
       "Tracking run with wandb version 0.19.9"
      ],
      "text/plain": [
       "<IPython.core.display.HTML object>"
      ]
     },
     "metadata": {},
     "output_type": "display_data"
    },
    {
     "data": {
      "text/html": [
       "Run data is saved locally in <code>/home/guswls/EEN4015_Intro2ML/pbl-2/wandb/run-20250413_060413-rix5ur5c</code>"
      ],
      "text/plain": [
       "<IPython.core.display.HTML object>"
      ]
     },
     "metadata": {},
     "output_type": "display_data"
    },
    {
     "data": {
      "text/html": [
       "Syncing run <strong><a href='https://wandb.ai/sokjh1310-hanyang-university/PBL-2/runs/rix5ur5c' target=\"_blank\">resnet18_cutmix)</a></strong> to <a href='https://wandb.ai/sokjh1310-hanyang-university/PBL-2' target=\"_blank\">Weights & Biases</a> (<a href='https://wandb.me/developer-guide' target=\"_blank\">docs</a>)<br>"
      ],
      "text/plain": [
       "<IPython.core.display.HTML object>"
      ]
     },
     "metadata": {},
     "output_type": "display_data"
    },
    {
     "data": {
      "text/html": [
       " View project at <a href='https://wandb.ai/sokjh1310-hanyang-university/PBL-2' target=\"_blank\">https://wandb.ai/sokjh1310-hanyang-university/PBL-2</a>"
      ],
      "text/plain": [
       "<IPython.core.display.HTML object>"
      ]
     },
     "metadata": {},
     "output_type": "display_data"
    },
    {
     "data": {
      "text/html": [
       " View run at <a href='https://wandb.ai/sokjh1310-hanyang-university/PBL-2/runs/rix5ur5c' target=\"_blank\">https://wandb.ai/sokjh1310-hanyang-university/PBL-2/runs/rix5ur5c</a>"
      ],
      "text/plain": [
       "<IPython.core.display.HTML object>"
      ]
     },
     "metadata": {},
     "output_type": "display_data"
    },
    {
     "name": "stdout",
     "output_type": "stream",
     "text": [
      "Files already downloaded and verified\n",
      "Files already downloaded and verified\n",
      "Train set size: 40000\n",
      "Validation set size: 5000\n",
      "Test set size: 5000\n",
      "Using device: cuda\n",
      "2개의 GPU를 사용합니다.\n"
     ]
    },
    {
     "name": "stderr",
     "output_type": "stream",
     "text": [
      "  0%|                                                                                                       | 0/100 [00:00<?, ?it/s]"
     ]
    },
    {
     "name": "stdout",
     "output_type": "stream",
     "text": [
      "Epoch [1], Batch [50/313], Loss: 4.3788\n",
      "Epoch [1], Batch [100/313], Loss: 4.3641\n",
      "Epoch [1], Batch [150/313], Loss: 3.8305\n",
      "Epoch [1], Batch [200/313], Loss: 4.2847\n",
      "Epoch [1], Batch [250/313], Loss: 3.6260\n",
      "Epoch [1], Batch [300/313], Loss: 3.6727\n",
      "Train set: Epoch: 1, Average loss:4.0287, LR: 0.001000 Top-1 Accuracy: 9.8200%, Top-5 Accuracy: 29.0200%, Time consumed:39.15s\n",
      "Val set: Epoch: 1, Average loss:3.4809, Top-1 Accuracy: 15.7000%, Top-5 Accuracy: 42.5800%, Time consumed:4.57s\n",
      "\n",
      "New best top-1 accuracy: 15.70%, top-5 accuracy: 42.58%\n",
      "New best top-5 accuracy: 42.58%\n",
      "Validation loss decreased (inf --> 3.480859). Saving model ...\n"
     ]
    },
    {
     "name": "stderr",
     "output_type": "stream",
     "text": [
      "  1%|▉                                                                                            | 1/100 [00:44<1:12:36, 44.00s/it]"
     ]
    },
    {
     "name": "stdout",
     "output_type": "stream",
     "text": [
      "Epoch [2], Batch [50/313], Loss: 4.1062\n",
      "Epoch [2], Batch [100/313], Loss: 3.7713\n",
      "Epoch [2], Batch [150/313], Loss: 4.2300\n",
      "Epoch [2], Batch [200/313], Loss: 3.0753\n",
      "Epoch [2], Batch [250/313], Loss: 2.6882\n",
      "Epoch [2], Batch [300/313], Loss: 2.8606\n",
      "Train set: Epoch: 2, Average loss:3.4741, LR: 0.001000 Top-1 Accuracy: 19.4725%, Top-5 Accuracy: 46.7300%, Time consumed:39.74s\n",
      "Val set: Epoch: 2, Average loss:2.8862, Top-1 Accuracy: 26.4400%, Top-5 Accuracy: 59.2200%, Time consumed:4.57s\n",
      "\n",
      "New best top-1 accuracy: 26.44%, top-5 accuracy: 59.22%\n",
      "New best top-5 accuracy: 59.22%\n",
      "Validation loss decreased (3.480859 --> 2.886189). Saving model ...\n"
     ]
    },
    {
     "name": "stderr",
     "output_type": "stream",
     "text": [
      "  2%|█▊                                                                                           | 2/100 [01:28<1:12:24, 44.33s/it]"
     ]
    },
    {
     "name": "stdout",
     "output_type": "stream",
     "text": [
      "Epoch [3], Batch [50/313], Loss: 2.5937\n",
      "Epoch [3], Batch [100/313], Loss: 2.9314\n",
      "Epoch [3], Batch [150/313], Loss: 3.2919\n",
      "Epoch [3], Batch [200/313], Loss: 2.5725\n",
      "Epoch [3], Batch [250/313], Loss: 2.4483\n",
      "Epoch [3], Batch [300/313], Loss: 2.8945\n",
      "Train set: Epoch: 3, Average loss:3.0831, LR: 0.001000 Top-1 Accuracy: 28.1750%, Top-5 Accuracy: 58.3200%, Time consumed:39.28s\n",
      "Val set: Epoch: 3, Average loss:2.5775, Top-1 Accuracy: 32.9400%, Top-5 Accuracy: 65.7200%, Time consumed:4.66s\n",
      "\n",
      "New best top-1 accuracy: 32.94%, top-5 accuracy: 65.72%\n",
      "New best top-5 accuracy: 65.72%\n",
      "Validation loss decreased (2.886189 --> 2.577469). Saving model ...\n"
     ]
    },
    {
     "name": "stderr",
     "output_type": "stream",
     "text": [
      "  3%|██▊                                                                                          | 3/100 [02:12<1:11:35, 44.28s/it]"
     ]
    },
    {
     "name": "stdout",
     "output_type": "stream",
     "text": [
      "Epoch [4], Batch [50/313], Loss: 3.1261\n",
      "Epoch [4], Batch [100/313], Loss: 2.2756\n",
      "Epoch [4], Batch [150/313], Loss: 3.3604\n",
      "Epoch [4], Batch [200/313], Loss: 1.6864\n",
      "Epoch [4], Batch [250/313], Loss: 2.0429\n",
      "Epoch [4], Batch [300/313], Loss: 2.0292\n",
      "Train set: Epoch: 4, Average loss:2.7348, LR: 0.001000 Top-1 Accuracy: 35.3275%, Top-5 Accuracy: 66.2675%, Time consumed:39.00s\n",
      "Val set: Epoch: 4, Average loss:2.2645, Top-1 Accuracy: 40.2000%, Top-5 Accuracy: 72.7400%, Time consumed:4.74s\n",
      "\n",
      "New best top-1 accuracy: 40.20%, top-5 accuracy: 72.74%\n",
      "New best top-5 accuracy: 72.74%\n",
      "Validation loss decreased (2.577469 --> 2.264508). Saving model ...\n"
     ]
    },
    {
     "name": "stderr",
     "output_type": "stream",
     "text": [
      "  4%|███▋                                                                                         | 4/100 [02:56<1:10:41, 44.18s/it]"
     ]
    },
    {
     "name": "stdout",
     "output_type": "stream",
     "text": [
      "Epoch [5], Batch [50/313], Loss: 1.8189\n",
      "Epoch [5], Batch [100/313], Loss: 3.6395\n",
      "Epoch [5], Batch [150/313], Loss: 1.6487\n",
      "Epoch [5], Batch [200/313], Loss: 1.9601\n",
      "Epoch [5], Batch [250/313], Loss: 1.7333\n",
      "Epoch [5], Batch [300/313], Loss: 3.7499\n",
      "Train set: Epoch: 5, Average loss:2.4645, LR: 0.001000 Top-1 Accuracy: 42.5075%, Top-5 Accuracy: 72.7300%, Time consumed:38.37s\n",
      "Val set: Epoch: 5, Average loss:2.0878, Top-1 Accuracy: 44.0600%, Top-5 Accuracy: 76.2800%, Time consumed:4.60s\n",
      "\n",
      "New best top-1 accuracy: 44.06%, top-5 accuracy: 76.28%\n",
      "New best top-5 accuracy: 76.28%\n",
      "Validation loss decreased (2.264508 --> 2.087789). Saving model ...\n"
     ]
    },
    {
     "name": "stderr",
     "output_type": "stream",
     "text": [
      "  5%|████▋                                                                                        | 5/100 [03:40<1:09:24, 43.84s/it]"
     ]
    },
    {
     "name": "stdout",
     "output_type": "stream",
     "text": [
      "Epoch [6], Batch [50/313], Loss: 1.6278\n",
      "Epoch [6], Batch [100/313], Loss: 3.5830\n",
      "Epoch [6], Batch [150/313], Loss: 3.4693\n",
      "Epoch [6], Batch [200/313], Loss: 1.4417\n",
      "Epoch [6], Batch [250/313], Loss: 1.5466\n",
      "Epoch [6], Batch [300/313], Loss: 3.0426\n",
      "Train set: Epoch: 6, Average loss:2.2061, LR: 0.001000 Top-1 Accuracy: 48.2200%, Top-5 Accuracy: 77.5925%, Time consumed:40.61s\n",
      "Val set: Epoch: 6, Average loss:1.9221, Top-1 Accuracy: 48.4000%, Top-5 Accuracy: 79.1000%, Time consumed:4.70s\n",
      "\n",
      "New best top-1 accuracy: 48.40%, top-5 accuracy: 79.10%\n",
      "New best top-5 accuracy: 79.10%\n",
      "Validation loss decreased (2.087789 --> 1.922123). Saving model ...\n"
     ]
    },
    {
     "name": "stderr",
     "output_type": "stream",
     "text": [
      "  6%|█████▌                                                                                       | 6/100 [04:25<1:09:35, 44.42s/it]"
     ]
    },
    {
     "name": "stdout",
     "output_type": "stream",
     "text": [
      "Epoch [7], Batch [50/313], Loss: 3.4184\n",
      "Epoch [7], Batch [100/313], Loss: 3.3505\n",
      "Epoch [7], Batch [150/313], Loss: 1.2417\n",
      "Epoch [7], Batch [200/313], Loss: 1.3599\n",
      "Epoch [7], Batch [250/313], Loss: 2.8352\n",
      "Epoch [7], Batch [300/313], Loss: 2.0834\n",
      "Train set: Epoch: 7, Average loss:2.2507, LR: 0.001000 Top-1 Accuracy: 49.8150%, Top-5 Accuracy: 78.1175%, Time consumed:38.77s\n",
      "Val set: Epoch: 7, Average loss:1.7858, Top-1 Accuracy: 51.8800%, Top-5 Accuracy: 82.0600%, Time consumed:5.30s\n",
      "\n",
      "New best top-1 accuracy: 51.88%, top-5 accuracy: 82.06%\n",
      "New best top-5 accuracy: 82.06%\n",
      "Validation loss decreased (1.922123 --> 1.785751). Saving model ...\n"
     ]
    },
    {
     "name": "stderr",
     "output_type": "stream",
     "text": [
      "  7%|██████▌                                                                                      | 7/100 [05:09<1:08:48, 44.40s/it]"
     ]
    },
    {
     "name": "stdout",
     "output_type": "stream",
     "text": [
      "Epoch [8], Batch [50/313], Loss: 1.2304\n",
      "Epoch [8], Batch [100/313], Loss: 3.2994\n",
      "Epoch [8], Batch [150/313], Loss: 3.0182\n",
      "Epoch [8], Batch [200/313], Loss: 3.6045\n",
      "Epoch [8], Batch [250/313], Loss: 1.1144\n",
      "Epoch [8], Batch [300/313], Loss: 1.1483\n",
      "Train set: Epoch: 8, Average loss:1.9045, LR: 0.001000 Top-1 Accuracy: 58.6000%, Top-5 Accuracy: 84.7175%, Time consumed:41.17s\n"
     ]
    },
    {
     "name": "stderr",
     "output_type": "stream",
     "text": [
      "  8%|███████▍                                                                                     | 8/100 [05:55<1:08:48, 44.88s/it]"
     ]
    },
    {
     "name": "stdout",
     "output_type": "stream",
     "text": [
      "Val set: Epoch: 8, Average loss:1.8569, Top-1 Accuracy: 50.7600%, Top-5 Accuracy: 80.1400%, Time consumed:4.73s\n",
      "\n",
      "EarlyStopping 카운터: 1 / 10\n",
      "Epoch [9], Batch [50/313], Loss: 0.8296\n",
      "Epoch [9], Batch [100/313], Loss: 0.9050\n",
      "Epoch [9], Batch [150/313], Loss: 1.0436\n",
      "Epoch [9], Batch [200/313], Loss: 1.0836\n",
      "Epoch [9], Batch [250/313], Loss: 1.0492\n",
      "Epoch [9], Batch [300/313], Loss: 1.0139\n",
      "Train set: Epoch: 9, Average loss:1.7874, LR: 0.001000 Top-1 Accuracy: 61.5225%, Top-5 Accuracy: 85.6975%, Time consumed:39.23s\n"
     ]
    },
    {
     "name": "stderr",
     "output_type": "stream",
     "text": [
      "  9%|████████▎                                                                                    | 9/100 [06:40<1:07:44, 44.66s/it]"
     ]
    },
    {
     "name": "stdout",
     "output_type": "stream",
     "text": [
      "Val set: Epoch: 9, Average loss:1.7823, Top-1 Accuracy: 51.5200%, Top-5 Accuracy: 82.5000%, Time consumed:4.79s\n",
      "\n",
      "New best top-5 accuracy: 82.50%\n",
      "Validation loss decreased (1.785751 --> 1.782291). Saving model ...\n",
      "Epoch [10], Batch [50/313], Loss: 1.4383\n",
      "Epoch [10], Batch [100/313], Loss: 1.1799\n"
     ]
    }
   ],
   "source": [
    "import torch\n",
    "import torch.nn as nn\n",
    "import torch.optim as optim\n",
    "from torch.utils.data import DataLoader, Subset\n",
    "import torchvision\n",
    "import torchvision.transforms as transforms\n",
    "import torchvision.transforms.v2 as transforms_v2  # CutMix를 위한 v2 transforms 추가\n",
    "import sys\n",
    "import os\n",
    "import torch\n",
    "import time\n",
    "import random\n",
    "import numpy as np\n",
    "import wandb\n",
    "from tqdm import tqdm\n",
    "from sklearn.model_selection import StratifiedShuffleSplit\n",
    "from tools.tool import EarlyStopping\n",
    "from models.resnet import resnet18, resnet34, resnet50\n",
    "\n",
    "wandb.login(key=\"ef091b9abcea3186341ddf8995d62bde62d7469e\")\n",
    "wandb.init(project=\"PBL-2\", name=\"resnet18_cutmix)\")  # CutMix 적용 실험임을 명시\n",
    "\n",
    "# WandB 설정\n",
    "config = {\n",
    "    \"model\": \"resnet18\",\n",
    "    \"batch_size\": 128,\n",
    "    \"num_epochs\": 100,\n",
    "    \"learning_rate\": 0.001,\n",
    "    \"optimizer\": \"Adam\",\n",
    "    \"seed\": 2025,\n",
    "    \"deterministic\": False,\n",
    "    \"patience\": 10,  # early stopping patience\n",
    "    \"train_ratio\": 0.8,\n",
    "    \"val_ratio\": 0.1,\n",
    "    \"test_ratio\": 0.1,\n",
    "    \"cutmix_alpha\": 1.0,  # CutMix 알파 파라미터 추가\n",
    "    \"cutmix_prob\": 0.5    # CutMix 적용 확률 추가\n",
    "}\n",
    "wandb.config.update(config)\n",
    "\n",
    "# CIFAR-100 데이터셋 로드\n",
    "transform_train = transforms.Compose([\n",
    "    transforms.ToTensor(),\n",
    "    transforms.Normalize((0.5071, 0.4867, 0.4408), (0.2675, 0.2565, 0.2761)),\n",
    "])\n",
    "\n",
    "transform_test = transforms.Compose([\n",
    "    transforms.ToTensor(),\n",
    "    transforms.Normalize((0.5071, 0.4867, 0.4408), (0.2675, 0.2565, 0.2761)),\n",
    "])\n",
    "\n",
    "full_trainset = torchvision.datasets.CIFAR100(\n",
    "    root='./data', train=True, download=True, transform=transform_train)\n",
    "\n",
    "testset = torchvision.datasets.CIFAR100(\n",
    "    root='./data', train=False, download=True, transform=transform_test)\n",
    "\n",
    "# Stratified 분할을 위한 준비 (train, validation 나누기)\n",
    "# 모든 라벨을 추출\n",
    "targets = np.array(full_trainset.targets)\n",
    "\n",
    "# StratifiedShuffleSplit을 사용하여 8:1:1 비율로 분할\n",
    "# 먼저 train과 validation을 나눔 (full_trainset에서 8:2)\n",
    "train_val_split = StratifiedShuffleSplit(n_splits=1, test_size=0.2, random_state=config[\"seed\"])\n",
    "train_idx, temp_idx = next(train_val_split.split(np.zeros(len(targets)), targets))\n",
    "\n",
    "# 그 다음 validation과 test를 나눔 (temp에서 1:1, 전체로 보면 1:1)\n",
    "val_test_targets = targets[temp_idx]\n",
    "val_test_split = StratifiedShuffleSplit(n_splits=1, test_size=0.5, random_state=config[\"seed\"])\n",
    "val_idx_temp, test_idx_temp = next(val_test_split.split(np.zeros(len(val_test_targets)), val_test_targets))\n",
    "\n",
    "# 원래 인덱스로 매핑\n",
    "val_idx = temp_idx[val_idx_temp]\n",
    "test_idx = temp_idx[test_idx_temp]\n",
    "\n",
    "# Subset 생성\n",
    "trainset = Subset(full_trainset, train_idx)\n",
    "valset = Subset(full_trainset, val_idx)\n",
    "testset_split = Subset(full_trainset, test_idx)  # 원래 테스트셋 대신 stratified split에서 나온 테스트셋 사용\n",
    "\n",
    "# DataLoader 생성\n",
    "trainloader = DataLoader(trainset, batch_size=config[\"batch_size\"], shuffle=True, num_workers=16)\n",
    "valloader = DataLoader(valset, batch_size=config[\"batch_size\"], shuffle=False, num_workers=16)\n",
    "testloader = DataLoader(testset_split, batch_size=config[\"batch_size\"], shuffle=False, num_workers=16)\n",
    "\n",
    "print(f\"Train set size: {len(trainset)}\")\n",
    "print(f\"Validation set size: {len(valset)}\")\n",
    "print(f\"Test set size: {len(testset_split)}\")\n",
    "\n",
    "# 추가: CutMix 변환 정의\n",
    "cutmix = transforms_v2.CutMix(alpha=config[\"cutmix_alpha\"], num_classes=100)  # CIFAR-100은 100개 클래스\n",
    "\n",
    "# CutMix용 손실 함수 정의 (원-핫 인코딩된 레이블 처리)\n",
    "def cutmix_criterion(outputs, targets):\n",
    "    \"\"\"\n",
    "    CutMix로 혼합된 레이블을 처리하기 위한 손실 함수\n",
    "    outputs: 모델 출력\n",
    "    targets: CutMix로 생성된 원-핫 인코딩 레이블\n",
    "    \"\"\"\n",
    "    return torch.nn.functional.cross_entropy(outputs, targets)\n",
    "\n",
    "def train(model, trainloader, criterion, optimizer, device, epoch):\n",
    "    \"\"\"\n",
    "    학습 함수 (CutMix 적용)\n",
    "    \"\"\"\n",
    "    model.train()   # 모델을 학습 모드로 설정\n",
    "    start_time = time.time()  # 시간 측정 시작\n",
    "    running_loss = 0.0\n",
    "    correct_top1 = 0\n",
    "    correct_top5 = 0\n",
    "    total = 0\n",
    "    \n",
    "    for i, (inputs, labels) in enumerate(trainloader):\n",
    "        inputs, labels = inputs.to(device), labels.to(device)\n",
    "        \n",
    "        # CutMix 확률적 적용\n",
    "        if random.random() < config[\"cutmix_prob\"]:\n",
    "            inputs, labels = cutmix(inputs, labels)\n",
    "            # 이 경우 labels은 원-핫 인코딩 형태로 변환됨\n",
    "            use_cutmix = True\n",
    "        else:\n",
    "            use_cutmix = False\n",
    "        \n",
    "        optimizer.zero_grad()\n",
    "        \n",
    "        outputs = model(inputs)\n",
    "        \n",
    "        # CutMix 적용 여부에 따라 손실 함수 선택\n",
    "        if use_cutmix:\n",
    "            # CutMix가 적용된 경우 (원-핫 인코딩된 레이블)\n",
    "            loss = torch.nn.functional.cross_entropy(outputs, labels)\n",
    "        else:\n",
    "            # 일반적인 경우 (정수 인덱스 레이블)\n",
    "            loss = criterion(outputs, labels)\n",
    "            \n",
    "        loss.backward()\n",
    "        optimizer.step()\n",
    "        \n",
    "        running_loss += loss.item()\n",
    "        \n",
    "        # 정확도 계산 - CutMix 적용 여부에 따라 다르게 처리\n",
    "        if use_cutmix:\n",
    "            # 원-핫 인코딩된 레이블에서 argmax를 사용해 가장 큰 값의 인덱스 추출\n",
    "            _, label_idx = labels.max(1)\n",
    "        else:\n",
    "            # 정수 인덱스 레이블 그대로 사용\n",
    "            label_idx = labels\n",
    "            \n",
    "        # top-1 정확도 계산\n",
    "        _, predicted = outputs.max(1)\n",
    "        total += inputs.size(0)\n",
    "        correct_top1 += predicted.eq(label_idx).sum().item()\n",
    "        \n",
    "        # top-5 정확도 계산\n",
    "        _, top5_idx = outputs.topk(5, 1, largest=True, sorted=True)\n",
    "        correct_top5 += sum([1 for i in range(len(label_idx)) if label_idx[i] in top5_idx[i]])\n",
    "        \n",
    "        if (i + 1) % 50 == 0:  # 50 배치마다 출력\n",
    "            print(f'Epoch [{epoch+1}], Batch [{i+1}/{len(trainloader)}], Loss: {loss.item():.4f}')\n",
    "    \n",
    "    epoch_loss = running_loss / len(trainloader)\n",
    "    accuracy_top1 = 100.0 * correct_top1 / total\n",
    "    accuracy_top5 = 100.0 * correct_top5 / total\n",
    "    \n",
    "    train_time = time.time() - start_time\n",
    "    \n",
    "    # 학습 세트에 대한 성능 출력\n",
    "    print(f'Train set: Epoch: {epoch+1}, Average loss:{epoch_loss:.4f}, LR: {optimizer.param_groups[0][\"lr\"]:.6f} '\n",
    "          f'Top-1 Accuracy: {accuracy_top1:.4f}%, Top-5 Accuracy: {accuracy_top5:.4f}%, Time consumed:{train_time:.2f}s')\n",
    "    \n",
    "    return epoch_loss, accuracy_top1, accuracy_top5\n",
    "\n",
    "def evaluate(model, dataloader, criterion, device, epoch, phase=\"val\"):\n",
    "    \"\"\"\n",
    "    평가 함수\n",
    "    \"\"\"\n",
    "    model.eval()  # 모델을 평가 모드로 설정\n",
    "    start_time = time.time()  # 시간 측정 시작\n",
    "    \n",
    "    eval_loss = 0.0\n",
    "    correct_top1 = 0\n",
    "    correct_top5 = 0\n",
    "    total = 0\n",
    "    \n",
    "    # 그래디언트 계산 비활성화\n",
    "    with torch.no_grad():\n",
    "        for inputs, labels in dataloader:\n",
    "            inputs, labels = inputs.to(device), labels.to(device)\n",
    "            \n",
    "            # 순전파\n",
    "            outputs = model(inputs)\n",
    "            \n",
    "            # 손실 계산\n",
    "            loss = criterion(outputs, labels)\n",
    "            eval_loss += loss.item()\n",
    "            \n",
    "            # top-1 정확도 계산\n",
    "            _, predicted = outputs.max(1)\n",
    "            total += labels.size(0)\n",
    "            correct_top1 += (predicted == labels).sum().item()\n",
    "            \n",
    "            # top-5 정확도 계산\n",
    "            _, top5_idx = outputs.topk(5, 1, largest=True, sorted=True)\n",
    "            correct_top5 += top5_idx.eq(labels.view(-1, 1).expand_as(top5_idx)).sum().item()\n",
    "    \n",
    "    # 평균 손실 및 정확도 계산\n",
    "    eval_loss = eval_loss / len(dataloader)\n",
    "    accuracy_top1 = 100.0 * correct_top1 / total\n",
    "    accuracy_top5 = 100.0 * correct_top5 / total\n",
    "    \n",
    "    # 평가 시간 계산\n",
    "    eval_time = time.time() - start_time\n",
    "    \n",
    "    # 테스트 세트에 대한 성능 출력\n",
    "    print(f'{phase.capitalize()} set: Epoch: {epoch+1}, Average loss:{eval_loss:.4f}, '\n",
    "          f'Top-1 Accuracy: {accuracy_top1:.4f}%, Top-5 Accuracy: {accuracy_top5:.4f}%, Time consumed:{eval_time:.2f}s')\n",
    "    print()\n",
    "    \n",
    "    return eval_loss, accuracy_top1, accuracy_top5\n",
    "\n",
    "\n",
    "# 메인 학습 루프\n",
    "def main_training_loop(model, trainloader, valloader, testloader, criterion, optimizer, device, num_epochs, patience):\n",
    "    \"\"\"\n",
    "    메인 학습 루프\n",
    "    \"\"\"\n",
    "    early_stopping = EarlyStopping(patience=patience, verbose=True)\n",
    "    \n",
    "    best_acc_top1 = 0.0\n",
    "    best_acc_top5 = 0.0\n",
    "    \n",
    "    # tqdm을 사용한 진행 상황 표시\n",
    "    for epoch in tqdm(range(num_epochs)):\n",
    "        # 학습\n",
    "        train_loss, train_acc_top1, train_acc_top5 = train(model, trainloader, criterion, optimizer, device, epoch)\n",
    "        \n",
    "        # 평가\n",
    "        val_loss, val_acc_top1, val_acc_top5 = evaluate(model, valloader, criterion, device, epoch, phase=\"val\")\n",
    "        \n",
    "        # WandB에 로깅\n",
    "        wandb.log({\n",
    "            \"epoch\": epoch + 1,\n",
    "            \"learning_rate\": optimizer.param_groups[0]['lr'],\n",
    "            \"train_loss\": train_loss,\n",
    "            \"train_accuracy_top1\": train_acc_top1,\n",
    "            \"train_accuracy_top5\": train_acc_top5,\n",
    "            \"val_loss\": val_loss,\n",
    "            \"val_accuracy_top1\": val_acc_top1,\n",
    "            \"val_accuracy_top5\": val_acc_top5\n",
    "        })\n",
    "            \n",
    "        # 최고 정확도 모델 저장 (top-1 기준)\n",
    "        if val_acc_top1 > best_acc_top1:\n",
    "            best_acc_top1 = val_acc_top1\n",
    "            best_acc_top5_at_best_top1 = val_acc_top5\n",
    "            print(f'New best top-1 accuracy: {best_acc_top1:.2f}%, top-5 accuracy: {best_acc_top5_at_best_top1:.2f}%')\n",
    "            # 모델 저장\n",
    "            model_path = f'best_model_{wandb.run.name}.pth'\n",
    "            torch.save(model.state_dict(), model_path)\n",
    "            \n",
    "            # WandB에 모델 아티팩트 저장\n",
    "            wandb.save(model_path)\n",
    "        \n",
    "        # top-5 accuracy 기록 업데이트\n",
    "        if val_acc_top5 > best_acc_top5:\n",
    "            best_acc_top5 = val_acc_top5\n",
    "            print(f'New best top-5 accuracy: {best_acc_top5:.2f}%')\n",
    "\n",
    "        # Early stopping 체크 (validation loss 기준)\n",
    "        early_stopping(val_loss, model)\n",
    "        if early_stopping.early_stop:\n",
    "            print(\"Early stopping triggered. Training stopped.\")\n",
    "            break\n",
    "    \n",
    "    # 훈련 완료 후 모델 평가 (best model 로드)\n",
    "    if early_stopping.early_stop:\n",
    "        print(\"Loading best model from early stopping checkpoint...\")\n",
    "    else:\n",
    "        print(\"Loading best model based on validation accuracy...\")\n",
    "        model_path = f'best_model_{wandb.run.name}.pth'\n",
    "        model.load_state_dict(torch.load(model_path))\n",
    "\n",
    "    # 최종 테스트 세트 평가\n",
    "    test_loss, test_acc_top1, test_acc_top5 = evaluate(model, testloader, criterion, device, num_epochs-1, phase=\"test\")\n",
    "    \n",
    "    # 테스트 결과를 wandb 로그에 추가 - 이 부분이 누락되어 있어서 추가했습니다\n",
    "    wandb.log({\n",
    "        \"epoch\": epoch + 1,  # 마지막 에폭 또는 early stopping된 에폭\n",
    "        \"test_loss\": test_loss,\n",
    "        \"test_accuracy_top1\": test_acc_top1,\n",
    "        \"test_accuracy_top5\": test_acc_top5\n",
    "    })\n",
    "    \n",
    "    print(f'Finish! Best validation top-1 accuracy: {best_acc_top1:.2f}%, Best validation top-5 accuracy: {best_acc_top5:.2f}%')\n",
    "    print(f'Final test top-1 accuracy: {test_acc_top1:.2f}%, Final test top-5 accuracy: {test_acc_top5:.2f}%')\n",
    "    \n",
    "    # WandB에 최종 결과 기록\n",
    "    wandb.run.summary[\"best_val_accuracy_top1\"] = best_acc_top1\n",
    "    wandb.run.summary[\"best_val_accuracy_top5\"] = best_acc_top5\n",
    "    wandb.run.summary[\"test_accuracy_top1\"] = test_acc_top1\n",
    "    wandb.run.summary[\"test_accuracy_top5\"] = test_acc_top5\n",
    "\n",
    "    # Early stopping 정보 저장\n",
    "    if early_stopping.early_stop:\n",
    "        wandb.run.summary[\"early_stopped\"] = True\n",
    "        wandb.run.summary[\"early_stopped_epoch\"] = epoch+1\n",
    "    else:\n",
    "        wandb.run.summary[\"early_stopped\"] = False\n",
    "\n",
    "\n",
    "# 디바이스 설정\n",
    "device = torch.device(\"cuda\" if torch.cuda.is_available() else \"cpu\")\n",
    "print(f\"Using device: {device}\")\n",
    "\n",
    "# 모델 초기화\n",
    "model = resnet18().to(device)  \n",
    "criterion = nn.CrossEntropyLoss()  # 손실 함수 정의\n",
    "optimizer = optim.Adam(model.parameters(), lr=config[\"learning_rate\"])  # 옵티마이저 정의\n",
    "\n",
    "# WandB에 모델 구조 기록\n",
    "wandb.watch(model, log=\"all\")\n",
    "\n",
    "# GPU 가속\n",
    "if torch.cuda.device_count() > 1:\n",
    "    print(f\"{torch.cuda.device_count()}개의 GPU를 사용합니다.\")\n",
    "    model = nn.DataParallel(model)\n",
    "\n",
    "# 훈련 시작 시간 기록\n",
    "start_time = time.time()\n",
    "\n",
    "# 메인 학습 루프 호출\n",
    "main_training_loop(\n",
    "    model=model,\n",
    "    trainloader=trainloader,\n",
    "    valloader=valloader,\n",
    "    testloader=testloader,\n",
    "    criterion=criterion,\n",
    "    optimizer=optimizer,\n",
    "    device=device,\n",
    "    num_epochs=config[\"num_epochs\"],\n",
    "    patience=config[\"patience\"]\n",
    ")\n",
    "\n",
    "# 훈련 종료 시간 기록 및 출력\n",
    "end_time = time.time()\n",
    "total_time = end_time - start_time\n",
    "wandb.log({\"total_training_time\": total_time})\n",
    "\n",
    "print(f\"Total training time: {total_time:.2f} seconds\")\n",
    "\n",
    "# WandB 실행 종료\n",
    "wandb.finish()"
   ]
  },
  {
   "cell_type": "code",
   "execution_count": null,
   "id": "e57b9218-aa24-4297-bb92-473c215e6767",
   "metadata": {},
   "outputs": [],
   "source": []
  }
 ],
 "metadata": {
  "kernelspec": {
   "display_name": "Python 3 (ipykernel)",
   "language": "python",
   "name": "python3"
  },
  "language_info": {
   "codemirror_mode": {
    "name": "ipython",
    "version": 3
   },
   "file_extension": ".py",
   "mimetype": "text/x-python",
   "name": "python",
   "nbconvert_exporter": "python",
   "pygments_lexer": "ipython3",
   "version": "3.11.9"
  }
 },
 "nbformat": 4,
 "nbformat_minor": 5
}
