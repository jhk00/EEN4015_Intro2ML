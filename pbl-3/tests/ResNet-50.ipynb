{
 "cells": [
  {
   "cell_type": "code",
   "execution_count": 3,
   "id": "b2c261d0-8022-4151-9f41-246cbca67d5f",
   "metadata": {},
   "outputs": [
    {
     "name": "stderr",
     "output_type": "stream",
     "text": [
      "\u001b[34m\u001b[1mwandb\u001b[0m: \u001b[33mWARNING\u001b[0m If you're specifying your api key in code, ensure this code is not shared publicly.\n",
      "\u001b[34m\u001b[1mwandb\u001b[0m: \u001b[33mWARNING\u001b[0m Consider setting the WANDB_API_KEY environment variable, or running `wandb login` from the command line.\n",
      "\u001b[34m\u001b[1mwandb\u001b[0m: Appending key for api.wandb.ai to your netrc file: /home/guswls/.netrc\n"
     ]
    },
    {
     "data": {
      "text/html": [
       "Tracking run with wandb version 0.19.9"
      ],
      "text/plain": [
       "<IPython.core.display.HTML object>"
      ]
     },
     "metadata": {},
     "output_type": "display_data"
    },
    {
     "data": {
      "text/html": [
       "Run data is saved locally in <code>/home/guswls/EEN4015_Intro2ML/pbl-3/wandb/run-20250511_074140-resnet50_multitask_run</code>"
      ],
      "text/plain": [
       "<IPython.core.display.HTML object>"
      ]
     },
     "metadata": {},
     "output_type": "display_data"
    },
    {
     "data": {
      "text/html": [
       "Resuming run <strong><a href='https://wandb.ai/sokjh1310-hanyang-university/PBL-3/runs/resnet50_multitask_run' target=\"_blank\">ResNet50_MultiTask</a></strong> to <a href='https://wandb.ai/sokjh1310-hanyang-university/PBL-3' target=\"_blank\">Weights & Biases</a> (<a href='https://wandb.me/developer-guide' target=\"_blank\">docs</a>)<br>"
      ],
      "text/plain": [
       "<IPython.core.display.HTML object>"
      ]
     },
     "metadata": {},
     "output_type": "display_data"
    },
    {
     "data": {
      "text/html": [
       " View project at <a href='https://wandb.ai/sokjh1310-hanyang-university/PBL-3' target=\"_blank\">https://wandb.ai/sokjh1310-hanyang-university/PBL-3</a>"
      ],
      "text/plain": [
       "<IPython.core.display.HTML object>"
      ]
     },
     "metadata": {},
     "output_type": "display_data"
    },
    {
     "data": {
      "text/html": [
       " View run at <a href='https://wandb.ai/sokjh1310-hanyang-university/PBL-3/runs/resnet50_multitask_run' target=\"_blank\">https://wandb.ai/sokjh1310-hanyang-university/PBL-3/runs/resnet50_multitask_run</a>"
      ],
      "text/plain": [
       "<IPython.core.display.HTML object>"
      ]
     },
     "metadata": {},
     "output_type": "display_data"
    },
    {
     "name": "stdout",
     "output_type": "stream",
     "text": [
      "총 11113 이미지, 65 클래스, 4 도메인을 로드했습니다.\n",
      "총 3213 이미지, 65 클래스, 4 도메인을 로드했습니다.\n",
      "Train set size: 11113\n",
      "Test set size: 3213\n",
      "Using device: cuda\n"
     ]
    },
    {
     "name": "stderr",
     "output_type": "stream",
     "text": [
      "/usr/local/lib/python3.11/dist-packages/torchvision/models/_utils.py:208: UserWarning: The parameter 'pretrained' is deprecated since 0.13 and may be removed in the future, please use 'weights' instead.\n",
      "  warnings.warn(\n",
      "/usr/local/lib/python3.11/dist-packages/torchvision/models/_utils.py:223: UserWarning: Arguments other than a weight enum or `None` for 'weights' are deprecated since 0.13 and may be removed in the future. The current behavior is equivalent to passing `weights=ResNet50_Weights.IMAGENET1K_V1`. You can also use `weights=ResNet50_Weights.DEFAULT` to get the most up-to-date weights.\n",
      "  warnings.warn(msg)\n"
     ]
    },
    {
     "name": "stdout",
     "output_type": "stream",
     "text": [
      "2개의 GPU를 사용합니다.\n",
      "체크포인트 checkpoints/resnet50_multitask_run_checkpoint.pth을 로드합니다.\n",
      "체크포인트에서 로드 완료: 에폭 45부터 시작합니다.\n",
      "이전 최고 성능: Class mAP: 0.7135, Domain mAP: 0.8235\n"
     ]
    },
    {
     "name": "stderr",
     "output_type": "stream",
     "text": [
      "  0%|                                                                                                       | 0/255 [00:00<?, ?it/s]"
     ]
    },
    {
     "name": "stdout",
     "output_type": "stream",
     "text": [
      "Epoch [46], Batch [20/44], Loss: 0.0762, Domain Loss: 0.0654, Class Loss: 0.0870, LR: 0.001000\n",
      "Epoch [46], Batch [40/44], Loss: 0.0887, Domain Loss: 0.0674, Class Loss: 0.1100, LR: 0.001000\n",
      "Train set: Epoch: 46, Avg loss: 0.0875, Domain Loss: 0.0560, Class Loss: 0.1191, Domain Acc: 98.07%, Class Acc: 96.51%, Domain mAP: 0.9972, Class mAP: 0.9909, Time: 95.20s\n",
      "Test set: Epoch: 46, Avg loss: 1.7397, Domain Loss: 1.2767, Class Loss: 2.2026, Domain Acc: 73.67%, Class Acc: 64.08%, Domain mAP: 0.8018, Class mAP: 0.6962, Time: 24.61s\n",
      "\n",
      "EarlyStopping 카운터: 3 / 30\n"
     ]
    },
    {
     "name": "stderr",
     "output_type": "stream",
     "text": [
      "  0%|▎                                                                                           | 1/255 [02:00<8:30:25, 120.57s/it]"
     ]
    },
    {
     "name": "stdout",
     "output_type": "stream",
     "text": [
      "체크포인트가 checkpoints/latest_checkpoint.pth에 저장되었습니다.\n",
      "Epoch [47], Batch [20/44], Loss: 0.0841, Domain Loss: 0.0439, Class Loss: 0.1243, LR: 0.001000\n",
      "Epoch [47], Batch [40/44], Loss: 0.0804, Domain Loss: 0.0055, Class Loss: 0.1552, LR: 0.001000\n",
      "Train set: Epoch: 47, Avg loss: 0.0563, Domain Loss: 0.0304, Class Loss: 0.0822, Domain Acc: 98.99%, Class Acc: 97.48%, Domain mAP: 0.9990, Class mAP: 0.9952, Time: 94.82s\n",
      "Test set: Epoch: 47, Avg loss: 1.6765, Domain Loss: 1.2610, Class Loss: 2.0921, Domain Acc: 76.81%, Class Acc: 66.48%, Domain mAP: 0.8115, Class mAP: 0.7214, Time: 25.22s\n",
      "\n",
      "새로운 최고 Class mAP: 0.7214, Domain mAP: 0.8115\n",
      "Accuracy improved (-inf% --> 0.72%). Saving model ...\n"
     ]
    },
    {
     "name": "stderr",
     "output_type": "stream",
     "text": [
      "  1%|▋                                                                                           | 2/255 [04:01<8:30:26, 121.05s/it]"
     ]
    },
    {
     "name": "stdout",
     "output_type": "stream",
     "text": [
      "체크포인트가 checkpoints/latest_checkpoint.pth에 저장되었습니다.\n",
      "Epoch [48], Batch [20/44], Loss: 0.0635, Domain Loss: 0.0397, Class Loss: 0.0873, LR: 0.001000\n",
      "Epoch [48], Batch [40/44], Loss: 0.0660, Domain Loss: 0.0368, Class Loss: 0.0951, LR: 0.001000\n",
      "Train set: Epoch: 48, Avg loss: 0.0576, Domain Loss: 0.0340, Class Loss: 0.0811, Domain Acc: 98.92%, Class Acc: 97.58%, Domain mAP: 0.9987, Class mAP: 0.9958, Time: 95.93s\n",
      "Test set: Epoch: 48, Avg loss: 1.7619, Domain Loss: 1.3263, Class Loss: 2.1975, Domain Acc: 77.34%, Class Acc: 65.80%, Domain mAP: 0.8097, Class mAP: 0.7079, Time: 24.45s\n",
      "\n",
      "EarlyStopping 카운터: 1 / 30\n"
     ]
    },
    {
     "name": "stderr",
     "output_type": "stream",
     "text": [
      "  1%|█                                                                                           | 3/255 [06:03<8:28:50, 121.15s/it]"
     ]
    },
    {
     "name": "stdout",
     "output_type": "stream",
     "text": [
      "체크포인트가 checkpoints/latest_checkpoint.pth에 저장되었습니다.\n",
      "Epoch [49], Batch [20/44], Loss: 0.0782, Domain Loss: 0.0579, Class Loss: 0.0986, LR: 0.001000\n",
      "Epoch [49], Batch [40/44], Loss: 0.0578, Domain Loss: 0.0277, Class Loss: 0.0880, LR: 0.001000\n",
      "Train set: Epoch: 49, Avg loss: 0.0727, Domain Loss: 0.0580, Class Loss: 0.0873, Domain Acc: 98.03%, Class Acc: 97.19%, Domain mAP: 0.9965, Class mAP: 0.9953, Time: 94.63s\n",
      "Test set: Epoch: 49, Avg loss: 1.9431, Domain Loss: 1.4008, Class Loss: 2.4854, Domain Acc: 71.86%, Class Acc: 62.37%, Domain mAP: 0.7651, Class mAP: 0.6672, Time: 25.90s\n",
      "\n",
      "EarlyStopping 카운터: 2 / 30\n"
     ]
    },
    {
     "name": "stderr",
     "output_type": "stream",
     "text": [
      "  2%|█▍                                                                                          | 4/255 [08:04<8:26:57, 121.19s/it]"
     ]
    },
    {
     "name": "stdout",
     "output_type": "stream",
     "text": [
      "체크포인트가 checkpoints/latest_checkpoint.pth에 저장되었습니다.\n",
      "Epoch [50], Batch [20/44], Loss: 0.0723, Domain Loss: 0.0566, Class Loss: 0.0880, LR: 0.001000\n",
      "Epoch [50], Batch [40/44], Loss: 0.0513, Domain Loss: 0.0467, Class Loss: 0.0558, LR: 0.001000\n",
      "Train set: Epoch: 50, Avg loss: 0.0635, Domain Loss: 0.0340, Class Loss: 0.0929, Domain Acc: 98.73%, Class Acc: 97.17%, Domain mAP: 0.9988, Class mAP: 0.9941, Time: 93.97s\n",
      "Test set: Epoch: 50, Avg loss: 1.8390, Domain Loss: 1.5274, Class Loss: 2.1506, Domain Acc: 74.17%, Class Acc: 65.73%, Domain mAP: 0.8056, Class mAP: 0.6996, Time: 24.90s\n",
      "\n",
      "체크포인트가 checkpoints/resnet50_multitask_run_checkpoint.pth에 저장되었습니다.\n",
      "EarlyStopping 카운터: 3 / 30\n"
     ]
    },
    {
     "name": "stderr",
     "output_type": "stream",
     "text": [
      "  2%|█▊                                                                                          | 5/255 [10:04<8:23:42, 120.89s/it]"
     ]
    },
    {
     "name": "stdout",
     "output_type": "stream",
     "text": [
      "체크포인트가 checkpoints/latest_checkpoint.pth에 저장되었습니다.\n",
      "Epoch [51], Batch [20/44], Loss: 0.0814, Domain Loss: 0.0643, Class Loss: 0.0986, LR: 0.001000\n",
      "Epoch [51], Batch [40/44], Loss: 0.0672, Domain Loss: 0.0465, Class Loss: 0.0878, LR: 0.001000\n",
      "Train set: Epoch: 51, Avg loss: 0.0782, Domain Loss: 0.0452, Class Loss: 0.1111, Domain Acc: 98.38%, Class Acc: 96.78%, Domain mAP: 0.9981, Class mAP: 0.9918, Time: 96.67s\n",
      "Test set: Epoch: 51, Avg loss: 1.8141, Domain Loss: 1.3041, Class Loss: 2.3241, Domain Acc: 75.57%, Class Acc: 62.99%, Domain mAP: 0.7941, Class mAP: 0.6831, Time: 25.76s\n",
      "\n",
      "EarlyStopping 카운터: 4 / 30\n"
     ]
    },
    {
     "name": "stderr",
     "output_type": "stream",
     "text": [
      "  2%|██▏                                                                                         | 6/255 [12:08<8:25:02, 121.70s/it]"
     ]
    },
    {
     "name": "stdout",
     "output_type": "stream",
     "text": [
      "체크포인트가 checkpoints/latest_checkpoint.pth에 저장되었습니다.\n",
      "Epoch [52], Batch [20/44], Loss: 0.1386, Domain Loss: 0.0236, Class Loss: 0.2536, LR: 0.001000\n",
      "Epoch [52], Batch [40/44], Loss: 0.0613, Domain Loss: 0.0194, Class Loss: 0.1032, LR: 0.001000\n",
      "Train set: Epoch: 52, Avg loss: 0.0796, Domain Loss: 0.0446, Class Loss: 0.1147, Domain Acc: 98.36%, Class Acc: 96.57%, Domain mAP: 0.9977, Class mAP: 0.9914, Time: 95.76s\n",
      "Test set: Epoch: 52, Avg loss: 1.8040, Domain Loss: 1.2664, Class Loss: 2.3416, Domain Acc: 75.19%, Class Acc: 63.71%, Domain mAP: 0.8042, Class mAP: 0.6888, Time: 24.48s\n",
      "\n",
      "EarlyStopping 카운터: 5 / 30\n"
     ]
    },
    {
     "name": "stderr",
     "output_type": "stream",
     "text": [
      "  3%|██▌                                                                                         | 7/255 [14:09<8:22:14, 121.51s/it]"
     ]
    },
    {
     "name": "stdout",
     "output_type": "stream",
     "text": [
      "체크포인트가 checkpoints/latest_checkpoint.pth에 저장되었습니다.\n",
      "Epoch [53], Batch [20/44], Loss: 0.0761, Domain Loss: 0.0160, Class Loss: 0.1361, LR: 0.001000\n",
      "Epoch [53], Batch [40/44], Loss: 0.0529, Domain Loss: 0.0612, Class Loss: 0.0446, LR: 0.001000\n",
      "Train set: Epoch: 53, Avg loss: 0.0593, Domain Loss: 0.0328, Class Loss: 0.0858, Domain Acc: 98.95%, Class Acc: 97.32%, Domain mAP: 0.9989, Class mAP: 0.9947, Time: 94.42s\n",
      "Test set: Epoch: 53, Avg loss: 1.8378, Domain Loss: 1.4832, Class Loss: 2.1924, Domain Acc: 75.44%, Class Acc: 64.95%, Domain mAP: 0.8071, Class mAP: 0.7020, Time: 24.28s\n",
      "\n",
      "EarlyStopping 카운터: 6 / 30\n"
     ]
    },
    {
     "name": "stderr",
     "output_type": "stream",
     "text": [
      "  3%|██▉                                                                                         | 8/255 [16:08<8:17:32, 120.86s/it]"
     ]
    },
    {
     "name": "stdout",
     "output_type": "stream",
     "text": [
      "체크포인트가 checkpoints/latest_checkpoint.pth에 저장되었습니다.\n",
      "Epoch [54], Batch [20/44], Loss: 0.0249, Domain Loss: 0.0035, Class Loss: 0.0463, LR: 0.001000\n",
      "Epoch [54], Batch [40/44], Loss: 0.0409, Domain Loss: 0.0202, Class Loss: 0.0615, LR: 0.001000\n",
      "Train set: Epoch: 54, Avg loss: 0.0451, Domain Loss: 0.0235, Class Loss: 0.0667, Domain Acc: 99.22%, Class Acc: 97.83%, Domain mAP: 0.9993, Class mAP: 0.9971, Time: 95.40s\n",
      "Test set: Epoch: 54, Avg loss: 1.7997, Domain Loss: 1.4176, Class Loss: 2.1818, Domain Acc: 76.31%, Class Acc: 66.23%, Domain mAP: 0.8215, Class mAP: 0.7114, Time: 24.76s\n",
      "\n",
      "EarlyStopping 카운터: 7 / 30\n"
     ]
    },
    {
     "name": "stderr",
     "output_type": "stream",
     "text": [
      "  4%|███▏                                                                                        | 9/255 [18:09<8:15:45, 120.91s/it]"
     ]
    },
    {
     "name": "stdout",
     "output_type": "stream",
     "text": [
      "체크포인트가 checkpoints/latest_checkpoint.pth에 저장되었습니다.\n",
      "Epoch [55], Batch [20/44], Loss: 0.0364, Domain Loss: 0.0031, Class Loss: 0.0698, LR: 0.001000\n",
      "Epoch [55], Batch [40/44], Loss: 0.0313, Domain Loss: 0.0173, Class Loss: 0.0452, LR: 0.001000\n",
      "Train set: Epoch: 55, Avg loss: 0.0443, Domain Loss: 0.0237, Class Loss: 0.0649, Domain Acc: 99.29%, Class Acc: 97.89%, Domain mAP: 0.9993, Class mAP: 0.9965, Time: 94.58s\n",
      "Test set: Epoch: 55, Avg loss: 1.8120, Domain Loss: 1.4375, Class Loss: 2.1866, Domain Acc: 75.54%, Class Acc: 66.64%, Domain mAP: 0.8000, Class mAP: 0.7161, Time: 24.83s\n",
      "\n",
      "체크포인트가 checkpoints/resnet50_multitask_run_checkpoint.pth에 저장되었습니다.\n",
      "EarlyStopping 카운터: 8 / 30\n"
     ]
    },
    {
     "name": "stderr",
     "output_type": "stream",
     "text": [
      "  4%|███▌                                                                                       | 10/255 [20:10<8:13:52, 120.95s/it]"
     ]
    },
    {
     "name": "stdout",
     "output_type": "stream",
     "text": [
      "체크포인트가 checkpoints/latest_checkpoint.pth에 저장되었습니다.\n",
      "Epoch [56], Batch [20/44], Loss: 0.0262, Domain Loss: 0.0256, Class Loss: 0.0268, LR: 0.001000\n",
      "Epoch [56], Batch [40/44], Loss: 0.0408, Domain Loss: 0.0185, Class Loss: 0.0630, LR: 0.001000\n",
      "Train set: Epoch: 56, Avg loss: 0.0420, Domain Loss: 0.0256, Class Loss: 0.0584, Domain Acc: 99.18%, Class Acc: 98.16%, Domain mAP: 0.9993, Class mAP: 0.9973, Time: 95.88s\n",
      "Test set: Epoch: 56, Avg loss: 1.8143, Domain Loss: 1.5701, Class Loss: 2.0586, Domain Acc: 75.88%, Class Acc: 67.51%, Domain mAP: 0.8056, Class mAP: 0.7246, Time: 25.63s\n",
      "\n",
      "새로운 최고 Class mAP: 0.7246, Domain mAP: 0.8056\n",
      "Accuracy improved (0.72% --> 0.72%). Saving model ...\n"
     ]
    },
    {
     "name": "stderr",
     "output_type": "stream",
     "text": [
      "  4%|███▉                                                                                       | 11/255 [22:13<8:14:12, 121.52s/it]"
     ]
    },
    {
     "name": "stdout",
     "output_type": "stream",
     "text": [
      "체크포인트가 checkpoints/latest_checkpoint.pth에 저장되었습니다.\n",
      "Epoch [57], Batch [20/44], Loss: 0.0699, Domain Loss: 0.0464, Class Loss: 0.0934, LR: 0.001000\n",
      "Epoch [57], Batch [40/44], Loss: 0.0507, Domain Loss: 0.0215, Class Loss: 0.0799, LR: 0.001000\n",
      "Train set: Epoch: 57, Avg loss: 0.0457, Domain Loss: 0.0328, Class Loss: 0.0586, Domain Acc: 98.89%, Class Acc: 98.08%, Domain mAP: 0.9990, Class mAP: 0.9974, Time: 94.58s\n",
      "Test set: Epoch: 57, Avg loss: 1.8593, Domain Loss: 1.3953, Class Loss: 2.3233, Domain Acc: 77.47%, Class Acc: 66.57%, Domain mAP: 0.8134, Class mAP: 0.7097, Time: 24.84s\n",
      "\n",
      "EarlyStopping 카운터: 1 / 30\n"
     ]
    },
    {
     "name": "stderr",
     "output_type": "stream",
     "text": [
      "  5%|████▎                                                                                      | 12/255 [24:13<8:10:43, 121.17s/it]"
     ]
    },
    {
     "name": "stdout",
     "output_type": "stream",
     "text": [
      "체크포인트가 checkpoints/latest_checkpoint.pth에 저장되었습니다.\n",
      "Epoch [58], Batch [20/44], Loss: 0.0590, Domain Loss: 0.0165, Class Loss: 0.1014, LR: 0.001000\n",
      "Epoch [58], Batch [40/44], Loss: 0.0706, Domain Loss: 0.0365, Class Loss: 0.1047, LR: 0.001000\n",
      "Train set: Epoch: 58, Avg loss: 0.0453, Domain Loss: 0.0333, Class Loss: 0.0574, Domain Acc: 98.83%, Class Acc: 98.25%, Domain mAP: 0.9990, Class mAP: 0.9973, Time: 95.85s\n",
      "Test set: Epoch: 58, Avg loss: 2.0869, Domain Loss: 1.7524, Class Loss: 2.4215, Domain Acc: 75.69%, Class Acc: 64.83%, Domain mAP: 0.7983, Class mAP: 0.6990, Time: 24.31s\n",
      "\n",
      "EarlyStopping 카운터: 2 / 30\n"
     ]
    },
    {
     "name": "stderr",
     "output_type": "stream",
     "text": [
      "  5%|████▋                                                                                      | 13/255 [26:14<8:08:25, 121.10s/it]"
     ]
    },
    {
     "name": "stdout",
     "output_type": "stream",
     "text": [
      "체크포인트가 checkpoints/latest_checkpoint.pth에 저장되었습니다.\n",
      "Epoch [59], Batch [20/44], Loss: 0.0273, Domain Loss: 0.0363, Class Loss: 0.0183, LR: 0.001000\n",
      "Epoch [59], Batch [40/44], Loss: 0.0331, Domain Loss: 0.0273, Class Loss: 0.0389, LR: 0.001000\n",
      "Train set: Epoch: 59, Avg loss: 0.0508, Domain Loss: 0.0336, Class Loss: 0.0680, Domain Acc: 98.79%, Class Acc: 97.85%, Domain mAP: 0.9988, Class mAP: 0.9969, Time: 96.46s\n",
      "Test set: Epoch: 59, Avg loss: 1.7910, Domain Loss: 1.4047, Class Loss: 2.1772, Domain Acc: 76.56%, Class Acc: 65.73%, Domain mAP: 0.8166, Class mAP: 0.7071, Time: 25.44s\n",
      "\n",
      "EarlyStopping 카운터: 3 / 30\n"
     ]
    },
    {
     "name": "stderr",
     "output_type": "stream",
     "text": [
      "  5%|████▉                                                                                      | 14/255 [28:17<8:08:27, 121.61s/it]"
     ]
    },
    {
     "name": "stdout",
     "output_type": "stream",
     "text": [
      "체크포인트가 checkpoints/latest_checkpoint.pth에 저장되었습니다.\n",
      "Epoch [60], Batch [20/44], Loss: 0.0307, Domain Loss: 0.0066, Class Loss: 0.0547, LR: 0.001000\n",
      "Epoch [60], Batch [40/44], Loss: 0.0531, Domain Loss: 0.0588, Class Loss: 0.0473, LR: 0.001000\n",
      "Train set: Epoch: 60, Avg loss: 0.0498, Domain Loss: 0.0316, Class Loss: 0.0679, Domain Acc: 98.91%, Class Acc: 97.85%, Domain mAP: 0.9990, Class mAP: 0.9964, Time: 98.20s\n",
      "Test set: Epoch: 60, Avg loss: 2.0936, Domain Loss: 1.7749, Class Loss: 2.4123, Domain Acc: 70.77%, Class Acc: 64.27%, Domain mAP: 0.7939, Class mAP: 0.6925, Time: 25.87s\n",
      "\n",
      "체크포인트가 checkpoints/resnet50_multitask_run_checkpoint.pth에 저장되었습니다.\n",
      "EarlyStopping 카운터: 4 / 30\n"
     ]
    },
    {
     "name": "stderr",
     "output_type": "stream",
     "text": [
      "  6%|█████▎                                                                                     | 15/255 [30:23<8:11:27, 122.86s/it]"
     ]
    },
    {
     "name": "stdout",
     "output_type": "stream",
     "text": [
      "체크포인트가 checkpoints/latest_checkpoint.pth에 저장되었습니다.\n",
      "Epoch [61], Batch [20/44], Loss: 0.0424, Domain Loss: 0.0307, Class Loss: 0.0540, LR: 0.001000\n",
      "Epoch [61], Batch [40/44], Loss: 0.0869, Domain Loss: 0.0292, Class Loss: 0.1446, LR: 0.001000\n",
      "Train set: Epoch: 61, Avg loss: 0.0597, Domain Loss: 0.0348, Class Loss: 0.0846, Domain Acc: 98.94%, Class Acc: 97.55%, Domain mAP: 0.9987, Class mAP: 0.9953, Time: 97.27s\n",
      "Test set: Epoch: 61, Avg loss: 2.0029, Domain Loss: 1.6522, Class Loss: 2.3536, Domain Acc: 74.85%, Class Acc: 64.58%, Domain mAP: 0.7990, Class mAP: 0.6981, Time: 24.46s\n",
      "\n",
      "EarlyStopping 카운터: 5 / 30\n"
     ]
    },
    {
     "name": "stderr",
     "output_type": "stream",
     "text": [
      "  6%|█████▋                                                                                     | 16/255 [32:26<8:09:06, 122.79s/it]"
     ]
    },
    {
     "name": "stdout",
     "output_type": "stream",
     "text": [
      "체크포인트가 checkpoints/latest_checkpoint.pth에 저장되었습니다.\n",
      "Epoch [62], Batch [20/44], Loss: 0.0738, Domain Loss: 0.0427, Class Loss: 0.1048, LR: 0.001000\n",
      "Epoch [62], Batch [40/44], Loss: 0.0799, Domain Loss: 0.0995, Class Loss: 0.0602, LR: 0.001000\n",
      "Train set: Epoch: 62, Avg loss: 0.0770, Domain Loss: 0.0459, Class Loss: 0.1082, Domain Acc: 98.56%, Class Acc: 96.62%, Domain mAP: 0.9976, Class mAP: 0.9926, Time: 92.50s\n",
      "Test set: Epoch: 62, Avg loss: 1.9827, Domain Loss: 1.5083, Class Loss: 2.4572, Domain Acc: 74.39%, Class Acc: 62.28%, Domain mAP: 0.7920, Class mAP: 0.6863, Time: 25.11s\n",
      "\n",
      "EarlyStopping 카운터: 6 / 30\n"
     ]
    },
    {
     "name": "stderr",
     "output_type": "stream",
     "text": [
      "  7%|██████                                                                                     | 17/255 [34:24<8:02:03, 121.53s/it]"
     ]
    },
    {
     "name": "stdout",
     "output_type": "stream",
     "text": [
      "체크포인트가 checkpoints/latest_checkpoint.pth에 저장되었습니다.\n",
      "Epoch [63], Batch [20/44], Loss: 0.1100, Domain Loss: 0.0188, Class Loss: 0.2013, LR: 0.001000\n",
      "Epoch [63], Batch [40/44], Loss: 0.0795, Domain Loss: 0.0734, Class Loss: 0.0856, LR: 0.001000\n",
      "Train set: Epoch: 63, Avg loss: 0.0710, Domain Loss: 0.0385, Class Loss: 0.1034, Domain Acc: 98.66%, Class Acc: 96.60%, Domain mAP: 0.9983, Class mAP: 0.9935, Time: 97.33s\n",
      "Test set: Epoch: 63, Avg loss: 2.2300, Domain Loss: 1.9121, Class Loss: 2.5480, Domain Acc: 68.75%, Class Acc: 61.53%, Domain mAP: 0.7709, Class mAP: 0.6637, Time: 25.60s\n",
      "\n",
      "EarlyStopping 카운터: 7 / 30\n"
     ]
    },
    {
     "name": "stderr",
     "output_type": "stream",
     "text": [
      "  7%|██████▍                                                                                    | 18/255 [36:28<8:02:44, 122.21s/it]"
     ]
    },
    {
     "name": "stdout",
     "output_type": "stream",
     "text": [
      "체크포인트가 checkpoints/latest_checkpoint.pth에 저장되었습니다.\n",
      "Epoch [64], Batch [20/44], Loss: 0.1077, Domain Loss: 0.0466, Class Loss: 0.1689, LR: 0.001000\n",
      "Epoch [64], Batch [40/44], Loss: 0.0605, Domain Loss: 0.0089, Class Loss: 0.1120, LR: 0.001000\n",
      "Train set: Epoch: 64, Avg loss: 0.0668, Domain Loss: 0.0351, Class Loss: 0.0985, Domain Acc: 98.77%, Class Acc: 97.10%, Domain mAP: 0.9987, Class mAP: 0.9939, Time: 93.74s\n",
      "Test set: Epoch: 64, Avg loss: 2.0079, Domain Loss: 1.7455, Class Loss: 2.2703, Domain Acc: 72.21%, Class Acc: 64.33%, Domain mAP: 0.7878, Class mAP: 0.6952, Time: 26.36s\n",
      "\n",
      "EarlyStopping 카운터: 8 / 30\n"
     ]
    },
    {
     "name": "stderr",
     "output_type": "stream",
     "text": [
      "  7%|██████▊                                                                                    | 19/255 [38:29<7:59:04, 121.80s/it]"
     ]
    },
    {
     "name": "stdout",
     "output_type": "stream",
     "text": [
      "체크포인트가 checkpoints/latest_checkpoint.pth에 저장되었습니다.\n",
      "Epoch [65], Batch [20/44], Loss: 0.0528, Domain Loss: 0.0476, Class Loss: 0.0580, LR: 0.001000\n",
      "Epoch [65], Batch [40/44], Loss: 0.0782, Domain Loss: 0.0740, Class Loss: 0.0824, LR: 0.001000\n",
      "Train set: Epoch: 65, Avg loss: 0.0649, Domain Loss: 0.0341, Class Loss: 0.0958, Domain Acc: 98.91%, Class Acc: 97.16%, Domain mAP: 0.9987, Class mAP: 0.9934, Time: 95.14s\n",
      "Test set: Epoch: 65, Avg loss: 1.8581, Domain Loss: 1.5465, Class Loss: 2.1696, Domain Acc: 73.92%, Class Acc: 65.89%, Domain mAP: 0.8058, Class mAP: 0.7073, Time: 25.23s\n",
      "\n",
      "체크포인트가 checkpoints/resnet50_multitask_run_checkpoint.pth에 저장되었습니다.\n",
      "EarlyStopping 카운터: 9 / 30\n"
     ]
    },
    {
     "name": "stderr",
     "output_type": "stream",
     "text": [
      "  8%|███████▏                                                                                   | 20/255 [40:31<7:57:08, 121.82s/it]"
     ]
    },
    {
     "name": "stdout",
     "output_type": "stream",
     "text": [
      "체크포인트가 checkpoints/latest_checkpoint.pth에 저장되었습니다.\n",
      "Epoch [66], Batch [20/44], Loss: 0.0547, Domain Loss: 0.0218, Class Loss: 0.0876, LR: 0.001000\n",
      "Epoch [66], Batch [40/44], Loss: 0.0322, Domain Loss: 0.0151, Class Loss: 0.0493, LR: 0.001000\n",
      "Train set: Epoch: 66, Avg loss: 0.0500, Domain Loss: 0.0265, Class Loss: 0.0735, Domain Acc: 99.07%, Class Acc: 97.67%, Domain mAP: 0.9991, Class mAP: 0.9961, Time: 95.88s\n",
      "Test set: Epoch: 66, Avg loss: 2.0745, Domain Loss: 1.9858, Class Loss: 2.1631, Domain Acc: 75.16%, Class Acc: 66.95%, Domain mAP: 0.8118, Class mAP: 0.7192, Time: 25.35s\n",
      "\n",
      "EarlyStopping 카운터: 10 / 30\n"
     ]
    },
    {
     "name": "stderr",
     "output_type": "stream",
     "text": [
      "  8%|███████▍                                                                                   | 21/255 [42:33<7:55:19, 121.88s/it]"
     ]
    },
    {
     "name": "stdout",
     "output_type": "stream",
     "text": [
      "체크포인트가 checkpoints/latest_checkpoint.pth에 저장되었습니다.\n",
      "Epoch [67], Batch [20/44], Loss: 0.0492, Domain Loss: 0.0355, Class Loss: 0.0629, LR: 0.001000\n",
      "Epoch [67], Batch [40/44], Loss: 0.0557, Domain Loss: 0.0355, Class Loss: 0.0759, LR: 0.001000\n",
      "Train set: Epoch: 67, Avg loss: 0.0445, Domain Loss: 0.0292, Class Loss: 0.0597, Domain Acc: 99.06%, Class Acc: 98.05%, Domain mAP: 0.9989, Class mAP: 0.9971, Time: 97.04s\n",
      "Test set: Epoch: 67, Avg loss: 2.3664, Domain Loss: 2.3207, Class Loss: 2.4120, Domain Acc: 72.61%, Class Acc: 65.17%, Domain mAP: 0.7905, Class mAP: 0.6977, Time: 25.90s\n",
      "\n",
      "EarlyStopping 카운터: 11 / 30\n"
     ]
    },
    {
     "name": "stderr",
     "output_type": "stream",
     "text": [
      "  9%|███████▊                                                                                   | 22/255 [44:36<7:55:25, 122.43s/it]"
     ]
    },
    {
     "name": "stdout",
     "output_type": "stream",
     "text": [
      "체크포인트가 checkpoints/latest_checkpoint.pth에 저장되었습니다.\n",
      "Epoch [68], Batch [20/44], Loss: 0.0344, Domain Loss: 0.0057, Class Loss: 0.0630, LR: 0.001000\n",
      "Epoch [68], Batch [40/44], Loss: 0.0584, Domain Loss: 0.0344, Class Loss: 0.0823, LR: 0.001000\n",
      "Train set: Epoch: 68, Avg loss: 0.0572, Domain Loss: 0.0334, Class Loss: 0.0809, Domain Acc: 98.86%, Class Acc: 97.25%, Domain mAP: 0.9989, Class mAP: 0.9956, Time: 95.85s\n",
      "Test set: Epoch: 68, Avg loss: 2.1545, Domain Loss: 1.8003, Class Loss: 2.5087, Domain Acc: 74.45%, Class Acc: 64.46%, Domain mAP: 0.7938, Class mAP: 0.6975, Time: 25.52s\n",
      "\n",
      "EarlyStopping 카운터: 12 / 30\n"
     ]
    },
    {
     "name": "stderr",
     "output_type": "stream",
     "text": [
      "  9%|████████▏                                                                                  | 23/255 [46:38<7:53:01, 122.33s/it]"
     ]
    },
    {
     "name": "stdout",
     "output_type": "stream",
     "text": [
      "체크포인트가 checkpoints/latest_checkpoint.pth에 저장되었습니다.\n",
      "Epoch [69], Batch [20/44], Loss: 0.0440, Domain Loss: 0.0295, Class Loss: 0.0584, LR: 0.001000\n",
      "Epoch [69], Batch [40/44], Loss: 0.0426, Domain Loss: 0.0544, Class Loss: 0.0309, LR: 0.001000\n",
      "Train set: Epoch: 69, Avg loss: 0.0616, Domain Loss: 0.0429, Class Loss: 0.0803, Domain Acc: 98.63%, Class Acc: 97.59%, Domain mAP: 0.9982, Class mAP: 0.9958, Time: 96.11s\n",
      "Test set: Epoch: 69, Avg loss: 1.8699, Domain Loss: 1.3171, Class Loss: 2.4227, Domain Acc: 76.07%, Class Acc: 63.27%, Domain mAP: 0.8077, Class mAP: 0.6784, Time: 24.85s\n",
      "\n",
      "EarlyStopping 카운터: 13 / 30\n"
     ]
    },
    {
     "name": "stderr",
     "output_type": "stream",
     "text": [
      "  9%|████████▌                                                                                  | 24/255 [48:40<7:50:32, 122.22s/it]"
     ]
    },
    {
     "name": "stdout",
     "output_type": "stream",
     "text": [
      "체크포인트가 checkpoints/latest_checkpoint.pth에 저장되었습니다.\n",
      "Epoch [70], Batch [20/44], Loss: 0.0792, Domain Loss: 0.0294, Class Loss: 0.1291, LR: 0.001000\n",
      "Epoch [70], Batch [40/44], Loss: 0.0658, Domain Loss: 0.0384, Class Loss: 0.0933, LR: 0.001000\n",
      "Train set: Epoch: 70, Avg loss: 0.0672, Domain Loss: 0.0378, Class Loss: 0.0965, Domain Acc: 98.79%, Class Acc: 96.95%, Domain mAP: 0.9986, Class mAP: 0.9943, Time: 96.86s\n",
      "Test set: Epoch: 70, Avg loss: 1.9796, Domain Loss: 1.5215, Class Loss: 2.4377, Domain Acc: 77.03%, Class Acc: 63.43%, Domain mAP: 0.8155, Class mAP: 0.6858, Time: 25.73s\n",
      "\n",
      "체크포인트가 checkpoints/resnet50_multitask_run_checkpoint.pth에 저장되었습니다.\n",
      "EarlyStopping 카운터: 14 / 30\n"
     ]
    },
    {
     "name": "stderr",
     "output_type": "stream",
     "text": [
      " 10%|████████▉                                                                                  | 25/255 [50:45<7:50:42, 122.79s/it]"
     ]
    },
    {
     "name": "stdout",
     "output_type": "stream",
     "text": [
      "체크포인트가 checkpoints/latest_checkpoint.pth에 저장되었습니다.\n",
      "Epoch [71], Batch [20/44], Loss: 0.0616, Domain Loss: 0.0750, Class Loss: 0.0483, LR: 0.001000\n",
      "Epoch [71], Batch [40/44], Loss: 0.0260, Domain Loss: 0.0238, Class Loss: 0.0282, LR: 0.001000\n",
      "Train set: Epoch: 71, Avg loss: 0.0615, Domain Loss: 0.0405, Class Loss: 0.0826, Domain Acc: 98.68%, Class Acc: 97.36%, Domain mAP: 0.9983, Class mAP: 0.9953, Time: 95.03s\n",
      "Test set: Epoch: 71, Avg loss: 1.9737, Domain Loss: 1.5267, Class Loss: 2.4206, Domain Acc: 75.69%, Class Acc: 64.27%, Domain mAP: 0.8097, Class mAP: 0.6947, Time: 24.82s\n",
      "\n",
      "EarlyStopping 카운터: 15 / 30\n"
     ]
    },
    {
     "name": "stderr",
     "output_type": "stream",
     "text": [
      " 10%|█████████▎                                                                                 | 26/255 [52:45<7:46:18, 122.18s/it]"
     ]
    },
    {
     "name": "stdout",
     "output_type": "stream",
     "text": [
      "체크포인트가 checkpoints/latest_checkpoint.pth에 저장되었습니다.\n",
      "Epoch [72], Batch [20/44], Loss: 0.0376, Domain Loss: 0.0128, Class Loss: 0.0623, LR: 0.001000\n",
      "Epoch [72], Batch [40/44], Loss: 0.0676, Domain Loss: 0.0344, Class Loss: 0.1008, LR: 0.001000\n",
      "Train set: Epoch: 72, Avg loss: 0.0552, Domain Loss: 0.0333, Class Loss: 0.0770, Domain Acc: 98.96%, Class Acc: 97.74%, Domain mAP: 0.9988, Class mAP: 0.9957, Time: 94.03s\n",
      "Test set: Epoch: 72, Avg loss: 2.0271, Domain Loss: 1.3703, Class Loss: 2.6838, Domain Acc: 77.19%, Class Acc: 64.05%, Domain mAP: 0.8022, Class mAP: 0.6900, Time: 25.18s\n",
      "\n",
      "EarlyStopping 카운터: 16 / 30\n"
     ]
    },
    {
     "name": "stderr",
     "output_type": "stream",
     "text": [
      " 11%|█████████▋                                                                                 | 27/255 [54:45<7:41:51, 121.54s/it]"
     ]
    },
    {
     "name": "stdout",
     "output_type": "stream",
     "text": [
      "체크포인트가 checkpoints/latest_checkpoint.pth에 저장되었습니다.\n",
      "Epoch [73], Batch [20/44], Loss: 0.0471, Domain Loss: 0.0340, Class Loss: 0.0601, LR: 0.001000\n",
      "Epoch [73], Batch [40/44], Loss: 0.0877, Domain Loss: 0.0682, Class Loss: 0.1072, LR: 0.001000\n",
      "Train set: Epoch: 73, Avg loss: 0.0494, Domain Loss: 0.0274, Class Loss: 0.0713, Domain Acc: 99.10%, Class Acc: 97.94%, Domain mAP: 0.9991, Class mAP: 0.9962, Time: 94.33s\n",
      "Test set: Epoch: 73, Avg loss: 1.8731, Domain Loss: 1.3807, Class Loss: 2.3656, Domain Acc: 76.07%, Class Acc: 64.95%, Domain mAP: 0.8103, Class mAP: 0.7014, Time: 25.80s\n",
      "\n",
      "EarlyStopping 카운터: 17 / 30\n"
     ]
    },
    {
     "name": "stderr",
     "output_type": "stream",
     "text": [
      " 11%|█████████▉                                                                                 | 28/255 [56:46<7:39:06, 121.35s/it]"
     ]
    },
    {
     "name": "stdout",
     "output_type": "stream",
     "text": [
      "체크포인트가 checkpoints/latest_checkpoint.pth에 저장되었습니다.\n",
      "Epoch [74], Batch [20/44], Loss: 0.0312, Domain Loss: 0.0107, Class Loss: 0.0517, LR: 0.001000\n",
      "Epoch [74], Batch [40/44], Loss: 0.0378, Domain Loss: 0.0303, Class Loss: 0.0453, LR: 0.001000\n",
      "Train set: Epoch: 74, Avg loss: 0.0368, Domain Loss: 0.0239, Class Loss: 0.0496, Domain Acc: 99.28%, Class Acc: 98.42%, Domain mAP: 0.9993, Class mAP: 0.9981, Time: 97.05s\n",
      "Test set: Epoch: 74, Avg loss: 2.2407, Domain Loss: 2.0602, Class Loss: 2.4213, Domain Acc: 74.23%, Class Acc: 65.45%, Domain mAP: 0.8017, Class mAP: 0.7066, Time: 26.31s\n",
      "\n",
      "EarlyStopping 카운터: 18 / 30\n"
     ]
    },
    {
     "name": "stderr",
     "output_type": "stream",
     "text": [
      " 11%|██████████▎                                                                                | 29/255 [58:50<7:40:16, 122.20s/it]"
     ]
    },
    {
     "name": "stdout",
     "output_type": "stream",
     "text": [
      "체크포인트가 checkpoints/latest_checkpoint.pth에 저장되었습니다.\n",
      "Epoch [75], Batch [20/44], Loss: 0.0575, Domain Loss: 0.0497, Class Loss: 0.0652, LR: 0.001000\n",
      "Epoch [75], Batch [40/44], Loss: 0.0362, Domain Loss: 0.0094, Class Loss: 0.0630, LR: 0.001000\n",
      "Train set: Epoch: 75, Avg loss: 0.0422, Domain Loss: 0.0309, Class Loss: 0.0535, Domain Acc: 99.07%, Class Acc: 98.25%, Domain mAP: 0.9992, Class mAP: 0.9979, Time: 94.48s\n",
      "Test set: Epoch: 75, Avg loss: 2.2798, Domain Loss: 2.1203, Class Loss: 2.4392, Domain Acc: 73.67%, Class Acc: 64.95%, Domain mAP: 0.8011, Class mAP: 0.7011, Time: 25.25s\n",
      "\n",
      "체크포인트가 checkpoints/resnet50_multitask_run_checkpoint.pth에 저장되었습니다.\n",
      "EarlyStopping 카운터: 19 / 30\n"
     ]
    },
    {
     "name": "stderr",
     "output_type": "stream",
     "text": [
      " 12%|██████████▍                                                                              | 30/255 [1:00:52<7:37:08, 121.90s/it]"
     ]
    },
    {
     "name": "stdout",
     "output_type": "stream",
     "text": [
      "체크포인트가 checkpoints/latest_checkpoint.pth에 저장되었습니다.\n",
      "Epoch [76], Batch [20/44], Loss: 0.0403, Domain Loss: 0.0168, Class Loss: 0.0638, LR: 0.001000\n",
      "Epoch [76], Batch [40/44], Loss: 0.0109, Domain Loss: 0.0059, Class Loss: 0.0159, LR: 0.001000\n",
      "Train set: Epoch: 76, Avg loss: 0.0388, Domain Loss: 0.0226, Class Loss: 0.0550, Domain Acc: 99.27%, Class Acc: 98.15%, Domain mAP: 0.9993, Class mAP: 0.9976, Time: 94.18s\n",
      "Test set: Epoch: 76, Avg loss: 2.0196, Domain Loss: 1.6596, Class Loss: 2.3796, Domain Acc: 72.83%, Class Acc: 65.61%, Domain mAP: 0.7855, Class mAP: 0.7039, Time: 25.38s\n",
      "\n",
      "EarlyStopping 카운터: 20 / 30\n"
     ]
    },
    {
     "name": "stderr",
     "output_type": "stream",
     "text": [
      " 12%|██████████▊                                                                              | 31/255 [1:02:52<7:33:32, 121.48s/it]"
     ]
    },
    {
     "name": "stdout",
     "output_type": "stream",
     "text": [
      "체크포인트가 checkpoints/latest_checkpoint.pth에 저장되었습니다.\n",
      "Epoch [77], Batch [20/44], Loss: 0.0450, Domain Loss: 0.0295, Class Loss: 0.0606, LR: 0.001000\n",
      "Epoch [77], Batch [40/44], Loss: 0.0937, Domain Loss: 0.0384, Class Loss: 0.1491, LR: 0.001000\n",
      "Train set: Epoch: 77, Avg loss: 0.0498, Domain Loss: 0.0333, Class Loss: 0.0663, Domain Acc: 99.11%, Class Acc: 97.71%, Domain mAP: 0.9989, Class mAP: 0.9972, Time: 95.11s\n",
      "Test set: Epoch: 77, Avg loss: 2.1241, Domain Loss: 1.3744, Class Loss: 2.8738, Domain Acc: 76.00%, Class Acc: 61.31%, Domain mAP: 0.8006, Class mAP: 0.6709, Time: 26.03s\n",
      "\n",
      "EarlyStopping 카운터: 21 / 30\n"
     ]
    },
    {
     "name": "stderr",
     "output_type": "stream",
     "text": [
      " 13%|███████████▏                                                                             | 32/255 [1:04:54<7:32:07, 121.65s/it]"
     ]
    },
    {
     "name": "stdout",
     "output_type": "stream",
     "text": [
      "체크포인트가 checkpoints/latest_checkpoint.pth에 저장되었습니다.\n",
      "Epoch [78], Batch [20/44], Loss: 0.0793, Domain Loss: 0.0216, Class Loss: 0.1369, LR: 0.001000\n",
      "Epoch [78], Batch [40/44], Loss: 0.0890, Domain Loss: 0.0091, Class Loss: 0.1689, LR: 0.001000\n",
      "Train set: Epoch: 78, Avg loss: 0.0623, Domain Loss: 0.0407, Class Loss: 0.0839, Domain Acc: 98.66%, Class Acc: 97.57%, Domain mAP: 0.9982, Class mAP: 0.9954, Time: 96.74s\n",
      "Test set: Epoch: 78, Avg loss: 1.9882, Domain Loss: 1.5158, Class Loss: 2.4605, Domain Acc: 72.64%, Class Acc: 63.15%, Domain mAP: 0.7863, Class mAP: 0.6817, Time: 24.87s\n",
      "\n",
      "EarlyStopping 카운터: 22 / 30\n"
     ]
    },
    {
     "name": "stderr",
     "output_type": "stream",
     "text": [
      " 13%|███████████▌                                                                             | 33/255 [1:06:57<7:31:01, 121.90s/it]"
     ]
    },
    {
     "name": "stdout",
     "output_type": "stream",
     "text": [
      "체크포인트가 checkpoints/latest_checkpoint.pth에 저장되었습니다.\n",
      "Epoch [79], Batch [20/44], Loss: 0.0498, Domain Loss: 0.0442, Class Loss: 0.0554, LR: 0.001000\n",
      "Epoch [79], Batch [40/44], Loss: 0.0462, Domain Loss: 0.0404, Class Loss: 0.0520, LR: 0.001000\n",
      "Train set: Epoch: 79, Avg loss: 0.0627, Domain Loss: 0.0314, Class Loss: 0.0939, Domain Acc: 99.00%, Class Acc: 97.27%, Domain mAP: 0.9989, Class mAP: 0.9950, Time: 94.98s\n",
      "Test set: Epoch: 79, Avg loss: 2.2524, Domain Loss: 1.8827, Class Loss: 2.6221, Domain Acc: 74.23%, Class Acc: 61.87%, Domain mAP: 0.8015, Class mAP: 0.6740, Time: 25.96s\n",
      "\n",
      "EarlyStopping 카운터: 23 / 30\n"
     ]
    },
    {
     "name": "stderr",
     "output_type": "stream",
     "text": [
      " 13%|███████████▊                                                                             | 34/255 [1:08:59<7:29:00, 121.90s/it]"
     ]
    },
    {
     "name": "stdout",
     "output_type": "stream",
     "text": [
      "체크포인트가 checkpoints/latest_checkpoint.pth에 저장되었습니다.\n",
      "Epoch [80], Batch [20/44], Loss: 0.0698, Domain Loss: 0.0213, Class Loss: 0.1183, LR: 0.001000\n",
      "Epoch [80], Batch [40/44], Loss: 0.0528, Domain Loss: 0.0381, Class Loss: 0.0676, LR: 0.001000\n",
      "Train set: Epoch: 80, Avg loss: 0.0600, Domain Loss: 0.0318, Class Loss: 0.0883, Domain Acc: 98.96%, Class Acc: 97.19%, Domain mAP: 0.9990, Class mAP: 0.9953, Time: 95.22s\n",
      "Test set: Epoch: 80, Avg loss: 2.0410, Domain Loss: 1.7989, Class Loss: 2.2831, Domain Acc: 73.95%, Class Acc: 62.81%, Domain mAP: 0.7973, Class mAP: 0.6821, Time: 25.22s\n",
      "\n",
      "체크포인트가 checkpoints/resnet50_multitask_run_checkpoint.pth에 저장되었습니다.\n",
      "EarlyStopping 카운터: 24 / 30\n"
     ]
    },
    {
     "name": "stderr",
     "output_type": "stream",
     "text": [
      " 14%|████████████▏                                                                            | 35/255 [1:11:01<7:27:02, 121.92s/it]"
     ]
    },
    {
     "name": "stdout",
     "output_type": "stream",
     "text": [
      "체크포인트가 checkpoints/latest_checkpoint.pth에 저장되었습니다.\n",
      "Epoch [81], Batch [20/44], Loss: 0.0610, Domain Loss: 0.0260, Class Loss: 0.0960, LR: 0.001000\n",
      "Epoch [81], Batch [40/44], Loss: 0.0250, Domain Loss: 0.0095, Class Loss: 0.0405, LR: 0.001000\n",
      "Train set: Epoch: 81, Avg loss: 0.0494, Domain Loss: 0.0294, Class Loss: 0.0694, Domain Acc: 99.06%, Class Acc: 97.77%, Domain mAP: 0.9991, Class mAP: 0.9970, Time: 93.58s\n",
      "Test set: Epoch: 81, Avg loss: 2.0158, Domain Loss: 1.5707, Class Loss: 2.4609, Domain Acc: 76.03%, Class Acc: 63.74%, Domain mAP: 0.8088, Class mAP: 0.6944, Time: 26.75s\n",
      "\n",
      "EarlyStopping 카운터: 25 / 30\n"
     ]
    },
    {
     "name": "stderr",
     "output_type": "stream",
     "text": [
      " 14%|████████████▌                                                                            | 36/255 [1:13:02<7:24:06, 121.67s/it]"
     ]
    },
    {
     "name": "stdout",
     "output_type": "stream",
     "text": [
      "체크포인트가 checkpoints/latest_checkpoint.pth에 저장되었습니다.\n",
      "Epoch [82], Batch [20/44], Loss: 0.0697, Domain Loss: 0.0215, Class Loss: 0.1178, LR: 0.001000\n",
      "Epoch [82], Batch [40/44], Loss: 0.0823, Domain Loss: 0.0774, Class Loss: 0.0872, LR: 0.001000\n",
      "Train set: Epoch: 82, Avg loss: 0.0533, Domain Loss: 0.0325, Class Loss: 0.0741, Domain Acc: 98.96%, Class Acc: 97.72%, Domain mAP: 0.9989, Class mAP: 0.9959, Time: 96.52s\n",
      "Test set: Epoch: 82, Avg loss: 1.9918, Domain Loss: 1.4934, Class Loss: 2.4902, Domain Acc: 77.16%, Class Acc: 63.55%, Domain mAP: 0.8103, Class mAP: 0.6880, Time: 25.07s\n",
      "\n",
      "EarlyStopping 카운터: 26 / 30\n"
     ]
    },
    {
     "name": "stderr",
     "output_type": "stream",
     "text": [
      " 15%|████████████▉                                                                            | 37/255 [1:15:04<7:22:59, 121.92s/it]"
     ]
    },
    {
     "name": "stdout",
     "output_type": "stream",
     "text": [
      "체크포인트가 checkpoints/latest_checkpoint.pth에 저장되었습니다.\n",
      "Epoch [83], Batch [20/44], Loss: 0.0231, Domain Loss: 0.0247, Class Loss: 0.0214, LR: 0.001000\n",
      "Epoch [83], Batch [40/44], Loss: 0.0415, Domain Loss: 0.0219, Class Loss: 0.0611, LR: 0.001000\n",
      "Train set: Epoch: 83, Avg loss: 0.0472, Domain Loss: 0.0191, Class Loss: 0.0754, Domain Acc: 99.40%, Class Acc: 97.71%, Domain mAP: 0.9996, Class mAP: 0.9960, Time: 95.04s\n",
      "Test set: Epoch: 83, Avg loss: 1.8623, Domain Loss: 1.3961, Class Loss: 2.3286, Domain Acc: 74.39%, Class Acc: 63.99%, Domain mAP: 0.7970, Class mAP: 0.6894, Time: 24.95s\n",
      "\n",
      "EarlyStopping 카운터: 27 / 30\n"
     ]
    },
    {
     "name": "stderr",
     "output_type": "stream",
     "text": [
      " 15%|█████████████▎                                                                           | 38/255 [1:17:05<7:19:50, 121.62s/it]"
     ]
    },
    {
     "name": "stdout",
     "output_type": "stream",
     "text": [
      "체크포인트가 checkpoints/latest_checkpoint.pth에 저장되었습니다.\n",
      "Epoch [84], Batch [20/44], Loss: 0.0252, Domain Loss: 0.0182, Class Loss: 0.0322, LR: 0.001000\n",
      "Epoch [84], Batch [40/44], Loss: 0.0450, Domain Loss: 0.0330, Class Loss: 0.0571, LR: 0.001000\n",
      "Train set: Epoch: 84, Avg loss: 0.0399, Domain Loss: 0.0224, Class Loss: 0.0574, Domain Acc: 99.25%, Class Acc: 98.19%, Domain mAP: 0.9996, Class mAP: 0.9975, Time: 97.90s\n",
      "Test set: Epoch: 84, Avg loss: 2.7081, Domain Loss: 2.5154, Class Loss: 2.9007, Domain Acc: 71.58%, Class Acc: 60.91%, Domain mAP: 0.7741, Class mAP: 0.6619, Time: 24.88s\n",
      "\n",
      "EarlyStopping 카운터: 28 / 30\n"
     ]
    },
    {
     "name": "stderr",
     "output_type": "stream",
     "text": [
      " 15%|█████████████▌                                                                           | 39/255 [1:19:09<7:19:55, 122.20s/it]"
     ]
    },
    {
     "name": "stdout",
     "output_type": "stream",
     "text": [
      "체크포인트가 checkpoints/latest_checkpoint.pth에 저장되었습니다.\n",
      "Epoch [85], Batch [20/44], Loss: 0.0438, Domain Loss: 0.0200, Class Loss: 0.0676, LR: 0.001000\n",
      "Epoch [85], Batch [40/44], Loss: 0.0457, Domain Loss: 0.0534, Class Loss: 0.0381, LR: 0.001000\n",
      "Train set: Epoch: 85, Avg loss: 0.0417, Domain Loss: 0.0238, Class Loss: 0.0595, Domain Acc: 99.21%, Class Acc: 97.99%, Domain mAP: 0.9993, Class mAP: 0.9971, Time: 96.52s\n",
      "Test set: Epoch: 85, Avg loss: 1.8868, Domain Loss: 1.4460, Class Loss: 2.3276, Domain Acc: 77.19%, Class Acc: 66.11%, Domain mAP: 0.8059, Class mAP: 0.7043, Time: 25.59s\n",
      "\n",
      "체크포인트가 checkpoints/resnet50_multitask_run_checkpoint.pth에 저장되었습니다.\n",
      "EarlyStopping 카운터: 29 / 30\n"
     ]
    },
    {
     "name": "stderr",
     "output_type": "stream",
     "text": [
      " 16%|█████████████▉                                                                           | 40/255 [1:21:13<7:19:41, 122.70s/it]"
     ]
    },
    {
     "name": "stdout",
     "output_type": "stream",
     "text": [
      "체크포인트가 checkpoints/latest_checkpoint.pth에 저장되었습니다.\n",
      "Epoch [86], Batch [20/44], Loss: 0.0299, Domain Loss: 0.0314, Class Loss: 0.0284, LR: 0.001000\n",
      "Epoch [86], Batch [40/44], Loss: 0.0307, Domain Loss: 0.0071, Class Loss: 0.0543, LR: 0.001000\n",
      "Train set: Epoch: 86, Avg loss: 0.0360, Domain Loss: 0.0222, Class Loss: 0.0498, Domain Acc: 99.32%, Class Acc: 98.31%, Domain mAP: 0.9995, Class mAP: 0.9981, Time: 95.17s\n",
      "Test set: Epoch: 86, Avg loss: 2.0387, Domain Loss: 1.4306, Class Loss: 2.6469, Domain Acc: 77.72%, Class Acc: 64.11%, Domain mAP: 0.8130, Class mAP: 0.6967, Time: 25.13s\n",
      "\n",
      "EarlyStopping 카운터: 30 / 30\n"
     ]
    },
    {
     "name": "stderr",
     "output_type": "stream",
     "text": [
      " 16%|█████████████▉                                                                           | 40/255 [1:23:14<7:27:23, 124.85s/it]"
     ]
    },
    {
     "name": "stdout",
     "output_type": "stream",
     "text": [
      "체크포인트가 checkpoints/latest_checkpoint.pth에 저장되었습니다.\n",
      "에폭 86에서 학습 조기 종료. 최고 성능 에폭: 56\n",
      "최고 클래스 mAP 모델 로드 중...\n"
     ]
    },
    {
     "name": "stderr",
     "output_type": "stream",
     "text": [
      "\n"
     ]
    },
    {
     "name": "stdout",
     "output_type": "stream",
     "text": [
      "Test set: Epoch: 300, Avg loss: 1.8143, Domain Loss: 1.5701, Class Loss: 2.0586, Domain Acc: 75.88%, Class Acc: 67.51%, Domain mAP: 0.8056, Class mAP: 0.7246, Time: 25.00s\n",
      "\n",
      "완료! 최고 Class mAP: 0.7246, 최고 Domain mAP: 0.8235\n",
      "체크포인트가 checkpoints/final_checkpoint.pth에 저장되었습니다.\n",
      "전체 학습 시간: 5020.31 초\n"
     ]
    },
    {
     "data": {
      "text/html": [],
      "text/plain": [
       "<IPython.core.display.HTML object>"
      ]
     },
     "metadata": {},
     "output_type": "display_data"
    },
    {
     "data": {
      "text/html": [
       "<br>    <style><br>        .wandb-row {<br>            display: flex;<br>            flex-direction: row;<br>            flex-wrap: wrap;<br>            justify-content: flex-start;<br>            width: 100%;<br>        }<br>        .wandb-col {<br>            display: flex;<br>            flex-direction: column;<br>            flex-basis: 100%;<br>            flex: 1;<br>            padding: 10px;<br>        }<br>    </style><br><div class=\"wandb-row\"><div class=\"wandb-col\"><h3>Run history:</h3><br/><table class=\"wandb\"><tr><td>epoch</td><td>▁▁▁▂▂▂▂▂▂▃▃▃▃▃▃▄▄▄▄▄▅▅▅▅▅▅▆▆▆▆▆▆▇▇▇▇▇▇██</td></tr><tr><td>learning_rate</td><td>▁▁▁▁▁▁▁▁▁▁▁▁▁▁▁▁▁▁▁▁▁▁▁▁▁▁▁▁▁▁▁▁▁▁▁▁▁▁▁▁</td></tr><tr><td>test_class_accuracy</td><td>▄▇▆▃▆▃▄▅▇▇█▇▅▆▅▅▂▂▅▆▇▆▅▄▄▅▄▅▆▅▆▁▃▂▃▄▄▄▁▄</td></tr><tr><td>test_class_loss</td><td>▂▁▂▅▂▃▃▂▂▂▁▃▄▂▄▃▄▅▃▂▂▄▅▄▄▄▆▄▄▄▄█▄▆▃▄▅▃█▆</td></tr><tr><td>test_class_map</td><td>▅█▆▂▅▃▄▅▇▇█▆▅▆▄▅▄▁▅▆▇▅▅▃▄▅▄▅▆▅▆▂▃▂▃▅▄▄▁▅</td></tr><tr><td>test_domain_accuracy</td><td>▅▇█▃▅▆▆▆▇▆▇█▆▇▃▆▅▁▄▅▆▄▅▇▇▆█▇▅▅▄▇▄▅▅▇█▅▃█</td></tr><tr><td>test_domain_loss</td><td>▁▁▁▂▂▁▁▂▂▂▃▂▄▂▄▃▂▅▄▃▅▇▄▁▂▂▂▂▅▆▃▂▂▄▄▃▂▂█▂</td></tr><tr><td>test_domain_map</td><td>▆▇▇▁▆▅▆▆█▅▆▇▅▇▅▅▄▂▄▆▇▄▅▆▇▇▆▇▆▅▄▅▄▆▅▆▇▅▂▇</td></tr><tr><td>test_loss</td><td>▁▁▂▃▂▂▂▂▂▂▂▂▄▂▄▃▃▅▃▂▄▆▄▂▃▃▃▂▅▅▃▄▃▅▃▃▃▂█▃</td></tr><tr><td>total_training_time</td><td>▁</td></tr><tr><td>train_class_accuracy</td><td>▁▅▅▄▃▂▁▄▆▆▇▇▇▆▆▅▁▁▃▃▅▇▄▅▃▄▆▆█▇▇▅▅▄▄▆▅▅▇█</td></tr><tr><td>train_class_loss</td><td>█▄▄▅▅▇█▅▃▃▂▂▂▃▃▅▇▆▆▆▃▂▄▄▆▄▄▃▁▁▂▃▄▅▅▃▃▄▂▁</td></tr><tr><td>train_class_map</td><td>▁▅▆▅▄▂▁▅▇▆▇▇▇▇▆▅▃▃▄▃▆▇▆▆▄▅▆▆██▇▇▅▅▅▇▆▆▇█</td></tr><tr><td>train_domain_accuracy</td><td>▁▆▆▁▅▃▃▆▇▇▇▅▅▅▆▆▄▄▅▆▆▆▅▄▅▄▆▆▇▆▇▇▄▆▆▆▆█▇█</td></tr><tr><td>train_domain_loss</td><td>█▃▄█▄▆▆▃▂▂▂▃▄▄▃▄▆▅▄▄▂▃▄▅▄▅▄▂▂▃▂▄▅▃▃▃▃▁▂▂</td></tr><tr><td>train_domain_map</td><td>▃▇▆▁▆▅▄▆▇▇▇▇▇▆▇▆▄▅▆▆▇▆▆▅▆▅▆▇▇▇▇▆▅▆▇▇▆███</td></tr><tr><td>train_loss</td><td>█▄▄▆▅▇▇▄▂▂▂▂▂▃▃▄▇▆▅▅▃▂▄▄▅▄▄▃▁▂▁▃▅▅▄▃▃▃▂▁</td></tr></table><br/></div><div class=\"wandb-col\"><h3>Run summary:</h3><br/><table class=\"wandb\"><tr><td>best_class_map</td><td>0.72462</td></tr><tr><td>best_domain_map</td><td>0.82349</td></tr><tr><td>best_epoch</td><td>56</td></tr><tr><td>early_stopped</td><td>True</td></tr><tr><td>early_stopped_epoch</td><td>86</td></tr><tr><td>epoch</td><td>86</td></tr><tr><td>final_test_class_map</td><td>0.72464</td></tr><tr><td>final_test_domain_map</td><td>0.80556</td></tr><tr><td>learning_rate</td><td>0.001</td></tr><tr><td>test_class_accuracy</td><td>64.11453</td></tr><tr><td>test_class_loss</td><td>2.64686</td></tr><tr><td>test_class_map</td><td>0.69666</td></tr><tr><td>test_domain_accuracy</td><td>77.71553</td></tr><tr><td>test_domain_loss</td><td>1.43063</td></tr><tr><td>test_domain_map</td><td>0.813</td></tr><tr><td>test_loss</td><td>2.03875</td></tr><tr><td>total_training_time</td><td>5020.31306</td></tr><tr><td>train_class_accuracy</td><td>98.30829</td></tr><tr><td>train_class_loss</td><td>0.04979</td></tr><tr><td>train_class_map</td><td>0.9981</td></tr><tr><td>train_domain_accuracy</td><td>99.31612</td></tr><tr><td>train_domain_loss</td><td>0.02216</td></tr><tr><td>train_domain_map</td><td>0.9995</td></tr><tr><td>train_loss</td><td>0.03597</td></tr></table><br/></div></div>"
      ],
      "text/plain": [
       "<IPython.core.display.HTML object>"
      ]
     },
     "metadata": {},
     "output_type": "display_data"
    },
    {
     "data": {
      "text/html": [
       " View run <strong style=\"color:#cdcd00\">ResNet50_MultiTask</strong> at: <a href='https://wandb.ai/sokjh1310-hanyang-university/PBL-3/runs/resnet50_multitask_run' target=\"_blank\">https://wandb.ai/sokjh1310-hanyang-university/PBL-3/runs/resnet50_multitask_run</a><br> View project at: <a href='https://wandb.ai/sokjh1310-hanyang-university/PBL-3' target=\"_blank\">https://wandb.ai/sokjh1310-hanyang-university/PBL-3</a><br>Synced 5 W&B file(s), 0 media file(s), 0 artifact file(s) and 1 other file(s)"
      ],
      "text/plain": [
       "<IPython.core.display.HTML object>"
      ]
     },
     "metadata": {},
     "output_type": "display_data"
    },
    {
     "data": {
      "text/html": [
       "Find logs at: <code>./wandb/run-20250511_074140-resnet50_multitask_run/logs</code>"
      ],
      "text/plain": [
       "<IPython.core.display.HTML object>"
      ]
     },
     "metadata": {},
     "output_type": "display_data"
    }
   ],
   "source": [
    "import torch\n",
    "import torch.nn as nn\n",
    "import torch.optim as optim\n",
    "import torchmetrics\n",
    "from torch.utils.data import DataLoader\n",
    "import torchvision.models as models\n",
    "import torchvision.transforms as transforms\n",
    "import sys\n",
    "import os\n",
    "import time\n",
    "import random\n",
    "import numpy as np\n",
    "import wandb\n",
    "from tqdm import tqdm\n",
    "from utility.utils import AccuracyEarlyStopping\n",
    "from torchmetrics.classification import MulticlassAveragePrecision\n",
    "from Dataset.data import OfficeHomeDataset  # 기존 데이터셋 클래스 임포트\n",
    "\n",
    "# 체크포인트 디렉토리 생성\n",
    "os.makedirs('checkpoints', exist_ok=True)\n",
    "\n",
    "# 실행 ID 설정 - 재개를 위해 필요\n",
    "RUN_ID = \"resnet50_multitask_run\"\n",
    "CHECKPOINT_PATH = os.path.join('checkpoints', f'{RUN_ID}_checkpoint.pth')\n",
    "\n",
    "# WandB 설정 - 재개 옵션 추가\n",
    "wandb.login(key=\"ef091b9abcea3186341ddf8995d62bde62d7469e\")\n",
    "wandb.init(\n",
    "    project=\"PBL-3\", \n",
    "    name=\"ResNet50_MultiTask\",\n",
    "    id=RUN_ID,  # 고유 ID 지정\n",
    "    resume=\"allow\"  # 재개 허용\n",
    ")\n",
    "\n",
    "# 설정\n",
    "config = {\n",
    "    # 모델 설정\n",
    "    \"model\": \"resnet50\",\n",
    "    \"batch_size\": 256,\n",
    "    \"num_epochs\": 300,\n",
    "    \n",
    "    \"learning_rate\": 0.001,  # Adam 기본 학습률\n",
    "    \"optimizer\": \"Adam\",\n",
    "    \n",
    "    # 학습 과정 설정\n",
    "    \"seed\": 2025,\n",
    "    \"deterministic\": False,\n",
    "    \"patience\": 30,  # early stopping patience\n",
    "    \"max_epochs_wait\": float('inf'),\n",
    "    \n",
    "    # 멀티태스크 설정\n",
    "    \"num_domains\": 4,\n",
    "    \"num_classes\": 65,\n",
    "    \"domain_weight\": 0.5,  # 도메인 분류 손실 가중치\n",
    "    \"class_weight\": 0.5,   # 클래스 분류 손실 가중치\n",
    "    \n",
    "    # 시스템 설정\n",
    "    \"num_workers\": 32,\n",
    "    \"pin_memory\": True,\n",
    "    \n",
    "    # 체크포인트 설정\n",
    "    \"save_every\": 5,  # 몇 epoch마다 저장할지\n",
    "}\n",
    "\n",
    "wandb.config.update(config)\n",
    "\n",
    "# ResNet-50 기반 멀티태스크 모델\n",
    "class MultiTaskModel(nn.Module):\n",
    "    def __init__(self, num_domains=4, num_classes=65):\n",
    "        super(MultiTaskModel, self).__init__()\n",
    "        # 사전학습된 ResNet-50 로드 (마지막 FC 레이어 제외)\n",
    "        self.backbone = models.resnet50(pretrained=True)\n",
    "        self.backbone = nn.Sequential(*list(self.backbone.children())[:-1])\n",
    "        # self.backbone.children()\n",
    "        #  resnet50의 직계 하위 모듈들을 이터레이터 형태로 반환\n",
    "        # list(...)[ :-1 ] -> [:-1] 슬라이스로 마지막 요소(fc 레이어)만 제외합니다.\n",
    "        # *list (언패킹) -> 원소들을 순서대로 함수(또는 생성자)에 개별 인자로 넘겨줍니다.\n",
    "        # 이렇게 하면 “conv1 → bn1 → relu → … → avgpool” 까지 차례로 연결된 새로운 Sequential 모듈이 만들어\n",
    "        \n",
    "        # 도메인 분류기 헤드\n",
    "        self.domain_classifier = nn.Sequential(\n",
    "            nn.Linear(2048, 512),\n",
    "            nn.ReLU(),\n",
    "            nn.Dropout(0.5),\n",
    "            nn.Linear(512, num_domains)\n",
    "        )\n",
    "        \n",
    "        # 클래스 분류기 헤드\n",
    "        self.class_classifier = nn.Sequential(\n",
    "            nn.Linear(2048, 512),\n",
    "            nn.ReLU(),\n",
    "            nn.Dropout(0.5),\n",
    "            nn.Linear(512, num_classes)\n",
    "        )\n",
    "    \n",
    "    def forward(self, x):\n",
    "        # 특징 추출\n",
    "        features = self.backbone(x) # → [B, 2048, 1, 1]\n",
    "        features = torch.flatten(features, 1) # → [B, 2048]\n",
    "        # start_dim=1부터 마지막 차원까지를 모두 “펼쳐서(flatten)” 하나의 차원으로 합칩니다.\n",
    "        \n",
    "        # 도메인과 클래스 예측\n",
    "        domain_preds = self.domain_classifier(features)\n",
    "        class_preds = self.class_classifier(features)\n",
    "        \n",
    "        return domain_preds, class_preds\n",
    "\n",
    "# 데이터 변환 (RandomResizedCrop 제거)\n",
    "transform_train = transforms.Compose([\n",
    "    transforms.Resize(256),  # 대신 일반 Resize 사용\n",
    "    transforms.CenterCrop(224),  # 224x224 크기로 중앙 크롭\n",
    "    transforms.RandomHorizontalFlip(),\n",
    "    transforms.ToTensor(),\n",
    "    transforms.Normalize(mean=[0.485, 0.456, 0.406], std=[0.229, 0.224, 0.225])\n",
    "])\n",
    "\n",
    "transform_test = transforms.Compose([\n",
    "    transforms.Resize(256),\n",
    "    transforms.CenterCrop(224),\n",
    "    transforms.ToTensor(),\n",
    "    transforms.Normalize(mean=[0.485, 0.456, 0.406], std=[0.229, 0.224, 0.225])\n",
    "])\n",
    "\n",
    "# 데이터셋 로드\n",
    "trainset = OfficeHomeDataset(root_dir='./Dataset/train', transform=transform_train)\n",
    "testset = OfficeHomeDataset(root_dir='./Dataset/test', transform=transform_test)\n",
    "\n",
    "# DataLoader 생성\n",
    "trainloader = DataLoader(\n",
    "    trainset, \n",
    "    batch_size=config[\"batch_size\"], \n",
    "    shuffle=True, \n",
    "    pin_memory=config[\"pin_memory\"], \n",
    "    num_workers=config[\"num_workers\"]\n",
    ")\n",
    "\n",
    "testloader = DataLoader(\n",
    "    testset, \n",
    "    batch_size=config[\"batch_size\"], \n",
    "    shuffle=False, \n",
    "    pin_memory=config[\"pin_memory\"], \n",
    "    num_workers=config[\"num_workers\"]\n",
    ")\n",
    "\n",
    "print(f\"Train set size: {len(trainset)}\")\n",
    "print(f\"Test set size: {len(testset)}\")\n",
    "\n",
    "def train(model, trainloader, domain_criterion, class_criterion, optimizer, device, epoch):\n",
    "    \"\"\"\n",
    "    멀티태스크 학습 함수 (도메인 + 클래스 분류)\n",
    "    \"\"\"\n",
    "    model.train()\n",
    "    start_time = time.time()\n",
    "    running_loss = 0.0\n",
    "    running_domain_loss = 0.0  # 도메인 손실 별도 추적\n",
    "    running_class_loss = 0.0   # 클래스 손실 별도 추적\n",
    "    domain_correct = 0\n",
    "    class_correct = 0\n",
    "    total = 0\n",
    "    \n",
    "    # mAP 계산기 초기화\n",
    "    domain_map = MulticlassAveragePrecision(num_classes=config[\"num_domains\"], average='macro')\n",
    "    class_map = MulticlassAveragePrecision(num_classes=config[\"num_classes\"], average='macro')\n",
    "    \n",
    "    domain_map = domain_map.to(device)\n",
    "    class_map = class_map.to(device)\n",
    "    \n",
    "    for i, (inputs, domain_labels, class_labels) in enumerate(trainloader):\n",
    "        inputs = inputs.to(device)\n",
    "        domain_labels = domain_labels.to(device)\n",
    "        class_labels = class_labels.to(device)\n",
    "        \n",
    "        # 그래디언트 초기화\n",
    "        optimizer.zero_grad()\n",
    "        \n",
    "        # 모델 전방 전파\n",
    "        domain_outputs, class_outputs = model(inputs)\n",
    "        \n",
    "        # 손실 계산\n",
    "        domain_loss = domain_criterion(domain_outputs, domain_labels)\n",
    "        class_loss = class_criterion(class_outputs, class_labels)\n",
    "        loss = config[\"domain_weight\"] * domain_loss + config[\"class_weight\"] * class_loss\n",
    "        \n",
    "        # 역전파 및 최적화\n",
    "        loss.backward()\n",
    "        optimizer.step()\n",
    "        \n",
    "        running_loss += loss.item()\n",
    "        running_domain_loss += domain_loss.item()  # 도메인 손실 누적\n",
    "        running_class_loss += class_loss.item()    # 클래스 손실 누적\n",
    "        \n",
    "        # 정확도 계산\n",
    "        _, domain_preds = domain_outputs.max(1)\n",
    "        domain_correct += domain_preds.eq(domain_labels).sum().item()\n",
    "        \n",
    "        _, class_preds = class_outputs.max(1)\n",
    "        class_correct += class_preds.eq(class_labels).sum().item()\n",
    "        \n",
    "        total += inputs.size(0)\n",
    "        \n",
    "        # mAP 업데이트\n",
    "        domain_map.update(domain_outputs, domain_labels)\n",
    "        class_map.update(class_outputs, class_labels)\n",
    "        \n",
    "        if (i + 1) % 20 == 0:\n",
    "            print(f'Epoch [{epoch+1}], Batch [{i+1}/{len(trainloader)}], Loss: {loss.item():.4f}, '\n",
    "                  f'Domain Loss: {domain_loss.item():.4f}, Class Loss: {class_loss.item():.4f}, '\n",
    "                  f'LR: {optimizer.param_groups[0][\"lr\"]:.6f}')\n",
    "    \n",
    "    # 에폭 통계\n",
    "    epoch_loss = running_loss / len(trainloader)\n",
    "    epoch_domain_loss = running_domain_loss / len(trainloader)  # 평균 도메인 손실\n",
    "    epoch_class_loss = running_class_loss / len(trainloader)    # 평균 클래스 손실\n",
    "    domain_accuracy = 100.0 * domain_correct / total\n",
    "    class_accuracy = 100.0 * class_correct / total\n",
    "    \n",
    "    # mAP 계산\n",
    "    domain_map_value = domain_map.compute().item()\n",
    "    class_map_value = class_map.compute().item()\n",
    "    \n",
    "    train_time = time.time() - start_time\n",
    "    \n",
    "    # 학습 세트에 대한 성능 출력\n",
    "    print(f'Train set: Epoch: {epoch+1}, Avg loss: {epoch_loss:.4f}, '\n",
    "          f'Domain Loss: {epoch_domain_loss:.4f}, Class Loss: {epoch_class_loss:.4f}, '\n",
    "          f'Domain Acc: {domain_accuracy:.2f}%, Class Acc: {class_accuracy:.2f}%, '\n",
    "          f'Domain mAP: {domain_map_value:.4f}, Class mAP: {class_map_value:.4f}, '\n",
    "          f'Time: {train_time:.2f}s')\n",
    "    \n",
    "    return epoch_loss, epoch_domain_loss, epoch_class_loss, domain_accuracy, class_accuracy, domain_map_value, class_map_value\n",
    "\n",
    "def evaluate(model, dataloader, domain_criterion, class_criterion, device, epoch):\n",
    "    \"\"\"\n",
    "    멀티태스크 평가 함수\n",
    "    \"\"\"\n",
    "    model.eval()\n",
    "    start_time = time.time()\n",
    "    running_loss = 0.0\n",
    "    running_domain_loss = 0.0  # 도메인 손실 별도 추적\n",
    "    running_class_loss = 0.0   # 클래스 손실 별도 추적\n",
    "    domain_correct = 0\n",
    "    class_correct = 0\n",
    "    total = 0\n",
    "    \n",
    "    # mAP 계산기 초기화\n",
    "    domain_map = MulticlassAveragePrecision(num_classes=config[\"num_domains\"], average='macro')\n",
    "    class_map = MulticlassAveragePrecision(num_classes=config[\"num_classes\"], average='macro')\n",
    "    \n",
    "    domain_map = domain_map.to(device)\n",
    "    class_map = class_map.to(device)\n",
    "    \n",
    "    with torch.no_grad():\n",
    "        for inputs, domain_labels, class_labels in dataloader:\n",
    "            inputs = inputs.to(device)\n",
    "            domain_labels = domain_labels.to(device)\n",
    "            class_labels = class_labels.to(device)\n",
    "            \n",
    "            # 순전파\n",
    "            domain_outputs, class_outputs = model(inputs)\n",
    "            \n",
    "            # 손실 계산\n",
    "            domain_loss = domain_criterion(domain_outputs, domain_labels)\n",
    "            class_loss = class_criterion(class_outputs, class_labels)\n",
    "            loss = config[\"domain_weight\"] * domain_loss + config[\"class_weight\"] * class_loss\n",
    "            \n",
    "            running_loss += loss.item()\n",
    "            running_domain_loss += domain_loss.item()  # 도메인 손실 누적\n",
    "            running_class_loss += class_loss.item()    # 클래스 손실 누적\n",
    "            \n",
    "            # 정확도 계산\n",
    "            _, domain_preds = domain_outputs.max(1)\n",
    "            domain_correct += domain_preds.eq(domain_labels).sum().item()\n",
    "            \n",
    "            _, class_preds = class_outputs.max(1)\n",
    "            class_correct += class_preds.eq(class_labels).sum().item()\n",
    "            \n",
    "            total += inputs.size(0)\n",
    "            \n",
    "            # mAP 업데이트\n",
    "            domain_map.update(domain_outputs, domain_labels)\n",
    "            class_map.update(class_outputs, class_labels)\n",
    "    \n",
    "    # 평균 손실 및 정확도 계산\n",
    "    eval_loss = running_loss / len(dataloader)\n",
    "    eval_domain_loss = running_domain_loss / len(dataloader)  # 평균 도메인 손실\n",
    "    eval_class_loss = running_class_loss / len(dataloader)    # 평균 클래스 손실\n",
    "    domain_accuracy = 100.0 * domain_correct / total\n",
    "    class_accuracy = 100.0 * class_correct / total\n",
    "    \n",
    "    # mAP 계산\n",
    "    domain_map_value = domain_map.compute().item()\n",
    "    class_map_value = class_map.compute().item()\n",
    "    \n",
    "    # 평가 시간 계산\n",
    "    eval_time = time.time() - start_time\n",
    "    \n",
    "    # 테스트 세트에 대한 성능 출력\n",
    "    print(f'Test set: Epoch: {epoch+1}, Avg loss: {eval_loss:.4f}, '\n",
    "          f'Domain Loss: {eval_domain_loss:.4f}, Class Loss: {eval_class_loss:.4f}, '\n",
    "          f'Domain Acc: {domain_accuracy:.2f}%, Class Acc: {class_accuracy:.2f}%, '\n",
    "          f'Domain mAP: {domain_map_value:.4f}, Class mAP: {class_map_value:.4f}, '\n",
    "          f'Time: {eval_time:.2f}s')\n",
    "    print()\n",
    "    \n",
    "    return eval_loss, eval_domain_loss, eval_class_loss, domain_accuracy, class_accuracy, domain_map_value, class_map_value\n",
    "\n",
    "# 체크포인트 저장 함수 추가\n",
    "def save_checkpoint(model, optimizer, epoch, best_class_map, best_domain_map, early_stopping, filename=CHECKPOINT_PATH):\n",
    "    \"\"\"\n",
    "    학습 상태 저장 함수\n",
    "    \"\"\"\n",
    "    # 모델이 DataParallel로 감싸져 있는 경우 처리\n",
    "    model_state_dict = model.module.state_dict() if isinstance(model, nn.DataParallel) else model.state_dict()\n",
    "    \n",
    "    checkpoint = {\n",
    "        'epoch': epoch,\n",
    "        'model_state_dict': model_state_dict,\n",
    "        'optimizer_state_dict': optimizer.state_dict(),\n",
    "        'best_class_map': best_class_map,\n",
    "        'best_domain_map': best_domain_map,\n",
    "        'early_stopping_counter': early_stopping.counter,\n",
    "        'early_stopping_best_score': early_stopping.best_score,\n",
    "        'early_stopping_best_epoch': early_stopping.best_epoch,\n",
    "        'early_stopping_early_stop': early_stopping.early_stop,\n",
    "        'config': config,  # 설정값도 저장\n",
    "    }\n",
    "    torch.save(checkpoint, filename)\n",
    "    print(f\"체크포인트가 {filename}에 저장되었습니다.\")\n",
    "\n",
    "# 체크포인트 로드 함수 추가\n",
    "def load_checkpoint(model, optimizer, early_stopping, filename=CHECKPOINT_PATH):\n",
    "    \"\"\"\n",
    "    학습 상태 로드 함수\n",
    "    \"\"\"\n",
    "    if not os.path.exists(filename):\n",
    "        print(f\"체크포인트 파일 {filename}이 존재하지 않습니다. 처음부터 학습을 시작합니다.\")\n",
    "        return model, optimizer, early_stopping, 0, 0.0, 0.0\n",
    "    \n",
    "    print(f\"체크포인트 {filename}을 로드합니다.\")\n",
    "    checkpoint = torch.load(filename)\n",
    "    \n",
    "    # 모델이 DataParallel로 감싸져 있는 경우 처리\n",
    "    if isinstance(model, nn.DataParallel):\n",
    "        model.module.load_state_dict(checkpoint['model_state_dict'])\n",
    "    else:\n",
    "        model.load_state_dict(checkpoint['model_state_dict'])\n",
    "    \n",
    "    optimizer.load_state_dict(checkpoint['optimizer_state_dict'])\n",
    "    \n",
    "    # 조기 중단 상태 복원\n",
    "    early_stopping.counter = checkpoint['early_stopping_counter']\n",
    "    early_stopping.best_score = checkpoint['early_stopping_best_score']\n",
    "    early_stopping.best_epoch = checkpoint['early_stopping_best_epoch']\n",
    "    early_stopping.early_stop = checkpoint['early_stopping_early_stop']\n",
    "    \n",
    "    # 기타 학습 상태\n",
    "    start_epoch = checkpoint['epoch'] + 1  # 다음 에폭부터 시작\n",
    "    best_class_map = checkpoint['best_class_map']\n",
    "    best_domain_map = checkpoint['best_domain_map']\n",
    "    \n",
    "    print(f\"체크포인트에서 로드 완료: 에폭 {start_epoch}부터 시작합니다.\")\n",
    "    print(f\"이전 최고 성능: Class mAP: {best_class_map:.4f}, Domain mAP: {best_domain_map:.4f}\")\n",
    "    \n",
    "    return model, optimizer, early_stopping, start_epoch, best_class_map, best_domain_map\n",
    "\n",
    "# 메인 학습 루프\n",
    "def main_training_loop(model, trainloader, testloader, domain_criterion, class_criterion, optimizer, device, num_epochs=None, patience=None, max_epochs_wait=None):\n",
    "    \"\"\"\n",
    "    메인 학습 루프 (mAP 기준 early stopping)\n",
    "    \"\"\"\n",
    "    # config에서 값 가져오기\n",
    "    if num_epochs is None:\n",
    "        num_epochs = config[\"num_epochs\"]\n",
    "    if patience is None:\n",
    "        patience = config[\"patience\"]\n",
    "    if max_epochs_wait is None:\n",
    "        max_epochs_wait = config[\"max_epochs_wait\"]\n",
    "        \n",
    "    # mAP 기반 얼리 스토핑 초기화\n",
    "    early_stopping = AccuracyEarlyStopping(patience=patience, verbose=True, path='checkpoint.pt', max_epochs=max_epochs_wait)\n",
    "    \n",
    "    # 체크포인트 로드 (있으면)\n",
    "    model, optimizer, early_stopping, start_epoch, best_class_map, best_domain_map = load_checkpoint(\n",
    "        model, optimizer, early_stopping\n",
    "    )\n",
    "    \n",
    "    # 체크포인트가 없으면 0부터 시작\n",
    "    if start_epoch == 0:\n",
    "        best_class_map = 0.0\n",
    "        best_domain_map = 0.0\n",
    "    \n",
    "    # tqdm을 사용한 진행 상황 표시\n",
    "    for epoch in tqdm(range(start_epoch, num_epochs)):\n",
    "        # 학습\n",
    "        train_loss, train_domain_loss, train_class_loss, train_domain_acc, train_class_acc, train_domain_map, train_class_map = train(\n",
    "            model, \n",
    "            trainloader, \n",
    "            domain_criterion, \n",
    "            class_criterion, \n",
    "            optimizer, \n",
    "            device, \n",
    "            epoch\n",
    "        )\n",
    "        \n",
    "        # 테스트 데이터로 평가\n",
    "        test_loss, test_domain_loss, test_class_loss, test_domain_acc, test_class_acc, test_domain_map, test_class_map = evaluate(\n",
    "            model, \n",
    "            testloader, \n",
    "            domain_criterion, \n",
    "            class_criterion, \n",
    "            device, \n",
    "            epoch\n",
    "        )\n",
    "        \n",
    "        # WandB에 로깅 (도메인 손실과 클래스 손실 별도 로깅)\n",
    "        wandb.log({\n",
    "            \"epoch\": epoch + 1,\n",
    "            \"learning_rate\": optimizer.param_groups[0]['lr'],\n",
    "            \"train_loss\": train_loss,\n",
    "            \"train_domain_loss\": train_domain_loss,\n",
    "            \"train_class_loss\": train_class_loss,\n",
    "            \"train_domain_accuracy\": train_domain_acc,\n",
    "            \"train_class_accuracy\": train_class_acc,\n",
    "            \"train_domain_map\": train_domain_map,\n",
    "            \"train_class_map\": train_class_map,\n",
    "            \"test_loss\": test_loss,\n",
    "            \"test_domain_loss\": test_domain_loss,\n",
    "            \"test_class_loss\": test_class_loss,\n",
    "            \"test_domain_accuracy\": test_domain_acc,\n",
    "            \"test_class_accuracy\": test_class_acc,\n",
    "            \"test_domain_map\": test_domain_map,\n",
    "            \"test_class_map\": test_class_map\n",
    "        })\n",
    "            \n",
    "        # 최고 클래스 mAP 모델 저장\n",
    "        if test_class_map > best_class_map:\n",
    "            best_class_map = test_class_map\n",
    "            best_domain_map_at_best_class = test_domain_map\n",
    "            print(f'새로운 최고 Class mAP: {best_class_map:.4f}, Domain mAP: {best_domain_map_at_best_class:.4f}')\n",
    "            # 모델 저장\n",
    "            model_path = f'best_model_class_{wandb.run.name}.pth'\n",
    "            # 모델이 DataParallel로 감싸져 있는 경우 처리\n",
    "            model_state_dict = model.module.state_dict() if isinstance(model, nn.DataParallel) else model.state_dict()\n",
    "            torch.save(model_state_dict, model_path)\n",
    "            wandb.save(model_path)\n",
    "        \n",
    "        # 최고 도메인 mAP 모델 저장\n",
    "        if test_domain_map > best_domain_map:\n",
    "            best_domain_map = test_domain_map\n",
    "            print(f'새로운 최고 Domain mAP: {best_domain_map:.4f}')\n",
    "            # 모델 저장\n",
    "            model_path = f'best_model_domain_{wandb.run.name}.pth'\n",
    "            # 모델이 DataParallel로 감싸져 있는 경우 처리\n",
    "            model_state_dict = model.module.state_dict() if isinstance(model, nn.DataParallel) else model.state_dict()\n",
    "            torch.save(model_state_dict, model_path)\n",
    "            wandb.save(model_path)\n",
    "\n",
    "        # 주기적으로 체크포인트 저장 (설정한 간격마다)\n",
    "        if (epoch + 1) % config[\"save_every\"] == 0:\n",
    "            save_checkpoint(model, optimizer, epoch, best_class_map, best_domain_map, early_stopping)\n",
    "\n",
    "        # Early stopping 체크 (클래스 mAP 기준)\n",
    "        early_stopping(test_class_map, model, epoch)\n",
    "        \n",
    "        # 매 에폭 후에 체크포인트 저장 (가장 최신 상태)\n",
    "        save_checkpoint(model, optimizer, epoch, best_class_map, best_domain_map, early_stopping, \n",
    "                       filename=os.path.join('checkpoints', 'latest_checkpoint.pth'))\n",
    "        \n",
    "        if early_stopping.early_stop:\n",
    "            print(f\"에폭 {epoch+1}에서 학습 조기 종료. 최고 성능 에폭: {early_stopping.best_epoch+1}\")\n",
    "            break\n",
    "    \n",
    "    # 훈련 완료 후 최고 모델 로드\n",
    "    print(\"최고 클래스 mAP 모델 로드 중...\")\n",
    "    model_path = f'best_model_class_{wandb.run.name}.pth'\n",
    "    if os.path.exists(model_path):\n",
    "        # 모델이 DataParallel로 감싸져 있는 경우 처리\n",
    "        if isinstance(model, nn.DataParallel):\n",
    "            model.module.load_state_dict(torch.load(model_path))\n",
    "        else:\n",
    "            model.load_state_dict(torch.load(model_path))\n",
    "    else:\n",
    "        print(f\"경고: {model_path} 파일이 존재하지 않습니다. 최종 모델을 사용합니다.\")\n",
    "\n",
    "    # 최종 테스트 평가\n",
    "    final_test_loss, final_test_domain_loss, final_test_class_loss, final_test_domain_acc, final_test_class_acc, final_test_domain_map, final_test_class_map = evaluate(\n",
    "        model, testloader, domain_criterion, class_criterion, device, num_epochs-1\n",
    "    )\n",
    "    \n",
    "    print(f'완료! 최고 Class mAP: {best_class_map:.4f}, 최고 Domain mAP: {best_domain_map:.4f}')\n",
    "    \n",
    "    # WandB에 최종 결과 기록\n",
    "    wandb.run.summary[\"best_class_map\"] = best_class_map\n",
    "    wandb.run.summary[\"best_domain_map\"] = best_domain_map\n",
    "    wandb.run.summary[\"final_test_class_map\"] = final_test_class_map\n",
    "    wandb.run.summary[\"final_test_domain_map\"] = final_test_domain_map\n",
    "\n",
    "    # Early stopping 정보 저장\n",
    "    if early_stopping.early_stop:\n",
    "        wandb.run.summary[\"early_stopped\"] = True\n",
    "        wandb.run.summary[\"early_stopped_epoch\"] = epoch+1\n",
    "        wandb.run.summary[\"best_epoch\"] = early_stopping.best_epoch+1\n",
    "    else:\n",
    "        wandb.run.summary[\"early_stopped\"] = False\n",
    "        \n",
    "    # 최종 체크포인트 저장\n",
    "    save_checkpoint(model, optimizer, epoch, best_class_map, best_domain_map, early_stopping, \n",
    "                   filename=os.path.join('checkpoints', 'final_checkpoint.pth'))\n",
    "\n",
    "# 메인 실행 코드\n",
    "if __name__ == \"__main__\":\n",
    "    # 시드 설정\n",
    "    seed = config[\"seed\"]\n",
    "    random.seed(seed)\n",
    "    np.random.seed(seed)\n",
    "    torch.manual_seed(seed)\n",
    "    if torch.cuda.is_available():\n",
    "        torch.cuda.manual_seed(seed)\n",
    "        torch.cuda.manual_seed_all(seed)\n",
    "    \n",
    "    # 결정적 알고리즘 사용 여부\n",
    "    if config[\"deterministic\"]:\n",
    "        torch.backends.cudnn.deterministic = True\n",
    "        torch.backends.cudnn.benchmark = False\n",
    "    else:\n",
    "        torch.backends.cudnn.benchmark = True\n",
    "    \n",
    "    # 디바이스 설정\n",
    "    device = torch.device(\"cuda\" if torch.cuda.is_available() else \"cpu\")\n",
    "    print(f\"Using device: {device}\")\n",
    "    \n",
    "    # 모델 초기화\n",
    "    model = MultiTaskModel(num_domains=config[\"num_domains\"], num_classes=config[\"num_classes\"]).to(device)\n",
    "    \n",
    "    # 손실 함수\n",
    "    domain_criterion = nn.CrossEntropyLoss()\n",
    "    class_criterion = nn.CrossEntropyLoss()\n",
    "    \n",
    "    # Adam 옵티마이저 설정\n",
    "    optimizer = optim.Adam(\n",
    "        model.parameters(),\n",
    "        lr=config[\"learning_rate\"],\n",
    "    )\n",
    "    \n",
    "    # WandB에 모델 구조 기록\n",
    "    wandb.watch(model, log=\"all\")\n",
    "    \n",
    "    # GPU 가속 \n",
    "    if torch.cuda.device_count() > 1:\n",
    "        print(f\"{torch.cuda.device_count()}개의 GPU를 사용합니다.\")\n",
    "        model = nn.DataParallel(model)\n",
    "    \n",
    "    # 훈련 시작 시간 기록\n",
    "    start_time = time.time()\n",
    "    \n",
    "    # 메인 학습 루프 호출 \n",
    "    try:\n",
    "        main_training_loop(\n",
    "            model=model,\n",
    "            trainloader=trainloader,\n",
    "            testloader=testloader,\n",
    "            domain_criterion=domain_criterion,\n",
    "            class_criterion=class_criterion,\n",
    "            optimizer=optimizer,\n",
    "            device=device\n",
    "        )\n",
    "    except KeyboardInterrupt:\n",
    "        # 사용자가 Ctrl+C로 중단한 경우, 현재 상태 저장\n",
    "        print(\"학습이 사용자에 의해 중단되었습니다. 현재 상태를 저장합니다.\")\n",
    "        early_stopping = AccuracyEarlyStopping(patience=config[\"patience\"], verbose=True)\n",
    "        save_checkpoint(model, optimizer, 0, 0.0, 0.0, early_stopping, \n",
    "                       filename=os.path.join('checkpoints', 'interrupted_checkpoint.pth'))\n",
    "    \n",
    "    # 훈련 종료 시간 및 출력\n",
    "    end_time = time.time()\n",
    "    total_time = end_time - start_time\n",
    "    wandb.log({\"total_training_time\": total_time})\n",
    "    \n",
    "    print(f\"전체 학습 시간: {total_time:.2f} 초\")\n",
    "    \n",
    "    # WandB 실행 종료\n",
    "    wandb.finish()"
   ]
  },
  {
   "cell_type": "code",
   "execution_count": null,
   "id": "5f7d0f34-01c7-4f72-9853-140d1528e1e4",
   "metadata": {},
   "outputs": [],
   "source": []
  }
 ],
 "metadata": {
  "kernelspec": {
   "display_name": "Python 3 (ipykernel)",
   "language": "python",
   "name": "python3"
  },
  "language_info": {
   "codemirror_mode": {
    "name": "ipython",
    "version": 3
   },
   "file_extension": ".py",
   "mimetype": "text/x-python",
   "name": "python",
   "nbconvert_exporter": "python",
   "pygments_lexer": "ipython3",
   "version": "3.11.9"
  }
 },
 "nbformat": 4,
 "nbformat_minor": 5
}
