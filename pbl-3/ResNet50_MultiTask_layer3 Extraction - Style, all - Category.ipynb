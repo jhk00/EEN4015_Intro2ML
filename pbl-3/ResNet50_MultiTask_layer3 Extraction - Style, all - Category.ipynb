{
 "cells": [
  {
   "cell_type": "code",
   "execution_count": 1,
   "id": "b2c261d0-8022-4151-9f41-246cbca67d5f",
   "metadata": {},
   "outputs": [
    {
     "name": "stderr",
     "output_type": "stream",
     "text": [
      "\u001b[34m\u001b[1mwandb\u001b[0m: Using wandb-core as the SDK backend.  Please refer to https://wandb.me/wandb-core for more information.\n",
      "\u001b[34m\u001b[1mwandb\u001b[0m: \u001b[33mWARNING\u001b[0m If you're specifying your api key in code, ensure this code is not shared publicly.\n",
      "\u001b[34m\u001b[1mwandb\u001b[0m: \u001b[33mWARNING\u001b[0m Consider setting the WANDB_API_KEY environment variable, or running `wandb login` from the command line.\n",
      "\u001b[34m\u001b[1mwandb\u001b[0m: Appending key for api.wandb.ai to your netrc file: /home/guswls/.netrc\n",
      "\u001b[34m\u001b[1mwandb\u001b[0m: Currently logged in as: \u001b[33msokjh1310\u001b[0m (\u001b[33msokjh1310-hanyang-university\u001b[0m) to \u001b[32mhttps://api.wandb.ai\u001b[0m. Use \u001b[1m`wandb login --relogin`\u001b[0m to force relogin\n"
     ]
    },
    {
     "data": {
      "text/html": [
       "Tracking run with wandb version 0.19.9"
      ],
      "text/plain": [
       "<IPython.core.display.HTML object>"
      ]
     },
     "metadata": {},
     "output_type": "display_data"
    },
    {
     "data": {
      "text/html": [
       "Run data is saved locally in <code>/home/guswls/EEN4015_Intro2ML/pbl-3/wandb/run-20250516_154625-gb07pv5c</code>"
      ],
      "text/plain": [
       "<IPython.core.display.HTML object>"
      ]
     },
     "metadata": {},
     "output_type": "display_data"
    },
    {
     "data": {
      "text/html": [
       "Syncing run <strong><a href='https://wandb.ai/sokjh1310-hanyang-university/PBL-3/runs/gb07pv5c' target=\"_blank\">ResNet50_MultiTask_layer2 Extraction - Style, all - Category</a></strong> to <a href='https://wandb.ai/sokjh1310-hanyang-university/PBL-3' target=\"_blank\">Weights & Biases</a> (<a href='https://wandb.me/developer-guide' target=\"_blank\">docs</a>)<br>"
      ],
      "text/plain": [
       "<IPython.core.display.HTML object>"
      ]
     },
     "metadata": {},
     "output_type": "display_data"
    },
    {
     "data": {
      "text/html": [
       " View project at <a href='https://wandb.ai/sokjh1310-hanyang-university/PBL-3' target=\"_blank\">https://wandb.ai/sokjh1310-hanyang-university/PBL-3</a>"
      ],
      "text/plain": [
       "<IPython.core.display.HTML object>"
      ]
     },
     "metadata": {},
     "output_type": "display_data"
    },
    {
     "data": {
      "text/html": [
       " View run at <a href='https://wandb.ai/sokjh1310-hanyang-university/PBL-3/runs/gb07pv5c' target=\"_blank\">https://wandb.ai/sokjh1310-hanyang-university/PBL-3/runs/gb07pv5c</a>"
      ],
      "text/plain": [
       "<IPython.core.display.HTML object>"
      ]
     },
     "metadata": {},
     "output_type": "display_data"
    },
    {
     "name": "stdout",
     "output_type": "stream",
     "text": [
      "총 11113 이미지, 65 클래스, 4 도메인을 로드했습니다.\n",
      "총 3213 이미지, 65 클래스, 4 도메인을 로드했습니다.\n",
      "Train set size: 11113\n",
      "Test set size: 3213\n",
      "Using device: cuda\n"
     ]
    },
    {
     "name": "stderr",
     "output_type": "stream",
     "text": [
      "/usr/local/lib/python3.11/dist-packages/torchvision/models/_utils.py:208: UserWarning: The parameter 'pretrained' is deprecated since 0.13 and may be removed in the future, please use 'weights' instead.\n",
      "  warnings.warn(\n",
      "/usr/local/lib/python3.11/dist-packages/torchvision/models/_utils.py:223: UserWarning: Arguments other than a weight enum or `None` for 'weights' are deprecated since 0.13 and may be removed in the future. The current behavior is equivalent to passing `weights=ResNet50_Weights.IMAGENET1K_V1`. You can also use `weights=ResNet50_Weights.DEFAULT` to get the most up-to-date weights.\n",
      "  warnings.warn(msg)\n",
      "/usr/local/lib/python3.11/dist-packages/torch/optim/lr_scheduler.py:28: UserWarning: The verbose parameter is deprecated. Please use get_last_lr() to access the learning rate.\n",
      "  warnings.warn(\"The verbose parameter is deprecated. Please use get_last_lr() \"\n"
     ]
    },
    {
     "name": "stdout",
     "output_type": "stream",
     "text": [
      "학습 가능한 파라미터: 1,214,789 / 26,771,821 (4.54%)\n",
      "2개의 GPU를 사용합니다.\n"
     ]
    },
    {
     "name": "stderr",
     "output_type": "stream",
     "text": [
      "  0%|                                                                                                       | 0/300 [00:00<?, ?it/s]"
     ]
    },
    {
     "name": "stdout",
     "output_type": "stream",
     "text": [
      "Epoch [1], Batch [20/44], Loss: 1.9035, Domain Loss: 1.2576, Class Loss: 2.5493, LR: 0.001000\n",
      "Epoch [1], Batch [40/44], Loss: 1.4612, Domain Loss: 1.0796, Class Loss: 1.8427, LR: 0.001000\n",
      "Train set: Epoch: 1, Avg loss: 1.9034, Domain Loss: 1.2047, Class Loss: 2.6020, Domain Acc: 50.54%, Class Acc: 40.51%, Domain mAP: 0.4920, Class mAP: 0.3590, Time: 74.71s\n",
      "Test set: Epoch: 1, Avg loss: 1.2778, Domain Loss: 1.0847, Class Loss: 1.4710, Domain Acc: 55.71%, Class Acc: 64.43%, Domain mAP: 0.5903, Class mAP: 0.7336, Time: 24.28s\n",
      "\n",
      "새로운 최고 Class mAP: 0.7336, Domain mAP: 0.5903\n",
      "새로운 최고 Domain mAP: 0.5903\n",
      "Accuracy improved (-inf% --> 0.73%). Saving model ...\n"
     ]
    },
    {
     "name": "stderr",
     "output_type": "stream",
     "text": [
      "  0%|▎                                                                                           | 1/300 [01:40<8:18:34, 100.05s/it]"
     ]
    },
    {
     "name": "stdout",
     "output_type": "stream",
     "text": [
      "체크포인트가 checkpoints/latest_checkpoint.pth에 저장되었습니다.\n",
      "Epoch [2], Batch [20/44], Loss: 1.1530, Domain Loss: 1.0074, Class Loss: 1.2985, LR: 0.001000\n",
      "Epoch [2], Batch [40/44], Loss: 1.0730, Domain Loss: 0.8518, Class Loss: 1.2942, LR: 0.001000\n",
      "Train set: Epoch: 2, Avg loss: 1.1750, Domain Loss: 0.9521, Class Loss: 1.3980, Domain Acc: 60.97%, Class Acc: 63.60%, Domain mAP: 0.5929, Class mAP: 0.6449, Time: 67.76s\n",
      "Test set: Epoch: 2, Avg loss: 1.0506, Domain Loss: 0.9452, Class Loss: 1.1560, Domain Acc: 61.81%, Class Acc: 70.43%, Domain mAP: 0.6274, Class mAP: 0.7822, Time: 22.82s\n",
      "\n",
      "새로운 최고 Class mAP: 0.7822, Domain mAP: 0.6274\n",
      "새로운 최고 Domain mAP: 0.6274\n",
      "Accuracy improved (0.73% --> 0.78%). Saving model ...\n"
     ]
    },
    {
     "name": "stderr",
     "output_type": "stream",
     "text": [
      "  1%|▌                                                                                            | 2/300 [03:11<7:52:29, 95.13s/it]"
     ]
    },
    {
     "name": "stdout",
     "output_type": "stream",
     "text": [
      "체크포인트가 checkpoints/latest_checkpoint.pth에 저장되었습니다.\n",
      "Epoch [3], Batch [20/44], Loss: 1.0691, Domain Loss: 0.8301, Class Loss: 1.3082, LR: 0.001000\n",
      "Epoch [3], Batch [40/44], Loss: 0.9164, Domain Loss: 0.7436, Class Loss: 1.0892, LR: 0.001000\n",
      "Train set: Epoch: 3, Avg loss: 1.0121, Domain Loss: 0.8662, Class Loss: 1.1579, Domain Acc: 64.73%, Class Acc: 69.20%, Domain mAP: 0.6200, Class mAP: 0.7188, Time: 68.87s\n",
      "Test set: Epoch: 3, Avg loss: 0.9527, Domain Loss: 0.8918, Class Loss: 1.0136, Domain Acc: 62.99%, Class Acc: 72.95%, Domain mAP: 0.6537, Class mAP: 0.8047, Time: 22.93s\n",
      "\n",
      "새로운 최고 Class mAP: 0.8047, Domain mAP: 0.6537\n",
      "새로운 최고 Domain mAP: 0.6537\n",
      "Accuracy improved (0.78% --> 0.80%). Saving model ...\n"
     ]
    },
    {
     "name": "stderr",
     "output_type": "stream",
     "text": [
      "  1%|▉                                                                                            | 3/300 [04:44<7:46:06, 94.16s/it]"
     ]
    },
    {
     "name": "stdout",
     "output_type": "stream",
     "text": [
      "체크포인트가 checkpoints/latest_checkpoint.pth에 저장되었습니다.\n",
      "Epoch [4], Batch [20/44], Loss: 0.9370, Domain Loss: 0.8957, Class Loss: 0.9784, LR: 0.001000\n",
      "Epoch [4], Batch [40/44], Loss: 0.9528, Domain Loss: 0.7847, Class Loss: 1.1210, LR: 0.001000\n",
      "Train set: Epoch: 4, Avg loss: 0.9280, Domain Loss: 0.8245, Class Loss: 1.0315, Domain Acc: 66.46%, Class Acc: 71.90%, Domain mAP: 0.6382, Class mAP: 0.7538, Time: 69.97s\n",
      "Test set: Epoch: 4, Avg loss: 0.9157, Domain Loss: 0.8809, Class Loss: 0.9505, Domain Acc: 63.93%, Class Acc: 74.32%, Domain mAP: 0.6661, Class mAP: 0.8162, Time: 24.22s\n",
      "\n",
      "새로운 최고 Class mAP: 0.8162, Domain mAP: 0.6661\n",
      "새로운 최고 Domain mAP: 0.6661\n",
      "Accuracy improved (0.80% --> 0.82%). Saving model ...\n"
     ]
    },
    {
     "name": "stderr",
     "output_type": "stream",
     "text": [
      "  1%|█▏                                                                                           | 4/300 [06:20<7:47:03, 94.68s/it]"
     ]
    },
    {
     "name": "stdout",
     "output_type": "stream",
     "text": [
      "체크포인트가 checkpoints/latest_checkpoint.pth에 저장되었습니다.\n",
      "Epoch [5], Batch [20/44], Loss: 0.9066, Domain Loss: 0.7045, Class Loss: 1.1086, LR: 0.001000\n",
      "Epoch [5], Batch [40/44], Loss: 0.8078, Domain Loss: 0.7143, Class Loss: 0.9013, LR: 0.001000\n",
      "Train set: Epoch: 5, Avg loss: 0.8746, Domain Loss: 0.7989, Class Loss: 0.9503, Domain Acc: 68.26%, Class Acc: 73.99%, Domain mAP: 0.6571, Class mAP: 0.7819, Time: 69.60s\n",
      "Test set: Epoch: 5, Avg loss: 0.8755, Domain Loss: 0.8359, Class Loss: 0.9152, Domain Acc: 65.33%, Class Acc: 74.73%, Domain mAP: 0.6835, Class mAP: 0.8239, Time: 23.67s\n",
      "\n",
      "새로운 최고 Class mAP: 0.8239, Domain mAP: 0.6835\n",
      "새로운 최고 Domain mAP: 0.6835\n",
      "체크포인트가 checkpoints/ResNet50_MultiTask_layer2 Extraction - Style, all - Category_checkpoint.pth에 저장되었습니다.\n",
      "Accuracy improved (0.82% --> 0.82%). Saving model ...\n"
     ]
    },
    {
     "name": "stderr",
     "output_type": "stream",
     "text": [
      "  2%|█▌                                                                                           | 5/300 [07:54<7:45:17, 94.64s/it]"
     ]
    },
    {
     "name": "stdout",
     "output_type": "stream",
     "text": [
      "체크포인트가 checkpoints/latest_checkpoint.pth에 저장되었습니다.\n",
      "Epoch [6], Batch [20/44], Loss: 0.8123, Domain Loss: 0.8235, Class Loss: 0.8010, LR: 0.001000\n",
      "Epoch [6], Batch [40/44], Loss: 0.9244, Domain Loss: 0.8160, Class Loss: 1.0328, LR: 0.001000\n",
      "Train set: Epoch: 6, Avg loss: 0.8269, Domain Loss: 0.7773, Class Loss: 0.8765, Domain Acc: 68.91%, Class Acc: 75.52%, Domain mAP: 0.6665, Class mAP: 0.8044, Time: 68.32s\n",
      "Test set: Epoch: 6, Avg loss: 0.8533, Domain Loss: 0.8167, Class Loss: 0.8900, Domain Acc: 66.45%, Class Acc: 75.51%, Domain mAP: 0.6936, Class mAP: 0.8283, Time: 23.22s\n",
      "\n",
      "새로운 최고 Class mAP: 0.8283, Domain mAP: 0.6936\n",
      "새로운 최고 Domain mAP: 0.6936\n",
      "Accuracy improved (0.82% --> 0.83%). Saving model ...\n"
     ]
    },
    {
     "name": "stderr",
     "output_type": "stream",
     "text": [
      "  2%|█▊                                                                                           | 6/300 [09:27<7:40:26, 93.97s/it]"
     ]
    },
    {
     "name": "stdout",
     "output_type": "stream",
     "text": [
      "체크포인트가 checkpoints/latest_checkpoint.pth에 저장되었습니다.\n",
      "Epoch [7], Batch [20/44], Loss: 0.8122, Domain Loss: 0.8298, Class Loss: 0.7947, LR: 0.001000\n",
      "Epoch [7], Batch [40/44], Loss: 0.9000, Domain Loss: 0.7406, Class Loss: 1.0594, LR: 0.001000\n",
      "Train set: Epoch: 7, Avg loss: 0.7968, Domain Loss: 0.7698, Class Loss: 0.8238, Domain Acc: 68.94%, Class Acc: 76.75%, Domain mAP: 0.6704, Class mAP: 0.8196, Time: 69.62s\n",
      "Test set: Epoch: 7, Avg loss: 0.8406, Domain Loss: 0.8135, Class Loss: 0.8677, Domain Acc: 66.95%, Class Acc: 76.60%, Domain mAP: 0.7013, Class mAP: 0.8344, Time: 24.10s\n",
      "\n",
      "새로운 최고 Class mAP: 0.8344, Domain mAP: 0.7013\n",
      "새로운 최고 Domain mAP: 0.7013\n",
      "Accuracy improved (0.83% --> 0.83%). Saving model ...\n"
     ]
    },
    {
     "name": "stderr",
     "output_type": "stream",
     "text": [
      "  2%|██▏                                                                                          | 7/300 [11:02<7:40:28, 94.30s/it]"
     ]
    },
    {
     "name": "stdout",
     "output_type": "stream",
     "text": [
      "체크포인트가 checkpoints/latest_checkpoint.pth에 저장되었습니다.\n",
      "Epoch [8], Batch [20/44], Loss: 0.7913, Domain Loss: 0.7886, Class Loss: 0.7940, LR: 0.001000\n",
      "Epoch [8], Batch [40/44], Loss: 0.7836, Domain Loss: 0.6938, Class Loss: 0.8734, LR: 0.001000\n",
      "Train set: Epoch: 8, Avg loss: 0.7582, Domain Loss: 0.7479, Class Loss: 0.7686, Domain Acc: 70.24%, Class Acc: 78.01%, Domain mAP: 0.6810, Class mAP: 0.8370, Time: 69.88s\n",
      "Test set: Epoch: 8, Avg loss: 0.8263, Domain Loss: 0.7844, Class Loss: 0.8682, Domain Acc: 68.07%, Class Acc: 75.94%, Domain mAP: 0.7124, Class mAP: 0.8364, Time: 24.37s\n",
      "\n",
      "새로운 최고 Class mAP: 0.8364, Domain mAP: 0.7124\n",
      "새로운 최고 Domain mAP: 0.7124\n",
      "Accuracy improved (0.83% --> 0.84%). Saving model ...\n"
     ]
    },
    {
     "name": "stderr",
     "output_type": "stream",
     "text": [
      "  3%|██▍                                                                                          | 8/300 [12:37<7:40:48, 94.69s/it]"
     ]
    },
    {
     "name": "stdout",
     "output_type": "stream",
     "text": [
      "체크포인트가 checkpoints/latest_checkpoint.pth에 저장되었습니다.\n",
      "Epoch [9], Batch [20/44], Loss: 0.6908, Domain Loss: 0.7154, Class Loss: 0.6662, LR: 0.001000\n",
      "Epoch [9], Batch [40/44], Loss: 0.7622, Domain Loss: 0.7483, Class Loss: 0.7761, LR: 0.001000\n",
      "Train set: Epoch: 9, Avg loss: 0.7316, Domain Loss: 0.7305, Class Loss: 0.7327, Domain Acc: 70.93%, Class Acc: 78.93%, Domain mAP: 0.6956, Class mAP: 0.8452, Time: 68.47s\n",
      "Test set: Epoch: 9, Avg loss: 0.8171, Domain Loss: 0.7743, Class Loss: 0.8599, Domain Acc: 69.31%, Class Acc: 75.57%, Domain mAP: 0.7177, Class mAP: 0.8370, Time: 24.30s\n",
      "\n",
      "새로운 최고 Class mAP: 0.8370, Domain mAP: 0.7177\n",
      "새로운 최고 Domain mAP: 0.7177\n",
      "Accuracy improved (0.84% --> 0.84%). Saving model ...\n"
     ]
    },
    {
     "name": "stderr",
     "output_type": "stream",
     "text": [
      "  3%|██▊                                                                                          | 9/300 [14:11<7:38:01, 94.44s/it]"
     ]
    },
    {
     "name": "stdout",
     "output_type": "stream",
     "text": [
      "체크포인트가 checkpoints/latest_checkpoint.pth에 저장되었습니다.\n",
      "Epoch [10], Batch [20/44], Loss: 0.6816, Domain Loss: 0.6530, Class Loss: 0.7103, LR: 0.001000\n",
      "Epoch [10], Batch [40/44], Loss: 0.6510, Domain Loss: 0.6414, Class Loss: 0.6607, LR: 0.001000\n",
      "Train set: Epoch: 10, Avg loss: 0.7058, Domain Loss: 0.7208, Class Loss: 0.6907, Domain Acc: 71.28%, Class Acc: 80.10%, Domain mAP: 0.7011, Class mAP: 0.8579, Time: 68.56s\n",
      "Test set: Epoch: 10, Avg loss: 0.8008, Domain Loss: 0.7754, Class Loss: 0.8262, Domain Acc: 68.38%, Class Acc: 76.56%, Domain mAP: 0.7225, Class mAP: 0.8424, Time: 23.24s\n",
      "\n",
      "새로운 최고 Class mAP: 0.8424, Domain mAP: 0.7225\n",
      "새로운 최고 Domain mAP: 0.7225\n",
      "체크포인트가 checkpoints/ResNet50_MultiTask_layer2 Extraction - Style, all - Category_checkpoint.pth에 저장되었습니다.\n",
      "Accuracy improved (0.84% --> 0.84%). Saving model ...\n"
     ]
    },
    {
     "name": "stderr",
     "output_type": "stream",
     "text": [
      "  3%|███                                                                                         | 10/300 [15:45<7:34:40, 94.07s/it]"
     ]
    },
    {
     "name": "stdout",
     "output_type": "stream",
     "text": [
      "체크포인트가 checkpoints/latest_checkpoint.pth에 저장되었습니다.\n",
      "Epoch [11], Batch [20/44], Loss: 0.6618, Domain Loss: 0.7016, Class Loss: 0.6220, LR: 0.001000\n",
      "Epoch [11], Batch [40/44], Loss: 0.7197, Domain Loss: 0.6906, Class Loss: 0.7488, LR: 0.001000\n",
      "Train set: Epoch: 11, Avg loss: 0.6903, Domain Loss: 0.7155, Class Loss: 0.6651, Domain Acc: 71.78%, Class Acc: 80.54%, Domain mAP: 0.6984, Class mAP: 0.8652, Time: 70.18s\n",
      "Test set: Epoch: 11, Avg loss: 0.8090, Domain Loss: 0.8012, Class Loss: 0.8167, Domain Acc: 65.70%, Class Acc: 77.44%, Domain mAP: 0.7243, Class mAP: 0.8440, Time: 23.90s\n",
      "\n",
      "새로운 최고 Class mAP: 0.8440, Domain mAP: 0.7243\n",
      "새로운 최고 Domain mAP: 0.7243\n",
      "Accuracy improved (0.84% --> 0.84%). Saving model ...\n"
     ]
    },
    {
     "name": "stderr",
     "output_type": "stream",
     "text": [
      "  4%|███▎                                                                                        | 11/300 [17:20<7:34:57, 94.45s/it]"
     ]
    },
    {
     "name": "stdout",
     "output_type": "stream",
     "text": [
      "체크포인트가 checkpoints/latest_checkpoint.pth에 저장되었습니다.\n",
      "Epoch [12], Batch [20/44], Loss: 0.7154, Domain Loss: 0.7465, Class Loss: 0.6842, LR: 0.001000\n",
      "Epoch [12], Batch [40/44], Loss: 0.6250, Domain Loss: 0.6966, Class Loss: 0.5534, LR: 0.001000\n",
      "Train set: Epoch: 12, Avg loss: 0.6643, Domain Loss: 0.7084, Class Loss: 0.6202, Domain Acc: 71.62%, Class Acc: 81.56%, Domain mAP: 0.7067, Class mAP: 0.8781, Time: 68.86s\n",
      "Test set: Epoch: 12, Avg loss: 0.7838, Domain Loss: 0.7493, Class Loss: 0.8182, Domain Acc: 69.59%, Class Acc: 77.25%, Domain mAP: 0.7347, Class mAP: 0.8442, Time: 23.96s\n",
      "\n",
      "새로운 최고 Class mAP: 0.8442, Domain mAP: 0.7347\n",
      "새로운 최고 Domain mAP: 0.7347\n",
      "Accuracy improved (0.84% --> 0.84%). Saving model ...\n"
     ]
    },
    {
     "name": "stderr",
     "output_type": "stream",
     "text": [
      "  4%|███▋                                                                                        | 12/300 [18:54<7:32:41, 94.31s/it]"
     ]
    },
    {
     "name": "stdout",
     "output_type": "stream",
     "text": [
      "체크포인트가 checkpoints/latest_checkpoint.pth에 저장되었습니다.\n",
      "Epoch [13], Batch [20/44], Loss: 0.5717, Domain Loss: 0.6664, Class Loss: 0.4771, LR: 0.001000\n",
      "Epoch [13], Batch [40/44], Loss: 0.6093, Domain Loss: 0.6209, Class Loss: 0.5977, LR: 0.001000\n",
      "Train set: Epoch: 13, Avg loss: 0.6483, Domain Loss: 0.6911, Class Loss: 0.6055, Domain Acc: 72.62%, Class Acc: 82.36%, Domain mAP: 0.7167, Class mAP: 0.8819, Time: 69.89s\n",
      "Test set: Epoch: 13, Avg loss: 0.7871, Domain Loss: 0.7557, Class Loss: 0.8185, Domain Acc: 69.69%, Class Acc: 77.62%, Domain mAP: 0.7380, Class mAP: 0.8451, Time: 23.39s\n",
      "\n",
      "새로운 최고 Class mAP: 0.8451, Domain mAP: 0.7380\n",
      "새로운 최고 Domain mAP: 0.7380\n",
      "Accuracy improved (0.84% --> 0.85%). Saving model ...\n"
     ]
    },
    {
     "name": "stderr",
     "output_type": "stream",
     "text": [
      "  4%|███▉                                                                                        | 13/300 [20:28<7:31:11, 94.33s/it]"
     ]
    },
    {
     "name": "stdout",
     "output_type": "stream",
     "text": [
      "체크포인트가 checkpoints/latest_checkpoint.pth에 저장되었습니다.\n",
      "Epoch [14], Batch [20/44], Loss: 0.5523, Domain Loss: 0.6975, Class Loss: 0.4071, LR: 0.001000\n",
      "Epoch [14], Batch [40/44], Loss: 0.5900, Domain Loss: 0.5996, Class Loss: 0.5804, LR: 0.001000\n",
      "Train set: Epoch: 14, Avg loss: 0.6314, Domain Loss: 0.6847, Class Loss: 0.5782, Domain Acc: 72.97%, Class Acc: 82.98%, Domain mAP: 0.7175, Class mAP: 0.8899, Time: 70.16s\n",
      "Test set: Epoch: 14, Avg loss: 0.7881, Domain Loss: 0.7362, Class Loss: 0.8401, Domain Acc: 70.49%, Class Acc: 77.34%, Domain mAP: 0.7423, Class mAP: 0.8445, Time: 23.14s\n",
      "\n",
      "새로운 최고 Domain mAP: 0.7423\n",
      "EarlyStopping 카운터: 1 / 30\n"
     ]
    },
    {
     "name": "stderr",
     "output_type": "stream",
     "text": [
      "  5%|████▎                                                                                       | 14/300 [22:02<7:29:04, 94.21s/it]"
     ]
    },
    {
     "name": "stdout",
     "output_type": "stream",
     "text": [
      "체크포인트가 checkpoints/latest_checkpoint.pth에 저장되었습니다.\n",
      "Epoch [15], Batch [20/44], Loss: 0.6591, Domain Loss: 0.7363, Class Loss: 0.5819, LR: 0.001000\n",
      "Epoch [15], Batch [40/44], Loss: 0.5821, Domain Loss: 0.6676, Class Loss: 0.4966, LR: 0.001000\n",
      "Train set: Epoch: 15, Avg loss: 0.6149, Domain Loss: 0.6780, Class Loss: 0.5518, Domain Acc: 73.13%, Class Acc: 83.27%, Domain mAP: 0.7222, Class mAP: 0.8979, Time: 69.96s\n",
      "Test set: Epoch: 15, Avg loss: 0.7710, Domain Loss: 0.7289, Class Loss: 0.8131, Domain Acc: 70.49%, Class Acc: 77.75%, Domain mAP: 0.7473, Class mAP: 0.8473, Time: 23.06s\n",
      "\n",
      "새로운 최고 Class mAP: 0.8473, Domain mAP: 0.7473\n",
      "새로운 최고 Domain mAP: 0.7473\n",
      "체크포인트가 checkpoints/ResNet50_MultiTask_layer2 Extraction - Style, all - Category_checkpoint.pth에 저장되었습니다.\n",
      "Accuracy improved (0.85% --> 0.85%). Saving model ...\n"
     ]
    },
    {
     "name": "stderr",
     "output_type": "stream",
     "text": [
      "  5%|████▌                                                                                       | 15/300 [23:37<7:27:56, 94.31s/it]"
     ]
    },
    {
     "name": "stdout",
     "output_type": "stream",
     "text": [
      "체크포인트가 checkpoints/latest_checkpoint.pth에 저장되었습니다.\n",
      "Epoch [16], Batch [20/44], Loss: 0.5719, Domain Loss: 0.6266, Class Loss: 0.5172, LR: 0.001000\n",
      "Epoch [16], Batch [40/44], Loss: 0.6708, Domain Loss: 0.8100, Class Loss: 0.5317, LR: 0.001000\n",
      "Train set: Epoch: 16, Avg loss: 0.6009, Domain Loss: 0.6747, Class Loss: 0.5272, Domain Acc: 73.64%, Class Acc: 83.81%, Domain mAP: 0.7268, Class mAP: 0.9017, Time: 68.04s\n",
      "Test set: Epoch: 16, Avg loss: 0.7795, Domain Loss: 0.7321, Class Loss: 0.8269, Domain Acc: 69.75%, Class Acc: 77.65%, Domain mAP: 0.7502, Class mAP: 0.8447, Time: 24.80s\n",
      "\n",
      "새로운 최고 Domain mAP: 0.7502\n",
      "EarlyStopping 카운터: 1 / 30\n"
     ]
    },
    {
     "name": "stderr",
     "output_type": "stream",
     "text": [
      "  5%|████▉                                                                                       | 16/300 [25:10<7:25:13, 94.06s/it]"
     ]
    },
    {
     "name": "stdout",
     "output_type": "stream",
     "text": [
      "체크포인트가 checkpoints/latest_checkpoint.pth에 저장되었습니다.\n",
      "Epoch [17], Batch [20/44], Loss: 0.6128, Domain Loss: 0.7266, Class Loss: 0.4989, LR: 0.001000\n",
      "Epoch [17], Batch [40/44], Loss: 0.5438, Domain Loss: 0.6079, Class Loss: 0.4797, LR: 0.001000\n",
      "Train set: Epoch: 17, Avg loss: 0.5921, Domain Loss: 0.6691, Class Loss: 0.5151, Domain Acc: 73.63%, Class Acc: 84.45%, Domain mAP: 0.7281, Class mAP: 0.9066, Time: 69.64s\n",
      "Test set: Epoch: 17, Avg loss: 0.7850, Domain Loss: 0.7403, Class Loss: 0.8297, Domain Acc: 70.68%, Class Acc: 78.18%, Domain mAP: 0.7507, Class mAP: 0.8462, Time: 24.39s\n",
      "\n",
      "새로운 최고 Domain mAP: 0.7507\n",
      "EarlyStopping 카운터: 2 / 30\n"
     ]
    },
    {
     "name": "stderr",
     "output_type": "stream",
     "text": [
      "  6%|█████▏                                                                                      | 17/300 [26:45<7:24:32, 94.25s/it]"
     ]
    },
    {
     "name": "stdout",
     "output_type": "stream",
     "text": [
      "체크포인트가 checkpoints/latest_checkpoint.pth에 저장되었습니다.\n",
      "Epoch [18], Batch [20/44], Loss: 0.5092, Domain Loss: 0.6068, Class Loss: 0.4117, LR: 0.001000\n",
      "Epoch [18], Batch [40/44], Loss: 0.6088, Domain Loss: 0.6896, Class Loss: 0.5280, LR: 0.001000\n",
      "Train set: Epoch: 18, Avg loss: 0.5760, Domain Loss: 0.6604, Class Loss: 0.4915, Domain Acc: 74.05%, Class Acc: 85.34%, Domain mAP: 0.7347, Class mAP: 0.9133, Time: 68.66s\n",
      "Test set: Epoch: 18, Avg loss: 0.7720, Domain Loss: 0.7007, Class Loss: 0.8433, Domain Acc: 71.40%, Class Acc: 76.97%, Domain mAP: 0.7552, Class mAP: 0.8458, Time: 24.33s\n",
      "\n",
      "새로운 최고 Domain mAP: 0.7552\n",
      "EarlyStopping 카운터: 3 / 30\n"
     ]
    },
    {
     "name": "stderr",
     "output_type": "stream",
     "text": [
      "  6%|█████▌                                                                                      | 18/300 [28:19<7:22:06, 94.07s/it]"
     ]
    },
    {
     "name": "stdout",
     "output_type": "stream",
     "text": [
      "체크포인트가 checkpoints/latest_checkpoint.pth에 저장되었습니다.\n",
      "Epoch [19], Batch [20/44], Loss: 0.5974, Domain Loss: 0.6930, Class Loss: 0.5018, LR: 0.001000\n",
      "Epoch [19], Batch [40/44], Loss: 0.5855, Domain Loss: 0.7234, Class Loss: 0.4477, LR: 0.001000\n",
      "Train set: Epoch: 19, Avg loss: 0.5639, Domain Loss: 0.6508, Class Loss: 0.4770, Domain Acc: 74.20%, Class Acc: 85.17%, Domain mAP: 0.7339, Class mAP: 0.9172, Time: 70.29s\n",
      "Test set: Epoch: 19, Avg loss: 0.7697, Domain Loss: 0.7005, Class Loss: 0.8389, Domain Acc: 71.09%, Class Acc: 77.75%, Domain mAP: 0.7602, Class mAP: 0.8453, Time: 23.63s\n",
      "\n",
      "새로운 최고 Domain mAP: 0.7602\n",
      "EarlyStopping 카운터: 4 / 30\n"
     ]
    },
    {
     "name": "stderr",
     "output_type": "stream",
     "text": [
      "  6%|█████▊                                                                                      | 19/300 [29:53<7:21:13, 94.21s/it]"
     ]
    },
    {
     "name": "stdout",
     "output_type": "stream",
     "text": [
      "체크포인트가 checkpoints/latest_checkpoint.pth에 저장되었습니다.\n",
      "Epoch [20], Batch [20/44], Loss: 0.5275, Domain Loss: 0.6417, Class Loss: 0.4132, LR: 0.001000\n",
      "Epoch [20], Batch [40/44], Loss: 0.6118, Domain Loss: 0.7184, Class Loss: 0.5052, LR: 0.001000\n",
      "Train set: Epoch: 20, Avg loss: 0.5519, Domain Loss: 0.6470, Class Loss: 0.4569, Domain Acc: 74.18%, Class Acc: 86.24%, Domain mAP: 0.7372, Class mAP: 0.9229, Time: 68.75s\n",
      "Test set: Epoch: 20, Avg loss: 0.7719, Domain Loss: 0.6895, Class Loss: 0.8542, Domain Acc: 72.02%, Class Acc: 76.53%, Domain mAP: 0.7630, Class mAP: 0.8445, Time: 23.03s\n",
      "\n",
      "새로운 최고 Domain mAP: 0.7630\n",
      "체크포인트가 checkpoints/ResNet50_MultiTask_layer2 Extraction - Style, all - Category_checkpoint.pth에 저장되었습니다.\n",
      "EarlyStopping 카운터: 5 / 30\n"
     ]
    },
    {
     "name": "stderr",
     "output_type": "stream",
     "text": [
      "  7%|██████▏                                                                                     | 20/300 [31:26<7:17:38, 93.78s/it]"
     ]
    },
    {
     "name": "stdout",
     "output_type": "stream",
     "text": [
      "체크포인트가 checkpoints/latest_checkpoint.pth에 저장되었습니다.\n",
      "Epoch [21], Batch [20/44], Loss: 0.5151, Domain Loss: 0.7063, Class Loss: 0.3238, LR: 0.001000\n",
      "Epoch [21], Batch [40/44], Loss: 0.5764, Domain Loss: 0.5826, Class Loss: 0.5702, LR: 0.001000\n",
      "Train set: Epoch: 21, Avg loss: 0.5420, Domain Loss: 0.6453, Class Loss: 0.4387, Domain Acc: 74.59%, Class Acc: 86.48%, Domain mAP: 0.7420, Class mAP: 0.9271, Time: 72.26s\n",
      "Test set: Epoch: 21, Avg loss: 0.7522, Domain Loss: 0.7025, Class Loss: 0.8019, Domain Acc: 70.74%, Class Acc: 77.65%, Domain mAP: 0.7660, Class mAP: 0.8526, Time: 24.12s\n",
      "\n",
      "새로운 최고 Class mAP: 0.8526, Domain mAP: 0.7660\n",
      "새로운 최고 Domain mAP: 0.7660\n",
      "Accuracy improved (0.85% --> 0.85%). Saving model ...\n"
     ]
    },
    {
     "name": "stderr",
     "output_type": "stream",
     "text": [
      "  7%|██████▍                                                                                     | 21/300 [33:03<7:21:20, 94.91s/it]"
     ]
    },
    {
     "name": "stdout",
     "output_type": "stream",
     "text": [
      "체크포인트가 checkpoints/latest_checkpoint.pth에 저장되었습니다.\n",
      "Epoch [22], Batch [20/44], Loss: 0.4932, Domain Loss: 0.5526, Class Loss: 0.4338, LR: 0.001000\n",
      "Epoch [22], Batch [40/44], Loss: 0.4998, Domain Loss: 0.5820, Class Loss: 0.4177, LR: 0.001000\n",
      "Train set: Epoch: 22, Avg loss: 0.5332, Domain Loss: 0.6417, Class Loss: 0.4247, Domain Acc: 74.83%, Class Acc: 86.94%, Domain mAP: 0.7399, Class mAP: 0.9305, Time: 69.50s\n",
      "Test set: Epoch: 22, Avg loss: 0.7758, Domain Loss: 0.7256, Class Loss: 0.8261, Domain Acc: 70.37%, Class Acc: 78.37%, Domain mAP: 0.7657, Class mAP: 0.8505, Time: 24.99s\n",
      "\n",
      "EarlyStopping 카운터: 1 / 30\n"
     ]
    },
    {
     "name": "stderr",
     "output_type": "stream",
     "text": [
      "  7%|██████▋                                                                                     | 22/300 [34:38<7:19:38, 94.89s/it]"
     ]
    },
    {
     "name": "stdout",
     "output_type": "stream",
     "text": [
      "체크포인트가 checkpoints/latest_checkpoint.pth에 저장되었습니다.\n",
      "Epoch [23], Batch [20/44], Loss: 0.4957, Domain Loss: 0.5749, Class Loss: 0.4165, LR: 0.001000\n",
      "Epoch [23], Batch [40/44], Loss: 0.4681, Domain Loss: 0.6043, Class Loss: 0.3318, LR: 0.001000\n",
      "Train set: Epoch: 23, Avg loss: 0.5200, Domain Loss: 0.6375, Class Loss: 0.4025, Domain Acc: 74.56%, Class Acc: 87.59%, Domain mAP: 0.7444, Class mAP: 0.9372, Time: 69.04s\n",
      "Test set: Epoch: 23, Avg loss: 0.7708, Domain Loss: 0.7108, Class Loss: 0.8308, Domain Acc: 72.08%, Class Acc: 78.28%, Domain mAP: 0.7657, Class mAP: 0.8520, Time: 23.21s\n",
      "\n",
      "EarlyStopping 카운터: 2 / 30\n"
     ]
    },
    {
     "name": "stderr",
     "output_type": "stream",
     "text": [
      "  8%|███████                                                                                     | 23/300 [36:11<7:14:57, 94.22s/it]"
     ]
    },
    {
     "name": "stdout",
     "output_type": "stream",
     "text": [
      "체크포인트가 checkpoints/latest_checkpoint.pth에 저장되었습니다.\n",
      "Epoch [24], Batch [20/44], Loss: 0.5171, Domain Loss: 0.6719, Class Loss: 0.3624, LR: 0.001000\n",
      "Epoch [24], Batch [40/44], Loss: 0.5064, Domain Loss: 0.6558, Class Loss: 0.3569, LR: 0.001000\n",
      "Train set: Epoch: 24, Avg loss: 0.5139, Domain Loss: 0.6429, Class Loss: 0.3850, Domain Acc: 74.30%, Class Acc: 88.23%, Domain mAP: 0.7461, Class mAP: 0.9409, Time: 73.68s\n",
      "Test set: Epoch: 24, Avg loss: 0.7551, Domain Loss: 0.6935, Class Loss: 0.8166, Domain Acc: 71.58%, Class Acc: 78.56%, Domain mAP: 0.7715, Class mAP: 0.8545, Time: 23.39s\n",
      "\n",
      "새로운 최고 Class mAP: 0.8545, Domain mAP: 0.7715\n",
      "새로운 최고 Domain mAP: 0.7715\n",
      "Accuracy improved (0.85% --> 0.85%). Saving model ...\n"
     ]
    },
    {
     "name": "stderr",
     "output_type": "stream",
     "text": [
      "  8%|███████▎                                                                                    | 24/300 [37:49<7:18:55, 95.42s/it]"
     ]
    },
    {
     "name": "stdout",
     "output_type": "stream",
     "text": [
      "체크포인트가 checkpoints/latest_checkpoint.pth에 저장되었습니다.\n",
      "Epoch [25], Batch [20/44], Loss: 0.4755, Domain Loss: 0.6017, Class Loss: 0.3494, LR: 0.001000\n",
      "Epoch [25], Batch [40/44], Loss: 0.5270, Domain Loss: 0.7260, Class Loss: 0.3280, LR: 0.001000\n",
      "Train set: Epoch: 25, Avg loss: 0.5092, Domain Loss: 0.6351, Class Loss: 0.3834, Domain Acc: 74.99%, Class Acc: 87.95%, Domain mAP: 0.7476, Class mAP: 0.9393, Time: 71.43s\n",
      "Test set: Epoch: 25, Avg loss: 0.7645, Domain Loss: 0.6945, Class Loss: 0.8345, Domain Acc: 72.46%, Class Acc: 78.00%, Domain mAP: 0.7732, Class mAP: 0.8517, Time: 23.65s\n",
      "\n",
      "새로운 최고 Domain mAP: 0.7732\n",
      "체크포인트가 checkpoints/ResNet50_MultiTask_layer2 Extraction - Style, all - Category_checkpoint.pth에 저장되었습니다.\n",
      "EarlyStopping 카운터: 1 / 30\n"
     ]
    },
    {
     "name": "stderr",
     "output_type": "stream",
     "text": [
      "  8%|███████▋                                                                                    | 25/300 [39:25<7:18:09, 95.60s/it]"
     ]
    },
    {
     "name": "stdout",
     "output_type": "stream",
     "text": [
      "체크포인트가 checkpoints/latest_checkpoint.pth에 저장되었습니다.\n",
      "Epoch [26], Batch [20/44], Loss: 0.3962, Domain Loss: 0.5494, Class Loss: 0.2429, LR: 0.001000\n",
      "Epoch [26], Batch [40/44], Loss: 0.5314, Domain Loss: 0.6853, Class Loss: 0.3775, LR: 0.001000\n",
      "Train set: Epoch: 26, Avg loss: 0.4932, Domain Loss: 0.6288, Class Loss: 0.3575, Domain Acc: 75.31%, Class Acc: 89.02%, Domain mAP: 0.7527, Class mAP: 0.9480, Time: 70.52s\n",
      "Test set: Epoch: 26, Avg loss: 0.7537, Domain Loss: 0.6819, Class Loss: 0.8254, Domain Acc: 72.83%, Class Acc: 78.28%, Domain mAP: 0.7756, Class mAP: 0.8525, Time: 24.97s\n",
      "\n",
      "새로운 최고 Domain mAP: 0.7756\n",
      "EarlyStopping 카운터: 2 / 30\n"
     ]
    },
    {
     "name": "stderr",
     "output_type": "stream",
     "text": [
      "  9%|███████▉                                                                                    | 26/300 [41:01<7:17:17, 95.76s/it]"
     ]
    },
    {
     "name": "stdout",
     "output_type": "stream",
     "text": [
      "체크포인트가 checkpoints/latest_checkpoint.pth에 저장되었습니다.\n",
      "Epoch [27], Batch [20/44], Loss: 0.4531, Domain Loss: 0.5779, Class Loss: 0.3283, LR: 0.001000\n",
      "Epoch [27], Batch [40/44], Loss: 0.4498, Domain Loss: 0.5924, Class Loss: 0.3071, LR: 0.001000\n",
      "Train set: Epoch: 27, Avg loss: 0.4866, Domain Loss: 0.6251, Class Loss: 0.3480, Domain Acc: 75.43%, Class Acc: 89.08%, Domain mAP: 0.7547, Class mAP: 0.9480, Time: 69.03s\n",
      "Test set: Epoch: 27, Avg loss: 0.7541, Domain Loss: 0.6856, Class Loss: 0.8227, Domain Acc: 72.39%, Class Acc: 78.65%, Domain mAP: 0.7746, Class mAP: 0.8525, Time: 24.34s\n",
      "\n",
      "EarlyStopping 카운터: 3 / 30\n"
     ]
    },
    {
     "name": "stderr",
     "output_type": "stream",
     "text": [
      "  9%|████████▎                                                                                   | 27/300 [42:35<7:12:53, 95.14s/it]"
     ]
    },
    {
     "name": "stdout",
     "output_type": "stream",
     "text": [
      "체크포인트가 checkpoints/latest_checkpoint.pth에 저장되었습니다.\n",
      "Epoch [28], Batch [20/44], Loss: 0.5357, Domain Loss: 0.6556, Class Loss: 0.4158, LR: 0.001000\n",
      "Epoch [28], Batch [40/44], Loss: 0.4578, Domain Loss: 0.5637, Class Loss: 0.3518, LR: 0.001000\n",
      "Train set: Epoch: 28, Avg loss: 0.4881, Domain Loss: 0.6212, Class Loss: 0.3550, Domain Acc: 75.70%, Class Acc: 88.77%, Domain mAP: 0.7551, Class mAP: 0.9475, Time: 69.97s\n",
      "Test set: Epoch: 28, Avg loss: 0.7790, Domain Loss: 0.6988, Class Loss: 0.8592, Domain Acc: 71.65%, Class Acc: 77.87%, Domain mAP: 0.7768, Class mAP: 0.8498, Time: 24.13s\n",
      "\n",
      "새로운 최고 Domain mAP: 0.7768\n",
      "EarlyStopping 카운터: 4 / 30\n"
     ]
    },
    {
     "name": "stderr",
     "output_type": "stream",
     "text": [
      "  9%|████████▌                                                                                   | 28/300 [44:10<7:10:46, 95.02s/it]"
     ]
    },
    {
     "name": "stdout",
     "output_type": "stream",
     "text": [
      "체크포인트가 checkpoints/latest_checkpoint.pth에 저장되었습니다.\n",
      "Epoch [29], Batch [20/44], Loss: 0.4637, Domain Loss: 0.5997, Class Loss: 0.3276, LR: 0.001000\n",
      "Epoch [29], Batch [40/44], Loss: 0.4526, Domain Loss: 0.5577, Class Loss: 0.3475, LR: 0.001000\n",
      "Train set: Epoch: 29, Avg loss: 0.4722, Domain Loss: 0.6168, Class Loss: 0.3275, Domain Acc: 75.55%, Class Acc: 89.91%, Domain mAP: 0.7595, Class mAP: 0.9540, Time: 70.03s\n",
      "Test set: Epoch: 29, Avg loss: 0.7601, Domain Loss: 0.6830, Class Loss: 0.8372, Domain Acc: 72.11%, Class Acc: 78.84%, Domain mAP: 0.7770, Class mAP: 0.8523, Time: 23.78s\n",
      "\n",
      "새로운 최고 Domain mAP: 0.7770\n",
      "EarlyStopping 카운터: 5 / 30\n"
     ]
    },
    {
     "name": "stderr",
     "output_type": "stream",
     "text": [
      " 10%|████████▉                                                                                   | 29/300 [45:44<7:08:18, 94.83s/it]"
     ]
    },
    {
     "name": "stdout",
     "output_type": "stream",
     "text": [
      "체크포인트가 checkpoints/latest_checkpoint.pth에 저장되었습니다.\n",
      "Epoch [30], Batch [20/44], Loss: 0.4910, Domain Loss: 0.6418, Class Loss: 0.3401, LR: 0.001000\n",
      "Epoch [30], Batch [40/44], Loss: 0.3883, Domain Loss: 0.5664, Class Loss: 0.2102, LR: 0.001000\n",
      "Train set: Epoch: 30, Avg loss: 0.4727, Domain Loss: 0.6138, Class Loss: 0.3315, Domain Acc: 75.87%, Class Acc: 89.74%, Domain mAP: 0.7583, Class mAP: 0.9526, Time: 71.84s\n",
      "Test set: Epoch: 30, Avg loss: 0.7640, Domain Loss: 0.6838, Class Loss: 0.8441, Domain Acc: 72.74%, Class Acc: 78.68%, Domain mAP: 0.7802, Class mAP: 0.8540, Time: 23.30s\n",
      "\n",
      "새로운 최고 Domain mAP: 0.7802\n",
      "체크포인트가 checkpoints/ResNet50_MultiTask_layer2 Extraction - Style, all - Category_checkpoint.pth에 저장되었습니다.\n",
      "EarlyStopping 카운터: 6 / 30\n"
     ]
    },
    {
     "name": "stderr",
     "output_type": "stream",
     "text": [
      " 10%|█████████▏                                                                                  | 30/300 [47:20<7:08:34, 95.24s/it]"
     ]
    },
    {
     "name": "stdout",
     "output_type": "stream",
     "text": [
      "체크포인트가 checkpoints/latest_checkpoint.pth에 저장되었습니다.\n",
      "Epoch [31], Batch [20/44], Loss: 0.4464, Domain Loss: 0.5516, Class Loss: 0.3412, LR: 0.001000\n",
      "Epoch [31], Batch [40/44], Loss: 0.4861, Domain Loss: 0.6582, Class Loss: 0.3140, LR: 0.001000\n",
      "Train set: Epoch: 31, Avg loss: 0.4626, Domain Loss: 0.6215, Class Loss: 0.3036, Domain Acc: 75.42%, Class Acc: 90.34%, Domain mAP: 0.7533, Class mAP: 0.9607, Time: 70.88s\n",
      "Test set: Epoch: 31, Avg loss: 0.7538, Domain Loss: 0.6661, Class Loss: 0.8416, Domain Acc: 72.61%, Class Acc: 78.80%, Domain mAP: 0.7795, Class mAP: 0.8515, Time: 23.63s\n",
      "\n",
      "EarlyStopping 카운터: 7 / 30\n"
     ]
    },
    {
     "name": "stderr",
     "output_type": "stream",
     "text": [
      " 10%|█████████▌                                                                                  | 31/300 [48:55<7:06:26, 95.12s/it]"
     ]
    },
    {
     "name": "stdout",
     "output_type": "stream",
     "text": [
      "체크포인트가 checkpoints/latest_checkpoint.pth에 저장되었습니다.\n",
      "Epoch [32], Batch [20/44], Loss: 0.4531, Domain Loss: 0.6404, Class Loss: 0.2657, LR: 0.001000\n",
      "Epoch [32], Batch [40/44], Loss: 0.4310, Domain Loss: 0.5505, Class Loss: 0.3115, LR: 0.001000\n",
      "Train set: Epoch: 32, Avg loss: 0.4585, Domain Loss: 0.6090, Class Loss: 0.3080, Domain Acc: 75.64%, Class Acc: 90.09%, Domain mAP: 0.7614, Class mAP: 0.9586, Time: 70.21s\n",
      "Test set: Epoch: 32, Avg loss: 0.7659, Domain Loss: 0.6782, Class Loss: 0.8537, Domain Acc: 72.61%, Class Acc: 78.65%, Domain mAP: 0.7840, Class mAP: 0.8546, Time: 24.20s\n",
      "\n",
      "새로운 최고 Class mAP: 0.8546, Domain mAP: 0.7840\n",
      "새로운 최고 Domain mAP: 0.7840\n",
      "Accuracy improved (0.85% --> 0.85%). Saving model ...\n"
     ]
    },
    {
     "name": "stderr",
     "output_type": "stream",
     "text": [
      " 11%|█████████▊                                                                                  | 32/300 [50:31<7:05:26, 95.25s/it]"
     ]
    },
    {
     "name": "stdout",
     "output_type": "stream",
     "text": [
      "체크포인트가 checkpoints/latest_checkpoint.pth에 저장되었습니다.\n",
      "Epoch [33], Batch [20/44], Loss: 0.4525, Domain Loss: 0.5752, Class Loss: 0.3298, LR: 0.001000\n",
      "Epoch [33], Batch [40/44], Loss: 0.4221, Domain Loss: 0.5999, Class Loss: 0.2443, LR: 0.001000\n",
      "Train set: Epoch: 33, Avg loss: 0.4425, Domain Loss: 0.6045, Class Loss: 0.2805, Domain Acc: 76.09%, Class Acc: 91.11%, Domain mAP: 0.7657, Class mAP: 0.9648, Time: 72.15s\n",
      "Test set: Epoch: 33, Avg loss: 0.7643, Domain Loss: 0.6697, Class Loss: 0.8590, Domain Acc: 73.61%, Class Acc: 79.46%, Domain mAP: 0.7811, Class mAP: 0.8568, Time: 25.00s\n",
      "\n",
      "새로운 최고 Class mAP: 0.8568, Domain mAP: 0.7811\n",
      "Accuracy improved (0.85% --> 0.86%). Saving model ...\n"
     ]
    },
    {
     "name": "stderr",
     "output_type": "stream",
     "text": [
      " 11%|██████████                                                                                  | 33/300 [52:09<7:07:40, 96.11s/it]"
     ]
    },
    {
     "name": "stdout",
     "output_type": "stream",
     "text": [
      "체크포인트가 checkpoints/latest_checkpoint.pth에 저장되었습니다.\n",
      "Epoch [34], Batch [20/44], Loss: 0.4532, Domain Loss: 0.6102, Class Loss: 0.2963, LR: 0.001000\n",
      "Epoch [34], Batch [40/44], Loss: 0.4937, Domain Loss: 0.7053, Class Loss: 0.2821, LR: 0.001000\n",
      "Train set: Epoch: 34, Avg loss: 0.4484, Domain Loss: 0.6094, Class Loss: 0.2873, Domain Acc: 75.83%, Class Acc: 90.74%, Domain mAP: 0.7571, Class mAP: 0.9632, Time: 69.03s\n",
      "Test set: Epoch: 34, Avg loss: 0.7712, Domain Loss: 0.6816, Class Loss: 0.8607, Domain Acc: 72.21%, Class Acc: 78.59%, Domain mAP: 0.7848, Class mAP: 0.8552, Time: 24.25s\n",
      "\n",
      "새로운 최고 Domain mAP: 0.7848\n",
      "EarlyStopping 카운터: 1 / 30\n"
     ]
    },
    {
     "name": "stderr",
     "output_type": "stream",
     "text": [
      " 11%|██████████▍                                                                                 | 34/300 [53:43<7:03:05, 95.44s/it]"
     ]
    },
    {
     "name": "stdout",
     "output_type": "stream",
     "text": [
      "체크포인트가 checkpoints/latest_checkpoint.pth에 저장되었습니다.\n",
      "Epoch [35], Batch [20/44], Loss: 0.3950, Domain Loss: 0.5120, Class Loss: 0.2780, LR: 0.001000\n",
      "Epoch [35], Batch [40/44], Loss: 0.4712, Domain Loss: 0.6466, Class Loss: 0.2958, LR: 0.001000\n",
      "Train set: Epoch: 35, Avg loss: 0.4361, Domain Loss: 0.5959, Class Loss: 0.2763, Domain Acc: 76.73%, Class Acc: 91.09%, Domain mAP: 0.7685, Class mAP: 0.9657, Time: 66.86s\n",
      "Test set: Epoch: 35, Avg loss: 0.7609, Domain Loss: 0.6564, Class Loss: 0.8654, Domain Acc: 73.64%, Class Acc: 78.21%, Domain mAP: 0.7864, Class mAP: 0.8541, Time: 24.18s\n",
      "\n",
      "새로운 최고 Domain mAP: 0.7864\n",
      "체크포인트가 checkpoints/ResNet50_MultiTask_layer2 Extraction - Style, all - Category_checkpoint.pth에 저장되었습니다.\n",
      "EarlyStopping 카운터: 2 / 30\n"
     ]
    },
    {
     "name": "stderr",
     "output_type": "stream",
     "text": [
      " 12%|██████████▋                                                                                 | 35/300 [55:15<6:57:00, 94.42s/it]"
     ]
    },
    {
     "name": "stdout",
     "output_type": "stream",
     "text": [
      "체크포인트가 checkpoints/latest_checkpoint.pth에 저장되었습니다.\n",
      "Epoch [36], Batch [20/44], Loss: 0.3769, Domain Loss: 0.4751, Class Loss: 0.2787, LR: 0.001000\n",
      "Epoch [36], Batch [40/44], Loss: 0.4569, Domain Loss: 0.6569, Class Loss: 0.2568, LR: 0.001000\n",
      "Train set: Epoch: 36, Avg loss: 0.4334, Domain Loss: 0.5965, Class Loss: 0.2704, Domain Acc: 76.69%, Class Acc: 91.43%, Domain mAP: 0.7725, Class mAP: 0.9659, Time: 71.21s\n",
      "Test set: Epoch: 36, Avg loss: 0.7581, Domain Loss: 0.6542, Class Loss: 0.8619, Domain Acc: 73.33%, Class Acc: 78.37%, Domain mAP: 0.7867, Class mAP: 0.8546, Time: 23.63s\n",
      "\n",
      "새로운 최고 Domain mAP: 0.7867\n",
      "EarlyStopping 카운터: 3 / 30\n"
     ]
    },
    {
     "name": "stderr",
     "output_type": "stream",
     "text": [
      " 12%|███████████                                                                                 | 36/300 [56:50<6:56:50, 94.74s/it]"
     ]
    },
    {
     "name": "stdout",
     "output_type": "stream",
     "text": [
      "체크포인트가 checkpoints/latest_checkpoint.pth에 저장되었습니다.\n",
      "Epoch [37], Batch [20/44], Loss: 0.4413, Domain Loss: 0.6258, Class Loss: 0.2569, LR: 0.001000\n",
      "Epoch [37], Batch [40/44], Loss: 0.4780, Domain Loss: 0.6210, Class Loss: 0.3350, LR: 0.001000\n",
      "Train set: Epoch: 37, Avg loss: 0.4326, Domain Loss: 0.5972, Class Loss: 0.2680, Domain Acc: 76.52%, Class Acc: 91.30%, Domain mAP: 0.7685, Class mAP: 0.9658, Time: 71.26s\n",
      "Test set: Epoch: 37, Avg loss: 0.7606, Domain Loss: 0.6712, Class Loss: 0.8499, Domain Acc: 72.49%, Class Acc: 78.71%, Domain mAP: 0.7860, Class mAP: 0.8570, Time: 24.07s\n",
      "\n",
      "새로운 최고 Class mAP: 0.8570, Domain mAP: 0.7860\n",
      "Accuracy improved (0.86% --> 0.86%). Saving model ...\n"
     ]
    },
    {
     "name": "stderr",
     "output_type": "stream",
     "text": [
      " 12%|███████████▎                                                                                | 37/300 [58:26<6:57:17, 95.20s/it]"
     ]
    },
    {
     "name": "stdout",
     "output_type": "stream",
     "text": [
      "체크포인트가 checkpoints/latest_checkpoint.pth에 저장되었습니다.\n",
      "Epoch [38], Batch [20/44], Loss: 0.4073, Domain Loss: 0.5470, Class Loss: 0.2677, LR: 0.001000\n",
      "Epoch [38], Batch [40/44], Loss: 0.4023, Domain Loss: 0.5734, Class Loss: 0.2312, LR: 0.001000\n",
      "Train set: Epoch: 38, Avg loss: 0.4219, Domain Loss: 0.5879, Class Loss: 0.2559, Domain Acc: 76.54%, Class Acc: 91.60%, Domain mAP: 0.7752, Class mAP: 0.9699, Time: 69.86s\n",
      "Test set: Epoch: 38, Avg loss: 0.7660, Domain Loss: 0.6643, Class Loss: 0.8677, Domain Acc: 73.79%, Class Acc: 79.43%, Domain mAP: 0.7898, Class mAP: 0.8541, Time: 23.96s\n",
      "\n",
      "새로운 최고 Domain mAP: 0.7898\n",
      "EarlyStopping 카운터: 1 / 30\n"
     ]
    },
    {
     "name": "stderr",
     "output_type": "stream",
     "text": [
      " 13%|███████████▍                                                                              | 38/300 [1:00:01<6:54:44, 94.98s/it]"
     ]
    },
    {
     "name": "stdout",
     "output_type": "stream",
     "text": [
      "체크포인트가 checkpoints/latest_checkpoint.pth에 저장되었습니다.\n",
      "Epoch [39], Batch [20/44], Loss: 0.4341, Domain Loss: 0.6695, Class Loss: 0.1987, LR: 0.001000\n",
      "Epoch [39], Batch [40/44], Loss: 0.4390, Domain Loss: 0.6093, Class Loss: 0.2686, LR: 0.001000\n",
      "Train set: Epoch: 39, Avg loss: 0.4156, Domain Loss: 0.5937, Class Loss: 0.2374, Domain Acc: 76.84%, Class Acc: 92.71%, Domain mAP: 0.7714, Class mAP: 0.9734, Time: 70.40s\n",
      "Test set: Epoch: 39, Avg loss: 0.7725, Domain Loss: 0.6774, Class Loss: 0.8677, Domain Acc: 73.54%, Class Acc: 79.27%, Domain mAP: 0.7889, Class mAP: 0.8577, Time: 23.70s\n",
      "\n",
      "새로운 최고 Class mAP: 0.8577, Domain mAP: 0.7889\n",
      "Accuracy improved (0.86% --> 0.86%). Saving model ...\n"
     ]
    },
    {
     "name": "stderr",
     "output_type": "stream",
     "text": [
      " 13%|███████████▋                                                                              | 39/300 [1:01:36<6:53:10, 94.98s/it]"
     ]
    },
    {
     "name": "stdout",
     "output_type": "stream",
     "text": [
      "체크포인트가 checkpoints/latest_checkpoint.pth에 저장되었습니다.\n",
      "Epoch [40], Batch [20/44], Loss: 0.4236, Domain Loss: 0.5077, Class Loss: 0.3396, LR: 0.001000\n",
      "Epoch [40], Batch [40/44], Loss: 0.4817, Domain Loss: 0.6589, Class Loss: 0.3045, LR: 0.001000\n",
      "Train set: Epoch: 40, Avg loss: 0.4185, Domain Loss: 0.5958, Class Loss: 0.2411, Domain Acc: 76.56%, Class Acc: 92.24%, Domain mAP: 0.7735, Class mAP: 0.9721, Time: 71.51s\n",
      "Test set: Epoch: 40, Avg loss: 0.7749, Domain Loss: 0.6856, Class Loss: 0.8642, Domain Acc: 72.61%, Class Acc: 78.87%, Domain mAP: 0.7863, Class mAP: 0.8550, Time: 24.02s\n",
      "\n",
      "체크포인트가 checkpoints/ResNet50_MultiTask_layer2 Extraction - Style, all - Category_checkpoint.pth에 저장되었습니다.\n",
      "EarlyStopping 카운터: 1 / 30\n"
     ]
    },
    {
     "name": "stderr",
     "output_type": "stream",
     "text": [
      " 13%|████████████                                                                              | 40/300 [1:03:12<6:53:05, 95.33s/it]"
     ]
    },
    {
     "name": "stdout",
     "output_type": "stream",
     "text": [
      "체크포인트가 checkpoints/latest_checkpoint.pth에 저장되었습니다.\n",
      "Epoch [41], Batch [20/44], Loss: 0.3967, Domain Loss: 0.5550, Class Loss: 0.2383, LR: 0.001000\n",
      "Epoch [41], Batch [40/44], Loss: 0.4669, Domain Loss: 0.6594, Class Loss: 0.2745, LR: 0.001000\n",
      "Train set: Epoch: 41, Avg loss: 0.4094, Domain Loss: 0.5920, Class Loss: 0.2269, Domain Acc: 76.78%, Class Acc: 92.93%, Domain mAP: 0.7760, Class mAP: 0.9755, Time: 69.69s\n",
      "Test set: Epoch: 41, Avg loss: 0.7617, Domain Loss: 0.6601, Class Loss: 0.8633, Domain Acc: 74.29%, Class Acc: 79.27%, Domain mAP: 0.7909, Class mAP: 0.8556, Time: 23.89s\n",
      "\n",
      "새로운 최고 Domain mAP: 0.7909\n",
      "EarlyStopping 카운터: 2 / 30\n"
     ]
    },
    {
     "name": "stderr",
     "output_type": "stream",
     "text": [
      " 14%|████████████▎                                                                             | 41/300 [1:04:46<6:50:01, 94.99s/it]"
     ]
    },
    {
     "name": "stdout",
     "output_type": "stream",
     "text": [
      "체크포인트가 checkpoints/latest_checkpoint.pth에 저장되었습니다.\n",
      "Epoch [42], Batch [20/44], Loss: 0.3831, Domain Loss: 0.5584, Class Loss: 0.2077, LR: 0.001000\n",
      "Epoch [42], Batch [40/44], Loss: 0.3679, Domain Loss: 0.5374, Class Loss: 0.1984, LR: 0.001000\n",
      "Train set: Epoch: 42, Avg loss: 0.3988, Domain Loss: 0.5812, Class Loss: 0.2164, Domain Acc: 77.17%, Class Acc: 93.11%, Domain mAP: 0.7777, Class mAP: 0.9769, Time: 70.18s\n",
      "Test set: Epoch: 42, Avg loss: 0.7661, Domain Loss: 0.6517, Class Loss: 0.8806, Domain Acc: 74.26%, Class Acc: 78.68%, Domain mAP: 0.7909, Class mAP: 0.8547, Time: 24.30s\n",
      "\n",
      "EarlyStopping 카운터: 3 / 30\n"
     ]
    },
    {
     "name": "stderr",
     "output_type": "stream",
     "text": [
      " 14%|████████████▌                                                                             | 42/300 [1:06:21<6:48:13, 94.94s/it]"
     ]
    },
    {
     "name": "stdout",
     "output_type": "stream",
     "text": [
      "체크포인트가 checkpoints/latest_checkpoint.pth에 저장되었습니다.\n",
      "Epoch [43], Batch [20/44], Loss: 0.3924, Domain Loss: 0.5600, Class Loss: 0.2249, LR: 0.001000\n",
      "Epoch [43], Batch [40/44], Loss: 0.4166, Domain Loss: 0.5967, Class Loss: 0.2364, LR: 0.001000\n",
      "Train set: Epoch: 43, Avg loss: 0.3967, Domain Loss: 0.5772, Class Loss: 0.2162, Domain Acc: 77.25%, Class Acc: 93.05%, Domain mAP: 0.7761, Class mAP: 0.9769, Time: 68.26s\n",
      "Test set: Epoch: 43, Avg loss: 0.7711, Domain Loss: 0.6574, Class Loss: 0.8848, Domain Acc: 72.80%, Class Acc: 78.80%, Domain mAP: 0.7935, Class mAP: 0.8561, Time: 23.77s\n",
      "\n",
      "새로운 최고 Domain mAP: 0.7935\n",
      "EarlyStopping 카운터: 4 / 30\n"
     ]
    },
    {
     "name": "stderr",
     "output_type": "stream",
     "text": [
      " 14%|████████████▉                                                                             | 43/300 [1:07:54<6:43:42, 94.25s/it]"
     ]
    },
    {
     "name": "stdout",
     "output_type": "stream",
     "text": [
      "체크포인트가 checkpoints/latest_checkpoint.pth에 저장되었습니다.\n",
      "Epoch [44], Batch [20/44], Loss: 0.4198, Domain Loss: 0.6457, Class Loss: 0.1938, LR: 0.001000\n",
      "Epoch [44], Batch [40/44], Loss: 0.3948, Domain Loss: 0.5876, Class Loss: 0.2019, LR: 0.001000\n",
      "Train set: Epoch: 44, Avg loss: 0.3963, Domain Loss: 0.5827, Class Loss: 0.2099, Domain Acc: 76.87%, Class Acc: 93.33%, Domain mAP: 0.7753, Class mAP: 0.9771, Time: 69.91s\n",
      "Test set: Epoch: 44, Avg loss: 0.7723, Domain Loss: 0.6432, Class Loss: 0.9015, Domain Acc: 74.01%, Class Acc: 79.24%, Domain mAP: 0.7914, Class mAP: 0.8566, Time: 25.25s\n",
      "\n",
      "EarlyStopping 카운터: 5 / 30\n"
     ]
    },
    {
     "name": "stderr",
     "output_type": "stream",
     "text": [
      " 15%|█████████████▏                                                                            | 44/300 [1:09:29<6:43:42, 94.62s/it]"
     ]
    },
    {
     "name": "stdout",
     "output_type": "stream",
     "text": [
      "체크포인트가 checkpoints/latest_checkpoint.pth에 저장되었습니다.\n",
      "Epoch [45], Batch [20/44], Loss: 0.4064, Domain Loss: 0.6043, Class Loss: 0.2086, LR: 0.001000\n",
      "Epoch [45], Batch [40/44], Loss: 0.4009, Domain Loss: 0.5832, Class Loss: 0.2186, LR: 0.001000\n",
      "Train set: Epoch: 45, Avg loss: 0.4006, Domain Loss: 0.5806, Class Loss: 0.2206, Domain Acc: 77.37%, Class Acc: 92.80%, Domain mAP: 0.7769, Class mAP: 0.9751, Time: 68.96s\n",
      "Test set: Epoch: 45, Avg loss: 0.7614, Domain Loss: 0.6374, Class Loss: 0.8854, Domain Acc: 74.70%, Class Acc: 79.15%, Domain mAP: 0.7941, Class mAP: 0.8569, Time: 23.85s\n",
      "\n",
      "새로운 최고 Domain mAP: 0.7941\n",
      "체크포인트가 checkpoints/ResNet50_MultiTask_layer2 Extraction - Style, all - Category_checkpoint.pth에 저장되었습니다.\n",
      "EarlyStopping 카운터: 6 / 30\n"
     ]
    },
    {
     "name": "stderr",
     "output_type": "stream",
     "text": [
      " 15%|█████████████▌                                                                            | 45/300 [1:11:03<6:40:54, 94.33s/it]"
     ]
    },
    {
     "name": "stdout",
     "output_type": "stream",
     "text": [
      "체크포인트가 checkpoints/latest_checkpoint.pth에 저장되었습니다.\n",
      "Epoch [46], Batch [20/44], Loss: 0.3479, Domain Loss: 0.5231, Class Loss: 0.1728, LR: 0.001000\n",
      "Epoch [46], Batch [40/44], Loss: 0.3706, Domain Loss: 0.5456, Class Loss: 0.1957, LR: 0.001000\n",
      "Train set: Epoch: 46, Avg loss: 0.3994, Domain Loss: 0.5873, Class Loss: 0.2114, Domain Acc: 76.55%, Class Acc: 93.15%, Domain mAP: 0.7750, Class mAP: 0.9777, Time: 67.84s\n",
      "Test set: Epoch: 46, Avg loss: 0.7646, Domain Loss: 0.6320, Class Loss: 0.8972, Domain Acc: 75.04%, Class Acc: 78.90%, Domain mAP: 0.7954, Class mAP: 0.8551, Time: 22.56s\n",
      "\n",
      "새로운 최고 Domain mAP: 0.7954\n",
      "EarlyStopping 카운터: 7 / 30\n"
     ]
    },
    {
     "name": "stderr",
     "output_type": "stream",
     "text": [
      " 15%|█████████████▊                                                                            | 46/300 [1:12:34<6:35:09, 93.34s/it]"
     ]
    },
    {
     "name": "stdout",
     "output_type": "stream",
     "text": [
      "체크포인트가 checkpoints/latest_checkpoint.pth에 저장되었습니다.\n",
      "Epoch [47], Batch [20/44], Loss: 0.3944, Domain Loss: 0.5870, Class Loss: 0.2018, LR: 0.001000\n",
      "Epoch [47], Batch [40/44], Loss: 0.4121, Domain Loss: 0.5996, Class Loss: 0.2246, LR: 0.001000\n",
      "Train set: Epoch: 47, Avg loss: 0.3880, Domain Loss: 0.5704, Class Loss: 0.2056, Domain Acc: 77.47%, Class Acc: 93.40%, Domain mAP: 0.7854, Class mAP: 0.9794, Time: 69.35s\n",
      "Test set: Epoch: 47, Avg loss: 0.7741, Domain Loss: 0.6445, Class Loss: 0.9038, Domain Acc: 74.07%, Class Acc: 79.40%, Domain mAP: 0.7947, Class mAP: 0.8587, Time: 23.36s\n",
      "\n",
      "새로운 최고 Class mAP: 0.8587, Domain mAP: 0.7947\n",
      "Accuracy improved (0.86% --> 0.86%). Saving model ...\n"
     ]
    },
    {
     "name": "stderr",
     "output_type": "stream",
     "text": [
      " 16%|██████████████                                                                            | 47/300 [1:14:08<6:34:00, 93.44s/it]"
     ]
    },
    {
     "name": "stdout",
     "output_type": "stream",
     "text": [
      "체크포인트가 checkpoints/latest_checkpoint.pth에 저장되었습니다.\n",
      "Epoch [48], Batch [20/44], Loss: 0.3461, Domain Loss: 0.5032, Class Loss: 0.1890, LR: 0.001000\n",
      "Epoch [48], Batch [40/44], Loss: 0.3560, Domain Loss: 0.5015, Class Loss: 0.2106, LR: 0.001000\n",
      "Train set: Epoch: 48, Avg loss: 0.3940, Domain Loss: 0.5795, Class Loss: 0.2085, Domain Acc: 77.59%, Class Acc: 93.40%, Domain mAP: 0.7816, Class mAP: 0.9773, Time: 71.63s\n",
      "Test set: Epoch: 48, Avg loss: 0.7812, Domain Loss: 0.6648, Class Loss: 0.8975, Domain Acc: 72.08%, Class Acc: 79.24%, Domain mAP: 0.7921, Class mAP: 0.8569, Time: 25.04s\n",
      "\n",
      "EarlyStopping 카운터: 1 / 30\n"
     ]
    },
    {
     "name": "stderr",
     "output_type": "stream",
     "text": [
      " 16%|██████████████▍                                                                           | 48/300 [1:15:45<6:36:57, 94.51s/it]"
     ]
    },
    {
     "name": "stdout",
     "output_type": "stream",
     "text": [
      "체크포인트가 checkpoints/latest_checkpoint.pth에 저장되었습니다.\n",
      "Epoch [49], Batch [20/44], Loss: 0.3402, Domain Loss: 0.5029, Class Loss: 0.1775, LR: 0.001000\n",
      "Epoch [49], Batch [40/44], Loss: 0.3792, Domain Loss: 0.5253, Class Loss: 0.2331, LR: 0.001000\n",
      "Train set: Epoch: 49, Avg loss: 0.3876, Domain Loss: 0.5769, Class Loss: 0.1983, Domain Acc: 77.73%, Class Acc: 93.67%, Domain mAP: 0.7811, Class mAP: 0.9799, Time: 67.11s\n",
      "Test set: Epoch: 49, Avg loss: 0.7767, Domain Loss: 0.6707, Class Loss: 0.8826, Domain Acc: 73.08%, Class Acc: 79.58%, Domain mAP: 0.7951, Class mAP: 0.8567, Time: 23.46s\n",
      "\n",
      "EarlyStopping 카운터: 2 / 30\n"
     ]
    },
    {
     "name": "stderr",
     "output_type": "stream",
     "text": [
      " 16%|██████████████▋                                                                           | 49/300 [1:17:15<6:30:51, 93.43s/it]"
     ]
    },
    {
     "name": "stdout",
     "output_type": "stream",
     "text": [
      "체크포인트가 checkpoints/latest_checkpoint.pth에 저장되었습니다.\n",
      "Epoch [50], Batch [20/44], Loss: 0.3945, Domain Loss: 0.5512, Class Loss: 0.2377, LR: 0.001000\n",
      "Epoch [50], Batch [40/44], Loss: 0.3927, Domain Loss: 0.6006, Class Loss: 0.1847, LR: 0.001000\n",
      "Train set: Epoch: 50, Avg loss: 0.3796, Domain Loss: 0.5684, Class Loss: 0.1907, Domain Acc: 77.64%, Class Acc: 93.85%, Domain mAP: 0.7861, Class mAP: 0.9814, Time: 68.68s\n",
      "Test set: Epoch: 50, Avg loss: 0.7681, Domain Loss: 0.6355, Class Loss: 0.9008, Domain Acc: 75.04%, Class Acc: 79.21%, Domain mAP: 0.8003, Class mAP: 0.8579, Time: 23.09s\n",
      "\n",
      "새로운 최고 Domain mAP: 0.8003\n",
      "체크포인트가 checkpoints/ResNet50_MultiTask_layer2 Extraction - Style, all - Category_checkpoint.pth에 저장되었습니다.\n",
      "EarlyStopping 카운터: 3 / 30\n"
     ]
    },
    {
     "name": "stderr",
     "output_type": "stream",
     "text": [
      " 17%|███████████████                                                                           | 50/300 [1:18:48<6:28:24, 93.22s/it]"
     ]
    },
    {
     "name": "stdout",
     "output_type": "stream",
     "text": [
      "체크포인트가 checkpoints/latest_checkpoint.pth에 저장되었습니다.\n",
      "Epoch [51], Batch [20/44], Loss: 0.4267, Domain Loss: 0.6601, Class Loss: 0.1932, LR: 0.001000\n",
      "Epoch [51], Batch [40/44], Loss: 0.3725, Domain Loss: 0.5731, Class Loss: 0.1720, LR: 0.001000\n",
      "Train set: Epoch: 51, Avg loss: 0.3771, Domain Loss: 0.5619, Class Loss: 0.1923, Domain Acc: 77.90%, Class Acc: 93.83%, Domain mAP: 0.7882, Class mAP: 0.9808, Time: 69.29s\n",
      "Test set: Epoch: 51, Avg loss: 0.7905, Domain Loss: 0.6750, Class Loss: 0.9061, Domain Acc: 73.17%, Class Acc: 79.33%, Domain mAP: 0.7984, Class mAP: 0.8581, Time: 25.05s\n",
      "\n",
      "EarlyStopping 카운터: 4 / 30\n"
     ]
    },
    {
     "name": "stderr",
     "output_type": "stream",
     "text": [
      " 17%|███████████████▎                                                                          | 51/300 [1:20:23<6:28:39, 93.65s/it]"
     ]
    },
    {
     "name": "stdout",
     "output_type": "stream",
     "text": [
      "체크포인트가 checkpoints/latest_checkpoint.pth에 저장되었습니다.\n",
      "Epoch [52], Batch [20/44], Loss: 0.3589, Domain Loss: 0.5430, Class Loss: 0.1748, LR: 0.001000\n",
      "Epoch [52], Batch [40/44], Loss: 0.3642, Domain Loss: 0.5112, Class Loss: 0.2172, LR: 0.001000\n",
      "Train set: Epoch: 52, Avg loss: 0.3752, Domain Loss: 0.5701, Class Loss: 0.1802, Domain Acc: 77.55%, Class Acc: 94.31%, Domain mAP: 0.7819, Class mAP: 0.9830, Time: 67.18s\n",
      "Test set: Epoch: 52, Avg loss: 0.7763, Domain Loss: 0.6390, Class Loss: 0.9137, Domain Acc: 74.88%, Class Acc: 79.18%, Domain mAP: 0.8008, Class mAP: 0.8585, Time: 24.11s\n",
      "\n",
      "새로운 최고 Domain mAP: 0.8008\n",
      "EarlyStopping 카운터: 5 / 30\n"
     ]
    },
    {
     "name": "stderr",
     "output_type": "stream",
     "text": [
      " 17%|███████████████▌                                                                          | 52/300 [1:21:55<6:24:55, 93.13s/it]"
     ]
    },
    {
     "name": "stdout",
     "output_type": "stream",
     "text": [
      "체크포인트가 checkpoints/latest_checkpoint.pth에 저장되었습니다.\n",
      "Epoch [53], Batch [20/44], Loss: 0.3285, Domain Loss: 0.5049, Class Loss: 0.1522, LR: 0.001000\n",
      "Epoch [53], Batch [40/44], Loss: 0.4125, Domain Loss: 0.6125, Class Loss: 0.2124, LR: 0.001000\n",
      "Train set: Epoch: 53, Avg loss: 0.3690, Domain Loss: 0.5667, Class Loss: 0.1712, Domain Acc: 77.88%, Class Acc: 94.38%, Domain mAP: 0.7858, Class mAP: 0.9841, Time: 67.86s\n",
      "Test set: Epoch: 53, Avg loss: 0.7854, Domain Loss: 0.6541, Class Loss: 0.9166, Domain Acc: 73.51%, Class Acc: 78.77%, Domain mAP: 0.8007, Class mAP: 0.8577, Time: 23.75s\n",
      "\n",
      "EarlyStopping 카운터: 6 / 30\n"
     ]
    },
    {
     "name": "stderr",
     "output_type": "stream",
     "text": [
      " 18%|███████████████▉                                                                          | 53/300 [1:23:27<6:21:54, 92.77s/it]"
     ]
    },
    {
     "name": "stdout",
     "output_type": "stream",
     "text": [
      "체크포인트가 checkpoints/latest_checkpoint.pth에 저장되었습니다.\n",
      "Epoch [54], Batch [20/44], Loss: 0.4005, Domain Loss: 0.6729, Class Loss: 0.1280, LR: 0.001000\n",
      "Epoch [54], Batch [40/44], Loss: 0.3508, Domain Loss: 0.4980, Class Loss: 0.2037, LR: 0.001000\n",
      "Train set: Epoch: 54, Avg loss: 0.3661, Domain Loss: 0.5592, Class Loss: 0.1730, Domain Acc: 78.11%, Class Acc: 94.42%, Domain mAP: 0.7918, Class mAP: 0.9836, Time: 70.96s\n",
      "Test set: Epoch: 54, Avg loss: 0.7872, Domain Loss: 0.6483, Class Loss: 0.9261, Domain Acc: 74.20%, Class Acc: 78.77%, Domain mAP: 0.8022, Class mAP: 0.8567, Time: 24.00s\n",
      "\n",
      "새로운 최고 Domain mAP: 0.8022\n",
      "EarlyStopping 카운터: 7 / 30\n"
     ]
    },
    {
     "name": "stderr",
     "output_type": "stream",
     "text": [
      " 18%|████████████████▏                                                                         | 54/300 [1:25:02<6:23:47, 93.61s/it]"
     ]
    },
    {
     "name": "stdout",
     "output_type": "stream",
     "text": [
      "체크포인트가 checkpoints/latest_checkpoint.pth에 저장되었습니다.\n",
      "Epoch [55], Batch [20/44], Loss: 0.3996, Domain Loss: 0.5651, Class Loss: 0.2341, LR: 0.001000\n",
      "Epoch [55], Batch [40/44], Loss: 0.4220, Domain Loss: 0.6673, Class Loss: 0.1768, LR: 0.001000\n",
      "Train set: Epoch: 55, Avg loss: 0.3758, Domain Loss: 0.5763, Class Loss: 0.1754, Domain Acc: 77.66%, Class Acc: 94.37%, Domain mAP: 0.7865, Class mAP: 0.9842, Time: 68.40s\n",
      "Test set: Epoch: 55, Avg loss: 0.7908, Domain Loss: 0.6524, Class Loss: 0.9292, Domain Acc: 73.05%, Class Acc: 78.84%, Domain mAP: 0.8013, Class mAP: 0.8565, Time: 24.41s\n",
      "\n",
      "체크포인트가 checkpoints/ResNet50_MultiTask_layer2 Extraction - Style, all - Category_checkpoint.pth에 저장되었습니다.\n",
      "EarlyStopping 카운터: 8 / 30\n"
     ]
    },
    {
     "name": "stderr",
     "output_type": "stream",
     "text": [
      " 18%|████████████████▌                                                                         | 55/300 [1:26:36<6:22:05, 93.57s/it]"
     ]
    },
    {
     "name": "stdout",
     "output_type": "stream",
     "text": [
      "체크포인트가 checkpoints/latest_checkpoint.pth에 저장되었습니다.\n",
      "Epoch [56], Batch [20/44], Loss: 0.3790, Domain Loss: 0.5568, Class Loss: 0.2012, LR: 0.001000\n",
      "Epoch [56], Batch [40/44], Loss: 0.3931, Domain Loss: 0.6177, Class Loss: 0.1685, LR: 0.001000\n",
      "Train set: Epoch: 56, Avg loss: 0.3673, Domain Loss: 0.5645, Class Loss: 0.1701, Domain Acc: 77.73%, Class Acc: 94.43%, Domain mAP: 0.7912, Class mAP: 0.9855, Time: 71.87s\n",
      "Test set: Epoch: 56, Avg loss: 0.7665, Domain Loss: 0.6221, Class Loss: 0.9109, Domain Acc: 75.47%, Class Acc: 79.52%, Domain mAP: 0.8056, Class mAP: 0.8599, Time: 24.02s\n",
      "\n",
      "새로운 최고 Class mAP: 0.8599, Domain mAP: 0.8056\n",
      "새로운 최고 Domain mAP: 0.8056\n",
      "Accuracy improved (0.86% --> 0.86%). Saving model ...\n"
     ]
    },
    {
     "name": "stderr",
     "output_type": "stream",
     "text": [
      " 19%|████████████████▊                                                                         | 56/300 [1:28:13<6:24:49, 94.63s/it]"
     ]
    },
    {
     "name": "stdout",
     "output_type": "stream",
     "text": [
      "체크포인트가 checkpoints/latest_checkpoint.pth에 저장되었습니다.\n",
      "Epoch [57], Batch [20/44], Loss: 0.3408, Domain Loss: 0.5374, Class Loss: 0.1442, LR: 0.001000\n",
      "Epoch [57], Batch [40/44], Loss: 0.3858, Domain Loss: 0.5959, Class Loss: 0.1756, LR: 0.001000\n",
      "Train set: Epoch: 57, Avg loss: 0.3625, Domain Loss: 0.5556, Class Loss: 0.1694, Domain Acc: 78.00%, Class Acc: 94.29%, Domain mAP: 0.7914, Class mAP: 0.9850, Time: 72.98s\n",
      "Test set: Epoch: 57, Avg loss: 0.7982, Domain Loss: 0.6295, Class Loss: 0.9670, Domain Acc: 75.57%, Class Acc: 78.31%, Domain mAP: 0.8049, Class mAP: 0.8547, Time: 24.85s\n",
      "\n",
      "EarlyStopping 카운터: 1 / 30\n"
     ]
    },
    {
     "name": "stderr",
     "output_type": "stream",
     "text": [
      " 19%|█████████████████                                                                         | 57/300 [1:29:51<6:27:31, 95.69s/it]"
     ]
    },
    {
     "name": "stdout",
     "output_type": "stream",
     "text": [
      "체크포인트가 checkpoints/latest_checkpoint.pth에 저장되었습니다.\n",
      "Epoch [58], Batch [20/44], Loss: 0.3112, Domain Loss: 0.4547, Class Loss: 0.1677, LR: 0.001000\n",
      "Epoch [58], Batch [40/44], Loss: 0.3612, Domain Loss: 0.5817, Class Loss: 0.1406, LR: 0.001000\n",
      "Train set: Epoch: 58, Avg loss: 0.3678, Domain Loss: 0.5597, Class Loss: 0.1759, Domain Acc: 78.43%, Class Acc: 94.32%, Domain mAP: 0.7937, Class mAP: 0.9836, Time: 70.17s\n",
      "Test set: Epoch: 58, Avg loss: 0.7890, Domain Loss: 0.6390, Class Loss: 0.9390, Domain Acc: 73.70%, Class Acc: 78.87%, Domain mAP: 0.8050, Class mAP: 0.8586, Time: 24.27s\n",
      "\n",
      "EarlyStopping 카운터: 2 / 30\n"
     ]
    },
    {
     "name": "stderr",
     "output_type": "stream",
     "text": [
      " 19%|█████████████████▍                                                                        | 58/300 [1:31:26<6:24:49, 95.41s/it]"
     ]
    },
    {
     "name": "stdout",
     "output_type": "stream",
     "text": [
      "체크포인트가 checkpoints/latest_checkpoint.pth에 저장되었습니다.\n",
      "Epoch [59], Batch [20/44], Loss: 0.3452, Domain Loss: 0.5164, Class Loss: 0.1741, LR: 0.001000\n",
      "Epoch [59], Batch [40/44], Loss: 0.3915, Domain Loss: 0.5713, Class Loss: 0.2118, LR: 0.001000\n",
      "Train set: Epoch: 59, Avg loss: 0.3594, Domain Loss: 0.5494, Class Loss: 0.1695, Domain Acc: 78.17%, Class Acc: 94.38%, Domain mAP: 0.7963, Class mAP: 0.9850, Time: 66.57s\n",
      "Test set: Epoch: 59, Avg loss: 0.8034, Domain Loss: 0.6354, Class Loss: 0.9714, Domain Acc: 74.51%, Class Acc: 78.96%, Domain mAP: 0.8037, Class mAP: 0.8546, Time: 23.21s\n",
      "\n",
      "EarlyStopping 카운터: 3 / 30\n"
     ]
    },
    {
     "name": "stderr",
     "output_type": "stream",
     "text": [
      " 20%|█████████████████▋                                                                        | 59/300 [1:32:56<6:16:50, 93.82s/it]"
     ]
    },
    {
     "name": "stdout",
     "output_type": "stream",
     "text": [
      "체크포인트가 checkpoints/latest_checkpoint.pth에 저장되었습니다.\n",
      "Epoch [60], Batch [20/44], Loss: 0.3605, Domain Loss: 0.5851, Class Loss: 0.1359, LR: 0.001000\n",
      "Epoch [60], Batch [40/44], Loss: 0.3488, Domain Loss: 0.5001, Class Loss: 0.1974, LR: 0.001000\n",
      "Train set: Epoch: 60, Avg loss: 0.3573, Domain Loss: 0.5510, Class Loss: 0.1636, Domain Acc: 78.26%, Class Acc: 94.38%, Domain mAP: 0.7960, Class mAP: 0.9859, Time: 68.96s\n",
      "Test set: Epoch: 60, Avg loss: 0.7921, Domain Loss: 0.6311, Class Loss: 0.9530, Domain Acc: 74.63%, Class Acc: 78.71%, Domain mAP: 0.8082, Class mAP: 0.8564, Time: 24.12s\n",
      "\n",
      "새로운 최고 Domain mAP: 0.8082\n",
      "체크포인트가 checkpoints/ResNet50_MultiTask_layer2 Extraction - Style, all - Category_checkpoint.pth에 저장되었습니다.\n",
      "EarlyStopping 카운터: 4 / 30\n"
     ]
    },
    {
     "name": "stderr",
     "output_type": "stream",
     "text": [
      " 20%|██████████████████                                                                        | 60/300 [1:34:30<6:15:28, 93.87s/it]"
     ]
    },
    {
     "name": "stdout",
     "output_type": "stream",
     "text": [
      "체크포인트가 checkpoints/latest_checkpoint.pth에 저장되었습니다.\n",
      "Epoch [61], Batch [20/44], Loss: 0.3547, Domain Loss: 0.5283, Class Loss: 0.1810, LR: 0.001000\n",
      "Epoch [61], Batch [40/44], Loss: 0.3157, Domain Loss: 0.4596, Class Loss: 0.1718, LR: 0.001000\n",
      "Train set: Epoch: 61, Avg loss: 0.3618, Domain Loss: 0.5494, Class Loss: 0.1742, Domain Acc: 78.69%, Class Acc: 94.37%, Domain mAP: 0.7944, Class mAP: 0.9830, Time: 68.07s\n",
      "Test set: Epoch: 61, Avg loss: 0.7818, Domain Loss: 0.6221, Class Loss: 0.9414, Domain Acc: 75.69%, Class Acc: 79.33%, Domain mAP: 0.8090, Class mAP: 0.8553, Time: 24.00s\n",
      "\n",
      "새로운 최고 Domain mAP: 0.8090\n",
      "EarlyStopping 카운터: 5 / 30\n"
     ]
    },
    {
     "name": "stderr",
     "output_type": "stream",
     "text": [
      " 20%|██████████████████▎                                                                       | 61/300 [1:36:02<6:12:25, 93.50s/it]"
     ]
    },
    {
     "name": "stdout",
     "output_type": "stream",
     "text": [
      "체크포인트가 checkpoints/latest_checkpoint.pth에 저장되었습니다.\n",
      "Epoch [62], Batch [20/44], Loss: 0.3598, Domain Loss: 0.5384, Class Loss: 0.1811, LR: 0.001000\n",
      "Epoch [62], Batch [40/44], Loss: 0.3699, Domain Loss: 0.5677, Class Loss: 0.1721, LR: 0.001000\n",
      "Train set: Epoch: 62, Avg loss: 0.3536, Domain Loss: 0.5457, Class Loss: 0.1615, Domain Acc: 78.95%, Class Acc: 94.82%, Domain mAP: 0.8010, Class mAP: 0.9854, Time: 68.09s\n",
      "Test set: Epoch: 62, Avg loss: 0.7878, Domain Loss: 0.6324, Class Loss: 0.9433, Domain Acc: 74.95%, Class Acc: 79.15%, Domain mAP: 0.8080, Class mAP: 0.8569, Time: 24.08s\n",
      "\n",
      "EarlyStopping 카운터: 6 / 30\n"
     ]
    },
    {
     "name": "stderr",
     "output_type": "stream",
     "text": [
      " 21%|██████████████████▌                                                                       | 62/300 [1:37:35<6:09:42, 93.20s/it]"
     ]
    },
    {
     "name": "stdout",
     "output_type": "stream",
     "text": [
      "체크포인트가 checkpoints/latest_checkpoint.pth에 저장되었습니다.\n",
      "Epoch [63], Batch [20/44], Loss: 0.2989, Domain Loss: 0.5214, Class Loss: 0.0763, LR: 0.000100\n",
      "Epoch [63], Batch [40/44], Loss: 0.2965, Domain Loss: 0.4602, Class Loss: 0.1328, LR: 0.000100\n",
      "Train set: Epoch: 63, Avg loss: 0.3357, Domain Loss: 0.5428, Class Loss: 0.1286, Domain Acc: 78.96%, Class Acc: 96.20%, Domain mAP: 0.8021, Class mAP: 0.9912, Time: 66.93s\n",
      "Test set: Epoch: 63, Avg loss: 0.7809, Domain Loss: 0.6207, Class Loss: 0.9411, Domain Acc: 75.47%, Class Acc: 79.49%, Domain mAP: 0.8096, Class mAP: 0.8583, Time: 23.18s\n",
      "\n",
      "새로운 최고 Domain mAP: 0.8096\n",
      "EarlyStopping 카운터: 7 / 30\n"
     ]
    },
    {
     "name": "stderr",
     "output_type": "stream",
     "text": [
      " 21%|██████████████████▉                                                                       | 63/300 [1:39:06<6:05:13, 92.46s/it]"
     ]
    },
    {
     "name": "stdout",
     "output_type": "stream",
     "text": [
      "체크포인트가 checkpoints/latest_checkpoint.pth에 저장되었습니다.\n",
      "Epoch [64], Batch [20/44], Loss: 0.2716, Domain Loss: 0.4017, Class Loss: 0.1416, LR: 0.000100\n",
      "Epoch [64], Batch [40/44], Loss: 0.3090, Domain Loss: 0.5070, Class Loss: 0.1110, LR: 0.000100\n",
      "Train set: Epoch: 64, Avg loss: 0.3219, Domain Loss: 0.5366, Class Loss: 0.1071, Domain Acc: 79.09%, Class Acc: 96.63%, Domain mAP: 0.8058, Class mAP: 0.9931, Time: 69.52s\n",
      "Test set: Epoch: 64, Avg loss: 0.7794, Domain Loss: 0.6169, Class Loss: 0.9420, Domain Acc: 75.63%, Class Acc: 80.30%, Domain mAP: 0.8107, Class mAP: 0.8594, Time: 23.65s\n",
      "\n",
      "새로운 최고 Domain mAP: 0.8107\n",
      "EarlyStopping 카운터: 8 / 30\n"
     ]
    },
    {
     "name": "stderr",
     "output_type": "stream",
     "text": [
      " 21%|███████████████████▏                                                                      | 64/300 [1:40:39<6:05:12, 92.85s/it]"
     ]
    },
    {
     "name": "stdout",
     "output_type": "stream",
     "text": [
      "체크포인트가 checkpoints/latest_checkpoint.pth에 저장되었습니다.\n",
      "Epoch [65], Batch [20/44], Loss: 0.3448, Domain Loss: 0.5570, Class Loss: 0.1326, LR: 0.000100\n",
      "Epoch [65], Batch [40/44], Loss: 0.3280, Domain Loss: 0.5782, Class Loss: 0.0779, LR: 0.000100\n",
      "Train set: Epoch: 65, Avg loss: 0.3161, Domain Loss: 0.5271, Class Loss: 0.1051, Domain Acc: 79.59%, Class Acc: 96.73%, Domain mAP: 0.8088, Class mAP: 0.9930, Time: 72.26s\n",
      "Test set: Epoch: 65, Avg loss: 0.7808, Domain Loss: 0.6216, Class Loss: 0.9400, Domain Acc: 75.66%, Class Acc: 79.93%, Domain mAP: 0.8096, Class mAP: 0.8602, Time: 24.09s\n",
      "\n",
      "새로운 최고 Class mAP: 0.8602, Domain mAP: 0.8096\n",
      "체크포인트가 checkpoints/ResNet50_MultiTask_layer2 Extraction - Style, all - Category_checkpoint.pth에 저장되었습니다.\n",
      "Accuracy improved (0.86% --> 0.86%). Saving model ...\n"
     ]
    },
    {
     "name": "stderr",
     "output_type": "stream",
     "text": [
      " 22%|███████████████████▌                                                                      | 65/300 [1:42:17<6:09:08, 94.25s/it]"
     ]
    },
    {
     "name": "stdout",
     "output_type": "stream",
     "text": [
      "체크포인트가 checkpoints/latest_checkpoint.pth에 저장되었습니다.\n",
      "Epoch [66], Batch [20/44], Loss: 0.3276, Domain Loss: 0.5876, Class Loss: 0.0676, LR: 0.000100\n",
      "Epoch [66], Batch [40/44], Loss: 0.3202, Domain Loss: 0.5625, Class Loss: 0.0778, LR: 0.000100\n",
      "Train set: Epoch: 66, Avg loss: 0.3155, Domain Loss: 0.5336, Class Loss: 0.0973, Domain Acc: 79.57%, Class Acc: 97.17%, Domain mAP: 0.8075, Class mAP: 0.9948, Time: 71.77s\n",
      "Test set: Epoch: 66, Avg loss: 0.7829, Domain Loss: 0.6187, Class Loss: 0.9471, Domain Acc: 75.51%, Class Acc: 79.99%, Domain mAP: 0.8102, Class mAP: 0.8608, Time: 23.79s\n",
      "\n",
      "새로운 최고 Class mAP: 0.8608, Domain mAP: 0.8102\n",
      "Accuracy improved (0.86% --> 0.86%). Saving model ...\n"
     ]
    },
    {
     "name": "stderr",
     "output_type": "stream",
     "text": [
      " 22%|███████████████████▊                                                                      | 66/300 [1:43:54<6:10:19, 94.95s/it]"
     ]
    },
    {
     "name": "stdout",
     "output_type": "stream",
     "text": [
      "체크포인트가 checkpoints/latest_checkpoint.pth에 저장되었습니다.\n",
      "Epoch [67], Batch [20/44], Loss: 0.2655, Domain Loss: 0.4528, Class Loss: 0.0781, LR: 0.000100\n",
      "Epoch [67], Batch [40/44], Loss: 0.2990, Domain Loss: 0.5217, Class Loss: 0.0763, LR: 0.000100\n",
      "Train set: Epoch: 67, Avg loss: 0.3157, Domain Loss: 0.5331, Class Loss: 0.0983, Domain Acc: 79.32%, Class Acc: 97.00%, Domain mAP: 0.8075, Class mAP: 0.9945, Time: 70.80s\n",
      "Test set: Epoch: 67, Avg loss: 0.7843, Domain Loss: 0.6174, Class Loss: 0.9511, Domain Acc: 75.79%, Class Acc: 79.83%, Domain mAP: 0.8103, Class mAP: 0.8595, Time: 23.27s\n",
      "\n",
      "EarlyStopping 카운터: 1 / 30\n"
     ]
    },
    {
     "name": "stderr",
     "output_type": "stream",
     "text": [
      " 22%|████████████████████                                                                      | 67/300 [1:45:28<6:08:06, 94.79s/it]"
     ]
    },
    {
     "name": "stdout",
     "output_type": "stream",
     "text": [
      "체크포인트가 checkpoints/latest_checkpoint.pth에 저장되었습니다.\n",
      "Epoch [68], Batch [20/44], Loss: 0.3456, Domain Loss: 0.6111, Class Loss: 0.0801, LR: 0.000100\n",
      "Epoch [68], Batch [40/44], Loss: 0.3064, Domain Loss: 0.4829, Class Loss: 0.1298, LR: 0.000100\n",
      "Train set: Epoch: 68, Avg loss: 0.3131, Domain Loss: 0.5281, Class Loss: 0.0980, Domain Acc: 79.74%, Class Acc: 96.87%, Domain mAP: 0.8095, Class mAP: 0.9945, Time: 67.39s\n",
      "Test set: Epoch: 68, Avg loss: 0.7874, Domain Loss: 0.6308, Class Loss: 0.9440, Domain Acc: 75.72%, Class Acc: 79.71%, Domain mAP: 0.8084, Class mAP: 0.8611, Time: 23.11s\n",
      "\n",
      "새로운 최고 Class mAP: 0.8611, Domain mAP: 0.8084\n",
      "Accuracy improved (0.86% --> 0.86%). Saving model ...\n"
     ]
    },
    {
     "name": "stderr",
     "output_type": "stream",
     "text": [
      " 23%|████████████████████▍                                                                     | 68/300 [1:46:59<6:02:38, 93.79s/it]"
     ]
    },
    {
     "name": "stdout",
     "output_type": "stream",
     "text": [
      "체크포인트가 checkpoints/latest_checkpoint.pth에 저장되었습니다.\n",
      "Epoch [69], Batch [20/44], Loss: 0.3372, Domain Loss: 0.5921, Class Loss: 0.0822, LR: 0.000100\n",
      "Epoch [69], Batch [40/44], Loss: 0.3342, Domain Loss: 0.5662, Class Loss: 0.1021, LR: 0.000100\n",
      "Train set: Epoch: 69, Avg loss: 0.3140, Domain Loss: 0.5307, Class Loss: 0.0972, Domain Acc: 79.61%, Class Acc: 96.91%, Domain mAP: 0.8105, Class mAP: 0.9945, Time: 69.06s\n",
      "Test set: Epoch: 69, Avg loss: 0.7827, Domain Loss: 0.6190, Class Loss: 0.9464, Domain Acc: 75.79%, Class Acc: 79.77%, Domain mAP: 0.8096, Class mAP: 0.8612, Time: 23.79s\n",
      "\n",
      "새로운 최고 Class mAP: 0.8612, Domain mAP: 0.8096\n",
      "Accuracy improved (0.86% --> 0.86%). Saving model ...\n"
     ]
    },
    {
     "name": "stderr",
     "output_type": "stream",
     "text": [
      " 23%|████████████████████▋                                                                     | 69/300 [1:48:33<6:01:05, 93.79s/it]"
     ]
    },
    {
     "name": "stdout",
     "output_type": "stream",
     "text": [
      "체크포인트가 checkpoints/latest_checkpoint.pth에 저장되었습니다.\n",
      "Epoch [70], Batch [20/44], Loss: 0.3092, Domain Loss: 0.5134, Class Loss: 0.1049, LR: 0.000100\n",
      "Epoch [70], Batch [40/44], Loss: 0.2881, Domain Loss: 0.4955, Class Loss: 0.0808, LR: 0.000100\n",
      "Train set: Epoch: 70, Avg loss: 0.3132, Domain Loss: 0.5295, Class Loss: 0.0970, Domain Acc: 79.27%, Class Acc: 96.80%, Domain mAP: 0.8063, Class mAP: 0.9948, Time: 69.38s\n",
      "Test set: Epoch: 70, Avg loss: 0.7846, Domain Loss: 0.6241, Class Loss: 0.9450, Domain Acc: 75.26%, Class Acc: 79.83%, Domain mAP: 0.8106, Class mAP: 0.8611, Time: 23.74s\n",
      "\n",
      "체크포인트가 checkpoints/ResNet50_MultiTask_layer2 Extraction - Style, all - Category_checkpoint.pth에 저장되었습니다.\n",
      "EarlyStopping 카운터: 1 / 30\n"
     ]
    },
    {
     "name": "stderr",
     "output_type": "stream",
     "text": [
      " 23%|█████████████████████                                                                     | 70/300 [1:50:07<5:59:34, 93.80s/it]"
     ]
    },
    {
     "name": "stdout",
     "output_type": "stream",
     "text": [
      "체크포인트가 checkpoints/latest_checkpoint.pth에 저장되었습니다.\n",
      "Epoch [71], Batch [20/44], Loss: 0.2905, Domain Loss: 0.5118, Class Loss: 0.0692, LR: 0.000100\n",
      "Epoch [71], Batch [40/44], Loss: 0.2737, Domain Loss: 0.4756, Class Loss: 0.0717, LR: 0.000100\n",
      "Train set: Epoch: 71, Avg loss: 0.3110, Domain Loss: 0.5277, Class Loss: 0.0943, Domain Acc: 79.46%, Class Acc: 97.25%, Domain mAP: 0.8102, Class mAP: 0.9952, Time: 68.06s\n",
      "Test set: Epoch: 71, Avg loss: 0.7861, Domain Loss: 0.6276, Class Loss: 0.9445, Domain Acc: 75.13%, Class Acc: 79.77%, Domain mAP: 0.8096, Class mAP: 0.8614, Time: 24.93s\n",
      "\n",
      "새로운 최고 Class mAP: 0.8614, Domain mAP: 0.8096\n",
      "Accuracy improved (0.86% --> 0.86%). Saving model ...\n"
     ]
    },
    {
     "name": "stderr",
     "output_type": "stream",
     "text": [
      " 24%|█████████████████████▎                                                                    | 71/300 [1:51:41<5:58:06, 93.83s/it]"
     ]
    },
    {
     "name": "stdout",
     "output_type": "stream",
     "text": [
      "체크포인트가 checkpoints/latest_checkpoint.pth에 저장되었습니다.\n",
      "Epoch [72], Batch [20/44], Loss: 0.2956, Domain Loss: 0.5131, Class Loss: 0.0781, LR: 0.000100\n",
      "Epoch [72], Batch [40/44], Loss: 0.3158, Domain Loss: 0.5585, Class Loss: 0.0732, LR: 0.000100\n",
      "Train set: Epoch: 72, Avg loss: 0.3080, Domain Loss: 0.5285, Class Loss: 0.0875, Domain Acc: 79.62%, Class Acc: 97.44%, Domain mAP: 0.8089, Class mAP: 0.9959, Time: 72.09s\n",
      "Test set: Epoch: 72, Avg loss: 0.7867, Domain Loss: 0.6194, Class Loss: 0.9539, Domain Acc: 75.44%, Class Acc: 79.61%, Domain mAP: 0.8102, Class mAP: 0.8616, Time: 24.25s\n",
      "\n",
      "새로운 최고 Class mAP: 0.8616, Domain mAP: 0.8102\n",
      "Accuracy improved (0.86% --> 0.86%). Saving model ...\n"
     ]
    },
    {
     "name": "stderr",
     "output_type": "stream",
     "text": [
      " 24%|█████████████████████▌                                                                    | 72/300 [1:53:18<6:00:29, 94.87s/it]"
     ]
    },
    {
     "name": "stdout",
     "output_type": "stream",
     "text": [
      "체크포인트가 checkpoints/latest_checkpoint.pth에 저장되었습니다.\n",
      "Epoch [73], Batch [20/44], Loss: 0.2860, Domain Loss: 0.4857, Class Loss: 0.0863, LR: 0.000100\n",
      "Epoch [73], Batch [40/44], Loss: 0.2854, Domain Loss: 0.5103, Class Loss: 0.0605, LR: 0.000100\n",
      "Train set: Epoch: 73, Avg loss: 0.3110, Domain Loss: 0.5312, Class Loss: 0.0908, Domain Acc: 79.49%, Class Acc: 97.36%, Domain mAP: 0.8101, Class mAP: 0.9952, Time: 67.71s\n",
      "Test set: Epoch: 73, Avg loss: 0.7889, Domain Loss: 0.6235, Class Loss: 0.9542, Domain Acc: 75.54%, Class Acc: 79.89%, Domain mAP: 0.8101, Class mAP: 0.8610, Time: 23.06s\n",
      "\n",
      "EarlyStopping 카운터: 1 / 30\n"
     ]
    },
    {
     "name": "stderr",
     "output_type": "stream",
     "text": [
      " 24%|█████████████████████▉                                                                    | 73/300 [1:54:49<5:54:39, 93.74s/it]"
     ]
    },
    {
     "name": "stdout",
     "output_type": "stream",
     "text": [
      "체크포인트가 checkpoints/latest_checkpoint.pth에 저장되었습니다.\n",
      "Epoch [74], Batch [20/44], Loss: 0.2691, Domain Loss: 0.4819, Class Loss: 0.0563, LR: 0.000100\n",
      "Epoch [74], Batch [40/44], Loss: 0.3330, Domain Loss: 0.5777, Class Loss: 0.0883, LR: 0.000100\n",
      "Train set: Epoch: 74, Avg loss: 0.3062, Domain Loss: 0.5246, Class Loss: 0.0878, Domain Acc: 79.52%, Class Acc: 97.40%, Domain mAP: 0.8119, Class mAP: 0.9958, Time: 67.81s\n",
      "Test set: Epoch: 74, Avg loss: 0.7908, Domain Loss: 0.6237, Class Loss: 0.9578, Domain Acc: 75.32%, Class Acc: 80.11%, Domain mAP: 0.8103, Class mAP: 0.8618, Time: 24.47s\n",
      "\n",
      "새로운 최고 Class mAP: 0.8618, Domain mAP: 0.8103\n",
      "Accuracy improved (0.86% --> 0.86%). Saving model ...\n"
     ]
    },
    {
     "name": "stderr",
     "output_type": "stream",
     "text": [
      " 25%|██████████████████████▏                                                                   | 74/300 [1:56:23<5:52:24, 93.56s/it]"
     ]
    },
    {
     "name": "stdout",
     "output_type": "stream",
     "text": [
      "체크포인트가 checkpoints/latest_checkpoint.pth에 저장되었습니다.\n",
      "Epoch [75], Batch [20/44], Loss: 0.2808, Domain Loss: 0.4868, Class Loss: 0.0747, LR: 0.000100\n",
      "Epoch [75], Batch [40/44], Loss: 0.3382, Domain Loss: 0.5887, Class Loss: 0.0877, LR: 0.000100\n",
      "Train set: Epoch: 75, Avg loss: 0.3111, Domain Loss: 0.5336, Class Loss: 0.0885, Domain Acc: 79.38%, Class Acc: 97.25%, Domain mAP: 0.8075, Class mAP: 0.9958, Time: 71.35s\n",
      "Test set: Epoch: 75, Avg loss: 0.7921, Domain Loss: 0.6200, Class Loss: 0.9641, Domain Acc: 75.79%, Class Acc: 79.89%, Domain mAP: 0.8109, Class mAP: 0.8607, Time: 24.13s\n",
      "\n",
      "새로운 최고 Domain mAP: 0.8109\n",
      "체크포인트가 checkpoints/ResNet50_MultiTask_layer2 Extraction - Style, all - Category_checkpoint.pth에 저장되었습니다.\n",
      "EarlyStopping 카운터: 1 / 30\n"
     ]
    },
    {
     "name": "stderr",
     "output_type": "stream",
     "text": [
      " 25%|██████████████████████▌                                                                   | 75/300 [1:57:59<5:54:02, 94.41s/it]"
     ]
    },
    {
     "name": "stdout",
     "output_type": "stream",
     "text": [
      "체크포인트가 checkpoints/latest_checkpoint.pth에 저장되었습니다.\n",
      "Epoch [76], Batch [20/44], Loss: 0.3379, Domain Loss: 0.5451, Class Loss: 0.1308, LR: 0.000100\n",
      "Epoch [76], Batch [40/44], Loss: 0.2709, Domain Loss: 0.4586, Class Loss: 0.0833, LR: 0.000100\n",
      "Train set: Epoch: 76, Avg loss: 0.3091, Domain Loss: 0.5272, Class Loss: 0.0911, Domain Acc: 79.57%, Class Acc: 97.26%, Domain mAP: 0.8092, Class mAP: 0.9954, Time: 69.77s\n",
      "Test set: Epoch: 76, Avg loss: 0.7860, Domain Loss: 0.6193, Class Loss: 0.9527, Domain Acc: 75.72%, Class Acc: 80.17%, Domain mAP: 0.8103, Class mAP: 0.8619, Time: 23.24s\n",
      "\n",
      "새로운 최고 Class mAP: 0.8619, Domain mAP: 0.8103\n",
      "Accuracy improved (0.86% --> 0.86%). Saving model ...\n"
     ]
    },
    {
     "name": "stderr",
     "output_type": "stream",
     "text": [
      " 25%|██████████████████████▊                                                                   | 76/300 [1:59:33<5:51:58, 94.28s/it]"
     ]
    },
    {
     "name": "stdout",
     "output_type": "stream",
     "text": [
      "체크포인트가 checkpoints/latest_checkpoint.pth에 저장되었습니다.\n",
      "Epoch [77], Batch [20/44], Loss: 0.3195, Domain Loss: 0.5374, Class Loss: 0.1017, LR: 0.000100\n",
      "Epoch [77], Batch [40/44], Loss: 0.3035, Domain Loss: 0.5397, Class Loss: 0.0673, LR: 0.000100\n",
      "Train set: Epoch: 77, Avg loss: 0.3115, Domain Loss: 0.5315, Class Loss: 0.0914, Domain Acc: 79.18%, Class Acc: 97.19%, Domain mAP: 0.8079, Class mAP: 0.9954, Time: 70.38s\n",
      "Test set: Epoch: 77, Avg loss: 0.7913, Domain Loss: 0.6229, Class Loss: 0.9598, Domain Acc: 75.29%, Class Acc: 79.58%, Domain mAP: 0.8108, Class mAP: 0.8606, Time: 23.04s\n",
      "\n",
      "EarlyStopping 카운터: 1 / 30\n"
     ]
    },
    {
     "name": "stderr",
     "output_type": "stream",
     "text": [
      " 26%|███████████████████████                                                                   | 77/300 [2:01:07<5:49:53, 94.14s/it]"
     ]
    },
    {
     "name": "stdout",
     "output_type": "stream",
     "text": [
      "체크포인트가 checkpoints/latest_checkpoint.pth에 저장되었습니다.\n",
      "Epoch [78], Batch [20/44], Loss: 0.3115, Domain Loss: 0.5456, Class Loss: 0.0774, LR: 0.000100\n",
      "Epoch [78], Batch [40/44], Loss: 0.3192, Domain Loss: 0.5427, Class Loss: 0.0958, LR: 0.000100\n",
      "Train set: Epoch: 78, Avg loss: 0.3060, Domain Loss: 0.5257, Class Loss: 0.0864, Domain Acc: 79.32%, Class Acc: 97.41%, Domain mAP: 0.8114, Class mAP: 0.9959, Time: 70.58s\n",
      "Test set: Epoch: 78, Avg loss: 0.7891, Domain Loss: 0.6266, Class Loss: 0.9515, Domain Acc: 75.01%, Class Acc: 80.14%, Domain mAP: 0.8109, Class mAP: 0.8615, Time: 22.81s\n",
      "\n",
      "새로운 최고 Domain mAP: 0.8109\n",
      "EarlyStopping 카운터: 2 / 30\n"
     ]
    },
    {
     "name": "stderr",
     "output_type": "stream",
     "text": [
      " 26%|███████████████████████▍                                                                  | 78/300 [2:02:41<5:48:10, 94.10s/it]"
     ]
    },
    {
     "name": "stdout",
     "output_type": "stream",
     "text": [
      "체크포인트가 checkpoints/latest_checkpoint.pth에 저장되었습니다.\n",
      "Epoch [79], Batch [20/44], Loss: 0.2753, Domain Loss: 0.4588, Class Loss: 0.0919, LR: 0.000100\n",
      "Epoch [79], Batch [40/44], Loss: 0.2929, Domain Loss: 0.4712, Class Loss: 0.1145, LR: 0.000100\n",
      "Train set: Epoch: 79, Avg loss: 0.3055, Domain Loss: 0.5243, Class Loss: 0.0867, Domain Acc: 79.47%, Class Acc: 97.46%, Domain mAP: 0.8117, Class mAP: 0.9959, Time: 67.15s\n",
      "Test set: Epoch: 79, Avg loss: 0.7874, Domain Loss: 0.6191, Class Loss: 0.9558, Domain Acc: 75.57%, Class Acc: 79.89%, Domain mAP: 0.8115, Class mAP: 0.8621, Time: 25.17s\n",
      "\n",
      "새로운 최고 Class mAP: 0.8621, Domain mAP: 0.8115\n",
      "새로운 최고 Domain mAP: 0.8115\n",
      "Accuracy improved (0.86% --> 0.86%). Saving model ...\n"
     ]
    },
    {
     "name": "stderr",
     "output_type": "stream",
     "text": [
      " 26%|███████████████████████▋                                                                  | 79/300 [2:04:14<5:46:00, 93.94s/it]"
     ]
    },
    {
     "name": "stdout",
     "output_type": "stream",
     "text": [
      "체크포인트가 checkpoints/latest_checkpoint.pth에 저장되었습니다.\n",
      "Epoch [80], Batch [20/44], Loss: 0.3545, Domain Loss: 0.5717, Class Loss: 0.1373, LR: 0.000100\n",
      "Epoch [80], Batch [40/44], Loss: 0.2790, Domain Loss: 0.5139, Class Loss: 0.0440, LR: 0.000100\n",
      "Train set: Epoch: 80, Avg loss: 0.3077, Domain Loss: 0.5255, Class Loss: 0.0898, Domain Acc: 79.77%, Class Acc: 97.28%, Domain mAP: 0.8106, Class mAP: 0.9955, Time: 68.93s\n",
      "Test set: Epoch: 80, Avg loss: 0.7836, Domain Loss: 0.6246, Class Loss: 0.9427, Domain Acc: 75.60%, Class Acc: 80.27%, Domain mAP: 0.8103, Class mAP: 0.8637, Time: 22.89s\n",
      "\n",
      "새로운 최고 Class mAP: 0.8637, Domain mAP: 0.8103\n",
      "체크포인트가 checkpoints/ResNet50_MultiTask_layer2 Extraction - Style, all - Category_checkpoint.pth에 저장되었습니다.\n",
      "Accuracy improved (0.86% --> 0.86%). Saving model ...\n"
     ]
    },
    {
     "name": "stderr",
     "output_type": "stream",
     "text": [
      " 27%|████████████████████████                                                                  | 80/300 [2:05:47<5:43:17, 93.62s/it]"
     ]
    },
    {
     "name": "stdout",
     "output_type": "stream",
     "text": [
      "체크포인트가 checkpoints/latest_checkpoint.pth에 저장되었습니다.\n",
      "Epoch [81], Batch [20/44], Loss: 0.3295, Domain Loss: 0.5718, Class Loss: 0.0873, LR: 0.000100\n",
      "Epoch [81], Batch [40/44], Loss: 0.2947, Domain Loss: 0.4786, Class Loss: 0.1109, LR: 0.000100\n",
      "Train set: Epoch: 81, Avg loss: 0.3104, Domain Loss: 0.5300, Class Loss: 0.0908, Domain Acc: 79.37%, Class Acc: 97.38%, Domain mAP: 0.8081, Class mAP: 0.9953, Time: 68.13s\n",
      "Test set: Epoch: 81, Avg loss: 0.7904, Domain Loss: 0.6288, Class Loss: 0.9520, Domain Acc: 75.32%, Class Acc: 79.80%, Domain mAP: 0.8105, Class mAP: 0.8623, Time: 24.45s\n",
      "\n",
      "EarlyStopping 카운터: 1 / 30\n"
     ]
    },
    {
     "name": "stderr",
     "output_type": "stream",
     "text": [
      " 27%|████████████████████████▎                                                                 | 81/300 [2:07:20<5:40:55, 93.40s/it]"
     ]
    },
    {
     "name": "stdout",
     "output_type": "stream",
     "text": [
      "체크포인트가 checkpoints/latest_checkpoint.pth에 저장되었습니다.\n",
      "Epoch [82], Batch [20/44], Loss: 0.2882, Domain Loss: 0.5017, Class Loss: 0.0748, LR: 0.000100\n",
      "Epoch [82], Batch [40/44], Loss: 0.2523, Domain Loss: 0.4601, Class Loss: 0.0445, LR: 0.000100\n",
      "Train set: Epoch: 82, Avg loss: 0.3072, Domain Loss: 0.5300, Class Loss: 0.0843, Domain Acc: 79.50%, Class Acc: 97.46%, Domain mAP: 0.8095, Class mAP: 0.9960, Time: 68.96s\n",
      "Test set: Epoch: 82, Avg loss: 0.7948, Domain Loss: 0.6192, Class Loss: 0.9703, Domain Acc: 75.54%, Class Acc: 79.65%, Domain mAP: 0.8105, Class mAP: 0.8606, Time: 24.35s\n",
      "\n",
      "EarlyStopping 카운터: 2 / 30\n"
     ]
    },
    {
     "name": "stderr",
     "output_type": "stream",
     "text": [
      " 27%|████████████████████████▌                                                                 | 82/300 [2:08:54<5:39:39, 93.49s/it]"
     ]
    },
    {
     "name": "stdout",
     "output_type": "stream",
     "text": [
      "체크포인트가 checkpoints/latest_checkpoint.pth에 저장되었습니다.\n",
      "Epoch [83], Batch [20/44], Loss: 0.3243, Domain Loss: 0.5559, Class Loss: 0.0926, LR: 0.000100\n",
      "Epoch [83], Batch [40/44], Loss: 0.2872, Domain Loss: 0.4863, Class Loss: 0.0881, LR: 0.000100\n",
      "Train set: Epoch: 83, Avg loss: 0.3043, Domain Loss: 0.5222, Class Loss: 0.0864, Domain Acc: 79.65%, Class Acc: 97.26%, Domain mAP: 0.8114, Class mAP: 0.9960, Time: 67.67s\n",
      "Test set: Epoch: 83, Avg loss: 0.7914, Domain Loss: 0.6199, Class Loss: 0.9628, Domain Acc: 75.57%, Class Acc: 79.89%, Domain mAP: 0.8116, Class mAP: 0.8616, Time: 23.18s\n",
      "\n",
      "새로운 최고 Domain mAP: 0.8116\n",
      "EarlyStopping 카운터: 3 / 30\n"
     ]
    },
    {
     "name": "stderr",
     "output_type": "stream",
     "text": [
      " 28%|████████████████████████▉                                                                 | 83/300 [2:10:25<5:35:53, 92.87s/it]"
     ]
    },
    {
     "name": "stdout",
     "output_type": "stream",
     "text": [
      "체크포인트가 checkpoints/latest_checkpoint.pth에 저장되었습니다.\n",
      "Epoch [84], Batch [20/44], Loss: 0.2720, Domain Loss: 0.4509, Class Loss: 0.0930, LR: 0.000100\n",
      "Epoch [84], Batch [40/44], Loss: 0.3433, Domain Loss: 0.6081, Class Loss: 0.0785, LR: 0.000100\n",
      "Train set: Epoch: 84, Avg loss: 0.3066, Domain Loss: 0.5245, Class Loss: 0.0886, Domain Acc: 79.58%, Class Acc: 97.24%, Domain mAP: 0.8122, Class mAP: 0.9954, Time: 68.43s\n",
      "Test set: Epoch: 84, Avg loss: 0.7832, Domain Loss: 0.6126, Class Loss: 0.9539, Domain Acc: 75.85%, Class Acc: 79.89%, Domain mAP: 0.8121, Class mAP: 0.8623, Time: 23.12s\n",
      "\n",
      "새로운 최고 Domain mAP: 0.8121\n",
      "EarlyStopping 카운터: 4 / 30\n"
     ]
    },
    {
     "name": "stderr",
     "output_type": "stream",
     "text": [
      " 28%|█████████████████████████▏                                                                | 84/300 [2:11:57<5:33:38, 92.68s/it]"
     ]
    },
    {
     "name": "stdout",
     "output_type": "stream",
     "text": [
      "체크포인트가 checkpoints/latest_checkpoint.pth에 저장되었습니다.\n",
      "Epoch [85], Batch [20/44], Loss: 0.3269, Domain Loss: 0.5266, Class Loss: 0.1271, LR: 0.000100\n",
      "Epoch [85], Batch [40/44], Loss: 0.3254, Domain Loss: 0.5630, Class Loss: 0.0878, LR: 0.000100\n",
      "Train set: Epoch: 85, Avg loss: 0.3067, Domain Loss: 0.5277, Class Loss: 0.0857, Domain Acc: 79.70%, Class Acc: 97.46%, Domain mAP: 0.8092, Class mAP: 0.9958, Time: 71.96s\n",
      "Test set: Epoch: 85, Avg loss: 0.7849, Domain Loss: 0.6176, Class Loss: 0.9522, Domain Acc: 75.47%, Class Acc: 79.80%, Domain mAP: 0.8113, Class mAP: 0.8627, Time: 23.00s\n",
      "\n",
      "체크포인트가 checkpoints/ResNet50_MultiTask_layer2 Extraction - Style, all - Category_checkpoint.pth에 저장되었습니다.\n",
      "EarlyStopping 카운터: 5 / 30\n"
     ]
    },
    {
     "name": "stderr",
     "output_type": "stream",
     "text": [
      " 28%|█████████████████████████▌                                                                | 85/300 [2:13:33<5:35:14, 93.55s/it]"
     ]
    },
    {
     "name": "stdout",
     "output_type": "stream",
     "text": [
      "체크포인트가 checkpoints/latest_checkpoint.pth에 저장되었습니다.\n",
      "Epoch [86], Batch [20/44], Loss: 0.3490, Domain Loss: 0.5829, Class Loss: 0.1150, LR: 0.000100\n",
      "Epoch [86], Batch [40/44], Loss: 0.3198, Domain Loss: 0.5627, Class Loss: 0.0768, LR: 0.000100\n",
      "Train set: Epoch: 86, Avg loss: 0.3078, Domain Loss: 0.5277, Class Loss: 0.0878, Domain Acc: 79.73%, Class Acc: 97.34%, Domain mAP: 0.8078, Class mAP: 0.9954, Time: 70.04s\n",
      "Test set: Epoch: 86, Avg loss: 0.7865, Domain Loss: 0.6146, Class Loss: 0.9585, Domain Acc: 76.00%, Class Acc: 79.99%, Domain mAP: 0.8114, Class mAP: 0.8602, Time: 23.61s\n",
      "\n",
      "EarlyStopping 카운터: 6 / 30\n"
     ]
    },
    {
     "name": "stderr",
     "output_type": "stream",
     "text": [
      " 29%|█████████████████████████▊                                                                | 86/300 [2:15:07<5:34:06, 93.67s/it]"
     ]
    },
    {
     "name": "stdout",
     "output_type": "stream",
     "text": [
      "체크포인트가 checkpoints/latest_checkpoint.pth에 저장되었습니다.\n",
      "Epoch [87], Batch [20/44], Loss: 0.2966, Domain Loss: 0.5077, Class Loss: 0.0854, LR: 0.000100\n",
      "Epoch [87], Batch [40/44], Loss: 0.2933, Domain Loss: 0.5129, Class Loss: 0.0737, LR: 0.000100\n",
      "Train set: Epoch: 87, Avg loss: 0.3035, Domain Loss: 0.5263, Class Loss: 0.0807, Domain Acc: 79.82%, Class Acc: 97.49%, Domain mAP: 0.8103, Class mAP: 0.9965, Time: 67.73s\n",
      "Test set: Epoch: 87, Avg loss: 0.7831, Domain Loss: 0.6174, Class Loss: 0.9488, Domain Acc: 75.75%, Class Acc: 80.08%, Domain mAP: 0.8111, Class mAP: 0.8624, Time: 23.81s\n",
      "\n",
      "EarlyStopping 카운터: 7 / 30\n"
     ]
    },
    {
     "name": "stderr",
     "output_type": "stream",
     "text": [
      " 29%|██████████████████████████                                                                | 87/300 [2:16:39<5:30:42, 93.16s/it]"
     ]
    },
    {
     "name": "stdout",
     "output_type": "stream",
     "text": [
      "체크포인트가 checkpoints/latest_checkpoint.pth에 저장되었습니다.\n",
      "Epoch [88], Batch [20/44], Loss: 0.3210, Domain Loss: 0.5593, Class Loss: 0.0827, LR: 0.000100\n",
      "Epoch [88], Batch [40/44], Loss: 0.3152, Domain Loss: 0.5297, Class Loss: 0.1008, LR: 0.000100\n",
      "Train set: Epoch: 88, Avg loss: 0.3062, Domain Loss: 0.5289, Class Loss: 0.0835, Domain Acc: 79.67%, Class Acc: 97.37%, Domain mAP: 0.8108, Class mAP: 0.9957, Time: 70.82s\n",
      "Test set: Epoch: 88, Avg loss: 0.7875, Domain Loss: 0.6167, Class Loss: 0.9583, Domain Acc: 75.47%, Class Acc: 79.86%, Domain mAP: 0.8113, Class mAP: 0.8613, Time: 23.70s\n",
      "\n",
      "EarlyStopping 카운터: 8 / 30\n"
     ]
    },
    {
     "name": "stderr",
     "output_type": "stream",
     "text": [
      " 29%|██████████████████████████▍                                                               | 88/300 [2:18:14<5:30:58, 93.67s/it]"
     ]
    },
    {
     "name": "stdout",
     "output_type": "stream",
     "text": [
      "체크포인트가 checkpoints/latest_checkpoint.pth에 저장되었습니다.\n",
      "Epoch [89], Batch [20/44], Loss: 0.3747, Domain Loss: 0.6532, Class Loss: 0.0962, LR: 0.000100\n",
      "Epoch [89], Batch [40/44], Loss: 0.3308, Domain Loss: 0.5785, Class Loss: 0.0830, LR: 0.000100\n",
      "Train set: Epoch: 89, Avg loss: 0.3030, Domain Loss: 0.5266, Class Loss: 0.0795, Domain Acc: 79.60%, Class Acc: 97.52%, Domain mAP: 0.8107, Class mAP: 0.9966, Time: 68.45s\n",
      "Test set: Epoch: 89, Avg loss: 0.7912, Domain Loss: 0.6234, Class Loss: 0.9589, Domain Acc: 75.57%, Class Acc: 79.96%, Domain mAP: 0.8109, Class mAP: 0.8622, Time: 23.63s\n",
      "\n",
      "EarlyStopping 카운터: 9 / 30\n"
     ]
    },
    {
     "name": "stderr",
     "output_type": "stream",
     "text": [
      " 30%|██████████████████████████▋                                                               | 89/300 [2:19:46<5:28:05, 93.30s/it]"
     ]
    },
    {
     "name": "stdout",
     "output_type": "stream",
     "text": [
      "체크포인트가 checkpoints/latest_checkpoint.pth에 저장되었습니다.\n",
      "Epoch [90], Batch [20/44], Loss: 0.2731, Domain Loss: 0.4692, Class Loss: 0.0770, LR: 0.000100\n",
      "Epoch [90], Batch [40/44], Loss: 0.3117, Domain Loss: 0.5642, Class Loss: 0.0592, LR: 0.000100\n",
      "Train set: Epoch: 90, Avg loss: 0.3052, Domain Loss: 0.5296, Class Loss: 0.0807, Domain Acc: 79.39%, Class Acc: 97.53%, Domain mAP: 0.8103, Class mAP: 0.9962, Time: 68.55s\n",
      "Test set: Epoch: 90, Avg loss: 0.7906, Domain Loss: 0.6241, Class Loss: 0.9571, Domain Acc: 75.01%, Class Acc: 79.77%, Domain mAP: 0.8115, Class mAP: 0.8630, Time: 23.33s\n",
      "\n",
      "체크포인트가 checkpoints/ResNet50_MultiTask_layer2 Extraction - Style, all - Category_checkpoint.pth에 저장되었습니다.\n",
      "EarlyStopping 카운터: 10 / 30\n"
     ]
    },
    {
     "name": "stderr",
     "output_type": "stream",
     "text": [
      " 30%|███████████████████████████                                                               | 90/300 [2:21:19<5:25:45, 93.07s/it]"
     ]
    },
    {
     "name": "stdout",
     "output_type": "stream",
     "text": [
      "체크포인트가 checkpoints/latest_checkpoint.pth에 저장되었습니다.\n",
      "Epoch [91], Batch [20/44], Loss: 0.3104, Domain Loss: 0.5475, Class Loss: 0.0733, LR: 0.000010\n",
      "Epoch [91], Batch [40/44], Loss: 0.3130, Domain Loss: 0.5258, Class Loss: 0.1002, LR: 0.000010\n",
      "Train set: Epoch: 91, Avg loss: 0.3025, Domain Loss: 0.5223, Class Loss: 0.0827, Domain Acc: 79.62%, Class Acc: 97.44%, Domain mAP: 0.8132, Class mAP: 0.9960, Time: 68.77s\n",
      "Test set: Epoch: 91, Avg loss: 0.7892, Domain Loss: 0.6283, Class Loss: 0.9501, Domain Acc: 75.26%, Class Acc: 79.96%, Domain mAP: 0.8110, Class mAP: 0.8634, Time: 25.05s\n",
      "\n",
      "EarlyStopping 카운터: 11 / 30\n"
     ]
    },
    {
     "name": "stderr",
     "output_type": "stream",
     "text": [
      " 30%|███████████████████████████▎                                                              | 91/300 [2:22:53<5:25:18, 93.39s/it]"
     ]
    },
    {
     "name": "stdout",
     "output_type": "stream",
     "text": [
      "체크포인트가 checkpoints/latest_checkpoint.pth에 저장되었습니다.\n",
      "Epoch [92], Batch [20/44], Loss: 0.2937, Domain Loss: 0.5132, Class Loss: 0.0741, LR: 0.000010\n",
      "Epoch [92], Batch [40/44], Loss: 0.3069, Domain Loss: 0.5263, Class Loss: 0.0874, LR: 0.000010\n",
      "Train set: Epoch: 92, Avg loss: 0.3009, Domain Loss: 0.5197, Class Loss: 0.0821, Domain Acc: 79.95%, Class Acc: 97.42%, Domain mAP: 0.8132, Class mAP: 0.9964, Time: 67.58s\n",
      "Test set: Epoch: 92, Avg loss: 0.7906, Domain Loss: 0.6219, Class Loss: 0.9593, Domain Acc: 75.26%, Class Acc: 80.05%, Domain mAP: 0.8116, Class mAP: 0.8625, Time: 24.10s\n",
      "\n",
      "EarlyStopping 카운터: 12 / 30\n"
     ]
    },
    {
     "name": "stderr",
     "output_type": "stream",
     "text": [
      " 31%|███████████████████████████▌                                                              | 92/300 [2:24:25<5:22:18, 92.98s/it]"
     ]
    },
    {
     "name": "stdout",
     "output_type": "stream",
     "text": [
      "체크포인트가 checkpoints/latest_checkpoint.pth에 저장되었습니다.\n",
      "Epoch [93], Batch [20/44], Loss: 0.2898, Domain Loss: 0.4944, Class Loss: 0.0852, LR: 0.000010\n",
      "Epoch [93], Batch [40/44], Loss: 0.3048, Domain Loss: 0.5539, Class Loss: 0.0556, LR: 0.000010\n",
      "Train set: Epoch: 93, Avg loss: 0.3012, Domain Loss: 0.5241, Class Loss: 0.0783, Domain Acc: 79.87%, Class Acc: 97.56%, Domain mAP: 0.8116, Class mAP: 0.9968, Time: 66.62s\n",
      "Test set: Epoch: 93, Avg loss: 0.7861, Domain Loss: 0.6174, Class Loss: 0.9548, Domain Acc: 75.63%, Class Acc: 79.89%, Domain mAP: 0.8123, Class mAP: 0.8629, Time: 24.32s\n",
      "\n",
      "새로운 최고 Domain mAP: 0.8123\n",
      "EarlyStopping 카운터: 13 / 30\n"
     ]
    },
    {
     "name": "stderr",
     "output_type": "stream",
     "text": [
      " 31%|███████████████████████████▉                                                              | 93/300 [2:25:56<5:19:13, 92.53s/it]"
     ]
    },
    {
     "name": "stdout",
     "output_type": "stream",
     "text": [
      "체크포인트가 checkpoints/latest_checkpoint.pth에 저장되었습니다.\n",
      "Epoch [94], Batch [20/44], Loss: 0.3252, Domain Loss: 0.5542, Class Loss: 0.0963, LR: 0.000010\n",
      "Epoch [94], Batch [40/44], Loss: 0.3127, Domain Loss: 0.5461, Class Loss: 0.0794, LR: 0.000010\n",
      "Train set: Epoch: 94, Avg loss: 0.3021, Domain Loss: 0.5261, Class Loss: 0.0781, Domain Acc: 79.59%, Class Acc: 97.67%, Domain mAP: 0.8133, Class mAP: 0.9965, Time: 69.62s\n",
      "Test set: Epoch: 94, Avg loss: 0.7895, Domain Loss: 0.6157, Class Loss: 0.9634, Domain Acc: 75.23%, Class Acc: 79.65%, Domain mAP: 0.8116, Class mAP: 0.8616, Time: 23.74s\n",
      "\n",
      "EarlyStopping 카운터: 14 / 30\n"
     ]
    },
    {
     "name": "stderr",
     "output_type": "stream",
     "text": [
      " 31%|████████████████████████████▏                                                             | 94/300 [2:27:30<5:18:53, 92.88s/it]"
     ]
    },
    {
     "name": "stdout",
     "output_type": "stream",
     "text": [
      "체크포인트가 checkpoints/latest_checkpoint.pth에 저장되었습니다.\n",
      "Epoch [95], Batch [20/44], Loss: 0.3080, Domain Loss: 0.5077, Class Loss: 0.1082, LR: 0.000010\n",
      "Epoch [95], Batch [40/44], Loss: 0.3383, Domain Loss: 0.5994, Class Loss: 0.0771, LR: 0.000010\n",
      "Train set: Epoch: 95, Avg loss: 0.3017, Domain Loss: 0.5229, Class Loss: 0.0804, Domain Acc: 79.70%, Class Acc: 97.52%, Domain mAP: 0.8142, Class mAP: 0.9962, Time: 68.39s\n",
      "Test set: Epoch: 95, Avg loss: 0.7859, Domain Loss: 0.6188, Class Loss: 0.9529, Domain Acc: 75.82%, Class Acc: 80.14%, Domain mAP: 0.8119, Class mAP: 0.8634, Time: 23.26s\n",
      "\n",
      "체크포인트가 checkpoints/ResNet50_MultiTask_layer2 Extraction - Style, all - Category_checkpoint.pth에 저장되었습니다.\n",
      "EarlyStopping 카운터: 15 / 30\n"
     ]
    },
    {
     "name": "stderr",
     "output_type": "stream",
     "text": [
      " 32%|████████████████████████████▌                                                             | 95/300 [2:29:02<5:16:44, 92.70s/it]"
     ]
    },
    {
     "name": "stdout",
     "output_type": "stream",
     "text": [
      "체크포인트가 checkpoints/latest_checkpoint.pth에 저장되었습니다.\n",
      "Epoch [96], Batch [20/44], Loss: 0.3277, Domain Loss: 0.5704, Class Loss: 0.0849, LR: 0.000010\n",
      "Epoch [96], Batch [40/44], Loss: 0.3390, Domain Loss: 0.5790, Class Loss: 0.0990, LR: 0.000010\n",
      "Train set: Epoch: 96, Avg loss: 0.3020, Domain Loss: 0.5242, Class Loss: 0.0799, Domain Acc: 79.82%, Class Acc: 97.54%, Domain mAP: 0.8117, Class mAP: 0.9964, Time: 69.19s\n",
      "Test set: Epoch: 96, Avg loss: 0.7875, Domain Loss: 0.6198, Class Loss: 0.9552, Domain Acc: 75.57%, Class Acc: 80.05%, Domain mAP: 0.8124, Class mAP: 0.8630, Time: 23.87s\n",
      "\n",
      "새로운 최고 Domain mAP: 0.8124\n",
      "EarlyStopping 카운터: 16 / 30\n"
     ]
    },
    {
     "name": "stderr",
     "output_type": "stream",
     "text": [
      " 32%|████████████████████████████▊                                                             | 96/300 [2:30:36<5:16:10, 92.99s/it]"
     ]
    },
    {
     "name": "stdout",
     "output_type": "stream",
     "text": [
      "체크포인트가 checkpoints/latest_checkpoint.pth에 저장되었습니다.\n",
      "Epoch [97], Batch [20/44], Loss: 0.2438, Domain Loss: 0.4412, Class Loss: 0.0464, LR: 0.000010\n",
      "Epoch [97], Batch [40/44], Loss: 0.3060, Domain Loss: 0.5319, Class Loss: 0.0801, LR: 0.000010\n",
      "Train set: Epoch: 97, Avg loss: 0.2971, Domain Loss: 0.5196, Class Loss: 0.0745, Domain Acc: 79.77%, Class Acc: 97.70%, Domain mAP: 0.8137, Class mAP: 0.9967, Time: 68.09s\n",
      "Test set: Epoch: 97, Avg loss: 0.7946, Domain Loss: 0.6176, Class Loss: 0.9715, Domain Acc: 75.29%, Class Acc: 79.68%, Domain mAP: 0.8117, Class mAP: 0.8615, Time: 25.24s\n",
      "\n",
      "EarlyStopping 카운터: 17 / 30\n"
     ]
    },
    {
     "name": "stderr",
     "output_type": "stream",
     "text": [
      " 32%|█████████████████████████████                                                             | 97/300 [2:32:10<5:15:18, 93.20s/it]"
     ]
    },
    {
     "name": "stdout",
     "output_type": "stream",
     "text": [
      "체크포인트가 checkpoints/latest_checkpoint.pth에 저장되었습니다.\n",
      "Epoch [98], Batch [20/44], Loss: 0.3152, Domain Loss: 0.5536, Class Loss: 0.0768, LR: 0.000010\n",
      "Epoch [98], Batch [40/44], Loss: 0.2711, Domain Loss: 0.4823, Class Loss: 0.0600, LR: 0.000010\n",
      "Train set: Epoch: 98, Avg loss: 0.3001, Domain Loss: 0.5238, Class Loss: 0.0765, Domain Acc: 79.75%, Class Acc: 97.78%, Domain mAP: 0.8105, Class mAP: 0.9967, Time: 71.00s\n",
      "Test set: Epoch: 98, Avg loss: 0.7904, Domain Loss: 0.6216, Class Loss: 0.9591, Domain Acc: 75.60%, Class Acc: 79.83%, Domain mAP: 0.8114, Class mAP: 0.8625, Time: 24.05s\n",
      "\n",
      "EarlyStopping 카운터: 18 / 30\n"
     ]
    },
    {
     "name": "stderr",
     "output_type": "stream",
     "text": [
      " 33%|█████████████████████████████▍                                                            | 98/300 [2:33:45<5:15:57, 93.85s/it]"
     ]
    },
    {
     "name": "stdout",
     "output_type": "stream",
     "text": [
      "체크포인트가 checkpoints/latest_checkpoint.pth에 저장되었습니다.\n",
      "Epoch [99], Batch [20/44], Loss: 0.2708, Domain Loss: 0.4848, Class Loss: 0.0569, LR: 0.000010\n",
      "Epoch [99], Batch [40/44], Loss: 0.2875, Domain Loss: 0.5062, Class Loss: 0.0688, LR: 0.000010\n",
      "Train set: Epoch: 99, Avg loss: 0.3008, Domain Loss: 0.5185, Class Loss: 0.0830, Domain Acc: 79.58%, Class Acc: 97.52%, Domain mAP: 0.8129, Class mAP: 0.9960, Time: 69.87s\n",
      "Test set: Epoch: 99, Avg loss: 0.7869, Domain Loss: 0.6192, Class Loss: 0.9546, Domain Acc: 75.35%, Class Acc: 79.74%, Domain mAP: 0.8122, Class mAP: 0.8624, Time: 23.83s\n",
      "\n",
      "EarlyStopping 카운터: 19 / 30\n"
     ]
    },
    {
     "name": "stderr",
     "output_type": "stream",
     "text": [
      " 33%|█████████████████████████████▋                                                            | 99/300 [2:35:19<5:14:36, 93.91s/it]"
     ]
    },
    {
     "name": "stdout",
     "output_type": "stream",
     "text": [
      "체크포인트가 checkpoints/latest_checkpoint.pth에 저장되었습니다.\n",
      "Epoch [100], Batch [20/44], Loss: 0.3109, Domain Loss: 0.5272, Class Loss: 0.0947, LR: 0.000001\n",
      "Epoch [100], Batch [40/44], Loss: 0.2797, Domain Loss: 0.4786, Class Loss: 0.0807, LR: 0.000001\n",
      "Train set: Epoch: 100, Avg loss: 0.3016, Domain Loss: 0.5226, Class Loss: 0.0806, Domain Acc: 79.70%, Class Acc: 97.56%, Domain mAP: 0.8107, Class mAP: 0.9961, Time: 68.56s\n",
      "Test set: Epoch: 100, Avg loss: 0.7873, Domain Loss: 0.6207, Class Loss: 0.9538, Domain Acc: 75.66%, Class Acc: 79.96%, Domain mAP: 0.8115, Class mAP: 0.8634, Time: 23.28s\n",
      "\n",
      "체크포인트가 checkpoints/ResNet50_MultiTask_layer2 Extraction - Style, all - Category_checkpoint.pth에 저장되었습니다.\n",
      "EarlyStopping 카운터: 20 / 30\n"
     ]
    },
    {
     "name": "stderr",
     "output_type": "stream",
     "text": [
      " 33%|█████████████████████████████▋                                                           | 100/300 [2:36:52<5:11:35, 93.48s/it]"
     ]
    },
    {
     "name": "stdout",
     "output_type": "stream",
     "text": [
      "체크포인트가 checkpoints/latest_checkpoint.pth에 저장되었습니다.\n",
      "Epoch [101], Batch [20/44], Loss: 0.3176, Domain Loss: 0.5536, Class Loss: 0.0817, LR: 0.000001\n",
      "Epoch [101], Batch [40/44], Loss: 0.2827, Domain Loss: 0.4756, Class Loss: 0.0898, LR: 0.000001\n",
      "Train set: Epoch: 101, Avg loss: 0.3015, Domain Loss: 0.5265, Class Loss: 0.0766, Domain Acc: 79.61%, Class Acc: 97.76%, Domain mAP: 0.8129, Class mAP: 0.9967, Time: 69.54s\n",
      "Test set: Epoch: 101, Avg loss: 0.7889, Domain Loss: 0.6159, Class Loss: 0.9618, Domain Acc: 75.75%, Class Acc: 79.71%, Domain mAP: 0.8117, Class mAP: 0.8624, Time: 24.69s\n",
      "\n",
      "EarlyStopping 카운터: 21 / 30\n"
     ]
    },
    {
     "name": "stderr",
     "output_type": "stream",
     "text": [
      " 34%|█████████████████████████████▉                                                           | 101/300 [2:38:26<5:11:09, 93.82s/it]"
     ]
    },
    {
     "name": "stdout",
     "output_type": "stream",
     "text": [
      "체크포인트가 checkpoints/latest_checkpoint.pth에 저장되었습니다.\n",
      "Epoch [102], Batch [20/44], Loss: 0.2972, Domain Loss: 0.5068, Class Loss: 0.0877, LR: 0.000001\n",
      "Epoch [102], Batch [40/44], Loss: 0.2754, Domain Loss: 0.4908, Class Loss: 0.0600, LR: 0.000001\n",
      "Train set: Epoch: 102, Avg loss: 0.2996, Domain Loss: 0.5233, Class Loss: 0.0758, Domain Acc: 79.78%, Class Acc: 97.71%, Domain mAP: 0.8134, Class mAP: 0.9967, Time: 70.65s\n",
      "Test set: Epoch: 102, Avg loss: 0.7857, Domain Loss: 0.6170, Class Loss: 0.9543, Domain Acc: 76.10%, Class Acc: 80.24%, Domain mAP: 0.8124, Class mAP: 0.8632, Time: 22.79s\n",
      "\n",
      "EarlyStopping 카운터: 22 / 30\n"
     ]
    },
    {
     "name": "stderr",
     "output_type": "stream",
     "text": [
      " 34%|██████████████████████████████▎                                                          | 102/300 [2:40:00<5:09:33, 93.80s/it]"
     ]
    },
    {
     "name": "stdout",
     "output_type": "stream",
     "text": [
      "체크포인트가 checkpoints/latest_checkpoint.pth에 저장되었습니다.\n",
      "Epoch [103], Batch [20/44], Loss: 0.3343, Domain Loss: 0.5981, Class Loss: 0.0704, LR: 0.000001\n",
      "Epoch [103], Batch [40/44], Loss: 0.2614, Domain Loss: 0.4456, Class Loss: 0.0772, LR: 0.000001\n",
      "Train set: Epoch: 103, Avg loss: 0.3018, Domain Loss: 0.5261, Class Loss: 0.0775, Domain Acc: 79.68%, Class Acc: 97.64%, Domain mAP: 0.8126, Class mAP: 0.9967, Time: 67.80s\n",
      "Test set: Epoch: 103, Avg loss: 0.7848, Domain Loss: 0.6195, Class Loss: 0.9501, Domain Acc: 75.94%, Class Acc: 79.93%, Domain mAP: 0.8121, Class mAP: 0.8635, Time: 23.15s\n",
      "\n",
      "EarlyStopping 카운터: 23 / 30\n"
     ]
    },
    {
     "name": "stderr",
     "output_type": "stream",
     "text": [
      " 34%|██████████████████████████████▌                                                          | 103/300 [2:41:31<5:05:27, 93.03s/it]"
     ]
    },
    {
     "name": "stdout",
     "output_type": "stream",
     "text": [
      "체크포인트가 checkpoints/latest_checkpoint.pth에 저장되었습니다.\n",
      "Epoch [104], Batch [20/44], Loss: 0.2803, Domain Loss: 0.5002, Class Loss: 0.0604, LR: 0.000001\n",
      "Epoch [104], Batch [40/44], Loss: 0.3025, Domain Loss: 0.5393, Class Loss: 0.0658, LR: 0.000001\n",
      "Train set: Epoch: 104, Avg loss: 0.3002, Domain Loss: 0.5258, Class Loss: 0.0746, Domain Acc: 79.63%, Class Acc: 97.92%, Domain mAP: 0.8109, Class mAP: 0.9972, Time: 70.40s\n",
      "Test set: Epoch: 104, Avg loss: 0.7885, Domain Loss: 0.6156, Class Loss: 0.9614, Domain Acc: 75.66%, Class Acc: 79.83%, Domain mAP: 0.8119, Class mAP: 0.8619, Time: 23.47s\n",
      "\n",
      "EarlyStopping 카운터: 24 / 30\n"
     ]
    },
    {
     "name": "stderr",
     "output_type": "stream",
     "text": [
      " 35%|██████████████████████████████▊                                                          | 104/300 [2:43:05<5:05:03, 93.38s/it]"
     ]
    },
    {
     "name": "stdout",
     "output_type": "stream",
     "text": [
      "체크포인트가 checkpoints/latest_checkpoint.pth에 저장되었습니다.\n",
      "Epoch [105], Batch [20/44], Loss: 0.2815, Domain Loss: 0.5009, Class Loss: 0.0621, LR: 0.000001\n",
      "Epoch [105], Batch [40/44], Loss: 0.3014, Domain Loss: 0.5223, Class Loss: 0.0806, LR: 0.000001\n",
      "Train set: Epoch: 105, Avg loss: 0.3014, Domain Loss: 0.5228, Class Loss: 0.0800, Domain Acc: 79.99%, Class Acc: 97.67%, Domain mAP: 0.8132, Class mAP: 0.9964, Time: 69.51s\n",
      "Test set: Epoch: 105, Avg loss: 0.7863, Domain Loss: 0.6212, Class Loss: 0.9513, Domain Acc: 75.79%, Class Acc: 80.17%, Domain mAP: 0.8120, Class mAP: 0.8633, Time: 23.82s\n",
      "\n",
      "체크포인트가 checkpoints/ResNet50_MultiTask_layer2 Extraction - Style, all - Category_checkpoint.pth에 저장되었습니다.\n",
      "EarlyStopping 카운터: 25 / 30\n"
     ]
    },
    {
     "name": "stderr",
     "output_type": "stream",
     "text": [
      " 35%|███████████████████████████████▏                                                         | 105/300 [2:44:39<5:04:05, 93.57s/it]"
     ]
    },
    {
     "name": "stdout",
     "output_type": "stream",
     "text": [
      "체크포인트가 checkpoints/latest_checkpoint.pth에 저장되었습니다.\n",
      "Epoch [106], Batch [20/44], Loss: 0.3433, Domain Loss: 0.5804, Class Loss: 0.1062, LR: 0.000001\n",
      "Epoch [106], Batch [40/44], Loss: 0.3090, Domain Loss: 0.5329, Class Loss: 0.0852, LR: 0.000001\n",
      "Train set: Epoch: 106, Avg loss: 0.3003, Domain Loss: 0.5206, Class Loss: 0.0800, Domain Acc: 79.47%, Class Acc: 97.71%, Domain mAP: 0.8137, Class mAP: 0.9963, Time: 66.41s\n",
      "Test set: Epoch: 106, Avg loss: 0.7911, Domain Loss: 0.6196, Class Loss: 0.9625, Domain Acc: 75.60%, Class Acc: 80.08%, Domain mAP: 0.8123, Class mAP: 0.8627, Time: 22.97s\n",
      "\n",
      "EarlyStopping 카운터: 26 / 30\n"
     ]
    },
    {
     "name": "stderr",
     "output_type": "stream",
     "text": [
      " 35%|███████████████████████████████▍                                                         | 106/300 [2:46:09<4:58:47, 92.41s/it]"
     ]
    },
    {
     "name": "stdout",
     "output_type": "stream",
     "text": [
      "체크포인트가 checkpoints/latest_checkpoint.pth에 저장되었습니다.\n",
      "Epoch [107], Batch [20/44], Loss: 0.2983, Domain Loss: 0.5327, Class Loss: 0.0638, LR: 0.000001\n",
      "Epoch [107], Batch [40/44], Loss: 0.3115, Domain Loss: 0.5509, Class Loss: 0.0721, LR: 0.000001\n",
      "Train set: Epoch: 107, Avg loss: 0.3001, Domain Loss: 0.5220, Class Loss: 0.0782, Domain Acc: 79.74%, Class Acc: 97.51%, Domain mAP: 0.8145, Class mAP: 0.9969, Time: 67.06s\n",
      "Test set: Epoch: 107, Avg loss: 0.7899, Domain Loss: 0.6174, Class Loss: 0.9623, Domain Acc: 75.51%, Class Acc: 79.74%, Domain mAP: 0.8119, Class mAP: 0.8624, Time: 24.22s\n",
      "\n",
      "EarlyStopping 카운터: 27 / 30\n"
     ]
    },
    {
     "name": "stderr",
     "output_type": "stream",
     "text": [
      " 36%|███████████████████████████████▋                                                         | 107/300 [2:47:41<4:56:28, 92.17s/it]"
     ]
    },
    {
     "name": "stdout",
     "output_type": "stream",
     "text": [
      "체크포인트가 checkpoints/latest_checkpoint.pth에 저장되었습니다.\n",
      "Epoch [108], Batch [20/44], Loss: 0.3196, Domain Loss: 0.5471, Class Loss: 0.0921, LR: 0.000001\n",
      "Epoch [108], Batch [40/44], Loss: 0.2398, Domain Loss: 0.4301, Class Loss: 0.0495, LR: 0.000001\n",
      "Train set: Epoch: 108, Avg loss: 0.2997, Domain Loss: 0.5210, Class Loss: 0.0784, Domain Acc: 79.71%, Class Acc: 97.77%, Domain mAP: 0.8139, Class mAP: 0.9964, Time: 70.91s\n",
      "Test set: Epoch: 108, Avg loss: 0.7863, Domain Loss: 0.6174, Class Loss: 0.9552, Domain Acc: 75.57%, Class Acc: 80.17%, Domain mAP: 0.8120, Class mAP: 0.8625, Time: 23.97s\n",
      "\n",
      "EarlyStopping 카운터: 28 / 30\n"
     ]
    },
    {
     "name": "stderr",
     "output_type": "stream",
     "text": [
      " 36%|████████████████████████████████                                                         | 108/300 [2:49:16<4:57:50, 93.08s/it]"
     ]
    },
    {
     "name": "stdout",
     "output_type": "stream",
     "text": [
      "체크포인트가 checkpoints/latest_checkpoint.pth에 저장되었습니다.\n",
      "Epoch [109], Batch [20/44], Loss: 0.2876, Domain Loss: 0.4859, Class Loss: 0.0893, LR: 0.000000\n",
      "Epoch [109], Batch [40/44], Loss: 0.2958, Domain Loss: 0.5226, Class Loss: 0.0689, LR: 0.000000\n",
      "Train set: Epoch: 109, Avg loss: 0.2990, Domain Loss: 0.5250, Class Loss: 0.0730, Domain Acc: 79.76%, Class Acc: 97.81%, Domain mAP: 0.8136, Class mAP: 0.9969, Time: 72.56s\n",
      "Test set: Epoch: 109, Avg loss: 0.7881, Domain Loss: 0.6197, Class Loss: 0.9566, Domain Acc: 75.44%, Class Acc: 79.96%, Domain mAP: 0.8112, Class mAP: 0.8626, Time: 24.70s\n",
      "\n",
      "EarlyStopping 카운터: 29 / 30\n"
     ]
    },
    {
     "name": "stderr",
     "output_type": "stream",
     "text": [
      " 36%|████████████████████████████████▎                                                        | 109/300 [2:50:53<5:00:35, 94.43s/it]"
     ]
    },
    {
     "name": "stdout",
     "output_type": "stream",
     "text": [
      "체크포인트가 checkpoints/latest_checkpoint.pth에 저장되었습니다.\n",
      "Epoch [110], Batch [20/44], Loss: 0.2775, Domain Loss: 0.4913, Class Loss: 0.0637, LR: 0.000000\n",
      "Epoch [110], Batch [40/44], Loss: 0.2790, Domain Loss: 0.4693, Class Loss: 0.0886, LR: 0.000000\n",
      "Train set: Epoch: 110, Avg loss: 0.2985, Domain Loss: 0.5228, Class Loss: 0.0741, Domain Acc: 79.60%, Class Acc: 97.84%, Domain mAP: 0.8131, Class mAP: 0.9973, Time: 70.56s\n",
      "Test set: Epoch: 110, Avg loss: 0.7887, Domain Loss: 0.6169, Class Loss: 0.9606, Domain Acc: 75.51%, Class Acc: 80.05%, Domain mAP: 0.8127, Class mAP: 0.8618, Time: 23.91s\n",
      "\n",
      "새로운 최고 Domain mAP: 0.8127\n",
      "체크포인트가 checkpoints/ResNet50_MultiTask_layer2 Extraction - Style, all - Category_checkpoint.pth에 저장되었습니다.\n",
      "EarlyStopping 카운터: 30 / 30\n"
     ]
    },
    {
     "name": "stderr",
     "output_type": "stream",
     "text": [
      " 36%|████████████████████████████████▎                                                        | 109/300 [2:52:29<5:02:15, 94.95s/it]"
     ]
    },
    {
     "name": "stdout",
     "output_type": "stream",
     "text": [
      "체크포인트가 checkpoints/latest_checkpoint.pth에 저장되었습니다.\n",
      "에폭 110에서 학습 조기 종료. 최고 성능 에폭: 80\n",
      "최고 클래스 mAP 모델 로드 중...\n"
     ]
    },
    {
     "name": "stderr",
     "output_type": "stream",
     "text": [
      "\n"
     ]
    },
    {
     "name": "stdout",
     "output_type": "stream",
     "text": [
      "Test set: Epoch: 300, Avg loss: 0.7836, Domain Loss: 0.6246, Class Loss: 0.9427, Domain Acc: 75.60%, Class Acc: 80.27%, Domain mAP: 0.8103, Class mAP: 0.8638, Time: 24.27s\n",
      "\n",
      "완료! 최고 Class mAP: 0.8637, 최고 Domain mAP: 0.8127\n",
      "체크포인트가 checkpoints/final_checkpoint.pth에 저장되었습니다.\n",
      "전체 학습 시간: 10374.17 초\n"
     ]
    },
    {
     "data": {
      "text/html": [],
      "text/plain": [
       "<IPython.core.display.HTML object>"
      ]
     },
     "metadata": {},
     "output_type": "display_data"
    },
    {
     "data": {
      "text/html": [
       "<br>    <style><br>        .wandb-row {<br>            display: flex;<br>            flex-direction: row;<br>            flex-wrap: wrap;<br>            justify-content: flex-start;<br>            width: 100%;<br>        }<br>        .wandb-col {<br>            display: flex;<br>            flex-direction: column;<br>            flex-basis: 100%;<br>            flex: 1;<br>            padding: 10px;<br>        }<br>    </style><br><div class=\"wandb-row\"><div class=\"wandb-col\"><h3>Run history:</h3><br/><table class=\"wandb\"><tr><td>epoch</td><td>▁▁▁▂▂▂▂▂▂▂▂▃▃▃▃▃▃▃▃▄▄▄▅▅▅▅▅▅▅▅▆▆▆▇▇▇▇███</td></tr><tr><td>learning_rate</td><td>█████████████████████▂▂▂▂▂▂▂▂▂▂▂▂▁▁▁▁▁▁▁</td></tr><tr><td>test_class_accuracy</td><td>▁▄▆▆▆▇▇▇▇▇▇▇▇█▇█▇█▇█▇▇█▇▇▇██████████████</td></tr><tr><td>test_class_loss</td><td>█▅▄▂▂▁▂▂▃▃▃▃▃▄▄▅▆▆▆▆▆▆▆▆▆▆▇▆▆▆▆▆▆▆▆▆▆▆▆▆</td></tr><tr><td>test_class_map</td><td>▁▆▆▇▇▇▇▇▇▇██████████████████████████████</td></tr><tr><td>test_domain_accuracy</td><td>▁▄▁▄▄▅▅▄▅▆▆▆▆▇▇▇██▇▇███████████▇██▇█████</td></tr><tr><td>test_domain_loss</td><td>█▇▆▅▄▅▄▄▄▃▂▂▂▂▂▂▂▁▂▂▁▁▁▁▁▁▁▁▁▁▁▁▁▁▁▁▁▁▁▁</td></tr><tr><td>test_domain_map</td><td>▁▃▄▄▅▅▆▆▆▇▇▇▇▇▇▇▇▇▇▇▇▇██████████████████</td></tr><tr><td>test_loss</td><td>█▅▃▂▂▁▁▁▁▂▁▁▁▁▁▁▁▁▁▂▂▂▂▂▂▂▂▂▂▂▂▂▂▂▂▂▂▂▂▂</td></tr><tr><td>total_training_time</td><td>▁</td></tr><tr><td>train_class_accuracy</td><td>▁▂▃▃▃▄▅▅▆▆▆▆▆▇▇▇▇▇▇▇▇▇██████████████████</td></tr><tr><td>train_class_loss</td><td>█▇▆▅▅▃▃▃▃▂▂▂▂▂▂▂▂▂▂▂▂▂▁▁▁▁▁▁▁▁▁▁▁▁▁▁▁▁▁▁</td></tr><tr><td>train_class_map</td><td>▁▅▆▆▆▇▇▇▇▇██████████████████████████████</td></tr><tr><td>train_domain_accuracy</td><td>▁▅▅▅▆▆▆▇▇▇▇▇▇▇▇▇▇▇▇▇▇███████████████████</td></tr><tr><td>train_domain_loss</td><td>█▅▄▃▃▃▂▂▂▂▂▂▂▂▂▂▂▂▁▁▁▁▁▁▁▁▁▁▁▁▁▁▁▁▁▁▁▁▁▁</td></tr><tr><td>train_domain_map</td><td>▁▂▂▃▄▅▅▆▆▆▆▇▇▇▇▇▇▇▇▇████████████████████</td></tr><tr><td>train_loss</td><td>█▇▅▅▄▄▄▃▃▃▃▂▂▂▂▂▂▂▂▂▂▂▁▁▁▁▁▁▁▁▁▁▁▁▁▁▁▁▁▁</td></tr></table><br/></div><div class=\"wandb-col\"><h3>Run summary:</h3><br/><table class=\"wandb\"><tr><td>best_class_map</td><td>0.86373</td></tr><tr><td>best_domain_map</td><td>0.81274</td></tr><tr><td>best_epoch</td><td>80</td></tr><tr><td>early_stopped</td><td>True</td></tr><tr><td>early_stopped_epoch</td><td>110</td></tr><tr><td>epoch</td><td>110</td></tr><tr><td>final_test_class_map</td><td>0.86376</td></tr><tr><td>final_test_domain_map</td><td>0.81034</td></tr><tr><td>learning_rate</td><td>0.0</td></tr><tr><td>test_class_accuracy</td><td>80.0498</td></tr><tr><td>test_class_loss</td><td>0.96057</td></tr><tr><td>test_class_map</td><td>0.86183</td></tr><tr><td>test_domain_accuracy</td><td>75.50576</td></tr><tr><td>test_domain_loss</td><td>0.61686</td></tr><tr><td>test_domain_map</td><td>0.81274</td></tr><tr><td>test_loss</td><td>0.78872</td></tr><tr><td>total_training_time</td><td>10374.17233</td></tr><tr><td>train_class_accuracy</td><td>97.84037</td></tr><tr><td>train_class_loss</td><td>0.07406</td></tr><tr><td>train_class_map</td><td>0.99733</td></tr><tr><td>train_domain_accuracy</td><td>79.60047</td></tr><tr><td>train_domain_loss</td><td>0.52284</td></tr><tr><td>train_domain_map</td><td>0.81306</td></tr><tr><td>train_loss</td><td>0.29845</td></tr></table><br/></div></div>"
      ],
      "text/plain": [
       "<IPython.core.display.HTML object>"
      ]
     },
     "metadata": {},
     "output_type": "display_data"
    },
    {
     "data": {
      "text/html": [
       " View run <strong style=\"color:#cdcd00\">ResNet50_MultiTask_layer2 Extraction - Style, all - Category</strong> at: <a href='https://wandb.ai/sokjh1310-hanyang-university/PBL-3/runs/gb07pv5c' target=\"_blank\">https://wandb.ai/sokjh1310-hanyang-university/PBL-3/runs/gb07pv5c</a><br> View project at: <a href='https://wandb.ai/sokjh1310-hanyang-university/PBL-3' target=\"_blank\">https://wandb.ai/sokjh1310-hanyang-university/PBL-3</a><br>Synced 5 W&B file(s), 0 media file(s), 0 artifact file(s) and 2 other file(s)"
      ],
      "text/plain": [
       "<IPython.core.display.HTML object>"
      ]
     },
     "metadata": {},
     "output_type": "display_data"
    },
    {
     "data": {
      "text/html": [
       "Find logs at: <code>./wandb/run-20250516_154625-gb07pv5c/logs</code>"
      ],
      "text/plain": [
       "<IPython.core.display.HTML object>"
      ]
     },
     "metadata": {},
     "output_type": "display_data"
    }
   ],
   "source": [
    "import torch\n",
    "import torch.nn as nn\n",
    "import torch.optim as optim\n",
    "import torchmetrics\n",
    "from torch.utils.data import DataLoader\n",
    "import torchvision.models as models\n",
    "import torchvision.transforms as transforms\n",
    "import sys\n",
    "import os\n",
    "import time\n",
    "import random\n",
    "import numpy as np\n",
    "import wandb\n",
    "from tqdm import tqdm\n",
    "from utility.utils import AccuracyEarlyStopping\n",
    "from torchmetrics.classification import MulticlassAveragePrecision\n",
    "from Dataset.data import OfficeHomeDataset  # 기존 데이터셋 클래스 임포트\n",
    "\n",
    "# 체크포인트 디렉토리 생성\n",
    "os.makedirs('checkpoints', exist_ok=True)\n",
    "\n",
    "# WandB 설정 \n",
    "wandb.login(key=\"ef091b9abcea3186341ddf8995d62bde62d7469e\")\n",
    "wandb.init(\n",
    "    project=\"office-home-classification\", \n",
    "    name=\"ResNet50_MultiTask_layer3 Extraction - Style, all - Category\",\n",
    "    entity=\"hh0804352-hanyang-university\"\n",
    ")\n",
    "\n",
    "# wandb run name을 체크포인트 경로에 사용\n",
    "run_name = wandb.run.name\n",
    "CHECKPOINT_PATH = os.path.join('checkpoints', f'{run_name}_checkpoint.pth')\n",
    "\n",
    "\n",
    "# 설정\n",
    "config = {\n",
    "    # 모델 설정\n",
    "    \"model\": \"resnet50\",\n",
    "    \"batch_size\": 256,\n",
    "    \"num_epochs\": 300,\n",
    "    \n",
    "    \"learning_rate\": 0.001,  # Adam 기본 학습률\n",
    "    \"optimizer\": \"Adam\",\n",
    "    \n",
    "    # 학습 과정 설정\n",
    "    \"seed\": 2025,\n",
    "    \"deterministic\": False,\n",
    "    \"patience\": 30,  # early stopping patience\n",
    "    \"max_epochs_wait\": float('inf'),\n",
    "    \n",
    "    # 멀티태스크 설정\n",
    "    \"num_domains\": 4,\n",
    "    \"num_classes\": 65,\n",
    "    \"domain_weight\": 0.5,  # 도메인 분류 손실 가중치\n",
    "    \"class_weight\": 0.5,   # 클래스 분류 손실 가중치\n",
    "    \n",
    "    # 시스템 설정\n",
    "    \"num_workers\": 32,\n",
    "    \"pin_memory\": True,\n",
    "    \n",
    "    # 체크포인트 설정\n",
    "    \"save_every\": 5,  # 몇 epoch마다 저장할지\n",
    "    \n",
    "    # 스케줄러 설정\n",
    "    \"scheduler\": \"ReduceLROnPlateau\",\n",
    "    \"scheduler_mode\": \"max\",\n",
    "    \"scheduler_factor\": 0.1,\n",
    "    \"scheduler_patience\": 5,\n",
    "    \"scheduler_verbose\": True,\n",
    "}\n",
    "\n",
    "wandb.config.update(config)\n",
    "\n",
    "# ResNet-50 기반 멀티태스크 모델 - 중간 활성화 사용\n",
    "class FeatureExtractingMultiTaskModel(nn.Module):\n",
    "    def __init__(self, num_domains=4, num_classes=65):\n",
    "        super(FeatureExtractingMultiTaskModel, self).__init__()\n",
    "        # 사전학습된 ResNet-50 로드\n",
    "        self.backbone = models.resnet50(pretrained=True)\n",
    "        \n",
    "        # 전체 백본 동결 (선택적)\n",
    "        for param in self.backbone.parameters():\n",
    "            param.requires_grad = False\n",
    "            \n",
    "        # 2. FeatureExtractingMultiTaskModel 클래스에서 도메인 분류기 수정 (약 91-96 라인)\n",
    "        # 도메인 분류를 위한 추가 레이어 (Layer3 출력에 적용)\n",
    "        # Layer3 출력 크기: [B, 1024, H/16, W/16]\n",
    "        self.domain_avgpool = nn.AdaptiveAvgPool2d((1, 1))\n",
    "        self.domain_classifier = nn.Sequential(\n",
    "            nn.Linear(1024, 256),  # Layer3의 채널 수는 1024\n",
    "            nn.ReLU(),\n",
    "            nn.Dropout(0.5),\n",
    "            nn.Linear(256, num_domains)\n",
    "        )\n",
    "        \n",
    "        # 클래스 분류를 위한 헤드 (최종 특징에 적용)\n",
    "        self.class_classifier = nn.Sequential(\n",
    "            nn.Linear(2048, 512),  # 최종 출력의 채널 수는 2048\n",
    "            nn.ReLU(),\n",
    "            nn.Dropout(0.5),\n",
    "            nn.Linear(512, num_classes)\n",
    "        )\n",
    "    \n",
    "    def forward(self, x):\n",
    "        # 중간 결과를 저장할 리스트\n",
    "        activations = []\n",
    "        \n",
    "        # ResNet 블록을 하나씩 통과시키며 중간 결과 저장\n",
    "        x = self.backbone.conv1(x)\n",
    "        x = self.backbone.bn1(x)\n",
    "        x = self.backbone.relu(x)\n",
    "        x = self.backbone.maxpool(x)\n",
    "        \n",
    "        x = self.backbone.layer1(x)\n",
    "        activations.append(x)  # 저수준 특징\n",
    "        \n",
    "        x = self.backbone.layer2(x)\n",
    "        activations.append(x)  # 중간 수준 특징 - 도메인 분류에 사용\n",
    "        \n",
    "        x = self.backbone.layer3(x)\n",
    "        activations.append(x)  # 중간-고수준 특징\n",
    "        \n",
    "        x = self.backbone.layer4(x)\n",
    "        activations.append(x)  # 고수준 특징\n",
    "        \n",
    "        x = self.backbone.avgpool(x)\n",
    "        x = torch.flatten(x, 1)\n",
    "        \n",
    "        # 클래스 분류에는 전체 특징 사용\n",
    "        class_out = self.class_classifier(x)\n",
    "        \n",
    "        # 도메인 분류에는 중간 수준 특징(layer2 출력) 사용\n",
    "        domain_mid_feat = activations[2]  # Layer2 출력 [B, 512, H/8, W/8]\n",
    "        domain_mid_feat = self.domain_avgpool(domain_mid_feat)  # [B, 512, 1, 1]\n",
    "        domain_mid_feat = torch.flatten(domain_mid_feat, 1)  # [B, 512]\n",
    "        domain_out = self.domain_classifier(domain_mid_feat)\n",
    "        \n",
    "        return domain_out, class_out\n",
    "\n",
    "# 데이터 변환 (RandomResizedCrop 제거)\n",
    "transform_train = transforms.Compose([\n",
    "    transforms.Resize((224,224)),  # \n",
    "    transforms.ToTensor(),\n",
    "    transforms.Normalize(mean=[0.485, 0.456, 0.406], std=[0.229, 0.224, 0.225])\n",
    "])\n",
    "\n",
    "transform_test = transforms.Compose([\n",
    "    transforms.Resize((224,224)),\n",
    "    transforms.ToTensor(),\n",
    "    transforms.Normalize(mean=[0.485, 0.456, 0.406], std=[0.229, 0.224, 0.225])\n",
    "])\n",
    "\n",
    "# 데이터셋 로드\n",
    "trainset = OfficeHomeDataset(root_dir='./Dataset/train', transform=transform_train)\n",
    "testset = OfficeHomeDataset(root_dir='./Dataset/test', transform=transform_test)\n",
    "\n",
    "# DataLoader 생성\n",
    "trainloader = DataLoader(\n",
    "    trainset, \n",
    "    batch_size=config[\"batch_size\"], \n",
    "    shuffle=True, \n",
    "    pin_memory=config[\"pin_memory\"], \n",
    "    num_workers=config[\"num_workers\"]\n",
    ")\n",
    "\n",
    "testloader = DataLoader(\n",
    "    testset, \n",
    "    batch_size=config[\"batch_size\"], \n",
    "    shuffle=False, \n",
    "    pin_memory=config[\"pin_memory\"], \n",
    "    num_workers=config[\"num_workers\"]\n",
    ")\n",
    "\n",
    "print(f\"Train set size: {len(trainset)}\")\n",
    "print(f\"Test set size: {len(testset)}\")\n",
    "\n",
    "def train(model, trainloader, domain_criterion, class_criterion, optimizer, device, epoch):\n",
    "    \"\"\"\n",
    "    멀티태스크 학습 함수 (도메인 + 클래스 분류)\n",
    "    \"\"\"\n",
    "    model.train()\n",
    "    start_time = time.time()\n",
    "    running_loss = 0.0\n",
    "    running_domain_loss = 0.0  # 도메인 손실 별도 추적\n",
    "    running_class_loss = 0.0   # 클래스 손실 별도 추적\n",
    "    domain_correct = 0\n",
    "    class_correct = 0\n",
    "    total = 0\n",
    "    \n",
    "    # mAP 계산기 초기화\n",
    "    domain_map = MulticlassAveragePrecision(num_classes=config[\"num_domains\"], average='macro')\n",
    "    class_map = MulticlassAveragePrecision(num_classes=config[\"num_classes\"], average='macro')\n",
    "    \n",
    "    domain_map = domain_map.to(device)\n",
    "    class_map = class_map.to(device)\n",
    "    \n",
    "    for i, (inputs, domain_labels, class_labels) in enumerate(trainloader):\n",
    "        inputs = inputs.to(device)\n",
    "        domain_labels = domain_labels.to(device)\n",
    "        class_labels = class_labels.to(device)\n",
    "        \n",
    "        # 그래디언트 초기화\n",
    "        optimizer.zero_grad()\n",
    "        \n",
    "        # 모델 전방 전파\n",
    "        domain_outputs, class_outputs = model(inputs)\n",
    "        \n",
    "        # 손실 계산\n",
    "        domain_loss = domain_criterion(domain_outputs, domain_labels)\n",
    "        class_loss = class_criterion(class_outputs, class_labels)\n",
    "        loss = config[\"domain_weight\"] * domain_loss + config[\"class_weight\"] * class_loss\n",
    "        \n",
    "        # 역전파 및 최적화\n",
    "        loss.backward()\n",
    "        optimizer.step()\n",
    "        \n",
    "        running_loss += loss.item()\n",
    "        running_domain_loss += domain_loss.item()  # 도메인 손실 누적\n",
    "        running_class_loss += class_loss.item()    # 클래스 손실 누적\n",
    "        \n",
    "        # 정확도 계산\n",
    "        _, domain_preds = domain_outputs.max(1)\n",
    "        domain_correct += domain_preds.eq(domain_labels).sum().item()\n",
    "        \n",
    "        _, class_preds = class_outputs.max(1)\n",
    "        class_correct += class_preds.eq(class_labels).sum().item()\n",
    "        \n",
    "        total += inputs.size(0)\n",
    "        \n",
    "        # mAP 업데이트\n",
    "        domain_map.update(domain_outputs, domain_labels)\n",
    "        class_map.update(class_outputs, class_labels)\n",
    "        \n",
    "        if (i + 1) % 20 == 0:\n",
    "            print(f'Epoch [{epoch+1}], Batch [{i+1}/{len(trainloader)}], Loss: {loss.item():.4f}, '\n",
    "                  f'Domain Loss: {domain_loss.item():.4f}, Class Loss: {class_loss.item():.4f}, '\n",
    "                  f'LR: {optimizer.param_groups[0][\"lr\"]:.6f}')\n",
    "    \n",
    "    # 에폭 통계\n",
    "    epoch_loss = running_loss / len(trainloader)\n",
    "    epoch_domain_loss = running_domain_loss / len(trainloader)  # 평균 도메인 손실\n",
    "    epoch_class_loss = running_class_loss / len(trainloader)    # 평균 클래스 손실\n",
    "    domain_accuracy = 100.0 * domain_correct / total\n",
    "    class_accuracy = 100.0 * class_correct / total\n",
    "    \n",
    "    # mAP 계산\n",
    "    domain_map_value = domain_map.compute().item()\n",
    "    class_map_value = class_map.compute().item()\n",
    "    \n",
    "    train_time = time.time() - start_time\n",
    "    \n",
    "    # 학습 세트에 대한 성능 출력\n",
    "    print(f'Train set: Epoch: {epoch+1}, Avg loss: {epoch_loss:.4f}, '\n",
    "          f'Domain Loss: {epoch_domain_loss:.4f}, Class Loss: {epoch_class_loss:.4f}, '\n",
    "          f'Domain Acc: {domain_accuracy:.2f}%, Class Acc: {class_accuracy:.2f}%, '\n",
    "          f'Domain mAP: {domain_map_value:.4f}, Class mAP: {class_map_value:.4f}, '\n",
    "          f'Time: {train_time:.2f}s')\n",
    "    \n",
    "    return epoch_loss, epoch_domain_loss, epoch_class_loss, domain_accuracy, class_accuracy, domain_map_value, class_map_value\n",
    "\n",
    "def evaluate(model, dataloader, domain_criterion, class_criterion, device, epoch):\n",
    "    \"\"\"\n",
    "    멀티태스크 평가 함수\n",
    "    \"\"\"\n",
    "    model.eval()\n",
    "    start_time = time.time()\n",
    "    running_loss = 0.0\n",
    "    running_domain_loss = 0.0  # 도메인 손실 별도 추적\n",
    "    running_class_loss = 0.0   # 클래스 손실 별도 추적\n",
    "    domain_correct = 0\n",
    "    class_correct = 0\n",
    "    total = 0\n",
    "    \n",
    "    # mAP 계산기 초기화\n",
    "    domain_map = MulticlassAveragePrecision(num_classes=config[\"num_domains\"], average='macro')\n",
    "    class_map = MulticlassAveragePrecision(num_classes=config[\"num_classes\"], average='macro')\n",
    "    \n",
    "    domain_map = domain_map.to(device)\n",
    "    class_map = class_map.to(device)\n",
    "    \n",
    "    with torch.no_grad():\n",
    "        for inputs, domain_labels, class_labels in dataloader:\n",
    "            inputs = inputs.to(device)\n",
    "            domain_labels = domain_labels.to(device)\n",
    "            class_labels = class_labels.to(device)\n",
    "            \n",
    "            # 순전파\n",
    "            domain_outputs, class_outputs = model(inputs)\n",
    "            \n",
    "            # 손실 계산\n",
    "            domain_loss = domain_criterion(domain_outputs, domain_labels)\n",
    "            class_loss = class_criterion(class_outputs, class_labels)\n",
    "            loss = config[\"domain_weight\"] * domain_loss + config[\"class_weight\"] * class_loss\n",
    "            \n",
    "            running_loss += loss.item()\n",
    "            running_domain_loss += domain_loss.item()  # 도메인 손실 누적\n",
    "            running_class_loss += class_loss.item()    # 클래스 손실 누적\n",
    "            \n",
    "            # 정확도 계산\n",
    "            _, domain_preds = domain_outputs.max(1)\n",
    "            domain_correct += domain_preds.eq(domain_labels).sum().item()\n",
    "            \n",
    "            _, class_preds = class_outputs.max(1)\n",
    "            class_correct += class_preds.eq(class_labels).sum().item()\n",
    "            \n",
    "            total += inputs.size(0)\n",
    "            \n",
    "            # mAP 업데이트\n",
    "            domain_map.update(domain_outputs, domain_labels)\n",
    "            class_map.update(class_outputs, class_labels)\n",
    "    \n",
    "    # 평균 손실 및 정확도 계산\n",
    "    eval_loss = running_loss / len(dataloader)\n",
    "    eval_domain_loss = running_domain_loss / len(dataloader)  # 평균 도메인 손실\n",
    "    eval_class_loss = running_class_loss / len(dataloader)    # 평균 클래스 손실\n",
    "    domain_accuracy = 100.0 * domain_correct / total\n",
    "    class_accuracy = 100.0 * class_correct / total\n",
    "    \n",
    "    # mAP 계산\n",
    "    domain_map_value = domain_map.compute().item()\n",
    "    class_map_value = class_map.compute().item()\n",
    "    \n",
    "    # 평가 시간 계산\n",
    "    eval_time = time.time() - start_time\n",
    "    \n",
    "    # 테스트 세트에 대한 성능 출력\n",
    "    print(f'Test set: Epoch: {epoch+1}, Avg loss: {eval_loss:.4f}, '\n",
    "          f'Domain Loss: {eval_domain_loss:.4f}, Class Loss: {eval_class_loss:.4f}, '\n",
    "          f'Domain Acc: {domain_accuracy:.2f}%, Class Acc: {class_accuracy:.2f}%, '\n",
    "          f'Domain mAP: {domain_map_value:.4f}, Class mAP: {class_map_value:.4f}, '\n",
    "          f'Time: {eval_time:.2f}s')\n",
    "    print()\n",
    "    \n",
    "    return eval_loss, eval_domain_loss, eval_class_loss, domain_accuracy, class_accuracy, domain_map_value, class_map_value\n",
    "\n",
    "def save_checkpoint(model, optimizer, scheduler, epoch, best_class_map, best_domain_map, early_stopping, filename=CHECKPOINT_PATH):\n",
    "    \"\"\"\n",
    "    학습 상태 저장 함수\n",
    "    \"\"\"\n",
    "    # 모델이 DataParallel로 감싸져 있는 경우 처리\n",
    "    model_state_dict = model.module.state_dict() if isinstance(model, nn.DataParallel) else model.state_dict()\n",
    "    \n",
    "    checkpoint = {\n",
    "        'epoch': epoch,\n",
    "        'model_state_dict': model_state_dict,\n",
    "        'optimizer_state_dict': optimizer.state_dict(),\n",
    "        'scheduler_state_dict': scheduler.state_dict(),\n",
    "        'early_stopping_domain_map_max': early_stopping.domain_map_max,\n",
    "        'early_stopping_class_map_max': early_stopping.class_map_max,\n",
    "        'best_class_map': best_class_map,\n",
    "        'best_domain_map': best_domain_map,\n",
    "        'early_stopping_counter': early_stopping.counter,\n",
    "        'early_stopping_domain_best_score': early_stopping.domain_best_score,\n",
    "        'early_stopping_class_best_score': early_stopping.class_best_score,\n",
    "        'early_stopping_domain_best_epoch': early_stopping.domain_best_epoch,\n",
    "        'early_stopping_class_best_epoch': early_stopping.class_best_epoch,\n",
    "        'early_stopping_best_epoch': early_stopping.best_epoch,\n",
    "        'early_stopping_early_stop': early_stopping.early_stop,\n",
    "        'config': config,\n",
    "    }\n",
    "    torch.save(checkpoint, filename)\n",
    "    print(f\"체크포인트가 {filename}에 저장되었습니다.\")\n",
    "\n",
    "def load_checkpoint(model, optimizer, scheduler, early_stopping, filename=CHECKPOINT_PATH):\n",
    "    \"\"\"\n",
    "    학습 상태 로드 함수\n",
    "    \"\"\"\n",
    "    if not os.path.exists(filename):\n",
    "        print(f\"체크포인트 파일 {filename}이 존재하지 않습니다. 처음부터 학습을 시작합니다.\")\n",
    "        return model, optimizer, scheduler, early_stopping, 0, 0.0, 0.0\n",
    "    \n",
    "    print(f\"체크포인트 {filename}을 로드합니다.\")\n",
    "    checkpoint = torch.load(filename)\n",
    "    \n",
    "    # 모델이 DataParallel로 감싸져 있는 경우 처리\n",
    "    if isinstance(model, nn.DataParallel):\n",
    "        model.module.load_state_dict(checkpoint['model_state_dict'])\n",
    "    else:\n",
    "        model.load_state_dict(checkpoint['model_state_dict'])\n",
    "    \n",
    "    optimizer.load_state_dict(checkpoint['optimizer_state_dict'])\n",
    "    \n",
    "    # 스케줄러 상태 로드\n",
    "    if 'scheduler_state_dict' in checkpoint:\n",
    "        scheduler.load_state_dict(checkpoint['scheduler_state_dict'])\n",
    "    \n",
    "    # 조기 중단 상태 복원\n",
    "    early_stopping.counter = checkpoint['early_stopping_counter']\n",
    "    early_stopping.domain_best_score = checkpoint.get('early_stopping_domain_best_score')\n",
    "    early_stopping.class_best_score = checkpoint.get('early_stopping_class_best_score')\n",
    "    early_stopping.domain_map_max = checkpoint.get('early_stopping_domain_map_max', -np.Inf)\n",
    "    early_stopping.class_map_max = checkpoint.get('early_stopping_class_map_max', -np.Inf)\n",
    "    early_stopping.domain_best_epoch = checkpoint.get('early_stopping_domain_best_epoch', 0)\n",
    "    early_stopping.class_best_epoch = checkpoint.get('early_stopping_class_best_epoch', 0)\n",
    "    early_stopping.best_epoch = checkpoint.get('early_stopping_best_epoch', 0)\n",
    "    early_stopping.early_stop = checkpoint['early_stopping_early_stop']\n",
    "    \n",
    "    # 기타 학습 상태\n",
    "    start_epoch = checkpoint['epoch'] + 1  # 다음 에폭부터 시작\n",
    "    best_class_map = checkpoint['best_class_map']\n",
    "    best_domain_map = checkpoint['best_domain_map']\n",
    "    \n",
    "    print(f\"체크포인트에서 로드 완료: 에폭 {start_epoch}부터 시작합니다.\")\n",
    "    print(f\"이전 최고 성능: Class mAP: {best_class_map:.4f}, Domain mAP: {best_domain_map:.4f}\")\n",
    "    \n",
    "    return model, optimizer, scheduler, early_stopping, start_epoch, best_class_map, best_domain_map\n",
    "\n",
    "# 메인 학습 루프 함수 수정\n",
    "def main_training_loop(model, trainloader, testloader, domain_criterion, class_criterion, optimizer, scheduler, device, num_epochs=None, patience=None, max_epochs_wait=None):\n",
    "    \"\"\"\n",
    "    메인 학습 루프 (Domain & Class mAP 기준 early stopping)\n",
    "    \"\"\"\n",
    "    # config에서 값 가져오기\n",
    "    if num_epochs is None:\n",
    "        num_epochs = config[\"num_epochs\"]\n",
    "    if patience is None:\n",
    "        patience = config[\"patience\"]\n",
    "    if max_epochs_wait is None:\n",
    "        max_epochs_wait = config[\"max_epochs_wait\"]\n",
    "        \n",
    "    # mAP 기반 얼리 스토핑 초기화 (새 클래스 사용)\n",
    "    early_stopping = DualMAPEarlyStopping(\n",
    "        patience=patience, \n",
    "        verbose=True, \n",
    "        path='checkpoint.pt', \n",
    "        max_epochs=max_epochs_wait\n",
    "    )\n",
    "    \n",
    "    start_epoch = 0\n",
    "    best_class_map = 0.0\n",
    "    best_domain_map = 0.0\n",
    "    \n",
    "    # tqdm을 사용한 진행 상황 표시\n",
    "    for epoch in tqdm(range(start_epoch, num_epochs)):\n",
    "        # 학습\n",
    "        train_loss, train_domain_loss, train_class_loss, train_domain_acc, train_class_acc, train_domain_map, train_class_map = train(\n",
    "            model, \n",
    "            trainloader, \n",
    "            domain_criterion, \n",
    "            class_criterion, \n",
    "            optimizer, \n",
    "            device, \n",
    "            epoch\n",
    "        )\n",
    "        \n",
    "        # 테스트 데이터로 평가\n",
    "        test_loss, test_domain_loss, test_class_loss, test_domain_acc, test_class_acc, test_domain_map, test_class_map = evaluate(\n",
    "            model, \n",
    "            testloader, \n",
    "            domain_criterion, \n",
    "            class_criterion, \n",
    "            device, \n",
    "            epoch\n",
    "        )\n",
    "        \n",
    "        # 학습률 조정 - 검증 성능에 따라 스케줄러 업데이트\n",
    "        avg_map = (test_domain_map + test_class_map) / 2\n",
    "        scheduler.step(avg_map)\n",
    "        \n",
    "        # WandB에 로깅 (기존과 동일)\n",
    "        wandb.log({\n",
    "            \"epoch\": epoch + 1,\n",
    "            \"learning_rate\": optimizer.param_groups[0]['lr'],\n",
    "            \"train_loss\": train_loss,\n",
    "            \"train_domain_loss\": train_domain_loss,\n",
    "            \"train_class_loss\": train_class_loss,\n",
    "            \"train_domain_accuracy\": train_domain_acc,\n",
    "            \"train_class_accuracy\": train_class_acc,\n",
    "            \"train_domain_map\": train_domain_map,\n",
    "            \"train_class_map\": train_class_map,\n",
    "            \"test_loss\": test_loss,\n",
    "            \"test_domain_loss\": test_domain_loss,\n",
    "            \"test_class_loss\": test_class_loss,\n",
    "            \"test_domain_accuracy\": test_domain_acc,\n",
    "            \"test_class_accuracy\": test_class_acc,\n",
    "            \"test_domain_map\": test_domain_map,\n",
    "            \"test_class_map\": test_class_map\n",
    "        })\n",
    "            \n",
    "        # 최고 클래스 mAP 모델 저장 (기존과 동일)\n",
    "        if test_class_map > best_class_map:\n",
    "            best_class_map = test_class_map\n",
    "            best_domain_map_at_best_class = test_domain_map\n",
    "            print(f'새로운 최고 Class mAP: {best_class_map:.4f}, Domain mAP: {best_domain_map_at_best_class:.4f}')\n",
    "            # 모델 저장\n",
    "            model_path = f'best_model_class_{wandb.run.name}.pth'\n",
    "            model_state_dict = model.module.state_dict() if isinstance(model, nn.DataParallel) else model.state_dict()\n",
    "            torch.save(model_state_dict, model_path)\n",
    "            wandb.save(model_path)\n",
    "        \n",
    "        # 최고 도메인 mAP 모델 저장 (기존과 동일)\n",
    "        if test_domain_map > best_domain_map:\n",
    "            best_domain_map = test_domain_map\n",
    "            print(f'새로운 최고 Domain mAP: {best_domain_map:.4f}')\n",
    "            # 모델 저장\n",
    "            model_path = f'best_model_domain_{wandb.run.name}.pth'\n",
    "            model_state_dict = model.module.state_dict() if isinstance(model, nn.DataParallel) else model.state_dict()\n",
    "            torch.save(model_state_dict, model_path)\n",
    "            wandb.save(model_path)\n",
    "\n",
    "        # 주기적으로 체크포인트 저장 (설정한 간격마다)\n",
    "        if (epoch + 1) % config[\"save_every\"] == 0:\n",
    "            save_checkpoint(model, optimizer, scheduler, epoch, best_class_map, best_domain_map, early_stopping)\n",
    "\n",
    "        # Early stopping 체크 (두 mAP 모두 기준)\n",
    "        early_stopping(test_domain_map, test_class_map, model, epoch)\n",
    "        \n",
    "        # 매 에폭 후에 체크포인트 저장 (가장 최신 상태)\n",
    "        save_checkpoint(model, optimizer, scheduler, epoch, best_class_map, best_domain_map, early_stopping, \n",
    "                       filename=os.path.join('checkpoints', 'latest_checkpoint.pth'))\n",
    "        \n",
    "        if early_stopping.early_stop:\n",
    "            print(f\"에폭 {epoch+1}에서 학습 조기 종료. 최고 성능 에폭: {early_stopping.best_epoch+1}\")\n",
    "            break\n",
    "    \n",
    "    # 훈련 완료 후 최고 모델 로드\n",
    "    print(\"최고 클래스 mAP 모델 로드 중...\")\n",
    "    model_path = f'best_model_class_{wandb.run.name}.pth'\n",
    "    if os.path.exists(model_path):\n",
    "        # 모델이 DataParallel로 감싸져 있는 경우 처리\n",
    "        if isinstance(model, nn.DataParallel):\n",
    "            model.module.load_state_dict(torch.load(model_path))\n",
    "        else:\n",
    "            model.load_state_dict(torch.load(model_path))\n",
    "    else:\n",
    "        print(f\"경고: {model_path} 파일이 존재하지 않습니다. 최종 모델을 사용합니다.\")\n",
    "\n",
    "    # 최종 테스트 평가\n",
    "    final_test_loss, final_test_domain_loss, final_test_class_loss, final_test_domain_acc, final_test_class_acc, final_test_domain_map, final_test_class_map = evaluate(\n",
    "        model, testloader, domain_criterion, class_criterion, device, num_epochs-1\n",
    "    )\n",
    "    \n",
    "    print(f'완료! 최고 Class mAP: {best_class_map:.4f}, 최고 Domain mAP: {best_domain_map:.4f}')\n",
    "    \n",
    "    # WandB에 최종 결과 기록\n",
    "    wandb.run.summary[\"best_class_map\"] = best_class_map\n",
    "    wandb.run.summary[\"best_domain_map\"] = best_domain_map\n",
    "    wandb.run.summary[\"final_test_class_map\"] = final_test_class_map\n",
    "    wandb.run.summary[\"final_test_domain_map\"] = final_test_domain_map\n",
    "\n",
    "    # Early stopping 정보 저장\n",
    "    if early_stopping.early_stop:\n",
    "        wandb.run.summary[\"early_stopped\"] = True\n",
    "        wandb.run.summary[\"early_stopped_epoch\"] = epoch+1\n",
    "        wandb.run.summary[\"best_epoch\"] = early_stopping.best_epoch+1\n",
    "    else:\n",
    "        wandb.run.summary[\"early_stopped\"] = False\n",
    "        \n",
    "    # 최종 체크포인트 저장\n",
    "    save_checkpoint(model, optimizer, scheduler, epoch, best_class_map, best_domain_map, early_stopping, \n",
    "                   filename=os.path.join('checkpoints', 'final_checkpoint.pth'))\n",
    "\n",
    "# 메인 실행 코드\n",
    "if __name__ == \"__main__\":\n",
    "    # 시드 설정\n",
    "    seed = config[\"seed\"]\n",
    "    random.seed(seed)\n",
    "    np.random.seed(seed)\n",
    "    torch.manual_seed(seed)\n",
    "    if torch.cuda.is_available():\n",
    "        torch.cuda.manual_seed(seed)\n",
    "        torch.cuda.manual_seed_all(seed)\n",
    "    \n",
    "    # 결정적 알고리즘 사용 여부\n",
    "    if config[\"deterministic\"]:\n",
    "        torch.backends.cudnn.deterministic = True\n",
    "        torch.backends.cudnn.benchmark = False\n",
    "    else:\n",
    "        torch.backends.cudnn.benchmark = True\n",
    "    \n",
    "    # 디바이스 설정\n",
    "    device = torch.device(\"cuda\" if torch.cuda.is_available() else \"cpu\")\n",
    "    print(f\"Using device: {device}\")\n",
    "    \n",
    "    # 모델 초기화 - 새로운 중간 특징 추출 모델 사용\n",
    "    model = FeatureExtractingMultiTaskModel(\n",
    "        num_domains=config[\"num_domains\"], \n",
    "        num_classes=config[\"num_classes\"]\n",
    "    ).to(device)\n",
    "    \n",
    "    # 학습 가능한 파라미터 확인\n",
    "    trainable_params = sum(p.numel() for p in model.parameters() if p.requires_grad)\n",
    "    total_params = sum(p.numel() for p in model.parameters())\n",
    "    print(f\"학습 가능한 파라미터: {trainable_params:,} / {total_params:,} ({trainable_params / total_params:.2%})\")\n",
    "    \n",
    "    # 손실 함수\n",
    "    domain_criterion = nn.CrossEntropyLoss()\n",
    "    class_criterion = nn.CrossEntropyLoss()\n",
    "    \n",
    "    # 학습률 차별화 (선택적)\n",
    "    optimizer = optim.Adam([\n",
    "        {'params': model.domain_classifier.parameters(), 'lr': config[\"learning_rate\"]},  # 도메인 분류기\n",
    "        {'params': model.class_classifier.parameters(), 'lr': config[\"learning_rate\"]}    # 클래스 분류기\n",
    "    ])\n",
    "    \n",
    "    # 스케줄러 초기화\n",
    "    scheduler = optim.lr_scheduler.ReduceLROnPlateau(\n",
    "        optimizer, \n",
    "        mode=config[\"scheduler_mode\"], \n",
    "        factor=config[\"scheduler_factor\"], \n",
    "        patience=config[\"scheduler_patience\"], \n",
    "        verbose=config[\"scheduler_verbose\"]\n",
    "    )\n",
    "    \n",
    "    # WandB에 모델 구조 기록\n",
    "    wandb.watch(model, log=\"all\")\n",
    "    \n",
    "    # GPU 가속 \n",
    "    if torch.cuda.device_count() > 1:\n",
    "        print(f\"{torch.cuda.device_count()}개의 GPU를 사용합니다.\")\n",
    "        model = nn.DataParallel(model)\n",
    "    \n",
    "    # 훈련 시작 시간 기록\n",
    "    start_time = time.time()\n",
    "    \n",
    "    # 메인 학습 루프 호출 \n",
    "    try:\n",
    "        main_training_loop(\n",
    "            model=model,\n",
    "            trainloader=trainloader,\n",
    "            testloader=testloader,\n",
    "            domain_criterion=domain_criterion,\n",
    "            class_criterion=class_criterion,\n",
    "            optimizer=optimizer,\n",
    "            scheduler=scheduler,  # 스케줄러 전달 추가\n",
    "            device=device\n",
    "        )\n",
    "    except KeyboardInterrupt:\n",
    "        # 사용자가 Ctrl+C로 중단한 경우, 현재 상태 저장\n",
    "        print(\"학습이 사용자에 의해 중단되었습니다. 현재 상태를 저장합니다.\")\n",
    "        early_stopping = DualMAPEarlyStopping(patience=config[\"patience\"], verbose=True)\n",
    "        save_checkpoint(model, optimizer, scheduler, 0, 0.0, 0.0, early_stopping, \n",
    "                       filename=os.path.join('checkpoints', 'interrupted_checkpoint.pth'))\n",
    "    \n",
    "    # 훈련 종료 시간 및 출력\n",
    "    end_time = time.time()\n",
    "    total_time = end_time - start_time\n",
    "    wandb.log({\"total_training_time\": total_time})\n",
    "    \n",
    "    print(f\"전체 학습 시간: {total_time:.2f} 초\")\n",
    "    \n",
    "    # WandB 실행 종료\n",
    "    wandb.finish()"
   ]
  },
  {
   "cell_type": "code",
   "execution_count": null,
   "id": "5f7d0f34-01c7-4f72-9853-140d1528e1e4",
   "metadata": {},
   "outputs": [],
   "source": []
  }
 ],
 "metadata": {
  "kernelspec": {
   "display_name": "Python 3 (ipykernel)",
   "language": "python",
   "name": "python3"
  },
  "language_info": {
   "codemirror_mode": {
    "name": "ipython",
    "version": 3
   },
   "file_extension": ".py",
   "mimetype": "text/x-python",
   "name": "python",
   "nbconvert_exporter": "python",
   "pygments_lexer": "ipython3",
   "version": "3.11.9"
  }
 },
 "nbformat": 4,
 "nbformat_minor": 5
}
